{
 "cells": [
  {
   "cell_type": "markdown",
   "metadata": {},
   "source": [
    "# Sway hull equation"
   ]
  },
  {
   "cell_type": "code",
   "execution_count": null,
   "metadata": {},
   "outputs": [],
   "source": [
    "%load_ext autoreload\n",
    "%autoreload 2\n",
    "%matplotlib inline"
   ]
  },
  {
   "cell_type": "code",
   "execution_count": null,
   "metadata": {},
   "outputs": [],
   "source": [
    "import sympy as sp\n",
    "from sympy.plotting import plot as plot\n",
    "from sympy.plotting import plot3d as plot3d\n",
    "import pandas as pd\n",
    "import numpy as np\n",
    "import matplotlib.pyplot as plt\n",
    "sp.init_printing()\n",
    "from IPython.core.display import HTML"
   ]
  },
  {
   "cell_type": "code",
   "execution_count": null,
   "metadata": {},
   "outputs": [],
   "source": [
    "import seaman.helpers\n",
    "import seaman_symbol as ss\n",
    "import sway_hull_equations as equations\n",
    "import sway_hull_lambda_functions as lambda_functions\n",
    "from bis_system import BisSystem"
   ]
  },
  {
   "cell_type": "markdown",
   "metadata": {},
   "source": [
    "## Coordinate system\n",
    "![coordinate_system](coordinate_system.png)"
   ]
  },
  {
   "cell_type": "markdown",
   "metadata": {},
   "source": [
    "## Symbols"
   ]
  },
  {
   "cell_type": "code",
   "execution_count": null,
   "metadata": {},
   "outputs": [],
   "source": [
    "from seaman_symbols import *"
   ]
  },
  {
   "cell_type": "code",
   "execution_count": null,
   "metadata": {},
   "outputs": [],
   "source": [
    "HTML(ss.create_html_table(symbols=equations.total_sway_hull_equation_SI.free_symbols))"
   ]
  },
  {
   "cell_type": "markdown",
   "metadata": {},
   "source": [
    "## Sway equation"
   ]
  },
  {
   "cell_type": "code",
   "execution_count": null,
   "metadata": {},
   "outputs": [],
   "source": [
    "equations.sway_hull_equation"
   ]
  },
  {
   "cell_type": "markdown",
   "metadata": {},
   "source": [
    "### Force due to drift"
   ]
  },
  {
   "cell_type": "code",
   "execution_count": null,
   "metadata": {},
   "outputs": [],
   "source": [
    "equations.sway_drift_equation"
   ]
  },
  {
   "cell_type": "markdown",
   "metadata": {},
   "source": [
    "Same equation in SI units"
   ]
  },
  {
   "cell_type": "code",
   "execution_count": null,
   "metadata": {},
   "outputs": [],
   "source": [
    "equations.sway_drift_equation_SI"
   ]
  },
  {
   "cell_type": "markdown",
   "metadata": {},
   "source": [
    "### Force due to yaw rate"
   ]
  },
  {
   "cell_type": "code",
   "execution_count": null,
   "metadata": {},
   "outputs": [],
   "source": [
    "equations.sway_yaw_rate_equation"
   ]
  },
  {
   "cell_type": "code",
   "execution_count": null,
   "metadata": {},
   "outputs": [],
   "source": [
    "equations.sway_yaw_rate_equation_SI"
   ]
  },
  {
   "cell_type": "markdown",
   "metadata": {},
   "source": [
    "### Nonlinear force\n",
    "The nonlinear force is calculated as the sectional cross flow drag."
   ]
  },
  {
   "cell_type": "markdown",
   "metadata": {},
   "source": [
    "![cd](cd.png)"
   ]
  },
  {
   "cell_type": "code",
   "execution_count": null,
   "metadata": {},
   "outputs": [],
   "source": [
    "equations.sway_none_linear_equation"
   ]
  },
  {
   "cell_type": "markdown",
   "metadata": {},
   "source": [
    "Simple assumption for section draught:"
   ]
  },
  {
   "cell_type": "code",
   "execution_count": null,
   "metadata": {},
   "outputs": [],
   "source": [
    "equations.section_draught_equation"
   ]
  },
  {
   "cell_type": "code",
   "execution_count": null,
   "metadata": {},
   "outputs": [],
   "source": [
    "equations.simplified_sway_none_linear_equation"
   ]
  },
  {
   "cell_type": "markdown",
   "metadata": {},
   "source": [
    "Nonlinear force equation expressed as bis force:"
   ]
  },
  {
   "cell_type": "code",
   "execution_count": null,
   "metadata": {},
   "outputs": [],
   "source": [
    "equations.simplified_sway_none_linear_equation_bis"
   ]
  },
  {
   "cell_type": "code",
   "execution_count": null,
   "metadata": {},
   "outputs": [],
   "source": [
    "equations.sway_hull_equation_SI"
   ]
  },
  {
   "cell_type": "code",
   "execution_count": null,
   "metadata": {},
   "outputs": [],
   "source": [
    "equations.sway_hull_equation_SI"
   ]
  },
  {
   "cell_type": "code",
   "execution_count": null,
   "metadata": {},
   "outputs": [],
   "source": [
    "equations.total_sway_hull_equation_SI"
   ]
  },
  {
   "cell_type": "markdown",
   "metadata": {},
   "source": [
    "### Plotting the total sway hull force equation"
   ]
  },
  {
   "cell_type": "code",
   "execution_count": null,
   "metadata": {},
   "outputs": [],
   "source": [
    "df = pd.DataFrame()\n",
    "df['v_w'] = np.linspace(-0.3,3,10)\n",
    "df['u_w'] = 5.0\n",
    "df['r_w'] = 0.0\n",
    "df['rho'] = 1025\n",
    "df['t_a'] = 1.0\n",
    "df['t_f'] = 1.0\n",
    "df['L'] = 1.0\n",
    "df['Y_uv'] = 1.0\n",
    "df['Y_uuv'] = 1.0\n",
    "df['Y_ur'] = 1.0\n",
    "df['Y_uur'] = 1.0\n",
    "df['C_d'] = 0.5\n",
    "df['g'] = 9.81\n",
    "df['disp'] = 23\n",
    "\n",
    "result = df.copy()\n",
    "result['fy'] = lambda_functions.Y_h_function(**df)\n",
    "\n",
    "result.plot(x = 'v_w',y = 'fy');"
   ]
  },
  {
   "cell_type": "markdown",
   "metadata": {},
   "source": [
    "### Plotting with coefficients from a real seaman ship model"
   ]
  },
  {
   "cell_type": "code",
   "execution_count": null,
   "metadata": {},
   "outputs": [],
   "source": [
    "import generate_input\n",
    "shipdict = seaman.ShipDict.load('../../tests/test_ship.ship')"
   ]
  },
  {
   "cell_type": "code",
   "execution_count": null,
   "metadata": {},
   "outputs": [],
   "source": [
    "df = pd.DataFrame()\n",
    "df['v_w'] = np.linspace(-3,3,20)\n",
    "df['rho'] = 1025.0\n",
    "df['g'] = 9.81\n",
    "df['u_w'] = 5.0\n",
    "df['r_w'] = 0.0\n",
    "\n",
    "df_input = generate_input.add_shipdict_inputs(lambda_function=lambda_functions.Y_h_function,\n",
    "                                              shipdict = shipdict,\n",
    "                                              df = df)\n",
    "df_input"
   ]
  },
  {
   "cell_type": "code",
   "execution_count": null,
   "metadata": {},
   "outputs": [],
   "source": [
    "result = df_input.copy()\n",
    "result['fy'] = lambda_functions.Y_h_function(**df_input)"
   ]
  },
  {
   "cell_type": "code",
   "execution_count": null,
   "metadata": {},
   "outputs": [],
   "source": [
    "result.plot(x = 'v_w',y = 'fy');"
   ]
  },
  {
   "cell_type": "markdown",
   "metadata": {},
   "source": [
    "## Real seaman++\n",
    "Run real seaman in C++ to verify that the documented model is correct. "
   ]
  },
  {
   "cell_type": "code",
   "execution_count": null,
   "metadata": {},
   "outputs": [],
   "source": [
    "import run_real_seaman"
   ]
  },
  {
   "cell_type": "code",
   "execution_count": null,
   "metadata": {},
   "outputs": [],
   "source": [
    "df = pd.DataFrame()\n",
    "df['v_w'] = np.linspace(-3,3,20)\n",
    "df['rho'] = 1025.0\n",
    "df['g'] = 9.81\n",
    "df['u_w'] = 5.0\n",
    "df['r_w'] = 0.0\n",
    "\n",
    "result_comparison = run_real_seaman.compare_with_seaman(lambda_function=lambda_functions.Y_h_function,\n",
    "                                                        shipdict = shipdict,\n",
    "                                                        df = df)\n",
    "\n",
    "fig,ax = plt.subplots()\n",
    "result_comparison.plot(x = 'v_w',y = ['fy','fy_seaman'],ax = ax)\n",
    "ax.set_title('Drift angle variation');"
   ]
  },
  {
   "cell_type": "code",
   "execution_count": null,
   "metadata": {},
   "outputs": [],
   "source": [
    "df = pd.DataFrame()\n",
    "df['r_w'] = np.linspace(-0.1,0.1,20)\n",
    "df['rho'] = 1025.0\n",
    "df['g'] = 9.81\n",
    "df['u_w'] = 5.0\n",
    "df['v_w'] = 0.0\n",
    "\n",
    "\n",
    "df_input = generate_input.add_shipdict_inputs(lambda_function=lambda_functions.Y_h_function,\n",
    "                                              shipdict = shipdict,\n",
    "                                              df = df)\n",
    "\n",
    "result_comparison = run_real_seaman.compare_with_seaman(lambda_function=lambda_functions.Y_h_function,\n",
    "                                                        shipdict = shipdict,\n",
    "                                                        df = df,)\n",
    "fig,ax = plt.subplots()\n",
    "result_comparison.plot(x = 'r_w',y = ['fy','fy_seaman'],ax = ax)\n",
    "ax.set_title('Yaw rate variation');"
   ]
  },
  {
   "cell_type": "code",
   "execution_count": null,
   "metadata": {},
   "outputs": [],
   "source": [
    "df_input"
   ]
  },
  {
   "cell_type": "code",
   "execution_count": null,
   "metadata": {},
   "outputs": [],
   "source": []
  }
 ],
 "metadata": {
  "kernelspec": {
   "display_name": "Python 3",
   "language": "python",
   "name": "python3"
  },
  "language_info": {
   "codemirror_mode": {
    "name": "ipython",
    "version": 3
   },
   "file_extension": ".py",
   "mimetype": "text/x-python",
   "name": "python",
   "nbconvert_exporter": "python",
   "pygments_lexer": "ipython3",
   "version": "3.5.4"
  }
 },
 "nbformat": 4,
 "nbformat_minor": 2
}
