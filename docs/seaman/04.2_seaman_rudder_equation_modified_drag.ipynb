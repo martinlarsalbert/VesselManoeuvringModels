{
 "cells": [
  {
   "cell_type": "markdown",
   "metadata": {},
   "source": [
    "# Rudder equations\n",
    "Proposed modification of the rudder drag equation. In the wPCC project it has been found that the rudder drag equation does not work very well in the situation where there is both drift angle and rudder angle. (This has been realized by comparing with VCT CFD calculations)."
   ]
  },
  {
   "cell_type": "code",
   "execution_count": null,
   "metadata": {},
   "outputs": [],
   "source": [
    "%load_ext autoreload\n",
    "%autoreload 2\n",
    "%matplotlib inline"
   ]
  },
  {
   "cell_type": "code",
   "execution_count": null,
   "metadata": {},
   "outputs": [],
   "source": [
    "import sympy as sp\n",
    "from sympy.plotting import plot as plot\n",
    "from sympy.plotting import plot3d as plot3d\n",
    "import pandas as pd\n",
    "import numpy as np\n",
    "import matplotlib.pyplot as plt\n",
    "sp.init_printing()\n",
    "from IPython.core.display import HTML,Latex"
   ]
  },
  {
   "cell_type": "code",
   "execution_count": null,
   "metadata": {},
   "outputs": [],
   "source": [
    "import seaman.helpers\n",
    "import seaman_symbol as ss\n",
    "from rudder_equations import *\n",
    "from bis_system import BisSystem\n",
    "\n",
    "import seaman_symbols as symbols\n",
    "from substitute_dynamic_symbols import lambdify, run"
   ]
  },
  {
   "cell_type": "markdown",
   "metadata": {},
   "source": [
    "## Coordinate system\n",
    "![coordinate_system](coordinateSystem.png)"
   ]
  },
  {
   "cell_type": "markdown",
   "metadata": {},
   "source": [
    "## Effective rudder angle\n",
    "The effective rudder angle, where the rudder \"sees\" both the oblique flow from rudder angle and the ship drift angle is the central part of the proposed change:"
   ]
  },
  {
   "cell_type": "code",
   "execution_count": null,
   "metadata": {},
   "outputs": [],
   "source": [
    "effective_rudder_angle_equation"
   ]
  },
  {
   "cell_type": "markdown",
   "metadata": {},
   "source": [
    "## Proposed change\n",
    "The proposed change is that effective rudder angle $\\delta_e$ should only be used for the calculation of transverse force $Y$ NOT $X$."
   ]
  },
  {
   "cell_type": "markdown",
   "metadata": {},
   "source": [
    "The rudder resistance is taken to be proportional to the rudder side force (without stall) and the\n",
    "rudder angle, thus:"
   ]
  },
  {
   "cell_type": "code",
   "execution_count": null,
   "metadata": {},
   "outputs": [],
   "source": [
    "rudder_drag_equation"
   ]
  },
  {
   "cell_type": "markdown",
   "metadata": {},
   "source": [
    "The proposed change is that this $Y_{rudder}$ should not be calculated using $\\delta_e$ when used for the calculation of $X_{rudder}$. If this is done, the proposed total rudder drag equation can then be written as:"
   ]
  },
  {
   "cell_type": "code",
   "execution_count": null,
   "metadata": {},
   "outputs": [],
   "source": [
    "sp.latex(rudder_drag_equation_expanded)"
   ]
  },
  {
   "cell_type": "code",
   "execution_count": null,
   "metadata": {},
   "outputs": [],
   "source": [
    "rudder_drag_equation_expanded_SI"
   ]
  },
  {
   "cell_type": "markdown",
   "metadata": {},
   "source": [
    "This expression can be compared with the old one which looks like:"
   ]
  },
  {
   "cell_type": "code",
   "execution_count": null,
   "metadata": {},
   "outputs": [],
   "source": [
    "sp.latex(rudder_drag_equation_expanded_old_SI)"
   ]
  },
  {
   "cell_type": "markdown",
   "metadata": {},
   "source": [
    "## Validation of proposed change\n",
    "The impact of the proposed change is validated using the VCT results from the wPCC project"
   ]
  },
  {
   "cell_type": "code",
   "execution_count": null,
   "metadata": {},
   "outputs": [],
   "source": [
    "solution = sp.solve(rudder_drag_equation_expanded_old_SI, symbols.X_rudder, dict=True)[0][symbols.X_rudder]"
   ]
  },
  {
   "cell_type": "code",
   "execution_count": null,
   "metadata": {},
   "outputs": [],
   "source": [
    "rudder_drag_function = sp.lambdify((delta, u_w, v_w, r_w, s, T_prop, n_prop, Y_Tdelta, Y_uudelta, X_Yrdelta, volume, rho, L,\n",
    "                                    g, xx_rud,l_cg),\n",
    "                                   sp.solve(rudder_drag_equation_expanded_SI,X_rudder, simplify=False)[0],\n",
    "                                   modules='numpy',\n",
    "                                   )\n",
    "rudder_drag_function                                                             "
   ]
  },
  {
   "cell_type": "code",
   "execution_count": null,
   "metadata": {},
   "outputs": [],
   "source": [
    "rudder_drag_function_old = sp.lambdify((delta, u_w, v_w, r_w, s, k_v, k_r, T_prop, n_prop, Y_Tdelta, Y_uudelta, X_Yrdelta, volume, rho, L,\n",
    "                                    g, xx_rud,l_cg),\n",
    "                                   sp.solve(rudder_drag_equation_expanded_old_SI,X_rudder, simplify=False)[0],\n",
    "                                   modules='numpy',\n",
    "                                   )\n",
    "rudder_drag_function_old "
   ]
  },
  {
   "cell_type": "code",
   "execution_count": null,
   "metadata": {},
   "outputs": [],
   "source": [
    "import generate_input\n",
    "ship_file_path='V3_0_R10.ship'\n",
    "shipdict = seaman.ShipDict.load(ship_file_path)\n"
   ]
  },
  {
   "cell_type": "markdown",
   "metadata": {},
   "source": [
    "### VCT results"
   ]
  },
  {
   "cell_type": "code",
   "execution_count": null,
   "metadata": {},
   "outputs": [],
   "source": [
    "df_VCT = pd.read_csv('wPCC_V3_0_VCT.csv', index_col=0)\n",
    "\n",
    "df_VCT.sort_values(by=['V','beta','delta'])[['V','beta','delta','fx']]\n"
   ]
  },
  {
   "cell_type": "code",
   "execution_count": null,
   "metadata": {},
   "outputs": [],
   "source": [
    "fig,ax=plt.subplots()\n",
    "df_VCT.sort_values(by='delta').plot(x='delta', y='fx', style='.', ax=ax)\n",
    "ax.set_title('Rudder and drift angle test')"
   ]
  },
  {
   "cell_type": "code",
   "execution_count": null,
   "metadata": {},
   "outputs": [],
   "source": [
    "\n",
    "df_input = generate_input.add_shipdict_inputs(lambda_function=rudder_drag_function,\n",
    "                                              shipdict = shipdict,\n",
    "                                              df = df_VCT,)\n",
    "df_input"
   ]
  },
  {
   "cell_type": "code",
   "execution_count": null,
   "metadata": {},
   "outputs": [],
   "source": [
    "result = df_input.copy()\n",
    "result['fx'] = rudder_drag_function(**df_input)\n",
    "\n",
    "df_input_old = generate_input.add_shipdict_inputs(lambda_function=rudder_drag_function_old,\n",
    "                                              shipdict = shipdict,\n",
    "                                              df = df_VCT,)\n",
    "result_old = df_input_old.copy()\n",
    "result_old['fx'] = rudder_drag_function_old(**df_input_old)\n",
    "\n",
    "fig,ax=plt.subplots()\n",
    "df_VCT.sort_values(by='delta').plot(x='delta', y='fx', style='.', label='VCT', ax=ax)\n",
    "result.sort_values(by='delta').plot(x='delta', y='fx', style='o-', label='Proposal', ax=ax)\n",
    "result_old.sort_values(by='delta').plot(x='delta', y='fx', style='^:', label='Old', ax=ax)\n",
    "ax.set_xlabel(r'Rudder angle $\\delta$ $[rad]$')\n",
    "ax.set_ylabel(r'$F_x$ $[N]$')\n",
    "\n",
    "\n",
    "ax.grid(True)\n",
    "ax.set_title('Comparison of rudder drag')"
   ]
  },
  {
   "cell_type": "markdown",
   "metadata": {},
   "source": [
    "# Conclusion\n",
    "It was discovered from the VCT results in the wPCC project that the rudder drag was symetric with rudder angle $\\delta$. The old seaman equation uses the effective rudder angle $\\delta_e$ to obtain both $F_y$ and $F_x$. Using it only for $F_y$ is now proposed to get a symetric rudder drag, which seems to reproduce the CFD results better."
   ]
  },
  {
   "cell_type": "code",
   "execution_count": null,
   "metadata": {},
   "outputs": [],
   "source": []
  }
 ],
 "metadata": {
  "kernelspec": {
   "display_name": "Python 3",
   "language": "python",
   "name": "python3"
  },
  "language_info": {
   "codemirror_mode": {
    "name": "ipython",
    "version": 3
   },
   "file_extension": ".py",
   "mimetype": "text/x-python",
   "name": "python",
   "nbconvert_exporter": "python",
   "pygments_lexer": "ipython3",
   "version": "3.5.4-final"
  }
 },
 "nbformat": 4,
 "nbformat_minor": 2
}
