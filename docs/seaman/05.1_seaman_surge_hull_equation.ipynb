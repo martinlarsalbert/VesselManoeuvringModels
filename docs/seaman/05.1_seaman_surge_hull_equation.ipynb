{
 "cells": [
  {
   "cell_type": "markdown",
   "metadata": {},
   "source": [
    "# Surge hull equation"
   ]
  },
  {
   "cell_type": "code",
   "execution_count": null,
   "metadata": {},
   "outputs": [],
   "source": [
    "%load_ext autoreload\n",
    "%autoreload 2\n",
    "%matplotlib inline"
   ]
  },
  {
   "cell_type": "code",
   "execution_count": null,
   "metadata": {},
   "outputs": [],
   "source": [
    "import sympy as sp\n",
    "from sympy.plotting import plot as plot\n",
    "from sympy.plotting import plot3d as plot3d\n",
    "import pandas as pd\n",
    "import numpy as np\n",
    "import matplotlib.pyplot as plt\n",
    "sp.init_printing()\n",
    "from IPython.core.display import HTML"
   ]
  },
  {
   "cell_type": "code",
   "execution_count": null,
   "metadata": {},
   "outputs": [],
   "source": [
    "import seaman.helpers\n",
    "import seaman_symbol as ss\n",
    "import surge_hull_equations as equations\n",
    "import surge_hull_lambda_functions as lambda_functions\n",
    "from bis_system import BisSystem"
   ]
  },
  {
   "cell_type": "markdown",
   "metadata": {},
   "source": [
    "## Coordinate system\n",
    "![coordinate_system](coordinate_system.png)"
   ]
  },
  {
   "cell_type": "markdown",
   "metadata": {},
   "source": [
    "## Symbols"
   ]
  },
  {
   "cell_type": "code",
   "execution_count": null,
   "metadata": {},
   "outputs": [],
   "source": [
    "from seaman_symbols import *"
   ]
  },
  {
   "cell_type": "code",
   "execution_count": null,
   "metadata": {},
   "outputs": [],
   "source": [
    "HTML(ss.create_html_table(symbols=equations.surge_hull_equation_SI.free_symbols))"
   ]
  },
  {
   "cell_type": "markdown",
   "metadata": {},
   "source": [
    "## Surge equation"
   ]
  },
  {
   "cell_type": "code",
   "execution_count": null,
   "metadata": {},
   "outputs": [],
   "source": [
    "sp.latex(equations.surge_hull_equation)"
   ]
  },
  {
   "cell_type": "code",
   "execution_count": null,
   "metadata": {},
   "outputs": [],
   "source": [
    "equations.surge_hull_equation_SI"
   ]
  },
  {
   "cell_type": "markdown",
   "metadata": {},
   "source": [
    "### Plotting the total surge hull equation"
   ]
  },
  {
   "cell_type": "code",
   "execution_count": null,
   "metadata": {},
   "outputs": [],
   "source": [
    "df = pd.DataFrame()\n",
    "df['v_w'] = np.linspace(-0.3,0.3,20)\n",
    "df['r_w'] = 0.0\n",
    "df['rho'] = 1025\n",
    "df['L'] = 1.0\n",
    "df['g'] = 9.81\n",
    "df['X_vv'] = -1.0\n",
    "df['X_vr'] = 1.0\n",
    "df['X_rr'] = 1.0\n",
    "df['X_res'] = 0.0\n",
    "df['disp'] = 23\n",
    "\n",
    "\n",
    "result = df.copy()\n",
    "result['fx'] = lambda_functions.X_h_function(**df)\n",
    "\n",
    "result.plot(x = 'v_w',y = 'fx');"
   ]
  },
  {
   "cell_type": "markdown",
   "metadata": {},
   "source": [
    "### Plotting with coefficients from a real seaman ship model"
   ]
  },
  {
   "cell_type": "code",
   "execution_count": null,
   "metadata": {},
   "outputs": [],
   "source": [
    "import generate_input\n",
    "shipdict = seaman.ShipDict.load('../../tests/test_ship.ship')"
   ]
  },
  {
   "cell_type": "code",
   "execution_count": null,
   "metadata": {},
   "outputs": [],
   "source": [
    "df = pd.DataFrame()\n",
    "df['v_w'] = np.linspace(-0.3,0.3,20)\n",
    "df['r_w'] = 0.0\n",
    "df['rho'] = 1025\n",
    "df['g'] = 9.81\n",
    "df['X_res'] = 0.0\n",
    "\n",
    "df_input = generate_input.add_shipdict_inputs(lambda_function=lambda_functions.X_h_function,\n",
    "                                              shipdict = shipdict,\n",
    "                                              df = df)\n",
    "df_input"
   ]
  },
  {
   "cell_type": "code",
   "execution_count": null,
   "metadata": {},
   "outputs": [],
   "source": [
    "result = df_input.copy()\n",
    "result['fx'] = lambda_functions.X_h_function(**df_input)"
   ]
  },
  {
   "cell_type": "code",
   "execution_count": null,
   "metadata": {},
   "outputs": [],
   "source": [
    "result.plot(x = 'v_w',y = 'fx');"
   ]
  },
  {
   "cell_type": "markdown",
   "metadata": {},
   "source": [
    "## Real seaman++\n",
    "Run real seaman in C++ to verify that the documented model is correct. "
   ]
  },
  {
   "cell_type": "code",
   "execution_count": null,
   "metadata": {},
   "outputs": [],
   "source": [
    "import run_real_seaman"
   ]
  },
  {
   "cell_type": "code",
   "execution_count": null,
   "metadata": {},
   "outputs": [],
   "source": [
    "df = pd.DataFrame()\n",
    "df['v_w'] = np.linspace(-0.3,0.3,20)\n",
    "df['r_w'] = 0.0\n",
    "df['rho'] = 1025\n",
    "df['g'] = 9.81\n",
    "df['X_res'] = 0.0\n",
    "\n",
    "result_comparison = run_real_seaman.compare_with_seaman(lambda_function=lambda_functions.X_h_function,\n",
    "                                                        shipdict = shipdict,\n",
    "                                                        df = df,label='fx',\n",
    "                                                        seaman_function=run_real_seaman.calculate_resistance)\n",
    "\n",
    "fig,ax = plt.subplots()\n",
    "result_comparison.plot(x = 'v_w',y = ['fx','fx_seaman'],ax = ax)\n",
    "ax.set_title('Drift angle variation');"
   ]
  },
  {
   "cell_type": "code",
   "execution_count": null,
   "metadata": {},
   "outputs": [],
   "source": [
    "df = pd.DataFrame()\n",
    "df['r_w'] = np.linspace(-0.3,0.3,20)\n",
    "df['v_w'] = 0.0\n",
    "df['rho'] = 1025\n",
    "df['g'] = 9.81\n",
    "df['X_res'] = 0.0\n",
    "\n",
    "shipdict2 = shipdict.copy()\n",
    "shipdict2.resistance_data['xrr'] = -0.01\n",
    "\n",
    "result_comparison = run_real_seaman.compare_with_seaman(lambda_function=lambda_functions.X_h_function,\n",
    "                                                        shipdict = shipdict2,\n",
    "                                                        df = df,label='fx',\n",
    "                                                        seaman_function=run_real_seaman.calculate_resistance)\n",
    "\n",
    "fig,ax = plt.subplots()\n",
    "result_comparison.plot(x = 'r_w',y = ['fx','fx_seaman'],ax = ax)\n",
    "ax.set_title('Yaw rate variation');"
   ]
  },
  {
   "cell_type": "code",
   "execution_count": null,
   "metadata": {},
   "outputs": [],
   "source": [
    "df = pd.DataFrame()\n",
    "df['v_w'] = np.linspace(-0.3,0.3,20)\n",
    "df['r_w'] = 0.01\n",
    "df['rho'] = 1025\n",
    "df['g'] = 9.81\n",
    "df['X_res'] = 0.0\n",
    "\n",
    "result_comparison = run_real_seaman.compare_with_seaman(lambda_function=lambda_functions.X_h_function,\n",
    "                                                        shipdict = shipdict,\n",
    "                                                        df = df,label='fx',\n",
    "                                                        seaman_function=run_real_seaman.calculate_resistance)\n",
    "\n",
    "fig,ax = plt.subplots()\n",
    "result_comparison.plot(x = 'v_w',y = ['fx','fx_seaman'],ax = ax)\n",
    "ax.set_title('Drift angle variation, yaw rate = 0.01 rad/s');"
   ]
  },
  {
   "cell_type": "code",
   "execution_count": null,
   "metadata": {},
   "outputs": [],
   "source": [
    "df = pd.DataFrame()\n",
    "df['r_w'] = np.linspace(-0.3,0.3,20)\n",
    "df['v_w'] = 0.01\n",
    "df['rho'] = 1025\n",
    "df['g'] = 9.81\n",
    "df['X_res'] = 0.0\n",
    "\n",
    "result_comparison = run_real_seaman.compare_with_seaman(lambda_function=lambda_functions.X_h_function,\n",
    "                                                        shipdict = shipdict,\n",
    "                                                        df = df,label='fx',\n",
    "                                                        seaman_function=run_real_seaman.calculate_resistance)\n",
    "\n",
    "fig,ax = plt.subplots()\n",
    "result_comparison.plot(x = 'r_w',y = ['fx','fx_seaman'],ax = ax)\n",
    "ax.set_title('Yaw rate variation');"
   ]
  },
  {
   "cell_type": "code",
   "execution_count": null,
   "metadata": {},
   "outputs": [],
   "source": [
    "import save_lambda_functions\n",
    "\n",
    "function_name = 'X_h_function'\n",
    "lambda_function = lambda_functions.X_h_function\n",
    "\n",
    "save_lambda_functions.save_lambda_to_python_file(lambda_function = lambda_function,\n",
    "                                                 function_name = function_name)\n",
    "\n",
    "save_lambda_functions.save_lambda_to_matlab_file(lambda_function = lambda_function,\n",
    "                                                 function_name = function_name)"
   ]
  }
 ],
 "metadata": {
  "kernelspec": {
   "display_name": "Python 3",
   "language": "python",
   "name": "python3"
  },
  "language_info": {
   "codemirror_mode": {
    "name": "ipython",
    "version": 3
   },
   "file_extension": ".py",
   "mimetype": "text/x-python",
   "name": "python",
   "nbconvert_exporter": "python",
   "pygments_lexer": "ipython3",
   "version": "3.5.4"
  }
 },
 "nbformat": 4,
 "nbformat_minor": 2
}
