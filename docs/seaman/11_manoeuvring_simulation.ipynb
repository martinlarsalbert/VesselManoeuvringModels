{
 "cells": [
  {
   "cell_type": "markdown",
   "metadata": {
    "pycharm": {
     "name": "#%% md\n"
    }
   },
   "source": [
    "# Manoeuvring simulation in seaman"
   ]
  },
  {
   "cell_type": "code",
   "execution_count": null,
   "metadata": {
    "pycharm": {
     "is_executing": false,
     "name": "#%%\n"
    }
   },
   "outputs": [],
   "source": [
    "import warnings\n",
    "warnings.filterwarnings(\"ignore\")\n",
    "\n",
    "import quantities as pq\n",
    "import matplotlib.pyplot as plt\n",
    "import os\n",
    "\n",
    "import evaluation\n",
    "\n",
    "# Seaman:\n",
    "import seaman.tests\n",
    "from seaman.systems.cppsystems.world import World\n",
    "from seaman.systems.composite.dynamic_ship import DynamicShip\n",
    "from seaman.simulations.manoeuvring import TurningCircle,ZigZag,SelfPropulsion\n"
   ]
  },
  {
   "cell_type": "markdown",
   "metadata": {
    "pycharm": {
     "is_executing": false,
     "name": "#%% md\n"
    }
   },
   "source": [
    "## Create a world and load a ship"
   ]
  },
  {
   "cell_type": "code",
   "execution_count": null,
   "metadata": {
    "pycharm": {
     "is_executing": false,
     "name": "#%%\n"
    }
   },
   "outputs": [],
   "source": [
    "w = World()\n",
    "ship = DynamicShip.from_shipfile(path=seaman.tests.test_ship_path)\n",
    "w.register_unit(ship)"
   ]
  },
  {
   "cell_type": "markdown",
   "metadata": {
    "pycharm": {
     "name": "#%% md\n"
    }
   },
   "source": [
    "## Run a turning circle simulation"
   ]
  },
  {
   "cell_type": "code",
   "execution_count": null,
   "metadata": {
    "pycharm": {
     "is_executing": false,
     "name": "#%%\n"
    }
   },
   "outputs": [],
   "source": [
    "simulation = TurningCircle(ship = ship)\n",
    "simulation.dt = 0.1\n",
    "#simulation.dt = 2\n",
    "simulation.max_simulation_time = 1000"
   ]
  },
  {
   "cell_type": "markdown",
   "metadata": {
    "pycharm": {
     "name": "#%% md\n"
    }
   },
   "source": [
    "### Set some parameters for this turning circle:\n",
    "You need to specify the physical unit using the Quantities package. \n",
    "This way we avoid to know in which physical unit parameters should be specified. \n",
    "[knots] will be automatically converted into [m/s], [degrees] into [radians] etc."
   ]
  },
  {
   "cell_type": "code",
   "execution_count": null,
   "metadata": {
    "pycharm": {
     "is_executing": false,
     "name": "#%% \n"
    }
   },
   "outputs": [],
   "source": [
    "delta = pq.Quantity(35, pq.deg)\n",
    "u = 12 * 1.852 / 3.6\n",
    "rev = pq.Quantity(3.23568412333035, 1 / pq.s)\n",
    "simulation.setup_simulation_parameters(speed = u,angle = delta,rev = rev, pullout=False)"
   ]
  },
  {
   "cell_type": "markdown",
   "metadata": {
    "pycharm": {
     "name": "#%% md\n"
    }
   },
   "source": [
    "Now run the simulation. The *TurningCircle* class knows how this simulation is performed in the correct way. "
   ]
  },
  {
   "cell_type": "code",
   "execution_count": null,
   "metadata": {
    "pycharm": {
     "is_executing": false,
     "name": "#%%\n"
    }
   },
   "outputs": [],
   "source": [
    "simulation.ship.cog.bl.rudder_0.store_all()\n",
    "simulation.run()"
   ]
  },
  {
   "cell_type": "markdown",
   "metadata": {
    "pycharm": {
     "name": "#%% md\n"
    }
   },
   "source": [
    "## Save simulation\n",
    "It is possible to save the simulation results into a HDF5 file:"
   ]
  },
  {
   "cell_type": "code",
   "execution_count": null,
   "metadata": {
    "pycharm": {
     "is_executing": false,
     "name": "#%%\n"
    }
   },
   "outputs": [],
   "source": [
    "save_directory = os.path.abspath('results')\n",
    "if not os.path.exists(save_directory):\n",
    "    os.mkdir(save_directory)\n",
    "\n",
    "save_path = os.path.join(save_directory,'test.hdf5')\n",
    "\n",
    "simulation.save_current_simulation(path = save_path)"
   ]
  },
  {
   "cell_type": "markdown",
   "metadata": {
    "pycharm": {
     "name": "#%% md\n"
    }
   },
   "source": [
    "## Post-process the simulation\n",
    "\n",
    "### Directly\n",
    "You can process the data directly by accessing the results that simulation object holds in memory.  "
   ]
  },
  {
   "cell_type": "code",
   "execution_count": null,
   "metadata": {
    "pycharm": {
     "is_executing": false,
     "name": "#%%\n"
    }
   },
   "outputs": [],
   "source": [
    "positions = simulation.ship.res.position_world\n",
    "fig,ax=plt.subplots()\n",
    "x0 = positions[:,0]\n",
    "y0 = positions[:,1]\n",
    "\n",
    "ax.plot(y0,x0)\n",
    "ax.set_aspect('equal', 'box')\n",
    "\n",
    "fig,ax=plt.subplots()\n",
    "time = simulation.ship.res.time  \n",
    "psi = simulation.ship.res.attitude_world[:,2]\n",
    "ax.plot(time,psi)\n"
   ]
  },
  {
   "cell_type": "markdown",
   "metadata": {
    "pycharm": {
     "name": "#%% md\n"
    }
   },
   "source": [
    "### Using Evaluation\n",
    "You can process the data in a more standard way by using the *Evaluation* package. \n",
    "*Evaluation* can analyze time series data from all SSPA facilities (Towingtank and MDL) but is \n",
    "also compatable with Seaman. There are benifits with having just ONE code to deal with data regardless of \n",
    "its origin. So that a ZigZag simulation in Seaman is treated the same way as a ZigZag model tests in MDL \n",
    "etc."
   ]
  },
  {
   "cell_type": "code",
   "execution_count": null,
   "metadata": {
    "pycharm": {
     "is_executing": false,
     "name": "#%%\n"
    }
   },
   "outputs": [],
   "source": [
    "from evaluation.run_manoeuvring import RunZigZag, RunTurningCircle\n",
    "from evaluation.run import Run\n",
    "from evaluation.run_dynamic import RunDynamic\n"
   ]
  },
  {
   "cell_type": "code",
   "execution_count": null,
   "metadata": {
    "pycharm": {
     "is_executing": false,
     "name": "#%%\n"
    }
   },
   "outputs": [],
   "source": [
    " interesting_datasets = [r\"ship/position_world/x\",\n",
    "                            r\"ship/position_world/y\",\n",
    "                            r\"ship/position_world/z\",\n",
    "                            r\"ship/attitude_world/x\",\n",
    "                            r\"ship/attitude_world/y\",\n",
    "                            r\"ship/attitude_world/z\",\n",
    "                            r\"ship/cog/bl/rudder_0/delta\",\n",
    "                            ]\n",
    "\n",
    "rename_channels = {\n",
    "    r\"ship/cog/bl/rudder_0/delta\":'delta',\n",
    "}\n",
    "\n",
    "hdf5_file_path = save_path\n",
    "run_name = 'seaman run'\n",
    "\n",
    "meta_data = {\n",
    "    'TrackSpeed':u,\n",
    "    'Beam':simulation.ship.static_ship.shipdict.main_data['beam'],\n",
    "    'Lpp':simulation.ship.static_ship.shipdict.main_data['l'],\n",
    "    'ScaleFactor':1,\n",
    "\n",
    "    }\n",
    "\n",
    "units = {\n",
    "    'TrackSpeed':'m/s',\n",
    "    'Beam':'m',\n",
    "    'Lpp':'m',\n",
    "    'ScaleFactor':36,\n",
    "\n",
    "    }\n",
    "\n",
    "run = RunTurningCircle.load_time_series_from_seaman(run_name=run_name,hdf5_file_path=hdf5_file_path,\n",
    "                                                    interesting_datasets=interesting_datasets,\n",
    "                                                    meta_data=meta_data, rename_channels=rename_channels, \n",
    "                                                    units=units)"
   ]
  },
  {
   "cell_type": "markdown",
   "metadata": {
    "pycharm": {
     "name": "#%% md\n"
    }
   },
   "source": [
    "### Evaluate\n",
    "Now we can evaluate the results and look at the data"
   ]
  },
  {
   "cell_type": "code",
   "execution_count": null,
   "metadata": {
    "pycharm": {
     "is_executing": false,
     "name": "#%%\n"
    }
   },
   "outputs": [],
   "source": [
    "run.evaluate()\n",
    "results = run.results['turning_circle']\n",
    "units = results.pop('units')\n",
    "results"
   ]
  },
  {
   "cell_type": "code",
   "execution_count": null,
   "metadata": {
    "pycharm": {
     "is_executing": false,
     "name": "#%%\n"
    }
   },
   "outputs": [],
   "source": [
    "run.track_plot()\n",
    "\n"
   ]
  },
  {
   "cell_type": "code",
   "execution_count": null,
   "metadata": {
    "pycharm": {
     "is_executing": false,
     "name": "#%%\n"
    }
   },
   "outputs": [],
   "source": [
    "run.plot_summary();\n"
   ]
  },
  {
   "cell_type": "code",
   "execution_count": null,
   "metadata": {
    "pycharm": {
     "is_executing": false,
     "name": "#%%\n"
    }
   },
   "outputs": [],
   "source": [
    "run.plot('V')\n",
    "run.plot('beta')\n"
   ]
  },
  {
   "cell_type": "code",
   "execution_count": null,
   "metadata": {
    "pycharm": {
     "is_executing": false,
     "name": "#%%\n"
    }
   },
   "outputs": [],
   "source": []
  },
  {
   "cell_type": "code",
   "execution_count": null,
   "metadata": {
    "pycharm": {
     "is_executing": false,
     "name": "#%%\n"
    }
   },
   "outputs": [],
   "source": []
  },
  {
   "cell_type": "code",
   "execution_count": null,
   "metadata": {
    "pycharm": {
     "is_executing": false,
     "name": "#%%\n"
    }
   },
   "outputs": [],
   "source": [
    "\n"
   ]
  }
 ],
 "metadata": {
  "kernelspec": {
   "display_name": "Python 3",
   "language": "python",
   "name": "python3"
  },
  "language_info": {
   "codemirror_mode": {
    "name": "ipython",
    "version": 3
   },
   "file_extension": ".py",
   "mimetype": "text/x-python",
   "name": "python",
   "nbconvert_exporter": "python",
   "pygments_lexer": "ipython3",
   "version": "3.5.4"
  },
  "pycharm": {
   "stem_cell": {
    "cell_type": "raw",
    "metadata": {
     "collapsed": false
    },
    "source": []
   }
  }
 },
 "nbformat": 4,
 "nbformat_minor": 1
}
