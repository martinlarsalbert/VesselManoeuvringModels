{
 "cells": [
  {
   "cell_type": "markdown",
   "metadata": {},
   "source": [
    "## Rigid body verification"
   ]
  },
  {
   "cell_type": "code",
   "execution_count": null,
   "metadata": {},
   "outputs": [],
   "source": [
    "import warnings\n",
    "#warnings.filterwarnings('ignore')\n",
    "%matplotlib inline\n",
    "%load_ext autoreload\n",
    "%autoreload 2"
   ]
  },
  {
   "cell_type": "code",
   "execution_count": null,
   "metadata": {},
   "outputs": [],
   "source": [
    "import numpy as np\n",
    "from seaman.systems.cppsystems.bodies import RigidBody\n",
    "from seaman.systems.python.force import Gravity,Force\n",
    "from seaman.systems.cppsystems.forcegen import Frame\n",
    "from pysim.simulation import Sim\n",
    "\n",
    "import rigidbody.rigid_body_dynamics as rbd\n",
    "from rigidbody.plotting import TrackPlot3dWidget,track_plot\n",
    "import pandas as pd\n",
    "import matplotlib.pyplot as plt"
   ]
  },
  {
   "cell_type": "code",
   "execution_count": null,
   "metadata": {},
   "outputs": [],
   "source": [
    "def do_seaman_simulation(t, force_torque = [0, 0, 0, 0, 0, 0], initial_speeds = [0, 0, 0, 0, 0, 0],\n",
    "                   initial_coordinates = [0, 0, 0, 0, 0, 0], mass = 1, I_xx = 1, I_yy = 1, I_zz = 1):\n",
    "    \n",
    "    point = RigidBody()\n",
    "    point.inputs.mass = mass\n",
    "    r_xx = np.sqrt(I_xx / mass)\n",
    "    r_yy = np.sqrt(I_yy / mass)\n",
    "    r_zz = np.sqrt(I_zz / mass)\n",
    "    point.inputs.gyradii = [r_xx, r_yy, r_zz]\n",
    "\n",
    "    f1 = Frame()\n",
    "    force = Force()\n",
    "    r12 = np.array([0, 0, 0])\n",
    "    f1.add_subsystem(force, \"force\", r12)\n",
    "    point.add_subsystem(f1, 'force')\n",
    "\n",
    "    force.inputs.force = force_torque\n",
    "    point.states.position_world = initial_coordinates[0:3]\n",
    "    point.states.attitude_world = initial_coordinates[3:]\n",
    "    point.states.linear_velocity = initial_speeds[0:3]\n",
    "    point.inputs.angular_velocity = initial_speeds[3:]\n",
    "\n",
    "    point.store_all()\n",
    "\n",
    "    sim = Sim()\n",
    "    sim.add_system(point)\n",
    "\n",
    "    sim.simulate(t[-1], t[1] - t[0])\n",
    "    position = point.res.position_world\n",
    "    attitude = point.res.attitude_world\n",
    "    \n",
    "    \n",
    "    df = pd.DataFrame(index = point.res.time)\n",
    "    df['x0'] = position[:,0]\n",
    "    df['y0'] = position[:,1]\n",
    "    df['z0'] = position[:,2]\n",
    "    df['phi'] = attitude[:,0]\n",
    "    df['theta'] = attitude[:,1]\n",
    "    df['psi'] = attitude[:,2]\n",
    "    \n",
    "        \n",
    "    return df\n",
    "\n"
   ]
  },
  {
   "cell_type": "markdown",
   "metadata": {},
   "source": [
    "## Circle simulation"
   ]
  },
  {
   "cell_type": "code",
   "execution_count": null,
   "metadata": {},
   "outputs": [],
   "source": [
    "radius = 10  # Radius of rotation [m]\n",
    "w = 0.1  # Angle velocity [rad/s]\n",
    "V = radius*w  # Speed of point [m/s]\n",
    "t = np.linspace(0,2*np.pi/w,100)\n",
    "\n",
    "mass = 1\n",
    "I_xx = 1\n",
    "I_yy = 1\n",
    "I_zz = 1\n",
    "\n",
    "expected_acceleration = -radius*w**2\n",
    "expected_force = mass*expected_acceleration\n",
    "\n",
    "force_torque = [0,-expected_force,0,0,0,0]\n",
    "initial_speeds = [V,0,0,0,0,w]\n",
    "initial_coordinates = [0, -radius, 0,0,0,0]\n",
    "\n",
    "\n",
    "df = do_seaman_simulation(t=t, force_torque=force_torque, initial_speeds=initial_speeds, \n",
    "                             initial_coordinates=initial_coordinates, mass=mass, I_xx=I_xx, I_yy=I_yy, I_zz=I_zz)\n",
    "\n",
    "fig,ax = plt.subplots()\n",
    "track_plot(df,ax, time_step = '5S')\n",
    "\n",
    "\n",
    "fig,ax = plt.subplots()\n",
    "df.plot(y='psi', ax=ax);\n",
    "ax.set_xlabel('time')\n",
    "ax.set_ylabel('psi')\n"
   ]
  },
  {
   "cell_type": "markdown",
   "metadata": {},
   "source": [
    "## Yaw rate at 45 deg roll\n",
    "This one gives different results."
   ]
  },
  {
   "cell_type": "code",
   "execution_count": null,
   "metadata": {},
   "outputs": [],
   "source": [
    "t = np.linspace(0,2*np.pi/w,100)\n",
    "\n",
    "mass = 1\n",
    "I_xx = 10\n",
    "I_yy = 10\n",
    "I_zz = 10\n",
    "\n",
    "t = np.linspace(0, 10, 100)\n",
    "\n",
    "\n",
    "initial_speeds = [0,0,0,0.0,0.0,0.3]\n",
    "\n",
    "initial_coordinates = [0, 0, 0, np.deg2rad(45), 0, 0]\n",
    "\n",
    "force_torque = [0,0,0,0,0,0]\n",
    "\n",
    "df = do_seaman_simulation(t=t, initial_speeds=initial_speeds, \n",
    "                          initial_coordinates=initial_coordinates,\n",
    "                         mass=mass,I_xx=I_xx, I_yy=I_yy, I_zz=I_zz)\n",
    "\n",
    "# Run an alternative simulation:\n",
    "df_alternative = rbd.simulate(t=t, initial_speeds=initial_speeds, initial_coordinates=initial_coordinates,\n",
    "                             mass=mass,I_xx=I_xx, I_yy=I_yy, I_zz=I_zz,force_torque=force_torque)\n",
    "\n",
    "fig,ax = plt.subplots()\n",
    "track_plot(df,ax, time_step = '5S', style='r-', label = 'seaman')\n",
    "track_plot(df_alternative,ax, time_step = '5S',style='b:', label = 'alt')\n",
    "\n",
    "fig,ax = plt.subplots()\n",
    "df.plot(y='phi', ax=ax, label='seaman', style='r-');\n",
    "df_alternative.plot(y='phi', ax=ax, label='alt', style='b:')\n",
    "ax.set_xlabel('time')\n",
    "ax.set_ylabel('phi')\n",
    "\n",
    "fig,ax = plt.subplots()\n",
    "df.plot(y='theta', ax=ax, label='seaman', style='r-');\n",
    "df_alternative.plot(y='theta', ax=ax, label='alt', style='b:')\n",
    "ax.set_xlabel('time')\n",
    "ax.set_ylabel('theta')\n",
    "\n",
    "fig,ax = plt.subplots()\n",
    "df.plot(y='psi', ax=ax, label='seaman', style='r-');\n",
    "df_alternative.plot(y='psi', ax=ax, label='alt', style='b:')\n",
    "ax.set_xlabel('time')\n",
    "ax.set_ylabel('psi')\n",
    "\n"
   ]
  },
  {
   "cell_type": "code",
   "execution_count": null,
   "metadata": {},
   "outputs": [],
   "source": [
    "scene = TrackPlot3dWidget(df=df)"
   ]
  },
  {
   "cell_type": "code",
   "execution_count": null,
   "metadata": {},
   "outputs": [],
   "source": [
    "scene = TrackPlot3dWidget(df=df_alternative)"
   ]
  },
  {
   "cell_type": "code",
   "execution_count": null,
   "metadata": {},
   "outputs": [],
   "source": [
    "t = np.linspace(0,2*np.pi/w,100)\n",
    "\n",
    "mass = 1\n",
    "I_xx = 10\n",
    "I_yy = 10\n",
    "I_zz = 10\n",
    "\n",
    "t = np.linspace(0, 10, 100)\n",
    "\n",
    "\n",
    "initial_speeds = [0,0,0,0,0.3,0]\n",
    "\n",
    "initial_coordinates = [0, 0, 0, np.deg2rad(89), 0, 0]\n",
    "\n",
    "force_torque = [0,0,0,0,0,0]\n",
    "\n",
    "df = do_seaman_simulation(t=t, initial_speeds=initial_speeds, \n",
    "                          initial_coordinates=initial_coordinates,\n",
    "                         mass=mass,I_xx=I_xx, I_yy=I_yy, I_zz=I_zz)\n",
    "\n",
    "# Run an alternative simulation:\n",
    "df_alternative = rbd.simulate(t=t, initial_speeds=initial_speeds, initial_coordinates=initial_coordinates,\n",
    "                             mass=mass,I_xx=I_xx, I_yy=I_yy, I_zz=I_zz,force_torque=force_torque)\n",
    "\n",
    "fig,ax = plt.subplots()\n",
    "track_plot(df,ax, time_step = '5S', style='r-', label = 'seaman')\n",
    "track_plot(df_alternative,ax, time_step = '5S',style='b:', label = 'alt')\n",
    "\n",
    "fig,ax = plt.subplots()\n",
    "df.plot(y='phi', ax=ax, label='seaman', style='r-');\n",
    "df_alternative.plot(y='phi', ax=ax, label='alt', style='b:')\n",
    "ax.set_xlabel('time')\n",
    "ax.set_ylabel('phi')\n",
    "\n",
    "fig,ax = plt.subplots()\n",
    "df.plot(y='theta', ax=ax, label='seaman', style='r-');\n",
    "df_alternative.plot(y='theta', ax=ax, label='alt', style='b:')\n",
    "ax.set_xlabel('time')\n",
    "ax.set_ylabel('theta')\n",
    "\n",
    "fig,ax = plt.subplots()\n",
    "df.plot(y='psi', ax=ax, label='seaman', style='r-');\n",
    "df_alternative.plot(y='psi', ax=ax, label='alt', style='b:')\n",
    "ax.set_xlabel('time')\n",
    "ax.set_ylabel('psi')"
   ]
  },
  {
   "cell_type": "code",
   "execution_count": null,
   "metadata": {},
   "outputs": [],
   "source": [
    "scene = TrackPlot3dWidget(df=df)"
   ]
  },
  {
   "cell_type": "code",
   "execution_count": null,
   "metadata": {},
   "outputs": [],
   "source": [
    "scene = TrackPlot3dWidget(df=df_alternative)"
   ]
  },
  {
   "cell_type": "code",
   "execution_count": null,
   "metadata": {},
   "outputs": [],
   "source": [
    "mass = 1\n",
    "I_xx = 10\n",
    "I_yy = 10\n",
    "I_zz = 10\n",
    "\n",
    "t = np.linspace(0, 10, 1000)\n",
    "\n",
    "\n",
    "force_torque = [0.3730018553631673, 0.6692513437947458, -0.9634234453116164, 0.5002886298899349, 0.9777221778129894, 0.4963313087596788]\n",
    "\n",
    "df = do_seaman_simulation(t=t, force_torque=force_torque,\n",
    "                         mass=mass,I_xx=I_xx, I_yy=I_yy, I_zz=I_zz)\n",
    "\n",
    "# Run an alternative simulation:\n",
    "df_alternative = rbd.simulate(t=t, mass=mass,I_xx=I_xx, I_yy=I_yy, I_zz=I_zz,force_torque=force_torque)\n",
    "\n",
    "fig,ax = plt.subplots()\n",
    "track_plot(df,ax, time_step = '5S', style='r-', label = 'seaman')\n",
    "track_plot(df_alternative,ax, time_step = '5S',style='b:', label = 'alt')\n",
    "\n",
    "fig,ax = plt.subplots()\n",
    "df.plot(y='phi', ax=ax, label='seaman', style='r-');\n",
    "df_alternative.plot(y='phi', ax=ax, label='alt', style='b:')\n",
    "ax.set_xlabel('time')\n",
    "ax.set_ylabel('phi')\n",
    "\n",
    "fig,ax = plt.subplots()\n",
    "df.plot(y='theta', ax=ax, label='seaman', style='r-');\n",
    "df_alternative.plot(y='theta', ax=ax, label='alt', style='b:')\n",
    "ax.set_xlabel('time')\n",
    "ax.set_ylabel('theta')\n",
    "\n",
    "fig,ax = plt.subplots()\n",
    "df.plot(y='psi', ax=ax, label='seaman', style='r-');\n",
    "df_alternative.plot(y='psi', ax=ax, label='alt', style='b:')\n",
    "ax.set_xlabel('time')\n",
    "ax.set_ylabel('psi')"
   ]
  },
  {
   "cell_type": "code",
   "execution_count": null,
   "metadata": {},
   "outputs": [],
   "source": [
    "scene = TrackPlot3dWidget(df=df)"
   ]
  },
  {
   "cell_type": "code",
   "execution_count": null,
   "metadata": {},
   "outputs": [],
   "source": [
    "scene = TrackPlot3dWidget(df=df_alternative)"
   ]
  },
  {
   "cell_type": "code",
   "execution_count": null,
   "metadata": {},
   "outputs": [],
   "source": []
  }
 ],
 "metadata": {
  "kernelspec": {
   "display_name": "Python 3",
   "language": "python",
   "name": "python3"
  },
  "language_info": {
   "codemirror_mode": {
    "name": "ipython",
    "version": 3
   },
   "file_extension": ".py",
   "mimetype": "text/x-python",
   "name": "python",
   "nbconvert_exporter": "python",
   "pygments_lexer": "ipython3",
   "version": "3.5.4"
  }
 },
 "nbformat": 4,
 "nbformat_minor": 4
}
