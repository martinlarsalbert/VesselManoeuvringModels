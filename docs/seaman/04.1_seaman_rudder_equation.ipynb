{
 "cells": [
  {
   "cell_type": "markdown",
   "metadata": {},
   "source": [
    "# Rudder equations"
   ]
  },
  {
   "cell_type": "code",
   "execution_count": null,
   "metadata": {},
   "outputs": [],
   "source": [
    "%load_ext autoreload\n",
    "%autoreload 2\n",
    "%matplotlib inline"
   ]
  },
  {
   "cell_type": "code",
   "execution_count": null,
   "metadata": {},
   "outputs": [],
   "source": [
    "import sympy as sp\n",
    "from sympy.plotting import plot as plot\n",
    "from sympy.plotting import plot3d as plot3d\n",
    "import pandas as pd\n",
    "import numpy as np\n",
    "import matplotlib.pyplot as plt\n",
    "sp.init_printing()\n",
    "from IPython.core.display import HTML,Latex"
   ]
  },
  {
   "cell_type": "code",
   "execution_count": null,
   "metadata": {},
   "outputs": [],
   "source": [
    "import seaman_symbol as ss\n",
    "from rudder_equations import *\n",
    "from bis_system import BisSystem\n",
    "\n",
    "from seaman_symbols import *\n",
    "import seaman_symbol as ss\n",
    "\n",
    "import sys\n",
    "sys.path.append(\"../\")\n",
    "import seaman"
   ]
  },
  {
   "cell_type": "markdown",
   "metadata": {},
   "source": [
    "## Coordinate system\n",
    "![coordinate_system](coordinateSystem.png)"
   ]
  },
  {
   "cell_type": "markdown",
   "metadata": {},
   "source": [
    "## Symbols"
   ]
  },
  {
   "cell_type": "code",
   "execution_count": null,
   "metadata": {},
   "outputs": [],
   "source": [
    "#HTML(ss.create_html_table(symbols=equations.total_sway_hull_equation_SI.free_symbols))"
   ]
  },
  {
   "cell_type": "markdown",
   "metadata": {},
   "source": [
    "## Rudder equation\n",
    "The rudder forces consist of mainly two parts, one that is\n",
    "depending on the ship axial speed and one that is depending on the thrust.\n",
    "\n",
    "The stalling effect is represented by a third degree term with a stall coefficient s.\n",
    "The total expression for the rudder force is thus written as:"
   ]
  },
  {
   "cell_type": "code",
   "execution_count": null,
   "metadata": {},
   "outputs": [],
   "source": [
    "\n",
    "\n",
    "rudder_equation_no_stall"
   ]
  },
  {
   "cell_type": "markdown",
   "metadata": {},
   "source": [
    "If we also consider stall"
   ]
  },
  {
   "cell_type": "code",
   "execution_count": null,
   "metadata": {},
   "outputs": [],
   "source": [
    "rudder_equation"
   ]
  },
  {
   "cell_type": "markdown",
   "metadata": {},
   "source": [
    "## Effective rudder angle"
   ]
  },
  {
   "cell_type": "code",
   "execution_count": null,
   "metadata": {},
   "outputs": [],
   "source": [
    "effective_rudder_angle_equation"
   ]
  },
  {
   "cell_type": "code",
   "execution_count": null,
   "metadata": {},
   "outputs": [],
   "source": [
    "delta_e_expanded"
   ]
  },
  {
   "cell_type": "markdown",
   "metadata": {},
   "source": [
    "### Speed dependent part"
   ]
  },
  {
   "cell_type": "code",
   "execution_count": null,
   "metadata": {},
   "outputs": [],
   "source": [
    "Latex(sp.latex(rudder_u_equation))"
   ]
  },
  {
   "cell_type": "markdown",
   "metadata": {},
   "source": [
    "### Thrust dependent part\n",
    "This part is assumed to be proportional to the propeller thrust"
   ]
  },
  {
   "cell_type": "code",
   "execution_count": null,
   "metadata": {},
   "outputs": [],
   "source": [
    "rudder_T_equation"
   ]
  },
  {
   "cell_type": "code",
   "execution_count": null,
   "metadata": {},
   "outputs": [],
   "source": [
    "sp.latex(rudder_total_sway_equation)"
   ]
  },
  {
   "cell_type": "code",
   "execution_count": null,
   "metadata": {},
   "outputs": [],
   "source": [
    "rudder_total_sway_equation_SI"
   ]
  },
  {
   "cell_type": "markdown",
   "metadata": {},
   "source": [
    "## Rudder resistance\n",
    "The rudder resistance is taken to be proportional to the rudder side force (without stall) and the\n",
    "rudder angle, thus:"
   ]
  },
  {
   "cell_type": "code",
   "execution_count": null,
   "metadata": {},
   "outputs": [],
   "source": [
    "rudder_drag_equation"
   ]
  },
  {
   "cell_type": "code",
   "execution_count": null,
   "metadata": {},
   "outputs": [],
   "source": [
    "sp.latex(rudder_drag_equation_expanded)"
   ]
  },
  {
   "cell_type": "code",
   "execution_count": null,
   "metadata": {},
   "outputs": [],
   "source": [
    "rudder_drag_equation_expanded_SI"
   ]
  },
  {
   "cell_type": "markdown",
   "metadata": {},
   "source": [
    "## Rudder yawing moment"
   ]
  },
  {
   "cell_type": "code",
   "execution_count": null,
   "metadata": {},
   "outputs": [],
   "source": [
    "rudder_yaw_equation"
   ]
  },
  {
   "cell_type": "code",
   "execution_count": null,
   "metadata": {},
   "outputs": [],
   "source": [
    "rudder_yaw_equation_expanded_SI"
   ]
  },
  {
   "cell_type": "markdown",
   "metadata": {},
   "source": [
    "## Rudder roll moment"
   ]
  },
  {
   "cell_type": "code",
   "execution_count": null,
   "metadata": {},
   "outputs": [],
   "source": [
    "rudder_roll_equation"
   ]
  },
  {
   "cell_type": "code",
   "execution_count": null,
   "metadata": {},
   "outputs": [],
   "source": [
    "rudder_roll_equation_expanded_SI = ss.expand_bis(rudder_roll_equation_expanded)\n",
    "rudder_roll_equation_expanded_SI"
   ]
  },
  {
   "cell_type": "markdown",
   "metadata": {},
   "source": [
    "## Lambda functions"
   ]
  },
  {
   "cell_type": "code",
   "execution_count": null,
   "metadata": {},
   "outputs": [],
   "source": [
    "from rudder_lambda_functions import *"
   ]
  },
  {
   "cell_type": "markdown",
   "metadata": {},
   "source": [
    "## Plotting effective rudder angle equation"
   ]
  },
  {
   "cell_type": "code",
   "execution_count": null,
   "metadata": {},
   "outputs": [],
   "source": [
    "df = pd.DataFrame()\n",
    "V = 5.0\n",
    "beta = np.deg2rad(np.linspace(-10,10,20))\n",
    "df['u_w'] = V*np.cos(beta)\n",
    "df['v_w'] = -V*np.sin(beta)\n",
    "df['delta'] = np.deg2rad(5)\n",
    "df['r_w'] = 0.0\n",
    "df['L'] = 50.0\n",
    "df['k_r'] = 0.5\n",
    "df['k_v'] = -1.0\n",
    "df['g'] = 9.81\n",
    "df['xx_rud'] = -1\n",
    "df['l_cg'] = 0\n",
    "\n",
    "\n",
    "result = df.copy()\n",
    "result['delta_e'] = effective_rudder_angle_function(**df)\n",
    "result['delta_e_deg'] = np.rad2deg(result['delta_e'])\n",
    "result['beta_deg'] = np.rad2deg(beta)\n",
    "\n",
    "result.plot(x = 'beta_deg',y = 'delta_e_deg');"
   ]
  },
  {
   "cell_type": "code",
   "execution_count": null,
   "metadata": {},
   "outputs": [],
   "source": [
    "df = pd.DataFrame()\n",
    "V = 5.0\n",
    "beta = np.deg2rad(np.linspace(-10,10,20))\n",
    "df['u_w'] = V*np.cos(beta)\n",
    "df['v_w'] = -V*np.sin(beta)\n",
    "df['delta'] = np.deg2rad(5)\n",
    "df['r_w'] = 0.0\n",
    "df['L'] = 50.0\n",
    "df['k_r'] = 0\n",
    "df['k_v'] = 0\n",
    "df['g'] = 9.81\n",
    "df['xx_rud'] = -1\n",
    "df['l_cg'] = 0\n",
    "\n",
    "\n",
    "result = df.copy()\n",
    "result['delta_e'] = effective_rudder_angle_function(**df)\n",
    "result['delta_e_deg'] = np.rad2deg(result['delta_e'])\n",
    "result['beta_deg'] = np.rad2deg(beta)\n",
    "\n",
    "result.plot(x = 'beta_deg',y = 'delta_e_deg');"
   ]
  },
  {
   "cell_type": "code",
   "execution_count": null,
   "metadata": {},
   "outputs": [],
   "source": [
    "df = pd.DataFrame()\n",
    "df['r_w'] = np.linspace(-0.3,0.3,20)\n",
    "df['delta'] = 0.1\n",
    "df['u_w'] = 5.0\n",
    "df['v_w'] = 0.0\n",
    "df['L'] = 50.0\n",
    "df['k_r'] = 0.5\n",
    "df['k_v'] = 0.5\n",
    "df['g'] = 9.81\n",
    "df['xx_rud'] = -1\n",
    "df['l_cg'] = 0\n",
    "\n",
    "\n",
    "result = df.copy()\n",
    "result['delta_e'] = effective_rudder_angle_function(**df)\n",
    "\n",
    "result.plot(x = 'r_w',y = 'delta_e');"
   ]
  },
  {
   "cell_type": "markdown",
   "metadata": {},
   "source": [
    "## Plotting the total sway rudder equation"
   ]
  },
  {
   "cell_type": "code",
   "execution_count": null,
   "metadata": {},
   "outputs": [],
   "source": [
    "df = pd.DataFrame()\n",
    "df['delta'] = np.linspace(-0.3,0.3,10)\n",
    "df['T_prop'] = 1.0\n",
    "df['n_prop'] = 1.0\n",
    "df['u_w'] = 5.0\n",
    "df['v_w'] = 0.0\n",
    "df['r_w'] = 0.0\n",
    "df['rho'] = 1025\n",
    "df['L'] = 1.0\n",
    "df['k_r'] = 1.0\n",
    "df['k_v'] = 1.0\n",
    "df['g'] = 9.81\n",
    "df['disp'] = 23.0\n",
    "df['s'] = 0\n",
    "df['Y_Tdelta'] = 1.0\n",
    "df['Y_uudelta'] = 1.0\n",
    "df['xx_rud'] = -1\n",
    "df['l_cg'] = 0\n",
    "\n",
    "\n",
    "result = df.copy()\n",
    "result['fy'] = rudder_total_sway_function(**df)\n",
    "\n",
    "result.plot(x = 'delta',y = 'fy');"
   ]
  },
  {
   "cell_type": "markdown",
   "metadata": {},
   "source": [
    "### Plotting with coefficients from a real seaman ship model"
   ]
  },
  {
   "cell_type": "code",
   "execution_count": null,
   "metadata": {},
   "outputs": [],
   "source": [
    "import generate_input\n",
    "ship_file_path='test_ship.ship'\n",
    "shipdict = seaman.ShipDict.load(ship_file_path)"
   ]
  },
  {
   "cell_type": "code",
   "execution_count": null,
   "metadata": {},
   "outputs": [],
   "source": [
    "df = pd.DataFrame()\n",
    "df['delta'] = np.deg2rad(np.linspace(-35,35,20))\n",
    "df['T_prop'] = 10*10**6\n",
    "df['n_prop'] = 1\n",
    "df['u_w'] = 5.0\n",
    "df['v_w'] = 0.0\n",
    "df['r_w'] = 0.0\n",
    "df['rho'] = 1025\n",
    "df['g'] = 9.81\n",
    "\n",
    "df_input = generate_input.add_shipdict_inputs(lambda_function=rudder_total_sway_function,\n",
    "                                              shipdict = shipdict,\n",
    "                                              df = df,)\n",
    "df_input"
   ]
  },
  {
   "cell_type": "code",
   "execution_count": null,
   "metadata": {},
   "outputs": [],
   "source": [
    "result = df_input.copy()\n",
    "result['fy'] = rudder_total_sway_function(**df_input)"
   ]
  },
  {
   "cell_type": "code",
   "execution_count": null,
   "metadata": {},
   "outputs": [],
   "source": [
    "result.plot(x = 'delta',y = 'fy');"
   ]
  },
  {
   "cell_type": "markdown",
   "metadata": {},
   "source": [
    "## Plotting the total rudder drag equation"
   ]
  },
  {
   "cell_type": "code",
   "execution_count": null,
   "metadata": {},
   "outputs": [],
   "source": [
    "df = pd.DataFrame()\n",
    "df['delta'] = np.linspace(-0.3,0.3,20)\n",
    "df['T'] = 1.0\n",
    "df['u_w'] = 5.0\n",
    "df['v_w'] = 0.0\n",
    "df['r_w'] = 0.0\n",
    "df['rho'] = 1025\n",
    "df['L'] = 1.0\n",
    "df['k_r'] = 1.0\n",
    "df['k_v'] = 1.0\n",
    "df['g'] = 9.81\n",
    "df['disp'] = 23.0\n",
    "df['s'] = 0\n",
    "df['Y_Tdelta'] = 1.0\n",
    "df['Y_uudelta'] = 1.0\n",
    "df['X_Yrdelta'] = -1.0\n",
    "df['xx_rud'] = -1\n",
    "df['l_cg'] = 0\n",
    "\n",
    "\n",
    "\n",
    "result = df.copy()\n",
    "result['fx'] = rudder_drag_function(**df)\n",
    "\n",
    "result.plot(x = 'delta',y = 'fx');"
   ]
  },
  {
   "cell_type": "markdown",
   "metadata": {},
   "source": [
    "Real seaman has a maximum effective rudder angle 0.61 rad for the rudder drag, which is why seaman gives different result for really large drift angles or yaw rates:"
   ]
  },
  {
   "cell_type": "code",
   "execution_count": null,
   "metadata": {},
   "outputs": [],
   "source": [
    "df = pd.DataFrame()\n",
    "df['delta'] = np.deg2rad(np.linspace(-45,45,50))\n",
    "df['T'] = 10*10**6\n",
    "df['u_w'] = 5.0\n",
    "df['v_w'] = 0.0\n",
    "df['r_w'] = 0.0\n",
    "df['rho'] = 1025\n",
    "df['g'] = 9.81\n",
    "\n",
    "result_comparison = run_real_seaman.compare_with_seaman(lambda_function=rudder_drag_function,\n",
    "                                                        shipdict = shipdict,\n",
    "                                                        df = df,\n",
    "                                                        label='fx',\n",
    "                                                        seaman_function = run_real_seaman.calculate_static_ship_rudder)\n",
    "\n",
    "fig,ax = plt.subplots()\n",
    "result_comparison.plot(x = 'delta',y = ['fx','fx_seaman'],ax = ax)\n",
    "ax.set_title('Rudder angle variation');"
   ]
  },
  {
   "cell_type": "code",
   "execution_count": null,
   "metadata": {},
   "outputs": [],
   "source": [
    "df = pd.DataFrame()\n",
    "df['v_w'] = (np.linspace(-10,10,20))\n",
    "df['delta'] = 0\n",
    "df['T'] = 10*10**6\n",
    "df['u_w'] = 5.0\n",
    "df['r_w'] = 0.0\n",
    "df['rho'] = 1025\n",
    "df['g'] = 9.81\n",
    "\n",
    "result_comparison = run_real_seaman.compare_with_seaman(lambda_function=rudder_drag_function,\n",
    "                                                        shipdict = shipdict,\n",
    "                                                        df = df,\n",
    "                                                        label='fx',\n",
    "                                                        seaman_function = run_real_seaman.calculate_static_ship_rudder)\n",
    "\n",
    "fig,ax = plt.subplots()\n",
    "result_comparison.plot(x = 'v_w',y = ['fx','fx_seaman'],ax = ax)\n",
    "ax.set_title('Rudder drift angle variation');"
   ]
  },
  {
   "cell_type": "code",
   "execution_count": null,
   "metadata": {},
   "outputs": [],
   "source": [
    "df = pd.DataFrame()\n",
    "df['r_w'] = (np.linspace(-0.05,0.05,20))\n",
    "df['delta'] = 0\n",
    "df['T'] = 10*10**6\n",
    "df['u_w'] = 5.0\n",
    "df['v_w'] = 0.0\n",
    "df['rho'] = 1025\n",
    "df['g'] = 9.81\n",
    "\n",
    "result_comparison = run_real_seaman.compare_with_seaman(lambda_function=rudder_drag_function,\n",
    "                                                        shipdict = shipdict,\n",
    "                                                        df = df,\n",
    "                                                        label='fx',\n",
    "                                                        seaman_function = run_real_seaman.calculate_static_ship_rudder)\n",
    "\n",
    "fig,ax = plt.subplots()\n",
    "result_comparison.plot(x = 'r_w',y = ['fx','fx_seaman'],ax = ax)\n",
    "ax.set_title('Rudder yaw rate variation');"
   ]
  },
  {
   "cell_type": "markdown",
   "metadata": {},
   "source": [
    "## Plotting the rudder yawing moment equation"
   ]
  },
  {
   "cell_type": "code",
   "execution_count": null,
   "metadata": {},
   "outputs": [],
   "source": [
    "df = pd.DataFrame()\n",
    "df['delta'] = np.deg2rad(np.linspace(-35,35,20))\n",
    "df['T'] = 10*10**6\n",
    "df['u_w'] = 5.0\n",
    "df['v_w'] = 0.0\n",
    "df['r_w'] = 0.0\n",
    "df['rho'] = 1025\n",
    "df['g'] = 9.81\n",
    "\n",
    "result_comparison = run_real_seaman.compare_with_seaman(lambda_function=rudder_yawing_moment_function,\n",
    "                                                        shipdict = shipdict,\n",
    "                                                        df = df,\n",
    "                                                        label='mz',\n",
    "                                                        seaman_function = run_real_seaman.calculate_static_ship)\n",
    "\n",
    "fig,ax = plt.subplots()\n",
    "result_comparison.plot(x = 'delta',y = ['mz','mz_seaman'],ax = ax)\n",
    "ax.set_title('Rudder angle variation');"
   ]
  },
  {
   "cell_type": "markdown",
   "metadata": {},
   "source": [
    "## Plotting the rudder roll moment equation"
   ]
  },
  {
   "cell_type": "code",
   "execution_count": null,
   "metadata": {},
   "outputs": [],
   "source": [
    "df = pd.DataFrame()\n",
    "df['delta'] = np.deg2rad(np.linspace(-35,35,20))\n",
    "df['T'] = 10*10**6\n",
    "df['u_w'] = 5.0\n",
    "df['v_w'] = 0.0\n",
    "df['r_w'] = 0.0\n",
    "df['rho'] = 1025\n",
    "df['g'] = 9.81\n",
    "\n",
    "result_comparison = run_real_seaman.compare_with_seaman(lambda_function=rudder_roll_moment_function,\n",
    "                                                        shipdict = shipdict,\n",
    "                                                        df = df,\n",
    "                                                        label='mx',\n",
    "                                                        seaman_function = run_real_seaman.calculate_static_ship)\n",
    "\n",
    "fig,ax = plt.subplots()\n",
    "result_comparison.plot(x = 'delta',y = ['mx','mx_seaman'],ax = ax)\n",
    "ax.set_title('Rudder angle variation');"
   ]
  },
  {
   "cell_type": "code",
   "execution_count": null,
   "metadata": {},
   "outputs": [],
   "source": [
    "shipdict.rudder_particulars"
   ]
  },
  {
   "cell_type": "code",
   "execution_count": null,
   "metadata": {},
   "outputs": [],
   "source": [
    "%connect_info"
   ]
  },
  {
   "cell_type": "code",
   "execution_count": null,
   "metadata": {},
   "outputs": [],
   "source": []
  }
 ],
 "metadata": {
  "kernelspec": {
   "display_name": "Python 3",
   "language": "python",
   "name": "python3"
  },
  "language_info": {
   "codemirror_mode": {
    "name": "ipython",
    "version": 3
   },
   "file_extension": ".py",
   "mimetype": "text/x-python",
   "name": "python",
   "nbconvert_exporter": "python",
   "pygments_lexer": "ipython3",
   "version": "3.8.7"
  }
 },
 "nbformat": 4,
 "nbformat_minor": 4
}
