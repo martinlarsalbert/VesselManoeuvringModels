{
 "cells": [
  {
   "cell_type": "markdown",
   "metadata": {},
   "source": [
    "# Exploring the static force model in Seaman"
   ]
  },
  {
   "cell_type": "code",
   "execution_count": null,
   "metadata": {},
   "outputs": [],
   "source": [
    "%load_ext autoreload\n",
    "%autoreload 2\n",
    "%matplotlib inline"
   ]
  },
  {
   "cell_type": "code",
   "execution_count": null,
   "metadata": {},
   "outputs": [],
   "source": [
    "import sympy as sp\n",
    "from sympy.plotting import plot as plot\n",
    "from sympy.plotting import plot3d as plot3d\n",
    "import pandas as pd\n",
    "import numpy as np\n",
    "import matplotlib.pyplot as plt\n",
    "\n",
    "import seaman.helpers\n",
    "import seaman_symbol as ss\n",
    "import total_equations as equations\n",
    "import total_lambda_functions as lambda_functions\n",
    "\n",
    "sp.init_printing()"
   ]
  },
  {
   "cell_type": "markdown",
   "metadata": {},
   "source": [
    "## Coordinate system\n",
    "In the static force model forces and moments are referred to a righthanded\n",
    "coordinate system with 4 degrees of freedom (surge, sway,roll, yaw) with origin in L/2, in the centre line of the ship and\n",
    "vertically in the mean water line:\n",
    "\n",
    "$\\left[\\frac{L}{2},0,t_m\\right]$\n",
    "\n",
    "* X : forces in ship heading direction\n",
    "* Y : forces perpendicular to ship heading direction on the water plane. \n",
    "**Note!** Y direction is not changing with roll.\n",
    "* P : moment around X\n",
    "* N : moment around Z\n",
    "\n",
    "Ship motions in time domain simulations are however referred to CG.\n",
    "\n",
    "![coordinate_system](coordinate_system.png)"
   ]
  },
  {
   "cell_type": "markdown",
   "metadata": {},
   "source": [
    "## Nomenclature\n",
    "The following symbols are used in this documentation:"
   ]
  },
  {
   "cell_type": "code",
   "execution_count": null,
   "metadata": {},
   "outputs": [],
   "source": [
    "import seaman_symbols\n",
    "from IPython.core.display import HTML"
   ]
  },
  {
   "cell_type": "code",
   "execution_count": null,
   "metadata": {},
   "outputs": [],
   "source": [
    "symbols = [item for key,item in seaman_symbols.__dict__.items()]"
   ]
  },
  {
   "cell_type": "code",
   "execution_count": null,
   "metadata": {},
   "outputs": [],
   "source": [
    "HTML(ss.create_html_table(symbols=symbols))"
   ]
  },
  {
   "cell_type": "markdown",
   "metadata": {},
   "source": [
    "## Bis system\n",
    "The bis system is used in Seaman to make physical quantities nondimensional. The denominators in the table below is used. The quantities are denoted with a '' sign when they are in bis units, otherwise they are in SI units.    "
   ]
  },
  {
   "cell_type": "code",
   "execution_count": null,
   "metadata": {},
   "outputs": [],
   "source": [
    "from bis_system import BisSystem"
   ]
  },
  {
   "cell_type": "code",
   "execution_count": null,
   "metadata": {},
   "outputs": [],
   "source": [
    "\n",
    "HTML(BisSystem.html_table())"
   ]
  },
  {
   "cell_type": "markdown",
   "metadata": {},
   "source": [
    "## Bis example\n",
    "Suppose that we have a force $Y''$ that can be calculated from linear velocity $x''$ multiplied with some kind of nondimensional coefficient $C$:"
   ]
  },
  {
   "cell_type": "code",
   "execution_count": null,
   "metadata": {},
   "outputs": [],
   "source": [
    "l = ss.Symbol('l')\n",
    "m = ss.Symbol('m')\n",
    "C = ss.Coefficient('C')\n",
    "\n",
    "x = ss.Bis('x',denominator=BisSystem.linear_velocity)\n",
    "Y = ss.Bis('Y',denominator=BisSystem.force)\n",
    "\n",
    "eq = sp.Eq(Y.bis,C*x.bis**2)"
   ]
  },
  {
   "cell_type": "code",
   "execution_count": null,
   "metadata": {},
   "outputs": [],
   "source": [
    "eq"
   ]
  },
  {
   "cell_type": "markdown",
   "metadata": {},
   "source": [
    "Relation between $Y$ (SI force [N]) and $Y''$ (bis force):"
   ]
  },
  {
   "cell_type": "code",
   "execution_count": null,
   "metadata": {},
   "outputs": [],
   "source": [
    "Y.bis_eq"
   ]
  },
  {
   "cell_type": "markdown",
   "metadata": {},
   "source": [
    "Relation between $x$ (SI linear velocity [m/s]) and $x''$ (bis linear velocity):"
   ]
  },
  {
   "cell_type": "code",
   "execution_count": null,
   "metadata": {},
   "outputs": [],
   "source": [
    "x.bis_eq"
   ]
  },
  {
   "cell_type": "markdown",
   "metadata": {},
   "source": [
    "**Note!** Linear velocity in bis system is the same thing as Froude Number."
   ]
  },
  {
   "cell_type": "markdown",
   "metadata": {},
   "source": [
    "The equation can be written in SI units by substitution of the bis relations above:"
   ]
  },
  {
   "cell_type": "code",
   "execution_count": null,
   "metadata": {},
   "outputs": [],
   "source": [
    "eq3 = ss.expand_bis(equation = eq)\n",
    "eq3"
   ]
  },
  {
   "cell_type": "markdown",
   "metadata": {},
   "source": [
    "## Total forces\n",
    "The total forces on the ship can be expressed as described below. \n",
    "The underlying equations are explained in:\n",
    "### Hull\n",
    "* [Surge hull equations](05_seaman_surge_hull_equation.ipynb)\n",
    "* [Sway hull equations](02_seaman_sway_hull_equation.ipynb)\n",
    "* [Yaw hull equations](03_seaman_yaw_hull_equation.ipynb)\n",
    "\n",
    "### Rudder:\n",
    "* [Rudder equations](04_seaman_rudder_equation.ipynb)\n",
    "\n"
   ]
  },
  {
   "cell_type": "markdown",
   "metadata": {},
   "source": [
    "## Surge"
   ]
  },
  {
   "cell_type": "code",
   "execution_count": null,
   "metadata": {},
   "outputs": [],
   "source": [
    "equations.surge_equation"
   ]
  },
  {
   "cell_type": "markdown",
   "metadata": {},
   "source": [
    "Expanding the surge equation (using equations for hull and rudder) and converting to SI units:"
   ]
  },
  {
   "cell_type": "code",
   "execution_count": null,
   "metadata": {},
   "outputs": [],
   "source": [
    "equations.surge_equation_expanded_SI"
   ]
  },
  {
   "cell_type": "markdown",
   "metadata": {},
   "source": [
    "## Sway"
   ]
  },
  {
   "cell_type": "code",
   "execution_count": null,
   "metadata": {},
   "outputs": [],
   "source": [
    "equations.sway_equation"
   ]
  },
  {
   "cell_type": "code",
   "execution_count": null,
   "metadata": {},
   "outputs": [],
   "source": [
    "equations.sway_equation_expanded_SI"
   ]
  },
  {
   "cell_type": "markdown",
   "metadata": {},
   "source": [
    "## Yaw"
   ]
  },
  {
   "cell_type": "code",
   "execution_count": null,
   "metadata": {},
   "outputs": [],
   "source": [
    "equations.yaw_equation"
   ]
  },
  {
   "cell_type": "code",
   "execution_count": null,
   "metadata": {},
   "outputs": [],
   "source": [
    "equations.yaw_equation_expanded_SI"
   ]
  },
  {
   "cell_type": "markdown",
   "metadata": {},
   "source": [
    "## Roll"
   ]
  },
  {
   "cell_type": "code",
   "execution_count": null,
   "metadata": {},
   "outputs": [],
   "source": [
    "equations.roll_equation"
   ]
  },
  {
   "cell_type": "code",
   "execution_count": null,
   "metadata": {},
   "outputs": [],
   "source": [
    "equations.roll_equation_expanded_SI"
   ]
  },
  {
   "cell_type": "code",
   "execution_count": null,
   "metadata": {},
   "outputs": [],
   "source": [
    "import surge_hull_equations as surge_hull_equations\n",
    "import sway_hull_equations as sway_hull_equations\n",
    "import yaw_hull_equations as yaw_hull_equations\n",
    "import roll_hull_equations as roll_hull_equations\n",
    "import rudder_equations as rudder_equations"
   ]
  },
  {
   "cell_type": "code",
   "execution_count": null,
   "metadata": {},
   "outputs": [],
   "source": [
    "from seaman_symbols import *"
   ]
  },
  {
   "cell_type": "markdown",
   "metadata": {},
   "source": [
    "## Real seaman++\n",
    "Run real seaman in C++ to verify that the documented model is correct. "
   ]
  },
  {
   "cell_type": "code",
   "execution_count": null,
   "metadata": {},
   "outputs": [],
   "source": [
    "import generate_input\n",
    "shipdict = seaman.ShipDict.load('../../tests/test_ship.ship')\n",
    "import run_real_seaman\n"
   ]
  },
  {
   "cell_type": "markdown",
   "metadata": {},
   "source": [
    "### Surge"
   ]
  },
  {
   "cell_type": "code",
   "execution_count": null,
   "metadata": {},
   "outputs": [],
   "source": [
    "%connect_info"
   ]
  },
  {
   "cell_type": "code",
   "execution_count": null,
   "metadata": {},
   "outputs": [],
   "source": [
    "df = pd.DataFrame()\n",
    "df['v_w'] = np.linspace(-3,3,20)\n",
    "df['delta'] = 0\n",
    "df['T'] = 0\n",
    "df['rho'] = 1025.0\n",
    "df['g'] = 9.81\n",
    "df['u_w'] = 5.0\n",
    "df['r_w'] = 0.0\n",
    "df['X_res'] = -np.interp(df['u_w'],shipdict.res_data['vres'],shipdict.res_data['res'])\n",
    "\n",
    "\n",
    "result_comparison = run_real_seaman.compare_with_seaman(lambda_function=lambda_functions.total_surge_function,\n",
    "                                                        shipdict = shipdict,\n",
    "                                                        df = df,\n",
    "                                                        label = 'fx',\n",
    "                                                        seaman_function=run_real_seaman.calculate_static_ship\n",
    "                                                       )\n",
    "\n",
    "fig,ax = plt.subplots()\n",
    "result_comparison.plot(x = 'v_w',y = ['fx','fx_seaman'],ax = ax)\n",
    "ax.set_title('Drift angle variation');"
   ]
  },
  {
   "cell_type": "markdown",
   "metadata": {},
   "source": [
    "Real seaman has a maximum effective rudder angle 0.61 rad for the rudder drag, which is why seaman gives different result for really large drift angles or yaw rates:"
   ]
  },
  {
   "cell_type": "code",
   "execution_count": null,
   "metadata": {},
   "outputs": [],
   "source": [
    "df = pd.DataFrame()\n",
    "df['delta'] = np.deg2rad(np.linspace(-45,45,50))\n",
    "df['r_w'] = 0\n",
    "df['T'] = 0\n",
    "df['rho'] = 1025.0\n",
    "df['g'] = 9.81\n",
    "df['u_w'] = 5.0\n",
    "df['v_w'] = 0.0\n",
    "df['X_res'] = -np.interp(df['u_w'],shipdict.res_data['vres'],shipdict.res_data['res'])\n",
    "\n",
    "result_comparison = run_real_seaman.compare_with_seaman(lambda_function=lambda_functions.total_surge_function,\n",
    "                                                        shipdict = shipdict,\n",
    "                                                        df = df,\n",
    "                                                        label = 'fx',\n",
    "                                                        seaman_function=run_real_seaman.calculate_static_ship\n",
    "                                                       )\n",
    "\n",
    "fig,ax = plt.subplots()\n",
    "result_comparison.plot(x = 'delta',y = ['fx','fx_seaman'],ax = ax)\n",
    "ax.set_title('Rudder angle variation');"
   ]
  },
  {
   "cell_type": "code",
   "execution_count": null,
   "metadata": {},
   "outputs": [],
   "source": [
    "df = pd.DataFrame()\n",
    "df['r_w'] = np.linspace(-0.05,0.05,20)\n",
    "df['delta'] = 0\n",
    "df['T'] = 0\n",
    "df['rho'] = 1025.0\n",
    "df['g'] = 9.81\n",
    "df['u_w'] = 5.0\n",
    "df['v_w'] = 0.0\n",
    "df['X_res'] = -np.interp(df['u_w'],shipdict.res_data['vres'],shipdict.res_data['res'])\n",
    "\n",
    "shipdict2 = shipdict.copy()\n",
    "#shipdict2.design_particulars['lcg'] = 0.0  \n",
    "\n",
    "\n",
    "df_input = generate_input.add_shipdict_inputs(lambda_function=lambda_functions.total_surge_function,\n",
    "                                                  shipdict=shipdict2,\n",
    "                                                  df=df)\n",
    "\n",
    "\n",
    "\n",
    "result_comparison = run_real_seaman.compare_with_seaman(lambda_function=lambda_functions.total_surge_function,\n",
    "                                                        shipdict = shipdict2,\n",
    "                                                        df = df,\n",
    "                                                        label = 'fx',\n",
    "                                                        seaman_function=run_real_seaman.calculate_static_ship\n",
    "                                                       )\n",
    "\n",
    "fig,ax = plt.subplots()\n",
    "result_comparison.plot(x = 'r_w',y = ['fx','fx_seaman'],ax = ax)\n",
    "ax.set_title('Yaw rate variation');"
   ]
  },
  {
   "cell_type": "code",
   "execution_count": null,
   "metadata": {},
   "outputs": [],
   "source": [
    "result_comparison['fx']"
   ]
  },
  {
   "cell_type": "code",
   "execution_count": null,
   "metadata": {},
   "outputs": [],
   "source": [
    "df_input.head()"
   ]
  },
  {
   "cell_type": "markdown",
   "metadata": {},
   "source": [
    "### Sway"
   ]
  },
  {
   "cell_type": "code",
   "execution_count": null,
   "metadata": {},
   "outputs": [],
   "source": [
    "df = pd.DataFrame()\n",
    "df['v_w'] = np.linspace(-6,6,20)\n",
    "df['delta'] = 0\n",
    "df['T'] = 0\n",
    "df['rho'] = 1025.0\n",
    "df['g'] = 9.81\n",
    "df['u_w'] = 5.0\n",
    "df['r_w'] = 0.0\n",
    "\n",
    "result_comparison = run_real_seaman.compare_with_seaman(lambda_function=lambda_functions.total_sway_function,\n",
    "                                                        shipdict = shipdict,\n",
    "                                                        df = df,\n",
    "                                                        label = 'fy',\n",
    "                                                        seaman_function=run_real_seaman.calculate_static_ship\n",
    "                                                       )\n",
    "\n",
    "fig,ax = plt.subplots()\n",
    "result_comparison.plot(x = 'v_w',y = ['fy','fy_seaman'],ax = ax)\n",
    "ax.set_title('Drift angle variation');"
   ]
  },
  {
   "cell_type": "code",
   "execution_count": null,
   "metadata": {},
   "outputs": [],
   "source": [
    "%connect_info"
   ]
  },
  {
   "cell_type": "code",
   "execution_count": null,
   "metadata": {},
   "outputs": [],
   "source": [
    "df = pd.DataFrame()\n",
    "df['r_w'] = np.linspace(-0.1,0.1,20)\n",
    "df['delta'] = 0\n",
    "df['T'] = 0\n",
    "df['rho'] = 1025.0\n",
    "df['g'] = 9.81\n",
    "df['u_w'] = 5.0\n",
    "df['v_w'] = 0.0\n",
    "\n",
    "shipdict2 = shipdict.copy()\n",
    "#shipdict2.design_particulars['lcg'] = 0  # Something strange with lcg in Seaman?\n",
    "\n",
    "result_comparison = run_real_seaman.compare_with_seaman(lambda_function=lambda_functions.total_sway_function,\n",
    "                                                        shipdict = shipdict2,\n",
    "                                                        df = df,\n",
    "                                                        label = 'fy',\n",
    "                                                        seaman_function=run_real_seaman.calculate_static_ship\n",
    "                                                       )\n",
    "\n",
    "fig,ax = plt.subplots()\n",
    "result_comparison.plot(x = 'r_w',y = ['fy','fy_seaman'],ax = ax)\n",
    "ax.set_title('Yaw rate variation');\n",
    "\n",
    "fig,ax = plt.subplots()\n",
    "result_comparison.plot(x = 'r_w',y = ['fy_rudders_seaman'],ax = ax)\n",
    "ax.set_title('Yaw rate variation Rudder');\n",
    "\n",
    "\n"
   ]
  },
  {
   "cell_type": "code",
   "execution_count": null,
   "metadata": {},
   "outputs": [],
   "source": [
    "df = pd.DataFrame()\n",
    "df['delta'] = np.deg2rad(np.linspace(-45,45,20))\n",
    "df['r_w'] = 0\n",
    "df['T'] = 0\n",
    "df['rho'] = 1025.0\n",
    "df['g'] = 9.81\n",
    "df['u_w'] = 5.0\n",
    "df['v_w'] = 0.0\n",
    "\n",
    "shipdict2 = shipdict.copy()\n",
    "#shipdict2.rudder_coeff_data['s'] = 0\n",
    "\n",
    "result_comparison = run_real_seaman.compare_with_seaman(lambda_function=lambda_functions.total_sway_function,\n",
    "                                                        shipdict = shipdict2,\n",
    "                                                        df = df,\n",
    "                                                        label = 'fy',\n",
    "                                                        seaman_function=run_real_seaman.calculate_static_ship\n",
    "                                                       )\n",
    "\n",
    "fig,ax = plt.subplots()\n",
    "result_comparison.plot(x = 'delta',y = ['fy','fy_seaman'],ax = ax)\n",
    "ax.set_title('Rudder angle variation');"
   ]
  },
  {
   "cell_type": "markdown",
   "metadata": {},
   "source": [
    "### Yaw"
   ]
  },
  {
   "cell_type": "code",
   "execution_count": null,
   "metadata": {},
   "outputs": [],
   "source": [
    "df = pd.DataFrame()\n",
    "df['v_w'] = np.linspace(-2,2,20)\n",
    "df['delta'] = 0\n",
    "df['T'] = 0\n",
    "df['rho'] = 1025.0\n",
    "df['g'] = 9.81\n",
    "df['u_w'] = 5.0\n",
    "df['r_w'] = 0.0\n",
    "df['Cd_lever'] = 0.0\n",
    "shipdict2 = shipdict.copy()\n",
    "#shipdict2.rudder_coeff_data['s'] = 0\n",
    "\n",
    "result_comparison = run_real_seaman.compare_with_seaman(lambda_function=lambda_functions.total_yaw_function,\n",
    "                                                        shipdict = shipdict2,\n",
    "                                                        df = df,\n",
    "                                                        label = 'mz',\n",
    "                                                        seaman_function=run_real_seaman.calculate_static_ship\n",
    "                                                       )\n",
    "\n",
    "fig,ax = plt.subplots()\n",
    "result_comparison.plot(x = 'v_w',y = ['mz','mz_seaman'],ax = ax)\n",
    "ax.set_title('Drift angle variation');\n",
    "ax.grid()"
   ]
  },
  {
   "cell_type": "code",
   "execution_count": null,
   "metadata": {},
   "outputs": [],
   "source": [
    "df = pd.DataFrame()\n",
    "df['delta'] = np.deg2rad(np.linspace(-20,20,20))\n",
    "df['v_w'] = 0\n",
    "df['T'] = 0\n",
    "df['rho'] = 1025.0\n",
    "df['g'] = 9.81\n",
    "df['u_w'] = 5.0\n",
    "df['r_w'] = 0.0\n",
    "df['Cd_lever'] = 0\n",
    "\n",
    "result_comparison = run_real_seaman.compare_with_seaman(lambda_function=lambda_functions.total_yaw_function,\n",
    "                                                        shipdict = shipdict,\n",
    "                                                        df = df,\n",
    "                                                        label = 'mz',\n",
    "                                                        seaman_function=run_real_seaman.calculate_static_ship\n",
    "                                                       )\n",
    "\n",
    "fig,ax = plt.subplots()\n",
    "result_comparison.plot(x = 'delta',y = ['mz','mz_seaman'],ax = ax)\n",
    "ax.set_title('Rudder angle variation');"
   ]
  },
  {
   "cell_type": "markdown",
   "metadata": {},
   "source": [
    "### Roll"
   ]
  },
  {
   "cell_type": "code",
   "execution_count": null,
   "metadata": {},
   "outputs": [],
   "source": [
    "%connect_info"
   ]
  },
  {
   "cell_type": "code",
   "execution_count": null,
   "metadata": {},
   "outputs": [],
   "source": [
    "df = pd.DataFrame()\n",
    "df['delta'] = np.deg2rad(np.linspace(-5,5,20))\n",
    "df['v_w'] = 0\n",
    "df['T'] = 0\n",
    "df['rho'] = 1025.0\n",
    "df['g'] = 9.81\n",
    "df['u_w'] = 5.0\n",
    "df['r_w'] = 0.0\n",
    "df['p'] = 0\n",
    "df['Cd_lever'] = 0\n",
    "\n",
    "result_comparison = run_real_seaman.compare_with_seaman(lambda_function=lambda_functions.total_roll_function,\n",
    "                                                        shipdict = shipdict,\n",
    "                                                        df = df,\n",
    "                                                        label = 'mx',\n",
    "                                                        seaman_function=run_real_seaman.calculate_static_ship\n",
    "                                                       )\n",
    "\n",
    "fig,ax = plt.subplots()\n",
    "result_comparison.plot(x = 'delta',y = ['mx','mx_seaman'],ax = ax)\n",
    "ax.set_title('Rudder angle variation');"
   ]
  },
  {
   "cell_type": "code",
   "execution_count": null,
   "metadata": {},
   "outputs": [],
   "source": [
    "df = pd.DataFrame()\n",
    "df['beta'] = np.deg2rad(np.linspace(-20,20,20))\n",
    "df['V'] = V = 5.0\n",
    "df['u_w'] = V*np.cos(df['beta'])\n",
    "df['v_w'] = -V*np.sin(df['beta'])\n",
    " \n",
    "df['delta'] = 0\n",
    "df['T'] = 0\n",
    "df['rho'] = 1025.0\n",
    "df['g'] = 9.81\n",
    "df['r_w'] = 0.0\n",
    "df['p'] = 0\n",
    "df['Cd_lever'] = 0\n",
    "\n",
    "shipdict2 = shipdict.copy()\n",
    "#shipdict2.rudder_coeff_data['s'] = 0\n",
    "#shipdict2.non_lin_coeff_data['cd'] = 3\n",
    "\n",
    "\n",
    "result_comparison = run_real_seaman.compare_with_seaman(lambda_function=lambda_functions.total_roll_function,\n",
    "                                                        shipdict = shipdict2,\n",
    "                                                        df = df,\n",
    "                                                        label = 'mx',\n",
    "                                                        seaman_function=run_real_seaman.calculate_static_ship\n",
    "                                                       )\n",
    "\n",
    "fig,ax = plt.subplots()\n",
    "result_comparison.plot(x = 'v_w',y = ['mx','mx_seaman'],ax = ax)\n",
    "ax.set_title('Drift angle variation');"
   ]
  },
  {
   "cell_type": "code",
   "execution_count": null,
   "metadata": {},
   "outputs": [],
   "source": []
  }
 ],
 "metadata": {
  "kernelspec": {
   "display_name": "Python 3",
   "language": "python",
   "name": "python3"
  },
  "language_info": {
   "codemirror_mode": {
    "name": "ipython",
    "version": 3
   },
   "file_extension": ".py",
   "mimetype": "text/x-python",
   "name": "python",
   "nbconvert_exporter": "python",
   "pygments_lexer": "ipython3",
   "version": "3.5.4"
  }
 },
 "nbformat": 4,
 "nbformat_minor": 2
}
