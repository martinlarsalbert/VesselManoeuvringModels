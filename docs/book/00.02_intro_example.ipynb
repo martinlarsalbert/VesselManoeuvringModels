{
    "cells": [
        {
            "cell_type": "markdown",
            "metadata": {},
            "source": [
                "## Introduction example\n",
                "Expressing the dynamics of a ship as an Ordinary Differential Equation (ODE) is a well established technique. The ODE can be solved as an initial value problem with integration of accelerations and velocities to obtain a ship's trajectory. This is commonly known as a simulation. The workflow of a simulation is to first establish a force model that can estimate the hydrodynamic forces as function of the current state. Accelerations can then be calculated from these forces together with the mass. The velocities and positions can then be determined with time integration of the acceleration.\n",
                "\n",
                "Let's exemplify this with a simple problem, simulated a ball being dropped in air.\n",
                "The forces acting on this ball will be the drag from the air, which is modelled as: $C_d \\cdot \\dot{x}^2$ and the gravity, which is modelled as $g \\cdot m$:"
            ]
        },
        {
            "cell_type": "code",
            "execution_count": null,
            "metadata": {
                "tags": [
                    "remove-cell"
                ]
            },
            "outputs": [],
            "source": [
                "# %load imports.py\n",
                "## Local packages:\n",
                "\n",
                "%matplotlib inline\n",
                "%load_ext autoreload\n",
                "%autoreload 2\n",
                "%config Completer.use_jedi = False  ## (To fix autocomplete)\n",
                "\n",
                "## External packages:\n",
                "import pandas as pd\n",
                "pd.options.display.max_rows = 999\n",
                "pd.options.display.max_columns = 999\n",
                "pd.set_option(\"display.max_columns\", None)\n",
                "\n",
                "import numpy as np\n",
                "import os\n",
                "import matplotlib.pyplot as plt\n",
                "#if os.name == 'nt':\n",
                "#    plt.style.use('presentation.mplstyle')  # Windows\n",
                "\n",
                "import plotly.express as px \n",
                "import plotly.graph_objects as go\n",
                "\n",
                "import seaborn as sns\n",
                "import sympy as sp\n",
                "from sympy.physics.mechanics import (dynamicsymbols, ReferenceFrame,\n",
                "                                      Particle, Point)\n",
                "from sympy.physics.vector.printing import vpprint, vlatex\n",
                "from IPython.display import display, Math, Latex, Markdown\n",
                "from vessel_manoeuvring_models.substitute_dynamic_symbols import run, lambdify\n",
                "\n",
                "import pyro\n",
                "\n",
                "import sklearn\n",
                "import pykalman\n",
                "from statsmodels.sandbox.regression.predstd import wls_prediction_std\n",
                "import statsmodels.api as sm\n",
                "\n",
                "from scipy.integrate import solve_ivp\n",
                "\n",
                "## Local packages:\n",
                "from vessel_manoeuvring_models.data import mdl\n",
                "\n",
                "from vessel_manoeuvring_models.symbols import *\n",
                "from vessel_manoeuvring_models.parameters import *\n",
                "import vessel_manoeuvring_models.symbols as symbols\n",
                "from vessel_manoeuvring_models import prime_system\n",
                "from vessel_manoeuvring_models.models import regression\n",
                "from vessel_manoeuvring_models.visualization.regression import show_pred\n",
                "from vessel_manoeuvring_models.visualization.plot import track_plot\n",
                "from vessel_manoeuvring_models.equation import Equation\n",
                "\n",
                "## Load models:\n",
                "# (Uncomment these for faster loading):\n",
                "import vessel_manoeuvring_models.models.vmm_abkowitz  as vmm_abkowitz "
            ]
        },
        {
            "cell_type": "code",
            "execution_count": null,
            "metadata": {
                "tags": [
                    "remove-input"
                ]
            },
            "outputs": [],
            "source": [
                "x = dynamicsymbols('x')\n",
                "m,F,C_d,g = sp.symbols('m F C_d g')\n",
                "\n",
                "eq_kinetics = sp.Eq(F, -m*g + C_d*x.diff()**2)\n",
                "Math(vlatex(eq_kinetics))"
            ]
        },
        {
            "cell_type": "markdown",
            "metadata": {},
            "source": [
                "The kinematics connecting the forces to motion can be described with Newtons 2nd law:"
            ]
        },
        {
            "cell_type": "code",
            "execution_count": null,
            "metadata": {
                "tags": [
                    "remove-input"
                ]
            },
            "outputs": [],
            "source": [
                "eq_kinematics = sp.Eq(F, m*x.diff().diff())\n",
                "Math(vlatex(eq_kinematics))"
            ]
        },
        {
            "cell_type": "markdown",
            "metadata": {},
            "source": [
                "The acceleration can then be calculated using these two equations:"
            ]
        },
        {
            "cell_type": "code",
            "execution_count": null,
            "metadata": {
                "tags": [
                    "remove-input"
                ]
            },
            "outputs": [],
            "source": [
                "eqs=[eq_kinetics,eq_kinematics]\n",
                "solution = sp.solve(eqs, x.diff().diff(), m, F, dict=True)[0]\n",
                "eq_acc = sp.Eq(x.diff().diff(),solution[x.diff().diff()])\n",
                "Math(vlatex(eq_acc))"
            ]
        },
        {
            "cell_type": "markdown",
            "metadata": {},
            "source": [
                "This equation can be used to simulate the motion of the ball, by doing a time step integration of this initial value problem."
            ]
        },
        {
            "cell_type": "code",
            "execution_count": null,
            "metadata": {
                "tags": [
                    "hide-input"
                ]
            },
            "outputs": [],
            "source": [
                "from scipy.integrate import solve_ivp\n",
                "\n",
                "acceleration_lambda = lambdify(eq_acc.rhs)\n",
                "\n",
                "inputs={\n",
                "'C_d' : 0.01,\n",
                "'g' : 9.81,\n",
                "'m' : 1,\n",
                "}\n",
                "\n",
                "def step(t,states, inputs):\n",
                "\n",
                "    x1d = states[1]\n",
                "    x2d = acceleration_lambda(**inputs, x1d=x1d)\n",
                "\n",
                "    dstates = [x1d, x2d]\n",
                "    return dstates\n",
                "\n",
                "t_ = np.linspace(0,10,100)\n",
                "y0 = [\n",
                "    0,0\n",
                "]\n",
                "solution = solve_ivp(fun=step, y0=y0, t_span=[t_[0],t_[-1]], t_eval=t_, args=(inputs,))\n",
                "\n",
                "df_result = pd.DataFrame(solution.y.T, index=solution.t, columns=['x','x1d'])\n",
                "\n",
                "fig,axes=plt.subplots(nrows=2)\n",
                "ax=axes[0]\n",
                "df_result.plot(y='x', label='$x$ [m]', ax=ax)\n",
                "\n",
                "ax.set_title('Ball position')\n",
                "\n",
                "ax=axes[1]\n",
                "df_result.plot(y='x1d', label='$\\dot{x}$ [m/s]', ax=axes[1])\n",
                "ax.set_title('Ball velocity [m/s]')\n",
                "ax.set_xlabel('time [s]')\n",
                "\n",
                "for ax in axes:\n",
                "    ax.grid(True)\n",
                "plt.tight_layout()\n",
                "\n"
            ]
        },
        {
            "cell_type": "markdown",
            "metadata": {},
            "source": [
                "This toy example is very simple, but is showing the basic idea behind time simulation of dynamic systems, which is often used to simualte the ship dynamics. The following physical parameters were used in the simulation above:"
            ]
        },
        {
            "cell_type": "code",
            "execution_count": null,
            "metadata": {
                "tags": [
                    "remove-input"
                ]
            },
            "outputs": [],
            "source": [
                "for coeff in [C_d,g,m]:\n",
                "    display(sp.Eq(coeff,inputs[str(coeff)]))"
            ]
        },
        {
            "cell_type": "markdown",
            "metadata": {},
            "source": [
                "## Reversing the problem"
            ]
        },
        {
            "cell_type": "markdown",
            "metadata": {},
            "source": [
                "This research is however about [Inverse dynamics](https://en.wikipedia.org/wiki/Inverse_dynamics), which is reversing the problem above. Instead of estimating a ships trajectory with a force model, we want to identify this force model, by using a measured ship trajectory. This is very useful when you want to fit a mathematical model to the measured ship motion, either obtained from ship model test or the real ship in full scale operation. The latter is something that today is becoming more and more relevant as more and more operational data is measure and recorded onboard the ships."
            ]
        },
        {
            "cell_type": "markdown",
            "metadata": {},
            "source": [
                "### Example\n",
                "Let's reverse the simple ball drop example above by trying to identify the drag coefficient $C_d$ and graviational constant $g$ based on a measured motion of the ball. We will pretend that the simulated motion above is a measurement.\n",
                "\n",
                "The equation for the forces acting on the ball can be expressed as s regression problem:\n",
                "\n",
                "$ y = X \\cdot \\beta + \\epsilon $\n",
                "\n",
                "Where $X$ is a matrix with features and $\\beta$ is a a vector with the parameters that should be regressed. $\\epsilon$ is the prediction error. For the current problem the force equation is rewritten as a regression problem below:\n"
            ]
        },
        {
            "cell_type": "code",
            "execution_count": null,
            "metadata": {
                "tags": [
                    "remove-input"
                ]
            },
            "outputs": [],
            "source": [
                "diff_eq = regression.DiffEqToMatrix(ode=eq_kinetics, label=F, base_features=[x])\n",
                "Math(vlatex(diff_eq.acceleration_equation))"
            ]
        },
        {
            "cell_type": "code",
            "execution_count": null,
            "metadata": {
                "tags": [
                    "remove-input"
                ]
            },
            "outputs": [],
            "source": [
                "Math(vlatex(diff_eq.eq_X))"
            ]
        },
        {
            "cell_type": "code",
            "execution_count": null,
            "metadata": {
                "tags": [
                    "remove-input"
                ]
            },
            "outputs": [],
            "source": [
                "Math(vlatex(diff_eq.eq_beta))"
            ]
        },
        {
            "cell_type": "code",
            "execution_count": null,
            "metadata": {
                "tags": [
                    "remove-input"
                ]
            },
            "outputs": [],
            "source": [
                "Math(vlatex(diff_eq.eq_y))"
            ]
        },
        {
            "cell_type": "code",
            "execution_count": null,
            "metadata": {
                "tags": [
                    "remove-cell"
                ]
            },
            "outputs": [],
            "source": [
                "kinetics_lambda = lambdify(eq_kinetics.rhs)\n",
                "df_result['F'] = run(function=kinetics_lambda, inputs=inputs, **df_result)"
            ]
        },
        {
            "cell_type": "markdown",
            "metadata": {},
            "source": [
                "And this regression problem can be solved using Ordinary Least Square (OLS) regression:"
            ]
        },
        {
            "cell_type": "code",
            "execution_count": null,
            "metadata": {
                "tags": [
                    "remove-input"
                ]
            },
            "outputs": [],
            "source": [
                "X = diff_eq.calculate_features(data=df_result)\n",
                "y = diff_eq.calculate_label(y=df_result['F'])\n",
                "\n",
                "model = sm.OLS(y,X)\n",
                "results = model.fit()\n",
                "\n",
                "show_pred(X=X,y=y,results=results, label=r'$F$')"
            ]
        },
        {
            "cell_type": "markdown",
            "metadata": {},
            "source": [
                "Indentifying the parameters of a mathematical model expressing the dynamics of a system as simple as a droped ball is fairly easy as seen in the examples above. The following research in this book will focus on solving the same problem but for a more complex system as a ship based on data with much more noise than in the perfect data from the simulation example above. "
            ]
        },
        {
            "cell_type": "markdown",
            "metadata": {},
            "source": [
                "## So why is it convenient to have a mathematical model of your ship? "
            ]
        },
        {
            "cell_type": "code",
            "execution_count": null,
            "metadata": {},
            "outputs": [],
            "source": []
        }
    ],
    "metadata": {
        "citation-manager": {
            "items": {}
        },
        "interpreter": {
            "hash": "33f2af4e1cb9ceb346f7149a3706b43e9b0a27698285d715caa5d1460ff01573"
        },
        "kernelspec": {
            "display_name": "Python 3",
            "language": "python",
            "name": "python3"
        },
        "language_info": {
            "codemirror_mode": {
                "name": "ipython",
                "version": 3
            },
            "file_extension": ".py",
            "mimetype": "text/x-python",
            "name": "python",
            "nbconvert_exporter": "python",
            "pygments_lexer": "ipython3",
            "version": "3.9.5"
        }
    },
    "nbformat": 4,
    "nbformat_minor": 4
}