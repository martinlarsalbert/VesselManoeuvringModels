{
    "cells": [
        {
            "cell_type": "markdown",
            "metadata": {
                "tags": []
            },
            "source": [
                "# Manoeuvring simulations\n",
                "Many simulation model for ship manoeuvring have been developed in the field of ship hydrodynamics such as: the Abkowitz model {cite:p}`abkowitz_ship_1964` or the Norrbin model {cite:p}`norrbin_study_1960`.\n",
                "This chapter will develop a general simulation model for ship manoeuvring, that can be further specified to become either the Abkowitz or Norbin model. Expressing the models on a general form is important in this research where many different models will be tested and compared."
            ]
        },
        {
            "cell_type": "code",
            "execution_count": null,
            "metadata": {
                "tags": [
                    "remove-cell"
                ]
            },
            "outputs": [],
            "source": [
                "import matplotlib \n",
                "print(matplotlib.get_configdir())"
            ]
        },
        {
            "cell_type": "code",
            "execution_count": null,
            "metadata": {
                "tags": [
                    "hide-cell",
                    "remove-cell"
                ]
            },
            "outputs": [],
            "source": [
                "# %load imports.py\n",
                "## Local packages:\n",
                "\n",
                "%matplotlib inline\n",
                "%load_ext autoreload\n",
                "%autoreload 2\n",
                "%config Completer.use_jedi = False  ## (To fix autocomplete)\n",
                "\n",
                "## External packages:\n",
                "import pandas as pd\n",
                "pd.options.display.max_rows = 999\n",
                "pd.options.display.max_columns = 999\n",
                "pd.set_option(\"display.max_columns\", None)\n",
                "\n",
                "import numpy as np\n",
                "import os\n",
                "\n",
                "import plotly.express as px \n",
                "import plotly.graph_objects as go\n",
                "\n",
                "import seaborn as sns\n",
                "import sympy as sp\n",
                "from sympy.physics.mechanics import (dynamicsymbols, ReferenceFrame,\n",
                "                                      Particle, Point)\n",
                "from sympy.physics.vector.printing import vpprint, vlatex\n",
                "from IPython.display import display, Math, Latex, Markdown\n",
                "from vessel_manoeuvring_models.substitute_dynamic_symbols import run, lambdify\n",
                "\n",
                "import pyro\n",
                "\n",
                "import sklearn\n",
                "import pykalman\n",
                "from statsmodels.sandbox.regression.predstd import wls_prediction_std\n",
                "import statsmodels.api as sm\n",
                "\n",
                "from scipy.integrate import solve_ivp\n",
                "\n",
                "## Local packages:\n",
                "from vessel_manoeuvring_models.data import mdl\n",
                "\n",
                "from myst_nb import glue\n",
                "from vessel_manoeuvring_models.symbols import *\n",
                "\n",
                "import vessel_manoeuvring_models.symbols as symbols\n",
                "from vessel_manoeuvring_models import prime_system\n",
                "from vessel_manoeuvring_models.models.diff_eq_to_matrix import DiffEqToMatrix\n",
                "from vessel_manoeuvring_models.visualization.regression import show_pred\n",
                "from vessel_manoeuvring_models.visualization.plot import track_plot, plot\n",
                "\n",
                "## Load models:\n",
                "# (Uncomment these for faster loading):\n",
                "import vessel_manoeuvring_models.models.vmm_nonlinear_EOM  as vmm \n",
                "\n",
                "import matplotlib.pyplot as plt\n",
                "if os.name == 'nt':\n",
                "    plt.style.use('book.mplstyle')  # Windows\n",
                "    \n",
                "## Examples\n",
                "from example_1 import ship_parameters, df_parameters\n",
                "from myst_nb import glue\n",
                "\n",
                "p = df_parameters[\"symbol\"]"
            ]
        },
        {
            "cell_type": "code",
            "execution_count": null,
            "metadata": {
                "tags": [
                    "remove-cell"
                ]
            },
            "outputs": [],
            "source": [
                "symbols.glue_equations(symbols)"
            ]
        },
        {
            "cell_type": "code",
            "execution_count": null,
            "metadata": {
                "tags": [
                    "remove-cell"
                ]
            },
            "outputs": [],
            "source": [
                "glue('eq_6DOF',Math(vlatex(eq_6DOF)))"
            ]
        },
        {
            "cell_type": "code",
            "execution_count": null,
            "metadata": {
                "tags": [
                    "remove-cell"
                ]
            },
            "outputs": [],
            "source": [
                "glue('eq_eta',Math(vlatex(eq_eta)))"
            ]
        },
        {
            "cell_type": "code",
            "execution_count": null,
            "metadata": {
                "tags": [
                    "remove-cell"
                ]
            },
            "outputs": [],
            "source": [
                "glue('eq_nu',Math(vlatex(eq_nu)))"
            ]
        },
        {
            "cell_type": "markdown",
            "metadata": {},
            "source": [
                "The models can be expressed in a very general way as shown in {numref}`eq_6DOF` ( {cite:p}`fossen_handbook_2021`).\n",
                "\n",
                "```{glue:math} eq_6DOF\n",
                ":label: eq_6DOF\n",
                "```\n",
                "\n",
                "Where $\\eta$ describes the position and $\\nu$ is the velocities:\n",
                "\n",
                "```{glue:math} eq_eta\n",
                ":label: eq_eta\n",
                "```\n",
                "\n",
                "```{glue:math} eq_nu\n",
                ":label: eq_nu\n",
                "```\n",
                "\n",
                "The model matrixes:\n",
                "* $M$ : inertia\n",
                "* $C$ : corriolis/centrepetal\n",
                "* $D$ : damping\n",
                "* $g(\\eta)$ is a vector of generalized gravitational an buoyance forces.\n",
                "* $g_0$ is static restoring forces due to ballast systems.\n",
                "\n",
                "The inertia as well as the corriolis matrix can be split into actual mass/intertia and added mass/inertia:\n",
                "\n",
                "```{glue:math} eq_M\n",
                ":label: eq_M\n",
                "```\n",
                "\n",
                "```{glue:math} eq_C\n",
                ":label: eq_C\n",
                "```\n",
                "\n",
                "So that the model equation can be written as:\n",
                "```{glue:math} eq_6DOF_expanded\n",
                ":label: eq_6DOF_expanded\n",
                "```\n",
                "\n",
                "The velocity of the current can be described as (assumed to be irrotational):\n",
                "```{glue:math} eq_nu_r\n",
                ":label: eq_nu_c\n",
                "```\n",
                "\n",
                "So that $\\nu_r$ are the relative velocities (including current):\n",
                "```{glue:math} eq_nu_r\n",
                ":label: eq_nu_r\n",
                "```\n",
                "\n",
                "If the current is also assumed to be constant, acceleration of the relative velocities is the same:\n",
                "```{glue:math} eq_nu_steady\n",
                ":label: eq_nu_steady\n",
                "```\n",
                "So that the entire equation can be expressed in terms of relative velocities:\n",
                "\n",
                "```{glue:math} eq_6DOF_expanded_r\n",
                ":label: eq_6DOF_expanded_r\n",
                "```\n",
                "\n",
                "\n"
            ]
        },
        {
            "cell_type": "markdown",
            "metadata": {},
            "source": [
                "## Ship parameters\n",
                "The Ocean Bird Wind Powered Car Carrier will be used as the reference ship of this book:\n",
                "![](https://www.walleniusmarine.com/wp-content/uploads/2020/09/oceanbird-960x540.jpg)"
            ]
        },
        {
            "cell_type": "code",
            "execution_count": null,
            "metadata": {
                "tags": [
                    "remove-cell"
                ]
            },
            "outputs": [],
            "source": [
                "ps = prime_system.PrimeSystem(**ship_parameters)  # model"
            ]
        },
        {
            "cell_type": "markdown",
            "metadata": {},
            "source": [
                "A model scale version of this ship has the following main dimensions:"
            ]
        },
        {
            "cell_type": "code",
            "execution_count": null,
            "metadata": {
                "tags": [
                    "remove-input"
                ]
            },
            "outputs": [],
            "source": [
                "ship_parameters"
            ]
        },
        {
            "cell_type": "markdown",
            "metadata": {
                "citation-manager": {
                    "citations": {
                        "2k4ro": [
                            {
                                "id": "7505983/R42MU27T",
                                "source": "zotero"
                            }
                        ]
                    }
                },
                "tags": []
            },
            "source": [
                "## 3 DOF\n",
                "A simulation model with only three degrees of fredom (DOF) : *surge*, *sway* and *yaw* is often sufficient to describe the ship's manoeuvring performance. The equation of motion can be expressed as <cite id=\"2k4ro\">(Triantafyllou &#38; Hover, 2003)</cite>:"
            ]
        },
        {
            "cell_type": "code",
            "execution_count": null,
            "metadata": {
                "tags": [
                    "remove-input"
                ]
            },
            "outputs": [],
            "source": [
                "display(vmm.X_eom)\n",
                "display(vmm.Y_eom)\n",
                "display(vmm.N_eom)\n"
            ]
        },
        {
            "cell_type": "markdown",
            "metadata": {},
            "source": [
                "Where $X_{force}$, $Y_{force}$ and $N_{force}$ are the hydrodynamic forces from the ship. So these equations holds for most of the different models for manoeuvring, except linear models where the nonlinear $r\\cdot u$ term have been linearized. The difference in the methods is rather in how these hydrodynamic forces are calculated."
            ]
        },
        {
            "cell_type": "markdown",
            "metadata": {},
            "source": [
                "The hydrodynamic forces can be split into added masses (that depend on the accelerations: $\\dot{u}$, $\\dot{v}$, $\\dot{r}$) and dampings (that depend on the velocities: $u$, $v$, $r$):"
            ]
        },
        {
            "cell_type": "code",
            "execution_count": null,
            "metadata": {
                "tags": [
                    "remove-input"
                ]
            },
            "outputs": [],
            "source": [
                "display(Math(vlatex(vmm.fx_eq)))\n",
                "display(Math(vlatex(vmm.fy_eq)))\n",
                "display(Math(vlatex(vmm.mz_eq)))"
            ]
        },
        {
            "cell_type": "markdown",
            "metadata": {},
            "source": [
                "$X_{\\dot{u}}$, $X_{\\dot{v}}$, $X_{\\dot{r}}$ are the added masses: when the ship is accelerating in water, not only the mass of the ship is accelerating, but also some mass in the water needs to be accelerated. This is referred to as added masses. Sometimes added  masses such as $X_{\\dot{v}}$ is neglected, as in the case above."
            ]
        },
        {
            "cell_type": "markdown",
            "metadata": {},
            "source": [
                "The specialization of the various simulation models can now be further categorized to the functions to calculate the damping forces: $X_{D}$, $Y_{D}$, $N_{D}$."
            ]
        },
        {
            "cell_type": "code",
            "execution_count": null,
            "metadata": {
                "tags": [
                    "remove-cell"
                ]
            },
            "outputs": [],
            "source": [
                "ship_parameters_prime = ps.prime(ship_parameters)"
            ]
        },
        {
            "cell_type": "markdown",
            "metadata": {},
            "source": [
                "The general equation for all of the simulation models in this research can be written as: "
            ]
        },
        {
            "cell_type": "code",
            "execution_count": null,
            "metadata": {
                "tags": [
                    "remove-input"
                ]
            },
            "outputs": [],
            "source": [
                "display(vmm.X_eq)\n",
                "display(vmm.Y_eq)\n",
                "display(vmm.N_eq)"
            ]
        },
        {
            "cell_type": "markdown",
            "metadata": {},
            "source": [
                "The classic simulation methods express the damping forces as a truncated taylor series. Here is a rather simple model, that has been created by the author to be used in the followin examples."
            ]
        },
        {
            "cell_type": "code",
            "execution_count": null,
            "metadata": {
                "tags": [
                    "remove-input"
                ]
            },
            "outputs": [],
            "source": [
                "display(vmm.X_qs_eq)\n",
                "display(vmm.Y_qs_eq)\n",
                "display(vmm.N_qs_eq)"
            ]
        },
        {
            "cell_type": "markdown",
            "metadata": {},
            "source": [
                "## Similitude"
            ]
        },
        {
            "cell_type": "markdown",
            "metadata": {},
            "source": [
                "### Prime system\n",
                "The prime system uses ship length $L$, water density $\\rho$ and total velocity $U^2=u^2+v^2$ to express physical quantities in nondimensional form. The quantities have a prime symbol (') attached to them when the prime system is used. The quantities are made nondimensional with the prime system by dividing with a denominator according to the table below:"
            ]
        },
        {
            "cell_type": "code",
            "execution_count": null,
            "metadata": {
                "tags": [
                    "remove-input"
                ]
            },
            "outputs": [],
            "source": [
                "prime_system.df_prime.loc[['denominator']].transpose()"
            ]
        },
        {
            "cell_type": "markdown",
            "metadata": {},
            "source": [
                "The manoeuvring models are often expressed in the prime system so that a nondimensional force $F'$ for instance can be expressed as a function of some coefficients $C$ and nondimensional velocity $v$:"
            ]
        },
        {
            "cell_type": "code",
            "execution_count": null,
            "metadata": {
                "tags": [
                    "remove-input"
                ]
            },
            "outputs": [],
            "source": [
                "F_,v_, C_=sp.symbols(\"F' v' C\")\n",
                "F=sp.symbols(\"F\")\n",
                "\n",
                "eq = sp.Eq(F_, \n",
                "      C_*v_)\n",
                "eq"
            ]
        },
        {
            "cell_type": "markdown",
            "metadata": {},
            "source": [
                "This may look as a model where the force depend on the transverse velocity $v$ only, but this is actually not true. If this equation is converted converted back to SI units it is instead written:"
            ]
        },
        {
            "cell_type": "code",
            "execution_count": null,
            "metadata": {
                "tags": [
                    "remove-input"
                ]
            },
            "outputs": [],
            "source": [
                "eq_F_prime = sp.Eq(F,prime_system.df_prime.loc['denominator','force']*F_)\n",
                "eq_v_prime = sp.Eq(v,prime_system.df_prime.loc['denominator','linear_velocity']*v_)\n",
                "\n",
                "eqs = [eq, eq_F_prime, eq_v_prime]\n",
                "\n",
                "sp.Eq(F,sp.solve(eqs,F,F_,v_,dict=True)[0][F])"
            ]
        },
        {
            "cell_type": "markdown",
            "metadata": {},
            "source": [
                "So it is now clear that the example force model above, also depends on the total velocity $U$. "
            ]
        },
        {
            "cell_type": "markdown",
            "metadata": {
                "citation-manager": {
                    "citations": {
                        "ycziw": [
                            {
                                "id": "7505983/XDE2KK28",
                                "source": "zotero"
                            }
                        ]
                    }
                },
                "tags": []
            },
            "source": [
                "## Brix parameters\n",
                "The hydrodynamic derivatives can be estimated with semi empirical formulas according to <cite id=\"ycziw\">(Brix, 1993)</cite>."
            ]
        },
        {
            "cell_type": "code",
            "execution_count": null,
            "metadata": {
                "tags": [
                    "remove-cell"
                ]
            },
            "outputs": [],
            "source": [
                "mask = df_parameters['prime'].notnull()\n",
                "index = df_parameters.loc[mask,'prime'].index\n",
                "coefficients=vmm.simulator.get_all_coefficients(sympy_symbols=False)\n",
                "missing_coefficients = set(coefficients) - set(index)\n",
                "missing_coefficients"
            ]
        },
        {
            "cell_type": "code",
            "execution_count": null,
            "metadata": {
                "tags": [
                    "remove-input"
                ]
            },
            "outputs": [],
            "source": [
                "mask = df_parameters['prime'].notnull()\n",
                "for index, parameter in df_parameters.loc[mask].iterrows():\n",
                "    display(sp.Eq(parameter['symbol'],parameter['prime']))"
            ]
        },
        {
            "cell_type": "code",
            "execution_count": null,
            "metadata": {
                "tags": [
                    "remove-cell"
                ]
            },
            "outputs": [],
            "source": [
                "U_ = 2\n",
                "glue(\"U_\",U_);"
            ]
        },
        {
            "cell_type": "code",
            "execution_count": null,
            "metadata": {
                "tags": [
                    "remove-input"
                ]
            },
            "outputs": [],
            "source": [
                "parameters=df_parameters['prime'].copy()\n",
                "\n",
                "N_=30\n",
                "df_captive_template = pd.DataFrame(index=np.arange(N_))\n",
                "df_captive_template['U'] = U_\n",
                "df_captive_template['u'] = df_captive_template['U']\n",
                "df_captive_template['v'] = 0\n",
                "df_captive_template['r'] = 0\n",
                "df_captive_template['delta'] = 0\n",
                "\n",
                "df_r = df_captive_template.copy()\n",
                "df_r['r'] = np.linspace(-0.3,0,N_)\n",
                "df_r['vary'] = 'r'\n",
                "\n",
                "df_v = df_captive_template.copy()\n",
                "df_v['v'] = np.linspace(0,0.5,N_)\n",
                "df_v['u'] = np.sqrt(df_v['U']**2 - df_v['v']**2)\n",
                "df_v['vary'] = 'v'\n",
                "\n",
                "df_delta = df_captive_template.copy()\n",
                "df_delta['delta'] = np.linspace(0.,0.4,N_)\n",
                "df_delta['vary'] = 'delta'\n",
                "\n",
                "df_captive = pd.concat([df_delta,df_v,df_r])\n",
                "\n",
                "df_captive['X'] = run(vmm.simulator.X_qs_lambda, **parameters, **df_captive)\n",
                "df_captive['Y'] = run(vmm.simulator.Y_qs_lambda, **parameters, **df_captive)\n",
                "df_captive['N'] = run(vmm.simulator.N_qs_lambda, **parameters, **df_captive)\n",
                "df_captive = ps.prime(df_captive, U=df_captive['U'])  # Convert to prime system\n",
                "\n",
                "ncols = len(df_captive['vary'].unique())\n",
                "fig,axes=plt.subplots(ncols=ncols, nrows=3)\n",
                "\n",
                "vary_labels={\n",
                "    'delta' : r'\\delta',\n",
                "}\n",
                "for col,(vary, df_) in enumerate(df_captive.groupby(by='vary')):\n",
                "    \n",
                "    for row,dof in enumerate(['X','Y','N']):\n",
                "        ax = axes[row,col]\n",
                "        df_.plot(x=vary, y=dof, ax=ax)\n",
                "        ax.get_legend().set_visible(False)\n",
                "        ax.set_xlabel('')\n",
                "        ax.grid(True)\n",
                "        axes[row,0].set_ylabel(f\"${dof}'$\")\n",
                "        \n",
                "        ylims = [df_captive[dof].min(),df_captive[dof].max()]\n",
                "        if ylims[0]!=ylims[1]:\n",
                "            ax.set_ylim(ylims)\n",
                "        \n",
                "    axes[-1,col].set_xlabel(f\"${vary_labels.get(vary,vary)}'$\")"
            ]
        },
        {
            "cell_type": "markdown",
            "metadata": {
                "tags": [
                    "remove-input"
                ]
            },
            "source": [
                "The figure above shows the quasi static forces for the present ship with the hydrodynamic derivatives during a variation of rudder angle $\\delta$,\n",
                "         yaw rate $r$ and tranverse velocity $v$ and total velocity $U$={glue:}`U_` m/s"
            ]
        },
        {
            "cell_type": "markdown",
            "metadata": {},
            "source": [
                "## Simulation"
            ]
        },
        {
            "cell_type": "markdown",
            "metadata": {},
            "source": [
                "### Decoupling\n",
                "There is a coupling between the sway and yaw equation thruogh the added masses. These equations need to be decoupled to be usable in a simulation model. This is done by first expressing the equation in matrix form:"
            ]
        },
        {
            "cell_type": "code",
            "execution_count": null,
            "metadata": {
                "tags": [
                    "remove-input"
                ]
            },
            "outputs": [],
            "source": [
                "X_eq = vmm.X_eq\n",
                "Y_eq = vmm.Y_eq\n",
                "N_eq = vmm.N_eq\n",
                "\n",
                "A, b = sp.linear_eq_to_matrix([X_eq, Y_eq, N_eq], [u1d, v1d, r1d])\n",
                "\n",
                "acceleration = sp.matrices.MutableDenseMatrix([u1d,v1d,r1d])\n",
                "eq_simulator = sp.Eq(sp.UnevaluatedExpr(A)*sp.UnevaluatedExpr(acceleration),sp.UnevaluatedExpr(b))\n",
                "eq_simulator"
            ]
        },
        {
            "cell_type": "markdown",
            "metadata": {},
            "source": [
                "The decoupled equations are obtained by inverting the intertia matrix:"
            ]
        },
        {
            "cell_type": "markdown",
            "metadata": {},
            "source": [
                "This equation can be written in a cleaner way if the $S$ term is introduced:"
            ]
        },
        {
            "cell_type": "code",
            "execution_count": null,
            "metadata": {
                "tags": [
                    "remove-input"
                ]
            },
            "outputs": [],
            "source": [
                "A_inv = A.inv()\n",
                "S = sp.symbols('S')\n",
                "eq_S=sp.Eq(S,-sp.fraction(A_inv[1,1])[1])\n",
                "\n",
                "A_inv_S = A_inv.subs(eq_S.rhs,S)\n",
                "eq_acceleration_matrix_clean = sp.Eq(sp.UnevaluatedExpr(acceleration),sp.UnevaluatedExpr(A_inv_S)*sp.UnevaluatedExpr(b))\n",
                "Math(vlatex(eq_acceleration_matrix_clean))"
            ]
        },
        {
            "cell_type": "markdown",
            "metadata": {},
            "source": [
                "Where $S$ is a helper variable defined as:"
            ]
        },
        {
            "cell_type": "code",
            "execution_count": null,
            "metadata": {
                "tags": [
                    "remove-input"
                ]
            },
            "outputs": [],
            "source": [
                "eq_S"
            ]
        },
        {
            "cell_type": "markdown",
            "metadata": {},
            "source": [
                "### prime and SI\n",
                "This concise expression to calculate the accelerations is expressed in the prime system. Conducting a simulation by integrating this expression will give a simulation that is conducted in the prime system, with prime system time etc., which is not very convenient. If a simulation should instead be conducted with a standard unit system (SI), the states (velocities as well as the resulting accelerations) and the ship parameters (length, masses and inertia) need to be converted. \n",
                "\n",
                "The input velocities in SI should be converted to prime and the output accelerations in prime needs to be converted back to SI:\n",
                "1. Input: velocities : SI -> prime\n",
                "2. Output: accelerations : prime -> SI\n",
                "\n",
                "This can be done for each time step in the simulations, by implementing this logic into the code. Another alternative is to rewrite the expression into SI units, which will be done below. The damping functions: $X_D(u,v,r,\\delta)$, $Y_D(u,v,r,\\delta)$, $N_D(u,v,r,\\delta)$ is also substituted with their polynomials to derive the full expression."
            ]
        },
        {
            "cell_type": "code",
            "execution_count": null,
            "metadata": {
                "tags": [
                    "hide-input"
                ]
            },
            "outputs": [],
            "source": [
                "u1d_function = sp.Function(r'\\dot{u}')(u,v,r,delta)\n",
                "v1d_function = sp.Function(r'\\dot{v}')(u,v,r,delta)\n",
                "r_function = sp.Function(r'\\dot{r}')(u,v,r,delta)\n",
                "\n",
                "subs_prime = [\n",
                "    \n",
                "    (m,m/prime_system.df_prime.mass.denominator),\n",
                "    (I_z,I_z/prime_system.df_prime.inertia_moment.denominator),\n",
                "    (x_G,x_G/prime_system.df_prime.length.denominator),\n",
                "    \n",
                "    (u, u/sp.sqrt(u**2+v**2)),\n",
                "    (v, v/sp.sqrt(u**2+v**2)),\n",
                "    (r, r/(sp.sqrt(u**2+v**2)/L)),\n",
                "   \n",
                "]\n",
                "\n",
                "subs = [\n",
                "(X_D, vmm.X_qs_eq.rhs),\n",
                "(Y_D, vmm.Y_qs_eq.rhs),\n",
                "(N_D, vmm.N_qs_eq.rhs),\n",
                "]\n",
                "\n",
                "subs = subs + subs_prime\n",
                "\n",
                "A_SI = A.subs(subs)\n",
                "b_SI = b.subs(subs)\n",
                "\n",
                "x_dot = sympy.matrices.dense.matrix_multiply_elementwise(A_SI.inv()*b_SI,\n",
                "                                                 sp.Matrix([(u**2+v**2)/L,(u**2+v**2)/L,(u**2+v**2)/(L**2)]))\n",
                "\n",
                "sp.Eq(sp.UnevaluatedExpr(sp.Matrix([\n",
                "    u1d_function,\n",
                "    v1d_function,\n",
                "    r_function,    \n",
                "])),sp.UnevaluatedExpr(x_dot))\n"
            ]
        },
        {
            "cell_type": "markdown",
            "metadata": {},
            "source": [
                "...so the expanded expression in SI units is a lot more complicated."
            ]
        },
        {
            "cell_type": "markdown",
            "metadata": {},
            "source": [
                "## Simulate data"
            ]
        },
        {
            "cell_type": "code",
            "execution_count": null,
            "metadata": {
                "tags": [
                    "remove-input"
                ]
            },
            "outputs": [],
            "source": [
                "x, x1d = sp.symbols(r'\\vec{x} \\dot{\\vec{x}}')  # State vector\n",
                "h = sp.symbols('h')\n",
                "u_input = sp.symbols(r'u_{input}')  # input vector\n",
                "w_noise = sp.symbols(r'w_{noise}')  # input vector\n",
                "\n",
                "f = sp.Function('f')(x,u_input,w_noise)\n",
                "eq_system = sp.Eq(x1d, f)\n",
                "eq_system"
            ]
        },
        {
            "cell_type": "markdown",
            "metadata": {},
            "source": [
                "Where the state vector $\\vec{x}$:"
            ]
        },
        {
            "cell_type": "code",
            "execution_count": null,
            "metadata": {
                "tags": [
                    "remove-input"
                ]
            },
            "outputs": [],
            "source": [
                "eq_x = sp.Eq(x, sp.UnevaluatedExpr(sp.Matrix([x_0, y_0, psi, u, v, r])))\n",
                "eq_x"
            ]
        },
        {
            "cell_type": "code",
            "execution_count": null,
            "metadata": {
                "tags": [
                    "remove-input"
                ]
            },
            "outputs": [],
            "source": [
                "eq_x0_1d = sp.Eq(x_01d,u*sp.cos(psi)-v*sp.sin(psi))\n",
                "eq_y0_1d = sp.Eq(y_01d,u*sp.sin(psi)+v*sp.cos(psi))\n",
                "eq_psi_1d = sp.Eq(psi1d,r)\n",
                "\n",
                "eq_f =sp.Eq(f,\n",
                "sp.UnevaluatedExpr(\n",
                "sp.Matrix([\n",
                "    eq_x0_1d.rhs,\n",
                "    eq_y0_1d.rhs,\n",
                "    eq_psi_1d.rhs,\n",
                "    u1d_function,\n",
                "    v1d_function,\n",
                "    r_function,\n",
                "    \n",
                "]\n",
                "))\n",
                ")\n",
                "display(eq_f)"
            ]
        },
        {
            "cell_type": "code",
            "execution_count": null,
            "metadata": {
                "tags": [
                    "remove-cell"
                ]
            },
            "outputs": [],
            "source": [
                "x_ = sp.Matrix([u*sp.cos(psi)-v*sp.sin(psi),\n",
                "                                u*sp.sin(psi)+v*sp.cos(psi),\n",
                "                                r])\n",
                "\n",
                "f_ = sp.Matrix.vstack(x_, x_dot)\n",
                "\n",
                "subs = {value: key for key, value in p.items()}\n",
                "subs[psi] = sp.symbols('psi')\n",
                "lambda_f = lambdify(f_.subs(subs))"
            ]
        },
        {
            "cell_type": "markdown",
            "metadata": {},
            "source": [
                "The actual simulation can be carried out with a simple Euler forward integration:"
            ]
        },
        {
            "cell_type": "code",
            "execution_count": null,
            "metadata": {},
            "outputs": [],
            "source": [
                "def time_step(x_,u_):\n",
                "    psi=x_[2]\n",
                "    u=x_[3]\n",
                "    v=x_[4]\n",
                "    r=x_[5]\n",
                "    delta = u_\n",
                "    x_dot = run(lambda_f, **parameters, **ship_parameters, psi=psi, u=u, v=v, r=r, delta=delta).flatten()\n",
                "    return x_dot\n",
                "\n",
                "def simulate(x0,E, ws, t, us):\n",
                "    \n",
                "    simdata = np.zeros((6,len(t)))\n",
                "    x_=x0\n",
                "            \n",
                "    for i,(u_,w_) in enumerate(zip(us,ws)):\n",
                "       \n",
                "        x_dot = time_step(x_,u_)\n",
                "        \n",
                "        x_=x_ + h_*x_dot\n",
                "        \n",
                "        simdata[:,i] = x_\n",
                "                \n",
                "    df = pd.DataFrame(simdata.T, columns=[\"x0\",\"y0\",\"psi\",\"u\",\"v\",\"r\"], index=t)\n",
                "    df.index.name = 'time'\n",
                "    df['delta'] = us\n",
                "    \n",
                "    return df"
            ]
        },
        {
            "cell_type": "code",
            "execution_count": null,
            "metadata": {
                "tags": [
                    "hide-cell"
                ]
            },
            "outputs": [],
            "source": [
                "parameters=df_parameters['prime'].copy()\n",
                "N_ = 1000\n",
                "t_ = np.linspace(0,50,N_)\n",
                "h_ = float(t_[1]-t_[0])\n",
                "ws = np.zeros(N_)\n",
                "us = delta_ = np.deg2rad(20)*np.ones(N_)\n",
                "x0_ = np.array([0,0,0,2,0,0])\n",
                "\n",
                "E=np.array([0,0,0,1,1,1])\n",
                "df = simulate(x0=x0_, E=E, ws=ws, t=t_, us=us)\n",
                "df['beta'] = -np.arctan2(df['v'],df['u'])\n",
                "df['U'] = np.sqrt(df['u']**2 + df['v']**2)\n",
                "df.to_csv('first_simulation.csv', index=True)"
            ]
        },
        {
            "cell_type": "code",
            "execution_count": null,
            "metadata": {
                "tags": [
                    "remove-input"
                ]
            },
            "outputs": [],
            "source": [
                "track_plot(\n",
                "            df=df,\n",
                "            lpp=ship_parameters[\"L\"],\n",
                "            beam=ship_parameters[\"B\"],\n",
                "            color=\"green\",\n",
                "        );\n",
                "\n",
                "plot(df_result=df);"
            ]
        },
        {
            "cell_type": "markdown",
            "metadata": {},
            "source": [
                "### Simulate parameter contributions"
            ]
        },
        {
            "cell_type": "code",
            "execution_count": null,
            "metadata": {
                "tags": [
                    "hide-cell",
                    "remove-cell"
                ]
            },
            "outputs": [],
            "source": [
                "df_result_prime = ps.prime(df, U=df['U'])"
            ]
        },
        {
            "cell_type": "code",
            "execution_count": null,
            "metadata": {
                "tags": [
                    "remove-cell"
                ]
            },
            "outputs": [],
            "source": [
                "X_ = sp.symbols('X_')\n",
                "diff_eq_X = DiffEqToMatrix(ode=vmm.X_qs_eq.subs(X_D,X_), \n",
                "                                      label=X_, base_features=[delta,u,v,r])\n",
                "X = diff_eq_X.calculate_features(data=df_result_prime)\n",
                "X_parameters = df_parameters.groupby(by='dof').get_group('X')['prime'].dropna()\n",
                "X_forces = X*X_parameters\n",
                "X_forces.index = df_result_prime.index\n",
                "\n",
                "Y_ = sp.symbols('Y_')\n",
                "diff_eq_Y = DiffEqToMatrix(ode=vmm.Y_qs_eq.subs(Y_D,Y_), \n",
                "                                      label=Y_, base_features=[delta,u,v,r])\n",
                "X = diff_eq_Y.calculate_features(data=df_result_prime)\n",
                "Y_parameters = df_parameters.groupby(by='dof').get_group('Y')['prime'].dropna()\n",
                "Y_forces = X*Y_parameters\n",
                "Y_forces.index = df_result_prime.index\n",
                "\n",
                "N_ = sp.symbols('N_')\n",
                "diff_eq_N = DiffEqToMatrix(ode=vmm.N_qs_eq.subs(N_D,N_), \n",
                "                                      label=N_, base_features=[delta,u,v,r])\n",
                "X = diff_eq_N.calculate_features(data=df_result_prime)\n",
                "N_parameters = df_parameters.groupby(by='dof').get_group('N')['prime'].dropna()\n",
                "N_forces = X*N_parameters\n",
                "N_forces.index = df_result_prime.index"
            ]
        },
        {
            "cell_type": "markdown",
            "metadata": {},
            "source": [
                "Here is an interavtive graph showing how the various hydrodynamic derivatives contribute to the forces:"
            ]
        },
        {
            "cell_type": "code",
            "execution_count": null,
            "metadata": {
                "tags": [
                    "remove-input"
                ]
            },
            "outputs": [],
            "source": [
                "display(px.line(X_forces, y=X_forces.columns, width=800, height=350, title='X'))\n",
                "display(px.line(Y_forces, y=Y_forces.columns, width=800, height=350, title='Y'))\n",
                "display(px.line(N_forces, y=N_forces.columns, width=800, height=350, title='N'))"
            ]
        }
    ],
    "metadata": {
        "citation-manager": {
            "items": {
                "zotero": {
                    "7505983/R42MU27T": {
                        "author": [
                            {
                                "family": "Triantafyllou",
                                "given": "Michael S"
                            },
                            {
                                "family": "Hover",
                                "given": "Franz S"
                            }
                        ],
                        "container-title": "Massachusetts Institute of Technology",
                        "id": "7505983/R42MU27T",
                        "issued": {
                            "date-parts": [
                                [
                                    2003
                                ]
                            ]
                        },
                        "language": "en",
                        "page": "152",
                        "title": "MANEUVERING AND CONTROL OF MARINE VEHICLES",
                        "type": "article-journal"
                    },
                    "7505983/XDE2KK28": {
                        "ISBN": "978-3-87743-902-9",
                        "author": [
                            {
                                "family": "Brix",
                                "given": "Jochim E."
                            }
                        ],
                        "id": "7505983/XDE2KK28",
                        "issued": {
                            "date-parts": [
                                [
                                    1993
                                ]
                            ]
                        },
                        "language": "en",
                        "note": "Google-Books-ID: CMJ1NAAACAAJ",
                        "number-of-pages": "266",
                        "publisher": "Seehafen-Verlag",
                        "title": "Manoeuvring Technical Manual",
                        "type": "book"
                    }
                }
            }
        },
        "kernelspec": {
            "display_name": "Python 3",
            "language": "python",
            "name": "python3"
        },
        "language_info": {
            "codemirror_mode": {
                "name": "ipython",
                "version": 3
            },
            "file_extension": ".py",
            "mimetype": "text/x-python",
            "name": "python",
            "nbconvert_exporter": "python",
            "pygments_lexer": "ipython3",
            "version": "3.9.5"
        }
    },
    "nbformat": 4,
    "nbformat_minor": 4
}