{
 "cells": [
  {
   "cell_type": "markdown",
   "metadata": {
    "citation-manager": {
     "citations": {
      "abkowitz_ship_1964": []
     }
    },
    "tags": []
   },
   "source": [
    "# Manoeuvring simulations\n",
    "Many simulation model for ship manoeuvring have been developed in the field of ship hydrodynamics such as: the Abkowitz model <cite id=\"abkowitz_ship_1964\">[NO_PRINTED_FORM]</cite> or the Norrbin model {cite}`norrbin_study_1960`.\n",
    "This chapter will develop a general simulation model for ship manoeuvring, that can be further specified to become either the Abkowitz or Norbin model. Expressing the models on a general form is important in this research where many different models will be tested and compared."
   ]
  },
  {
   "cell_type": "code",
   "execution_count": null,
   "metadata": {
    "tags": [
     "remove-cell"
    ]
   },
   "outputs": [],
   "source": [
    "import matplotlib \n",
    "print(matplotlib.get_configdir())"
   ]
  },
  {
   "cell_type": "code",
   "execution_count": null,
   "metadata": {
    "tags": [
     "hide-cell",
     "remove-cell"
    ]
   },
   "outputs": [],
   "source": [
    "# %load imports.py\n",
    "## Local packages:\n",
    "\n",
    "%matplotlib inline\n",
    "%load_ext autoreload\n",
    "%autoreload 2\n",
    "%config Completer.use_jedi = False  ## (To fix autocomplete)\n",
    "\n",
    "## External packages:\n",
    "import pandas as pd\n",
    "pd.options.display.max_rows = 999\n",
    "pd.options.display.max_columns = 999\n",
    "pd.set_option(\"display.max_columns\", None)\n",
    "\n",
    "import numpy as np\n",
    "import os\n",
    "\n",
    "import plotly.express as px \n",
    "import plotly.graph_objects as go\n",
    "\n",
    "import seaborn as sns\n",
    "import sympy as sp\n",
    "from sympy.physics.mechanics import (dynamicsymbols, ReferenceFrame,\n",
    "                                      Particle, Point)\n",
    "from sympy.physics.vector.printing import vpprint, vlatex\n",
    "from IPython.display import display, Math, Latex, Markdown\n",
    "from src.substitute_dynamic_symbols import run, lambdify\n",
    "\n",
    "import pyro\n",
    "\n",
    "import sklearn\n",
    "import pykalman\n",
    "from statsmodels.sandbox.regression.predstd import wls_prediction_std\n",
    "import statsmodels.api as sm\n",
    "\n",
    "from scipy.integrate import solve_ivp\n",
    "\n",
    "## Local packages:\n",
    "from src.data import mdl\n",
    "\n",
    "from src.symbols import *\n",
    "\n",
    "import src.symbols as symbols\n",
    "from src import prime_system\n",
    "from src.models import regression\n",
    "from src.visualization.regression import show_pred\n",
    "from src.visualization.plot import track_plot\n",
    "from myst_nb import glue\n",
    "\n",
    "## Load models:\n",
    "# (Uncomment these for faster loading):\n",
    "import src.models.vmm_nonlinear_EOM  as vmm \n",
    "\n",
    "import matplotlib.pyplot as plt\n",
    "if os.name == 'nt':\n",
    "    plt.style.use('book.mplstyle')  # Windows\n",
    "    \n",
    "## Examples\n",
    "from example_1 import ship_parameters, df_parameters"
   ]
  },
  {
   "cell_type": "markdown",
   "metadata": {},
   "source": [
    "## Ship parameters\n",
    "The Ocean Bird Wind Powered Car Carrier will be used as the reference ship of this book:\n",
    "![](https://www.walleniusmarine.com/wp-content/uploads/2020/09/oceanbird-960x540.jpg)"
   ]
  },
  {
   "cell_type": "code",
   "execution_count": null,
   "metadata": {
    "tags": [
     "remove-cell"
    ]
   },
   "outputs": [],
   "source": [
    "ps = prime_system.PrimeSystem(**ship_parameters)  # model"
   ]
  },
  {
   "cell_type": "markdown",
   "metadata": {},
   "source": [
    "A model scale version of this ship has the following main dimensions:"
   ]
  },
  {
   "cell_type": "code",
   "execution_count": null,
   "metadata": {
    "tags": [
     "remove-input"
    ]
   },
   "outputs": [],
   "source": [
    "ship_parameters"
   ]
  },
  {
   "cell_type": "markdown",
   "metadata": {
    "citation-manager": {
     "citations": {
      "2k4ro": [
       {
        "id": "7505983/R42MU27T",
        "source": "zotero"
       }
      ]
     }
    },
    "tags": []
   },
   "source": [
    "## 3 DOF\n",
    "A simulation model with only three degrees of fredom (DOF) : *surge*, *sway* and *yaw* is often sufficient to describe the ship's manoeuvring performance. The equation of motion can be expressed as <cite id=\"2k4ro\">(Triantafyllou &#38; Hover, 2003)</cite>:"
   ]
  },
  {
   "cell_type": "code",
   "execution_count": null,
   "metadata": {
    "tags": [
     "remove-input"
    ]
   },
   "outputs": [],
   "source": [
    "display(Math(vlatex(vmm.X_eom)))\n",
    "display(Math(vlatex(vmm.Y_eom)))\n",
    "display(Math(vlatex(vmm.N_eom)))\n"
   ]
  },
  {
   "cell_type": "markdown",
   "metadata": {},
   "source": [
    "Where $X_{force}$, $Y_{force}$ and $N_{force}$ are the hydrodynamic forces from the ship. So these equations holds for most of the different models for manoeuvring, except linear models where the nonlinear $r\\cdot u$ term have been linearized. The difference in the methods is rather in how these hydrodynamic forces are calculated."
   ]
  },
  {
   "cell_type": "markdown",
   "metadata": {},
   "source": [
    "The hydrodynamic forces can be split into added masses (that depend on the accelerations: $\\dot{u}$, $\\dot{v}$, $\\dot{r}$) and dampings (that depend on the velocities: $u$, $v$, $r$):"
   ]
  },
  {
   "cell_type": "code",
   "execution_count": null,
   "metadata": {
    "tags": [
     "remove-input"
    ]
   },
   "outputs": [],
   "source": [
    "display(Math(vlatex(vmm.fx_eq)))\n",
    "display(Math(vlatex(vmm.fy_eq)))\n",
    "display(Math(vlatex(vmm.mz_eq)))"
   ]
  },
  {
   "cell_type": "markdown",
   "metadata": {},
   "source": [
    "$X_{\\dot{u}}$, $X_{\\dot{v}}$, $X_{\\dot{r}}$ are the added masses: when the ship is accelerating in water, not only the mass of the ship is accelerating, but also some mass in the water needs to be accelerated. This is referred to as added masses. Sometimes added  masses such as $X_{\\dot{v}}$ is neglected, as in the case above."
   ]
  },
  {
   "cell_type": "markdown",
   "metadata": {},
   "source": [
    "The specialization of the various simulation models can now be further categorized to the functions to calculate the damping forces: $X_{qs}$, $Y_{qs}$, $N_{qs}$. The subscript \"qs\" stands for quasi static."
   ]
  },
  {
   "cell_type": "code",
   "execution_count": null,
   "metadata": {
    "tags": [
     "remove-cell"
    ]
   },
   "outputs": [],
   "source": [
    "ship_parameters_prime = ps.prime(ship_parameters)"
   ]
  },
  {
   "cell_type": "markdown",
   "metadata": {},
   "source": [
    "The general equation for all of the simulation models in this research can be written as: "
   ]
  },
  {
   "cell_type": "code",
   "execution_count": null,
   "metadata": {
    "tags": [
     "remove-input"
    ]
   },
   "outputs": [],
   "source": [
    "display(Math(vlatex(vmm.X_eq)))\n",
    "display(Math(vlatex(vmm.Y_eq)))\n",
    "display(Math(vlatex(vmm.N_eq)))"
   ]
  },
  {
   "cell_type": "markdown",
   "metadata": {},
   "source": [
    "The classic simulation methods express the damping forces as a truncated taylor series. Here is a rather simple model, that has been created by the author to be used in the followin examples."
   ]
  },
  {
   "cell_type": "code",
   "execution_count": null,
   "metadata": {
    "tags": [
     "remove-input"
    ]
   },
   "outputs": [],
   "source": [
    "display(Math(vlatex(vmm.X_qs_eq)))\n",
    "display(Math(vlatex(vmm.Y_qs_eq)))\n",
    "display(Math(vlatex(vmm.N_qs_eq)))"
   ]
  },
  {
   "cell_type": "markdown",
   "metadata": {},
   "source": [
    "## Similitude"
   ]
  },
  {
   "cell_type": "markdown",
   "metadata": {},
   "source": [
    "### Prime system\n",
    "The prime system uses ship length $L$, water density $\\rho$ and total velocity $U^2=u^2+v^2$ to express physical quantities in nondimensional form. The quantities have a prime symbol (') attached to them when the prime system is used. The quantities are made nondimensional with the prime system by dividing with a denominator according to the table below:"
   ]
  },
  {
   "cell_type": "code",
   "execution_count": null,
   "metadata": {
    "tags": [
     "remove-input"
    ]
   },
   "outputs": [],
   "source": [
    "prime_system.df_prime.loc[['denominator']].transpose()"
   ]
  },
  {
   "cell_type": "markdown",
   "metadata": {},
   "source": [
    "The manoeuvring models are often expressed in the prime system so that a nondimensional force $F'$ for instance can be expressed as a function of some coefficients $C$ and nondimensional velocity $v$:"
   ]
  },
  {
   "cell_type": "code",
   "execution_count": null,
   "metadata": {
    "tags": [
     "remove-input"
    ]
   },
   "outputs": [],
   "source": [
    "F_,v_, C_=sp.symbols(\"F' v' C\")\n",
    "F=sp.symbols(\"F\")\n",
    "\n",
    "eq = sp.Eq(F_, \n",
    "      C_*v_)\n",
    "eq"
   ]
  },
  {
   "cell_type": "markdown",
   "metadata": {},
   "source": [
    "This may look as a model where the force depend on the transverse velocity $v$ only, but this is actually not true. If this equation is converted converted back to SI units it is instead written:"
   ]
  },
  {
   "cell_type": "code",
   "execution_count": null,
   "metadata": {
    "tags": [
     "remove-input"
    ]
   },
   "outputs": [],
   "source": [
    "eq_F_prime = sp.Eq(F,prime_system.df_prime.loc['denominator','force']*F_)\n",
    "eq_v_prime = sp.Eq(v,prime_system.df_prime.loc['denominator','linear_velocity']*v_)\n",
    "\n",
    "eqs = [eq, eq_F_prime, eq_v_prime]\n",
    "\n",
    "sp.Eq(F,sp.solve(eqs,F,F_,v_,dict=True)[0][F])"
   ]
  },
  {
   "cell_type": "markdown",
   "metadata": {},
   "source": [
    "So it is now clear that the example force model above, also depends on the total velocity $U$. "
   ]
  },
  {
   "cell_type": "markdown",
   "metadata": {
    "citation-manager": {
     "citations": {
      "ycziw": [
       {
        "id": "7505983/XDE2KK28",
        "source": "zotero"
       }
      ]
     }
    },
    "tags": []
   },
   "source": [
    "## Brix parameters\n",
    "The hydrodynamic derivatives can be estimated with semi empirical formulas according to <cite id=\"ycziw\">(Brix, 1993)</cite>."
   ]
  },
  {
   "cell_type": "code",
   "execution_count": null,
   "metadata": {
    "tags": [
     "remove-cell"
    ]
   },
   "outputs": [],
   "source": [
    "mask = df_parameters['prime'].notnull()\n",
    "index = df_parameters.loc[mask,'prime'].index\n",
    "coefficients=vmm.simulator.get_all_coefficients(sympy_symbols=False)\n",
    "missing_coefficients = set(coefficients) - set(index)\n",
    "missing_coefficients"
   ]
  },
  {
   "cell_type": "code",
   "execution_count": null,
   "metadata": {
    "tags": [
     "remove-input"
    ]
   },
   "outputs": [],
   "source": [
    "mask = df_parameters['prime'].notnull()\n",
    "for index, parameter in df_parameters.loc[mask].iterrows():\n",
    "    display(sp.Eq(parameter['symbol'],parameter['prime']))"
   ]
  },
  {
   "cell_type": "code",
   "execution_count": null,
   "metadata": {
    "tags": [
     "remove-cell"
    ]
   },
   "outputs": [],
   "source": [
    "U_ = 2\n",
    "glue(\"U_\",U_);"
   ]
  },
  {
   "cell_type": "code",
   "execution_count": null,
   "metadata": {
    "tags": [
     "remove-input"
    ]
   },
   "outputs": [],
   "source": [
    "parameters=df_parameters['prime'].copy()\n",
    "\n",
    "N_=30\n",
    "df_captive_template = pd.DataFrame(index=np.arange(N_))\n",
    "df_captive_template['U'] = U_\n",
    "df_captive_template['u'] = df_captive_template['U']\n",
    "df_captive_template['v'] = 0\n",
    "df_captive_template['r'] = 0\n",
    "df_captive_template['delta'] = 0\n",
    "\n",
    "df_r = df_captive_template.copy()\n",
    "df_r['r'] = np.linspace(-0.3,0,N_)\n",
    "df_r['vary'] = 'r'\n",
    "\n",
    "df_v = df_captive_template.copy()\n",
    "df_v['v'] = np.linspace(0,0.5,N_)\n",
    "df_v['u'] = np.sqrt(df_v['U']**2 - df_v['v']**2)\n",
    "df_v['vary'] = 'v'\n",
    "\n",
    "df_delta = df_captive_template.copy()\n",
    "df_delta['delta'] = np.linspace(0.,0.4,N_)\n",
    "df_delta['vary'] = 'delta'\n",
    "\n",
    "df_captive = pd.concat([df_delta,df_v,df_r])\n",
    "\n",
    "df_captive['X'] = run(vmm.simulator.X_qs_lambda, inputs=parameters, **df_captive)\n",
    "df_captive['Y'] = run(vmm.simulator.Y_qs_lambda, inputs=parameters, **df_captive)\n",
    "df_captive['N'] = run(vmm.simulator.N_qs_lambda, inputs=parameters, **df_captive)\n",
    "df_captive = ps.prime(df_captive, U=df_captive['U'])  # Convert to prime system\n",
    "\n",
    "ncols = len(df_captive['vary'].unique())\n",
    "fig,axes=plt.subplots(ncols=ncols, nrows=3)\n",
    "\n",
    "vary_labels={\n",
    "    'delta' : r'\\delta',\n",
    "}\n",
    "for col,(vary, df_) in enumerate(df_captive.groupby(by='vary')):\n",
    "    \n",
    "    for row,dof in enumerate(['X','Y','N']):\n",
    "        ax = axes[row,col]\n",
    "        df_.plot(x=vary, y=dof, ax=ax)\n",
    "        ax.get_legend().set_visible(False)\n",
    "        ax.set_xlabel('')\n",
    "        ax.grid(True)\n",
    "        axes[row,0].set_ylabel(f\"${dof}'$\")\n",
    "        \n",
    "        ylims = [df_captive[dof].min(),df_captive[dof].max()]\n",
    "        if ylims[0]!=ylims[1]:\n",
    "            ax.set_ylim(ylims)\n",
    "        \n",
    "    axes[-1,col].set_xlabel(f\"${vary_labels.get(vary,vary)}'$\")"
   ]
  },
  {
   "cell_type": "markdown",
   "metadata": {
    "tags": [
     "remove-input"
    ]
   },
   "source": [
    "The figure above shows the quasi static forces for the present ship with the hydrodynamic derivatives during a variation of rudder angle $\\delta$,\n",
    "         yaw rate $r$ and tranverse velocity $v$ and total velocity $U$={glue:}`U_` m/s"
   ]
  },
  {
   "cell_type": "markdown",
   "metadata": {},
   "source": [
    "## Simulation"
   ]
  },
  {
   "cell_type": "markdown",
   "metadata": {},
   "source": [
    "### Decoupling\n",
    "There is a coupling between the sway and yaw equation thruogh the added masses. These equations need to be decoupled to be usable in a simulation model. This is done by first expressing the equation in matrix form:"
   ]
  },
  {
   "cell_type": "code",
   "execution_count": null,
   "metadata": {
    "tags": [
     "remove-input"
    ]
   },
   "outputs": [],
   "source": [
    "A = vmm.simulator.A\n",
    "b = vmm.simulator.b\n",
    "acceleration = sp.matrices.MutableDenseMatrix([u.diff(),v.diff(),r.diff()])\n",
    "eq_simulator = sp.Eq(sp.UnevaluatedExpr(A)*sp.UnevaluatedExpr(acceleration),sp.UnevaluatedExpr(b))\n",
    "Math(vlatex(eq_simulator))"
   ]
  },
  {
   "cell_type": "markdown",
   "metadata": {},
   "source": [
    "The decoupled equations are obtained by inverting the intertia matrix:"
   ]
  },
  {
   "cell_type": "markdown",
   "metadata": {},
   "source": [
    "This equation can be written in a cleaner way if the $S$ term is introduced:"
   ]
  },
  {
   "cell_type": "code",
   "execution_count": null,
   "metadata": {
    "tags": [
     "remove-input"
    ]
   },
   "outputs": [],
   "source": [
    "A_inv = A.inv()\n",
    "S = sp.symbols('S')\n",
    "eq_S=sp.Eq(S,-sp.fraction(A_inv[1,1])[1])\n",
    "\n",
    "A_inv_S = A_inv.subs(eq_S.rhs,S)\n",
    "eq_acceleration_matrix_clean = sp.Eq(sp.UnevaluatedExpr(acceleration),sp.UnevaluatedExpr(A_inv_S)*sp.UnevaluatedExpr(b))\n",
    "Math(vlatex(eq_acceleration_matrix_clean))"
   ]
  },
  {
   "cell_type": "markdown",
   "metadata": {},
   "source": [
    "Where $S$ is a helper variable defined as:"
   ]
  },
  {
   "cell_type": "code",
   "execution_count": null,
   "metadata": {
    "tags": [
     "remove-input"
    ]
   },
   "outputs": [],
   "source": [
    "eq_S"
   ]
  },
  {
   "cell_type": "markdown",
   "metadata": {},
   "source": [
    "## Simulate data"
   ]
  },
  {
   "cell_type": "code",
   "execution_count": null,
   "metadata": {
    "tags": [
     "remove-cell"
    ]
   },
   "outputs": [],
   "source": [
    "parameters=df_parameters['prime'].copy()\n",
    "\n",
    "t_ = np.linspace(0,50,1000)\n",
    "df = pd.DataFrame(index=t_)\n",
    "\n",
    "df['u'] = 2\n",
    "df['v'] = 0\n",
    "df['r'] = 0\n",
    "df['x0'] = 0\n",
    "df['y0'] = 0\n",
    "df['psi'] = 0\n",
    "df['U'] = np.sqrt(df['u']**2 + df['v']**2)\n",
    "df['beta'] = -np.arctan2(df['v'],df['u'])\n",
    "\n",
    "df['delta'] = np.deg2rad(20)\n",
    "\n",
    "result = vmm.simulator.simulate(df_=df, parameters=parameters, ship_parameters=ship_parameters, \n",
    "                                  control_keys=['delta'], primed_parameters=True,prime_system=ps)\n",
    "\n",
    "result.save(path='first_simulation.csv')"
   ]
  },
  {
   "cell_type": "code",
   "execution_count": null,
   "metadata": {
    "tags": [
     "remove-input"
    ]
   },
   "outputs": [],
   "source": [
    "result.track_plot();"
   ]
  },
  {
   "cell_type": "code",
   "execution_count": null,
   "metadata": {
    "tags": [
     "remove-input"
    ]
   },
   "outputs": [],
   "source": [
    "fig = result.plot()\n",
    "plt.tight_layout()"
   ]
  },
  {
   "cell_type": "markdown",
   "metadata": {},
   "source": [
    "### Simulate parameter contributions"
   ]
  },
  {
   "cell_type": "code",
   "execution_count": null,
   "metadata": {
    "tags": [
     "hide-cell",
     "remove-cell"
    ]
   },
   "outputs": [],
   "source": [
    "df_result_prime = ps.prime(result.result, U=result.result['U'])"
   ]
  },
  {
   "cell_type": "code",
   "execution_count": null,
   "metadata": {
    "tags": [
     "remove-cell"
    ]
   },
   "outputs": [],
   "source": [
    "X_ = sp.symbols('X_')\n",
    "diff_eq_X = regression.DiffEqToMatrix(ode=vmm.X_qs_eq.subs(X_qs,X_), \n",
    "                                      label=X_, base_features=[delta,u,v,r])\n",
    "X = diff_eq_X.calculate_features(data=df_result_prime)\n",
    "X_parameters = df_parameters.groupby(by='dof').get_group('X')['prime'].dropna()\n",
    "X_forces = X*X_parameters\n",
    "X_forces.index = df_result_prime.index\n",
    "\n",
    "Y_ = sp.symbols('Y_')\n",
    "diff_eq_Y = regression.DiffEqToMatrix(ode=vmm.Y_qs_eq.subs(Y_qs,Y_), \n",
    "                                      label=Y_, base_features=[delta,u,v,r])\n",
    "X = diff_eq_Y.calculate_features(data=df_result_prime)\n",
    "Y_parameters = df_parameters.groupby(by='dof').get_group('Y')['prime'].dropna()\n",
    "Y_forces = X*Y_parameters\n",
    "Y_forces.index = df_result_prime.index\n",
    "\n",
    "N_ = sp.symbols('N_')\n",
    "diff_eq_N = regression.DiffEqToMatrix(ode=vmm.N_qs_eq.subs(N_qs,N_), \n",
    "                                      label=N_, base_features=[delta,u,v,r])\n",
    "X = diff_eq_N.calculate_features(data=df_result_prime)\n",
    "N_parameters = df_parameters.groupby(by='dof').get_group('N')['prime'].dropna()\n",
    "N_forces = X*N_parameters\n",
    "N_forces.index = df_result_prime.index"
   ]
  },
  {
   "cell_type": "markdown",
   "metadata": {},
   "source": [
    "Here is an interavtive graph showing how the various hydrodynamic derivatives contribute to the forces:"
   ]
  },
  {
   "cell_type": "code",
   "execution_count": null,
   "metadata": {
    "tags": [
     "remove-input"
    ]
   },
   "outputs": [],
   "source": [
    "display(px.line(X_forces, y=X_forces.columns, width=800, height=350, title='X'))\n",
    "display(px.line(Y_forces, y=Y_forces.columns, width=800, height=350, title='Y'))\n",
    "display(px.line(N_forces, y=N_forces.columns, width=800, height=350, title='N'))"
   ]
  }
 ],
 "metadata": {
  "citation-manager": {
   "items": {
    "zotero": {
     "7505983/R42MU27T": {
      "author": [
       {
        "family": "Triantafyllou",
        "given": "Michael S"
       },
       {
        "family": "Hover",
        "given": "Franz S"
       }
      ],
      "container-title": "Massachusetts Institute of Technology",
      "id": "7505983/R42MU27T",
      "issued": {
       "date-parts": [
        [
         2003
        ]
       ]
      },
      "language": "en",
      "page": "152",
      "title": "MANEUVERING AND CONTROL OF MARINE VEHICLES",
      "type": "article-journal"
     },
     "7505983/XDE2KK28": {
      "ISBN": "978-3-87743-902-9",
      "author": [
       {
        "family": "Brix",
        "given": "Jochim E."
       }
      ],
      "id": "7505983/XDE2KK28",
      "issued": {
       "date-parts": [
        [
         1993
        ]
       ]
      },
      "language": "en",
      "note": "Google-Books-ID: CMJ1NAAACAAJ",
      "number-of-pages": "266",
      "publisher": "Seehafen-Verlag",
      "title": "Manoeuvring Technical Manual",
      "type": "book"
     }
    }
   }
  },
  "kernelspec": {
   "display_name": "Python 3",
   "language": "python",
   "name": "python3"
  },
  "language_info": {
   "codemirror_mode": {
    "name": "ipython",
    "version": 3
   },
   "file_extension": ".py",
   "mimetype": "text/x-python",
   "name": "python",
   "nbconvert_exporter": "python",
   "pygments_lexer": "ipython3",
   "version": "3.9.5"
  }
 },
 "nbformat": 4,
 "nbformat_minor": 4
}
