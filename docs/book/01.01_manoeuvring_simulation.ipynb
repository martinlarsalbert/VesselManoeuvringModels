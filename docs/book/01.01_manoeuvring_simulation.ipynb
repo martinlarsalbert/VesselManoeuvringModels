{
 "cells": [
  {
   "cell_type": "markdown",
   "metadata": {
    "citation-manager": {
     "citations": {
      "abkowitz_ship_1964": []
     }
    },
    "tags": []
   },
   "source": [
    "# Manoeuvring simulations\n",
    "Many simulation model for ship manoeuvring have been developed in the field of ship hydrodynamics such as: the Abkowitz model <cite id=\"abkowitz_ship_1964\">[NO_PRINTED_FORM]</cite> or the Norrbin model {cite}`norrbin_study_1960`.\n",
    "This chapter will develop a general simulation model for ship manoeuvring, that can be further specified to become either the Abkowitz or Norbin model. Expressing the models on a general form is important in this research where many different models will be tested and compared."
   ]
  },
  {
   "cell_type": "code",
   "execution_count": null,
   "metadata": {
    "tags": [
     "hide-cell",
     "remove-cell"
    ]
   },
   "outputs": [],
   "source": [
    "# %load imports.py\n",
    "## Local packages:\n",
    "\n",
    "%matplotlib inline\n",
    "%load_ext autoreload\n",
    "%autoreload 2\n",
    "%config Completer.use_jedi = False  ## (To fix autocomplete)\n",
    "\n",
    "## External packages:\n",
    "import pandas as pd\n",
    "pd.options.display.max_rows = 999\n",
    "pd.options.display.max_columns = 999\n",
    "pd.set_option(\"display.max_columns\", None)\n",
    "\n",
    "import numpy as np\n",
    "import os\n",
    "import matplotlib.pyplot as plt\n",
    "if os.name == 'nt':\n",
    "    plt.style.use('book.mplstyle')  # Windows\n",
    "\n",
    "import plotly.express as px \n",
    "import plotly.graph_objects as go\n",
    "\n",
    "import seaborn as sns\n",
    "import sympy as sp\n",
    "from sympy.physics.mechanics import (dynamicsymbols, ReferenceFrame,\n",
    "                                      Particle, Point)\n",
    "from sympy.physics.vector.printing import vpprint, vlatex\n",
    "from IPython.display import display, Math, Latex, Markdown\n",
    "from src.substitute_dynamic_symbols import run, lambdify\n",
    "\n",
    "import pyro\n",
    "\n",
    "import sklearn\n",
    "import pykalman\n",
    "from statsmodels.sandbox.regression.predstd import wls_prediction_std\n",
    "import statsmodels.api as sm\n",
    "\n",
    "from scipy.integrate import solve_ivp\n",
    "\n",
    "## Local packages:\n",
    "from src.data import mdl\n",
    "\n",
    "from src.symbols import *\n",
    "from src.parameters import *\n",
    "import src.symbols as symbols\n",
    "from src import prime_system\n",
    "from src.models import regression\n",
    "from src.visualization.regression import show_pred\n",
    "from src.visualization.plot import track_plot\n",
    "from src.equation import Equation\n",
    "\n",
    "## Load models:\n",
    "# (Uncomment these for faster loading):\n",
    "import src.models.vmm_nonlinear_EOM  as vmm "
   ]
  },
  {
   "cell_type": "markdown",
   "metadata": {},
   "source": [
    "## Ship parameters\n",
    "The Ocean Bird Wind Powered Car Carrier will be used as the reference ship of this book:\n",
    "![](https://www.walleniusmarine.com/wp-content/uploads/2020/09/oceanbird-960x540.jpg)"
   ]
  },
  {
   "cell_type": "code",
   "execution_count": null,
   "metadata": {
    "tags": [
     "remove-cell"
    ]
   },
   "outputs": [],
   "source": [
    "ship_parameters ={'T': 0.2063106796116504,\n",
    " 'L': 5.014563106796117,\n",
    " 'CB': 0.45034232324249973,\n",
    " 'B': 0.9466019417475728,\n",
    " 'rho': 1000,\n",
    " 'x_G': 0,\n",
    " 'm': 441.0267843660858,\n",
    " 'I_z': 693.124396594905,\n",
    " 'volume': 0.4410267843660858}\n",
    "\n",
    "ps = prime_system.PrimeSystem(**ship_parameters)  # model"
   ]
  },
  {
   "cell_type": "markdown",
   "metadata": {},
   "source": [
    "A model scale version of this ship has the following main dimensions:"
   ]
  },
  {
   "cell_type": "code",
   "execution_count": null,
   "metadata": {
    "tags": [
     "remove-input"
    ]
   },
   "outputs": [],
   "source": [
    "ship_parameters"
   ]
  },
  {
   "cell_type": "markdown",
   "metadata": {
    "citation-manager": {
     "citations": {
      "2k4ro": [
       {
        "id": "7505983/R42MU27T",
        "source": "zotero"
       }
      ]
     }
    },
    "tags": []
   },
   "source": [
    "## 3 DOF\n",
    "A simulation model with only three degrees of fredom (DOF) : *surge*, *sway* and *yaw* is often sufficient to describe the ship's manoeuvring performance. The equation of motion can be expressed as <cite id=\"2k4ro\">(Triantafyllou &#38; Hover, 2003)</cite>:"
   ]
  },
  {
   "cell_type": "code",
   "execution_count": null,
   "metadata": {},
   "outputs": [],
   "source": [
    "display(Math(vlatex(vmm.X_eom)))\n",
    "display(Math(vlatex(vmm.Y_eom)))\n",
    "display(Math(vlatex(vmm.N_eom)))\n"
   ]
  },
  {
   "cell_type": "markdown",
   "metadata": {},
   "source": [
    "Where $X_{force}$, $Y_{force}$ and $N_{force}$ are the hydrodynamic forces from the ship. So these equations holds for most of the different models for manoeuvring, except linear models where the nonlinear $r\\cdot u$ term have been linearized. The difference in the methods is rather in how these hydrodynamic forces are calculated."
   ]
  },
  {
   "cell_type": "markdown",
   "metadata": {},
   "source": [
    "The hydrodynamic forces can be split into added masses (that depend on the accelerations: $\\dot{u}$, $\\dot{v}$, $\\dot{r}$) and dampings (that depend on the velocities: $u$, $v$, $r$):"
   ]
  },
  {
   "cell_type": "code",
   "execution_count": null,
   "metadata": {},
   "outputs": [],
   "source": [
    "display(Math(vlatex(vmm.fx_eq)))\n",
    "display(Math(vlatex(vmm.fy_eq)))\n",
    "display(Math(vlatex(vmm.mz_eq)))"
   ]
  },
  {
   "cell_type": "markdown",
   "metadata": {},
   "source": [
    "$X_{\\dot{u}}$, $X_{\\dot{v}}$, $X_{\\dot{r}}$ are the added masses: when the ship is accelerating in water, not only the mass of the ship is accelerating, but also some mass in the water needs to be accelerated. This is referred to as added masses. Sometimes added  masses such as $X_{\\dot{v}}$ is neglected, as in the case above."
   ]
  },
  {
   "cell_type": "markdown",
   "metadata": {},
   "source": [
    "The specialization of the various simulation models can now be further categorized to the functions to calculate the damping forces: $X_{qs}$, $Y_{qs}$, $N_{qs}$. The subscript \"qs\" stands for quasi static."
   ]
  },
  {
   "cell_type": "code",
   "execution_count": null,
   "metadata": {
    "tags": [
     "remove-cell"
    ]
   },
   "outputs": [],
   "source": [
    "ship_parameters_prime = ps.prime(ship_parameters)"
   ]
  },
  {
   "cell_type": "markdown",
   "metadata": {},
   "source": [
    "The general equation for all of the simulation models in this research can be written as: "
   ]
  },
  {
   "cell_type": "code",
   "execution_count": null,
   "metadata": {},
   "outputs": [],
   "source": [
    "display(Math(vlatex(vmm.X_eq)))\n",
    "display(Math(vlatex(vmm.Y_eq)))\n",
    "display(Math(vlatex(vmm.N_eq)))"
   ]
  },
  {
   "cell_type": "markdown",
   "metadata": {},
   "source": [
    "The classic simulation methods express the damping forces as a truncated taylor series. Here is a rather simple model, that has been created by the author to be used in the followin examples."
   ]
  },
  {
   "cell_type": "code",
   "execution_count": null,
   "metadata": {},
   "outputs": [],
   "source": [
    "display(Math(vlatex(vmm.X_qs_eq)))\n",
    "display(Math(vlatex(vmm.Y_qs_eq)))\n",
    "display(Math(vlatex(vmm.N_qs_eq)))"
   ]
  },
  {
   "cell_type": "markdown",
   "metadata": {},
   "source": [
    "## Similitude"
   ]
  },
  {
   "cell_type": "markdown",
   "metadata": {},
   "source": [
    "### Prime system\n",
    "The prime system uses ship length $L$, water density $\\rho$ and total velocity $U^2=u^2+v^2$ to express physical quantities in nondimensional form. The quantities have a prime symbol (') attached to them when the prime system is used. The quantities are made nondimensional with the prime system by dividing with a denominator according to the table below:"
   ]
  },
  {
   "cell_type": "code",
   "execution_count": null,
   "metadata": {
    "tags": [
     "remove-input"
    ]
   },
   "outputs": [],
   "source": [
    "prime_system.df_prime.loc[['denominator']].transpose()"
   ]
  },
  {
   "cell_type": "markdown",
   "metadata": {},
   "source": [
    "The manoeuvring models are often expressed in the prime system so that a nondimensional force $F'$ for instance can be expressed as a function of some coefficients $C$ and nondimensional velocity $v$:"
   ]
  },
  {
   "cell_type": "code",
   "execution_count": null,
   "metadata": {
    "tags": [
     "remove-input"
    ]
   },
   "outputs": [],
   "source": [
    "F_,v_, C_=sp.symbols(\"F' v' C\")\n",
    "F=sp.symbols(\"F\")\n",
    "\n",
    "eq = sp.Eq(F_, \n",
    "      C_*v_)\n",
    "eq"
   ]
  },
  {
   "cell_type": "markdown",
   "metadata": {},
   "source": [
    "This may look as a model where the force depend on the transverse velocity $v$ only, but this is actually not true. If this equation is converted converted back to SI units it is instead written:"
   ]
  },
  {
   "cell_type": "code",
   "execution_count": null,
   "metadata": {
    "tags": [
     "remove-input"
    ]
   },
   "outputs": [],
   "source": [
    "eq_F_prime = sp.Eq(F,prime_system.df_prime.loc['denominator','force']*F_)\n",
    "eq_v_prime = sp.Eq(v,prime_system.df_prime.loc['denominator','linear_velocity']*v_)\n",
    "\n",
    "eqs = [eq, eq_F_prime, eq_v_prime]\n",
    "\n",
    "sp.Eq(F,sp.solve(eqs,F,F_,v_,dict=True)[0][F])"
   ]
  },
  {
   "cell_type": "markdown",
   "metadata": {},
   "source": [
    "So it is now clear that the example force model above, also depends on the total velocity $U$. "
   ]
  },
  {
   "cell_type": "markdown",
   "metadata": {
    "citation-manager": {
     "citations": {
      "ycziw": [
       {
        "id": "7505983/XDE2KK28",
        "source": "zotero"
       }
      ]
     }
    },
    "tags": []
   },
   "source": [
    "## Brix parameters\n",
    "The hydrodynamic derivatives can be estimated with semi empirical formulas according to <cite id=\"ycziw\">(Brix, 1993)</cite>."
   ]
  },
  {
   "cell_type": "code",
   "execution_count": null,
   "metadata": {
    "tags": [
     "remove-cell"
    ]
   },
   "outputs": [],
   "source": [
    "def calculate_prime(row, ship_parameters):\n",
    "    return run(function=row['brix_lambda'], inputs=ship_parameters)\n",
    "\n",
    "\n",
    "mask = df_parameters['brix_lambda'].notnull()\n",
    "df_parameters.loc[mask,'brix_prime'] = df_parameters.loc[mask].apply(calculate_prime, ship_parameters=ship_parameters, axis=1)\n",
    "\n",
    "#df_parameters['brix_prime'].fillna(0, inplace=True)\n"
   ]
  },
  {
   "cell_type": "code",
   "execution_count": null,
   "metadata": {
    "tags": [
     "remove-cell"
    ]
   },
   "outputs": [],
   "source": [
    "df_parameters['prime'] = df_parameters['brix_prime']\n",
    "\n",
    "df_parameters.loc['Ydelta','prime'] = 0.001  # Just guessing\n",
    "df_parameters.loc['Ndelta','prime'] = -df_parameters.loc['Ydelta','prime']/2  # Just guessing\n",
    "#df_parameters['prime'].fillna(0, inplace=True)"
   ]
  },
  {
   "cell_type": "code",
   "execution_count": null,
   "metadata": {
    "tags": [
     "remove-cell"
    ]
   },
   "outputs": [],
   "source": [
    "df_parameters.loc['Nu','prime'] = 0\n",
    "df_parameters.loc['Nur','prime'] = 0\n",
    "df_parameters.loc['Xdelta','prime'] = 0\n",
    "df_parameters.loc['Xr','prime'] = 0\n",
    "df_parameters.loc['Xrr','prime'] = 0\n",
    "df_parameters.loc['Xu','prime'] = 0\n",
    "df_parameters.loc['Xv','prime'] = 0\n",
    "df_parameters.loc['Xvr','prime'] = 0\n",
    "df_parameters.loc['Yu','prime'] = 0\n",
    "df_parameters.loc['Yur','prime'] = 0"
   ]
  },
  {
   "cell_type": "code",
   "execution_count": null,
   "metadata": {
    "tags": [
     "remove-cell"
    ]
   },
   "outputs": [],
   "source": [
    "mask = df_parameters['prime'].notnull()\n",
    "index = df_parameters.loc[mask,'prime'].index\n",
    "coefficients=vmm.simulator.get_all_coefficients(sympy_symbols=False)\n",
    "missing_coefficients = set(coefficients) - set(index)\n",
    "missing_coefficients"
   ]
  },
  {
   "cell_type": "code",
   "execution_count": null,
   "metadata": {
    "tags": [
     "remove-input"
    ]
   },
   "outputs": [],
   "source": [
    "mask = df_parameters['prime'].notnull()\n",
    "for index, parameter in df_parameters.loc[mask].iterrows():\n",
    "    display(sp.Eq(parameter['symbol'],parameter['prime']))"
   ]
  },
  {
   "cell_type": "code",
   "execution_count": null,
   "metadata": {},
   "outputs": [],
   "source": []
  },
  {
   "cell_type": "markdown",
   "metadata": {},
   "source": [
    "## Simulate data"
   ]
  },
  {
   "cell_type": "code",
   "execution_count": null,
   "metadata": {
    "tags": [
     "remove-cell"
    ]
   },
   "outputs": [],
   "source": [
    "parameters=df_parameters['prime'].copy()\n",
    "\n",
    "t_ = np.linspace(0,400,1000)\n",
    "df = pd.DataFrame(index=t_)\n",
    "\n",
    "df['u'] = 2\n",
    "df['v'] = 0\n",
    "df['r'] = 0\n",
    "df['x0'] = 0\n",
    "df['y0'] = 0\n",
    "df['psi'] = 0\n",
    "df['U'] = np.sqrt(df['u']**2 + df['v']**2)\n",
    "df['beta'] = -np.arctan2(df['v'],df['u'])\n",
    "\n",
    "df['delta'] = np.deg2rad(20)\n",
    "\n",
    "result = vmm.simulator.simulate(df_=df, parameters=parameters, ship_parameters=ship_parameters, \n",
    "                                  control_keys=['delta'], primed_parameters=True,prime_system=ps)"
   ]
  },
  {
   "cell_type": "code",
   "execution_count": null,
   "metadata": {
    "tags": [
     "remove-input"
    ]
   },
   "outputs": [],
   "source": [
    "result.track_plot();"
   ]
  },
  {
   "cell_type": "code",
   "execution_count": null,
   "metadata": {
    "tags": [
     "remove-input"
    ]
   },
   "outputs": [],
   "source": [
    "result.plot()"
   ]
  }
 ],
 "metadata": {
  "citation-manager": {
   "items": {
    "zotero": {
     "7505983/R42MU27T": {
      "author": [
       {
        "family": "Triantafyllou",
        "given": "Michael S"
       },
       {
        "family": "Hover",
        "given": "Franz S"
       }
      ],
      "container-title": "Massachusetts Institute of Technology",
      "id": "7505983/R42MU27T",
      "issued": {
       "date-parts": [
        [
         2003
        ]
       ]
      },
      "language": "en",
      "page": "152",
      "title": "MANEUVERING AND CONTROL OF MARINE VEHICLES",
      "type": "article-journal"
     },
     "7505983/XDE2KK28": {
      "ISBN": "978-3-87743-902-9",
      "author": [
       {
        "family": "Brix",
        "given": "Jochim E."
       }
      ],
      "id": "7505983/XDE2KK28",
      "issued": {
       "date-parts": [
        [
         1993
        ]
       ]
      },
      "language": "en",
      "note": "Google-Books-ID: CMJ1NAAACAAJ",
      "number-of-pages": "266",
      "publisher": "Seehafen-Verlag",
      "title": "Manoeuvring Technical Manual",
      "type": "book"
     }
    }
   }
  },
  "kernelspec": {
   "display_name": "Python 3",
   "language": "python",
   "name": "python3"
  },
  "language_info": {
   "codemirror_mode": {
    "name": "ipython",
    "version": 3
   },
   "file_extension": ".py",
   "mimetype": "text/x-python",
   "name": "python",
   "nbconvert_exporter": "python",
   "pygments_lexer": "ipython3",
   "version": "3.9.5"
  }
 },
 "nbformat": 4,
 "nbformat_minor": 4
}
