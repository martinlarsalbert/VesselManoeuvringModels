{
 "cells": [
  {
   "cell_type": "markdown",
   "id": "b04afd31-695a-4acf-bdf4-992e882c8477",
   "metadata": {},
   "source": [
    "# Maximum Likelihood Estimation"
   ]
  },
  {
   "cell_type": "code",
   "execution_count": null,
   "id": "c38130ef-9858-44a4-a057-f6e6e3e51a54",
   "metadata": {},
   "outputs": [],
   "source": [
    "import numpy as np, pandas as pd\n",
    "from matplotlib import pyplot as plt\n",
    "import seaborn as sns\n",
    "from scipy.optimize import minimize\n",
    "import scipy.stats as stats\n",
    "import statsmodels.api as sm\n",
    "from myst_nb import glue"
   ]
  },
  {
   "cell_type": "markdown",
   "id": "ba169149-d401-40d4-be9d-c36a6434ab9b",
   "metadata": {},
   "source": [
    "Let's consider the simplest possible scenario, where some force $f_y$ is modelled as function of velocity $v$ and some hydrodynamic coefficient $\\beta$:\n",
    "\n",
    "$$ f_y = \\beta \\cdot v  $$ (eq_model)\n",
    "\n",
    "One physical experiment is carried out where the force $f_y$ is measured at a certain speed $v$. (We also measure that there is no force at rest ($v=0$) to confirm the lack of interception term in the model {eq}`eq_model`)"
   ]
  },
  {
   "cell_type": "code",
   "execution_count": null,
   "id": "c239dbba-30f5-459f-9472-92576f0a3c70",
   "metadata": {},
   "outputs": [],
   "source": [
    "# generate data\n",
    "np.random.seed(42)\n",
    "N = 10\n",
    "v = np.linspace(0,5,N)\n",
    "beta = 3\n",
    "scale = 1.0\n",
    "ϵ = np.random.normal(loc = 0.0, scale = scale, size = N)\n",
    "f_y = beta*v + ϵ\n",
    "df = pd.DataFrame({\"f_y\":f_y, \"v\":v})"
   ]
  },
  {
   "cell_type": "code",
   "execution_count": null,
   "id": "8d22eab8-5cef-4417-b8d5-2975e8d6116d",
   "metadata": {},
   "outputs": [],
   "source": [
    "n = 5\n",
    "f_y_sample = f_y[n]\n",
    "v_sample = v[n]\n",
    "beta_hat = f_y_sample/v_sample\n",
    "glue(\"f_y_sample\", f_y_sample, display=False)\n",
    "glue(\"v_sample\", v_sample, display=False)\n",
    "glue(\"beta_hat\", beta_hat, display=False)"
   ]
  },
  {
   "cell_type": "code",
   "execution_count": null,
   "id": "ded2b832-2322-48e6-b5a2-0624aa2ca310",
   "metadata": {},
   "outputs": [],
   "source": [
    "df['beta'] = df['f_y'] / df['v']\n",
    "glue(\"tab_experiments\", df)"
   ]
  },
  {
   "cell_type": "markdown",
   "id": "e090344b-6da5-42c8-aae1-7a928822ca12",
   "metadata": {},
   "source": [
    "{glue:}`f_y_sample` [N] force ($f_y$) was measured during the conducted experiment at a speed ($v$) of {glue:}`v_sample` [m/s].  \n",
    "As the model ({eq}`eq_model`) contains only one unknown parameter: $\\beta$ this one only experiment is enought to determine $\\beta$:\n",
    "$$\\beta = \\frac{f_y}{v} $$ (eq_beta_deterministic)\n",
    "So that beta can be estimated as {glue:}`beta_hat`.\n",
    "\n",
    "If the measurement was perfect and the used model describes the physics perfectly this estimation of $\\beta$ is the correct one. In order to double check this several experiment was conducted, as seen in the table below:\n",
    "\n",
    "{glue:`tab_experiments`}\n",
    "\n",
    "It can be seen that {eq}`eq_beta_deterministic` gives different estimates of $\\beta$ from the different experiments. So there must be some measurement errors or model errors (or booth) in the data from these experiments."
   ]
  },
  {
   "cell_type": "code",
   "execution_count": null,
   "id": "73bf2439-1064-4a6c-9ea7-944bbfa23d0e",
   "metadata": {},
   "outputs": [],
   "source": [
    "# plot\n",
    "sns.regplot(data=df, x='v', y='f_y');"
   ]
  },
  {
   "cell_type": "code",
   "execution_count": null,
   "id": "3ced2413-0e8d-4518-bf9c-13fd5f1b441b",
   "metadata": {},
   "outputs": [],
   "source": [
    "# define likelihood function\n",
    "def MLERegression(params, y):\n",
    "    beta, sd = params[0], params[1]\n",
    "    yhat = beta*x # predictions\n",
    "    # next, we flip the Bayesian question\n",
    "    # compute PDF of observed values normally distributed around mean (yhat)\n",
    "    # with a standard deviation of sd\n",
    "    negLL = -np.sum( stats.norm.logpdf(y, loc=yhat, scale=sd) )\n",
    "    # return negative LL\n",
    "    return(negLL)"
   ]
  },
  {
   "cell_type": "code",
   "execution_count": null,
   "id": "3334a353-48ae-4176-8e0b-a8eddb7b6d0f",
   "metadata": {},
   "outputs": [],
   "source": [
    "# let’s start with some random coefficient guesses and optimize\n",
    "guess = np.array([5,2])\n",
    "results = minimize(MLERegression, guess, args=(y,), method = \"Nelder-Mead\")"
   ]
  },
  {
   "cell_type": "code",
   "execution_count": null,
   "id": "dbe7b18c-b0f8-444d-b865-263b3108ca8b",
   "metadata": {},
   "outputs": [],
   "source": [
    "results"
   ]
  },
  {
   "cell_type": "code",
   "execution_count": null,
   "id": "7e382965-c6b8-460a-9571-a09d7b3d239d",
   "metadata": {},
   "outputs": [],
   "source": []
  }
 ],
 "metadata": {
  "kernelspec": {
   "display_name": "Python 3",
   "language": "python",
   "name": "python3"
  },
  "language_info": {
   "codemirror_mode": {
    "name": "ipython",
    "version": 3
   },
   "file_extension": ".py",
   "mimetype": "text/x-python",
   "name": "python",
   "nbconvert_exporter": "python",
   "pygments_lexer": "ipython3",
   "version": "3.9.5"
  }
 },
 "nbformat": 4,
 "nbformat_minor": 5
}
