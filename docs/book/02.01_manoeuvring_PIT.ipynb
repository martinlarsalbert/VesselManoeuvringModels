{
 "cells": [
  {
   "cell_type": "markdown",
   "metadata": {},
   "source": [
    "# Manoeuvring parameter identification"
   ]
  },
  {
   "cell_type": "markdown",
   "metadata": {},
   "source": [
    "Can the method that was introduced in the [Ball drop example](00.01_intro.ipynb#Example) be applied to a more complex system? This will be attempted in this chapter based on the results from the manoeuvring simulation from the [previous chapter](01.01_manoeuvring_simulation.ipynb#Simulate-data)."
   ]
  },
  {
   "cell_type": "code",
   "execution_count": null,
   "metadata": {
    "tags": [
     "remove-cell"
    ]
   },
   "outputs": [],
   "source": [
    "# %load imports.py\n",
    "## Local packages:\n",
    "\n",
    "%matplotlib inline\n",
    "%load_ext autoreload\n",
    "%autoreload 2\n",
    "%config Completer.use_jedi = False  ## (To fix autocomplete)\n",
    "\n",
    "## External packages:\n",
    "import pandas as pd\n",
    "pd.options.display.max_rows = 999\n",
    "pd.options.display.max_columns = 999\n",
    "pd.set_option(\"display.max_columns\", None)\n",
    "\n",
    "import numpy as np\n",
    "import os\n",
    "import plotly.express as px \n",
    "import plotly.graph_objects as go\n",
    "\n",
    "import seaborn as sns\n",
    "\n",
    "import matplotlib.pyplot as plt\n",
    "if os.name == 'nt':\n",
    "    plt.style.use('book.mplstyle')  # Windows\n",
    "\n",
    "import sympy as sp\n",
    "from sympy.physics.mechanics import (dynamicsymbols, ReferenceFrame,\n",
    "                                      Particle, Point)\n",
    "from sympy.physics.vector.printing import vpprint, vlatex\n",
    "from IPython.display import display, Math, Latex, Markdown\n",
    "from src.substitute_dynamic_symbols import run, lambdify\n",
    "\n",
    "import pyro\n",
    "\n",
    "import sklearn\n",
    "import pykalman\n",
    "from statsmodels.sandbox.regression.predstd import wls_prediction_std\n",
    "import statsmodels.api as sm\n",
    "\n",
    "from scipy.integrate import solve_ivp\n",
    "\n",
    "## Local packages:\n",
    "from src.data import mdl\n",
    "\n",
    "from src.symbols import *\n",
    "from src.parameters import *\n",
    "import src.symbols as symbols\n",
    "from src import prime_system\n",
    "from src.models import regression\n",
    "from src.visualization.regression import show_pred\n",
    "from src.visualization.plot import track_plot\n",
    "from src.equation import Equation\n",
    "\n",
    "## Load models:\n",
    "# (Uncomment these for faster loading):\n",
    "import src.models.vmm_nonlinear_EOM  as vmm "
   ]
  },
  {
   "cell_type": "code",
   "execution_count": null,
   "metadata": {},
   "outputs": [],
   "source": []
  }
 ],
 "metadata": {
  "citation-manager": {
   "items": {}
  },
  "kernelspec": {
   "display_name": "Python 3",
   "language": "python",
   "name": "python3"
  },
  "language_info": {
   "codemirror_mode": {
    "name": "ipython",
    "version": 3
   },
   "file_extension": ".py",
   "mimetype": "text/x-python",
   "name": "python",
   "nbconvert_exporter": "python",
   "pygments_lexer": "ipython3",
   "version": "3.9.5"
  }
 },
 "nbformat": 4,
 "nbformat_minor": 4
}
