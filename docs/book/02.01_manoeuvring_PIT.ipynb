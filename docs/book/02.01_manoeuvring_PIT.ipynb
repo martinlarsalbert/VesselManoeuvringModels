{
 "cells": [
  {
   "cell_type": "markdown",
   "metadata": {},
   "source": [
    "# Manoeuvring parameter identification"
   ]
  },
  {
   "cell_type": "markdown",
   "metadata": {},
   "source": [
    "Can the method that was introduced in the [Ball drop example](00.01_intro.ipynb#Example) be applied to a more complex system? This will be attempted in this chapter based on the results from the manoeuvring simulation from the [previous chapter](01.01_manoeuvring_simulation.ipynb#Simulate-data)."
   ]
  },
  {
   "cell_type": "code",
   "execution_count": null,
   "metadata": {
    "tags": [
     "remove-cell"
    ]
   },
   "outputs": [],
   "source": [
    "# %load imports.py\n",
    "## Local packages:\n",
    "\n",
    "%matplotlib inline\n",
    "%load_ext autoreload\n",
    "%autoreload 2\n",
    "%config Completer.use_jedi = False  ## (To fix autocomplete)\n",
    "\n",
    "## External packages:\n",
    "import pandas as pd\n",
    "pd.options.display.max_rows = 999\n",
    "pd.options.display.max_columns = 999\n",
    "pd.set_option(\"display.max_columns\", None)\n",
    "\n",
    "import numpy as np\n",
    "import os\n",
    "import plotly.express as px \n",
    "import plotly.graph_objects as go\n",
    "\n",
    "import seaborn as sns\n",
    "\n",
    "import matplotlib.pyplot as plt\n",
    "if os.name == 'nt':\n",
    "    plt.style.use('book.mplstyle')  # Windows\n",
    "\n",
    "import sympy as sp\n",
    "from sympy.physics.mechanics import (dynamicsymbols, ReferenceFrame,\n",
    "                                      Particle, Point)\n",
    "from sympy.physics.vector.printing import vpprint, vlatex\n",
    "from IPython.display import display, Math, Latex, Markdown\n",
    "from src.substitute_dynamic_symbols import run, lambdify\n",
    "\n",
    "import pyro\n",
    "\n",
    "import sklearn\n",
    "import pykalman\n",
    "from statsmodels.sandbox.regression.predstd import wls_prediction_std\n",
    "import statsmodels.api as sm\n",
    "\n",
    "from scipy.integrate import solve_ivp\n",
    "\n",
    "## Local packages:\n",
    "from src.data import mdl\n",
    "\n",
    "from src.symbols import *\n",
    "from src.parameters import *\n",
    "import src.symbols as symbols\n",
    "from src import prime_system\n",
    "from src.models import regression\n",
    "from src.visualization.regression import show_pred\n",
    "from src.visualization.plot import track_plot\n",
    "from src.visualization.equation import Equation\n",
    "\n",
    "## Load models:\n",
    "# (Uncomment these for faster loading):\n",
    "import src.models.vmm_nonlinear_EOM  as vmm \n",
    "    \n",
    "## Examples\n",
    "from example_1 import ship_parameters, df_parameters"
   ]
  },
  {
   "cell_type": "markdown",
   "metadata": {
    "citation-manager": {
     "citations": {
      "sdmub": [
       {
        "id": "7505983/ESF2DDWX",
        "source": "zotero"
       }
      ]
     }
    },
    "tags": []
   },
   "source": [
    "## Decoupling\n",
    "The hydrodynamic derivatives in a mathematical model for ship manoeuvring should be identified by expressing the ODE as a OLS regression. There is a coupling between the sway and yaw equation in this model. These equations need to be decoupled <cite id=\"sdmub\">(Wang et al., 2021)</cite> in a similar way as how it was done in the previous chapter. The simulation model can be expressed as:"
   ]
  },
  {
   "cell_type": "code",
   "execution_count": null,
   "metadata": {
    "tags": [
     "remove-input"
    ]
   },
   "outputs": [],
   "source": [
    "A = vmm.simulator.A\n",
    "b = vmm.simulator.b\n",
    "acceleration = sp.matrices.MutableDenseMatrix([u.diff(),v.diff(),r.diff()])\n",
    "eq_simulator = sp.Eq(sp.UnevaluatedExpr(A)*sp.UnevaluatedExpr(acceleration),sp.UnevaluatedExpr(b))\n",
    "Math(vlatex(eq_simulator))"
   ]
  },
  {
   "cell_type": "markdown",
   "metadata": {},
   "source": [
    "$X_{qs}$, $Y_{qs}$, $N_{qs}$ are the quasi static hydrodynamic force models, that contains the hydrodynamic derivatives ($Y_{uv}$ etc.) that should be identified."
   ]
  },
  {
   "cell_type": "markdown",
   "metadata": {},
   "source": [
    "The PIT should be expressed as three regressions based on $\\dot{u}$, $\\dot{v}$ and $\\dot{r}$:"
   ]
  },
  {
   "cell_type": "code",
   "execution_count": null,
   "metadata": {
    "tags": [
     "remove-input"
    ]
   },
   "outputs": [],
   "source": [
    "coeff_matrix = sp.matrices.MutableDenseMatrix([A_coeff*X_X,B_coeff*X_Y,C_coeff*X_N])\n",
    "eq_regression = sp.Eq(acceleration, coeff_matrix)\n",
    "Math(vlatex(eq_regression))"
   ]
  },
  {
   "cell_type": "markdown",
   "metadata": {},
   "source": [
    "Where $A_{coeff}$, $B_{coeff}$ and $C_{coeff}$ are coefficient vectors that from where the hydrodynamic derivatives can be obtained with decoupling as follows:"
   ]
  },
  {
   "cell_type": "code",
   "execution_count": null,
   "metadata": {},
   "outputs": [],
   "source": [
    "Equation(sp.Eq(sp.UnevaluatedExpr(A)*sp.UnevaluatedExpr(coeff_matrix),sp.UnevaluatedExpr(b)),\n",
    "         label='label')"
   ]
  },
  {
   "cell_type": "markdown",
   "metadata": {},
   "source": [
    "$$\n",
    "  w_{t+1} = (1 + r_{t+1}) s(w_t) + y_{t+1}\n",
    "$$ (my_other_label)"
   ]
  },
  {
   "cell_type": "code",
   "execution_count": null,
   "metadata": {},
   "outputs": [],
   "source": []
  }
 ],
 "metadata": {
  "citation-manager": {
   "items": {
    "zotero": {
     "7505983/ESF2DDWX": {
      "abstract": "Demanding marine operations increase the complexity of maneuvering. A highly accurate dynamic ship model promotes predicting ship motions and advancing control safety for the offshore ship systems. It is crucial to identify the uncertain hydrodynamic coefficients under environmental disturbance to establish accurate mathematical models. In this paper, the identification procedure for a 3 degree of freedom hydrodynamic model under disturbance is completed based on the support vector machine method with multiple maneuvers datasets. The algorithm is validated on the clean ship model and the results present good fitness with the reference. Experiments in different sea states are designed and conducted to investigate the effects of the turbulence on the identified model fidelity. Generalization results show that the models identified in the gentle and moderate environments have less than 10% deviations and are considered allowable. The higher perturbations, the lower fidelity of the identified model. Models identified under disturbance could provide different levels of reliable support for the operation decision system.",
      "author": [
       {
        "family": "Wang",
        "given": "Tongtong"
       },
       {
        "family": "Li",
        "given": "Guoyuan"
       },
       {
        "family": "Wu",
        "given": "Baiheng"
       },
       {
        "family": "Æsøy",
        "given": "Vilmar"
       },
       {
        "family": "Zhang",
        "given": "Houxiang"
       }
      ],
      "container-title": "Ships and Offshore Structures",
      "id": "7505983/ESF2DDWX",
      "issued": {
       "date-parts": [
        [
         "2021",
         5,
         19
        ]
       ]
      },
      "journalAbbreviation": "Ships and Offshore Structures",
      "title": "Parameter Identification of Ship Manoeuvring Model Under Disturbance Using Support Vector Machine Method",
      "type": "article-journal"
     }
    }
   }
  },
  "kernelspec": {
   "display_name": "Python 3",
   "language": "python",
   "name": "python3"
  },
  "language_info": {
   "codemirror_mode": {
    "name": "ipython",
    "version": 3
   },
   "file_extension": ".py",
   "mimetype": "text/x-python",
   "name": "python",
   "nbconvert_exporter": "python",
   "pygments_lexer": "ipython3",
   "version": "3.9.5"
  }
 },
 "nbformat": 4,
 "nbformat_minor": 4
}
