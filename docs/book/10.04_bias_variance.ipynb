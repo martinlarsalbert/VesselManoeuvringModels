{
    "cells": [
        {
            "cell_type": "markdown",
            "id": "0a4fd30d-2989-42e5-a09a-7e4283ce66ea",
            "metadata": {},
            "source": [
                "# Bias/Variance\n",
                "![](https://external-preview.redd.it/NuGMMcqRTV7m7GHDlZiAh4cTc65DlO5V6rVif38bKWc.jpg?width=640&crop=smart&auto=webp&s=48b6dede45f868b670cd6ccb82e8275d47461d0c)\n",
                "\n",
                "**Bias** is the model error between the regression model and the \"true\" physical model. \n",
                "\n",
                "*Example:* <br>\n",
                "The true physical model for the position of a falling object in vacuum can be written as: <br>s\n",
                "$ s=-g \\cdot \\frac{t^2}{2} $\n",
                "\n",
                "If we linearize this model: <br>\n",
                "$ s=-g \\cdot t $\n",
                "\n",
                "This linearization will introduce **bias**.\n",
                "\n",
                "**Variance**\n",
                "Variance is how the error of the model changes when making predictions for different datasets. \n",
                "For instance in the example above perhaps the simplified linearized model will be equaly inacurrate in predicting the physics in the training set as well as in the testing set, giving a low variance. \n",
                "\n",
                "The goal with any model is to find the Bias–variance tradeoff. In this example we will fit a linear, quadratic and cubic model to a generic dataset generated from a quadratic model, to study the Bias–variance tradeoff.\n",
                "\n",
                "\n",
                "\n",
                "\n"
            ]
        },
        {
            "cell_type": "code",
            "execution_count": null,
            "id": "855d1c0e-a9fb-4b4e-9fa1-1d5c97f72f26",
            "metadata": {
                "tags": [
                    "remove-cell"
                ]
            },
            "outputs": [],
            "source": [
                "# %load imports.py\n",
                "%load_ext autoreload\n",
                "%autoreload 2\n",
                "%config Completer.use_jedi = False  ## (To fix autocomplete)\n",
                "import warnings\n",
                "warnings.filterwarnings('ignore')\n",
                "import pandas as pd\n",
                "import matplotlib.pyplot as plt\n",
                "import numpy as np\n",
                "import os.path\n",
                "\n",
                "import matplotlib\n",
                "matplotlib.rcParams[\"figure.figsize\"] = (15,4)\n",
                "from vessel_manoeuvring_models.symbols import *\n",
                "import statsmodels.api as sm\n",
                "from scipy.stats import norm\n",
                "from scipy.stats import norm, multivariate_normal\n",
                "from sklearn.model_selection import train_test_split\n",
                "from sklearn.metrics import mean_squared_error"
            ]
        },
        {
            "cell_type": "markdown",
            "id": "c464003c-5198-4afe-ba5c-9f4c5923c5df",
            "metadata": {},
            "source": [
                "These are the model that we think will fit the generic dataset:"
            ]
        },
        {
            "cell_type": "code",
            "execution_count": null,
            "id": "cdd6ca31-13d1-4fff-8e41-74403351e0f3",
            "metadata": {
                "tags": [
                    "hide-input",
                    "remove-input"
                ]
            },
            "outputs": [],
            "source": [
                "C_1,C_2,C_3,x, y = sp.symbols(\"C_1 C_2 C_3 x y\")\n",
                "\n",
                "epsilon, z = sp.symbols(\"epsilon z\")\n",
                "\n",
                "models_real = {}\n",
                "\n",
                "models_real['linear'] = sp.Eq(y, C_1*x)\n",
                "\n",
                "models_real['quadratic'] = sp.Eq(y, C_1*x + C_2*x**2)\n",
                "\n",
                "models_real['cubic'] = sp.Eq(y, C_1*x + C_2*x**2 + C_3*x**3)\n",
                "\n",
                "for eq in models_real.values():\n",
                "    display(eq)\n"
            ]
        },
        {
            "cell_type": "code",
            "execution_count": null,
            "id": "aec9fc8a-9a44-4909-a704-bcbac91ca87a",
            "metadata": {
                "tags": [
                    "remove-cell"
                ]
            },
            "outputs": [],
            "source": [
                "lambdas_real={}\n",
                "for name,eq in models_real.items():\n",
                "    solution = sp.solve(eq, y, dict=True)[0][y]\n",
                "    lambdas_real[name] = sp.lambdify(list(solution.free_symbols), solution)\n",
                "    "
            ]
        },
        {
            "cell_type": "markdown",
            "id": "3a7e22a2-b6f0-4b10-b7bb-a714267ad5c5",
            "metadata": {},
            "source": [
                "An error term $\\epsilon$ must be added to the models to reproduce $z$ which is the measured values of $y$: <br>\n",
                "$z=y+\\epsilon$"
            ]
        },
        {
            "cell_type": "code",
            "execution_count": null,
            "id": "e44a034a-6c30-4ab5-973f-a66e7ebc3a76",
            "metadata": {
                "tags": [
                    "remove-input"
                ]
            },
            "outputs": [],
            "source": [
                "models = {}\n",
                "for name,eq in models_real.items():\n",
                "    models[name] = sp.Eq(z,eq.rhs+epsilon)\n",
                "    \n",
                "for eq in models.values():\n",
                "    display(eq)\n",
                "    \n",
                "lambdas={}\n",
                "for name,eq in models.items():\n",
                "    solution = sp.solve(eq, z, dict=True)[0][z]\n",
                "    lambdas[name] = sp.lambdify(list(solution.free_symbols), solution)"
            ]
        },
        {
            "cell_type": "code",
            "execution_count": null,
            "id": "82fe4263-ccca-4a41-8ed0-7307cab70f83",
            "metadata": {
                "tags": [
                    "remove-cell"
                ]
            },
            "outputs": [],
            "source": [
                "scale = 0.5\n",
                "epsilon_ = norm(loc=0, scale=scale)\n",
                "\n",
                "N=20\n",
                "\n",
                "data = pd.DataFrame()\n",
                "\n",
                "data['x'] = np.linspace(0,5,N)\n",
                "\n",
                "data['C_1'] = C_1_ = 1 \n",
                "data['C_2'] = C_2_ = 1\n",
                "data['C_3'] = C_3_ = 1\n",
                "\n",
                "data['y'] = lambdas_real['quadratic'](x=data['x'], C_1=data['C_1'], C_2=data['C_2'])\n",
                "np.random.seed(43)\n",
                "data['epsilon'] = epsilon_.rvs(N)\n",
                "data['z'] = lambdas['quadratic'](x=data['x'], C_1=data['C_1'], C_2=data['C_2'], epsilon=data['epsilon'])"
            ]
        },
        {
            "cell_type": "code",
            "execution_count": null,
            "id": "a0667f01-cdc5-440e-81d6-4b6aec4a428e",
            "metadata": {
                "tags": [
                    "remove-cell"
                ]
            },
            "outputs": [],
            "source": [
                "#X_train, X_test, y_train, y_test = train_test_split(data[['x']], data['z'], test_size=0.3, random_state=42)\n",
                "\n",
                "test_size=0.3\n",
                "index = int(np.ceil(len(data)*test_size))\n",
                "\n",
                "X = data[['x']]\n",
                "y_ = data['z']\n",
                "\n",
                "X_train = X.iloc[0:-index]\n",
                "y_train = y_.iloc[0:-index]\n",
                "\n",
                "X_test = X.iloc[-index:]\n",
                "y_test = y_.iloc[-index:]\n",
                "\n",
                "#X_train.sort_values(by='x', inplace=True)\n",
                "#y_train=y_train.loc[X_train.index].copy()\n",
                "#\n",
                "#X_test.sort_values(by='x', inplace=True)\n",
                "#y_test=y_test.loc[X_test.index].copy()"
            ]
        },
        {
            "cell_type": "code",
            "execution_count": null,
            "id": "a2ca1572-b09b-481a-aefc-03ba00bf162a",
            "metadata": {
                "tags": [
                    "remove-input"
                ]
            },
            "outputs": [],
            "source": [
                "fig,ax=plt.subplots()\n",
                "\n",
                "data.plot(x='x',y='y', label='$y$ (real model)', ax=ax)\n",
                "\n",
                "ax.plot(X_train['x'], y_train, 'go', label='$z$ (training data)')\n",
                "ax.plot(X_test['x'], y_test, 'rs', label='$z$ (test data)')\n",
                "\n",
                "ax.set_xlabel('$x$');\n",
                "ax.legend();"
            ]
        },
        {
            "cell_type": "code",
            "execution_count": null,
            "id": "80776f79-d6c4-4abb-b6c5-cf857bbda0d2",
            "metadata": {
                "tags": [
                    "remove-input",
                    "remove-cell"
                ]
            },
            "outputs": [],
            "source": [
                "Xs = {}\n",
                "\n",
                "X = pd.DataFrame(index=X_train.index)\n",
                "X['C_1'] = X_train['x']\n",
                "Xs['linear'] = X.copy()\n",
                "X['C_2'] = X_train['x']**2\n",
                "Xs['quadratic'] = X.copy()\n",
                "X['C_3'] = X_train['x']**3\n",
                "Xs['cubic'] = X.copy()\n",
                "\n",
                "fits = {}\n",
                "for name,X in Xs.items():\n",
                "    \n",
                "    m = sm.OLS(y_train, X, hasconst=False)\n",
                "    fits[name] = m.fit()"
            ]
        },
        {
            "cell_type": "markdown",
            "id": "da91d80a-6b7f-4582-bc96-809a7c1cf98a",
            "metadata": {},
            "source": [
                "## Ordinary Least Square regressions"
            ]
        },
        {
            "cell_type": "markdown",
            "id": "2aa7892b-45f8-48df-aca9-be29f82b3cae",
            "metadata": {},
            "source": [
                "### Linear"
            ]
        },
        {
            "cell_type": "code",
            "execution_count": null,
            "id": "86fc7cfa-c64f-40b1-aeb8-6accd22831bc",
            "metadata": {
                "tags": [
                    "remove-input"
                ]
            },
            "outputs": [],
            "source": [
                "fits['linear'].summary()"
            ]
        },
        {
            "cell_type": "markdown",
            "id": "ef348af7-7e0f-4003-bb06-031c13892e11",
            "metadata": {},
            "source": [
                "### Quadratic"
            ]
        },
        {
            "cell_type": "code",
            "execution_count": null,
            "id": "6f09998b-ef62-4c50-9efd-d20a6ba528cb",
            "metadata": {
                "tags": [
                    "remove-input"
                ]
            },
            "outputs": [],
            "source": [
                "display(fits['quadratic'].summary())"
            ]
        },
        {
            "cell_type": "markdown",
            "id": "cb710721-5875-4def-bc5d-24ffcd5eafd7",
            "metadata": {},
            "source": [
                "### Cubic"
            ]
        },
        {
            "cell_type": "code",
            "execution_count": null,
            "id": "b9ed38fc-900a-418b-aca9-699422415e8b",
            "metadata": {
                "tags": [
                    "remove-input"
                ]
            },
            "outputs": [],
            "source": [
                "display(fits['cubic'].summary())"
            ]
        },
        {
            "cell_type": "markdown",
            "id": "5f97fb4f-ca9f-442c-bbb0-c0777dbe0154",
            "metadata": {},
            "source": [
                "**From the OLS regression in the training sets we can see:**\n",
                "* Linear model has lower $R^2=0.97$ the the others\n",
                "* Quadratic and Cubic has the same $R^2$\n",
                "* Regressed $C_3$ in the cubic model is very small, it has almost been removed.\n",
                "* The t-test in the Cubic model: ```P>|t|``` has a high value for $C_1$ and $C_3$ indicating that these coefficient are perhaps not needed.\n",
                "* The standar deviation ```std err``` and confidence intervalls for the coefficients in the Cubic model are also larger."
            ]
        },
        {
            "cell_type": "markdown",
            "id": "9a447967-00e2-4dfe-b54e-969a86ba3741",
            "metadata": {},
            "source": [
                "## Predictions"
            ]
        },
        {
            "cell_type": "markdown",
            "id": "990d1fbd-d182-4983-946b-582e8cd530b4",
            "metadata": {},
            "source": [
                "### Training set"
            ]
        },
        {
            "cell_type": "code",
            "execution_count": null,
            "id": "08381265-e87a-44a6-8bc3-e40515b50134",
            "metadata": {
                "tags": [
                    "remove-input"
                ]
            },
            "outputs": [],
            "source": [
                "fig,ax=plt.subplots()\n",
                "\n",
                "x_ = X_train['x']\n",
                "\n",
                "mask = data['x'] < x_.iloc[-1]\n",
                "data.loc[mask].plot(x='x',y='y', label='$y$ (real model)', ax=ax)\n",
                "ax.plot(x_, y_train, 'go', label='$z$ (training data)')\n",
                "\n",
                "y_pred_training = pd.DataFrame()\n",
                "\n",
                "for name,lambda_ in lambdas.items():\n",
                "\n",
                "    y_pred = lambda_(x=x_,**fits[name].params, epsilon=0)\n",
                "    y_pred_training[name] = y_pred\n",
                "    ax.plot(x_, y_pred, '-', label=f'$\\hat{{y}}$ ({name})')\n",
                "    \n",
                "ax.set_xlabel('$x$');\n",
                "ax.legend();\n",
                "    "
            ]
        },
        {
            "cell_type": "markdown",
            "id": "b6cc7344-8cb2-4a19-b1f1-51f7b092703a",
            "metadata": {},
            "source": [
                "### Test set"
            ]
        },
        {
            "cell_type": "code",
            "execution_count": null,
            "id": "3c049fd2-27f3-45f6-8238-647d3e55d0c8",
            "metadata": {
                "tags": [
                    "remove-input"
                ]
            },
            "outputs": [],
            "source": [
                "fig,ax=plt.subplots()\n",
                "\n",
                "x_ = X_test['x']\n",
                "\n",
                "mask = data['x'] > x_.iloc[0]\n",
                "data.loc[mask].plot(x='x',y='y', label='$y$ (real model)', ax=ax)\n",
                "\n",
                "ax.plot(x_, y_test, 'rs', label='$z$ (training data)')\n",
                "\n",
                "y_pred_testing = pd.DataFrame()\n",
                "\n",
                "for name,lambda_ in lambdas.items():\n",
                "\n",
                "    y_pred = lambda_(x=x_,**fits[name].params, epsilon=0)\n",
                "    y_pred_testing[name] = y_pred\n",
                "    ax.plot(x_, y_pred, '-', label=f'$\\hat{{y}}$ ({name})')\n",
                "    \n",
                "ax.set_xlabel('$x$');\n",
                "ax.legend();"
            ]
        },
        {
            "cell_type": "code",
            "execution_count": null,
            "id": "78f73078-f1df-4eb1-80f2-926a7eb0985b",
            "metadata": {
                "tags": [
                    "remove-cell"
                ]
            },
            "outputs": [],
            "source": [
                "mean_squared_error_training = pd.Series(name='training', dtype=float)\n",
                "for name,y_pred in y_pred_training.items():\n",
                "    mean_squared_error_training[name] = mean_squared_error(y_true=y_train, y_pred=y_pred)\n",
                "    \n",
                "mean_squared_error_testing = pd.Series(name='testing', dtype=float)\n",
                "for name,y_pred in y_pred_testing.items():\n",
                "    mean_squared_error_testing[name] = mean_squared_error(y_true=y_test, y_pred=y_pred)\n",
                "    \n",
                "df_mean_square_errors = pd.DataFrame()\n",
                "df_mean_square_errors = df_mean_square_errors.append(mean_squared_error_training)\n",
                "df_mean_square_errors = df_mean_square_errors.append(mean_squared_error_testing)\n",
                "\n",
                "df_mean_square_errors = df_mean_square_errors[['linear','quadratic','cubic']].copy()"
            ]
        },
        {
            "cell_type": "code",
            "execution_count": null,
            "id": "ade2b7bf-f6f1-4d7e-ba65-bed672f1691f",
            "metadata": {
                "tags": [
                    "remove-input"
                ]
            },
            "outputs": [],
            "source": [
                "fig,ax=plt.subplots()\n",
                "df_mean_square_errors.transpose().plot.bar(ax=ax);\n",
                "ax.set_ylabel('RMSe');"
            ]
        },
        {
            "cell_type": "markdown",
            "id": "2d053b82-33cd-41dd-a634-1705422b88aa",
            "metadata": {},
            "source": [
                "## Bias/variance\n",
                "\n",
                "Bias: Difference between the prediction of the true model $f(x)$ and the average models $\\mathbb{E}[\\hat{f}(x)]$ (models build on n number of samples obtained from the population).\n",
                "\n",
                "bias squared: $(\\mathbb{E}[\\hat{f}(x)] - f(x))^2$\n"
            ]
        },
        {
            "cell_type": "code",
            "execution_count": null,
            "id": "8f9505f4-a1a7-4c6e-9e1b-475e3e4bd59e",
            "metadata": {
                "tags": [
                    "remove-cell"
                ]
            },
            "outputs": [],
            "source": [
                "data_train = X_train.copy()\n",
                "data_train['y'] = y_train\n",
                "\n",
                "x_ = X_test['x']\n",
                "df_predictions_samples = pd.DataFrame()\n",
                "\n",
                "N_resamples = 100\n",
                "for i in range(N_resamples):\n",
                "\n",
                "    sample = data_train.sample(100, replace=True)\n",
                "    \n",
                "    y = sample.pop('y')\n",
                "    \n",
                "    Xs = {}\n",
                "    X = pd.DataFrame(index=sample.index)\n",
                "    X['C_1'] = sample['x'].copy()\n",
                "    Xs['linear'] = X.copy()\n",
                "    X['C_2'] = sample['x']**2\n",
                "    Xs['quadratic'] = X.copy()\n",
                "    X['C_3'] = sample['x']**3\n",
                "    Xs['cubic'] = X.copy()\n",
                "    \n",
                "    ## Fits:\n",
                "    fits = {}\n",
                "    for name,X in Xs.items():\n",
                "        \n",
                "        m = sm.OLS(y, X, hasconst=False)\n",
                "        fits[name] = m.fit()\n",
                "        \n",
                "    ## Predictions:\n",
                "    df_predictions = pd.DataFrame()\n",
                "    for name,lambda_ in lambdas.items():\n",
                "    \n",
                "        df_predictions[name] = lambda_(x=x_,**fits[name].params, epsilon=0)\n",
                "            \n",
                "    df_predictions['x'] = x_\n",
                "    df_predictions_samples = df_predictions_samples.append(df_predictions, ignore_index=True)"
            ]
        },
        {
            "cell_type": "code",
            "execution_count": null,
            "id": "61e174f2-4c47-4b33-9120-b71dfded250e",
            "metadata": {
                "tags": [
                    "remove-cell"
                ]
            },
            "outputs": [],
            "source": [
                "y_true = lambdas_real['quadratic'](x=df_predictions_samples['x'], C_1=C_1_, C_2=C_2_)\n",
                "MSE = (df_predictions_samples[['linear','quadratic','cubic']].sub(y_true, axis=0)**2).mean()\n",
                "MSE"
            ]
        },
        {
            "cell_type": "code",
            "execution_count": null,
            "id": "19466bb1-1eed-4088-bd32-ce4ed40c898a",
            "metadata": {
                "tags": [
                    "remove-cell"
                ]
            },
            "outputs": [],
            "source": [
                "f_hat_mean = df_predictions_samples.groupby(by='x', sort=False).mean()\n",
                "f_hat_mean"
            ]
        },
        {
            "cell_type": "code",
            "execution_count": null,
            "id": "c6294b52-b0b7-4a66-9bba-08b3a3b0166e",
            "metadata": {
                "tags": [
                    "remove-cell"
                ]
            },
            "outputs": [],
            "source": [
                "f = lambdas_real['quadratic'](x=x_, C_1=C_1_, C_2=C_2_)\n",
                "f.index = x_"
            ]
        },
        {
            "cell_type": "code",
            "execution_count": null,
            "id": "4d556c0f-4504-438d-b7b9-946bf46c36cf",
            "metadata": {
                "tags": [
                    "remove-cell"
                ]
            },
            "outputs": [],
            "source": [
                "b2 = f_hat_mean.sub(f, axis=0)**2\n",
                "b2"
            ]
        },
        {
            "cell_type": "code",
            "execution_count": null,
            "id": "0b7b4ad2-2d8d-4863-8427-b9c55da428d2",
            "metadata": {
                "tags": [
                    "remove-cell"
                ]
            },
            "outputs": [],
            "source": [
                "df_predictions_samples.groupby(by='x', sort=False).var()"
            ]
        },
        {
            "cell_type": "code",
            "execution_count": null,
            "id": "8906d8aa-bdc9-4ba7-8b92-a9a85ca7239d",
            "metadata": {},
            "outputs": [],
            "source": [
                "fig,ax=plt.subplots()\n",
                "MSE.plot.bar(ax=ax);\n",
                "ax.set_title('Mean Square Error');"
            ]
        },
        {
            "cell_type": "code",
            "execution_count": null,
            "id": "3abc4078-36b0-4717-b00b-668d08cda34e",
            "metadata": {},
            "outputs": [],
            "source": [
                "fig,ax=plt.subplots()\n",
                "b2_mean = b2.mean()\n",
                "b2_mean.plot.bar(ax=ax);\n",
                "ax.set_title('Bias square: $b^2$');"
            ]
        },
        {
            "cell_type": "code",
            "execution_count": null,
            "id": "63bfab81-f471-4d10-b649-5edc6b61188c",
            "metadata": {},
            "outputs": [],
            "source": [
                "fig,ax=plt.subplots()\n",
                "variance_mean = df_predictions_samples.groupby(by='x', sort=False).var().mean()\n",
                "variance_mean.plot.bar(ax=ax);\n",
                "ax.set_title('Variance');"
            ]
        },
        {
            "cell_type": "code",
            "execution_count": null,
            "id": "40c18e97-c1ef-4722-82ea-cca156417b5d",
            "metadata": {},
            "outputs": [],
            "source": [
                "fig,ax=plt.subplots()\n",
                "(b2_mean + variance_mean).plot.bar(ax=ax);\n",
                "ax.set_title('Bias^2 + Variance');"
            ]
        },
        {
            "cell_type": "markdown",
            "id": "06cecf3f-5a03-4c61-ae6e-099e49c21642",
            "metadata": {},
            "source": [
                "## Removing parameters\n",
                "The analysis showed that cubic model was too complex giving a low bias but high variance and that the quadratic model has the best Bias-variance trade off.\n",
                "Consider the scenario that the cubic model is all we know, and that the model has a high variance, giving a much higher error in the test set than the training set. The variance can be reduced by reducing the complexity of the model. This can be done by removing some of the coefficients in the model. But which one should we remove? Looking at the t-test for the cubic model it seems that there is a chance that either $C_1$ or $C_3$ should be removed.\n",
                "\n",
                "One way to investigate this is to do a cross validation on the training set where various alternatives are tested, having only one parameter: $C_1$, $C_2$ or $C_3$, having two parameters or all off the three parameters.\n"
            ]
        },
        {
            "cell_type": "code",
            "execution_count": null,
            "id": "28ed6080-9e0b-48e6-90d2-f37c8a7311d3",
            "metadata": {
                "tags": [
                    "hide-input"
                ]
            },
            "outputs": [],
            "source": [
                "from sklearn.model_selection import GridSearchCV\n",
                "from sklearn.linear_model import LinearRegression\n",
                "from sklearn.pipeline import Pipeline\n",
                "from sklearn.feature_selection import SelectKBest\n",
                "from sklearn.feature_selection import f_regression\n",
                "from sklearn.model_selection import RepeatedKFold\n",
                "\n",
                "select_k_best = SelectKBest(score_func=f_regression, k=4)\n",
                "linear_regression = LinearRegression()\n",
                "\n",
                "steps = [\n",
                "    ('select_k_best', select_k_best),\n",
                "    ('linear_regression', linear_regression),\n",
                "]\n",
                "\n",
                "pipeline = Pipeline(steps=steps)\n",
                "\n",
                "\n",
                "# define the grid\n",
                "grid = dict()\n",
                "grid['select_k_best__k'] = [1,2,3]\n",
                "\n",
                "\n",
                "# define the grid search\n",
                "cv = RepeatedKFold(n_splits=3, n_repeats=10, random_state=1)\n",
                "search = GridSearchCV(estimator=pipeline, param_grid=grid, scoring='neg_mean_absolute_error', n_jobs=-1, cv=cv)\n",
                "# perform the search\n",
                "search_result = search.fit(Xs['cubic'], y_train)\n"
            ]
        },
        {
            "cell_type": "code",
            "execution_count": null,
            "id": "309e8917-41e2-4ab3-b65f-0a66752160bc",
            "metadata": {
                "tags": [
                    "hide-input"
                ]
            },
            "outputs": [],
            "source": [
                "mask = search_result.best_estimator_['select_k_best'].get_support()\n",
                "Xs['cubic'].columns[mask]"
            ]
        },
        {
            "cell_type": "markdown",
            "id": "c86d15b9-a9b3-41b1-874e-1786d46bc290",
            "metadata": {},
            "source": [
                "The grid search suggests that $C_1$ and $C_2$ should be in the model and that $C_3$ can be removed."
            ]
        },
        {
            "cell_type": "markdown",
            "id": "e3b39d29-269b-40f1-8ab9-ac0ce6fe1fe2",
            "metadata": {},
            "source": [
                "### Final words\n",
                "So when regressing a model \"less is more\" is perhaps a good rule in terms of adding coefficients and complexity to the model and this is true for Vessel Manoeuvring Models as well. \n",
                "\n",
                "For heavy metal the reversed is however still true, perhaps best quoted by Mr Yngwie Malmsteen :-).\n",
                "<iframe width=\"560\" height=\"315\" vessel_manoeuvring_models=\"https://www.youtube.com/embed/QHZ48AE3TOI\" title=\"YouTube video player\" frameborder=\"0\" allow=\"accelerometer; autoplay; clipboard-write; encrypted-media; gyroscope; picture-in-picture\" allowfullscreen></iframe>"
            ]
        },
        {
            "cell_type": "code",
            "execution_count": null,
            "id": "bbcbef94-0ac4-49af-bd4e-b9d0befc4e18",
            "metadata": {},
            "outputs": [],
            "source": []
        }
    ],
    "metadata": {
        "kernelspec": {
            "display_name": "Python 3",
            "language": "python",
            "name": "python3"
        },
        "language_info": {
            "codemirror_mode": {
                "name": "ipython",
                "version": 3
            },
            "file_extension": ".py",
            "mimetype": "text/x-python",
            "name": "python",
            "nbconvert_exporter": "python",
            "pygments_lexer": "ipython3",
            "version": "3.9.5"
        }
    },
    "nbformat": 4,
    "nbformat_minor": 5
}