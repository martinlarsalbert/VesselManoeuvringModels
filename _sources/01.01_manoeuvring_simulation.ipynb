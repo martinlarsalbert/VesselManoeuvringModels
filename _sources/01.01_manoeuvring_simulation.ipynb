{
 "cells": [
  {
   "cell_type": "markdown",
   "metadata": {},
   "source": [
    "# Manoeuvring simulations"
   ]
  },
  {
   "cell_type": "markdown",
   "metadata": {},
   "source": [
    "## Purpose\n",
    "* The regression of simulated data works extremly well with linear data as seen in: [12.01_regression_simulated_data.ipynb](12.01_regression_simulated_data.ipynb)\n",
    "* Will this also work when adding nonlinear terms to the EOM and system force model?"
   ]
  },
  {
   "cell_type": "markdown",
   "metadata": {},
   "source": [
    "## Methodology\n",
    "* Simulate wPCC using Brix coefficients.\n",
    "* Regress the simulated data\n",
    "* What is the accuray?\n",
    "* Are the coefficients the same?"
   ]
  },
  {
   "cell_type": "markdown",
   "metadata": {},
   "source": [
    "## Results\n",
    "Describe and comment the most important results."
   ]
  },
  {
   "cell_type": "markdown",
   "metadata": {},
   "source": [
    "## Setup"
   ]
  },
  {
   "cell_type": "code",
   "execution_count": 1,
   "metadata": {
    "tags": [
     "hide-cell"
    ]
   },
   "outputs": [
    {
     "name": "stderr",
     "output_type": "stream",
     "text": [
      "Duplicate key in file WindowsPath('C:/Users/maa/.matplotlib/stylelib/paper.mplstyle'), line 462 ('figure.figsize   : 5, 3   ## figure size in inches')\n",
      "Duplicate key in file WindowsPath('C:/Users/maa/.matplotlib/stylelib/paper.mplstyle'), line 463 ('figure.dpi       : 100        ## figure dots per inch')\n"
     ]
    }
   ],
   "source": [
    "# %load imports.py\n",
    "## Local packages:\n",
    "\n",
    "%matplotlib inline\n",
    "%load_ext autoreload\n",
    "%autoreload 2\n",
    "%config Completer.use_jedi = False  ## (To fix autocomplete)\n",
    "\n",
    "## External packages:\n",
    "import pandas as pd\n",
    "pd.options.display.max_rows = 999\n",
    "pd.options.display.max_columns = 999\n",
    "pd.set_option(\"display.max_columns\", None)\n",
    "\n",
    "import numpy as np\n",
    "import os\n",
    "import matplotlib.pyplot as plt\n",
    "#if os.name == 'nt':\n",
    "#    plt.style.use('presentation.mplstyle')  # Windows\n",
    "\n",
    "import plotly.express as px \n",
    "import plotly.graph_objects as go\n",
    "\n",
    "import seaborn as sns\n",
    "import sympy as sp\n",
    "from sympy.physics.mechanics import (dynamicsymbols, ReferenceFrame,\n",
    "                                      Particle, Point)\n",
    "from sympy.physics.vector.printing import vpprint, vlatex\n",
    "from IPython.display import display, Math, Latex\n",
    "from src.substitute_dynamic_symbols import run, lambdify\n",
    "\n",
    "import pyro\n",
    "\n",
    "import sklearn\n",
    "import pykalman\n",
    "from statsmodels.sandbox.regression.predstd import wls_prediction_std\n",
    "import statsmodels.api as sm\n",
    "\n",
    "from scipy.integrate import solve_ivp\n",
    "\n",
    "## Local packages:\n",
    "from src.data import mdl\n",
    "\n",
    "from src.symbols import *\n",
    "from src.parameters import *\n",
    "import src.symbols as symbols\n",
    "from src import prime_system\n",
    "from src.models import regression\n",
    "from src.visualization.regression import show_pred\n",
    "from src.visualization.plot import track_plot\n",
    "from src.equation import Equation\n",
    "\n",
    "## Load models:\n",
    "# (Uncomment these for faster loading):\n",
    "import src.models.vmm_nonlinear_EOM  as vmm"
   ]
  },
  {
   "cell_type": "markdown",
   "metadata": {},
   "source": [
    "## Ship parameters"
   ]
  },
  {
   "cell_type": "code",
   "execution_count": 22,
   "metadata": {
    "tags": [
     "remove-cell"
    ]
   },
   "outputs": [],
   "source": [
    "T_ = 5\n",
    "L_ = 100\n",
    "rho_ = 1000\n",
    "B_ = 20\n",
    "CB_ = 0.65\n",
    "Volume_ = L_*B_*T_*CB_\n",
    "m_ = Volume_*rho_\n",
    "x_G_ = 1.5\n",
    "I_z_ = m_*(L_*0.2)**2\n",
    "\n",
    "ship_parameters = {\n",
    "        'T' : T_,\n",
    "        'L' : L_,\n",
    "        'CB' :CB_,\n",
    "        'B' : B_,\n",
    "        'rho' : rho_,\n",
    "        'x_G' : x_G_,  # motions are expressed at CG\n",
    "        'm' : m_,\n",
    "        'I_z': I_z_, \n",
    "        'volume':Volume_,\n",
    "    }\n",
    "\n",
    "ps = prime_system.PrimeSystem(**ship_parameters)  # model"
   ]
  },
  {
   "cell_type": "code",
   "execution_count": 23,
   "metadata": {
    "tags": [
     "remove-input"
    ]
   },
   "outputs": [
    {
     "data": {
      "text/plain": [
       "{'T': 5,\n",
       " 'L': 100,\n",
       " 'CB': 0.65,\n",
       " 'B': 20,\n",
       " 'rho': 1000,\n",
       " 'x_G': 1.5,\n",
       " 'm': 6500000.0,\n",
       " 'I_z': 2600000000.0,\n",
       " 'volume': 6500.0}"
      ]
     },
     "execution_count": 23,
     "metadata": {},
     "output_type": "execute_result"
    }
   ],
   "source": [
    "ship_parameters"
   ]
  },
  {
   "cell_type": "code",
   "execution_count": 24,
   "metadata": {
    "tags": [
     "remove-cell"
    ]
   },
   "outputs": [],
   "source": [
    "ship_parameters_prime = ps.prime(ship_parameters)"
   ]
  },
  {
   "cell_type": "markdown",
   "metadata": {},
   "source": [
    "## Brix parameters"
   ]
  },
  {
   "cell_type": "code",
   "execution_count": 25,
   "metadata": {
    "tags": [
     "remove-cell"
    ]
   },
   "outputs": [],
   "source": [
    "def calculate_prime(row, ship_parameters):\n",
    "    return run(function=row['brix_lambda'], inputs=ship_parameters)\n",
    "\n",
    "\n",
    "mask = df_parameters['brix_lambda'].notnull()\n",
    "df_parameters.loc[mask,'brix_prime'] = df_parameters.loc[mask].apply(calculate_prime, ship_parameters=ship_parameters, axis=1)\n",
    "\n",
    "#df_parameters['brix_prime'].fillna(0, inplace=True)\n"
   ]
  },
  {
   "cell_type": "code",
   "execution_count": 26,
   "metadata": {
    "tags": [
     "remove-cell"
    ]
   },
   "outputs": [],
   "source": [
    "df_parameters['prime'] = df_parameters['brix_prime']\n",
    "\n",
    "df_parameters.loc['Ydelta','prime'] = 0.001  # Just guessing\n",
    "df_parameters.loc['Ndelta','prime'] = -df_parameters.loc['Ydelta','prime']/2  # Just guessing\n",
    "df_parameters['prime'].fillna(0, inplace=True)"
   ]
  },
  {
   "cell_type": "code",
   "execution_count": 38,
   "metadata": {
    "tags": [
     "remove-input"
    ]
   },
   "outputs": [
    {
     "data": {
      "text/latex": [
       "$\\displaystyle X_{\\dot{u}} = 0.000520694375159361$"
      ],
      "text/plain": [
       "Eq(X_{\\dot{u}}, 0.000520694375159361)"
      ]
     },
     "metadata": {},
     "output_type": "display_data"
    },
    {
     "data": {
      "text/latex": [
       "$\\displaystyle Y_{\\dot{v}} = -0.00951902574037707$"
      ],
      "text/plain": [
       "Eq(Y_{\\dot{v}}, -0.00951902574037707)"
      ]
     },
     "metadata": {},
     "output_type": "display_data"
    },
    {
     "data": {
      "text/latex": [
       "$\\displaystyle Y_{\\dot{r}} = -0.000637743308678728$"
      ],
      "text/plain": [
       "Eq(Y_{\\dot{r}}, -0.000637743308678728)"
      ]
     },
     "metadata": {},
     "output_type": "display_data"
    },
    {
     "data": {
      "text/latex": [
       "$\\displaystyle N_{\\dot{v}} = -0.000471238898038469$"
      ],
      "text/plain": [
       "Eq(N_{\\dot{v}}, -0.000471238898038469)"
      ]
     },
     "metadata": {},
     "output_type": "display_data"
    },
    {
     "data": {
      "text/latex": [
       "$\\displaystyle N_{\\dot{r}} = -0.00048328166987723$"
      ],
      "text/plain": [
       "Eq(N_{\\dot{r}}, -0.00048328166987723)"
      ]
     },
     "metadata": {},
     "output_type": "display_data"
    },
    {
     "data": {
      "text/latex": [
       "$\\displaystyle Y_{v} = -0.0160221225333079$"
      ],
      "text/plain": [
       "Eq(Y_{v}, -0.0160221225333079)"
      ]
     },
     "metadata": {},
     "output_type": "display_data"
    },
    {
     "data": {
      "text/latex": [
       "$\\displaystyle Y_{r} = 0.0029845130209103$"
      ],
      "text/plain": [
       "Eq(Y_{r}, 0.0029845130209103)"
      ]
     },
     "metadata": {},
     "output_type": "display_data"
    },
    {
     "data": {
      "text/latex": [
       "$\\displaystyle Y_{delta} = 0.001$"
      ],
      "text/plain": [
       "Eq(Y_{delta}, 0.001)"
      ]
     },
     "metadata": {},
     "output_type": "display_data"
    },
    {
     "data": {
      "text/latex": [
       "$\\displaystyle N_{v} = -0.00486946861306418$"
      ],
      "text/plain": [
       "Eq(N_{v}, -0.00486946861306418)"
      ]
     },
     "metadata": {},
     "output_type": "display_data"
    },
    {
     "data": {
      "text/latex": [
       "$\\displaystyle N_{r} = -0.0023090706003885$"
      ],
      "text/plain": [
       "Eq(N_{r}, -0.0023090706003885)"
      ]
     },
     "metadata": {},
     "output_type": "display_data"
    },
    {
     "data": {
      "text/latex": [
       "$\\displaystyle N_{delta} = -0.0005$"
      ],
      "text/plain": [
       "Eq(N_{delta}, -0.0005)"
      ]
     },
     "metadata": {},
     "output_type": "display_data"
    }
   ],
   "source": [
    "mask = df_parameters['prime'].abs() > 0\n",
    "for index, parameter in df_parameters.loc[mask].iterrows():\n",
    "    display(sp.Eq(parameter['symbol'],parameter['prime']))"
   ]
  },
  {
   "cell_type": "markdown",
   "metadata": {},
   "source": [
    "## Simulate data"
   ]
  },
  {
   "cell_type": "code",
   "execution_count": 27,
   "metadata": {
    "tags": [
     "remove-cell"
    ]
   },
   "outputs": [],
   "source": [
    "parameters=df_parameters['prime'].copy()\n",
    "\n",
    "t_ = np.linspace(0,400,1000)\n",
    "df = pd.DataFrame(index=t_)\n",
    "\n",
    "df['u'] = 2\n",
    "df['v'] = 0\n",
    "df['r'] = 0\n",
    "df['x0'] = 0\n",
    "df['y0'] = 0\n",
    "df['psi'] = 0\n",
    "df['U'] = np.sqrt(df['u']**2 + df['v']**2)\n",
    "df['beta'] = -np.arctan2(df['v'],df['u'])\n",
    "\n",
    "df['delta'] = np.deg2rad(20)\n",
    "\n",
    "result = vmm.simulator.simulate(df_=df, parameters=parameters, ship_parameters=ship_parameters, \n",
    "                                  control_keys=['delta'], primed_parameters=True,prime_system=ps)"
   ]
  },
  {
   "cell_type": "code",
   "execution_count": 28,
   "metadata": {
    "tags": [
     "remove-input"
    ]
   },
   "outputs": [
    {
     "data": {
      "image/png": "[encoded data removed]",
      "text/plain": [
       "<Figure size 432x288 with 1 Axes>"
      ]
     },
     "metadata": {
      "needs_background": "light"
     },
     "output_type": "display_data"
    }
   ],
   "source": [
    "result.track_plot();"
   ]
  },
  {
   "cell_type": "code",
   "execution_count": 43,
   "metadata": {
    "tags": [
     "remove-input"
    ]
   },
   "outputs": [
    {
     "data": {
      "image/png": "[encoded data removed]",
      "text/plain": [
       "<Figure size 432x288 with 10 Axes>"
      ]
     },
     "metadata": {
      "needs_background": "light"
     },
     "output_type": "display_data"
    }
   ],
   "source": [
    "result.plot()"
   ]
  }
 ],
 "metadata": {
  "citation-manager": {
   "items": {}
  },
  "kernelspec": {
   "display_name": "Python 3",
   "language": "python",
   "name": "python3"
  },
  "language_info": {
   "codemirror_mode": {
    "name": "ipython",
    "version": 3
   },
   "file_extension": ".py",
   "mimetype": "text/x-python",
   "name": "python",
   "nbconvert_exporter": "python",
   "pygments_lexer": "ipython3",
   "version": "3.9.5"
  }
 },
 "nbformat": 4,
 "nbformat_minor": 4
}
