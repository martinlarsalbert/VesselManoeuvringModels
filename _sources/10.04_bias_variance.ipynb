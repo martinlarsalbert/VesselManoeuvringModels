{
 "cells": [
  {
   "cell_type": "markdown",
   "id": "0a4fd30d-2989-42e5-a09a-7e4283ce66ea",
   "metadata": {},
   "source": [
    "# Bias/Variance\n",
    "![](https://external-preview.redd.it/NuGMMcqRTV7m7GHDlZiAh4cTc65DlO5V6rVif38bKWc.jpg?width=640&crop=smart&auto=webp&s=48b6dede45f868b670cd6ccb82e8275d47461d0c)\n",
    "\n",
    "**Bias** is the model error between the regression model and the \"true\" physical model. \n",
    "\n",
    "*Example:* <br>\n",
    "The true physical model for the position of a falling object in vacuum can be written as: <br>s\n",
    "$ s=-g \\cdot \\frac{t^2}{2} $\n",
    "\n",
    "If we linearize this model: <br>\n",
    "$ s=-g \\cdot t $\n",
    "\n",
    "This linearization will introduce **bias**.\n",
    "\n",
    "**Variance**\n",
    "Variance is how the error of the model changes when making predictions for different datasets. \n",
    "For instance in the example above perhaps the simplified linearized model will be equaly inacurrate in predicting the physics in the training set as well as in the testing set, giving a low variance. \n",
    "\n",
    "The goal with any model is to find the Bias–variance tradeoff. In this example we will fit a linear, quadratic and cubic model to a generic dataset generated from a quadratic model, to study the Bias–variance tradeoff.\n",
    "\n",
    "\n",
    "\n",
    "\n"
   ]
  },
  {
   "cell_type": "code",
   "execution_count": 1,
   "id": "855d1c0e-a9fb-4b4e-9fa1-1d5c97f72f26",
   "metadata": {
    "tags": [
     "remove-cell"
    ]
   },
   "outputs": [],
   "source": [
    "# %load imports.py\n",
    "%load_ext autoreload\n",
    "%autoreload 2\n",
    "%config Completer.use_jedi = False  ## (To fix autocomplete)\n",
    "import warnings\n",
    "warnings.filterwarnings('ignore')\n",
    "import pandas as pd\n",
    "import matplotlib.pyplot as plt\n",
    "import numpy as np\n",
    "import os.path\n",
    "\n",
    "import matplotlib\n",
    "matplotlib.rcParams[\"figure.figsize\"] = (15,4)\n",
    "from src.symbols import *\n",
    "import statsmodels.api as sm\n",
    "from scipy.stats import norm\n",
    "from scipy.stats import norm, multivariate_normal\n",
    "from sklearn.model_selection import train_test_split\n",
    "from sklearn.metrics import mean_squared_error"
   ]
  },
  {
   "cell_type": "markdown",
   "id": "c464003c-5198-4afe-ba5c-9f4c5923c5df",
   "metadata": {},
   "source": [
    "These are the model that we think will fit the generic dataset:"
   ]
  },
  {
   "cell_type": "code",
   "execution_count": 2,
   "id": "cdd6ca31-13d1-4fff-8e41-74403351e0f3",
   "metadata": {
    "tags": [
     "hide-input",
     "remove-input"
    ]
   },
   "outputs": [
    {
     "data": {
      "text/latex": [
       "$\\displaystyle y = C_{1} x$"
      ],
      "text/plain": [
       "Eq(y, C_1*x)"
      ]
     },
     "metadata": {},
     "output_type": "display_data"
    },
    {
     "data": {
      "text/latex": [
       "$\\displaystyle y = C_{1} x + C_{2} x^{2}$"
      ],
      "text/plain": [
       "Eq(y, C_1*x + C_2*x**2)"
      ]
     },
     "metadata": {},
     "output_type": "display_data"
    },
    {
     "data": {
      "text/latex": [
       "$\\displaystyle y = C_{1} x + C_{2} x^{2} + C_{3} x^{3}$"
      ],
      "text/plain": [
       "Eq(y, C_1*x + C_2*x**2 + C_3*x**3)"
      ]
     },
     "metadata": {},
     "output_type": "display_data"
    }
   ],
   "source": [
    "C_1,C_2,C_3,x, y = sp.symbols(\"C_1 C_2 C_3 x y\")\n",
    "\n",
    "epsilon, z = sp.symbols(\"epsilon z\")\n",
    "\n",
    "models_real = {}\n",
    "\n",
    "models_real['linear'] = sp.Eq(y, C_1*x)\n",
    "\n",
    "models_real['quadratic'] = sp.Eq(y, C_1*x + C_2*x**2)\n",
    "\n",
    "models_real['cubic'] = sp.Eq(y, C_1*x + C_2*x**2 + C_3*x**3)\n",
    "\n",
    "for eq in models_real.values():\n",
    "    display(eq)\n"
   ]
  },
  {
   "cell_type": "code",
   "execution_count": 3,
   "id": "aec9fc8a-9a44-4909-a704-bcbac91ca87a",
   "metadata": {
    "tags": [
     "remove-cell"
    ]
   },
   "outputs": [],
   "source": [
    "lambdas_real={}\n",
    "for name,eq in models_real.items():\n",
    "    solution = sp.solve(eq, y, dict=True)[0][y]\n",
    "    lambdas_real[name] = sp.lambdify(list(solution.free_symbols), solution)\n",
    "    "
   ]
  },
  {
   "cell_type": "markdown",
   "id": "3a7e22a2-b6f0-4b10-b7bb-a714267ad5c5",
   "metadata": {},
   "source": [
    "An error term $\\epsilon$ must be added to the models to reproduce $z$ which is the measured values of $y$: <br>\n",
    "$z=y+\\epsilon$"
   ]
  },
  {
   "cell_type": "code",
   "execution_count": 4,
   "id": "e44a034a-6c30-4ab5-973f-a66e7ebc3a76",
   "metadata": {
    "tags": [
     "remove-input"
    ]
   },
   "outputs": [
    {
     "data": {
      "text/latex": [
       "$\\displaystyle z = C_{1} x + \\epsilon$"
      ],
      "text/plain": [
       "Eq(z, C_1*x + epsilon)"
      ]
     },
     "metadata": {},
     "output_type": "display_data"
    },
    {
     "data": {
      "text/latex": [
       "$\\displaystyle z = C_{1} x + C_{2} x^{2} + \\epsilon$"
      ],
      "text/plain": [
       "Eq(z, C_1*x + C_2*x**2 + epsilon)"
      ]
     },
     "metadata": {},
     "output_type": "display_data"
    },
    {
     "data": {
      "text/latex": [
       "$\\displaystyle z = C_{1} x + C_{2} x^{2} + C_{3} x^{3} + \\epsilon$"
      ],
      "text/plain": [
       "Eq(z, C_1*x + C_2*x**2 + C_3*x**3 + epsilon)"
      ]
     },
     "metadata": {},
     "output_type": "display_data"
    }
   ],
   "source": [
    "models = {}\n",
    "for name,eq in models_real.items():\n",
    "    models[name] = sp.Eq(z,eq.rhs+epsilon)\n",
    "    \n",
    "for eq in models.values():\n",
    "    display(eq)\n",
    "    \n",
    "lambdas={}\n",
    "for name,eq in models.items():\n",
    "    solution = sp.solve(eq, z, dict=True)[0][z]\n",
    "    lambdas[name] = sp.lambdify(list(solution.free_symbols), solution)"
   ]
  },
  {
   "cell_type": "code",
   "execution_count": 5,
   "id": "82fe4263-ccca-4a41-8ed0-7307cab70f83",
   "metadata": {
    "tags": [
     "remove-cell"
    ]
   },
   "outputs": [],
   "source": [
    "scale = 0.5\n",
    "epsilon_ = norm(loc=0, scale=scale)\n",
    "\n",
    "N=20\n",
    "\n",
    "data = pd.DataFrame()\n",
    "\n",
    "data['x'] = np.linspace(0,5,N)\n",
    "\n",
    "data['C_1'] = 1 \n",
    "data['C_2'] = 1\n",
    "data['C_3'] = 1\n",
    "\n",
    "data['y'] = lambdas_real['quadratic'](x=data['x'], C_1=data['C_1'], C_2=data['C_2'])\n",
    "np.random.seed(43)\n",
    "data['epsilon'] = epsilon_.rvs(N)\n",
    "data['z'] = lambdas['quadratic'](x=data['x'], C_1=data['C_1'], C_2=data['C_2'], epsilon=data['epsilon'])"
   ]
  },
  {
   "cell_type": "code",
   "execution_count": 6,
   "id": "a0667f01-cdc5-440e-81d6-4b6aec4a428e",
   "metadata": {
    "tags": [
     "remove-cell"
    ]
   },
   "outputs": [],
   "source": [
    "#X_train, X_test, y_train, y_test = train_test_split(data[['x']], data['z'], test_size=0.3, random_state=42)\n",
    "\n",
    "test_size=0.3\n",
    "index = int(np.ceil(len(data)*test_size))\n",
    "\n",
    "X = data[['x']]\n",
    "y_ = data['z']\n",
    "\n",
    "X_train = X.iloc[0:-index]\n",
    "y_train = y_.iloc[0:-index]\n",
    "\n",
    "X_test = X.iloc[-index:]\n",
    "y_test = y_.iloc[-index:]\n",
    "\n",
    "#X_train.sort_values(by='x', inplace=True)\n",
    "#y_train=y_train.loc[X_train.index].copy()\n",
    "#\n",
    "#X_test.sort_values(by='x', inplace=True)\n",
    "#y_test=y_test.loc[X_test.index].copy()"
   ]
  },
  {
   "cell_type": "code",
   "execution_count": 19,
   "id": "a2ca1572-b09b-481a-aefc-03ba00bf162a",
   "metadata": {
    "tags": [
     "remove-input"
    ]
   },
   "outputs": [
    {
     "data": {
      "image/png": "[encoded data removed]",
      "text/plain": [
       "<Figure size 1080x288 with 1 Axes>"
      ]
     },
     "metadata": {
      "needs_background": "light"
     },
     "output_type": "display_data"
    }
   ],
   "source": [
    "fig,ax=plt.subplots()\n",
    "\n",
    "data.plot(x='x',y='y', label='$y$ (real model)', ax=ax)\n",
    "\n",
    "ax.plot(X_train['x'], y_train, 'go', label='$z$ (training data)')\n",
    "ax.plot(X_test['x'], y_test, 'rs', label='$z$ (test data)')\n",
    "\n",
    "ax.set_xlabel('$x$');\n",
    "ax.legend();"
   ]
  },
  {
   "cell_type": "code",
   "execution_count": 8,
   "id": "80776f79-d6c4-4abb-b6c5-cf857bbda0d2",
   "metadata": {
    "tags": [
     "remove-input",
     "remove-cell"
    ]
   },
   "outputs": [],
   "source": [
    "Xs = {}\n",
    "\n",
    "X = pd.DataFrame(index=X_train.index)\n",
    "X['C_1'] = X_train['x']\n",
    "Xs['linear'] = X.copy()\n",
    "X['C_2'] = X_train['x']**2\n",
    "Xs['quadratic'] = X.copy()\n",
    "X['C_3'] = X_train['x']**3\n",
    "Xs['cubic'] = X.copy()\n",
    "\n",
    "fits = {}\n",
    "for name,X in Xs.items():\n",
    "    \n",
    "    m = sm.OLS(y_train, X, hasconst=False)\n",
    "    fits[name] = m.fit()"
   ]
  },
  {
   "cell_type": "markdown",
   "id": "da91d80a-6b7f-4582-bc96-809a7c1cf98a",
   "metadata": {},
   "source": [
    "## Ordinary Least Square regressions"
   ]
  },
  {
   "cell_type": "markdown",
   "id": "2aa7892b-45f8-48df-aca9-be29f82b3cae",
   "metadata": {},
   "source": [
    "### Linear"
   ]
  },
  {
   "cell_type": "code",
   "execution_count": 9,
   "id": "86fc7cfa-c64f-40b1-aeb8-6accd22831bc",
   "metadata": {
    "tags": [
     "remove-input"
    ]
   },
   "outputs": [
    {
     "data": {
      "text/html": [
       "<table class=\"simpletable\">\n",
       "<caption>OLS Regression Results</caption>\n",
       "<tr>\n",
       "  <th>Dep. Variable:</th>            <td>z</td>        <th>  R-squared (uncentered):</th>      <td>   0.973</td>\n",
       "</tr>\n",
       "<tr>\n",
       "  <th>Model:</th>                   <td>OLS</td>       <th>  Adj. R-squared (uncentered):</th> <td>   0.971</td>\n",
       "</tr>\n",
       "<tr>\n",
       "  <th>Method:</th>             <td>Least Squares</td>  <th>  F-statistic:       </th>          <td>   463.9</td>\n",
       "</tr>\n",
       "<tr>\n",
       "  <th>Date:</th>             <td>Fri, 11 Feb 2022</td> <th>  Prob (F-statistic):</th>          <td>1.49e-11</td>\n",
       "</tr>\n",
       "<tr>\n",
       "  <th>Time:</th>                 <td>11:17:17</td>     <th>  Log-Likelihood:    </th>          <td> -22.729</td>\n",
       "</tr>\n",
       "<tr>\n",
       "  <th>No. Observations:</th>      <td>    14</td>      <th>  AIC:               </th>          <td>   47.46</td>\n",
       "</tr>\n",
       "<tr>\n",
       "  <th>Df Residuals:</th>          <td>    13</td>      <th>  BIC:               </th>          <td>   48.10</td>\n",
       "</tr>\n",
       "<tr>\n",
       "  <th>Df Model:</th>              <td>     1</td>      <th>                     </th>              <td> </td>   \n",
       "</tr>\n",
       "<tr>\n",
       "  <th>Covariance Type:</th>      <td>nonrobust</td>    <th>                     </th>              <td> </td>   \n",
       "</tr>\n",
       "</table>\n",
       "<table class=\"simpletable\">\n",
       "<tr>\n",
       "   <td></td>      <th>coef</th>     <th>std err</th>      <th>t</th>      <th>P>|t|</th>  <th>[0.025</th>    <th>0.975]</th>  \n",
       "</tr>\n",
       "<tr>\n",
       "  <th>C_1</th> <td>    3.6414</td> <td>    0.169</td> <td>   21.537</td> <td> 0.000</td> <td>    3.276</td> <td>    4.007</td>\n",
       "</tr>\n",
       "</table>\n",
       "<table class=\"simpletable\">\n",
       "<tr>\n",
       "  <th>Omnibus:</th>       <td> 3.355</td> <th>  Durbin-Watson:     </th> <td>   0.363</td>\n",
       "</tr>\n",
       "<tr>\n",
       "  <th>Prob(Omnibus):</th> <td> 0.187</td> <th>  Jarque-Bera (JB):  </th> <td>   1.798</td>\n",
       "</tr>\n",
       "<tr>\n",
       "  <th>Skew:</th>          <td> 0.878</td> <th>  Prob(JB):          </th> <td>   0.407</td>\n",
       "</tr>\n",
       "<tr>\n",
       "  <th>Kurtosis:</th>      <td> 3.050</td> <th>  Cond. No.          </th> <td>    1.00</td>\n",
       "</tr>\n",
       "</table><br/><br/>Notes:<br/>[1] R² is computed without centering (uncentered) since the model does not contain a constant.<br/>[2] Standard Errors assume that the covariance matrix of the errors is correctly specified."
      ],
      "text/plain": [
       "<class 'statsmodels.iolib.summary.Summary'>\n",
       "\"\"\"\n",
       "                                 OLS Regression Results                                \n",
       "=======================================================================================\n",
       "Dep. Variable:                      z   R-squared (uncentered):                   0.973\n",
       "Model:                            OLS   Adj. R-squared (uncentered):              0.971\n",
       "Method:                 Least Squares   F-statistic:                              463.9\n",
       "Date:                Fri, 11 Feb 2022   Prob (F-statistic):                    1.49e-11\n",
       "Time:                        11:17:17   Log-Likelihood:                         -22.729\n",
       "No. Observations:                  14   AIC:                                      47.46\n",
       "Df Residuals:                      13   BIC:                                      48.10\n",
       "Df Model:                           1                                                  \n",
       "Covariance Type:            nonrobust                                                  \n",
       "==============================================================================\n",
       "                 coef    std err          t      P>|t|      [0.025      0.975]\n",
       "------------------------------------------------------------------------------\n",
       "C_1            3.6414      0.169     21.537      0.000       3.276       4.007\n",
       "==============================================================================\n",
       "Omnibus:                        3.355   Durbin-Watson:                   0.363\n",
       "Prob(Omnibus):                  0.187   Jarque-Bera (JB):                1.798\n",
       "Skew:                           0.878   Prob(JB):                        0.407\n",
       "Kurtosis:                       3.050   Cond. No.                         1.00\n",
       "==============================================================================\n",
       "\n",
       "Notes:\n",
       "[1] R² is computed without centering (uncentered) since the model does not contain a constant.\n",
       "[2] Standard Errors assume that the covariance matrix of the errors is correctly specified.\n",
       "\"\"\""
      ]
     },
     "execution_count": 9,
     "metadata": {},
     "output_type": "execute_result"
    }
   ],
   "source": [
    "fits['linear'].summary()"
   ]
  },
  {
   "cell_type": "markdown",
   "id": "ef348af7-7e0f-4003-bb06-031c13892e11",
   "metadata": {},
   "source": [
    "### Quadratic"
   ]
  },
  {
   "cell_type": "code",
   "execution_count": 10,
   "id": "6f09998b-ef62-4c50-9efd-d20a6ba528cb",
   "metadata": {
    "tags": [
     "remove-input"
    ]
   },
   "outputs": [
    {
     "data": {
      "text/html": [
       "<table class=\"simpletable\">\n",
       "<caption>OLS Regression Results</caption>\n",
       "<tr>\n",
       "  <th>Dep. Variable:</th>            <td>z</td>        <th>  R-squared (uncentered):</th>      <td>   0.997</td>\n",
       "</tr>\n",
       "<tr>\n",
       "  <th>Model:</th>                   <td>OLS</td>       <th>  Adj. R-squared (uncentered):</th> <td>   0.996</td>\n",
       "</tr>\n",
       "<tr>\n",
       "  <th>Method:</th>             <td>Least Squares</td>  <th>  F-statistic:       </th>          <td>   1979.</td>\n",
       "</tr>\n",
       "<tr>\n",
       "  <th>Date:</th>             <td>Fri, 11 Feb 2022</td> <th>  Prob (F-statistic):</th>          <td>7.62e-16</td>\n",
       "</tr>\n",
       "<tr>\n",
       "  <th>Time:</th>                 <td>11:17:17</td>     <th>  Log-Likelihood:    </th>          <td> -7.3319</td>\n",
       "</tr>\n",
       "<tr>\n",
       "  <th>No. Observations:</th>      <td>    14</td>      <th>  AIC:               </th>          <td>   18.66</td>\n",
       "</tr>\n",
       "<tr>\n",
       "  <th>Df Residuals:</th>          <td>    12</td>      <th>  BIC:               </th>          <td>   19.94</td>\n",
       "</tr>\n",
       "<tr>\n",
       "  <th>Df Model:</th>              <td>     2</td>      <th>                     </th>              <td> </td>   \n",
       "</tr>\n",
       "<tr>\n",
       "  <th>Covariance Type:</th>      <td>nonrobust</td>    <th>                     </th>              <td> </td>   \n",
       "</tr>\n",
       "</table>\n",
       "<table class=\"simpletable\">\n",
       "<tr>\n",
       "   <td></td>      <th>coef</th>     <th>std err</th>      <th>t</th>      <th>P>|t|</th>  <th>[0.025</th>    <th>0.975]</th>  \n",
       "</tr>\n",
       "<tr>\n",
       "  <th>C_1</th> <td>    1.4069</td> <td>    0.235</td> <td>    5.982</td> <td> 0.000</td> <td>    0.894</td> <td>    1.919</td>\n",
       "</tr>\n",
       "<tr>\n",
       "  <th>C_2</th> <td>    0.8398</td> <td>    0.086</td> <td>    9.811</td> <td> 0.000</td> <td>    0.653</td> <td>    1.026</td>\n",
       "</tr>\n",
       "</table>\n",
       "<table class=\"simpletable\">\n",
       "<tr>\n",
       "  <th>Omnibus:</th>       <td> 1.098</td> <th>  Durbin-Watson:     </th> <td>   1.874</td>\n",
       "</tr>\n",
       "<tr>\n",
       "  <th>Prob(Omnibus):</th> <td> 0.578</td> <th>  Jarque-Bera (JB):  </th> <td>   0.939</td>\n",
       "</tr>\n",
       "<tr>\n",
       "  <th>Skew:</th>          <td> 0.508</td> <th>  Prob(JB):          </th> <td>   0.625</td>\n",
       "</tr>\n",
       "<tr>\n",
       "  <th>Kurtosis:</th>      <td> 2.241</td> <th>  Cond. No.          </th> <td>    12.4</td>\n",
       "</tr>\n",
       "</table><br/><br/>Notes:<br/>[1] R² is computed without centering (uncentered) since the model does not contain a constant.<br/>[2] Standard Errors assume that the covariance matrix of the errors is correctly specified."
      ],
      "text/plain": [
       "<class 'statsmodels.iolib.summary.Summary'>\n",
       "\"\"\"\n",
       "                                 OLS Regression Results                                \n",
       "=======================================================================================\n",
       "Dep. Variable:                      z   R-squared (uncentered):                   0.997\n",
       "Model:                            OLS   Adj. R-squared (uncentered):              0.996\n",
       "Method:                 Least Squares   F-statistic:                              1979.\n",
       "Date:                Fri, 11 Feb 2022   Prob (F-statistic):                    7.62e-16\n",
       "Time:                        11:17:17   Log-Likelihood:                         -7.3319\n",
       "No. Observations:                  14   AIC:                                      18.66\n",
       "Df Residuals:                      12   BIC:                                      19.94\n",
       "Df Model:                           2                                                  \n",
       "Covariance Type:            nonrobust                                                  \n",
       "==============================================================================\n",
       "                 coef    std err          t      P>|t|      [0.025      0.975]\n",
       "------------------------------------------------------------------------------\n",
       "C_1            1.4069      0.235      5.982      0.000       0.894       1.919\n",
       "C_2            0.8398      0.086      9.811      0.000       0.653       1.026\n",
       "==============================================================================\n",
       "Omnibus:                        1.098   Durbin-Watson:                   1.874\n",
       "Prob(Omnibus):                  0.578   Jarque-Bera (JB):                0.939\n",
       "Skew:                           0.508   Prob(JB):                        0.625\n",
       "Kurtosis:                       2.241   Cond. No.                         12.4\n",
       "==============================================================================\n",
       "\n",
       "Notes:\n",
       "[1] R² is computed without centering (uncentered) since the model does not contain a constant.\n",
       "[2] Standard Errors assume that the covariance matrix of the errors is correctly specified.\n",
       "\"\"\""
      ]
     },
     "metadata": {},
     "output_type": "display_data"
    }
   ],
   "source": [
    "display(fits['quadratic'].summary())"
   ]
  },
  {
   "cell_type": "markdown",
   "id": "cb710721-5875-4def-bc5d-24ffcd5eafd7",
   "metadata": {},
   "source": [
    "### Cubic"
   ]
  },
  {
   "cell_type": "code",
   "execution_count": 11,
   "id": "b9ed38fc-900a-418b-aca9-699422415e8b",
   "metadata": {
    "tags": [
     "remove-input"
    ]
   },
   "outputs": [
    {
     "data": {
      "text/html": [
       "<table class=\"simpletable\">\n",
       "<caption>OLS Regression Results</caption>\n",
       "<tr>\n",
       "  <th>Dep. Variable:</th>            <td>z</td>        <th>  R-squared (uncentered):</th>      <td>   0.998</td>\n",
       "</tr>\n",
       "<tr>\n",
       "  <th>Model:</th>                   <td>OLS</td>       <th>  Adj. R-squared (uncentered):</th> <td>   0.997</td>\n",
       "</tr>\n",
       "<tr>\n",
       "  <th>Method:</th>             <td>Least Squares</td>  <th>  F-statistic:       </th>          <td>   1478.</td>\n",
       "</tr>\n",
       "<tr>\n",
       "  <th>Date:</th>             <td>Fri, 11 Feb 2022</td> <th>  Prob (F-statistic):</th>          <td>1.30e-14</td>\n",
       "</tr>\n",
       "<tr>\n",
       "  <th>Time:</th>                 <td>11:17:18</td>     <th>  Log-Likelihood:    </th>          <td> -5.9344</td>\n",
       "</tr>\n",
       "<tr>\n",
       "  <th>No. Observations:</th>      <td>    14</td>      <th>  AIC:               </th>          <td>   17.87</td>\n",
       "</tr>\n",
       "<tr>\n",
       "  <th>Df Residuals:</th>          <td>    11</td>      <th>  BIC:               </th>          <td>   19.79</td>\n",
       "</tr>\n",
       "<tr>\n",
       "  <th>Df Model:</th>              <td>     3</td>      <th>                     </th>              <td> </td>   \n",
       "</tr>\n",
       "<tr>\n",
       "  <th>Covariance Type:</th>      <td>nonrobust</td>    <th>                     </th>              <td> </td>   \n",
       "</tr>\n",
       "</table>\n",
       "<table class=\"simpletable\">\n",
       "<tr>\n",
       "   <td></td>      <th>coef</th>     <th>std err</th>      <th>t</th>      <th>P>|t|</th>  <th>[0.025</th>    <th>0.975]</th>  \n",
       "</tr>\n",
       "<tr>\n",
       "  <th>C_1</th> <td>    0.6079</td> <td>    0.559</td> <td>    1.088</td> <td> 0.300</td> <td>   -0.621</td> <td>    1.837</td>\n",
       "</tr>\n",
       "<tr>\n",
       "  <th>C_2</th> <td>    1.5925</td> <td>    0.490</td> <td>    3.253</td> <td> 0.008</td> <td>    0.515</td> <td>    2.670</td>\n",
       "</tr>\n",
       "<tr>\n",
       "  <th>C_3</th> <td>   -0.1595</td> <td>    0.102</td> <td>   -1.559</td> <td> 0.147</td> <td>   -0.385</td> <td>    0.066</td>\n",
       "</tr>\n",
       "</table>\n",
       "<table class=\"simpletable\">\n",
       "<tr>\n",
       "  <th>Omnibus:</th>       <td> 1.453</td> <th>  Durbin-Watson:     </th> <td>   2.282</td>\n",
       "</tr>\n",
       "<tr>\n",
       "  <th>Prob(Omnibus):</th> <td> 0.484</td> <th>  Jarque-Bera (JB):  </th> <td>   0.948</td>\n",
       "</tr>\n",
       "<tr>\n",
       "  <th>Skew:</th>          <td> 0.320</td> <th>  Prob(JB):          </th> <td>   0.622</td>\n",
       "</tr>\n",
       "<tr>\n",
       "  <th>Kurtosis:</th>      <td> 1.897</td> <th>  Cond. No.          </th> <td>    117.</td>\n",
       "</tr>\n",
       "</table><br/><br/>Notes:<br/>[1] R² is computed without centering (uncentered) since the model does not contain a constant.<br/>[2] Standard Errors assume that the covariance matrix of the errors is correctly specified."
      ],
      "text/plain": [
       "<class 'statsmodels.iolib.summary.Summary'>\n",
       "\"\"\"\n",
       "                                 OLS Regression Results                                \n",
       "=======================================================================================\n",
       "Dep. Variable:                      z   R-squared (uncentered):                   0.998\n",
       "Model:                            OLS   Adj. R-squared (uncentered):              0.997\n",
       "Method:                 Least Squares   F-statistic:                              1478.\n",
       "Date:                Fri, 11 Feb 2022   Prob (F-statistic):                    1.30e-14\n",
       "Time:                        11:17:18   Log-Likelihood:                         -5.9344\n",
       "No. Observations:                  14   AIC:                                      17.87\n",
       "Df Residuals:                      11   BIC:                                      19.79\n",
       "Df Model:                           3                                                  \n",
       "Covariance Type:            nonrobust                                                  \n",
       "==============================================================================\n",
       "                 coef    std err          t      P>|t|      [0.025      0.975]\n",
       "------------------------------------------------------------------------------\n",
       "C_1            0.6079      0.559      1.088      0.300      -0.621       1.837\n",
       "C_2            1.5925      0.490      3.253      0.008       0.515       2.670\n",
       "C_3           -0.1595      0.102     -1.559      0.147      -0.385       0.066\n",
       "==============================================================================\n",
       "Omnibus:                        1.453   Durbin-Watson:                   2.282\n",
       "Prob(Omnibus):                  0.484   Jarque-Bera (JB):                0.948\n",
       "Skew:                           0.320   Prob(JB):                        0.622\n",
       "Kurtosis:                       1.897   Cond. No.                         117.\n",
       "==============================================================================\n",
       "\n",
       "Notes:\n",
       "[1] R² is computed without centering (uncentered) since the model does not contain a constant.\n",
       "[2] Standard Errors assume that the covariance matrix of the errors is correctly specified.\n",
       "\"\"\""
      ]
     },
     "metadata": {},
     "output_type": "display_data"
    }
   ],
   "source": [
    "display(fits['cubic'].summary())"
   ]
  },
  {
   "cell_type": "markdown",
   "id": "5f97fb4f-ca9f-442c-bbb0-c0777dbe0154",
   "metadata": {},
   "source": [
    "**From the OLS regression in the training sets we can see:**\n",
    "* Linear model has lower $R^2=0.97$ the the others\n",
    "* Quadratic and Cubic has the same $R^2$\n",
    "* Regressed $C_3$ in the cubic model is very small, it has almost been removed.\n",
    "* The t-test in the Cubic model: ```P>|t|``` has a high value for $C_1$ and $C_3$ indicating that these coefficient are perhaps not needed.\n",
    "* The standar deviation ```std err``` and confidence intervalls for the coefficients in the Cubic model are also larger."
   ]
  },
  {
   "cell_type": "markdown",
   "id": "9a447967-00e2-4dfe-b54e-969a86ba3741",
   "metadata": {},
   "source": [
    "## Predictions"
   ]
  },
  {
   "cell_type": "markdown",
   "id": "990d1fbd-d182-4983-946b-582e8cd530b4",
   "metadata": {},
   "source": [
    "### Training set"
   ]
  },
  {
   "cell_type": "code",
   "execution_count": 12,
   "id": "08381265-e87a-44a6-8bc3-e40515b50134",
   "metadata": {
    "tags": [
     "remove-input"
    ]
   },
   "outputs": [
    {
     "data": {
      "image/png": "[encoded data removed]",
      "text/plain": [
       "<Figure size 1080x288 with 1 Axes>"
      ]
     },
     "metadata": {
      "needs_background": "light"
     },
     "output_type": "display_data"
    }
   ],
   "source": [
    "fig,ax=plt.subplots()\n",
    "\n",
    "x_ = X_train['x']\n",
    "\n",
    "mask = data['x'] < x_.iloc[-1]\n",
    "data.loc[mask].plot(x='x',y='y', label='$y$ (real model)', ax=ax)\n",
    "ax.plot(x_, y_train, 'go', label='$z$ (training data)')\n",
    "\n",
    "y_pred_training = pd.DataFrame()\n",
    "\n",
    "for name,lambda_ in lambdas.items():\n",
    "\n",
    "    y_pred = lambda_(x=x_,**fits[name].params, epsilon=0)\n",
    "    y_pred_training[name] = y_pred\n",
    "    ax.plot(x_, y_pred, '-', label=f'$\\hat{{y}}$ ({name})')\n",
    "    \n",
    "ax.set_xlabel('$x$');\n",
    "ax.legend();\n",
    "    "
   ]
  },
  {
   "cell_type": "markdown",
   "id": "b6cc7344-8cb2-4a19-b1f1-51f7b092703a",
   "metadata": {},
   "source": [
    "### Test set"
   ]
  },
  {
   "cell_type": "code",
   "execution_count": 13,
   "id": "3c049fd2-27f3-45f6-8238-647d3e55d0c8",
   "metadata": {
    "tags": [
     "remove-input"
    ]
   },
   "outputs": [
    {
     "data": {
      "image/png": "[encoded data removed]",
      "text/plain": [
       "<Figure size 1080x288 with 1 Axes>"
      ]
     },
     "metadata": {
      "needs_background": "light"
     },
     "output_type": "display_data"
    }
   ],
   "source": [
    "fig,ax=plt.subplots()\n",
    "\n",
    "x_ = X_test['x']\n",
    "\n",
    "mask = data['x'] > x_.iloc[0]\n",
    "data.loc[mask].plot(x='x',y='y', label='$y$ (real model)', ax=ax)\n",
    "\n",
    "ax.plot(x_, y_test, 'rs', label='$z$ (training data)')\n",
    "\n",
    "y_pred_testing = pd.DataFrame()\n",
    "\n",
    "for name,lambda_ in lambdas.items():\n",
    "\n",
    "    y_pred = lambda_(x=x_,**fits[name].params, epsilon=0)\n",
    "    y_pred_testing[name] = y_pred\n",
    "    ax.plot(x_, y_pred, '-', label=f'$\\hat{{y}}$ ({name})')\n",
    "    \n",
    "ax.set_xlabel('$x$');\n",
    "ax.legend();"
   ]
  },
  {
   "cell_type": "code",
   "execution_count": 14,
   "id": "78f73078-f1df-4eb1-80f2-926a7eb0985b",
   "metadata": {
    "tags": [
     "remove-cell"
    ]
   },
   "outputs": [],
   "source": [
    "mean_squared_error_training = pd.Series(name='training', dtype=float)\n",
    "for name,y_pred in y_pred_training.items():\n",
    "    mean_squared_error_training[name] = mean_squared_error(y_true=y_train, y_pred=y_pred)\n",
    "    \n",
    "mean_squared_error_testing = pd.Series(name='testing', dtype=float)\n",
    "for name,y_pred in y_pred_testing.items():\n",
    "    mean_squared_error_testing[name] = mean_squared_error(y_true=y_test, y_pred=y_pred)\n",
    "    \n",
    "df_mean_square_errors = pd.DataFrame()\n",
    "df_mean_square_errors = df_mean_square_errors.append(mean_squared_error_training)\n",
    "df_mean_square_errors = df_mean_square_errors.append(mean_squared_error_testing)\n",
    "\n",
    "df_mean_square_errors = df_mean_square_errors[['linear','quadratic','cubic']].copy()"
   ]
  },
  {
   "cell_type": "code",
   "execution_count": 16,
   "id": "ade2b7bf-f6f1-4d7e-ba65-bed672f1691f",
   "metadata": {
    "tags": [
     "remove-input"
    ]
   },
   "outputs": [
    {
     "data": {
      "image/png": "[encoded data removed]",
      "text/plain": [
       "<Figure size 1080x288 with 1 Axes>"
      ]
     },
     "metadata": {
      "needs_background": "light"
     },
     "output_type": "display_data"
    }
   ],
   "source": [
    "fig,ax=plt.subplots()\n",
    "df_mean_square_errors.transpose().plot.bar(ax=ax);\n",
    "ax.set_ylabel('RMSe');"
   ]
  },
  {
   "cell_type": "markdown",
   "id": "06cecf3f-5a03-4c61-ae6e-099e49c21642",
   "metadata": {},
   "source": [
    "## Removing parameters\n",
    "The analysis showed that cubic model was too complex giving a low bias but high variance and that the quadratic model has the best Bias-variance trade off.\n",
    "Consider the scenario that the cubic model is all we know, and that the model has a high variance, giving a much higher error in the test set than the training set. The variance can be reduced by reducing the complexity of the model. This can be done by removing some of the coefficients in the model. But which one should we remove? Looking at the t-test for the cubic model it seems that there is a chance that either $C_1$ or $C_3$ should be removed.\n",
    "\n",
    "One way to investigate this is to do a cross validation on the training set where various alternatives are tested, having only one parameter: $C_1$, $C_2$ or $C_3$, having two parameters or all off the three parameters.\n"
   ]
  },
  {
   "cell_type": "code",
   "execution_count": 17,
   "id": "28ed6080-9e0b-48e6-90d2-f37c8a7311d3",
   "metadata": {
    "tags": [
     "hide-input"
    ]
   },
   "outputs": [],
   "source": [
    "from sklearn.model_selection import GridSearchCV\n",
    "from sklearn.linear_model import LinearRegression\n",
    "from sklearn.pipeline import Pipeline\n",
    "from sklearn.feature_selection import SelectKBest\n",
    "from sklearn.feature_selection import f_regression\n",
    "from sklearn.model_selection import RepeatedKFold\n",
    "\n",
    "select_k_best = SelectKBest(score_func=f_regression, k=4)\n",
    "linear_regression = LinearRegression()\n",
    "\n",
    "steps = [\n",
    "    ('select_k_best', select_k_best),\n",
    "    ('linear_regression', linear_regression),\n",
    "]\n",
    "\n",
    "pipeline = Pipeline(steps=steps)\n",
    "\n",
    "\n",
    "# define the grid\n",
    "grid = dict()\n",
    "grid['select_k_best__k'] = [1,2,3]\n",
    "\n",
    "\n",
    "# define the grid search\n",
    "cv = RepeatedKFold(n_splits=3, n_repeats=10, random_state=1)\n",
    "search = GridSearchCV(estimator=pipeline, param_grid=grid, scoring='neg_mean_absolute_error', n_jobs=-1, cv=cv)\n",
    "# perform the search\n",
    "search_result = search.fit(Xs['cubic'], y_train)\n"
   ]
  },
  {
   "cell_type": "code",
   "execution_count": 18,
   "id": "309e8917-41e2-4ab3-b65f-0a66752160bc",
   "metadata": {
    "tags": [
     "hide-input"
    ]
   },
   "outputs": [
    {
     "data": {
      "text/plain": [
       "Index(['C_1', 'C_2'], dtype='object')"
      ]
     },
     "execution_count": 18,
     "metadata": {},
     "output_type": "execute_result"
    }
   ],
   "source": [
    "mask = search_result.best_estimator_['select_k_best'].get_support()\n",
    "Xs['cubic'].columns[mask]"
   ]
  },
  {
   "cell_type": "markdown",
   "id": "c86d15b9-a9b3-41b1-874e-1786d46bc290",
   "metadata": {},
   "source": [
    "The grid search suggests that $C_1$ and $C_2$ should be in the model and that $C_3$ can be removed."
   ]
  },
  {
   "cell_type": "markdown",
   "id": "e3b39d29-269b-40f1-8ab9-ac0ce6fe1fe2",
   "metadata": {},
   "source": [
    "### Final words\n",
    "So when regressing a model \"less is more\" is perhaps a good rule in terms of adding coefficients and complexity to the model and this is true for Vessel Manoeuvring Models as well. \n",
    "\n",
    "For heavy metal the reversed is however still true, perhaps best quoted by Mr Yngwie Malmsteen :-).\n",
    "<iframe width=\"560\" height=\"315\" src=\"https://www.youtube.com/embed/QHZ48AE3TOI\" title=\"YouTube video player\" frameborder=\"0\" allow=\"accelerometer; autoplay; clipboard-write; encrypted-media; gyroscope; picture-in-picture\" allowfullscreen></iframe>"
   ]
  },
  {
   "cell_type": "code",
   "execution_count": null,
   "id": "bbcbef94-0ac4-49af-bd4e-b9d0befc4e18",
   "metadata": {},
   "outputs": [],
   "source": []
  }
 ],
 "metadata": {
  "kernelspec": {
   "display_name": "Python 3",
   "language": "python",
   "name": "python3"
  },
  "language_info": {
   "codemirror_mode": {
    "name": "ipython",
    "version": 3
   },
   "file_extension": ".py",
   "mimetype": "text/x-python",
   "name": "python",
   "nbconvert_exporter": "python",
   "pygments_lexer": "ipython3",
   "version": "3.9.5"
  }
 },
 "nbformat": 4,
 "nbformat_minor": 5
}
