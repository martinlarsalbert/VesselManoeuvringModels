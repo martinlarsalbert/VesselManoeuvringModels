{
 "cells": [
  {
   "cell_type": "markdown",
   "metadata": {},
   "source": [
    "# Quasi static forces from model test"
   ]
  },
  {
   "cell_type": "markdown",
   "metadata": {},
   "source": [
    "# Purpose\n",
    "Calculating the quasi static forces from a model test by assuming the added masses. This can then be compared to the static VCT calculations."
   ]
  },
  {
   "cell_type": "markdown",
   "metadata": {},
   "source": [
    "# Setup"
   ]
  },
  {
   "cell_type": "code",
   "execution_count": 1,
   "metadata": {},
   "outputs": [
    {
     "name": "stderr",
     "output_type": "stream",
     "text": [
      "Duplicate key in file WindowsPath('C:/Users/maa/.matplotlib/stylelib/paper.mplstyle'), line 462 ('figure.figsize   : 5, 3   ## figure size in inches')\n",
      "Duplicate key in file WindowsPath('C:/Users/maa/.matplotlib/stylelib/paper.mplstyle'), line 463 ('figure.dpi       : 100        ## figure dots per inch')\n"
     ]
    }
   ],
   "source": [
    "# %load imports.py\n",
    "# %load imports.py\n",
    "%matplotlib inline\n",
    "%load_ext autoreload\n",
    "%autoreload 2\n",
    "%config Completer.use_jedi = False  ## (To fix autocomplete)\n",
    "\n",
    "## External packages:\n",
    "import pandas as pd\n",
    "pd.options.display.max_rows = 999\n",
    "pd.options.display.max_columns = 999\n",
    "pd.set_option(\"display.max_columns\", None)\n",
    "\n",
    "import numpy as np\n",
    "import os\n",
    "import matplotlib.pyplot as plt\n",
    "#if os.name == 'nt':\n",
    "#    plt.style.use('presentation.mplstyle')  # Windows\n",
    "\n",
    "import plotly.express as px \n",
    "import plotly.graph_objects as go\n",
    "\n",
    "import seaborn as sns\n",
    "import sympy as sp\n",
    "from sympy.physics.mechanics import (dynamicsymbols, ReferenceFrame,\n",
    "                                      Particle, Point)\n",
    "from sympy.physics.vector.printing import vpprint, vlatex\n",
    "from IPython.display import display, Math, Latex\n",
    "from src.substitute_dynamic_symbols import run, lambdify\n",
    "\n",
    "import pyro\n",
    "\n",
    "import sklearn\n",
    "import pykalman\n",
    "from statsmodels.sandbox.regression.predstd import wls_prediction_std\n",
    "import statsmodels.api as sm\n",
    "\n",
    "from scipy.integrate import solve_ivp\n",
    "\n",
    "## Local packages:\n",
    "from src.data import mdl\n",
    "from src.models import linear_vmm\n",
    "import src.nonlinear_vmm_equations as eq\n",
    "#import src.models.linear_vmm as model\n",
    "from src.symbols import *\n",
    "import src.symbols as symbols\n",
    "from src import prime_system\n",
    "from src.models import regression\n",
    "from src.visualization.plot import track_plot\n",
    "from src.equation import Equation"
   ]
  },
  {
   "cell_type": "markdown",
   "metadata": {},
   "source": [
    "# Methodology\n",
    "Generally:\n",
    "\n",
    "$ F = m \\cdot a $\n",
    "\n",
    "if $m$ (including added mass) can is known $F$ should be possible to calculate from a dynamic model test.\n",
    "\n",
    "For the ship in the Y-direction this can be written as:"
   ]
  },
  {
   "cell_type": "code",
   "execution_count": 2,
   "metadata": {},
   "outputs": [
    {
     "data": {
      "text/latex": [
       "$\\displaystyle \n",
       "\\begin{equation}\n",
       "m \\left(x_{G} \\dot{r} + r u + \\dot{v}\\right) = Y_{nonlin}\n",
       "\\label{eq:equation}\n",
       "\\end{equation}\n",
       "$"
      ],
      "text/plain": [
       "<src.equation.Equation object>"
      ]
     },
     "execution_count": 2,
     "metadata": {},
     "output_type": "execute_result"
    }
   ],
   "source": [
    "Equation(eq.Y_eom)"
   ]
  },
  {
   "cell_type": "code",
   "execution_count": 3,
   "metadata": {},
   "outputs": [
    {
     "data": {
      "text/latex": [
       "$\\displaystyle \n",
       "\\begin{equation}\n",
       "m \\left(x_{G} \\dot{r} + r u + \\dot{v}\\right) = Y_{\\dot{u}} \\dot{u} + \\operatorname{Y_{qs}}{\\left(u,v,r,\\delta \\right)}\n",
       "\\label{eq:equation}\n",
       "\\end{equation}\n",
       "$"
      ],
      "text/plain": [
       "<src.equation.Equation object>"
      ]
     },
     "execution_count": 3,
     "metadata": {},
     "output_type": "execute_result"
    }
   ],
   "source": [
    "Equation(eq.Y_eq)"
   ]
  },
  {
   "cell_type": "markdown",
   "metadata": {},
   "source": [
    "where $Y_{qs}$ is the quasi static force that can be obtained from the model tests as:"
   ]
  },
  {
   "cell_type": "code",
   "execution_count": 4,
   "metadata": {},
   "outputs": [
    {
     "data": {
      "text/latex": [
       "$\\displaystyle \n",
       "\\begin{equation}\n",
       "\\operatorname{Y_{qs}}{\\left(u,v,r,\\delta \\right)} = - Y_{\\dot{u}} \\dot{u} + m x_{G} \\dot{r} + m r u + m \\dot{v}\n",
       "\\label{eq:equation}\n",
       "\\end{equation}\n",
       "$"
      ],
      "text/plain": [
       "<src.equation.Equation object>"
      ]
     },
     "execution_count": 4,
     "metadata": {},
     "output_type": "execute_result"
    }
   ],
   "source": [
    "eq_Y_qs = sp.Eq(Y_qs,\n",
    "      sp.solve(eq.Y_eq, Y_qs)[0])\n",
    "Equation(eq_Y_qs)"
   ]
  },
  {
   "cell_type": "code",
   "execution_count": 5,
   "metadata": {},
   "outputs": [],
   "source": [
    "subs = {value:key for key,value in eq.p.items()}\n",
    "Y_qs_lambda = lambdify(eq_Y_qs.subs(subs).rhs)"
   ]
  },
  {
   "cell_type": "markdown",
   "metadata": {},
   "source": [
    "# Quasi static forces from model tests"
   ]
  },
  {
   "cell_type": "markdown",
   "metadata": {},
   "source": [
    "## Load test"
   ]
  },
  {
   "cell_type": "code",
   "execution_count": 6,
   "metadata": {},
   "outputs": [],
   "source": [
    "df_runs = mdl.runs()"
   ]
  },
  {
   "cell_type": "code",
   "execution_count": 29,
   "metadata": {},
   "outputs": [],
   "source": [
    "#id=22773\n",
    "#id=22616\n",
    "#id=22774\n",
    "id=22770\n",
    "\n",
    "\n",
    "df, units, meta_data = mdl.load(id=id, dir_path='../data/processed/kalman')\n",
    "df.index = df.index.total_seconds()\n",
    "df = df.iloc[0:-100].copy()\n",
    "df.index-=df.index[0]\n",
    "df.sort_index(inplace=True)\n",
    "df['-delta'] = -df['delta']"
   ]
  },
  {
   "cell_type": "code",
   "execution_count": 30,
   "metadata": {},
   "outputs": [
    {
     "data": {
      "text/plain": [
       "A0                                                               0.722775\n",
       "KXX                                                              0.331311\n",
       "KZZ                                                              1.253641\n",
       "TA                                                               0.206311\n",
       "TF                                                               0.206311\n",
       "Volume                                                           0.441027\n",
       "angle1                                                               10.0\n",
       "angle2                                                               10.0\n",
       "beam                                                             0.946602\n",
       "comment                                                        ZZ 10/10PS\n",
       "date                                                           2020-09-24\n",
       "facility                                                              MDL\n",
       "file_path_hdf5          \\\\sspa.local\\lab\\MeasuredataMDL\\40199079\\005\\0...\n",
       "gm                                                               0.136092\n",
       "kg                                                               0.438908\n",
       "lcg                                                              -0.24432\n",
       "loading_condition_id                                                167.0\n",
       "lpp                                                              5.014563\n",
       "model_number                                                   M5139-02-A\n",
       "name                                                               Design\n",
       "project_number                                                 40199079.0\n",
       "run_number                                                            6.0\n",
       "scale_factor                                                         41.2\n",
       "series_number                                                         5.0\n",
       "ship_name                                                      M5139-02-A\n",
       "ship_speed                                                        0.96177\n",
       "test_number                                                           2.0\n",
       "test_type                                                          zigzag\n",
       "xm                                                                    0.0\n",
       "ym                                                                    0.0\n",
       "zm                                                                 -0.214\n",
       "sailing                                                             False\n",
       "rho                                                                  1000\n",
       "mass                                                           441.026784\n",
       "Name: 22770, dtype: object"
      ]
     },
     "execution_count": 30,
     "metadata": {},
     "output_type": "execute_result"
    }
   ],
   "source": [
    "meta_data['rho']=1000\n",
    "meta_data['mass'] = meta_data['Volume']*meta_data['rho']\n",
    "meta_data.dropna()"
   ]
  },
  {
   "cell_type": "code",
   "execution_count": 31,
   "metadata": {},
   "outputs": [
    {
     "data": {
      "text/html": [
       "<div>\n",
       "<style scoped>\n",
       "    .dataframe tbody tr th:only-of-type {\n",
       "        vertical-align: middle;\n",
       "    }\n",
       "\n",
       "    .dataframe tbody tr th {\n",
       "        vertical-align: top;\n",
       "    }\n",
       "\n",
       "    .dataframe thead th {\n",
       "        text-align: right;\n",
       "    }\n",
       "</style>\n",
       "<table border=\"1\" class=\"dataframe\">\n",
       "  <thead>\n",
       "    <tr style=\"text-align: right;\">\n",
       "      <th></th>\n",
       "      <th>Arr/Ind/Arr</th>\n",
       "      <th>Arr/Ind/Fri</th>\n",
       "      <th>Fan/Aft/Angle</th>\n",
       "      <th>Fan/Aft/AngleOrder</th>\n",
       "      <th>Fan/Aft/Fx</th>\n",
       "      <th>Fan/Aft/FxOrder</th>\n",
       "      <th>Fan/Aft/Rpm</th>\n",
       "      <th>Fan/Aft/RpmOrder</th>\n",
       "      <th>Fan/ForceFactor</th>\n",
       "      <th>Fan/Fore/Angle</th>\n",
       "      <th>Fan/Fore/AngleOrder</th>\n",
       "      <th>Fan/Fore/Fx</th>\n",
       "      <th>Fan/Fore/FxOrder</th>\n",
       "      <th>Fan/Fore/Rpm</th>\n",
       "      <th>Fan/Fore/RpmOrder</th>\n",
       "      <th>Hull/Acc/X1</th>\n",
       "      <th>Hull/Acc/Y1</th>\n",
       "      <th>Hull/Acc/Y2</th>\n",
       "      <th>Hull/Acc/Z1</th>\n",
       "      <th>Hull/Acc/Z2</th>\n",
       "      <th>Hull/Acc/Z3</th>\n",
       "      <th>Prop/PS/Rpm</th>\n",
       "      <th>Prop/PS/Thrust</th>\n",
       "      <th>Prop/PS/Torque</th>\n",
       "      <th>Prop/SB/Rpm</th>\n",
       "      <th>Prop/SB/Thrust</th>\n",
       "      <th>Prop/SB/Torque</th>\n",
       "      <th>delta</th>\n",
       "      <th>Rudder/MaxAngle</th>\n",
       "      <th>Rudder/Rate</th>\n",
       "      <th>Wind/Course</th>\n",
       "      <th>Wind/CourseTreshold</th>\n",
       "      <th>Wind/GWA</th>\n",
       "      <th>lab/WaveHeight</th>\n",
       "      <th>roll</th>\n",
       "      <th>pitch</th>\n",
       "      <th>psi</th>\n",
       "      <th>x0</th>\n",
       "      <th>y0</th>\n",
       "      <th>z0</th>\n",
       "      <th>x01d_gradient</th>\n",
       "      <th>y01d_gradient</th>\n",
       "      <th>z01d_gradient</th>\n",
       "      <th>z02d_gradient</th>\n",
       "      <th>psi1d_gradient</th>\n",
       "      <th>x0_filtered</th>\n",
       "      <th>x01d</th>\n",
       "      <th>x02d</th>\n",
       "      <th>y0_filtered</th>\n",
       "      <th>y01d</th>\n",
       "      <th>y02d</th>\n",
       "      <th>psi_filtered</th>\n",
       "      <th>psi1d</th>\n",
       "      <th>psi2d</th>\n",
       "      <th>u</th>\n",
       "      <th>v</th>\n",
       "      <th>w</th>\n",
       "      <th>u1d</th>\n",
       "      <th>v1d</th>\n",
       "      <th>w1d</th>\n",
       "      <th>r</th>\n",
       "      <th>r1d</th>\n",
       "      <th>beta</th>\n",
       "      <th>-delta</th>\n",
       "    </tr>\n",
       "    <tr>\n",
       "      <th>time</th>\n",
       "      <th></th>\n",
       "      <th></th>\n",
       "      <th></th>\n",
       "      <th></th>\n",
       "      <th></th>\n",
       "      <th></th>\n",
       "      <th></th>\n",
       "      <th></th>\n",
       "      <th></th>\n",
       "      <th></th>\n",
       "      <th></th>\n",
       "      <th></th>\n",
       "      <th></th>\n",
       "      <th></th>\n",
       "      <th></th>\n",
       "      <th></th>\n",
       "      <th></th>\n",
       "      <th></th>\n",
       "      <th></th>\n",
       "      <th></th>\n",
       "      <th></th>\n",
       "      <th></th>\n",
       "      <th></th>\n",
       "      <th></th>\n",
       "      <th></th>\n",
       "      <th></th>\n",
       "      <th></th>\n",
       "      <th></th>\n",
       "      <th></th>\n",
       "      <th></th>\n",
       "      <th></th>\n",
       "      <th></th>\n",
       "      <th></th>\n",
       "      <th></th>\n",
       "      <th></th>\n",
       "      <th></th>\n",
       "      <th></th>\n",
       "      <th></th>\n",
       "      <th></th>\n",
       "      <th></th>\n",
       "      <th></th>\n",
       "      <th></th>\n",
       "      <th></th>\n",
       "      <th></th>\n",
       "      <th></th>\n",
       "      <th></th>\n",
       "      <th></th>\n",
       "      <th></th>\n",
       "      <th></th>\n",
       "      <th></th>\n",
       "      <th></th>\n",
       "      <th></th>\n",
       "      <th></th>\n",
       "      <th></th>\n",
       "      <th></th>\n",
       "      <th></th>\n",
       "      <th></th>\n",
       "      <th></th>\n",
       "      <th></th>\n",
       "      <th></th>\n",
       "      <th></th>\n",
       "      <th></th>\n",
       "      <th></th>\n",
       "      <th></th>\n",
       "    </tr>\n",
       "  </thead>\n",
       "  <tbody>\n",
       "    <tr>\n",
       "      <th>0.000000</th>\n",
       "      <td>0.0</td>\n",
       "      <td>1.0</td>\n",
       "      <td>2.146755</td>\n",
       "      <td>0.000930</td>\n",
       "      <td>0.244419</td>\n",
       "      <td>0.0</td>\n",
       "      <td>-0.520477</td>\n",
       "      <td>10.131507</td>\n",
       "      <td>1.0</td>\n",
       "      <td>2.146755</td>\n",
       "      <td>-0.024623</td>\n",
       "      <td>0.122683</td>\n",
       "      <td>0.0</td>\n",
       "      <td>2.144633</td>\n",
       "      <td>11.329219</td>\n",
       "      <td>-0.000651</td>\n",
       "      <td>-0.009621</td>\n",
       "      <td>-0.007185</td>\n",
       "      <td>-0.002344</td>\n",
       "      <td>0.006963</td>\n",
       "      <td>0.008156</td>\n",
       "      <td>9.597722</td>\n",
       "      <td>5.567396</td>\n",
       "      <td>-0.113822</td>\n",
       "      <td>9.546612</td>\n",
       "      <td>5.328476</td>\n",
       "      <td>0.104278</td>\n",
       "      <td>-0.000007</td>\n",
       "      <td>0.645772</td>\n",
       "      <td>14.89</td>\n",
       "      <td>-0.005037</td>\n",
       "      <td>0.1</td>\n",
       "      <td>0.0</td>\n",
       "      <td>0.000025</td>\n",
       "      <td>0.000927</td>\n",
       "      <td>0.000325</td>\n",
       "      <td>-0.000873</td>\n",
       "      <td>7.611185</td>\n",
       "      <td>-0.001594</td>\n",
       "      <td>0.002499</td>\n",
       "      <td>1.020600</td>\n",
       "      <td>-0.003508</td>\n",
       "      <td>-0.022730</td>\n",
       "      <td>1.867924</td>\n",
       "      <td>0.017441</td>\n",
       "      <td>7.630116</td>\n",
       "      <td>0.932272</td>\n",
       "      <td>0.000005</td>\n",
       "      <td>-0.001617</td>\n",
       "      <td>0.000065</td>\n",
       "      <td>-6.810068e-07</td>\n",
       "      <td>-0.000821</td>\n",
       "      <td>0.000001</td>\n",
       "      <td>-0.000004</td>\n",
       "      <td>0.932272</td>\n",
       "      <td>0.000830</td>\n",
       "      <td>-0.022730</td>\n",
       "      <td>0.000005</td>\n",
       "      <td>-6.766628e-07</td>\n",
       "      <td>1.867924</td>\n",
       "      <td>0.000001</td>\n",
       "      <td>-0.000004</td>\n",
       "      <td>-0.000890</td>\n",
       "      <td>0.000007</td>\n",
       "    </tr>\n",
       "    <tr>\n",
       "      <th>0.010007</th>\n",
       "      <td>0.0</td>\n",
       "      <td>1.0</td>\n",
       "      <td>2.146755</td>\n",
       "      <td>0.000832</td>\n",
       "      <td>0.121932</td>\n",
       "      <td>0.0</td>\n",
       "      <td>-0.288911</td>\n",
       "      <td>10.131507</td>\n",
       "      <td>1.0</td>\n",
       "      <td>2.146755</td>\n",
       "      <td>-0.022034</td>\n",
       "      <td>0.126699</td>\n",
       "      <td>0.0</td>\n",
       "      <td>1.025401</td>\n",
       "      <td>11.329219</td>\n",
       "      <td>0.012245</td>\n",
       "      <td>-0.012845</td>\n",
       "      <td>-0.014928</td>\n",
       "      <td>-0.012007</td>\n",
       "      <td>0.019213</td>\n",
       "      <td>0.003000</td>\n",
       "      <td>9.572657</td>\n",
       "      <td>5.679435</td>\n",
       "      <td>-0.110951</td>\n",
       "      <td>9.558256</td>\n",
       "      <td>5.397689</td>\n",
       "      <td>0.106811</td>\n",
       "      <td>-0.000007</td>\n",
       "      <td>0.645772</td>\n",
       "      <td>14.89</td>\n",
       "      <td>-0.004507</td>\n",
       "      <td>0.1</td>\n",
       "      <td>0.0</td>\n",
       "      <td>0.000025</td>\n",
       "      <td>0.000972</td>\n",
       "      <td>-0.000254</td>\n",
       "      <td>-0.000698</td>\n",
       "      <td>7.621398</td>\n",
       "      <td>-0.001629</td>\n",
       "      <td>0.002271</td>\n",
       "      <td>0.508139</td>\n",
       "      <td>0.000864</td>\n",
       "      <td>-0.004038</td>\n",
       "      <td>1.308212</td>\n",
       "      <td>0.013081</td>\n",
       "      <td>7.625826</td>\n",
       "      <td>0.921355</td>\n",
       "      <td>-0.002257</td>\n",
       "      <td>-0.001613</td>\n",
       "      <td>0.000114</td>\n",
       "      <td>-1.514633e-05</td>\n",
       "      <td>-0.000735</td>\n",
       "      <td>-0.000025</td>\n",
       "      <td>-0.000024</td>\n",
       "      <td>0.921354</td>\n",
       "      <td>0.000791</td>\n",
       "      <td>-0.004038</td>\n",
       "      <td>-0.002257</td>\n",
       "      <td>-1.680414e-05</td>\n",
       "      <td>1.308212</td>\n",
       "      <td>-0.000025</td>\n",
       "      <td>-0.000024</td>\n",
       "      <td>-0.000859</td>\n",
       "      <td>0.000007</td>\n",
       "    </tr>\n",
       "    <tr>\n",
       "      <th>0.020011</th>\n",
       "      <td>0.0</td>\n",
       "      <td>1.0</td>\n",
       "      <td>2.146755</td>\n",
       "      <td>0.000736</td>\n",
       "      <td>-0.120384</td>\n",
       "      <td>0.0</td>\n",
       "      <td>0.000545</td>\n",
       "      <td>10.131507</td>\n",
       "      <td>1.0</td>\n",
       "      <td>2.146755</td>\n",
       "      <td>-0.019471</td>\n",
       "      <td>0.025530</td>\n",
       "      <td>0.0</td>\n",
       "      <td>1.913068</td>\n",
       "      <td>11.329219</td>\n",
       "      <td>-0.001296</td>\n",
       "      <td>-0.012200</td>\n",
       "      <td>-0.029125</td>\n",
       "      <td>0.002810</td>\n",
       "      <td>0.021792</td>\n",
       "      <td>0.002356</td>\n",
       "      <td>9.514150</td>\n",
       "      <td>5.728091</td>\n",
       "      <td>-0.107321</td>\n",
       "      <td>9.562515</td>\n",
       "      <td>5.484805</td>\n",
       "      <td>0.109010</td>\n",
       "      <td>0.000000</td>\n",
       "      <td>0.645772</td>\n",
       "      <td>14.89</td>\n",
       "      <td>-0.003983</td>\n",
       "      <td>0.1</td>\n",
       "      <td>0.0</td>\n",
       "      <td>0.000025</td>\n",
       "      <td>0.000915</td>\n",
       "      <td>0.000341</td>\n",
       "      <td>-0.000611</td>\n",
       "      <td>7.621356</td>\n",
       "      <td>-0.001577</td>\n",
       "      <td>0.002418</td>\n",
       "      <td>0.952405</td>\n",
       "      <td>0.001934</td>\n",
       "      <td>0.003452</td>\n",
       "      <td>0.258792</td>\n",
       "      <td>-0.008754</td>\n",
       "      <td>7.627892</td>\n",
       "      <td>0.921396</td>\n",
       "      <td>-0.003307</td>\n",
       "      <td>-0.001587</td>\n",
       "      <td>0.000145</td>\n",
       "      <td>-2.490043e-05</td>\n",
       "      <td>-0.000702</td>\n",
       "      <td>-0.000131</td>\n",
       "      <td>-0.000054</td>\n",
       "      <td>0.921396</td>\n",
       "      <td>0.000792</td>\n",
       "      <td>0.003452</td>\n",
       "      <td>-0.003307</td>\n",
       "      <td>-2.722338e-05</td>\n",
       "      <td>0.258792</td>\n",
       "      <td>-0.000131</td>\n",
       "      <td>-0.000054</td>\n",
       "      <td>-0.000860</td>\n",
       "      <td>-0.000000</td>\n",
       "    </tr>\n",
       "    <tr>\n",
       "      <th>0.030001</th>\n",
       "      <td>0.0</td>\n",
       "      <td>1.0</td>\n",
       "      <td>2.146755</td>\n",
       "      <td>0.000638</td>\n",
       "      <td>-0.310377</td>\n",
       "      <td>0.0</td>\n",
       "      <td>0.521567</td>\n",
       "      <td>10.131507</td>\n",
       "      <td>1.0</td>\n",
       "      <td>2.146755</td>\n",
       "      <td>-0.016901</td>\n",
       "      <td>-0.089957</td>\n",
       "      <td>0.0</td>\n",
       "      <td>0.639459</td>\n",
       "      <td>11.329219</td>\n",
       "      <td>0.005152</td>\n",
       "      <td>-0.012845</td>\n",
       "      <td>-0.016219</td>\n",
       "      <td>-0.005565</td>\n",
       "      <td>0.007608</td>\n",
       "      <td>-0.001511</td>\n",
       "      <td>9.541821</td>\n",
       "      <td>5.700100</td>\n",
       "      <td>-0.104350</td>\n",
       "      <td>9.587783</td>\n",
       "      <td>5.548451</td>\n",
       "      <td>0.110168</td>\n",
       "      <td>0.000000</td>\n",
       "      <td>0.645772</td>\n",
       "      <td>14.89</td>\n",
       "      <td>-0.003457</td>\n",
       "      <td>0.1</td>\n",
       "      <td>0.0</td>\n",
       "      <td>0.000025</td>\n",
       "      <td>0.000945</td>\n",
       "      <td>-0.000327</td>\n",
       "      <td>-0.000873</td>\n",
       "      <td>7.640413</td>\n",
       "      <td>-0.001590</td>\n",
       "      <td>0.002341</td>\n",
       "      <td>1.483970</td>\n",
       "      <td>0.002393</td>\n",
       "      <td>0.001150</td>\n",
       "      <td>-0.262092</td>\n",
       "      <td>-0.008748</td>\n",
       "      <td>7.639433</td>\n",
       "      <td>0.923933</td>\n",
       "      <td>-0.002592</td>\n",
       "      <td>-0.001575</td>\n",
       "      <td>0.000151</td>\n",
       "      <td>-3.795793e-05</td>\n",
       "      <td>-0.000805</td>\n",
       "      <td>-0.000191</td>\n",
       "      <td>-0.000113</td>\n",
       "      <td>0.923932</td>\n",
       "      <td>0.000895</td>\n",
       "      <td>0.001150</td>\n",
       "      <td>-0.002592</td>\n",
       "      <td>-4.004497e-05</td>\n",
       "      <td>-0.262092</td>\n",
       "      <td>-0.000191</td>\n",
       "      <td>-0.000113</td>\n",
       "      <td>-0.000969</td>\n",
       "      <td>-0.000000</td>\n",
       "    </tr>\n",
       "    <tr>\n",
       "      <th>0.040001</th>\n",
       "      <td>0.0</td>\n",
       "      <td>1.0</td>\n",
       "      <td>2.146755</td>\n",
       "      <td>0.000549</td>\n",
       "      <td>-0.303348</td>\n",
       "      <td>0.0</td>\n",
       "      <td>0.463676</td>\n",
       "      <td>10.131507</td>\n",
       "      <td>1.0</td>\n",
       "      <td>2.146755</td>\n",
       "      <td>-0.014543</td>\n",
       "      <td>-0.130523</td>\n",
       "      <td>0.0</td>\n",
       "      <td>-0.749933</td>\n",
       "      <td>11.329219</td>\n",
       "      <td>0.007087</td>\n",
       "      <td>-0.017357</td>\n",
       "      <td>-0.023318</td>\n",
       "      <td>-0.001700</td>\n",
       "      <td>0.017924</td>\n",
       "      <td>-0.002155</td>\n",
       "      <td>9.514368</td>\n",
       "      <td>5.613694</td>\n",
       "      <td>-0.103258</td>\n",
       "      <td>9.562679</td>\n",
       "      <td>5.586684</td>\n",
       "      <td>0.110073</td>\n",
       "      <td>0.000000</td>\n",
       "      <td>0.645772</td>\n",
       "      <td>14.89</td>\n",
       "      <td>-0.002975</td>\n",
       "      <td>0.1</td>\n",
       "      <td>0.0</td>\n",
       "      <td>0.000025</td>\n",
       "      <td>0.000929</td>\n",
       "      <td>0.000426</td>\n",
       "      <td>-0.000785</td>\n",
       "      <td>7.651012</td>\n",
       "      <td>-0.001529</td>\n",
       "      <td>0.002441</td>\n",
       "      <td>0.931076</td>\n",
       "      <td>0.003854</td>\n",
       "      <td>-0.001788</td>\n",
       "      <td>0.240757</td>\n",
       "      <td>-0.000002</td>\n",
       "      <td>7.649572</td>\n",
       "      <td>0.924786</td>\n",
       "      <td>-0.002156</td>\n",
       "      <td>-0.001540</td>\n",
       "      <td>0.000128</td>\n",
       "      <td>-4.577976e-05</td>\n",
       "      <td>-0.000809</td>\n",
       "      <td>-0.000182</td>\n",
       "      <td>-0.000150</td>\n",
       "      <td>0.924785</td>\n",
       "      <td>0.000876</td>\n",
       "      <td>-0.001788</td>\n",
       "      <td>-0.002156</td>\n",
       "      <td>-4.752416e-05</td>\n",
       "      <td>0.240757</td>\n",
       "      <td>-0.000182</td>\n",
       "      <td>-0.000150</td>\n",
       "      <td>-0.000948</td>\n",
       "      <td>-0.000000</td>\n",
       "    </tr>\n",
       "  </tbody>\n",
       "</table>\n",
       "</div>"
      ],
      "text/plain": [
       "          Arr/Ind/Arr  Arr/Ind/Fri  Fan/Aft/Angle  Fan/Aft/AngleOrder  \\\n",
       "time                                                                    \n",
       "0.000000          0.0          1.0       2.146755            0.000930   \n",
       "0.010007          0.0          1.0       2.146755            0.000832   \n",
       "0.020011          0.0          1.0       2.146755            0.000736   \n",
       "0.030001          0.0          1.0       2.146755            0.000638   \n",
       "0.040001          0.0          1.0       2.146755            0.000549   \n",
       "\n",
       "          Fan/Aft/Fx  Fan/Aft/FxOrder  Fan/Aft/Rpm  Fan/Aft/RpmOrder  \\\n",
       "time                                                                   \n",
       "0.000000    0.244419              0.0    -0.520477         10.131507   \n",
       "0.010007    0.121932              0.0    -0.288911         10.131507   \n",
       "0.020011   -0.120384              0.0     0.000545         10.131507   \n",
       "0.030001   -0.310377              0.0     0.521567         10.131507   \n",
       "0.040001   -0.303348              0.0     0.463676         10.131507   \n",
       "\n",
       "          Fan/ForceFactor  Fan/Fore/Angle  Fan/Fore/AngleOrder  Fan/Fore/Fx  \\\n",
       "time                                                                          \n",
       "0.000000              1.0        2.146755            -0.024623     0.122683   \n",
       "0.010007              1.0        2.146755            -0.022034     0.126699   \n",
       "0.020011              1.0        2.146755            -0.019471     0.025530   \n",
       "0.030001              1.0        2.146755            -0.016901    -0.089957   \n",
       "0.040001              1.0        2.146755            -0.014543    -0.130523   \n",
       "\n",
       "          Fan/Fore/FxOrder  Fan/Fore/Rpm  Fan/Fore/RpmOrder  Hull/Acc/X1  \\\n",
       "time                                                                       \n",
       "0.000000               0.0      2.144633          11.329219    -0.000651   \n",
       "0.010007               0.0      1.025401          11.329219     0.012245   \n",
       "0.020011               0.0      1.913068          11.329219    -0.001296   \n",
       "0.030001               0.0      0.639459          11.329219     0.005152   \n",
       "0.040001               0.0     -0.749933          11.329219     0.007087   \n",
       "\n",
       "          Hull/Acc/Y1  Hull/Acc/Y2  Hull/Acc/Z1  Hull/Acc/Z2  Hull/Acc/Z3  \\\n",
       "time                                                                        \n",
       "0.000000    -0.009621    -0.007185    -0.002344     0.006963     0.008156   \n",
       "0.010007    -0.012845    -0.014928    -0.012007     0.019213     0.003000   \n",
       "0.020011    -0.012200    -0.029125     0.002810     0.021792     0.002356   \n",
       "0.030001    -0.012845    -0.016219    -0.005565     0.007608    -0.001511   \n",
       "0.040001    -0.017357    -0.023318    -0.001700     0.017924    -0.002155   \n",
       "\n",
       "          Prop/PS/Rpm  Prop/PS/Thrust  Prop/PS/Torque  Prop/SB/Rpm  \\\n",
       "time                                                                 \n",
       "0.000000     9.597722        5.567396       -0.113822     9.546612   \n",
       "0.010007     9.572657        5.679435       -0.110951     9.558256   \n",
       "0.020011     9.514150        5.728091       -0.107321     9.562515   \n",
       "0.030001     9.541821        5.700100       -0.104350     9.587783   \n",
       "0.040001     9.514368        5.613694       -0.103258     9.562679   \n",
       "\n",
       "          Prop/SB/Thrust  Prop/SB/Torque     delta  Rudder/MaxAngle  \\\n",
       "time                                                                  \n",
       "0.000000        5.328476        0.104278 -0.000007         0.645772   \n",
       "0.010007        5.397689        0.106811 -0.000007         0.645772   \n",
       "0.020011        5.484805        0.109010  0.000000         0.645772   \n",
       "0.030001        5.548451        0.110168  0.000000         0.645772   \n",
       "0.040001        5.586684        0.110073  0.000000         0.645772   \n",
       "\n",
       "          Rudder/Rate  Wind/Course  Wind/CourseTreshold  Wind/GWA  \\\n",
       "time                                                                \n",
       "0.000000        14.89    -0.005037                  0.1       0.0   \n",
       "0.010007        14.89    -0.004507                  0.1       0.0   \n",
       "0.020011        14.89    -0.003983                  0.1       0.0   \n",
       "0.030001        14.89    -0.003457                  0.1       0.0   \n",
       "0.040001        14.89    -0.002975                  0.1       0.0   \n",
       "\n",
       "          lab/WaveHeight      roll     pitch       psi        x0        y0  \\\n",
       "time                                                                         \n",
       "0.000000        0.000025  0.000927  0.000325 -0.000873  7.611185 -0.001594   \n",
       "0.010007        0.000025  0.000972 -0.000254 -0.000698  7.621398 -0.001629   \n",
       "0.020011        0.000025  0.000915  0.000341 -0.000611  7.621356 -0.001577   \n",
       "0.030001        0.000025  0.000945 -0.000327 -0.000873  7.640413 -0.001590   \n",
       "0.040001        0.000025  0.000929  0.000426 -0.000785  7.651012 -0.001529   \n",
       "\n",
       "                z0  x01d_gradient  y01d_gradient  z01d_gradient  \\\n",
       "time                                                              \n",
       "0.000000  0.002499       1.020600      -0.003508      -0.022730   \n",
       "0.010007  0.002271       0.508139       0.000864      -0.004038   \n",
       "0.020011  0.002418       0.952405       0.001934       0.003452   \n",
       "0.030001  0.002341       1.483970       0.002393       0.001150   \n",
       "0.040001  0.002441       0.931076       0.003854      -0.001788   \n",
       "\n",
       "          z02d_gradient  psi1d_gradient  x0_filtered      x01d      x02d  \\\n",
       "time                                                                       \n",
       "0.000000       1.867924        0.017441     7.630116  0.932272  0.000005   \n",
       "0.010007       1.308212        0.013081     7.625826  0.921355 -0.002257   \n",
       "0.020011       0.258792       -0.008754     7.627892  0.921396 -0.003307   \n",
       "0.030001      -0.262092       -0.008748     7.639433  0.923933 -0.002592   \n",
       "0.040001       0.240757       -0.000002     7.649572  0.924786 -0.002156   \n",
       "\n",
       "          y0_filtered      y01d          y02d  psi_filtered     psi1d  \\\n",
       "time                                                                    \n",
       "0.000000    -0.001617  0.000065 -6.810068e-07     -0.000821  0.000001   \n",
       "0.010007    -0.001613  0.000114 -1.514633e-05     -0.000735 -0.000025   \n",
       "0.020011    -0.001587  0.000145 -2.490043e-05     -0.000702 -0.000131   \n",
       "0.030001    -0.001575  0.000151 -3.795793e-05     -0.000805 -0.000191   \n",
       "0.040001    -0.001540  0.000128 -4.577976e-05     -0.000809 -0.000182   \n",
       "\n",
       "             psi2d         u         v         w       u1d           v1d  \\\n",
       "time                                                                       \n",
       "0.000000 -0.000004  0.932272  0.000830 -0.022730  0.000005 -6.766628e-07   \n",
       "0.010007 -0.000024  0.921354  0.000791 -0.004038 -0.002257 -1.680414e-05   \n",
       "0.020011 -0.000054  0.921396  0.000792  0.003452 -0.003307 -2.722338e-05   \n",
       "0.030001 -0.000113  0.923932  0.000895  0.001150 -0.002592 -4.004497e-05   \n",
       "0.040001 -0.000150  0.924785  0.000876 -0.001788 -0.002156 -4.752416e-05   \n",
       "\n",
       "               w1d         r       r1d      beta    -delta  \n",
       "time                                                        \n",
       "0.000000  1.867924  0.000001 -0.000004 -0.000890  0.000007  \n",
       "0.010007  1.308212 -0.000025 -0.000024 -0.000859  0.000007  \n",
       "0.020011  0.258792 -0.000131 -0.000054 -0.000860 -0.000000  \n",
       "0.030001 -0.262092 -0.000191 -0.000113 -0.000969 -0.000000  \n",
       "0.040001  0.240757 -0.000182 -0.000150 -0.000948 -0.000000  "
      ]
     },
     "execution_count": 31,
     "metadata": {},
     "output_type": "execute_result"
    }
   ],
   "source": [
    "df.head()"
   ]
  },
  {
   "cell_type": "code",
   "execution_count": 32,
   "metadata": {},
   "outputs": [
    {
     "data": {
      "image/png": "[encoded data removed]",
      "text/plain": [
       "<Figure size 432x288 with 1 Axes>"
      ]
     },
     "metadata": {
      "needs_background": "light"
     },
     "output_type": "display_data"
    }
   ],
   "source": [
    "from src.visualization.plot import track_plot\n",
    "fig,ax=plt.subplots()\n",
    "#fig.set_size_inches(10,10)\n",
    "track_plot(df=df, lpp=meta_data.lpp, x_dataset='x0', y_dataset='y0',  psi_dataset='psi', beam=meta_data.beam, ax=ax);"
   ]
  },
  {
   "cell_type": "markdown",
   "metadata": {},
   "source": [
    "# Ship parameters"
   ]
  },
  {
   "cell_type": "code",
   "execution_count": 33,
   "metadata": {},
   "outputs": [],
   "source": [
    "T_ = (meta_data.TA + meta_data.TF)/2\n",
    "L_ = meta_data.lpp\n",
    "m_ = meta_data.mass\n",
    "rho_ = meta_data.rho\n",
    "B_ = meta_data.beam\n",
    "CB_ = m_/(T_*B_*L_*rho_)\n",
    "I_z_ = m_*meta_data.KZZ**2\n",
    "\n",
    "ship_parameters = {\n",
    "        'T' : T_,\n",
    "        'L' : L_,\n",
    "        'CB' :CB_,\n",
    "        'B' : B_,\n",
    "        'rho' : rho_,\n",
    "        'x_G' : 0,  # motions are expressed at CG\n",
    "        'm' : m_,\n",
    "        'I_z': I_z_, \n",
    "    }\n",
    "\n",
    "ps = prime_system.PrimeSystem(**ship_parameters)  # model\n",
    "\n",
    "scale_factor = meta_data.scale_factor\n",
    "ps_ship = prime_system.PrimeSystem(L=ship_parameters['L']*scale_factor, rho=meta_data['rho'])  # ship"
   ]
  },
  {
   "cell_type": "markdown",
   "metadata": {},
   "source": [
    "# Brix parameters"
   ]
  },
  {
   "cell_type": "code",
   "execution_count": 34,
   "metadata": {},
   "outputs": [],
   "source": [
    "def calculate_prime(row, ship_parameters):\n",
    "    return run(function=row['brix_lambda'], inputs=ship_parameters)\n",
    "\n",
    "mask = df_parameters['brix_lambda'].notnull()\n",
    "df_parameters.loc[mask,'brix_prime'] = df_parameters.loc[mask].apply(calculate_prime, ship_parameters=ship_parameters, axis=1)\n",
    "df_parameters.loc['Ydelta','brix_prime'] = 0.005  # Just guessing\n",
    "df_parameters.loc['Ndelta','brix_prime'] = -df_parameters.loc['Ydelta','brix_prime']/2  # Just guessing\n",
    "df_parameters['brix_prime'].fillna(0, inplace=True)"
   ]
  },
  {
   "cell_type": "code",
   "execution_count": 35,
   "metadata": {},
   "outputs": [],
   "source": [
    "df['Y_qs'] = run(Y_qs_lambda, inputs=ship_parameters, **df, **df_parameters['brix_prime'])"
   ]
  },
  {
   "cell_type": "code",
   "execution_count": 36,
   "metadata": {},
   "outputs": [
    {
     "data": {
      "text/plain": [
       "<seaborn.axisgrid.PairGrid at 0x1362ab7e640>"
      ]
     },
     "execution_count": 36,
     "metadata": {},
     "output_type": "execute_result"
    },
    {
     "data": {
      "image/png": "[encoded data removed]",
      "text/plain": [
       "<Figure size 720x180 with 4 Axes>"
      ]
     },
     "metadata": {
      "needs_background": "light"
     },
     "output_type": "display_data"
    }
   ],
   "source": [
    "g = sns.PairGrid(df, x_vars=['u','v','r','delta'], y_vars=['Y_qs'])\n",
    "g.map_upper(sns.scatterplot)\n",
    "g.map_lower(sns.kdeplot)\n",
    "g.map_diag(sns.kdeplot, lw=3, legend=False)"
   ]
  },
  {
   "cell_type": "code",
   "execution_count": 56,
   "metadata": {},
   "outputs": [
    {
     "data": {
      "text/plain": [
       "<seaborn.axisgrid.PairGrid at 0x1362e58bd00>"
      ]
     },
     "execution_count": 56,
     "metadata": {},
     "output_type": "execute_result"
    },
    {
     "data": {
      "image/png": "[encoded data removed]",
      "text/plain": [
       "<Figure size 360x180 with 2 Axes>"
      ]
     },
     "metadata": {
      "needs_background": "light"
     },
     "output_type": "display_data"
    }
   ],
   "source": [
    "mask = df['delta'] <= df['delta'].quantile(q=0.01)\n",
    "df_min = df.loc[mask].copy()\n",
    "sns.pairplot(df_min, x_vars=['v','r'], y_vars=['Y_qs'])"
   ]
  },
  {
   "cell_type": "code",
   "execution_count": 57,
   "metadata": {},
   "outputs": [
    {
     "data": {
      "text/plain": [
       "<AxesSubplot:xlabel='time'>"
      ]
     },
     "execution_count": 57,
     "metadata": {},
     "output_type": "execute_result"
    },
    {
     "data": {
      "image/png": "[encoded data removed]",
      "text/plain": [
       "<Figure size 432x288 with 1 Axes>"
      ]
     },
     "metadata": {
      "needs_background": "light"
     },
     "output_type": "display_data"
    }
   ],
   "source": [
    "fig,ax=plt.subplots()\n",
    "df.plot(y=['psi','-delta'], ax=ax)\n",
    "df_min.plot(y=['psi','-delta'], style='.', ax=ax)"
   ]
  },
  {
   "cell_type": "code",
   "execution_count": 68,
   "metadata": {},
   "outputs": [
    {
     "data": {
      "text/plain": [
       "<seaborn.axisgrid.PairGrid at 0x1362fc96040>"
      ]
     },
     "execution_count": 68,
     "metadata": {},
     "output_type": "execute_result"
    },
    {
     "data": {
      "image/png": "[encoded data removed]",
      "text/plain": [
       "<Figure size 360x180 with 2 Axes>"
      ]
     },
     "metadata": {
      "needs_background": "light"
     },
     "output_type": "display_data"
    }
   ],
   "source": [
    "mask = df['delta'] >= df['delta'].quantile(q=0.85)\n",
    "df_max = df.loc[mask].copy()\n",
    "sns.pairplot(df_max, x_vars=['v','r'], y_vars=['Y_qs'])"
   ]
  },
  {
   "cell_type": "code",
   "execution_count": 69,
   "metadata": {},
   "outputs": [
    {
     "data": {
      "text/plain": [
       "<AxesSubplot:xlabel='time'>"
      ]
     },
     "execution_count": 69,
     "metadata": {},
     "output_type": "execute_result"
    },
    {
     "data": {
      "image/png": "[encoded data removed]",
      "text/plain": [
       "<Figure size 432x288 with 1 Axes>"
      ]
     },
     "metadata": {
      "needs_background": "light"
     },
     "output_type": "display_data"
    }
   ],
   "source": [
    "fig,ax=plt.subplots()\n",
    "df.plot(y=['psi','-delta'], ax=ax)\n",
    "df_max.plot(y=['psi','-delta'], style='.', ax=ax)"
   ]
  }
 ],
 "metadata": {
  "kernelspec": {
   "display_name": "Python 3",
   "language": "python",
   "name": "python3"
  },
  "language_info": {
   "codemirror_mode": {
    "name": "ipython",
    "version": 3
   },
   "file_extension": ".py",
   "mimetype": "text/x-python",
   "name": "python",
   "nbconvert_exporter": "python",
   "pygments_lexer": "ipython3",
   "version": "3.9.5"
  }
 },
 "nbformat": 4,
 "nbformat_minor": 4
}
