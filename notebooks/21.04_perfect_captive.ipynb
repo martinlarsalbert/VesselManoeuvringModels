{
    "cells": [
        {
            "cell_type": "markdown",
            "metadata": {},
            "source": [
                "# Perfect captive"
            ]
        },
        {
            "cell_type": "markdown",
            "metadata": {},
            "source": [
                "# Purpose\n",
                "If the matematical model is not correct or too little data is available this may lead to paramter drift, so that the parameters in the matematical model changes depending on how the fitted data has been sampled.\n",
                "\n",
                "This notebooks showcases the perfect case when you have the correct model and enought data in a captive test to identify the correct model."
            ]
        },
        {
            "cell_type": "markdown",
            "metadata": {},
            "source": [
                "# Methodology\n",
                "* Sample data of forces from model\n",
                "* Fit the parameters of the same model to this data\n",
                "* Are the parameters correct?\n",
                "* Is the simulation correct?"
            ]
        },
        {
            "cell_type": "markdown",
            "metadata": {},
            "source": [
                "# Setup"
            ]
        },
        {
            "cell_type": "code",
            "execution_count": null,
            "metadata": {},
            "outputs": [],
            "source": [
                "# %load imports.py\n",
                "## Local packages:\n",
                "\n",
                "%matplotlib inline\n",
                "%load_ext autoreload\n",
                "%autoreload 2\n",
                "%config Completer.use_jedi = False  ## (To fix autocomplete)\n",
                "\n",
                "## External packages:\n",
                "import pandas as pd\n",
                "pd.options.display.max_rows = 999\n",
                "pd.options.display.max_columns = 999\n",
                "pd.set_option(\"display.max_columns\", None)\n",
                "import numpy as np\n",
                "np.set_printoptions(linewidth=150)\n",
                "\n",
                "import numpy as np\n",
                "import os\n",
                "import matplotlib.pyplot as plt\n",
                "#if os.name == 'nt':\n",
                "#    plt.style.use('presentation.mplstyle')  # Windows\n",
                "\n",
                "import plotly.express as px \n",
                "import plotly.graph_objects as go\n",
                "\n",
                "import seaborn as sns\n",
                "import sympy as sp\n",
                "from sympy.physics.mechanics import (dynamicsymbols, ReferenceFrame,\n",
                "                                      Particle, Point)\n",
                "from sympy.physics.vector.printing import vpprint, vlatex\n",
                "from IPython.display import display, Math, Latex\n",
                "from vessel_manoeuvring_models.substitute_dynamic_symbols import run, lambdify\n",
                "\n",
                "import pyro\n",
                "\n",
                "import sklearn\n",
                "import pykalman\n",
                "from statsmodels.sandbox.regression.predstd import wls_prediction_std\n",
                "import statsmodels.api as sm\n",
                "\n",
                "from scipy.integrate import solve_ivp\n",
                "\n",
                "## Local packages:\n",
                "from vessel_manoeuvring_models.data import mdl\n",
                "\n",
                "from vessel_manoeuvring_models.symbols import *\n",
                "from vessel_manoeuvring_models.parameters import *\n",
                "import vessel_manoeuvring_models.symbols as symbols\n",
                "from vessel_manoeuvring_models import prime_system\n",
                "from vessel_manoeuvring_models.models.regression import ForceRegression, results_summary_to_dataframe\n",
                "from vessel_manoeuvring_models.models.diff_eq_to_matrix import DiffEqToMatrix\n",
                "from vessel_manoeuvring_models.visualization.regression import show_pred, show_pred_captive\n",
                "from vessel_manoeuvring_models.visualization.plot import track_plot,captive_plot\n",
                "\n",
                "## Load models:\n",
                "# (Uncomment these for faster loading):\n",
                "import vessel_manoeuvring_models.models.vmm_abkowitz  as vmm \n",
                "#import vessel_manoeuvring_models.models.vmm_martin as vmm_simpler\n",
                "\n",
                "from vessel_manoeuvring_models.models.vmm import ModelSimulator\n",
                "\n",
                "from vessel_manoeuvring_models.data.wpcc import ship_parameters, df_parameters, ps, ship_parameters_prime, ps_ship, scale_factor\n",
                "from vessel_manoeuvring_models.models.captive_variation import variate"
            ]
        },
        {
            "cell_type": "code",
            "execution_count": null,
            "metadata": {},
            "outputs": [],
            "source": [
                "#format the book\n",
                "import vessel_manoeuvring_models.visualization.book_format as book_format\n",
                "book_format.set_style()"
            ]
        },
        {
            "cell_type": "markdown",
            "metadata": {},
            "source": [
                "## Load model"
            ]
        },
        {
            "cell_type": "code",
            "execution_count": null,
            "metadata": {},
            "outputs": [],
            "source": [
                "model = ModelSimulator.load('../models/model_VCT_abkowitz.pkl')"
            ]
        },
        {
            "cell_type": "markdown",
            "metadata": {},
            "source": [
                "### Run a zigzag simulation with the model"
            ]
        },
        {
            "cell_type": "code",
            "execution_count": null,
            "metadata": {},
            "outputs": [],
            "source": [
                "u0_=2\n",
                "angle_deg = 35\n",
                "result = model.zigzag(u0=u0_, angle=angle_deg)"
            ]
        },
        {
            "cell_type": "code",
            "execution_count": null,
            "metadata": {},
            "outputs": [],
            "source": []
        },
        {
            "cell_type": "code",
            "execution_count": null,
            "metadata": {},
            "outputs": [],
            "source": [
                "result.track_plot();\n",
                "result.plot(compare=False);"
            ]
        },
        {
            "cell_type": "code",
            "execution_count": null,
            "metadata": {},
            "outputs": [],
            "source": [
                "df_result = result.result.copy()\n",
                "df_result_prime = model.prime_system.prime(df_result, U=df_result['U'])"
            ]
        },
        {
            "cell_type": "markdown",
            "metadata": {},
            "source": [
                "## Parameter variation (captive test)"
            ]
        },
        {
            "cell_type": "code",
            "execution_count": null,
            "metadata": {},
            "outputs": [],
            "source": [
                "len(model.parameters)"
            ]
        },
        {
            "cell_type": "code",
            "execution_count": null,
            "metadata": {},
            "outputs": [],
            "source": [
                "variation_keys = ['u','v','r','delta']\n",
                "df_inputs = variate(df=df_result_prime, variation_keys=variation_keys, N=3)\n",
                "df_outputs = model.forces(df_inputs)\n",
                "df_captive_all = pd.concat([df_inputs,df_outputs], axis=1)"
            ]
        },
        {
            "cell_type": "code",
            "execution_count": null,
            "metadata": {},
            "outputs": [],
            "source": [
                "len(df_inputs)"
            ]
        },
        {
            "cell_type": "code",
            "execution_count": null,
            "metadata": {},
            "outputs": [],
            "source": [
                "3**(len(variation_keys))"
            ]
        },
        {
            "cell_type": "markdown",
            "metadata": {},
            "source": [
                "## Fit model"
            ]
        },
        {
            "cell_type": "code",
            "execution_count": null,
            "metadata": {},
            "outputs": [],
            "source": [
                "reg_all = ForceRegression(vmm=model, data=df_captive_all)\n",
                "display(reg_all.show_pred_X())\n",
                "display(reg_all.show_pred_Y())\n",
                "display(reg_all.show_pred_N())"
            ]
        },
        {
            "cell_type": "markdown",
            "metadata": {},
            "source": [
                "### Create a simulation model from the regression model"
            ]
        },
        {
            "cell_type": "code",
            "execution_count": null,
            "metadata": {},
            "outputs": [],
            "source": [
                "added_masses_ = {key:value for key,value in model.parameters.items() if 'dot' in key}\n",
                "added_masses = pd.DataFrame(added_masses_, index=['prime']).transpose()\n",
                "\n",
                "model_all = reg_all.create_model(added_masses=added_masses, ship_parameters=model.ship_parameters, \n",
                "                             ps=model.prime_system, control_keys=['delta'])"
            ]
        },
        {
            "cell_type": "markdown",
            "metadata": {},
            "source": [
                "### Resimulate with the regressed model"
            ]
        },
        {
            "cell_type": "code",
            "execution_count": null,
            "metadata": {},
            "outputs": [],
            "source": [
                "result_all = model_all.simulate(df_result)"
            ]
        },
        {
            "cell_type": "code",
            "execution_count": null,
            "metadata": {},
            "outputs": [],
            "source": [
                "result_all.plot_compare();"
            ]
        },
        {
            "cell_type": "code",
            "execution_count": null,
            "metadata": {},
            "outputs": [],
            "source": [
                "df_compare_parameters =pd.DataFrame()\n",
                "df_compare_parameters['model'] = model.parameters\n",
                "df_compare_parameters['model captive all'] = model_all.parameters\n",
                "\n",
                "\n",
                "df_compare_parameters['model_abs'] = df_compare_parameters['model'].abs()\n",
                "df_compare_parameters.sort_values(by='model_abs', ascending=False, inplace=True)\n",
                "df_compare_parameters.drop(columns=['model_abs'], inplace=True)\n",
                "\n",
                "df_compare_parameters = df_compare_parameters.divide(df_compare_parameters['model'], axis=0)\n",
                "\n",
                "df_compare_parameters['dof'] = pd.Series(df_compare_parameters.index).apply(lambda x:x[0]).values\n",
                "\n",
                "for dof, df_ in df_compare_parameters.groupby(by='dof', sort=False):\n",
                "    fig,ax=plt.subplots()\n",
                "    fig.set_size_inches(10,2)\n",
                "    df_.plot(kind='bar', ax=ax)\n",
                "    fig.suptitle(dof)"
            ]
        },
        {
            "cell_type": "code",
            "execution_count": null,
            "metadata": {},
            "outputs": [],
            "source": []
        }
    ],
    "metadata": {
        "citation-manager": {
            "items": {}
        },
        "kernelspec": {
            "display_name": "Python 3",
            "language": "python",
            "name": "python3"
        },
        "language_info": {
            "codemirror_mode": {
                "name": "ipython",
                "version": 3
            },
            "file_extension": ".py",
            "mimetype": "text/x-python",
            "name": "python",
            "nbconvert_exporter": "python",
            "pygments_lexer": "ipython3",
            "version": "3.9.5"
        }
    },
    "nbformat": 4,
    "nbformat_minor": 4
}