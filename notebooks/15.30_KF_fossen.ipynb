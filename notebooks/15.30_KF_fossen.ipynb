{
 "cells": [
  {
   "cell_type": "markdown",
   "id": "c8988f9d-74e1-4e0b-b034-ea1e99e299b1",
   "metadata": {},
   "source": [
    "# Kalman filter\n",
    "This is an implementation of the example Kalman filter: [ExKF.m](https://github.com/cybergalactic/MSS/blob/master/mssExamples/ExKF.m).\n",
    "\n",
    "ExKF Discrete-time Kalman filter (KF) implementation demonstrating\n",
    "how the \"predictor-corrector representation\" can be applied to a\n",
    "linear model:\n",
    "\n",
    "$dx/dt = A \\cdot x + B \\cdot u + E \\cdot w$ <br>\n",
    "$y = C \\cdot x + v$ <br>\n",
    "$x_k+1 = Ad \\cdot x_k + Bd \\cdot u_k + Ed \\cdot w_k$ <br>\n",
    "$y_k = Cd \\cdot x_k + v_k$ <br>\n",
    "\n",
    "$Ad = I + h \\cdot A$, $Bd = h \\cdot B$, $Cd = C$ and $Ed = h \\cdot E$ (h = sampling time). \n",
    "\n",
    "\n",
    "The case study is a ship model in yaw with heading angle measured at frequency\n",
    "*f_m* [Hz], which can be chosen smaller or equal to the sampling frequency \n",
    "*f_s* [Hz]. The ratio between the frequencies must be a non-negative integer:\n",
    "Integer:  Z = f_s/f_m >= 1  \n",
    "\n",
    "Author:    Thor I. Fossen <br>\n",
    "Date:      17 Oct 2018 <br>\n",
    "Revisions: 28 Feb 2020, minor updates of notation <br>\n",
    "           29 Mar 2020, added ssa(), new logic for no measurements <br>\n"
   ]
  },
  {
   "cell_type": "code",
   "execution_count": null,
   "id": "26d36552-c176-4926-a886-4eb8ba4f823a",
   "metadata": {},
   "outputs": [],
   "source": [
    "%load_ext autoreload\n",
    "%autoreload 2\n",
    "\n",
    "import pandas as pd\n",
    "import numpy as np\n",
    "import matplotlib.pyplot as plt\n",
    "from numpy.linalg import inv\n",
    "\n",
    "import vessel_manoeuvring_models.visualization.book_format as book_format\n",
    "book_format.set_style()"
   ]
  },
  {
   "cell_type": "markdown",
   "id": "f6d767e7-af33-4413-8e37-0e34dc393b86",
   "metadata": {},
   "source": [
    "## Discrete-time Kalman Filter\n",
    "Linear Time Variant state space model:<br>\n",
    "$ \\dot{x} = A(t)x + B(t)u + E(t)w $ <br>\n",
    "where $w$ is zero mean Gausian process noise.\n",
    "\n",
    "With measurements:<br>\n",
    "$ y = C(t)x + D(t)u + \\epsilon $ <br>\n",
    "where $\\epsilon$ is zero mean Gausian measurement noise."
   ]
  },
  {
   "cell_type": "markdown",
   "id": "aa36984f-c5ff-4dac-9fb2-9a5496774eb9",
   "metadata": {},
   "source": [
    "### Model parameters for mass-damper system (x1 = yaw angle, x2 = yaw rate)"
   ]
  },
  {
   "cell_type": "code",
   "execution_count": null,
   "id": "5570e14a-29f6-45d1-81df-5994d8679382",
   "metadata": {},
   "outputs": [],
   "source": [
    "A = np.array(\n",
    "    [[0,    1],\n",
    "     [0, -0.1]])\n",
    "\n",
    "B = np.array(\n",
    "    [[0],\n",
    "     [1]]\n",
    ")\n",
    "\n",
    "E = np.array(\n",
    "    [[0],\n",
    "    [1]],\n",
    ")\n",
    "    \n",
    "C = np.array([[1, 0]])"
   ]
  },
  {
   "cell_type": "markdown",
   "id": "056e1305-beb2-40ec-bbc7-6bb57c1f9292",
   "metadata": {},
   "source": [
    "## Simulate system without Kalman Filtering\n",
    "There is an control input to the system which is modelled as a sinus, this could be external disturbances from wind or waves: <br>\n",
    "$ u = 0.1 \\sin(0.1 t) $"
   ]
  },
  {
   "cell_type": "code",
   "execution_count": null,
   "id": "67d01068-94fb-40d1-8bd9-389bf610d31f",
   "metadata": {},
   "outputs": [],
   "source": [
    "# simulation parameters\n",
    "N  = 100   # no. of iterations\n",
    "f_m = 1    # sampling frequency [Hz]\n",
    "h_m  = 1/f_m  # sampling time: h  = 1/f_s (s) \n",
    "t = np.arange(0,N*h_m,h_m)"
   ]
  },
  {
   "cell_type": "code",
   "execution_count": null,
   "id": "c7382841-1ea7-472f-8774-5cb141fea494",
   "metadata": {},
   "outputs": [],
   "source": [
    "# initial values for x and u\n",
    "x = np.array([[0, 0]]).T\t        \n",
    "us = 0.1 * np.sin(0.1*t) # inputs\n",
    "np.random.seed(42)\n",
    "ws = 0.1 * np.random.normal(scale=1, size=N)  # process noise\n"
   ]
  },
  {
   "cell_type": "code",
   "execution_count": null,
   "id": "8c0d7688-89c7-408c-95c2-81675ba6382d",
   "metadata": {},
   "outputs": [],
   "source": [
    "x_prd = x\n",
    "simdata = []\n",
    "for i in range(N):\n",
    "    \n",
    "    u = us[i] # input\n",
    "    w = ws[i] # process noise\n",
    "    \n",
    "    x_dot = A @ x + B * u + E * w;\n",
    "       \n",
    "    ## Euler integration (k+1)\n",
    "    x = x + h_m * x_dot\n",
    "    \n",
    "    simdata.append(x.flatten())\n",
    "\n",
    "simdata = np.array(simdata)\n",
    "df = pd.DataFrame(simdata, columns=['yaw','yaw rate'], index=t)\n",
    "df['u'] = us\n",
    "df['w'] = ws"
   ]
  },
  {
   "cell_type": "code",
   "execution_count": null,
   "id": "7969fc80-c4d3-4eb9-a01a-378c934e7109",
   "metadata": {},
   "outputs": [],
   "source": [
    "fig,axes=plt.subplots(nrows=3)\n",
    "df.plot(y='u', label='u (input)', ax=axes[0])\n",
    "df.plot(y='yaw', ax=axes[1])\n",
    "df.plot(y='yaw rate', ax=axes[2]);"
   ]
  },
  {
   "cell_type": "markdown",
   "id": "0d850702-e73c-4017-b8eb-4f9a94ab54f3",
   "metadata": {},
   "source": [
    "## Discretisized system matrixes"
   ]
  },
  {
   "cell_type": "markdown",
   "id": "3c6af41c-ef7a-409e-9760-8408254c97c9",
   "metadata": {},
   "source": [
    "$A_d[k] = \\Phi$ <br>\n",
    "$B_d[k] = A^{-1}(\\Phi-I)B$ <br>\n",
    "$C_d[k] = C$ <br>\n",
    "$D_d[k] = D$ <br>\n",
    "$E_d[k] = A^{-1}(\\Phi-I)E$ <br>\n",
    "\n",
    "The trasition matrix is calculated as a taylor expansion: <br>\n",
    "$\\Phi \\approx I + A h + \\frac{1}{2}(A h)^2 + ... + \\frac{1}{N!}(A h)^N$ <br>\n",
    "choosing $N=1$:<br>\n",
    "$A_d[k]=I + A h$"
   ]
  },
  {
   "cell_type": "code",
   "execution_count": null,
   "id": "f2428967-4595-4144-8a92-cbffd09616f5",
   "metadata": {},
   "outputs": [],
   "source": [
    "df['epsilon'] = epsilons = 0.1 * np.random.normal(scale=1, size=N)  # measurement noise\n",
    "df['y'] = df['yaw'] + df['epsilon']\n",
    "ys = np.zeros((N,2))\n",
    "ys[:,0] = df['y'].values"
   ]
  },
  {
   "cell_type": "code",
   "execution_count": null,
   "id": "36079050-8f47-48f3-9722-bd01ee6ac046",
   "metadata": {},
   "outputs": [],
   "source": [
    "ys.shape"
   ]
  },
  {
   "cell_type": "code",
   "execution_count": null,
   "id": "d68127eb-eff8-4bef-bc9c-cbac452edc40",
   "metadata": {},
   "outputs": [],
   "source": [
    "f_s = 10  # sampling frequency [Hz]\n",
    "h = 1 / f_s  # sampling time: h  = 1/f_s (s)\n",
    "Ad = np.eye(2) + h * A\n",
    "Bd = h * B\n",
    "Cd = C\n",
    "Ed = h * E"
   ]
  },
  {
   "cell_type": "code",
   "execution_count": null,
   "id": "f380bc2c-acf7-466b-984f-fd6ebf72031d",
   "metadata": {},
   "outputs": [],
   "source": [
    "# initial values for x and u\n",
    "x = np.array([[0, 0]]).T      "
   ]
  },
  {
   "cell_type": "code",
   "execution_count": null,
   "id": "5b1c9fcc-32b3-4332-8c18-6f84ccfcb8ab",
   "metadata": {},
   "outputs": [],
   "source": [
    "# initialization of Kalman filter\n",
    "x_prd = np.array([[0, 0]]).T        \n",
    "P_prd = np.diag([1, 1])\n",
    "Qd = 1\n",
    "Rd = 10"
   ]
  },
  {
   "cell_type": "code",
   "execution_count": null,
   "id": "066e1a34-878f-489d-beaf-a45946968e55",
   "metadata": {},
   "outputs": [],
   "source": [
    "def ssa(angle):\n",
    "    \"\"\"\n",
    "    maps an angle in rad to the interval [-pi pi]\n",
    "    \"\"\"\n",
    "    return np.mod( angle + np.pi, 2 * np.pi ) - np.pi "
   ]
  },
  {
   "cell_type": "code",
   "execution_count": null,
   "id": "69c14499-4a78-4778-8f52-1b9e9879d86c",
   "metadata": {},
   "outputs": [],
   "source": [
    "def filter(\n",
    "    x0,\n",
    "    P_prd,\n",
    "    h_m,\n",
    "    h,\n",
    "    us,\n",
    "    ws,\n",
    "    ys,\n",
    "    Ad,\n",
    "    Bd,\n",
    "    Cd,\n",
    "    Ed,\n",
    "    Qd,\n",
    "    Rd,\n",
    "):\n",
    "    x_prd = x0\n",
    "    t = 0\n",
    "    df = pd.DataFrame()\n",
    "\n",
    "    for i in range(len(us)):\n",
    "\n",
    "        u = us[i]  # input\n",
    "        w = ws[i]  # process noise\n",
    "        y = ys[i].T  # measurement\n",
    "\n",
    "        for j in range(int(h_m / h)):\n",
    "            t += h\n",
    "            # Compute kalman gain:\n",
    "            S = Cd @ P_prd @ Cd.T + Rd  # System uncertainty\n",
    "            K = P_prd @ Cd.T @ inv(S)\n",
    "            IKC = np.eye(2) - K @ Cd\n",
    "\n",
    "            # State corrector:\n",
    "            x_hat = x_prd + K * np.rad2deg(\n",
    "                ssa(np.deg2rad(y - Cd @ x_prd))\n",
    "            )  # smallest signed angle\n",
    "            \n",
    "            # corrector\n",
    "            P_hat = IKC * P_prd @ IKC.T + K * Rd @ K.T\n",
    "\n",
    "            # Predictor (k+1)\n",
    "            x_prd = Ad @ x_hat + Bd * u\n",
    "            P_prd = Ad @ P_hat @ Ad.T + Ed * Qd @ Ed.T\n",
    "\n",
    "            s = pd.Series(name=t)\n",
    "            s[\"yaw\"] = x_hat[0][0]\n",
    "            s[\"yaw rate\"] = x_hat[1][0]\n",
    "            s[\"yaw predictor\"] = x_prd[0][0]\n",
    "            s[\"yaw rate predictor\"] = x_prd[1][0]\n",
    "\n",
    "            df = df.append(s)\n",
    "\n",
    "    return df"
   ]
  },
  {
   "cell_type": "code",
   "execution_count": null,
   "id": "931a78c3-18e1-425a-9b4f-af12cc3c5b4b",
   "metadata": {},
   "outputs": [],
   "source": [
    "# initialization of Kalman filter\n",
    "x0 = np.array([[10, 0]]).T\n",
    "P_prd = np.diag([1, 1])\n",
    "Qd = 1\n",
    "Rd = 10\n",
    "df2 = filter(x0=x0, P_prd=P_prd, h_m=h_m, h=h, us=us, ws=ws, ys=ys, Ad=Ad, Bd=Bd, \n",
    "             Cd=Cd, Ed=Ed, Qd=Qd, Rd=Rd)"
   ]
  },
  {
   "cell_type": "code",
   "execution_count": null,
   "id": "bd7ebe15-6a72-49ff-9315-1cbf1ae70f7b",
   "metadata": {},
   "outputs": [],
   "source": [
    "df2.head()"
   ]
  },
  {
   "cell_type": "code",
   "execution_count": null,
   "id": "6530c533-fec8-4b10-90fd-7de6dd711793",
   "metadata": {},
   "outputs": [],
   "source": [
    "fig,axes=plt.subplots(nrows=3)\n",
    "df.plot(y='u', label='u (input)', ax=axes[0])\n",
    "axes[1].set_ylabel('yaw')\n",
    "df.plot(y='y', style='.', alpha=0.7, ax=axes[1])\n",
    "df.plot(y='yaw', label='model', ax=axes[1])\n",
    "df2.plot(y='yaw predictor', label='predictor', style='--', ax=axes[1])\n",
    "df2.plot(y='yaw', label='kalman', style=':', ax=axes[1])\n",
    "\n",
    "\n",
    "axes[2].set_ylabel('yaw rate')\n",
    "df.plot(y='yaw rate', label='model', ax=axes[2]);\n",
    "df2.plot(y='yaw rate predictor', label='predictor', style='--', ax=axes[2]);\n",
    "df2.plot(y='yaw rate', label='kalman', style=':', ax=axes[2])\n"
   ]
  },
  {
   "cell_type": "code",
   "execution_count": null,
   "id": "04776d55-090c-44b9-aaf2-d8adad927110",
   "metadata": {},
   "outputs": [],
   "source": []
  },
  {
   "cell_type": "code",
   "execution_count": null,
   "id": "b7a798d3-795c-4c57-a81d-78737078a849",
   "metadata": {},
   "outputs": [],
   "source": []
  },
  {
   "cell_type": "code",
   "execution_count": null,
   "id": "6ac7aa16-6ee7-4c9a-b013-1fe29beac7c2",
   "metadata": {},
   "outputs": [],
   "source": []
  }
 ],
 "metadata": {
  "citation-manager": {
   "items": {}
  },
  "kernelspec": {
   "display_name": "Python 3",
   "language": "python",
   "name": "python3"
  },
  "language_info": {
   "codemirror_mode": {
    "name": "ipython",
    "version": 3
   },
   "file_extension": ".py",
   "mimetype": "text/x-python",
   "name": "python",
   "nbconvert_exporter": "python",
   "pygments_lexer": "ipython3",
   "version": "3.9.5"
  }
 },
 "nbformat": 4,
 "nbformat_minor": 5
}
