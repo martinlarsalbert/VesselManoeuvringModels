{
    "cells": [
        {
            "cell_type": "markdown",
            "metadata": {},
            "source": [
                "# Simulation in air"
            ]
        },
        {
            "cell_type": "markdown",
            "metadata": {},
            "source": [
                "# Purpose\n",
                "Check the equation of motion"
            ]
        },
        {
            "cell_type": "markdown",
            "metadata": {},
            "source": [
                "# Methodology\n",
                "Conduct some simulations to see that the object is behaving in air."
            ]
        },
        {
            "cell_type": "markdown",
            "metadata": {},
            "source": [
                "# Setup"
            ]
        },
        {
            "cell_type": "code",
            "execution_count": null,
            "metadata": {},
            "outputs": [],
            "source": [
                "# %load imports.py\n",
                "## Local packages:\n",
                "\n",
                "%matplotlib inline\n",
                "%load_ext autoreload\n",
                "%autoreload 2\n",
                "%config Completer.use_jedi = False  ## (To fix autocomplete)\n",
                "\n",
                "## External packages:\n",
                "import pandas as pd\n",
                "pd.options.display.max_rows = 999\n",
                "pd.options.display.max_columns = 999\n",
                "pd.set_option(\"display.max_columns\", None)\n",
                "\n",
                "import numpy as np\n",
                "import os\n",
                "import matplotlib.pyplot as plt\n",
                "#if os.name == 'nt':\n",
                "#    plt.style.use('presentation.mplstyle')  # Windows\n",
                "\n",
                "import plotly.express as px \n",
                "import plotly.graph_objects as go\n",
                "\n",
                "import seaborn as sns\n",
                "import sympy as sp\n",
                "from sympy.physics.mechanics import (dynamicsymbols, ReferenceFrame,\n",
                "                                      Particle, Point)\n",
                "from sympy.physics.vector.printing import vpprint, vlatex\n",
                "from IPython.display import display, Math, Latex\n",
                "from vessel_manoeuvring_models.substitute_dynamic_symbols import run, lambdify\n",
                "\n",
                "import pyro\n",
                "\n",
                "import sklearn\n",
                "import pykalman\n",
                "from statsmodels.sandbox.regression.predstd import wls_prediction_std\n",
                "import statsmodels.api as sm\n",
                "\n",
                "from scipy.integrate import solve_ivp\n",
                "\n",
                "## Local packages:\n",
                "from vessel_manoeuvring_models.data import mdl\n",
                "\n",
                "from vessel_manoeuvring_models.symbols import *\n",
                "from vessel_manoeuvring_models.parameters import *\n",
                "import vessel_manoeuvring_models.symbols as symbols\n",
                "from vessel_manoeuvring_models import prime_system\n",
                "from vessel_manoeuvring_models.models import regression\n",
                "from vessel_manoeuvring_models.visualization.plot import track_plot\n",
                "from vessel_manoeuvring_models.equation import Equation\n",
                "\n",
                "## Load models:\n",
                "# (Uncomment these for faster loading):\n",
                "#import vessel_manoeuvring_models.models.vmm_abkowitz  as vmm_abkowitz \n",
                "import vessel_manoeuvring_models.models.vmm_air as vmm_air"
            ]
        },
        {
            "cell_type": "code",
            "execution_count": null,
            "metadata": {},
            "outputs": [],
            "source": [
                "Math(vlatex(vmm_air.X_eq))"
            ]
        },
        {
            "cell_type": "code",
            "execution_count": null,
            "metadata": {},
            "outputs": [],
            "source": [
                "Math(vlatex(vmm_air.Y_eq))"
            ]
        },
        {
            "cell_type": "code",
            "execution_count": null,
            "metadata": {},
            "outputs": [],
            "source": [
                "Math(vlatex(vmm_air.N_eq))"
            ]
        },
        {
            "cell_type": "code",
            "execution_count": null,
            "metadata": {},
            "outputs": [],
            "source": [
                "ship_parameters = pd.Series({\n",
                "        \n",
                "        'L' : 5,\n",
                "        'B' : 1,\n",
                "        'x_G' : 0,  # motions are expressed at CG\n",
                "        'm' : 2,\n",
                "        'I_z': 2, \n",
                "    })\n",
                "\n",
                "parameters = {}\n"
            ]
        },
        {
            "cell_type": "code",
            "execution_count": null,
            "metadata": {},
            "outputs": [],
            "source": [
                "t_ = np.linspace(0,10,1000)\n",
                "df = pd.DataFrame(index=t_)\n",
                "f_ext_x_ = 2\n",
                "a_x_ = f_ext_x_/ship_parameters.m\n",
                "\n",
                "df['u'] = a_x_*t_\n",
                "df['v'] = 0\n",
                "df['r'] = 0\n",
                "df['x0'] = a_x_*t_**2/2\n",
                "df['y0'] = 0\n",
                "df['psi'] = 0\n",
                "df['beta'] = -np.arctan2(df['v'],df['u'])\n",
                "df['f_ext_x']=f_ext_x_\n",
                "df['f_ext_y']=0\n",
                "df['m_ext_z']=0\n",
                "\n",
                "result_air = vmm_air.simulator.simulate(df_=df, \n",
                "                                        parameters=parameters, \n",
                "                                        ship_parameters=ship_parameters, \n",
                "                                        control_keys=['f_ext_x','f_ext_y','m_ext_z'])\n",
                "result_air.plot_compare()"
            ]
        },
        {
            "cell_type": "code",
            "execution_count": null,
            "metadata": {},
            "outputs": [],
            "source": []
        },
        {
            "cell_type": "code",
            "execution_count": null,
            "metadata": {},
            "outputs": [],
            "source": [
                "t_ = np.linspace(0,10,1000)\n",
                "df = pd.DataFrame(index=t_)\n",
                "V_=6\n",
                "r_ = 2*np.pi/t_[-1]\n",
                "\n",
                "f_ext = ship_parameters.m*r_*V_\n",
                "\n",
                "\n",
                "\n",
                "df['beta'] = np.deg2rad(30)\n",
                "df['u'] = V_*np.cos(df['beta'])\n",
                "df['v'] = -V_*np.sin(df['beta'])\n",
                "df['r'] = r_\n",
                "\n",
                "R_=V_*t_[-1]/(2*np.pi)\n",
                "\n",
                "phi_ = r_*t_\n",
                "df['psi'] = phi_ + df['beta']\n",
                "df['x0'] = R_*np.sin(phi_)\n",
                "df['y0'] = R_-R_*np.cos(phi_)\n",
                "\n",
                "\n",
                "df['f_ext_x']=f_ext*np.sin(df['beta'])\n",
                "df['f_ext_y']=f_ext*np.cos(df['beta'])\n",
                "df['m_ext_z']=0\n",
                "\n",
                "result_air = vmm_air.simulator.simulate(df_=df, \n",
                "                                        parameters=parameters, \n",
                "                                        ship_parameters=ship_parameters, \n",
                "                                        control_keys=['f_ext_x','f_ext_y','m_ext_z'])\n",
                "result_air.plot_compare()"
            ]
        },
        {
            "cell_type": "code",
            "execution_count": null,
            "metadata": {},
            "outputs": [],
            "source": []
        }
    ],
    "metadata": {
        "kernelspec": {
            "display_name": "Python 3",
            "language": "python",
            "name": "python3"
        },
        "language_info": {
            "codemirror_mode": {
                "name": "ipython",
                "version": 3
            },
            "file_extension": ".py",
            "mimetype": "text/x-python",
            "name": "python",
            "nbconvert_exporter": "python",
            "pygments_lexer": "ipython3",
            "version": "3.9.5"
        }
    },
    "nbformat": 4,
    "nbformat_minor": 4
}