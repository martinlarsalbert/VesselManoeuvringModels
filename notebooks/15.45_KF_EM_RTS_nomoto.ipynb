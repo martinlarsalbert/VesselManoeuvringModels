{
 "cells": [
  {
   "cell_type": "markdown",
   "id": "4de15cda-ec35-4ee4-b7ea-c71bcd493848",
   "metadata": {},
   "source": [
    "# KF EM RTS Nomoto"
   ]
  },
  {
   "cell_type": "code",
   "execution_count": null,
   "id": "63bf0d6a-6a10-4f79-bdb0-6ffc96908c1a",
   "metadata": {},
   "outputs": [],
   "source": [
    "%load_ext autoreload\n",
    "%autoreload 2\n",
    "\n",
    "import matplotlib.pyplot as plt\n",
    "import pandas as pd\n",
    "import numpy as np\n",
    "from src.kalman_filter import filter_yaw, rts_smoother\n",
    "\n",
    "import src.visualization.book_format as book_format\n",
    "book_format.set_style()"
   ]
  },
  {
   "cell_type": "code",
   "execution_count": null,
   "id": "c9370783-bbbe-4b6f-881c-daf476597174",
   "metadata": {},
   "outputs": [],
   "source": [
    "def simulate(Ad, Bd, E, ws, t, us):\n",
    "\n",
    "    simdata = []\n",
    "    x_ = np.deg2rad(np.array([[0, 0]]).T)\n",
    "    for u_, w_ in zip(us, ws):\n",
    "\n",
    "        x_ = (Ad @ x_ + Bd * u_) + E * w_\n",
    "\n",
    "        simdata.append(x_.flatten())\n",
    "\n",
    "    simdata = np.array(simdata)\n",
    "    df = pd.DataFrame(simdata, columns=[\"psi\", \"r\"], index=t)\n",
    "    df[\"delta\"] = us\n",
    "\n",
    "    return df\n",
    "\n",
    "\n",
    "def do_simulation(h, Ad, Bd):\n",
    "    ## Simulate\n",
    "    N = 4000\n",
    "    t_ = np.arange(0, N * h, h)\n",
    "\n",
    "    us = np.deg2rad(\n",
    "        np.concatenate(\n",
    "            (\n",
    "                -10 * np.ones(int(N / 4)),\n",
    "                10 * np.ones(int(N / 4)),\n",
    "                -10 * np.ones(int(N / 4)),\n",
    "                10 * np.ones(int(N / 4)),\n",
    "            )\n",
    "        )\n",
    "    )\n",
    "\n",
    "    E = np.array([[0, 1]]).T\n",
    "    process_noise = np.deg2rad(0.01)\n",
    "    ws = process_noise * np.random.normal(size=N)\n",
    "    df = simulate(Ad=Ad, Bd=Bd, E=E, ws=ws, t=t_, us=us)\n",
    "\n",
    "    measurement_noise = np.deg2rad(3)\n",
    "    df[\"epsilon\"] = measurement_noise * np.random.normal(size=N)\n",
    "    df[\"psi_measure\"] = df[\"psi\"] + df[\"epsilon\"]\n",
    "    df[\"psi_deg\"] = np.rad2deg(df[\"psi\"])\n",
    "    df[\"psi_measure_deg\"] = np.rad2deg(df[\"psi_measure\"])\n",
    "    df[\"delta_deg\"] = np.rad2deg(df[\"delta\"])\n",
    "    return df"
   ]
  },
  {
   "cell_type": "code",
   "execution_count": null,
   "id": "e5f51422-1dc9-4928-b28d-72e451d57a91",
   "metadata": {},
   "outputs": [],
   "source": [
    "np.random.seed(42)\n",
    "\n",
    "T_1 = 1.8962353076056344\n",
    "K = 0.17950970687951323\n",
    "h = 0.02\n",
    "\n",
    "Ad = np.array([[1, h], \n",
    "               [0, 1 - h / T_1]])\n",
    "Bd = np.array([[0, -K * h / T_1]]).T\n",
    "df = do_simulation(h=h, Ad=Ad, Bd=Bd)"
   ]
  },
  {
   "cell_type": "code",
   "execution_count": null,
   "id": "26cfc31e-c734-42ef-8226-c84320b2b654",
   "metadata": {},
   "outputs": [],
   "source": [
    "T_1 = 2.8962353076056344  # Note\n",
    "K = 0.17950970687951323\n",
    "\n",
    "Ad = np.array([[1, h], \n",
    "               [0, 1 - h / T_1]])\n",
    "Bd = np.array([[0, -K * h / T_1]]).T"
   ]
  },
  {
   "cell_type": "code",
   "execution_count": null,
   "id": "48c93703-f1e9-4bf9-bdac-7f3e6df4b601",
   "metadata": {},
   "outputs": [],
   "source": [
    "x0 = np.deg2rad(np.array([[0, 0]]).T)\n",
    "P_prd = np.deg2rad(np.array([\n",
    "    [1, 0],\n",
    "    [0., 0.1],\n",
    "]))\n",
    "\n",
    "Qd = np.deg2rad(np.diag([0, 0.1]))\n",
    "\n",
    "Rd = np.deg2rad(0.1)\n",
    "\n",
    "ys = df[\"psi_measure\"].values\n",
    "us = df[\"delta\"].values\n",
    "\n",
    "E_ = np.array(\n",
    "    [[0, 0], \n",
    "     [0, 1]],\n",
    ")\n",
    "\n",
    "C_ = np.array([[1, 0]])\n",
    "\n",
    "Cd_ = C_\n",
    "Ed_ = h * E_\n",
    "\n",
    "time_steps = filter_yaw(\n",
    "    x0=x0,\n",
    "    P_prd=P_prd,\n",
    "    h_m=h,\n",
    "    h=h,\n",
    "    us=us,\n",
    "    ys=ys,\n",
    "    Ad=Ad,\n",
    "    Bd=Bd,\n",
    "    Cd=Cd_,\n",
    "    Ed=Ed_,\n",
    "    Qd=Qd,\n",
    "    Rd=Rd,\n",
    ")\n",
    "x_hats = np.array([time_step[\"x_hat\"] for time_step in time_steps])\n",
    "P_hats = [time_step[\"P_hat\"] for time_step in time_steps]\n",
    "time = np.array([time_step[\"time\"] for time_step in time_steps]).T\n",
    "x, P, K, Pp = rts_smoother(x_hats=x_hats, P_hats=P_hats, Ad=Ad, Bd=Bd, Qd=Qd, us=us)\n",
    "\n",
    "n = len(P_prd)\n",
    "fig, axes = plt.subplots(nrows=n)\n",
    "\n",
    "df[\"psi_measure_deg\"] = np.rad2deg(df[\"psi_measure\"])\n",
    "df[\"psi_deg\"] = np.rad2deg(df[\"psi\"])\n",
    "df[\"r_deg\"] = np.rad2deg(df[\"r\"])\n",
    "\n",
    "\n",
    "keys = [\"psi_deg\", \"r_deg\"]\n",
    "for i, key in enumerate(keys):\n",
    "\n",
    "    ax = axes[i]\n",
    "    df.plot(y=key, ax=ax, label=\"True\")\n",
    "    \n",
    "    if key == \"psi\":\n",
    "        df.plot(y=\"psi_measure_deg\", ax=ax, label=\"Measured\", zorder=-1)\n",
    "\n",
    "    ax.plot(time, np.rad2deg(x_hats[:, i]), \"-\", label=\"kalman\")\n",
    "    ax.plot(time, np.rad2deg(x[:, i]), \"-\", label=\"rts smoother\")\n",
    "    ax.set_ylabel(key)\n",
    "    ax.legend(loc='upper right')"
   ]
  },
  {
   "cell_type": "code",
   "execution_count": null,
   "id": "34642a89-cd73-4db6-b4b5-04804bf18d8e",
   "metadata": {},
   "outputs": [],
   "source": [
    "from scipy.stats import multivariate_normal"
   ]
  },
  {
   "cell_type": "code",
   "execution_count": null,
   "id": "e971d269-6a32-4ef4-9f81-0216a3ad199f",
   "metadata": {},
   "outputs": [],
   "source": [
    "x_hats.shape"
   ]
  },
  {
   "cell_type": "code",
   "execution_count": null,
   "id": "020aebc3-9fde-410a-95c7-011fe5bde37a",
   "metadata": {},
   "outputs": [],
   "source": [
    "np.max(x_hats,axis=0)"
   ]
  },
  {
   "cell_type": "code",
   "execution_count": null,
   "id": "5ba65a4d-800e-49ce-9534-b19eca4495a0",
   "metadata": {},
   "outputs": [],
   "source": [
    "x_mins = np.min(x_hats,axis=0)\n",
    "x_maxs = np.max(x_hats,axis=0)\n",
    "\n",
    "n_grid = 100\n",
    "psis = np.linspace(x_mins[0],x_maxs[0],n_grid)\n",
    "rs = np.linspace(x_mins[1],x_maxs[1],n_grid)\n",
    "\n",
    "Psis, Rs = np.meshgrid(psis, rs)\n",
    "pos = np.dstack((Psis, Rs))"
   ]
  },
  {
   "cell_type": "code",
   "execution_count": null,
   "id": "7fac91c5-350b-4aaf-b986-78033a0d2876",
   "metadata": {},
   "outputs": [],
   "source": [
    "N_ = len(x_hats)\n",
    "times = 10\n",
    "n = int(N_/times)\n",
    "covs = P[::n]\n",
    "#covs = P_hats[::n]\n",
    "means = x_hats[::n]\n",
    "time_ = time[::n]\n",
    "\n",
    "\n",
    "f_all = np.zeros((n_grid,n_grid))\n",
    "for mean, cov in zip(means, covs):\n",
    "    \n",
    "    rv = multivariate_normal(mean=mean, cov=cov)\n",
    "    f = rv.pdf(pos)\n",
    "    f_all+=f\n",
    "    \n",
    "    \n",
    "    "
   ]
  },
  {
   "cell_type": "code",
   "execution_count": null,
   "id": "c3567bc4-93f3-48cf-8b41-9fa026a4ee97",
   "metadata": {},
   "outputs": [],
   "source": [
    "fig,ax=plt.subplots()\n",
    "ax.contourf(psis, rs, f_all)\n",
    "ax.set_xlabel(r'$\\Psi$')\n",
    "ax.set_ylabel(r'$r$')"
   ]
  },
  {
   "cell_type": "code",
   "execution_count": null,
   "id": "66b13556-3534-46d2-a4fc-b3da691b8198",
   "metadata": {},
   "outputs": [],
   "source": [
    "from mpl_toolkits.mplot3d import Axes3D\n",
    "fig = plt.figure()\n",
    "ax = fig.add_subplot(111, projection='3d')\n",
    "\n",
    "for mean, cov, t_ in zip(means, P, time_):\n",
    "    \n",
    "    rv = multivariate_normal(mean=[0,0], cov=cov)\n",
    "       \n",
    "    psis = np.linspace(np.min(means[:,0]),0.1*np.max(means[:,0]),100)\n",
    "    pos = np.zeros((len(psis),2))\n",
    "    pos[:,0] = psis\n",
    "    \n",
    "    f = rv.pdf(pos)\n",
    "    \n",
    "    ax.plot(t_*np.ones(len(psis)),psis,f)\n",
    "\n",
    "ax.set_xlabel('time [s]')\n",
    "ax.set_ylabel(r'$\\Psi_{offset}$');\n",
    "\n",
    "\n",
    "        \n",
    "    "
   ]
  },
  {
   "cell_type": "code",
   "execution_count": null,
   "id": "6cbcb376-bf0d-41f8-be84-ced30f509dda",
   "metadata": {},
   "outputs": [],
   "source": [
    "from numpy.linalg import det\n",
    "d = [det(P_) for P_ in P]\n",
    "\n",
    "fig,ax=plt.subplots()\n",
    "ax.plot(time, d)"
   ]
  },
  {
   "cell_type": "code",
   "execution_count": null,
   "id": "7520bf24-b3fb-4b13-8137-9552100ac4e4",
   "metadata": {},
   "outputs": [],
   "source": [
    "def filter(Ad, Bd):\n",
    "    \n",
    "    x0 = np.deg2rad(np.array([[0, 0]]).T)\n",
    "    P_prd = np.deg2rad(np.array([\n",
    "        [1, 0],\n",
    "        [0., 0.1],\n",
    "    ]))\n",
    "    \n",
    "    Qd = np.deg2rad(np.diag([0, 0.1]))\n",
    "    \n",
    "    Rd = np.deg2rad(0.1)\n",
    "    \n",
    "    ys = df[\"psi_measure\"].values\n",
    "    us = df[\"delta\"].values\n",
    "    \n",
    "    E_ = np.array(\n",
    "        [[0, 0], \n",
    "         [0, 1]],\n",
    "    )\n",
    "    \n",
    "    C_ = np.array([[1, 0]])\n",
    "    \n",
    "    Cd_ = C_\n",
    "    Ed_ = h * E_\n",
    "    \n",
    "    time_steps = filter_yaw(\n",
    "        x0=x0,\n",
    "        P_prd=P_prd,\n",
    "        h_m=h,\n",
    "        h=h,\n",
    "        us=us,\n",
    "        ys=ys,\n",
    "        Ad=Ad,\n",
    "        Bd=Bd,\n",
    "        Cd=Cd_,\n",
    "        Ed=Ed_,\n",
    "        Qd=Qd,\n",
    "        Rd=Rd,\n",
    "    )\n",
    "    x_hats = np.array([time_step[\"x_hat\"] for time_step in time_steps])\n",
    "    P_hats = [time_step[\"P_hat\"] for time_step in time_steps]\n",
    "    time = np.array([time_step[\"time\"] for time_step in time_steps]).T\n",
    "    x, P, K, Pp = rts_smoother(x_hats=x_hats, P_hats=P_hats, Ad=Ad, Bd=Bd, Qd=Qd, us=us)\n",
    "    \n",
    "    return x, P"
   ]
  },
  {
   "cell_type": "code",
   "execution_count": null,
   "id": "e7ac63bf-d134-43d3-aa35-0078c1f24e3c",
   "metadata": {},
   "outputs": [],
   "source": [
    "T_1 = 1.8962353076056344\n",
    "K = 0.17950970687951323\n",
    "\n",
    "T_1s = np.linspace(0.5*T_1, 1.4*T_1, 15)\n",
    "\n",
    "interrations = {}\n",
    "\n",
    "for T_1_ in T_1s:\n",
    "\n",
    "    Ad = np.array([[1, h], \n",
    "               [0, 1 - h / T_1_]])\n",
    "    Bd = np.array([[0, -K * h / T_1_]]).T\n",
    "    \n",
    "    x,P = filter(Ad=Ad, Bd=Bd)\n",
    "    interrations[T_1_] = {\n",
    "        'x' : x,\n",
    "        'P' : P,\n",
    "    }"
   ]
  },
  {
   "cell_type": "code",
   "execution_count": null,
   "id": "2989b7a7-b4c9-485d-b0cd-6b38191f6422",
   "metadata": {},
   "outputs": [],
   "source": [
    "fig,ax=plt.subplots()\n",
    "\n",
    "for _, itteration in interrations.items():\n",
    "    \n",
    "    error = (itteration['x'][:,0] - ys)\n",
    "    itteration['rms'] = np.mean(error**2)\n",
    "    ax.plot(time, itteration['x'][:,0])\n",
    "\n",
    "    \n",
    "    "
   ]
  },
  {
   "cell_type": "code",
   "execution_count": null,
   "id": "02889245-c350-43aa-b5f6-293e97892cb0",
   "metadata": {},
   "outputs": [],
   "source": [
    "rms = [interration['rms'] for _,interration in interrations.items()]"
   ]
  },
  {
   "cell_type": "code",
   "execution_count": null,
   "id": "78dfc514-5d0f-4c05-a22b-1f0cb340da98",
   "metadata": {},
   "outputs": [],
   "source": [
    "fig,ax=plt.subplots()\n",
    "ax.plot(T_1s, rms);"
   ]
  },
  {
   "cell_type": "code",
   "execution_count": null,
   "id": "9048ee9a-33be-42dd-a2c0-f0982792de5c",
   "metadata": {},
   "outputs": [],
   "source": [
    "from scipy.optimize import least_squares"
   ]
  },
  {
   "cell_type": "code",
   "execution_count": null,
   "id": "163dcfe9-0db0-45ab-bfd3-260f3ff45bd4",
   "metadata": {},
   "outputs": [],
   "source": [
    "def fun(x):\n",
    "    \n",
    "    T_1_ = x[0]\n",
    "    K = x[1]\n",
    "    \n",
    "    Ad = np.array([[1, h], \n",
    "               [0, 1 - h / T_1_]])\n",
    "    Bd = np.array([[0, -K * h / T_1_]]).T\n",
    "    \n",
    "    x_hat,P = filter(Ad=Ad, Bd=Bd)\n",
    "    \n",
    "    error = (x_hat[:,0] - ys)\n",
    "    rms = np.mean(error**2)\n",
    "    return rms\n",
    "    "
   ]
  },
  {
   "cell_type": "code",
   "execution_count": null,
   "id": "747b1280-3f35-48e1-b5c2-215b5e85c17f",
   "metadata": {},
   "outputs": [],
   "source": [
    "res = least_squares(fun=fun, x0=[0.1*T_1, 0.1*K])"
   ]
  },
  {
   "cell_type": "code",
   "execution_count": null,
   "id": "ecf436b4-73dd-4b16-9e5e-eb0961339d59",
   "metadata": {},
   "outputs": [],
   "source": [
    "T_1_ = res.x[0]\n",
    "K_ = res.x[1]\n",
    "\n",
    "Ad = np.array([[1, h], \n",
    "               [0, 1 - h / T_1_]])\n",
    "Bd = np.array([[0, -K_ * h / T_1_]]).T\n",
    "    \n",
    "x_hat,P = filter(Ad=Ad, Bd=Bd)"
   ]
  },
  {
   "cell_type": "code",
   "execution_count": null,
   "id": "fa30d9d9-5de5-4362-b32b-04264009a0b5",
   "metadata": {},
   "outputs": [],
   "source": [
    "fig,axes=plt.subplots(nrows=2)\n",
    "keys = [\"psi_deg\", \"r_deg\"]\n",
    "for i, key in enumerate(keys):\n",
    "\n",
    "    ax = axes[i]\n",
    "    df.plot(y=key, ax=ax, label=\"True\")\n",
    "    \n",
    "    if key == \"psi\":\n",
    "        df.plot(y=\"psi_measure_deg\", ax=ax, label=\"Measured\", zorder=-1)\n",
    "\n",
    "    ax.plot(time, np.rad2deg(x_hat[:, i]), \"-\", label=\"rts smoother\")\n",
    "    ax.set_ylabel(key)\n",
    "    ax.legend(loc='upper right')"
   ]
  },
  {
   "cell_type": "code",
   "execution_count": null,
   "id": "a8901362-090b-4f73-b01a-041ccf5582b3",
   "metadata": {},
   "outputs": [],
   "source": []
  }
 ],
 "metadata": {
  "citation-manager": {
   "items": {}
  },
  "kernelspec": {
   "display_name": "Python 3",
   "language": "python",
   "name": "python3"
  },
  "language_info": {
   "codemirror_mode": {
    "name": "ipython",
    "version": 3
   },
   "file_extension": ".py",
   "mimetype": "text/x-python",
   "name": "python",
   "nbconvert_exporter": "python",
   "pygments_lexer": "ipython3",
   "version": "3.9.5"
  }
 },
 "nbformat": 4,
 "nbformat_minor": 5
}
