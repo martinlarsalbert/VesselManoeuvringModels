{
 "cells": [
  {
   "cell_type": "markdown",
   "metadata": {},
   "source": [
    "# Parameter Identification Technique (PIT) on a linear VMM model in prime system"
   ]
  },
  {
   "cell_type": "markdown",
   "metadata": {},
   "source": [
    "# Purpose\n",
    "This is a follow up on [04.02_PIT_linear_VMM.ipynb](04.02_PIT_linear_VMM.ipynb) but now with parameters in prime system.\n",
    "This means that:\n",
    "* Model test results should be converted to prime system\n",
    "* Added mass is estimated with brix."
   ]
  },
  {
   "cell_type": "markdown",
   "metadata": {},
   "source": [
    "# Methodology\n",
    "* Load time series from a ZigZag test\n",
    "* Convert to prime system.\n",
    "* Calculate added masses with brix."
   ]
  },
  {
   "cell_type": "markdown",
   "metadata": {},
   "source": [
    "# Setup"
   ]
  },
  {
   "cell_type": "code",
   "execution_count": 119,
   "metadata": {},
   "outputs": [
    {
     "name": "stdout",
     "output_type": "stream",
     "text": [
      "The autoreload extension is already loaded. To reload it, use:\n",
      "  %reload_ext autoreload\n"
     ]
    }
   ],
   "source": [
    "# %load imports.py\n",
    "%matplotlib inline\n",
    "%load_ext autoreload\n",
    "%autoreload 2\n",
    "%config Completer.use_jedi = False  ## (To fix autocomplete)\n",
    "\n",
    "## External packages:\n",
    "import pandas as pd\n",
    "pd.options.display.max_rows = 999\n",
    "pd.options.display.max_columns = 999\n",
    "pd.set_option(\"display.max_columns\", None)\n",
    "\n",
    "import numpy as np\n",
    "import os\n",
    "import matplotlib.pyplot as plt\n",
    "#if os.name == 'nt':\n",
    "#    plt.style.use('presentation.mplstyle')  # Windows\n",
    "\n",
    "import plotly.express as px \n",
    "import plotly.graph_objects as go\n",
    "\n",
    "import seaborn as sns\n",
    "import sympy as sp\n",
    "from sympy.physics.mechanics import (dynamicsymbols, ReferenceFrame,\n",
    "                                      Particle, Point)\n",
    "from sympy.physics.vector.printing import vpprint, vlatex\n",
    "from IPython.display import display, Math, Latex\n",
    "from src.substitute_dynamic_symbols import run, lambdify\n",
    "\n",
    "import pyro\n",
    "\n",
    "import sklearn\n",
    "import pykalman\n",
    "from statsmodels.sandbox.regression.predstd import wls_prediction_std\n",
    "import statsmodels.api as sm\n",
    "\n",
    "from scipy.integrate import solve_ivp\n",
    "\n",
    "## Local packages:\n",
    "from src.data import mdl\n",
    "from src.models import linear_vmm\n",
    "import src.linear_vmm_equations as eq\n",
    "import src.models.linear_vmm as model\n",
    "from src.symbols import *\n",
    "import src.symbols as symbols\n",
    "from src import prime_system\n",
    "from src.models import regression"
   ]
  },
  {
   "cell_type": "markdown",
   "metadata": {},
   "source": [
    "## Load test"
   ]
  },
  {
   "cell_type": "code",
   "execution_count": 2,
   "metadata": {},
   "outputs": [],
   "source": [
    "df_runs = mdl.runs()"
   ]
  },
  {
   "cell_type": "code",
   "execution_count": 3,
   "metadata": {},
   "outputs": [],
   "source": [
    "#id=22773\n",
    "#id=22616\n",
    "#id=22774\n",
    "id=22770\n",
    "\n",
    "\n",
    "df, units, meta_data = mdl.load(id=id, dir_path='../data/processed/kalman')\n",
    "df.index = df.index.total_seconds()\n",
    "df = df.iloc[0:-100].copy()\n",
    "df.index-=df.index[0]\n",
    "df.sort_index(inplace=True)\n",
    "df['V'] = np.sqrt(df['u']**2 + df['v']**2)"
   ]
  },
  {
   "cell_type": "code",
   "execution_count": 4,
   "metadata": {},
   "outputs": [
    {
     "data": {
      "text/plain": [
       "A0                                                               0.722775\n",
       "KXX                                                              0.331311\n",
       "KZZ                                                              1.253641\n",
       "TA                                                               0.206311\n",
       "TF                                                               0.206311\n",
       "Volume                                                           0.441027\n",
       "angle1                                                               10.0\n",
       "angle2                                                               10.0\n",
       "beam                                                             0.946602\n",
       "comment                                                        ZZ 10/10PS\n",
       "date                                                           2020-09-24\n",
       "facility                                                              MDL\n",
       "file_path_hdf5          \\\\sspa.local\\lab\\MeasuredataMDL\\40199079\\005\\0...\n",
       "gm                                                               0.136092\n",
       "kg                                                               0.438908\n",
       "lcg                                                              -0.24432\n",
       "loading_condition_id                                                167.0\n",
       "lpp                                                              5.014563\n",
       "model_number                                                   M5139-02-A\n",
       "name                                                               Design\n",
       "project_number                                                 40199079.0\n",
       "run_number                                                            6.0\n",
       "scale_factor                                                         41.2\n",
       "series_number                                                         5.0\n",
       "ship_name                                                      M5139-02-A\n",
       "ship_speed                                                        0.96177\n",
       "test_number                                                           2.0\n",
       "test_type                                                          zigzag\n",
       "xm                                                                    0.0\n",
       "ym                                                                    0.0\n",
       "zm                                                                 -0.214\n",
       "sailing                                                             False\n",
       "rho                                                                  1000\n",
       "mass                                                           441.026784\n",
       "Name: 22770, dtype: object"
      ]
     },
     "execution_count": 4,
     "metadata": {},
     "output_type": "execute_result"
    }
   ],
   "source": [
    "meta_data['rho']=1000\n",
    "meta_data['mass'] = meta_data['Volume']*meta_data['rho']\n",
    "meta_data.dropna()"
   ]
  },
  {
   "cell_type": "code",
   "execution_count": 5,
   "metadata": {},
   "outputs": [
    {
     "data": {
      "text/html": [
       "<div>\n",
       "<style scoped>\n",
       "    .dataframe tbody tr th:only-of-type {\n",
       "        vertical-align: middle;\n",
       "    }\n",
       "\n",
       "    .dataframe tbody tr th {\n",
       "        vertical-align: top;\n",
       "    }\n",
       "\n",
       "    .dataframe thead th {\n",
       "        text-align: right;\n",
       "    }\n",
       "</style>\n",
       "<table border=\"1\" class=\"dataframe\">\n",
       "  <thead>\n",
       "    <tr style=\"text-align: right;\">\n",
       "      <th></th>\n",
       "      <th>Arr/Ind/Arr</th>\n",
       "      <th>Arr/Ind/Fri</th>\n",
       "      <th>Fan/Aft/Angle</th>\n",
       "      <th>Fan/Aft/AngleOrder</th>\n",
       "      <th>Fan/Aft/Fx</th>\n",
       "      <th>Fan/Aft/FxOrder</th>\n",
       "      <th>Fan/Aft/Rpm</th>\n",
       "      <th>Fan/Aft/RpmOrder</th>\n",
       "      <th>Fan/ForceFactor</th>\n",
       "      <th>Fan/Fore/Angle</th>\n",
       "      <th>Fan/Fore/AngleOrder</th>\n",
       "      <th>Fan/Fore/Fx</th>\n",
       "      <th>Fan/Fore/FxOrder</th>\n",
       "      <th>Fan/Fore/Rpm</th>\n",
       "      <th>Fan/Fore/RpmOrder</th>\n",
       "      <th>Hull/Acc/X1</th>\n",
       "      <th>Hull/Acc/Y1</th>\n",
       "      <th>Hull/Acc/Y2</th>\n",
       "      <th>Hull/Acc/Z1</th>\n",
       "      <th>Hull/Acc/Z2</th>\n",
       "      <th>Hull/Acc/Z3</th>\n",
       "      <th>Prop/PS/Rpm</th>\n",
       "      <th>Prop/PS/Thrust</th>\n",
       "      <th>Prop/PS/Torque</th>\n",
       "      <th>Prop/SB/Rpm</th>\n",
       "      <th>Prop/SB/Thrust</th>\n",
       "      <th>Prop/SB/Torque</th>\n",
       "      <th>delta</th>\n",
       "      <th>Rudder/MaxAngle</th>\n",
       "      <th>Rudder/Rate</th>\n",
       "      <th>Wind/Course</th>\n",
       "      <th>Wind/CourseTreshold</th>\n",
       "      <th>Wind/GWA</th>\n",
       "      <th>lab/WaveHeight</th>\n",
       "      <th>roll</th>\n",
       "      <th>pitch</th>\n",
       "      <th>psi</th>\n",
       "      <th>x0</th>\n",
       "      <th>y0</th>\n",
       "      <th>z0</th>\n",
       "      <th>x01d_gradient</th>\n",
       "      <th>y01d_gradient</th>\n",
       "      <th>z01d_gradient</th>\n",
       "      <th>z02d_gradient</th>\n",
       "      <th>psi1d_gradient</th>\n",
       "      <th>x0_filtered</th>\n",
       "      <th>x01d</th>\n",
       "      <th>x02d</th>\n",
       "      <th>y0_filtered</th>\n",
       "      <th>y01d</th>\n",
       "      <th>y02d</th>\n",
       "      <th>psi_filtered</th>\n",
       "      <th>psi1d</th>\n",
       "      <th>psi2d</th>\n",
       "      <th>u</th>\n",
       "      <th>v</th>\n",
       "      <th>w</th>\n",
       "      <th>u1d</th>\n",
       "      <th>v1d</th>\n",
       "      <th>w1d</th>\n",
       "      <th>r</th>\n",
       "      <th>r1d</th>\n",
       "      <th>beta</th>\n",
       "      <th>V</th>\n",
       "    </tr>\n",
       "    <tr>\n",
       "      <th>time</th>\n",
       "      <th></th>\n",
       "      <th></th>\n",
       "      <th></th>\n",
       "      <th></th>\n",
       "      <th></th>\n",
       "      <th></th>\n",
       "      <th></th>\n",
       "      <th></th>\n",
       "      <th></th>\n",
       "      <th></th>\n",
       "      <th></th>\n",
       "      <th></th>\n",
       "      <th></th>\n",
       "      <th></th>\n",
       "      <th></th>\n",
       "      <th></th>\n",
       "      <th></th>\n",
       "      <th></th>\n",
       "      <th></th>\n",
       "      <th></th>\n",
       "      <th></th>\n",
       "      <th></th>\n",
       "      <th></th>\n",
       "      <th></th>\n",
       "      <th></th>\n",
       "      <th></th>\n",
       "      <th></th>\n",
       "      <th></th>\n",
       "      <th></th>\n",
       "      <th></th>\n",
       "      <th></th>\n",
       "      <th></th>\n",
       "      <th></th>\n",
       "      <th></th>\n",
       "      <th></th>\n",
       "      <th></th>\n",
       "      <th></th>\n",
       "      <th></th>\n",
       "      <th></th>\n",
       "      <th></th>\n",
       "      <th></th>\n",
       "      <th></th>\n",
       "      <th></th>\n",
       "      <th></th>\n",
       "      <th></th>\n",
       "      <th></th>\n",
       "      <th></th>\n",
       "      <th></th>\n",
       "      <th></th>\n",
       "      <th></th>\n",
       "      <th></th>\n",
       "      <th></th>\n",
       "      <th></th>\n",
       "      <th></th>\n",
       "      <th></th>\n",
       "      <th></th>\n",
       "      <th></th>\n",
       "      <th></th>\n",
       "      <th></th>\n",
       "      <th></th>\n",
       "      <th></th>\n",
       "      <th></th>\n",
       "      <th></th>\n",
       "      <th></th>\n",
       "    </tr>\n",
       "  </thead>\n",
       "  <tbody>\n",
       "    <tr>\n",
       "      <th>0.000000</th>\n",
       "      <td>0.0</td>\n",
       "      <td>1.0</td>\n",
       "      <td>2.146755</td>\n",
       "      <td>0.000930</td>\n",
       "      <td>0.244419</td>\n",
       "      <td>0.0</td>\n",
       "      <td>-0.520477</td>\n",
       "      <td>10.131507</td>\n",
       "      <td>1.0</td>\n",
       "      <td>2.146755</td>\n",
       "      <td>-0.024623</td>\n",
       "      <td>0.122683</td>\n",
       "      <td>0.0</td>\n",
       "      <td>2.144633</td>\n",
       "      <td>11.329219</td>\n",
       "      <td>-0.000651</td>\n",
       "      <td>-0.009621</td>\n",
       "      <td>-0.007185</td>\n",
       "      <td>-0.002344</td>\n",
       "      <td>0.006963</td>\n",
       "      <td>0.008156</td>\n",
       "      <td>9.597722</td>\n",
       "      <td>5.567396</td>\n",
       "      <td>-0.113822</td>\n",
       "      <td>9.546612</td>\n",
       "      <td>5.328476</td>\n",
       "      <td>0.104278</td>\n",
       "      <td>-0.000007</td>\n",
       "      <td>0.645772</td>\n",
       "      <td>14.89</td>\n",
       "      <td>-0.005037</td>\n",
       "      <td>0.1</td>\n",
       "      <td>0.0</td>\n",
       "      <td>0.000025</td>\n",
       "      <td>0.000927</td>\n",
       "      <td>0.000325</td>\n",
       "      <td>-0.000873</td>\n",
       "      <td>7.611185</td>\n",
       "      <td>-0.001594</td>\n",
       "      <td>0.002499</td>\n",
       "      <td>1.020600</td>\n",
       "      <td>-0.003508</td>\n",
       "      <td>-0.022730</td>\n",
       "      <td>1.867924</td>\n",
       "      <td>0.017441</td>\n",
       "      <td>7.630116</td>\n",
       "      <td>0.932272</td>\n",
       "      <td>0.000005</td>\n",
       "      <td>-0.001617</td>\n",
       "      <td>0.000065</td>\n",
       "      <td>-6.810068e-07</td>\n",
       "      <td>-0.000821</td>\n",
       "      <td>0.000001</td>\n",
       "      <td>-0.000004</td>\n",
       "      <td>0.932272</td>\n",
       "      <td>0.000830</td>\n",
       "      <td>-0.022730</td>\n",
       "      <td>0.000005</td>\n",
       "      <td>-6.766628e-07</td>\n",
       "      <td>1.867924</td>\n",
       "      <td>0.000001</td>\n",
       "      <td>-0.000004</td>\n",
       "      <td>-0.000890</td>\n",
       "      <td>0.932272</td>\n",
       "    </tr>\n",
       "    <tr>\n",
       "      <th>0.010007</th>\n",
       "      <td>0.0</td>\n",
       "      <td>1.0</td>\n",
       "      <td>2.146755</td>\n",
       "      <td>0.000832</td>\n",
       "      <td>0.121932</td>\n",
       "      <td>0.0</td>\n",
       "      <td>-0.288911</td>\n",
       "      <td>10.131507</td>\n",
       "      <td>1.0</td>\n",
       "      <td>2.146755</td>\n",
       "      <td>-0.022034</td>\n",
       "      <td>0.126699</td>\n",
       "      <td>0.0</td>\n",
       "      <td>1.025401</td>\n",
       "      <td>11.329219</td>\n",
       "      <td>0.012245</td>\n",
       "      <td>-0.012845</td>\n",
       "      <td>-0.014928</td>\n",
       "      <td>-0.012007</td>\n",
       "      <td>0.019213</td>\n",
       "      <td>0.003000</td>\n",
       "      <td>9.572657</td>\n",
       "      <td>5.679435</td>\n",
       "      <td>-0.110951</td>\n",
       "      <td>9.558256</td>\n",
       "      <td>5.397689</td>\n",
       "      <td>0.106811</td>\n",
       "      <td>-0.000007</td>\n",
       "      <td>0.645772</td>\n",
       "      <td>14.89</td>\n",
       "      <td>-0.004507</td>\n",
       "      <td>0.1</td>\n",
       "      <td>0.0</td>\n",
       "      <td>0.000025</td>\n",
       "      <td>0.000972</td>\n",
       "      <td>-0.000254</td>\n",
       "      <td>-0.000698</td>\n",
       "      <td>7.621398</td>\n",
       "      <td>-0.001629</td>\n",
       "      <td>0.002271</td>\n",
       "      <td>0.508139</td>\n",
       "      <td>0.000864</td>\n",
       "      <td>-0.004038</td>\n",
       "      <td>1.308212</td>\n",
       "      <td>0.013081</td>\n",
       "      <td>7.625826</td>\n",
       "      <td>0.921355</td>\n",
       "      <td>-0.002257</td>\n",
       "      <td>-0.001613</td>\n",
       "      <td>0.000114</td>\n",
       "      <td>-1.514633e-05</td>\n",
       "      <td>-0.000735</td>\n",
       "      <td>-0.000025</td>\n",
       "      <td>-0.000024</td>\n",
       "      <td>0.921354</td>\n",
       "      <td>0.000791</td>\n",
       "      <td>-0.004038</td>\n",
       "      <td>-0.002257</td>\n",
       "      <td>-1.680414e-05</td>\n",
       "      <td>1.308212</td>\n",
       "      <td>-0.000025</td>\n",
       "      <td>-0.000024</td>\n",
       "      <td>-0.000859</td>\n",
       "      <td>0.921355</td>\n",
       "    </tr>\n",
       "    <tr>\n",
       "      <th>0.020011</th>\n",
       "      <td>0.0</td>\n",
       "      <td>1.0</td>\n",
       "      <td>2.146755</td>\n",
       "      <td>0.000736</td>\n",
       "      <td>-0.120384</td>\n",
       "      <td>0.0</td>\n",
       "      <td>0.000545</td>\n",
       "      <td>10.131507</td>\n",
       "      <td>1.0</td>\n",
       "      <td>2.146755</td>\n",
       "      <td>-0.019471</td>\n",
       "      <td>0.025530</td>\n",
       "      <td>0.0</td>\n",
       "      <td>1.913068</td>\n",
       "      <td>11.329219</td>\n",
       "      <td>-0.001296</td>\n",
       "      <td>-0.012200</td>\n",
       "      <td>-0.029125</td>\n",
       "      <td>0.002810</td>\n",
       "      <td>0.021792</td>\n",
       "      <td>0.002356</td>\n",
       "      <td>9.514150</td>\n",
       "      <td>5.728091</td>\n",
       "      <td>-0.107321</td>\n",
       "      <td>9.562515</td>\n",
       "      <td>5.484805</td>\n",
       "      <td>0.109010</td>\n",
       "      <td>0.000000</td>\n",
       "      <td>0.645772</td>\n",
       "      <td>14.89</td>\n",
       "      <td>-0.003983</td>\n",
       "      <td>0.1</td>\n",
       "      <td>0.0</td>\n",
       "      <td>0.000025</td>\n",
       "      <td>0.000915</td>\n",
       "      <td>0.000341</td>\n",
       "      <td>-0.000611</td>\n",
       "      <td>7.621356</td>\n",
       "      <td>-0.001577</td>\n",
       "      <td>0.002418</td>\n",
       "      <td>0.952405</td>\n",
       "      <td>0.001934</td>\n",
       "      <td>0.003452</td>\n",
       "      <td>0.258792</td>\n",
       "      <td>-0.008754</td>\n",
       "      <td>7.627892</td>\n",
       "      <td>0.921396</td>\n",
       "      <td>-0.003307</td>\n",
       "      <td>-0.001587</td>\n",
       "      <td>0.000145</td>\n",
       "      <td>-2.490043e-05</td>\n",
       "      <td>-0.000702</td>\n",
       "      <td>-0.000131</td>\n",
       "      <td>-0.000054</td>\n",
       "      <td>0.921396</td>\n",
       "      <td>0.000792</td>\n",
       "      <td>0.003452</td>\n",
       "      <td>-0.003307</td>\n",
       "      <td>-2.722338e-05</td>\n",
       "      <td>0.258792</td>\n",
       "      <td>-0.000131</td>\n",
       "      <td>-0.000054</td>\n",
       "      <td>-0.000860</td>\n",
       "      <td>0.921396</td>\n",
       "    </tr>\n",
       "    <tr>\n",
       "      <th>0.030001</th>\n",
       "      <td>0.0</td>\n",
       "      <td>1.0</td>\n",
       "      <td>2.146755</td>\n",
       "      <td>0.000638</td>\n",
       "      <td>-0.310377</td>\n",
       "      <td>0.0</td>\n",
       "      <td>0.521567</td>\n",
       "      <td>10.131507</td>\n",
       "      <td>1.0</td>\n",
       "      <td>2.146755</td>\n",
       "      <td>-0.016901</td>\n",
       "      <td>-0.089957</td>\n",
       "      <td>0.0</td>\n",
       "      <td>0.639459</td>\n",
       "      <td>11.329219</td>\n",
       "      <td>0.005152</td>\n",
       "      <td>-0.012845</td>\n",
       "      <td>-0.016219</td>\n",
       "      <td>-0.005565</td>\n",
       "      <td>0.007608</td>\n",
       "      <td>-0.001511</td>\n",
       "      <td>9.541821</td>\n",
       "      <td>5.700100</td>\n",
       "      <td>-0.104350</td>\n",
       "      <td>9.587783</td>\n",
       "      <td>5.548451</td>\n",
       "      <td>0.110168</td>\n",
       "      <td>0.000000</td>\n",
       "      <td>0.645772</td>\n",
       "      <td>14.89</td>\n",
       "      <td>-0.003457</td>\n",
       "      <td>0.1</td>\n",
       "      <td>0.0</td>\n",
       "      <td>0.000025</td>\n",
       "      <td>0.000945</td>\n",
       "      <td>-0.000327</td>\n",
       "      <td>-0.000873</td>\n",
       "      <td>7.640413</td>\n",
       "      <td>-0.001590</td>\n",
       "      <td>0.002341</td>\n",
       "      <td>1.483970</td>\n",
       "      <td>0.002393</td>\n",
       "      <td>0.001150</td>\n",
       "      <td>-0.262092</td>\n",
       "      <td>-0.008748</td>\n",
       "      <td>7.639433</td>\n",
       "      <td>0.923933</td>\n",
       "      <td>-0.002592</td>\n",
       "      <td>-0.001575</td>\n",
       "      <td>0.000151</td>\n",
       "      <td>-3.795793e-05</td>\n",
       "      <td>-0.000805</td>\n",
       "      <td>-0.000191</td>\n",
       "      <td>-0.000113</td>\n",
       "      <td>0.923932</td>\n",
       "      <td>0.000895</td>\n",
       "      <td>0.001150</td>\n",
       "      <td>-0.002592</td>\n",
       "      <td>-4.004497e-05</td>\n",
       "      <td>-0.262092</td>\n",
       "      <td>-0.000191</td>\n",
       "      <td>-0.000113</td>\n",
       "      <td>-0.000969</td>\n",
       "      <td>0.923933</td>\n",
       "    </tr>\n",
       "    <tr>\n",
       "      <th>0.040001</th>\n",
       "      <td>0.0</td>\n",
       "      <td>1.0</td>\n",
       "      <td>2.146755</td>\n",
       "      <td>0.000549</td>\n",
       "      <td>-0.303348</td>\n",
       "      <td>0.0</td>\n",
       "      <td>0.463676</td>\n",
       "      <td>10.131507</td>\n",
       "      <td>1.0</td>\n",
       "      <td>2.146755</td>\n",
       "      <td>-0.014543</td>\n",
       "      <td>-0.130523</td>\n",
       "      <td>0.0</td>\n",
       "      <td>-0.749933</td>\n",
       "      <td>11.329219</td>\n",
       "      <td>0.007087</td>\n",
       "      <td>-0.017357</td>\n",
       "      <td>-0.023318</td>\n",
       "      <td>-0.001700</td>\n",
       "      <td>0.017924</td>\n",
       "      <td>-0.002155</td>\n",
       "      <td>9.514368</td>\n",
       "      <td>5.613694</td>\n",
       "      <td>-0.103258</td>\n",
       "      <td>9.562679</td>\n",
       "      <td>5.586684</td>\n",
       "      <td>0.110073</td>\n",
       "      <td>0.000000</td>\n",
       "      <td>0.645772</td>\n",
       "      <td>14.89</td>\n",
       "      <td>-0.002975</td>\n",
       "      <td>0.1</td>\n",
       "      <td>0.0</td>\n",
       "      <td>0.000025</td>\n",
       "      <td>0.000929</td>\n",
       "      <td>0.000426</td>\n",
       "      <td>-0.000785</td>\n",
       "      <td>7.651012</td>\n",
       "      <td>-0.001529</td>\n",
       "      <td>0.002441</td>\n",
       "      <td>0.931076</td>\n",
       "      <td>0.003854</td>\n",
       "      <td>-0.001788</td>\n",
       "      <td>0.240757</td>\n",
       "      <td>-0.000002</td>\n",
       "      <td>7.649572</td>\n",
       "      <td>0.924786</td>\n",
       "      <td>-0.002156</td>\n",
       "      <td>-0.001540</td>\n",
       "      <td>0.000128</td>\n",
       "      <td>-4.577976e-05</td>\n",
       "      <td>-0.000809</td>\n",
       "      <td>-0.000182</td>\n",
       "      <td>-0.000150</td>\n",
       "      <td>0.924785</td>\n",
       "      <td>0.000876</td>\n",
       "      <td>-0.001788</td>\n",
       "      <td>-0.002156</td>\n",
       "      <td>-4.752416e-05</td>\n",
       "      <td>0.240757</td>\n",
       "      <td>-0.000182</td>\n",
       "      <td>-0.000150</td>\n",
       "      <td>-0.000948</td>\n",
       "      <td>0.924786</td>\n",
       "    </tr>\n",
       "  </tbody>\n",
       "</table>\n",
       "</div>"
      ],
      "text/plain": [
       "          Arr/Ind/Arr  Arr/Ind/Fri  Fan/Aft/Angle  Fan/Aft/AngleOrder  \\\n",
       "time                                                                    \n",
       "0.000000          0.0          1.0       2.146755            0.000930   \n",
       "0.010007          0.0          1.0       2.146755            0.000832   \n",
       "0.020011          0.0          1.0       2.146755            0.000736   \n",
       "0.030001          0.0          1.0       2.146755            0.000638   \n",
       "0.040001          0.0          1.0       2.146755            0.000549   \n",
       "\n",
       "          Fan/Aft/Fx  Fan/Aft/FxOrder  Fan/Aft/Rpm  Fan/Aft/RpmOrder  \\\n",
       "time                                                                   \n",
       "0.000000    0.244419              0.0    -0.520477         10.131507   \n",
       "0.010007    0.121932              0.0    -0.288911         10.131507   \n",
       "0.020011   -0.120384              0.0     0.000545         10.131507   \n",
       "0.030001   -0.310377              0.0     0.521567         10.131507   \n",
       "0.040001   -0.303348              0.0     0.463676         10.131507   \n",
       "\n",
       "          Fan/ForceFactor  Fan/Fore/Angle  Fan/Fore/AngleOrder  Fan/Fore/Fx  \\\n",
       "time                                                                          \n",
       "0.000000              1.0        2.146755            -0.024623     0.122683   \n",
       "0.010007              1.0        2.146755            -0.022034     0.126699   \n",
       "0.020011              1.0        2.146755            -0.019471     0.025530   \n",
       "0.030001              1.0        2.146755            -0.016901    -0.089957   \n",
       "0.040001              1.0        2.146755            -0.014543    -0.130523   \n",
       "\n",
       "          Fan/Fore/FxOrder  Fan/Fore/Rpm  Fan/Fore/RpmOrder  Hull/Acc/X1  \\\n",
       "time                                                                       \n",
       "0.000000               0.0      2.144633          11.329219    -0.000651   \n",
       "0.010007               0.0      1.025401          11.329219     0.012245   \n",
       "0.020011               0.0      1.913068          11.329219    -0.001296   \n",
       "0.030001               0.0      0.639459          11.329219     0.005152   \n",
       "0.040001               0.0     -0.749933          11.329219     0.007087   \n",
       "\n",
       "          Hull/Acc/Y1  Hull/Acc/Y2  Hull/Acc/Z1  Hull/Acc/Z2  Hull/Acc/Z3  \\\n",
       "time                                                                        \n",
       "0.000000    -0.009621    -0.007185    -0.002344     0.006963     0.008156   \n",
       "0.010007    -0.012845    -0.014928    -0.012007     0.019213     0.003000   \n",
       "0.020011    -0.012200    -0.029125     0.002810     0.021792     0.002356   \n",
       "0.030001    -0.012845    -0.016219    -0.005565     0.007608    -0.001511   \n",
       "0.040001    -0.017357    -0.023318    -0.001700     0.017924    -0.002155   \n",
       "\n",
       "          Prop/PS/Rpm  Prop/PS/Thrust  Prop/PS/Torque  Prop/SB/Rpm  \\\n",
       "time                                                                 \n",
       "0.000000     9.597722        5.567396       -0.113822     9.546612   \n",
       "0.010007     9.572657        5.679435       -0.110951     9.558256   \n",
       "0.020011     9.514150        5.728091       -0.107321     9.562515   \n",
       "0.030001     9.541821        5.700100       -0.104350     9.587783   \n",
       "0.040001     9.514368        5.613694       -0.103258     9.562679   \n",
       "\n",
       "          Prop/SB/Thrust  Prop/SB/Torque     delta  Rudder/MaxAngle  \\\n",
       "time                                                                  \n",
       "0.000000        5.328476        0.104278 -0.000007         0.645772   \n",
       "0.010007        5.397689        0.106811 -0.000007         0.645772   \n",
       "0.020011        5.484805        0.109010  0.000000         0.645772   \n",
       "0.030001        5.548451        0.110168  0.000000         0.645772   \n",
       "0.040001        5.586684        0.110073  0.000000         0.645772   \n",
       "\n",
       "          Rudder/Rate  Wind/Course  Wind/CourseTreshold  Wind/GWA  \\\n",
       "time                                                                \n",
       "0.000000        14.89    -0.005037                  0.1       0.0   \n",
       "0.010007        14.89    -0.004507                  0.1       0.0   \n",
       "0.020011        14.89    -0.003983                  0.1       0.0   \n",
       "0.030001        14.89    -0.003457                  0.1       0.0   \n",
       "0.040001        14.89    -0.002975                  0.1       0.0   \n",
       "\n",
       "          lab/WaveHeight      roll     pitch       psi        x0        y0  \\\n",
       "time                                                                         \n",
       "0.000000        0.000025  0.000927  0.000325 -0.000873  7.611185 -0.001594   \n",
       "0.010007        0.000025  0.000972 -0.000254 -0.000698  7.621398 -0.001629   \n",
       "0.020011        0.000025  0.000915  0.000341 -0.000611  7.621356 -0.001577   \n",
       "0.030001        0.000025  0.000945 -0.000327 -0.000873  7.640413 -0.001590   \n",
       "0.040001        0.000025  0.000929  0.000426 -0.000785  7.651012 -0.001529   \n",
       "\n",
       "                z0  x01d_gradient  y01d_gradient  z01d_gradient  \\\n",
       "time                                                              \n",
       "0.000000  0.002499       1.020600      -0.003508      -0.022730   \n",
       "0.010007  0.002271       0.508139       0.000864      -0.004038   \n",
       "0.020011  0.002418       0.952405       0.001934       0.003452   \n",
       "0.030001  0.002341       1.483970       0.002393       0.001150   \n",
       "0.040001  0.002441       0.931076       0.003854      -0.001788   \n",
       "\n",
       "          z02d_gradient  psi1d_gradient  x0_filtered      x01d      x02d  \\\n",
       "time                                                                       \n",
       "0.000000       1.867924        0.017441     7.630116  0.932272  0.000005   \n",
       "0.010007       1.308212        0.013081     7.625826  0.921355 -0.002257   \n",
       "0.020011       0.258792       -0.008754     7.627892  0.921396 -0.003307   \n",
       "0.030001      -0.262092       -0.008748     7.639433  0.923933 -0.002592   \n",
       "0.040001       0.240757       -0.000002     7.649572  0.924786 -0.002156   \n",
       "\n",
       "          y0_filtered      y01d          y02d  psi_filtered     psi1d  \\\n",
       "time                                                                    \n",
       "0.000000    -0.001617  0.000065 -6.810068e-07     -0.000821  0.000001   \n",
       "0.010007    -0.001613  0.000114 -1.514633e-05     -0.000735 -0.000025   \n",
       "0.020011    -0.001587  0.000145 -2.490043e-05     -0.000702 -0.000131   \n",
       "0.030001    -0.001575  0.000151 -3.795793e-05     -0.000805 -0.000191   \n",
       "0.040001    -0.001540  0.000128 -4.577976e-05     -0.000809 -0.000182   \n",
       "\n",
       "             psi2d         u         v         w       u1d           v1d  \\\n",
       "time                                                                       \n",
       "0.000000 -0.000004  0.932272  0.000830 -0.022730  0.000005 -6.766628e-07   \n",
       "0.010007 -0.000024  0.921354  0.000791 -0.004038 -0.002257 -1.680414e-05   \n",
       "0.020011 -0.000054  0.921396  0.000792  0.003452 -0.003307 -2.722338e-05   \n",
       "0.030001 -0.000113  0.923932  0.000895  0.001150 -0.002592 -4.004497e-05   \n",
       "0.040001 -0.000150  0.924785  0.000876 -0.001788 -0.002156 -4.752416e-05   \n",
       "\n",
       "               w1d         r       r1d      beta         V  \n",
       "time                                                        \n",
       "0.000000  1.867924  0.000001 -0.000004 -0.000890  0.932272  \n",
       "0.010007  1.308212 -0.000025 -0.000024 -0.000859  0.921355  \n",
       "0.020011  0.258792 -0.000131 -0.000054 -0.000860  0.921396  \n",
       "0.030001 -0.262092 -0.000191 -0.000113 -0.000969  0.923933  \n",
       "0.040001  0.240757 -0.000182 -0.000150 -0.000948  0.924786  "
      ]
     },
     "execution_count": 5,
     "metadata": {},
     "output_type": "execute_result"
    }
   ],
   "source": [
    "df.head()"
   ]
  },
  {
   "cell_type": "code",
   "execution_count": 6,
   "metadata": {},
   "outputs": [
    {
     "data": {
      "image/png": "[encoded data removed]",
      "text/plain": [
       "<Figure size 432x288 with 1 Axes>"
      ]
     },
     "metadata": {
      "needs_background": "light"
     },
     "output_type": "display_data"
    }
   ],
   "source": [
    "from src.visualization.plot import track_plot\n",
    "fig,ax=plt.subplots()\n",
    "#fig.set_size_inches(10,10)\n",
    "track_plot(df=df, lpp=meta_data.lpp, x_dataset='x0', y_dataset='y0',  psi_dataset='psi', beam=meta_data.beam, ax=ax);"
   ]
  },
  {
   "cell_type": "markdown",
   "metadata": {},
   "source": [
    "# Ship parameters"
   ]
  },
  {
   "cell_type": "code",
   "execution_count": 7,
   "metadata": {},
   "outputs": [],
   "source": [
    "T_ = (meta_data.TA + meta_data.TF)/2\n",
    "L_ = meta_data.lpp\n",
    "m_ = meta_data.mass\n",
    "rho_ = meta_data.rho\n",
    "B_ = meta_data.beam\n",
    "CB_ = m_/(T_*B_*L_*rho_)\n",
    "I_z_ = m_*meta_data.KZZ**2\n",
    "\n",
    "ship_parameters = {\n",
    "        'T' : T_,\n",
    "        'L' : L_,\n",
    "        'CB' :CB_,\n",
    "        'B' : B_,\n",
    "        'rho' : rho_,\n",
    "        'x_G' : 0,  # motions are expressed at CG\n",
    "        'm' : m_,\n",
    "        'I_z': I_z_, \n",
    "    }\n",
    "\n",
    "ps = prime_system.PrimeSystem(**ship_parameters)  # model\n",
    "\n",
    "scale_factor = meta_data.scale_factor\n",
    "ps_ship = prime_system.PrimeSystem(L=ship_parameters['L']*scale_factor, rho=meta_data['rho'])  # ship"
   ]
  },
  {
   "cell_type": "markdown",
   "metadata": {},
   "source": [
    "## Model test to prime system"
   ]
  },
  {
   "cell_type": "code",
   "execution_count": 8,
   "metadata": {},
   "outputs": [],
   "source": [
    "interesting = [\n",
    "    'u',\n",
    "    'v',\n",
    "    'r',\n",
    "    'u1d',\n",
    "    'v1d',\n",
    "    'r1d',\n",
    "    'delta',\n",
    "    #'thrust',\n",
    "]\n",
    "df_prime = ps_ship.prime(df[interesting], U=df['V'])"
   ]
  },
  {
   "cell_type": "code",
   "execution_count": 9,
   "metadata": {},
   "outputs": [
    {
     "data": {
      "text/html": [
       "<div>\n",
       "<style scoped>\n",
       "    .dataframe tbody tr th:only-of-type {\n",
       "        vertical-align: middle;\n",
       "    }\n",
       "\n",
       "    .dataframe tbody tr th {\n",
       "        vertical-align: top;\n",
       "    }\n",
       "\n",
       "    .dataframe thead th {\n",
       "        text-align: right;\n",
       "    }\n",
       "</style>\n",
       "<table border=\"1\" class=\"dataframe\">\n",
       "  <thead>\n",
       "    <tr style=\"text-align: right;\">\n",
       "      <th></th>\n",
       "      <th>u</th>\n",
       "      <th>v</th>\n",
       "      <th>r</th>\n",
       "      <th>u1d</th>\n",
       "      <th>v1d</th>\n",
       "      <th>r1d</th>\n",
       "      <th>delta</th>\n",
       "    </tr>\n",
       "    <tr>\n",
       "      <th>time</th>\n",
       "      <th></th>\n",
       "      <th></th>\n",
       "      <th></th>\n",
       "      <th></th>\n",
       "      <th></th>\n",
       "      <th></th>\n",
       "      <th></th>\n",
       "    </tr>\n",
       "  </thead>\n",
       "  <tbody>\n",
       "    <tr>\n",
       "      <th>0.000000</th>\n",
       "      <td>1.0</td>\n",
       "      <td>0.000890</td>\n",
       "      <td>0.000241</td>\n",
       "      <td>0.001258</td>\n",
       "      <td>-0.000161</td>\n",
       "      <td>-0.220219</td>\n",
       "      <td>-0.000007</td>\n",
       "    </tr>\n",
       "    <tr>\n",
       "      <th>0.010007</th>\n",
       "      <td>1.0</td>\n",
       "      <td>0.000859</td>\n",
       "      <td>-0.005576</td>\n",
       "      <td>-0.549206</td>\n",
       "      <td>-0.004090</td>\n",
       "      <td>-1.210040</td>\n",
       "      <td>-0.000007</td>\n",
       "    </tr>\n",
       "    <tr>\n",
       "      <th>0.020011</th>\n",
       "      <td>1.0</td>\n",
       "      <td>0.000860</td>\n",
       "      <td>-0.029375</td>\n",
       "      <td>-0.804712</td>\n",
       "      <td>-0.006625</td>\n",
       "      <td>-2.724556</td>\n",
       "      <td>0.000000</td>\n",
       "    </tr>\n",
       "    <tr>\n",
       "      <th>0.030001</th>\n",
       "      <td>1.0</td>\n",
       "      <td>0.000969</td>\n",
       "      <td>-0.042616</td>\n",
       "      <td>-0.627420</td>\n",
       "      <td>-0.009692</td>\n",
       "      <td>-5.652799</td>\n",
       "      <td>0.000000</td>\n",
       "    </tr>\n",
       "    <tr>\n",
       "      <th>0.040001</th>\n",
       "      <td>1.0</td>\n",
       "      <td>0.000948</td>\n",
       "      <td>-0.040689</td>\n",
       "      <td>-0.520854</td>\n",
       "      <td>-0.011481</td>\n",
       "      <td>-7.503725</td>\n",
       "      <td>0.000000</td>\n",
       "    </tr>\n",
       "  </tbody>\n",
       "</table>\n",
       "</div>"
      ],
      "text/plain": [
       "            u         v         r       u1d       v1d       r1d     delta\n",
       "time                                                                     \n",
       "0.000000  1.0  0.000890  0.000241  0.001258 -0.000161 -0.220219 -0.000007\n",
       "0.010007  1.0  0.000859 -0.005576 -0.549206 -0.004090 -1.210040 -0.000007\n",
       "0.020011  1.0  0.000860 -0.029375 -0.804712 -0.006625 -2.724556  0.000000\n",
       "0.030001  1.0  0.000969 -0.042616 -0.627420 -0.009692 -5.652799  0.000000\n",
       "0.040001  1.0  0.000948 -0.040689 -0.520854 -0.011481 -7.503725  0.000000"
      ]
     },
     "execution_count": 9,
     "metadata": {},
     "output_type": "execute_result"
    }
   ],
   "source": [
    "df_prime.head()"
   ]
  },
  {
   "cell_type": "markdown",
   "metadata": {},
   "source": [
    "# Linear VMM"
   ]
  },
  {
   "cell_type": "markdown",
   "metadata": {},
   "source": [
    "## N"
   ]
  },
  {
   "cell_type": "code",
   "execution_count": 10,
   "metadata": {},
   "outputs": [
    {
     "data": {
      "text/latex": [
       "$\\displaystyle I_{z} \\dot{r} + m x_{G} \\left(U r + \\dot{v}\\right) = N_{\\delta} \\delta + N_{\\dot{r}} \\dot{r} + N_{\\dot{u}} \\dot{u} + N_{\\dot{v}} \\dot{v} + N_{r} r + N_{u} u + N_{v} v$"
      ],
      "text/plain": [
       "<IPython.core.display.Math object>"
      ]
     },
     "execution_count": 10,
     "metadata": {},
     "output_type": "execute_result"
    }
   ],
   "source": [
    "Math(vlatex(eq.N_eq))"
   ]
  },
  {
   "cell_type": "code",
   "execution_count": 11,
   "metadata": {},
   "outputs": [],
   "source": [
    "N_eq = eq.N_eq.copy()\n",
    "N_eq = N_eq.subs([\n",
    "    (x_G,0),  # Assuming or moving to CG=0\n",
    "    #(I_z,1),  # Removing inertia\n",
    "    #(eq.p.Nrdot,0),  # Removing added mass\n",
    "    (eq.p.Nvdot,0),  # Removing added mass\n",
    "    (eq.p.Nudot,0),  # Removing added mass\n",
    "    \n",
    "])  \n",
    "\n",
    "solution = sp.solve(N_eq,r.diff())[0]\n",
    "N_eq = sp.Eq(r.diff(), solution*(I_z-eq.p.Nrdot))  # Putting r1d on the LHS"
   ]
  },
  {
   "cell_type": "code",
   "execution_count": 12,
   "metadata": {},
   "outputs": [],
   "source": [
    "#Math(vlatex(N_eq))"
   ]
  },
  {
   "cell_type": "code",
   "execution_count": 13,
   "metadata": {},
   "outputs": [],
   "source": [
    "diff_eq_N = regression.DiffEqToMatrix(ode=N_eq, label=r.diff(), base_features=[delta,u,v,r])"
   ]
  },
  {
   "cell_type": "code",
   "execution_count": 14,
   "metadata": {},
   "outputs": [
    {
     "data": {
      "text/latex": [
       "$\\displaystyle \\dot{r} = N_{\\delta} \\delta + N_{r} r + N_{u} u + N_{v} v$"
      ],
      "text/plain": [
       "<IPython.core.display.Math object>"
      ]
     },
     "execution_count": 14,
     "metadata": {},
     "output_type": "execute_result"
    }
   ],
   "source": [
    "Math(vlatex(diff_eq_N.acceleration_equation))"
   ]
  },
  {
   "cell_type": "markdown",
   "metadata": {},
   "source": [
    "$ y = X \\cdot \\beta + \\epsilon $"
   ]
  },
  {
   "cell_type": "code",
   "execution_count": 15,
   "metadata": {},
   "outputs": [
    {
     "data": {
      "text/latex": [
       "$\\displaystyle y = N_{\\delta} x_{1} + N_{r} x_{2} + N_{u} x_{3} + N_{v} x_{4}$"
      ],
      "text/plain": [
       "<IPython.core.display.Math object>"
      ]
     },
     "execution_count": 15,
     "metadata": {},
     "output_type": "execute_result"
    }
   ],
   "source": [
    "Math(vlatex(diff_eq_N.acceleration_equation_x))"
   ]
  },
  {
   "cell_type": "code",
   "execution_count": 16,
   "metadata": {},
   "outputs": [
    {
     "data": {
      "text/latex": [
       "$\\displaystyle y = \\dot{r}$"
      ],
      "text/plain": [
       "<IPython.core.display.Math object>"
      ]
     },
     "execution_count": 16,
     "metadata": {},
     "output_type": "execute_result"
    }
   ],
   "source": [
    "Math(vlatex(diff_eq_N.eq_y))"
   ]
  },
  {
   "cell_type": "code",
   "execution_count": 17,
   "metadata": {},
   "outputs": [
    {
     "data": {
      "text/latex": [
       "$\\displaystyle \\beta = \\left[\\begin{matrix}N_{\\delta}\\\\N_{r}\\\\N_{u}\\\\N_{v}\\end{matrix}\\right]$"
      ],
      "text/plain": [
       "Eq(beta, Matrix([\n",
       "[N_{\\delta}],\n",
       "[     N_{r}],\n",
       "[     N_{u}],\n",
       "[     N_{v}]]))"
      ]
     },
     "execution_count": 17,
     "metadata": {},
     "output_type": "execute_result"
    }
   ],
   "source": [
    "diff_eq_N.eq_beta"
   ]
  },
  {
   "cell_type": "code",
   "execution_count": 18,
   "metadata": {},
   "outputs": [
    {
     "data": {
      "text/latex": [
       "$\\displaystyle X = \\left[\\begin{matrix}\\delta & r & u & v\\end{matrix}\\right]$"
      ],
      "text/plain": [
       "<IPython.core.display.Math object>"
      ]
     },
     "execution_count": 18,
     "metadata": {},
     "output_type": "execute_result"
    }
   ],
   "source": [
    "Math(vlatex(diff_eq_N.eq_X))"
   ]
  },
  {
   "cell_type": "code",
   "execution_count": 19,
   "metadata": {},
   "outputs": [
    {
     "data": {
      "text/plain": [
       "<function _lambdifygenerated(delta, r, u, v)>"
      ]
     },
     "execution_count": 19,
     "metadata": {},
     "output_type": "execute_result"
    }
   ],
   "source": [
    "diff_eq_N.X_lambda"
   ]
  },
  {
   "cell_type": "code",
   "execution_count": 20,
   "metadata": {},
   "outputs": [],
   "source": [
    "from statsmodels.sandbox.regression.predstd import wls_prediction_std\n",
    "def show_pred(X,y,results, label):\n",
    "    \n",
    "    display(results.summary())\n",
    "    \n",
    "    X_ = X\n",
    "    y_ = y\n",
    "    y_pred = results.predict(X_)\n",
    "    \n",
    "    prstd, iv_l, iv_u = wls_prediction_std(results, exog=X_, alpha=0.05)\n",
    "    #iv_l*=-1 \n",
    "    #iv_u*=-1\n",
    "    \n",
    "    fig,ax=plt.subplots()\n",
    "    ax.plot(X_.index,y_, label='Numerical gradient from model test')\n",
    "    ax.plot(X_.index,y_pred, '--', label='OLS')\n",
    "    ax.set_ylabel(label)\n",
    "    \n",
    "    ax.fill_between(X_.index, y1=iv_l, y2=iv_u, zorder=-10, color='grey', alpha=0.5, label=r'5\\% confidence')\n",
    "    ax.legend();"
   ]
  },
  {
   "cell_type": "code",
   "execution_count": 21,
   "metadata": {},
   "outputs": [
    {
     "data": {
      "text/html": [
       "<table class=\"simpletable\">\n",
       "<caption>OLS Regression Results</caption>\n",
       "<tr>\n",
       "  <th>Dep. Variable:</th>           <td>r1d</td>       <th>  R-squared (uncentered):</th>      <td>   0.953</td> \n",
       "</tr>\n",
       "<tr>\n",
       "  <th>Model:</th>                   <td>OLS</td>       <th>  Adj. R-squared (uncentered):</th> <td>   0.953</td> \n",
       "</tr>\n",
       "<tr>\n",
       "  <th>Method:</th>             <td>Least Squares</td>  <th>  F-statistic:       </th>          <td>3.029e+04</td>\n",
       "</tr>\n",
       "<tr>\n",
       "  <th>Date:</th>             <td>Mon, 05 Jul 2021</td> <th>  Prob (F-statistic):</th>           <td>  0.00</td>  \n",
       "</tr>\n",
       "<tr>\n",
       "  <th>Time:</th>                 <td>15:28:11</td>     <th>  Log-Likelihood:    </th>          <td> -34184.</td> \n",
       "</tr>\n",
       "<tr>\n",
       "  <th>No. Observations:</th>      <td>  5927</td>      <th>  AIC:               </th>          <td>6.838e+04</td>\n",
       "</tr>\n",
       "<tr>\n",
       "  <th>Df Residuals:</th>          <td>  5923</td>      <th>  BIC:               </th>          <td>6.840e+04</td>\n",
       "</tr>\n",
       "<tr>\n",
       "  <th>Df Model:</th>              <td>     4</td>      <th>                     </th>              <td> </td>    \n",
       "</tr>\n",
       "<tr>\n",
       "  <th>Covariance Type:</th>      <td>nonrobust</td>    <th>                     </th>              <td> </td>    \n",
       "</tr>\n",
       "</table>\n",
       "<table class=\"simpletable\">\n",
       "<tr>\n",
       "     <td></td>       <th>coef</th>     <th>std err</th>      <th>t</th>      <th>P>|t|</th>  <th>[0.025</th>    <th>0.975]</th>  \n",
       "</tr>\n",
       "<tr>\n",
       "  <th>Ndelta</th> <td>-3303.7138</td> <td>   23.891</td> <td> -138.285</td> <td> 0.000</td> <td>-3350.548</td> <td>-3256.879</td>\n",
       "</tr>\n",
       "<tr>\n",
       "  <th>Nr</th>     <td>  -48.5062</td> <td>    1.046</td> <td>  -46.367</td> <td> 0.000</td> <td>  -50.557</td> <td>  -46.455</td>\n",
       "</tr>\n",
       "<tr>\n",
       "  <th>Nu</th>     <td>    0.0943</td> <td>    1.043</td> <td>    0.090</td> <td> 0.928</td> <td>   -1.950</td> <td>    2.138</td>\n",
       "</tr>\n",
       "<tr>\n",
       "  <th>Nv</th>     <td> 2391.4461</td> <td>   54.242</td> <td>   44.088</td> <td> 0.000</td> <td> 2285.111</td> <td> 2497.781</td>\n",
       "</tr>\n",
       "</table>\n",
       "<table class=\"simpletable\">\n",
       "<tr>\n",
       "  <th>Omnibus:</th>       <td>320.038</td> <th>  Durbin-Watson:     </th> <td>   0.001</td> \n",
       "</tr>\n",
       "<tr>\n",
       "  <th>Prob(Omnibus):</th> <td> 0.000</td>  <th>  Jarque-Bera (JB):  </th> <td>1272.539</td> \n",
       "</tr>\n",
       "<tr>\n",
       "  <th>Skew:</th>          <td>-0.043</td>  <th>  Prob(JB):          </th> <td>4.70e-277</td>\n",
       "</tr>\n",
       "<tr>\n",
       "  <th>Kurtosis:</th>      <td> 5.268</td>  <th>  Cond. No.          </th> <td>    378.</td> \n",
       "</tr>\n",
       "</table><br/><br/>Notes:<br/>[1] R² is computed without centering (uncentered) since the model does not contain a constant.<br/>[2] Standard Errors assume that the covariance matrix of the errors is correctly specified."
      ],
      "text/plain": [
       "<class 'statsmodels.iolib.summary.Summary'>\n",
       "\"\"\"\n",
       "                                 OLS Regression Results                                \n",
       "=======================================================================================\n",
       "Dep. Variable:                    r1d   R-squared (uncentered):                   0.953\n",
       "Model:                            OLS   Adj. R-squared (uncentered):              0.953\n",
       "Method:                 Least Squares   F-statistic:                          3.029e+04\n",
       "Date:                Mon, 05 Jul 2021   Prob (F-statistic):                        0.00\n",
       "Time:                        15:28:11   Log-Likelihood:                         -34184.\n",
       "No. Observations:                5927   AIC:                                  6.838e+04\n",
       "Df Residuals:                    5923   BIC:                                  6.840e+04\n",
       "Df Model:                           4                                                  \n",
       "Covariance Type:            nonrobust                                                  \n",
       "==============================================================================\n",
       "                 coef    std err          t      P>|t|      [0.025      0.975]\n",
       "------------------------------------------------------------------------------\n",
       "Ndelta     -3303.7138     23.891   -138.285      0.000   -3350.548   -3256.879\n",
       "Nr           -48.5062      1.046    -46.367      0.000     -50.557     -46.455\n",
       "Nu             0.0943      1.043      0.090      0.928      -1.950       2.138\n",
       "Nv          2391.4461     54.242     44.088      0.000    2285.111    2497.781\n",
       "==============================================================================\n",
       "Omnibus:                      320.038   Durbin-Watson:                   0.001\n",
       "Prob(Omnibus):                  0.000   Jarque-Bera (JB):             1272.539\n",
       "Skew:                          -0.043   Prob(JB):                    4.70e-277\n",
       "Kurtosis:                       5.268   Cond. No.                         378.\n",
       "==============================================================================\n",
       "\n",
       "Notes:\n",
       "[1] R² is computed without centering (uncentered) since the model does not contain a constant.\n",
       "[2] Standard Errors assume that the covariance matrix of the errors is correctly specified.\n",
       "\"\"\""
      ]
     },
     "metadata": {},
     "output_type": "display_data"
    },
    {
     "data": {
      "image/png": "[encoded data removed]",
      "text/plain": [
       "<Figure size 432x288 with 1 Axes>"
      ]
     },
     "metadata": {
      "needs_background": "light"
     },
     "output_type": "display_data"
    }
   ],
   "source": [
    "X = diff_eq_N.calculate_features(data=df_prime)\n",
    "y = diff_eq_N.calculate_label(y=df_prime['r1d'])\n",
    "\n",
    "model_N = sm.OLS(y,X)\n",
    "results_N = model_N.fit()\n",
    "\n",
    "show_pred(X=X,y=y,results=results_N, label=r'$\\dot{r}$')"
   ]
  },
  {
   "cell_type": "markdown",
   "metadata": {},
   "source": [
    "## Y"
   ]
  },
  {
   "cell_type": "code",
   "execution_count": 48,
   "metadata": {
    "tags": []
   },
   "outputs": [],
   "source": [
    "Y_eq = eq.Y_eq.copy()\n",
    "Y_eq = Y_eq.subs([\n",
    "    #(eq.p.Yvdot,1),  # Removing added mass\n",
    "    (eq.p.Yudot,0),  # Removing added mass\n",
    "    (eq.p.Yrdot,0),  # Removing added mass  \n",
    "    (x_G,0),  \n",
    "    \n",
    "])  \n",
    "solution = sp.solve(Y_eq,v.diff())[0]\n",
    "solution = solution*(-eq.p.Yvdot+m)\n",
    "solution = solution + U*m*r# (adding u*m*r to the measurement fy instead)  \n",
    "solution = solution\n",
    "Y_eq = sp.simplify(sp.Eq(v.diff(), solution))  # Putting r1d on the LHS"
   ]
  },
  {
   "cell_type": "code",
   "execution_count": 49,
   "metadata": {},
   "outputs": [
    {
     "data": {
      "text/latex": [
       "$\\displaystyle \\dot{v} = Y_{\\delta} \\delta + Y_{r} r + Y_{u} u + Y_{v} v$"
      ],
      "text/plain": [
       "<IPython.core.display.Math object>"
      ]
     },
     "execution_count": 49,
     "metadata": {},
     "output_type": "execute_result"
    }
   ],
   "source": [
    "Math(vlatex(Y_eq))"
   ]
  },
  {
   "cell_type": "code",
   "execution_count": 50,
   "metadata": {},
   "outputs": [],
   "source": [
    "diff_eq_Y = regression.DiffEqToMatrix(ode=Y_eq, label=v.diff(), base_features=[delta,u,v,r])"
   ]
  },
  {
   "cell_type": "code",
   "execution_count": 51,
   "metadata": {},
   "outputs": [
    {
     "data": {
      "text/latex": [
       "$\\displaystyle \\beta = \\left[\\begin{matrix}Y_{\\delta}\\\\Y_{r}\\\\Y_{u}\\\\Y_{v}\\end{matrix}\\right]$"
      ],
      "text/plain": [
       "Eq(beta, Matrix([\n",
       "[Y_{\\delta}],\n",
       "[     Y_{r}],\n",
       "[     Y_{u}],\n",
       "[     Y_{v}]]))"
      ]
     },
     "execution_count": 51,
     "metadata": {},
     "output_type": "execute_result"
    }
   ],
   "source": [
    "diff_eq_Y.eq_beta"
   ]
  },
  {
   "cell_type": "code",
   "execution_count": 52,
   "metadata": {},
   "outputs": [
    {
     "data": {
      "text/latex": [
       "$\\displaystyle y = Y_{\\delta} x_{1} + Y_{r} x_{2} + Y_{u} x_{3} + Y_{v} x_{4}$"
      ],
      "text/plain": [
       "Eq(y, Y_{\\delta}*x_1 + Y_{r}*x_2 + Y_{u}*x_3 + Y_{v}*x_4)"
      ]
     },
     "execution_count": 52,
     "metadata": {},
     "output_type": "execute_result"
    }
   ],
   "source": [
    "diff_eq_Y.acceleration_equation_x"
   ]
  },
  {
   "cell_type": "code",
   "execution_count": 104,
   "metadata": {},
   "outputs": [
    {
     "data": {
      "text/html": [
       "<table class=\"simpletable\">\n",
       "<caption>OLS Regression Results</caption>\n",
       "<tr>\n",
       "  <th>Dep. Variable:</th>           <td>v1d</td>       <th>  R-squared (uncentered):</th>      <td>   0.999</td> \n",
       "</tr>\n",
       "<tr>\n",
       "  <th>Model:</th>                   <td>OLS</td>       <th>  Adj. R-squared (uncentered):</th> <td>   0.999</td> \n",
       "</tr>\n",
       "<tr>\n",
       "  <th>Method:</th>             <td>Least Squares</td>  <th>  F-statistic:       </th>          <td>1.554e+06</td>\n",
       "</tr>\n",
       "<tr>\n",
       "  <th>Date:</th>             <td>Mon, 05 Jul 2021</td> <th>  Prob (F-statistic):</th>           <td>  0.00</td>  \n",
       "</tr>\n",
       "<tr>\n",
       "  <th>Time:</th>                 <td>15:50:42</td>     <th>  Log-Likelihood:    </th>          <td> -543.63</td> \n",
       "</tr>\n",
       "<tr>\n",
       "  <th>No. Observations:</th>      <td>  5927</td>      <th>  AIC:               </th>          <td>   1095.</td> \n",
       "</tr>\n",
       "<tr>\n",
       "  <th>Df Residuals:</th>          <td>  5923</td>      <th>  BIC:               </th>          <td>   1122.</td> \n",
       "</tr>\n",
       "<tr>\n",
       "  <th>Df Model:</th>              <td>     4</td>      <th>                     </th>              <td> </td>    \n",
       "</tr>\n",
       "<tr>\n",
       "  <th>Covariance Type:</th>      <td>nonrobust</td>    <th>                     </th>              <td> </td>    \n",
       "</tr>\n",
       "</table>\n",
       "<table class=\"simpletable\">\n",
       "<tr>\n",
       "     <td></td>       <th>coef</th>     <th>std err</th>      <th>t</th>      <th>P>|t|</th>  <th>[0.025</th>    <th>0.975]</th>  \n",
       "</tr>\n",
       "<tr>\n",
       "  <th>Ydelta</th> <td>   12.0212</td> <td>    0.082</td> <td>  146.787</td> <td> 0.000</td> <td>   11.861</td> <td>   12.182</td>\n",
       "</tr>\n",
       "<tr>\n",
       "  <th>Yr</th>     <td>    0.8345</td> <td>    0.004</td> <td>  232.707</td> <td> 0.000</td> <td>    0.827</td> <td>    0.842</td>\n",
       "</tr>\n",
       "<tr>\n",
       "  <th>Yu</th>     <td>   -0.1417</td> <td>    0.004</td> <td>  -39.638</td> <td> 0.000</td> <td>   -0.149</td> <td>   -0.135</td>\n",
       "</tr>\n",
       "<tr>\n",
       "  <th>Yv</th>     <td>  -64.9117</td> <td>    0.186</td> <td> -349.101</td> <td> 0.000</td> <td>  -65.276</td> <td>  -64.547</td>\n",
       "</tr>\n",
       "</table>\n",
       "<table class=\"simpletable\">\n",
       "<tr>\n",
       "  <th>Omnibus:</th>       <td> 0.645</td> <th>  Durbin-Watson:     </th> <td>   0.009</td>\n",
       "</tr>\n",
       "<tr>\n",
       "  <th>Prob(Omnibus):</th> <td> 0.724</td> <th>  Jarque-Bera (JB):  </th> <td>   0.645</td>\n",
       "</tr>\n",
       "<tr>\n",
       "  <th>Skew:</th>          <td> 0.026</td> <th>  Prob(JB):          </th> <td>   0.724</td>\n",
       "</tr>\n",
       "<tr>\n",
       "  <th>Kurtosis:</th>      <td> 2.998</td> <th>  Cond. No.          </th> <td>    378.</td>\n",
       "</tr>\n",
       "</table><br/><br/>Notes:<br/>[1] R² is computed without centering (uncentered) since the model does not contain a constant.<br/>[2] Standard Errors assume that the covariance matrix of the errors is correctly specified."
      ],
      "text/plain": [
       "<class 'statsmodels.iolib.summary.Summary'>\n",
       "\"\"\"\n",
       "                                 OLS Regression Results                                \n",
       "=======================================================================================\n",
       "Dep. Variable:                    v1d   R-squared (uncentered):                   0.999\n",
       "Model:                            OLS   Adj. R-squared (uncentered):              0.999\n",
       "Method:                 Least Squares   F-statistic:                          1.554e+06\n",
       "Date:                Mon, 05 Jul 2021   Prob (F-statistic):                        0.00\n",
       "Time:                        15:50:42   Log-Likelihood:                         -543.63\n",
       "No. Observations:                5927   AIC:                                      1095.\n",
       "Df Residuals:                    5923   BIC:                                      1122.\n",
       "Df Model:                           4                                                  \n",
       "Covariance Type:            nonrobust                                                  \n",
       "==============================================================================\n",
       "                 coef    std err          t      P>|t|      [0.025      0.975]\n",
       "------------------------------------------------------------------------------\n",
       "Ydelta        12.0212      0.082    146.787      0.000      11.861      12.182\n",
       "Yr             0.8345      0.004    232.707      0.000       0.827       0.842\n",
       "Yu            -0.1417      0.004    -39.638      0.000      -0.149      -0.135\n",
       "Yv           -64.9117      0.186   -349.101      0.000     -65.276     -64.547\n",
       "==============================================================================\n",
       "Omnibus:                        0.645   Durbin-Watson:                   0.009\n",
       "Prob(Omnibus):                  0.724   Jarque-Bera (JB):                0.645\n",
       "Skew:                           0.026   Prob(JB):                        0.724\n",
       "Kurtosis:                       2.998   Cond. No.                         378.\n",
       "==============================================================================\n",
       "\n",
       "Notes:\n",
       "[1] R² is computed without centering (uncentered) since the model does not contain a constant.\n",
       "[2] Standard Errors assume that the covariance matrix of the errors is correctly specified.\n",
       "\"\"\""
      ]
     },
     "metadata": {},
     "output_type": "display_data"
    },
    {
     "data": {
      "image/png": "[encoded data removed]",
      "text/plain": [
       "<Figure size 432x288 with 1 Axes>"
      ]
     },
     "metadata": {
      "needs_background": "light"
     },
     "output_type": "display_data"
    }
   ],
   "source": [
    "X = diff_eq_Y.calculate_features(data=df_prime, simplify_names=True)\n",
    "y = diff_eq_Y.calculate_label(y=df_prime['v1d'])\n",
    "m_prime = ps._prime(m_, unit='mass')\n",
    "y+=df_prime['u']*m_prime*df_prime['r']/(m_prime-Yvdot_)  # subtracting centrifugal force\n",
    "\n",
    "model_Y = sm.OLS(y,X)\n",
    "results_Y = model_Y.fit()\n",
    "\n",
    "show_pred(X=X,y=y,results=results_Y, label=r'$\\dot{v}$')"
   ]
  },
  {
   "cell_type": "code",
   "execution_count": 105,
   "metadata": {},
   "outputs": [
    {
     "data": {
      "text/html": [
       "<div>\n",
       "<style scoped>\n",
       "    .dataframe tbody tr th:only-of-type {\n",
       "        vertical-align: middle;\n",
       "    }\n",
       "\n",
       "    .dataframe tbody tr th {\n",
       "        vertical-align: top;\n",
       "    }\n",
       "\n",
       "    .dataframe thead th {\n",
       "        text-align: right;\n",
       "    }\n",
       "</style>\n",
       "<table border=\"1\" class=\"dataframe\">\n",
       "  <thead>\n",
       "    <tr style=\"text-align: right;\">\n",
       "      <th></th>\n",
       "      <th>Ydelta</th>\n",
       "      <th>Yr</th>\n",
       "      <th>Yu</th>\n",
       "      <th>Yv</th>\n",
       "    </tr>\n",
       "    <tr>\n",
       "      <th>time</th>\n",
       "      <th></th>\n",
       "      <th></th>\n",
       "      <th></th>\n",
       "      <th></th>\n",
       "    </tr>\n",
       "  </thead>\n",
       "  <tbody>\n",
       "    <tr>\n",
       "      <th>0.000000</th>\n",
       "      <td>-0.000007</td>\n",
       "      <td>0.000241</td>\n",
       "      <td>1.0</td>\n",
       "      <td>0.000890</td>\n",
       "    </tr>\n",
       "    <tr>\n",
       "      <th>0.010007</th>\n",
       "      <td>-0.000007</td>\n",
       "      <td>-0.005576</td>\n",
       "      <td>1.0</td>\n",
       "      <td>0.000859</td>\n",
       "    </tr>\n",
       "    <tr>\n",
       "      <th>0.020011</th>\n",
       "      <td>0.000000</td>\n",
       "      <td>-0.029375</td>\n",
       "      <td>1.0</td>\n",
       "      <td>0.000860</td>\n",
       "    </tr>\n",
       "    <tr>\n",
       "      <th>0.030001</th>\n",
       "      <td>0.000000</td>\n",
       "      <td>-0.042616</td>\n",
       "      <td>1.0</td>\n",
       "      <td>0.000969</td>\n",
       "    </tr>\n",
       "    <tr>\n",
       "      <th>0.040001</th>\n",
       "      <td>0.000000</td>\n",
       "      <td>-0.040689</td>\n",
       "      <td>1.0</td>\n",
       "      <td>0.000948</td>\n",
       "    </tr>\n",
       "  </tbody>\n",
       "</table>\n",
       "</div>"
      ],
      "text/plain": [
       "            Ydelta        Yr   Yu        Yv\n",
       "time                                       \n",
       "0.000000 -0.000007  0.000241  1.0  0.000890\n",
       "0.010007 -0.000007 -0.005576  1.0  0.000859\n",
       "0.020011  0.000000 -0.029375  1.0  0.000860\n",
       "0.030001  0.000000 -0.042616  1.0  0.000969\n",
       "0.040001  0.000000 -0.040689  1.0  0.000948"
      ]
     },
     "execution_count": 105,
     "metadata": {},
     "output_type": "execute_result"
    }
   ],
   "source": [
    "X.head()"
   ]
  },
  {
   "cell_type": "markdown",
   "metadata": {},
   "source": [
    "## X"
   ]
  },
  {
   "cell_type": "code",
   "execution_count": 106,
   "metadata": {
    "tags": []
   },
   "outputs": [],
   "source": [
    "X_eq = eq.X_eq.copy()\n",
    "X_eq = X_eq.subs([\n",
    "    #(eq.p.Xudot,1),  # Removing added mass\n",
    "    (eq.p.Xvdot,0),  # Removing added mass\n",
    "    (eq.p.Xrdot,0),  # Removing added mass\n",
    "    \n",
    "    #(m,0),  # mass\n",
    "    \n",
    "])  \n",
    "\n",
    "solution = sp.solve(X_eq,u.diff())[0]\n",
    "X_eq = sp.Eq(u.diff(), solution*(-eq.p.Xudot+m))  # Putting r1d on the LHS"
   ]
  },
  {
   "cell_type": "code",
   "execution_count": 107,
   "metadata": {},
   "outputs": [
    {
     "data": {
      "text/latex": [
       "$\\displaystyle \\dot{u} = X_{\\delta} \\delta + X_{r} r + X_{u} u + X_{v} v$"
      ],
      "text/plain": [
       "<IPython.core.display.Math object>"
      ]
     },
     "execution_count": 107,
     "metadata": {},
     "output_type": "execute_result"
    }
   ],
   "source": [
    "Math(vlatex(X_eq))"
   ]
  },
  {
   "cell_type": "code",
   "execution_count": 108,
   "metadata": {},
   "outputs": [],
   "source": [
    "diff_eq_X = regression.DiffEqToMatrix(ode=X_eq, label=u.diff(), base_features=[delta,u,v,r])"
   ]
  },
  {
   "cell_type": "code",
   "execution_count": 109,
   "metadata": {},
   "outputs": [
    {
     "data": {
      "text/html": [
       "<table class=\"simpletable\">\n",
       "<caption>OLS Regression Results</caption>\n",
       "<tr>\n",
       "  <th>Dep. Variable:</th>           <td>u1d</td>       <th>  R-squared (uncentered):</th>      <td>   0.258</td>\n",
       "</tr>\n",
       "<tr>\n",
       "  <th>Model:</th>                   <td>OLS</td>       <th>  Adj. R-squared (uncentered):</th> <td>   0.258</td>\n",
       "</tr>\n",
       "<tr>\n",
       "  <th>Method:</th>             <td>Least Squares</td>  <th>  F-statistic:       </th>          <td>   515.0</td>\n",
       "</tr>\n",
       "<tr>\n",
       "  <th>Date:</th>             <td>Mon, 05 Jul 2021</td> <th>  Prob (F-statistic):</th>           <td>  0.00</td> \n",
       "</tr>\n",
       "<tr>\n",
       "  <th>Time:</th>                 <td>15:50:58</td>     <th>  Log-Likelihood:    </th>          <td> -1345.6</td>\n",
       "</tr>\n",
       "<tr>\n",
       "  <th>No. Observations:</th>      <td>  5927</td>      <th>  AIC:               </th>          <td>   2699.</td>\n",
       "</tr>\n",
       "<tr>\n",
       "  <th>Df Residuals:</th>          <td>  5923</td>      <th>  BIC:               </th>          <td>   2726.</td>\n",
       "</tr>\n",
       "<tr>\n",
       "  <th>Df Model:</th>              <td>     4</td>      <th>                     </th>              <td> </td>   \n",
       "</tr>\n",
       "<tr>\n",
       "  <th>Covariance Type:</th>      <td>nonrobust</td>    <th>                     </th>              <td> </td>   \n",
       "</tr>\n",
       "</table>\n",
       "<table class=\"simpletable\">\n",
       "<tr>\n",
       "     <td></td>       <th>coef</th>     <th>std err</th>      <th>t</th>      <th>P>|t|</th>  <th>[0.025</th>    <th>0.975]</th>  \n",
       "</tr>\n",
       "<tr>\n",
       "  <th>Xdelta</th> <td>    0.1121</td> <td>    0.094</td> <td>    1.196</td> <td> 0.232</td> <td>   -0.072</td> <td>    0.296</td>\n",
       "</tr>\n",
       "<tr>\n",
       "  <th>Xr</th>     <td>   -0.0026</td> <td>    0.004</td> <td>   -0.624</td> <td> 0.532</td> <td>   -0.011</td> <td>    0.005</td>\n",
       "</tr>\n",
       "<tr>\n",
       "  <th>Xu</th>     <td>    0.1622</td> <td>    0.004</td> <td>   39.643</td> <td> 0.000</td> <td>    0.154</td> <td>    0.170</td>\n",
       "</tr>\n",
       "<tr>\n",
       "  <th>Xv</th>     <td>   -0.9987</td> <td>    0.213</td> <td>   -4.691</td> <td> 0.000</td> <td>   -1.416</td> <td>   -0.581</td>\n",
       "</tr>\n",
       "</table>\n",
       "<table class=\"simpletable\">\n",
       "<tr>\n",
       "  <th>Omnibus:</th>       <td>150.172</td> <th>  Durbin-Watson:     </th> <td>   0.061</td>\n",
       "</tr>\n",
       "<tr>\n",
       "  <th>Prob(Omnibus):</th> <td> 0.000</td>  <th>  Jarque-Bera (JB):  </th> <td> 221.702</td>\n",
       "</tr>\n",
       "<tr>\n",
       "  <th>Skew:</th>          <td> 0.268</td>  <th>  Prob(JB):          </th> <td>7.21e-49</td>\n",
       "</tr>\n",
       "<tr>\n",
       "  <th>Kurtosis:</th>      <td> 3.782</td>  <th>  Cond. No.          </th> <td>    378.</td>\n",
       "</tr>\n",
       "</table><br/><br/>Notes:<br/>[1] R² is computed without centering (uncentered) since the model does not contain a constant.<br/>[2] Standard Errors assume that the covariance matrix of the errors is correctly specified."
      ],
      "text/plain": [
       "<class 'statsmodels.iolib.summary.Summary'>\n",
       "\"\"\"\n",
       "                                 OLS Regression Results                                \n",
       "=======================================================================================\n",
       "Dep. Variable:                    u1d   R-squared (uncentered):                   0.258\n",
       "Model:                            OLS   Adj. R-squared (uncentered):              0.258\n",
       "Method:                 Least Squares   F-statistic:                              515.0\n",
       "Date:                Mon, 05 Jul 2021   Prob (F-statistic):                        0.00\n",
       "Time:                        15:50:58   Log-Likelihood:                         -1345.6\n",
       "No. Observations:                5927   AIC:                                      2699.\n",
       "Df Residuals:                    5923   BIC:                                      2726.\n",
       "Df Model:                           4                                                  \n",
       "Covariance Type:            nonrobust                                                  \n",
       "==============================================================================\n",
       "                 coef    std err          t      P>|t|      [0.025      0.975]\n",
       "------------------------------------------------------------------------------\n",
       "Xdelta         0.1121      0.094      1.196      0.232      -0.072       0.296\n",
       "Xr            -0.0026      0.004     -0.624      0.532      -0.011       0.005\n",
       "Xu             0.1622      0.004     39.643      0.000       0.154       0.170\n",
       "Xv            -0.9987      0.213     -4.691      0.000      -1.416      -0.581\n",
       "==============================================================================\n",
       "Omnibus:                      150.172   Durbin-Watson:                   0.061\n",
       "Prob(Omnibus):                  0.000   Jarque-Bera (JB):              221.702\n",
       "Skew:                           0.268   Prob(JB):                     7.21e-49\n",
       "Kurtosis:                       3.782   Cond. No.                         378.\n",
       "==============================================================================\n",
       "\n",
       "Notes:\n",
       "[1] R² is computed without centering (uncentered) since the model does not contain a constant.\n",
       "[2] Standard Errors assume that the covariance matrix of the errors is correctly specified.\n",
       "\"\"\""
      ]
     },
     "metadata": {},
     "output_type": "display_data"
    },
    {
     "data": {
      "image/png": "[encoded data removed]",
      "text/plain": [
       "<Figure size 432x288 with 1 Axes>"
      ]
     },
     "metadata": {
      "needs_background": "light"
     },
     "output_type": "display_data"
    }
   ],
   "source": [
    "X = diff_eq_X.calculate_features(data=df_prime)\n",
    "y = diff_eq_X.calculate_label(y=df_prime['u1d'])\n",
    "\n",
    "model_X = sm.OLS(y,X)\n",
    "results_X = model_X.fit()\n",
    "\n",
    "show_pred(X=X,y=y,results=results_X, label=r'$\\dot{u}$')"
   ]
  },
  {
   "cell_type": "code",
   "execution_count": 110,
   "metadata": {},
   "outputs": [],
   "source": [
    "results_summary_X = regression.results_summary_to_dataframe(results_X)\n",
    "results_summary_Y = regression.results_summary_to_dataframe(results_Y)\n",
    "results_summary_N = regression.results_summary_to_dataframe(results_N)"
   ]
  },
  {
   "cell_type": "markdown",
   "metadata": {},
   "source": [
    "# Brix parameters"
   ]
  },
  {
   "cell_type": "code",
   "execution_count": 111,
   "metadata": {},
   "outputs": [],
   "source": [
    "def calculate_prime(row, ship_parameters):\n",
    "    return run(function=row['brix_lambda'], inputs=ship_parameters)\n",
    "\n",
    "mask = df_parameters['brix_lambda'].notnull()\n",
    "df_parameters.loc[mask,'brix_prime'] = df_parameters.loc[mask].apply(calculate_prime, ship_parameters=ship_parameters, axis=1)\n",
    "df_parameters.loc['Ydelta','brix_prime'] = 0.005  # Just guessing\n",
    "df_parameters.loc['Ndelta','brix_prime'] = -df_parameters.loc['Ydelta','brix_prime']/2  # Just guessing\n",
    "df_parameters['brix_prime'].fillna(0, inplace=True)"
   ]
  },
  {
   "cell_type": "code",
   "execution_count": 141,
   "metadata": {},
   "outputs": [],
   "source": [
    "Xudot_ = df_parameters.loc['Xudot','brix_prime']\n",
    "Yvdot_ = df_parameters.loc['Yvdot','brix_prime']\n",
    "Nrdot_ = df_parameters.loc['Nrdot','brix_prime']\n",
    "\n",
    "I_z_prime = ps._prime(I_z_, unit='inertia_moment')\n",
    "\n",
    "results_summary_X['value']  = results_summary_X['coeff']*(m_prime-Xudot_)/1000\n",
    "results_summary_Y['value']  = results_summary_Y['coeff']*(m_prime-Yvdot_)/1000\n",
    "results_summary_N['value']  = -results_summary_N['coeff']*(I_z_prime-Nrdot_)/1000\n",
    "\n"
   ]
  },
  {
   "cell_type": "code",
   "execution_count": 142,
   "metadata": {},
   "outputs": [
    {
     "data": {
      "text/plain": [
       "0.006995127873817863"
      ]
     },
     "execution_count": 142,
     "metadata": {},
     "output_type": "execute_result"
    }
   ],
   "source": [
    "m_prime"
   ]
  },
  {
   "cell_type": "code",
   "execution_count": 143,
   "metadata": {},
   "outputs": [
    {
     "data": {
      "text/plain": [
       "0.00043719549211361644"
      ]
     },
     "execution_count": 143,
     "metadata": {},
     "output_type": "execute_result"
    }
   ],
   "source": [
    "I_z_prime"
   ]
  },
  {
   "cell_type": "markdown",
   "metadata": {},
   "source": [
    "## Add the regressed parameters\n",
    "Hydrodynamic derivatives that depend on acceleration cannot be obtained from the VCT regression. They are however essential if a time simulation should be conducted. These values have then been taken from Brix semi empirical formulas for the simulations below."
   ]
  },
  {
   "cell_type": "code",
   "execution_count": 144,
   "metadata": {},
   "outputs": [],
   "source": [
    "df_parameters_all = df_parameters.copy()\n",
    "for other in [results_summary_X, results_summary_Y, results_summary_N]:\n",
    "    df_parameters_all = df_parameters_all.combine_first(other)\n",
    "\n",
    "df_parameters_all.rename(columns={'value':'regressed'}, inplace=True)\n",
    "df_parameters_all.drop(columns=['brix_lambda'], inplace=True)\n",
    "\n",
    "df_parameters_all['prime'] = df_parameters_all['regressed'].combine_first(df_parameters_all['brix_prime'])  # prefer regressed"
   ]
  },
  {
   "cell_type": "code",
   "execution_count": 145,
   "metadata": {},
   "outputs": [
    {
     "data": {
      "text/html": [
       "<div>\n",
       "<style scoped>\n",
       "    .dataframe tbody tr th:only-of-type {\n",
       "        vertical-align: middle;\n",
       "    }\n",
       "\n",
       "    .dataframe tbody tr th {\n",
       "        vertical-align: top;\n",
       "    }\n",
       "\n",
       "    .dataframe thead th {\n",
       "        text-align: right;\n",
       "    }\n",
       "</style>\n",
       "<table border=\"1\" class=\"dataframe\">\n",
       "  <thead>\n",
       "    <tr style=\"text-align: right;\">\n",
       "      <th></th>\n",
       "      <th>$P_{value}$</th>\n",
       "      <th>$conf_{higher}$</th>\n",
       "      <th>$conf_{lower}$</th>\n",
       "      <th>brix</th>\n",
       "      <th>brix_prime</th>\n",
       "      <th>coeff</th>\n",
       "      <th>coord</th>\n",
       "      <th>dof</th>\n",
       "      <th>state</th>\n",
       "      <th>symbol</th>\n",
       "      <th>regressed</th>\n",
       "      <th>prime</th>\n",
       "    </tr>\n",
       "  </thead>\n",
       "  <tbody>\n",
       "    <tr>\n",
       "      <th>Ndelta</th>\n",
       "      <td>0.000000e+00</td>\n",
       "      <td>-3256.879391</td>\n",
       "      <td>-3350.548187</td>\n",
       "      <td>NaN</td>\n",
       "      <td>-0.002500</td>\n",
       "      <td>-3303.713789</td>\n",
       "      <td>\\delta</td>\n",
       "      <td>N</td>\n",
       "      <td></td>\n",
       "      <td>N_{\\delta}</td>\n",
       "      <td>2.431105e-03</td>\n",
       "      <td>2.431105e-03</td>\n",
       "    </tr>\n",
       "    <tr>\n",
       "      <th>Ndeltadot</th>\n",
       "      <td>NaN</td>\n",
       "      <td>NaN</td>\n",
       "      <td>NaN</td>\n",
       "      <td>NaN</td>\n",
       "      <td>0.000000</td>\n",
       "      <td>NaN</td>\n",
       "      <td>\\delta</td>\n",
       "      <td>N</td>\n",
       "      <td>dot</td>\n",
       "      <td>N_{\\dot{\\delta}}</td>\n",
       "      <td>NaN</td>\n",
       "      <td>0.000000e+00</td>\n",
       "    </tr>\n",
       "    <tr>\n",
       "      <th>Nr</th>\n",
       "      <td>0.000000e+00</td>\n",
       "      <td>-46.455405</td>\n",
       "      <td>-50.556987</td>\n",
       "      <td>-pi*T**2*(0.039*B/T - 0.56*B/L + 0.25)/L**2</td>\n",
       "      <td>-0.001719</td>\n",
       "      <td>-48.506196</td>\n",
       "      <td>r</td>\n",
       "      <td>N</td>\n",
       "      <td></td>\n",
       "      <td>N_{r}</td>\n",
       "      <td>3.569427e-05</td>\n",
       "      <td>3.569427e-05</td>\n",
       "    </tr>\n",
       "    <tr>\n",
       "      <th>Nrdot</th>\n",
       "      <td>NaN</td>\n",
       "      <td>NaN</td>\n",
       "      <td>NaN</td>\n",
       "      <td>-pi*T**2*(0.017*B*CB/T - 0.33*B/L + 0.08333333...</td>\n",
       "      <td>-0.000299</td>\n",
       "      <td>NaN</td>\n",
       "      <td>r</td>\n",
       "      <td>N</td>\n",
       "      <td>dot</td>\n",
       "      <td>N_{\\dot{r}}</td>\n",
       "      <td>NaN</td>\n",
       "      <td>-2.986748e-04</td>\n",
       "    </tr>\n",
       "    <tr>\n",
       "      <th>Nu</th>\n",
       "      <td>9.279303e-01</td>\n",
       "      <td>2.138355</td>\n",
       "      <td>-1.949727</td>\n",
       "      <td>NaN</td>\n",
       "      <td>0.000000</td>\n",
       "      <td>0.094314</td>\n",
       "      <td>u</td>\n",
       "      <td>N</td>\n",
       "      <td></td>\n",
       "      <td>N_{u}</td>\n",
       "      <td>-6.940280e-08</td>\n",
       "      <td>-6.940280e-08</td>\n",
       "    </tr>\n",
       "    <tr>\n",
       "      <th>Nudot</th>\n",
       "      <td>NaN</td>\n",
       "      <td>NaN</td>\n",
       "      <td>NaN</td>\n",
       "      <td>NaN</td>\n",
       "      <td>0.000000</td>\n",
       "      <td>NaN</td>\n",
       "      <td>u</td>\n",
       "      <td>N</td>\n",
       "      <td>dot</td>\n",
       "      <td>N_{\\dot{u}}</td>\n",
       "      <td>NaN</td>\n",
       "      <td>0.000000e+00</td>\n",
       "    </tr>\n",
       "    <tr>\n",
       "      <th>Nv</th>\n",
       "      <td>0.000000e+00</td>\n",
       "      <td>2497.781092</td>\n",
       "      <td>2285.111174</td>\n",
       "      <td>-pi*T**2*(0.5 + 2.4*T/L)/L**2</td>\n",
       "      <td>-0.003184</td>\n",
       "      <td>2391.446133</td>\n",
       "      <td>v</td>\n",
       "      <td>N</td>\n",
       "      <td></td>\n",
       "      <td>N_{v}</td>\n",
       "      <td>-1.759794e-03</td>\n",
       "      <td>-1.759794e-03</td>\n",
       "    </tr>\n",
       "    <tr>\n",
       "      <th>Nvdot</th>\n",
       "      <td>NaN</td>\n",
       "      <td>NaN</td>\n",
       "      <td>NaN</td>\n",
       "      <td>-pi*T**2*(-0.04*B/T + 1.1*B/L)/L**2</td>\n",
       "      <td>-0.000128</td>\n",
       "      <td>NaN</td>\n",
       "      <td>v</td>\n",
       "      <td>N</td>\n",
       "      <td>dot</td>\n",
       "      <td>N_{\\dot{v}}</td>\n",
       "      <td>NaN</td>\n",
       "      <td>-1.282544e-04</td>\n",
       "    </tr>\n",
       "    <tr>\n",
       "      <th>Xdelta</th>\n",
       "      <td>2.317182e-01</td>\n",
       "      <td>0.295950</td>\n",
       "      <td>-0.071661</td>\n",
       "      <td>NaN</td>\n",
       "      <td>0.000000</td>\n",
       "      <td>0.112145</td>\n",
       "      <td>\\delta</td>\n",
       "      <td>X</td>\n",
       "      <td></td>\n",
       "      <td>X_{\\delta}</td>\n",
       "      <td>7.844654e-07</td>\n",
       "      <td>7.844654e-07</td>\n",
       "    </tr>\n",
       "    <tr>\n",
       "      <th>Xdeltadot</th>\n",
       "      <td>NaN</td>\n",
       "      <td>NaN</td>\n",
       "      <td>NaN</td>\n",
       "      <td>NaN</td>\n",
       "      <td>0.000000</td>\n",
       "      <td>NaN</td>\n",
       "      <td>\\delta</td>\n",
       "      <td>X</td>\n",
       "      <td>dot</td>\n",
       "      <td>X_{\\dot{\\delta}}</td>\n",
       "      <td>NaN</td>\n",
       "      <td>0.000000e+00</td>\n",
       "    </tr>\n",
       "    <tr>\n",
       "      <th>Xr</th>\n",
       "      <td>5.323915e-01</td>\n",
       "      <td>0.005485</td>\n",
       "      <td>-0.010612</td>\n",
       "      <td>NaN</td>\n",
       "      <td>0.000000</td>\n",
       "      <td>-0.002564</td>\n",
       "      <td>r</td>\n",
       "      <td>X</td>\n",
       "      <td></td>\n",
       "      <td>X_{r}</td>\n",
       "      <td>-1.793225e-08</td>\n",
       "      <td>-1.793225e-08</td>\n",
       "    </tr>\n",
       "    <tr>\n",
       "      <th>Xrdot</th>\n",
       "      <td>NaN</td>\n",
       "      <td>NaN</td>\n",
       "      <td>NaN</td>\n",
       "      <td>NaN</td>\n",
       "      <td>0.000000</td>\n",
       "      <td>NaN</td>\n",
       "      <td>r</td>\n",
       "      <td>X</td>\n",
       "      <td>dot</td>\n",
       "      <td>X_{\\dot{r}}</td>\n",
       "      <td>NaN</td>\n",
       "      <td>0.000000e+00</td>\n",
       "    </tr>\n",
       "    <tr>\n",
       "      <th>Xu</th>\n",
       "      <td>4.726746e-305</td>\n",
       "      <td>0.170246</td>\n",
       "      <td>0.154202</td>\n",
       "      <td>NaN</td>\n",
       "      <td>0.000000</td>\n",
       "      <td>0.162224</td>\n",
       "      <td>u</td>\n",
       "      <td>X</td>\n",
       "      <td></td>\n",
       "      <td>X_{u}</td>\n",
       "      <td>1.134775e-06</td>\n",
       "      <td>1.134775e-06</td>\n",
       "    </tr>\n",
       "    <tr>\n",
       "      <th>Xudot</th>\n",
       "      <td>NaN</td>\n",
       "      <td>NaN</td>\n",
       "      <td>NaN</td>\n",
       "      <td>NaN</td>\n",
       "      <td>0.000000</td>\n",
       "      <td>NaN</td>\n",
       "      <td>u</td>\n",
       "      <td>X</td>\n",
       "      <td>dot</td>\n",
       "      <td>X_{\\dot{u}}</td>\n",
       "      <td>NaN</td>\n",
       "      <td>0.000000e+00</td>\n",
       "    </tr>\n",
       "    <tr>\n",
       "      <th>Xv</th>\n",
       "      <td>2.776561e-06</td>\n",
       "      <td>-0.581347</td>\n",
       "      <td>-1.415989</td>\n",
       "      <td>NaN</td>\n",
       "      <td>0.000000</td>\n",
       "      <td>-0.998668</td>\n",
       "      <td>v</td>\n",
       "      <td>X</td>\n",
       "      <td></td>\n",
       "      <td>X_{v}</td>\n",
       "      <td>-6.985812e-06</td>\n",
       "      <td>-6.985812e-06</td>\n",
       "    </tr>\n",
       "    <tr>\n",
       "      <th>Xvdot</th>\n",
       "      <td>NaN</td>\n",
       "      <td>NaN</td>\n",
       "      <td>NaN</td>\n",
       "      <td>NaN</td>\n",
       "      <td>0.000000</td>\n",
       "      <td>NaN</td>\n",
       "      <td>v</td>\n",
       "      <td>X</td>\n",
       "      <td>dot</td>\n",
       "      <td>X_{\\dot{v}}</td>\n",
       "      <td>NaN</td>\n",
       "      <td>0.000000e+00</td>\n",
       "    </tr>\n",
       "    <tr>\n",
       "      <th>Ydelta</th>\n",
       "      <td>0.000000e+00</td>\n",
       "      <td>12.181755</td>\n",
       "      <td>11.860664</td>\n",
       "      <td>NaN</td>\n",
       "      <td>0.005000</td>\n",
       "      <td>12.021209</td>\n",
       "      <td>\\delta</td>\n",
       "      <td>Y</td>\n",
       "      <td></td>\n",
       "      <td>Y_{\\delta}</td>\n",
       "      <td>1.575321e-04</td>\n",
       "      <td>1.575321e-04</td>\n",
       "    </tr>\n",
       "    <tr>\n",
       "      <th>Ydeltadot</th>\n",
       "      <td>NaN</td>\n",
       "      <td>NaN</td>\n",
       "      <td>NaN</td>\n",
       "      <td>NaN</td>\n",
       "      <td>0.000000</td>\n",
       "      <td>NaN</td>\n",
       "      <td>\\delta</td>\n",
       "      <td>Y</td>\n",
       "      <td>dot</td>\n",
       "      <td>Y_{\\dot{\\delta}}</td>\n",
       "      <td>NaN</td>\n",
       "      <td>0.000000e+00</td>\n",
       "    </tr>\n",
       "    <tr>\n",
       "      <th>Yr</th>\n",
       "      <td>0.000000e+00</td>\n",
       "      <td>0.841532</td>\n",
       "      <td>0.827472</td>\n",
       "      <td>-pi*T**2*(-0.08*B/T + 2.2*B/L - 0.5)/L**2</td>\n",
       "      <td>0.002402</td>\n",
       "      <td>0.834502</td>\n",
       "      <td>r</td>\n",
       "      <td>Y</td>\n",
       "      <td></td>\n",
       "      <td>Y_{r}</td>\n",
       "      <td>1.093574e-05</td>\n",
       "      <td>1.093574e-05</td>\n",
       "    </tr>\n",
       "    <tr>\n",
       "      <th>Yrdot</th>\n",
       "      <td>NaN</td>\n",
       "      <td>NaN</td>\n",
       "      <td>NaN</td>\n",
       "      <td>-pi*T**2*(-0.0033*B**2/T**2 + 0.67*B/L)/L**2</td>\n",
       "      <td>-0.000303</td>\n",
       "      <td>NaN</td>\n",
       "      <td>r</td>\n",
       "      <td>Y</td>\n",
       "      <td>dot</td>\n",
       "      <td>Y_{\\dot{r}}</td>\n",
       "      <td>NaN</td>\n",
       "      <td>-3.031378e-04</td>\n",
       "    </tr>\n",
       "    <tr>\n",
       "      <th>Yu</th>\n",
       "      <td>5.561104e-305</td>\n",
       "      <td>-0.134669</td>\n",
       "      <td>-0.148683</td>\n",
       "      <td>NaN</td>\n",
       "      <td>0.000000</td>\n",
       "      <td>-0.141676</td>\n",
       "      <td>u</td>\n",
       "      <td>Y</td>\n",
       "      <td></td>\n",
       "      <td>Y_{u}</td>\n",
       "      <td>-1.856594e-06</td>\n",
       "      <td>-1.856594e-06</td>\n",
       "    </tr>\n",
       "    <tr>\n",
       "      <th>Yudot</th>\n",
       "      <td>NaN</td>\n",
       "      <td>NaN</td>\n",
       "      <td>NaN</td>\n",
       "      <td>NaN</td>\n",
       "      <td>0.000000</td>\n",
       "      <td>NaN</td>\n",
       "      <td>u</td>\n",
       "      <td>Y</td>\n",
       "      <td>dot</td>\n",
       "      <td>Y_{\\dot{u}}</td>\n",
       "      <td>NaN</td>\n",
       "      <td>0.000000e+00</td>\n",
       "    </tr>\n",
       "    <tr>\n",
       "      <th>Yv</th>\n",
       "      <td>0.000000e+00</td>\n",
       "      <td>-64.547235</td>\n",
       "      <td>-65.276254</td>\n",
       "      <td>-pi*T**2*(0.4*B*CB/T + 1)/L**2</td>\n",
       "      <td>-0.009713</td>\n",
       "      <td>-64.911745</td>\n",
       "      <td>v</td>\n",
       "      <td>Y</td>\n",
       "      <td></td>\n",
       "      <td>Y_{v}</td>\n",
       "      <td>-8.506370e-04</td>\n",
       "      <td>-8.506370e-04</td>\n",
       "    </tr>\n",
       "    <tr>\n",
       "      <th>Yvdot</th>\n",
       "      <td>NaN</td>\n",
       "      <td>NaN</td>\n",
       "      <td>NaN</td>\n",
       "      <td>-pi*T**2*(-5.1*B**2/L**2 + 0.16*B*CB/T + 1)/L**2</td>\n",
       "      <td>-0.006109</td>\n",
       "      <td>NaN</td>\n",
       "      <td>v</td>\n",
       "      <td>Y</td>\n",
       "      <td>dot</td>\n",
       "      <td>Y_{\\dot{v}}</td>\n",
       "      <td>NaN</td>\n",
       "      <td>-6.109387e-03</td>\n",
       "    </tr>\n",
       "  </tbody>\n",
       "</table>\n",
       "</div>"
      ],
      "text/plain": [
       "             $P_{value}$  $conf_{higher}$  $conf_{lower}$  \\\n",
       "Ndelta      0.000000e+00     -3256.879391    -3350.548187   \n",
       "Ndeltadot            NaN              NaN             NaN   \n",
       "Nr          0.000000e+00       -46.455405      -50.556987   \n",
       "Nrdot                NaN              NaN             NaN   \n",
       "Nu          9.279303e-01         2.138355       -1.949727   \n",
       "Nudot                NaN              NaN             NaN   \n",
       "Nv          0.000000e+00      2497.781092     2285.111174   \n",
       "Nvdot                NaN              NaN             NaN   \n",
       "Xdelta      2.317182e-01         0.295950       -0.071661   \n",
       "Xdeltadot            NaN              NaN             NaN   \n",
       "Xr          5.323915e-01         0.005485       -0.010612   \n",
       "Xrdot                NaN              NaN             NaN   \n",
       "Xu         4.726746e-305         0.170246        0.154202   \n",
       "Xudot                NaN              NaN             NaN   \n",
       "Xv          2.776561e-06        -0.581347       -1.415989   \n",
       "Xvdot                NaN              NaN             NaN   \n",
       "Ydelta      0.000000e+00        12.181755       11.860664   \n",
       "Ydeltadot            NaN              NaN             NaN   \n",
       "Yr          0.000000e+00         0.841532        0.827472   \n",
       "Yrdot                NaN              NaN             NaN   \n",
       "Yu         5.561104e-305        -0.134669       -0.148683   \n",
       "Yudot                NaN              NaN             NaN   \n",
       "Yv          0.000000e+00       -64.547235      -65.276254   \n",
       "Yvdot                NaN              NaN             NaN   \n",
       "\n",
       "                                                        brix  brix_prime  \\\n",
       "Ndelta                                                   NaN   -0.002500   \n",
       "Ndeltadot                                                NaN    0.000000   \n",
       "Nr               -pi*T**2*(0.039*B/T - 0.56*B/L + 0.25)/L**2   -0.001719   \n",
       "Nrdot      -pi*T**2*(0.017*B*CB/T - 0.33*B/L + 0.08333333...   -0.000299   \n",
       "Nu                                                       NaN    0.000000   \n",
       "Nudot                                                    NaN    0.000000   \n",
       "Nv                             -pi*T**2*(0.5 + 2.4*T/L)/L**2   -0.003184   \n",
       "Nvdot                    -pi*T**2*(-0.04*B/T + 1.1*B/L)/L**2   -0.000128   \n",
       "Xdelta                                                   NaN    0.000000   \n",
       "Xdeltadot                                                NaN    0.000000   \n",
       "Xr                                                       NaN    0.000000   \n",
       "Xrdot                                                    NaN    0.000000   \n",
       "Xu                                                       NaN    0.000000   \n",
       "Xudot                                                    NaN    0.000000   \n",
       "Xv                                                       NaN    0.000000   \n",
       "Xvdot                                                    NaN    0.000000   \n",
       "Ydelta                                                   NaN    0.005000   \n",
       "Ydeltadot                                                NaN    0.000000   \n",
       "Yr                 -pi*T**2*(-0.08*B/T + 2.2*B/L - 0.5)/L**2    0.002402   \n",
       "Yrdot           -pi*T**2*(-0.0033*B**2/T**2 + 0.67*B/L)/L**2   -0.000303   \n",
       "Yu                                                       NaN    0.000000   \n",
       "Yudot                                                    NaN    0.000000   \n",
       "Yv                            -pi*T**2*(0.4*B*CB/T + 1)/L**2   -0.009713   \n",
       "Yvdot       -pi*T**2*(-5.1*B**2/L**2 + 0.16*B*CB/T + 1)/L**2   -0.006109   \n",
       "\n",
       "                 coeff   coord dof state            symbol     regressed  \\\n",
       "Ndelta    -3303.713789  \\delta   N              N_{\\delta}  2.431105e-03   \n",
       "Ndeltadot          NaN  \\delta   N   dot  N_{\\dot{\\delta}}           NaN   \n",
       "Nr          -48.506196       r   N                   N_{r}  3.569427e-05   \n",
       "Nrdot              NaN       r   N   dot       N_{\\dot{r}}           NaN   \n",
       "Nu            0.094314       u   N                   N_{u} -6.940280e-08   \n",
       "Nudot              NaN       u   N   dot       N_{\\dot{u}}           NaN   \n",
       "Nv         2391.446133       v   N                   N_{v} -1.759794e-03   \n",
       "Nvdot              NaN       v   N   dot       N_{\\dot{v}}           NaN   \n",
       "Xdelta        0.112145  \\delta   X              X_{\\delta}  7.844654e-07   \n",
       "Xdeltadot          NaN  \\delta   X   dot  X_{\\dot{\\delta}}           NaN   \n",
       "Xr           -0.002564       r   X                   X_{r} -1.793225e-08   \n",
       "Xrdot              NaN       r   X   dot       X_{\\dot{r}}           NaN   \n",
       "Xu            0.162224       u   X                   X_{u}  1.134775e-06   \n",
       "Xudot              NaN       u   X   dot       X_{\\dot{u}}           NaN   \n",
       "Xv           -0.998668       v   X                   X_{v} -6.985812e-06   \n",
       "Xvdot              NaN       v   X   dot       X_{\\dot{v}}           NaN   \n",
       "Ydelta       12.021209  \\delta   Y              Y_{\\delta}  1.575321e-04   \n",
       "Ydeltadot          NaN  \\delta   Y   dot  Y_{\\dot{\\delta}}           NaN   \n",
       "Yr            0.834502       r   Y                   Y_{r}  1.093574e-05   \n",
       "Yrdot              NaN       r   Y   dot       Y_{\\dot{r}}           NaN   \n",
       "Yu           -0.141676       u   Y                   Y_{u} -1.856594e-06   \n",
       "Yudot              NaN       u   Y   dot       Y_{\\dot{u}}           NaN   \n",
       "Yv          -64.911745       v   Y                   Y_{v} -8.506370e-04   \n",
       "Yvdot              NaN       v   Y   dot       Y_{\\dot{v}}           NaN   \n",
       "\n",
       "                  prime  \n",
       "Ndelta     2.431105e-03  \n",
       "Ndeltadot  0.000000e+00  \n",
       "Nr         3.569427e-05  \n",
       "Nrdot     -2.986748e-04  \n",
       "Nu        -6.940280e-08  \n",
       "Nudot      0.000000e+00  \n",
       "Nv        -1.759794e-03  \n",
       "Nvdot     -1.282544e-04  \n",
       "Xdelta     7.844654e-07  \n",
       "Xdeltadot  0.000000e+00  \n",
       "Xr        -1.793225e-08  \n",
       "Xrdot      0.000000e+00  \n",
       "Xu         1.134775e-06  \n",
       "Xudot      0.000000e+00  \n",
       "Xv        -6.985812e-06  \n",
       "Xvdot      0.000000e+00  \n",
       "Ydelta     1.575321e-04  \n",
       "Ydeltadot  0.000000e+00  \n",
       "Yr         1.093574e-05  \n",
       "Yrdot     -3.031378e-04  \n",
       "Yu        -1.856594e-06  \n",
       "Yudot      0.000000e+00  \n",
       "Yv        -8.506370e-04  \n",
       "Yvdot     -6.109387e-03  "
      ]
     },
     "execution_count": 145,
     "metadata": {},
     "output_type": "execute_result"
    }
   ],
   "source": [
    "df_parameters_all"
   ]
  },
  {
   "cell_type": "code",
   "execution_count": 146,
   "metadata": {},
   "outputs": [
    {
     "data": {
      "image/png": "[encoded data removed]",
      "text/plain": [
       "<Figure size 1080x360 with 1 Axes>"
      ]
     },
     "metadata": {
      "needs_background": "light"
     },
     "output_type": "display_data"
    },
    {
     "data": {
      "image/png": "[encoded data removed]",
      "text/plain": [
       "<Figure size 1080x360 with 1 Axes>"
      ]
     },
     "metadata": {
      "needs_background": "light"
     },
     "output_type": "display_data"
    },
    {
     "data": {
      "image/png": "[encoded data removed]",
      "text/plain": [
       "<Figure size 1080x360 with 1 Axes>"
      ]
     },
     "metadata": {
      "needs_background": "light"
     },
     "output_type": "display_data"
    }
   ],
   "source": [
    "for dof, group in df_parameters_all.groupby(by='dof'):\n",
    "    \n",
    "    fig,ax=plt.subplots()\n",
    "    fig.set_size_inches(15,5)\n",
    "\n",
    "    group.plot.bar(y=['brix_prime','regressed'], ax=ax);"
   ]
  },
  {
   "cell_type": "markdown",
   "metadata": {},
   "source": [
    "# Simulation"
   ]
  },
  {
   "cell_type": "code",
   "execution_count": 147,
   "metadata": {},
   "outputs": [
    {
     "data": {
      "text/plain": [
       "<AxesSubplot:xlabel='time'>"
      ]
     },
     "execution_count": 147,
     "metadata": {},
     "output_type": "execute_result"
    },
    {
     "data": {
      "image/png": "[encoded data removed]",
      "text/plain": [
       "<Figure size 432x288 with 1 Axes>"
      ]
     },
     "metadata": {
      "needs_background": "light"
     },
     "output_type": "display_data"
    },
    {
     "data": {
      "image/png": "[encoded data removed]",
      "text/plain": [
       "<Figure size 432x288 with 1 Axes>"
      ]
     },
     "metadata": {
      "needs_background": "light"
     },
     "output_type": "display_data"
    },
    {
     "data": {
      "image/png": "[encoded data removed]",
      "text/plain": [
       "<Figure size 432x288 with 1 Axes>"
      ]
     },
     "metadata": {
      "needs_background": "light"
     },
     "output_type": "display_data"
    }
   ],
   "source": [
    "df_ = df.copy()\n",
    "t = df_.index\n",
    "control = df_[['delta']]\n",
    "#control = {'delta':0,}\n",
    "\n",
    "df_0 = df_.iloc[0:100].median(axis=0)\n",
    "y0 = {\n",
    "    'u' : df_0['u'], \n",
    "    'v' : df_0['v'],\n",
    "    'r' : df_0['r'],\n",
    "    'x0' : df_0['x0'],\n",
    "    'y0' : df_0['y0'],\n",
    "    'psi' : df_0['psi'],\n",
    "    }\n",
    "\n",
    "#solution = model.simulate(y0=y0, t=t, df_parameters=df_parameters, df_ship_parameters=df_ship_parameters, control=control, rtol=1e-3, atol=1e-3)\n",
    "solution = model.simulate(y0=y0, t=t, df_parameters=df_parameters_all, ship_parameters=ship_parameters, control=control)\n",
    "\n",
    "columns = list(y0.keys())\n",
    "df_result_prime = pd.DataFrame(data=solution.y.T, columns=columns)\n",
    "df_result_prime.index=t[0:len(df_result_prime)]\n",
    "\n",
    "#df_result_prime['U'] = np.sqrt(df_result_prime['u']**2 + df_result_prime['v']**2)\n",
    "\n",
    "df_result_prime.plot(y='u')\n",
    "df_result_prime.plot(y='v')\n",
    "df_result_prime.plot(y='r')\n"
   ]
  },
  {
   "cell_type": "code",
   "execution_count": 148,
   "metadata": {},
   "outputs": [],
   "source": [
    "U_ = np.sqrt(df_0['u']**2 + df_0['v']**2)\n",
    "df_result = ps.unprime(values=df_result_prime, U=U_)\n",
    "df_result['beta'] = -np.arctan2(df_result['v'],df_result['u'])"
   ]
  },
  {
   "cell_type": "code",
   "execution_count": 149,
   "metadata": {},
   "outputs": [
    {
     "data": {
      "image/png": "[encoded data removed]",
      "text/plain": [
       "<Figure size 432x288 with 1 Axes>"
      ]
     },
     "metadata": {
      "needs_background": "light"
     },
     "output_type": "display_data"
    },
    {
     "data": {
      "image/png": "[encoded data removed]",
      "text/plain": [
       "<Figure size 432x288 with 1 Axes>"
      ]
     },
     "metadata": {
      "needs_background": "light"
     },
     "output_type": "display_data"
    },
    {
     "data": {
      "image/png": "[encoded data removed]",
      "text/plain": [
       "<Figure size 432x288 with 1 Axes>"
      ]
     },
     "metadata": {
      "needs_background": "light"
     },
     "output_type": "display_data"
    },
    {
     "data": {
      "image/png": "[encoded data removed]",
      "text/plain": [
       "<Figure size 432x288 with 1 Axes>"
      ]
     },
     "metadata": {
      "needs_background": "light"
     },
     "output_type": "display_data"
    },
    {
     "data": {
      "image/png": "[encoded data removed]",
      "text/plain": [
       "<Figure size 432x288 with 1 Axes>"
      ]
     },
     "metadata": {
      "needs_background": "light"
     },
     "output_type": "display_data"
    },
    {
     "data": {
      "image/png": "[encoded data removed]",
      "text/plain": [
       "<Figure size 432x288 with 1 Axes>"
      ]
     },
     "metadata": {
      "needs_background": "light"
     },
     "output_type": "display_data"
    },
    {
     "data": {
      "image/png": "[encoded data removed]",
      "text/plain": [
       "<Figure size 432x288 with 1 Axes>"
      ]
     },
     "metadata": {
      "needs_background": "light"
     },
     "output_type": "display_data"
    },
    {
     "data": {
      "image/png": "[encoded data removed]",
      "text/plain": [
       "<Figure size 432x288 with 1 Axes>"
      ]
     },
     "metadata": {
      "needs_background": "light"
     },
     "output_type": "display_data"
    }
   ],
   "source": [
    "fig,ax=plt.subplots()\n",
    "track_plot(df=df, lpp=ship_parameters['L'], beam=ship_parameters['B'],ax=ax, label='model test')\n",
    "track_plot(df=df_result, lpp=ship_parameters['L'], beam=ship_parameters['B'],ax=ax, label='simulation', color='green')\n",
    "ax.legend()\n",
    "\n",
    "\n",
    "for key in df_result:\n",
    "    fig,ax = plt.subplots()\n",
    "    df.plot(y=key, label='model test', ax=ax)\n",
    "    df_result.plot(y=key, label='simulation', ax=ax)\n",
    "    ax.set_ylabel(key)\n",
    "\n"
   ]
  },
  {
   "cell_type": "code",
   "execution_count": null,
   "metadata": {},
   "outputs": [],
   "source": []
  },
  {
   "cell_type": "code",
   "execution_count": null,
   "metadata": {},
   "outputs": [],
   "source": []
  },
  {
   "cell_type": "code",
   "execution_count": 41,
   "metadata": {},
   "outputs": [],
   "source": [
    "eqs = [diff_eq_X.acceleration_equation, diff_eq_Y.acceleration_equation, diff_eq_N.acceleration_equation]\n",
    "solution = sp.solve(eqs, u.diff(), v.diff(), r.diff(), dict=True)\n",
    "\n",
    "## Decouple the equations:\n",
    "u1d_eq = sp.Eq(u.diff(), solution[0][u.diff()]) \n",
    "v1d_eq = sp.Eq(v.diff(), solution[0][v.diff()]) \n",
    "r1d_eq = sp.Eq(r.diff(), solution[0][r.diff()]) \n",
    "\n",
    "## Lambdify:\n",
    "subs = {value:key for key,value in eq.p.items()}\n",
    "u1d_lambda = lambdify(u1d_eq.subs(subs).rhs)\n",
    "v1d_lambda = lambdify(v1d_eq.subs(subs).rhs)\n",
    "r1d_lambda = lambdify(r1d_eq.subs(subs).rhs)"
   ]
  },
  {
   "cell_type": "code",
   "execution_count": 42,
   "metadata": {},
   "outputs": [
    {
     "data": {
      "text/latex": [
       "$\\displaystyle \\dot{u} = X_{\\delta} \\delta + X_{r} r + X_{u} u + X_{v} v$"
      ],
      "text/plain": [
       "<IPython.core.display.Math object>"
      ]
     },
     "metadata": {},
     "output_type": "display_data"
    },
    {
     "data": {
      "text/latex": [
       "$\\displaystyle \\dot{v} = - U m r + Y_{\\delta} \\delta + Y_{r} r + Y_{u} u + Y_{v} v$"
      ],
      "text/plain": [
       "<IPython.core.display.Math object>"
      ]
     },
     "metadata": {},
     "output_type": "display_data"
    },
    {
     "data": {
      "text/latex": [
       "$\\displaystyle \\dot{r} = N_{\\delta} \\delta + N_{r} r + N_{u} u + N_{v} v$"
      ],
      "text/plain": [
       "<IPython.core.display.Math object>"
      ]
     },
     "metadata": {},
     "output_type": "display_data"
    }
   ],
   "source": [
    "display(Math(vlatex(u1d_eq)))\n",
    "display(Math(vlatex(v1d_eq)))\n",
    "display(Math(vlatex(r1d_eq)))"
   ]
  },
  {
   "cell_type": "code",
   "execution_count": null,
   "metadata": {},
   "outputs": [],
   "source": []
  },
  {
   "cell_type": "code",
   "execution_count": 43,
   "metadata": {},
   "outputs": [],
   "source": [
    "from scipy.spatial.transform import Rotation as R\n",
    "\n",
    "def step(t, states, parameters, df_control, meta_data):\n",
    "    \n",
    "    u,v,r,x0,y0,psi = states\n",
    "\n",
    "    states_dict = {\n",
    "        \n",
    "        'u':u,\n",
    "        'v':v,\n",
    "        'r':r,\n",
    "        \n",
    "        'x0':x0,\n",
    "        'y0':y0,\n",
    "        'psi':psi,\n",
    "        \n",
    "        }\n",
    "        \n",
    "    inputs = dict(parameters)\n",
    "    inputs.update(states_dict)\n",
    "    \n",
    "    index = np.argmin(np.array(np.abs(df_control.index - t)))\n",
    "    control = dict(df_control.iloc[index])\n",
    "    #print(f't:{t}, i:{index}')\n",
    "    inputs.update(control)\n",
    "    \n",
    "    inputs['U'] = np.sqrt(u**2 + v**2)  #Instantanious velocity\n",
    "    \n",
    "    if not 'u1d' in control:\n",
    "        u1d = -run(function=u1d_lambda, inputs=inputs)\n",
    "    else:\n",
    "        u1d = control['u1d']\n",
    "    \n",
    "    mass = meta_data['mass']\n",
    "    v1d = run(function=v1d_lambda, inputs=inputs) - u*r\n",
    "    #v1d = run(function=v1d_lambda, inputs=inputs)\n",
    "    \n",
    "    r1d = run(function=r1d_lambda, inputs=inputs)\n",
    "    \n",
    "    \n",
    "    rotation = R.from_euler('z', psi, degrees=False)\n",
    "    w = 0\n",
    "    velocities = rotation.apply([u,v,w])\n",
    "    x01d = velocities[0]\n",
    "    y01d = velocities[1]\n",
    "    psi1d = r    \n",
    "\n",
    "    dstates = [\n",
    "        u1d,\n",
    "        v1d,\n",
    "        r1d,\n",
    "        x01d,\n",
    "        y01d,\n",
    "        psi1d,\n",
    "    ]    \n",
    "    \n",
    "    #print(t)\n",
    "    \n",
    "    return dstates\n",
    "\n"
   ]
  },
  {
   "cell_type": "code",
   "execution_count": 44,
   "metadata": {},
   "outputs": [],
   "source": [
    "parameters = dict(results_summary_X['coeff'])  # Fix (-)\n",
    "parameters.update(dict(results_summary_Y['coeff']))   # Fix (-)\n",
    "parameters.update(dict(results_summary_N['coeff']))\n",
    "\n",
    "states = ['u','v','r','x0','y0','psi']\n",
    "states0 = [float(df[key].iloc[0]) for key in states]\n",
    "#df_control = df[['delta','u1d','u']]\n",
    "df_control = df[['delta']].copy()\n",
    "#df_control['delta']+=np.deg2rad(0.5)"
   ]
  },
  {
   "cell_type": "code",
   "execution_count": 45,
   "metadata": {},
   "outputs": [
    {
     "data": {
      "text/plain": [
       "delta   -0.174529\n",
       "Name: 10.000023000000002, dtype: float64"
      ]
     },
     "execution_count": 45,
     "metadata": {},
     "output_type": "execute_result"
    }
   ],
   "source": [
    "t_ = 10\n",
    "index = np.argmin(np.array(np.abs(df_control.index - t_)))\n",
    "df_control.iloc[index]"
   ]
  },
  {
   "cell_type": "code",
   "execution_count": 46,
   "metadata": {},
   "outputs": [
    {
     "data": {
      "text/plain": [
       "True"
      ]
     },
     "execution_count": 46,
     "metadata": {},
     "output_type": "execute_result"
    }
   ],
   "source": [
    "(np.diff(df_control.index) > 0).all()"
   ]
  },
  {
   "cell_type": "code",
   "execution_count": 47,
   "metadata": {
    "tags": []
   },
   "outputs": [
    {
     "ename": "ValueError",
     "evalue": "Sympy lambda function misses:['m', 'Yr']",
     "output_type": "error",
     "traceback": [
      "\u001b[1;31m---------------------------------------------------------------------------\u001b[0m",
      "\u001b[1;31mValueError\u001b[0m                                Traceback (most recent call last)",
      "\u001b[1;32m<ipython-input-47-8d4312a13b11>\u001b[0m in \u001b[0;36m<module>\u001b[1;34m\u001b[0m\n\u001b[0;32m      3\u001b[0m \u001b[0mt\u001b[0m \u001b[1;33m=\u001b[0m \u001b[0mnp\u001b[0m\u001b[1;33m.\u001b[0m\u001b[0marray\u001b[0m\u001b[1;33m(\u001b[0m\u001b[0mdf_\u001b[0m\u001b[1;33m.\u001b[0m\u001b[0mindex\u001b[0m\u001b[1;33m)\u001b[0m\u001b[1;33m\u001b[0m\u001b[1;33m\u001b[0m\u001b[0m\n\u001b[0;32m      4\u001b[0m \u001b[0mt_span\u001b[0m \u001b[1;33m=\u001b[0m \u001b[1;33m[\u001b[0m\u001b[0mt\u001b[0m\u001b[1;33m[\u001b[0m\u001b[1;36m0\u001b[0m\u001b[1;33m]\u001b[0m\u001b[1;33m,\u001b[0m\u001b[0mt\u001b[0m\u001b[1;33m[\u001b[0m\u001b[1;33m-\u001b[0m\u001b[1;36m1\u001b[0m\u001b[1;33m]\u001b[0m\u001b[1;33m]\u001b[0m\u001b[1;33m\u001b[0m\u001b[1;33m\u001b[0m\u001b[0m\n\u001b[1;32m----> 5\u001b[1;33m \u001b[0msolution\u001b[0m \u001b[1;33m=\u001b[0m \u001b[0msolve_ivp\u001b[0m\u001b[1;33m(\u001b[0m\u001b[0mfun\u001b[0m\u001b[1;33m=\u001b[0m\u001b[0mstep\u001b[0m\u001b[1;33m,\u001b[0m \u001b[0mt_span\u001b[0m\u001b[1;33m=\u001b[0m\u001b[0mt_span\u001b[0m\u001b[1;33m,\u001b[0m \u001b[0my0\u001b[0m\u001b[1;33m=\u001b[0m\u001b[0mstates0\u001b[0m\u001b[1;33m,\u001b[0m \u001b[0mt_eval\u001b[0m\u001b[1;33m=\u001b[0m\u001b[0mt\u001b[0m\u001b[1;33m,\u001b[0m \u001b[0margs\u001b[0m\u001b[1;33m=\u001b[0m\u001b[1;33m(\u001b[0m\u001b[0mparameters\u001b[0m\u001b[1;33m,\u001b[0m \u001b[0mdf_control\u001b[0m\u001b[1;33m,\u001b[0m \u001b[0mmeta_data\u001b[0m\u001b[1;33m)\u001b[0m\u001b[1;33m,\u001b[0m \u001b[0mmethod\u001b[0m\u001b[1;33m=\u001b[0m\u001b[1;34m'RK45'\u001b[0m\u001b[1;33m)\u001b[0m\u001b[1;33m\u001b[0m\u001b[1;33m\u001b[0m\u001b[0m\n\u001b[0m",
      "\u001b[1;32me:\\dev\\wpcc\\venv\\lib\\site-packages\\scipy\\integrate\\_ivp\\ivp.py\u001b[0m in \u001b[0;36msolve_ivp\u001b[1;34m(fun, t_span, y0, method, t_eval, dense_output, events, vectorized, args, **options)\u001b[0m\n\u001b[0;32m    540\u001b[0m         \u001b[0mmethod\u001b[0m \u001b[1;33m=\u001b[0m \u001b[0mMETHODS\u001b[0m\u001b[1;33m[\u001b[0m\u001b[0mmethod\u001b[0m\u001b[1;33m]\u001b[0m\u001b[1;33m\u001b[0m\u001b[1;33m\u001b[0m\u001b[0m\n\u001b[0;32m    541\u001b[0m \u001b[1;33m\u001b[0m\u001b[0m\n\u001b[1;32m--> 542\u001b[1;33m     \u001b[0msolver\u001b[0m \u001b[1;33m=\u001b[0m \u001b[0mmethod\u001b[0m\u001b[1;33m(\u001b[0m\u001b[0mfun\u001b[0m\u001b[1;33m,\u001b[0m \u001b[0mt0\u001b[0m\u001b[1;33m,\u001b[0m \u001b[0my0\u001b[0m\u001b[1;33m,\u001b[0m \u001b[0mtf\u001b[0m\u001b[1;33m,\u001b[0m \u001b[0mvectorized\u001b[0m\u001b[1;33m=\u001b[0m\u001b[0mvectorized\u001b[0m\u001b[1;33m,\u001b[0m \u001b[1;33m**\u001b[0m\u001b[0moptions\u001b[0m\u001b[1;33m)\u001b[0m\u001b[1;33m\u001b[0m\u001b[1;33m\u001b[0m\u001b[0m\n\u001b[0m\u001b[0;32m    543\u001b[0m \u001b[1;33m\u001b[0m\u001b[0m\n\u001b[0;32m    544\u001b[0m     \u001b[1;32mif\u001b[0m \u001b[0mt_eval\u001b[0m \u001b[1;32mis\u001b[0m \u001b[1;32mNone\u001b[0m\u001b[1;33m:\u001b[0m\u001b[1;33m\u001b[0m\u001b[1;33m\u001b[0m\u001b[0m\n",
      "\u001b[1;32me:\\dev\\wpcc\\venv\\lib\\site-packages\\scipy\\integrate\\_ivp\\rk.py\u001b[0m in \u001b[0;36m__init__\u001b[1;34m(self, fun, t0, y0, t_bound, max_step, rtol, atol, vectorized, first_step, **extraneous)\u001b[0m\n\u001b[0;32m     92\u001b[0m         \u001b[0mself\u001b[0m\u001b[1;33m.\u001b[0m\u001b[0mmax_step\u001b[0m \u001b[1;33m=\u001b[0m \u001b[0mvalidate_max_step\u001b[0m\u001b[1;33m(\u001b[0m\u001b[0mmax_step\u001b[0m\u001b[1;33m)\u001b[0m\u001b[1;33m\u001b[0m\u001b[1;33m\u001b[0m\u001b[0m\n\u001b[0;32m     93\u001b[0m         \u001b[0mself\u001b[0m\u001b[1;33m.\u001b[0m\u001b[0mrtol\u001b[0m\u001b[1;33m,\u001b[0m \u001b[0mself\u001b[0m\u001b[1;33m.\u001b[0m\u001b[0matol\u001b[0m \u001b[1;33m=\u001b[0m \u001b[0mvalidate_tol\u001b[0m\u001b[1;33m(\u001b[0m\u001b[0mrtol\u001b[0m\u001b[1;33m,\u001b[0m \u001b[0matol\u001b[0m\u001b[1;33m,\u001b[0m \u001b[0mself\u001b[0m\u001b[1;33m.\u001b[0m\u001b[0mn\u001b[0m\u001b[1;33m)\u001b[0m\u001b[1;33m\u001b[0m\u001b[1;33m\u001b[0m\u001b[0m\n\u001b[1;32m---> 94\u001b[1;33m         \u001b[0mself\u001b[0m\u001b[1;33m.\u001b[0m\u001b[0mf\u001b[0m \u001b[1;33m=\u001b[0m \u001b[0mself\u001b[0m\u001b[1;33m.\u001b[0m\u001b[0mfun\u001b[0m\u001b[1;33m(\u001b[0m\u001b[0mself\u001b[0m\u001b[1;33m.\u001b[0m\u001b[0mt\u001b[0m\u001b[1;33m,\u001b[0m \u001b[0mself\u001b[0m\u001b[1;33m.\u001b[0m\u001b[0my\u001b[0m\u001b[1;33m)\u001b[0m\u001b[1;33m\u001b[0m\u001b[1;33m\u001b[0m\u001b[0m\n\u001b[0m\u001b[0;32m     95\u001b[0m         \u001b[1;32mif\u001b[0m \u001b[0mfirst_step\u001b[0m \u001b[1;32mis\u001b[0m \u001b[1;32mNone\u001b[0m\u001b[1;33m:\u001b[0m\u001b[1;33m\u001b[0m\u001b[1;33m\u001b[0m\u001b[0m\n\u001b[0;32m     96\u001b[0m             self.h_abs = select_initial_step(\n",
      "\u001b[1;32me:\\dev\\wpcc\\venv\\lib\\site-packages\\scipy\\integrate\\_ivp\\base.py\u001b[0m in \u001b[0;36mfun\u001b[1;34m(t, y)\u001b[0m\n\u001b[0;32m    136\u001b[0m         \u001b[1;32mdef\u001b[0m \u001b[0mfun\u001b[0m\u001b[1;33m(\u001b[0m\u001b[0mt\u001b[0m\u001b[1;33m,\u001b[0m \u001b[0my\u001b[0m\u001b[1;33m)\u001b[0m\u001b[1;33m:\u001b[0m\u001b[1;33m\u001b[0m\u001b[1;33m\u001b[0m\u001b[0m\n\u001b[0;32m    137\u001b[0m             \u001b[0mself\u001b[0m\u001b[1;33m.\u001b[0m\u001b[0mnfev\u001b[0m \u001b[1;33m+=\u001b[0m \u001b[1;36m1\u001b[0m\u001b[1;33m\u001b[0m\u001b[1;33m\u001b[0m\u001b[0m\n\u001b[1;32m--> 138\u001b[1;33m             \u001b[1;32mreturn\u001b[0m \u001b[0mself\u001b[0m\u001b[1;33m.\u001b[0m\u001b[0mfun_single\u001b[0m\u001b[1;33m(\u001b[0m\u001b[0mt\u001b[0m\u001b[1;33m,\u001b[0m \u001b[0my\u001b[0m\u001b[1;33m)\u001b[0m\u001b[1;33m\u001b[0m\u001b[1;33m\u001b[0m\u001b[0m\n\u001b[0m\u001b[0;32m    139\u001b[0m \u001b[1;33m\u001b[0m\u001b[0m\n\u001b[0;32m    140\u001b[0m         \u001b[0mself\u001b[0m\u001b[1;33m.\u001b[0m\u001b[0mfun\u001b[0m \u001b[1;33m=\u001b[0m \u001b[0mfun\u001b[0m\u001b[1;33m\u001b[0m\u001b[1;33m\u001b[0m\u001b[0m\n",
      "\u001b[1;32me:\\dev\\wpcc\\venv\\lib\\site-packages\\scipy\\integrate\\_ivp\\base.py\u001b[0m in \u001b[0;36mfun_wrapped\u001b[1;34m(t, y)\u001b[0m\n\u001b[0;32m     18\u001b[0m \u001b[1;33m\u001b[0m\u001b[0m\n\u001b[0;32m     19\u001b[0m     \u001b[1;32mdef\u001b[0m \u001b[0mfun_wrapped\u001b[0m\u001b[1;33m(\u001b[0m\u001b[0mt\u001b[0m\u001b[1;33m,\u001b[0m \u001b[0my\u001b[0m\u001b[1;33m)\u001b[0m\u001b[1;33m:\u001b[0m\u001b[1;33m\u001b[0m\u001b[1;33m\u001b[0m\u001b[0m\n\u001b[1;32m---> 20\u001b[1;33m         \u001b[1;32mreturn\u001b[0m \u001b[0mnp\u001b[0m\u001b[1;33m.\u001b[0m\u001b[0masarray\u001b[0m\u001b[1;33m(\u001b[0m\u001b[0mfun\u001b[0m\u001b[1;33m(\u001b[0m\u001b[0mt\u001b[0m\u001b[1;33m,\u001b[0m \u001b[0my\u001b[0m\u001b[1;33m)\u001b[0m\u001b[1;33m,\u001b[0m \u001b[0mdtype\u001b[0m\u001b[1;33m=\u001b[0m\u001b[0mdtype\u001b[0m\u001b[1;33m)\u001b[0m\u001b[1;33m\u001b[0m\u001b[1;33m\u001b[0m\u001b[0m\n\u001b[0m\u001b[0;32m     21\u001b[0m \u001b[1;33m\u001b[0m\u001b[0m\n\u001b[0;32m     22\u001b[0m     \u001b[1;32mreturn\u001b[0m \u001b[0mfun_wrapped\u001b[0m\u001b[1;33m,\u001b[0m \u001b[0my0\u001b[0m\u001b[1;33m\u001b[0m\u001b[1;33m\u001b[0m\u001b[0m\n",
      "\u001b[1;32me:\\dev\\wpcc\\venv\\lib\\site-packages\\scipy\\integrate\\_ivp\\ivp.py\u001b[0m in \u001b[0;36m<lambda>\u001b[1;34m(t, x, fun)\u001b[0m\n\u001b[0;32m    512\u001b[0m         \u001b[1;31m# additional parameters.  Pass in the original fun as a keyword\u001b[0m\u001b[1;33m\u001b[0m\u001b[1;33m\u001b[0m\u001b[1;33m\u001b[0m\u001b[0m\n\u001b[0;32m    513\u001b[0m         \u001b[1;31m# argument to keep it in the scope of the lambda.\u001b[0m\u001b[1;33m\u001b[0m\u001b[1;33m\u001b[0m\u001b[1;33m\u001b[0m\u001b[0m\n\u001b[1;32m--> 514\u001b[1;33m         \u001b[0mfun\u001b[0m \u001b[1;33m=\u001b[0m \u001b[1;32mlambda\u001b[0m \u001b[0mt\u001b[0m\u001b[1;33m,\u001b[0m \u001b[0mx\u001b[0m\u001b[1;33m,\u001b[0m \u001b[0mfun\u001b[0m\u001b[1;33m=\u001b[0m\u001b[0mfun\u001b[0m\u001b[1;33m:\u001b[0m \u001b[0mfun\u001b[0m\u001b[1;33m(\u001b[0m\u001b[0mt\u001b[0m\u001b[1;33m,\u001b[0m \u001b[0mx\u001b[0m\u001b[1;33m,\u001b[0m \u001b[1;33m*\u001b[0m\u001b[0margs\u001b[0m\u001b[1;33m)\u001b[0m\u001b[1;33m\u001b[0m\u001b[1;33m\u001b[0m\u001b[0m\n\u001b[0m\u001b[0;32m    515\u001b[0m         \u001b[0mjac\u001b[0m \u001b[1;33m=\u001b[0m \u001b[0moptions\u001b[0m\u001b[1;33m.\u001b[0m\u001b[0mget\u001b[0m\u001b[1;33m(\u001b[0m\u001b[1;34m'jac'\u001b[0m\u001b[1;33m)\u001b[0m\u001b[1;33m\u001b[0m\u001b[1;33m\u001b[0m\u001b[0m\n\u001b[0;32m    516\u001b[0m         \u001b[1;32mif\u001b[0m \u001b[0mcallable\u001b[0m\u001b[1;33m(\u001b[0m\u001b[0mjac\u001b[0m\u001b[1;33m)\u001b[0m\u001b[1;33m:\u001b[0m\u001b[1;33m\u001b[0m\u001b[1;33m\u001b[0m\u001b[0m\n",
      "\u001b[1;32m<ipython-input-43-a5b116effab0>\u001b[0m in \u001b[0;36mstep\u001b[1;34m(t, states, parameters, df_control, meta_data)\u001b[0m\n\u001b[0;32m     33\u001b[0m \u001b[1;33m\u001b[0m\u001b[0m\n\u001b[0;32m     34\u001b[0m     \u001b[0mmass\u001b[0m \u001b[1;33m=\u001b[0m \u001b[0mmeta_data\u001b[0m\u001b[1;33m[\u001b[0m\u001b[1;34m'mass'\u001b[0m\u001b[1;33m]\u001b[0m\u001b[1;33m\u001b[0m\u001b[1;33m\u001b[0m\u001b[0m\n\u001b[1;32m---> 35\u001b[1;33m     \u001b[0mv1d\u001b[0m \u001b[1;33m=\u001b[0m \u001b[0mrun\u001b[0m\u001b[1;33m(\u001b[0m\u001b[0mfunction\u001b[0m\u001b[1;33m=\u001b[0m\u001b[0mv1d_lambda\u001b[0m\u001b[1;33m,\u001b[0m \u001b[0minputs\u001b[0m\u001b[1;33m=\u001b[0m\u001b[0minputs\u001b[0m\u001b[1;33m)\u001b[0m \u001b[1;33m-\u001b[0m \u001b[0mu\u001b[0m\u001b[1;33m*\u001b[0m\u001b[0mr\u001b[0m\u001b[1;33m\u001b[0m\u001b[1;33m\u001b[0m\u001b[0m\n\u001b[0m\u001b[0;32m     36\u001b[0m     \u001b[1;31m#v1d = run(function=v1d_lambda, inputs=inputs)\u001b[0m\u001b[1;33m\u001b[0m\u001b[1;33m\u001b[0m\u001b[1;33m\u001b[0m\u001b[0m\n\u001b[0;32m     37\u001b[0m \u001b[1;33m\u001b[0m\u001b[0m\n",
      "\u001b[1;32me:\\dev\\wpcc\\src\\substitute_dynamic_symbols.py\u001b[0m in \u001b[0;36mrun\u001b[1;34m(function, inputs, **kwargs)\u001b[0m\n\u001b[0;32m    112\u001b[0m \u001b[1;33m\u001b[0m\u001b[0m\n\u001b[0;32m    113\u001b[0m     \u001b[1;32mif\u001b[0m \u001b[0mlen\u001b[0m\u001b[1;33m(\u001b[0m\u001b[0mmissing\u001b[0m\u001b[1;33m)\u001b[0m \u001b[1;33m>\u001b[0m \u001b[1;36m0\u001b[0m\u001b[1;33m:\u001b[0m\u001b[1;33m\u001b[0m\u001b[1;33m\u001b[0m\u001b[0m\n\u001b[1;32m--> 114\u001b[1;33m         \u001b[1;32mraise\u001b[0m \u001b[0mValueError\u001b[0m\u001b[1;33m(\u001b[0m\u001b[1;34m'Sympy lambda function misses:%s'\u001b[0m \u001b[1;33m%\u001b[0m \u001b[1;33m(\u001b[0m\u001b[0mmissing\u001b[0m\u001b[1;33m)\u001b[0m\u001b[1;33m)\u001b[0m\u001b[1;33m\u001b[0m\u001b[1;33m\u001b[0m\u001b[0m\n\u001b[0m\u001b[0;32m    115\u001b[0m \u001b[1;33m\u001b[0m\u001b[0m\n\u001b[0;32m    116\u001b[0m     \u001b[1;32mreturn\u001b[0m \u001b[0mfunction\u001b[0m\u001b[1;33m(\u001b[0m\u001b[1;33m**\u001b[0m\u001b[0minputs\u001b[0m\u001b[1;33m[\u001b[0m\u001b[0minput_names\u001b[0m\u001b[1;33m]\u001b[0m\u001b[1;33m)\u001b[0m\u001b[1;33m\u001b[0m\u001b[1;33m\u001b[0m\u001b[0m\n",
      "\u001b[1;31mValueError\u001b[0m: Sympy lambda function misses:['m', 'Yr']"
     ]
    }
   ],
   "source": [
    "## Simulate:\n",
    "df_ = df.copy()\n",
    "t = np.array(df_.index)\n",
    "t_span = [t[0],t[-1]]\n",
    "solution = solve_ivp(fun=step, t_span=t_span, y0=states0, t_eval=t, args=(parameters, df_control, meta_data), method='RK45')"
   ]
  },
  {
   "cell_type": "code",
   "execution_count": null,
   "metadata": {},
   "outputs": [],
   "source": [
    "df_result = pd.DataFrame(data=solution.y.T, columns=states)\n",
    "df_result.index=t"
   ]
  },
  {
   "cell_type": "code",
   "execution_count": null,
   "metadata": {},
   "outputs": [],
   "source": [
    "fig,ax=plt.subplots()\n",
    "#fig.set_size_inches(15,15)\n",
    "track_plot(df=df_, lpp=meta_data['lpp'], beam=meta_data['beam'], ax=ax, color='k', label='model test');\n",
    "track_plot(df=df_result, lpp=meta_data['lpp'], beam=meta_data['beam'], ax=ax, color='g', label='simulation');\n",
    "ax.legend()"
   ]
  },
  {
   "cell_type": "code",
   "execution_count": null,
   "metadata": {},
   "outputs": [],
   "source": [
    "fig,ax=plt.subplots()\n",
    "df_['-delta'] = -df_['delta']\n",
    "df_.plot(y='-delta', style='--', ax=ax)\n",
    "df_.plot(y='psi', ax=ax, label='model test')\n",
    "df_result.plot(y='psi', ax=ax, label='simulation')\n",
    "ax.legend()\n",
    "\n",
    "\n",
    "for key in ['u','v','r']:\n",
    "    \n",
    "    fig,ax=plt.subplots()\n",
    "    df_.plot(y=key, ax=ax, label='model test')\n",
    "    df_result.plot(y=key, ax=ax, label='simulation')\n",
    "    ax.set_ylabel(key)\n"
   ]
  },
  {
   "cell_type": "code",
   "execution_count": null,
   "metadata": {},
   "outputs": [],
   "source": []
  }
 ],
 "metadata": {
  "kernelspec": {
   "display_name": "Python 3",
   "language": "python",
   "name": "python3"
  },
  "language_info": {
   "codemirror_mode": {
    "name": "ipython",
    "version": 3
   },
   "file_extension": ".py",
   "mimetype": "text/x-python",
   "name": "python",
   "nbconvert_exporter": "python",
   "pygments_lexer": "ipython3",
   "version": "3.9.5"
  }
 },
 "nbformat": 4,
 "nbformat_minor": 4
}
