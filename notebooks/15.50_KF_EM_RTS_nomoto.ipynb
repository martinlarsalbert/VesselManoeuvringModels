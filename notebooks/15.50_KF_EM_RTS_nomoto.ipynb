{
 "cells": [
  {
   "cell_type": "markdown",
   "id": "4de15cda-ec35-4ee4-b7ea-c71bcd493848",
   "metadata": {},
   "source": [
    "# KF EM RTS Nomoto"
   ]
  },
  {
   "cell_type": "code",
   "execution_count": null,
   "id": "63bf0d6a-6a10-4f79-bdb0-6ffc96908c1a",
   "metadata": {},
   "outputs": [],
   "source": [
    "%load_ext autoreload\n",
    "%autoreload 2\n",
    "\n",
    "import matplotlib.pyplot as plt\n",
    "import pandas as pd\n",
    "import numpy as np\n",
    "from vessel_manoeuvring_models.extended_kalman_filter import extended_kalman_filter, simulate, rts_smoother\n",
    "import vessel_manoeuvring_models.extended_kalman_filter as ekf\n",
    "from vessel_manoeuvring_models.visualization.plot import plot\n",
    "\n",
    "\n",
    "import vessel_manoeuvring_models.visualization.book_format as book_format\n",
    "book_format.set_style()"
   ]
  },
  {
   "cell_type": "code",
   "execution_count": null,
   "id": "e5f51422-1dc9-4928-b28d-72e451d57a91",
   "metadata": {},
   "outputs": [],
   "source": [
    "def lambda_f_constructor(K, T_1):\n",
    "    def lambda_f(x, input):\n",
    "        delta = input[\"delta\"]\n",
    "        f = np.array([[x[1], (K * delta - x[1]) / T_1]]).T\n",
    "        return f\n",
    "\n",
    "    return lambda_f"
   ]
  },
  {
   "cell_type": "code",
   "execution_count": null,
   "id": "a8901362-090b-4f73-b01a-041ccf5582b3",
   "metadata": {},
   "outputs": [],
   "source": [
    "np.random.seed(42)\n",
    "\n",
    "T_1 = 1.8962353076056344\n",
    "K = 0.17950970687951323\n",
    "h = 0.02\n",
    "\n",
    "lambda_f = lambda_f_constructor(K=K, T_1=T_1)"
   ]
  },
  {
   "cell_type": "code",
   "execution_count": null,
   "id": "13e5e38e-5677-44b3-be23-02b751562f9b",
   "metadata": {},
   "outputs": [],
   "source": [
    "def do_simulation(h_, lambda_f, N_=4000):\n",
    "\n",
    "    t_ = np.arange(0, N_ * h_, h_)\n",
    "\n",
    "    us = np.deg2rad(\n",
    "        np.concatenate(\n",
    "            (\n",
    "                -10 * np.ones(int(N_ / 4)),\n",
    "                10 * np.ones(int(N_ / 4)),\n",
    "                -10 * np.ones(int(N_ / 4)),\n",
    "                10 * np.ones(int(N_ / 4)),\n",
    "            )\n",
    "        )\n",
    "    )\n",
    "    data = pd.DataFrame(index=t_)\n",
    "    data[\"delta\"] = us\n",
    "\n",
    "    np.random.seed(42)\n",
    "    E = np.array([[0, 1]]).T\n",
    "    process_noise = np.deg2rad(0.1)\n",
    "    ws = np.random.normal(scale=process_noise, size=N_)\n",
    "\n",
    "    data[\"psi\"] = 0\n",
    "    data[\"r\"] = 0\n",
    "    df = simulate(data=data, lambda_f=lambda_f, E=E, ws=ws, state_columns=[\"psi\", \"r\"])\n",
    "\n",
    "    measurement_noise = np.deg2rad(1)\n",
    "    df[\"epsilon\"] = np.random.normal(scale=measurement_noise, size=N_)\n",
    "    df[\"psi_measure\"] = df[\"psi\"] + df[\"epsilon\"]\n",
    "    df[\"psi_deg\"] = np.rad2deg(df[\"psi\"])\n",
    "    df[\"psi_measure_deg\"] = np.rad2deg(df[\"psi_measure\"])\n",
    "    df[\"delta_deg\"] = np.rad2deg(df[\"delta\"])\n",
    "\n",
    "    return df"
   ]
  },
  {
   "cell_type": "code",
   "execution_count": null,
   "id": "93a34622-8de3-437e-9711-3f6a96c868ce",
   "metadata": {},
   "outputs": [],
   "source": [
    "df = do_simulation(lambda_f=lambda_f, h_=h)\n",
    "data = pd.DataFrame(index=df.index)\n",
    "data['psi'] = df['psi_measure']\n",
    "data['r'] = df['r']\n",
    "data['delta'] = df['delta']"
   ]
  },
  {
   "cell_type": "code",
   "execution_count": null,
   "id": "16881a66-0491-4dd4-9242-fa362d334fcc",
   "metadata": {},
   "outputs": [],
   "source": [
    "plot(dataframes={'sim':data}, keys=[\"psi\",'r'], fig_size=(10,3));"
   ]
  },
  {
   "cell_type": "code",
   "execution_count": null,
   "id": "c8dde1eb-ccb6-46aa-b3b6-d9cd78cfd068",
   "metadata": {},
   "outputs": [],
   "source": [
    "P_prd = np.diag([np.deg2rad(1), np.deg2rad(0.1)])\n",
    "\n",
    "Qd = np.deg2rad(np.diag([0.1]))\n",
    "\n",
    "Rd = np.diag([np.deg2rad(1)])\n",
    "\n",
    "E = np.array(\n",
    "    [[0], [1]],\n",
    ")\n",
    "\n",
    "C_ = np.array([[1, 0]])\n",
    "\n",
    "Cd = C_"
   ]
  },
  {
   "cell_type": "code",
   "execution_count": null,
   "id": "c47454a5-55af-4c5b-9447-18987efdbc9a",
   "metadata": {},
   "outputs": [],
   "source": [
    "def lambda_jacobian_constructor(h, K, T_1):\n",
    "    def lambda_jacobian(x, input):\n",
    "\n",
    "        delta = input[\"delta\"]\n",
    "        r = x[1]\n",
    "\n",
    "        jac = np.array(\n",
    "            [\n",
    "                [1, h],\n",
    "                [0, 1 - h / T_1],\n",
    "            ]\n",
    "        )\n",
    "        return jac\n",
    "\n",
    "    return lambda_jacobian"
   ]
  },
  {
   "cell_type": "code",
   "execution_count": null,
   "id": "3d8e3017-e71c-4289-8448-8812b3fd7400",
   "metadata": {},
   "outputs": [],
   "source": [
    "lambda_jacobian = lambda_jacobian_constructor(h=h, K=K, T_1=T_1)"
   ]
  },
  {
   "cell_type": "code",
   "execution_count": null,
   "id": "14338154-cd18-4c43-8cb7-0df01f62f995",
   "metadata": {},
   "outputs": [],
   "source": [
    "state_columns = ['psi','r']\n",
    "time_steps = extended_kalman_filter(no_states=2, \n",
    "                                    no_measurement_states=1, \n",
    "                                    P_prd=P_prd, \n",
    "                                    lambda_f=lambda_f, \n",
    "                                    lambda_jacobian=lambda_jacobian, \n",
    "                                    data=data, \n",
    "                                    Qd=Qd, \n",
    "                                    Rd=Rd, \n",
    "                                    E=E, \n",
    "                                    Cd=Cd, \n",
    "                                    state_columns = state_columns,\n",
    "                                    measurement_columns=['psi'])"
   ]
  },
  {
   "cell_type": "code",
   "execution_count": null,
   "id": "1f7852f9-f730-4667-ad8b-674577dda45c",
   "metadata": {},
   "outputs": [],
   "source": [
    "df_kalman = ekf.time_steps_to_df(time_steps, state_columns=state_columns)"
   ]
  },
  {
   "cell_type": "code",
   "execution_count": null,
   "id": "1d3a4831-e24c-44ab-8567-710def837473",
   "metadata": {},
   "outputs": [],
   "source": [
    "time_steps_smooth = ekf.rts_smoother(\n",
    "            time_steps=time_steps,\n",
    "            lambda_jacobian=lambda_jacobian,\n",
    "            Qd=Qd,\n",
    "            lambda_f=lambda_f,\n",
    "            E=E,\n",
    "        )\n",
    "df_smooth = ekf.time_steps_to_df(time_steps_smooth, state_columns=state_columns)"
   ]
  },
  {
   "cell_type": "code",
   "execution_count": null,
   "id": "41c31da1-0c9c-40a4-810a-ee6903281d03",
   "metadata": {},
   "outputs": [],
   "source": [
    "fig_size=(10,3)\n",
    "plot(dataframes={'real':df, \n",
    "                 'measure':data, \n",
    "                 #'kalman':df_kalman, \n",
    "                 'smooth':df_smooth}, \n",
    "                 keys=[\"psi\",'r'], fig_size=fig_size);"
   ]
  },
  {
   "cell_type": "markdown",
   "id": "743946ed-e4c4-42fa-a9ef-5b359c4aea5a",
   "metadata": {},
   "source": [
    "## Parameter variation"
   ]
  },
  {
   "cell_type": "code",
   "execution_count": null,
   "id": "a4620924-94ac-402d-aae6-bca099b90e9e",
   "metadata": {},
   "outputs": [],
   "source": [
    "def vary(K,T_1):\n",
    "    \n",
    "    # Vary:\n",
    "    lambda_f = lambda_f_constructor(K=K, T_1=T_1)\n",
    "    lambda_jacobian = lambda_jacobian_constructor(h=h, K=K, T_1=T_1)\n",
    "    \n",
    "    # Kalman filter:\n",
    "    time_steps = extended_kalman_filter(no_states=2, \n",
    "                                    no_measurement_states=1, \n",
    "                                    P_prd=P_prd, \n",
    "                                    lambda_f=lambda_f, \n",
    "                                    lambda_jacobian=lambda_jacobian, \n",
    "                                    data=data, \n",
    "                                    Qd=Qd, \n",
    "                                    Rd=Rd, \n",
    "                                    E=E, \n",
    "                                    Cd=Cd, \n",
    "                                    state_columns = state_columns,\n",
    "                                    measurement_columns=['psi'])\n",
    "    \n",
    "    #return time_steps\n",
    "    \n",
    "    # RTS smoother:\n",
    "    time_steps_smooth = ekf.rts_smoother(\n",
    "            time_steps=time_steps,\n",
    "            lambda_jacobian=lambda_jacobian,\n",
    "            Qd=Qd,\n",
    "            lambda_f=lambda_f,\n",
    "            E=E,\n",
    "        )\n",
    "    \n",
    "    return time_steps_smooth\n",
    "    "
   ]
  },
  {
   "cell_type": "code",
   "execution_count": null,
   "id": "b1618bd2-7970-4f1e-8e59-cbd6f6c86924",
   "metadata": {},
   "outputs": [],
   "source": [
    "T_1s = np.linspace(0.5*T_1, 1.5*T_1, 5)\n",
    "\n",
    "time_steps_vary = {}\n",
    "for T_1_ in T_1s:\n",
    "    time_steps_vary[T_1_] = vary(K=K, T_1=T_1_)"
   ]
  },
  {
   "cell_type": "code",
   "execution_count": null,
   "id": "88404b36-1318-4f86-9788-5ebbef6653a6",
   "metadata": {},
   "outputs": [],
   "source": [
    "dataframes_vary = {f'T:{np.round(T_1_,2)}':ekf.time_steps_to_df(time_steps_, state_columns=state_columns) for T_1_,time_steps_ in time_steps_vary.items()}\n",
    "\n",
    "styles = {f'T:{np.round(T_1_,2)}':{'style':'-', 'alpha':0.5, 'lw':0.5} for T_1_,time_steps_ in time_steps_vary.items()}\n",
    "\n",
    "dataframes_vary['real'] = df\n",
    "styles['real'] = {\n",
    "    'lw':1,\n",
    "}\n",
    "plot(dataframes_vary, \n",
    "     keys=[\"psi\",'r'], \n",
    "     styles=styles,\n",
    "     fig_size=fig_size);\n",
    "    \n",
    "    "
   ]
  },
  {
   "cell_type": "code",
   "execution_count": null,
   "id": "2729a554-5e1d-42d4-a62f-b0110fce39d8",
   "metadata": {},
   "outputs": [],
   "source": [
    "dataframes_vary_variances = {f'T:{np.round(T_1_,2)}':pd.DataFrame(ekf.variance(time_steps_).T, columns=state_columns).iloc[1000:-1000] for T_1_,time_steps_ in time_steps_vary.items()}\n",
    "\n",
    "fig = plot(dataframes_vary_variances, \n",
    "                 keys=[\"psi\",'r'], fig_size=fig_size);\n",
    "\n",
    "fig.suptitle('Variances');\n",
    "plt.tight_layout()\n"
   ]
  },
  {
   "cell_type": "code",
   "execution_count": null,
   "id": "345eb034-98d4-4f89-bd24-f94ca736d540",
   "metadata": {},
   "outputs": [],
   "source": [
    "from scipy.stats import multivariate_normal\n",
    "\n",
    "def _loglikelihood(time_step):\n",
    "    \n",
    "    mean = time_step['x_hat'].flatten()\n",
    "    cov = time_step['P_hat']\n",
    "    x_prd = time_step['x_prd']\n",
    "    #cov = time_step['P_prd']\n",
    "    rv = multivariate_normal(mean=mean, cov=cov)\n",
    "    return rv.logpdf(x_prd.flatten())\n",
    "    \n",
    "    \n",
    "def loglikelihood(time_steps):\n",
    "    \n",
    "    #x_hats = ekf.x_hat(time_steps)\n",
    "    #x_prds = ekf.x_prd(time_steps)\n",
    "    #cov = time_steps[0]['P_hat']\n",
    "    #\n",
    "    #epsilon = x_prds - x_hats \n",
    "    #rv = multivariate_normal(mean=np.zeros(x_hats.shape[0]), cov=cov)\n",
    "    #loglikelihood = np.sum(rv.logpdf(epsilon.T))    \n",
    "    \n",
    "    loglikelihood=0\n",
    "    for time_step in time_steps:\n",
    "        loglikelihood+=_loglikelihood(time_step)\n",
    "        \n",
    "    \n",
    "        \n",
    "    return loglikelihood\n"
   ]
  },
  {
   "cell_type": "code",
   "execution_count": null,
   "id": "a95d27b8-3713-4068-98c8-124ab6910882",
   "metadata": {},
   "outputs": [],
   "source": [
    "x_hats = ekf.x_hat(time_steps)\n",
    "np.zeros(x_hats.shape[0])"
   ]
  },
  {
   "cell_type": "code",
   "execution_count": null,
   "id": "55e49384-3afe-44ed-a402-9aef77f00cbd",
   "metadata": {},
   "outputs": [],
   "source": [
    "loglikelihood(time_steps)"
   ]
  },
  {
   "cell_type": "code",
   "execution_count": null,
   "id": "d467306a-6132-4b03-8570-80ae111c1a95",
   "metadata": {},
   "outputs": [],
   "source": [
    "loglikelihoods = np.zeros(len(time_steps_vary))\n",
    "for i,(T_1_, time_steps_) in enumerate(time_steps_vary.items()):\n",
    "    loglikelihoods[i] = loglikelihood(time_steps_)\n",
    "    "
   ]
  },
  {
   "cell_type": "code",
   "execution_count": null,
   "id": "5b8506e3-aef6-4023-bab2-d836f0bd8446",
   "metadata": {},
   "outputs": [],
   "source": [
    "fig,ax=plt.subplots()\n",
    "ax.plot(T_1s, loglikelihoods,'.-', label='parameter variation');\n",
    "ax.plot([T_1,T_1],[np.min(loglikelihoods), np.max(loglikelihoods)],'r--', label=r'real $T_1$')\n",
    "ax.set_ylabel('likelihood')\n",
    "ax.set_xlabel(r'$T_1$');\n",
    "ax.legend();\n",
    "\n"
   ]
  },
  {
   "cell_type": "code",
   "execution_count": null,
   "id": "9e194ead-d0ff-4f88-9ac8-5fb3dd94a2ab",
   "metadata": {},
   "outputs": [],
   "source": [
    "from scipy.optimize import minimize\n",
    "\n",
    "def fun(x):\n",
    "    T_1_ = x[0]\n",
    "    K_ = x[1]\n",
    "    \n",
    "    time_steps = vary(K=K_, T_1=T_1_)\n",
    "    return -loglikelihood(time_steps)"
   ]
  },
  {
   "cell_type": "code",
   "execution_count": null,
   "id": "c7fa64f5-68ac-4b90-8bcc-4726a5ad860d",
   "metadata": {},
   "outputs": [],
   "source": [
    "x0=[T_1*1.5, K*1.5]\n",
    "res = minimize(fun, x0=x0, bounds=[(0.01,np.inf), (0.01,np.inf)], tol=0.001)"
   ]
  },
  {
   "cell_type": "code",
   "execution_count": null,
   "id": "c1feea98-1007-45c5-a9cb-3605220734ef",
   "metadata": {},
   "outputs": [],
   "source": [
    "res"
   ]
  },
  {
   "cell_type": "code",
   "execution_count": null,
   "id": "b9deee47-de89-4f77-9a10-7c781a34c01e",
   "metadata": {},
   "outputs": [],
   "source": [
    "T_1"
   ]
  },
  {
   "cell_type": "code",
   "execution_count": null,
   "id": "b3c26dd1-8b8d-42ac-8e16-eb16382287d1",
   "metadata": {},
   "outputs": [],
   "source": [
    "K"
   ]
  },
  {
   "cell_type": "code",
   "execution_count": null,
   "id": "884bbf9d-c42b-458e-a113-60d0cb48ba85",
   "metadata": {},
   "outputs": [],
   "source": [
    "time_steps_optimized = vary(K=res.x[1], T_1=res.x[0])\n",
    "df_sim_identified = simulate(data=data, lambda_f=lambda_f_constructor(K=res.x[1], T_1=res.x[0]), state_columns=[\"psi\", \"r\"], hidden_state_columns=[\"r\"])\n",
    "\n",
    "fig_size=(10,3)\n",
    "plot(dataframes={\n",
    "                 'measure':data,\n",
    "                 'real':df,\n",
    "                 'filter identified': ekf.time_steps_to_df(time_steps_optimized, state_columns=state_columns),\n",
    "                 'sim identified': df_sim_identified,\n",
    "                },\n",
    "                keys=[\"psi\",'r'], fig_size=fig_size);"
   ]
  }
 ],
 "metadata": {
  "citation-manager": {
   "items": {}
  },
  "kernelspec": {
   "display_name": "Python 3",
   "language": "python",
   "name": "python3"
  },
  "language_info": {
   "codemirror_mode": {
    "name": "ipython",
    "version": 3
   },
   "file_extension": ".py",
   "mimetype": "text/x-python",
   "name": "python",
   "nbconvert_exporter": "python",
   "pygments_lexer": "ipython3",
   "version": "3.9.5"
  }
 },
 "nbformat": 4,
 "nbformat_minor": 5
}
