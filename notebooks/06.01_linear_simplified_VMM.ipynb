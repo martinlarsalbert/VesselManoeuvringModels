{
    "cells": [
        {
            "cell_type": "markdown",
            "metadata": {},
            "source": [
                "# Simplified Linear VMM (Vessel Maneuvering Model)"
            ]
        },
        {
            "cell_type": "markdown",
            "metadata": {},
            "source": [
                "# Purpose\n",
                "Implementing according to:\n",
                "Matusiak, Jerzy. Dynamics of a Rigid Ship. Aalto University, 2017. https://aaltodoc.aalto.fi:443/handle/123456789/24408."
            ]
        },
        {
            "cell_type": "markdown",
            "metadata": {},
            "source": [
                "# Methodology\n",
                "Define the problem using SymPy"
            ]
        },
        {
            "cell_type": "markdown",
            "metadata": {},
            "source": [
                "# Setup"
            ]
        },
        {
            "cell_type": "code",
            "execution_count": null,
            "metadata": {},
            "outputs": [],
            "source": [
                "# %load imports.py\n",
                "%matplotlib inline\n",
                "%load_ext autoreload\n",
                "%autoreload 2\n",
                "%config Completer.use_jedi = False  ## (To fix autocomplete)\n",
                "\n",
                "## External packages:\n",
                "import pandas as pd\n",
                "pd.options.display.max_rows = 999\n",
                "pd.options.display.max_columns = 999\n",
                "pd.set_option(\"display.max_columns\", None)\n",
                "\n",
                "import numpy as np\n",
                "import os\n",
                "import matplotlib.pyplot as plt\n",
                "\n",
                "import plotly.express as px \n",
                "import plotly.graph_objects as go\n",
                "\n",
                "import seaborn as sns\n",
                "import sympy as sp\n",
                "from sympy.physics.mechanics import (dynamicsymbols, ReferenceFrame,\n",
                "                                      Particle, Point)\n",
                "from sympy.physics.vector.printing import vpprint, vlatex\n",
                "from IPython.display import display, Math, Latex\n",
                "from vessel_manoeuvring_models.substitute_dynamic_symbols import run, lambdify\n",
                "\n",
                "import pyro\n",
                "\n",
                "import sklearn\n",
                "import pykalman\n",
                "from statsmodels.sandbox.regression.predstd import wls_prediction_std\n",
                "import statsmodels.api as sm\n",
                "\n",
                "from scipy.integrate import solve_ivp\n",
                "\n",
                "## Local packages:\n",
                "#from vessel_manoeuvring_models.data import mdl\n",
                "from vessel_manoeuvring_models import symbols\n",
                "from vessel_manoeuvring_models import prime_system\n",
                "from vessel_manoeuvring_models.symbols import *\n",
                "from vessel_manoeuvring_models.linear_vmm_equations import *\n",
                "\n",
                "import vessel_manoeuvring_models.linear_vmm_simplified_equations as eq\n",
                "import vessel_manoeuvring_models.models.linear_vmm as model\n",
                "from vessel_manoeuvring_models.visualization.plot import track_plot\n",
                "import vessel_manoeuvring_models.nonlinear_vmm_equations as nonlinear_vmm_equations\n"
            ]
        },
        {
            "cell_type": "code",
            "execution_count": null,
            "metadata": {},
            "outputs": [],
            "source": [
                "symbols.df_parameters"
            ]
        },
        {
            "cell_type": "markdown",
            "metadata": {},
            "source": [
                "## Linearized simplified equation of motion ($x_G=0$)"
            ]
        },
        {
            "cell_type": "markdown",
            "metadata": {},
            "source": [
                "### X"
            ]
        },
        {
            "cell_type": "markdown",
            "metadata": {},
            "source": [
                "Nonlinear equation of motion in X-direction:"
            ]
        },
        {
            "cell_type": "code",
            "execution_count": null,
            "metadata": {},
            "outputs": [],
            "source": [
                "Math(vlatex(nonlinear_vmm_equations.X_eom))"
            ]
        },
        {
            "cell_type": "markdown",
            "metadata": {},
            "source": [
                "this equation is linearized by assuming : $v=0$ and dropping $r^2$"
            ]
        },
        {
            "cell_type": "code",
            "execution_count": null,
            "metadata": {},
            "outputs": [],
            "source": [
                "Math(vlatex(eq.X_eom))"
            ]
        },
        {
            "cell_type": "markdown",
            "metadata": {},
            "source": [
                "### Y"
            ]
        },
        {
            "cell_type": "markdown",
            "metadata": {},
            "source": [
                "Nonlinear equation of motion in Y-direction:"
            ]
        },
        {
            "cell_type": "code",
            "execution_count": null,
            "metadata": {},
            "outputs": [],
            "source": [
                "Math(vlatex(nonlinear_vmm_equations.Y_eom))"
            ]
        },
        {
            "cell_type": "markdown",
            "metadata": {},
            "source": [
                "this equation is linearized by assuming that $u \\approx U $ where $U$ is the initial total velocity."
            ]
        },
        {
            "cell_type": "code",
            "execution_count": null,
            "metadata": {},
            "outputs": [],
            "source": [
                "Math(vlatex(eq.Y_eom))"
            ]
        },
        {
            "cell_type": "markdown",
            "metadata": {},
            "source": [
                "### N"
            ]
        },
        {
            "cell_type": "markdown",
            "metadata": {},
            "source": [
                "Nonlinear equation of motion in N-direction:"
            ]
        },
        {
            "cell_type": "code",
            "execution_count": null,
            "metadata": {},
            "outputs": [],
            "source": [
                "Math(vlatex(nonlinear_vmm_equations.N_eom))"
            ]
        },
        {
            "cell_type": "markdown",
            "metadata": {},
            "source": [
                "this equation is linearized by assuming that $u \\approx U $ where $U$ is the initial total velocity."
            ]
        },
        {
            "cell_type": "code",
            "execution_count": null,
            "metadata": {},
            "outputs": [],
            "source": [
                "Math(vlatex(eq.N_eom))"
            ]
        },
        {
            "cell_type": "code",
            "execution_count": null,
            "metadata": {},
            "outputs": [],
            "source": [
                "Math(vlatex(eq.fx_eq))"
            ]
        },
        {
            "cell_type": "code",
            "execution_count": null,
            "metadata": {},
            "outputs": [],
            "source": [
                "Math(vlatex(eq.fy_eq))"
            ]
        },
        {
            "cell_type": "code",
            "execution_count": null,
            "metadata": {},
            "outputs": [],
            "source": [
                "Math(vlatex(eq.mz_eq))"
            ]
        },
        {
            "cell_type": "code",
            "execution_count": null,
            "metadata": {},
            "outputs": [],
            "source": [
                "Math(vlatex(eq.X_eq))"
            ]
        },
        {
            "cell_type": "code",
            "execution_count": null,
            "metadata": {},
            "outputs": [],
            "source": [
                "Math(vlatex(eq.Y_eq))"
            ]
        },
        {
            "cell_type": "code",
            "execution_count": null,
            "metadata": {},
            "outputs": [],
            "source": [
                "Math(vlatex(eq.N_eq))"
            ]
        },
        {
            "cell_type": "code",
            "execution_count": null,
            "metadata": {},
            "outputs": [],
            "source": [
                "r1d_eq = sp.Eq(r1d, sp.solve(N_eq, r1d)[0])"
            ]
        },
        {
            "cell_type": "markdown",
            "metadata": {},
            "source": [
                "## Steady state solution"
            ]
        },
        {
            "cell_type": "code",
            "execution_count": null,
            "metadata": {},
            "outputs": [],
            "source": [
                "X_steady = X_eq.subs([\n",
                "    (u1d,0),\n",
                "    (v1d,0),\n",
                "    (r1d,0),\n",
                "          ])\n",
                "X_steady"
            ]
        },
        {
            "cell_type": "code",
            "execution_count": null,
            "metadata": {},
            "outputs": [],
            "source": [
                "Y_steady = Y_eq.subs([\n",
                "    (u1d,0),\n",
                "    (v1d,0),\n",
                "    (r1d,0),\n",
                "          ])\n",
                "Y_steady"
            ]
        },
        {
            "cell_type": "code",
            "execution_count": null,
            "metadata": {},
            "outputs": [],
            "source": [
                "N_steady = N_eq.subs([\n",
                "    (u1d,0),\n",
                "    (v1d,0),\n",
                "    (r1d,0),\n",
                "          ])\n",
                "N_steady"
            ]
        },
        {
            "cell_type": "code",
            "execution_count": null,
            "metadata": {},
            "outputs": [],
            "source": [
                "eqs = [Y_steady,N_steady]\n",
                "solution = sp.solve(eqs,v,r, dict=True)\n",
                "solution[0][v]"
            ]
        },
        {
            "cell_type": "code",
            "execution_count": null,
            "metadata": {},
            "outputs": [],
            "source": [
                "solution[0][r]"
            ]
        },
        {
            "cell_type": "code",
            "execution_count": null,
            "metadata": {},
            "outputs": [],
            "source": [
                "subs = {value:key for key,value in eq.p.items()}\n",
                "#u_lambda = lambdify(solution[0][u].subs(subs))\n",
                "v_lambda = lambdify(solution[0][v].subs(subs))\n",
                "r_lambda = lambdify(solution[0][r].subs(subs))"
            ]
        },
        {
            "cell_type": "markdown",
            "metadata": {},
            "source": [
                "## Prime system"
            ]
        },
        {
            "cell_type": "code",
            "execution_count": null,
            "metadata": {},
            "outputs": [],
            "source": [
                "prime_system.df_prime.loc[['denominator']]"
            ]
        },
        {
            "cell_type": "markdown",
            "metadata": {},
            "source": [
                "## Ship parameters"
            ]
        },
        {
            "cell_type": "code",
            "execution_count": null,
            "metadata": {},
            "outputs": [],
            "source": [
                "T_ =10\n",
                "L_ = 200\n",
                "CB_ = 0.7\n",
                "B_ = 30\n",
                "rho_ = 1025\n",
                "m_ = T_*B_*L_*CB_*rho_\n",
                "\n",
                "ship_parameters = {\n",
                "        'T' : T_,\n",
                "        'L' : L_,\n",
                "        'CB' :CB_,\n",
                "        'B' : B_,\n",
                "        'rho' : rho_,\n",
                "        'x_G' : 0,\n",
                "        'm' : m_,\n",
                "        'I_z': 0.2*m_*L_**2, \n",
                "    }\n",
                "\n",
                "ps = prime_system.PrimeSystem(**ship_parameters)\n"
            ]
        },
        {
            "cell_type": "code",
            "execution_count": null,
            "metadata": {},
            "outputs": [],
            "source": [
                "def calculate_prime(row, ship_parameters):\n",
                "    return run(function=row['brix_lambda'], inputs=ship_parameters)\n",
                "\n",
                "mask = df_parameters['brix_lambda'].notnull()\n",
                "df_parameters.loc[mask,'prime'] = df_parameters.loc[mask].apply(calculate_prime, ship_parameters=ship_parameters, axis=1)\n",
                "df_parameters.loc['Ydelta','prime'] = 0.0005  # Just guessing\n",
                "df_parameters.loc['Ndelta','prime'] = -df_parameters.loc['Ydelta','prime']/4  # Just guessing"
            ]
        },
        {
            "cell_type": "code",
            "execution_count": null,
            "metadata": {},
            "outputs": [],
            "source": [
                "df_parameters['prime'].fillna(0, inplace=True)\n",
                "df_parameters"
            ]
        },
        {
            "cell_type": "markdown",
            "metadata": {},
            "source": [
                "## Steady turning"
            ]
        },
        {
            "cell_type": "code",
            "execution_count": null,
            "metadata": {},
            "outputs": [],
            "source": [
                "inputs = dict(df_parameters['prime'])\n",
                "inputs.update(ps.prime(ship_parameters))\n",
                "\n",
                "U = 10\n",
                "delta = np.deg2rad(35)\n",
                "inputs['delta'] = delta\n",
                "inputs['u'] = inputs['U'] =  ps._prime(U,'linear_velocity', U=U)\n",
                "\n",
                "\n",
                "v_steady_prime = run(function=v_lambda, inputs=inputs)\n",
                "r_steady_prime = run(function=r_lambda, inputs=inputs)\n",
                "\n",
                "v_steady = ps._unprime(v_steady_prime,'linear_velocity', U=U)\n",
                "r_steady = ps._unprime(r_steady_prime,'angular_velocity' ,U=U)\n"
            ]
        },
        {
            "cell_type": "code",
            "execution_count": null,
            "metadata": {},
            "outputs": [],
            "source": [
                "v_steady"
            ]
        },
        {
            "cell_type": "code",
            "execution_count": null,
            "metadata": {},
            "outputs": [],
            "source": [
                "r_steady"
            ]
        },
        {
            "cell_type": "code",
            "execution_count": null,
            "metadata": {},
            "outputs": [],
            "source": [
                "model.u1d_lambda"
            ]
        },
        {
            "cell_type": "code",
            "execution_count": null,
            "metadata": {},
            "outputs": [],
            "source": [
                "model.v1d_lambda"
            ]
        },
        {
            "cell_type": "code",
            "execution_count": null,
            "metadata": {},
            "outputs": [],
            "source": [
                "states = {\n",
                "    'u' : ps._prime(U,'linear_velocity',U=U),\n",
                "    'v' : ps._prime(v_steady,'linear_velocity',U=U),\n",
                "    'r' : ps._prime(r_steady,'angular_velocity',U=U),\n",
                "    #'u1d' : 0,\n",
                "    #'v1d' : 0,\n",
                "    #'r1d' : 0,\n",
                "    \n",
                "}\n",
                "\n",
                "control = {\n",
                "    'delta' : delta,\n",
                "    'U' : ps._prime(U,'linear_velocity',U=U)\n",
                "}\n",
                "\n",
                "inputs = dict(df_parameters['prime'])\n",
                "inputs.update(ps.prime(ship_parameters))\n",
                "\n",
                "inputs.update(states)\n",
                "inputs.update(control)\n",
                "\n",
                "run(function=model.v1d_lambda, inputs=inputs)"
            ]
        },
        {
            "cell_type": "code",
            "execution_count": null,
            "metadata": {},
            "outputs": [],
            "source": [
                "run(function=model.u1d_lambda, inputs=inputs)"
            ]
        },
        {
            "cell_type": "code",
            "execution_count": null,
            "metadata": {},
            "outputs": [],
            "source": [
                "run(function=model.v1d_lambda, inputs=inputs)"
            ]
        },
        {
            "cell_type": "code",
            "execution_count": null,
            "metadata": {},
            "outputs": [],
            "source": [
                "run(function=model.r1d_lambda, inputs=inputs)"
            ]
        },
        {
            "cell_type": "code",
            "execution_count": null,
            "metadata": {},
            "outputs": [],
            "source": [
                "t_max = 2*np.pi/r_steady  # Turn one lap\n",
                "t = np.arange(0,t_max,0.01)\n",
                "\n",
                "\n",
                "control = {\n",
                "    'delta' : delta,\n",
                "}\n",
                "\n",
                "parameters = dict(df_parameters['prime'])\n",
                "\n",
                "u_steady = np.sqrt(U**2 - v_steady**2)\n",
                "y0 = {\n",
                "    'u' : u_steady, \n",
                "    'v' : v_steady,\n",
                "    'r' : r_steady,\n",
                "    'x0' : 0,\n",
                "    'y0' : 0,\n",
                "    'psi' : 0,\n",
                "    }\n",
                "\n",
                "#solution = model.simulate(y0=y0, t=t, df_parameters=df_parameters, df_ship_parameters=df_ship_parameters, control=control, rtol=1e-3, atol=1e-3)\n",
                "solution = model.simulate(y0=y0, t=t, df_parameters=df_parameters, ship_parameters=ship_parameters, control=control)\n",
                "\n",
                "columns = ['u','v','r','x0','y0','psi']\n",
                "df_result_prime = pd.DataFrame(data=solution.y.T, columns=columns)\n",
                "df_result_prime.index=t[0:len(df_result_prime)]\n",
                "\n",
                "#df_result_prime['U'] = np.sqrt(df_result_prime['u']**2 + df_result_prime['v']**2)\n",
                "\n",
                "df_result_prime.plot(y='u')\n",
                "df_result_prime.plot(y='v')\n",
                "df_result_prime.plot(y='r')\n",
                "\n"
            ]
        },
        {
            "cell_type": "code",
            "execution_count": null,
            "metadata": {},
            "outputs": [],
            "source": [
                "y0"
            ]
        },
        {
            "cell_type": "code",
            "execution_count": null,
            "metadata": {},
            "outputs": [],
            "source": [
                "solution"
            ]
        },
        {
            "cell_type": "code",
            "execution_count": null,
            "metadata": {},
            "outputs": [],
            "source": [
                "#units = {key:value[1] for key,value in zip(columns,y0)}\n",
                "df_result = ps.unprime(values=df_result_prime, U=U)\n",
                "\n",
                "\n",
                "df_result['beta'] = -np.arctan2(df_result['v'],df_result['u'])"
            ]
        },
        {
            "cell_type": "code",
            "execution_count": null,
            "metadata": {},
            "outputs": [],
            "source": [
                "df_result.head()"
            ]
        },
        {
            "cell_type": "code",
            "execution_count": null,
            "metadata": {},
            "outputs": [],
            "source": [
                "track_plot(df=df_result, lpp=ship_parameters['L'], beam=ship_parameters['B'])\n",
                "\n",
                "df_result.plot(y='u')\n",
                "df_result.plot(y='v')\n",
                "df_result.plot(y='r')\n",
                "df_result.plot(y='psi')\n",
                "df_result.plot(y='beta')\n",
                "\n"
            ]
        },
        {
            "cell_type": "markdown",
            "metadata": {},
            "source": [
                "## Steady turnings"
            ]
        },
        {
            "cell_type": "code",
            "execution_count": null,
            "metadata": {},
            "outputs": [],
            "source": [
                "inputs = dict(df_parameters['prime'])\n",
                "inputs.update(ps.prime(ship_parameters))\n",
                "\n",
                "U = 10\n",
                "delta = np.deg2rad(35)\n",
                "inputs['delta'] = delta\n",
                "inputs['u'] = inputs['U'] =  ps._prime(U,'linear_velocity', U=U)\n",
                "\n",
                "s = pd.Series(inputs)\n",
                "N=10\n",
                "data = np.tile(s.values,(N,1))\n",
                "df_variation = pd.DataFrame(data, columns=s.index)\n",
                "df_variation.head()\n",
                "df_variation['delta'] = np.linspace(0.01,0.3,N)\n",
                "\n",
                "df_variation['v'] = run(function=v_lambda, inputs=df_variation)\n",
                "df_variation['r'] = run(function=r_lambda, inputs=df_variation)\n"
            ]
        },
        {
            "cell_type": "code",
            "execution_count": null,
            "metadata": {},
            "outputs": [],
            "source": [
                "df_variation.plot(x='delta', y='r')\n",
                "df_variation.plot(x='delta', y='v')\n",
                "\n"
            ]
        },
        {
            "cell_type": "code",
            "execution_count": null,
            "metadata": {},
            "outputs": [],
            "source": [
                "sp.solve(eq.Y_eq,v1d)[0]"
            ]
        },
        {
            "cell_type": "code",
            "execution_count": null,
            "metadata": {},
            "outputs": [],
            "source": [
                "sp.solve(eq.N_eq,r1d)[0]"
            ]
        },
        {
            "cell_type": "code",
            "execution_count": null,
            "metadata": {},
            "outputs": [],
            "source": [
                "sp.solve(eq.X_eq,u1d)[0]"
            ]
        }
    ],
    "metadata": {
        "kernelspec": {
            "display_name": "Python 3",
            "language": "python",
            "name": "python3"
        },
        "language_info": {
            "codemirror_mode": {
                "name": "ipython",
                "version": 3
            },
            "file_extension": ".py",
            "mimetype": "text/x-python",
            "name": "python",
            "nbconvert_exporter": "python",
            "pygments_lexer": "ipython3",
            "version": "3.9.5"
        }
    },
    "nbformat": 4,
    "nbformat_minor": 4
}