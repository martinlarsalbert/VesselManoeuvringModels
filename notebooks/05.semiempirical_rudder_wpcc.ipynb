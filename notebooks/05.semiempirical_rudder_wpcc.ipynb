{
 "cells": [
  {
   "cell_type": "markdown",
   "id": "a7bd79ee-f9da-4f89-991d-dc5bbbd7ae7d",
   "metadata": {},
   "source": [
    "# Semi empirical rudder forces"
   ]
  },
  {
   "cell_type": "code",
   "execution_count": null,
   "id": "50806c78-57a3-4c89-ae49-70d298b3e844",
   "metadata": {
    "tags": [
     "remove_cell"
    ]
   },
   "outputs": [],
   "source": [
    "# %load imports.py\n",
    "import warnings\n",
    "warnings.filterwarnings('ignore')\n",
    "%matplotlib inline\n",
    "%load_ext autoreload\n",
    "%autoreload 2\n",
    "\n",
    "import logging\n",
    "logger = logging.getLogger('matplotlib.font_manager')\n",
    "logger.disabled = True\n",
    "\n",
    "import matplotlib.pyplot as plt\n",
    "#plt.style.use('./report.mplstyle')  #(comment this one for faster figure generation)\n",
    "\n",
    "import numpy as np\n",
    "import pandas as pd\n",
    "pd.set_option('display.max_rows', 500)\n",
    "pd.set_option('display.max_columns', 500)\n",
    "\n",
    "\n",
    "import os.path\n",
    "#import seaman.helpers\n",
    "#import vct.comparison\n",
    "#import vct.bokeh_plotting as bokeh_plotting\n",
    "#from vct.run_seaman import calculate_static_ship, calculate_static_ship_df  \n",
    "#from vct.comparison import ShipCompareItem \n",
    "#from vct.figure_out_test_types import figure_out_test_types\n",
    "#from seaman.helpers import ShipDict\n",
    "from sklearn.metrics import r2_score\n",
    "from collections import OrderedDict\n",
    "\n",
    "#from mlflow.tracking.client import MlflowClient\n",
    "#from mlflow.entities import ViewType\n",
    "#from vessel_manoeuvring_models.to_mlflow import tracking_uri\n",
    "#mlflow_client = MlflowClient(tracking_uri=tracking_uri)\n",
    "\n",
    "#import vessel_manoeuvring_models.mlflow_sim as mlflow_sim\n",
    "#from vessel_manoeuvring_models.mlflow_sim import load_sim_experiment\n",
    "\n",
    "#import vct.bokeh_plotting as bokeh_plotting\n",
    "#from vct.run_seaman import calculate_static_ship, calculate_static_ship_df  \n",
    "from IPython.display import display, Markdown\n",
    "\n",
    "#from vct.shipdict_compare import load_shipdicts, plot_bars\n",
    "#from vct.data import load_data\n",
    "import data\n",
    "#import vessel_manoeuvring_models.visualization.IMO_standard as imo_standard\n",
    "import re\n",
    "import shutil\n",
    "\n",
    "#from reporting.sspa_report import Appendix,AppendixPart,ModelDescription,Plot, ReportPart\n",
    "#from pylatex import NoEscape\n",
    "\n",
    "#import yaml\n",
    "    \n",
    "#from vessel_manoeuvring_models.visualization.plotting import track_plot, plot_time_series\n",
    "#from seaman.evaluation import shipdata_to_latex,pandas_to_latex\n",
    "#from vct.plot import plotter\n",
    "#from vessel_manoeuvring_models.visualization.regression import plot_compare\n",
    "import sympy as sp\n",
    "from vessel_manoeuvring_models.substitute_dynamic_symbols import lambdify, run"
   ]
  },
  {
   "cell_type": "code",
   "execution_count": null,
   "id": "230a7c21-a019-4052-a4a6-e69b937e1bb3",
   "metadata": {},
   "outputs": [],
   "source": [
    "df_VCT = pd.read_csv('vct.csv')\n",
    "df_VCT = df_VCT.groupby(by=['model_name']).get_group('V2_5_MDL_modelScale')"
   ]
  },
  {
   "cell_type": "code",
   "execution_count": null,
   "id": "2e6d58f1-0f0d-430f-ac75-15e7184afef8",
   "metadata": {},
   "outputs": [],
   "source": [
    "df_rudder = df_VCT.groupby(by='test type').get_group('Rudder angle').sort_values(by='delta')\n",
    "df_rudder = df_rudder.groupby('V').get_group(df_rudder['V'].unique()[0])"
   ]
  },
  {
   "cell_type": "code",
   "execution_count": null,
   "id": "8d67db9e-db80-4dd2-b8dc-5dfc506b723a",
   "metadata": {},
   "outputs": [],
   "source": [
    "fig,ax=plt.subplots()\n",
    "df_rudder.plot(x='delta', y='fy', style='o-', ax=ax)\n",
    "ax.grid(True)"
   ]
  },
  {
   "cell_type": "code",
   "execution_count": null,
   "id": "63feeb96-ab33-466f-90ee-f0d5ac472843",
   "metadata": {},
   "outputs": [],
   "source": [
    "V_x = sp.symbols('V_x')\n",
    "u, v, w, p, q, r = sp.symbols('u v w p q r')\n",
    "V_xR, V_yR, V_zR = sp.symbols('V_xr V_yr V_zr')\n",
    "V_xWave, V_yWave, V_zWave = sp.symbols('V_xWave V_yWave V_zWave')\n",
    "x_R, y_R, z_R = sp.symbols('x_R y_R z_R')\n",
    "gamma = sp.symbols('gamma')\n",
    "\n",
    "eq_V_xR_wave = sp.Eq(V_xR, V_x - V_xWave + q*z_R - r*y_R)\n",
    "eq_V_yR_wave = sp.Eq(V_yR, -v + V_yWave - r*x_R + p*z_R)\n",
    "eq_V_zR_wave = sp.Eq(V_zR, -w + V_zWave - q*y_R - q*x_R)\n",
    "\n",
    "display(eq_V_xR_wave)\n",
    "display(eq_V_yR_wave)\n",
    "display(eq_V_zR_wave)\n"
   ]
  },
  {
   "cell_type": "code",
   "execution_count": null,
   "id": "f9e182c4-9ef3-4103-a803-06986354ef70",
   "metadata": {},
   "outputs": [],
   "source": [
    "eq_V_xR = eq_V_xR_wave.subs(V_xWave,0)\n",
    "eq_V_yR = eq_V_yR_wave.subs(V_yWave,0)\n",
    "eq_V_zR = eq_V_zR_wave.subs(V_zWave,0)\n",
    "\n",
    "display(eq_V_xR)\n",
    "display(eq_V_yR)\n",
    "display(eq_V_zR)"
   ]
  },
  {
   "cell_type": "code",
   "execution_count": null,
   "id": "c5869b99-b1a2-44e9-ab3d-7b352f3b1b51",
   "metadata": {},
   "outputs": [],
   "source": [
    "eq_gamma = sp.Eq(gamma, sp.atan(V_yR/V_xR))\n",
    "eq_gamma"
   ]
  },
  {
   "cell_type": "code",
   "execution_count": null,
   "id": "35d5208f-c5c7-48b5-b658-b4ba7d1a948e",
   "metadata": {},
   "outputs": [],
   "source": [
    "V_R = sp.symbols('V_R')\n",
    "eq_V_R = sp.Eq(V_R, sp.sqrt(V_xR**2+V_yR**2+V_zR**2))\n",
    "eq_V_R"
   ]
  },
  {
   "cell_type": "code",
   "execution_count": null,
   "id": "48b4f667-e923-4048-960d-c68cff0e4dc4",
   "metadata": {},
   "outputs": [],
   "source": [
    "A,A_g = sp.symbols('Lambda Lambda_g')\n",
    "delta,delta_lim = sp.symbols('delta delta_lim')"
   ]
  },
  {
   "cell_type": "code",
   "execution_count": null,
   "id": "57213c5b-3c3e-437f-90fe-ef8ebffcc092",
   "metadata": {},
   "outputs": [],
   "source": [
    "L,D,rho,C_L,C_D,A_R,b = sp.symbols('L,D,rho,C_L,C_D,A_R,b')"
   ]
  },
  {
   "cell_type": "code",
   "execution_count": null,
   "id": "adff4421-b2b7-4bb8-b0c8-7c70a68e936f",
   "metadata": {},
   "outputs": [],
   "source": [
    "eq_A_g = sp.Eq(A_g,b**2/A_R)\n",
    "eq_A_g"
   ]
  },
  {
   "cell_type": "code",
   "execution_count": null,
   "id": "e610de24-f3db-4d4d-b4d3-083be128f04c",
   "metadata": {},
   "outputs": [],
   "source": [
    "eq_A = sp.Eq(A, A_g*(2-sp.Abs(delta/delta_lim)))\n",
    "eq_A"
   ]
  },
  {
   "cell_type": "code",
   "execution_count": null,
   "id": "13633687-15f1-4ee6-9cde-3eaf6b25d553",
   "metadata": {},
   "outputs": [],
   "source": [
    "eq_L = sp.Eq(L, 1/2*rho*C_L*A_R*V_R**2)\n",
    "eq_D = sp.Eq(D, 1/2*rho*C_D*A_R*V_R**2)\n",
    "display(eq_L)\n",
    "display(eq_D)"
   ]
  },
  {
   "cell_type": "code",
   "execution_count": null,
   "id": "57f94822-0d5a-4611-b2bf-d3f8467de431",
   "metadata": {},
   "outputs": [],
   "source": [
    "eq_C_L = sp.Eq(C_L, 2*sp.pi*A*(A+1)/(A+2)**2*sp.sin(delta+gamma))\n",
    "eq_C_L"
   ]
  },
  {
   "cell_type": "code",
   "execution_count": null,
   "id": "b4d3b793-e8be-490b-b546-46102d8e8809",
   "metadata": {},
   "outputs": [],
   "source": [
    "C_D0 = sp.symbols('C_D0')\n",
    "eq_C_D = sp.Eq(C_D, 1.1*C_L**2/(sp.pi*A)+C_D0)\n",
    "eq_C_D"
   ]
  },
  {
   "cell_type": "code",
   "execution_count": null,
   "id": "5c70ec77-e4fb-4fef-a699-2503f723fcc1",
   "metadata": {},
   "outputs": [],
   "source": [
    "C_F,R_e = sp.symbols('C_F,R_e')\n",
    "eq_C_D0 = sp.Eq(C_D0, 2.5*C_F)\n",
    "eq_C_D0"
   ]
  },
  {
   "cell_type": "code",
   "execution_count": null,
   "id": "d8b87322-2af7-4023-bc85-faaf8fa73ac1",
   "metadata": {},
   "outputs": [],
   "source": [
    "eq_CF = sp.Eq(C_F, 0.075/((sp.log(R_e)-2)**2))\n",
    "eq_CF"
   ]
  },
  {
   "cell_type": "code",
   "execution_count": null,
   "id": "61f5151b-e0e1-428d-93d9-dbb8b6cc2aa5",
   "metadata": {},
   "outputs": [],
   "source": [
    "kinematic_viscosity,c = sp.symbols('nu c')\n",
    "eq_Re = sp.Eq(R_e, V_R*c/kinematic_viscosity)\n",
    "eq_Re"
   ]
  },
  {
   "cell_type": "code",
   "execution_count": null,
   "id": "198fffe3-e387-4b5f-abb1-803a0928ee5b",
   "metadata": {},
   "outputs": [],
   "source": [
    "lambdify_equations = [\n",
    "eq_V_xR,\n",
    "eq_V_yR,\n",
    "eq_V_zR,\n",
    "eq_gamma,\n",
    "eq_V_R,\n",
    "eq_A_g,\n",
    "eq_A,\n",
    "eq_C_L,\n",
    "eq_Re,\n",
    "eq_CF,\n",
    "eq_C_D0,\n",
    "eq_C_D,\n",
    "eq_L,\n",
    "eq_D,\n",
    "]\n",
    "\n",
    "lambdas = {eq.lhs:lambdify(eq.rhs) for eq in lambdify_equations}"
   ]
  },
  {
   "cell_type": "code",
   "execution_count": null,
   "id": "9f7bac04-8bcb-4834-93b7-9242df71dc77",
   "metadata": {},
   "outputs": [],
   "source": [
    "lambdas"
   ]
  },
  {
   "cell_type": "code",
   "execution_count": null,
   "id": "ec7bf0ca-76dc-492d-b554-1fec2ca1fdab",
   "metadata": {},
   "outputs": [],
   "source": [
    "shipdict = ShipDict.load('V2_5_MDL_modelScale_R11.ship')\n",
    "list(shipdict.keys())"
   ]
  },
  {
   "cell_type": "code",
   "execution_count": null,
   "id": "34e991be-ab3c-4b7e-8c04-332f78804344",
   "metadata": {},
   "outputs": [],
   "source": [
    "rudder_particulars = shipdict['rudder_particulars'][0]\n",
    "rudder_particulars"
   ]
  },
  {
   "cell_type": "code",
   "execution_count": null,
   "id": "679dcb4b-39bd-44ac-bad6-87852ebee1c7",
   "metadata": {},
   "outputs": [],
   "source": [
    "df = df_rudder[['u','v','r','p','rho','delta','thrust']].copy()\n",
    "df['q'] = 0\n",
    "df['w'] = 0\n",
    "wf = shipdict['fix_prop_data'][0]['wffix']\n",
    "df['V_x'] = (1-wf)*df['u']  # propeller induced speed...\n",
    "df['x_R'] = rudder_particulars['xxrud']\n",
    "df['y_R'] = rudder_particulars['yyrud']\n",
    "df['z_R'] = rudder_particulars['zzrud']\n",
    "df['A_R'] = rudder_particulars['ar']\n",
    "df['b'] = 8.79\n",
    "df['delta_lim'] = np.deg2rad(45)\n",
    "df['c'] = df['A_R']/df['b']\n",
    "df['nu'] = 1.18849E-06\n",
    "\n",
    "for symbol, function in lambdas.items():\n",
    "    \n",
    "    df[str(symbol)] = run(function=function, inputs=df)"
   ]
  },
  {
   "cell_type": "code",
   "execution_count": null,
   "id": "f86c8738-f7af-486c-bf5a-f44665775fbf",
   "metadata": {},
   "outputs": [],
   "source": [
    "fig,ax=plt.subplots()\n",
    "df_rudder['delta_deg'] = np.rad2deg(df_rudder['delta'])\n",
    "df_rudder.plot(x='delta_deg', y='fy', style='o-', label='ShipFlow', ax=ax)\n",
    "ax.grid(True)\n",
    "\n",
    "n_rud = len(shipdict['rudder_particulars'])\n",
    "df['fy'] = n_rud*df['L']\n",
    "df['delta_deg'] = np.rad2deg(df['delta'])\n",
    "df.plot(x='delta_deg', y='fy', label='Semi empirical', ax=ax);\n",
    "ax.grid(True)\n",
    "ax.set_ylabel('fy')\n",
    "ax.set_xlabel('Rudder angle [deg]');\n",
    "ax.set_title('WPCC Rudder angle variation');"
   ]
  },
  {
   "cell_type": "code",
   "execution_count": null,
   "id": "b836f15e-bf5d-4502-aa30-a39382cdf49d",
   "metadata": {},
   "outputs": [],
   "source": []
  },
  {
   "cell_type": "code",
   "execution_count": null,
   "id": "f1bfcb72-cc38-43e0-8350-c713c854c562",
   "metadata": {},
   "outputs": [],
   "source": []
  }
 ],
 "metadata": {
  "kernelspec": {
   "display_name": "Python 3",
   "language": "python",
   "name": "python3"
  },
  "language_info": {
   "codemirror_mode": {
    "name": "ipython",
    "version": 3
   },
   "file_extension": ".py",
   "mimetype": "text/x-python",
   "name": "python",
   "nbconvert_exporter": "python",
   "pygments_lexer": "ipython3",
   "version": "3.9.5"
  }
 },
 "nbformat": 4,
 "nbformat_minor": 5
}
