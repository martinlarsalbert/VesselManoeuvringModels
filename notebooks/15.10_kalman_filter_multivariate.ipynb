{
 "cells": [
  {
   "cell_type": "markdown",
   "metadata": {},
   "source": [
    "# Multivariate Kalman filter"
   ]
  },
  {
   "cell_type": "markdown",
   "metadata": {},
   "source": [
    "# Purpose\n",
    "* implementation of multivariate kalman filter inspired by: [https://github.com/rlabbe/Kalman-and-Bayesian-Filters-in-Python/blob/master/06-Multivariate-Kalman-Filters.ipynb](https://github.com/rlabbe/Kalman-and-Bayesian-Filters-in-Python/blob/master/06-Multivariate-Kalman-Filters.ipynb)"
   ]
  },
  {
   "cell_type": "markdown",
   "metadata": {},
   "source": [
    "# Methodology\n",
    "* Implement a kalman filter to chase a ship at unsteady velocity"
   ]
  },
  {
   "cell_type": "markdown",
   "metadata": {},
   "source": [
    "# Setup"
   ]
  },
  {
   "cell_type": "code",
   "execution_count": null,
   "metadata": {},
   "outputs": [],
   "source": [
    "# %load imports.py\n",
    "\n",
    "%matplotlib inline\n",
    "%load_ext autoreload\n",
    "%autoreload 2\n",
    "\n",
    "import pandas as pd\n",
    "pd.options.display.max_rows = 999\n",
    "pd.options.display.max_columns = 999\n",
    "pd.set_option(\"display.max_columns\", None)\n",
    "import numpy as np\n",
    "import os\n",
    "import matplotlib.pyplot as plt\n",
    "import seaborn as sns\n",
    "from scipy.stats import norm\n",
    "import filterpy.stats as stats"
   ]
  },
  {
   "cell_type": "code",
   "execution_count": null,
   "metadata": {},
   "outputs": [],
   "source": [
    "import math\n",
    "import numpy as np\n",
    "from numpy.random import randn\n",
    "\n",
    "def compute_dog_data(z_var, process_var, count=1, dt=1.):\n",
    "    \"returns track, measurements 1D ndarrays\"\n",
    "    x, vel = 0., 1.\n",
    "    z_std = math.sqrt(z_var) \n",
    "    p_std = math.sqrt(process_var)\n",
    "    xs, zs = [], []\n",
    "    for _ in range(count):\n",
    "        v = vel + (randn() * p_std)\n",
    "        \n",
    "        x += v*dt        \n",
    "        xs.append([x,v])\n",
    "        \n",
    "        zs.append(x + randn() * z_std)  \n",
    "        \n",
    "    return np.array(xs), np.array(zs), "
   ]
  },
  {
   "cell_type": "code",
   "execution_count": null,
   "metadata": {},
   "outputs": [],
   "source": [
    "from filterpy.common import Q_discrete_white_noise\n",
    "\n",
    "dt = 1.\n",
    "R_var = 10\n",
    "Q_var = 0.01\n",
    "\n",
    "count = 50\n",
    "track, zs = compute_dog_data(R_var, Q_var, count)\n"
   ]
  },
  {
   "cell_type": "code",
   "execution_count": null,
   "metadata": {},
   "outputs": [],
   "source": [
    "from scipy.linalg import inv\n",
    "\n",
    "def filter(x,P,F,H,R,Q):\n",
    "\n",
    "    xs, cov = [], []\n",
    "    for z in zs:\n",
    "        # predict\n",
    "        x = F @ x\n",
    "        P = F @ P @ F.T + Q\n",
    "        \n",
    "        #update\n",
    "        S = H @ P @ H.T + R\n",
    "        K = P @ H.T @ inv(S)\n",
    "        y = z - H @ x\n",
    "        x += K @ y\n",
    "        P = P - K @ H @ P\n",
    "        \n",
    "        xs.append(x)\n",
    "        cov.append(P)\n",
    "    \n",
    "    xs, cov = np.array(xs), np.array(cov)\n",
    "    return xs, cov"
   ]
  },
  {
   "cell_type": "code",
   "execution_count": null,
   "metadata": {},
   "outputs": [],
   "source": [
    "x = np.array([[10.0, 4.5]]).T  # state mean\n",
    "P = np.diag([500, 49])         # state covariance\n",
    "F = np.array([[1, dt],         # transition function\n",
    "              [0,  1]])\n",
    "H = np.array([[1., 0.]])       # measurement function\n",
    "R = np.array([[R_var]])        # measurement covariance\n",
    "# z : measurement mean\n",
    "Q = Q_discrete_white_noise(dim=2, dt=dt, var=Q_var)  # process covariance\n",
    "\n",
    "xs,cov=filter(x=x, P=P, F=F, H=H, R=R, Q=Q)"
   ]
  },
  {
   "cell_type": "code",
   "execution_count": null,
   "metadata": {},
   "outputs": [],
   "source": [
    "fig,ax=plt.subplots()\n",
    "\n",
    "ax.plot(track[:,0], label='real')\n",
    "ax.plot(xs[:,0], label='filter')\n",
    "ax.set_ylabel('x [m]')\n",
    "ax.legend()\n",
    "\n",
    "fig,ax=plt.subplots()\n",
    "\n",
    "ax.plot(track[:,1], label='real')\n",
    "ax.plot(xs[:,1], label='filter')\n",
    "ax.set_ylabel('v [m/s]')\n",
    "ax.legend()"
   ]
  },
  {
   "cell_type": "code",
   "execution_count": null,
   "metadata": {},
   "outputs": [],
   "source": [
    "from scipy.stats import multivariate_normal\n",
    "\n",
    "ncols = 4\n",
    "fig,axes=plt.subplots(ncols=ncols)\n",
    "fig.set_size_inches(15,5)\n",
    "\n",
    "for n,i in enumerate(range(0, len(xs), int(len(xs)/(ncols-1)))):\n",
    "\n",
    "    mus = xs[i].flatten()\n",
    "    rv = multivariate_normal(mean=mus, cov=cov[i])\n",
    "    \n",
    "    x_ = np.linspace(np.min(xs[:,0]), np.max(xs[:,0]),50)\n",
    "    y_ = np.linspace(np.min(xs[:,1]), np.max(xs[:,1]),50)\n",
    "    \n",
    "    x, y = np.meshgrid(x_, y_)\n",
    "    pos = np.dstack((x, y))\n",
    "    \n",
    "    ax=axes[n]\n",
    "    ax.contourf(x, y, rv.pdf(pos));"
   ]
  },
  {
   "cell_type": "code",
   "execution_count": null,
   "metadata": {},
   "outputs": [],
   "source": []
  }
 ],
 "metadata": {
  "citation-manager": {
   "items": {}
  },
  "kernelspec": {
   "display_name": "Python 3",
   "language": "python",
   "name": "python3"
  },
  "language_info": {
   "codemirror_mode": {
    "name": "ipython",
    "version": 3
   },
   "file_extension": ".py",
   "mimetype": "text/x-python",
   "name": "python",
   "nbconvert_exporter": "python",
   "pygments_lexer": "ipython3",
   "version": "3.9.5"
  }
 },
 "nbformat": 4,
 "nbformat_minor": 4
}
