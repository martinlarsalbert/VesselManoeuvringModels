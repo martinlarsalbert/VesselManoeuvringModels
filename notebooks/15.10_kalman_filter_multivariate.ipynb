{
 "cells": [
  {
   "cell_type": "markdown",
   "metadata": {},
   "source": [
    "# Multivariate Kalman filter"
   ]
  },
  {
   "cell_type": "markdown",
   "metadata": {},
   "source": [
    "# Purpose\n",
    "* implementation of multivariate kalman filter inspired by: [https://github.com/rlabbe/Kalman-and-Bayesian-Filters-in-Python/blob/master/06-Multivariate-Kalman-Filters.ipynb](https://github.com/rlabbe/Kalman-and-Bayesian-Filters-in-Python/blob/master/06-Multivariate-Kalman-Filters.ipynb)"
   ]
  },
  {
   "cell_type": "markdown",
   "metadata": {},
   "source": [
    "# Methodology\n",
    "* Implement a kalman filter to chase a ship at unsteady velocity"
   ]
  },
  {
   "cell_type": "markdown",
   "metadata": {},
   "source": [
    "# Setup"
   ]
  },
  {
   "cell_type": "code",
   "execution_count": null,
   "metadata": {
    "tags": []
   },
   "outputs": [],
   "source": [
    "# %load imports.py\n",
    "\n",
    "%matplotlib inline\n",
    "%load_ext autoreload\n",
    "%autoreload 2\n",
    "\n",
    "import pandas as pd\n",
    "pd.options.display.max_rows = 999\n",
    "pd.options.display.max_columns = 999\n",
    "pd.set_option(\"display.max_columns\", None)\n",
    "import numpy as np\n",
    "import os\n",
    "import matplotlib.pyplot as plt\n",
    "import seaborn as sns\n",
    "from scipy.stats import norm\n",
    "import filterpy.stats as stats"
   ]
  },
  {
   "cell_type": "code",
   "execution_count": null,
   "metadata": {},
   "outputs": [],
   "source": [
    "import math\n",
    "import numpy as np\n",
    "from numpy.random import randn\n",
    "\n",
    "def compute_dog_data(z_var, process_var, count=1, dt=1.):\n",
    "    \"returns track, measurements 1D ndarrays\"\n",
    "    x, vel = 0., 1.\n",
    "    z_std = math.sqrt(z_var) \n",
    "    p_std = math.sqrt(process_var)\n",
    "    xs, zs = [], []\n",
    "    for _ in range(count):\n",
    "        v = vel + (randn() * p_std)\n",
    "        \n",
    "        x += v*dt        \n",
    "        xs.append([x,v])\n",
    "        \n",
    "        zs.append(x + randn() * z_std)  \n",
    "        \n",
    "    return np.array(xs), np.array(zs), "
   ]
  },
  {
   "cell_type": "code",
   "execution_count": null,
   "metadata": {},
   "outputs": [],
   "source": [
    "from filterpy.common import Q_discrete_white_noise\n",
    "\n",
    "dt = 1.\n",
    "R_var = 10\n",
    "Q_var = 0.01\n",
    "\n",
    "count = 50\n",
    "track, zs = compute_dog_data(R_var, Q_var, count)\n"
   ]
  },
  {
   "cell_type": "code",
   "execution_count": null,
   "metadata": {},
   "outputs": [],
   "source": [
    "from scipy.linalg import inv\n",
    "\n",
    "def filter(zs,x,P,F,H,R,Q):\n",
    "\n",
    "    xs, cov = [], []\n",
    "    for z in zs:\n",
    "        # predict\n",
    "        x = F @ x\n",
    "        P = F @ P @ F.T + Q\n",
    "        \n",
    "        #update\n",
    "        S = H @ P @ H.T + R\n",
    "        K = P @ H.T @ inv(S)\n",
    "        y = z - H @ x\n",
    "        x += K @ y\n",
    "        P = P - K @ H @ P\n",
    "        \n",
    "        xs.append(x)\n",
    "        cov.append(P)\n",
    "    \n",
    "    xs, cov = np.array(xs), np.array(cov)\n",
    "    return xs, cov"
   ]
  },
  {
   "cell_type": "code",
   "execution_count": null,
   "metadata": {},
   "outputs": [],
   "source": [
    "x = np.array([[0, 1]]).T  # state mean\n",
    "P = np.diag([500, 49])         # state covariance\n",
    "F = np.array([[1, dt],         # transition function\n",
    "              [0,  1]])\n",
    "H = np.array([[1., 0.]])       # measurement function\n",
    "R = np.array([[R_var]])        # measurement covariance\n",
    "# z : measurement mean\n",
    "Q = Q_discrete_white_noise(dim=2, dt=dt, var=Q_var)  # process covariance\n",
    "\n",
    "xs,cov=filter(zs=zs, x=x, P=P, F=F, H=H, R=R, Q=Q)"
   ]
  },
  {
   "cell_type": "code",
   "execution_count": null,
   "metadata": {},
   "outputs": [],
   "source": [
    "fig,ax=plt.subplots()\n",
    "\n",
    "ax.plot(track[:,0], label='real')\n",
    "ax.plot(zs, '.', label='measurement')\n",
    "ax.plot(xs[:,0], label='filter')\n",
    "ax.set_ylabel('x [m]')\n",
    "ax.legend()\n",
    "\n",
    "fig,ax=plt.subplots()\n",
    "\n",
    "ax.plot(track[:,1], label='real')\n",
    "ax.plot(xs[:,1], label='filter')\n",
    "ax.set_ylabel('v [m/s]')\n",
    "ax.legend()"
   ]
  },
  {
   "cell_type": "code",
   "execution_count": null,
   "metadata": {},
   "outputs": [],
   "source": [
    "from scipy.stats import multivariate_normal\n",
    "\n",
    "ncols = 4\n",
    "fig,axes=plt.subplots(ncols=ncols)\n",
    "fig.set_size_inches(15,5)\n",
    "\n",
    "for n,i in enumerate(range(0, len(xs), int(len(xs)/(ncols-1)))):\n",
    "\n",
    "    mus = xs[i].flatten()\n",
    "    rv = multivariate_normal(mean=mus, cov=cov[i])\n",
    "    \n",
    "    x_ = np.linspace(np.min(xs[:,0]), np.max(xs[:,0]),50)\n",
    "    y_ = np.linspace(np.min(xs[:,1]), np.max(xs[:,1]),50)\n",
    "    \n",
    "    xx_, yy_ = np.meshgrid(x_, y_)\n",
    "    pos = np.dstack((xx_, yy_))\n",
    "    \n",
    "    ax=axes[n]\n",
    "    ax.contourf(xx_, yy_, rv.pdf(pos));"
   ]
  },
  {
   "cell_type": "markdown",
   "metadata": {},
   "source": [
    "## Smoother"
   ]
  },
  {
   "cell_type": "code",
   "execution_count": null,
   "metadata": {},
   "outputs": [],
   "source": [
    "from numpy import zeros\n",
    "from numpy.linalg import inv\n",
    "\n",
    "def rts_smoother(Xs, Ps, F, Q):\n",
    "    n, dim_x, _ = Xs.shape\n",
    "\n",
    "    # smoother gain\n",
    "    K = zeros((n,dim_x, dim_x))\n",
    "    x, P, Pp = Xs.copy(), Ps.copy(), Ps.copy()\n",
    "\n",
    "    for k in range(n-2,-1,-1):\n",
    "        Pp[k] = F @ P[k] @ F.T + Q # predicted covariance\n",
    "\n",
    "        K[k]  = P[k] @ F.T @inv(Pp[k])\n",
    "        x[k] += K[k] @ (x[k+1] - (F @ x[k]))     \n",
    "        P[k] += K[k] @ (P[k+1] - Pp[k]) @ K[k].T\n",
    "    return (x, P, K, Pp)"
   ]
  },
  {
   "cell_type": "code",
   "execution_count": null,
   "metadata": {},
   "outputs": [],
   "source": [
    "xs,cov=filter(zs=zs, x=x, P=P, F=F, H=H, R=R, Q=Q)\n",
    "xs = xs.reshape((len(zs),len(x)))\n",
    "\n",
    "xs_reverse = np.flipud(xs)\n",
    "P_reverse = np.flipud(cov)"
   ]
  },
  {
   "cell_type": "code",
   "execution_count": null,
   "metadata": {},
   "outputs": [],
   "source": [
    "def filter3(zs,x,Ps,F,H,R,Q):\n",
    "\n",
    "    xs, cov = [], []\n",
    "    for z,P in zip(zs,Ps):\n",
    "        # predict\n",
    "        x = F @ x\n",
    "        P = F @ P @ F.T + Q\n",
    "        \n",
    "        #update\n",
    "        S = H @ P @ H.T + R\n",
    "        K = P @ H.T @ inv(S)\n",
    "        y = z - H @ x\n",
    "        x += K @ y\n",
    "        P = P - K @ H @ P\n",
    "        \n",
    "        xs.append(x)\n",
    "        cov.append(P)\n",
    "    \n",
    "    xs, cov = np.array(xs), np.array(cov)\n",
    "    return xs, cov"
   ]
  },
  {
   "cell_type": "code",
   "execution_count": null,
   "metadata": {},
   "outputs": [],
   "source": [
    "xs_,cov_ = filter3(zs=xs_reverse[:,0], x=xs_reverse[0,:], Ps=P_reverse, F=F, H=H, R=R, Q=Q)\n",
    "xs_ = np.flipud(xs_)\n",
    "xs_ = xs_.reshape(xs.shape)\n",
    "cov_ = np.flipud(cov_)\n",
    "\n",
    "fig,ax=plt.subplots()\n",
    "\n",
    "ax.plot(track[:,0], label='real')\n",
    "ax.plot(zs, '.', label='measurement')\n",
    "ax.plot(xs[:,0], label='filter')\n",
    "ax.plot(x_[:,0], label='smoother')\n",
    "ax.set_ylabel('x [m]')\n"
   ]
  },
  {
   "cell_type": "code",
   "execution_count": null,
   "metadata": {},
   "outputs": [],
   "source": [
    "xs_reverse.shape"
   ]
  },
  {
   "cell_type": "code",
   "execution_count": null,
   "metadata": {},
   "outputs": [],
   "source": [
    "fig,ax=plt.subplots()\n",
    "\n",
    "ax.plot(track[:,0], label='real')\n",
    "ax.plot(zs, '.', label='measurement')\n",
    "ax.plot(xs[:,0], label='filter')\n",
    "ax.plot(x_smooth[:,0], label='smoother')\n",
    "ax.set_ylabel('x [m]')\n",
    "ax.legend()\n",
    "\n",
    "fig,ax=plt.subplots()\n",
    "\n",
    "ax.plot(track[:,1], label='real')\n",
    "ax.plot(xs[:,1], label='filter')\n",
    "ax.plot(x_smooth[:,1], label='smoother')\n",
    "ax.set_ylabel('v [m/s]')\n",
    "ax.legend()"
   ]
  },
  {
   "cell_type": "markdown",
   "metadata": {},
   "source": [
    "## PyKalman"
   ]
  },
  {
   "cell_type": "code",
   "execution_count": null,
   "metadata": {},
   "outputs": [],
   "source": [
    "from filterpy.kalman import KalmanFilter\n",
    "kf = KalmanFilter(dim_x=2, dim_z=1)\n",
    "\n",
    "kf.x = np.array([[0, 1]]).T  # state mean\n",
    "kf.P = np.diag([500, 49])         # state covariance\n",
    "kf.F = np.array([[1, dt],         # transition function\n",
    "              [0,  1]])\n",
    "kf.H = np.array([[1., 0.]])       # measurement function\n",
    "kf.R = np.array([[R_var]])        # measurement covariance\n",
    "# z : measurement mean\n",
    "kf.Q = Q_discrete_white_noise(dim=2, dt=dt, var=Q_var)  # process covariance"
   ]
  },
  {
   "cell_type": "code",
   "execution_count": null,
   "metadata": {},
   "outputs": [],
   "source": [
    "(mu, cov, _, _) = kf.batch_filter(zs=zs)\n",
    "\n",
    "fig,ax=plt.subplots()\n",
    "ax.plot(track[:,0], label='real')\n",
    "ax.plot(zs, '.', label='measurement')\n",
    "ax.plot(mu[:,0], label='filter')\n",
    "ax.set_ylabel('x [m]')\n",
    "ax.legend()\n",
    "\n",
    "fig,ax=plt.subplots()\n",
    "ax.plot(track[:,1], label='real')\n",
    "ax.plot(mu[:,1], label='filter')\n",
    "ax.set_ylabel('v [m/s]')\n",
    "ax.legend()"
   ]
  },
  {
   "cell_type": "markdown",
   "metadata": {},
   "source": [
    "## Ball drop"
   ]
  },
  {
   "cell_type": "markdown",
   "metadata": {},
   "source": [
    "### Example\n",
    "Let's exemplify this with a simple problem, simulated a ball being dropped in air.\n",
    "The forces acting on this ball will be the drag from the air, which is modelled as: $C_d \\cdot \\dot{x}^2$ and the gravity, which is modelled as $g \\cdot m$:"
   ]
  },
  {
   "cell_type": "code",
   "execution_count": null,
   "metadata": {
    "tags": [
     "remove-input"
    ]
   },
   "outputs": [],
   "source": [
    "from sympy.physics.mechanics import (dynamicsymbols, ReferenceFrame,\n",
    "                                      Particle, Point)\n",
    "import sympy as sp\n",
    "from IPython.display import display, Math, Latex\n",
    "from sympy.physics.vector.printing import vpprint, vlatex\n",
    "from vessel_manoeuvring_models.substitute_dynamic_symbols import run, lambdify\n",
    "\n",
    "x = dynamicsymbols('x')\n",
    "m,F,g = sp.symbols('m F g')\n",
    "\n",
    "eq_kinetics = sp.Eq(F, -m*g)\n",
    "Math(vlatex(eq_kinetics))"
   ]
  },
  {
   "cell_type": "markdown",
   "metadata": {},
   "source": [
    "The kinematics connecting the forces to motion can be described with Newtons 2nd law:"
   ]
  },
  {
   "cell_type": "code",
   "execution_count": null,
   "metadata": {
    "tags": [
     "remove-input"
    ]
   },
   "outputs": [],
   "source": [
    "eq_kinematics = sp.Eq(F, m*x.diff().diff())\n",
    "Math(vlatex(eq_kinematics))"
   ]
  },
  {
   "cell_type": "markdown",
   "metadata": {},
   "source": [
    "The acceleration can then be calculated using these two equations:"
   ]
  },
  {
   "cell_type": "code",
   "execution_count": null,
   "metadata": {
    "tags": [
     "remove-input"
    ]
   },
   "outputs": [],
   "source": [
    "eqs=[eq_kinetics,eq_kinematics]\n",
    "solution = sp.solve(eqs, x.diff().diff(), F, dict=True)[0]\n",
    "eq_acc = sp.Eq(x.diff().diff(),solution[x.diff().diff()])\n",
    "Math(vlatex(eq_acc))"
   ]
  },
  {
   "cell_type": "markdown",
   "metadata": {},
   "source": [
    "This equation can be used to simulate the motion of the ball, by doing a time step integration of this initial value problem."
   ]
  },
  {
   "cell_type": "code",
   "execution_count": null,
   "metadata": {
    "tags": [
     "hide-input"
    ]
   },
   "outputs": [],
   "source": [
    "from scipy.integrate import solve_ivp\n",
    "\n",
    "acceleration_lambda = lambdify(eq_acc.rhs)\n",
    "\n",
    "inputs={\n",
    "'g' : 9.81,\n",
    "}\n",
    "\n",
    "def step(t,states, inputs):\n",
    "\n",
    "    x1d = states[1]\n",
    "    x2d = acceleration_lambda(**inputs)\n",
    "\n",
    "    dstates = [x1d, x2d]\n",
    "    return dstates\n",
    "\n",
    "t_ = np.linspace(0,10,100)\n",
    "y0 = [\n",
    "    0,0\n",
    "]\n",
    "solution = solve_ivp(fun=step, y0=y0, t_span=[t_[0],t_[-1]], t_eval=t_, args=(inputs,))\n",
    "\n",
    "df_result = pd.DataFrame(solution.y.T, index=solution.t, columns=['x','x1d'])\n",
    "df_result['x2d'] = acceleration_lambda(**inputs)\n",
    "\n",
    "fig,axes=plt.subplots(nrows=3)\n",
    "ax=axes[0]\n",
    "df_result.plot(y='x', label='$x$ [m]', ax=ax)\n",
    "\n",
    "ax.set_title('Ball position')\n",
    "\n",
    "ax=axes[1]\n",
    "df_result.plot(y='x1d', label='$\\dot{x}$ [m/s]', ax=axes[1])\n",
    "ax.set_title('Ball velocity [m/s]')\n",
    "ax.set_xlabel('time [s]')\n",
    "\n",
    "ax=axes[2]\n",
    "df_result.plot(y='x2d', label='$\\ddot{x}$ [m/s^2]', ax=axes[2])\n",
    "ax.set_title('Ball acceleration [m/s]')\n",
    "ax.set_xlabel('time [s]')\n",
    "\n",
    "for ax in axes:\n",
    "    ax.grid(True)\n",
    "plt.tight_layout()"
   ]
  },
  {
   "cell_type": "code",
   "execution_count": null,
   "metadata": {},
   "outputs": [],
   "source": [
    "df_measure = df_result.copy()\n",
    "df_measure['x1d'] = np.NaN\n",
    "df_measure['x2d'] = np.NaN\n",
    "\n",
    "R_var = 100\n",
    "Q_var = 0.01\n",
    "\n",
    "\n",
    "df_measure['R'] = np.random.normal(loc=0, scale=np.sqrt(R_var), size=len(df_measure))  # measurement noise\n",
    "df_measure['Q'] = np.random.normal(loc=0, scale=np.sqrt(Q_var), size=len(df_measure))  # process noise              \n",
    "\n",
    "df_measure['x']+=(df_measure['R']+df_measure['Q']) \n",
    "                  \n"
   ]
  },
  {
   "cell_type": "code",
   "execution_count": null,
   "metadata": {},
   "outputs": [],
   "source": [
    "dt = float(df_measure.index[1]-df_measure.index[0] )\n",
    "x = np.array([[0, 0]]).T  # state mean\n",
    "P = np.diag([500, 49])         # state covariance\n",
    "F = np.array([[1, dt],         # transition matrix\n",
    "              [0,  1]])\n",
    "H = np.array([[1., 0.]])       # measurement function\n",
    "R = np.array([[R_var]])        # measurement covariance\n",
    "Q = Q_discrete_white_noise(dim=2, dt=dt, var=Q_var)  # process covariance\n",
    "xs,cov=filter(zs=df_measure['x'], x=x, P=P, F=F, H=H, R=R, Q=Q)\n",
    "df_pred2 = pd.DataFrame(data=xs.reshape((len(df_result),2)), index=df_result.index, columns=['x','x1d'])\n",
    "\n",
    "x_smooth, P_smooth, K_smooth, Pp_smoot = rts_smoother(xs, cov, F, Q)\n",
    "df_pred2_smooth= pd.DataFrame(data=x_smooth.reshape((len(df_measure),2)), columns=['x','x1d'], index=df_measure.index)\n"
   ]
  },
  {
   "cell_type": "markdown",
   "metadata": {},
   "source": [
    "## Control"
   ]
  },
  {
   "cell_type": "code",
   "execution_count": null,
   "metadata": {},
   "outputs": [],
   "source": [
    "from scipy.linalg import inv\n",
    "\n",
    "def filter2(zs, x,u,P,F,H,R,Q,B):\n",
    "\n",
    "    xs, cov = [], []\n",
    "    for z in zs:\n",
    "        # predict\n",
    "        x = F @ x + B.dot(u)\n",
    "        P = F @ P @ F.T + Q\n",
    "        \n",
    "        #update\n",
    "        S = H @ P @ H.T + R\n",
    "        K = P @ H.T @ inv(S)\n",
    "        y = z - H @ x\n",
    "        x += K @ y\n",
    "        P = P - K @ H @ P\n",
    "        \n",
    "        xs.append(x)\n",
    "        cov.append(P)\n",
    "    \n",
    "    xs, cov = np.array(xs), np.array(cov)\n",
    "    return xs, cov"
   ]
  },
  {
   "cell_type": "code",
   "execution_count": null,
   "metadata": {},
   "outputs": [],
   "source": [
    "def rts_smoother_control(Xs, Ps, F, Q, B, u):\n",
    "    n, dim_x, _ = Xs.shape\n",
    "\n",
    "    # smoother gain\n",
    "    K = zeros((n,dim_x, dim_x))\n",
    "    x, P, Pp = Xs.copy(), Ps.copy(), Ps.copy()\n",
    "\n",
    "    for k in range(n-2,-1,-1):\n",
    "        Pp[k] = F @ P[k] @ F.T + Q # predicted covariance\n",
    "\n",
    "        K[k]  = P[k] @ F.T @inv(Pp[k])\n",
    "        x[k] += K[k] @ (x[k+1] - (F @ x[k]))     \n",
    "        P[k] += K[k] @ (P[k+1] - Pp[k]) @ K[k].T\n",
    "    return (x, P, K, Pp)"
   ]
  },
  {
   "cell_type": "code",
   "execution_count": null,
   "metadata": {},
   "outputs": [],
   "source": [
    "dt = float(df_measure.index[1]-df_measure.index[0] )\n",
    "x = np.array([[0, 0]]).T  # state mean\n",
    "P = np.diag([500, 49])         # state covariance\n",
    "F = np.array([[1, dt],         # transition matrix\n",
    "              [0,  1]])\n",
    "H = np.array([[1., 0.]])       # measurement function\n",
    "R = np.array([[R_var]])        # measurement covariance\n",
    "Q = Q_discrete_white_noise(dim=2, dt=dt, var=Q_var)  # process covariance\n",
    "B = np.array([[1/2*dt**2],         # control transition matrix\n",
    "                  [dt]])\n",
    "\n",
    "a = -9.81\n",
    "\n",
    "xs,cov=filter2(zs=df_measure['x'], x=x, u=a, P=P, F=F, H=H, R=R, Q=Q, B=B)\n",
    "df_pred_control = pd.DataFrame(data=xs.reshape((len(df_measure),2)), columns=['x','x1d'], index=df_measure.index)\n",
    "\n",
    "x_smooth, P_smooth, K_smooth, Pp_smoot = rts_smoother_control(xs, cov, F, Q, B=B, u=a)\n",
    "df_pred_control_smooth= pd.DataFrame(data=x_smooth.reshape((len(df_measure),2)), columns=['x','x1d'], index=df_measure.index)\n"
   ]
  },
  {
   "cell_type": "code",
   "execution_count": null,
   "metadata": {},
   "outputs": [],
   "source": [
    "fig,ax=plt.subplots()\n",
    "fig.set_size_inches(15,8)\n",
    "\n",
    "df_result.plot(y='x', ax=ax, label='real')\n",
    "df_measure.plot(y='x', style='.', ax=ax, label='measure')\n",
    "df_pred2.plot(y='x', style='--', ax=ax, label='filter')\n",
    "df_pred2_smooth.plot(y='x', style='--', ax=ax, label='smoother')\n",
    "df_pred_control.plot(y='x', style='--', ax=ax, label='filter control')\n",
    "df_pred_control_smooth.plot(y='x', style='--', ax=ax, label='smoother control ')\n",
    "\n",
    "\n",
    "fig,ax=plt.subplots()\n",
    "fig.set_size_inches(15,8)\n",
    "df_result.plot(y='x1d', ax=ax, label='real')\n",
    "df_pred2.plot(y='x1d', style='--', ax=ax, label='filter')\n",
    "df_pred2_smooth.plot(y='x1d', style='--', ax=ax, label='smoother')\n",
    "df_pred_control.plot(y='x1d', style='--', ax=ax, label='filter control')\n",
    "df_pred_control_smooth.plot(y='x1d', style='--', ax=ax, label='smoother control ')\n"
   ]
  },
  {
   "cell_type": "markdown",
   "metadata": {},
   "source": [
    "### statsmodels"
   ]
  },
  {
   "cell_type": "code",
   "execution_count": null,
   "metadata": {},
   "outputs": [],
   "source": [
    "import numpy as np\n",
    "import statsmodels.api as sm\n",
    "import matplotlib.pyplot as plt\n",
    "\n",
    "# --- True values --- #\n",
    "init_state = 1.\n",
    "# covariance matrix\n",
    "state_noise = 0.02\n",
    "# measurement noise\n",
    "measure_noise = 0.8\n",
    "\n",
    "# --- Generate Data --- #\n",
    "np.random.seed(1234)\n",
    "numsteps = 80\n",
    "\n",
    "# control inputs\n",
    "controls = np.array([0]*1 + [0]*19 + [3]*40 + [0]*20)\n",
    "# get true states\n",
    "true_states = np.zeros(numsteps)\n",
    "true_states[0] = init_state \n",
    "true_states += controls\n",
    "# state noise\n",
    "true_states += np.random.normal(0, state_noise, numsteps)\n",
    "\n",
    "# measurements\n",
    "measurements = np.array([(s + np.random.normal(0, measure_noise)) for s in true_states])\n",
    "\n",
    "# --- Create the model --- #\n",
    "mod = sm.tsa.statespace.MLEModel(measurements, k_states=1, k_posdef=1)\n",
    "mod['design'] = [1.]\n",
    "mod['obs_cov'] = [measure_noise]\n",
    "mod['state_intercept'] = np.r_[controls[1:], np.nan][None,:]\n",
    "mod['selection'] = [1.]\n",
    "mod['state_cov'] = [state_noise]\n",
    "mod.initialize_known(1+controls[0:1], [[0.02]])\n",
    "res = mod.filter(init_state)\n",
    "\n",
    "# --- Plot the results --- #\n",
    "fig, axes = plt.subplots(2, 1, figsize=(10,6))\n",
    "time = range(numsteps)\n",
    "axes[0].plot(time, measurements, 'b', label='measured')\n",
    "axes[0].plot(time, true_states, 'r', label='true')\n",
    "axes[0].plot(time, res.filtered_state[0], 'g', label='estimates')\n",
    "#axes[0].plot(time, res.forecasts[0], 'g', label='estimates')\n",
    "axes[0].legend()\n",
    "\n",
    "axes[1].plot(time, res.filtered_state_cov[0,0,:], 'b', label='covariance')\n",
    "axes[1].legend();"
   ]
  },
  {
   "cell_type": "code",
   "execution_count": null,
   "metadata": {},
   "outputs": [],
   "source": []
  }
 ],
 "metadata": {
  "citation-manager": {
   "items": {}
  },
  "kernelspec": {
   "display_name": "Python 3",
   "language": "python",
   "name": "python3"
  },
  "language_info": {
   "codemirror_mode": {
    "name": "ipython",
    "version": 3
   },
   "file_extension": ".py",
   "mimetype": "text/x-python",
   "name": "python",
   "nbconvert_exporter": "python",
   "pygments_lexer": "ipython3",
   "version": "3.9.5"
  }
 },
 "nbformat": 4,
 "nbformat_minor": 4
}
