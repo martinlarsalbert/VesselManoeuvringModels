{
    "cells": [
        {
            "cell_type": "markdown",
            "id": "fa9f70d2-a2b8-45bd-bf2a-9df416480d3e",
            "metadata": {},
            "source": [
                "# Extended Kalman filter for 3 DOF linear model\n",
                "An Extended Kalman filter with a 3 DOF linear model as the predictor will be developed.\n",
                "The filter is run on simulated data as well as real model test data."
            ]
        },
        {
            "cell_type": "code",
            "execution_count": null,
            "id": "c85286e4-7e5a-4f98-a162-a141c8e37ea9",
            "metadata": {
                "tags": [
                    "hide-cell"
                ]
            },
            "outputs": [],
            "source": [
                "%load_ext autoreload\n",
                "%autoreload 2\n",
                "\n",
                "import pandas as pd\n",
                "import numpy as np\n",
                "import matplotlib.pyplot as plt\n",
                "from numpy.linalg import inv\n",
                "import sympy as sp\n",
                "\n",
                "import vessel_manoeuvring_models.visualization.book_format as book_format\n",
                "book_format.set_style()\n",
                "from vessel_manoeuvring_models.substitute_dynamic_symbols import lambdify\n",
                "from sympy import Matrix\n",
                "from sympy.physics.mechanics import (dynamicsymbols, ReferenceFrame,\n",
                "                                      Particle, Point)\n",
                "from IPython.display import display, Math, Latex\n",
                "from vessel_manoeuvring_models.substitute_dynamic_symbols import run, lambdify\n",
                "from sympy.physics.vector.printing import vpprint, vlatex\n",
                "from vessel_manoeuvring_models.data import mdl\n",
                "from vessel_manoeuvring_models.extended_kalman_filter import extended_kalman_filter, rts_smoother\n",
                "import vessel_manoeuvring_models.models.vmm_nonlinear_EOM  as vmm\n",
                "from docs.book.example_1 import ship_parameters, df_parameters\n",
                "from vessel_manoeuvring_models.symbols import *\n",
                "from vessel_manoeuvring_models import prime_system\n",
                "p = df_parameters[\"symbol\"]\n",
                "from vessel_manoeuvring_models.visualization.plot import track_plot, plot\n",
                "\n",
                "import matplotlib.pyplot as plt\n",
                "import os\n",
                "if os.name == 'nt':\n",
                "    plt.style.use('../docs/book/book.mplstyle')  # Windows"
            ]
        },
        {
            "cell_type": "markdown",
            "id": "a1f32a94-6aba-4551-a54a-6b59c570c699",
            "metadata": {},
            "source": [
                "## 3DOF model"
            ]
        },
        {
            "cell_type": "code",
            "execution_count": null,
            "id": "d1fea5a0-9092-4fc0-8907-083b3a08c56e",
            "metadata": {
                "tags": [
                    "remove-input"
                ]
            },
            "outputs": [],
            "source": [
                "X_eq = vmm.X_eq\n",
                "Y_eq = vmm.Y_eq\n",
                "N_eq = vmm.N_eq\n",
                "\n",
                "A, b = sp.linear_eq_to_matrix([X_eq, Y_eq, N_eq], [u1d, v1d, r1d])\n",
                "\n",
                "acceleration = sp.matrices.MutableDenseMatrix([u1d,v1d,r1d])\n",
                "eq_simulator = sp.Eq(sp.UnevaluatedExpr(A)*sp.UnevaluatedExpr(acceleration),sp.UnevaluatedExpr(b))\n",
                "eq_simulator"
            ]
        },
        {
            "cell_type": "code",
            "execution_count": null,
            "id": "e6b926f7-816c-4766-b434-08796a6917fe",
            "metadata": {
                "tags": [
                    "remove-input"
                ]
            },
            "outputs": [],
            "source": [
                "A_inv = A.inv()\n",
                "S = sp.symbols('S')\n",
                "eq_S=sp.Eq(S,-sp.fraction(A_inv[1,1])[1])\n",
                "\n",
                "A_inv_S = A_inv.subs(eq_S.rhs,S)\n",
                "eq_acceleration_matrix_clean = sp.Eq(sp.UnevaluatedExpr(acceleration),sp.UnevaluatedExpr(A_inv_S)*sp.UnevaluatedExpr(b))\n",
                "Math(vlatex(eq_acceleration_matrix_clean))"
            ]
        },
        {
            "cell_type": "code",
            "execution_count": null,
            "id": "1cf5d9f4-9294-48ac-82f5-5ab857c6b278",
            "metadata": {
                "tags": [
                    "hide-input"
                ]
            },
            "outputs": [],
            "source": [
                "u1d_function = sp.Function(r'\\dot{u}')(u,v,r,delta)\n",
                "v1d_function = sp.Function(r'\\dot{v}')(u,v,r,delta)\n",
                "r_function = sp.Function(r'\\dot{r}')(u,v,r,delta)\n",
                "\n",
                "subs_prime = [\n",
                "    \n",
                "    (m,m/prime_system.df_prime.mass.denominator),\n",
                "    (I_z,I_z/prime_system.df_prime.inertia_moment.denominator),\n",
                "    (x_G,x_G/prime_system.df_prime.length.denominator),\n",
                "    \n",
                "    (u, u/sp.sqrt(u**2+v**2)),\n",
                "    (v, v/sp.sqrt(u**2+v**2)),\n",
                "    (r, r/(sp.sqrt(u**2+v**2)/L)),\n",
                "   \n",
                "]\n",
                "\n",
                "subs = [\n",
                "(X_D, vmm.X_qs_eq.rhs),\n",
                "(Y_D, vmm.Y_qs_eq.rhs),\n",
                "(N_D, vmm.N_qs_eq.rhs),\n",
                "]\n",
                "\n",
                "subs = subs + subs_prime\n",
                "\n",
                "A_SI = A.subs(subs)\n",
                "b_SI = b.subs(subs)\n",
                "\n",
                "x_dot = sympy.matrices.dense.matrix_multiply_elementwise(A_SI.inv()*b_SI,\n",
                "                                                 sp.Matrix([(u**2+v**2)/L,(u**2+v**2)/L,(u**2+v**2)/(L**2)]))\n"
            ]
        },
        {
            "cell_type": "code",
            "execution_count": null,
            "id": "60de2bce-9317-40d7-9542-795c9a21887a",
            "metadata": {},
            "outputs": [],
            "source": [
                "x_dot"
            ]
        },
        {
            "cell_type": "code",
            "execution_count": null,
            "id": "2cdef716-74d6-4936-b57a-27876ee429be",
            "metadata": {},
            "outputs": [],
            "source": [
                "x_dot[1].args[2]"
            ]
        },
        {
            "cell_type": "code",
            "execution_count": null,
            "id": "ea4627c4-578f-4f9f-b4ce-505ad0a73f9f",
            "metadata": {
                "tags": [
                    "remove-cell"
                ]
            },
            "outputs": [],
            "source": [
                "x_ = sp.Matrix([u*sp.cos(psi)-v*sp.sin(psi),\n",
                "                                u*sp.sin(psi)+v*sp.cos(psi),\n",
                "                                r])\n",
                "\n",
                "f_ = sp.Matrix.vstack(x_, x_dot)\n",
                "\n",
                "subs = {value: key for key, value in p.items()}\n",
                "subs[psi] = sp.symbols('psi')\n",
                "lambda_f = lambdify(f_.subs(subs))"
            ]
        },
        {
            "cell_type": "code",
            "execution_count": null,
            "id": "e8f80028-36aa-42f0-81bc-acd3c8b4bac7",
            "metadata": {},
            "outputs": [],
            "source": [
                "import inspect\n",
                "lines = inspect.getsource(lambda_f)\n",
                "print(lines)"
            ]
        },
        {
            "cell_type": "code",
            "execution_count": null,
            "id": "ea2bd130-7c45-4e85-8894-236a17053d7e",
            "metadata": {},
            "outputs": [],
            "source": [
                "from vessel_manoeuvring_models.models.vmm import get_coefficients\n",
                "eq = sp.Eq(sp.UnevaluatedExpr(acceleration), f_[5])\n",
                "get_coefficients(eq)"
            ]
        },
        {
            "cell_type": "code",
            "execution_count": null,
            "id": "1689a49a-547b-4b29-8f92-9289c2e0da99",
            "metadata": {},
            "outputs": [],
            "source": [
                "\n",
                "\n",
                "parameters=df_parameters['prime'].copy()"
            ]
        },
        {
            "cell_type": "code",
            "execution_count": null,
            "id": "e78e7f3f-7593-4196-ab7f-0e1a63bfd45d",
            "metadata": {},
            "outputs": [],
            "source": [
                "%%time\n",
                "lambda_f(**parameters)"
            ]
        },
        {
            "cell_type": "code",
            "execution_count": null,
            "id": "db8f998a-ab7e-4c2f-8c00-af480ac68a39",
            "metadata": {},
            "outputs": [],
            "source": [
                "%%time\n",
                "expr=f_.subs(subs)\n",
                "lambda_f = lambdify(expr)"
            ]
        },
        {
            "cell_type": "code",
            "execution_count": null,
            "id": "0369b600-65e6-43e2-b2da-1e8b9fc5fe06",
            "metadata": {},
            "outputs": [],
            "source": [
                "subs = {value: key for key, value in p.items()}\n",
                "keys = list(set(subs.keys()) & f_.free_symbols)\n",
                "subs = {key : subs[key] for key in keys}\n",
                "expr=f_.subs(subs)"
            ]
        },
        {
            "cell_type": "code",
            "execution_count": null,
            "id": "2e8e3643-a677-4e19-a03d-c67ec1610f71",
            "metadata": {},
            "outputs": [],
            "source": [
                "subs"
            ]
        },
        {
            "cell_type": "code",
            "execution_count": null,
            "id": "667263f0-b250-4e81-8dcd-768a647507c0",
            "metadata": {},
            "outputs": [],
            "source": [
                "%%time\n",
                "subs[psi] = sp.symbols('psi')\n",
                "expr=f_.subs(subs)\n",
                "sp.lambdify(list(expr.free_symbols), expr)"
            ]
        },
        {
            "cell_type": "code",
            "execution_count": null,
            "id": "eb2a514b-be8e-441f-9167-c6500e11d457",
            "metadata": {},
            "outputs": [],
            "source": [
                "sp.lambdify(list(f_.free_symbols), f_)"
            ]
        },
        {
            "cell_type": "code",
            "execution_count": null,
            "id": "541942c0-32b4-44fa-9fcb-9d576f6a9d72",
            "metadata": {},
            "outputs": [],
            "source": [
                "lambda_f"
            ]
        },
        {
            "cell_type": "code",
            "execution_count": null,
            "id": "7a0955cc-509d-4a25-bbda-4e374d5495f0",
            "metadata": {},
            "outputs": [],
            "source": [
                "def lambda_f_constructor(parameters, ship_parameters):\n",
                "    \n",
                "    def f(x, input):\n",
                "       \n",
                "        psi=x[2]\n",
                "        u=x[3]\n",
                "        v=x[4]\n",
                "        r=x[5]\n",
                "        \n",
                "        x_dot = run(lambda_f, **parameters, **ship_parameters, psi=psi, u=u, v=v, r=r, **input).reshape(x.shape)\n",
                "        return x_dot\n",
                "    \n",
                "    return f"
            ]
        },
        {
            "cell_type": "markdown",
            "id": "f784a61f-689b-4d01-8c67-e71687c39998",
            "metadata": {},
            "source": [
                "## Simulation"
            ]
        },
        {
            "cell_type": "code",
            "execution_count": null,
            "id": "4d0d0c73-b188-46c4-9f29-959f9df322bd",
            "metadata": {},
            "outputs": [],
            "source": [
                "def time_step(x_,u_):\n",
                "    psi=x_[2]\n",
                "    u=x_[3]\n",
                "    v=x_[4]\n",
                "    r=x_[5]\n",
                "    delta = u_\n",
                "    x_dot = run(lambda_f, **parameters, **ship_parameters, psi=psi, u=u, v=v, r=r, delta=delta).flatten()\n",
                "    return x_dot\n",
                "\n",
                "def simulate(x0,E, ws, t, us):\n",
                "    \n",
                "    simdata = np.zeros((6,len(t)))\n",
                "    x_=x0\n",
                "    \n",
                "    Ed = h_ * E\n",
                "            \n",
                "    for i,(u_,w_) in enumerate(zip(us,ws)):\n",
                "        \n",
                "        w_ = w_.reshape(len(w_),1)\n",
                "        x_dot = lambda_f_(x_,u_) + Ed @ w_\n",
                "        \n",
                "        x_=x_ + h_*x_dot\n",
                "        \n",
                "        simdata[:,i] = x_.flatten()\n",
                "                \n",
                "    df = pd.DataFrame(simdata.T, columns=[\"x0\",\"y0\",\"psi\",\"u\",\"v\",\"r\"], index=t)\n",
                "    df.index.name = 'time'\n",
                "    df['delta'] = us\n",
                "    \n",
                "    return df"
            ]
        },
        {
            "cell_type": "code",
            "execution_count": null,
            "id": "f65c95d4-686c-4959-9c1f-8971b74422f7",
            "metadata": {
                "tags": [
                    "cell_hide",
                    "hide-cell"
                ]
            },
            "outputs": [],
            "source": [
                "parameters=df_parameters['prime'].copy()\n",
                "\n",
                "lambda_f_ = lambda_f_constructor(parameters=parameters, \n",
                "                                               ship_parameters=ship_parameters)\n",
                "\n",
                "N_ = 4000\n",
                "\n",
                "t_ = np.linspace(0,50,N_)\n",
                "h_ = float(t_[1]-t_[0])\n",
                "\n",
                "us = np.deg2rad(30*np.concatenate((-1*np.ones(int(N_/4)),\n",
                "                                1*np.ones(int(N_/4)),\n",
                "                                -1*np.ones(int(N_/4)),\n",
                "                                1*np.ones(int(N_/4)))))\n",
                "\n",
                "x0_ = np.array([[0,0,0,3,0,0]]).T\n",
                "no_states = len(x0_)\n",
                "\n",
                "np.random.seed(42)\n",
                "E = np.array([\n",
                "    [0,0,0],\n",
                "    [0,0,0],\n",
                "    [0,0,0],\n",
                "    [1,0,0],\n",
                "    [0,1,0],\n",
                "    [0,0,1],\n",
                "    ],\n",
                ")\n",
                "process_noise_u = 0.01\n",
                "process_noise_v = 0.01\n",
                "process_noise_r = np.deg2rad(0.01)\n",
                "\n",
                "ws = np.zeros((N_,3))\n",
                "ws[:,0] = np.random.normal(loc=process_noise_u, size=N_)\n",
                "ws[:,1] = np.random.normal(loc=process_noise_v, size=N_)\n",
                "ws[:,2] = np.random.normal(loc=process_noise_r, size=N_)\n",
                "\n",
                "df = simulate(x0=x0_, E=E, ws=ws, t=t_, us=us)"
            ]
        },
        {
            "cell_type": "code",
            "execution_count": null,
            "id": "4b7a38d8-ff7f-4598-9390-b6dc6857548a",
            "metadata": {},
            "outputs": [],
            "source": [
                "a = np.array([1,2,3])\n",
                "M = np.array([[1,1,1],[1,1,1]])\n",
                "a@M.T"
            ]
        },
        {
            "cell_type": "code",
            "execution_count": null,
            "id": "10c63ebb-97d0-4ba9-85d2-a40a60a10c57",
            "metadata": {},
            "outputs": [],
            "source": [
                "w_ = ws[0]\n",
                "E@w_+w_.reshape(3,1)"
            ]
        },
        {
            "cell_type": "code",
            "execution_count": null,
            "id": "d6e541ed-51e8-4d54-b95b-34e29140d40d",
            "metadata": {
                "tags": [
                    "remove-input"
                ]
            },
            "outputs": [],
            "source": [
                "track_plot(\n",
                "            df=df,\n",
                "            lpp=ship_parameters[\"L\"],\n",
                "            beam=ship_parameters[\"B\"],\n",
                "            color=\"green\",\n",
                "        );\n",
                "\n",
                "plot({'Simulation':df});"
            ]
        },
        {
            "cell_type": "markdown",
            "id": "5f79c877-e3d2-4d27-b518-58ef33d8d3e5",
            "metadata": {},
            "source": [
                "## Kalman filter\n",
                "Implementation of the Kalman filter. The code is inspired of this Matlab implementation: [ExEKF.m](https://github.com/cybergalactic/MSS/blob/master/mssExamples/ExEKF.m)."
            ]
        },
        {
            "cell_type": "code",
            "execution_count": null,
            "id": "a7b51c72-504c-4a29-8861-6ef3e7b15d0d",
            "metadata": {
                "tags": [
                    "remove-input"
                ]
            },
            "outputs": [],
            "source": [
                "x, x1d = sp.symbols(r'\\vec{x} \\dot{\\vec{x}}')  # State vector\n",
                "h = sp.symbols('h')\n",
                "u_input = sp.symbols(r'u_{input}')  # input vector\n",
                "w_noise = sp.symbols(r'w_{noise}')  # input vector\n",
                "\n",
                "f = sp.Function('f')(x,u_input,w_noise)\n",
                "eq_system = sp.Eq(x1d, f)\n",
                "eq_system"
            ]
        },
        {
            "cell_type": "code",
            "execution_count": null,
            "id": "3e2994cd-8c7e-4386-9064-3f2857b6a570",
            "metadata": {
                "tags": [
                    "remove-input"
                ]
            },
            "outputs": [],
            "source": [
                "eq_x = sp.Eq(x, sp.UnevaluatedExpr(sp.Matrix([x_0, y_0, psi, u, v, r])))\n",
                "eq_x"
            ]
        },
        {
            "cell_type": "code",
            "execution_count": null,
            "id": "c25778cf-f6a5-4515-b004-9388c5216ad5",
            "metadata": {},
            "outputs": [],
            "source": [
                "jac = sp.eye(6,6) + f_.jacobian(eq_x.rhs.doit())*h\n",
                "subs = {value: key for key, value in p.items()}\n",
                "subs[psi] = sp.symbols('psi')\n",
                "lambda_jacobian = lambdify(jac.subs(subs))"
            ]
        },
        {
            "cell_type": "code",
            "execution_count": null,
            "id": "6f486d9d-5efe-424d-8c63-b1880f2822ca",
            "metadata": {},
            "outputs": [],
            "source": [
                "lambda_jacobian"
            ]
        },
        {
            "cell_type": "code",
            "execution_count": null,
            "id": "be60b996-01b5-48ad-a5c8-0c41212be384",
            "metadata": {
                "tags": []
            },
            "outputs": [],
            "source": [
                "def lambda_jacobian_constructor(parameters, ship_parameters, h):\n",
                "    \n",
                "    def f(x, input):\n",
                "        \n",
                "        psi=x[2]\n",
                "        u=x[3]\n",
                "        v=x[4]\n",
                "        r=x[5]\n",
                "        \n",
                "        jacobian = run(lambda_jacobian, **parameters, **ship_parameters, psi=psi, u=u, v=v, r=r, h=h, **input)\n",
                "        return jacobian\n",
                "    \n",
                "    return f      "
            ]
        },
        {
            "cell_type": "code",
            "execution_count": null,
            "id": "74dc3e42-e52d-4ec7-8eae-f8bb4692cc61",
            "metadata": {},
            "outputs": [],
            "source": [
                "lambda_jacobian_ = lambda_jacobian_constructor(parameters=parameters, \n",
                "                                               ship_parameters=ship_parameters, h=h_)"
            ]
        },
        {
            "cell_type": "code",
            "execution_count": null,
            "id": "b1aa7888-3940-4262-b63c-530cfa146a5e",
            "metadata": {},
            "outputs": [],
            "source": [
                "df_measure = df.copy()\n",
                "\n",
                "measurement_noise_psi_max = 3\n",
                "measurement_noise_psi = np.deg2rad(measurement_noise_psi_max/3)\n",
                "epsilon_psi = np.random.normal(scale=measurement_noise_psi, size=N_)\n",
                "\n",
                "measurement_noise_xy_max=2\n",
                "measurement_noise_xy = measurement_noise_xy_max/3\n",
                "epsilon_x0 = np.random.normal(scale=measurement_noise_xy, size=N_)\n",
                "epsilon_y0 = np.random.normal(scale=measurement_noise_xy, size=N_)\n",
                "\n",
                "df_measure['psi'] = df['psi'] + epsilon_psi\n",
                "df_measure['x0'] = df['x0'] + epsilon_x0\n",
                "df_measure['y0'] = df['y0'] + epsilon_y0"
            ]
        },
        {
            "cell_type": "code",
            "execution_count": null,
            "id": "8e26db9d-824a-4a06-939b-63a5a715c6f5",
            "metadata": {
                "tags": [
                    "hide-cell"
                ]
            },
            "outputs": [],
            "source": [
                "\n",
                "P_prd = np.diag([0.1, 0.1, np.deg2rad(0.01), 0.001, 0.001, np.deg2rad(0.001)])\n",
                "Qd = np.diag([0.01, 0.01, np.deg2rad(0.1)])  #process variances: u,v,r\n",
                "Rd = h_*np.diag([measurement_noise_xy**2, measurement_noise_xy**2, measurement_noise_psi**2])  #measurement variances: x0,y0,psi\n",
                "\n",
                "ys = df_measure[['x0','y0','psi']].values\n",
                "\n",
                "x0_ = np.array([[0,0,0,3,0,0]]).T\n",
                "\n",
                "Cd = np.array([\n",
                "    [1, 0, 0, 0, 0, 0],\n",
                "    [0, 1, 0, 0, 0, 0],\n",
                "    [0, 0, 1, 0, 0, 0],\n",
                "])\n",
                "\n",
                "E = np.array([\n",
                "    [0,0,0],\n",
                "    [0,0,0],\n",
                "    [0,0,0],\n",
                "    [1,0,0],\n",
                "    [0,1,0],\n",
                "    [0,0,1],\n",
                "    ],\n",
                ")\n",
                "\n",
                "\n",
                "time_steps = extended_kalman_filter(\n",
                "                                    P_prd=P_prd, \n",
                "                                    lambda_f=lambda_f_, \n",
                "                                    lambda_jacobian=lambda_jacobian_,\n",
                "                                    #h=h_, \n",
                "                                    #us=us, \n",
                "                                    #ys=ys, \n",
                "                                    E=E, \n",
                "                                    Qd=Qd, \n",
                "                                    Rd=Rd, \n",
                "                                    Cd=Cd, data=df_measure)\n",
                "\n",
                "x_hats = np.array([time_step[\"x_hat\"].flatten() for time_step in time_steps]).T\n",
                "time = np.array([time_step[\"time\"] for time_step in time_steps]).T\n",
                "Ks = np.array([time_step[\"K\"] for time_step in time_steps]).T\n",
                "variances = np.array([np.diagonal(time_step[\"P_hat\"]) for time_step in time_steps]).T\n",
                "stds = np.sqrt(variances)"
            ]
        },
        {
            "cell_type": "code",
            "execution_count": null,
            "id": "b1db7e0a-8956-4f90-a126-d6f646c19231",
            "metadata": {},
            "outputs": [],
            "source": [
                "keys = ['x0','y0','psi','u','v','r']\n",
                "fig,ax=plt.subplots()\n",
                "for i,key in enumerate(keys):\n",
                "    ax.plot(time, variances[i,:], label=key)\n",
                "    \n",
                "ax.legend()\n",
                "ax.set_ylabel('std')\n",
                "ax.set_xlabel('time [s]')\n",
                "ax.set_ylim(0,10*np.max(variances[:,-1]))\n"
            ]
        },
        {
            "cell_type": "code",
            "execution_count": null,
            "id": "28cad5d8-4672-4a06-80f5-5e31c927c0f6",
            "metadata": {},
            "outputs": [],
            "source": [
                "df_kalman = pd.DataFrame(data=x_hats.T, index=time, columns=['x0','y0','psi','u','v','r'])\n",
                "df_kalman['delta'] = us\n",
                "\n",
                "dataframes = {\n",
                "    'Mesurement' : df_measure,\n",
                "    'Kalman filter' : df_kalman,\n",
                "    'Simulation' : df,\n",
                "}\n",
                "\n",
                "fig,ax=plt.subplots()\n",
                "styles = {\n",
                "    'Mesurement' : {\n",
                "        'linestyle' : '',\n",
                "        'marker' : '.',\n",
                "        'ms' : 1,\n",
                "    },\n",
                "    \n",
                "    'Kalman filter' : {\n",
                "        'lw' : 2,\n",
                "    },\n",
                "    \n",
                "    'Simulation' : {\n",
                "        'lw' : 1,\n",
                "        'linestyle' : ':',\n",
                "    },\n",
                "    \n",
                "}\n",
                "\n",
                "for label,df_ in dataframes.items():\n",
                "    track_plot(\n",
                "            df=df_,\n",
                "            lpp=ship_parameters[\"L\"],\n",
                "            beam=ship_parameters[\"B\"],\n",
                "            ax=ax,\n",
                "            label=label,\n",
                "            plot_boats=False,\n",
                "            **styles.get(label,{})\n",
                "        );\n",
                "ax.legend()\n",
                "\n",
                "\n",
                "plot(dataframes = dataframes, fig_size=(10,15), styles = ['-','-',':']);"
            ]
        },
        {
            "cell_type": "markdown",
            "id": "47b5f1a1-13c8-4b01-929d-57ee7b445691",
            "metadata": {},
            "source": [
                "# Real data\n",
                "Using the developed Kalman filter on some real model test data"
            ]
        },
        {
            "cell_type": "markdown",
            "id": "790d52d4-90f1-4e0c-aaac-90d255017cd2",
            "metadata": {},
            "source": [
                "## Load test"
            ]
        },
        {
            "cell_type": "code",
            "execution_count": null,
            "id": "034fbe93-5857-48af-8a1f-2faf6f34d068",
            "metadata": {
                "tags": [
                    "remove-input"
                ]
            },
            "outputs": [],
            "source": [
                "id=22773\n",
                "df, units, meta_data = mdl.load(dir_path = '../data/raw', id=id)\n",
                "df.index = df.index.total_seconds()\n",
                "df.index-=df.index[0]\n",
                "df['x0']-=df.iloc[0]['x0']\n",
                "df['y0']-=df.iloc[0]['y0']\n",
                "df['psi']-=df.iloc[0]['psi']\n"
            ]
        },
        {
            "cell_type": "code",
            "execution_count": null,
            "id": "4cbc34c9-4d49-4625-b3cd-f2affb81e172",
            "metadata": {},
            "outputs": [],
            "source": [
                "fig,ax=plt.subplots()\n",
                "fig.set_size_inches(10,10)\n",
                "track_plot(df=df, lpp=meta_data.lpp, x_dataset='x0', y_dataset='y0',  psi_dataset='psi', beam=meta_data.beam, ax=ax);"
            ]
        },
        {
            "cell_type": "code",
            "execution_count": null,
            "id": "b0ae1d69-e7ba-44f4-97f4-aa5d43204b36",
            "metadata": {},
            "outputs": [],
            "source": [
                "sp.simplify(sp.Matrix([\n",
                "    [sp.cos(psi), -sp.sin(psi)],\n",
                "    [sp.sin(psi), sp.cos(psi)]]).inv())"
            ]
        },
        {
            "cell_type": "code",
            "execution_count": null,
            "id": "82fddbfc-c67d-48bc-bfcb-3629de55e456",
            "metadata": {},
            "outputs": [],
            "source": [
                "from numpy import cos as cos\n",
                "from numpy import sin as sin\n",
                "from vessel_manoeuvring_models.data.lowpass_filter import lowpass_filter\n",
                "\n",
                "df_lowpass = df.copy()\n",
                "t = df_lowpass.index\n",
                "ts = np.mean(np.diff(t))\n",
                "fs = 1/ts\n",
                "\n",
                "position_keys = ['x0','y0','psi']\n",
                "for key in position_keys:\n",
                "    df_lowpass[key] = lowpass_filter(data=df_lowpass[key], fs=fs, cutoff=1, order=1)\n",
                "\n",
                "df_lowpass['x01d_gradient'] = x1d_ = np.gradient(df_lowpass['x0'], t)\n",
                "df_lowpass['y01d_gradient'] = y1d_ = np.gradient(df_lowpass['y0'], t)\n",
                "df_lowpass['r'] = r_ = np.gradient(df_lowpass['psi'], t)\n",
                "\n",
                "psi_ = df_lowpass['psi']\n",
                "\n",
                "df_lowpass['u'] = x1d_*cos(psi_) + y1d_*sin(psi_)\n",
                "df_lowpass['v'] = -x1d_*sin(psi_) + y1d_*cos(psi_)\n",
                "\n",
                "velocity_keys = ['u','v','r']\n",
                "for key in velocity_keys:\n",
                "    df_lowpass[key] = lowpass_filter(data=df_lowpass[key], fs=fs, cutoff=1, order=1)"
            ]
        },
        {
            "cell_type": "code",
            "execution_count": null,
            "id": "f7c14885-d31d-4d2a-bb06-6b441be4ce4a",
            "metadata": {},
            "outputs": [],
            "source": [
                "x1d_[0:10]"
            ]
        },
        {
            "cell_type": "code",
            "execution_count": null,
            "id": "19183dbf-183d-4d6e-ba59-22a259f43505",
            "metadata": {},
            "outputs": [],
            "source": [
                "for key in position_keys + velocity_keys:\n",
                "    fig,ax=plt.subplots()\n",
                "    fig.set_size_inches(12,3)\n",
                "    \n",
                "    df_lowpass.plot(y=key, ax=ax, zorder=-10, label='filter')\n",
                "    \n",
                "    if key in df:\n",
                "        df.plot(y=key, ax=ax, label='raw')\n",
                "        \n",
                "    ax.set_ylabel(key)\n",
                "    \n",
                "    "
            ]
        },
        {
            "cell_type": "code",
            "execution_count": null,
            "id": "005c6a7c-598f-4f0a-bcf1-930706ef2ef9",
            "metadata": {
                "tags": [
                    "hide-input"
                ]
            },
            "outputs": [],
            "source": [
                "data = df.copy()\n",
                "data['u'] = df_lowpass['u']\n",
                "data['v'] = df_lowpass['v']\n",
                "data['r'] = df_lowpass['r']\n",
                "data=data.iloc[200:-100]\n",
                "data.index-=data.index[0]\n",
                "\n",
                "P_prd = np.diag([0.1, 0.1, np.deg2rad(0.01), 0.001, 0.001, np.deg2rad(0.001)])\n",
                "\n",
                "Qd = np.diag([0.01, 0.01, np.deg2rad(0.1)])  #process variances: u,v,r\n",
                "\n",
                "Cd = np.array([\n",
                "    [1, 0, 0, 0, 0, 0],\n",
                "    [0, 1, 0, 0, 0, 0],\n",
                "    [0, 0, 1, 0, 0, 0],\n",
                "])\n",
                "\n",
                "E = np.array([\n",
                "    [0,0,0],\n",
                "    [0,0,0],\n",
                "    [0,0,0],\n",
                "    [1,0,0],\n",
                "    [0,1,0],\n",
                "    [0,0,1],\n",
                "    ],\n",
                ")\n",
                "\n",
                "\n",
                "ys = data[['x0','y0','psi']].values\n",
                "h_m = h_ = np.mean(np.diff(data.index))\n",
                "\n",
                "x0_ = np.concatenate((\n",
                "    data.iloc[0][['x0','y0','psi']].values,\n",
                "    data.iloc[0][['u','v','r']].values))\n",
                "\n",
                "us = data['delta'].values\n",
                "\n",
                "error_max_pos = 0.05\n",
                "sigma_pos = error_max_pos/3\n",
                "variance_pos = sigma_pos**2\n",
                "\n",
                "error_max_psi = np.deg2rad(0.5)\n",
                "sigma_psi = error_max_psi/3\n",
                "variance_psi = sigma_psi**2\n",
                "\n",
                "Rd = np.diag([variance_pos, variance_pos, variance_psi])\n",
                "\n",
                "\n",
                "\n",
                "time_steps = extended_kalman_filter(\n",
                "                                    no_states=6,\n",
                "                                    no_measurement_states=3,\n",
                "                                    x0=x0_,\n",
                "                                    P_prd=P_prd, \n",
                "                                    lambda_f=lambda_f_, \n",
                "                                    lambda_jacobian=lambda_jacobian_,\n",
                "                                    h=h_, \n",
                "                                    us=us, \n",
                "                                    ys=ys, \n",
                "                                    E=E, \n",
                "                                    Qd=Qd, \n",
                "                                    Rd=Rd, \n",
                "                                    Cd=Cd)\n",
                "\n",
                "\n",
                "x_hats = np.array([time_step[\"x_hat\"].flatten() for time_step in time_steps]).T\n",
                "time = np.array([time_step[\"time\"] for time_step in time_steps]).T\n",
                "Ks = np.array([time_step[\"K\"] for time_step in time_steps]).T\n",
                "variances = np.array([np.diagonal(time_step[\"P_hat\"]) for time_step in time_steps]).T\n",
                "stds = np.sqrt(variances)"
            ]
        },
        {
            "cell_type": "code",
            "execution_count": null,
            "id": "c381a902-6c21-41a7-b11c-68d8ab7ca955",
            "metadata": {},
            "outputs": [],
            "source": [
                "keys = ['x0','y0','psi','u','v','r']\n",
                "fig,ax=plt.subplots()\n",
                "for i,key in enumerate(keys):\n",
                "    ax.plot(time, variances[i,:], label=key)\n",
                "    \n",
                "ax.legend()\n",
                "ax.set_ylabel('std')\n",
                "ax.set_xlabel('time [s]')\n",
                "ax.set_ylim(0,3*np.max(variances[:,-1]))"
            ]
        },
        {
            "cell_type": "code",
            "execution_count": null,
            "id": "583fcec8-6d50-4b24-b700-c72a49731f75",
            "metadata": {},
            "outputs": [],
            "source": [
                "df_kalman = pd.DataFrame(data=x_hats.T, index=time, columns=['x0','y0','psi','u','v','r'])\n",
                "df_kalman['delta'] = us\n",
                "\n",
                "for key in ['u','v','r']:\n",
                "    df_kalman[f'{key}1d'] = np.gradient(df_kalman[key], df_kalman.index)\n",
                "\n",
                "dataframes = {\n",
                "    'Mesurement' : data,\n",
                "    'Kalman filter' : df_kalman,\n",
                "}\n",
                "\n",
                "fig,ax=plt.subplots()\n",
                "styles = {\n",
                "    'Mesurement' : {\n",
                "        'linestyle' : '',\n",
                "        'marker' : '.',\n",
                "        'ms' : 1,\n",
                "        'zorder':-10,\n",
                "    },\n",
                "    \n",
                "    'Kalman filter' : {\n",
                "        'lw' : 2,\n",
                "    },\n",
                "    \n",
                "    \n",
                "}\n",
                "\n",
                "for label,df_ in dataframes.items():\n",
                "    track_plot(\n",
                "            df=df_,\n",
                "            lpp=ship_parameters[\"L\"],\n",
                "            beam=ship_parameters[\"B\"],\n",
                "            ax=ax,\n",
                "            label=label,\n",
                "            plot_boats=False,\n",
                "            **styles.get(label,{})\n",
                "        );\n",
                "ax.legend()\n",
                "\n",
                "\n",
                "plot(dataframes = dataframes, \n",
                "     fig_size=(10,15), \n",
                "     styles = ['-','-',':'],\n",
                "     keys=['x0','y0','psi','u','v','r','u1d','v1d','r1d']);"
            ]
        },
        {
            "cell_type": "markdown",
            "id": "8a7120f3-2f3e-4c13-8140-7ffc2a5b2a82",
            "metadata": {},
            "source": [
                "## RTS smoother"
            ]
        },
        {
            "cell_type": "code",
            "execution_count": null,
            "id": "06604b7a-1c69-4ca5-9559-9653c1c8e776",
            "metadata": {},
            "outputs": [],
            "source": [
                "smooth_time_steps = rts_smoother(\n",
                "        time_steps=time_steps,\n",
                "        us=us,\n",
                "        lambda_jacobian=lambda_jacobian_,\n",
                "        Qd=Qd,\n",
                "        lambda_f=lambda_f_, E=E,\n",
                "    )\n",
                "\n",
                "## Post process rts smoother:\n",
                "x_hats = np.array(\n",
                "    [time_step[\"x_hat\"].flatten() for time_step in smooth_time_steps]\n",
                ").T\n",
                "time = np.array([time_step[\"time\"] for time_step in smooth_time_steps]).T\n",
                "df_rts = pd.DataFrame(data=x_hats.T, index=time, columns=['x0','y0','psi','u','v','r'])\n",
                "df_rts[\"delta\"] = us\n",
                "\n",
                "for key in ['u','v','r']:\n",
                "    df_rts[f'{key}1d'] = np.gradient(df_rts[key], df_kalman.index)"
            ]
        },
        {
            "cell_type": "code",
            "execution_count": null,
            "id": "acc6602f-50ad-46ea-b813-2aa1047120c2",
            "metadata": {},
            "outputs": [],
            "source": [
                "dataframes = {\n",
                "    'Mesurement' : data,\n",
                "    'Kalman filter' : df_kalman,\n",
                "    'RTS': df_rts,\n",
                "}\n",
                "\n",
                "fig,ax=plt.subplots()\n",
                "styles = {\n",
                "    'Mesurement' : {\n",
                "        'linestyle' : '',\n",
                "        'marker' : '.',\n",
                "        'ms' : 1,\n",
                "        'zorder':-10,\n",
                "    },\n",
                "    \n",
                "    'Kalman filter' : {\n",
                "        'lw' : 2,\n",
                "    },\n",
                "    \n",
                "    \n",
                "}\n",
                "\n",
                "for label,df_ in dataframes.items():\n",
                "    track_plot(\n",
                "            df=df_,\n",
                "            lpp=ship_parameters[\"L\"],\n",
                "            beam=ship_parameters[\"B\"],\n",
                "            ax=ax,\n",
                "            label=label,\n",
                "            plot_boats=False,\n",
                "            **styles.get(label,{})\n",
                "        );\n",
                "ax.legend()\n",
                "\n",
                "\n",
                "plot(dataframes = dataframes, \n",
                "     fig_size=(10,15), \n",
                "     styles = ['r-','g-','b-'],\n",
                "     keys=['x0','y0','psi','u','v','r','u1d','v1d','r1d']);"
            ]
        },
        {
            "cell_type": "code",
            "execution_count": null,
            "id": "3ae4be2e-d9e5-4223-af71-803bf8826493",
            "metadata": {},
            "outputs": [],
            "source": [
                "data['thrust'] = data['Prop/PS/Thrust'] + data['Prop/SB/Thrust']\n",
                "df_rts['thrust'] = data['thrust'].values\n",
                "df_rts.to_csv('test.csv')"
            ]
        },
        {
            "cell_type": "code",
            "execution_count": null,
            "id": "77b977f7-2163-4a64-bea6-a4bee6a639fe",
            "metadata": {},
            "outputs": [],
            "source": [
                "smooth_time_steps[100]['P_hat']"
            ]
        },
        {
            "cell_type": "code",
            "execution_count": null,
            "id": "f49d794e-be89-4a65-9559-62131217d2a4",
            "metadata": {},
            "outputs": [],
            "source": [
                "variances = np.array([np.diagonal(time_step[\"P_hat\"]) for time_step in smooth_time_steps]).T\n",
                "stds = np.sqrt(variances)"
            ]
        },
        {
            "cell_type": "code",
            "execution_count": null,
            "id": "2e599a74-2cd1-4379-846c-9ed59ad5b4c7",
            "metadata": {},
            "outputs": [],
            "source": [
                "keys = ['x0','y0','psi','u','v','r']\n",
                "fig,ax=plt.subplots()\n",
                "for i,key in enumerate(keys):\n",
                "    ax.plot(time, variances[i,:], label=key)\n",
                "    \n",
                "ax.legend()\n",
                "ax.set_ylabel('std')\n",
                "ax.set_xlabel('time [s]')\n",
                "ax.set_ylim(0,3*np.max(variances[:,-1]))"
            ]
        },
        {
            "cell_type": "code",
            "execution_count": null,
            "id": "572a46ce-4097-41cd-be8b-e885e7054f90",
            "metadata": {},
            "outputs": [],
            "source": [
                "from scipy.stats import multivariate_normal"
            ]
        },
        {
            "cell_type": "code",
            "execution_count": null,
            "id": "8ba8d284-334d-42de-b6a6-d4f27df9edce",
            "metadata": {},
            "outputs": [],
            "source": [
                "likelihoods = np.zeros(len(time_steps))\n",
                "for n,smooth_time_step in enumerate(smooth_time_steps):\n",
                "    cov = smooth_time_step['P_hat']\n",
                "    mean = smooth_time_step['x_hat'].flatten()\n",
                "    rv = multivariate_normal(mean=mean, cov=cov)\n",
                "    likelihoods[n] = rv.pdf(x=mean)"
            ]
        },
        {
            "cell_type": "code",
            "execution_count": null,
            "id": "fb46a45c-8193-45b9-876b-1a34ada70fa4",
            "metadata": {},
            "outputs": [],
            "source": [
                "fig,ax=plt.subplots()\n",
                "\n",
                "ax.plot(likelihoods)\n",
                "#ax.set_ylim(2.5*10**14,3*10**14)"
            ]
        },
        {
            "cell_type": "code",
            "execution_count": null,
            "id": "8d46812d-40d3-41c1-86f6-10bb991d7f23",
            "metadata": {},
            "outputs": [],
            "source": []
        }
    ],
    "metadata": {
        "kernelspec": {
            "display_name": "Python 3",
            "language": "python",
            "name": "python3"
        },
        "language_info": {
            "codemirror_mode": {
                "name": "ipython",
                "version": 3
            },
            "file_extension": ".py",
            "mimetype": "text/x-python",
            "name": "python",
            "nbconvert_exporter": "python",
            "pygments_lexer": "ipython3",
            "version": "3.9.5"
        }
    },
    "nbformat": 4,
    "nbformat_minor": 5
}