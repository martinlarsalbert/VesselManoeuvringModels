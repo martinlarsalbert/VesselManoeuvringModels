{
 "cells": [
  {
   "cell_type": "markdown",
   "id": "fa9f70d2-a2b8-45bd-bf2a-9df416480d3e",
   "metadata": {},
   "source": [
    "# Extended Kalman filter for 3 DOF linear model\n",
    "An Extended Kalman filter with a 3 DOF linear model as the predictor will be developed.\n",
    "The filter is run on simulated data as well as real model test data."
   ]
  },
  {
   "cell_type": "code",
   "execution_count": null,
   "id": "c85286e4-7e5a-4f98-a162-a141c8e37ea9",
   "metadata": {
    "tags": [
     "hide-cell"
    ]
   },
   "outputs": [],
   "source": [
    "%load_ext autoreload\n",
    "%autoreload 2\n",
    "\n",
    "import pandas as pd\n",
    "import numpy as np\n",
    "import matplotlib.pyplot as plt\n",
    "from numpy.linalg import inv\n",
    "import sympy as sp\n",
    "\n",
    "import src.visualization.book_format as book_format\n",
    "book_format.set_style()\n",
    "from src.substitute_dynamic_symbols import lambdify\n",
    "from sympy import Matrix\n",
    "from sympy.physics.mechanics import (dynamicsymbols, ReferenceFrame,\n",
    "                                      Particle, Point)\n",
    "from IPython.display import display, Math, Latex\n",
    "from src.substitute_dynamic_symbols import run, lambdify\n",
    "from sympy.physics.vector.printing import vpprint, vlatex\n",
    "from src.data import mdl\n",
    "from src.kalman_filter import extended_kalman_filter\n",
    "import src.models.vmm_nonlinear_EOM  as vmm\n",
    "from docs.book.example_1 import ship_parameters, df_parameters\n",
    "from src.symbols import *\n",
    "from src import prime_system\n",
    "p = df_parameters[\"symbol\"]\n",
    "from src.visualization.plot import track_plot, plot\n",
    "\n",
    "import matplotlib.pyplot as plt\n",
    "import os\n",
    "if os.name == 'nt':\n",
    "    plt.style.use('../docs/book/book.mplstyle')  # Windows"
   ]
  },
  {
   "cell_type": "markdown",
   "id": "a1f32a94-6aba-4551-a54a-6b59c570c699",
   "metadata": {},
   "source": [
    "## 3DOF model"
   ]
  },
  {
   "cell_type": "code",
   "execution_count": null,
   "id": "d1fea5a0-9092-4fc0-8907-083b3a08c56e",
   "metadata": {
    "tags": [
     "remove-input"
    ]
   },
   "outputs": [],
   "source": [
    "X_eq = vmm.X_eq\n",
    "Y_eq = vmm.Y_eq\n",
    "N_eq = vmm.N_eq\n",
    "\n",
    "A, b = sp.linear_eq_to_matrix([X_eq, Y_eq, N_eq], [u1d, v1d, r1d])\n",
    "\n",
    "acceleration = sp.matrices.MutableDenseMatrix([u1d,v1d,r1d])\n",
    "eq_simulator = sp.Eq(sp.UnevaluatedExpr(A)*sp.UnevaluatedExpr(acceleration),sp.UnevaluatedExpr(b))\n",
    "eq_simulator"
   ]
  },
  {
   "cell_type": "code",
   "execution_count": null,
   "id": "e6b926f7-816c-4766-b434-08796a6917fe",
   "metadata": {
    "tags": [
     "remove-input"
    ]
   },
   "outputs": [],
   "source": [
    "A_inv = A.inv()\n",
    "S = sp.symbols('S')\n",
    "eq_S=sp.Eq(S,-sp.fraction(A_inv[1,1])[1])\n",
    "\n",
    "A_inv_S = A_inv.subs(eq_S.rhs,S)\n",
    "eq_acceleration_matrix_clean = sp.Eq(sp.UnevaluatedExpr(acceleration),sp.UnevaluatedExpr(A_inv_S)*sp.UnevaluatedExpr(b))\n",
    "Math(vlatex(eq_acceleration_matrix_clean))"
   ]
  },
  {
   "cell_type": "code",
   "execution_count": null,
   "id": "1cf5d9f4-9294-48ac-82f5-5ab857c6b278",
   "metadata": {
    "tags": [
     "hide-input"
    ]
   },
   "outputs": [],
   "source": [
    "u1d_function = sp.Function(r'\\dot{u}')(u,v,r,delta)\n",
    "v1d_function = sp.Function(r'\\dot{v}')(u,v,r,delta)\n",
    "r_function = sp.Function(r'\\dot{r}')(u,v,r,delta)\n",
    "\n",
    "subs_prime = [\n",
    "    \n",
    "    (m,m/prime_system.df_prime.mass.denominator),\n",
    "    (I_z,I_z/prime_system.df_prime.inertia_moment.denominator),\n",
    "    (x_G,x_G/prime_system.df_prime.length.denominator),\n",
    "    \n",
    "    (u, u/sp.sqrt(u**2+v**2)),\n",
    "    (v, v/sp.sqrt(u**2+v**2)),\n",
    "    (r, r/(sp.sqrt(u**2+v**2)/L)),\n",
    "   \n",
    "]\n",
    "\n",
    "subs = [\n",
    "(X_D, vmm.X_qs_eq.rhs),\n",
    "(Y_D, vmm.Y_qs_eq.rhs),\n",
    "(N_D, vmm.N_qs_eq.rhs),\n",
    "]\n",
    "\n",
    "subs = subs + subs_prime\n",
    "\n",
    "A_SI = A.subs(subs)\n",
    "b_SI = b.subs(subs)\n",
    "\n",
    "x_dot = sympy.matrices.dense.matrix_multiply_elementwise(A_SI.inv()*b_SI,\n",
    "                                                 sp.Matrix([(u**2+v**2)/L,(u**2+v**2)/L,(u**2+v**2)/(L**2)]))\n"
   ]
  },
  {
   "cell_type": "code",
   "execution_count": null,
   "id": "ea4627c4-578f-4f9f-b4ce-505ad0a73f9f",
   "metadata": {
    "tags": [
     "remove-cell"
    ]
   },
   "outputs": [],
   "source": [
    "x_ = sp.Matrix([u*sp.cos(psi)-v*sp.sin(psi),\n",
    "                                u*sp.sin(psi)+v*sp.cos(psi),\n",
    "                                r])\n",
    "\n",
    "f_ = sp.Matrix.vstack(x_, x_dot)\n",
    "\n",
    "subs = {value: key for key, value in p.items()}\n",
    "subs[psi] = sp.symbols('psi')\n",
    "lambda_f = lambdify(f_.subs(subs))"
   ]
  },
  {
   "cell_type": "code",
   "execution_count": null,
   "id": "7a0955cc-509d-4a25-bbda-4e374d5495f0",
   "metadata": {},
   "outputs": [],
   "source": [
    "def lambda_f_constructor(parameters, ship_parameters):\n",
    "    \n",
    "    def f(x, u):\n",
    "        delta = u\n",
    "        \n",
    "        psi=x[2]\n",
    "        u=x[3]\n",
    "        v=x[4]\n",
    "        r=x[5]\n",
    "        \n",
    "        x_dot = run(lambda_f, **parameters, **ship_parameters, psi=psi, u=u, v=v, r=r, delta=delta).reshape(x.shape)\n",
    "        return x_dot\n",
    "    \n",
    "    return f"
   ]
  },
  {
   "cell_type": "markdown",
   "id": "f784a61f-689b-4d01-8c67-e71687c39998",
   "metadata": {},
   "source": [
    "## Simulation"
   ]
  },
  {
   "cell_type": "code",
   "execution_count": null,
   "id": "4d0d0c73-b188-46c4-9f29-959f9df322bd",
   "metadata": {},
   "outputs": [],
   "source": [
    "def time_step(x_,u_):\n",
    "    psi=x_[2]\n",
    "    u=x_[3]\n",
    "    v=x_[4]\n",
    "    r=x_[5]\n",
    "    delta = u_\n",
    "    x_dot = run(lambda_f, **parameters, **ship_parameters, psi=psi, u=u, v=v, r=r, delta=delta).flatten()\n",
    "    return x_dot\n",
    "\n",
    "def simulate(x0,E, ws, t, us):\n",
    "    \n",
    "    simdata = np.zeros((6,len(t)))\n",
    "    x_=x0\n",
    "            \n",
    "    for i,(u_,w_) in enumerate(zip(us,ws)):\n",
    "       \n",
    "        x_dot = lambda_f_(x_,u_)\n",
    "        \n",
    "        x_=x_ + h_*x_dot\n",
    "        \n",
    "        simdata[:,i] = x_.flatten()\n",
    "                \n",
    "    df = pd.DataFrame(simdata.T, columns=[\"x0\",\"y0\",\"psi\",\"u\",\"v\",\"r\"], index=t)\n",
    "    df.index.name = 'time'\n",
    "    df['delta'] = us\n",
    "    \n",
    "    return df"
   ]
  },
  {
   "cell_type": "code",
   "execution_count": null,
   "id": "f65c95d4-686c-4959-9c1f-8971b74422f7",
   "metadata": {
    "tags": [
     "cell_hide",
     "hide-cell"
    ]
   },
   "outputs": [],
   "source": [
    "parameters=df_parameters['prime'].copy()\n",
    "\n",
    "lambda_f_ = lambda_f_constructor(parameters=parameters, \n",
    "                                               ship_parameters=ship_parameters)\n",
    "\n",
    "N_ = 4000\n",
    "\n",
    "t_ = np.linspace(0,50,N_)\n",
    "h_ = float(t_[1]-t_[0])\n",
    "\n",
    "us = np.deg2rad(30*np.concatenate((-1*np.ones(int(N_/4)),\n",
    "                                1*np.ones(int(N_/4)),\n",
    "                                -1*np.ones(int(N_/4)),\n",
    "                                1*np.ones(int(N_/4)))))\n",
    "\n",
    "np.random.seed(42)\n",
    "E = np.array([[0, 1]]).T\n",
    "process_noise = np.deg2rad(0.01)\n",
    "ws = process_noise*np.random.normal(size=N_)\n",
    "x0_ = np.array([[0,0,0,3,0,0]]).T\n",
    "df = simulate(x0=x0_, E=E, ws=ws, t=t_, us=us)"
   ]
  },
  {
   "cell_type": "code",
   "execution_count": null,
   "id": "d6e541ed-51e8-4d54-b95b-34e29140d40d",
   "metadata": {
    "tags": [
     "remove-input"
    ]
   },
   "outputs": [],
   "source": [
    "track_plot(\n",
    "            df=df,\n",
    "            lpp=ship_parameters[\"L\"],\n",
    "            beam=ship_parameters[\"B\"],\n",
    "            color=\"green\",\n",
    "        );\n",
    "\n",
    "plot({'Simulation':df});"
   ]
  },
  {
   "cell_type": "markdown",
   "id": "5f79c877-e3d2-4d27-b518-58ef33d8d3e5",
   "metadata": {},
   "source": [
    "## Kalman filter\n",
    "Implementation of the Kalman filter. The code is inspired of this Matlab implementation: [ExEKF.m](https://github.com/cybergalactic/MSS/blob/master/mssExamples/ExEKF.m)."
   ]
  },
  {
   "cell_type": "code",
   "execution_count": null,
   "id": "a7b51c72-504c-4a29-8861-6ef3e7b15d0d",
   "metadata": {
    "tags": [
     "remove-input"
    ]
   },
   "outputs": [],
   "source": [
    "x, x1d = sp.symbols(r'\\vec{x} \\dot{\\vec{x}}')  # State vector\n",
    "h = sp.symbols('h')\n",
    "u_input = sp.symbols(r'u_{input}')  # input vector\n",
    "w_noise = sp.symbols(r'w_{noise}')  # input vector\n",
    "\n",
    "f = sp.Function('f')(x,u_input,w_noise)\n",
    "eq_system = sp.Eq(x1d, f)\n",
    "eq_system"
   ]
  },
  {
   "cell_type": "code",
   "execution_count": null,
   "id": "3e2994cd-8c7e-4386-9064-3f2857b6a570",
   "metadata": {
    "tags": [
     "remove-input"
    ]
   },
   "outputs": [],
   "source": [
    "eq_x = sp.Eq(x, sp.UnevaluatedExpr(sp.Matrix([x_0, y_0, psi, u, v, r])))\n",
    "eq_x"
   ]
  },
  {
   "cell_type": "code",
   "execution_count": null,
   "id": "c25778cf-f6a5-4515-b004-9388c5216ad5",
   "metadata": {},
   "outputs": [],
   "source": [
    "jac = sp.eye(6,6) + f_.jacobian(eq_x.rhs.doit())*h\n",
    "subs = {value: key for key, value in p.items()}\n",
    "subs[psi] = sp.symbols('psi')\n",
    "lambda_jacobian = lambdify(jac.subs(subs))"
   ]
  },
  {
   "cell_type": "code",
   "execution_count": null,
   "id": "6f486d9d-5efe-424d-8c63-b1880f2822ca",
   "metadata": {},
   "outputs": [],
   "source": [
    "lambda_jacobian"
   ]
  },
  {
   "cell_type": "code",
   "execution_count": null,
   "id": "be60b996-01b5-48ad-a5c8-0c41212be384",
   "metadata": {},
   "outputs": [],
   "source": [
    "def lambda_jacobian_constructor(parameters, ship_parameters, h):\n",
    "    \n",
    "    def f(x, u):\n",
    "        delta = u\n",
    "        \n",
    "        psi=x[2]\n",
    "        u=x[3]\n",
    "        v=x[4]\n",
    "        r=x[5]\n",
    "        \n",
    "        jacobian = run(lambda_jacobian, **parameters, **ship_parameters, psi=psi, u=u, v=v, r=r, delta=delta, h=h)\n",
    "        return jacobian\n",
    "    \n",
    "    return f      "
   ]
  },
  {
   "cell_type": "code",
   "execution_count": null,
   "id": "74dc3e42-e52d-4ec7-8eae-f8bb4692cc61",
   "metadata": {},
   "outputs": [],
   "source": [
    "lambda_jacobian_ = lambda_jacobian_constructor(parameters=parameters, \n",
    "                                               ship_parameters=ship_parameters, h=h_)"
   ]
  },
  {
   "cell_type": "code",
   "execution_count": null,
   "id": "b1aa7888-3940-4262-b63c-530cfa146a5e",
   "metadata": {},
   "outputs": [],
   "source": [
    "df_measure = df.copy()\n",
    "\n",
    "measurement_noise_psi_max = 3\n",
    "measurement_noise_psi = np.deg2rad(measurement_noise_psi_max/3)\n",
    "epsilon_psi = np.random.normal(scale=measurement_noise_psi, size=N_)\n",
    "\n",
    "measurement_noise_xy_max=2\n",
    "measurement_noise_xy = measurement_noise_xy_max/3\n",
    "epsilon_x0 = np.random.normal(scale=measurement_noise_xy, size=N_)\n",
    "epsilon_y0 = np.random.normal(scale=measurement_noise_xy, size=N_)\n",
    "\n",
    "df_measure['psi'] = df['psi'] + epsilon_psi\n",
    "df_measure['x0'] = df['x0'] + epsilon_x0\n",
    "df_measure['y0'] = df['y0'] + epsilon_y0"
   ]
  },
  {
   "cell_type": "code",
   "execution_count": null,
   "id": "8e26db9d-824a-4a06-939b-63a5a715c6f5",
   "metadata": {
    "tags": [
     "hide-cell"
    ]
   },
   "outputs": [],
   "source": [
    "\n",
    "P_prd = np.diag([0.1, 0.1, np.deg2rad(0.01), 0.001, 0.001, np.deg2rad(0.001)])\n",
    "Qd = np.diag([0.01, 0.01, np.deg2rad(0.1)])  #process variances: u,v,r\n",
    "Rd = np.diag([measurement_noise_xy**2, measurement_noise_xy**2, measurement_noise_psi**2])  #measurement variances: x0,y0,psi\n",
    "\n",
    "ys = df_measure[['x0','y0','psi']].values\n",
    "\n",
    "x0_ = np.array([[0,0,0,3,0,0]]).T\n",
    "\n",
    "Cd = np.array([\n",
    "    [1, 0, 0, 0, 0, 0],\n",
    "    [0, 1, 0, 0, 0, 0],\n",
    "    [0, 0, 1, 0, 0, 0],\n",
    "])\n",
    "\n",
    "E = np.array([\n",
    "    [0,0,0],\n",
    "    [0,0,0],\n",
    "    [0,0,0],\n",
    "    [1,0,0],\n",
    "    [0,1,0],\n",
    "    [0,0,1],\n",
    "    ],\n",
    ")\n",
    "\n",
    "\n",
    "time_steps = extended_kalman_filter(x0=x0_, P_prd=P_prd, lambda_f=lambda_f_, \n",
    "                                    lambda_jacobian=lambda_jacobian_,\n",
    "                                    h=h_, \n",
    "                                    us=us, \n",
    "                                    ys=ys, \n",
    "                                    E=E, \n",
    "                                    Qd=Qd, \n",
    "                                    Rd=Rd, \n",
    "                                    Cd=Cd)\n",
    "\n",
    "x_hats = np.array([time_step[\"x_hat\"] for time_step in time_steps]).T\n",
    "time = np.array([time_step[\"time\"] for time_step in time_steps]).T\n",
    "Ks = np.array([time_step[\"K\"] for time_step in time_steps]).T\n",
    "variances = np.array([np.diagonal(time_step[\"P_hat\"]) for time_step in time_steps]).T\n",
    "stds = np.sqrt(variances)"
   ]
  },
  {
   "cell_type": "code",
   "execution_count": null,
   "id": "b1db7e0a-8956-4f90-a126-d6f646c19231",
   "metadata": {},
   "outputs": [],
   "source": [
    "keys = ['x0','y0','psi','u','v','r']\n",
    "fig,ax=plt.subplots()\n",
    "for i,key in enumerate(keys):\n",
    "    ax.plot(time, variances[i,:], label=key)\n",
    "    \n",
    "ax.legend()\n",
    "ax.set_ylabel('std')\n",
    "ax.set_xlabel('time [s]')\n",
    "ax.set_ylim(0,10*np.max(variances[:,-1]))\n"
   ]
  },
  {
   "cell_type": "code",
   "execution_count": null,
   "id": "28cad5d8-4672-4a06-80f5-5e31c927c0f6",
   "metadata": {},
   "outputs": [],
   "source": [
    "df_kalman = pd.DataFrame(data=x_hats.T, index=time, columns=['x0','y0','psi','u','v','r'])\n",
    "df_kalman['delta'] = us\n",
    "\n",
    "dataframes = {\n",
    "    'Mesurement' : df_measure,\n",
    "    'Kalman filter' : df_kalman,\n",
    "    'Simulation' : df,\n",
    "}\n",
    "\n",
    "fig,ax=plt.subplots()\n",
    "styles = {\n",
    "    'Mesurement' : {\n",
    "        'linestyle' : '',\n",
    "        'marker' : '.',\n",
    "        'ms' : 1,\n",
    "    },\n",
    "    \n",
    "    'Kalman filter' : {\n",
    "        'lw' : 2,\n",
    "    },\n",
    "    \n",
    "    'Simulation' : {\n",
    "        'lw' : 1,\n",
    "        'linestyle' : ':',\n",
    "    },\n",
    "    \n",
    "}\n",
    "\n",
    "for label,df_ in dataframes.items():\n",
    "    track_plot(\n",
    "            df=df_,\n",
    "            lpp=ship_parameters[\"L\"],\n",
    "            beam=ship_parameters[\"B\"],\n",
    "            ax=ax,\n",
    "            label=label,\n",
    "            plot_boats=False,\n",
    "            **styles.get(label,{})\n",
    "        );\n",
    "ax.legend()\n",
    "\n",
    "\n",
    "plot(dataframes = dataframes, fig_size=(10,15), styles = ['-','-',':']);"
   ]
  },
  {
   "cell_type": "code",
   "execution_count": null,
   "id": "d4b19bea-ecac-4142-9b94-3b2d3bb10e77",
   "metadata": {},
   "outputs": [],
   "source": [
    "P_prd = np.diag([0.1, 0.1, np.deg2rad(0.01), 0.001, 0.001, np.deg2rad(0.001)])\n",
    "Qd = np.diag([0.01, 0.01, np.deg2rad(0.001)])\n",
    "#Qd = np.diag([0.0, 0.0, 0])\n",
    "#Rd = 0.1\n",
    "Rd = np.diag([measurement_noise_xy**2, measurement_noise_xy**2, measurement_noise_psi**2])\n",
    "\n",
    "ys = df_measure[['x0','y0','psi']].values\n",
    "\n",
    "x0_ = np.array([[0,0,0,3,0,0]]).T\n",
    "\n",
    "Cd = np.array([\n",
    "    [1, 0, 0, 0, 0, 0],\n",
    "    [0, 1, 0, 0, 0, 0],\n",
    "    [0, 0, 1, 0, 0, 0],\n",
    "])\n",
    "\n",
    "E = np.array([\n",
    "    [0,0,0],\n",
    "    [0,0,0],\n",
    "    [0,0,0],\n",
    "    [1,0,0],\n",
    "    [0,1,0],\n",
    "    [0,0,1],\n",
    "    ],\n",
    ")\n",
    "\n",
    "x_prd = x0_\n",
    "no_states = len(x_prd)\n",
    "\n",
    "h=h_\n",
    "Ed = h * E\n",
    "\n",
    "for i in range(2):\n",
    "\n",
    "    u = us[i]  # input\n",
    "    y = np.array([ys[i]]).T  # measurement\n",
    "\n",
    "    # Compute kalman gain:\n",
    "    # S = Cd @ P_prd @ Cd.T + Rd  # System uncertainty\n",
    "    # K = P_prd @ Cd.T @ inv(S)\n",
    "    K = P_prd @ Cd.T @ inv(Cd @ P_prd @ Cd.T + Rd)\n",
    "    IKC = np.eye(no_states) - K @ Cd\n",
    "\n",
    "    ## State corrector:\n",
    "    P_hat = IKC @ P_prd @ IKC.T + K @ Rd @ K.T\n",
    "    eps = y - Cd @ x_prd\n",
    "    x_hat = x_prd + K @ eps\n",
    "\n",
    "    ## discrete-time extended KF-model\n",
    "    f_hat = lambda_f_(x=x_hat, u=u)\n",
    "\n",
    "    ## Predictor (k+1)\n",
    "    ## Ad = I + h * A and Ed = h * E\n",
    "    ## where A = df/dx is linearized about x = x_hat\n",
    "    Ad = lambda_jacobian_(x=x_hat.flatten(), u=u)\n",
    "\n",
    "    x_prd = x_hat + h * f_hat\n",
    "    P_prd = Ad @ P_hat @ Ad.T + Ed @ Qd @ Ed.T"
   ]
  },
  {
   "cell_type": "code",
   "execution_count": null,
   "id": "bb7bca2b-c5cb-4a20-a1b1-0b7e4aff807b",
   "metadata": {},
   "outputs": [],
   "source": [
    "K"
   ]
  },
  {
   "cell_type": "code",
   "execution_count": null,
   "id": "397a601a-e103-4117-a3f6-c8dc55d75501",
   "metadata": {},
   "outputs": [],
   "source": [
    "f_hat"
   ]
  },
  {
   "cell_type": "code",
   "execution_count": null,
   "id": "4cbc34c9-4d49-4625-b3cd-f2affb81e172",
   "metadata": {},
   "outputs": [],
   "source": []
  },
  {
   "cell_type": "code",
   "execution_count": null,
   "id": "998511a8-09b0-45b6-9542-9745c53585fa",
   "metadata": {},
   "outputs": [],
   "source": []
  },
  {
   "cell_type": "code",
   "execution_count": null,
   "id": "583fcec8-6d50-4b24-b700-c72a49731f75",
   "metadata": {},
   "outputs": [],
   "source": []
  }
 ],
 "metadata": {
  "kernelspec": {
   "display_name": "Python 3",
   "language": "python",
   "name": "python3"
  },
  "language_info": {
   "codemirror_mode": {
    "name": "ipython",
    "version": 3
   },
   "file_extension": ".py",
   "mimetype": "text/x-python",
   "name": "python",
   "nbconvert_exporter": "python",
   "pygments_lexer": "ipython3",
   "version": "3.9.5"
  }
 },
 "nbformat": 4,
 "nbformat_minor": 5
}
