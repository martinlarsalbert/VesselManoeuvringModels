{
    "cells": [
        {
            "cell_type": "markdown",
            "metadata": {},
            "source": [
                "# Kalman filter PIT sensitivity"
            ]
        },
        {
            "cell_type": "markdown",
            "metadata": {},
            "source": [
                "# Purpose\n",
                "Check the PIT for various Kalman filters"
            ]
        },
        {
            "cell_type": "markdown",
            "metadata": {},
            "source": [
                "# Methodology\n",
                "* Filter a model test differently...\n",
                "* PIT on each\n",
                "* compare result"
            ]
        },
        {
            "cell_type": "markdown",
            "metadata": {},
            "source": [
                "# Setup"
            ]
        },
        {
            "cell_type": "code",
            "execution_count": null,
            "metadata": {},
            "outputs": [],
            "source": [
                "# %load imports.py\n",
                "## Local packages:\n",
                "\n",
                "%matplotlib inline\n",
                "%load_ext autoreload\n",
                "%autoreload 2\n",
                "%config Completer.use_jedi = False  ## (To fix autocomplete)\n",
                "\n",
                "## External packages:\n",
                "import pandas as pd\n",
                "pd.options.display.max_rows = 999\n",
                "pd.options.display.max_columns = 999\n",
                "pd.set_option(\"display.max_columns\", None)\n",
                "\n",
                "import numpy as np\n",
                "import os\n",
                "import matplotlib.pyplot as plt\n",
                "#if os.name == 'nt':\n",
                "#    plt.style.use('presentation.mplstyle')  # Windows\n",
                "\n",
                "import plotly.express as px \n",
                "import plotly.graph_objects as go\n",
                "\n",
                "import seaborn as sns\n",
                "import sympy as sp\n",
                "from sympy.physics.mechanics import (dynamicsymbols, ReferenceFrame,\n",
                "                                      Particle, Point)\n",
                "from sympy.physics.vector.printing import vpprint, vlatex\n",
                "from IPython.display import display, Math, Latex\n",
                "from vessel_manoeuvring_models.substitute_dynamic_symbols import run, lambdify\n",
                "\n",
                "import pyro\n",
                "\n",
                "import sklearn\n",
                "import pykalman\n",
                "from statsmodels.sandbox.regression.predstd import wls_prediction_std\n",
                "import statsmodels.api as sm\n",
                "\n",
                "from scipy.integrate import solve_ivp\n",
                "\n",
                "## Local packages:\n",
                "from vessel_manoeuvring_models.data import mdl\n",
                "\n",
                "from vessel_manoeuvring_models.symbols import *\n",
                "from vessel_manoeuvring_models.parameters import *\n",
                "import vessel_manoeuvring_models.symbols as symbols\n",
                "from vessel_manoeuvring_models import prime_system\n",
                "from vessel_manoeuvring_models.models import regression\n",
                "from vessel_manoeuvring_models.visualization.plot import track_plot\n",
                "from vessel_manoeuvring_models.equation import Equation\n",
                "\n",
                "## Load models:\n",
                "# (Uncomment these for faster loading):\n",
                "import vessel_manoeuvring_models.models.vmm_abkowitz  as vmm_abkowitz "
            ]
        },
        {
            "cell_type": "code",
            "execution_count": null,
            "metadata": {},
            "outputs": [],
            "source": [
                "from vessel_manoeuvring_models.data import kalman_filter\n",
                "from vessel_manoeuvring_models.data.lowpass_filter import lowpass_filter\n",
                "import scipy.stats as stats"
            ]
        },
        {
            "cell_type": "code",
            "execution_count": null,
            "metadata": {},
            "outputs": [],
            "source": [
                "id=22774\n",
                "df, units, meta_data = mdl.load(id=id)"
            ]
        },
        {
            "cell_type": "code",
            "execution_count": null,
            "metadata": {},
            "outputs": [],
            "source": [
                "fig,ax=plt.subplots()\n",
                "\n",
                "psi = df['psi']\n",
                "t = df.index.total_seconds()\n",
                "psi1d = np.gradient(psi,t)\n",
                "\n",
                "psi_ = df['psi'].resample('0.2S').mean()\n",
                "t_ = psi_.index.total_seconds()\n",
                "psi1d_ = np.gradient(psi_,t_)\n",
                "ax.plot(t, psi1d)\n",
                "ax.plot(t_, psi1d_)\n"
            ]
        },
        {
            "cell_type": "code",
            "execution_count": null,
            "metadata": {},
            "outputs": [],
            "source": [
                "df_filtered = pd.DataFrame()\n",
                "\n",
                "for observation_covariance in [10,1000,10000,100000, 1000000]:\n",
                "    \n",
                "    df_ = kalman_filter.filter_and_transform(df=df, observation_covariance=observation_covariance)\n",
                "    #df_ = kalman_filter.yaw(df=df, observation_covariance=observation_covariance)\n",
                "\n",
                "    df_['observation_covariance'] = observation_covariance\n",
                "    df_['t'] = df_.index\n",
                "    df_filtered = df_filtered.append(df_, ignore_index=True)\n",
                "    "
            ]
        },
        {
            "cell_type": "code",
            "execution_count": null,
            "metadata": {},
            "outputs": [],
            "source": [
                "df_epsilons = pd.DataFrame()\n",
                "\n",
                "for observation_covariance, group in df_filtered.groupby(by='observation_covariance'):\n",
                "    \n",
                "    df_epsilon_ = pd.DataFrame()\n",
                "    \n",
                "    for key in ['x0','y0','psi']:\n",
                "        df_epsilon_[f'{key}'] = group[f'{key}_filtered'].values - df[key]\n",
                "    \n",
                "    \n",
                "    df_epsilon_['t'] = df.index.total_seconds()\n",
                "    df_epsilon_['observation_covariance'] = observation_covariance\n",
                "    \n",
                "    df_epsilons = df_epsilons.append(df_epsilon_, ignore_index=True)\n",
                "    "
            ]
        },
        {
            "cell_type": "code",
            "execution_count": null,
            "metadata": {},
            "outputs": [],
            "source": [
                "#\n",
                "#for key in ['x0','y0','psi']:\n",
                "#    fig,ax=plt.subplots()\n",
                "#    fig.set_size_inches(15,5)\n",
                "#    for observation_covariance, df_epsilon in df_epsilons.groupby(by='observation_covariance'):\n",
                "#        df_epsilon.plot(x='t', y=key, alpha=0.1, label=observation_covariance, ax=ax)\n",
                "#        \n",
                "#for key in ['x0','y0','psi']:\n",
                "#    fig,axes=plt.subplots(ncols=len(df_epsilons['observation_covariance'].unique()))\n",
                "#    for ax,(observation_covariance, df_epsilon) in zip(axes,df_epsilons.groupby(by='observation_covariance')):\n",
                "#        sns.displot(df_epsilon, x=key)\n",
                "#\n",
                "#        fig,ax2=plt.subplots()\n",
                "#        stats.probplot(df_epsilon[key], dist=\"norm\", plot=ax2);"
            ]
        },
        {
            "cell_type": "code",
            "execution_count": null,
            "metadata": {},
            "outputs": [],
            "source": [
                "df_ = df_filtered.groupby(by='observation_covariance').get_group(10).copy()\n",
                "df_.index = df_['t']\n",
                "df_['t'] = df_.index.total_seconds()"
            ]
        },
        {
            "cell_type": "code",
            "execution_count": null,
            "metadata": {},
            "outputs": [],
            "source": [
                "\n",
                "psi_ = df_['psi'].resample('0.50S').mean()\n",
                "t_ = psi_.index.total_seconds()\n",
                "psi1d_ = np.gradient(psi_,t_)\n",
                "\n",
                "fig,ax=plt.subplots()\n",
                "fig.set_size_inches(15,10)\n",
                "\n",
                "df_.plot(x='t', y='psi1d_gradient', ax=ax)\n",
                "df_.plot(x='t', y='psi1d', ax=ax)\n",
                "\n",
                "ax.plot(t_, psi1d_, label='resample')\n",
                "ax.legend()"
            ]
        },
        {
            "cell_type": "code",
            "execution_count": null,
            "metadata": {},
            "outputs": [],
            "source": [
                "\n",
                "psi_ = df_['x0'].resample('1.0S').mean()\n",
                "t_ = psi_.index.total_seconds()\n",
                "psi1d_ = np.gradient(psi_,t_)\n",
                "\n",
                "fig,ax=plt.subplots()\n",
                "fig.set_size_inches(15,10)\n",
                "\n",
                "df_.plot(x='t', y='x01d_gradient', ax=ax)\n",
                "df_.plot(x='t', y='x01d', ax=ax)\n",
                "\n",
                "ax.plot(t_, psi1d_, label='resample')\n",
                "ax.legend()"
            ]
        },
        {
            "cell_type": "code",
            "execution_count": null,
            "metadata": {},
            "outputs": [],
            "source": [
                "psi_ = df_['y0'].resample('0.50S').mean()\n",
                "t_ = psi_.index.total_seconds()\n",
                "psi1d_ = np.gradient(psi_,t_)\n",
                "\n",
                "fig,ax=plt.subplots()\n",
                "fig.set_size_inches(15,10)\n",
                "\n",
                "#df_.plot(x='t', y='y01d_gradient', ax=ax)\n",
                "df_.plot(x='t', y='y01d', ax=ax)\n",
                "\n",
                "ax.plot(t_, psi1d_, label='resample')\n",
                "ax.legend()"
            ]
        },
        {
            "cell_type": "code",
            "execution_count": null,
            "metadata": {},
            "outputs": [],
            "source": [
                "df_ = df_filtered.groupby(by='observation_covariance').get_group(1000).copy()\n",
                "df_.set_index('t', inplace=True)\n",
                "df_['t']=df_.index.total_seconds()\n",
                "ts = df_['t'].diff().mean()\n",
                "fs = 1/ts"
            ]
        },
        {
            "cell_type": "code",
            "execution_count": null,
            "metadata": {},
            "outputs": [],
            "source": [
                "fs"
            ]
        },
        {
            "cell_type": "code",
            "execution_count": null,
            "metadata": {},
            "outputs": [],
            "source": [
                "\n",
                "psi_filt = lowpass_filter(data=df_['psi'], cutoff=10, fs=fs, order=5)\n",
                "\n",
                "fig,ax=plt.subplots()\n",
                "df_.plot(x='t',y='psi', ax=ax,  label='kalman')\n",
                "ax.plot(df_['t'], psi_filt, label='lowpass')\n",
                "ax.legend()\n",
                "\n",
                "r_filt = np.gradient(psi_filt,df_['t'])\n",
                "r_filt = lowpass_filter(data=r_filt, cutoff=1, fs=fs, order=5)\n",
                "\n",
                "r1d_filt = np.gradient(r_filt,df_['t'])\n",
                "r1d_filt = lowpass_filter(data=r1d_filt, cutoff=1, fs=fs, order=5)\n",
                "\n",
                "fig,ax=plt.subplots()\n",
                "df_.plot(x='t',y='r', ax=ax, label='kalman')\n",
                "ax.plot(df_['t'], r_filt, label='lowpass')\n",
                "ax.legend()\n",
                "\n",
                "fig,ax=plt.subplots()\n",
                "df_.plot(x='t',y='r1d', ax=ax, label='kalman')\n",
                "ax.plot(df_['t'], r1d_filt, alpha=0.5, label='lowpass')\n",
                "ax.legend()\n"
            ]
        },
        {
            "cell_type": "code",
            "execution_count": null,
            "metadata": {},
            "outputs": [],
            "source": [
                "np.gradient(df_gradient['x0'], df_gradient.index)"
            ]
        },
        {
            "cell_type": "code",
            "execution_count": null,
            "metadata": {},
            "outputs": [],
            "source": [
                "df_gradient['x0']"
            ]
        },
        {
            "cell_type": "code",
            "execution_count": null,
            "metadata": {},
            "outputs": [],
            "source": [
                "def lowpass_gradient(df_,cutoff=1, order=5):\n",
                "    df_gradient = df_[['x0','y0','psi']].copy()\n",
                "    df_gradient.index=df_['t']\n",
                "    df_gradient['x01d'] = np.gradient(df_gradient['x0'], df_gradient.index)\n",
                "    df_gradient['y01d'] = np.gradient(df_gradient['y0'], df_gradient.index)\n",
                "    df_gradient['r'] = np.gradient(df_gradient['psi'], df_gradient.index)\n",
                "    \n",
                "    df_gradient['x02d'] = np.gradient(df_gradient['x01d'], df_gradient.index)\n",
                "    df_gradient['y02d'] = np.gradient(df_gradient['y01d'], df_gradient.index)\n",
                "    df_gradient['r1d'] = np.gradient(df_gradient['r'], df_gradient.index)\n",
                "    \n",
                "    df_lowpass = pd.DataFrame(columns=df_gradient.columns, index=df_gradient.index)\n",
                "    for key,value in df_gradient.items():\n",
                "        df_lowpass[key] = lowpass_filter(data=value, cutoff=cutoff, fs=fs, order=order)\n",
                "    \n",
                "    return df_lowpass"
            ]
        },
        {
            "cell_type": "code",
            "execution_count": null,
            "metadata": {},
            "outputs": [],
            "source": [
                "def df_filter(df_gradient, cutoff=1, order=5):\n",
                "    \n",
                "    df_lowpass = pd.DataFrame(columns=df_gradient.columns, index=df_gradient.index)\n",
                "    for key,value in df_gradient.items():\n",
                "        df_lowpass[key] = lowpass_filter(data=value, cutoff=cutoff, fs=fs, order=order)\n",
                "        \n",
                "    return df_lowpass\n",
                "\n",
                "def lowpass(df_,cutoff=1, order=5):\n",
                "    \n",
                "    df_gradient = df_[['x0','y0','psi']].copy()\n",
                "    df_gradient.index=df_['t']\n",
                "    \n",
                "    df_gradient[['x0','y0','psi']] = df_filter(df_gradient[['x0','y0','psi']], cutoff=cutoff, order=order)\n",
                "    df_gradient['x01d'] = np.gradient(df_gradient['x0'], df_gradient.index)\n",
                "    df_gradient['y01d'] = np.gradient(df_gradient['y0'], df_gradient.index)\n",
                "    df_gradient['r'] = np.gradient(df_gradient['psi'], df_gradient.index)\n",
                "    \n",
                "    df_gradient[['x01d','y01d','r']] = df_filter(df_gradient[['x01d','y01d','r']], cutoff=cutoff, order=order)\n",
                "    df_gradient['x02d'] = np.gradient(df_gradient['x01d'], df_gradient.index)\n",
                "    df_gradient['y02d'] = np.gradient(df_gradient['y01d'], df_gradient.index)\n",
                "    df_gradient['r1d'] = np.gradient(df_gradient['r'], df_gradient.index)\n",
                "    \n",
                "    df_gradient[['x02d','y02d','r1d']] = df_filter(df_gradient[['x02d','y02d','r1d']], cutoff=cutoff, order=order)\n",
                "    \n",
                "    \n",
                "    return df_gradient"
            ]
        },
        {
            "cell_type": "code",
            "execution_count": null,
            "metadata": {},
            "outputs": [],
            "source": [
                "df_lowpass_gradient = lowpass_gradient(df_=df_, cutoff=0.5, order=1)\n",
                "df_lowpass = lowpass(df_=df_, cutoff=1, order=1)\n",
                "\n",
                "states = [\n",
                "     ['x0','x01d','x02d'],\n",
                "     ['y0','y01d','y02d'],\n",
                "     ['psi','r','r1d']\n",
                "]\n",
                "\n",
                "for dof in states:\n",
                "    fig,axes=plt.subplots(ncols=3)\n",
                "    fig.set_size_inches(15,4)\n",
                "    for state,ax in zip(dof,axes):\n",
                "        ax.set_title(state)\n",
                "        #df_lowpass_gradient.plot(y=state, ax=ax, label='lowpass gradient')\n",
                "        df_lowpass.plot(y=state, ax=ax, label='lowpass', alpha=0.5)\n",
                "        df_.plot(x='t', y=state, ax=ax, label='kalman', alpha=0.5)\n",
                "        \n",
                "        \n",
                "        \n"
            ]
        },
        {
            "cell_type": "code",
            "execution_count": null,
            "metadata": {},
            "outputs": [],
            "source": [
                "df_lowpass = pd.DataFrame(lowpass_filter(data=df_, cutoff=0.01, fs=fs, order=5),\n",
                "                          columns=df_.columns, index=df_.index)\n",
                "df_lowpass['t'] = df_lowpass.index.total_seconds()\n",
                "df_lowpass['r'] = np.gradient(df_lowpass['psi'],df_lowpass['t'])\n",
                "df_lowpass['r1d'] = np.gradient(df_lowpass['r'],df_lowpass['t'])\n"
            ]
        },
        {
            "cell_type": "code",
            "execution_count": null,
            "metadata": {},
            "outputs": [],
            "source": [
                "\n",
                "fig,ax=plt.subplots()\n",
                "fig.set_size_inches(15,10)\n",
                "\n",
                "df_.plot(x='t', y='r1d', label='kalman', ax=ax)\n",
                "df_lowpass.plot(x='t', y='r1d', label='lowpass', ax=ax)\n",
                "\n",
                "for resample in [0.1,0.2,0.3,0.5,1]:\n",
                "\n",
                "    psi_ = df_['psi'].resample(f'{resample}S').mean()\n",
                "    t_ = psi_.index.total_seconds()\n",
                "    r_ = np.gradient(psi_,t_)\n",
                "    r1d_ = np.gradient(r_,t_)\n",
                "    ax.plot(t_, r1d_, label=resample)\n",
                "ax.legend()"
            ]
        },
        {
            "cell_type": "code",
            "execution_count": null,
            "metadata": {},
            "outputs": [],
            "source": []
        }
    ],
    "metadata": {
        "kernelspec": {
            "display_name": "Python 3",
            "language": "python",
            "name": "python3"
        },
        "language_info": {
            "codemirror_mode": {
                "name": "ipython",
                "version": 3
            },
            "file_extension": ".py",
            "mimetype": "text/x-python",
            "name": "python",
            "nbconvert_exporter": "python",
            "pygments_lexer": "ipython3",
            "version": "3.9.5"
        }
    },
    "nbformat": 4,
    "nbformat_minor": 4
}