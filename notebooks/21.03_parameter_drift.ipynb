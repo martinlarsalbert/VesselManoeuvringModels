{
    "cells": [
        {
            "cell_type": "markdown",
            "metadata": {},
            "source": [
                "# Parameter drift : Indentifiability"
            ]
        },
        {
            "cell_type": "markdown",
            "metadata": {},
            "source": [
                "# Purpose\n",
                "If the matematical model is not correct or too little data is available this may lead to paramter drift, so that the parameters in the matematical model changes depending on how the fitted data has been sampled."
            ]
        },
        {
            "cell_type": "markdown",
            "metadata": {},
            "source": [
                "# Methodology\n",
                "* Sample data of forces from a higher order model\n",
                "* Fit a lower order model to a random sample of this data"
            ]
        },
        {
            "cell_type": "markdown",
            "metadata": {},
            "source": [
                "# Setup"
            ]
        },
        {
            "cell_type": "code",
            "execution_count": null,
            "metadata": {},
            "outputs": [],
            "source": [
                "# %load imports.py\n",
                "## Local packages:\n",
                "\n",
                "%matplotlib inline\n",
                "%load_ext autoreload\n",
                "%autoreload 2\n",
                "%config Completer.use_jedi = False  ## (To fix autocomplete)\n",
                "\n",
                "## External packages:\n",
                "import pandas as pd\n",
                "pd.options.display.max_rows = 999\n",
                "pd.options.display.max_columns = 999\n",
                "pd.set_option(\"display.max_columns\", None)\n",
                "import numpy as np\n",
                "np.set_printoptions(linewidth=150)\n",
                "\n",
                "import numpy as np\n",
                "import os\n",
                "import matplotlib.pyplot as plt\n",
                "#if os.name == 'nt':\n",
                "#    plt.style.use('presentation.mplstyle')  # Windows\n",
                "\n",
                "import plotly.express as px \n",
                "import plotly.graph_objects as go\n",
                "\n",
                "import seaborn as sns\n",
                "import sympy as sp\n",
                "from sympy.physics.mechanics import (dynamicsymbols, ReferenceFrame,\n",
                "                                      Particle, Point)\n",
                "from sympy.physics.vector.printing import vpprint, vlatex\n",
                "from IPython.display import display, Math, Latex\n",
                "from vessel_manoeuvring_models.substitute_dynamic_symbols import run, lambdify\n",
                "\n",
                "import pyro\n",
                "\n",
                "import sklearn\n",
                "import pykalman\n",
                "from statsmodels.sandbox.regression.predstd import wls_prediction_std\n",
                "import statsmodels.api as sm\n",
                "\n",
                "from scipy.integrate import solve_ivp\n",
                "\n",
                "## Local packages:\n",
                "from vessel_manoeuvring_models.data import mdl\n",
                "\n",
                "from vessel_manoeuvring_models.symbols import *\n",
                "from vessel_manoeuvring_models.parameters import *\n",
                "import vessel_manoeuvring_models.symbols as symbols\n",
                "from vessel_manoeuvring_models import prime_system\n",
                "from vessel_manoeuvring_models.models.regression import ForceRegression, results_summary_to_dataframe\n",
                "from vessel_manoeuvring_models.models.diff_eq_to_matrix import DiffEqToMatrix\n",
                "from vessel_manoeuvring_models.visualization.regression import show_pred, show_pred_captive\n",
                "from vessel_manoeuvring_models.visualization.plot import track_plot,captive_plot\n",
                "\n",
                "## Load models:\n",
                "# (Uncomment these for faster loading):\n",
                "import vessel_manoeuvring_models.models.vmm_abkowitz  as vmm \n",
                "import vessel_manoeuvring_models.models.vmm_martin as vmm_simpler\n",
                "\n",
                "from vessel_manoeuvring_models.models.vmm import ModelSimulator\n",
                "\n",
                "from vessel_manoeuvring_models.data.wpcc import ship_parameters, df_parameters, ps, ship_parameters_prime, ps_ship, scale_factor\n"
            ]
        },
        {
            "cell_type": "code",
            "execution_count": null,
            "metadata": {},
            "outputs": [],
            "source": [
                "#format the book\n",
                "import vessel_manoeuvring_models.visualization.book_format as book_format\n",
                "book_format.set_style()"
            ]
        },
        {
            "cell_type": "markdown",
            "metadata": {},
            "source": [
                "## Load model"
            ]
        },
        {
            "cell_type": "code",
            "execution_count": null,
            "metadata": {},
            "outputs": [],
            "source": [
                "model = ModelSimulator.load('../models/model_VCT_abkowitz.pkl')"
            ]
        },
        {
            "cell_type": "code",
            "execution_count": null,
            "metadata": {},
            "outputs": [],
            "source": [
                "u0_=2\n",
                "angle_deg = 20\n",
                "result = model.zigzag(u0=u0_, angle=angle_deg)"
            ]
        },
        {
            "cell_type": "code",
            "execution_count": null,
            "metadata": {},
            "outputs": [],
            "source": [
                "result.track_plot();\n",
                "result.plot(compare=False);"
            ]
        },
        {
            "cell_type": "code",
            "execution_count": null,
            "metadata": {},
            "outputs": [],
            "source": [
                "df_result = result.result.copy()\n",
                "df_result_prime = model.prime_system.prime(df_result, U=df_result['U'])"
            ]
        },
        {
            "cell_type": "code",
            "execution_count": null,
            "metadata": {},
            "outputs": [],
            "source": []
        },
        {
            "cell_type": "code",
            "execution_count": null,
            "metadata": {},
            "outputs": [],
            "source": [
                "def variate(df, variation_keys, N=10):\n",
                "    \n",
                "    variations = []\n",
                "    for variation_key in variation_keys:\n",
                "        variation = np.linspace(df[variation_key].min(),df[variation_key].max(), N)\n",
                "        variations.append(variation)\n",
                "    \n",
                "    matrix = np.meshgrid(*variations)\n",
                "    df_variation = pd.DataFrame()\n",
                "    for variation_key,values in zip(variation_keys,matrix):\n",
                "        df_variation[variation_key] = values.flatten()\n",
                "    \n",
                "    return df_variation"
            ]
        },
        {
            "cell_type": "code",
            "execution_count": null,
            "metadata": {},
            "outputs": [],
            "source": [
                "variations = {\n",
                "    'Rudder angle' : ['delta'],\n",
                "    'Drift angle' : ['v'],\n",
                "    'Circle' : ['r'],\n",
                "    'resistance' : ['u'],\n",
                "    \"Rudder and drift angle\" : ['delta','v'],\n",
                "    \"Circle + Drift\" : ['r','v'],\n",
                "    \n",
                "}\n",
                "\n",
                "N = 10\n",
                "V_ = u0_\n",
                "\n",
                "inputs_base = {}\n",
                "inputs_base['u'] = df_result_prime['u'].mean()\n",
                "inputs_base['v'] = 0\n",
                "inputs_base['r'] = 0\n",
                "inputs_base['delta'] = 0\n",
                "\n",
                "df_inputs = pd.DataFrame()\n",
                "for test_type, variation_keys in variations.items():\n",
                "\n",
                "    inputs = variate(df=df_result_prime, variation_keys=variation_keys, N=N)\n",
                "    \n",
                "    for column in list(set(inputs_base.keys())-set(variation_keys)):\n",
                "        inputs[column]=inputs_base[column]\n",
                "    \n",
                "    inputs['test type'] = test_type\n",
                "    df_inputs = df_inputs.append(inputs, ignore_index=True)\n",
                "    \n",
                "df_outputs = model.forces(df_inputs)\n",
                "df_captive = pd.concat([df_inputs,df_outputs], axis=1)\n"
            ]
        },
        {
            "cell_type": "code",
            "execution_count": null,
            "metadata": {},
            "outputs": [],
            "source": [
                "captive_plot(df_captive=df_captive, suffixes=[], \n",
                "             legends = ['VCT'], styles=['.', '-'])"
            ]
        },
        {
            "cell_type": "markdown",
            "metadata": {},
            "source": [
                "## Fit a lower order model to this captive dataset"
            ]
        },
        {
            "cell_type": "markdown",
            "metadata": {},
            "source": [
                "### Regression"
            ]
        },
        {
            "cell_type": "code",
            "execution_count": null,
            "metadata": {},
            "outputs": [],
            "source": [
                "reg = ForceRegression(vmm=vmm, data=df_captive)\n",
                "display(reg.show_pred_X())\n",
                "display(reg.show_pred_Y())\n",
                "display(reg.show_pred_N())"
            ]
        },
        {
            "cell_type": "code",
            "execution_count": null,
            "metadata": {},
            "outputs": [],
            "source": []
        },
        {
            "cell_type": "code",
            "execution_count": null,
            "metadata": {},
            "outputs": [],
            "source": [
                "parameters = pd.DataFrame()\n",
                "parameters['prime'] = model.parameters\n",
                "model_vct = reg.create_model(df_parameters=parameters, ship_parameters=model.ship_parameters, \n",
                "                             ps=model.prime_system, control_keys=['delta'])"
            ]
        },
        {
            "cell_type": "code",
            "execution_count": null,
            "metadata": {},
            "outputs": [],
            "source": [
                "outputs = model_vct.forces(inputs = df_inputs)\n",
                "df_captive_all = pd.merge(left=df_captive, right=outputs, \n",
                "                      how='left', \n",
                "                      left_index=True, \n",
                "                      right_index=True,\n",
                "                      suffixes = ('','_model'),\n",
                "                      )\n",
                "\n",
                "captive_plot(df_captive=df_captive_all, suffixes=['_model'], \n",
                "             legends = ['VCT', 'model'], styles=['.', '-'])"
            ]
        },
        {
            "cell_type": "code",
            "execution_count": null,
            "metadata": {},
            "outputs": [],
            "source": [
                "#result_vct = model_vct.zigzag(u0=u0_, angle=angle_deg)\n",
                "result_vct = model_vct.simulate(df_result.loc[0:6])"
            ]
        },
        {
            "cell_type": "code",
            "execution_count": null,
            "metadata": {},
            "outputs": [],
            "source": [
                "result_vct.track_plot(compare=True);\n",
                "result_vct.plot(compare=True);"
            ]
        },
        {
            "cell_type": "code",
            "execution_count": null,
            "metadata": {},
            "outputs": [],
            "source": [
                "variation_keys = ['u','v','r','delta']\n",
                "df_inputs = variate(df=df_result_prime, variation_keys=variation_keys, N=8)\n",
                "df_outputs = model.forces(df_inputs)\n",
                "df_captive_all = pd.concat([df_inputs,df_outputs], axis=1)"
            ]
        },
        {
            "cell_type": "code",
            "execution_count": null,
            "metadata": {},
            "outputs": [],
            "source": [
                "len(df_captive_all)"
            ]
        },
        {
            "cell_type": "code",
            "execution_count": null,
            "metadata": {},
            "outputs": [],
            "source": [
                "reg_all = ForceRegression(vmm=model, data=df_captive_all)\n",
                "display(reg_all.show_pred_X())\n",
                "display(reg_all.show_pred_Y())\n",
                "display(reg_all.show_pred_N())"
            ]
        },
        {
            "cell_type": "code",
            "execution_count": null,
            "metadata": {},
            "outputs": [],
            "source": [
                "model_all = reg_all.create_model(df_parameters=parameters, ship_parameters=model.ship_parameters, \n",
                "                             ps=model.prime_system, control_keys=['delta'])"
            ]
        },
        {
            "cell_type": "code",
            "execution_count": null,
            "metadata": {},
            "outputs": [],
            "source": [
                "#result_all = model_all.simulate(df_result)\n",
                "result_all = model.simulate(df_result)"
            ]
        },
        {
            "cell_type": "code",
            "execution_count": null,
            "metadata": {},
            "outputs": [],
            "source": [
                "result_all.plot_compare();"
            ]
        },
        {
            "cell_type": "code",
            "execution_count": null,
            "metadata": {},
            "outputs": [],
            "source": [
                "df_compare_parameters =pd.DataFrame()\n",
                "df_compare_parameters['model'] = model.parameters\n",
                "df_compare_parameters['model captive all'] = model_all.parameters\n",
                "df_compare_parameters['model captive 1'] = model_vct.parameters\n",
                "\n",
                "\n",
                "df_compare_parameters['model_abs'] = df_compare_parameters['model'].abs()\n",
                "df_compare_parameters.sort_values(by='model_abs', ascending=False, inplace=True)\n",
                "df_compare_parameters.drop(columns=['model_abs'], inplace=True)\n",
                "\n",
                "df_compare_parameters = df_compare_parameters.divide(df_compare_parameters['model'], axis=0)\n",
                "\n",
                "df_compare_parameters['dof'] = pd.Series(df_compare_parameters.index).apply(lambda x:x[0]).values\n",
                "\n",
                "for dof, df_ in df_compare_parameters.groupby(by='dof', sort=False):\n",
                "    fig,ax=plt.subplots()\n",
                "    fig.set_size_inches(10,2)\n",
                "    df_.plot(kind='bar', ax=ax)\n",
                "    fig.suptitle(dof)"
            ]
        },
        {
            "cell_type": "code",
            "execution_count": null,
            "metadata": {},
            "outputs": [],
            "source": []
        },
        {
            "cell_type": "code",
            "execution_count": null,
            "metadata": {},
            "outputs": [],
            "source": []
        },
        {
            "cell_type": "code",
            "execution_count": null,
            "metadata": {},
            "outputs": [],
            "source": []
        },
        {
            "cell_type": "code",
            "execution_count": null,
            "metadata": {},
            "outputs": [],
            "source": []
        },
        {
            "cell_type": "code",
            "execution_count": null,
            "metadata": {},
            "outputs": [],
            "source": [
                "df_captive = df_VCT_prime.copy()\n",
                "df_captive['test type'] = df_VCT['test type']\n",
                "\n",
                "N = len(df_captive)\n",
                "N_sample = N - 5\n",
                "df_captive_sample = df_captive.sample(n=N_sample, random_state=42)"
            ]
        },
        {
            "cell_type": "code",
            "execution_count": null,
            "metadata": {},
            "outputs": [],
            "source": [
                "N"
            ]
        },
        {
            "cell_type": "code",
            "execution_count": null,
            "metadata": {},
            "outputs": [],
            "source": [
                "model_names = [f'{i}' for i in range(20)]\n",
                "\n",
                "df_captive_all = df_captive.copy()\n",
                "np.random.seed(42)\n",
                "\n",
                "models = {}\n",
                "\n",
                "for model_name in model_names:\n",
                "    \n",
                "    df_captive_sample = df_captive.sample(n=N_sample)\n",
                "    \n",
                "    reg = ForceRegression(vmm=vmm, data=df_captive_sample)\n",
                "    model_reg = reg.create_model(df_parameters=df_parameters, ship_parameters=ship_parameters, ps=ps)\n",
                "    \n",
                "    models[model_name] = model_vct = reg.create_model(df_parameters=df_parameters, ship_parameters=ship_parameters, ps=ps)\n",
                "    \n",
                "    \n",
                "    outputs = model_reg.forces(inputs = df_captive)\n",
                "    df_captive_all = pd.merge(left=df_captive_all, right=outputs, \n",
                "                          how='left', \n",
                "                          left_index=True, \n",
                "                          right_index=True,\n",
                "                          suffixes = ('',f'_{model_name}'),\n",
                "                          )"
            ]
        },
        {
            "cell_type": "code",
            "execution_count": null,
            "metadata": {},
            "outputs": [],
            "source": [
                "suffixes = [f'_{model_name}' for model_name in model_names]\n",
                "styles = ['r.'] + ['b-' for model_name in model_names]\n",
                "\n",
                "legends = ['VCT'] + model_names\n",
                "\n",
                "captive_plot(df_captive=df_captive_all, suffixes=suffixes, \n",
                "             legends = legends, styles=styles, alpha=0.2, lw=2, add_legend=False)"
            ]
        },
        {
            "cell_type": "code",
            "execution_count": null,
            "metadata": {},
            "outputs": [],
            "source": [
                "df_results = pd.DataFrame()\n",
                "result = model_vct.zigzag(u0=2, angle=30)\n",
                "\n",
                "for model_name, model in models.items():\n",
                "    result_ = model.simulate(result.result)\n",
                "    df_ = result_.result\n",
                "    df_['t'] = df_.index\n",
                "    df_['model_name'] = model_name\n",
                "    df_results = df_results.append(df_, ignore_index=True)\n",
                "    "
            ]
        },
        {
            "cell_type": "code",
            "execution_count": null,
            "metadata": {},
            "outputs": [],
            "source": [
                "from vessel_manoeuvring_models.visualization.plot import track_plot\n",
                "\n",
                "fig,ax=plt.subplots()\n",
                "fig.set_size_inches(10,10)\n",
                "\n",
                "for model_name, df_ in df_results.groupby(by='model_name'):\n",
                "    \n",
                "    df_.plot(x='x0', y='y0', ax=ax, alpha=0.2, lw=3, style='b-')\n",
                "\n",
                "result.result.plot(x='x0', y='y0', style='k-', zorder=10, ax=ax)\n",
                "    \n",
                "ax.set_xlabel('x0 [m]')   \n",
                "ax.set_ylabel('y0 [m]')   \n",
                "\n",
                "ax.set_aspect(\"equal\")\n",
                "ax.set_title(\"Track plot\")\n",
                "ax.get_legend().set_visible(False)\n",
                "ax.grid(True)\n",
                "handles, labels = ax.get_legend_handles_labels()\n",
                "ax.legend(handles[-2:],['simulations','model test'])"
            ]
        },
        {
            "cell_type": "code",
            "execution_count": null,
            "metadata": {},
            "outputs": [],
            "source": [
                "fig,ax=plt.subplots()\n",
                "fig.set_size_inches(14,3)\n",
                "\n",
                "df_results['psi_deg'] = np.rad2deg(df_results['psi'])\n",
                "\n",
                "df_results_ = result.result.copy()\n",
                "df_results_['-delta_deg'] =-np.rad2deg(df_results_['delta'])\n",
                "df_results_['psi_deg'] = np.rad2deg(df_results_['psi'])\n",
                "\n",
                "for model_name, df_ in df_results.groupby(by='model_name'):\n",
                "    \n",
                "    df_.plot(x='t', y='psi_deg', ax=ax, alpha=0.2, lw=3, style='b-')\n",
                "\n",
                "df_results_.plot(y='psi_deg', ax=ax, style='k-', zorder=10)\n",
                "df_results_.plot(y='-delta_deg', ax=ax, style='m-', zorder=10)\n",
                "    \n",
                "ax.set_xlabel('time [s]')   \n",
                "ax.set_ylabel('Heading $\\psi$ [deg]')   \n",
                "\n",
                "ax.set_title(\"ZigZag30/30\")\n",
                "\n",
                "handles, labels = ax.get_legend_handles_labels()\n",
                "ax.legend(handles[-3:],['alternative models','model','rudder angle'])\n",
                "\n",
                "ax.grid(True)\n",
                "ax.set_ylim(-60,60)"
            ]
        },
        {
            "cell_type": "code",
            "execution_count": null,
            "metadata": {},
            "outputs": [],
            "source": [
                "model_vct.parameters"
            ]
        },
        {
            "cell_type": "code",
            "execution_count": null,
            "metadata": {},
            "outputs": [],
            "source": []
        },
        {
            "cell_type": "code",
            "execution_count": null,
            "metadata": {},
            "outputs": [],
            "source": []
        }
    ],
    "metadata": {
        "citation-manager": {
            "items": {}
        },
        "kernelspec": {
            "display_name": "Python 3",
            "language": "python",
            "name": "python3"
        },
        "language_info": {
            "codemirror_mode": {
                "name": "ipython",
                "version": 3
            },
            "file_extension": ".py",
            "mimetype": "text/x-python",
            "name": "python",
            "nbconvert_exporter": "python",
            "pygments_lexer": "ipython3",
            "version": "3.9.5"
        }
    },
    "nbformat": 4,
    "nbformat_minor": 4
}