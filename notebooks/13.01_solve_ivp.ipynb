{
    "cells": [
        {
            "cell_type": "markdown",
            "metadata": {},
            "source": [
                "# solve_ivp gives \"wobbly\" results?"
            ]
        },
        {
            "cell_type": "markdown",
            "metadata": {},
            "source": [
                "## Purpose\n",
                "* solve_ivp with RK45 gives some wobbly results can this be improved?"
            ]
        },
        {
            "cell_type": "markdown",
            "metadata": {},
            "source": [
                "## Methodology\n",
                "* Run solve_ivp with various settings.\n",
                "* compare the accelerations."
            ]
        },
        {
            "cell_type": "markdown",
            "metadata": {},
            "source": [
                "## Results\n",
                "Describe and comment the most important results."
            ]
        },
        {
            "cell_type": "markdown",
            "metadata": {},
            "source": [
                "## Setup"
            ]
        },
        {
            "cell_type": "code",
            "execution_count": null,
            "metadata": {},
            "outputs": [],
            "source": [
                "# %load imports.py\n",
                "## Local packages:\n",
                "\n",
                "%matplotlib inline\n",
                "%load_ext autoreload\n",
                "%autoreload 2\n",
                "%config Completer.use_jedi = False  ## (To fix autocomplete)\n",
                "\n",
                "## External packages:\n",
                "import pandas as pd\n",
                "pd.options.display.max_rows = 999\n",
                "pd.options.display.max_columns = 999\n",
                "pd.set_option(\"display.max_columns\", None)\n",
                "\n",
                "import numpy as np\n",
                "import os\n",
                "import matplotlib.pyplot as plt\n",
                "#if os.name == 'nt':\n",
                "#    plt.style.use('presentation.mplstyle')  # Windows\n",
                "\n",
                "import plotly.express as px \n",
                "import plotly.graph_objects as go\n",
                "\n",
                "import seaborn as sns\n",
                "import sympy as sp\n",
                "from sympy.physics.mechanics import (dynamicsymbols, ReferenceFrame,\n",
                "                                      Particle, Point)\n",
                "from sympy.physics.vector.printing import vpprint, vlatex\n",
                "from IPython.display import display, Math, Latex\n",
                "from vessel_manoeuvring_models.substitute_dynamic_symbols import run, lambdify\n",
                "\n",
                "import pyro\n",
                "\n",
                "import sklearn\n",
                "import pykalman\n",
                "from statsmodels.sandbox.regression.predstd import wls_prediction_std\n",
                "import statsmodels.api as sm\n",
                "\n",
                "from scipy.integrate import solve_ivp\n",
                "\n",
                "## Local packages:\n",
                "from vessel_manoeuvring_models.data import mdl\n",
                "\n",
                "from vessel_manoeuvring_models.symbols import *\n",
                "from vessel_manoeuvring_models.parameters import *\n",
                "import vessel_manoeuvring_models.symbols as symbols\n",
                "from vessel_manoeuvring_models import prime_system\n",
                "from vessel_manoeuvring_models.models import regression\n",
                "from vessel_manoeuvring_models.visualization.regression import show_pred\n",
                "from vessel_manoeuvring_models.visualization.plot import track_plot\n",
                "\n",
                "## Load models:\n",
                "# (Uncomment these for faster loading):\n",
                "import vessel_manoeuvring_models.models.vmm_simple_nonlinear  as vmm\n",
                "from vessel_manoeuvring_models.data.case_1 import ship_parameters, df_parameters, ps, ship_parameters_prime\n",
                "from vessel_manoeuvring_models.data.transform import transform_to_ship"
            ]
        },
        {
            "cell_type": "markdown",
            "metadata": {},
            "source": [
                "## Ship parameters"
            ]
        },
        {
            "cell_type": "code",
            "execution_count": null,
            "metadata": {},
            "outputs": [],
            "source": [
                "ship_parameters"
            ]
        },
        {
            "cell_type": "markdown",
            "metadata": {},
            "source": [
                "## Brix parameters"
            ]
        },
        {
            "cell_type": "code",
            "execution_count": null,
            "metadata": {},
            "outputs": [],
            "source": [
                "mask = df_parameters['prime'].notnull()\n",
                "index = df_parameters.loc[mask,'prime'].index\n",
                "coefficients=vmm.simulator.get_all_coefficients(sympy_symbols=False)\n",
                "missing_coefficients = set(coefficients) - set(index)\n",
                "missing_coefficients"
            ]
        },
        {
            "cell_type": "code",
            "execution_count": null,
            "metadata": {},
            "outputs": [],
            "source": [
                "mask = df_parameters['prime'].notnull()\n",
                "df_parameters.loc[mask,'prime']"
            ]
        },
        {
            "cell_type": "markdown",
            "metadata": {},
            "source": [
                "## Simulate data"
            ]
        },
        {
            "cell_type": "code",
            "execution_count": null,
            "metadata": {},
            "outputs": [],
            "source": [
                "parameters=df_parameters['prime'].copy()\n",
                "\n",
                "t_ = np.linspace(0,70,1000)\n",
                "df_ = pd.DataFrame(index=t_)\n",
                "\n",
                "df_['u'] = 2\n",
                "df_['v'] = 0\n",
                "df_['r'] = 0\n",
                "df_['x0'] = 0\n",
                "df_['y0'] = 0\n",
                "df_['psi'] = 0\n",
                "df_['U'] = np.sqrt(df_['u']**2 + df_['v']**2)\n",
                "df_['beta'] = -np.arctan2(df_['v'],df_['u'])\n",
                "df_['thrust'] = 50\n",
                "\n",
                "df_['delta'] = 0\n",
                "df_.loc[10:,'delta'] = np.deg2rad(20)\n",
                "\n",
                "results = {}\n",
                "for method in ['RK45','Radau','BDF','RK23','DOP853','LSODA']:\n",
                "    \n",
                "    result = vmm.simulator.simulate(df_=df_, parameters=parameters, ship_parameters=ship_parameters, \n",
                "                                control_keys=['delta','thrust'], primed_parameters=True,\n",
                "                                prime_system=ps, method=method)\n",
                "    results[method] = result\n",
                " "
            ]
        },
        {
            "cell_type": "code",
            "execution_count": null,
            "metadata": {},
            "outputs": [],
            "source": [
                "results=pd.Series(results)"
            ]
        },
        {
            "cell_type": "markdown",
            "metadata": {},
            "source": [
                "## Compare"
            ]
        },
        {
            "cell_type": "code",
            "execution_count": null,
            "metadata": {},
            "outputs": [],
            "source": [
                "fig,ax=plt.subplots()\n",
                "for method,result in results.items():\n",
                "    result.result.plot(y='u1d', label=method, ax=ax);\n",
                "\n",
                "ax.set_ylim(results['RK45'].result['u1d'].min(), results['RK45'].result['u1d'].max())"
            ]
        },
        {
            "cell_type": "code",
            "execution_count": null,
            "metadata": {},
            "outputs": [],
            "source": [
                "fig,ax=plt.subplots()\n",
                "for method,result in results.loc[['Radau','BDF','LSODA']].items():\n",
                "    result.result.plot(y='u1d', label=method, ax=ax);\n",
                "\n",
                "ax.set_ylim(results['RK45'].result['u1d'].min(), results['RK45'].result['u1d'].max())"
            ]
        },
        {
            "cell_type": "code",
            "execution_count": null,
            "metadata": {},
            "outputs": [],
            "source": [
                "x,y,z = sp.symbols('x y z')\n",
                "M = sp.Matrix([sp.sin(x) + y, sp.cos(y) + x, z]) \n",
                "M"
            ]
        },
        {
            "cell_type": "code",
            "execution_count": null,
            "metadata": {},
            "outputs": [],
            "source": [
                "M.jacobian([x, y, z])"
            ]
        },
        {
            "cell_type": "code",
            "execution_count": null,
            "metadata": {},
            "outputs": [],
            "source": [
                "eq_acceleration = vmm.simulator.acceleartion_eq.subs([(X_qs,vmm.X_qs_eq.rhs),\n",
                "                                    (Y_qs,vmm.Y_qs_eq.rhs),\n",
                "                                    (N_qs,vmm.N_qs_eq.rhs),\n",
                "                                   ])\n",
                "subs = {value:key for key,value in p.items()} \n",
                "eq_acceleration = eq_acceleration.subs(subs)\n",
                "\n",
                "jac = eq_acceleration.jacobian([u,v,r])\n",
                "jac_lambda=lambdify(jac)"
            ]
        },
        {
            "cell_type": "code",
            "execution_count": null,
            "metadata": {},
            "outputs": [],
            "source": [
                "jac_lambda"
            ]
        },
        {
            "cell_type": "code",
            "execution_count": null,
            "metadata": {},
            "outputs": [],
            "source": []
        }
    ],
    "metadata": {
        "citation-manager": {
            "items": {}
        },
        "kernelspec": {
            "display_name": "Python 3",
            "language": "python",
            "name": "python3"
        },
        "language_info": {
            "codemirror_mode": {
                "name": "ipython",
                "version": 3
            },
            "file_extension": ".py",
            "mimetype": "text/x-python",
            "name": "python",
            "nbconvert_exporter": "python",
            "pygments_lexer": "ipython3",
            "version": "3.9.5"
        }
    },
    "nbformat": 4,
    "nbformat_minor": 4
}