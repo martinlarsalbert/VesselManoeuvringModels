{
 "cells": [
  {
   "cell_type": "markdown",
   "metadata": {},
   "source": [
    "# PIT Summary nonlinear"
   ]
  },
  {
   "cell_type": "markdown",
   "metadata": {},
   "source": [
    "# Purpose\n",
    "There has been a lot done in the parameter identification techniques (PIT) in this project, this notebook is a summary."
   ]
  },
  {
   "cell_type": "markdown",
   "metadata": {},
   "source": [
    "# Setup"
   ]
  },
  {
   "cell_type": "code",
   "execution_count": 1,
   "metadata": {},
   "outputs": [
    {
     "name": "stderr",
     "output_type": "stream",
     "text": [
      "Duplicate key in file WindowsPath('C:/Users/maa/.matplotlib/stylelib/paper.mplstyle'), line 462 ('figure.figsize   : 5, 3   ## figure size in inches')\n",
      "Duplicate key in file WindowsPath('C:/Users/maa/.matplotlib/stylelib/paper.mplstyle'), line 463 ('figure.dpi       : 100        ## figure dots per inch')\n"
     ]
    }
   ],
   "source": [
    "# %load imports.py\n",
    "# %load imports.py\n",
    "%matplotlib inline\n",
    "%load_ext autoreload\n",
    "%autoreload 2\n",
    "%config Completer.use_jedi = False  ## (To fix autocomplete)\n",
    "\n",
    "## External packages:\n",
    "import pandas as pd\n",
    "pd.options.display.max_rows = 999\n",
    "pd.options.display.max_columns = 999\n",
    "pd.set_option(\"display.max_columns\", None)\n",
    "\n",
    "import numpy as np\n",
    "import os\n",
    "import matplotlib.pyplot as plt\n",
    "#if os.name == 'nt':\n",
    "#    plt.style.use('presentation.mplstyle')  # Windows\n",
    "\n",
    "import plotly.express as px \n",
    "import plotly.graph_objects as go\n",
    "\n",
    "import seaborn as sns\n",
    "import sympy as sp\n",
    "from sympy.physics.mechanics import (dynamicsymbols, ReferenceFrame,\n",
    "                                      Particle, Point)\n",
    "from sympy.physics.vector.printing import vpprint, vlatex\n",
    "from IPython.display import display, Math, Latex\n",
    "from src.substitute_dynamic_symbols import run, lambdify\n",
    "\n",
    "#import pyro\n",
    "\n",
    "import sklearn\n",
    "import pykalman\n",
    "from statsmodels.sandbox.regression.predstd import wls_prediction_std\n",
    "import statsmodels.api as sm\n",
    "\n",
    "from scipy.integrate import solve_ivp\n",
    "\n",
    "## Local packages:\n",
    "from src.data import mdl\n",
    "#import src.models.nonlinear_martin_vmm as vmm\n",
    "#import src.nonlinear_martin_vmm_equations as eq\n",
    "\n",
    "#import src.models.linear_vmm as vmm\n",
    "import src.nonlinear_martin_vmm_equations as eq\n",
    "\n",
    "#import src.models.linear_vmm as model\n",
    "from src.symbols import *\n",
    "from src.parameters import *\n",
    "import src.symbols as symbols\n",
    "from src import prime_system\n",
    "from src.models import regression\n",
    "from src.visualization.plot import track_plot\n",
    "from src.equation import Equation"
   ]
  },
  {
   "cell_type": "code",
   "execution_count": 2,
   "metadata": {},
   "outputs": [
    {
     "data": {
      "text/latex": [
       "$\\displaystyle m \\left(- x_{G} r^{2} - r v + \\dot{u}\\right) = X_{\\dot{r}} \\dot{r} + X_{\\dot{u}} \\dot{u} + X_{\\dot{v}} \\dot{v} + X_{deltadelta} \\delta^{2} + X_{rdelta} \\delta r + X_{rr} r^{2} + X_{thrust} thrust + X_{udeltadelta} \\delta^{2} u + X_{urdelta} \\delta r u + X_{urr} r^{2} u + X_{uuu} u^{3} + X_{uu} u^{2} + X_{uvr} r u v + X_{uvv} u v^{2} + X_{u} u + X_{vdelta} \\delta v + X_{vrdelta} \\delta r v + X_{vr} r v + X_{vv} v^{2}$"
      ],
      "text/plain": [
       "<IPython.core.display.Math object>"
      ]
     },
     "execution_count": 2,
     "metadata": {},
     "output_type": "execute_result"
    }
   ],
   "source": [
    "Math(vlatex(eq.X_eq))"
   ]
  },
  {
   "cell_type": "code",
   "execution_count": 3,
   "metadata": {},
   "outputs": [
    {
     "data": {
      "text/latex": [
       "$\\displaystyle m \\left(x_{G} \\dot{r} + r u + \\dot{v}\\right) = Y_{\\dot{r}} \\dot{r} + Y_{\\dot{u}} \\dot{u} + Y_{\\dot{v}} \\dot{v} + Y_{delta} \\delta + Y_{rrr} r^{3} + Y_{r} r + Y_{udelta} \\delta u + Y_{ur} r u + Y_{uudelta} \\delta u^{2} + Y_{uur} r u^{2} + Y_{uuv} u^{2} v + Y_{uu} u^{2} + Y_{uv} u v + Y_{vdeltadelta} \\delta^{2} v + Y_{vrdelta} \\delta r v + Y_{vrr} r^{2} v + Y_{vvr} r v^{2} + Y_{vvv} v^{3} + Y_{v} v$"
      ],
      "text/plain": [
       "<IPython.core.display.Math object>"
      ]
     },
     "execution_count": 3,
     "metadata": {},
     "output_type": "execute_result"
    }
   ],
   "source": [
    "Math(vlatex(eq.Y_eq))"
   ]
  },
  {
   "cell_type": "code",
   "execution_count": 4,
   "metadata": {},
   "outputs": [
    {
     "data": {
      "text/latex": [
       "$\\displaystyle I_{z} \\dot{r} + m x_{G} \\left(r u + \\dot{v}\\right) = N_{\\dot{r}} \\dot{r} + N_{\\dot{u}} \\dot{v} + N_{\\dot{v}} \\dot{v} + N_{deltadeltadelta} \\delta^{3} + N_{delta} \\delta + N_{rdeltadelta} \\delta^{2} r + N_{rrdelta} \\delta r^{2} + N_{rrr} r^{3} + N_{r} r + N_{udelta} \\delta u + N_{ur} r u + N_{uudelta} \\delta u^{2} + N_{uur} r u^{2} + N_{uuv} u^{2} v + N_{uu} u^{2} + N_{uv} u v + N_{vdeltadelta} \\delta^{2} v + N_{vrdelta} \\delta r v + N_{vrr} r^{2} v + N_{vvdelta} \\delta v^{2} + N_{vvr} r v^{2} + N_{v} v$"
      ],
      "text/plain": [
       "<IPython.core.display.Math object>"
      ]
     },
     "execution_count": 4,
     "metadata": {},
     "output_type": "execute_result"
    }
   ],
   "source": [
    "Math(vlatex(eq.N_eq))"
   ]
  },
  {
   "cell_type": "code",
   "execution_count": 5,
   "metadata": {},
   "outputs": [
    {
     "data": {
      "text/latex": [
       "$\\displaystyle X_{\\dot{r}} \\dot{r} + X_{\\dot{u}} \\dot{u} + X_{\\dot{v}} \\dot{v} + X_{deltadelta} \\delta^{2} + X_{rdelta} \\delta r + X_{rr} r^{2} + X_{thrust} thrust + X_{udeltadelta} \\delta^{2} u + X_{urdelta} \\delta r u + X_{urr} r^{2} u + X_{uuu} u^{3} + X_{uu} u^{2} + X_{uvr} r u v + X_{uvv} u v^{2} + X_{u} u + X_{vdelta} \\delta v + X_{vrdelta} \\delta r v + X_{vr} r v + X_{vv} v^{2} - m \\left(- x_{G} r^{2} - r v + \\dot{u}\\right)$"
      ],
      "text/plain": [
       "<IPython.core.display.Math object>"
      ]
     },
     "execution_count": 5,
     "metadata": {},
     "output_type": "execute_result"
    }
   ],
   "source": [
    "Math(vlatex(eq.X_eq.rhs-eq.X_eq.lhs))"
   ]
  },
  {
   "cell_type": "code",
   "execution_count": 6,
   "metadata": {},
   "outputs": [
    {
     "data": {
      "text/latex": [
       "$\\displaystyle Y_{\\dot{r}} \\dot{r} + Y_{\\dot{u}} \\dot{u} + Y_{\\dot{v}} \\dot{v} + Y_{delta} \\delta + Y_{rrr} r^{3} + Y_{r} r + Y_{udelta} \\delta u + Y_{ur} r u + Y_{uudelta} \\delta u^{2} + Y_{uur} r u^{2} + Y_{uuv} u^{2} v + Y_{uu} u^{2} + Y_{uv} u v + Y_{vdeltadelta} \\delta^{2} v + Y_{vrdelta} \\delta r v + Y_{vrr} r^{2} v + Y_{vvr} r v^{2} + Y_{vvv} v^{3} + Y_{v} v - m \\left(x_{G} \\dot{r} + r u + \\dot{v}\\right)$"
      ],
      "text/plain": [
       "<IPython.core.display.Math object>"
      ]
     },
     "execution_count": 6,
     "metadata": {},
     "output_type": "execute_result"
    }
   ],
   "source": [
    "Math(vlatex(eq.Y_eq.rhs-eq.Y_eq.lhs))"
   ]
  },
  {
   "cell_type": "code",
   "execution_count": 7,
   "metadata": {},
   "outputs": [
    {
     "data": {
      "text/latex": [
       "$\\displaystyle - I_{z} \\dot{r} + N_{\\dot{r}} \\dot{r} + N_{\\dot{u}} \\dot{v} + N_{\\dot{v}} \\dot{v} + N_{deltadeltadelta} \\delta^{3} + N_{delta} \\delta + N_{rdeltadelta} \\delta^{2} r + N_{rrdelta} \\delta r^{2} + N_{rrr} r^{3} + N_{r} r + N_{udelta} \\delta u + N_{ur} r u + N_{uudelta} \\delta u^{2} + N_{uur} r u^{2} + N_{uuv} u^{2} v + N_{uu} u^{2} + N_{uv} u v + N_{vdeltadelta} \\delta^{2} v + N_{vrdelta} \\delta r v + N_{vrr} r^{2} v + N_{vvdelta} \\delta v^{2} + N_{vvr} r v^{2} + N_{v} v - m x_{G} \\left(r u + \\dot{v}\\right)$"
      ],
      "text/plain": [
       "<IPython.core.display.Math object>"
      ]
     },
     "execution_count": 7,
     "metadata": {},
     "output_type": "execute_result"
    }
   ],
   "source": [
    "Math(vlatex(eq.N_eq.rhs-eq.N_eq.lhs))"
   ]
  },
  {
   "cell_type": "markdown",
   "metadata": {},
   "source": [
    "## Load test"
   ]
  },
  {
   "cell_type": "code",
   "execution_count": 8,
   "metadata": {},
   "outputs": [],
   "source": [
    "#id=22773\n",
    "#id=22616\n",
    "id=22774\n",
    "#id=22770\n",
    "\n",
    "\n",
    "df, units, meta_data = mdl.load(id=id, dir_path='../data/processed/kalman')\n",
    "df.index = df.index.total_seconds()\n",
    "df = df.iloc[0:-100].copy()\n",
    "df.index-=df.index[0]\n",
    "df['t'] = df.index\n",
    "df.sort_index(inplace=True)\n",
    "df['-delta'] = -df['delta']\n",
    "df['V'] = np.sqrt(df['u']**2 + df['v']**2)\n",
    "\n",
    "df['thrust'] = df['Prop/PS/Thrust'] + df['Prop/SB/Thrust']\n",
    "df['U'] = df['V']\n",
    "df['beta'] = -np.arctan2(df['v'],df['u'])"
   ]
  },
  {
   "cell_type": "code",
   "execution_count": 9,
   "metadata": {},
   "outputs": [],
   "source": [
    "meta_data['rho']=1000\n",
    "meta_data['mass'] = meta_data['Volume']*meta_data['rho']"
   ]
  },
  {
   "cell_type": "code",
   "execution_count": 10,
   "metadata": {},
   "outputs": [
    {
     "data": {
      "text/plain": [
       "<AxesSubplot:xlabel='time'>"
      ]
     },
     "execution_count": 10,
     "metadata": {},
     "output_type": "execute_result"
    },
    {
     "data": {
      "image/png": "[encoded data removed]",
      "text/plain": [
       "<Figure size 432x288 with 1 Axes>"
      ]
     },
     "metadata": {
      "needs_background": "light"
     },
     "output_type": "display_data"
    },
    {
     "data": {
      "image/png": "[encoded data removed]",
      "text/plain": [
       "<Figure size 432x288 with 1 Axes>"
      ]
     },
     "metadata": {
      "needs_background": "light"
     },
     "output_type": "display_data"
    }
   ],
   "source": [
    "from src.visualization.plot import track_plot\n",
    "fig,ax=plt.subplots()\n",
    "#fig.set_size_inches(10,10)\n",
    "track_plot(df=df, lpp=meta_data.lpp, x_dataset='x0', y_dataset='y0',  psi_dataset='psi', beam=meta_data.beam, ax=ax);\n",
    "df.plot(y='u')"
   ]
  },
  {
   "cell_type": "markdown",
   "metadata": {},
   "source": [
    "# Ship parameters"
   ]
  },
  {
   "cell_type": "code",
   "execution_count": 11,
   "metadata": {},
   "outputs": [],
   "source": [
    "T_ = (meta_data.TA + meta_data.TF)/2\n",
    "L_ = meta_data.lpp\n",
    "m_ = meta_data.mass\n",
    "rho_ = meta_data.rho\n",
    "B_ = meta_data.beam\n",
    "CB_ = m_/(T_*B_*L_*rho_)\n",
    "I_z_ = m_*meta_data.KZZ**2\n",
    "#I_z_=839.725\n",
    "\n",
    "ship_parameters = {\n",
    "        'T' : T_,\n",
    "        'L' : L_,\n",
    "        'CB' :CB_,\n",
    "        'B' : B_,\n",
    "        'rho' : rho_,\n",
    "        #'x_G' : meta_data.lcg,  # motions are expressed at CG\n",
    "        'x_G' : 0,  # motions are expressed at CG\n",
    "        \n",
    "        'm' : m_,\n",
    "        'I_z': I_z_, \n",
    "        'volume':meta_data.Volume,\n",
    "    }\n",
    "\n",
    "ps = prime_system.PrimeSystem(**ship_parameters)  # model\n",
    "\n",
    "scale_factor = meta_data.scale_factor\n",
    "ps_ship = prime_system.PrimeSystem(L=ship_parameters['L']*scale_factor, rho=meta_data['rho'])  # ship\n",
    "ship_parameters_prime = ps.prime(ship_parameters)"
   ]
  },
  {
   "cell_type": "code",
   "execution_count": 12,
   "metadata": {},
   "outputs": [
    {
     "data": {
      "text/plain": [
       "719.4503668233929"
      ]
     },
     "execution_count": 12,
     "metadata": {},
     "output_type": "execute_result"
    }
   ],
   "source": [
    "I_z_+m_*meta_data.lcg**2  # Steiner rule..."
   ]
  },
  {
   "cell_type": "code",
   "execution_count": 13,
   "metadata": {},
   "outputs": [
    {
     "data": {
      "text/plain": [
       "693.124396594905"
      ]
     },
     "execution_count": 13,
     "metadata": {},
     "output_type": "execute_result"
    }
   ],
   "source": [
    "I_z_"
   ]
  },
  {
   "cell_type": "code",
   "execution_count": 14,
   "metadata": {},
   "outputs": [
    {
     "data": {
      "text/plain": [
       "{'T': 0.2063106796116504,\n",
       " 'L': 5.014563106796117,\n",
       " 'CB': 0.45034232324249973,\n",
       " 'B': 0.9466019417475728,\n",
       " 'rho': 1000,\n",
       " 'x_G': 0,\n",
       " 'm': 441.0267843660858,\n",
       " 'I_z': 693.124396594905,\n",
       " 'volume': 0.4410267843660858}"
      ]
     },
     "execution_count": 14,
     "metadata": {},
     "output_type": "execute_result"
    }
   ],
   "source": [
    "ship_parameters"
   ]
  },
  {
   "cell_type": "code",
   "execution_count": 15,
   "metadata": {},
   "outputs": [
    {
     "data": {
      "text/plain": [
       "{'T': 0.04114230396902224,\n",
       " 'L': 1.0,\n",
       " 'CB': 0.45034232324249973,\n",
       " 'B': 0.1887705711519845,\n",
       " 'rho': 2.0,\n",
       " 'x_G': 0.0,\n",
       " 'm': 0.006995127873817863,\n",
       " 'I_z': 0.00043719549211361644,\n",
       " 'volume': 0.003497563936908932}"
      ]
     },
     "execution_count": 15,
     "metadata": {},
     "output_type": "execute_result"
    }
   ],
   "source": [
    "ship_parameters_prime"
   ]
  },
  {
   "cell_type": "markdown",
   "metadata": {},
   "source": [
    "## Prime system"
   ]
  },
  {
   "cell_type": "code",
   "execution_count": 16,
   "metadata": {},
   "outputs": [],
   "source": [
    "interesting = ['x0','y0','psi','u','v','r','u1d','v1d','r1d','U','t','delta','thrust','beta']\n",
    "df_prime = ps.prime(df[interesting], U=df['U'])\n",
    "df_prime.set_index('t', inplace=True)"
   ]
  },
  {
   "cell_type": "code",
   "execution_count": 17,
   "metadata": {},
   "outputs": [
    {
     "data": {
      "text/plain": [
       "<AxesSubplot:xlabel='t'>"
      ]
     },
     "execution_count": 17,
     "metadata": {},
     "output_type": "execute_result"
    },
    {
     "data": {
      "image/png": "[encoded data removed]",
      "text/plain": [
       "<Figure size 432x288 with 1 Axes>"
      ]
     },
     "metadata": {
      "needs_background": "light"
     },
     "output_type": "display_data"
    },
    {
     "data": {
      "image/png": "[encoded data removed]",
      "text/plain": [
       "<Figure size 432x288 with 1 Axes>"
      ]
     },
     "metadata": {
      "needs_background": "light"
     },
     "output_type": "display_data"
    }
   ],
   "source": [
    "fig,ax=plt.subplots()\n",
    "#fig.set_size_inches(10,10)\n",
    "track_plot(df=df_prime, lpp=ship_parameters_prime['L'], beam=ship_parameters_prime['B'],\n",
    "           x_dataset='x0', y_dataset='y0',  psi_dataset='psi', ax=ax);\n",
    "\n",
    "df_prime.plot(y='u')"
   ]
  },
  {
   "cell_type": "code",
   "execution_count": 18,
   "metadata": {},
   "outputs": [
    {
     "data": {
      "text/plain": [
       "Float64Index([                 0.0, 0.010002000000000066, 0.020001999999999853,\n",
       "               0.03002200000000066,  0.04000199999999943,  0.05000099999999996,\n",
       "               0.06000200000000078,   0.0700219999999998,  0.08000099999999932,\n",
       "                0.0899990000000006,\n",
       "              ...\n",
       "                        159.050005,           159.060013,               159.07,\n",
       "                        159.080005,           159.090005,           159.100006,\n",
       "                        159.110017,           159.120001,           159.130005,\n",
       "                        159.140008],\n",
       "             dtype='float64', name='time', length=15915)"
      ]
     },
     "execution_count": 18,
     "metadata": {},
     "output_type": "execute_result"
    }
   ],
   "source": [
    "df.index"
   ]
  },
  {
   "cell_type": "code",
   "execution_count": 19,
   "metadata": {},
   "outputs": [
    {
     "data": {
      "text/plain": [
       "Float64Index([                  0.0, 0.0018590505176670773,\n",
       "               0.003703278795339165,  0.005567789136387368,\n",
       "                0.00743809610775319,  0.009300584387083548,\n",
       "                0.01116513279812117,   0.01306781836916762,\n",
       "               0.014973821105671309,  0.016852159385169353,\n",
       "              ...\n",
       "                 26.016530241872566,     26.08549683298727,\n",
       "                 26.155073443087844,     26.15859030345773,\n",
       "                 26.144083237296872,     26.12877144218778,\n",
       "                 26.116362811864647,    26.101964884226014,\n",
       "                  26.08629050013182,    26.075838054271756],\n",
       "             dtype='float64', name='t', length=15915)"
      ]
     },
     "execution_count": 19,
     "metadata": {},
     "output_type": "execute_result"
    }
   ],
   "source": [
    "df_prime.index"
   ]
  },
  {
   "cell_type": "code",
   "execution_count": 20,
   "metadata": {},
   "outputs": [
    {
     "data": {
      "text/plain": [
       "array([0.        , 0.39883833, 0.79767667])"
      ]
     },
     "execution_count": 20,
     "metadata": {},
     "output_type": "execute_result"
    }
   ],
   "source": [
    "t_ = np.array([0,1,2])\n",
    "U_ = np.array([1,2,2])\n",
    "t_prime = ps._prime(t_, unit='time', U=U_)\n",
    "t_prime"
   ]
  },
  {
   "cell_type": "code",
   "execution_count": 21,
   "metadata": {},
   "outputs": [
    {
     "data": {
      "text/plain": [
       "array([0., 1., 2.])"
      ]
     },
     "execution_count": 21,
     "metadata": {},
     "output_type": "execute_result"
    }
   ],
   "source": [
    "ps._unprime(t_prime, unit='time', U=U_)"
   ]
  },
  {
   "cell_type": "markdown",
   "metadata": {},
   "source": [
    "# Brix parameters"
   ]
  },
  {
   "cell_type": "code",
   "execution_count": 22,
   "metadata": {},
   "outputs": [],
   "source": [
    "def calculate_prime(row, ship_parameters):\n",
    "    return run(function=row['brix_lambda'], inputs=ship_parameters)\n",
    "\n",
    "\n",
    "mask = df_parameters['brix_lambda'].notnull()\n",
    "df_parameters.loc[mask,'brix_prime'] = df_parameters.loc[mask].apply(calculate_prime, ship_parameters=ship_parameters, axis=1)\n",
    "\n",
    "df_parameters.loc['Ydelta','brix_prime'] = 0.0004  # Just guessing\n",
    "df_parameters.loc['Ndelta','brix_prime'] = -df_parameters.loc['Ydelta','brix_prime']/4  # Just guessing\n",
    "\n",
    "df_parameters['brix_prime'].fillna(0, inplace=True)\n",
    "#df_parameters['brix_SI'].fillna(0, inplace=True)\n",
    "\n"
   ]
  },
  {
   "cell_type": "markdown",
   "metadata": {},
   "source": [
    "## Simulate with Brix"
   ]
  },
  {
   "cell_type": "code",
   "execution_count": 23,
   "metadata": {},
   "outputs": [],
   "source": [
    "X_eq = eq.X_eq.copy()\n",
    "Y_eq = eq.Y_eq.copy()\n",
    "N_eq = eq.N_eq.copy()\n",
    "\n",
    "\n",
    "#subs=[\n",
    "#    #(x_G,0),\n",
    "#    (eq.p.Xvdot,0),\n",
    "#    (eq.p.Xrdot,0),\n",
    "#    (eq.p.Yudot,0),\n",
    "#    (eq.p.Yrdot,0),\n",
    "#    (eq.p.Nudot,0),\n",
    "#    (eq.p.Nvdot,0),   \n",
    "#]\n",
    "#\n",
    "#X_eq = X_eq.subs(subs)\n",
    "#Y_eq = Y_eq.subs(subs)\n",
    "#N_eq = N_eq.subs(subs)\n",
    "\n",
    "u1d,v1d,r1d = sp.symbols('u1d, v1d, r1d')\n",
    "subs = [\n",
    "    (u.diff(),u1d),\n",
    "    (v.diff(),v1d),\n",
    "    (r.diff(),r1d),\n",
    "\n",
    "]\n",
    "eq_X_ = X_eq.subs(subs)\n",
    "eq_Y_ = Y_eq.subs(subs)\n",
    "eq_N_ = N_eq.subs(subs)\n",
    "\n",
    "\n",
    "A,b = sp.linear_eq_to_matrix([eq_X_,eq_Y_,eq_N_],[u1d,v1d,r1d])\n",
    "\n",
    "acceleartion_eq = A.inv()*b\n",
    "## Lambdify:\n",
    "subs = {value:key for key,value in eq.p.items()}\n",
    "subs[X_qs] = sp.symbols('X_qs')\n",
    "subs[Y_qs] = sp.symbols('Y_qs')\n",
    "subs[N_qs] = sp.symbols('N_qs')\n",
    "\n",
    "acceleartion_lambda = lambdify(acceleartion_eq.subs(subs))\n",
    "\n",
    "\n",
    "\n"
   ]
  },
  {
   "cell_type": "code",
   "execution_count": 24,
   "metadata": {},
   "outputs": [
    {
     "data": {
      "text/plain": [
       "<function _lambdifygenerated(I_z, Ndelta, Ndeltadeltadelta, Nr, Nrdeltadelta, Nrdot, Nrrdelta, Nrrr, Nudelta, Nudot, Nur, Nuu, Nuudelta, Nuur, Nuuv, Nuv, Nv, Nvdeltadelta, Nvdot, Nvrdelta, Nvrr, Nvvdelta, Nvvr, Xdeltadelta, Xrdelta, Xrdot, Xrr, Xthrust, Xu, Xudeltadelta, Xudot, Xurdelta, Xurr, Xuu, Xuuu, Xuvr, Xuvv, Xvdelta, Xvdot, Xvr, Xvrdelta, Xvv, Ydelta, Yr, Yrdot, Yrrr, Yudelta, Yudot, Yur, Yuu, Yuudelta, Yuur, Yuuv, Yuv, Yv, Yvdeltadelta, Yvdot, Yvrdelta, Yvrr, Yvvr, Yvvv, delta, m, r, thrust, u, v, x_G)>"
      ]
     },
     "execution_count": 24,
     "metadata": {},
     "output_type": "execute_result"
    }
   ],
   "source": [
    "acceleartion_lambda"
   ]
  },
  {
   "cell_type": "code",
   "execution_count": 25,
   "metadata": {},
   "outputs": [],
   "source": [
    "from scipy.spatial.transform import Rotation as R\n",
    "\n",
    "def step(t, states, parameters, ship_parameters, control):\n",
    "\n",
    "    u,v,r,x0,y0,psi = states\n",
    "    \n",
    "    if u < 0:\n",
    "        dstates = [\n",
    "        0,\n",
    "        0,\n",
    "        0,\n",
    "        0,\n",
    "        0,\n",
    "        0,\n",
    "        ]    \n",
    "        return dstates\n",
    "    \n",
    "    states_dict = {\n",
    "        'u':u,\n",
    "        'v':v,\n",
    "        'r':r,\n",
    "        'x0':x0,\n",
    "        'y0':y0,\n",
    "        'psi':psi,\n",
    "        \n",
    "        }\n",
    "    \n",
    "    inputs = dict(parameters)\n",
    "    inputs.update(ship_parameters)\n",
    "    inputs.update(states_dict)\n",
    "    \n",
    "    if isinstance(control, pd.DataFrame):\n",
    "        index = np.argmin(np.array(np.abs(control.index - t)))\n",
    "        control_ = dict(control.iloc[index])\n",
    "    else:\n",
    "        control_ = control\n",
    "    inputs.update(control_)\n",
    "    \n",
    "    inputs['U'] = np.sqrt(u**2 + v**2)  #Instantanious velocity\n",
    "    u1d,v1d,r1d = run(function=acceleartion_lambda, inputs=inputs)\n",
    "    \n",
    "    rotation = R.from_euler('z', psi, degrees=False)\n",
    "    w = 0\n",
    "    velocities = rotation.apply([u,v,w])\n",
    "    x01d = velocities[0]\n",
    "    y01d = velocities[1]\n",
    "    psi1d = r    \n",
    "    dstates = [\n",
    "        u1d,\n",
    "        v1d,\n",
    "        r1d,\n",
    "        x01d,\n",
    "        y01d,\n",
    "        psi1d,\n",
    "    ]    \n",
    "    return dstates"
   ]
  },
  {
   "cell_type": "code",
   "execution_count": 26,
   "metadata": {},
   "outputs": [
    {
     "data": {
      "text/plain": [
       "<AxesSubplot:xlabel='t'>"
      ]
     },
     "execution_count": 26,
     "metadata": {},
     "output_type": "execute_result"
    },
    {
     "data": {
      "image/png": "[encoded data removed]",
      "text/plain": [
       "<Figure size 432x288 with 1 Axes>"
      ]
     },
     "metadata": {
      "needs_background": "light"
     },
     "output_type": "display_data"
    }
   ],
   "source": [
    "fig,ax=plt.subplots()\n",
    "df_prime.plot(y='delta', ax=ax)\n",
    "df_cut_prime = df_prime.iloc[2000:12000]\n",
    "df_cut_prime.plot(y='delta', ax=ax, style='--', label='cut')"
   ]
  },
  {
   "cell_type": "code",
   "execution_count": 27,
   "metadata": {},
   "outputs": [],
   "source": [
    "def simulate(df_, parameters, ship_parameters):\n",
    "    \n",
    "    t = df_.index\n",
    "    t_span = [t.min(),t.max()]\n",
    "    t_eval = np.linspace(t.min(),t.max(),len(t))\n",
    "    \n",
    "    #control = df_[['delta','thrust']]\n",
    "    control = {\n",
    "        'delta': float(df_['delta'].mean()),\n",
    "        'thrust': float(df_['thrust'].mean()),\n",
    "        \n",
    "    }\n",
    "    \n",
    "    df_0 = df_.iloc[0:100].median(axis=0)\n",
    "    y0 = {\n",
    "        'u' : df_0['u'], \n",
    "        'v' : df_0['v'],\n",
    "        'r' : df_0['r'],\n",
    "        'x0' : df_0['x0'],\n",
    "        'y0' : df_0['y0'],\n",
    "        'psi' : df_0['psi']\n",
    "        }\n",
    "    \n",
    "    solution = solve_ivp(fun=step, t_span=t_span, y0=list(y0.values()), t_eval=t_eval, \n",
    "                args=(parameters, ship_parameters, control))\n",
    "    \n",
    "    columns = list(y0.keys())\n",
    "    df_result = pd.DataFrame(data=solution.y.T, columns=columns)\n",
    "    df_result.index=t[0:len(df_result)]\n",
    "    \n",
    "    df_result['beta'] = -np.arctan2(df_result['v'],df_result['u'])\n",
    "    \n",
    "    return solution, df_result"
   ]
  },
  {
   "cell_type": "code",
   "execution_count": 28,
   "metadata": {},
   "outputs": [
    {
     "data": {
      "text/plain": [
       "0.0"
      ]
     },
     "execution_count": 28,
     "metadata": {},
     "output_type": "execute_result"
    }
   ],
   "source": [
    "df_parameters.loc['Xthrust','brix_prime']"
   ]
  },
  {
   "cell_type": "code",
   "execution_count": 29,
   "metadata": {},
   "outputs": [],
   "source": [
    "solution, df_result_brix = simulate(df_cut_prime, parameters = df_parameters['brix_prime'], ship_parameters=ship_parameters_prime)"
   ]
  },
  {
   "cell_type": "code",
   "execution_count": 30,
   "metadata": {},
   "outputs": [
    {
     "data": {
      "image/png": "[encoded data removed]",
      "text/plain": [
       "<Figure size 432x288 with 1 Axes>"
      ]
     },
     "metadata": {
      "needs_background": "light"
     },
     "output_type": "display_data"
    },
    {
     "data": {
      "image/png": "[encoded data removed]",
      "text/plain": [
       "<Figure size 432x288 with 1 Axes>"
      ]
     },
     "metadata": {
      "needs_background": "light"
     },
     "output_type": "display_data"
    },
    {
     "data": {
      "image/png": "[encoded data removed]",
      "text/plain": [
       "<Figure size 432x288 with 1 Axes>"
      ]
     },
     "metadata": {
      "needs_background": "light"
     },
     "output_type": "display_data"
    },
    {
     "data": {
      "image/png": "[encoded data removed]",
      "text/plain": [
       "<Figure size 432x288 with 1 Axes>"
      ]
     },
     "metadata": {
      "needs_background": "light"
     },
     "output_type": "display_data"
    },
    {
     "data": {
      "image/png": "[encoded data removed]",
      "text/plain": [
       "<Figure size 432x288 with 1 Axes>"
      ]
     },
     "metadata": {
      "needs_background": "light"
     },
     "output_type": "display_data"
    },
    {
     "data": {
      "image/png": "[encoded data removed]",
      "text/plain": [
       "<Figure size 432x288 with 1 Axes>"
      ]
     },
     "metadata": {
      "needs_background": "light"
     },
     "output_type": "display_data"
    },
    {
     "data": {
      "image/png": "[encoded data removed]",
      "text/plain": [
       "<Figure size 432x288 with 1 Axes>"
      ]
     },
     "metadata": {
      "needs_background": "light"
     },
     "output_type": "display_data"
    },
    {
     "data": {
      "image/png": "[encoded data removed]",
      "text/plain": [
       "<Figure size 432x288 with 1 Axes>"
      ]
     },
     "metadata": {
      "needs_background": "light"
     },
     "output_type": "display_data"
    }
   ],
   "source": [
    "fig,ax=plt.subplots()\n",
    "track_plot(df=df_cut_prime, lpp=ship_parameters_prime['L'], beam=ship_parameters_prime['B'],ax=ax, label='model test')\n",
    "track_plot(df=df_result_brix, lpp=ship_parameters_prime['L'], beam=ship_parameters_prime['B'],ax=ax, label='simulation', color='green')\n",
    "ax.legend()\n",
    "\n",
    "\n",
    "for key in df_result_brix:\n",
    "    fig,ax = plt.subplots()\n",
    "    df_cut_prime.plot(y=key, label='model test', ax=ax)\n",
    "    df_result_brix.plot(y=key, label='simulation', ax=ax)\n",
    "    ax.set_ylabel(key)"
   ]
  },
  {
   "cell_type": "markdown",
   "metadata": {},
   "source": [
    "## Back to SI"
   ]
  },
  {
   "cell_type": "code",
   "execution_count": 31,
   "metadata": {},
   "outputs": [
    {
     "data": {
      "text/plain": [
       "[<matplotlib.lines.Line2D at 0x219f55caaf0>]"
      ]
     },
     "execution_count": 31,
     "metadata": {},
     "output_type": "execute_result"
    },
    {
     "data": {
      "image/png": "[encoded data removed]",
      "text/plain": [
       "<Figure size 432x288 with 1 Axes>"
      ]
     },
     "metadata": {
      "needs_background": "light"
     },
     "output_type": "display_data"
    }
   ],
   "source": [
    "fig,ax=plt.subplots()\n",
    "ax.plot(df.index,df_prime.index)"
   ]
  },
  {
   "cell_type": "code",
   "execution_count": 32,
   "metadata": {},
   "outputs": [],
   "source": [
    "U_ = ship_parameters['L']*df_prime.index/df.index\n",
    "df_unprime = ps.unprime(df_prime, U=U_)\n",
    "df_unprime.index = ps._unprime(df_prime.index,unit='time',U=U_)"
   ]
  },
  {
   "cell_type": "code",
   "execution_count": 33,
   "metadata": {},
   "outputs": [
    {
     "data": {
      "text/plain": [
       "<AxesSubplot:xlabel='time'>"
      ]
     },
     "execution_count": 33,
     "metadata": {},
     "output_type": "execute_result"
    },
    {
     "data": {
      "image/png": "[encoded data removed]",
      "text/plain": [
       "<Figure size 432x288 with 1 Axes>"
      ]
     },
     "metadata": {
      "needs_background": "light"
     },
     "output_type": "display_data"
    },
    {
     "data": {
      "image/png": "[encoded data removed]",
      "text/plain": [
       "<Figure size 432x288 with 1 Axes>"
      ]
     },
     "metadata": {
      "needs_background": "light"
     },
     "output_type": "display_data"
    },
    {
     "data": {
      "image/png": "[encoded data removed]",
      "text/plain": [
       "<Figure size 432x288 with 1 Axes>"
      ]
     },
     "metadata": {
      "needs_background": "light"
     },
     "output_type": "display_data"
    }
   ],
   "source": [
    "fig,ax=plt.subplots()\n",
    "#fig.set_size_inches(10,10)\n",
    "track_plot(df=df, lpp=meta_data.lpp, x_dataset='x0', y_dataset='y0',  psi_dataset='psi', beam=meta_data.beam, ax=ax);\n",
    "track_plot(df=df_unprime, lpp=meta_data.lpp, x_dataset='x0', y_dataset='y0',  psi_dataset='psi', beam=meta_data.beam, ax=ax);\n",
    "\n",
    "fig,ax=plt.subplots()\n",
    "df.plot(y='u',ax=ax)\n",
    "df_unprime.plot(y='u', style='--', ax=ax)\n",
    "\n",
    "fig,ax=plt.subplots()\n",
    "df.plot(y='v',ax=ax)\n",
    "df_unprime.plot(y='v', style='--', ax=ax)"
   ]
  },
  {
   "cell_type": "markdown",
   "metadata": {},
   "source": [
    "# VCT regression"
   ]
  },
  {
   "cell_type": "markdown",
   "metadata": {},
   "source": [
    "## Load VCT data"
   ]
  },
  {
   "cell_type": "code",
   "execution_count": 34,
   "metadata": {},
   "outputs": [
    {
     "data": {
      "text/html": [
       "<div>\n",
       "<style scoped>\n",
       "    .dataframe tbody tr th:only-of-type {\n",
       "        vertical-align: middle;\n",
       "    }\n",
       "\n",
       "    .dataframe tbody tr th {\n",
       "        vertical-align: top;\n",
       "    }\n",
       "\n",
       "    .dataframe thead th {\n",
       "        text-align: right;\n",
       "    }\n",
       "</style>\n",
       "<table border=\"1\" class=\"dataframe\">\n",
       "  <thead>\n",
       "    <tr style=\"text-align: right;\">\n",
       "      <th></th>\n",
       "      <th>level_0</th>\n",
       "      <th>Dp</th>\n",
       "      <th>S</th>\n",
       "      <th>S_Xgrid</th>\n",
       "      <th>S_inner_bracket_port</th>\n",
       "      <th>S_inner_bracket_stb</th>\n",
       "      <th>S_outer_bracket_port</th>\n",
       "      <th>S_outer_bracket_stb</th>\n",
       "      <th>S_rudder_port</th>\n",
       "      <th>S_rudder_stb</th>\n",
       "      <th>S_shaft_port_assembly</th>\n",
       "      <th>S_shaft_port_shaft1</th>\n",
       "      <th>S_shaft_port_shaft2</th>\n",
       "      <th>S_shaft_stb_assembly</th>\n",
       "      <th>S_shaft_stb_shaft1</th>\n",
       "      <th>S_shaft_stb_shaft2</th>\n",
       "      <th>V</th>\n",
       "      <th>beta</th>\n",
       "      <th>delta</th>\n",
       "      <th>fx</th>\n",
       "      <th>fx_Xgrid</th>\n",
       "      <th>fx_inner_bracket_port</th>\n",
       "      <th>fx_inner_bracket_stb</th>\n",
       "      <th>fx_outer_bracket_port</th>\n",
       "      <th>fx_outer_bracket_stb</th>\n",
       "      <th>fx_rudder_port</th>\n",
       "      <th>fx_rudder_stb</th>\n",
       "      <th>fx_shaft_port_assembly</th>\n",
       "      <th>fx_shaft_port_shaft1</th>\n",
       "      <th>fx_shaft_port_shaft2</th>\n",
       "      <th>fx_shaft_stb_assembly</th>\n",
       "      <th>fx_shaft_stb_shaft1</th>\n",
       "      <th>fx_shaft_stb_shaft2</th>\n",
       "      <th>fy</th>\n",
       "      <th>fy_Xgrid</th>\n",
       "      <th>fy_inner_bracket_port</th>\n",
       "      <th>fy_inner_bracket_stb</th>\n",
       "      <th>fy_outer_bracket_port</th>\n",
       "      <th>fy_outer_bracket_stb</th>\n",
       "      <th>fy_rudder_port</th>\n",
       "      <th>fy_rudder_stb</th>\n",
       "      <th>fy_shaft_port_assembly</th>\n",
       "      <th>fy_shaft_port_shaft1</th>\n",
       "      <th>fy_shaft_port_shaft2</th>\n",
       "      <th>fy_shaft_stb_assembly</th>\n",
       "      <th>fy_shaft_stb_shaft1</th>\n",
       "      <th>fy_shaft_stb_shaft2</th>\n",
       "      <th>fz</th>\n",
       "      <th>fz_Xgrid</th>\n",
       "      <th>fz_inner_bracket_port</th>\n",
       "      <th>fz_inner_bracket_stb</th>\n",
       "      <th>fz_outer_bracket_port</th>\n",
       "      <th>fz_outer_bracket_stb</th>\n",
       "      <th>fz_rudder_port</th>\n",
       "      <th>fz_rudder_stb</th>\n",
       "      <th>fz_shaft_port_assembly</th>\n",
       "      <th>fz_shaft_port_shaft1</th>\n",
       "      <th>fz_shaft_port_shaft2</th>\n",
       "      <th>fz_shaft_stb_assembly</th>\n",
       "      <th>fz_shaft_stb_shaft1</th>\n",
       "      <th>fz_shaft_stb_shaft2</th>\n",
       "      <th>g</th>\n",
       "      <th>lpp</th>\n",
       "      <th>mx</th>\n",
       "      <th>mx_Xgrid</th>\n",
       "      <th>mx_inner_bracket_port</th>\n",
       "      <th>mx_inner_bracket_stb</th>\n",
       "      <th>mx_outer_bracket_port</th>\n",
       "      <th>mx_outer_bracket_stb</th>\n",
       "      <th>mx_rudder_port</th>\n",
       "      <th>mx_rudder_stb</th>\n",
       "      <th>mx_shaft_port_assembly</th>\n",
       "      <th>mx_shaft_port_shaft1</th>\n",
       "      <th>mx_shaft_port_shaft2</th>\n",
       "      <th>mx_shaft_stb_assembly</th>\n",
       "      <th>mx_shaft_stb_shaft1</th>\n",
       "      <th>mx_shaft_stb_shaft2</th>\n",
       "      <th>my</th>\n",
       "      <th>my_Xgrid</th>\n",
       "      <th>my_inner_bracket_port</th>\n",
       "      <th>my_inner_bracket_stb</th>\n",
       "      <th>my_outer_bracket_port</th>\n",
       "      <th>my_outer_bracket_stb</th>\n",
       "      <th>my_rudder_port</th>\n",
       "      <th>my_rudder_stb</th>\n",
       "      <th>my_shaft_port_assembly</th>\n",
       "      <th>my_shaft_port_shaft1</th>\n",
       "      <th>my_shaft_port_shaft2</th>\n",
       "      <th>my_shaft_stb_assembly</th>\n",
       "      <th>my_shaft_stb_shaft1</th>\n",
       "      <th>my_shaft_stb_shaft2</th>\n",
       "      <th>mz</th>\n",
       "      <th>mz_Xgrid</th>\n",
       "      <th>mz_inner_bracket_port</th>\n",
       "      <th>mz_inner_bracket_stb</th>\n",
       "      <th>mz_outer_bracket_port</th>\n",
       "      <th>mz_outer_bracket_stb</th>\n",
       "      <th>mz_rudder_port</th>\n",
       "      <th>mz_rudder_stb</th>\n",
       "      <th>mz_shaft_port_assembly</th>\n",
       "      <th>mz_shaft_port_shaft1</th>\n",
       "      <th>mz_shaft_port_shaft2</th>\n",
       "      <th>mz_shaft_stb_assembly</th>\n",
       "      <th>mz_shaft_stb_shaft1</th>\n",
       "      <th>mz_shaft_stb_shaft2</th>\n",
       "      <th>r</th>\n",
       "      <th>result_file_path</th>\n",
       "      <th>rho</th>\n",
       "      <th>u</th>\n",
       "      <th>v</th>\n",
       "      <th>name</th>\n",
       "      <th>path</th>\n",
       "      <th>thrust</th>\n",
       "      <th>rev</th>\n",
       "      <th>p</th>\n",
       "      <th>phi</th>\n",
       "      <th>model_name</th>\n",
       "      <th>S_BK_port1</th>\n",
       "      <th>S_BK_stb1</th>\n",
       "      <th>fx_BK_port1</th>\n",
       "      <th>fx_BK_stb1</th>\n",
       "      <th>fy_BK_port1</th>\n",
       "      <th>fy_BK_stb1</th>\n",
       "      <th>fz_BK_port1</th>\n",
       "      <th>fz_BK_stb1</th>\n",
       "      <th>mx_BK_port1</th>\n",
       "      <th>mx_BK_stb1</th>\n",
       "      <th>my_BK_port1</th>\n",
       "      <th>my_BK_stb1</th>\n",
       "      <th>mz_BK_port1</th>\n",
       "      <th>mz_BK_stb1</th>\n",
       "      <th>S_daggerboard_middle</th>\n",
       "      <th>fx_daggerboard_middle</th>\n",
       "      <th>fy_daggerboard_middle</th>\n",
       "      <th>fz_daggerboard_middle</th>\n",
       "      <th>mx_daggerboard_middle</th>\n",
       "      <th>my_daggerboard_middle</th>\n",
       "      <th>mz_daggerboard_middle</th>\n",
       "      <th>S_R4083_ref</th>\n",
       "      <th>fx_R4083_ref</th>\n",
       "      <th>fy_R4083_ref</th>\n",
       "      <th>fz_R4083_ref</th>\n",
       "      <th>mx_R4083_ref</th>\n",
       "      <th>my_R4083_ref</th>\n",
       "      <th>mz_R4083_ref</th>\n",
       "      <th>S_Rudder_Center</th>\n",
       "      <th>S_Rudder_Port</th>\n",
       "      <th>S_Rudder_Starboard</th>\n",
       "      <th>S_hull</th>\n",
       "      <th>S_rudder</th>\n",
       "      <th>fx_Rudder_Center</th>\n",
       "      <th>fx_Rudder_Port</th>\n",
       "      <th>fx_Rudder_Starboard</th>\n",
       "      <th>fx_hull</th>\n",
       "      <th>fx_rudder</th>\n",
       "      <th>fy_Rudder_Center</th>\n",
       "      <th>fy_Rudder_Port</th>\n",
       "      <th>fy_Rudder_Starboard</th>\n",
       "      <th>fy_hull</th>\n",
       "      <th>fy_rudder</th>\n",
       "      <th>fz_Rudder_Center</th>\n",
       "      <th>fz_Rudder_Port</th>\n",
       "      <th>fz_Rudder_Starboard</th>\n",
       "      <th>fz_hull</th>\n",
       "      <th>fz_rudder</th>\n",
       "      <th>mx_Rudder_Center</th>\n",
       "      <th>mx_Rudder_Port</th>\n",
       "      <th>mx_Rudder_Starboard</th>\n",
       "      <th>mx_hull</th>\n",
       "      <th>mx_rudder</th>\n",
       "      <th>my_Rudder_Center</th>\n",
       "      <th>my_Rudder_Port</th>\n",
       "      <th>my_Rudder_Starboard</th>\n",
       "      <th>my_hull</th>\n",
       "      <th>my_rudder</th>\n",
       "      <th>mz_Rudder_Center</th>\n",
       "      <th>mz_Rudder_Port</th>\n",
       "      <th>mz_Rudder_Starboard</th>\n",
       "      <th>mz_hull</th>\n",
       "      <th>mz_rudder</th>\n",
       "      <th>torque</th>\n",
       "      <th>test type</th>\n",
       "      <th>eta0</th>\n",
       "      <th>eta0_round</th>\n",
       "      <th>fx_rudders</th>\n",
       "      <th>fy_rudders</th>\n",
       "      <th>fz_rudders</th>\n",
       "      <th>mx_rudders</th>\n",
       "      <th>my_rudders</th>\n",
       "      <th>mz_rudders</th>\n",
       "      <th>clr</th>\n",
       "      <th>S_daggerboard_port</th>\n",
       "      <th>S_daggerboard_stb</th>\n",
       "      <th>fake_index</th>\n",
       "      <th>fx_daggerboard_port</th>\n",
       "      <th>fx_daggerboard_stb</th>\n",
       "      <th>fy_daggerboard_port</th>\n",
       "      <th>fy_daggerboard_stb</th>\n",
       "      <th>fz_daggerboard_port</th>\n",
       "      <th>fz_daggerboard_stb</th>\n",
       "      <th>mx_daggerboard_port</th>\n",
       "      <th>mx_daggerboard_stb</th>\n",
       "      <th>my_daggerboard_port</th>\n",
       "      <th>my_daggerboard_stb</th>\n",
       "      <th>mz_daggerboard_port</th>\n",
       "      <th>mz_daggerboard_stb</th>\n",
       "      <th>$\\frac{fx}{V^2}$</th>\n",
       "      <th>$\\frac{fy}{V^2}$</th>\n",
       "      <th>$\\frac{mz}{V^2}$</th>\n",
       "    </tr>\n",
       "  </thead>\n",
       "  <tbody>\n",
       "    <tr>\n",
       "      <th>0</th>\n",
       "      <td>165</td>\n",
       "      <td>7.3</td>\n",
       "      <td>7375.872</td>\n",
       "      <td>7277.256591</td>\n",
       "      <td>NaN</td>\n",
       "      <td>NaN</td>\n",
       "      <td>NaN</td>\n",
       "      <td>NaN</td>\n",
       "      <td>NaN</td>\n",
       "      <td>NaN</td>\n",
       "      <td>NaN</td>\n",
       "      <td>NaN</td>\n",
       "      <td>NaN</td>\n",
       "      <td>NaN</td>\n",
       "      <td>NaN</td>\n",
       "      <td>NaN</td>\n",
       "      <td>6.173333</td>\n",
       "      <td>0.0</td>\n",
       "      <td>-0.000000</td>\n",
       "      <td>-261193.992917</td>\n",
       "      <td>-252076.078409</td>\n",
       "      <td>NaN</td>\n",
       "      <td>NaN</td>\n",
       "      <td>NaN</td>\n",
       "      <td>NaN</td>\n",
       "      <td>NaN</td>\n",
       "      <td>NaN</td>\n",
       "      <td>NaN</td>\n",
       "      <td>NaN</td>\n",
       "      <td>NaN</td>\n",
       "      <td>NaN</td>\n",
       "      <td>NaN</td>\n",
       "      <td>NaN</td>\n",
       "      <td>-1308.975604</td>\n",
       "      <td>-295.088406</td>\n",
       "      <td>NaN</td>\n",
       "      <td>NaN</td>\n",
       "      <td>NaN</td>\n",
       "      <td>NaN</td>\n",
       "      <td>NaN</td>\n",
       "      <td>NaN</td>\n",
       "      <td>NaN</td>\n",
       "      <td>NaN</td>\n",
       "      <td>NaN</td>\n",
       "      <td>NaN</td>\n",
       "      <td>NaN</td>\n",
       "      <td>NaN</td>\n",
       "      <td>-5.879028e+06</td>\n",
       "      <td>-5.881622e+06</td>\n",
       "      <td>NaN</td>\n",
       "      <td>NaN</td>\n",
       "      <td>NaN</td>\n",
       "      <td>NaN</td>\n",
       "      <td>NaN</td>\n",
       "      <td>NaN</td>\n",
       "      <td>NaN</td>\n",
       "      <td>NaN</td>\n",
       "      <td>NaN</td>\n",
       "      <td>NaN</td>\n",
       "      <td>NaN</td>\n",
       "      <td>NaN</td>\n",
       "      <td>9.80665</td>\n",
       "      <td>196.0</td>\n",
       "      <td>5.778834e+02</td>\n",
       "      <td>-1085.233044</td>\n",
       "      <td>NaN</td>\n",
       "      <td>NaN</td>\n",
       "      <td>NaN</td>\n",
       "      <td>NaN</td>\n",
       "      <td>NaN</td>\n",
       "      <td>NaN</td>\n",
       "      <td>NaN</td>\n",
       "      <td>NaN</td>\n",
       "      <td>NaN</td>\n",
       "      <td>NaN</td>\n",
       "      <td>NaN</td>\n",
       "      <td>NaN</td>\n",
       "      <td>6.173220e+08</td>\n",
       "      <td>6.178902e+08</td>\n",
       "      <td>NaN</td>\n",
       "      <td>NaN</td>\n",
       "      <td>NaN</td>\n",
       "      <td>NaN</td>\n",
       "      <td>NaN</td>\n",
       "      <td>NaN</td>\n",
       "      <td>NaN</td>\n",
       "      <td>NaN</td>\n",
       "      <td>NaN</td>\n",
       "      <td>NaN</td>\n",
       "      <td>NaN</td>\n",
       "      <td>NaN</td>\n",
       "      <td>1.236840e+05</td>\n",
       "      <td>2.386122e+04</td>\n",
       "      <td>NaN</td>\n",
       "      <td>NaN</td>\n",
       "      <td>NaN</td>\n",
       "      <td>NaN</td>\n",
       "      <td>NaN</td>\n",
       "      <td>NaN</td>\n",
       "      <td>NaN</td>\n",
       "      <td>NaN</td>\n",
       "      <td>NaN</td>\n",
       "      <td>NaN</td>\n",
       "      <td>NaN</td>\n",
       "      <td>NaN</td>\n",
       "      <td>0.0</td>\n",
       "      <td>L:\\proj2019\\40199079-Segelfartyg-Wallenius\\VCT...</td>\n",
       "      <td>1025.0</td>\n",
       "      <td>6.173333</td>\n",
       "      <td>-0.0</td>\n",
       "      <td>12knotsResistance</td>\n",
       "      <td>L:\\proj2019\\40199079-Segelfartyg-Wallenius\\VCT...</td>\n",
       "      <td>0.0</td>\n",
       "      <td>0.0</td>\n",
       "      <td>0</td>\n",
       "      <td>0</td>\n",
       "      <td>HERO</td>\n",
       "      <td>NaN</td>\n",
       "      <td>NaN</td>\n",
       "      <td>NaN</td>\n",
       "      <td>NaN</td>\n",
       "      <td>NaN</td>\n",
       "      <td>NaN</td>\n",
       "      <td>NaN</td>\n",
       "      <td>NaN</td>\n",
       "      <td>NaN</td>\n",
       "      <td>NaN</td>\n",
       "      <td>NaN</td>\n",
       "      <td>NaN</td>\n",
       "      <td>NaN</td>\n",
       "      <td>NaN</td>\n",
       "      <td>NaN</td>\n",
       "      <td>NaN</td>\n",
       "      <td>NaN</td>\n",
       "      <td>NaN</td>\n",
       "      <td>NaN</td>\n",
       "      <td>NaN</td>\n",
       "      <td>NaN</td>\n",
       "      <td>98.619465</td>\n",
       "      <td>-9118.015350</td>\n",
       "      <td>-1013.887198</td>\n",
       "      <td>2591.716633</td>\n",
       "      <td>1.663116e+03</td>\n",
       "      <td>-5.667386e+05</td>\n",
       "      <td>9.982278e+04</td>\n",
       "      <td>NaN</td>\n",
       "      <td>NaN</td>\n",
       "      <td>NaN</td>\n",
       "      <td>NaN</td>\n",
       "      <td>NaN</td>\n",
       "      <td>NaN</td>\n",
       "      <td>NaN</td>\n",
       "      <td>NaN</td>\n",
       "      <td>NaN</td>\n",
       "      <td>NaN</td>\n",
       "      <td>NaN</td>\n",
       "      <td>NaN</td>\n",
       "      <td>NaN</td>\n",
       "      <td>NaN</td>\n",
       "      <td>NaN</td>\n",
       "      <td>NaN</td>\n",
       "      <td>NaN</td>\n",
       "      <td>NaN</td>\n",
       "      <td>NaN</td>\n",
       "      <td>NaN</td>\n",
       "      <td>NaN</td>\n",
       "      <td>NaN</td>\n",
       "      <td>NaN</td>\n",
       "      <td>NaN</td>\n",
       "      <td>NaN</td>\n",
       "      <td>NaN</td>\n",
       "      <td>NaN</td>\n",
       "      <td>NaN</td>\n",
       "      <td>NaN</td>\n",
       "      <td>NaN</td>\n",
       "      <td>NaN</td>\n",
       "      <td>NaN</td>\n",
       "      <td>NaN</td>\n",
       "      <td>NaN</td>\n",
       "      <td>NaN</td>\n",
       "      <td>NaN</td>\n",
       "      <td>resistance</td>\n",
       "      <td>1.0</td>\n",
       "      <td>1.0</td>\n",
       "      <td>-9118.015350</td>\n",
       "      <td>-1013.887198</td>\n",
       "      <td>2591.716633</td>\n",
       "      <td>1.663116e+03</td>\n",
       "      <td>-5.667386e+05</td>\n",
       "      <td>9.982278e+04</td>\n",
       "      <td>0.017912</td>\n",
       "      <td>NaN</td>\n",
       "      <td>NaN</td>\n",
       "      <td>NaN</td>\n",
       "      <td>NaN</td>\n",
       "      <td>NaN</td>\n",
       "      <td>NaN</td>\n",
       "      <td>NaN</td>\n",
       "      <td>NaN</td>\n",
       "      <td>NaN</td>\n",
       "      <td>NaN</td>\n",
       "      <td>NaN</td>\n",
       "      <td>NaN</td>\n",
       "      <td>NaN</td>\n",
       "      <td>NaN</td>\n",
       "      <td>NaN</td>\n",
       "      <td>-6853.678518</td>\n",
       "      <td>-34.347260</td>\n",
       "      <td>3.245443e+03</td>\n",
       "    </tr>\n",
       "    <tr>\n",
       "      <th>1</th>\n",
       "      <td>166</td>\n",
       "      <td>7.3</td>\n",
       "      <td>7375.872</td>\n",
       "      <td>7277.256591</td>\n",
       "      <td>NaN</td>\n",
       "      <td>NaN</td>\n",
       "      <td>NaN</td>\n",
       "      <td>NaN</td>\n",
       "      <td>NaN</td>\n",
       "      <td>NaN</td>\n",
       "      <td>NaN</td>\n",
       "      <td>NaN</td>\n",
       "      <td>NaN</td>\n",
       "      <td>NaN</td>\n",
       "      <td>NaN</td>\n",
       "      <td>NaN</td>\n",
       "      <td>7.202222</td>\n",
       "      <td>0.0</td>\n",
       "      <td>-0.000000</td>\n",
       "      <td>-349928.617379</td>\n",
       "      <td>-337384.590007</td>\n",
       "      <td>NaN</td>\n",
       "      <td>NaN</td>\n",
       "      <td>NaN</td>\n",
       "      <td>NaN</td>\n",
       "      <td>NaN</td>\n",
       "      <td>NaN</td>\n",
       "      <td>NaN</td>\n",
       "      <td>NaN</td>\n",
       "      <td>NaN</td>\n",
       "      <td>NaN</td>\n",
       "      <td>NaN</td>\n",
       "      <td>NaN</td>\n",
       "      <td>1675.936588</td>\n",
       "      <td>-308.032439</td>\n",
       "      <td>NaN</td>\n",
       "      <td>NaN</td>\n",
       "      <td>NaN</td>\n",
       "      <td>NaN</td>\n",
       "      <td>NaN</td>\n",
       "      <td>NaN</td>\n",
       "      <td>NaN</td>\n",
       "      <td>NaN</td>\n",
       "      <td>NaN</td>\n",
       "      <td>NaN</td>\n",
       "      <td>NaN</td>\n",
       "      <td>NaN</td>\n",
       "      <td>-8.003832e+06</td>\n",
       "      <td>-8.007232e+06</td>\n",
       "      <td>NaN</td>\n",
       "      <td>NaN</td>\n",
       "      <td>NaN</td>\n",
       "      <td>NaN</td>\n",
       "      <td>NaN</td>\n",
       "      <td>NaN</td>\n",
       "      <td>NaN</td>\n",
       "      <td>NaN</td>\n",
       "      <td>NaN</td>\n",
       "      <td>NaN</td>\n",
       "      <td>NaN</td>\n",
       "      <td>NaN</td>\n",
       "      <td>9.80665</td>\n",
       "      <td>196.0</td>\n",
       "      <td>-2.468286e+03</td>\n",
       "      <td>919.616522</td>\n",
       "      <td>NaN</td>\n",
       "      <td>NaN</td>\n",
       "      <td>NaN</td>\n",
       "      <td>NaN</td>\n",
       "      <td>NaN</td>\n",
       "      <td>NaN</td>\n",
       "      <td>NaN</td>\n",
       "      <td>NaN</td>\n",
       "      <td>NaN</td>\n",
       "      <td>NaN</td>\n",
       "      <td>NaN</td>\n",
       "      <td>NaN</td>\n",
       "      <td>8.403946e+08</td>\n",
       "      <td>8.411460e+08</td>\n",
       "      <td>NaN</td>\n",
       "      <td>NaN</td>\n",
       "      <td>NaN</td>\n",
       "      <td>NaN</td>\n",
       "      <td>NaN</td>\n",
       "      <td>NaN</td>\n",
       "      <td>NaN</td>\n",
       "      <td>NaN</td>\n",
       "      <td>NaN</td>\n",
       "      <td>NaN</td>\n",
       "      <td>NaN</td>\n",
       "      <td>NaN</td>\n",
       "      <td>-1.667590e+05</td>\n",
       "      <td>2.743992e+04</td>\n",
       "      <td>NaN</td>\n",
       "      <td>NaN</td>\n",
       "      <td>NaN</td>\n",
       "      <td>NaN</td>\n",
       "      <td>NaN</td>\n",
       "      <td>NaN</td>\n",
       "      <td>NaN</td>\n",
       "      <td>NaN</td>\n",
       "      <td>NaN</td>\n",
       "      <td>NaN</td>\n",
       "      <td>NaN</td>\n",
       "      <td>NaN</td>\n",
       "      <td>0.0</td>\n",
       "      <td>L:\\proj2019\\40199079-Segelfartyg-Wallenius\\VCT...</td>\n",
       "      <td>1025.0</td>\n",
       "      <td>7.202222</td>\n",
       "      <td>-0.0</td>\n",
       "      <td>14knotsResistance</td>\n",
       "      <td>L:\\proj2019\\40199079-Segelfartyg-Wallenius\\VCT...</td>\n",
       "      <td>0.0</td>\n",
       "      <td>0.0</td>\n",
       "      <td>0</td>\n",
       "      <td>0</td>\n",
       "      <td>HERO</td>\n",
       "      <td>NaN</td>\n",
       "      <td>NaN</td>\n",
       "      <td>NaN</td>\n",
       "      <td>NaN</td>\n",
       "      <td>NaN</td>\n",
       "      <td>NaN</td>\n",
       "      <td>NaN</td>\n",
       "      <td>NaN</td>\n",
       "      <td>NaN</td>\n",
       "      <td>NaN</td>\n",
       "      <td>NaN</td>\n",
       "      <td>NaN</td>\n",
       "      <td>NaN</td>\n",
       "      <td>NaN</td>\n",
       "      <td>NaN</td>\n",
       "      <td>NaN</td>\n",
       "      <td>NaN</td>\n",
       "      <td>NaN</td>\n",
       "      <td>NaN</td>\n",
       "      <td>NaN</td>\n",
       "      <td>NaN</td>\n",
       "      <td>98.614671</td>\n",
       "      <td>-12543.752855</td>\n",
       "      <td>1983.972942</td>\n",
       "      <td>3413.186063</td>\n",
       "      <td>-3.387899e+03</td>\n",
       "      <td>-7.496762e+05</td>\n",
       "      <td>-1.942004e+05</td>\n",
       "      <td>NaN</td>\n",
       "      <td>NaN</td>\n",
       "      <td>NaN</td>\n",
       "      <td>NaN</td>\n",
       "      <td>NaN</td>\n",
       "      <td>NaN</td>\n",
       "      <td>NaN</td>\n",
       "      <td>NaN</td>\n",
       "      <td>NaN</td>\n",
       "      <td>NaN</td>\n",
       "      <td>NaN</td>\n",
       "      <td>NaN</td>\n",
       "      <td>NaN</td>\n",
       "      <td>NaN</td>\n",
       "      <td>NaN</td>\n",
       "      <td>NaN</td>\n",
       "      <td>NaN</td>\n",
       "      <td>NaN</td>\n",
       "      <td>NaN</td>\n",
       "      <td>NaN</td>\n",
       "      <td>NaN</td>\n",
       "      <td>NaN</td>\n",
       "      <td>NaN</td>\n",
       "      <td>NaN</td>\n",
       "      <td>NaN</td>\n",
       "      <td>NaN</td>\n",
       "      <td>NaN</td>\n",
       "      <td>NaN</td>\n",
       "      <td>NaN</td>\n",
       "      <td>NaN</td>\n",
       "      <td>NaN</td>\n",
       "      <td>NaN</td>\n",
       "      <td>NaN</td>\n",
       "      <td>NaN</td>\n",
       "      <td>NaN</td>\n",
       "      <td>NaN</td>\n",
       "      <td>resistance</td>\n",
       "      <td>1.0</td>\n",
       "      <td>1.0</td>\n",
       "      <td>-12543.752855</td>\n",
       "      <td>1983.972942</td>\n",
       "      <td>3413.186063</td>\n",
       "      <td>-3.387899e+03</td>\n",
       "      <td>-7.496762e+05</td>\n",
       "      <td>-1.942004e+05</td>\n",
       "      <td>-0.007663</td>\n",
       "      <td>NaN</td>\n",
       "      <td>NaN</td>\n",
       "      <td>NaN</td>\n",
       "      <td>NaN</td>\n",
       "      <td>NaN</td>\n",
       "      <td>NaN</td>\n",
       "      <td>NaN</td>\n",
       "      <td>NaN</td>\n",
       "      <td>NaN</td>\n",
       "      <td>NaN</td>\n",
       "      <td>NaN</td>\n",
       "      <td>NaN</td>\n",
       "      <td>NaN</td>\n",
       "      <td>NaN</td>\n",
       "      <td>NaN</td>\n",
       "      <td>-6746.001389</td>\n",
       "      <td>32.309077</td>\n",
       "      <td>-3.214816e+03</td>\n",
       "    </tr>\n",
       "    <tr>\n",
       "      <th>2</th>\n",
       "      <td>167</td>\n",
       "      <td>7.3</td>\n",
       "      <td>7375.872</td>\n",
       "      <td>7277.256591</td>\n",
       "      <td>NaN</td>\n",
       "      <td>NaN</td>\n",
       "      <td>NaN</td>\n",
       "      <td>NaN</td>\n",
       "      <td>NaN</td>\n",
       "      <td>NaN</td>\n",
       "      <td>NaN</td>\n",
       "      <td>NaN</td>\n",
       "      <td>NaN</td>\n",
       "      <td>NaN</td>\n",
       "      <td>NaN</td>\n",
       "      <td>NaN</td>\n",
       "      <td>2.572222</td>\n",
       "      <td>0.0</td>\n",
       "      <td>-0.000000</td>\n",
       "      <td>-50129.332651</td>\n",
       "      <td>-48553.764522</td>\n",
       "      <td>NaN</td>\n",
       "      <td>NaN</td>\n",
       "      <td>NaN</td>\n",
       "      <td>NaN</td>\n",
       "      <td>NaN</td>\n",
       "      <td>NaN</td>\n",
       "      <td>NaN</td>\n",
       "      <td>NaN</td>\n",
       "      <td>NaN</td>\n",
       "      <td>NaN</td>\n",
       "      <td>NaN</td>\n",
       "      <td>NaN</td>\n",
       "      <td>-223.774833</td>\n",
       "      <td>19.680496</td>\n",
       "      <td>NaN</td>\n",
       "      <td>NaN</td>\n",
       "      <td>NaN</td>\n",
       "      <td>NaN</td>\n",
       "      <td>NaN</td>\n",
       "      <td>NaN</td>\n",
       "      <td>NaN</td>\n",
       "      <td>NaN</td>\n",
       "      <td>NaN</td>\n",
       "      <td>NaN</td>\n",
       "      <td>NaN</td>\n",
       "      <td>NaN</td>\n",
       "      <td>-1.020599e+06</td>\n",
       "      <td>-1.021046e+06</td>\n",
       "      <td>NaN</td>\n",
       "      <td>NaN</td>\n",
       "      <td>NaN</td>\n",
       "      <td>NaN</td>\n",
       "      <td>NaN</td>\n",
       "      <td>NaN</td>\n",
       "      <td>NaN</td>\n",
       "      <td>NaN</td>\n",
       "      <td>NaN</td>\n",
       "      <td>NaN</td>\n",
       "      <td>NaN</td>\n",
       "      <td>NaN</td>\n",
       "      <td>9.80665</td>\n",
       "      <td>196.0</td>\n",
       "      <td>3.731674e+02</td>\n",
       "      <td>-227.694793</td>\n",
       "      <td>NaN</td>\n",
       "      <td>NaN</td>\n",
       "      <td>NaN</td>\n",
       "      <td>NaN</td>\n",
       "      <td>NaN</td>\n",
       "      <td>NaN</td>\n",
       "      <td>NaN</td>\n",
       "      <td>NaN</td>\n",
       "      <td>NaN</td>\n",
       "      <td>NaN</td>\n",
       "      <td>NaN</td>\n",
       "      <td>NaN</td>\n",
       "      <td>1.072725e+08</td>\n",
       "      <td>1.073708e+08</td>\n",
       "      <td>NaN</td>\n",
       "      <td>NaN</td>\n",
       "      <td>NaN</td>\n",
       "      <td>NaN</td>\n",
       "      <td>NaN</td>\n",
       "      <td>NaN</td>\n",
       "      <td>NaN</td>\n",
       "      <td>NaN</td>\n",
       "      <td>NaN</td>\n",
       "      <td>NaN</td>\n",
       "      <td>NaN</td>\n",
       "      <td>NaN</td>\n",
       "      <td>2.212888e+04</td>\n",
       "      <td>-1.740039e+03</td>\n",
       "      <td>NaN</td>\n",
       "      <td>NaN</td>\n",
       "      <td>NaN</td>\n",
       "      <td>NaN</td>\n",
       "      <td>NaN</td>\n",
       "      <td>NaN</td>\n",
       "      <td>NaN</td>\n",
       "      <td>NaN</td>\n",
       "      <td>NaN</td>\n",
       "      <td>NaN</td>\n",
       "      <td>NaN</td>\n",
       "      <td>NaN</td>\n",
       "      <td>0.0</td>\n",
       "      <td>L:\\proj2019\\40199079-Segelfartyg-Wallenius\\VCT...</td>\n",
       "      <td>1025.0</td>\n",
       "      <td>2.572222</td>\n",
       "      <td>-0.0</td>\n",
       "      <td>5knotsResistance</td>\n",
       "      <td>L:\\proj2019\\40199079-Segelfartyg-Wallenius\\VCT...</td>\n",
       "      <td>0.0</td>\n",
       "      <td>0.0</td>\n",
       "      <td>0</td>\n",
       "      <td>0</td>\n",
       "      <td>HERO</td>\n",
       "      <td>NaN</td>\n",
       "      <td>NaN</td>\n",
       "      <td>NaN</td>\n",
       "      <td>NaN</td>\n",
       "      <td>NaN</td>\n",
       "      <td>NaN</td>\n",
       "      <td>NaN</td>\n",
       "      <td>NaN</td>\n",
       "      <td>NaN</td>\n",
       "      <td>NaN</td>\n",
       "      <td>NaN</td>\n",
       "      <td>NaN</td>\n",
       "      <td>NaN</td>\n",
       "      <td>NaN</td>\n",
       "      <td>NaN</td>\n",
       "      <td>NaN</td>\n",
       "      <td>NaN</td>\n",
       "      <td>NaN</td>\n",
       "      <td>NaN</td>\n",
       "      <td>NaN</td>\n",
       "      <td>NaN</td>\n",
       "      <td>98.615777</td>\n",
       "      <td>-1575.613148</td>\n",
       "      <td>-243.455304</td>\n",
       "      <td>446.759701</td>\n",
       "      <td>6.008627e+02</td>\n",
       "      <td>-9.800054e+04</td>\n",
       "      <td>2.386892e+04</td>\n",
       "      <td>NaN</td>\n",
       "      <td>NaN</td>\n",
       "      <td>NaN</td>\n",
       "      <td>NaN</td>\n",
       "      <td>NaN</td>\n",
       "      <td>NaN</td>\n",
       "      <td>NaN</td>\n",
       "      <td>NaN</td>\n",
       "      <td>NaN</td>\n",
       "      <td>NaN</td>\n",
       "      <td>NaN</td>\n",
       "      <td>NaN</td>\n",
       "      <td>NaN</td>\n",
       "      <td>NaN</td>\n",
       "      <td>NaN</td>\n",
       "      <td>NaN</td>\n",
       "      <td>NaN</td>\n",
       "      <td>NaN</td>\n",
       "      <td>NaN</td>\n",
       "      <td>NaN</td>\n",
       "      <td>NaN</td>\n",
       "      <td>NaN</td>\n",
       "      <td>NaN</td>\n",
       "      <td>NaN</td>\n",
       "      <td>NaN</td>\n",
       "      <td>NaN</td>\n",
       "      <td>NaN</td>\n",
       "      <td>NaN</td>\n",
       "      <td>NaN</td>\n",
       "      <td>NaN</td>\n",
       "      <td>NaN</td>\n",
       "      <td>NaN</td>\n",
       "      <td>NaN</td>\n",
       "      <td>NaN</td>\n",
       "      <td>NaN</td>\n",
       "      <td>NaN</td>\n",
       "      <td>resistance</td>\n",
       "      <td>1.0</td>\n",
       "      <td>1.0</td>\n",
       "      <td>-1575.613148</td>\n",
       "      <td>-243.455304</td>\n",
       "      <td>446.759701</td>\n",
       "      <td>6.008627e+02</td>\n",
       "      <td>-9.800054e+04</td>\n",
       "      <td>2.386892e+04</td>\n",
       "      <td>-0.004536</td>\n",
       "      <td>NaN</td>\n",
       "      <td>NaN</td>\n",
       "      <td>NaN</td>\n",
       "      <td>NaN</td>\n",
       "      <td>NaN</td>\n",
       "      <td>NaN</td>\n",
       "      <td>NaN</td>\n",
       "      <td>NaN</td>\n",
       "      <td>NaN</td>\n",
       "      <td>NaN</td>\n",
       "      <td>NaN</td>\n",
       "      <td>NaN</td>\n",
       "      <td>NaN</td>\n",
       "      <td>NaN</td>\n",
       "      <td>NaN</td>\n",
       "      <td>-7576.610321</td>\n",
       "      <td>-33.821609</td>\n",
       "      <td>3.344587e+03</td>\n",
       "    </tr>\n",
       "    <tr>\n",
       "      <th>3</th>\n",
       "      <td>168</td>\n",
       "      <td>7.3</td>\n",
       "      <td>7375.872</td>\n",
       "      <td>7277.256591</td>\n",
       "      <td>NaN</td>\n",
       "      <td>NaN</td>\n",
       "      <td>NaN</td>\n",
       "      <td>NaN</td>\n",
       "      <td>NaN</td>\n",
       "      <td>NaN</td>\n",
       "      <td>NaN</td>\n",
       "      <td>NaN</td>\n",
       "      <td>NaN</td>\n",
       "      <td>NaN</td>\n",
       "      <td>NaN</td>\n",
       "      <td>NaN</td>\n",
       "      <td>6.173333</td>\n",
       "      <td>0.0</td>\n",
       "      <td>-0.174533</td>\n",
       "      <td>-282698.568064</td>\n",
       "      <td>-248988.273006</td>\n",
       "      <td>NaN</td>\n",
       "      <td>NaN</td>\n",
       "      <td>NaN</td>\n",
       "      <td>NaN</td>\n",
       "      <td>NaN</td>\n",
       "      <td>NaN</td>\n",
       "      <td>NaN</td>\n",
       "      <td>NaN</td>\n",
       "      <td>NaN</td>\n",
       "      <td>NaN</td>\n",
       "      <td>NaN</td>\n",
       "      <td>NaN</td>\n",
       "      <td>-335412.392821</td>\n",
       "      <td>-35760.650860</td>\n",
       "      <td>NaN</td>\n",
       "      <td>NaN</td>\n",
       "      <td>NaN</td>\n",
       "      <td>NaN</td>\n",
       "      <td>NaN</td>\n",
       "      <td>NaN</td>\n",
       "      <td>NaN</td>\n",
       "      <td>NaN</td>\n",
       "      <td>NaN</td>\n",
       "      <td>NaN</td>\n",
       "      <td>NaN</td>\n",
       "      <td>NaN</td>\n",
       "      <td>-5.873117e+06</td>\n",
       "      <td>-5.866908e+06</td>\n",
       "      <td>NaN</td>\n",
       "      <td>NaN</td>\n",
       "      <td>NaN</td>\n",
       "      <td>NaN</td>\n",
       "      <td>NaN</td>\n",
       "      <td>NaN</td>\n",
       "      <td>NaN</td>\n",
       "      <td>NaN</td>\n",
       "      <td>NaN</td>\n",
       "      <td>NaN</td>\n",
       "      <td>NaN</td>\n",
       "      <td>NaN</td>\n",
       "      <td>9.80665</td>\n",
       "      <td>196.0</td>\n",
       "      <td>1.020810e+06</td>\n",
       "      <td>-334811.547379</td>\n",
       "      <td>NaN</td>\n",
       "      <td>NaN</td>\n",
       "      <td>NaN</td>\n",
       "      <td>NaN</td>\n",
       "      <td>NaN</td>\n",
       "      <td>NaN</td>\n",
       "      <td>NaN</td>\n",
       "      <td>NaN</td>\n",
       "      <td>NaN</td>\n",
       "      <td>NaN</td>\n",
       "      <td>NaN</td>\n",
       "      <td>NaN</td>\n",
       "      <td>6.164703e+08</td>\n",
       "      <td>6.154129e+08</td>\n",
       "      <td>NaN</td>\n",
       "      <td>NaN</td>\n",
       "      <td>NaN</td>\n",
       "      <td>NaN</td>\n",
       "      <td>NaN</td>\n",
       "      <td>NaN</td>\n",
       "      <td>NaN</td>\n",
       "      <td>NaN</td>\n",
       "      <td>NaN</td>\n",
       "      <td>NaN</td>\n",
       "      <td>NaN</td>\n",
       "      <td>NaN</td>\n",
       "      <td>3.190560e+07</td>\n",
       "      <td>2.449190e+06</td>\n",
       "      <td>NaN</td>\n",
       "      <td>NaN</td>\n",
       "      <td>NaN</td>\n",
       "      <td>NaN</td>\n",
       "      <td>NaN</td>\n",
       "      <td>NaN</td>\n",
       "      <td>NaN</td>\n",
       "      <td>NaN</td>\n",
       "      <td>NaN</td>\n",
       "      <td>NaN</td>\n",
       "      <td>NaN</td>\n",
       "      <td>NaN</td>\n",
       "      <td>0.0</td>\n",
       "      <td>L:\\proj2019\\40199079-Segelfartyg-Wallenius\\VCT...</td>\n",
       "      <td>1025.0</td>\n",
       "      <td>6.173333</td>\n",
       "      <td>-0.0</td>\n",
       "      <td>12knots-10degRudd</td>\n",
       "      <td>L:\\proj2019\\40199079-Segelfartyg-Wallenius\\VCT...</td>\n",
       "      <td>0.0</td>\n",
       "      <td>0.0</td>\n",
       "      <td>0</td>\n",
       "      <td>0</td>\n",
       "      <td>HERO</td>\n",
       "      <td>NaN</td>\n",
       "      <td>NaN</td>\n",
       "      <td>NaN</td>\n",
       "      <td>NaN</td>\n",
       "      <td>NaN</td>\n",
       "      <td>NaN</td>\n",
       "      <td>NaN</td>\n",
       "      <td>NaN</td>\n",
       "      <td>NaN</td>\n",
       "      <td>NaN</td>\n",
       "      <td>NaN</td>\n",
       "      <td>NaN</td>\n",
       "      <td>NaN</td>\n",
       "      <td>NaN</td>\n",
       "      <td>NaN</td>\n",
       "      <td>NaN</td>\n",
       "      <td>NaN</td>\n",
       "      <td>NaN</td>\n",
       "      <td>NaN</td>\n",
       "      <td>NaN</td>\n",
       "      <td>NaN</td>\n",
       "      <td>98.626472</td>\n",
       "      <td>-33710.568774</td>\n",
       "      <td>-299652.606328</td>\n",
       "      <td>-6208.145562</td>\n",
       "      <td>1.355621e+06</td>\n",
       "      <td>1.057582e+06</td>\n",
       "      <td>2.945632e+07</td>\n",
       "      <td>NaN</td>\n",
       "      <td>NaN</td>\n",
       "      <td>NaN</td>\n",
       "      <td>NaN</td>\n",
       "      <td>NaN</td>\n",
       "      <td>NaN</td>\n",
       "      <td>NaN</td>\n",
       "      <td>NaN</td>\n",
       "      <td>NaN</td>\n",
       "      <td>NaN</td>\n",
       "      <td>NaN</td>\n",
       "      <td>NaN</td>\n",
       "      <td>NaN</td>\n",
       "      <td>NaN</td>\n",
       "      <td>NaN</td>\n",
       "      <td>NaN</td>\n",
       "      <td>NaN</td>\n",
       "      <td>NaN</td>\n",
       "      <td>NaN</td>\n",
       "      <td>NaN</td>\n",
       "      <td>NaN</td>\n",
       "      <td>NaN</td>\n",
       "      <td>NaN</td>\n",
       "      <td>NaN</td>\n",
       "      <td>NaN</td>\n",
       "      <td>NaN</td>\n",
       "      <td>NaN</td>\n",
       "      <td>NaN</td>\n",
       "      <td>NaN</td>\n",
       "      <td>NaN</td>\n",
       "      <td>NaN</td>\n",
       "      <td>NaN</td>\n",
       "      <td>NaN</td>\n",
       "      <td>NaN</td>\n",
       "      <td>NaN</td>\n",
       "      <td>NaN</td>\n",
       "      <td>Rudder angle</td>\n",
       "      <td>1.0</td>\n",
       "      <td>1.0</td>\n",
       "      <td>-33710.568774</td>\n",
       "      <td>-299652.606328</td>\n",
       "      <td>-6208.145562</td>\n",
       "      <td>1.355621e+06</td>\n",
       "      <td>1.057582e+06</td>\n",
       "      <td>2.945632e+07</td>\n",
       "      <td>0.014676</td>\n",
       "      <td>NaN</td>\n",
       "      <td>NaN</td>\n",
       "      <td>NaN</td>\n",
       "      <td>NaN</td>\n",
       "      <td>NaN</td>\n",
       "      <td>NaN</td>\n",
       "      <td>NaN</td>\n",
       "      <td>NaN</td>\n",
       "      <td>NaN</td>\n",
       "      <td>NaN</td>\n",
       "      <td>NaN</td>\n",
       "      <td>NaN</td>\n",
       "      <td>NaN</td>\n",
       "      <td>NaN</td>\n",
       "      <td>NaN</td>\n",
       "      <td>-7417.954300</td>\n",
       "      <td>-8801.154596</td>\n",
       "      <td>8.371965e+05</td>\n",
       "    </tr>\n",
       "    <tr>\n",
       "      <th>4</th>\n",
       "      <td>169</td>\n",
       "      <td>7.3</td>\n",
       "      <td>7375.872</td>\n",
       "      <td>7277.182833</td>\n",
       "      <td>NaN</td>\n",
       "      <td>NaN</td>\n",
       "      <td>NaN</td>\n",
       "      <td>NaN</td>\n",
       "      <td>NaN</td>\n",
       "      <td>NaN</td>\n",
       "      <td>NaN</td>\n",
       "      <td>NaN</td>\n",
       "      <td>NaN</td>\n",
       "      <td>NaN</td>\n",
       "      <td>NaN</td>\n",
       "      <td>NaN</td>\n",
       "      <td>6.173333</td>\n",
       "      <td>0.0</td>\n",
       "      <td>-0.261799</td>\n",
       "      <td>-358346.198906</td>\n",
       "      <td>-295295.846017</td>\n",
       "      <td>NaN</td>\n",
       "      <td>NaN</td>\n",
       "      <td>NaN</td>\n",
       "      <td>NaN</td>\n",
       "      <td>NaN</td>\n",
       "      <td>NaN</td>\n",
       "      <td>NaN</td>\n",
       "      <td>NaN</td>\n",
       "      <td>NaN</td>\n",
       "      <td>NaN</td>\n",
       "      <td>NaN</td>\n",
       "      <td>NaN</td>\n",
       "      <td>-403579.303802</td>\n",
       "      <td>149850.836047</td>\n",
       "      <td>NaN</td>\n",
       "      <td>NaN</td>\n",
       "      <td>NaN</td>\n",
       "      <td>NaN</td>\n",
       "      <td>NaN</td>\n",
       "      <td>NaN</td>\n",
       "      <td>NaN</td>\n",
       "      <td>NaN</td>\n",
       "      <td>NaN</td>\n",
       "      <td>NaN</td>\n",
       "      <td>NaN</td>\n",
       "      <td>NaN</td>\n",
       "      <td>-5.898284e+06</td>\n",
       "      <td>-5.884006e+06</td>\n",
       "      <td>NaN</td>\n",
       "      <td>NaN</td>\n",
       "      <td>NaN</td>\n",
       "      <td>NaN</td>\n",
       "      <td>NaN</td>\n",
       "      <td>NaN</td>\n",
       "      <td>NaN</td>\n",
       "      <td>NaN</td>\n",
       "      <td>NaN</td>\n",
       "      <td>NaN</td>\n",
       "      <td>NaN</td>\n",
       "      <td>NaN</td>\n",
       "      <td>9.80665</td>\n",
       "      <td>196.0</td>\n",
       "      <td>3.012194e+06</td>\n",
       "      <td>629630.720547</td>\n",
       "      <td>NaN</td>\n",
       "      <td>NaN</td>\n",
       "      <td>NaN</td>\n",
       "      <td>NaN</td>\n",
       "      <td>NaN</td>\n",
       "      <td>NaN</td>\n",
       "      <td>NaN</td>\n",
       "      <td>NaN</td>\n",
       "      <td>NaN</td>\n",
       "      <td>NaN</td>\n",
       "      <td>NaN</td>\n",
       "      <td>NaN</td>\n",
       "      <td>6.277759e+08</td>\n",
       "      <td>6.252911e+08</td>\n",
       "      <td>NaN</td>\n",
       "      <td>NaN</td>\n",
       "      <td>NaN</td>\n",
       "      <td>NaN</td>\n",
       "      <td>NaN</td>\n",
       "      <td>NaN</td>\n",
       "      <td>NaN</td>\n",
       "      <td>NaN</td>\n",
       "      <td>NaN</td>\n",
       "      <td>NaN</td>\n",
       "      <td>NaN</td>\n",
       "      <td>NaN</td>\n",
       "      <td>4.379956e+07</td>\n",
       "      <td>-1.067665e+07</td>\n",
       "      <td>NaN</td>\n",
       "      <td>NaN</td>\n",
       "      <td>NaN</td>\n",
       "      <td>NaN</td>\n",
       "      <td>NaN</td>\n",
       "      <td>NaN</td>\n",
       "      <td>NaN</td>\n",
       "      <td>NaN</td>\n",
       "      <td>NaN</td>\n",
       "      <td>NaN</td>\n",
       "      <td>NaN</td>\n",
       "      <td>NaN</td>\n",
       "      <td>0.0</td>\n",
       "      <td>L:\\proj2019\\40199079-Segelfartyg-Wallenius\\VCT...</td>\n",
       "      <td>1025.0</td>\n",
       "      <td>6.173333</td>\n",
       "      <td>-0.0</td>\n",
       "      <td>12knots-15degRudd</td>\n",
       "      <td>L:\\proj2019\\40199079-Segelfartyg-Wallenius\\VCT...</td>\n",
       "      <td>0.0</td>\n",
       "      <td>0.0</td>\n",
       "      <td>0</td>\n",
       "      <td>0</td>\n",
       "      <td>HERO</td>\n",
       "      <td>NaN</td>\n",
       "      <td>NaN</td>\n",
       "      <td>NaN</td>\n",
       "      <td>NaN</td>\n",
       "      <td>NaN</td>\n",
       "      <td>NaN</td>\n",
       "      <td>NaN</td>\n",
       "      <td>NaN</td>\n",
       "      <td>NaN</td>\n",
       "      <td>NaN</td>\n",
       "      <td>NaN</td>\n",
       "      <td>NaN</td>\n",
       "      <td>NaN</td>\n",
       "      <td>NaN</td>\n",
       "      <td>NaN</td>\n",
       "      <td>NaN</td>\n",
       "      <td>NaN</td>\n",
       "      <td>NaN</td>\n",
       "      <td>NaN</td>\n",
       "      <td>NaN</td>\n",
       "      <td>NaN</td>\n",
       "      <td>98.672940</td>\n",
       "      <td>-63050.424920</td>\n",
       "      <td>-553430.138409</td>\n",
       "      <td>-14287.556806</td>\n",
       "      <td>2.382566e+06</td>\n",
       "      <td>2.485330e+06</td>\n",
       "      <td>5.447621e+07</td>\n",
       "      <td>NaN</td>\n",
       "      <td>NaN</td>\n",
       "      <td>NaN</td>\n",
       "      <td>NaN</td>\n",
       "      <td>NaN</td>\n",
       "      <td>NaN</td>\n",
       "      <td>NaN</td>\n",
       "      <td>NaN</td>\n",
       "      <td>NaN</td>\n",
       "      <td>NaN</td>\n",
       "      <td>NaN</td>\n",
       "      <td>NaN</td>\n",
       "      <td>NaN</td>\n",
       "      <td>NaN</td>\n",
       "      <td>NaN</td>\n",
       "      <td>NaN</td>\n",
       "      <td>NaN</td>\n",
       "      <td>NaN</td>\n",
       "      <td>NaN</td>\n",
       "      <td>NaN</td>\n",
       "      <td>NaN</td>\n",
       "      <td>NaN</td>\n",
       "      <td>NaN</td>\n",
       "      <td>NaN</td>\n",
       "      <td>NaN</td>\n",
       "      <td>NaN</td>\n",
       "      <td>NaN</td>\n",
       "      <td>NaN</td>\n",
       "      <td>NaN</td>\n",
       "      <td>NaN</td>\n",
       "      <td>NaN</td>\n",
       "      <td>NaN</td>\n",
       "      <td>NaN</td>\n",
       "      <td>NaN</td>\n",
       "      <td>NaN</td>\n",
       "      <td>NaN</td>\n",
       "      <td>Rudder angle</td>\n",
       "      <td>1.0</td>\n",
       "      <td>1.0</td>\n",
       "      <td>-63050.424920</td>\n",
       "      <td>-553430.138409</td>\n",
       "      <td>-14287.556806</td>\n",
       "      <td>2.382566e+06</td>\n",
       "      <td>2.485330e+06</td>\n",
       "      <td>5.447621e+07</td>\n",
       "      <td>-0.053713</td>\n",
       "      <td>NaN</td>\n",
       "      <td>NaN</td>\n",
       "      <td>NaN</td>\n",
       "      <td>NaN</td>\n",
       "      <td>NaN</td>\n",
       "      <td>NaN</td>\n",
       "      <td>NaN</td>\n",
       "      <td>NaN</td>\n",
       "      <td>NaN</td>\n",
       "      <td>NaN</td>\n",
       "      <td>NaN</td>\n",
       "      <td>NaN</td>\n",
       "      <td>NaN</td>\n",
       "      <td>NaN</td>\n",
       "      <td>NaN</td>\n",
       "      <td>-9402.933115</td>\n",
       "      <td>-10589.840807</td>\n",
       "      <td>1.149292e+06</td>\n",
       "    </tr>\n",
       "  </tbody>\n",
       "</table>\n",
       "</div>"
      ],
      "text/plain": [
       "   level_0   Dp         S      S_Xgrid  S_inner_bracket_port  \\\n",
       "0      165  7.3  7375.872  7277.256591                   NaN   \n",
       "1      166  7.3  7375.872  7277.256591                   NaN   \n",
       "2      167  7.3  7375.872  7277.256591                   NaN   \n",
       "3      168  7.3  7375.872  7277.256591                   NaN   \n",
       "4      169  7.3  7375.872  7277.182833                   NaN   \n",
       "\n",
       "   S_inner_bracket_stb  S_outer_bracket_port  S_outer_bracket_stb  \\\n",
       "0                  NaN                   NaN                  NaN   \n",
       "1                  NaN                   NaN                  NaN   \n",
       "2                  NaN                   NaN                  NaN   \n",
       "3                  NaN                   NaN                  NaN   \n",
       "4                  NaN                   NaN                  NaN   \n",
       "\n",
       "   S_rudder_port  S_rudder_stb  S_shaft_port_assembly  S_shaft_port_shaft1  \\\n",
       "0            NaN           NaN                    NaN                  NaN   \n",
       "1            NaN           NaN                    NaN                  NaN   \n",
       "2            NaN           NaN                    NaN                  NaN   \n",
       "3            NaN           NaN                    NaN                  NaN   \n",
       "4            NaN           NaN                    NaN                  NaN   \n",
       "\n",
       "   S_shaft_port_shaft2  S_shaft_stb_assembly  S_shaft_stb_shaft1  \\\n",
       "0                  NaN                   NaN                 NaN   \n",
       "1                  NaN                   NaN                 NaN   \n",
       "2                  NaN                   NaN                 NaN   \n",
       "3                  NaN                   NaN                 NaN   \n",
       "4                  NaN                   NaN                 NaN   \n",
       "\n",
       "   S_shaft_stb_shaft2         V  beta     delta             fx       fx_Xgrid  \\\n",
       "0                 NaN  6.173333   0.0 -0.000000 -261193.992917 -252076.078409   \n",
       "1                 NaN  7.202222   0.0 -0.000000 -349928.617379 -337384.590007   \n",
       "2                 NaN  2.572222   0.0 -0.000000  -50129.332651  -48553.764522   \n",
       "3                 NaN  6.173333   0.0 -0.174533 -282698.568064 -248988.273006   \n",
       "4                 NaN  6.173333   0.0 -0.261799 -358346.198906 -295295.846017   \n",
       "\n",
       "   fx_inner_bracket_port  fx_inner_bracket_stb  fx_outer_bracket_port  \\\n",
       "0                    NaN                   NaN                    NaN   \n",
       "1                    NaN                   NaN                    NaN   \n",
       "2                    NaN                   NaN                    NaN   \n",
       "3                    NaN                   NaN                    NaN   \n",
       "4                    NaN                   NaN                    NaN   \n",
       "\n",
       "   fx_outer_bracket_stb  fx_rudder_port  fx_rudder_stb  \\\n",
       "0                   NaN             NaN            NaN   \n",
       "1                   NaN             NaN            NaN   \n",
       "2                   NaN             NaN            NaN   \n",
       "3                   NaN             NaN            NaN   \n",
       "4                   NaN             NaN            NaN   \n",
       "\n",
       "   fx_shaft_port_assembly  fx_shaft_port_shaft1  fx_shaft_port_shaft2  \\\n",
       "0                     NaN                   NaN                   NaN   \n",
       "1                     NaN                   NaN                   NaN   \n",
       "2                     NaN                   NaN                   NaN   \n",
       "3                     NaN                   NaN                   NaN   \n",
       "4                     NaN                   NaN                   NaN   \n",
       "\n",
       "   fx_shaft_stb_assembly  fx_shaft_stb_shaft1  fx_shaft_stb_shaft2  \\\n",
       "0                    NaN                  NaN                  NaN   \n",
       "1                    NaN                  NaN                  NaN   \n",
       "2                    NaN                  NaN                  NaN   \n",
       "3                    NaN                  NaN                  NaN   \n",
       "4                    NaN                  NaN                  NaN   \n",
       "\n",
       "              fy       fy_Xgrid  fy_inner_bracket_port  fy_inner_bracket_stb  \\\n",
       "0   -1308.975604    -295.088406                    NaN                   NaN   \n",
       "1    1675.936588    -308.032439                    NaN                   NaN   \n",
       "2    -223.774833      19.680496                    NaN                   NaN   \n",
       "3 -335412.392821  -35760.650860                    NaN                   NaN   \n",
       "4 -403579.303802  149850.836047                    NaN                   NaN   \n",
       "\n",
       "   fy_outer_bracket_port  fy_outer_bracket_stb  fy_rudder_port  fy_rudder_stb  \\\n",
       "0                    NaN                   NaN             NaN            NaN   \n",
       "1                    NaN                   NaN             NaN            NaN   \n",
       "2                    NaN                   NaN             NaN            NaN   \n",
       "3                    NaN                   NaN             NaN            NaN   \n",
       "4                    NaN                   NaN             NaN            NaN   \n",
       "\n",
       "   fy_shaft_port_assembly  fy_shaft_port_shaft1  fy_shaft_port_shaft2  \\\n",
       "0                     NaN                   NaN                   NaN   \n",
       "1                     NaN                   NaN                   NaN   \n",
       "2                     NaN                   NaN                   NaN   \n",
       "3                     NaN                   NaN                   NaN   \n",
       "4                     NaN                   NaN                   NaN   \n",
       "\n",
       "   fy_shaft_stb_assembly  fy_shaft_stb_shaft1  fy_shaft_stb_shaft2  \\\n",
       "0                    NaN                  NaN                  NaN   \n",
       "1                    NaN                  NaN                  NaN   \n",
       "2                    NaN                  NaN                  NaN   \n",
       "3                    NaN                  NaN                  NaN   \n",
       "4                    NaN                  NaN                  NaN   \n",
       "\n",
       "             fz      fz_Xgrid  fz_inner_bracket_port  fz_inner_bracket_stb  \\\n",
       "0 -5.879028e+06 -5.881622e+06                    NaN                   NaN   \n",
       "1 -8.003832e+06 -8.007232e+06                    NaN                   NaN   \n",
       "2 -1.020599e+06 -1.021046e+06                    NaN                   NaN   \n",
       "3 -5.873117e+06 -5.866908e+06                    NaN                   NaN   \n",
       "4 -5.898284e+06 -5.884006e+06                    NaN                   NaN   \n",
       "\n",
       "   fz_outer_bracket_port  fz_outer_bracket_stb  fz_rudder_port  fz_rudder_stb  \\\n",
       "0                    NaN                   NaN             NaN            NaN   \n",
       "1                    NaN                   NaN             NaN            NaN   \n",
       "2                    NaN                   NaN             NaN            NaN   \n",
       "3                    NaN                   NaN             NaN            NaN   \n",
       "4                    NaN                   NaN             NaN            NaN   \n",
       "\n",
       "   fz_shaft_port_assembly  fz_shaft_port_shaft1  fz_shaft_port_shaft2  \\\n",
       "0                     NaN                   NaN                   NaN   \n",
       "1                     NaN                   NaN                   NaN   \n",
       "2                     NaN                   NaN                   NaN   \n",
       "3                     NaN                   NaN                   NaN   \n",
       "4                     NaN                   NaN                   NaN   \n",
       "\n",
       "   fz_shaft_stb_assembly  fz_shaft_stb_shaft1  fz_shaft_stb_shaft2        g  \\\n",
       "0                    NaN                  NaN                  NaN  9.80665   \n",
       "1                    NaN                  NaN                  NaN  9.80665   \n",
       "2                    NaN                  NaN                  NaN  9.80665   \n",
       "3                    NaN                  NaN                  NaN  9.80665   \n",
       "4                    NaN                  NaN                  NaN  9.80665   \n",
       "\n",
       "     lpp            mx       mx_Xgrid  mx_inner_bracket_port  \\\n",
       "0  196.0  5.778834e+02   -1085.233044                    NaN   \n",
       "1  196.0 -2.468286e+03     919.616522                    NaN   \n",
       "2  196.0  3.731674e+02    -227.694793                    NaN   \n",
       "3  196.0  1.020810e+06 -334811.547379                    NaN   \n",
       "4  196.0  3.012194e+06  629630.720547                    NaN   \n",
       "\n",
       "   mx_inner_bracket_stb  mx_outer_bracket_port  mx_outer_bracket_stb  \\\n",
       "0                   NaN                    NaN                   NaN   \n",
       "1                   NaN                    NaN                   NaN   \n",
       "2                   NaN                    NaN                   NaN   \n",
       "3                   NaN                    NaN                   NaN   \n",
       "4                   NaN                    NaN                   NaN   \n",
       "\n",
       "   mx_rudder_port  mx_rudder_stb  mx_shaft_port_assembly  \\\n",
       "0             NaN            NaN                     NaN   \n",
       "1             NaN            NaN                     NaN   \n",
       "2             NaN            NaN                     NaN   \n",
       "3             NaN            NaN                     NaN   \n",
       "4             NaN            NaN                     NaN   \n",
       "\n",
       "   mx_shaft_port_shaft1  mx_shaft_port_shaft2  mx_shaft_stb_assembly  \\\n",
       "0                   NaN                   NaN                    NaN   \n",
       "1                   NaN                   NaN                    NaN   \n",
       "2                   NaN                   NaN                    NaN   \n",
       "3                   NaN                   NaN                    NaN   \n",
       "4                   NaN                   NaN                    NaN   \n",
       "\n",
       "   mx_shaft_stb_shaft1  mx_shaft_stb_shaft2            my      my_Xgrid  \\\n",
       "0                  NaN                  NaN  6.173220e+08  6.178902e+08   \n",
       "1                  NaN                  NaN  8.403946e+08  8.411460e+08   \n",
       "2                  NaN                  NaN  1.072725e+08  1.073708e+08   \n",
       "3                  NaN                  NaN  6.164703e+08  6.154129e+08   \n",
       "4                  NaN                  NaN  6.277759e+08  6.252911e+08   \n",
       "\n",
       "   my_inner_bracket_port  my_inner_bracket_stb  my_outer_bracket_port  \\\n",
       "0                    NaN                   NaN                    NaN   \n",
       "1                    NaN                   NaN                    NaN   \n",
       "2                    NaN                   NaN                    NaN   \n",
       "3                    NaN                   NaN                    NaN   \n",
       "4                    NaN                   NaN                    NaN   \n",
       "\n",
       "   my_outer_bracket_stb  my_rudder_port  my_rudder_stb  \\\n",
       "0                   NaN             NaN            NaN   \n",
       "1                   NaN             NaN            NaN   \n",
       "2                   NaN             NaN            NaN   \n",
       "3                   NaN             NaN            NaN   \n",
       "4                   NaN             NaN            NaN   \n",
       "\n",
       "   my_shaft_port_assembly  my_shaft_port_shaft1  my_shaft_port_shaft2  \\\n",
       "0                     NaN                   NaN                   NaN   \n",
       "1                     NaN                   NaN                   NaN   \n",
       "2                     NaN                   NaN                   NaN   \n",
       "3                     NaN                   NaN                   NaN   \n",
       "4                     NaN                   NaN                   NaN   \n",
       "\n",
       "   my_shaft_stb_assembly  my_shaft_stb_shaft1  my_shaft_stb_shaft2  \\\n",
       "0                    NaN                  NaN                  NaN   \n",
       "1                    NaN                  NaN                  NaN   \n",
       "2                    NaN                  NaN                  NaN   \n",
       "3                    NaN                  NaN                  NaN   \n",
       "4                    NaN                  NaN                  NaN   \n",
       "\n",
       "             mz      mz_Xgrid  mz_inner_bracket_port  mz_inner_bracket_stb  \\\n",
       "0  1.236840e+05  2.386122e+04                    NaN                   NaN   \n",
       "1 -1.667590e+05  2.743992e+04                    NaN                   NaN   \n",
       "2  2.212888e+04 -1.740039e+03                    NaN                   NaN   \n",
       "3  3.190560e+07  2.449190e+06                    NaN                   NaN   \n",
       "4  4.379956e+07 -1.067665e+07                    NaN                   NaN   \n",
       "\n",
       "   mz_outer_bracket_port  mz_outer_bracket_stb  mz_rudder_port  mz_rudder_stb  \\\n",
       "0                    NaN                   NaN             NaN            NaN   \n",
       "1                    NaN                   NaN             NaN            NaN   \n",
       "2                    NaN                   NaN             NaN            NaN   \n",
       "3                    NaN                   NaN             NaN            NaN   \n",
       "4                    NaN                   NaN             NaN            NaN   \n",
       "\n",
       "   mz_shaft_port_assembly  mz_shaft_port_shaft1  mz_shaft_port_shaft2  \\\n",
       "0                     NaN                   NaN                   NaN   \n",
       "1                     NaN                   NaN                   NaN   \n",
       "2                     NaN                   NaN                   NaN   \n",
       "3                     NaN                   NaN                   NaN   \n",
       "4                     NaN                   NaN                   NaN   \n",
       "\n",
       "   mz_shaft_stb_assembly  mz_shaft_stb_shaft1  mz_shaft_stb_shaft2    r  \\\n",
       "0                    NaN                  NaN                  NaN  0.0   \n",
       "1                    NaN                  NaN                  NaN  0.0   \n",
       "2                    NaN                  NaN                  NaN  0.0   \n",
       "3                    NaN                  NaN                  NaN  0.0   \n",
       "4                    NaN                  NaN                  NaN  0.0   \n",
       "\n",
       "                                    result_file_path     rho         u    v  \\\n",
       "0  L:\\proj2019\\40199079-Segelfartyg-Wallenius\\VCT...  1025.0  6.173333 -0.0   \n",
       "1  L:\\proj2019\\40199079-Segelfartyg-Wallenius\\VCT...  1025.0  7.202222 -0.0   \n",
       "2  L:\\proj2019\\40199079-Segelfartyg-Wallenius\\VCT...  1025.0  2.572222 -0.0   \n",
       "3  L:\\proj2019\\40199079-Segelfartyg-Wallenius\\VCT...  1025.0  6.173333 -0.0   \n",
       "4  L:\\proj2019\\40199079-Segelfartyg-Wallenius\\VCT...  1025.0  6.173333 -0.0   \n",
       "\n",
       "                name                                               path  \\\n",
       "0  12knotsResistance  L:\\proj2019\\40199079-Segelfartyg-Wallenius\\VCT...   \n",
       "1  14knotsResistance  L:\\proj2019\\40199079-Segelfartyg-Wallenius\\VCT...   \n",
       "2   5knotsResistance  L:\\proj2019\\40199079-Segelfartyg-Wallenius\\VCT...   \n",
       "3  12knots-10degRudd  L:\\proj2019\\40199079-Segelfartyg-Wallenius\\VCT...   \n",
       "4  12knots-15degRudd  L:\\proj2019\\40199079-Segelfartyg-Wallenius\\VCT...   \n",
       "\n",
       "   thrust  rev  p  phi model_name  S_BK_port1  S_BK_stb1  fx_BK_port1  \\\n",
       "0     0.0  0.0  0    0       HERO         NaN        NaN          NaN   \n",
       "1     0.0  0.0  0    0       HERO         NaN        NaN          NaN   \n",
       "2     0.0  0.0  0    0       HERO         NaN        NaN          NaN   \n",
       "3     0.0  0.0  0    0       HERO         NaN        NaN          NaN   \n",
       "4     0.0  0.0  0    0       HERO         NaN        NaN          NaN   \n",
       "\n",
       "   fx_BK_stb1  fy_BK_port1  fy_BK_stb1  fz_BK_port1  fz_BK_stb1  mx_BK_port1  \\\n",
       "0         NaN          NaN         NaN          NaN         NaN          NaN   \n",
       "1         NaN          NaN         NaN          NaN         NaN          NaN   \n",
       "2         NaN          NaN         NaN          NaN         NaN          NaN   \n",
       "3         NaN          NaN         NaN          NaN         NaN          NaN   \n",
       "4         NaN          NaN         NaN          NaN         NaN          NaN   \n",
       "\n",
       "   mx_BK_stb1  my_BK_port1  my_BK_stb1  mz_BK_port1  mz_BK_stb1  \\\n",
       "0         NaN          NaN         NaN          NaN         NaN   \n",
       "1         NaN          NaN         NaN          NaN         NaN   \n",
       "2         NaN          NaN         NaN          NaN         NaN   \n",
       "3         NaN          NaN         NaN          NaN         NaN   \n",
       "4         NaN          NaN         NaN          NaN         NaN   \n",
       "\n",
       "   S_daggerboard_middle  fx_daggerboard_middle  fy_daggerboard_middle  \\\n",
       "0                   NaN                    NaN                    NaN   \n",
       "1                   NaN                    NaN                    NaN   \n",
       "2                   NaN                    NaN                    NaN   \n",
       "3                   NaN                    NaN                    NaN   \n",
       "4                   NaN                    NaN                    NaN   \n",
       "\n",
       "   fz_daggerboard_middle  mx_daggerboard_middle  my_daggerboard_middle  \\\n",
       "0                    NaN                    NaN                    NaN   \n",
       "1                    NaN                    NaN                    NaN   \n",
       "2                    NaN                    NaN                    NaN   \n",
       "3                    NaN                    NaN                    NaN   \n",
       "4                    NaN                    NaN                    NaN   \n",
       "\n",
       "   mz_daggerboard_middle  S_R4083_ref  fx_R4083_ref   fy_R4083_ref  \\\n",
       "0                    NaN    98.619465  -9118.015350   -1013.887198   \n",
       "1                    NaN    98.614671 -12543.752855    1983.972942   \n",
       "2                    NaN    98.615777  -1575.613148    -243.455304   \n",
       "3                    NaN    98.626472 -33710.568774 -299652.606328   \n",
       "4                    NaN    98.672940 -63050.424920 -553430.138409   \n",
       "\n",
       "   fz_R4083_ref  mx_R4083_ref  my_R4083_ref  mz_R4083_ref  S_Rudder_Center  \\\n",
       "0   2591.716633  1.663116e+03 -5.667386e+05  9.982278e+04              NaN   \n",
       "1   3413.186063 -3.387899e+03 -7.496762e+05 -1.942004e+05              NaN   \n",
       "2    446.759701  6.008627e+02 -9.800054e+04  2.386892e+04              NaN   \n",
       "3  -6208.145562  1.355621e+06  1.057582e+06  2.945632e+07              NaN   \n",
       "4 -14287.556806  2.382566e+06  2.485330e+06  5.447621e+07              NaN   \n",
       "\n",
       "   S_Rudder_Port  S_Rudder_Starboard  S_hull  S_rudder  fx_Rudder_Center  \\\n",
       "0            NaN                 NaN     NaN       NaN               NaN   \n",
       "1            NaN                 NaN     NaN       NaN               NaN   \n",
       "2            NaN                 NaN     NaN       NaN               NaN   \n",
       "3            NaN                 NaN     NaN       NaN               NaN   \n",
       "4            NaN                 NaN     NaN       NaN               NaN   \n",
       "\n",
       "   fx_Rudder_Port  fx_Rudder_Starboard  fx_hull  fx_rudder  fy_Rudder_Center  \\\n",
       "0             NaN                  NaN      NaN        NaN               NaN   \n",
       "1             NaN                  NaN      NaN        NaN               NaN   \n",
       "2             NaN                  NaN      NaN        NaN               NaN   \n",
       "3             NaN                  NaN      NaN        NaN               NaN   \n",
       "4             NaN                  NaN      NaN        NaN               NaN   \n",
       "\n",
       "   fy_Rudder_Port  fy_Rudder_Starboard  fy_hull  fy_rudder  fz_Rudder_Center  \\\n",
       "0             NaN                  NaN      NaN        NaN               NaN   \n",
       "1             NaN                  NaN      NaN        NaN               NaN   \n",
       "2             NaN                  NaN      NaN        NaN               NaN   \n",
       "3             NaN                  NaN      NaN        NaN               NaN   \n",
       "4             NaN                  NaN      NaN        NaN               NaN   \n",
       "\n",
       "   fz_Rudder_Port  fz_Rudder_Starboard  fz_hull  fz_rudder  mx_Rudder_Center  \\\n",
       "0             NaN                  NaN      NaN        NaN               NaN   \n",
       "1             NaN                  NaN      NaN        NaN               NaN   \n",
       "2             NaN                  NaN      NaN        NaN               NaN   \n",
       "3             NaN                  NaN      NaN        NaN               NaN   \n",
       "4             NaN                  NaN      NaN        NaN               NaN   \n",
       "\n",
       "   mx_Rudder_Port  mx_Rudder_Starboard  mx_hull  mx_rudder  my_Rudder_Center  \\\n",
       "0             NaN                  NaN      NaN        NaN               NaN   \n",
       "1             NaN                  NaN      NaN        NaN               NaN   \n",
       "2             NaN                  NaN      NaN        NaN               NaN   \n",
       "3             NaN                  NaN      NaN        NaN               NaN   \n",
       "4             NaN                  NaN      NaN        NaN               NaN   \n",
       "\n",
       "   my_Rudder_Port  my_Rudder_Starboard  my_hull  my_rudder  mz_Rudder_Center  \\\n",
       "0             NaN                  NaN      NaN        NaN               NaN   \n",
       "1             NaN                  NaN      NaN        NaN               NaN   \n",
       "2             NaN                  NaN      NaN        NaN               NaN   \n",
       "3             NaN                  NaN      NaN        NaN               NaN   \n",
       "4             NaN                  NaN      NaN        NaN               NaN   \n",
       "\n",
       "   mz_Rudder_Port  mz_Rudder_Starboard  mz_hull  mz_rudder  torque  \\\n",
       "0             NaN                  NaN      NaN        NaN     NaN   \n",
       "1             NaN                  NaN      NaN        NaN     NaN   \n",
       "2             NaN                  NaN      NaN        NaN     NaN   \n",
       "3             NaN                  NaN      NaN        NaN     NaN   \n",
       "4             NaN                  NaN      NaN        NaN     NaN   \n",
       "\n",
       "      test type  eta0  eta0_round    fx_rudders     fy_rudders    fz_rudders  \\\n",
       "0    resistance   1.0         1.0  -9118.015350   -1013.887198   2591.716633   \n",
       "1    resistance   1.0         1.0 -12543.752855    1983.972942   3413.186063   \n",
       "2    resistance   1.0         1.0  -1575.613148    -243.455304    446.759701   \n",
       "3  Rudder angle   1.0         1.0 -33710.568774 -299652.606328  -6208.145562   \n",
       "4  Rudder angle   1.0         1.0 -63050.424920 -553430.138409 -14287.556806   \n",
       "\n",
       "     mx_rudders    my_rudders    mz_rudders       clr  S_daggerboard_port  \\\n",
       "0  1.663116e+03 -5.667386e+05  9.982278e+04  0.017912                 NaN   \n",
       "1 -3.387899e+03 -7.496762e+05 -1.942004e+05 -0.007663                 NaN   \n",
       "2  6.008627e+02 -9.800054e+04  2.386892e+04 -0.004536                 NaN   \n",
       "3  1.355621e+06  1.057582e+06  2.945632e+07  0.014676                 NaN   \n",
       "4  2.382566e+06  2.485330e+06  5.447621e+07 -0.053713                 NaN   \n",
       "\n",
       "   S_daggerboard_stb fake_index  fx_daggerboard_port  fx_daggerboard_stb  \\\n",
       "0                NaN        NaN                  NaN                 NaN   \n",
       "1                NaN        NaN                  NaN                 NaN   \n",
       "2                NaN        NaN                  NaN                 NaN   \n",
       "3                NaN        NaN                  NaN                 NaN   \n",
       "4                NaN        NaN                  NaN                 NaN   \n",
       "\n",
       "   fy_daggerboard_port  fy_daggerboard_stb  fz_daggerboard_port  \\\n",
       "0                  NaN                 NaN                  NaN   \n",
       "1                  NaN                 NaN                  NaN   \n",
       "2                  NaN                 NaN                  NaN   \n",
       "3                  NaN                 NaN                  NaN   \n",
       "4                  NaN                 NaN                  NaN   \n",
       "\n",
       "   fz_daggerboard_stb  mx_daggerboard_port  mx_daggerboard_stb  \\\n",
       "0                 NaN                  NaN                 NaN   \n",
       "1                 NaN                  NaN                 NaN   \n",
       "2                 NaN                  NaN                 NaN   \n",
       "3                 NaN                  NaN                 NaN   \n",
       "4                 NaN                  NaN                 NaN   \n",
       "\n",
       "   my_daggerboard_port  my_daggerboard_stb  mz_daggerboard_port  \\\n",
       "0                  NaN                 NaN                  NaN   \n",
       "1                  NaN                 NaN                  NaN   \n",
       "2                  NaN                 NaN                  NaN   \n",
       "3                  NaN                 NaN                  NaN   \n",
       "4                  NaN                 NaN                  NaN   \n",
       "\n",
       "   mz_daggerboard_stb  $\\frac{fx}{V^2}$  $\\frac{fy}{V^2}$  $\\frac{mz}{V^2}$  \n",
       "0                 NaN      -6853.678518        -34.347260      3.245443e+03  \n",
       "1                 NaN      -6746.001389         32.309077     -3.214816e+03  \n",
       "2                 NaN      -7576.610321        -33.821609      3.344587e+03  \n",
       "3                 NaN      -7417.954300      -8801.154596      8.371965e+05  \n",
       "4                 NaN      -9402.933115     -10589.840807      1.149292e+06  "
      ]
     },
     "execution_count": 34,
     "metadata": {},
     "output_type": "execute_result"
    }
   ],
   "source": [
    "df_VCT_all = pd.read_csv('../data/external/vct.csv', index_col=0)\n",
    "df_VCT_all.head()"
   ]
  },
  {
   "cell_type": "code",
   "execution_count": 35,
   "metadata": {},
   "outputs": [],
   "source": [
    "df_VCT = df_VCT_all.groupby(by=['model_name']).get_group('V2_5_MDL_modelScale')"
   ]
  },
  {
   "cell_type": "code",
   "execution_count": 36,
   "metadata": {},
   "outputs": [
    {
     "data": {
      "text/plain": [
       "array(['resistance', 'Rudder angle', 'Drift angle',\n",
       "       'Rudder and drift angle', 'Circle', 'Circle + Drift'], dtype=object)"
      ]
     },
     "execution_count": 36,
     "metadata": {},
     "output_type": "execute_result"
    }
   ],
   "source": [
    "df_VCT['test type'].unique()"
   ]
  },
  {
   "cell_type": "markdown",
   "metadata": {},
   "source": [
    "# Subtract the resistance"
   ]
  },
  {
   "cell_type": "code",
   "execution_count": 37,
   "metadata": {},
   "outputs": [
    {
     "data": {
      "image/png": "[encoded data removed]",
      "text/plain": [
       "<Figure size 432x288 with 1 Axes>"
      ]
     },
     "metadata": {
      "needs_background": "light"
     },
     "output_type": "display_data"
    }
   ],
   "source": [
    "df_resistance = df_VCT.groupby(by='test type').get_group('resistance')\n",
    "\n",
    "X = df_resistance[['u','fx']].copy()\n",
    "X['u**2'] = X['u']**2\n",
    "y = X.pop('fx')\n",
    "\n",
    "model_resistance = sm.OLS(y,X)\n",
    "results_resistance = model_resistance.fit()\n",
    "\n",
    "X_pred = pd.DataFrame()\n",
    "X_pred['u'] = np.linspace(X['u'].min(), X['u'].max(), 20)\n",
    "X_pred['u**2'] = X_pred['u']**2\n",
    "X_pred['fx'] = results_resistance.predict(X_pred)\n",
    "\n",
    "fig,ax=plt.subplots()\n",
    "df_resistance.plot(x='u', y='fx', style='.', ax=ax)\n",
    "X_pred.plot(x='u', y='fx', style='--', ax=ax);\n"
   ]
  },
  {
   "cell_type": "code",
   "execution_count": 38,
   "metadata": {},
   "outputs": [],
   "source": [
    "df_VCT_0_resistance = df_VCT.copy()\n",
    "df_VCT_0_resistance['u**2'] = df_VCT_0_resistance['u']**2\n",
    "#df_VCT_0_resistance['fx']-= results_resistance.predict(df_VCT_0_resistance[['u','u**2']])\n",
    "df_VCT_0_resistance['thrust'] = results_resistance.predict(df_VCT_0_resistance[['u','u**2']])"
   ]
  },
  {
   "cell_type": "markdown",
   "metadata": {},
   "source": [
    "## VCT to prime system"
   ]
  },
  {
   "cell_type": "code",
   "execution_count": 39,
   "metadata": {},
   "outputs": [],
   "source": [
    "interesting = [\n",
    "    'u',\n",
    "    'v',\n",
    "    'r',\n",
    "    'delta',\n",
    "    'fx',\n",
    "    'fy',\n",
    "    'mz',\n",
    "    'thrust',\n",
    "]\n",
    "df_VCT_prime = ps_ship.prime(df_VCT_0_resistance[interesting], U=df_VCT_0_resistance['V'])"
   ]
  },
  {
   "cell_type": "code",
   "execution_count": 40,
   "metadata": {},
   "outputs": [],
   "source": [
    "from statsmodels.sandbox.regression.predstd import wls_prediction_std\n",
    "def show_pred_vct(X,y,results, label):\n",
    "    \n",
    "    display(results.summary())\n",
    "    \n",
    "    X_ = X.copy()\n",
    "    X_['y'] = y\n",
    "    X_.sort_values(by='y', inplace=True)\n",
    "        \n",
    "    y_ = X_.pop('y')\n",
    "    \n",
    "    y_pred = results.predict(X_)\n",
    "    \n",
    "    prstd, iv_l, iv_u = wls_prediction_std(results, exog=X_, alpha=0.05)\n",
    "    #iv_l*=-1 \n",
    "    #iv_u*=-1\n",
    "    \n",
    "    fig,ax=plt.subplots()\n",
    "    #ax.plot(X_.index,y_, label='Numerical gradient from model test')\n",
    "    #ax.plot(X_.index,y_pred, '--', label='OLS')\n",
    "    \n",
    "    ax.plot(y_,y_pred, '.')\n",
    "    ax.plot([y_.min(),y_.max()], [y_.min(),y_.max()], 'r-')\n",
    "    \n",
    "    ax.set_ylabel(f'{label} (prediction)')    \n",
    "    ax.set_xlabel(label)\n",
    "    \n",
    "    ax.fill_between(y_, y1=iv_l, y2=iv_u, zorder=-10, color='grey', alpha=0.5, label=r'5% confidence')\n",
    "    ax.legend();"
   ]
  },
  {
   "cell_type": "markdown",
   "metadata": {},
   "source": [
    "## N"
   ]
  },
  {
   "cell_type": "code",
   "execution_count": 41,
   "metadata": {},
   "outputs": [
    {
     "data": {
      "text/latex": [
       "$\\displaystyle \\operatorname{N_{qs}}{\\left(u{\\left(t \\right)},v{\\left(t \\right)},r{\\left(t \\right)},\\delta{\\left(t \\right)} \\right)} = N_{deltadeltadelta} \\delta^{3}{\\left(t \\right)} + N_{delta} \\delta{\\left(t \\right)} + N_{rdeltadelta} \\delta^{2}{\\left(t \\right)} r{\\left(t \\right)} + N_{rrdelta} \\delta{\\left(t \\right)} r^{2}{\\left(t \\right)} + N_{rrr} r^{3}{\\left(t \\right)} + N_{r} r{\\left(t \\right)} + N_{udelta} \\delta{\\left(t \\right)} u{\\left(t \\right)} + N_{ur} r{\\left(t \\right)} u{\\left(t \\right)} + N_{uudelta} \\delta{\\left(t \\right)} u^{2}{\\left(t \\right)} + N_{uur} r{\\left(t \\right)} u^{2}{\\left(t \\right)} + N_{uuv} u^{2}{\\left(t \\right)} v{\\left(t \\right)} + N_{uu} u^{2}{\\left(t \\right)} + N_{uv} u{\\left(t \\right)} v{\\left(t \\right)} + N_{vdeltadelta} \\delta^{2}{\\left(t \\right)} v{\\left(t \\right)} + N_{vrdelta} \\delta{\\left(t \\right)} r{\\left(t \\right)} v{\\left(t \\right)} + N_{vrr} r^{2}{\\left(t \\right)} v{\\left(t \\right)} + N_{vvdelta} \\delta{\\left(t \\right)} v^{2}{\\left(t \\right)} + N_{vvr} r{\\left(t \\right)} v^{2}{\\left(t \\right)} + N_{v} v{\\left(t \\right)}$"
      ],
      "text/plain": [
       "Eq(N_qs(u(t), v(t), r(t), delta(t)), N_{deltadeltadelta}*delta(t)**3 + N_{delta}*delta(t) + N_{rdeltadelta}*delta(t)**2*r(t) + N_{rrdelta}*delta(t)*r(t)**2 + N_{rrr}*r(t)**3 + N_{r}*r(t) + N_{udelta}*delta(t)*u(t) + N_{ur}*r(t)*u(t) + N_{uudelta}*delta(t)*u(t)**2 + N_{uur}*r(t)*u(t)**2 + N_{uuv}*u(t)**2*v(t) + N_{uu}*u(t)**2 + N_{uv}*u(t)*v(t) + N_{vdeltadelta}*delta(t)**2*v(t) + N_{vrdelta}*delta(t)*r(t)*v(t) + N_{vrr}*r(t)**2*v(t) + N_{vvdelta}*delta(t)*v(t)**2 + N_{vvr}*r(t)*v(t)**2 + N_{v}*v(t))"
      ]
     },
     "execution_count": 41,
     "metadata": {},
     "output_type": "execute_result"
    }
   ],
   "source": [
    "eq.N_qs_eq"
   ]
  },
  {
   "cell_type": "code",
   "execution_count": 42,
   "metadata": {},
   "outputs": [],
   "source": [
    "label = sp.symbols('N_qs')\n",
    "N_eq_ = eq.N_qs_eq.subs(N_qs,label)\n",
    "diff_eq_N = regression.DiffEqToMatrix(ode=N_eq_, label=label, base_features=[delta,u,v,r])"
   ]
  },
  {
   "cell_type": "code",
   "execution_count": 43,
   "metadata": {},
   "outputs": [
    {
     "data": {
      "text/latex": [
       "$\\displaystyle N_{qs} = N_{deltadeltadelta} \\delta^{3} + N_{delta} \\delta + N_{rdeltadelta} \\delta^{2} r + N_{rrdelta} \\delta r^{2} + N_{rrr} r^{3} + N_{r} r + N_{udelta} \\delta u + N_{ur} r u + N_{uudelta} \\delta u^{2} + N_{uur} r u^{2} + N_{uuv} u^{2} v + N_{uu} u^{2} + N_{uv} u v + N_{vdeltadelta} \\delta^{2} v + N_{vrdelta} \\delta r v + N_{vrr} r^{2} v + N_{vvdelta} \\delta v^{2} + N_{vvr} r v^{2} + N_{v} v$"
      ],
      "text/plain": [
       "<IPython.core.display.Math object>"
      ]
     },
     "execution_count": 43,
     "metadata": {},
     "output_type": "execute_result"
    }
   ],
   "source": [
    "Math(vlatex(diff_eq_N.acceleration_equation))"
   ]
  },
  {
   "cell_type": "code",
   "execution_count": 44,
   "metadata": {},
   "outputs": [
    {
     "data": {
      "text/html": [
       "<table class=\"simpletable\">\n",
       "<caption>OLS Regression Results</caption>\n",
       "<tr>\n",
       "  <th>Dep. Variable:</th>           <td>mz</td>        <th>  R-squared:         </th> <td>   0.999</td>\n",
       "</tr>\n",
       "<tr>\n",
       "  <th>Model:</th>                   <td>OLS</td>       <th>  Adj. R-squared:    </th> <td>   0.999</td>\n",
       "</tr>\n",
       "<tr>\n",
       "  <th>Method:</th>             <td>Least Squares</td>  <th>  F-statistic:       </th> <td>   2253.</td>\n",
       "</tr>\n",
       "<tr>\n",
       "  <th>Date:</th>             <td>Mon, 12 Jul 2021</td> <th>  Prob (F-statistic):</th> <td>2.53e-32</td>\n",
       "</tr>\n",
       "<tr>\n",
       "  <th>Time:</th>                 <td>08:28:58</td>     <th>  Log-Likelihood:    </th> <td>  359.66</td>\n",
       "</tr>\n",
       "<tr>\n",
       "  <th>No. Observations:</th>      <td>    36</td>      <th>  AIC:               </th> <td>  -693.3</td>\n",
       "</tr>\n",
       "<tr>\n",
       "  <th>Df Residuals:</th>          <td>    23</td>      <th>  BIC:               </th> <td>  -672.7</td>\n",
       "</tr>\n",
       "<tr>\n",
       "  <th>Df Model:</th>              <td>    12</td>      <th>                     </th>     <td> </td>   \n",
       "</tr>\n",
       "<tr>\n",
       "  <th>Covariance Type:</th>      <td>nonrobust</td>    <th>                     </th>     <td> </td>   \n",
       "</tr>\n",
       "</table>\n",
       "<table class=\"simpletable\">\n",
       "<tr>\n",
       "          <td></td>            <th>coef</th>     <th>std err</th>      <th>t</th>      <th>P>|t|</th>  <th>[0.025</th>    <th>0.975]</th>  \n",
       "</tr>\n",
       "<tr>\n",
       "  <th>Ndeltadeltadelta</th> <td>   -0.0006</td> <td>    0.002</td> <td>   -0.340</td> <td> 0.737</td> <td>   -0.004</td> <td>    0.003</td>\n",
       "</tr>\n",
       "<tr>\n",
       "  <th>Nrrr</th>             <td>   -0.0029</td> <td>    0.000</td> <td>  -12.880</td> <td> 0.000</td> <td>   -0.003</td> <td>   -0.002</td>\n",
       "</tr>\n",
       "<tr>\n",
       "  <th>Nuu</th>              <td>-1.379e-06</td> <td> 6.41e-06</td> <td>   -0.215</td> <td> 0.832</td> <td>-1.46e-05</td> <td> 1.19e-05</td>\n",
       "</tr>\n",
       "<tr>\n",
       "  <th>Nrdeltadelta</th>     <td> 1.545e-10</td> <td> 1.03e-10</td> <td>    1.505</td> <td> 0.146</td> <td>-5.79e-11</td> <td> 3.67e-10</td>\n",
       "</tr>\n",
       "<tr>\n",
       "  <th>Nvdeltadelta</th>     <td>   -0.0214</td> <td>    0.011</td> <td>   -1.876</td> <td> 0.073</td> <td>   -0.045</td> <td>    0.002</td>\n",
       "</tr>\n",
       "<tr>\n",
       "  <th>Nrrdelta</th>         <td> 1.369e-11</td> <td> 8.93e-12</td> <td>    1.533</td> <td> 0.139</td> <td>-4.78e-12</td> <td> 3.22e-11</td>\n",
       "</tr>\n",
       "<tr>\n",
       "  <th>Nvrr</th>             <td>    0.0067</td> <td>    0.005</td> <td>    1.399</td> <td> 0.175</td> <td>   -0.003</td> <td>    0.017</td>\n",
       "</tr>\n",
       "<tr>\n",
       "  <th>Nuudelta</th>         <td>    0.0169</td> <td>    0.008</td> <td>    2.073</td> <td> 0.050</td> <td> 3.63e-05</td> <td>    0.034</td>\n",
       "</tr>\n",
       "<tr>\n",
       "  <th>Nuur</th>             <td>   13.7243</td> <td>    8.710</td> <td>    1.576</td> <td> 0.129</td> <td>   -4.294</td> <td>   31.742</td>\n",
       "</tr>\n",
       "<tr>\n",
       "  <th>Nuuv</th>             <td>    1.3277</td> <td>    3.770</td> <td>    0.352</td> <td> 0.728</td> <td>   -6.472</td> <td>    9.127</td>\n",
       "</tr>\n",
       "<tr>\n",
       "  <th>Nvvdelta</th>         <td>   -0.0355</td> <td>    0.016</td> <td>   -2.176</td> <td> 0.040</td> <td>   -0.069</td> <td>   -0.002</td>\n",
       "</tr>\n",
       "<tr>\n",
       "  <th>Nvvr</th>             <td>   -0.0875</td> <td>    0.023</td> <td>   -3.817</td> <td> 0.001</td> <td>   -0.135</td> <td>   -0.040</td>\n",
       "</tr>\n",
       "<tr>\n",
       "  <th>Nudelta</th>          <td>   -0.0008</td> <td> 4.73e-05</td> <td>  -16.103</td> <td> 0.000</td> <td>   -0.001</td> <td>   -0.001</td>\n",
       "</tr>\n",
       "<tr>\n",
       "  <th>Nur</th>              <td>  -27.3629</td> <td>   17.399</td> <td>   -1.573</td> <td> 0.129</td> <td>  -63.356</td> <td>    8.630</td>\n",
       "</tr>\n",
       "<tr>\n",
       "  <th>Nuv</th>              <td>   -2.6131</td> <td>    7.468</td> <td>   -0.350</td> <td> 0.730</td> <td>  -18.061</td> <td>   12.835</td>\n",
       "</tr>\n",
       "<tr>\n",
       "  <th>Nvrdelta</th>         <td>         0</td> <td>        0</td> <td>      nan</td> <td>   nan</td> <td>        0</td> <td>        0</td>\n",
       "</tr>\n",
       "<tr>\n",
       "  <th>Ndelta</th>           <td>   -0.0185</td> <td>    0.008</td> <td>   -2.280</td> <td> 0.032</td> <td>   -0.035</td> <td>   -0.002</td>\n",
       "</tr>\n",
       "<tr>\n",
       "  <th>Nr</th>               <td>   13.6367</td> <td>    8.689</td> <td>    1.569</td> <td> 0.130</td> <td>   -4.338</td> <td>   31.611</td>\n",
       "</tr>\n",
       "<tr>\n",
       "  <th>Nv</th>               <td>    1.2841</td> <td>    3.698</td> <td>    0.347</td> <td> 0.732</td> <td>   -6.365</td> <td>    8.933</td>\n",
       "</tr>\n",
       "</table>\n",
       "<table class=\"simpletable\">\n",
       "<tr>\n",
       "  <th>Omnibus:</th>       <td> 5.041</td> <th>  Durbin-Watson:     </th> <td>   1.707</td>\n",
       "</tr>\n",
       "<tr>\n",
       "  <th>Prob(Omnibus):</th> <td> 0.080</td> <th>  Jarque-Bera (JB):  </th> <td>   5.011</td>\n",
       "</tr>\n",
       "<tr>\n",
       "  <th>Skew:</th>          <td>-0.261</td> <th>  Prob(JB):          </th> <td>  0.0816</td>\n",
       "</tr>\n",
       "<tr>\n",
       "  <th>Kurtosis:</th>      <td> 4.752</td> <th>  Cond. No.          </th> <td>1.35e+35</td>\n",
       "</tr>\n",
       "</table><br/><br/>Notes:<br/>[1] Standard Errors assume that the covariance matrix of the errors is correctly specified.<br/>[2] The smallest eigenvalue is 2.02e-69. This might indicate that there are<br/>strong multicollinearity problems or that the design matrix is singular."
      ],
      "text/plain": [
       "<class 'statsmodels.iolib.summary.Summary'>\n",
       "\"\"\"\n",
       "                            OLS Regression Results                            \n",
       "==============================================================================\n",
       "Dep. Variable:                     mz   R-squared:                       0.999\n",
       "Model:                            OLS   Adj. R-squared:                  0.999\n",
       "Method:                 Least Squares   F-statistic:                     2253.\n",
       "Date:                Mon, 12 Jul 2021   Prob (F-statistic):           2.53e-32\n",
       "Time:                        08:28:58   Log-Likelihood:                 359.66\n",
       "No. Observations:                  36   AIC:                            -693.3\n",
       "Df Residuals:                      23   BIC:                            -672.7\n",
       "Df Model:                          12                                         \n",
       "Covariance Type:            nonrobust                                         \n",
       "====================================================================================\n",
       "                       coef    std err          t      P>|t|      [0.025      0.975]\n",
       "------------------------------------------------------------------------------------\n",
       "Ndeltadeltadelta    -0.0006      0.002     -0.340      0.737      -0.004       0.003\n",
       "Nrrr                -0.0029      0.000    -12.880      0.000      -0.003      -0.002\n",
       "Nuu              -1.379e-06   6.41e-06     -0.215      0.832   -1.46e-05    1.19e-05\n",
       "Nrdeltadelta      1.545e-10   1.03e-10      1.505      0.146   -5.79e-11    3.67e-10\n",
       "Nvdeltadelta        -0.0214      0.011     -1.876      0.073      -0.045       0.002\n",
       "Nrrdelta          1.369e-11   8.93e-12      1.533      0.139   -4.78e-12    3.22e-11\n",
       "Nvrr                 0.0067      0.005      1.399      0.175      -0.003       0.017\n",
       "Nuudelta             0.0169      0.008      2.073      0.050    3.63e-05       0.034\n",
       "Nuur                13.7243      8.710      1.576      0.129      -4.294      31.742\n",
       "Nuuv                 1.3277      3.770      0.352      0.728      -6.472       9.127\n",
       "Nvvdelta            -0.0355      0.016     -2.176      0.040      -0.069      -0.002\n",
       "Nvvr                -0.0875      0.023     -3.817      0.001      -0.135      -0.040\n",
       "Nudelta             -0.0008   4.73e-05    -16.103      0.000      -0.001      -0.001\n",
       "Nur                -27.3629     17.399     -1.573      0.129     -63.356       8.630\n",
       "Nuv                 -2.6131      7.468     -0.350      0.730     -18.061      12.835\n",
       "Nvrdelta                  0          0        nan        nan           0           0\n",
       "Ndelta              -0.0185      0.008     -2.280      0.032      -0.035      -0.002\n",
       "Nr                  13.6367      8.689      1.569      0.130      -4.338      31.611\n",
       "Nv                   1.2841      3.698      0.347      0.732      -6.365       8.933\n",
       "==============================================================================\n",
       "Omnibus:                        5.041   Durbin-Watson:                   1.707\n",
       "Prob(Omnibus):                  0.080   Jarque-Bera (JB):                5.011\n",
       "Skew:                          -0.261   Prob(JB):                       0.0816\n",
       "Kurtosis:                       4.752   Cond. No.                     1.35e+35\n",
       "==============================================================================\n",
       "\n",
       "Notes:\n",
       "[1] Standard Errors assume that the covariance matrix of the errors is correctly specified.\n",
       "[2] The smallest eigenvalue is 2.02e-69. This might indicate that there are\n",
       "strong multicollinearity problems or that the design matrix is singular.\n",
       "\"\"\""
      ]
     },
     "metadata": {},
     "output_type": "display_data"
    },
    {
     "data": {
      "image/png": "[encoded data removed]",
      "text/plain": [
       "<Figure size 432x288 with 1 Axes>"
      ]
     },
     "metadata": {
      "needs_background": "light"
     },
     "output_type": "display_data"
    }
   ],
   "source": [
    "X = diff_eq_N.calculate_features(data=df_VCT_prime)\n",
    "y = diff_eq_N.calculate_label(y=df_VCT_prime['mz'])\n",
    "\n",
    "model_N = sm.OLS(y,X)\n",
    "results_N = model_N.fit()\n",
    "\n",
    "show_pred_vct(X=X,y=y,results=results_N, label=r'$N$')"
   ]
  },
  {
   "cell_type": "markdown",
   "metadata": {},
   "source": [
    "## Y"
   ]
  },
  {
   "cell_type": "code",
   "execution_count": 45,
   "metadata": {},
   "outputs": [
    {
     "data": {
      "text/latex": [
       "$\\displaystyle \\operatorname{Y_{qs}}{\\left(u{\\left(t \\right)},v{\\left(t \\right)},r{\\left(t \\right)},\\delta{\\left(t \\right)} \\right)} = Y_{delta} \\delta{\\left(t \\right)} + Y_{rrr} r^{3}{\\left(t \\right)} + Y_{r} r{\\left(t \\right)} + Y_{udelta} \\delta{\\left(t \\right)} u{\\left(t \\right)} + Y_{ur} r{\\left(t \\right)} u{\\left(t \\right)} + Y_{uudelta} \\delta{\\left(t \\right)} u^{2}{\\left(t \\right)} + Y_{uur} r{\\left(t \\right)} u^{2}{\\left(t \\right)} + Y_{uuv} u^{2}{\\left(t \\right)} v{\\left(t \\right)} + Y_{uu} u^{2}{\\left(t \\right)} + Y_{uv} u{\\left(t \\right)} v{\\left(t \\right)} + Y_{vdeltadelta} \\delta^{2}{\\left(t \\right)} v{\\left(t \\right)} + Y_{vrdelta} \\delta{\\left(t \\right)} r{\\left(t \\right)} v{\\left(t \\right)} + Y_{vrr} r^{2}{\\left(t \\right)} v{\\left(t \\right)} + Y_{vvr} r{\\left(t \\right)} v^{2}{\\left(t \\right)} + Y_{vvv} v^{3}{\\left(t \\right)} + Y_{v} v{\\left(t \\right)}$"
      ],
      "text/plain": [
       "Eq(Y_qs(u(t), v(t), r(t), delta(t)), Y_{delta}*delta(t) + Y_{rrr}*r(t)**3 + Y_{r}*r(t) + Y_{udelta}*delta(t)*u(t) + Y_{ur}*r(t)*u(t) + Y_{uudelta}*delta(t)*u(t)**2 + Y_{uur}*r(t)*u(t)**2 + Y_{uuv}*u(t)**2*v(t) + Y_{uu}*u(t)**2 + Y_{uv}*u(t)*v(t) + Y_{vdeltadelta}*delta(t)**2*v(t) + Y_{vrdelta}*delta(t)*r(t)*v(t) + Y_{vrr}*r(t)**2*v(t) + Y_{vvr}*r(t)*v(t)**2 + Y_{vvv}*v(t)**3 + Y_{v}*v(t))"
      ]
     },
     "execution_count": 45,
     "metadata": {},
     "output_type": "execute_result"
    }
   ],
   "source": [
    "eq.Y_qs_eq"
   ]
  },
  {
   "cell_type": "code",
   "execution_count": 46,
   "metadata": {},
   "outputs": [],
   "source": [
    "label = sp.symbols('Y_qs')\n",
    "Y_eq_ = eq.Y_qs_eq.subs(Y_qs,label)\n",
    "diff_eq_Y = regression.DiffEqToMatrix(ode=Y_eq_, label=label, base_features=[delta,u,v,r])"
   ]
  },
  {
   "cell_type": "code",
   "execution_count": 47,
   "metadata": {},
   "outputs": [
    {
     "data": {
      "text/latex": [
       "$\\displaystyle Y_{qs} = Y_{delta} \\delta + Y_{rrr} r^{3} + Y_{r} r + Y_{udelta} \\delta u + Y_{ur} r u + Y_{uudelta} \\delta u^{2} + Y_{uur} r u^{2} + Y_{uuv} u^{2} v + Y_{uu} u^{2} + Y_{uv} u v + Y_{vdeltadelta} \\delta^{2} v + Y_{vrdelta} \\delta r v + Y_{vrr} r^{2} v + Y_{vvr} r v^{2} + Y_{vvv} v^{3} + Y_{v} v$"
      ],
      "text/plain": [
       "<IPython.core.display.Math object>"
      ]
     },
     "execution_count": 47,
     "metadata": {},
     "output_type": "execute_result"
    }
   ],
   "source": [
    "Math(vlatex(diff_eq_Y.acceleration_equation))"
   ]
  },
  {
   "cell_type": "code",
   "execution_count": 48,
   "metadata": {},
   "outputs": [
    {
     "data": {
      "text/html": [
       "<table class=\"simpletable\">\n",
       "<caption>OLS Regression Results</caption>\n",
       "<tr>\n",
       "  <th>Dep. Variable:</th>           <td>fy</td>        <th>  R-squared:         </th> <td>   1.000</td>\n",
       "</tr>\n",
       "<tr>\n",
       "  <th>Model:</th>                   <td>OLS</td>       <th>  Adj. R-squared:    </th> <td>   0.999</td>\n",
       "</tr>\n",
       "<tr>\n",
       "  <th>Method:</th>             <td>Least Squares</td>  <th>  F-statistic:       </th> <td>   5266.</td>\n",
       "</tr>\n",
       "<tr>\n",
       "  <th>Date:</th>             <td>Mon, 12 Jul 2021</td> <th>  Prob (F-statistic):</th> <td>8.67e-38</td>\n",
       "</tr>\n",
       "<tr>\n",
       "  <th>Time:</th>                 <td>08:28:59</td>     <th>  Log-Likelihood:    </th> <td>  334.13</td>\n",
       "</tr>\n",
       "<tr>\n",
       "  <th>No. Observations:</th>      <td>    36</td>      <th>  AIC:               </th> <td>  -644.3</td>\n",
       "</tr>\n",
       "<tr>\n",
       "  <th>Df Residuals:</th>          <td>    24</td>      <th>  BIC:               </th> <td>  -625.3</td>\n",
       "</tr>\n",
       "<tr>\n",
       "  <th>Df Model:</th>              <td>    11</td>      <th>                     </th>     <td> </td>   \n",
       "</tr>\n",
       "<tr>\n",
       "  <th>Covariance Type:</th>      <td>nonrobust</td>    <th>                     </th>     <td> </td>   \n",
       "</tr>\n",
       "</table>\n",
       "<table class=\"simpletable\">\n",
       "<tr>\n",
       "        <td></td>          <th>coef</th>     <th>std err</th>      <th>t</th>      <th>P>|t|</th>  <th>[0.025</th>    <th>0.975]</th>  \n",
       "</tr>\n",
       "<tr>\n",
       "  <th>Yrrr</th>         <td>   -0.0006</td> <td>    0.000</td> <td>   -1.424</td> <td> 0.167</td> <td>   -0.002</td> <td>    0.000</td>\n",
       "</tr>\n",
       "<tr>\n",
       "  <th>Yuu</th>          <td> -6.31e-06</td> <td> 1.18e-05</td> <td>   -0.535</td> <td> 0.598</td> <td>-3.06e-05</td> <td>  1.8e-05</td>\n",
       "</tr>\n",
       "<tr>\n",
       "  <th>Yvvv</th>         <td>   -0.1402</td> <td>    0.048</td> <td>   -2.900</td> <td> 0.008</td> <td>   -0.240</td> <td>   -0.040</td>\n",
       "</tr>\n",
       "<tr>\n",
       "  <th>Yvdeltadelta</th> <td>    0.0431</td> <td>    0.019</td> <td>    2.232</td> <td> 0.035</td> <td>    0.003</td> <td>    0.083</td>\n",
       "</tr>\n",
       "<tr>\n",
       "  <th>Yvrr</th>         <td>   -0.0266</td> <td>    0.010</td> <td>   -2.800</td> <td> 0.010</td> <td>   -0.046</td> <td>   -0.007</td>\n",
       "</tr>\n",
       "<tr>\n",
       "  <th>Yuudelta</th>     <td>   -0.1057</td> <td>    0.040</td> <td>   -2.638</td> <td> 0.014</td> <td>   -0.188</td> <td>   -0.023</td>\n",
       "</tr>\n",
       "<tr>\n",
       "  <th>Yuur</th>         <td>   43.6811</td> <td>   17.232</td> <td>    2.535</td> <td> 0.018</td> <td>    8.117</td> <td>   79.246</td>\n",
       "</tr>\n",
       "<tr>\n",
       "  <th>Yuuv</th>         <td>    6.7164</td> <td>    7.433</td> <td>    0.904</td> <td> 0.375</td> <td>   -8.625</td> <td>   22.058</td>\n",
       "</tr>\n",
       "<tr>\n",
       "  <th>Yvvr</th>         <td>   -0.1010</td> <td>    0.045</td> <td>   -2.227</td> <td> 0.036</td> <td>   -0.195</td> <td>   -0.007</td>\n",
       "</tr>\n",
       "<tr>\n",
       "  <th>Yudelta</th>      <td>    0.0015</td> <td> 8.43e-05</td> <td>   17.264</td> <td> 0.000</td> <td>    0.001</td> <td>    0.002</td>\n",
       "</tr>\n",
       "<tr>\n",
       "  <th>Yur</th>          <td>  -87.2584</td> <td>   34.422</td> <td>   -2.535</td> <td> 0.018</td> <td> -158.301</td> <td>  -16.216</td>\n",
       "</tr>\n",
       "<tr>\n",
       "  <th>Yuv</th>          <td>  -13.3015</td> <td>   14.818</td> <td>   -0.898</td> <td> 0.378</td> <td>  -43.884</td> <td>   17.281</td>\n",
       "</tr>\n",
       "<tr>\n",
       "  <th>Yvrdelta</th>     <td>         0</td> <td>        0</td> <td>      nan</td> <td>   nan</td> <td>        0</td> <td>        0</td>\n",
       "</tr>\n",
       "<tr>\n",
       "  <th>Ydelta</th>       <td>    0.1092</td> <td>    0.040</td> <td>    2.722</td> <td> 0.012</td> <td>    0.026</td> <td>    0.192</td>\n",
       "</tr>\n",
       "<tr>\n",
       "  <th>Yr</th>           <td>   43.5801</td> <td>   17.190</td> <td>    2.535</td> <td> 0.018</td> <td>    8.102</td> <td>   79.058</td>\n",
       "</tr>\n",
       "<tr>\n",
       "  <th>Yv</th>           <td>    6.5762</td> <td>    7.385</td> <td>    0.890</td> <td> 0.382</td> <td>   -8.666</td> <td>   21.819</td>\n",
       "</tr>\n",
       "</table>\n",
       "<table class=\"simpletable\">\n",
       "<tr>\n",
       "  <th>Omnibus:</th>       <td> 8.124</td> <th>  Durbin-Watson:     </th> <td>   1.512</td>\n",
       "</tr>\n",
       "<tr>\n",
       "  <th>Prob(Omnibus):</th> <td> 0.017</td> <th>  Jarque-Bera (JB):  </th> <td>   6.741</td>\n",
       "</tr>\n",
       "<tr>\n",
       "  <th>Skew:</th>          <td> 0.914</td> <th>  Prob(JB):          </th> <td>  0.0344</td>\n",
       "</tr>\n",
       "<tr>\n",
       "  <th>Kurtosis:</th>      <td> 4.074</td> <th>  Cond. No.          </th> <td>3.03e+33</td>\n",
       "</tr>\n",
       "</table><br/><br/>Notes:<br/>[1] Standard Errors assume that the covariance matrix of the errors is correctly specified.<br/>[2] The smallest eigenvalue is 4.02e-66. This might indicate that there are<br/>strong multicollinearity problems or that the design matrix is singular."
      ],
      "text/plain": [
       "<class 'statsmodels.iolib.summary.Summary'>\n",
       "\"\"\"\n",
       "                            OLS Regression Results                            \n",
       "==============================================================================\n",
       "Dep. Variable:                     fy   R-squared:                       1.000\n",
       "Model:                            OLS   Adj. R-squared:                  0.999\n",
       "Method:                 Least Squares   F-statistic:                     5266.\n",
       "Date:                Mon, 12 Jul 2021   Prob (F-statistic):           8.67e-38\n",
       "Time:                        08:28:59   Log-Likelihood:                 334.13\n",
       "No. Observations:                  36   AIC:                            -644.3\n",
       "Df Residuals:                      24   BIC:                            -625.3\n",
       "Df Model:                          11                                         \n",
       "Covariance Type:            nonrobust                                         \n",
       "================================================================================\n",
       "                   coef    std err          t      P>|t|      [0.025      0.975]\n",
       "--------------------------------------------------------------------------------\n",
       "Yrrr            -0.0006      0.000     -1.424      0.167      -0.002       0.000\n",
       "Yuu           -6.31e-06   1.18e-05     -0.535      0.598   -3.06e-05     1.8e-05\n",
       "Yvvv            -0.1402      0.048     -2.900      0.008      -0.240      -0.040\n",
       "Yvdeltadelta     0.0431      0.019      2.232      0.035       0.003       0.083\n",
       "Yvrr            -0.0266      0.010     -2.800      0.010      -0.046      -0.007\n",
       "Yuudelta        -0.1057      0.040     -2.638      0.014      -0.188      -0.023\n",
       "Yuur            43.6811     17.232      2.535      0.018       8.117      79.246\n",
       "Yuuv             6.7164      7.433      0.904      0.375      -8.625      22.058\n",
       "Yvvr            -0.1010      0.045     -2.227      0.036      -0.195      -0.007\n",
       "Yudelta          0.0015   8.43e-05     17.264      0.000       0.001       0.002\n",
       "Yur            -87.2584     34.422     -2.535      0.018    -158.301     -16.216\n",
       "Yuv            -13.3015     14.818     -0.898      0.378     -43.884      17.281\n",
       "Yvrdelta              0          0        nan        nan           0           0\n",
       "Ydelta           0.1092      0.040      2.722      0.012       0.026       0.192\n",
       "Yr              43.5801     17.190      2.535      0.018       8.102      79.058\n",
       "Yv               6.5762      7.385      0.890      0.382      -8.666      21.819\n",
       "==============================================================================\n",
       "Omnibus:                        8.124   Durbin-Watson:                   1.512\n",
       "Prob(Omnibus):                  0.017   Jarque-Bera (JB):                6.741\n",
       "Skew:                           0.914   Prob(JB):                       0.0344\n",
       "Kurtosis:                       4.074   Cond. No.                     3.03e+33\n",
       "==============================================================================\n",
       "\n",
       "Notes:\n",
       "[1] Standard Errors assume that the covariance matrix of the errors is correctly specified.\n",
       "[2] The smallest eigenvalue is 4.02e-66. This might indicate that there are\n",
       "strong multicollinearity problems or that the design matrix is singular.\n",
       "\"\"\""
      ]
     },
     "metadata": {},
     "output_type": "display_data"
    },
    {
     "data": {
      "image/png": "[encoded data removed]",
      "text/plain": [
       "<Figure size 432x288 with 1 Axes>"
      ]
     },
     "metadata": {
      "needs_background": "light"
     },
     "output_type": "display_data"
    }
   ],
   "source": [
    "X = diff_eq_Y.calculate_features(data=df_VCT_prime)\n",
    "y = diff_eq_Y.calculate_label(y=df_VCT_prime['fy'])\n",
    "\n",
    "model_Y = sm.OLS(y,X)\n",
    "results_Y = model_Y.fit()\n",
    "\n",
    "show_pred_vct(X=X,y=y,results=results_Y, label=r'$Y$')"
   ]
  },
  {
   "cell_type": "markdown",
   "metadata": {},
   "source": [
    "## X"
   ]
  },
  {
   "cell_type": "code",
   "execution_count": 49,
   "metadata": {},
   "outputs": [
    {
     "data": {
      "text/latex": [
       "$\\displaystyle \\operatorname{X_{qs}}{\\left(u{\\left(t \\right)},v{\\left(t \\right)},r{\\left(t \\right)},\\delta{\\left(t \\right)} \\right)} = X_{deltadelta} \\delta^{2}{\\left(t \\right)} + X_{rdelta} \\delta{\\left(t \\right)} r{\\left(t \\right)} + X_{rr} r^{2}{\\left(t \\right)} + X_{thrust} \\operatorname{thrust}{\\left(t \\right)} + X_{udeltadelta} \\delta^{2}{\\left(t \\right)} u{\\left(t \\right)} + X_{urdelta} \\delta{\\left(t \\right)} r{\\left(t \\right)} u{\\left(t \\right)} + X_{urr} r^{2}{\\left(t \\right)} u{\\left(t \\right)} + X_{uuu} u^{3}{\\left(t \\right)} + X_{uu} u^{2}{\\left(t \\right)} + X_{uvr} r{\\left(t \\right)} u{\\left(t \\right)} v{\\left(t \\right)} + X_{uvv} u{\\left(t \\right)} v^{2}{\\left(t \\right)} + X_{u} u{\\left(t \\right)} + X_{vdelta} \\delta{\\left(t \\right)} v{\\left(t \\right)} + X_{vrdelta} \\delta{\\left(t \\right)} r{\\left(t \\right)} v{\\left(t \\right)} + X_{vr} r{\\left(t \\right)} v{\\left(t \\right)} + X_{vv} v^{2}{\\left(t \\right)}$"
      ],
      "text/plain": [
       "Eq(X_qs(u(t), v(t), r(t), delta(t)), X_{deltadelta}*delta(t)**2 + X_{rdelta}*delta(t)*r(t) + X_{rr}*r(t)**2 + X_{thrust}*thrust(t) + X_{udeltadelta}*delta(t)**2*u(t) + X_{urdelta}*delta(t)*r(t)*u(t) + X_{urr}*r(t)**2*u(t) + X_{uuu}*u(t)**3 + X_{uu}*u(t)**2 + X_{uvr}*r(t)*u(t)*v(t) + X_{uvv}*u(t)*v(t)**2 + X_{u}*u(t) + X_{vdelta}*delta(t)*v(t) + X_{vrdelta}*delta(t)*r(t)*v(t) + X_{vr}*r(t)*v(t) + X_{vv}*v(t)**2)"
      ]
     },
     "execution_count": 49,
     "metadata": {},
     "output_type": "execute_result"
    }
   ],
   "source": [
    "eq.X_qs_eq"
   ]
  },
  {
   "cell_type": "code",
   "execution_count": 50,
   "metadata": {},
   "outputs": [],
   "source": [
    "label = sp.symbols('X_qs')\n",
    "X_eq_ = eq.X_qs_eq.subs(X_qs,label)\n",
    "diff_eq_X = regression.DiffEqToMatrix(ode=X_eq_, label=label, base_features=[delta,u,v,r,thrust])"
   ]
  },
  {
   "cell_type": "code",
   "execution_count": 51,
   "metadata": {},
   "outputs": [
    {
     "data": {
      "text/latex": [
       "$\\displaystyle X_{qs} = X_{deltadelta} \\delta^{2} + X_{rdelta} \\delta r + X_{rr} r^{2} + X_{thrust} thrust + X_{udeltadelta} \\delta^{2} u + X_{urdelta} \\delta r u + X_{urr} r^{2} u + X_{uuu} u^{3} + X_{uu} u^{2} + X_{uvr} r u v + X_{uvv} u v^{2} + X_{u} u + X_{vdelta} \\delta v + X_{vrdelta} \\delta r v + X_{vr} r v + X_{vv} v^{2}$"
      ],
      "text/plain": [
       "<IPython.core.display.Math object>"
      ]
     },
     "execution_count": 51,
     "metadata": {},
     "output_type": "execute_result"
    }
   ],
   "source": [
    "Math(vlatex(diff_eq_X.acceleration_equation))"
   ]
  },
  {
   "cell_type": "code",
   "execution_count": 52,
   "metadata": {},
   "outputs": [
    {
     "data": {
      "text/html": [
       "<table class=\"simpletable\">\n",
       "<caption>OLS Regression Results</caption>\n",
       "<tr>\n",
       "  <th>Dep. Variable:</th>           <td>fx</td>        <th>  R-squared:         </th> <td>   0.986</td>\n",
       "</tr>\n",
       "<tr>\n",
       "  <th>Model:</th>                   <td>OLS</td>       <th>  Adj. R-squared:    </th> <td>   0.980</td>\n",
       "</tr>\n",
       "<tr>\n",
       "  <th>Method:</th>             <td>Least Squares</td>  <th>  F-statistic:       </th> <td>   154.9</td>\n",
       "</tr>\n",
       "<tr>\n",
       "  <th>Date:</th>             <td>Mon, 12 Jul 2021</td> <th>  Prob (F-statistic):</th> <td>1.66e-19</td>\n",
       "</tr>\n",
       "<tr>\n",
       "  <th>Time:</th>                 <td>08:29:00</td>     <th>  Log-Likelihood:    </th> <td>  370.71</td>\n",
       "</tr>\n",
       "<tr>\n",
       "  <th>No. Observations:</th>      <td>    36</td>      <th>  AIC:               </th> <td>  -717.4</td>\n",
       "</tr>\n",
       "<tr>\n",
       "  <th>Df Residuals:</th>          <td>    24</td>      <th>  BIC:               </th> <td>  -698.4</td>\n",
       "</tr>\n",
       "<tr>\n",
       "  <th>Df Model:</th>              <td>    11</td>      <th>                     </th>     <td> </td>   \n",
       "</tr>\n",
       "<tr>\n",
       "  <th>Covariance Type:</th>      <td>nonrobust</td>    <th>                     </th>     <td> </td>   \n",
       "</tr>\n",
       "</table>\n",
       "<table class=\"simpletable\">\n",
       "<tr>\n",
       "        <td></td>          <th>coef</th>     <th>std err</th>      <th>t</th>      <th>P>|t|</th>  <th>[0.025</th>    <th>0.975]</th>  \n",
       "</tr>\n",
       "<tr>\n",
       "  <th>Xdeltadelta</th>  <td>   -0.4113</td> <td>    0.136</td> <td>   -3.023</td> <td> 0.006</td> <td>   -0.692</td> <td>   -0.130</td>\n",
       "</tr>\n",
       "<tr>\n",
       "  <th>Xrr</th>          <td>    0.1017</td> <td>    0.073</td> <td>    1.401</td> <td> 0.174</td> <td>   -0.048</td> <td>    0.252</td>\n",
       "</tr>\n",
       "<tr>\n",
       "  <th>Xuu</th>          <td> -319.0252</td> <td>  270.500</td> <td>   -1.179</td> <td> 0.250</td> <td> -877.310</td> <td>  239.260</td>\n",
       "</tr>\n",
       "<tr>\n",
       "  <th>Xuuu</th>         <td>  133.2367</td> <td>  112.936</td> <td>    1.180</td> <td> 0.250</td> <td>  -99.852</td> <td>  366.326</td>\n",
       "</tr>\n",
       "<tr>\n",
       "  <th>Xvv</th>          <td>  -78.8329</td> <td>   66.944</td> <td>   -1.178</td> <td> 0.251</td> <td> -216.999</td> <td>   59.333</td>\n",
       "</tr>\n",
       "<tr>\n",
       "  <th>Xudeltadelta</th> <td>    0.4089</td> <td>    0.136</td> <td>    3.005</td> <td> 0.006</td> <td>    0.128</td> <td>    0.690</td>\n",
       "</tr>\n",
       "<tr>\n",
       "  <th>Xurr</th>         <td>   -0.1016</td> <td>    0.073</td> <td>   -1.399</td> <td> 0.175</td> <td>   -0.251</td> <td>    0.048</td>\n",
       "</tr>\n",
       "<tr>\n",
       "  <th>Xuvv</th>         <td>   52.5518</td> <td>   44.628</td> <td>    1.178</td> <td> 0.251</td> <td>  -39.555</td> <td>  144.659</td>\n",
       "</tr>\n",
       "<tr>\n",
       "  <th>Xrdelta</th>      <td> 3.259e-10</td> <td> 2.76e-10</td> <td>    1.179</td> <td> 0.250</td> <td>-2.44e-10</td> <td> 8.96e-10</td>\n",
       "</tr>\n",
       "<tr>\n",
       "  <th>Xvdelta</th>      <td>   -0.0010</td> <td>    0.001</td> <td>   -0.649</td> <td> 0.523</td> <td>   -0.004</td> <td>    0.002</td>\n",
       "</tr>\n",
       "<tr>\n",
       "  <th>Xvr</th>          <td>   -0.0832</td> <td>    0.224</td> <td>   -0.371</td> <td> 0.714</td> <td>   -0.546</td> <td>    0.380</td>\n",
       "</tr>\n",
       "<tr>\n",
       "  <th>Xurdelta</th>     <td>-4.483e-14</td> <td>  3.8e-14</td> <td>   -1.179</td> <td> 0.250</td> <td>-1.23e-13</td> <td> 3.36e-14</td>\n",
       "</tr>\n",
       "<tr>\n",
       "  <th>Xvrdelta</th>     <td>         0</td> <td>        0</td> <td>      nan</td> <td>   nan</td> <td>        0</td> <td>        0</td>\n",
       "</tr>\n",
       "<tr>\n",
       "  <th>Xuvr</th>         <td>    0.0787</td> <td>    0.225</td> <td>    0.350</td> <td> 0.730</td> <td>   -0.385</td> <td>    0.543</td>\n",
       "</tr>\n",
       "<tr>\n",
       "  <th>Xthrust</th>      <td>    1.0113</td> <td>    0.033</td> <td>   31.104</td> <td> 0.000</td> <td>    0.944</td> <td>    1.078</td>\n",
       "</tr>\n",
       "<tr>\n",
       "  <th>Xu</th>           <td>  185.7885</td> <td>  157.564</td> <td>    1.179</td> <td> 0.250</td> <td> -139.408</td> <td>  510.985</td>\n",
       "</tr>\n",
       "</table>\n",
       "<table class=\"simpletable\">\n",
       "<tr>\n",
       "  <th>Omnibus:</th>       <td> 1.164</td> <th>  Durbin-Watson:     </th> <td>   2.192</td>\n",
       "</tr>\n",
       "<tr>\n",
       "  <th>Prob(Omnibus):</th> <td> 0.559</td> <th>  Jarque-Bera (JB):  </th> <td>   0.370</td>\n",
       "</tr>\n",
       "<tr>\n",
       "  <th>Skew:</th>          <td>-0.138</td> <th>  Prob(JB):          </th> <td>   0.831</td>\n",
       "</tr>\n",
       "<tr>\n",
       "  <th>Kurtosis:</th>      <td> 3.413</td> <th>  Cond. No.          </th> <td>1.69e+34</td>\n",
       "</tr>\n",
       "</table><br/><br/>Notes:<br/>[1] Standard Errors assume that the covariance matrix of the errors is correctly specified.<br/>[2] The smallest eigenvalue is 3.74e-67. This might indicate that there are<br/>strong multicollinearity problems or that the design matrix is singular."
      ],
      "text/plain": [
       "<class 'statsmodels.iolib.summary.Summary'>\n",
       "\"\"\"\n",
       "                            OLS Regression Results                            \n",
       "==============================================================================\n",
       "Dep. Variable:                     fx   R-squared:                       0.986\n",
       "Model:                            OLS   Adj. R-squared:                  0.980\n",
       "Method:                 Least Squares   F-statistic:                     154.9\n",
       "Date:                Mon, 12 Jul 2021   Prob (F-statistic):           1.66e-19\n",
       "Time:                        08:29:00   Log-Likelihood:                 370.71\n",
       "No. Observations:                  36   AIC:                            -717.4\n",
       "Df Residuals:                      24   BIC:                            -698.4\n",
       "Df Model:                          11                                         \n",
       "Covariance Type:            nonrobust                                         \n",
       "================================================================================\n",
       "                   coef    std err          t      P>|t|      [0.025      0.975]\n",
       "--------------------------------------------------------------------------------\n",
       "Xdeltadelta     -0.4113      0.136     -3.023      0.006      -0.692      -0.130\n",
       "Xrr              0.1017      0.073      1.401      0.174      -0.048       0.252\n",
       "Xuu           -319.0252    270.500     -1.179      0.250    -877.310     239.260\n",
       "Xuuu           133.2367    112.936      1.180      0.250     -99.852     366.326\n",
       "Xvv            -78.8329     66.944     -1.178      0.251    -216.999      59.333\n",
       "Xudeltadelta     0.4089      0.136      3.005      0.006       0.128       0.690\n",
       "Xurr            -0.1016      0.073     -1.399      0.175      -0.251       0.048\n",
       "Xuvv            52.5518     44.628      1.178      0.251     -39.555     144.659\n",
       "Xrdelta       3.259e-10   2.76e-10      1.179      0.250   -2.44e-10    8.96e-10\n",
       "Xvdelta         -0.0010      0.001     -0.649      0.523      -0.004       0.002\n",
       "Xvr             -0.0832      0.224     -0.371      0.714      -0.546       0.380\n",
       "Xurdelta     -4.483e-14    3.8e-14     -1.179      0.250   -1.23e-13    3.36e-14\n",
       "Xvrdelta              0          0        nan        nan           0           0\n",
       "Xuvr             0.0787      0.225      0.350      0.730      -0.385       0.543\n",
       "Xthrust          1.0113      0.033     31.104      0.000       0.944       1.078\n",
       "Xu             185.7885    157.564      1.179      0.250    -139.408     510.985\n",
       "==============================================================================\n",
       "Omnibus:                        1.164   Durbin-Watson:                   2.192\n",
       "Prob(Omnibus):                  0.559   Jarque-Bera (JB):                0.370\n",
       "Skew:                          -0.138   Prob(JB):                        0.831\n",
       "Kurtosis:                       3.413   Cond. No.                     1.69e+34\n",
       "==============================================================================\n",
       "\n",
       "Notes:\n",
       "[1] Standard Errors assume that the covariance matrix of the errors is correctly specified.\n",
       "[2] The smallest eigenvalue is 3.74e-67. This might indicate that there are\n",
       "strong multicollinearity problems or that the design matrix is singular.\n",
       "\"\"\""
      ]
     },
     "metadata": {},
     "output_type": "display_data"
    },
    {
     "data": {
      "image/png": "[encoded data removed]",
      "text/plain": [
       "<Figure size 432x288 with 1 Axes>"
      ]
     },
     "metadata": {
      "needs_background": "light"
     },
     "output_type": "display_data"
    }
   ],
   "source": [
    "X = diff_eq_X.calculate_features(data=df_VCT_prime)\n",
    "y = diff_eq_X.calculate_label(y=df_VCT_prime['fx'])\n",
    "\n",
    "model_X = sm.OLS(y,X)\n",
    "results_X = model_X.fit()\n",
    "\n",
    "show_pred_vct(X=X,y=y,results=results_X, label=r'$X$')"
   ]
  },
  {
   "cell_type": "code",
   "execution_count": 53,
   "metadata": {},
   "outputs": [],
   "source": [
    "results_summary_X = regression.results_summary_to_dataframe(results_X)\n",
    "results_summary_Y = regression.results_summary_to_dataframe(results_Y)\n",
    "results_summary_N = regression.results_summary_to_dataframe(results_N)"
   ]
  },
  {
   "cell_type": "markdown",
   "metadata": {},
   "source": [
    "## Add the regressed parameters\n",
    "Hydrodynamic derivatives that depend on acceleration cannot be obtained from the VCT regression. They are however essential if a time simulation should be conducted. These values have then been taken from Brix semi empirical formulas for the simulations below."
   ]
  },
  {
   "cell_type": "code",
   "execution_count": 54,
   "metadata": {},
   "outputs": [],
   "source": [
    "df_parameters_all = df_parameters.copy()\n",
    "for other in [results_summary_X, results_summary_Y, results_summary_N]:\n",
    "    df_parameters_all = df_parameters_all.combine_first(other)\n",
    "\n",
    "df_parameters_all.rename(columns={'coeff':'regressed'}, inplace=True)\n",
    "df_parameters_all.drop(columns=['brix_lambda'], inplace=True)\n",
    "\n",
    "df_parameters_all['prime'] = df_parameters_all['regressed'].combine_first(df_parameters_all['brix_prime'])  # prefer regressed"
   ]
  },
  {
   "cell_type": "code",
   "execution_count": 55,
   "metadata": {},
   "outputs": [
    {
     "data": {
      "image/png": "[encoded data removed]",
      "text/plain": [
       "<Figure size 1080x360 with 1 Axes>"
      ]
     },
     "metadata": {
      "needs_background": "light"
     },
     "output_type": "display_data"
    }
   ],
   "source": [
    "fig,ax=plt.subplots()\n",
    "fig.set_size_inches(15,5)\n",
    "\n",
    "mask = ((df_parameters_all['brix_prime']!=0) |\n",
    "        (pd.notnull(df_parameters_all['regressed'])))\n",
    "                \n",
    "df_parameters_all_plot = df_parameters_all.loc[mask]\n",
    "df_parameters_all_plot.plot.bar(y=['brix_prime','regressed'], ax=ax);"
   ]
  },
  {
   "cell_type": "markdown",
   "metadata": {},
   "source": [
    "## Simulate"
   ]
  },
  {
   "cell_type": "code",
   "execution_count": null,
   "metadata": {},
   "outputs": [],
   "source": [
    "parameters = df_parameters_all['prime'].copy()\n",
    "parameters['Xthrust']*=0.7\n",
    "solution, df_result_VCT = simulate(df_cut_prime, parameters = parameters, ship_parameters=ship_parameters_prime)"
   ]
  },
  {
   "cell_type": "code",
   "execution_count": null,
   "metadata": {},
   "outputs": [],
   "source": [
    "fig,ax=plt.subplots()\n",
    "track_plot(df=df_cut_prime, lpp=ship_parameters_prime['L'], beam=ship_parameters_prime['B'],ax=ax, label='model test')\n",
    "track_plot(df=df_result_VCT, lpp=ship_parameters_prime['L'], beam=ship_parameters_prime['B'],ax=ax, label='simulation', color='green')\n",
    "ax.legend()\n",
    "\n",
    "\n",
    "for key in df_result_VCT:\n",
    "    fig,ax = plt.subplots()\n",
    "    df_cut_prime.plot(y=key, label='model test', ax=ax)\n",
    "    df_result_VCT.plot(y=key, label='simulation', ax=ax)\n",
    "    ax.set_ylabel(key)"
   ]
  },
  {
   "cell_type": "markdown",
   "metadata": {},
   "source": [
    "# Time series PIT"
   ]
  },
  {
   "cell_type": "code",
   "execution_count": null,
   "metadata": {},
   "outputs": [],
   "source": [
    "from statsmodels.sandbox.regression.predstd import wls_prediction_std\n",
    "def show_pred(X,y,results, label):\n",
    "    \n",
    "    display(results.summary())\n",
    "    \n",
    "    X_ = X\n",
    "    y_ = y\n",
    "    y_pred = results.predict(X_)\n",
    "    \n",
    "    prstd, iv_l, iv_u = wls_prediction_std(results, exog=X_, alpha=0.05)\n",
    "    #iv_l*=-1 \n",
    "    #iv_u*=-1\n",
    "    \n",
    "    fig,ax=plt.subplots()\n",
    "    ax.plot(X_.index,y_, label='Numerical gradient from model test')\n",
    "    ax.plot(X_.index,y_pred, '--', label='OLS')\n",
    "    ax.set_ylabel(label)\n",
    "    \n",
    "    ax.fill_between(X_.index, y1=iv_l, y2=iv_u, zorder=-10, color='grey', alpha=0.5, label=r'5\\% confidence')\n",
    "    ax.legend();"
   ]
  },
  {
   "cell_type": "markdown",
   "metadata": {},
   "source": [
    "## N"
   ]
  },
  {
   "cell_type": "code",
   "execution_count": null,
   "metadata": {},
   "outputs": [],
   "source": [
    "N_eq_ = N_eq.copy()\n",
    "N_eq_ = N_eq_.subs([\n",
    "    (x_G,0),  # Assuming or moving to CG=0\n",
    "#    #(I_z,1),  # Removing inertia\n",
    "#    #(eq.p.Nrdot,0),  # Removing added mass\n",
    "#    #(eq.p.Nvdot,0),  # Removing added mass\n",
    "#    #(eq.p.Nudot,0),  # Removing added mass\n",
    "#    \n",
    "])  \n",
    "\n",
    "solution = sp.solve(N_eq_,r.diff())[0]\n",
    "inertia_ = (I_z-eq.p.Nrdot)\n",
    "N_eq_ = sp.Eq(r.diff()*inertia_, solution*inertia_)\n"
   ]
  },
  {
   "cell_type": "code",
   "execution_count": null,
   "metadata": {},
   "outputs": [],
   "source": [
    "Math(vlatex(N_eq_))"
   ]
  },
  {
   "cell_type": "code",
   "execution_count": null,
   "metadata": {},
   "outputs": [],
   "source": [
    "label_N = N_eq_.lhs\n",
    "diff_eq_N = regression.DiffEqToMatrix(ode=N_eq_, label=label_N, base_features=[delta,u,v,r])"
   ]
  },
  {
   "cell_type": "code",
   "execution_count": null,
   "metadata": {},
   "outputs": [],
   "source": [
    "Math(vlatex(diff_eq_N.acceleration_equation))"
   ]
  },
  {
   "cell_type": "code",
   "execution_count": null,
   "metadata": {},
   "outputs": [],
   "source": [
    "Math(vlatex(diff_eq_N.acceleration_equation_x))"
   ]
  },
  {
   "cell_type": "code",
   "execution_count": null,
   "metadata": {},
   "outputs": [],
   "source": [
    "Math(vlatex(diff_eq_N.eq_y))"
   ]
  },
  {
   "cell_type": "code",
   "execution_count": null,
   "metadata": {},
   "outputs": [],
   "source": [
    "diff_eq_N.eq_beta"
   ]
  },
  {
   "cell_type": "code",
   "execution_count": null,
   "metadata": {},
   "outputs": [],
   "source": [
    "Math(vlatex(diff_eq_N.eq_X))"
   ]
  },
  {
   "cell_type": "code",
   "execution_count": null,
   "metadata": {},
   "outputs": [],
   "source": [
    "diff_eq_N.y_lambda"
   ]
  },
  {
   "cell_type": "code",
   "execution_count": null,
   "metadata": {},
   "outputs": [],
   "source": [
    "X = diff_eq_N.calculate_features(data=df_prime)\n",
    "y = run(function=diff_eq_N.y_lambda, inputs=df_prime, **ship_parameters_prime, **df_parameters_all['brix_prime'])\n",
    "\n",
    "model_N = sm.OLS(y,X)\n",
    "results_N = model_N.fit()\n",
    "\n",
    "show_pred(X=X,y=y,results=results_N, label=r'$%s$' % vlatex(label_N))"
   ]
  },
  {
   "cell_type": "markdown",
   "metadata": {},
   "source": [
    "## Y"
   ]
  },
  {
   "cell_type": "code",
   "execution_count": null,
   "metadata": {},
   "outputs": [],
   "source": [
    "Y_eq_ = Y_eq.copy()\n",
    "Y_eq_ = Y_eq.subs([\n",
    "    (x_G,0),  # Assuming or moving to CG=0\n",
    "#    #(I_z,1),  # Removing inertia\n",
    "#    #(eq.p.Nrdot,0),  # Removing added mass\n",
    "#    #(eq.p.Nvdot,0),  # Removing added mass\n",
    "#    #(eq.p.Nudot,0),  # Removing added mass\n",
    "#    \n",
    "])  \n",
    "\n",
    "solution = sp.solve(Y_eq_,v.diff())[0]\n",
    "inertia_ = (eq.p.Yvdot-m)\n",
    "Y_eq_ = sp.Eq(-(v.diff()*inertia_-u*m*r), -(solution*inertia_-u*m*r))\n",
    "\n",
    "Math(vlatex(Y_eq_))"
   ]
  },
  {
   "cell_type": "code",
   "execution_count": null,
   "metadata": {},
   "outputs": [],
   "source": [
    "label_Y = Y_eq_.lhs\n",
    "diff_eq_Y = regression.DiffEqToMatrix(ode=Y_eq_, label=label_Y, base_features=[delta,u,v,r])"
   ]
  },
  {
   "cell_type": "code",
   "execution_count": null,
   "metadata": {},
   "outputs": [],
   "source": [
    "X = diff_eq_Y.calculate_features(data=df_prime)\n",
    "y = run(function=diff_eq_Y.y_lambda, inputs=df_prime, **ship_parameters_prime, **df_parameters_all['brix_prime'])\n",
    "\n",
    "model_Y = sm.OLS(y,X)\n",
    "results_Y = model_Y.fit()\n",
    "\n",
    "show_pred(X=X,y=y,results=results_Y, label=r'$%s$' % vlatex(label_Y))"
   ]
  },
  {
   "cell_type": "markdown",
   "metadata": {},
   "source": [
    "## X"
   ]
  },
  {
   "cell_type": "code",
   "execution_count": null,
   "metadata": {},
   "outputs": [],
   "source": [
    "X_eq_ = X_eq.copy()\n",
    "X_eq_ = X_eq_.subs([\n",
    "    (x_G,0),  # Assuming or moving to CG=0\n",
    "#    #(I_z,1),  # Removing inertia\n",
    "#    #(eq.p.Nrdot,0),  # Removing added mass\n",
    "#    #(eq.p.Nvdot,0),  # Removing added mass\n",
    "#    #(eq.p.Nudot,0),  # Removing added mass\n",
    "#    \n",
    "])  \n",
    "\n",
    "solution = sp.solve(X_eq_,u.diff())[0]\n",
    "inertia_ = m-eq.p.Xudot\n",
    "X_eq_ = sp.Eq((u.diff()*inertia_-m*r*v), (solution*inertia_-m*r*v))\n",
    "\n",
    "Math(vlatex(X_eq_))"
   ]
  },
  {
   "cell_type": "code",
   "execution_count": null,
   "metadata": {},
   "outputs": [],
   "source": [
    "label_X = X_eq_.lhs\n",
    "diff_eq_X = regression.DiffEqToMatrix(ode=X_eq_, label=label_X, base_features=[delta,u,v,r,thrust])"
   ]
  },
  {
   "cell_type": "code",
   "execution_count": null,
   "metadata": {},
   "outputs": [],
   "source": [
    "X = diff_eq_X.calculate_features(data=df_prime)\n",
    "y = run(function=diff_eq_X.y_lambda, inputs=df_prime, **ship_parameters_prime, **df_parameters_all['brix_prime'])\n",
    "\n",
    "model_X = sm.OLS(y,X)\n",
    "results_X = model_X.fit()\n",
    "\n",
    "show_pred(X=X,y=y,results=results_X, label=r'$%s$' % vlatex(label_X))"
   ]
  },
  {
   "cell_type": "code",
   "execution_count": null,
   "metadata": {},
   "outputs": [],
   "source": [
    "results_summary_X = regression.results_summary_to_dataframe(results_X)\n",
    "results_summary_Y = regression.results_summary_to_dataframe(results_Y)\n",
    "results_summary_N = regression.results_summary_to_dataframe(results_N)"
   ]
  },
  {
   "cell_type": "markdown",
   "metadata": {},
   "source": [
    "## Add regressed parameters"
   ]
  },
  {
   "cell_type": "code",
   "execution_count": null,
   "metadata": {},
   "outputs": [],
   "source": [
    "results = pd.concat([results_summary_X, results_summary_Y, results_summary_N],axis=0)\n",
    "df_parameters_all['PIT'] = results['coeff']\n",
    "df_parameters_all['PIT'] = df_parameters_all['PIT'].combine_first(df_parameters_all['brix_prime'])  # prefer regressed"
   ]
  },
  {
   "cell_type": "code",
   "execution_count": null,
   "metadata": {},
   "outputs": [],
   "source": [
    "fig,ax=plt.subplots()\n",
    "fig.set_size_inches(15,5)\n",
    "\n",
    "mask = ((df_parameters_all['brix_prime']!=0) |\n",
    "        (pd.notnull(df_parameters_all['regressed'])) | \n",
    "        (df_parameters_all['PIT']!=0)\n",
    "        \n",
    "       )\n",
    "                \n",
    "df_parameters_all_plot = df_parameters_all.loc[mask]\n",
    "\n",
    "df_parameters_all_plot.drop(index=['Xthrust']).plot.bar(y=['brix_prime','regressed','PIT'], ax=ax);"
   ]
  },
  {
   "cell_type": "code",
   "execution_count": null,
   "metadata": {},
   "outputs": [],
   "source": [
    "fig,ax=plt.subplots()\n",
    "fig.set_size_inches(15,5)\n",
    "df_parameters_all_plot.loc[['Xthrust']].plot.bar(y=['brix_prime','regressed','PIT'], ax=ax);"
   ]
  },
  {
   "cell_type": "markdown",
   "metadata": {},
   "source": [
    "## Simulate"
   ]
  },
  {
   "cell_type": "code",
   "execution_count": null,
   "metadata": {},
   "outputs": [],
   "source": [
    "parameters = df_parameters_all['PIT'].copy()\n",
    "#parameters['Xv']=0\n",
    "#parameters['Xr']=0\n",
    "#parameters['Xu']=0\n",
    "#parameters['Xdelta']=0\n",
    "#parameters['Nv']*=-1\n",
    "\n",
    "\n",
    "\n",
    "solution, df_result_PIT = simulate(df_cut_prime, parameters = parameters, ship_parameters=ship_parameters_prime)"
   ]
  },
  {
   "cell_type": "code",
   "execution_count": null,
   "metadata": {},
   "outputs": [],
   "source": [
    "fig,ax=plt.subplots()\n",
    "track_plot(df=df_cut_prime, lpp=ship_parameters_prime['L'], beam=ship_parameters_prime['B'],ax=ax, label='model test')\n",
    "track_plot(df=df_result_PIT, lpp=ship_parameters_prime['L'], beam=ship_parameters_prime['B'],ax=ax, label='simulation', color='green')\n",
    "ax.legend()\n",
    "\n",
    "\n",
    "for key in df_result_PIT:\n",
    "    fig,ax = plt.subplots()\n",
    "    df_cut_prime.plot(y=key, label='model test', ax=ax)\n",
    "    df_result_PIT.plot(y=key, label='simulation', ax=ax)\n",
    "    ax.set_ylabel(key)"
   ]
  },
  {
   "cell_type": "code",
   "execution_count": null,
   "metadata": {},
   "outputs": [],
   "source": [
    "X_eq"
   ]
  },
  {
   "cell_type": "code",
   "execution_count": null,
   "metadata": {},
   "outputs": [],
   "source": [
    "u1d,v1d,r1d = sp.symbols('u1d, v1d, r1d')\n",
    "subs = [\n",
    "    (u.diff(),u1d),\n",
    "    (v.diff(),v1d),\n",
    "    (r.diff(),r1d),\n",
    "\n",
    "]\n",
    "eq_X_ = X_eq.subs(subs)\n",
    "eq_Y_ = Y_eq.subs(subs)\n",
    "eq_N_ = N_eq.subs(subs)\n",
    "\n",
    "\n",
    "A,b = sp.linear_eq_to_matrix([eq_X_,eq_Y_,eq_N_],[u1d,v1d,r1d])"
   ]
  },
  {
   "cell_type": "code",
   "execution_count": null,
   "metadata": {},
   "outputs": [],
   "source": [
    "A"
   ]
  },
  {
   "cell_type": "code",
   "execution_count": null,
   "metadata": {},
   "outputs": [],
   "source": [
    "Math(vlatex(b))"
   ]
  },
  {
   "cell_type": "code",
   "execution_count": null,
   "metadata": {},
   "outputs": [],
   "source": [
    "A.inv()"
   ]
  },
  {
   "cell_type": "code",
   "execution_count": null,
   "metadata": {},
   "outputs": [],
   "source": []
  }
 ],
 "metadata": {
  "kernelspec": {
   "display_name": "Python 3",
   "language": "python",
   "name": "python3"
  },
  "language_info": {
   "codemirror_mode": {
    "name": "ipython",
    "version": 3
   },
   "file_extension": ".py",
   "mimetype": "text/x-python",
   "name": "python",
   "nbconvert_exporter": "python",
   "pygments_lexer": "ipython3",
   "version": "3.9.5"
  }
 },
 "nbformat": 4,
 "nbformat_minor": 4
}
