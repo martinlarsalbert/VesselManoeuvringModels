{
    "cells": [
        {
            "cell_type": "markdown",
            "metadata": {},
            "source": [
                "# Linear VMM (Vessel Maneuvering Model) for wPCC using brix coefficients"
            ]
        },
        {
            "cell_type": "markdown",
            "metadata": {},
            "source": [
                "# Purpose\n",
                "Implementing according to:\n",
                "Matusiak, Jerzy. Dynamics of a Rigid Ship. Aalto University, 2017. https://aaltodoc.aalto.fi:443/handle/123456789/24408."
            ]
        },
        {
            "cell_type": "markdown",
            "metadata": {},
            "source": [
                "# Methodology\n",
                "Define the problem using SymPy"
            ]
        },
        {
            "cell_type": "markdown",
            "metadata": {},
            "source": [
                "# Setup"
            ]
        },
        {
            "cell_type": "code",
            "execution_count": null,
            "metadata": {},
            "outputs": [],
            "source": [
                "# %load imports.py\n",
                "%matplotlib inline\n",
                "%load_ext autoreload\n",
                "%autoreload 2\n",
                "%config Completer.use_jedi = False  ## (To fix autocomplete)\n",
                "\n",
                "## External packages:\n",
                "import pandas as pd\n",
                "pd.options.display.max_rows = 999\n",
                "pd.options.display.max_columns = 999\n",
                "pd.set_option(\"display.max_columns\", None)\n",
                "\n",
                "import numpy as np\n",
                "import os\n",
                "import matplotlib.pyplot as plt\n",
                "\n",
                "import plotly.express as px \n",
                "import plotly.graph_objects as go\n",
                "\n",
                "import seaborn as sns\n",
                "import sympy as sp\n",
                "from sympy.physics.mechanics import (dynamicsymbols, ReferenceFrame,\n",
                "                                      Particle, Point)\n",
                "from sympy.physics.vector.printing import vpprint, vlatex\n",
                "from IPython.display import display, Math, Latex\n",
                "from vessel_manoeuvring_models.substitute_dynamic_symbols import run, lambdify\n",
                "\n",
                "import pyro\n",
                "\n",
                "import sklearn\n",
                "import pykalman\n",
                "from statsmodels.sandbox.regression.predstd import wls_prediction_std\n",
                "import statsmodels.api as sm\n",
                "\n",
                "from scipy.integrate import solve_ivp\n",
                "\n",
                "## Local packages:\n",
                "from vessel_manoeuvring_models.data import mdl\n",
                "from vessel_manoeuvring_models import symbols\n",
                "from vessel_manoeuvring_models import prime_system\n",
                "from vessel_manoeuvring_models.symbols import *\n",
                "from vessel_manoeuvring_models.linear_vmm_equations import *\n",
                "\n",
                "import vessel_manoeuvring_models.linear_vmm_equations as eq\n",
                "import vessel_manoeuvring_models.models.linear_vmm as model\n",
                "from vessel_manoeuvring_models.visualization.plot import track_plot\n",
                "import vessel_manoeuvring_models.nonlinear_vmm_equations as nonlinear_vmm_equations\n"
            ]
        },
        {
            "cell_type": "markdown",
            "metadata": {},
            "source": [
                "## Load test"
            ]
        },
        {
            "cell_type": "code",
            "execution_count": null,
            "metadata": {},
            "outputs": [],
            "source": [
                "df_runs = mdl.runs()"
            ]
        },
        {
            "cell_type": "code",
            "execution_count": null,
            "metadata": {},
            "outputs": [],
            "source": [
                "#id=22773\n",
                "#id=22616\n",
                "#id=22774\n",
                "id=22770\n",
                "\n",
                "\n",
                "df, units, meta_data = mdl.load(id=id, dir_path='../data/processed/kalman')\n",
                "df['U'] = np.sqrt(df['u']**2 + df['v']**2)\n",
                "df['beta'] = -np.arctan2(df['v'],df['u'])\n",
                "df = df.iloc[100:-100].copy()\n",
                "df.index = df.index.total_seconds()\n",
                "df.index-=df.index[0]\n",
                "df.sort_index(inplace=True)"
            ]
        },
        {
            "cell_type": "code",
            "execution_count": null,
            "metadata": {},
            "outputs": [],
            "source": [
                "df.head()"
            ]
        },
        {
            "cell_type": "code",
            "execution_count": null,
            "metadata": {},
            "outputs": [],
            "source": [
                "meta_data['rho']=1000\n",
                "meta_data['mass'] = meta_data['Volume']*meta_data['rho']\n",
                "meta_data.dropna()"
            ]
        },
        {
            "cell_type": "code",
            "execution_count": null,
            "metadata": {},
            "outputs": [],
            "source": [
                "from vessel_manoeuvring_models.visualization.plot import track_plot\n",
                "fig,ax=plt.subplots()\n",
                "#fig.set_size_inches(10,10)\n",
                "track_plot(df=df, lpp=meta_data.lpp, x_dataset='x0', y_dataset='y0',  psi_dataset='psi', beam=meta_data.beam, ax=ax);"
            ]
        },
        {
            "cell_type": "markdown",
            "metadata": {},
            "source": [
                "# Ship parameters"
            ]
        },
        {
            "cell_type": "code",
            "execution_count": null,
            "metadata": {},
            "outputs": [],
            "source": [
                "T_ = (meta_data.TA + meta_data.TF)/2\n",
                "L_ = meta_data.lpp\n",
                "m_ = meta_data.mass\n",
                "rho_ = meta_data.rho\n",
                "B_ = meta_data.beam\n",
                "CB_ = m_/(T_*B_*L_*rho_)\n",
                "I_z_ = m_*meta_data.KZZ**2\n",
                "\n",
                "ship_parameters = {\n",
                "        'T' : T_,\n",
                "        'L' : L_,\n",
                "        'CB' :CB_,\n",
                "        'B' : B_,\n",
                "        'rho' : rho_,\n",
                "        'x_G' : 0,  # motions are expressed at CG\n",
                "        'm' : m_,\n",
                "        'I_z': I_z_, \n",
                "        'volume':meta_data.Volume,\n",
                "    }\n",
                "\n",
                "ps = prime_system.PrimeSystem(**ship_parameters)\n",
                "ship_parameters_prime = ps.prime(ship_parameters)"
            ]
        },
        {
            "cell_type": "markdown",
            "metadata": {},
            "source": [
                "# Brix parameters"
            ]
        },
        {
            "cell_type": "code",
            "execution_count": null,
            "metadata": {},
            "outputs": [],
            "source": [
                "def calculate_prime(row, ship_parameters):\n",
                "    return run(function=row['brix_lambda'], inputs=ship_parameters)\n",
                "\n",
                "mask = df_parameters['brix_lambda'].notnull()\n",
                "df_parameters.loc[mask,'prime'] = df_parameters.loc[mask].apply(calculate_prime, ship_parameters=ship_parameters, axis=1)\n",
                "df_parameters.loc['Ydelta','prime'] = 0.005  # Just guessing\n",
                "df_parameters.loc['Ndelta','prime'] = -df_parameters.loc['Ydelta','prime']/2  # Just guessing\n",
                "df_parameters['prime'].fillna(0, inplace=True)"
            ]
        },
        {
            "cell_type": "code",
            "execution_count": null,
            "metadata": {},
            "outputs": [],
            "source": [
                "df_parameters.head()"
            ]
        },
        {
            "cell_type": "code",
            "execution_count": null,
            "metadata": {},
            "outputs": [],
            "source": [
                "ship_parameters"
            ]
        },
        {
            "cell_type": "code",
            "execution_count": null,
            "metadata": {},
            "outputs": [],
            "source": [
                "interesting = [\n",
                "    'u', \n",
                "    'v', \n",
                "    'r',\n",
                "    'U',\n",
                "    'x0',\n",
                "    'y0',\n",
                "    'psi',\n",
                "    'delta',\n",
                "    'beta',\n",
                "]\n",
                "df_ = df[interesting].copy()\n",
                "df_ = ps.prime(df_, U=df['U'])"
            ]
        },
        {
            "cell_type": "code",
            "execution_count": null,
            "metadata": {},
            "outputs": [],
            "source": [
                "df_.head()"
            ]
        },
        {
            "cell_type": "markdown",
            "metadata": {},
            "source": [
                "<a id='primetime'></a>"
            ]
        },
        {
            "cell_type": "code",
            "execution_count": null,
            "metadata": {},
            "outputs": [],
            "source": [
                "t = df_.index\n",
                "t_prime = ps._prime(t, unit='time', U=df['U'])\n",
                "\n",
                "fig,ax=plt.subplots()\n",
                "ax.plot(t, t_prime)\n",
                "ax.set_xlabel('$t$')\n",
                "ax.set_ylabel(\"$t'$\");\n"
            ]
        },
        {
            "cell_type": "markdown",
            "metadata": {},
            "source": [
                "## Prime simulation\n",
                "<a id='primesimulation'></a>"
            ]
        },
        {
            "cell_type": "code",
            "execution_count": null,
            "metadata": {},
            "outputs": [],
            "source": [
                "interesting = [\n",
                "    'u', \n",
                "    'v', \n",
                "    'r',\n",
                "    'U',\n",
                "    'x0',\n",
                "    'y0',\n",
                "    'psi',\n",
                "    'delta',\n",
                "    'beta',\n",
                "]\n",
                "df_ = df[interesting].copy()\n",
                "df_ = ps.prime(df_, U=df['U'])\n",
                "df_.index=t_prime\n",
                "\n",
                "\n",
                "#t = df_.index\n",
                "#control = df_[['delta']]\n",
                "#control = {'delta':0,}\n",
                "\n",
                "\n",
                "parameters = dict(df_parameters['prime'])\n",
                "\n",
                "df_0 = df_.iloc[0]\n",
                "y0 = {\n",
                "    'u' : df_0['u'], \n",
                "    'v' : df_0['v'],\n",
                "    'r' : df_0['r'],\n",
                "    'x0' : df_0['x0'],\n",
                "    'y0' : df_0['y0'],\n",
                "    'psi' : df_0['psi'],\n",
                "    }\n",
                "\n",
                "#solution = model.simulate(y0=y0, t=t, df_parameters=df_parameters, df_ship_parameters=df_ship_parameters, control=control, rtol=1e-3, atol=1e-3)\n",
                "result = model.simulator.simulate(df_=df_, parameters=parameters, ship_parameters=ship_parameters_prime, \n",
                "                                  control_keys=['delta'])\n",
                "result.plot_compare()"
            ]
        },
        {
            "cell_type": "code",
            "execution_count": null,
            "metadata": {},
            "outputs": [],
            "source": [
                "result.result"
            ]
        },
        {
            "cell_type": "markdown",
            "metadata": {},
            "source": [
                "### Go back to SI"
            ]
        },
        {
            "cell_type": "code",
            "execution_count": null,
            "metadata": {},
            "outputs": [],
            "source": [
                "t_prime = result.result.index\n",
                "t = df.index\n",
                "fig,ax=plt.subplots()\n",
                "ax.plot(t,t_prime)"
            ]
        },
        {
            "cell_type": "code",
            "execution_count": null,
            "metadata": {},
            "outputs": [],
            "source": [
                "U_ = t_prime/t*ship_parameters['L']\n",
                "fig,ax=plt.subplots()\n",
                "ax.plot(t,U_)\n",
                "df.plot(y='U', ax=ax)"
            ]
        },
        {
            "cell_type": "code",
            "execution_count": null,
            "metadata": {},
            "outputs": [],
            "source": [
                "#result_SI = ps.unprime(result.result, U=df['U'].values)\n",
                "result_SI = ps.unprime(result.result, U=U_)\n",
                "result_SI.index = df.index"
            ]
        },
        {
            "cell_type": "code",
            "execution_count": null,
            "metadata": {},
            "outputs": [],
            "source": [
                "fig,ax = plt.subplots()\n",
                "track_plot(df=df, lpp=ship_parameters['L'], beam=ship_parameters['B'],ax=ax, label='model test')\n",
                "track_plot(df=result_SI, lpp=ship_parameters['L'], beam=ship_parameters['B'],ax=ax, label='simulation', color='green')\n",
                "ax.legend()\n",
                "\n",
                "for key in result_SI:\n",
                "    fig,ax = plt.subplots()\n",
                "    df.plot(y=key, label='model test', ax=ax)\n",
                "    result_SI.plot(y=key, label='simulation', ax=ax)\n",
                "    ax.set_ylabel(key)"
            ]
        },
        {
            "cell_type": "markdown",
            "metadata": {},
            "source": [
                "### Simulation with SI states and prime parameters"
            ]
        },
        {
            "cell_type": "code",
            "execution_count": null,
            "metadata": {},
            "outputs": [],
            "source": [
                "interesting = [\n",
                "    'u', \n",
                "    'v', \n",
                "    'r',\n",
                "    'U',\n",
                "    'x0',\n",
                "    'y0',\n",
                "    'psi',\n",
                "    'delta',\n",
                "    'beta',\n",
                "]\n",
                "df_ = df[interesting].copy()\n",
                "parameters = dict(df_parameters['prime'])\n",
                "\n",
                "df_0 = df_.iloc[0]\n",
                "y0 = {\n",
                "    'u' : df_0['u'], \n",
                "    'v' : df_0['v'],\n",
                "    'r' : df_0['r'],\n",
                "    'x0' : df_0['x0'],\n",
                "    'y0' : df_0['y0'],\n",
                "    'psi' : df_0['psi'],\n",
                "    }\n",
                "\n",
                "result = model.simulator.simulate(df_=df_, parameters=parameters, ship_parameters=ship_parameters, \n",
                "                                  control_keys=['delta'], primed_parameters=True,prime_system=ps)"
            ]
        },
        {
            "cell_type": "code",
            "execution_count": null,
            "metadata": {},
            "outputs": [],
            "source": [
                "result.plot_compare()"
            ]
        },
        {
            "cell_type": "markdown",
            "metadata": {},
            "source": [
                "## Compare simulation approaches"
            ]
        },
        {
            "cell_type": "code",
            "execution_count": null,
            "metadata": {},
            "outputs": [],
            "source": [
                "fig,ax = plt.subplots()\n",
                "track_plot(df=result.result, lpp=ship_parameters['L'], beam=ship_parameters['B'],ax=ax, label='primed parameters')\n",
                "track_plot(df=result_SI, lpp=ship_parameters['L'], beam=ship_parameters['B'],ax=ax, label='simulation', color='green')\n",
                "ax.legend()\n",
                "\n",
                "for key in result_SI:\n",
                "    fig,ax = plt.subplots()\n",
                "    result.result.plot(y=key, label='primed parameters', ax=ax)\n",
                "    result_SI.plot(y=key, label='simulation', ax=ax)\n",
                "    ax.set_ylabel(key)"
            ]
        },
        {
            "cell_type": "code",
            "execution_count": null,
            "metadata": {},
            "outputs": [],
            "source": []
        }
    ],
    "metadata": {
        "kernelspec": {
            "display_name": "Python 3",
            "language": "python",
            "name": "python3"
        },
        "language_info": {
            "codemirror_mode": {
                "name": "ipython",
                "version": 3
            },
            "file_extension": ".py",
            "mimetype": "text/x-python",
            "name": "python",
            "nbconvert_exporter": "python",
            "pygments_lexer": "ipython3",
            "version": "3.9.5"
        }
    },
    "nbformat": 4,
    "nbformat_minor": 4
}