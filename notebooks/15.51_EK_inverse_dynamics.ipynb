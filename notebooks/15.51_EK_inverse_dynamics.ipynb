{
    "cells": [
        {
            "cell_type": "code",
            "execution_count": null,
            "id": "62d9f6a7-aac5-4501-bbd2-98648d4e6da9",
            "metadata": {},
            "outputs": [],
            "source": [
                "# %load imports.py\n",
                "## Local packages:\n",
                "\n",
                "%matplotlib inline\n",
                "%load_ext autoreload\n",
                "%autoreload 2\n",
                "%config Completer.use_jedi = False  ## (To fix autocomplete)\n",
                "\n",
                "## External packages:\n",
                "import pandas as pd\n",
                "pd.options.display.max_rows = 999\n",
                "pd.options.display.max_columns = 999\n",
                "pd.set_option(\"display.max_columns\", None)\n",
                "import numpy as np\n",
                "np.set_printoptions(linewidth=150)\n",
                "\n",
                "import numpy as np\n",
                "import os\n",
                "import matplotlib.pyplot as plt\n",
                "#if os.name == 'nt':\n",
                "#    plt.style.use('presentation.mplstyle')  # Windows\n",
                "\n",
                "import plotly.express as px \n",
                "import plotly.graph_objects as go\n",
                "\n",
                "import seaborn as sns\n",
                "import sympy as sp\n",
                "from sympy.physics.mechanics import (dynamicsymbols, ReferenceFrame,\n",
                "                                      Particle, Point)\n",
                "from sympy.physics.vector.printing import vpprint, vlatex\n",
                "from IPython.display import display, Math, Latex\n",
                "from vessel_manoeuvring_models.substitute_dynamic_symbols import run, lambdify\n",
                "\n",
                "import pyro\n",
                "\n",
                "import sklearn\n",
                "import pykalman\n",
                "from statsmodels.sandbox.regression.predstd import wls_prediction_std\n",
                "import statsmodels.api as sm\n",
                "\n",
                "from scipy.integrate import solve_ivp\n",
                "\n",
                "## Local packages:\n",
                "from vessel_manoeuvring_models.data import mdl\n",
                "\n",
                "from vessel_manoeuvring_models.symbols import *\n",
                "from vessel_manoeuvring_models.parameters import *\n",
                "import vessel_manoeuvring_models.symbols as symbols\n",
                "from vessel_manoeuvring_models import prime_system\n",
                "from vessel_manoeuvring_models.models import regression\n",
                "from vessel_manoeuvring_models.visualization.regression import show_pred\n",
                "from vessel_manoeuvring_models.visualization.plot import track_plot\n",
                "\n",
                "## Load models:\n",
                "# (Uncomment these for faster loading):\n",
                "import vessel_manoeuvring_models.models.vmm_martin  as vmm \n",
                "from vessel_manoeuvring_models.models.vmm import ModelSimulator\n",
                "from example_ship2 import ship_parameters, df_parameters\n",
                "\n",
                "\n",
                "if os.name == 'nt':\n",
                "    plt.style.use('../docs/book/book.mplstyle')  # Windows\n",
                "    \n",
                "from vessel_manoeuvring_models.visualization.plot import track_plot, plot"
            ]
        },
        {
            "cell_type": "code",
            "execution_count": null,
            "id": "f975829c-94f4-41ee-9098-848f9d59fb2d",
            "metadata": {},
            "outputs": [],
            "source": [
                "from vessel_manoeuvring_models.extended_kalman_vmm import ExtendedKalman\n",
                "from vessel_manoeuvring_models.models.regression import MotionRegression"
            ]
        },
        {
            "cell_type": "markdown",
            "id": "0b7dbe06-fdb1-4057-b154-125329468f55",
            "metadata": {},
            "source": [
                "## Load test"
            ]
        },
        {
            "cell_type": "code",
            "execution_count": null,
            "id": "0575d668-f691-466d-9e3f-2b350ee18acc",
            "metadata": {
                "tags": [
                    "remove-input"
                ]
            },
            "outputs": [],
            "source": [
                "id=22773\n",
                "df, units, meta_data = mdl.load(dir_path = '../data/raw', id=id)\n",
                "df.index = df.index.total_seconds()\n",
                "df.index-=df.index[0]\n",
                "df['x0']-=df.iloc[0]['x0']\n",
                "df['y0']-=df.iloc[0]['y0']\n",
                "#df['psi']-=df.iloc[0]['psi']\n"
            ]
        },
        {
            "cell_type": "code",
            "execution_count": null,
            "id": "b5721044-24dd-43e6-a01d-3fdc13aaa22b",
            "metadata": {},
            "outputs": [],
            "source": [
                "fig,ax=plt.subplots()\n",
                "fig.set_size_inches(10,10)\n",
                "track_plot(df=df, lpp=meta_data.lpp, x_dataset='x0', y_dataset='y0',  psi_dataset='psi', beam=meta_data.beam, ax=ax);"
            ]
        },
        {
            "cell_type": "markdown",
            "id": "0aaee5f7-814d-450a-9895-5041b401ad68",
            "metadata": {},
            "source": [
                "## Filtering"
            ]
        },
        {
            "cell_type": "markdown",
            "id": "859c70c9-6653-419b-9685-1d5fd24c9588",
            "metadata": {},
            "source": [
                "### Lowpass filter"
            ]
        },
        {
            "cell_type": "code",
            "execution_count": null,
            "id": "82846333-2fd5-4e9b-8d65-8e244e6f7851",
            "metadata": {},
            "outputs": [],
            "source": [
                "from numpy import cos as cos\n",
                "from numpy import sin as sin\n",
                "from vessel_manoeuvring_models.data.lowpass_filter import lowpass_filter\n",
                "\n",
                "df_lowpass = df.copy()\n",
                "t = df_lowpass.index\n",
                "ts = np.mean(np.diff(t))\n",
                "fs = 1/ts\n",
                "\n",
                "position_keys = ['x0','y0','psi']\n",
                "for key in position_keys:\n",
                "    df_lowpass[key] = lowpass_filter(data=df_lowpass[key], fs=fs, cutoff=1, order=1)\n",
                "\n",
                "df_lowpass['x01d_gradient'] = x1d_ = np.gradient(df_lowpass['x0'], t)\n",
                "df_lowpass['y01d_gradient'] = y1d_ = np.gradient(df_lowpass['y0'], t)\n",
                "df_lowpass['r'] = r_ = np.gradient(df_lowpass['psi'], t)\n",
                "\n",
                "psi_ = df_lowpass['psi']\n",
                "\n",
                "df_lowpass['u'] = x1d_*cos(psi_) + y1d_*sin(psi_)\n",
                "df_lowpass['v'] = -x1d_*sin(psi_) + y1d_*cos(psi_)\n",
                "\n",
                "velocity_keys = ['u','v','r']\n",
                "for key in velocity_keys:\n",
                "    df_lowpass[key] = lowpass_filter(data=df_lowpass[key], fs=fs, cutoff=1, order=1)"
            ]
        },
        {
            "cell_type": "code",
            "execution_count": null,
            "id": "86d3a1e4-0891-4344-8b1e-62a5635505a8",
            "metadata": {},
            "outputs": [],
            "source": [
                "data = df.copy()\n",
                "data['thrust'] = data['Prop/PS/Thrust'] + data['Prop/SB/Thrust']\n",
                "\n",
                "data['u'] = df_lowpass['u']\n",
                "data['v'] = df_lowpass['v']\n",
                "data['r'] = df_lowpass['r']\n",
                "data=data.iloc[200:-100]\n",
                "data.index-=data.index[0]"
            ]
        },
        {
            "cell_type": "markdown",
            "id": "a68ad232-42d5-43c7-951e-a6d69eac86c1",
            "metadata": {},
            "source": [
                "### Extended Kalman filter"
            ]
        },
        {
            "cell_type": "code",
            "execution_count": null,
            "id": "dddfd5c5-17aa-4837-9f18-bf2f42e3bae5",
            "metadata": {},
            "outputs": [],
            "source": [
                "parameters = df_parameters[\"prime\"].copy()\n",
                "ek = ExtendedKalman(vmm=vmm, \n",
                "                    parameters=parameters, \n",
                "                    ship_parameters=ship_parameters)\n"
            ]
        },
        {
            "cell_type": "markdown",
            "id": "e5145d88-fb1f-4762-b8b5-13622e383b35",
            "metadata": {},
            "source": [
                "#### Simulate with system model"
            ]
        },
        {
            "cell_type": "code",
            "execution_count": null,
            "id": "8d7fc149-483c-4e7c-ba05-762ffd321491",
            "metadata": {},
            "outputs": [],
            "source": [
                "E = np.array([\n",
                "    [0,0,0],\n",
                "    [0,0,0],\n",
                "    [0,0,0],\n",
                "    [1,0,0],\n",
                "    [0,1,0],\n",
                "    [0,0,1],\n",
                "    ],\n",
                ")\n",
                "\n",
                "t = np.linspace(0,10,100)\n",
                "data_ = pd.DataFrame(index=t)\n",
                "data_['delta'] = 0.0\n",
                "data_['thrust'] = 20\n",
                "data_['x0'] = 0\n",
                "data_['y0'] = 0\n",
                "data_['psi'] = 0\n",
                "data_['u'] = 2\n",
                "data_['v'] = 0\n",
                "data_['r'] = 0\n",
                "\n",
                "ek.simulate(data=data, input_columns=['delta','thrust'], \n",
                "            E=E).tail()"
            ]
        },
        {
            "cell_type": "code",
            "execution_count": null,
            "id": "0fa71187-a78e-4b05-99b9-fa5f18739b41",
            "metadata": {},
            "outputs": [],
            "source": [
                "data_frames = {'data':data, 'sim':ek.df_simulation}\n",
                "\n",
                "fig,ax=plt.subplots()\n",
                "styles = {\n",
                "    'Mesurement' : {\n",
                "        'linestyle' : '',\n",
                "        'marker' : '.',\n",
                "        'ms' : 1,\n",
                "        'zorder':-10,\n",
                "    },\n",
                "    \n",
                "    'Kalman filter' : {\n",
                "        'lw' : 2,\n",
                "    },\n",
                "    \n",
                "    \n",
                "}\n",
                "\n",
                "for label,df_ in data_frames.items():\n",
                "    track_plot(\n",
                "            df=df_,\n",
                "            lpp=ship_parameters[\"L\"],\n",
                "            beam=ship_parameters[\"B\"],\n",
                "            ax=ax,\n",
                "            label=label,\n",
                "            plot_boats=True,\n",
                "            **styles.get(label,{})\n",
                "        );\n",
                "ax.legend()\n",
                "\n",
                "plot(data_frames, keys=ek.df_simulation.columns);"
            ]
        },
        {
            "cell_type": "markdown",
            "id": "733b92cf-6408-41a2-b49e-ee51ff8b1787",
            "metadata": {},
            "source": [
                "### Extended Kalman filter and RTS smoother"
            ]
        },
        {
            "cell_type": "code",
            "execution_count": null,
            "id": "db71ffb7-004d-4324-ab06-8f7daf5f5372",
            "metadata": {},
            "outputs": [],
            "source": [
                "Cd = np.array([\n",
                "    [1, 0, 0, 0, 0, 0],\n",
                "    [0, 1, 0, 0, 0, 0],\n",
                "    [0, 0, 1, 0, 0, 0],\n",
                "])\n",
                "\n",
                "E = np.array([\n",
                "    [0,0,0],\n",
                "    [0,0,0],\n",
                "    [0,0,0],\n",
                "    [1,0,0],\n",
                "    [0,1,0],\n",
                "    [0,0,1],\n",
                "    ],\n",
                ")\n",
                "\n",
                "P_prd = np.diag([0.1, 0.1, np.deg2rad(0.01), 0.01, 0.01, np.deg2rad(0.01)])\n",
                "Qd = np.diag([0.01, 0.01, np.deg2rad(0.01)])  #process variances: u,v,r\n",
                "\n",
                "error_max_pos = 0.1\n",
                "sigma_pos = error_max_pos/3\n",
                "variance_pos = sigma_pos**2\n",
                "\n",
                "error_max_psi = np.deg2rad(0.1)\n",
                "sigma_psi = error_max_psi/3\n",
                "variance_psi = sigma_psi**2\n",
                "\n",
                "Rd = np.diag([variance_pos, variance_pos, variance_psi])\n",
                "\n",
                "ek.filter(\n",
                "        data=data, P_prd=P_prd, Qd=Qd, Rd=Rd, E=E, Cd=Cd, \n",
                "        input_columns=['delta','thrust'],\n",
                "    )\n",
                "\n",
                "\n",
                "ek.smoother();"
            ]
        },
        {
            "cell_type": "code",
            "execution_count": null,
            "id": "251554e1-2f96-4243-8c99-8f60d0ef7f7d",
            "metadata": {},
            "outputs": [],
            "source": [
                "dataframes = {\n",
                "    'Mesurement' : data,\n",
                "    #'Kalman filter' : ek.df_kalman,\n",
                "    'RTS': ek.df_smooth,\n",
                "}\n",
                "\n",
                "styles = {\n",
                "    'Mesurement' : {\n",
                "        'linestyle' : '',\n",
                "        'marker' : '.',\n",
                "        'ms' : 1,\n",
                "        'zorder':-10,\n",
                "    },\n",
                "    \n",
                "    'Kalman filter' : {\n",
                "        'lw' : 2,\n",
                "    },\n",
                "    \n",
                "    \n",
                "}\n",
                "\n",
                "plot(dataframes = dataframes, \n",
                "     fig_size=(10,10), \n",
                "     styles = ['r-','g-','b-'],\n",
                "     keys=['x0','y0','psi','u','v','r','u1d','v1d','r1d']);"
            ]
        },
        {
            "cell_type": "markdown",
            "id": "53c178fa-7db8-46dc-8bce-56ec4a527c09",
            "metadata": {},
            "source": [
                "## Inverse dynamics PIT"
            ]
        },
        {
            "cell_type": "code",
            "execution_count": null,
            "id": "7e595f07-5759-4baf-92e1-decf4ba7be80",
            "metadata": {},
            "outputs": [],
            "source": [
                "added_masses = df_parameters.groupby(by='state').get_group('dot')['prime'].dropna().to_dict()\n",
                "added_masses"
            ]
        },
        {
            "cell_type": "code",
            "execution_count": null,
            "id": "527f4fed-3cc4-46b1-a679-98856b9d9a3e",
            "metadata": {},
            "outputs": [],
            "source": [
                "regression = MotionRegression(vmm=vmm, data=ek.df_smooth, added_masses=added_masses, ship_parameters=ship_parameters, \n",
                "                             base_features=[u,v,r,delta,thrust], exclude_parameters={'Xthrust':1})\n",
                "\n",
                "#regression = MotionRegression(vmm=vmm, data=ek.df_smooth, added_masses=added_masses, ship_parameters=ship_parameters, \n",
                "#                              base_features=[u,v,r,delta,thrust])"
            ]
        },
        {
            "cell_type": "code",
            "execution_count": null,
            "id": "14e499cc-b5d9-4491-8abc-cf2fdecf3c27",
            "metadata": {},
            "outputs": [],
            "source": [
                "ship_parameters_prime = regression.ps.prime(regression.ship_parameters)"
            ]
        },
        {
            "cell_type": "code",
            "execution_count": null,
            "id": "03a7f337-578e-42ff-ac96-3b0d4a4bb431",
            "metadata": {},
            "outputs": [],
            "source": [
                "regression.added_masses"
            ]
        },
        {
            "cell_type": "code",
            "execution_count": null,
            "id": "8d336656-0087-412d-bf39-d403ba3dad3f",
            "metadata": {},
            "outputs": [],
            "source": [
                "ship_parameters_prime['m'] - regression.added_masses['Xudot']"
            ]
        },
        {
            "cell_type": "code",
            "execution_count": null,
            "id": "9dc522e0-3908-47f6-a73a-863880230dd3",
            "metadata": {},
            "outputs": [],
            "source": [
                "regression.show()"
            ]
        },
        {
            "cell_type": "code",
            "execution_count": null,
            "id": "59093d5e-a7bd-4547-a637-2041076fa44c",
            "metadata": {},
            "outputs": [],
            "source": [
                "model = regression.create_model(control_keys=['delta','thrust'])"
            ]
        },
        {
            "cell_type": "code",
            "execution_count": null,
            "id": "4de7291c-fb2f-4f67-b5c2-1ce2216c75a5",
            "metadata": {},
            "outputs": [],
            "source": [
                "result_regression = model.simulate(df_=ek.df_smooth)"
            ]
        },
        {
            "cell_type": "code",
            "execution_count": null,
            "id": "f9f24f44-a30e-41a2-a57a-0d087f3b95c7",
            "metadata": {},
            "outputs": [],
            "source": [
                "result_regression.track_plot(compare=True);"
            ]
        },
        {
            "cell_type": "code",
            "execution_count": null,
            "id": "b109cf42-b157-4812-8e3f-4e7f2be63671",
            "metadata": {},
            "outputs": [],
            "source": [
                "result_regression.plot(compare=True);"
            ]
        },
        {
            "cell_type": "code",
            "execution_count": null,
            "id": "31f8936b-d1ee-4d4a-9049-e6fac74d8bfb",
            "metadata": {},
            "outputs": [],
            "source": [
                "X = regression.X_X\n",
                "\n",
                "#X = sm.add_constant(X)\n",
                "\n",
                "model_N = sm.OLS(regression.y_X, X, hasconst=True)\n",
                "result = model_N.fit()\n",
                "result.summary()"
            ]
        },
        {
            "cell_type": "code",
            "execution_count": null,
            "id": "da357219-5cfd-4b82-9aa9-c9b10be90b49",
            "metadata": {},
            "outputs": [],
            "source": [
                "coefficients = regression.diff_eq_X.get_coefficients()\n",
                "coefficients"
            ]
        },
        {
            "cell_type": "code",
            "execution_count": null,
            "id": "8cbe40e8-5d9e-4596-bedb-a512ab9cf90c",
            "metadata": {},
            "outputs": [],
            "source": [
                "coefficients0 = list(set(coefficients) - set([p.Xthrust]))\n",
                "subs = [(coeff,0) for coeff in coefficients0]"
            ]
        },
        {
            "cell_type": "code",
            "execution_count": null,
            "id": "d7ed4f66-4325-4503-b37d-7e52f370646c",
            "metadata": {},
            "outputs": [],
            "source": [
                "eq_exclude = regression.diff_eq_X.acceleration_equation.subs(subs)\n",
                "eq_exclude"
            ]
        },
        {
            "cell_type": "code",
            "execution_count": null,
            "id": "ce37775b-70d3-4be8-b3b3-1bbf4df8026c",
            "metadata": {},
            "outputs": [],
            "source": [
                "subs = {value: key for key, value in p.items()}\n",
                "lambda_exclude = lambdify(eq_exclude.rhs.subs(subs))\n",
                "lambda_exclude"
            ]
        },
        {
            "cell_type": "code",
            "execution_count": null,
            "id": "c33f950a-5ba3-4d76-a1fe-9c606e6ed796",
            "metadata": {},
            "outputs": [],
            "source": [
                "X"
            ]
        },
        {
            "cell_type": "code",
            "execution_count": null,
            "id": "8a11baeb-66c2-4b9f-a816-a73802f0811f",
            "metadata": {},
            "outputs": [],
            "source": []
        },
        {
            "cell_type": "code",
            "execution_count": null,
            "id": "308c4d3b-d4b5-430a-9e71-3f2b902e77e3",
            "metadata": {},
            "outputs": [],
            "source": []
        }
    ],
    "metadata": {
        "kernelspec": {
            "display_name": "Python 3",
            "language": "python",
            "name": "python3"
        },
        "language_info": {
            "codemirror_mode": {
                "name": "ipython",
                "version": 3
            },
            "file_extension": ".py",
            "mimetype": "text/x-python",
            "name": "python",
            "nbconvert_exporter": "python",
            "pygments_lexer": "ipython3",
            "version": "3.9.5"
        }
    },
    "nbformat": 4,
    "nbformat_minor": 5
}