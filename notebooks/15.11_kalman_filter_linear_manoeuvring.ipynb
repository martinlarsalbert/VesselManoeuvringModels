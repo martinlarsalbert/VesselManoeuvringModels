{
    "cells": [
        {
            "cell_type": "markdown",
            "metadata": {},
            "source": [
                "# Multivariate Kalman filter on linear manoeuvring data"
            ]
        },
        {
            "cell_type": "markdown",
            "metadata": {},
            "source": [
                "# Purpose\n",
                "* implementation of multivariate kalman filter inspired by: [https://github.com/rlabbe/Kalman-and-Bayesian-Filters-in-Python/blob/master/06-Multivariate-Kalman-Filters.ipynb](https://github.com/rlabbe/Kalman-and-Bayesian-Filters-in-Python/blob/master/06-Multivariate-Kalman-Filters.ipynb)"
            ]
        },
        {
            "cell_type": "markdown",
            "metadata": {},
            "source": [
                "# Methodology\n",
                "* Implement a kalman filter to chase a ship at unsteady velocity"
            ]
        },
        {
            "cell_type": "markdown",
            "metadata": {},
            "source": [
                "# Setup"
            ]
        },
        {
            "cell_type": "code",
            "execution_count": null,
            "metadata": {},
            "outputs": [],
            "source": [
                "# %load imports.py\n",
                "## Local packages:\n",
                "\n",
                "%matplotlib inline\n",
                "%load_ext autoreload\n",
                "%autoreload 2\n",
                "%config Completer.use_jedi = False  ## (To fix autocomplete)\n",
                "\n",
                "## External packages:\n",
                "import pandas as pd\n",
                "pd.options.display.max_rows = 999\n",
                "pd.options.display.max_columns = 999\n",
                "pd.set_option(\"display.max_columns\", None)\n",
                "\n",
                "import numpy as np\n",
                "import os\n",
                "import matplotlib.pyplot as plt\n",
                "#if os.name == 'nt':\n",
                "#    plt.style.use('presentation.mplstyle')  # Windows\n",
                "\n",
                "import plotly.express as px \n",
                "import plotly.graph_objects as go\n",
                "\n",
                "import seaborn as sns\n",
                "import sympy as sp\n",
                "from sympy.physics.mechanics import (dynamicsymbols, ReferenceFrame,\n",
                "                                      Particle, Point)\n",
                "from sympy.physics.vector.printing import vpprint, vlatex\n",
                "from IPython.display import display, Math, Latex\n",
                "from vessel_manoeuvring_models.substitute_dynamic_symbols import run, lambdify\n",
                "\n",
                "import pyro\n",
                "\n",
                "import sklearn\n",
                "import pykalman\n",
                "from statsmodels.sandbox.regression.predstd import wls_prediction_std\n",
                "import statsmodels.api as sm\n",
                "\n",
                "from scipy.integrate import solve_ivp\n",
                "\n",
                "## Local packages:\n",
                "from vessel_manoeuvring_models.data import mdl\n",
                "\n",
                "from vessel_manoeuvring_models.symbols import *\n",
                "from vessel_manoeuvring_models.parameters import *\n",
                "import vessel_manoeuvring_models.symbols as symbols\n",
                "from vessel_manoeuvring_models import prime_system\n",
                "from vessel_manoeuvring_models.models import regression\n",
                "from vessel_manoeuvring_models.visualization.regression import show_pred\n",
                "from vessel_manoeuvring_models.visualization.plot import track_plot\n",
                "\n",
                "## Load models:\n",
                "# (Uncomment these for faster loading):\n",
                "import vessel_manoeuvring_models.models.vmm_linear  as vmm\n",
                "from vessel_manoeuvring_models.data.case_0 import ship_parameters, df_parameters, ps, ship_parameters_prime\n",
                "from vessel_manoeuvring_models.data.transform import transform_to_ship\n",
                "\n",
                "from scipy.stats import norm\n",
                "import filterpy.stats as stats\n",
                "from filterpy.common import Q_discrete_white_noise\n",
                "from filterpy.kalman import KalmanFilter\n",
                "np.set_printoptions(linewidth=150)\n",
                "\n",
                "from numpy import zeros,dot\n",
                "from numpy.linalg import inv"
            ]
        },
        {
            "cell_type": "markdown",
            "metadata": {},
            "source": [
                "## Generate some data"
            ]
        },
        {
            "cell_type": "code",
            "execution_count": null,
            "metadata": {},
            "outputs": [],
            "source": [
                "mask = df_parameters['prime'].notnull()\n",
                "index = df_parameters.loc[mask,'prime'].index\n",
                "coefficients=vmm.simulator.get_all_coefficients(sympy_symbols=False)\n",
                "missing_coefficients = set(coefficients) - set(index)\n",
                "missing_coefficients"
            ]
        },
        {
            "cell_type": "code",
            "execution_count": null,
            "metadata": {},
            "outputs": [],
            "source": [
                "mask = df_parameters['prime'].notnull()\n",
                "df_parameters.loc[mask,'prime']"
            ]
        },
        {
            "cell_type": "markdown",
            "metadata": {},
            "source": [
                "## Simulate data"
            ]
        },
        {
            "cell_type": "code",
            "execution_count": null,
            "metadata": {},
            "outputs": [],
            "source": [
                "parameters=df_parameters['prime'].copy()\n",
                "\n",
                "t_ = np.arange(0,4,0.01)\n",
                "df_ = pd.DataFrame(index=t_)\n",
                "\n",
                "df_['u'] = 1\n",
                "df_['v'] = 0\n",
                "df_['r'] = 0\n",
                "df_['x0'] = 0\n",
                "df_['y0'] = 0\n",
                "df_['psi'] = 0\n",
                "df_['U'] = np.sqrt(df_['u']**2 + df_['v']**2)\n",
                "df_['beta'] = -np.arctan2(df_['v'],df_['u'])\n",
                "df_['delta'] = np.deg2rad(20)\n",
                "\n",
                "## Simulation in prime system!\n",
                "result = vmm.simulator.simulate(df_=df_, parameters=parameters, ship_parameters=ship_parameters_prime, \n",
                "                                control_keys=['delta'], primed_parameters=False,\n",
                "                                prime_system=ps, method='Radau')\n",
                "df_result=result.result.copy()"
            ]
        },
        {
            "cell_type": "code",
            "execution_count": null,
            "metadata": {},
            "outputs": [],
            "source": [
                "result.track_plot(compare=False)\n",
                "result.plot(compare=False);"
            ]
        },
        {
            "cell_type": "markdown",
            "metadata": {},
            "source": [
                "## Measurement noise"
            ]
        },
        {
            "cell_type": "code",
            "execution_count": null,
            "metadata": {},
            "outputs": [],
            "source": [
                "df_measure = df_result.copy()\n",
                "df_measure['u1d'] = np.NaN\n",
                "df_measure['v1d'] = np.NaN\n",
                "df_measure['r1d'] = np.NaN\n",
                "\n",
                "R_u_var = ((df_measure['u'].abs().max())/30)**2\n",
                "R_v_var = ((df_measure['v'].abs().max())/30)**2\n",
                "R_r_var = ((df_measure['r'].abs().max())/30)**2\n",
                "\n",
                "\n",
                "df_measure['R_u'] = np.random.normal(loc=0, scale=np.sqrt(R_u_var), size=len(df_measure))  # measurement noise\n",
                "df_measure['R_v'] = np.random.normal(loc=0, scale=np.sqrt(R_v_var), size=len(df_measure))  # measurement noise\n",
                "df_measure['R_r'] = np.random.normal(loc=0, scale=np.sqrt(R_r_var), size=len(df_measure))  # measurement noise\n",
                "\n",
                "Q_var = 0.00001\n",
                "\n",
                "df_measure['Q'] = np.random.normal(loc=0, scale=np.sqrt(Q_var), size=len(df_measure))  # process noise              \n",
                "\n",
                "df_measure['u']+=(df_measure['R_u']+df_measure['Q']) \n",
                "df_measure['v']+=(df_measure['R_v']+df_measure['Q']) \n",
                "df_measure['r']+=(df_measure['R_r']+df_measure['Q']) \n"
            ]
        },
        {
            "cell_type": "code",
            "execution_count": null,
            "metadata": {
                "tags": [
                    "remove-input"
                ]
            },
            "outputs": [],
            "source": [
                "A = vmm.simulator.A\n",
                "b = vmm.simulator.b\n",
                "acceleration = sp.matrices.MutableDenseMatrix([u1d,v1d,r1d])\n",
                "eq_simulator = sp.Eq(sp.UnevaluatedExpr(A)*sp.UnevaluatedExpr(acceleration),sp.UnevaluatedExpr(b))\n",
                "Math(vlatex(eq_simulator))"
            ]
        },
        {
            "cell_type": "code",
            "execution_count": null,
            "metadata": {
                "tags": [
                    "remove-input"
                ]
            },
            "outputs": [],
            "source": [
                "A_inv = A.inv()\n",
                "S = sp.symbols('S')\n",
                "eq_S=sp.Eq(S,-sp.fraction(A_inv[1,1])[1])\n",
                "\n",
                "A_inv_S = A_inv.subs(eq_S.rhs,S)\n",
                "eq_acceleration_matrix_clean = sp.Eq(sp.UnevaluatedExpr(acceleration),sp.UnevaluatedExpr(A_inv_S)*sp.UnevaluatedExpr(b))\n",
                "Math(vlatex(eq_acceleration_matrix_clean))"
            ]
        },
        {
            "cell_type": "code",
            "execution_count": null,
            "metadata": {},
            "outputs": [],
            "source": [
                "eq_S"
            ]
        },
        {
            "cell_type": "code",
            "execution_count": null,
            "metadata": {},
            "outputs": [],
            "source": [
                "eq_acceleration_matrix_clean_specific = eq_acceleration_matrix_clean.subs([\n",
                "    (X_qs, vmm.simulator.X_qs_eq.rhs),\n",
                "    (Y_qs, vmm.simulator.Y_qs_eq.rhs),\n",
                "    (N_qs, vmm.simulator.N_qs_eq.rhs),\n",
                "])\n",
                "\n",
                "Math(vlatex(eq_acceleration_matrix_clean_specific))"
            ]
        },
        {
            "cell_type": "code",
            "execution_count": null,
            "metadata": {},
            "outputs": [],
            "source": [
                "u_,v_,r_,u1d,v1d,r1d,delta_ = sp.symbols('u v r u1d v1d r1d delta')\n",
                "\n",
                "subs = [\n",
                "\n",
                "    (u1d,u1d),\n",
                "    (v1d,v1d),\n",
                "    (r1d,r1d),\n",
                "    \n",
                "    (u,u_),\n",
                "    (v,v_),\n",
                "    (r,r_),\n",
                "    (delta,0),\n",
                "\n",
                "\n",
                "]\n",
                "\n",
                "A,b = sp.linear_eq_to_matrix(eq_acceleration_matrix_clean_specific.doit().subs(subs).rhs,\n",
                "                       [u_,v_,r_])"
            ]
        },
        {
            "cell_type": "code",
            "execution_count": null,
            "metadata": {},
            "outputs": [],
            "source": [
                "A"
            ]
        },
        {
            "cell_type": "code",
            "execution_count": null,
            "metadata": {},
            "outputs": [],
            "source": [
                "subs = [\n",
                "\n",
                "    (u1d,u1d),\n",
                "    (v1d,v1d),\n",
                "    (r1d,r1d),\n",
                "    \n",
                "    (u,0),\n",
                "    (v,0),\n",
                "    (r,0),\n",
                "    (delta,delta_),\n",
                "\n",
                "\n",
                "]\n",
                "B,b = sp.linear_eq_to_matrix(eq_acceleration_matrix_clean_specific.doit().subs(subs).rhs,\n",
                "                       [delta_])\n",
                "#B=sp.Matrix.vstack(B*symbols.dt,B)\n",
                "B=sp.Matrix.vstack(sp.zeros(3,1),B)"
            ]
        },
        {
            "cell_type": "code",
            "execution_count": null,
            "metadata": {},
            "outputs": [],
            "source": [
                "B"
            ]
        },
        {
            "cell_type": "code",
            "execution_count": null,
            "metadata": {},
            "outputs": [],
            "source": [
                "F = sp.Matrix.vstack(\n",
                "    sp.Matrix.hstack(sp.eye(3),symbols.dt*sp.eye(3)),\n",
                "    sp.Matrix.hstack(A,sp.zeros(3))\n",
                ")  # transition matrix\n",
                "F"
            ]
        },
        {
            "cell_type": "code",
            "execution_count": null,
            "metadata": {},
            "outputs": [],
            "source": [
                "subs = {value:key for key,value in p.items()}\n",
                "A_lambda = lambdify(A.subs(subs))\n",
                "\n",
                "F_lambda = lambdify(F.subs(subs))\n",
                "\n",
                "subs = {value:key for key,value in p.items()}\n",
                "B_lambda = lambdify(B.subs(subs))\n",
                "\n",
                "S_lambda = lambdify(eq_S.rhs.subs(subs))"
            ]
        },
        {
            "cell_type": "code",
            "execution_count": null,
            "metadata": {},
            "outputs": [],
            "source": [
                "df = df_measure"
            ]
        },
        {
            "cell_type": "code",
            "execution_count": null,
            "metadata": {},
            "outputs": [],
            "source": [
                "parameters=df_parameters['prime'].copy()\n",
                "mask = parameters.notnull()\n",
                "\n",
                "values = parameters.loc[mask]\n",
                "parameters.loc[mask]+=0.01*values*np.random.rand(len(values))  # add some noise to the parameters\n",
                "mask=(parameters==0)\n",
                "parameters.loc[mask]=0.00001"
            ]
        },
        {
            "cell_type": "code",
            "execution_count": null,
            "metadata": {},
            "outputs": [],
            "source": [
                "mask = parameters.notnull()\n",
                "parameters.loc[mask]"
            ]
        },
        {
            "cell_type": "code",
            "execution_count": null,
            "metadata": {},
            "outputs": [],
            "source": [
                "U_ = float(df.iloc[0]['U'])\n",
                "dt_ = df.index[1] - df.index[0]\n",
                "S_ = run(S_lambda, inputs=parameters, **ship_parameters_prime)\n",
                "F_ = run(F_lambda, inputs=parameters, **ship_parameters_prime, S=S_, U=U_, dt=dt_)\n",
                "B_ = run(B_lambda, inputs=parameters, **ship_parameters_prime, S=S_, U=U_, dt=dt_)\n",
                "A_ = run(A_lambda, inputs=parameters, **ship_parameters_prime, S=S_, U=U_, dt=dt_)"
            ]
        },
        {
            "cell_type": "code",
            "execution_count": null,
            "metadata": {},
            "outputs": [],
            "source": [
                "F_"
            ]
        },
        {
            "cell_type": "code",
            "execution_count": null,
            "metadata": {},
            "outputs": [],
            "source": [
                "B_"
            ]
        },
        {
            "cell_type": "code",
            "execution_count": null,
            "metadata": {},
            "outputs": [],
            "source": [
                "np.eye(3,3) + A_*dt_ + (A_*dt_)**2/np.math.factorial(2) + (A_*dt_)**3/np.math.factorial(3)"
            ]
        },
        {
            "cell_type": "markdown",
            "metadata": {},
            "source": [
                "## Kalman filtering"
            ]
        },
        {
            "cell_type": "code",
            "execution_count": null,
            "metadata": {},
            "outputs": [],
            "source": [
                "from scipy.linalg import inv\n",
                "\n",
                "def predict(F,x,B,u):\n",
                "    x = F @ x + B.dot(u)\n",
                "    return x\n",
                "\n",
                "def filter2(zs, x,us,P,F,H,R,Q,B):\n",
                "\n",
                "    xs, cov = [], []\n",
                "    for z,u in zip(zs,us):\n",
                "        \n",
                "        z = z.reshape(len(z),1)\n",
                "        \n",
                "        # predict\n",
                "        x = predict(F=F,x=x,B=B,u=u)\n",
                "        P = F @ P @ F.T + Q\n",
                "        \n",
                "        #update\n",
                "        S = H @ P @ H.T + R\n",
                "        K = P @ H.T @ inv(S)\n",
                "        y = z - H @ x\n",
                "        x += K @ y\n",
                "        P = P - K @ H @ P\n",
                "        \n",
                "        xs.append(x)\n",
                "        cov.append(P)\n",
                "    \n",
                "    xs, cov = np.array(xs), np.array(cov)\n",
                "    return xs, cov"
            ]
        },
        {
            "cell_type": "code",
            "execution_count": null,
            "metadata": {},
            "outputs": [],
            "source": [
                "x=np.array([list(df.iloc[0][['u','v','r']].values) + [0,0,0]]).T  # state mean\n",
                "\n",
                "state_keys = ['u','v','r','u1d','v1d','r1d']\n",
                "\n",
                "est_cov = (df_result[state_keys].abs().max()/3)**2\n",
                "mask = est_cov==0\n",
                "est_cov[mask] = np.mean(est_cov)\n",
                "\n",
                "P = np.diag(est_cov)         # state covariance\n",
                "\n",
                "F = F_       # measurement function         # transition matrix\n",
                "\n",
                "H = np.concatenate([np.eye(3),np.zeros((3,3))],axis=1)       # measurement function\n",
                "R_var = 100\n",
                "R = np.diag(((df[['u','v','r']].abs().max()/3)**2).values)        # measurement covariance\n",
                "Q = 0  # process covariance\n",
                "B = B_     # control transition matrix\n",
                "\n",
                "zs=df[['u','v','r']].values\n",
                "\n",
                "us= df['delta'].values\n",
                "#us=np.zeros(len(df))"
            ]
        },
        {
            "cell_type": "code",
            "execution_count": null,
            "metadata": {},
            "outputs": [],
            "source": [
                "np.linalg.inv(P)"
            ]
        },
        {
            "cell_type": "code",
            "execution_count": null,
            "metadata": {},
            "outputs": [],
            "source": [
                "P.shape"
            ]
        },
        {
            "cell_type": "code",
            "execution_count": null,
            "metadata": {},
            "outputs": [],
            "source": [
                "x"
            ]
        },
        {
            "cell_type": "code",
            "execution_count": null,
            "metadata": {},
            "outputs": [],
            "source": [
                "zs=df[['u','v','r']].values\n",
                "us= df['delta'].values\n",
                "\n",
                "x=np.array([df_result.iloc[0][state_keys].values]).T  # state mean\n",
                "\n",
                "xs, cov = [], []\n",
                "x_prime = np.zeros(x.shape)\n",
                "L_ = ship_parameters['L']\n",
                "\n",
                "for z,u in zip(zs,us):\n",
                "    \n",
                "    z = z.reshape(len(z),1)\n",
                "    \n",
                "    x = predict(F=F,x=x,B=B,u=u)\n",
                "    xs.append(x)\n",
                "   \n",
                "xs = np.array(xs)\n",
                "\n",
                "df_pred = pd.DataFrame(data=xs.reshape((len(df),6)), \n",
                "                       columns=['u','v','r','u1d','v1d','r1d'], index=df.index)"
            ]
        },
        {
            "cell_type": "code",
            "execution_count": null,
            "metadata": {},
            "outputs": [],
            "source": [
                "x=np.array([list(df.iloc[0][['u','v','r']].values) + [0,0,0]]).T  # state mean\n",
                "u_=us[0]\n",
                "predict(F=F,x=x,B=B,u=u_)"
            ]
        },
        {
            "cell_type": "code",
            "execution_count": null,
            "metadata": {},
            "outputs": [],
            "source": [
                "B.dot(u)"
            ]
        },
        {
            "cell_type": "code",
            "execution_count": null,
            "metadata": {},
            "outputs": [],
            "source": [
                "B"
            ]
        },
        {
            "cell_type": "code",
            "execution_count": null,
            "metadata": {},
            "outputs": [],
            "source": [
                "for key in ['u','v','r','u1d','v1d','r1d']:\n",
                "    fig,ax=plt.subplots()\n",
                "    fig.set_size_inches(10,2)\n",
                "    df_result.plot(y=key, ax=ax, label='real')\n",
                "    df_measure.plot(y=key, style='.', ax=ax, label='measurement')\n",
                "    \n",
                "    df_pred.plot(y=key, style='--', ax=ax, label='prediction')\n",
                "    ax.set_ylabel(key)"
            ]
        },
        {
            "cell_type": "code",
            "execution_count": null,
            "metadata": {},
            "outputs": [],
            "source": [
                "x"
            ]
        },
        {
            "cell_type": "code",
            "execution_count": null,
            "metadata": {},
            "outputs": [],
            "source": [
                "#x=np.array([list(df.iloc[0][['u','v','r']].values) + [0,0,0]]).T  # state mean\n",
                "x=np.array([list(df_result.iloc[0][['u','v','r','u1d','v1d','r1d']].values)]).T  # state mean\n",
                "\n",
                "xs,cov=filter2(zs=zs, x=x, us=us, P=P, F=F, H=H, R=R, Q=Q, B=B)\n",
                "df_pred = pd.DataFrame(data=xs.reshape((len(df),6)), \n",
                "                       columns=['u','v','r','u1d','v1d','r1d'], index=df.index)"
            ]
        },
        {
            "cell_type": "code",
            "execution_count": null,
            "metadata": {},
            "outputs": [],
            "source": [
                "for key in ['u','v','r','u1d','v1d','r1d']:\n",
                "    fig,ax=plt.subplots()\n",
                "    fig.set_size_inches(10,2)\n",
                "    df_result.plot(y=key, ax=ax, label='real')\n",
                "    df.plot(y=key, style='.', ax=ax, label='measure')\n",
                "    \n",
                "    df_pred.plot(y=key, style='--', ax=ax, label='filter')\n",
                "    #df_smooth.plot(y=key, style='--', ax=ax, label='smoother')\n",
                "    ax.set_ylabel(key)\n",
                "\n"
            ]
        },
        {
            "cell_type": "code",
            "execution_count": null,
            "metadata": {},
            "outputs": [],
            "source": [
                "Xs = xs.reshape(len(zs),len(x))\n",
                "Ps = cov\n",
                "n = Xs.shape[0]\n",
                "Fs = [F]*n\n",
                "Qs = [Q]*n"
            ]
        },
        {
            "cell_type": "code",
            "execution_count": null,
            "metadata": {},
            "outputs": [],
            "source": [
                "Xs.shape"
            ]
        },
        {
            "cell_type": "code",
            "execution_count": null,
            "metadata": {},
            "outputs": [],
            "source": [
                "def rts_smoother(Xs, Ps, F, Q):\n",
                "    n, dim_x = Xs.shape\n",
                "\n",
                "    # smoother gain\n",
                "    K = zeros((n,dim_x, dim_x))\n",
                "    x, P, Pp = Xs.copy(), Ps.copy(), Ps.copy()\n",
                "\n",
                "    for k in range(n-2,-1,-1):\n",
                "        Pp[k] = F @ P[k] @ F.T + Q # predicted covariance\n",
                "\n",
                "        try:\n",
                "            K[k]  = P[k] @ F.T @inv(Pp[k])\n",
                "        except:\n",
                "            # I don't understand why this happens...\n",
                "            break\n",
                "        \n",
                "        x[k] += K[k] @ (x[k+1] - (F @ x[k]))     \n",
                "        P[k] += K[k] @ (P[k+1] - Pp[k]) @ K[k].T\n",
                "    \n",
                "    return (x, P, K, Pp)"
            ]
        },
        {
            "cell_type": "code",
            "execution_count": null,
            "metadata": {},
            "outputs": [],
            "source": [
                "(x, P, K, Pp) = rts_smoother(Xs=Xs, Ps=Ps, F=F, Q=Q)\n",
                "\n",
                "df_smooth = pd.DataFrame(data=x.reshape((len(df),6)), \n",
                "                       columns=['u','v','r','u1d','v1d','r1d'], index=df.index)"
            ]
        },
        {
            "cell_type": "markdown",
            "metadata": {},
            "source": [
                "## PyKalman"
            ]
        },
        {
            "cell_type": "code",
            "execution_count": null,
            "metadata": {},
            "outputs": [],
            "source": [
                "B"
            ]
        },
        {
            "cell_type": "code",
            "execution_count": null,
            "metadata": {},
            "outputs": [],
            "source": [
                "F2 = np.concatenate([F,B], axis=1)\n",
                "F2 = np.concatenate([F2,np.zeros((1,F2.shape[1]))], axis=0)\n",
                "F2[F2.shape[0]-1,F2.shape[1]-1]=1\n",
                "print(F2)"
            ]
        },
        {
            "cell_type": "code",
            "execution_count": null,
            "metadata": {},
            "outputs": [],
            "source": [
                "H2 = np.concatenate([H,np.zeros((H.shape[0],1))], axis=1)\n",
                "H2 = np.concatenate([H2,np.zeros((1,H2.shape[1]))], axis=0)\n",
                "H2[H2.shape[0]-1,H2.shape[1]-1]=1\n",
                "H2"
            ]
        },
        {
            "cell_type": "code",
            "execution_count": null,
            "metadata": {},
            "outputs": [],
            "source": [
                "delta_ = df.iloc[0]['delta']\n",
                "\n",
                "x=np.array([list(df.iloc[0][['u','v','r']].values) + [0,0,0] + [delta_]]).T  # state mean\n",
                "\n",
                "P2 = np.diag(list((df_result[state_keys].abs().max()/3)**2) + [0])         # state covariance\n",
                "\n",
                "R_var = 100\n",
                "R2 = np.diag(list(((df[['u','v','r']].abs().max()/3)**2).values) + [0])        # measurement covariance\n",
                "\n",
                "Q_var = 0.01\n",
                "Q = 0  # process covariance\n",
                "B = B_         # control transition matrix\n",
                "\n",
                "zs=df[['u','v','r','delta']].values\n",
                "\n",
                "kf = KalmanFilter(transition_matrices=F2,\n",
                "                  #observation_matrices=H2, \n",
                "                  #transition_covariance=Q, \n",
                "                  #observation_covariance=R2,\n",
                "                  initial_state_mean=x[:,0],\n",
                "                  #initial_state_covariance=P2\n",
                "             )"
            ]
        },
        {
            "cell_type": "code",
            "execution_count": null,
            "metadata": {},
            "outputs": [],
            "source": [
                "F2.shape"
            ]
        },
        {
            "cell_type": "code",
            "execution_count": null,
            "metadata": {},
            "outputs": [],
            "source": [
                "H2.shape"
            ]
        },
        {
            "cell_type": "code",
            "execution_count": null,
            "metadata": {},
            "outputs": [],
            "source": [
                "Q"
            ]
        },
        {
            "cell_type": "code",
            "execution_count": null,
            "metadata": {},
            "outputs": [],
            "source": [
                "R2.shape"
            ]
        },
        {
            "cell_type": "code",
            "execution_count": null,
            "metadata": {},
            "outputs": [],
            "source": [
                "P2.shape"
            ]
        },
        {
            "cell_type": "code",
            "execution_count": null,
            "metadata": {},
            "outputs": [],
            "source": [
                "x.shape"
            ]
        },
        {
            "cell_type": "code",
            "execution_count": null,
            "metadata": {},
            "outputs": [],
            "source": [
                "kf.filter(zs)"
            ]
        },
        {
            "cell_type": "code",
            "execution_count": null,
            "metadata": {},
            "outputs": [],
            "source": []
        }
    ],
    "metadata": {
        "citation-manager": {
            "items": {}
        },
        "kernelspec": {
            "display_name": "Python 3",
            "language": "python",
            "name": "python3"
        },
        "language_info": {
            "codemirror_mode": {
                "name": "ipython",
                "version": 3
            },
            "file_extension": ".py",
            "mimetype": "text/x-python",
            "name": "python",
            "nbconvert_exporter": "python",
            "pygments_lexer": "ipython3",
            "version": "3.9.5"
        }
    },
    "nbformat": 4,
    "nbformat_minor": 4
}