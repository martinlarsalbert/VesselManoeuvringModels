{
 "cells": [
  {
   "cell_type": "markdown",
   "id": "4de15cda-ec35-4ee4-b7ea-c71bcd493848",
   "metadata": {},
   "source": [
    "# KF EM RTS Nomoto"
   ]
  },
  {
   "cell_type": "code",
   "execution_count": null,
   "id": "63bf0d6a-6a10-4f79-bdb0-6ffc96908c1a",
   "metadata": {},
   "outputs": [],
   "source": [
    "%load_ext autoreload\n",
    "%autoreload 2\n",
    "\n",
    "import matplotlib.pyplot as plt\n",
    "import pandas as pd\n",
    "import numpy as np\n",
    "from vessel_manoeuvring_models.kalman_filter import filter_yaw, rts_smoother\n",
    "\n",
    "import vessel_manoeuvring_models.visualization.book_format as book_format\n",
    "book_format.set_style()"
   ]
  },
  {
   "cell_type": "code",
   "execution_count": null,
   "id": "c9370783-bbbe-4b6f-881c-daf476597174",
   "metadata": {},
   "outputs": [],
   "source": [
    "def simulate(Ad, Bd, E, ws, t, us):\n",
    "\n",
    "    simdata = []\n",
    "    x_ = np.deg2rad(np.array([[0, 0]]).T)\n",
    "    for u_, w_ in zip(us, ws):\n",
    "\n",
    "        x_ = (Ad @ x_ + Bd * u_) + E * w_\n",
    "\n",
    "        simdata.append(x_.flatten())\n",
    "\n",
    "    simdata = np.array(simdata)\n",
    "    df = pd.DataFrame(simdata, columns=[\"psi\", \"r\"], index=t)\n",
    "    df[\"delta\"] = us\n",
    "\n",
    "    return df\n",
    "\n",
    "\n",
    "def do_simulation(h, Ad, Bd):\n",
    "    ## Simulate\n",
    "    N = 4000\n",
    "    t_ = np.arange(0, N * h, h)\n",
    "\n",
    "    us = np.deg2rad(\n",
    "        np.concatenate(\n",
    "            (\n",
    "                -10 * np.ones(int(N / 4)),\n",
    "                10 * np.ones(int(N / 4)),\n",
    "                -10 * np.ones(int(N / 4)),\n",
    "                10 * np.ones(int(N / 4)),\n",
    "            )\n",
    "        )\n",
    "    )\n",
    "\n",
    "    E = np.array([[0, 1]]).T\n",
    "    process_noise = np.deg2rad(0.01)\n",
    "    ws = np.random.normal(scale=process_noise, size=N)\n",
    "    df = simulate(Ad=Ad, Bd=Bd, E=E, ws=ws, t=t_, us=us)\n",
    "\n",
    "    measurement_noise = np.deg2rad(0.1)\n",
    "    df[\"epsilon\"] = np.random.normal(scale=measurement_noise,size=N)\n",
    "    df[\"psi_measure\"] = df[\"psi\"] + df[\"epsilon\"]\n",
    "    df[\"psi_deg\"] = np.rad2deg(df[\"psi\"])\n",
    "    df[\"psi_measure_deg\"] = np.rad2deg(df[\"psi_measure\"])\n",
    "    df[\"delta_deg\"] = np.rad2deg(df[\"delta\"])\n",
    "    return df"
   ]
  },
  {
   "cell_type": "code",
   "execution_count": null,
   "id": "e5f51422-1dc9-4928-b28d-72e451d57a91",
   "metadata": {},
   "outputs": [],
   "source": [
    "np.random.seed(42)\n",
    "\n",
    "T_1 = 1.8962353076056344\n",
    "K = 0.17950970687951323\n",
    "h = 0.02\n",
    "\n",
    "Ad = np.array([[1, h], \n",
    "               [0, 1 - h / T_1]])\n",
    "Bd = np.array([[0, -K * h / T_1]]).T\n",
    "df = do_simulation(h=h, Ad=Ad, Bd=Bd)"
   ]
  },
  {
   "cell_type": "code",
   "execution_count": null,
   "id": "48c93703-f1e9-4bf9-bdac-7f3e6df4b601",
   "metadata": {},
   "outputs": [],
   "source": [
    "x0 = np.deg2rad(np.array([[0, 0]]).T)\n",
    "P_prd = np.deg2rad(np.array([\n",
    "    [1, 0],\n",
    "    [0., 0.1],\n",
    "]))\n",
    "\n",
    "Qd = np.deg2rad(np.diag([0, 0.01**2]))\n",
    "\n",
    "Rd = np.deg2rad(0.1**2)\n",
    "\n",
    "ys = df[\"psi_measure\"].values\n",
    "us = df[\"delta\"].values\n",
    "\n",
    "E_ = np.array(\n",
    "    [[0, 0], \n",
    "     [0, 1]],\n",
    ")\n",
    "\n",
    "C_ = np.array([[1, 0]])\n",
    "\n",
    "Cd_ = C_\n",
    "Ed_ = h * E_\n",
    "\n",
    "time_steps = filter_yaw(\n",
    "    x0=x0,\n",
    "    P_prd=P_prd,\n",
    "    h_m=h,\n",
    "    h=h,\n",
    "    us=us,\n",
    "    ys=ys,\n",
    "    Ad=Ad,\n",
    "    Bd=Bd,\n",
    "    Cd=Cd_,\n",
    "    Ed=Ed_,\n",
    "    Qd=Qd,\n",
    "    Rd=Rd,\n",
    ")\n",
    "x_hats = np.array([time_step[\"x_hat\"] for time_step in time_steps])\n",
    "P_hats = [time_step[\"P_hat\"] for time_step in time_steps]\n",
    "time = np.array([time_step[\"time\"] for time_step in time_steps]).T\n",
    "x, P, K, Pp = rts_smoother(x_hats=x_hats, P_hats=P_hats, Ad=Ad, Bd=Bd, Qd=Qd, us=us)\n",
    "\n",
    "n = len(P_prd)\n",
    "fig, axes = plt.subplots(nrows=n)\n",
    "\n",
    "df[\"psi_measure_deg\"] = np.rad2deg(df[\"psi_measure\"])\n",
    "df[\"psi_deg\"] = np.rad2deg(df[\"psi\"])\n",
    "df[\"r_deg\"] = np.rad2deg(df[\"r\"])\n",
    "\n",
    "\n",
    "keys = [\"psi_deg\", \"r_deg\"]\n",
    "for i, key in enumerate(keys):\n",
    "\n",
    "    ax = axes[i]\n",
    "    df.plot(y=key, ax=ax, label=\"True\")\n",
    "    \n",
    "    if key == \"psi_deg\":\n",
    "        df.plot(y=\"psi_measure_deg\", ax=ax, label=\"Measured\", zorder=-1)\n",
    "\n",
    "    ax.plot(time, np.rad2deg(x_hats[:, i]), \"-\", label=\"kalman\")\n",
    "    ax.plot(time, np.rad2deg(x[:, i]), \"-\", label=\"rts smoother\")\n",
    "    ax.set_ylabel(key)\n",
    "    ax.legend(loc='upper right')"
   ]
  },
  {
   "cell_type": "code",
   "execution_count": null,
   "id": "34642a89-cd73-4db6-b4b5-04804bf18d8e",
   "metadata": {},
   "outputs": [],
   "source": [
    "from scipy.stats import multivariate_normal"
   ]
  },
  {
   "cell_type": "code",
   "execution_count": null,
   "id": "e971d269-6a32-4ef4-9f81-0216a3ad199f",
   "metadata": {},
   "outputs": [],
   "source": [
    "x_hats.shape"
   ]
  },
  {
   "cell_type": "code",
   "execution_count": null,
   "id": "020aebc3-9fde-410a-95c7-011fe5bde37a",
   "metadata": {},
   "outputs": [],
   "source": [
    "np.max(x_hats,axis=0)"
   ]
  },
  {
   "cell_type": "code",
   "execution_count": null,
   "id": "5ba65a4d-800e-49ce-9534-b19eca4495a0",
   "metadata": {},
   "outputs": [],
   "source": [
    "x_mins = np.min(x_hats,axis=0)\n",
    "x_maxs = np.max(x_hats,axis=0)\n",
    "\n",
    "n_grid = 100\n",
    "psis = np.linspace(x_mins[0],x_maxs[0],n_grid)\n",
    "rs = np.linspace(x_mins[1],x_maxs[1],n_grid)\n",
    "\n",
    "Psis, Rs = np.meshgrid(psis, rs)\n",
    "pos = np.dstack((Psis, Rs))"
   ]
  },
  {
   "cell_type": "code",
   "execution_count": null,
   "id": "7fac91c5-350b-4aaf-b986-78033a0d2876",
   "metadata": {},
   "outputs": [],
   "source": [
    "N_ = len(x_hats)\n",
    "times = 10\n",
    "n = int(N_/times)\n",
    "covs = P[::n]\n",
    "#covs = P_hats[::n]\n",
    "means = x_hats[::n]\n",
    "time_ = time[::n]\n",
    "\n",
    "\n",
    "f_all = np.zeros((n_grid,n_grid))\n",
    "for mean, cov in zip(means, covs):\n",
    "    \n",
    "    rv = multivariate_normal(mean=mean, cov=cov)\n",
    "    f = rv.pdf(pos)\n",
    "    f_all+=f\n",
    "    \n",
    "    \n",
    "    "
   ]
  },
  {
   "cell_type": "code",
   "execution_count": null,
   "id": "c3567bc4-93f3-48cf-8b41-9fa026a4ee97",
   "metadata": {},
   "outputs": [],
   "source": [
    "fig,ax=plt.subplots()\n",
    "ax.contourf(psis, rs, f_all)\n",
    "ax.set_xlabel(r'$\\Psi$')\n",
    "ax.set_ylabel(r'$r$')"
   ]
  },
  {
   "cell_type": "code",
   "execution_count": null,
   "id": "50ed396f-dc4c-468b-958a-c92859bd6451",
   "metadata": {},
   "outputs": [],
   "source": [
    "likelihood=0\n",
    "for mean, cov in zip(x_hats, P):\n",
    "    rv = multivariate_normal(mean=mean, cov=cov)\n",
    "    likelihood+= rv.logpdf(mean)"
   ]
  },
  {
   "cell_type": "code",
   "execution_count": null,
   "id": "83dd7ee4-8719-45e2-92e6-83187443ea1f",
   "metadata": {},
   "outputs": [],
   "source": [
    "likelihood"
   ]
  },
  {
   "cell_type": "code",
   "execution_count": null,
   "id": "44f8dd89-097d-47c4-8245-e75ddf3eea7a",
   "metadata": {},
   "outputs": [],
   "source": [
    "np.sum(rv.logpdf(x))"
   ]
  },
  {
   "cell_type": "code",
   "execution_count": null,
   "id": "66b13556-3534-46d2-a4fc-b3da691b8198",
   "metadata": {},
   "outputs": [],
   "source": [
    "from mpl_toolkits.mplot3d import Axes3D\n",
    "fig = plt.figure()\n",
    "ax = fig.add_subplot(111, projection='3d')\n",
    "\n",
    "for mean, cov, t_ in zip(means, P, time_):\n",
    "    \n",
    "    rv = multivariate_normal(mean=[0,0], cov=cov)\n",
    "       \n",
    "    psis = np.linspace(np.min(means[:,0]),0.1*np.max(means[:,0]),100)\n",
    "    pos = np.zeros((len(psis),2))\n",
    "    pos[:,0] = psis\n",
    "    \n",
    "    f = rv.pdf(pos)\n",
    "    \n",
    "    ax.plot(t_*np.ones(len(psis)),psis,f)\n",
    "\n",
    "ax.set_xlabel('time [s]')\n",
    "ax.set_ylabel(r'$\\Psi_{offset}$');\n",
    "\n",
    "\n",
    "        \n",
    "    "
   ]
  },
  {
   "cell_type": "code",
   "execution_count": null,
   "id": "6cbcb376-bf0d-41f8-be84-ced30f509dda",
   "metadata": {},
   "outputs": [],
   "source": [
    "from numpy.linalg import det\n",
    "d = [det(P_) for P_ in P]\n",
    "\n",
    "fig,ax=plt.subplots()\n",
    "ax.plot(time, d)"
   ]
  },
  {
   "cell_type": "code",
   "execution_count": null,
   "id": "7520bf24-b3fb-4b13-8137-9552100ac4e4",
   "metadata": {},
   "outputs": [],
   "source": [
    "def filter(Ad, Bd):\n",
    "    \n",
    "    x0 = np.deg2rad(np.array([[0, 0]]).T)\n",
    "    P_prd = np.deg2rad(np.array([\n",
    "        [1, 0],\n",
    "        [0., 0.1],\n",
    "    ]))\n",
    "    \n",
    "    Qd = np.deg2rad(np.diag([0, 0.1]))\n",
    "    \n",
    "    Rd = np.deg2rad(0.1)\n",
    "    \n",
    "    ys = df[\"psi_measure\"].values\n",
    "    us = df[\"delta\"].values\n",
    "    \n",
    "    E_ = np.array(\n",
    "        [[0, 0], \n",
    "         [0, 1]],\n",
    "    )\n",
    "    \n",
    "    C_ = np.array([[1, 0]])\n",
    "    \n",
    "    Cd_ = C_\n",
    "    Ed_ = h * E_\n",
    "    \n",
    "    time_steps = filter_yaw(\n",
    "        x0=x0,\n",
    "        P_prd=P_prd,\n",
    "        h_m=h,\n",
    "        h=h,\n",
    "        us=us,\n",
    "        ys=ys,\n",
    "        Ad=Ad,\n",
    "        Bd=Bd,\n",
    "        Cd=Cd_,\n",
    "        Ed=Ed_,\n",
    "        Qd=Qd,\n",
    "        Rd=Rd,\n",
    "    )\n",
    "    x_hats = np.array([time_step[\"x_hat\"] for time_step in time_steps])\n",
    "    P_hats = [time_step[\"P_hat\"] for time_step in time_steps]\n",
    "    time = np.array([time_step[\"time\"] for time_step in time_steps]).T\n",
    "    \n",
    "    try:\n",
    "        x, P, K, Pp = rts_smoother(x_hats=x_hats, P_hats=P_hats, Ad=Ad, Bd=Bd, Qd=Qd, us=us)\n",
    "    except Exception as e:\n",
    "        raise ValueError(f'Ad={Ad}, Bd={Bd}')\n",
    "        \n",
    "    \n",
    "    return x, P, K, Pp"
   ]
  },
  {
   "cell_type": "code",
   "execution_count": null,
   "id": "e7ac63bf-d134-43d3-aa35-0078c1f24e3c",
   "metadata": {},
   "outputs": [],
   "source": [
    "T_1 = 1.8962353076056344\n",
    "K = 0.17950970687951323\n",
    "\n",
    "T_1s = np.linspace(0.5*T_1, 1.4*T_1, 15)\n",
    "\n",
    "interrations = {}\n",
    "\n",
    "for T_1_ in T_1s:\n",
    "\n",
    "    Ad = np.array([[1, h], \n",
    "               [0, 1 - h / T_1_]])\n",
    "    Bd = np.array([[0, -K * h / T_1_]]).T\n",
    "    \n",
    "    x,P, Ks, Pp = filter(Ad=Ad, Bd=Bd)\n",
    "    interrations[T_1_] = {\n",
    "        'x' : x,\n",
    "        'P' : P,\n",
    "        'K' : Ks, \n",
    "        'Pp': Pp,\n",
    "    }"
   ]
  },
  {
   "cell_type": "code",
   "execution_count": null,
   "id": "927228c1-f49d-43e8-b0ed-a506595f12c5",
   "metadata": {},
   "outputs": [],
   "source": [
    "Ks[0]"
   ]
  },
  {
   "cell_type": "code",
   "execution_count": null,
   "id": "2989b7a7-b4c9-485d-b0cd-6b38191f6422",
   "metadata": {},
   "outputs": [],
   "source": [
    "fig,ax=plt.subplots()\n",
    "\n",
    "for _, itteration in interrations.items():\n",
    "    \n",
    "    error = (itteration['x'][:,0] - ys)\n",
    "    itteration['rms'] = np.mean(error**2)\n",
    "    ax.plot(time, itteration['x'][:,0])\n",
    "\n",
    "    \n",
    "    "
   ]
  },
  {
   "cell_type": "code",
   "execution_count": null,
   "id": "02889245-c350-43aa-b5f6-293e97892cb0",
   "metadata": {},
   "outputs": [],
   "source": [
    "rms = [interration['rms'] for _,interration in interrations.items()]\n",
    "Ks = [interration['K'] for _,interration in interrations.items()]\n"
   ]
  },
  {
   "cell_type": "code",
   "execution_count": null,
   "id": "7d90feec-83e8-44fd-935b-af3c8bbd5f47",
   "metadata": {},
   "outputs": [],
   "source": [
    "Ks[0]"
   ]
  },
  {
   "cell_type": "code",
   "execution_count": null,
   "id": "78dfc514-5d0f-4c05-a22b-1f0cb340da98",
   "metadata": {},
   "outputs": [],
   "source": [
    "fig,ax=plt.subplots()\n",
    "ax.plot(T_1s, rms);"
   ]
  },
  {
   "cell_type": "code",
   "execution_count": null,
   "id": "fd897f9e-6f79-4ad3-9825-5d0d785b9bda",
   "metadata": {},
   "outputs": [],
   "source": [
    "def calculate_likelihood(x_hat, P):\n",
    "    \n",
    "    likelihood=0\n",
    "    for mean, cov in zip(x_hat, P):\n",
    "        rv = multivariate_normal(mean=mean, cov=cov)\n",
    "        likelihood+= rv.logpdf(mean)\n",
    "        \n",
    "    return likelihood"
   ]
  },
  {
   "cell_type": "code",
   "execution_count": null,
   "id": "7e23bf94-c6cd-4b94-9d10-8cbdcf46d798",
   "metadata": {},
   "outputs": [],
   "source": [
    "likelihoods = []\n",
    "for _,itteration in interrations.items():\n",
    "    likelihood = calculate_likelihood(x_hat=itteration['x'], P=itteration['Pp'])\n",
    "    likelihoods.append(likelihood)\n",
    "    "
   ]
  },
  {
   "cell_type": "code",
   "execution_count": null,
   "id": "5c8625d2-188e-4e6d-aba9-cee70036bee5",
   "metadata": {},
   "outputs": [],
   "source": [
    "fig,ax=plt.subplots()\n",
    "ax.plot(T_1s, likelihoods);"
   ]
  },
  {
   "cell_type": "markdown",
   "id": "86e36a56-3d7a-45d9-8d90-4f69391c9fcc",
   "metadata": {},
   "source": [
    "$$\n",
    "A = \\left( \\sum_{t=1}^{T-1} \\mathbb{E}[x_t x_{t-1}^{T}]\n",
    "                - b_{t-1} \\mathbb{E}[x_{t-1}]^T \\right)\n",
    "             \\left( \\sum_{t=1}^{T-1} \\mathbb{E}[x_{t-1} x_{t-1}^T] \\right)^{-1} \n",
    "$$"
   ]
  },
  {
   "cell_type": "code",
   "execution_count": null,
   "id": "8a546d62-ed92-49d4-8db1-6aaeb49f2c27",
   "metadata": {},
   "outputs": [],
   "source": [
    "from pykalman import KalmanFilter"
   ]
  },
  {
   "cell_type": "code",
   "execution_count": null,
   "id": "b53f56d0-dd9d-498a-827f-383c7d7e6cd2",
   "metadata": {},
   "outputs": [],
   "source": [
    "Rd = np.deg2rad(0.1)\n",
    "\n",
    "transition_matrices = Ad\n",
    "observation_matrices = np.array([[1]])  # C\n",
    "transition_covariance = P_prd  # Q\n",
    "observation_covariance = np.array([[Rd]])  # R\n",
    "transition_offsets = np.array([0,0])\n",
    "\n",
    "observation_offsets = np.array([0])\n",
    "initial_state_mean = np.array([0,0])\n",
    "initial_state_covariance = np.zeros((2,2))\n",
    "\n",
    "kf = KalmanFilter(transition_matrices=transition_matrices,\n",
    "                  #observation_matrices=observation_matrices,\n",
    "                  transition_covariance=transition_covariance,\n",
    "                  observation_covariance=observation_covariance,\n",
    "                  transition_offsets=transition_offsets,\n",
    "                  observation_offsets=observation_offsets,\n",
    "                  initial_state_mean=initial_state_mean,\n",
    "                  initial_state_covariance=initial_state_covariance,\n",
    "                  n_dim_state=2, \n",
    "                  n_dim_obs=1,\n",
    "             )"
   ]
  },
  {
   "cell_type": "code",
   "execution_count": null,
   "id": "558a1b31-b4e7-496f-a288-0eaddd095141",
   "metadata": {},
   "outputs": [],
   "source": [
    "x_hats, P_hats = kf.filter(ys)"
   ]
  },
  {
   "cell_type": "code",
   "execution_count": null,
   "id": "4b0ddcc4-ddcc-43c3-9417-9a3069df8933",
   "metadata": {},
   "outputs": [],
   "source": [
    "fig,axes=plt.subplots(nrows=2)\n",
    "keys = [\"psi_deg\", \"r_deg\"]\n",
    "for i, key in enumerate(keys):\n",
    "\n",
    "    ax = axes[i]\n",
    "    df.plot(y=key, ax=ax, label=\"True\")\n",
    "    \n",
    "    if key == \"psi_deg\":\n",
    "        df.plot(y=\"psi_measure_deg\", ax=ax, label=\"Measured\", zorder=-1)\n",
    "\n",
    "    ax.plot(time, np.rad2deg(x_hats[:, i]), \"-\", label=\"Kalman\")\n",
    "    ax.set_ylabel(key)\n",
    "    ax.legend(loc='upper right')"
   ]
  },
  {
   "cell_type": "code",
   "execution_count": null,
   "id": "062445cb-32d2-4a71-8b23-e6df730771b7",
   "metadata": {},
   "outputs": [],
   "source": []
  },
  {
   "cell_type": "code",
   "execution_count": null,
   "id": "99743d41-2553-4450-b121-de2bace6b881",
   "metadata": {},
   "outputs": [],
   "source": []
  }
 ],
 "metadata": {
  "citation-manager": {
   "items": {}
  },
  "kernelspec": {
   "display_name": "Python 3",
   "language": "python",
   "name": "python3"
  },
  "language_info": {
   "codemirror_mode": {
    "name": "ipython",
    "version": 3
   },
   "file_extension": ".py",
   "mimetype": "text/x-python",
   "name": "python",
   "nbconvert_exporter": "python",
   "pygments_lexer": "ipython3",
   "version": "3.9.5"
  }
 },
 "nbformat": 4,
 "nbformat_minor": 5
}
