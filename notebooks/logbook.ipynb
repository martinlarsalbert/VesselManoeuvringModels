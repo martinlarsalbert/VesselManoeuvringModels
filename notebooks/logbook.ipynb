{
 "cells": [
  {
   "cell_type": "markdown",
   "metadata": {},
   "source": [
    "<a id='logbook'></a>\n",
    "# Logbook"
   ]
  },
  {
   "cell_type": "code",
   "execution_count": null,
   "metadata": {},
   "outputs": [],
   "source": [
    "# %load imports.py\n",
    "%matplotlib inline\n",
    "%load_ext autoreload\n",
    "%autoreload 2\n",
    "\n",
    "import numpy as np\n",
    "import pandas as pd\n",
    "import matplotlib.pyplot as plt\n",
    "#import seaborn as sns\n",
    "import os\n",
    "from collections import OrderedDict\n",
    "\n",
    "from IPython.display import display\n",
    "\n",
    "pd.options.display.max_rows = 999\n",
    "pd.options.display.max_columns = 999\n",
    "pd.set_option(\"display.max_columns\", None)"
   ]
  },
  {
   "cell_type": "markdown",
   "metadata": {},
   "source": [
    "## Nomenclature\n",
    "| Variable | Explain |\n",
    "|---|---|\n",
    "|$\\pi$| example |"
   ]
  },
  {
   "cell_type": "markdown",
   "metadata": {},
   "source": [
    "Here is a cell link: [Logbook](#logbook)"
   ]
  },
  {
   "cell_type": "markdown",
   "metadata": {},
   "source": [
    "## 1983-03-15\n",
    "What have I done today?"
   ]
  },
  {
   "cell_type": "markdown",
   "metadata": {},
   "source": [
    "## 2021-05-19\n",
    "* Read model tests from the database:\n",
    "   * [01.00_MDL_select_runs.ipynb](01.00_MDL_select_runs.ipynb)\n",
    "   * [02.00_MDL_load_runs.ipynb](02.00_MDL_load_runs.ipynb)\n",
    "   \n",
    "* Made an overview of all the model tests:\n",
    "   * [03.00_test_overview.ipynb](03.00_test_overview.ipynb)\n",
    "\n",
    "   "
   ]
  },
  {
   "cell_type": "markdown",
   "metadata": {},
   "source": [
    "## 2021-05-27\n",
    "* Got some results regressing the simplified linear nomoto model for a zigzag test : [04.01_PIT_nomoto.ipynb](04.01_PIT_nomoto.ipynb)"
   ]
  },
  {
   "cell_type": "markdown",
   "metadata": {},
   "source": [
    "## 2021-06-02\n",
    "* Created new measurement files with estimated \"hidden states\" : [05.01_acceleration_Kalman.ipynb](05.01_acceleration_Kalman.ipynb)\n",
    "* Run a OLS regression for all nonsailing tests: [04.02_PIT_nomotos.ipynb](04.02_PIT_nomotos.ipynb)"
   ]
  },
  {
   "cell_type": "markdown",
   "metadata": {},
   "source": [
    "## 2021-06-23\n",
    "Implemented a simple linear VMM [06.01_linear_VMM.ipynb](06.01_linear_VMM.ipynb)"
   ]
  },
  {
   "cell_type": "markdown",
   "metadata": {},
   "source": [
    "## 2021-06-29\n",
    "Run PIT on the linear VMM: [04.02_PIT_linear_VMM.ipynb](04.02_PIT_linear_VMM.ipynb)\n",
    "* The beauty with this regression is that mass and added mass are included into the parameters, so no separate calculation of added mass is needed.\n",
    "* The added mass is however needed if other forces in newtons should be added to the model."
   ]
  },
  {
   "cell_type": "markdown",
   "metadata": {},
   "source": [
    "## 2021-06-30\n",
    "Similar PIT but for static VCT on the linear VMM: [04.03_PIT_VCT_linear_VMM.ipynb](04.03_PIT_VCT_linear_VMM.ipynb)\n",
    "* Use these coefficients in a simulation?\n",
    "* ...or backtrack corresponding static forces from the model tests? "
   ]
  },
  {
   "cell_type": "markdown",
   "metadata": {},
   "source": [
    "## 2021-07-01\n",
    "* Run a simulation with the linear VMM and brix coeff for wPCC: [06.02_linear_VMM_wPCC_brix.ipynb](06.02_linear_VMM_wPCC_brix.ipynb)"
   ]
  },
  {
   "cell_type": "markdown",
   "metadata": {},
   "source": [
    "## 2021-07-02\n",
    "Now run a simulation with the VCT regressed parameters together with adde masses from brix: [04.03_PIT_VCT_linear_VMM.ipynb](04.03_PIT_VCT_linear_VMM.ipynb).\n",
    "* The results are very primising but the linear model is lacking a propeller and therefore loses velocity during manoeuvres."
   ]
  },
  {
   "cell_type": "markdown",
   "metadata": {},
   "source": [
    "## 2021-07-05\n",
    "Calculated quasistatic forces from dynamic model test: [07_01_static_forces_from_model_test.ipynb](07_01_static_forces_from_model_test.ipynb).\n",
    "* Also regressed a matematical model based on these quasi static forces."
   ]
  },
  {
   "cell_type": "markdown",
   "metadata": {},
   "source": [
    "## 2021-07-06\n",
    "* Regressed a series of \"rodergrundvinkel\" : [07_02_static_forces_from_spirals.ipynb](07_02_static_forces_from_spirals.ipynb)\n",
    "* Regressed a nonlinear model: [07.03_PIT_static_forces_nonlinear.ipynb](07.03_PIT_static_forces_nonlinear.ipynb)"
   ]
  },
  {
   "cell_type": "markdown",
   "metadata": {},
   "source": [
    "## 2021-07-09\n",
    "Made two summaries:\n",
    "* [08_01_PIT_summary.ipynb](08_01_PIT_summary.ipynb)\n",
    "* [08_02_PIT_nonlinear_summary.ipynb](08_02_PIT_nonlinear_summary.ipynb)\n",
    "\n",
    "* Found a more efficient way to decouple the equations:\n",
    "$A^{-1} \\cdot b$"
   ]
  },
  {
   "cell_type": "markdown",
   "metadata": {},
   "source": [
    "## 2021-07-14\n",
    "* Implemented PIT according to Tongton's paper: [09_01_PIT_tongton.ipynb](09_01_PIT_tongton.ipynb)\n",
    "* also tried with SI units, without success: [09_02_PIT_tongton_SI.ipynb](09_02_PIT_tongton_SI.ipynb)\n",
    "* did simulaions in air to very the EOM : [10.01_EOM_air.ipynb](10.01_EOM_air.ipynb)\n",
    "* found that the kalman filter might underpredict the acceleration : [10.02_kalman_PIT_sensitivity.ipynb](10.02_kalman_PIT_sensitivity.ipynb).\n",
    "* started to work on PIT with low pass filtred states instead: [10.03_lowpass_PIT.ipynb](10.03_lowpass_PIT.ipynb)."
   ]
  },
  {
   "cell_type": "markdown",
   "metadata": {},
   "source": [
    "## 2021-07-15\n",
    "* [10.03_lowpass_PIT.ipynb](10.03_lowpass_PIT.ipynb) gave more promising results suggesting that the states from Kalman Filter is not trustworthy.\n",
    "* Looked at decoupling for regression : [11.01_regression_revisited.ipynb](11.01_regression_revisited.ipynb)"
   ]
  },
  {
   "cell_type": "markdown",
   "metadata": {},
   "source": [
    "## 2021-07-16\n",
    "* Finally figured out the decoupling of the hydrodynamic parameters: [11.01_regression_revisited.ipynb](11.01_regression_revisited.ipynb).\n",
    "* This seems to work better!"
   ]
  },
  {
   "cell_type": "markdown",
   "metadata": {},
   "source": [
    "## 2021-08-12\n",
    "* Reworked the: [06.02_linear_VMM_wPCC_brix.ipynb](06.02_linear_VMM_wPCC_brix.ipynb)\n",
    "   * Realized the the linearized model (for instance Matusiak eq.4.6 uses $U$ (or rather $U_0$) being the initial velocity as a constant so that nonlinear centrifugal force $r \\cdot u$ is linearized to $r \\cdot U_0$)\n",
    "   * expressing a model test in prime system leads to strange time, if $U$ has a lot of noise. This can make the primed time $t\\prime$ go backwards: [06.02_linear_VMM_wPCC_brix.ipynb](06.02_linear_VMM_wPCC_brix.ipynb#primetime)\n",
    "   * It is possible to simulate with prime parameters and states: [prime simulation](06.02_linear_VMM_wPCC_brix.ipynb#primetime#primesimulation)\n",
    "   * And it is possible to [go back to SI](06.02_linear_VMM_wPCC_brix.ipynb#Go-back-to-SI) using the original velocity $U$.\n",
    "   * [Simulation with SI states and prime parameters](06.02_linear_VMM_wPCC_brix.ipynb#Simulation-with-SI-states-and-prime-parameters) is however the more classic approach.\n",
    "   * The two simulation approaches give slightly different results : [Compare-simulation-approaches](06.02_linear_VMM_wPCC_brix.ipynb#Compare-simulation-approaches). **WHY??**"
   ]
  },
  {
   "cell_type": "markdown",
   "metadata": {},
   "source": [
    "## 2021-08-13\n",
    "* Regressed a simulated turing circle test with very good accuracy: [Simulation](12.01_regression_simulated_data.ipynb#Simulation).\n",
    "* All coefficients in the linear model were identified but $Y_r$ (Because centrifugal force is included in this parameter from the regression)"
   ]
  },
  {
   "cell_type": "markdown",
   "metadata": {},
   "source": [
    "## 2021-08-16\n",
    "* Regressed a simulated turing circle test with very good accuracy: [Simulation](12.01_regression_simulated_data.ipynb#Simulation).\n",
    "   * Substracted the centrifugal force from the regressed $Y_v$ which then gave good agreement with the original parameters.\n",
    "* The regression also works on nonlinear EOM: [12.02_regression_simulated_data_nonlinear_EOM.ipynb](12.02_regression_simulated_data_nonlinear_EOM.ipynb)"
   ]
  },
  {
   "cell_type": "markdown",
   "metadata": {},
   "source": [
    "## 2021-08-20\n",
    "* It is possible to identify the parameters in a nonlinear simulated model: [12.05_regression_simulated_data_simple_nonlinear.ipynb](12.05_regression_simulated_data_simple_nonlinear.ipynb)\n",
    "* This means that the challenge in parameter identification of real data is mainly:\n",
    "   * Determine the velocities and accelerations accuratelly.\n",
    "   * Choosing the correct mathematical model."
   ]
  },
  {
   "cell_type": "markdown",
   "metadata": {},
   "source": [
    "## 2021-08-26\n",
    "* The PIT approach that worked so well on perfect data failed big time when velocities and [12.06_regression_simulated_data_numerical_gradient.ipynb](12.06_regression_simulated_data_numerical_gradient.ipynb)\n",
    "* [12.07_regression_simulated_data_better_numerical_gradient.ipynb](12.07_regression_simulated_data_better_numerical_gradient.ipynb)\n",
    "   * Smoothening of the data gave much better simulations but still strange parameters.\n",
    "* There is a huge difference in the resutls from the [solve_ivp methods](13.01_solve_ivp.ipynb#Compare).\n",
    "* The numerical gradient works better when implicit Runge Kutta is used:[12.06.5_regression_simulated_data_BDF_numerical_gradient.ipynb](12.06.5_regression_simulated_data_BDF_numerical_gradient.ipynb)\n",
    "* Just a little bit noise confuses the regression: [12.08_regression_simulated_data_gausian_noise.ipynb](12.08_regression_simulated_data_gausian_noise.ipynb)\n",
    "* With more data and more variation regression was improved: [12.08_regression_simulated_more_data_gausian_noise.ipynb](12.08_regression_simulated_more_data_gausian_noise.ipynb)"
   ]
  },
  {
   "cell_type": "markdown",
   "metadata": {},
   "source": [
    "### 2021-09-01\n",
    "* The Kalman filter cannot capture a change of rudder angle: [Check-Kalman-filter](14.01_hidden_states.ipynb#Check-Kalman-filter)\n",
    "* Did regression on lowpass filtered signals: [14.02_hidden_states_gradient_regression.ipynb](14.02_hidden_states_gradient_regression.ipynb)\n",
    "   * I think that we need more data!"
   ]
  },
  {
   "cell_type": "markdown",
   "metadata": {},
   "source": [
    "## 2021-09-02\n",
    "* A [Linear model](14.03_hidden_states_gradient_regression_linear) i much less sensitive to measurement noise.\n",
    "* Implemented a [1D Kalman Filter](15.01_kalman_filter_unvariate.ipynb)\n",
    "* Implemented multivariate Kalman Filter: [15.10_kalman_filter_multivariate.ipynb](15.10_kalman_filter_multivariate.ipynb)"
   ]
  },
  {
   "cell_type": "markdown",
   "metadata": {},
   "source": [
    "## 2021-09-06\n",
    "* Adding [control](15.10_kalman_filter_multivariate.ipynb#Control) to the Kalman Filter improves the filter.\n",
    "* Managed to build a Kalman filter for a [linear model](15.11_kalman_filter_linear_manoeuvring.ipynb)\n",
    "   * The prime system makes the model linear! (It will be nonlinear in SI!)"
   ]
  },
  {
   "cell_type": "markdown",
   "metadata": {},
   "source": [
    "## 2021-09-07\n",
    "* Failed to implement the **\"smoother\"**. [15.11_kalman_filter_linear_manoeuvring.ipynb](15.11_kalman_filter_linear_manoeuvring.ipynb)"
   ]
  },
  {
   "cell_type": "markdown",
   "metadata": {},
   "source": [
    "## 2021-10-04\n",
    "* [16.01_PIT_VCT_revisited_linear.ipynb](16.01_PIT_VCT_revisited_linear.ipynb)\n",
    "   * Good VCT result with linear model for zigzags\n",
    "   * Bad for turning circle and steady turning."
   ]
  },
  {
   "cell_type": "markdown",
   "metadata": {},
   "source": [
    "## 2021-10-05\n",
    "Developed a work flow with MLFlow:\n",
    "[01.01_run_simulations.py](model_simulate/01.01_run_simulations.py)"
   ]
  },
  {
   "cell_type": "markdown",
   "metadata": {},
   "source": [
    "## 2021-11-01\n",
    "* Began to study parameter drift [21.02_parameter_drift.ipynb](21.02_parameter_drift.ipynb)"
   ]
  },
  {
   "cell_type": "markdown",
   "metadata": {},
   "source": [
    "## 2021-12-03\n",
    "* \"Perfect\" captive test: [21.04_perfect_captive.ipynb](21.04_perfect_captive.ipynb)"
   ]
  },
  {
   "cell_type": "markdown",
   "metadata": {},
   "source": [
    "## 2021-12-08\n",
    "Implemented Kalman filter (KF) and Extended Kalman filter (EKF): \n",
    "* Kalman Filter: [15.30_KF_fossen.ipynb](15.30_KF_fossen.ipynb)\n",
    "* Kalman Filter: [15.31_EKF_fossen.ipynb](15.31_EKF_fossen.ipynb)"
   ]
  },
  {
   "cell_type": "markdown",
   "metadata": {},
   "source": [
    "## 2021-12-09\n",
    "* [KF Nomoto model](15.39_KF_nomoto.ipynb)\n",
    "* [EKF Nomoto model](15.40_EKF_nomoto.ipynb)\n",
    "* [15.41_EKF_PIT_nomoto.ipynb](15.41_EKF_PIT_nomoto.ipynb)\n",
    "    * Extended Kalman filter with parameter estimation works on simulated data\n",
    "    * ...but not on the model test data where the estimation does not converge, possibly due to that the Nomoto model is not accurate enought to describe the dynamics of the model test.\n",
    "\n",
    "\n"
   ]
  },
  {
   "cell_type": "markdown",
   "metadata": {},
   "source": [
    "## 2021-12-17\n",
    "* EKF 3DOF model: [15.47_EKF_3DOF.ipynb](15.47_EKF_3DOF.ipynb)"
   ]
  },
  {
   "cell_type": "markdown",
   "metadata": {},
   "source": [
    "## 2022-01-03\n",
    "* Extended Kalman RTS smoother: [15.47_EKF_3DOF.ipynb](15.47_EKF_3DOF.ipynb)\n",
    "* predicted states with the RTS smoother was used to fit a manoeuvring model with **VERY GOOD RESULTS!**: [17.01_RTS_manoeuvring_PIT.ipynb](17.01_RTS_manoeuvring_PIT.ipynb)"
   ]
  },
  {
   "cell_type": "markdown",
   "metadata": {},
   "source": [
    "## 2022-01-06\n",
    "* developed **ForceRegression** and **MotionRegression** which are convenient classes for regression in this project.\n",
    "* developed the **ExtendedKalman** class which creates an Extended Kalman Filter/Smoother for an arbitrary vmm.\n",
    "* EK smoother with delta and thrust: [15.49_EK_smoother_3DOF_thrust.ipynb](15.49_EK_smoother_3DOF_thrust.ipynb)"
   ]
  },
  {
   "cell_type": "markdown",
   "metadata": {},
   "source": [
    "## References\n",
    "<!-- BIBLIOGRAPHY START -->\n",
    "<div class=\"csl-bib-body\">\n",
    "</div>\n",
    "<!-- BIBLIOGRAPHY END -->"
   ]
  },
  {
   "cell_type": "code",
   "execution_count": null,
   "metadata": {},
   "outputs": [],
   "source": []
  }
 ],
 "metadata": {
  "citation-manager": {
   "items": {}
  },
  "kernelspec": {
   "display_name": "Python 3",
   "language": "python",
   "name": "python3"
  },
  "language_info": {
   "codemirror_mode": {
    "name": "ipython",
    "version": 3
   },
   "file_extension": ".py",
   "mimetype": "text/x-python",
   "name": "python",
   "nbconvert_exporter": "python",
   "pygments_lexer": "ipython3",
   "version": "3.9.5"
  },
  "metadata": {
   "interpreter": {
    "hash": "1af9919311219ec039f6aa4a644c204a4b4e1e8e730770ba7f65632752293606"
   }
  }
 },
 "nbformat": 4,
 "nbformat_minor": 4
}
