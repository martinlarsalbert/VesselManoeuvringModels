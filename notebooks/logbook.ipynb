{
 "cells": [
  {
   "cell_type": "markdown",
   "metadata": {},
   "source": [
    "<a id='logbook'></a>\n",
    "# Logbook"
   ]
  },
  {
   "cell_type": "code",
   "execution_count": null,
   "metadata": {},
   "outputs": [],
   "source": [
    "# %load imports.py\n",
    "%matplotlib inline\n",
    "%load_ext autoreload\n",
    "%autoreload 2\n",
    "\n",
    "import numpy as np\n",
    "import pandas as pd\n",
    "import matplotlib.pyplot as plt\n",
    "#import seaborn as sns\n",
    "import os\n",
    "from collections import OrderedDict\n",
    "\n",
    "from IPython.display import display\n",
    "\n",
    "pd.options.display.max_rows = 999\n",
    "pd.options.display.max_columns = 999\n",
    "pd.set_option(\"display.max_columns\", None)"
   ]
  },
  {
   "cell_type": "markdown",
   "metadata": {},
   "source": [
    "## Nomenclature\n",
    "| Variable | Explain |\n",
    "|---|---|\n",
    "|$\\pi$| example |"
   ]
  },
  {
   "cell_type": "markdown",
   "metadata": {},
   "source": [
    "Here is a cell link: [Logbook](#logbook)"
   ]
  },
  {
   "cell_type": "markdown",
   "metadata": {},
   "source": [
    "## 1983-03-15\n",
    "What have I done today?"
   ]
  },
  {
   "cell_type": "markdown",
   "metadata": {},
   "source": [
    "## 2021-05-19\n",
    "* Read model tests from the database:\n",
    "   * [01.00_MDL_select_runs.ipynb](01.00_MDL_select_runs.ipynb)\n",
    "   * [02.00_MDL_load_runs.ipynb](02.00_MDL_load_runs.ipynb)\n",
    "   \n",
    "* Made an overview of all the model tests:\n",
    "   * [03.00_test_overview.ipynb](03.00_test_overview.ipynb)\n",
    "\n",
    "   "
   ]
  },
  {
   "cell_type": "markdown",
   "metadata": {},
   "source": [
    "## 2021-05-27\n",
    "* Got some results regressing the simplified linear nomoto model for a zigzag test : [04.01_PIT_nomoto.ipynb](04.01_PIT_nomoto.ipynb)"
   ]
  },
  {
   "cell_type": "markdown",
   "metadata": {},
   "source": [
    "## 2021-06-02\n",
    "* Created new measurement files with estimated \"hidden states\" : [05.01_acceleration_Kalman.ipynb](05.01_acceleration_Kalman.ipynb)\n",
    "* Run a OLS regression for all nonsailing tests: [04.02_PIT_nomotos.ipynb](04.02_PIT_nomotos.ipynb)"
   ]
  },
  {
   "cell_type": "markdown",
   "metadata": {},
   "source": [
    "## 2021-06-23\n",
    "Implemented a simple linear VMM [06.01_linear_VMM.ipynb](06.01_linear_VMM.ipynb)"
   ]
  },
  {
   "cell_type": "markdown",
   "metadata": {},
   "source": [
    "## 2021-06-29\n",
    "Run PIT on the linear VMM: [04.02_PIT_linear_VMM.ipynb](04.02_PIT_linear_VMM.ipynb)\n",
    "* The beauty with this regression is that mass and added mass are included into the parameters, so no separate calculation of added mass is needed.\n",
    "* The added mass is however needed if other forces in newtons should be added to the model."
   ]
  },
  {
   "cell_type": "markdown",
   "metadata": {},
   "source": [
    "## 2021-06-30\n",
    "Similar PIT but for static VCT on the linear VMM: [04.03_PIT_VCT_linear_VMM.ipynb](04.03_PIT_VCT_linear_VMM.ipynb)\n",
    "* Use these coefficients in a simulation?\n",
    "* ...or backtrack corresponding static forces from the model tests? "
   ]
  },
  {
   "cell_type": "markdown",
   "metadata": {},
   "source": [
    "## 2021-07-01\n",
    "* Run a simulation with the linear VMM and brix coeff for wPCC: [06.02_linear_VMM_wPCC_brix.ipynb](06.02_linear_VMM_wPCC_brix.ipynb)"
   ]
  },
  {
   "cell_type": "markdown",
   "metadata": {},
   "source": [
    "## 2021-07-02\n",
    "Now run a simulation with the VCT regressed parameters together with adde masses from brix: [04.03_PIT_VCT_linear_VMM.ipynb](04.03_PIT_VCT_linear_VMM.ipynb).\n",
    "* The results are very primising but the linear model is lacking a propeller and therefore loses velocity during manoeuvres."
   ]
  },
  {
   "cell_type": "markdown",
   "metadata": {},
   "source": [
    "## 2021-07-05\n",
    "Calculated quasistatic forces from dynamic model test: [07_01_static_forces_from_model_test.ipynb](07_01_static_forces_from_model_test.ipynb).\n",
    "* Also regressed a matematical model based on these quasi static forces."
   ]
  },
  {
   "cell_type": "markdown",
   "metadata": {},
   "source": [
    "## 2021-07-06\n",
    "* Regressed a series of \"rodergrundvinkel\" : [07_02_static_forces_from_spirals.ipynb](07_02_static_forces_from_spirals.ipynb)\n",
    "* Regressed a nonlinear model: [07.03_PIT_static_forces_nonlinear.ipynb](07.03_PIT_static_forces_nonlinear.ipynb)"
   ]
  },
  {
   "cell_type": "markdown",
   "metadata": {},
   "source": [
    "## 2021-07-09\n",
    "Made two summaries:\n",
    "* [08_01_PIT_summary.ipynb](08_01_PIT_summary.ipynb)\n",
    "* [08_02_PIT_nonlinear_summary.ipynb](08_02_PIT_nonlinear_summary.ipynb)\n",
    "\n",
    "* Found a more efficient way to decouple the equations:\n",
    "$A^{-1} \\cdot b$"
   ]
  },
  {
   "cell_type": "markdown",
   "metadata": {},
   "source": [
    "## 2021-07-14\n",
    "* Implemented PIT according to Tongton's paper: [09_01_PIT_tongton.ipynb](09_01_PIT_tongton.ipynb)\n",
    "* also tried with SI units, without success: [09_02_PIT_tongton_SI.ipynb](09_02_PIT_tongton_SI.ipynb)\n",
    "* did simulaions in air to very the EOM : [10.01_EOM_air.ipynb](10.01_EOM_air.ipynb)\n",
    "* found that the kalman filter might underpredict the acceleration : [10.02_kalman_PIT_sensitivity.ipynb](10.02_kalman_PIT_sensitivity.ipynb).\n",
    "* started to work on PIT with low pass filtred states instead: [10.03_lowpass_PIT.ipynb](10.03_lowpass_PIT.ipynb)."
   ]
  },
  {
   "cell_type": "markdown",
   "metadata": {},
   "source": [
    "## 2021-07-15\n",
    "* [10.03_lowpass_PIT.ipynb](10.03_lowpass_PIT.ipynb) gave more promising results suggesting that the states from Kalman Filter is not trustworthy.\n",
    "* Looked at decoupling for regression : [11.01_regression_revisited.ipynb](11.01_regression_revisited.ipynb)"
   ]
  },
  {
   "cell_type": "markdown",
   "metadata": {},
   "source": [
    "## References\n",
    "<div class=\"cite2c-biblio\"></div>"
   ]
  },
  {
   "cell_type": "code",
   "execution_count": null,
   "metadata": {},
   "outputs": [],
   "source": []
  }
 ],
 "metadata": {
  "cite2c": {
   "citations": {
    "7505983/NXYCMQLI": {
     "URL": "https://scholar.google.com/scholar_lookup?title=On%20roll%20damping%20force%20of%20ship%3A%20effects%20of%20friction%20of%20hull%20and%20normal%20force%20of%20bilge%20keels&author=Y.%20Ikeda&author=Y.%20Himeno&author=N.%20Tanaka&journal=J%20Kansai%20Soc%20Naval%20Archit%20Jpn&volume=161&pages=41-49&publication_year=1976",
     "accessed": {
      "day": 24,
      "month": 1,
      "year": 2020
     },
     "id": "7505983/NXYCMQLI",
     "title": "Ikeda: Report no. 401: On roll damping force of ship-effe... - Google Scholar",
     "type": "article"
    },
    "7505983/RC2WJ4RI": {
     "id": "7505983/RC2WJ4RI",
     "title": "JourneeAdegeest2003_pp180to195inTheoreticalManualSEAWAY.pdf",
     "type": "article"
    },
    "7505983/RWXBIIJJ": {
     "URL": "https://repository.tudelft.nl/islandora/object/uuid%3A2d4991a4-96ac-4935-b2a3-e712effd744d",
     "accessed": {
      "day": 4,
      "month": 3,
      "year": 2020
     },
     "author": [
      {
       "family": "Himeno",
       "given": "Yoji"
      }
     ],
     "container-title": "The University of Michigan, College of Engineering, Department of Naval Architecture and Marine Engineering, USA, Report No. 239",
     "id": "7505983/RWXBIIJJ",
     "issued": {
      "year": 1981
     },
     "language": "en",
     "title": "Prediction of ship roll damping - state of the art",
     "type": "article-journal"
    },
    "7505983/ZVF3F5V5": {
     "id": "7505983/ZVF3F5V5",
     "title": "Ikeda et al. - 1978 - Components of roll damping of ship at forward spee.pdf",
     "type": "article"
    }
   }
  },
  "kernelspec": {
   "display_name": "Python 3",
   "language": "python",
   "name": "python3"
  },
  "language_info": {
   "codemirror_mode": {
    "name": "ipython",
    "version": 3
   },
   "file_extension": ".py",
   "mimetype": "text/x-python",
   "name": "python",
   "nbconvert_exporter": "python",
   "pygments_lexer": "ipython3",
   "version": "3.9.5"
  },
  "metadata": {
   "interpreter": {
    "hash": "1af9919311219ec039f6aa4a644c204a4b4e1e8e730770ba7f65632752293606"
   }
  }
 },
 "nbformat": 4,
 "nbformat_minor": 4
}
