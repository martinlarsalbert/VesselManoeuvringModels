{
 "cells": [
  {
   "cell_type": "markdown",
   "id": "926970b4-48ca-4900-ba28-51cb48485faf",
   "metadata": {},
   "source": [
    "## Extended Kalman filter for Nomoto model"
   ]
  },
  {
   "cell_type": "code",
   "execution_count": null,
   "id": "370d2700-e2bd-44e5-b615-71f5fe5cdab0",
   "metadata": {},
   "outputs": [],
   "source": [
    "%load_ext autoreload\n",
    "%autoreload 2\n",
    "\n",
    "import pandas as pd\n",
    "import numpy as np\n",
    "import matplotlib.pyplot as plt\n",
    "from numpy.linalg import inv\n",
    "import sympy as sp\n",
    "\n",
    "import src.visualization.book_format as book_format\n",
    "book_format.set_style()\n",
    "from src.substitute_dynamic_symbols import lambdify\n",
    "from sympy import Matrix\n",
    "from sympy.physics.mechanics import (dynamicsymbols, ReferenceFrame,\n",
    "                                      Particle, Point)\n",
    "from IPython.display import display, Math, Latex\n",
    "from src.substitute_dynamic_symbols import run, lambdify\n",
    "from sympy.physics.vector.printing import vpprint, vlatex\n",
    "from src.data import mdl\n",
    "from src.kalman_filter import ssa, filter_yaw"
   ]
  },
  {
   "cell_type": "markdown",
   "id": "fff36b63-25e9-4417-8abf-1f75e86cfebf",
   "metadata": {},
   "source": [
    "## Load test"
   ]
  },
  {
   "cell_type": "code",
   "execution_count": null,
   "id": "93b9cb7f-603a-4e55-8a1d-6ad1e106f1d1",
   "metadata": {},
   "outputs": [],
   "source": [
    "id=22773\n",
    "df, units, meta_data = mdl.load(id=id)"
   ]
  },
  {
   "cell_type": "code",
   "execution_count": null,
   "id": "9ea6bfa8-e39f-4f46-9480-fe419609ea7e",
   "metadata": {},
   "outputs": [],
   "source": [
    "from src.visualization.plot import track_plot\n",
    "fig,ax=plt.subplots()\n",
    "fig.set_size_inches(10,10)\n",
    "track_plot(df=df, lpp=meta_data.lpp, x_dataset='x0', y_dataset='y0',  psi_dataset='psi', beam=meta_data.beam, ax=ax);"
   ]
  },
  {
   "cell_type": "markdown",
   "id": "10e263f1-a119-4fbd-af32-5b3846aad124",
   "metadata": {},
   "source": [
    "# First order Nomoto model for ship maneuvering dynamics\n",
    "The first order Nomoto model can be written as:"
   ]
  },
  {
   "cell_type": "code",
   "execution_count": null,
   "id": "64f0f029-c372-472b-807d-8a1cf57ca690",
   "metadata": {},
   "outputs": [],
   "source": [
    "K, delta, T_1, T_2 = sp.symbols('K delta T_1 T_2')\n",
    "r = dynamicsymbols('r')\n",
    "\n",
    "eq_nomoto = sp.Eq(-K*delta,\n",
    "                 r + T_1*r.diff() + T_2*r.diff().diff())\n",
    "Math(vlatex(eq_nomoto))"
   ]
  },
  {
   "cell_type": "markdown",
   "id": "b3015cb4-28d4-4ca6-8401-5bd1af8aff7a",
   "metadata": {},
   "source": [
    "where $r$ is yaw rate with its time derivatives and $\\delta$ is the rudder angle. $K$, $T_{1}$\n",
    " and $T_{1}$ are the coefficients describing the hydrodynamics of the ship.\n",
    " \n",
    "For slow manoeuvres this equation can be further simplified by removing the $\\ddot{r}$ term:"
   ]
  },
  {
   "cell_type": "code",
   "execution_count": null,
   "id": "d0bdad37-0ff6-4e38-8ad2-4846076a8e7f",
   "metadata": {},
   "outputs": [],
   "source": [
    "eq_nomoto_simple = eq_nomoto.subs(r.diff().diff(),0)\n",
    "Math(vlatex(eq_nomoto_simple))"
   ]
  },
  {
   "cell_type": "code",
   "execution_count": null,
   "id": "d73efe2e-bcdb-4562-a934-45ff4e9421a1",
   "metadata": {},
   "outputs": [],
   "source": [
    "sp.solve(eq_nomoto_simple,r, dict=True)[0][r]"
   ]
  },
  {
   "cell_type": "code",
   "execution_count": null,
   "id": "4c7b8492-e1c3-48df-90f0-a83623310a59",
   "metadata": {},
   "outputs": [],
   "source": [
    "sp.solve(eq_nomoto_simple,r.diff(), dict=True)[0][r.diff()]"
   ]
  },
  {
   "cell_type": "code",
   "execution_count": null,
   "id": "f9e74df0-0ffd-4024-8736-de88058c4e2b",
   "metadata": {},
   "outputs": [],
   "source": [
    "psi = sp.symbols('psi')\n",
    "x = Matrix([psi,r,r.diff()])\n",
    "x"
   ]
  },
  {
   "cell_type": "code",
   "execution_count": null,
   "id": "20e2b886-9b5e-4e4c-b122-2170e734b58a",
   "metadata": {},
   "outputs": [],
   "source": [
    "u = Matrix([delta])"
   ]
  },
  {
   "cell_type": "code",
   "execution_count": null,
   "id": "1b410a53-a598-4c51-bf96-b8c021e623ad",
   "metadata": {},
   "outputs": [],
   "source": [
    "h = sp.symbols('h')\n",
    "eqs = [\n",
    "0,\n",
    "sp.solve(eq_nomoto_simple,r, dict=True)[0][r],\n",
    "sp.solve(eq_nomoto_simple,r.diff(), dict=True)[0][r.diff()]\n",
    "]\n",
    "\n",
    "A = Matrix(eqs).jacobian(x)\n",
    "A[0,1] = 1\n",
    "A"
   ]
  },
  {
   "cell_type": "code",
   "execution_count": null,
   "id": "fdab009f-74da-434d-98f7-96a2ddc9d963",
   "metadata": {},
   "outputs": [],
   "source": [
    "Phi = sp.eye(3) + A*h\n",
    "Phi"
   ]
  },
  {
   "cell_type": "code",
   "execution_count": null,
   "id": "f48aaa94-0e5d-4347-8883-b26fac61b11f",
   "metadata": {},
   "outputs": [],
   "source": [
    "Ad = Phi"
   ]
  },
  {
   "cell_type": "code",
   "execution_count": null,
   "id": "cbf7e981-6074-4b68-8a72-a71b738ead83",
   "metadata": {},
   "outputs": [],
   "source": [
    "B = Matrix(eqs).jacobian(u)\n",
    "B"
   ]
  },
  {
   "cell_type": "code",
   "execution_count": null,
   "id": "4c485ea5-e505-496e-8f45-265dca80809b",
   "metadata": {},
   "outputs": [],
   "source": [
    "Bd = B*h\n",
    "Bd"
   ]
  },
  {
   "cell_type": "code",
   "execution_count": null,
   "id": "1041fbd2-1a71-46fe-a328-d6e20d90ceec",
   "metadata": {},
   "outputs": [],
   "source": [
    "sp.UnevaluatedExpr(Ad)*sp.UnevaluatedExpr(x) + sp.UnevaluatedExpr(Bd)*sp.UnevaluatedExpr(u)"
   ]
  },
  {
   "cell_type": "code",
   "execution_count": null,
   "id": "0dc8e5d8-a942-4005-a1c4-8b380a0c70a5",
   "metadata": {},
   "outputs": [],
   "source": [
    "lambda_Ad = lambdify(Ad)\n",
    "lambda_Bd = lambdify(Bd)"
   ]
  },
  {
   "cell_type": "code",
   "execution_count": null,
   "id": "dc676da4-e4de-4fa0-b8c2-c91e1ea45756",
   "metadata": {},
   "outputs": [],
   "source": [
    "T_1_ = 1.8962353076056344\n",
    "K_ = 0.17950970687951323\n",
    "h_ = 0.01\n",
    "\n",
    "Ad_=lambda_Ad(T_1=T_1_, h=h_)\n",
    "Bd_=lambda_Bd(K=K_, T_1=T_1_, h=h_)"
   ]
  },
  {
   "cell_type": "code",
   "execution_count": null,
   "id": "8548d94c-1105-4d86-89c4-21fae1f6f686",
   "metadata": {},
   "outputs": [],
   "source": [
    "np.random.seed(42)\n",
    "N_ = 1000\n",
    "t_ = np.arange(0,N_*h_,h_)\n",
    "\n",
    "us = np.deg2rad(np.concatenate((-10*np.ones(int(N_/4)),\n",
    "                                10*np.ones(int(N_/4)),\n",
    "                                -10*np.ones(int(N_/4)),\n",
    "                                10*np.ones(int(N_/4)))))\n",
    "\n",
    "simdata = []\n",
    "x_=np.array([[0,0,0]]).T\n",
    "for u_ in us:\n",
    "    \n",
    "    x_ = Ad_@x_ + Bd_*u_\n",
    "\n",
    "    simdata.append(x_.flatten())\n",
    "    \n",
    "simdata = np.array(simdata)\n",
    "df = pd.DataFrame(simdata, columns=[\"psi\",\"r\", \"r1d\"], index=t_)\n",
    "measurement_noise = np.deg2rad(1)\n",
    "df['epsilon'] = measurement_noise*np.random.normal(size=N_)\n",
    "\n",
    "df['psi_measure'] = df['psi'] + df['epsilon']\n",
    "df['psi_deg'] = np.rad2deg(df['psi'])\n",
    "df['psi_measure_deg'] = np.rad2deg(df['psi_measure'])\n",
    "df['delta'] = us\n",
    "df['delta_deg'] = np.rad2deg(df['delta'])\n"
   ]
  },
  {
   "cell_type": "code",
   "execution_count": null,
   "id": "7c21a150-770f-4947-909f-bcf46f9ee5fa",
   "metadata": {},
   "outputs": [],
   "source": [
    "fig,ax=plt.subplots()\n",
    "df.plot(y='psi_deg', ax=ax)\n",
    "df.plot(y='psi_measure_deg', ax=ax, zorder=-1)\n",
    "df.plot(y='delta_deg', ax=ax, zorder=-1)\n",
    "\n",
    "df.plot(y='r')\n",
    "df.plot(y='r1d')\n"
   ]
  },
  {
   "cell_type": "code",
   "execution_count": null,
   "id": "af6af409-3358-4c55-a1e4-bc0ba5089c72",
   "metadata": {},
   "outputs": [],
   "source": [
    "x0=np.deg2rad(np.array([[0,0,0]]).T)\n",
    "P_prd = np.diag(np.deg2rad([1, 0.1, 0.1]))\n",
    "\n",
    "Qd = np.deg2rad(np.diag([0, 0.1, 0.1]))\n",
    "\n",
    "Rd = np.deg2rad(10)\n",
    "\n",
    "ys = df['psi_measure'].values\n",
    "\n",
    "E_ = np.array(\n",
    "    [[0,0,0], [1,0,0], [1,0,0]],\n",
    ")\n",
    "\n",
    "C_ = np.array([[1, 0, 0]])\n",
    "\n",
    "Cd_ = C_\n",
    "Ed_ = h_ * E_\n",
    "\n",
    "time_steps = filter_yaw(x0=x0, P_prd=P_prd,h_m=h_,h=h_, us=us, ys=ys, Ad=Ad_, Bd=Bd_, Cd=Cd_, Ed=Ed_, Qd=Qd, Rd=Rd)\n",
    "x_hats = np.array([time_step[\"x_hat\"] for time_step in time_steps]).T\n",
    "time = np.array([time_step[\"time\"] for time_step in time_steps]).T\n",
    "Ks = np.array([time_step[\"K\"] for time_step in time_steps]).T\n"
   ]
  },
  {
   "cell_type": "code",
   "execution_count": null,
   "id": "9eba9cec-bf73-467f-aeb5-78d3775e991a",
   "metadata": {},
   "outputs": [],
   "source": [
    "n=len(Ad_)\n",
    "fig,axes=plt.subplots(nrows=n)\n",
    "\n",
    "keys = ['psi','r','r1d']\n",
    "for i,key in enumerate(keys):\n",
    "    \n",
    "    ax=axes[i]\n",
    "    df.plot(y=key, ax=ax, label=\"True\")\n",
    "    if key=='psi':\n",
    "        df.plot(y='psi_measure', ax=ax, label=\"Measured\", zorder=-1)\n",
    "    \n",
    "    ax.plot(time, x_hats[i, :], \"--\", label=\"kalman\")\n",
    "    ax.set_ylabel(key)\n",
    "    ax.legend()"
   ]
  },
  {
   "cell_type": "code",
   "execution_count": null,
   "id": "8a035a62-354b-4d48-9e23-461e187e21e9",
   "metadata": {},
   "outputs": [],
   "source": [
    "fig,ax=plt.subplots()\n",
    "for i,key in enumerate(keys):\n",
    "    ax.plot(time,Ks[i,:],label=key)\n",
    "ax.set_title('Kalman gains')\n",
    "ax.legend()\n"
   ]
  },
  {
   "cell_type": "code",
   "execution_count": null,
   "id": "f85b4ae3-e60e-4978-be8f-fc25a378093b",
   "metadata": {},
   "outputs": [],
   "source": []
  },
  {
   "cell_type": "code",
   "execution_count": null,
   "id": "c31ef191-0884-4485-8c70-de396ebef213",
   "metadata": {},
   "outputs": [],
   "source": []
  },
  {
   "cell_type": "code",
   "execution_count": null,
   "id": "ba81628e-cac2-4f4a-a63e-56efb8972a95",
   "metadata": {},
   "outputs": [],
   "source": []
  }
 ],
 "metadata": {
  "citation-manager": {
   "items": {}
  },
  "kernelspec": {
   "display_name": "Python 3",
   "language": "python",
   "name": "python3"
  },
  "language_info": {
   "codemirror_mode": {
    "name": "ipython",
    "version": 3
   },
   "file_extension": ".py",
   "mimetype": "text/x-python",
   "name": "python",
   "nbconvert_exporter": "python",
   "pygments_lexer": "ipython3",
   "version": "3.9.5"
  }
 },
 "nbformat": 4,
 "nbformat_minor": 5
}
