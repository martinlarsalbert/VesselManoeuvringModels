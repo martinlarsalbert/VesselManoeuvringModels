{
    "cells": [
        {
            "cell_type": "markdown",
            "metadata": {},
            "source": [
                "# Parameter drift"
            ]
        },
        {
            "cell_type": "markdown",
            "metadata": {},
            "source": [
                "# Purpose\n",
                "If the matematical model is not correct or too little data is available this may lead to paramter drift, so that the parameters in the matematical model changes depending on how the fitted data has been sampled."
            ]
        },
        {
            "cell_type": "markdown",
            "metadata": {},
            "source": [
                "# Methodology\n",
                "* Sample data of forces from a higher order model\n",
                "* Fit a lower order model to a random sample of this data"
            ]
        },
        {
            "cell_type": "markdown",
            "metadata": {},
            "source": [
                "# Setup"
            ]
        },
        {
            "cell_type": "code",
            "execution_count": null,
            "metadata": {},
            "outputs": [],
            "source": [
                "# %load imports.py\n",
                "## Local packages:\n",
                "\n",
                "%matplotlib inline\n",
                "%load_ext autoreload\n",
                "%autoreload 2\n",
                "%config Completer.use_jedi = False  ## (To fix autocomplete)\n",
                "\n",
                "## External packages:\n",
                "import pandas as pd\n",
                "pd.options.display.max_rows = 999\n",
                "pd.options.display.max_columns = 999\n",
                "pd.set_option(\"display.max_columns\", None)\n",
                "import numpy as np\n",
                "np.set_printoptions(linewidth=150)\n",
                "\n",
                "import numpy as np\n",
                "import os\n",
                "import matplotlib.pyplot as plt\n",
                "#if os.name == 'nt':\n",
                "#    plt.style.use('presentation.mplstyle')  # Windows\n",
                "\n",
                "import plotly.express as px \n",
                "import plotly.graph_objects as go\n",
                "\n",
                "import seaborn as sns\n",
                "import sympy as sp\n",
                "from sympy.physics.mechanics import (dynamicsymbols, ReferenceFrame,\n",
                "                                      Particle, Point)\n",
                "from sympy.physics.vector.printing import vpprint, vlatex\n",
                "from IPython.display import display, Math, Latex\n",
                "from vessel_manoeuvring_models.substitute_dynamic_symbols import run, lambdify\n",
                "\n",
                "import pyro\n",
                "\n",
                "import sklearn\n",
                "import pykalman\n",
                "from statsmodels.sandbox.regression.predstd import wls_prediction_std\n",
                "import statsmodels.api as sm\n",
                "\n",
                "from scipy.integrate import solve_ivp\n",
                "\n",
                "## Local packages:\n",
                "from vessel_manoeuvring_models.data import mdl\n",
                "\n",
                "from vessel_manoeuvring_models.symbols import *\n",
                "from vessel_manoeuvring_models.parameters import *\n",
                "import vessel_manoeuvring_models.symbols as symbols\n",
                "from vessel_manoeuvring_models import prime_system\n",
                "from vessel_manoeuvring_models.models.regression import ForceRegression, results_summary_to_dataframe\n",
                "from vessel_manoeuvring_models.models.diff_eq_to_matrix import DiffEqToMatrix\n",
                "from vessel_manoeuvring_models.visualization.regression import show_pred, show_pred_captive\n",
                "from vessel_manoeuvring_models.visualization.plot import track_plot,captive_plot\n",
                "\n",
                "## Load models:\n",
                "# (Uncomment these for faster loading):\n",
                "import vessel_manoeuvring_models.models.vmm_abkowitz  as vmm \n",
                "import vessel_manoeuvring_models.models.vmm_martin as vmm_simpler\n",
                "\n",
                "from vessel_manoeuvring_models.models.vmm import ModelSimulator\n",
                "\n",
                "from vessel_manoeuvring_models.data.wpcc import ship_parameters, df_parameters, ps, ship_parameters_prime, ps_ship, scale_factor\n"
            ]
        },
        {
            "cell_type": "code",
            "execution_count": null,
            "metadata": {},
            "outputs": [],
            "source": [
                "#format the book\n",
                "import vessel_manoeuvring_models.visualization.book_format as book_format\n",
                "book_format.set_style()"
            ]
        },
        {
            "cell_type": "markdown",
            "metadata": {},
            "source": [
                "## Load VCT data"
            ]
        },
        {
            "cell_type": "code",
            "execution_count": null,
            "metadata": {},
            "outputs": [],
            "source": [
                "df_VCT_all = pd.read_csv('../data/external/vct.csv', index_col=0)\n",
                "df_VCT = df_VCT_all.groupby(by=['model_name']).get_group('V2_5_MDL_modelScale')"
            ]
        },
        {
            "cell_type": "markdown",
            "metadata": {},
            "source": [
                "# Subtract the resistance"
            ]
        },
        {
            "cell_type": "code",
            "execution_count": null,
            "metadata": {},
            "outputs": [],
            "source": [
                "df_resistance = df_VCT.groupby(by='test type').get_group('resistance')\n",
                "\n",
                "X = df_resistance[['u','fx']].copy()\n",
                "X['u**2'] = X['u']**2\n",
                "y = X.pop('fx')\n",
                "\n",
                "model_resistance = sm.OLS(y,X)\n",
                "results_resistance = model_resistance.fit()\n",
                "\n",
                "X_pred = pd.DataFrame()\n",
                "X_pred['u'] = np.linspace(X['u'].min(), X['u'].max(), 20)\n",
                "X_pred['u**2'] = X_pred['u']**2\n",
                "X_pred['fx'] = results_resistance.predict(X_pred)\n",
                "\n",
                "fig,ax=plt.subplots()\n",
                "df_resistance.plot(x='u', y='fx', style='.', ax=ax)\n",
                "X_pred.plot(x='u', y='fx', style='--', ax=ax);\n"
            ]
        },
        {
            "cell_type": "code",
            "execution_count": null,
            "metadata": {},
            "outputs": [],
            "source": [
                "df_VCT_0_resistance = df_VCT.copy()\n",
                "df_VCT_0_resistance['u**2'] = df_VCT_0_resistance['u']**2\n",
                "df_VCT_0_resistance['fx']-= results_resistance.predict(df_VCT_0_resistance[['u','u**2']])"
            ]
        },
        {
            "cell_type": "markdown",
            "metadata": {},
            "source": [
                "## VCT to prime system"
            ]
        },
        {
            "cell_type": "code",
            "execution_count": null,
            "metadata": {},
            "outputs": [],
            "source": [
                "interesting = [\n",
                "    'u',\n",
                "    'v',\n",
                "    'r',\n",
                "    'delta',\n",
                "    'fx',\n",
                "    'fy',\n",
                "    'mz',\n",
                "    'thrust',\n",
                "]\n",
                "#df_VCT_prime = ps_ship.prime(df_VCT[interesting], U=df_VCT['V'])\n",
                "df_VCT_prime = ps_ship.prime(df_VCT_0_resistance[interesting], U=df_VCT_0_resistance['V'])"
            ]
        },
        {
            "cell_type": "markdown",
            "metadata": {},
            "source": [
                "## Fit a lower order model to this captive dataset"
            ]
        },
        {
            "cell_type": "markdown",
            "metadata": {},
            "source": [
                "### Regression"
            ]
        },
        {
            "cell_type": "code",
            "execution_count": null,
            "metadata": {},
            "outputs": [],
            "source": [
                "df_captive = df_VCT_prime.copy()\n",
                "df_captive['test type'] = df_VCT['test type']\n",
                "reg = ForceRegression(vmm=vmm, data=df_captive)\n",
                "display(reg.show_pred_X())\n",
                "display(reg.show_pred_Y())\n",
                "display(reg.show_pred_N())"
            ]
        },
        {
            "cell_type": "code",
            "execution_count": null,
            "metadata": {},
            "outputs": [],
            "source": [
                "model_vct = reg.create_model(df_parameters=df_parameters, ship_parameters=ship_parameters, ps=ps, control_keys=['delta'])"
            ]
        },
        {
            "cell_type": "code",
            "execution_count": null,
            "metadata": {},
            "outputs": [],
            "source": [
                "outputs = model_vct.forces(inputs = df_VCT_prime)\n",
                "df_captive_all = pd.merge(left=df_captive, right=outputs, \n",
                "                      how='left', \n",
                "                      left_index=True, \n",
                "                      right_index=True,\n",
                "                      suffixes = ('','_model'),\n",
                "                      )\n",
                "\n",
                "captive_plot(df_captive=df_captive_all, suffixes=['_model'], \n",
                "             legends = ['VCT', 'model'], styles=['.', '-'])"
            ]
        },
        {
            "cell_type": "code",
            "execution_count": null,
            "metadata": {},
            "outputs": [],
            "source": [
                "df_captive = df_VCT_prime.copy()\n",
                "df_captive['test type'] = df_VCT['test type']\n",
                "\n",
                "N = len(df_captive)\n",
                "N_sample = N - 5\n",
                "df_captive_sample = df_captive.sample(n=N_sample, random_state=42)"
            ]
        },
        {
            "cell_type": "code",
            "execution_count": null,
            "metadata": {},
            "outputs": [],
            "source": [
                "N"
            ]
        },
        {
            "cell_type": "code",
            "execution_count": null,
            "metadata": {},
            "outputs": [],
            "source": [
                "model_names = [f'{i}' for i in range(20)]\n",
                "\n",
                "df_captive_all = df_captive.copy()\n",
                "np.random.seed(42)\n",
                "\n",
                "models = {}\n",
                "\n",
                "for model_name in model_names:\n",
                "    \n",
                "    df_captive_sample = df_captive.sample(n=N_sample)\n",
                "    \n",
                "    reg = ForceRegression(vmm=vmm, data=df_captive_sample)\n",
                "    model_reg = reg.create_model(df_parameters=df_parameters, ship_parameters=ship_parameters, ps=ps)\n",
                "    \n",
                "    models[model_name] = model_vct = reg.create_model(df_parameters=df_parameters, ship_parameters=ship_parameters, ps=ps)\n",
                "    \n",
                "    \n",
                "    outputs = model_reg.forces(inputs = df_captive)\n",
                "    df_captive_all = pd.merge(left=df_captive_all, right=outputs, \n",
                "                          how='left', \n",
                "                          left_index=True, \n",
                "                          right_index=True,\n",
                "                          suffixes = ('',f'_{model_name}'),\n",
                "                          )"
            ]
        },
        {
            "cell_type": "code",
            "execution_count": null,
            "metadata": {},
            "outputs": [],
            "source": [
                "suffixes = [f'_{model_name}' for model_name in model_names]\n",
                "styles = ['r.'] + ['b-' for model_name in model_names]\n",
                "\n",
                "legends = ['VCT'] + model_names\n",
                "\n",
                "captive_plot(df_captive=df_captive_all, suffixes=suffixes, \n",
                "             legends = legends, styles=styles, alpha=0.2, lw=2, add_legend=False)"
            ]
        },
        {
            "cell_type": "code",
            "execution_count": null,
            "metadata": {},
            "outputs": [],
            "source": [
                "df_results = pd.DataFrame()\n",
                "result = model_vct.zigzag(u0=2, angle=30)\n",
                "\n",
                "for model_name, model in models.items():\n",
                "    result_ = model.simulate(result.result)\n",
                "    df_ = result_.result\n",
                "    df_['t'] = df_.index\n",
                "    df_['model_name'] = model_name\n",
                "    df_results = df_results.append(df_, ignore_index=True)\n",
                "    "
            ]
        },
        {
            "cell_type": "code",
            "execution_count": null,
            "metadata": {},
            "outputs": [],
            "source": [
                "from vessel_manoeuvring_models.visualization.plot import track_plot\n",
                "\n",
                "fig,ax=plt.subplots()\n",
                "fig.set_size_inches(10,10)\n",
                "\n",
                "for model_name, df_ in df_results.groupby(by='model_name'):\n",
                "    \n",
                "    df_.plot(x='x0', y='y0', ax=ax, alpha=0.2, lw=3, style='b-')\n",
                "\n",
                "result.result.plot(x='x0', y='y0', style='k-', zorder=10, ax=ax)\n",
                "    \n",
                "ax.set_xlabel('x0 [m]')   \n",
                "ax.set_ylabel('y0 [m]')   \n",
                "\n",
                "ax.set_aspect(\"equal\")\n",
                "ax.set_title(\"Track plot\")\n",
                "ax.get_legend().set_visible(False)\n",
                "ax.grid(True)\n",
                "handles, labels = ax.get_legend_handles_labels()\n",
                "ax.legend(handles[-2:],['simulations','model test'])"
            ]
        },
        {
            "cell_type": "code",
            "execution_count": null,
            "metadata": {},
            "outputs": [],
            "source": [
                "fig,ax=plt.subplots()\n",
                "fig.set_size_inches(14,3)\n",
                "\n",
                "df_results['psi_deg'] = np.rad2deg(df_results['psi'])\n",
                "\n",
                "df_results_ = result.result.copy()\n",
                "df_results_['-delta_deg'] =-np.rad2deg(df_results_['delta'])\n",
                "df_results_['psi_deg'] = np.rad2deg(df_results_['psi'])\n",
                "\n",
                "for model_name, df_ in df_results.groupby(by='model_name'):\n",
                "    \n",
                "    df_.plot(x='t', y='psi_deg', ax=ax, alpha=0.2, lw=3, style='b-')\n",
                "\n",
                "df_results_.plot(y='psi_deg', ax=ax, style='k-', zorder=10)\n",
                "df_results_.plot(y='-delta_deg', ax=ax, style='m-', zorder=10)\n",
                "    \n",
                "ax.set_xlabel('time [s]')   \n",
                "ax.set_ylabel('Heading $\\psi$ [deg]')   \n",
                "\n",
                "ax.set_title(\"ZigZag30/30\")\n",
                "\n",
                "handles, labels = ax.get_legend_handles_labels()\n",
                "ax.legend(handles[-3:],['alternative models','model','rudder angle'])\n",
                "\n",
                "ax.grid(True)\n",
                "ax.set_ylim(-60,60)"
            ]
        },
        {
            "cell_type": "code",
            "execution_count": null,
            "metadata": {},
            "outputs": [],
            "source": [
                "model_vct.parameters"
            ]
        },
        {
            "cell_type": "code",
            "execution_count": null,
            "metadata": {},
            "outputs": [],
            "source": []
        }
    ],
    "metadata": {
        "citation-manager": {
            "items": {}
        },
        "kernelspec": {
            "display_name": "Python 3",
            "language": "python",
            "name": "python3"
        },
        "language_info": {
            "codemirror_mode": {
                "name": "ipython",
                "version": 3
            },
            "file_extension": ".py",
            "mimetype": "text/x-python",
            "name": "python",
            "nbconvert_exporter": "python",
            "pygments_lexer": "ipython3",
            "version": "3.9.5"
        }
    },
    "nbformat": 4,
    "nbformat_minor": 4
}