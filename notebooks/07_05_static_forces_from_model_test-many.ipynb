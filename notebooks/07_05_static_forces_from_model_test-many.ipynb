{
    "cells": [
        {
            "cell_type": "markdown",
            "metadata": {},
            "source": [
                "# Quasi static forces from many model tests"
            ]
        },
        {
            "cell_type": "markdown",
            "metadata": {},
            "source": [
                "# Purpose\n",
                "Calculating the quasi static forces from a model test by assuming the added masses. This can then be compared to the static VCT calculations."
            ]
        },
        {
            "cell_type": "markdown",
            "metadata": {},
            "source": [
                "# Setup"
            ]
        },
        {
            "cell_type": "code",
            "execution_count": null,
            "metadata": {},
            "outputs": [],
            "source": [
                "# %load imports.py\n",
                "# %load imports.py\n",
                "%matplotlib inline\n",
                "%load_ext autoreload\n",
                "%autoreload 2\n",
                "%config Completer.use_jedi = False  ## (To fix autocomplete)\n",
                "\n",
                "## External packages:\n",
                "import pandas as pd\n",
                "pd.options.display.max_rows = 999\n",
                "pd.options.display.max_columns = 999\n",
                "pd.set_option(\"display.max_columns\", None)\n",
                "\n",
                "import numpy as np\n",
                "import os\n",
                "import matplotlib.pyplot as plt\n",
                "#if os.name == 'nt':\n",
                "#    plt.style.use('presentation.mplstyle')  # Windows\n",
                "\n",
                "import plotly.express as px \n",
                "import plotly.graph_objects as go\n",
                "\n",
                "import seaborn as sns\n",
                "import sympy as sp\n",
                "from sympy.physics.mechanics import (dynamicsymbols, ReferenceFrame,\n",
                "                                      Particle, Point)\n",
                "from sympy.physics.vector.printing import vpprint, vlatex\n",
                "from IPython.display import display, Math, Latex\n",
                "from vessel_manoeuvring_models.substitute_dynamic_symbols import run, lambdify\n",
                "\n",
                "import pyro\n",
                "\n",
                "import sklearn\n",
                "import pykalman\n",
                "from statsmodels.sandbox.regression.predstd import wls_prediction_std\n",
                "import statsmodels.api as sm\n",
                "\n",
                "from scipy.integrate import solve_ivp\n",
                "\n",
                "## Local packages:\n",
                "from vessel_manoeuvring_models.data import mdl\n",
                "#import vessel_manoeuvring_models.models.nonlinear_martin_vmm as vmm\n",
                "#import vessel_manoeuvring_models.nonlinear_martin_vmm_equations as eq\n",
                "\n",
                "#import vessel_manoeuvring_models.models.linear_vmm as vmm\n",
                "#import vessel_manoeuvring_models.nonlinear_vmm_equations as eq\n",
                "#import vessel_manoeuvring_models.nonlinear_martin_vmm_equations as eq\n",
                "import vessel_manoeuvring_models.nonlinear_abkowitz_vmm_equations as eq\n",
                "from vessel_manoeuvring_models.models.vmm import Simulation\n",
                "\n",
                "#import vessel_manoeuvring_models.models.linear_vmm as model\n",
                "from vessel_manoeuvring_models.symbols import *\n",
                "from vessel_manoeuvring_models.parameters import *\n",
                "import vessel_manoeuvring_models.symbols as symbols\n",
                "from vessel_manoeuvring_models import prime_system\n",
                "from vessel_manoeuvring_models.models import regression\n",
                "from vessel_manoeuvring_models.visualization.plot import track_plot\n",
                "from vessel_manoeuvring_models.equation import Equation"
            ]
        },
        {
            "cell_type": "markdown",
            "metadata": {},
            "source": [
                "# Methodology\n",
                "Generally:\n",
                "\n",
                "$ F = m \\cdot a $\n",
                "\n",
                "if $m$ (including added mass) can is known $F$ should be possible to calculate from a dynamic model test.\n",
                "\n",
                "For the ship in the Y-direction this can be written as:"
            ]
        },
        {
            "cell_type": "markdown",
            "metadata": {},
            "source": [
                "## Y:"
            ]
        },
        {
            "cell_type": "code",
            "execution_count": null,
            "metadata": {},
            "outputs": [],
            "source": [
                "Math(vlatex(eq.Y_eom))"
            ]
        },
        {
            "cell_type": "code",
            "execution_count": null,
            "metadata": {},
            "outputs": [],
            "source": [
                "Math(vlatex(eq.fy_eq))"
            ]
        },
        {
            "cell_type": "code",
            "execution_count": null,
            "metadata": {},
            "outputs": [],
            "source": [
                "Y_eq = eq.Y_eom.subs(eq.Y_force,sp.solve(eq.fy_eq,Y_force)[0])\n",
                "\n",
                "#Y_eq = Y_eq.subs([\n",
                "#    (eq.p.Yudot,0),\n",
                "#    (eq.p.Yrdot,0),\n",
                "#])\n",
                "\n",
                "Math(vlatex(Y_eq))"
            ]
        },
        {
            "cell_type": "code",
            "execution_count": null,
            "metadata": {},
            "outputs": [],
            "source": [
                "eq_Y_qs = sp.Eq(Y_qs,\n",
                "      sp.solve(Y_eq, Y_qs)[0])\n",
                "Math(vlatex(eq_Y_qs))"
            ]
        },
        {
            "cell_type": "code",
            "execution_count": null,
            "metadata": {},
            "outputs": [],
            "source": [
                "subs = {value:key for key,value in eq.p.items()}\n",
                "Y_qs_lambda = lambdify(eq_Y_qs.subs(subs).rhs)"
            ]
        },
        {
            "cell_type": "markdown",
            "metadata": {},
            "source": [
                "## X:"
            ]
        },
        {
            "cell_type": "code",
            "execution_count": null,
            "metadata": {},
            "outputs": [],
            "source": [
                "Math(vlatex(eq.X_eom))"
            ]
        },
        {
            "cell_type": "code",
            "execution_count": null,
            "metadata": {},
            "outputs": [],
            "source": [
                "Math(vlatex(eq.fx_eq))"
            ]
        },
        {
            "cell_type": "code",
            "execution_count": null,
            "metadata": {},
            "outputs": [],
            "source": [
                "X_eq = eq.X_eom.subs(eq.X_force,sp.solve(eq.fx_eq,X_force)[0])\n",
                "\n",
                "#X_eq = X_eq.subs([\n",
                "#    (eq.p.Xvdot,0),\n",
                "#    (eq.p.Xrdot,0),\n",
                "#])\n",
                "\n",
                "\n",
                "Math(vlatex(X_eq))"
            ]
        },
        {
            "cell_type": "code",
            "execution_count": null,
            "metadata": {},
            "outputs": [],
            "source": [
                "eq_X_qs = sp.Eq(X_qs,\n",
                "      sp.solve(X_eq, X_qs)[0])\n",
                "Math(vlatex(eq_X_qs))"
            ]
        },
        {
            "cell_type": "code",
            "execution_count": null,
            "metadata": {},
            "outputs": [],
            "source": [
                "subs = {value:key for key,value in eq.p.items()}\n",
                "X_qs_lambda = lambdify(eq_X_qs.subs(subs).rhs)"
            ]
        },
        {
            "cell_type": "markdown",
            "metadata": {},
            "source": [
                "## N:"
            ]
        },
        {
            "cell_type": "code",
            "execution_count": null,
            "metadata": {},
            "outputs": [],
            "source": [
                "Math(vlatex(eq.N_eom))"
            ]
        },
        {
            "cell_type": "code",
            "execution_count": null,
            "metadata": {},
            "outputs": [],
            "source": [
                "Math(vlatex(eq.mz_eq))"
            ]
        },
        {
            "cell_type": "code",
            "execution_count": null,
            "metadata": {},
            "outputs": [],
            "source": [
                "N_eq = eq.N_eom.subs(eq.N_force,sp.solve(eq.mz_eq,N_force)[0])\n",
                "\n",
                "#N_eq = N_eq.subs([\n",
                "#    (eq.p.Nudot,0),\n",
                "#    (eq.p.Nvdot,0),\n",
                "#])\n",
                "\n",
                "Math(vlatex(N_eq))"
            ]
        },
        {
            "cell_type": "code",
            "execution_count": null,
            "metadata": {},
            "outputs": [],
            "source": [
                "eq_N_qs = sp.Eq(N_qs,\n",
                "      sp.solve(N_eq, N_qs)[0])\n",
                "Math(vlatex(eq_N_qs))"
            ]
        },
        {
            "cell_type": "code",
            "execution_count": null,
            "metadata": {},
            "outputs": [],
            "source": [
                "N_qs_lambda = lambdify(eq_N_qs.subs(subs).rhs)"
            ]
        },
        {
            "cell_type": "code",
            "execution_count": null,
            "metadata": {},
            "outputs": [],
            "source": [
                "simulation = Simulation(X_eq=X_eq, Y_eq=Y_eq, N_eq=N_eq)"
            ]
        },
        {
            "cell_type": "code",
            "execution_count": null,
            "metadata": {},
            "outputs": [],
            "source": [
                "simulation.A"
            ]
        },
        {
            "cell_type": "code",
            "execution_count": null,
            "metadata": {},
            "outputs": [],
            "source": [
                "simulation.b"
            ]
        },
        {
            "cell_type": "markdown",
            "metadata": {},
            "source": [
                "# Quasi static forces from model tests"
            ]
        },
        {
            "cell_type": "markdown",
            "metadata": {},
            "source": [
                "## Load tests"
            ]
        },
        {
            "cell_type": "code",
            "execution_count": null,
            "metadata": {},
            "outputs": [],
            "source": [
                "df_runs = df_runs = pd.read_csv('../data/processed/kalman_cut/runs.csv', index_col=0)\n",
                "df_runs_selected = df_runs"
            ]
        },
        {
            "cell_type": "code",
            "execution_count": null,
            "metadata": {},
            "outputs": [],
            "source": [
                "df_runs['test_type'].unique()"
            ]
        },
        {
            "cell_type": "code",
            "execution_count": null,
            "metadata": {},
            "outputs": [],
            "source": []
        },
        {
            "cell_type": "code",
            "execution_count": null,
            "metadata": {},
            "outputs": [],
            "source": [
                "#id=22773\n",
                "#id=22616\n",
                "#id=22774\n",
                "##id=22770\n",
                "\n",
                "def load_run(id):\n",
                "    \n",
                "    df, units, meta_data = mdl.load(id=id, dir_path='../data/processed/kalman_cut')\n",
                "    df.index = df.index.total_seconds()\n",
                "    df.index-=df.index[0]\n",
                "    df.sort_index(inplace=True)\n",
                "    df['-delta'] = -df['delta']\n",
                "    df['V'] = np.sqrt(df['u']**2 + df['v']**2)\n",
                "    \n",
                "    return df, units, meta_data\n",
                "\n",
                "df_all = pd.DataFrame()\n",
                "for id,row in df_runs_selected.iterrows():\n",
                "    \n",
                "    df_, units, meta_data = load_run(id)\n",
                "    df_['id'] = id\n",
                "    df_['t'] = df_.index\n",
                "    df_all = df_all.append(df_, ignore_index=True)\n",
                "\n",
                "    \n",
                "df_all['thrust'] = df_all['Prop/PS/Thrust'] + df_all['Prop/SB/Thrust']\n",
                "df_all['U'] = df_all['V']\n",
                "\n",
                "#Switch to infiltered:\n",
                "#gradients = ['u','v','r','u1d','v1d','r1d']\n",
                "#for gradient in gradients:\n",
                "#    df_all[gradient] = df_all[f'{gradient}_gradient']\n",
                "       "
            ]
        },
        {
            "cell_type": "code",
            "execution_count": null,
            "metadata": {},
            "outputs": [],
            "source": [
                "fig,ax=plt.subplots()\n",
                "df_all.plot(y='v_gradient',ax=ax)\n",
                "df_all.plot(y='v', ax=ax)\n",
                "\n",
                "fig,ax=plt.subplots()\n",
                "df_all.plot(y='v1d_gradient',ax=ax)\n",
                "df_all.plot(y='v1d', ax=ax)"
            ]
        },
        {
            "cell_type": "code",
            "execution_count": null,
            "metadata": {},
            "outputs": [],
            "source": [
                "fig,ax=plt.subplots()\n",
                "df_all.plot(y='v1d', ax=ax)"
            ]
        },
        {
            "cell_type": "code",
            "execution_count": null,
            "metadata": {},
            "outputs": [],
            "source": [
                "runs = df_all.groupby(by='id')\n",
                "for (test_type,ship_speed), group in df_runs_selected.groupby(by=['test_type','ship_speed']):\n",
                "    \n",
                "    fig,ax=plt.subplots()\n",
                "    for id,_ in group.iterrows(): \n",
                "        df = runs.get_group(id)\n",
                "        track_plot(df=df, lpp=meta_data.lpp, x_dataset='x0', y_dataset='y0',  psi_dataset='psi', beam=meta_data.beam, ax=ax);\n",
                "        \n",
                "    ax.set_title(f'{test_type}: {ship_speed} kts')"
            ]
        },
        {
            "cell_type": "code",
            "execution_count": null,
            "metadata": {},
            "outputs": [],
            "source": [
                "df_runs_ref_speed = df_runs_selected.groupby(by='test_type').get_group('reference speed')\n",
                "mask = df_all['id'].isin(df_runs_ref_speed.index)\n",
                "df_all_ref_speed = df_all.loc[mask]"
            ]
        },
        {
            "cell_type": "code",
            "execution_count": null,
            "metadata": {},
            "outputs": [],
            "source": [
                "np.rad2deg(df_all_ref_speed['delta'].mean())"
            ]
        },
        {
            "cell_type": "code",
            "execution_count": null,
            "metadata": {},
            "outputs": [],
            "source": [
                "meta_data['rho']=1000\n",
                "meta_data['mass'] = meta_data['Volume']*meta_data['rho']\n",
                "meta_data.dropna()"
            ]
        },
        {
            "cell_type": "code",
            "execution_count": null,
            "metadata": {},
            "outputs": [],
            "source": [
                "df_all.head()"
            ]
        },
        {
            "cell_type": "markdown",
            "metadata": {},
            "source": [
                "# Ship parameters"
            ]
        },
        {
            "cell_type": "code",
            "execution_count": null,
            "metadata": {},
            "outputs": [],
            "source": [
                "T_ = (meta_data.TA + meta_data.TF)/2\n",
                "L_ = meta_data.lpp\n",
                "m_ = meta_data.mass\n",
                "rho_ = meta_data.rho\n",
                "B_ = meta_data.beam\n",
                "CB_ = m_/(T_*B_*L_*rho_)\n",
                "I_z_ = m_*meta_data.KZZ**2\n",
                "#I_z_ = 900\n",
                "\n",
                "\n",
                "ship_parameters = {\n",
                "        'T' : T_,\n",
                "        'L' : L_,\n",
                "        'CB' :CB_,\n",
                "        'B' : B_,\n",
                "        'rho' : rho_,\n",
                "        'x_G' : 0,  # motions are expressed at CG\n",
                "        'm' : m_,\n",
                "        'I_z': I_z_, \n",
                "        'volume':meta_data.Volume,\n",
                "    }\n",
                "\n",
                "ps = prime_system.PrimeSystem(**ship_parameters)  # model\n",
                "\n",
                "scale_factor = meta_data.scale_factor\n",
                "ps_ship = prime_system.PrimeSystem(L=ship_parameters['L']*scale_factor, rho=meta_data['rho'])  # ship"
            ]
        },
        {
            "cell_type": "code",
            "execution_count": null,
            "metadata": {},
            "outputs": [],
            "source": [
                "ship_parameters"
            ]
        },
        {
            "cell_type": "markdown",
            "metadata": {},
            "source": [
                "# Brix parameters"
            ]
        },
        {
            "cell_type": "code",
            "execution_count": null,
            "metadata": {},
            "outputs": [],
            "source": [
                "def calculate_prime(row, ship_parameters):\n",
                "    return run(function=row['brix_lambda'], inputs=ship_parameters)\n",
                "\n",
                "\n",
                "mask = df_parameters['brix_lambda'].notnull()\n",
                "df_parameters.loc[mask,'brix_prime'] = df_parameters.loc[mask].apply(calculate_prime, ship_parameters=ship_parameters, axis=1)\n",
                "\n",
                "df_parameters['brix_prime'].fillna(0, inplace=True)\n",
                "#df_parameters['brix_SI'].fillna(0, inplace=True)\n",
                "\n"
            ]
        },
        {
            "cell_type": "code",
            "execution_count": null,
            "metadata": {},
            "outputs": [],
            "source": [
                "df_parameters.groupby(by='state').get_group('dot')"
            ]
        },
        {
            "cell_type": "code",
            "execution_count": null,
            "metadata": {},
            "outputs": [],
            "source": [
                "df_parameters['prime'] = df_parameters['brix_prime']\n",
                "\n",
                "def to_SI(row):\n",
                "    \n",
                "    prime = row['prime']\n",
                "    denominator = row['denominator']\n",
                "    lamda = lambdify(denominator)\n",
                "    try:\n",
                "        denominator_value = run(lamda, inputs=ship_parameters)\n",
                "        SI = prime*denominator_value\n",
                "    except:\n",
                "        return None\n",
                "    else:\n",
                "        return SI\n",
                "    \n",
                "df_parameters['brix_SI'] = df_parameters.apply(to_SI, axis=1)\n",
                "    "
            ]
        },
        {
            "cell_type": "code",
            "execution_count": null,
            "metadata": {},
            "outputs": [],
            "source": [
                "df_all['Y_qs'] = run(Y_qs_lambda, inputs=ship_parameters, **df_all, **df_parameters['brix_SI'])\n",
                "df_all['X_qs'] = run(X_qs_lambda, inputs=ship_parameters, **df_all, **df_parameters['brix_SI'])\n",
                "df_all['N_qs'] = run(N_qs_lambda, inputs=ship_parameters, **df_all, **df_parameters['brix_SI'])"
            ]
        },
        {
            "cell_type": "code",
            "execution_count": null,
            "metadata": {},
            "outputs": [],
            "source": [
                "Y_qs_lambda"
            ]
        },
        {
            "cell_type": "code",
            "execution_count": null,
            "metadata": {},
            "outputs": [],
            "source": [
                "keys = ['X_qs','Y_qs','N_qs','delta']\n",
                "\n",
                "for key in keys:\n",
                "    title=key\n",
                "    display(px.line(df_all, x='t', y=key, width=1000, height=400, line_group='id', color='id', title=title, hover_data=['id']))"
            ]
        },
        {
            "cell_type": "code",
            "execution_count": null,
            "metadata": {},
            "outputs": [],
            "source": [
                "sns.pairplot(df_all, x_vars=['u','v','r','delta'], y_vars=['X_qs','Y_qs','N_qs'])"
            ]
        },
        {
            "cell_type": "markdown",
            "metadata": {},
            "source": [
                "# Regression"
            ]
        },
        {
            "cell_type": "markdown",
            "metadata": {},
            "source": [
                "## N"
            ]
        },
        {
            "cell_type": "code",
            "execution_count": null,
            "metadata": {},
            "outputs": [],
            "source": [
                "Math(vlatex(eq.N_qs_eq))"
            ]
        },
        {
            "cell_type": "code",
            "execution_count": null,
            "metadata": {},
            "outputs": [],
            "source": [
                "simulation.define_quasi_static_forces(X_qs_eq=eq.X_qs_eq, Y_qs_eq=eq.Y_qs_eq, N_qs_eq=eq.N_qs_eq)"
            ]
        },
        {
            "cell_type": "code",
            "execution_count": null,
            "metadata": {},
            "outputs": [],
            "source": [
                "N_ = sp.symbols('N_')\n",
                "diff_eq_N = regression.DiffEqToMatrix(ode=simulation.N_qs_eq.subs(N_qs,N_), \n",
                "                                      label=N_, base_features=[delta,u,v,r])"
            ]
        },
        {
            "cell_type": "code",
            "execution_count": null,
            "metadata": {},
            "outputs": [],
            "source": [
                "diff_eq_N.acceleration_equation_x.rhs"
            ]
        },
        {
            "cell_type": "code",
            "execution_count": null,
            "metadata": {},
            "outputs": [],
            "source": [
                "Math(vlatex(diff_eq_N.eq_X))"
            ]
        },
        {
            "cell_type": "code",
            "execution_count": null,
            "metadata": {},
            "outputs": [],
            "source": [
                "diff_eq_N.eq_y"
            ]
        },
        {
            "cell_type": "code",
            "execution_count": null,
            "metadata": {},
            "outputs": [],
            "source": [
                "diff_eq_N.y_lambda"
            ]
        },
        {
            "cell_type": "code",
            "execution_count": null,
            "metadata": {},
            "outputs": [],
            "source": [
                "from statsmodels.sandbox.regression.predstd import wls_prediction_std\n",
                "def show_pred(X,y,results, label):\n",
                "    \n",
                "    display(results.summary())\n",
                "    \n",
                "    X_ = X\n",
                "    y_ = y\n",
                "    y_pred = results.predict(X_)\n",
                "    \n",
                "    prstd, iv_l, iv_u = wls_prediction_std(results, exog=X_, alpha=0.05)\n",
                "    #iv_l*=-1 \n",
                "    #iv_u*=-1\n",
                "    \n",
                "    fig,ax=plt.subplots()\n",
                "    ax.plot(X_.index,y_, label='Numerical gradient from model test')\n",
                "    ax.plot(X_.index,y_pred, '--', label='OLS')\n",
                "    ax.set_ylabel(label)\n",
                "    \n",
                "    ax.fill_between(X_.index, y1=iv_l, y2=iv_u, zorder=-10, color='grey', alpha=0.5, label=r'5\\% confidence')\n",
                "    ax.legend();"
            ]
        },
        {
            "cell_type": "code",
            "execution_count": null,
            "metadata": {},
            "outputs": [],
            "source": [
                "df_runs['test_type'].unique()"
            ]
        },
        {
            "cell_type": "code",
            "execution_count": null,
            "metadata": {},
            "outputs": [],
            "source": [
                "mask = df_runs['test_type']!='reference speed'\n",
                "df_runs_man = df_runs.loc[mask].copy()\n",
                "mask = df_all['id'].isin(df_runs_man.index)\n",
                "df_all_man = df_all.loc[mask]"
            ]
        },
        {
            "cell_type": "code",
            "execution_count": null,
            "metadata": {},
            "outputs": [],
            "source": [
                "for id,group in df_all_man.groupby(by='id'):\n",
                "    fig,ax=plt.subplots()\n",
                "    track_plot(df=group, lpp=meta_data.lpp, x_dataset='x0', y_dataset='y0',  psi_dataset='psi', beam=meta_data.beam, ax=ax);\n",
                "    ax.set_title(id)"
            ]
        },
        {
            "cell_type": "code",
            "execution_count": null,
            "metadata": {},
            "outputs": [],
            "source": [
                "X = diff_eq_N.calculate_features(data=df_all_man)\n",
                "#X = sm.add_constant(X)\n",
                "y = diff_eq_N.calculate_label(y=df_all_man['N_qs'])\n",
                "\n",
                "model_N = sm.OLS(y,X)\n",
                "results_N = model_N.fit()\n",
                "\n",
                "show_pred(X=X,y=y,results=results_N, label=r'$N_{qs}$')"
            ]
        },
        {
            "cell_type": "markdown",
            "metadata": {},
            "source": [
                "## Y"
            ]
        },
        {
            "cell_type": "code",
            "execution_count": null,
            "metadata": {},
            "outputs": [],
            "source": [
                "Y_ = sp.symbols('Y_')\n",
                "diff_eq_Y = regression.DiffEqToMatrix(ode=simulation.Y_qs_eq.subs(Y_qs,Y_), \n",
                "                                      label=Y_, base_features=[delta,u,v,r])"
            ]
        },
        {
            "cell_type": "code",
            "execution_count": null,
            "metadata": {},
            "outputs": [],
            "source": [
                "X = diff_eq_Y.calculate_features(data=df_all_man)\n",
                "#X = sm.add_constant(X)\n",
                "y = diff_eq_Y.calculate_label(y=df_all_man['Y_qs'])\n",
                "\n",
                "model_Y = sm.OLS(y,X)\n",
                "results_Y = model_Y.fit()\n",
                "\n",
                "show_pred(X=X,y=y,results=results_Y, label=r'$Y_{qs}$')"
            ]
        },
        {
            "cell_type": "markdown",
            "metadata": {},
            "source": [
                "## X"
            ]
        },
        {
            "cell_type": "code",
            "execution_count": null,
            "metadata": {},
            "outputs": [],
            "source": [
                "X_ = sp.symbols('X_')\n",
                "diff_eq_X = regression.DiffEqToMatrix(ode=simulation.X_qs_eq.subs(X_qs,X_), \n",
                "                                      label=X_, base_features=[delta,u,v,r,thrust])"
            ]
        },
        {
            "cell_type": "code",
            "execution_count": null,
            "metadata": {},
            "outputs": [],
            "source": [
                "X = diff_eq_X.calculate_features(data=df_all)\n",
                "#X = sm.add_constant(X)\n",
                "y = diff_eq_X.calculate_label(y=df_all['X_qs'])\n",
                "\n",
                "model_X = sm.OLS(y,X)\n",
                "results_X = model_X.fit()\n",
                "\n",
                "show_pred(X=X,y=y,results=results_X, label=r'$X_{qs}$')"
            ]
        },
        {
            "cell_type": "code",
            "execution_count": null,
            "metadata": {},
            "outputs": [],
            "source": [
                "results_summary_X = regression.results_summary_to_dataframe(results_X)\n",
                "results_summary_Y = regression.results_summary_to_dataframe(results_Y)\n",
                "results_summary_N = regression.results_summary_to_dataframe(results_N)"
            ]
        },
        {
            "cell_type": "markdown",
            "metadata": {},
            "source": [
                "## Add the regressed parameters\n",
                "Hydrodynamic derivatives that depend on acceleration cannot be obtained from the VCT regression. They are however essential if a time simulation should be conducted. These values have then been taken from Brix semi empirical formulas for the simulations below."
            ]
        },
        {
            "cell_type": "code",
            "execution_count": null,
            "metadata": {},
            "outputs": [],
            "source": [
                "df_parameters_all = df_parameters.copy()\n",
                "for other in [results_summary_X, results_summary_Y, results_summary_N]:\n",
                "    df_parameters_all = df_parameters_all.combine_first(other)\n",
                "\n",
                "df_parameters_all.rename(columns={'coeff':'regressed'}, inplace=True)\n",
                "df_parameters_all.drop(columns=['brix_lambda'], inplace=True)\n",
                "\n",
                "df_parameters_all['SI'] = df_parameters_all['regressed'].combine_first(df_parameters_all['brix_SI'])  # prefer regressed\n",
                "df_parameters_all['SI'].fillna(0,inplace=True)"
            ]
        },
        {
            "cell_type": "code",
            "execution_count": null,
            "metadata": {},
            "outputs": [],
            "source": [
                "df_parameters_all.head()"
            ]
        },
        {
            "cell_type": "code",
            "execution_count": null,
            "metadata": {},
            "outputs": [],
            "source": [
                "fig,ax=plt.subplots()\n",
                "fig.set_size_inches(15,5)\n",
                "mask = ((df_parameters_all['brix_prime'] != 0) |\n",
                "        (df_parameters_all['regressed']).notnull())\n",
                "        \n",
                "df_parameters_plot = df_parameters_all.loc[mask]\n",
                "df_parameters_plot.plot.bar(y=['brix_SI','regressed'], ax=ax);"
            ]
        },
        {
            "cell_type": "markdown",
            "metadata": {},
            "source": [
                "# Simulate captive"
            ]
        },
        {
            "cell_type": "code",
            "execution_count": null,
            "metadata": {},
            "outputs": [],
            "source": [
                "#subs = {value:key for key,value in eq.p.items()}\n",
                "#X_qs_lambda_regress = lambdify(eq.X_qs_eq.rhs.subs(subs))\n",
                "#Y_qs_lambda_regress = lambdify(eq.Y_qs_eq.rhs.subs(subs))\n",
                "#N_qs_lambda_regress = lambdify(eq.N_qs_eq.rhs.subs(subs))"
            ]
        },
        {
            "cell_type": "code",
            "execution_count": null,
            "metadata": {},
            "outputs": [],
            "source": [
                "df_all['X_qs_pred'] = run(function=simulation.X_qs_lambda, inputs=df_all, **df_parameters_all['SI'])\n",
                "df_all['Y_qs_pred'] = run(function=simulation.Y_qs_lambda, inputs=df_all, **df_parameters_all['SI'])\n",
                "df_all['N_qs_pred'] = run(function=simulation.N_qs_lambda, inputs=df_all, **df_parameters_all['SI'])\n"
            ]
        },
        {
            "cell_type": "code",
            "execution_count": null,
            "metadata": {},
            "outputs": [],
            "source": [
                "df_ = runs.get_group(22774)\n",
                "\n",
                "for key in ['X_qs','Y_qs','N_qs']:\n",
                "    fig,ax=plt.subplots()\n",
                "    df_.plot(x=key, y=f'{key}_pred',style='.', ax=ax, alpha=0.2)\n",
                "    ax.grid(True)\n",
                "\n",
                "track_plot(df=df_, lpp=meta_data.lpp, x_dataset='x0', y_dataset='y0',  psi_dataset='psi', beam=meta_data.beam);\n",
                "df_.plot(y=['X_qs','X_qs_pred','thrust'])\n",
                "\n",
                "fig,ax=plt.subplots()\n",
                "df_.plot(x='t', y=['N_qs'], ax=ax)\n",
                "df_.plot(x='t', y=['N_qs_pred'], alpha=0.5, ax=ax)\n",
                "ax2 = ax.twinx()\n",
                "df_.plot(x='t', y=['delta'], style='--', alpha=0.5, ax=ax2)\n",
                "ax.grid(True)\n",
                "\n",
                "ax.grid(True)\n",
                "\n",
                "df_.plot(y=['u','v'])\n",
                "df_.plot(y=['u1d','v1d'])"
            ]
        },
        {
            "cell_type": "code",
            "execution_count": null,
            "metadata": {},
            "outputs": [],
            "source": [
                "mask = ((df_['N_qs'] > 6) & (df_['N_qs'] < 9))\n",
                "df_.loc[mask].plot(x='t', y=['N_qs','N_qs_pred'], style='.')\n",
                "\n",
                "\n",
                "fig,ax=plt.subplots()\n",
                "df_.plot(x='t', y=['N_qs'], ax=ax)\n",
                "df_.plot(x='t', y=['N_qs_pred'], style='.', alpha=0.5, ax=ax)\n",
                "ax.set_xlim(0,3)\n",
                "\n",
                "ax2 = ax.twinx()\n",
                "df_.plot(x='t', y=['delta'], style='--', alpha=0.5, ax=ax2)\n",
                "ax.legend(loc='lower right')\n",
                "ax.grid(True)\n",
                "\n",
                "\n",
                "fig,ax=plt.subplots()\n",
                "df_.plot(x='t', y=['u','v','r'], ax=ax)\n",
                "ax.set_xlim(0,1)"
            ]
        },
        {
            "cell_type": "code",
            "execution_count": null,
            "metadata": {},
            "outputs": [],
            "source": [
                "X = diff_eq_N.calculate_features(data=df_)\n",
                "y = diff_eq_N.calculate_label(y=df_['N_qs'])\n",
                "\n",
                "N_forces = X*results_summary_N['coeff']\n",
                "N_forces['t'] = df_['t']\n",
                "#X_forces['id'] = df_all['id']\n",
                "display(px.line(N_forces, x='t', y=N_forces.columns, width=1000, height=400))"
            ]
        },
        {
            "cell_type": "code",
            "execution_count": null,
            "metadata": {},
            "outputs": [],
            "source": [
                "#df_.head()"
            ]
        },
        {
            "cell_type": "code",
            "execution_count": null,
            "metadata": {},
            "outputs": [],
            "source": [
                "for key in ['X_qs','Y_qs','N_qs']:\n",
                "    fig,ax=plt.subplots()\n",
                "    \n",
                "    for id,group in df_all.groupby(by='id'):\n",
                "        group.plot(x=key, y=f'{key}_pred',style='.', ax=ax, label=id)\n",
                "    \n",
                "    ax.plot([df_all[key].min(), df_all[key].max()], [df_all[key].min(), df_all[key].max()], 'r-')\n",
                "    \n",
                "    #ax.get_legend().set_visible(False)"
            ]
        },
        {
            "cell_type": "code",
            "execution_count": null,
            "metadata": {},
            "outputs": [],
            "source": [
                "df_captive = pd.DataFrame()\n",
                "\n",
                "V_ = 2.0\n",
                "\n",
                "betas = np.deg2rad(np.linspace(0,30,5))\n",
                "deltas = np.deg2rad(np.linspace(-35,35,5))\n",
                "\n",
                "Betas, Deltas = np.meshgrid(betas,deltas)\n",
                "\n",
                "df_captive['beta'] = Betas.flatten()\n",
                "df_captive['delta'] = Deltas.flatten()\n",
                "\n",
                "df_captive['u'] = V_*np.cos(df_captive['beta'])\n",
                "df_captive['v'] = -V_*np.sin(df_captive['beta'])\n",
                "df_captive['thrust'] = 0\n",
                "df_captive['r'] = 0\n",
                "\n",
                "\n",
                "df_captive['X_qs_pred'] = run(function=simulation.X_qs_lambda, inputs=df_captive, **df_parameters_all['SI'])\n",
                "df_captive['Y_qs_pred'] = run(function=simulation.Y_qs_lambda, inputs=df_captive, **df_parameters_all['SI'])\n",
                "df_captive['N_qs_pred'] = run(function=simulation.N_qs_lambda, inputs=df_captive, **df_parameters_all['SI'])\n",
                "\n",
                "keys = ['X_qs','Y_qs','N_qs']\n",
                "\n",
                "x_keys = ['beta','delta']\n",
                "for x_key in x_keys:\n",
                "    \n",
                "    fig,axes=plt.subplots(ncols=len(keys))\n",
                "    fig.set_size_inches(15,4)\n",
                "    \n",
                "    others = list(x_keys)\n",
                "    others.remove(x_key)\n",
                "    \n",
                "    for group_name, group in df_captive.groupby(others):\n",
                "        \n",
                "        if not isinstance(group_name,list):\n",
                "            group_name = [group_name]\n",
                "        label =''.join([f'{other}:{np.round(name,2)}, ' for other,name in zip(others,group_name)])\n",
                "        \n",
                "        for key,ax in zip(keys,axes):\n",
                "            \n",
                "            group.plot(x=x_key, y=f'{key}_pred',style='.-', ax=ax, label=label)\n",
                "            #ax.get_legend().set_visible(False)\n",
                "            ax.set_title(key)\n",
                "            ax.grid(True)"
            ]
        },
        {
            "cell_type": "markdown",
            "metadata": {},
            "source": [
                "# Simulation"
            ]
        },
        {
            "cell_type": "code",
            "execution_count": null,
            "metadata": {},
            "outputs": [],
            "source": [
                "u1d,v1d,r1d = sp.symbols('u1d, v1d, r1d')\n",
                "subs = [\n",
                "    (u1d,u1d),\n",
                "    (v1d,v1d),\n",
                "    (r1d,r1d),\n",
                "\n",
                "]\n",
                "eq_X_ = X_eq.subs(subs)\n",
                "eq_Y_ = Y_eq.subs(subs)\n",
                "eq_N_ = N_eq.subs(subs)\n",
                "\n",
                "\n",
                "A,b = sp.linear_eq_to_matrix([eq_X_,eq_Y_,eq_N_],[u1d,v1d,r1d])\n",
                "\n",
                "acceleartion_eq = A.inv()*b\n",
                "## Lambdify:\n",
                "subs = {value:key for key,value in eq.p.items()}\n",
                "subs[X_qs] = sp.symbols('X_qs')\n",
                "subs[Y_qs] = sp.symbols('Y_qs')\n",
                "subs[N_qs] = sp.symbols('N_qs')\n",
                "\n",
                "acceleartion_lambda = lambdify(acceleartion_eq.subs(subs))"
            ]
        },
        {
            "cell_type": "code",
            "execution_count": null,
            "metadata": {},
            "outputs": [],
            "source": [
                "A"
            ]
        },
        {
            "cell_type": "code",
            "execution_count": null,
            "metadata": {},
            "outputs": [],
            "source": [
                "b"
            ]
        },
        {
            "cell_type": "code",
            "execution_count": null,
            "metadata": {},
            "outputs": [],
            "source": [
                "from scipy.spatial.transform import Rotation as R\n",
                "\n",
                "def step(t, states, parameters, ship_parameters, control):\n",
                "\n",
                "    u,v,r,x0,y0,psi = states\n",
                "    \n",
                "    if u < 0:\n",
                "        dstates = [\n",
                "        0,\n",
                "        0,\n",
                "        0,\n",
                "        0,\n",
                "        0,\n",
                "        0,\n",
                "        ]    \n",
                "        return dstates\n",
                "    \n",
                "    states_dict = {\n",
                "        'u':u,\n",
                "        'v':v,\n",
                "        'r':r,\n",
                "        'x0':x0,\n",
                "        'y0':y0,\n",
                "        'psi':psi,\n",
                "        \n",
                "        }\n",
                "    \n",
                "    inputs = dict(parameters)\n",
                "    inputs.update(ship_parameters)\n",
                "    inputs.update(states_dict)\n",
                "    \n",
                "    if isinstance(control, pd.DataFrame):\n",
                "        index = np.argmin(np.array(np.abs(control.index - t)))\n",
                "        control_ = dict(control.iloc[index])\n",
                "    else:\n",
                "        control_ = control\n",
                "    inputs.update(control_)\n",
                "    \n",
                "    #inputs['U'] = np.sqrt(u**2 + v**2)  #Instantanious velocity\n",
                "    \n",
                "    inputs['X_qs'] = run(function=X_qs_lambda_regress, inputs=inputs)\n",
                "    inputs['Y_qs'] = run(function=Y_qs_lambda_regress, inputs=inputs)\n",
                "    inputs['N_qs'] = run(function=N_qs_lambda_regress, inputs=inputs)\n",
                "    u1d,v1d,r1d = run(function=acceleartion_lambda, inputs=inputs)\n",
                "    \n",
                "    rotation = R.from_euler('z', psi, degrees=False)\n",
                "    w = 0\n",
                "    velocities = rotation.apply([u,v,w])\n",
                "    x01d = velocities[0]\n",
                "    y01d = velocities[1]\n",
                "    psi1d = r    \n",
                "    dstates = [\n",
                "        u1d,\n",
                "        v1d,\n",
                "        r1d,\n",
                "        x01d,\n",
                "        y01d,\n",
                "        psi1d,\n",
                "    ]    \n",
                "    return dstates"
            ]
        },
        {
            "cell_type": "code",
            "execution_count": null,
            "metadata": {},
            "outputs": [],
            "source": [
                "def simulate(df_, parameters, ship_parameters):\n",
                "    \n",
                "    t = df_.index\n",
                "    t_span = [t.min(),t.max()]\n",
                "    t_eval = np.linspace(t.min(),t.max(),len(t))\n",
                "    \n",
                "    control = df_[['delta','thrust']]\n",
                "    \n",
                "    df_0 = df_.iloc[0:10].median(axis=0)\n",
                "    y0 = {\n",
                "        'u' : df_0['u'], \n",
                "        'v' : df_0['v'],\n",
                "        'r' : df_0['r'],\n",
                "        'x0' : df_0['x0'],\n",
                "        'y0' : df_0['y0'],\n",
                "        'psi' : df_0['psi']\n",
                "        }\n",
                "    \n",
                "    solution = solve_ivp(fun=step, t_span=t_span, y0=list(y0.values()), t_eval=t_eval, \n",
                "                args=(parameters, ship_parameters, control))\n",
                "    \n",
                "    columns = list(y0.keys())\n",
                "    df_result = pd.DataFrame(data=solution.y.T, columns=columns)\n",
                "    df_result.index=t[0:len(df_result)]\n",
                "    \n",
                "    df_result['beta'] = -np.arctan2(df_result['v'],df_result['u'])\n",
                "    \n",
                "    return solution, df_result"
            ]
        },
        {
            "cell_type": "code",
            "execution_count": null,
            "metadata": {},
            "outputs": [],
            "source": [
                "#id=22773\n",
                "#id=22612\n",
                "#id=22774\n",
                "#id=22770\n",
                "\n",
                "id = 22764 #\tzigzag\t10.0\n",
                "#id = 22772 #\tzigzag\t20.0\n",
                "#id = 22774 #\tturning circle\tNaN\n",
                "\n",
                "parameters = df_parameters_all['SI'].copy()\n",
                "\n",
                "df = runs.get_group(id).copy()\n",
                "df.set_index('t', inplace=True)\n",
                "simulation.simulate(df, parameters = parameters, \n",
                "                               ship_parameters=ship_parameters)\n",
                "df_result = simulation.result"
            ]
        },
        {
            "cell_type": "code",
            "execution_count": null,
            "metadata": {},
            "outputs": [],
            "source": [
                "fig,ax=plt.subplots()\n",
                "track_plot(df=df, lpp=ship_parameters['L'], beam=ship_parameters['B'],ax=ax, label='model test')\n",
                "track_plot(df=df_result, lpp=ship_parameters['L'], beam=ship_parameters['B'],ax=ax, label='simulation', color='green')\n",
                "ax.legend()\n",
                "\n",
                "for key in df_result:\n",
                "    fig,ax = plt.subplots()\n",
                "    df.plot(y=key, label='model test', ax=ax)\n",
                "    df_result.plot(y=key, label='simulation', ax=ax)\n",
                "    ax.set_ylabel(key)"
            ]
        },
        {
            "cell_type": "code",
            "execution_count": null,
            "metadata": {},
            "outputs": [],
            "source": [
                "data = df_result\n",
                "data['delta'] = df['delta']\n",
                "data['thrust'] = df['thrust']\n",
                "\n",
                "X = diff_eq_N.calculate_features(data=data)\n",
                "N_forces = X*results_summary_N['coeff']\n",
                "N_forces.index = df_result.index\n",
                "#X_forces['id'] = df_all['id']\n",
                "display(px.line(N_forces.loc[0:100], y=N_forces.columns, width=1000, height=400))"
            ]
        },
        {
            "cell_type": "code",
            "execution_count": null,
            "metadata": {},
            "outputs": [],
            "source": []
        }
    ],
    "metadata": {
        "kernelspec": {
            "display_name": "Python 3",
            "language": "python",
            "name": "python3"
        },
        "language_info": {
            "codemirror_mode": {
                "name": "ipython",
                "version": 3
            },
            "file_extension": ".py",
            "mimetype": "text/x-python",
            "name": "python",
            "nbconvert_exporter": "python",
            "pygments_lexer": "ipython3",
            "version": "3.9.5"
        },
        "toc": {
            "base_numbering": 1,
            "nav_menu": {},
            "number_sections": true,
            "sideBar": true,
            "skip_h1_title": false,
            "title_cell": "Table of Contents",
            "title_sidebar": "Contents",
            "toc_cell": false,
            "toc_position": {
                "height": "calc(100% - 180px)",
                "left": "10px",
                "top": "150px",
                "width": "251.094px"
            },
            "toc_section_display": true,
            "toc_window_display": true
        }
    },
    "nbformat": 4,
    "nbformat_minor": 4
}