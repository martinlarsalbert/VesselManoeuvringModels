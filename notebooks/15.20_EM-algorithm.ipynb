{
    "cells": [
        {
            "cell_type": "markdown",
            "metadata": {},
            "source": [
                "# Expectation–maximization algorithm"
            ]
        },
        {
            "cell_type": "markdown",
            "metadata": {},
            "source": [
                "# Purpose\n",
                "* Understand how the EM-algorithm works to estimate parameters"
            ]
        },
        {
            "cell_type": "markdown",
            "metadata": {},
            "source": [
                "# Methodology\n",
                "* Implement a simple EM-algorithm"
            ]
        },
        {
            "cell_type": "markdown",
            "metadata": {},
            "source": [
                "# Setup"
            ]
        },
        {
            "cell_type": "code",
            "execution_count": null,
            "metadata": {},
            "outputs": [],
            "source": [
                "# %load imports.py\n",
                "## Local packages:\n",
                "\n",
                "%matplotlib inline\n",
                "%load_ext autoreload\n",
                "%autoreload 2\n",
                "%config Completer.use_jedi = False  ## (To fix autocomplete)\n",
                "\n",
                "## External packages:\n",
                "import pandas as pd\n",
                "pd.options.display.max_rows = 999\n",
                "pd.options.display.max_columns = 999\n",
                "pd.set_option(\"display.max_columns\", None)\n",
                "\n",
                "import numpy as np\n",
                "import os\n",
                "import matplotlib.pyplot as plt\n",
                "#if os.name == 'nt':\n",
                "#    plt.style.use('presentation.mplstyle')  # Windows\n",
                "\n",
                "import plotly.express as px \n",
                "import plotly.graph_objects as go\n",
                "\n",
                "import seaborn as sns\n",
                "import sympy as sp\n",
                "from sympy.physics.mechanics import (dynamicsymbols, ReferenceFrame,\n",
                "                                      Particle, Point)\n",
                "from sympy.physics.vector.printing import vpprint, vlatex\n",
                "from IPython.display import display, Math, Latex\n",
                "from vessel_manoeuvring_models.substitute_dynamic_symbols import run, lambdify\n",
                "\n",
                "import pyro\n",
                "\n",
                "import sklearn\n",
                "import pykalman\n",
                "from statsmodels.sandbox.regression.predstd import wls_prediction_std\n",
                "import statsmodels.api as sm\n",
                "\n",
                "from scipy.integrate import solve_ivp\n",
                "\n",
                "## Local packages:\n",
                "from vessel_manoeuvring_models.data import mdl\n",
                "\n",
                "from vessel_manoeuvring_models.symbols import *\n",
                "from vessel_manoeuvring_models.parameters import *\n",
                "import vessel_manoeuvring_models.symbols as symbols\n",
                "from vessel_manoeuvring_models import prime_system\n",
                "from vessel_manoeuvring_models.models import regression\n",
                "from vessel_manoeuvring_models.visualization.regression import show_pred\n",
                "from vessel_manoeuvring_models.visualization.plot import track_plot\n",
                "\n",
                "## Load models:\n",
                "# (Uncomment these for faster loading):\n",
                "import vessel_manoeuvring_models.models.vmm_linear  as vmm\n",
                "from vessel_manoeuvring_models.data.case_0 import ship_parameters, df_parameters, ps, ship_parameters_prime\n",
                "from vessel_manoeuvring_models.data.transform import transform_to_ship\n",
                "\n",
                "from scipy.stats import norm\n",
                "import filterpy.stats as stats\n",
                "from filterpy.common import Q_discrete_white_noise\n",
                "from filterpy.kalman import KalmanFilter\n",
                "from numpy import sum"
            ]
        },
        {
            "cell_type": "markdown",
            "metadata": {},
            "source": [
                "## Generate some data"
            ]
        },
        {
            "cell_type": "code",
            "execution_count": null,
            "metadata": {},
            "outputs": [],
            "source": [
                "t_ = np.linspace(0,10,11)\n",
                "k_ = 1\n",
                "x = k_*t_\n",
                "\n",
                "z = x + np.random.normal(scale=0.5, size=len(t_))\n",
                "\n",
                "fig,ax=plt.subplots()\n",
                "ax.plot(t_,x, label='real')\n",
                "ax.plot(t_,z, 'o', label='measurement')\n",
                "ax.legend();\n",
                "\n",
                "\n"
            ]
        },
        {
            "cell_type": "code",
            "execution_count": null,
            "metadata": {},
            "outputs": [],
            "source": [
                "F = 2  # Guessing\n",
                "for i in range(5):\n",
                "    F = sum(x[1:] - F*x[0:-1])/sum(x**2)\n",
                "    print(F)\n"
            ]
        },
        {
            "cell_type": "code",
            "execution_count": null,
            "metadata": {},
            "outputs": [],
            "source": []
        },
        {
            "cell_type": "code",
            "execution_count": null,
            "metadata": {},
            "outputs": [],
            "source": [
                "len(x[0:-1])"
            ]
        },
        {
            "cell_type": "code",
            "execution_count": null,
            "metadata": {},
            "outputs": [],
            "source": [
                "len(x[1:])"
            ]
        },
        {
            "cell_type": "code",
            "execution_count": null,
            "metadata": {},
            "outputs": [],
            "source": [
                "F"
            ]
        },
        {
            "cell_type": "code",
            "execution_count": null,
            "metadata": {},
            "outputs": [],
            "source": []
        }
    ],
    "metadata": {
        "citation-manager": {
            "items": {}
        },
        "kernelspec": {
            "display_name": "Python 3",
            "language": "python",
            "name": "python3"
        },
        "language_info": {
            "codemirror_mode": {
                "name": "ipython",
                "version": 3
            },
            "file_extension": ".py",
            "mimetype": "text/x-python",
            "name": "python",
            "nbconvert_exporter": "python",
            "pygments_lexer": "ipython3",
            "version": "3.9.5"
        }
    },
    "nbformat": 4,
    "nbformat_minor": 4
}