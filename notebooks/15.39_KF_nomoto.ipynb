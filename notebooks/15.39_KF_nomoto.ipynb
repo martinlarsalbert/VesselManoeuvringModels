{
 "cells": [
  {
   "cell_type": "markdown",
   "id": "926970b4-48ca-4900-ba28-51cb48485faf",
   "metadata": {},
   "source": [
    "# Kalman filter for Nomoto model\n",
    "A Kalman filter with a Nomoto model as the predictor will be developed.\n",
    "The filter is run on simulated data as well as real model test data."
   ]
  },
  {
   "cell_type": "code",
   "execution_count": null,
   "id": "370d2700-e2bd-44e5-b615-71f5fe5cdab0",
   "metadata": {},
   "outputs": [],
   "source": [
    "%load_ext autoreload\n",
    "%autoreload 2\n",
    "\n",
    "import pandas as pd\n",
    "import numpy as np\n",
    "import matplotlib.pyplot as plt\n",
    "from numpy.linalg import inv\n",
    "import sympy as sp\n",
    "\n",
    "import vessel_manoeuvring_models.visualization.book_format as book_format\n",
    "book_format.set_style()\n",
    "from vessel_manoeuvring_models.substitute_dynamic_symbols import lambdify\n",
    "from sympy import Matrix\n",
    "from sympy.physics.mechanics import (dynamicsymbols, ReferenceFrame,\n",
    "                                      Particle, Point)\n",
    "from IPython.display import display, Math, Latex\n",
    "from vessel_manoeuvring_models.substitute_dynamic_symbols import run, lambdify\n",
    "from sympy.physics.vector.printing import vpprint, vlatex\n",
    "from vessel_manoeuvring_models.data import mdl\n",
    "from vessel_manoeuvring_models.kalman_filter import ssa, filter_yaw"
   ]
  },
  {
   "cell_type": "markdown",
   "id": "10e263f1-a119-4fbd-af32-5b3846aad124",
   "metadata": {},
   "source": [
    "## First order Nomoto model for ship manoeuvring dynamics\n",
    "The first order Nomoto model can be written as:"
   ]
  },
  {
   "cell_type": "code",
   "execution_count": null,
   "id": "96815005-8be1-48e6-a33a-8b51a54746c0",
   "metadata": {},
   "outputs": [],
   "source": [
    "r,r1d,r2d = sp.symbols('r \\dot{r} \\ddot{r}')\n",
    "psi,psi1d = sp.symbols('psi \\dot{\\psi}')\n",
    "h,u = sp.symbols('h u')\n",
    "x, x1d = sp.symbols('x \\dot{x}')\n",
    "A,B,C,D,E, Phi = sp.symbols('A B C D E Phi')\n",
    "w = sp.symbols('w')\n",
    "\n",
    "K, delta, T_1, T_2 = sp.symbols('K delta T_1 T_2')\n",
    "\n",
    "eq_nomoto = sp.Eq(K*delta,\n",
    "                 r + T_1*r1d + T_2*r2d)\n",
    "Math(vlatex(eq_nomoto))"
   ]
  },
  {
   "cell_type": "markdown",
   "id": "b3015cb4-28d4-4ca6-8401-5bd1af8aff7a",
   "metadata": {},
   "source": [
    "where $r$ is yaw rate with its time derivatives and $\\delta$ is the rudder angle. $K$, $T_{1}$\n",
    " and $T_{1}$ are the coefficients describing the hydrodynamics of the ship.\n",
    " \n",
    "For slow manoeuvres this equation can be further simplified by removing the $\\ddot{r}$ term:"
   ]
  },
  {
   "cell_type": "code",
   "execution_count": null,
   "id": "d0bdad37-0ff6-4e38-8ad2-4846076a8e7f",
   "metadata": {},
   "outputs": [],
   "source": [
    "eq_nomoto_simple = eq_nomoto.subs(r2d,0)\n",
    "Math(vlatex(eq_nomoto_simple))"
   ]
  },
  {
   "cell_type": "markdown",
   "id": "daf2fafb-a9c9-4623-ac03-f58f5c065f72",
   "metadata": {},
   "source": [
    "### Simulation model"
   ]
  },
  {
   "cell_type": "code",
   "execution_count": null,
   "id": "db238f61-3bd7-455d-9ae3-d33a64c7e6b4",
   "metadata": {},
   "outputs": [],
   "source": [
    "eq_system = sp.Eq(x1d, A*x + B*u + E*w)\n",
    "eq_system"
   ]
  },
  {
   "cell_type": "markdown",
   "id": "705602b0-ba0c-4a40-b411-52bc78cefb8e",
   "metadata": {},
   "source": [
    "Where the state vector $x$:"
   ]
  },
  {
   "cell_type": "code",
   "execution_count": null,
   "id": "f9e74df0-0ffd-4024-8736-de88058c4e2b",
   "metadata": {},
   "outputs": [],
   "source": [
    "eq_x = sp.Eq(x, sp.UnevaluatedExpr(Matrix([psi,r])))\n",
    "eq_x"
   ]
  },
  {
   "cell_type": "markdown",
   "id": "d5b0ea22-e217-4aa3-9b93-6c8c34c07989",
   "metadata": {},
   "source": [
    "and input vector $u$:"
   ]
  },
  {
   "cell_type": "code",
   "execution_count": null,
   "id": "20e2b886-9b5e-4e4c-b122-2170e734b58a",
   "metadata": {},
   "outputs": [],
   "source": [
    "eq_u = sp.Eq(u, sp.UnevaluatedExpr(Matrix([delta])))\n",
    "eq_u"
   ]
  },
  {
   "cell_type": "markdown",
   "id": "b3383e52-d900-4e67-80eb-ef7985c5e0aa",
   "metadata": {},
   "source": [
    "and $w$ is zero mean Gausian process noise"
   ]
  },
  {
   "cell_type": "markdown",
   "id": "8b650852-ef4b-4d4f-bf92-40742bcb0843",
   "metadata": {},
   "source": [
    "For the nomoto model the time derivatives for the states can be expressed as:"
   ]
  },
  {
   "cell_type": "code",
   "execution_count": null,
   "id": "59b33fcf-4a29-47f1-afaa-8b1dd1d9f849",
   "metadata": {},
   "outputs": [],
   "source": [
    "eq_psi1d = sp.Eq(psi1d,r)\n",
    "eq_psi1d"
   ]
  },
  {
   "cell_type": "code",
   "execution_count": null,
   "id": "a45a1dc1-8293-4a85-acd2-50db51fca702",
   "metadata": {},
   "outputs": [],
   "source": [
    "eq_r1d = sp.Eq(r1d,sp.solve(eq_nomoto_simple,r1d)[0])\n",
    "eq_r1d"
   ]
  },
  {
   "cell_type": "markdown",
   "id": "7c50e973-b49f-4029-bde2-71c35d3fcc65",
   "metadata": {},
   "source": [
    "So that matrix $A$ can be expressed as:"
   ]
  },
  {
   "cell_type": "code",
   "execution_count": null,
   "id": "9f983403-9b70-45c7-aa3d-3a056039357c",
   "metadata": {},
   "outputs": [],
   "source": [
    "eqs = (eq_psi1d, eq_r1d,)\n",
    "A_,b_ =sp.linear_eq_to_matrix(eqs, list(eq_x.rhs.doit()))\n",
    "eq_A = sp.Eq(A, sp.UnevaluatedExpr(-A_))\n",
    "eq_A"
   ]
  },
  {
   "cell_type": "markdown",
   "id": "eac37c74-f3ec-45e9-a2c7-8068c3701e9d",
   "metadata": {},
   "source": [
    "and $B$ as:"
   ]
  },
  {
   "cell_type": "code",
   "execution_count": null,
   "id": "19ddb4d6-0008-46fe-87f3-440c56d70d27",
   "metadata": {},
   "outputs": [],
   "source": [
    "B_,b_ =sp.linear_eq_to_matrix(eqs, list(eq_u.rhs.doit()))\n",
    "eq_B = sp.Eq(B,sp.UnevaluatedExpr(B_))\n",
    "eq_B"
   ]
  },
  {
   "cell_type": "markdown",
   "id": "09c6f01b-7eee-4d41-8cfb-5c75182cbd0c",
   "metadata": {},
   "source": [
    "### Discrete time step model"
   ]
  },
  {
   "cell_type": "markdown",
   "id": "6c4ffc89-e9ba-4362-a67b-a6715b97facb",
   "metadata": {},
   "source": [
    "The first term of a taylor expansion of $A$ can be written as:"
   ]
  },
  {
   "cell_type": "code",
   "execution_count": null,
   "id": "fdab009f-74da-434d-98f7-96a2ddc9d963",
   "metadata": {},
   "outputs": [],
   "source": [
    "eq_Phi = sp.Eq(Phi, sp.UnevaluatedExpr(sp.eye(2)) + sp.UnevaluatedExpr(eq_A.rhs.doit()*h))\n",
    "display(eq_Phi)\n",
    "#eq_Phi = sp.Eq(Phi, eq_Phi.rhs.doit())"
   ]
  },
  {
   "cell_type": "code",
   "execution_count": null,
   "id": "19c4e500-4777-4f6b-a87f-76e64099eeac",
   "metadata": {},
   "outputs": [],
   "source": [
    "A_d,B_d = sp.symbols('A_d B_d')"
   ]
  },
  {
   "cell_type": "markdown",
   "id": "fc6b591b-82dc-45c3-869a-b9a3e146e82d",
   "metadata": {},
   "source": [
    "The discrete state transition matrixes can then be written:"
   ]
  },
  {
   "cell_type": "code",
   "execution_count": null,
   "id": "839404f4-0b7a-4dd2-ad2e-b2a593324505",
   "metadata": {},
   "outputs": [],
   "source": [
    "eq_A_d=sp.Eq(A_d,Phi)\n",
    "eq_A_d"
   ]
  },
  {
   "cell_type": "code",
   "execution_count": null,
   "id": "4c485ea5-e505-496e-8f45-265dca80809b",
   "metadata": {},
   "outputs": [],
   "source": [
    "eq_B_d = sp.Eq(B_d,B*h)\n",
    "eq_B_d"
   ]
  },
  {
   "cell_type": "code",
   "execution_count": null,
   "id": "0dc8e5d8-a942-4005-a1c4-8b380a0c70a5",
   "metadata": {},
   "outputs": [],
   "source": [
    "lambda_Ad = lambdify(eq_Phi.rhs.doit())\n",
    "lambda_Bd = lambdify(eq_B.rhs.doit()*h)"
   ]
  },
  {
   "cell_type": "code",
   "execution_count": null,
   "id": "4bd123ab-b2f1-4031-8e42-e8ac7c9025fe",
   "metadata": {},
   "outputs": [],
   "source": [
    "eq_B.rhs.doit()*h"
   ]
  },
  {
   "cell_type": "code",
   "execution_count": null,
   "id": "7f1e82a2-e17f-4003-8b59-85292530ac0f",
   "metadata": {},
   "outputs": [],
   "source": [
    "eq_Phi.rhs.doit()"
   ]
  },
  {
   "cell_type": "code",
   "execution_count": null,
   "id": "dc676da4-e4de-4fa0-b8c2-c91e1ea45756",
   "metadata": {},
   "outputs": [],
   "source": [
    "T_1_ = 1.8962353076056344\n",
    "K_ = 0.17950970687951323\n",
    "h_ = 0.02\n",
    "\n",
    "Ad_=lambda_Ad(T_1=T_1_, h=h_)\n",
    "Bd_=lambda_Bd(K=K_, T_1=T_1_, h=h_)"
   ]
  },
  {
   "cell_type": "code",
   "execution_count": null,
   "id": "bf7d1b61-b4b5-47a8-8e2d-2ac060062d29",
   "metadata": {},
   "outputs": [],
   "source": [
    "def simulate(Ad, Bd, E,ws, t, us):\n",
    "    \n",
    "    simdata = []\n",
    "    x_=np.deg2rad(np.array([[0,0]]).T)\n",
    "    for u_,w_ in zip(us,ws):\n",
    "               \n",
    "        x_ = (Ad@x_ + Bd*u_) + E * w_\n",
    "    \n",
    "        simdata.append(x_.flatten())\n",
    "        \n",
    "    simdata = np.array(simdata)\n",
    "    df = pd.DataFrame(simdata, columns=[\"psi\",\"r\"], index=t)\n",
    "    df['delta'] = us\n",
    "    \n",
    "    return df"
   ]
  },
  {
   "cell_type": "code",
   "execution_count": null,
   "id": "8548d94c-1105-4d86-89c4-21fae1f6f686",
   "metadata": {},
   "outputs": [],
   "source": [
    "N_ = 4000\n",
    "\n",
    "t_ = np.arange(0,N_*h_,h_)\n",
    "    \n",
    "us = np.deg2rad(np.concatenate((-10*np.ones(int(N_/4)),\n",
    "                                10*np.ones(int(N_/4)),\n",
    "                                -10*np.ones(int(N_/4)),\n",
    "                                10*np.ones(int(N_/4)))))\n",
    "\n",
    "np.random.seed(42)\n",
    "E = np.array([[0, 1]]).T\n",
    "process_noise = np.deg2rad(0.01)\n",
    "ws = process_noise*np.random.normal(size=N_)\n",
    "df = simulate(Ad=Ad_, Bd=Bd_, E=E, ws=ws, t=t_, us=us)\n",
    "\n",
    "measurement_noise = np.deg2rad(0.5)\n",
    "df['epsilon'] = measurement_noise*np.random.normal(size=N_)\n",
    "df['psi_measure'] = df['psi'] + df['epsilon']\n",
    "df['psi_deg'] = np.rad2deg(df['psi'])\n",
    "df['psi_measure_deg'] = np.rad2deg(df['psi_measure'])\n",
    "df['delta_deg'] = np.rad2deg(df['delta'])\n"
   ]
  },
  {
   "cell_type": "code",
   "execution_count": null,
   "id": "7c21a150-770f-4947-909f-bcf46f9ee5fa",
   "metadata": {},
   "outputs": [],
   "source": [
    "fig,ax=plt.subplots()\n",
    "df.plot(y='psi_deg', ax=ax)\n",
    "df.plot(y='psi_measure_deg', ax=ax, zorder=-1)\n",
    "df.plot(y='delta_deg', ax=ax, zorder=-1)\n",
    "df.plot(y='r')\n",
    "ax.set_title('Simulation with measurement and process noise')\n",
    "ax.set_xlabel('Time [s]');\n",
    "\n"
   ]
  },
  {
   "cell_type": "code",
   "execution_count": null,
   "id": "af6af409-3358-4c55-a1e4-bc0ba5089c72",
   "metadata": {},
   "outputs": [],
   "source": [
    "x0=np.deg2rad(np.array([[0,0]]).T)\n",
    "P_prd = np.diag(np.deg2rad([1, 0.1]))\n",
    "\n",
    "Qd = np.deg2rad(np.diag([0, 0.5]))\n",
    "\n",
    "Rd = np.deg2rad(1)\n",
    "\n",
    "ys = df['psi_measure'].values\n",
    "\n",
    "E_ = np.array(\n",
    "    [[0,0], [0,1]],\n",
    ")\n",
    "\n",
    "C_ = np.array([[1, 0]])\n",
    "\n",
    "Cd_ = C_\n",
    "Ed_ = h_ * E_\n",
    "\n",
    "time_steps = filter_yaw(x0=x0, P_prd=P_prd,h_m=h_,h=h_, us=us, ys=ys, Ad=Ad_, Bd=Bd_, Cd=Cd_, Ed=Ed_, Qd=Qd, Rd=Rd)\n",
    "x_hats = np.array([time_step[\"x_hat\"] for time_step in time_steps]).T\n",
    "time = np.array([time_step[\"time\"] for time_step in time_steps]).T\n",
    "Ks = np.array([time_step[\"K\"] for time_step in time_steps]).T\n"
   ]
  },
  {
   "cell_type": "code",
   "execution_count": null,
   "id": "9eba9cec-bf73-467f-aeb5-78d3775e991a",
   "metadata": {},
   "outputs": [],
   "source": [
    "n=len(Ad_)\n",
    "fig,axes=plt.subplots(nrows=n)\n",
    "\n",
    "keys = ['psi','r']\n",
    "for i,key in enumerate(keys):\n",
    "    \n",
    "    ax=axes[i]\n",
    "    df.plot(y=key, ax=ax, label=\"True\")\n",
    "    if key=='psi':\n",
    "        df.plot(y='psi_measure', ax=ax, label=\"Measured\", zorder=-1)\n",
    "    \n",
    "    ax.plot(time, x_hats[i, :], \"-\", label=\"kalman\")\n",
    "    ax.set_ylabel(key)\n",
    "    ax.legend()"
   ]
  },
  {
   "cell_type": "code",
   "execution_count": null,
   "id": "8a035a62-354b-4d48-9e23-461e187e21e9",
   "metadata": {},
   "outputs": [],
   "source": [
    "fig,ax=plt.subplots()\n",
    "for i,key in enumerate(keys):\n",
    "    ax.plot(time,Ks[i,:],label=key)\n",
    "ax.set_title('Kalman gains')\n",
    "ax.legend();\n",
    "ax.set_ylim(0,0.1);\n"
   ]
  },
  {
   "cell_type": "markdown",
   "id": "0494755d-838b-4e2e-bcb7-34a1e4db2e35",
   "metadata": {},
   "source": [
    "# Real data\n",
    "Using the developed Kalman filter on some real model test data"
   ]
  },
  {
   "cell_type": "markdown",
   "id": "fff36b63-25e9-4417-8abf-1f75e86cfebf",
   "metadata": {},
   "source": [
    "## Load test"
   ]
  },
  {
   "cell_type": "code",
   "execution_count": null,
   "id": "93b9cb7f-603a-4e55-8a1d-6ad1e106f1d1",
   "metadata": {},
   "outputs": [],
   "source": [
    "id=22773\n",
    "df, units, meta_data = mdl.load(id=id)\n",
    "df.index = df.index.total_seconds()\n",
    "df.index-=df.index[0]"
   ]
  },
  {
   "cell_type": "code",
   "execution_count": null,
   "id": "9ea6bfa8-e39f-4f46-9480-fe419609ea7e",
   "metadata": {},
   "outputs": [],
   "source": [
    "from vessel_manoeuvring_models.visualization.plot import track_plot\n",
    "fig,ax=plt.subplots()\n",
    "fig.set_size_inches(10,10)\n",
    "track_plot(df=df, lpp=meta_data.lpp, x_dataset='x0', y_dataset='y0',  psi_dataset='psi', beam=meta_data.beam, ax=ax);"
   ]
  },
  {
   "cell_type": "code",
   "execution_count": null,
   "id": "53a305f8-8adb-400e-a7af-36f1b3577b1c",
   "metadata": {},
   "outputs": [],
   "source": [
    "ys = df['psi'].values\n",
    "h_m=h_ = df.index[1]-df.index[0]\n",
    "x0=np.deg2rad(np.array([[0,0]]).T)\n",
    "us = df['delta'].values\n",
    "\n",
    "P_prd = np.diag(np.deg2rad([1, 0.1]))\n",
    "Qd = np.deg2rad(np.diag([0, 5]))\n",
    "Rd = np.deg2rad(0.1)\n",
    "\n",
    "time_steps = filter_yaw(x0=x0, P_prd=P_prd,h_m=h_,h=h_, us=us, ys=ys, Ad=Ad_, Bd=Bd_, Cd=Cd_, Ed=Ed_, Qd=Qd, Rd=Rd)\n",
    "x_hats = np.array([time_step[\"x_hat\"] for time_step in time_steps]).T\n",
    "time = np.array([time_step[\"time\"] for time_step in time_steps]).T\n",
    "Ks = np.array([time_step[\"K\"] for time_step in time_steps]).T"
   ]
  },
  {
   "cell_type": "code",
   "execution_count": null,
   "id": "948b3422-e634-48bd-917c-5b078eee0180",
   "metadata": {},
   "outputs": [],
   "source": [
    "n=len(Ad_)\n",
    "fig,axes=plt.subplots(nrows=n)\n",
    "\n",
    "    \n",
    "ax=axes[0]\n",
    "df.plot(y='psi', ax=ax, label=\"Measured\", zorder=-1)\n",
    "df['-delta']=-df['delta']\n",
    "df.plot(y='-delta', ax=ax, label='$-\\delta$', zorder=-10)\n",
    "ax.plot(time, x_hats[0, :], \"-\", label=\"kalman\", zorder=10)\n",
    "ax.set_ylabel('$\\Psi$')\n",
    "ax.legend()\n",
    "\n",
    "ax=axes[1]\n",
    "ax.plot(time, x_hats[1, :], \"-\", label=\"kalman\")\n",
    "ax.set_ylabel('$r$')\n",
    "\n",
    "ax.legend();"
   ]
  }
 ],
 "metadata": {
  "citation-manager": {
   "items": {}
  },
  "kernelspec": {
   "display_name": "Python 3",
   "language": "python",
   "name": "python3"
  },
  "language_info": {
   "codemirror_mode": {
    "name": "ipython",
    "version": 3
   },
   "file_extension": ".py",
   "mimetype": "text/x-python",
   "name": "python",
   "nbconvert_exporter": "python",
   "pygments_lexer": "ipython3",
   "version": "3.9.5"
  }
 },
 "nbformat": 4,
 "nbformat_minor": 5
}
