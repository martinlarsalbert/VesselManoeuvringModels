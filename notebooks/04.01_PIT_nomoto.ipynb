{
 "cells": [
  {
   "cell_type": "markdown",
   "metadata": {},
   "source": [
    "# Parameter Identification Technique (PIT) on a linear Nomoto model"
   ]
  },
  {
   "cell_type": "markdown",
   "metadata": {},
   "source": [
    "# Purpose\n",
    "Show the general workflow by applying PIT regression on a very simple model"
   ]
  },
  {
   "cell_type": "markdown",
   "metadata": {},
   "source": [
    "# Methodology\n",
    "* Load time series from a ZigZag test\n",
    "* Determine yaw rate and acceleration (compare with accelerometers from test).\n",
    "* Find the best parameter values in the Nomoto model using OLS linear regression."
   ]
  },
  {
   "cell_type": "markdown",
   "metadata": {},
   "source": [
    "# Setup"
   ]
  },
  {
   "cell_type": "code",
   "execution_count": null,
   "metadata": {},
   "outputs": [],
   "source": [
    "# %load imports.py\n",
    "%matplotlib inline\n",
    "%load_ext autoreload\n",
    "%autoreload 2\n",
    "\n",
    "## External packages:\n",
    "import pandas as pd\n",
    "pd.options.display.max_rows = 999\n",
    "pd.options.display.max_columns = 999\n",
    "pd.set_option(\"display.max_columns\", None)\n",
    "\n",
    "import numpy as np\n",
    "import os\n",
    "import matplotlib.pyplot as plt\n",
    "\n",
    "import plotly.express as px \n",
    "import plotly.graph_objects as go\n",
    "\n",
    "import seaborn as sns\n",
    "import sympy as sp\n",
    "from sympy.physics.mechanics import (dynamicsymbols, ReferenceFrame,\n",
    "                                      Particle, Point)\n",
    "from sympy.physics.vector.printing import vpprint, vlatex\n",
    "from IPython.display import display, Math, Latex\n",
    "from vessel_manoeuvring_models.substitute_dynamic_symbols import run, lambdify\n",
    "\n",
    "import pyro\n",
    "\n",
    "import sklearn\n",
    "import pykalman\n",
    "from statsmodels.sandbox.regression.predstd import wls_prediction_std\n",
    "import statsmodels.api as sm\n",
    "\n",
    "from scipy.integrate import solve_ivp\n",
    "\n",
    "## Local packages:\n",
    "from vessel_manoeuvring_models.data import mdl\n",
    "\n",
    "\n"
   ]
  },
  {
   "cell_type": "markdown",
   "metadata": {},
   "source": [
    "## Load test"
   ]
  },
  {
   "cell_type": "code",
   "execution_count": null,
   "metadata": {},
   "outputs": [],
   "source": [
    "df_runs = mdl.runs()"
   ]
  },
  {
   "cell_type": "code",
   "execution_count": null,
   "metadata": {},
   "outputs": [],
   "source": [
    "id=22773\n",
    "df, units, meta_data = mdl.load(id=id)"
   ]
  },
  {
   "cell_type": "code",
   "execution_count": null,
   "metadata": {},
   "outputs": [],
   "source": [
    "meta_data.dropna()"
   ]
  },
  {
   "cell_type": "code",
   "execution_count": null,
   "metadata": {},
   "outputs": [],
   "source": [
    "df.head()"
   ]
  },
  {
   "cell_type": "code",
   "execution_count": null,
   "metadata": {},
   "outputs": [],
   "source": [
    "units = mdl.load_units()"
   ]
  },
  {
   "cell_type": "code",
   "execution_count": null,
   "metadata": {},
   "outputs": [],
   "source": [
    "from vessel_manoeuvring_models.visualization.plot import track_plot\n",
    "fig,ax=plt.subplots()\n",
    "fig.set_size_inches(10,10)\n",
    "track_plot(df=df, lpp=meta_data.lpp, x_dataset='x0', y_dataset='y0',  psi_dataset='psi', beam=meta_data.beam, ax=ax);"
   ]
  },
  {
   "cell_type": "markdown",
   "metadata": {},
   "source": [
    "## Yaw rate"
   ]
  },
  {
   "cell_type": "code",
   "execution_count": null,
   "metadata": {},
   "outputs": [],
   "source": [
    "px.line(data_frame=df, y=['psi'], width=1400, height=300,)"
   ]
  },
  {
   "cell_type": "code",
   "execution_count": null,
   "metadata": {},
   "outputs": [],
   "source": [
    "t = df.index.total_seconds()\n",
    "df['r_numerical'] = np.gradient(df['psi'],t)\n",
    "df['r1d_numerical'] = np.gradient(df['r_numerical'],t)\n"
   ]
  },
  {
   "cell_type": "markdown",
   "metadata": {},
   "source": [
    "## Yaw rate from Kalman filter"
   ]
  },
  {
   "cell_type": "code",
   "execution_count": null,
   "metadata": {},
   "outputs": [],
   "source": [
    "from vessel_manoeuvring_models.data import kalman_filter"
   ]
  },
  {
   "cell_type": "code",
   "execution_count": null,
   "metadata": {},
   "outputs": [],
   "source": [
    "df = kalman_filter.yaw(df=df)\n",
    "\n",
    "display(px.line(data_frame=df, y=['psi','psi_filtered'], width=1400, height=300,))\n",
    "display(px.line(data_frame=df, y=['r_numerical','r'], width=1400, height=300,))\n",
    "display(px.line(data_frame=df, y=['r1d'], width=1400, height=300,))"
   ]
  },
  {
   "cell_type": "code",
   "execution_count": null,
   "metadata": {},
   "outputs": [],
   "source": [
    "display(px.line(data_frame=df.resample('2S').mean(), y=['Hull/Acc/X1','Hull/Acc/Y1','Hull/Acc/Y2','Hull/Acc/Z1','Hull/Acc/Z2','Hull/Acc/Z3'], width=1400, height=300,))"
   ]
  },
  {
   "cell_type": "markdown",
   "metadata": {},
   "source": [
    "# First order Nomoto model for ship maneuvering dynamics\n",
    "The first order Nomoto model can be written as:"
   ]
  },
  {
   "cell_type": "code",
   "execution_count": null,
   "metadata": {},
   "outputs": [],
   "source": [
    "K, delta, T_1, T_2 = sp.symbols('K delta T_1 T_2')\n",
    "r = dynamicsymbols('r')\n",
    "\n",
    "eq_nomoto = sp.Eq(-K*delta,\n",
    "                 r + T_1*r1d + T_2*r1d.diff())\n",
    "Math(vlatex(eq_nomoto))"
   ]
  },
  {
   "cell_type": "markdown",
   "metadata": {},
   "source": [
    "where $r$ is yaw rate with its time derivatives and $\\delta$ is the rudder angle. $K$, $T_{1}$\n",
    " and $T_{1}$ are the coefficients describing the hydrodynamics of the ship.\n",
    " \n",
    "For slow manoeuvres this equation can be further simplified by removing the $\\ddot{r}$ term:"
   ]
  },
  {
   "cell_type": "code",
   "execution_count": null,
   "metadata": {},
   "outputs": [],
   "source": [
    "eq_nomoto_simple = eq_nomoto.subs(r1d.diff(),0)\n",
    "Math(vlatex(eq_nomoto_simple))"
   ]
  },
  {
   "cell_type": "code",
   "execution_count": null,
   "metadata": {},
   "outputs": [],
   "source": [
    "eq_r1 = sp.Eq(r1d,\n",
    "             sp.solve(eq_nomoto_simple, r1d)[0])\n",
    "r1d_lambda = lambdify(sp.solve(eq_nomoto_simple, r1d)[0])\n",
    "Math(vlatex(eq_r1))\n"
   ]
  },
  {
   "cell_type": "code",
   "execution_count": null,
   "metadata": {},
   "outputs": [],
   "source": [
    "def nomoto(t,states,df_control,params):\n",
    "    \"\"\"\n",
    "    Simulation model for heading and yaw rate using Nomoto with only K and T_1\n",
    "    \"\"\"\n",
    "    # states:\n",
    "    psi = states[0]\n",
    "    r = states[1]\n",
    "    \n",
    "    index = df_control.index.get_loc(t, method='nearest')\n",
    "    delta = float(df_control['delta'].iloc[index])\n",
    "    r1d_ = r1d_lambda(K=params['K'], T_1=params['T_1'], delta=delta, r=r)\n",
    "    d_states_dt = np.array([r,r1d_])\n",
    "    return d_states_dt"
   ]
  },
  {
   "cell_type": "markdown",
   "metadata": {},
   "source": [
    "## Simulate a pull out manoeuvre\n",
    "Simulating a simple pull out manoeuvre:"
   ]
  },
  {
   "cell_type": "code",
   "execution_count": null,
   "metadata": {},
   "outputs": [],
   "source": [
    "params = {\n",
    "    'K' :  0.1,\n",
    "    'T_1' : 10,\n",
    "}\n",
    "\n",
    "states_0 = np.array([df.iloc[0]['psi'],df.iloc[0]['r']])\n",
    "\n",
    "df_control = df.copy()\n",
    "df_control.index = df_control.index.total_seconds()\n",
    "t = df_control.index\n",
    "\n",
    "sol = solve_ivp(fun = nomoto,t_span=[t[0],t[-1]],t_eval=t, y0 = states_0, args=(df_control,params))\n",
    "psi = sol.y[0,:]\n",
    "r = sol.y[1,:]\n",
    "\n",
    "fig,ax=plt.subplots()\n",
    "df_control['psi_deg'] = np.rad2deg(df_control['psi'])\n",
    "df_control.plot(y='psi_deg', label='model test', ax=ax)\n",
    "ax.plot(t,np.rad2deg(psi), label='simulation');\n",
    "ax.grid(True)\n",
    "ax.set_title('Resimulation with Nomoto model')\n",
    "ax.set_ylabel('$\\psi$ [deg]')\n",
    "ax.set_xlabel('time [s]');\n",
    "ax.legend()\n"
   ]
  },
  {
   "cell_type": "markdown",
   "metadata": {},
   "source": [
    "## Regress nomoto parameters"
   ]
  },
  {
   "cell_type": "code",
   "execution_count": null,
   "metadata": {},
   "outputs": [],
   "source": [
    "eq_r1"
   ]
  },
  {
   "cell_type": "code",
   "execution_count": null,
   "metadata": {},
   "outputs": [],
   "source": [
    "import sympy.physics.mechanics as me\n",
    "\n",
    "me.find_dynamicsymbols(eq_r1)"
   ]
  },
  {
   "cell_type": "code",
   "execution_count": null,
   "metadata": {},
   "outputs": [],
   "source": [
    "eq_r1.rhs"
   ]
  },
  {
   "cell_type": "code",
   "execution_count": null,
   "metadata": {},
   "outputs": [],
   "source": [
    "y = df_control['r1d']\n",
    "X = df_control[['delta','r']] \n",
    "\n",
    "#y = df_control['r1d_numerical']\n",
    "#X = df_control[['delta','r_numerical']] \n",
    "#X.rename(columns={'r_numerical': 'r'}, inplace=True)\n",
    "\n",
    "model = sm.OLS(y,X)\n",
    "results = model.fit()\n",
    "results.summary()"
   ]
  },
  {
   "cell_type": "code",
   "execution_count": null,
   "metadata": {},
   "outputs": [],
   "source": [
    "r1d_pred = results.predict(X)\n",
    "X_ = X.iloc[::100, :]\n",
    "prstd, iv_l, iv_u = wls_prediction_std(results, exog=X_, alpha=0.05)\n",
    "\n",
    "fig,ax=plt.subplots()\n",
    "ax.plot(t,y, label=r'$\\dot{r}$')\n",
    "ax.plot(t,r1d_pred, label=r'$\\dot{r}_{pred}$')\n",
    "\n",
    "ax.plot(X_.index,iv_l, 'k--')\n",
    "ax.plot(X_.index,iv_u, 'k--')\n",
    "ax.legend()"
   ]
  },
  {
   "cell_type": "code",
   "execution_count": null,
   "metadata": {},
   "outputs": [],
   "source": [
    "params['T_1'] = -1/results.params['r']\n",
    "params['K'] = -results.params['delta']*params['T_1']"
   ]
  },
  {
   "cell_type": "code",
   "execution_count": null,
   "metadata": {},
   "outputs": [],
   "source": [
    "states_0 = np.array([df.iloc[0]['psi'],df.iloc[0]['r']])\n",
    "\n",
    "df_control = df.copy()\n",
    "\n",
    "df_control.index = df_control.index.total_seconds()\n",
    "t = df_control.index\n",
    "\n",
    "sol = solve_ivp(fun = nomoto,t_span=[t[0],t[-1]],t_eval=t, y0 = states_0, args=(df_control,params))\n",
    "psi = sol.y[0,:]\n",
    "r = sol.y[1,:]\n",
    "\n",
    "fig,ax=plt.subplots()\n",
    "df_control['psi_deg'] = np.rad2deg(df_control['psi'])\n",
    "df_control.plot(y='psi_deg', label='model test', ax=ax)\n",
    "\n",
    "df_control['-delta_deg'] = -np.rad2deg(df_control['delta'])\n",
    "df_control.plot(y='-delta_deg', label=r'$-\\delta$', ax=ax)\n",
    "\n",
    "ax.plot(t,np.rad2deg(psi), label='simulation');\n",
    "ax.grid(True)\n",
    "ax.set_title('Resimulation with Nomoto model')\n",
    "ax.set_ylabel('$\\psi$ [deg]')\n",
    "ax.set_xlabel('time [s]');\n",
    "ax.legend();\n"
   ]
  },
  {
   "cell_type": "code",
   "execution_count": null,
   "metadata": {},
   "outputs": [],
   "source": [
    "params"
   ]
  },
  {
   "cell_type": "code",
   "execution_count": null,
   "metadata": {},
   "outputs": [],
   "source": []
  }
 ],
 "metadata": {
  "citation-manager": {
   "items": {}
  },
  "kernelspec": {
   "display_name": "Python 3",
   "language": "python",
   "name": "python3"
  },
  "language_info": {
   "codemirror_mode": {
    "name": "ipython",
    "version": 3
   },
   "file_extension": ".py",
   "mimetype": "text/x-python",
   "name": "python",
   "nbconvert_exporter": "python",
   "pygments_lexer": "ipython3",
   "version": "3.9.5"
  }
 },
 "nbformat": 4,
 "nbformat_minor": 4
}
