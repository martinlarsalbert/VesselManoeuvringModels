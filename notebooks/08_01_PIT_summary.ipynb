{
 "cells": [
  {
   "cell_type": "markdown",
   "metadata": {},
   "source": [
    "# PIT Summary"
   ]
  },
  {
   "cell_type": "markdown",
   "metadata": {},
   "source": [
    "# Purpose\n",
    "There has been a lot done in the parameter identification techniques (PIT) in this project, this notebook is a summary."
   ]
  },
  {
   "cell_type": "markdown",
   "metadata": {},
   "source": [
    "# Setup"
   ]
  },
  {
   "cell_type": "code",
   "execution_count": 1,
   "metadata": {},
   "outputs": [
    {
     "name": "stderr",
     "output_type": "stream",
     "text": [
      "Duplicate key in file WindowsPath('C:/Users/maa/.matplotlib/stylelib/paper.mplstyle'), line 462 ('figure.figsize   : 5, 3   ## figure size in inches')\n",
      "Duplicate key in file WindowsPath('C:/Users/maa/.matplotlib/stylelib/paper.mplstyle'), line 463 ('figure.dpi       : 100        ## figure dots per inch')\n"
     ]
    }
   ],
   "source": [
    "# %load imports.py\n",
    "# %load imports.py\n",
    "%matplotlib inline\n",
    "%load_ext autoreload\n",
    "%autoreload 2\n",
    "%config Completer.use_jedi = False  ## (To fix autocomplete)\n",
    "\n",
    "## External packages:\n",
    "import pandas as pd\n",
    "pd.options.display.max_rows = 999\n",
    "pd.options.display.max_columns = 999\n",
    "pd.set_option(\"display.max_columns\", None)\n",
    "\n",
    "import numpy as np\n",
    "import os\n",
    "import matplotlib.pyplot as plt\n",
    "#if os.name == 'nt':\n",
    "#    plt.style.use('presentation.mplstyle')  # Windows\n",
    "\n",
    "import plotly.express as px \n",
    "import plotly.graph_objects as go\n",
    "\n",
    "import seaborn as sns\n",
    "import sympy as sp\n",
    "from sympy.physics.mechanics import (dynamicsymbols, ReferenceFrame,\n",
    "                                      Particle, Point)\n",
    "from sympy.physics.vector.printing import vpprint, vlatex\n",
    "from IPython.display import display, Math, Latex\n",
    "from src.substitute_dynamic_symbols import run, lambdify\n",
    "\n",
    "#import pyro\n",
    "\n",
    "import sklearn\n",
    "import pykalman\n",
    "from statsmodels.sandbox.regression.predstd import wls_prediction_std\n",
    "import statsmodels.api as sm\n",
    "\n",
    "from scipy.integrate import solve_ivp\n",
    "\n",
    "## Local packages:\n",
    "from src.data import mdl\n",
    "#import src.models.nonlinear_martin_vmm as vmm\n",
    "#import src.nonlinear_martin_vmm_equations as eq\n",
    "\n",
    "#import src.models.linear_vmm as vmm\n",
    "import src.linear_vmm_equations as eq\n",
    "\n",
    "#import src.models.linear_vmm as model\n",
    "from src.symbols import *\n",
    "from src.parameters import *\n",
    "import src.symbols as symbols\n",
    "from src import prime_system\n",
    "from src.models import regression\n",
    "from src.visualization.plot import track_plot\n",
    "from src.equation import Equation"
   ]
  },
  {
   "cell_type": "code",
   "execution_count": 2,
   "metadata": {},
   "outputs": [
    {
     "data": {
      "text/latex": [
       "$\\displaystyle m \\dot{u} = X_{\\dot{r}} \\dot{r} + X_{\\dot{u}} \\dot{u} + X_{\\dot{v}} \\dot{v} + X_{delta} \\delta + X_{r} r + X_{u} u + X_{v} v$"
      ],
      "text/plain": [
       "<IPython.core.display.Math object>"
      ]
     },
     "execution_count": 2,
     "metadata": {},
     "output_type": "execute_result"
    }
   ],
   "source": [
    "Math(vlatex(eq.X_eq))"
   ]
  },
  {
   "cell_type": "code",
   "execution_count": 3,
   "metadata": {},
   "outputs": [
    {
     "data": {
      "text/latex": [
       "$\\displaystyle m \\left(U r + x_{G} \\dot{r} + \\dot{v}\\right) = Y_{\\dot{r}} \\dot{r} + Y_{\\dot{u}} \\dot{u} + Y_{\\dot{v}} \\dot{v} + Y_{delta} \\delta + Y_{r} r + Y_{u} u + Y_{v} v$"
      ],
      "text/plain": [
       "<IPython.core.display.Math object>"
      ]
     },
     "execution_count": 3,
     "metadata": {},
     "output_type": "execute_result"
    }
   ],
   "source": [
    "Math(vlatex(eq.Y_eq))"
   ]
  },
  {
   "cell_type": "code",
   "execution_count": 4,
   "metadata": {},
   "outputs": [
    {
     "data": {
      "text/latex": [
       "$\\displaystyle I_{z} \\dot{r} + m x_{G} \\left(U r + \\dot{v}\\right) = N_{\\dot{r}} \\dot{r} + N_{\\dot{u}} \\dot{u} + N_{\\dot{v}} \\dot{v} + N_{delta} \\delta + N_{r} r + N_{u} u + N_{v} v$"
      ],
      "text/plain": [
       "<IPython.core.display.Math object>"
      ]
     },
     "execution_count": 4,
     "metadata": {},
     "output_type": "execute_result"
    }
   ],
   "source": [
    "Math(vlatex(eq.N_eq))"
   ]
  },
  {
   "cell_type": "code",
   "execution_count": 5,
   "metadata": {},
   "outputs": [
    {
     "data": {
      "text/latex": [
       "$\\displaystyle X_{\\dot{r}} \\dot{r} + X_{\\dot{u}} \\dot{u} + X_{\\dot{v}} \\dot{v} + X_{delta} \\delta + X_{r} r + X_{u} u + X_{v} v - m \\dot{u}$"
      ],
      "text/plain": [
       "<IPython.core.display.Math object>"
      ]
     },
     "execution_count": 5,
     "metadata": {},
     "output_type": "execute_result"
    }
   ],
   "source": [
    "Math(vlatex(eq.X_eq.rhs-eq.X_eq.lhs))"
   ]
  },
  {
   "cell_type": "code",
   "execution_count": 6,
   "metadata": {},
   "outputs": [
    {
     "data": {
      "text/latex": [
       "$\\displaystyle Y_{\\dot{r}} \\dot{r} + Y_{\\dot{u}} \\dot{u} + Y_{\\dot{v}} \\dot{v} + Y_{delta} \\delta + Y_{r} r + Y_{u} u + Y_{v} v - m \\left(U r + x_{G} \\dot{r} + \\dot{v}\\right)$"
      ],
      "text/plain": [
       "<IPython.core.display.Math object>"
      ]
     },
     "execution_count": 6,
     "metadata": {},
     "output_type": "execute_result"
    }
   ],
   "source": [
    "Math(vlatex(eq.Y_eq.rhs-eq.Y_eq.lhs))"
   ]
  },
  {
   "cell_type": "code",
   "execution_count": 7,
   "metadata": {},
   "outputs": [
    {
     "data": {
      "text/latex": [
       "$\\displaystyle - I_{z} \\dot{r} + N_{\\dot{r}} \\dot{r} + N_{\\dot{u}} \\dot{u} + N_{\\dot{v}} \\dot{v} + N_{delta} \\delta + N_{r} r + N_{u} u + N_{v} v - m x_{G} \\left(U r + \\dot{v}\\right)$"
      ],
      "text/plain": [
       "<IPython.core.display.Math object>"
      ]
     },
     "execution_count": 7,
     "metadata": {},
     "output_type": "execute_result"
    }
   ],
   "source": [
    "Math(vlatex(eq.N_eq.rhs-eq.N_eq.lhs))"
   ]
  },
  {
   "cell_type": "markdown",
   "metadata": {},
   "source": [
    "## Load test"
   ]
  },
  {
   "cell_type": "code",
   "execution_count": 8,
   "metadata": {},
   "outputs": [],
   "source": [
    "#id=22773\n",
    "#id=22616\n",
    "id=22774\n",
    "#id=22770\n",
    "\n",
    "\n",
    "df, units, meta_data = mdl.load(id=id, dir_path='../data/processed/kalman')\n",
    "df.index = df.index.total_seconds()\n",
    "df = df.iloc[0:-100].copy()\n",
    "df.index-=df.index[0]\n",
    "df['t'] = df.index\n",
    "df.sort_index(inplace=True)\n",
    "df['-delta'] = -df['delta']\n",
    "df['V'] = np.sqrt(df['u']**2 + df['v']**2)\n",
    "\n",
    "df['thrust'] = df['Prop/PS/Thrust'] + df['Prop/SB/Thrust']\n",
    "df['U'] = df['V']"
   ]
  },
  {
   "cell_type": "code",
   "execution_count": 9,
   "metadata": {},
   "outputs": [],
   "source": [
    "meta_data['rho']=1000\n",
    "meta_data['mass'] = meta_data['Volume']*meta_data['rho']"
   ]
  },
  {
   "cell_type": "code",
   "execution_count": 10,
   "metadata": {},
   "outputs": [
    {
     "data": {
      "text/plain": [
       "<AxesSubplot:xlabel='time'>"
      ]
     },
     "execution_count": 10,
     "metadata": {},
     "output_type": "execute_result"
    },
    {
     "data": {
      "image/png": "[encoded data removed]",
      "text/plain": [
       "<Figure size 432x288 with 1 Axes>"
      ]
     },
     "metadata": {
      "needs_background": "light"
     },
     "output_type": "display_data"
    },
    {
     "data": {
      "image/png": "[encoded data removed]",
      "text/plain": [
       "<Figure size 432x288 with 1 Axes>"
      ]
     },
     "metadata": {
      "needs_background": "light"
     },
     "output_type": "display_data"
    }
   ],
   "source": [
    "from src.visualization.plot import track_plot\n",
    "fig,ax=plt.subplots()\n",
    "#fig.set_size_inches(10,10)\n",
    "track_plot(df=df, lpp=meta_data.lpp, x_dataset='x0', y_dataset='y0',  psi_dataset='psi', beam=meta_data.beam, ax=ax);\n",
    "df.plot(y='u')"
   ]
  },
  {
   "cell_type": "markdown",
   "metadata": {},
   "source": [
    "# Ship parameters"
   ]
  },
  {
   "cell_type": "code",
   "execution_count": 11,
   "metadata": {},
   "outputs": [],
   "source": [
    "T_ = (meta_data.TA + meta_data.TF)/2\n",
    "L_ = meta_data.lpp\n",
    "m_ = meta_data.mass\n",
    "rho_ = meta_data.rho\n",
    "B_ = meta_data.beam\n",
    "CB_ = m_/(T_*B_*L_*rho_)\n",
    "I_z_ = m_*meta_data.KZZ**2\n",
    "\n",
    "ship_parameters = {\n",
    "        'T' : T_,\n",
    "        'L' : L_,\n",
    "        'CB' :CB_,\n",
    "        'B' : B_,\n",
    "        'rho' : rho_,\n",
    "        'x_G' : meta_data.lcg,  # motions are expressed at CG\n",
    "        'm' : m_,\n",
    "        'I_z': I_z_, \n",
    "        'volume':meta_data.Volume,\n",
    "    }\n",
    "\n",
    "ps = prime_system.PrimeSystem(**ship_parameters)  # model\n",
    "\n",
    "scale_factor = meta_data.scale_factor\n",
    "ps_ship = prime_system.PrimeSystem(L=ship_parameters['L']*scale_factor, rho=meta_data['rho'])  # ship\n",
    "ship_parameters_prime = ps.prime(ship_parameters)"
   ]
  },
  {
   "cell_type": "markdown",
   "metadata": {},
   "source": [
    "## Prime system"
   ]
  },
  {
   "cell_type": "code",
   "execution_count": 12,
   "metadata": {},
   "outputs": [],
   "source": [
    "interesting = ['x0','y0','psi','u','v','r','u1d','v1d','r1d','U','t','delta','thrust']\n",
    "df_prime = ps.prime(df[interesting], U=df['U'])\n",
    "df_prime.set_index('t', inplace=True)"
   ]
  },
  {
   "cell_type": "code",
   "execution_count": 13,
   "metadata": {},
   "outputs": [
    {
     "data": {
      "text/plain": [
       "<AxesSubplot:xlabel='t'>"
      ]
     },
     "execution_count": 13,
     "metadata": {},
     "output_type": "execute_result"
    },
    {
     "data": {
      "image/png": "[encoded data removed]",
      "text/plain": [
       "<Figure size 432x288 with 1 Axes>"
      ]
     },
     "metadata": {
      "needs_background": "light"
     },
     "output_type": "display_data"
    },
    {
     "data": {
      "image/png": "[encoded data removed]",
      "text/plain": [
       "<Figure size 432x288 with 1 Axes>"
      ]
     },
     "metadata": {
      "needs_background": "light"
     },
     "output_type": "display_data"
    }
   ],
   "source": [
    "fig,ax=plt.subplots()\n",
    "#fig.set_size_inches(10,10)\n",
    "track_plot(df=df_prime, lpp=ship_parameters_prime['L'], beam=ship_parameters_prime['B'],\n",
    "           x_dataset='x0', y_dataset='y0',  psi_dataset='psi', ax=ax);\n",
    "\n",
    "df_prime.plot(y='u')"
   ]
  },
  {
   "cell_type": "code",
   "execution_count": 14,
   "metadata": {},
   "outputs": [
    {
     "data": {
      "text/plain": [
       "Float64Index([                 0.0, 0.010002000000000066, 0.020001999999999853,\n",
       "               0.03002200000000066,  0.04000199999999943,  0.05000099999999996,\n",
       "               0.06000200000000078,   0.0700219999999998,  0.08000099999999932,\n",
       "                0.0899990000000006,\n",
       "              ...\n",
       "                        159.050005,           159.060013,               159.07,\n",
       "                        159.080005,           159.090005,           159.100006,\n",
       "                        159.110017,           159.120001,           159.130005,\n",
       "                        159.140008],\n",
       "             dtype='float64', name='time', length=15915)"
      ]
     },
     "execution_count": 14,
     "metadata": {},
     "output_type": "execute_result"
    }
   ],
   "source": [
    "df.index"
   ]
  },
  {
   "cell_type": "code",
   "execution_count": 15,
   "metadata": {},
   "outputs": [
    {
     "data": {
      "text/plain": [
       "Float64Index([                  0.0, 0.0018590505176670773,\n",
       "               0.003703278795339165,  0.005567789136387368,\n",
       "                0.00743809610775319,  0.009300584387083548,\n",
       "                0.01116513279812117,   0.01306781836916762,\n",
       "               0.014973821105671309,  0.016852159385169353,\n",
       "              ...\n",
       "                 26.016530241872566,     26.08549683298727,\n",
       "                 26.155073443087844,     26.15859030345773,\n",
       "                 26.144083237296872,     26.12877144218778,\n",
       "                 26.116362811864647,    26.101964884226014,\n",
       "                  26.08629050013182,    26.075838054271756],\n",
       "             dtype='float64', name='t', length=15915)"
      ]
     },
     "execution_count": 15,
     "metadata": {},
     "output_type": "execute_result"
    }
   ],
   "source": [
    "df_prime.index"
   ]
  },
  {
   "cell_type": "code",
   "execution_count": 16,
   "metadata": {},
   "outputs": [
    {
     "data": {
      "text/plain": [
       "array([0.        , 0.39883833, 0.79767667])"
      ]
     },
     "execution_count": 16,
     "metadata": {},
     "output_type": "execute_result"
    }
   ],
   "source": [
    "t_ = np.array([0,1,2])\n",
    "U_ = np.array([1,2,2])\n",
    "t_prime = ps._prime(t_, unit='time', U=U_)\n",
    "t_prime"
   ]
  },
  {
   "cell_type": "code",
   "execution_count": 17,
   "metadata": {},
   "outputs": [
    {
     "data": {
      "text/plain": [
       "array([0., 1., 2.])"
      ]
     },
     "execution_count": 17,
     "metadata": {},
     "output_type": "execute_result"
    }
   ],
   "source": [
    "ps._unprime(t_prime, unit='time', U=U_)"
   ]
  },
  {
   "cell_type": "markdown",
   "metadata": {},
   "source": [
    "# Brix parameters"
   ]
  },
  {
   "cell_type": "code",
   "execution_count": 18,
   "metadata": {},
   "outputs": [],
   "source": [
    "def calculate_prime(row, ship_parameters):\n",
    "    return run(function=row['brix_lambda'], inputs=ship_parameters)\n",
    "\n",
    "\n",
    "mask = df_parameters['brix_lambda'].notnull()\n",
    "df_parameters.loc[mask,'brix_prime'] = df_parameters.loc[mask].apply(calculate_prime, ship_parameters=ship_parameters, axis=1)\n",
    "\n",
    "df_parameters.loc['Ydelta','brix_prime'] = 0.0004  # Just guessing\n",
    "df_parameters.loc['Ndelta','brix_prime'] = -df_parameters.loc['Ydelta','brix_prime']/4  # Just guessing\n",
    "\n",
    "df_parameters['brix_prime'].fillna(0, inplace=True)\n",
    "#df_parameters['brix_SI'].fillna(0, inplace=True)\n",
    "\n"
   ]
  },
  {
   "cell_type": "markdown",
   "metadata": {},
   "source": [
    "## Simulate with Brix"
   ]
  },
  {
   "cell_type": "code",
   "execution_count": 19,
   "metadata": {},
   "outputs": [],
   "source": [
    "eqs = [eq.X_eq, eq.Y_eq, eq.N_eq]\n",
    "solution = sp.solve(eqs, u.diff(), v.diff(), r.diff(), dict=True)\n",
    "\n",
    "## Decouple the equations:\n",
    "u1d_eq = sp.Eq(u.diff(), solution[0][u.diff()]) \n",
    "v1d_eq = sp.Eq(v.diff(), solution[0][v.diff()]) \n",
    "r1d_eq = sp.Eq(r.diff(), solution[0][r.diff()])\n",
    "\n",
    "## Lambdify:\n",
    "subs = {value:key for key,value in eq.p.items()}\n",
    "u1d_lambda = lambdify(u1d_eq.subs(subs).rhs)\n",
    "v1d_lambda = lambdify(v1d_eq.subs(subs).rhs)\n",
    "r1d_lambda = lambdify(r1d_eq.subs(subs).rhs)"
   ]
  },
  {
   "cell_type": "code",
   "execution_count": 20,
   "metadata": {},
   "outputs": [],
   "source": [
    "from scipy.spatial.transform import Rotation as R\n",
    "\n",
    "def step(t, states, parameters, ship_parameters, control):\n",
    "\n",
    "    u,v,r,x0,y0,psi = states\n",
    "    states_dict = {\n",
    "        'u':u,\n",
    "        'v':v,\n",
    "        'r':r,\n",
    "        'x0':x0,\n",
    "        'y0':y0,\n",
    "        'psi':psi,\n",
    "        \n",
    "        }\n",
    "    \n",
    "    inputs = dict(parameters)\n",
    "    inputs.update(ship_parameters)\n",
    "    inputs.update(states_dict)\n",
    "    \n",
    "    if isinstance(control, pd.DataFrame):\n",
    "        index = np.argmin(np.array(np.abs(control.index - t)))\n",
    "        control_ = dict(control.iloc[index])\n",
    "    else:\n",
    "        control_ = control\n",
    "    inputs.update(control_)\n",
    "    \n",
    "    inputs['U'] = np.sqrt(u**2 + v**2)  #Instantanious velocity\n",
    "    u1d = run(function=u1d_lambda, inputs=inputs)\n",
    "    v1d = run(function=v1d_lambda, inputs=inputs)\n",
    "    r1d = run(function=r1d_lambda, inputs=inputs)\n",
    "    rotation = R.from_euler('z', psi, degrees=False)\n",
    "    w = 0\n",
    "    velocities = rotation.apply([u,v,w])\n",
    "    x01d = velocities[0]\n",
    "    y01d = velocities[1]\n",
    "    psi1d = r    \n",
    "    dstates = [\n",
    "        u1d,\n",
    "        v1d,\n",
    "        r1d,\n",
    "        x01d,\n",
    "        y01d,\n",
    "        psi1d,\n",
    "    ]    \n",
    "    return dstates"
   ]
  },
  {
   "cell_type": "code",
   "execution_count": 21,
   "metadata": {},
   "outputs": [],
   "source": [
    "df_ = df_prime.copy()\n",
    "t = df_.index\n",
    "t_span = [t.min(),t.max()]\n",
    "t_eval = np.linspace(t.min(),t.max(),len(t))\n",
    "\n",
    "control = df_[['delta','thrust']]\n",
    "\n",
    "df_0 = df_.iloc[0:100].median(axis=0)\n",
    "y0 = {\n",
    "    'u' : df_0['u'], \n",
    "    'v' : df_0['v'],\n",
    "    'r' : df_0['r'],\n",
    "    'x0' : df_0['x0'],\n",
    "    'y0' : df_0['y0'],\n",
    "    'psi' : df_0['psi']\n",
    "    }\n",
    "\n",
    "parameters = df_parameters['brix_prime']\n",
    "\n",
    "solution = solve_ivp(fun=step, t_span=t_span, y0=list(y0.values()), t_eval=t_eval, \n",
    "            args=(parameters, ship_parameters_prime, control))"
   ]
  },
  {
   "cell_type": "code",
   "execution_count": 22,
   "metadata": {},
   "outputs": [],
   "source": [
    "columns = list(y0.keys())\n",
    "df_result = pd.DataFrame(data=solution.y.T, columns=columns)\n",
    "df_result.index=t[0:len(df_result)]"
   ]
  },
  {
   "cell_type": "code",
   "execution_count": 23,
   "metadata": {},
   "outputs": [
    {
     "data": {
      "image/png": "[encoded data removed]",
      "text/plain": [
       "<Figure size 432x288 with 1 Axes>"
      ]
     },
     "metadata": {
      "needs_background": "light"
     },
     "output_type": "display_data"
    },
    {
     "data": {
      "image/png": "[encoded data removed]",
      "text/plain": [
       "<Figure size 432x288 with 1 Axes>"
      ]
     },
     "metadata": {
      "needs_background": "light"
     },
     "output_type": "display_data"
    },
    {
     "data": {
      "image/png": "[encoded data removed]",
      "text/plain": [
       "<Figure size 432x288 with 1 Axes>"
      ]
     },
     "metadata": {
      "needs_background": "light"
     },
     "output_type": "display_data"
    },
    {
     "data": {
      "image/png": "[encoded data removed]",
      "text/plain": [
       "<Figure size 432x288 with 1 Axes>"
      ]
     },
     "metadata": {
      "needs_background": "light"
     },
     "output_type": "display_data"
    },
    {
     "data": {
      "image/png": "[encoded data removed]",
      "text/plain": [
       "<Figure size 432x288 with 1 Axes>"
      ]
     },
     "metadata": {
      "needs_background": "light"
     },
     "output_type": "display_data"
    },
    {
     "data": {
      "image/png": "[encoded data removed]",
      "text/plain": [
       "<Figure size 432x288 with 1 Axes>"
      ]
     },
     "metadata": {
      "needs_background": "light"
     },
     "output_type": "display_data"
    },
    {
     "data": {
      "image/png": "[encoded data removed]",
      "text/plain": [
       "<Figure size 432x288 with 1 Axes>"
      ]
     },
     "metadata": {
      "needs_background": "light"
     },
     "output_type": "display_data"
    }
   ],
   "source": [
    "fig,ax=plt.subplots()\n",
    "track_plot(df=df_prime, lpp=ship_parameters_prime['L'], beam=ship_parameters_prime['B'],ax=ax, label='model test')\n",
    "track_plot(df=df_result, lpp=ship_parameters_prime['L'], beam=ship_parameters_prime['B'],ax=ax, label='simulation', color='green')\n",
    "ax.legend()\n",
    "\n",
    "\n",
    "for key in df_result:\n",
    "    fig,ax = plt.subplots()\n",
    "    df_prime.plot(y=key, label='model test', ax=ax)\n",
    "    df_result.plot(y=key, label='simulation', ax=ax)\n",
    "    ax.set_ylabel(key)"
   ]
  },
  {
   "cell_type": "markdown",
   "metadata": {},
   "source": [
    "## Back to SI"
   ]
  },
  {
   "cell_type": "code",
   "execution_count": 24,
   "metadata": {},
   "outputs": [
    {
     "data": {
      "text/plain": [
       "[<matplotlib.lines.Line2D at 0x1878a7484f0>]"
      ]
     },
     "execution_count": 24,
     "metadata": {},
     "output_type": "execute_result"
    },
    {
     "data": {
      "image/png": "[encoded data removed]",
      "text/plain": [
       "<Figure size 432x288 with 1 Axes>"
      ]
     },
     "metadata": {
      "needs_background": "light"
     },
     "output_type": "display_data"
    }
   ],
   "source": [
    "fig,ax=plt.subplots()\n",
    "ax.plot(df.index,df_prime.index)"
   ]
  },
  {
   "cell_type": "code",
   "execution_count": 25,
   "metadata": {},
   "outputs": [],
   "source": [
    "U_ = ship_parameters['L']*df_prime.index/df.index\n",
    "df_unprime = ps.unprime(df_prime, U=U_)\n",
    "df_unprime.index = ps._unprime(df_prime.index,unit='time',U=U_)"
   ]
  },
  {
   "cell_type": "code",
   "execution_count": 26,
   "metadata": {},
   "outputs": [
    {
     "data": {
      "text/plain": [
       "<AxesSubplot:xlabel='time'>"
      ]
     },
     "execution_count": 26,
     "metadata": {},
     "output_type": "execute_result"
    },
    {
     "data": {
      "image/png": "[encoded data removed]",
      "text/plain": [
       "<Figure size 432x288 with 1 Axes>"
      ]
     },
     "metadata": {
      "needs_background": "light"
     },
     "output_type": "display_data"
    },
    {
     "data": {
      "image/png": "[encoded data removed]",
      "text/plain": [
       "<Figure size 432x288 with 1 Axes>"
      ]
     },
     "metadata": {
      "needs_background": "light"
     },
     "output_type": "display_data"
    },
    {
     "data": {
      "image/png": "[encoded data removed]",
      "text/plain": [
       "<Figure size 432x288 with 1 Axes>"
      ]
     },
     "metadata": {
      "needs_background": "light"
     },
     "output_type": "display_data"
    }
   ],
   "source": [
    "fig,ax=plt.subplots()\n",
    "#fig.set_size_inches(10,10)\n",
    "track_plot(df=df, lpp=meta_data.lpp, x_dataset='x0', y_dataset='y0',  psi_dataset='psi', beam=meta_data.beam, ax=ax);\n",
    "track_plot(df=df_unprime, lpp=meta_data.lpp, x_dataset='x0', y_dataset='y0',  psi_dataset='psi', beam=meta_data.beam, ax=ax);\n",
    "\n",
    "fig,ax=plt.subplots()\n",
    "df.plot(y='u',ax=ax)\n",
    "df_unprime.plot(y='u', style='--', ax=ax)\n",
    "\n",
    "fig,ax=plt.subplots()\n",
    "df.plot(y='v',ax=ax)\n",
    "df_unprime.plot(y='v', style='--', ax=ax)"
   ]
  },
  {
   "cell_type": "markdown",
   "metadata": {},
   "source": [
    "# VCT regression"
   ]
  },
  {
   "cell_type": "markdown",
   "metadata": {},
   "source": [
    "## Load VCT data"
   ]
  },
  {
   "cell_type": "code",
   "execution_count": 27,
   "metadata": {},
   "outputs": [
    {
     "data": {
      "text/html": [
       "<div>\n",
       "<style scoped>\n",
       "    .dataframe tbody tr th:only-of-type {\n",
       "        vertical-align: middle;\n",
       "    }\n",
       "\n",
       "    .dataframe tbody tr th {\n",
       "        vertical-align: top;\n",
       "    }\n",
       "\n",
       "    .dataframe thead th {\n",
       "        text-align: right;\n",
       "    }\n",
       "</style>\n",
       "<table border=\"1\" class=\"dataframe\">\n",
       "  <thead>\n",
       "    <tr style=\"text-align: right;\">\n",
       "      <th></th>\n",
       "      <th>level_0</th>\n",
       "      <th>Dp</th>\n",
       "      <th>S</th>\n",
       "      <th>S_Xgrid</th>\n",
       "      <th>S_inner_bracket_port</th>\n",
       "      <th>S_inner_bracket_stb</th>\n",
       "      <th>S_outer_bracket_port</th>\n",
       "      <th>S_outer_bracket_stb</th>\n",
       "      <th>S_rudder_port</th>\n",
       "      <th>S_rudder_stb</th>\n",
       "      <th>S_shaft_port_assembly</th>\n",
       "      <th>S_shaft_port_shaft1</th>\n",
       "      <th>S_shaft_port_shaft2</th>\n",
       "      <th>S_shaft_stb_assembly</th>\n",
       "      <th>S_shaft_stb_shaft1</th>\n",
       "      <th>S_shaft_stb_shaft2</th>\n",
       "      <th>V</th>\n",
       "      <th>beta</th>\n",
       "      <th>delta</th>\n",
       "      <th>fx</th>\n",
       "      <th>fx_Xgrid</th>\n",
       "      <th>fx_inner_bracket_port</th>\n",
       "      <th>fx_inner_bracket_stb</th>\n",
       "      <th>fx_outer_bracket_port</th>\n",
       "      <th>fx_outer_bracket_stb</th>\n",
       "      <th>fx_rudder_port</th>\n",
       "      <th>fx_rudder_stb</th>\n",
       "      <th>fx_shaft_port_assembly</th>\n",
       "      <th>fx_shaft_port_shaft1</th>\n",
       "      <th>fx_shaft_port_shaft2</th>\n",
       "      <th>fx_shaft_stb_assembly</th>\n",
       "      <th>fx_shaft_stb_shaft1</th>\n",
       "      <th>fx_shaft_stb_shaft2</th>\n",
       "      <th>fy</th>\n",
       "      <th>fy_Xgrid</th>\n",
       "      <th>fy_inner_bracket_port</th>\n",
       "      <th>fy_inner_bracket_stb</th>\n",
       "      <th>fy_outer_bracket_port</th>\n",
       "      <th>fy_outer_bracket_stb</th>\n",
       "      <th>fy_rudder_port</th>\n",
       "      <th>fy_rudder_stb</th>\n",
       "      <th>fy_shaft_port_assembly</th>\n",
       "      <th>fy_shaft_port_shaft1</th>\n",
       "      <th>fy_shaft_port_shaft2</th>\n",
       "      <th>fy_shaft_stb_assembly</th>\n",
       "      <th>fy_shaft_stb_shaft1</th>\n",
       "      <th>fy_shaft_stb_shaft2</th>\n",
       "      <th>fz</th>\n",
       "      <th>fz_Xgrid</th>\n",
       "      <th>fz_inner_bracket_port</th>\n",
       "      <th>fz_inner_bracket_stb</th>\n",
       "      <th>fz_outer_bracket_port</th>\n",
       "      <th>fz_outer_bracket_stb</th>\n",
       "      <th>fz_rudder_port</th>\n",
       "      <th>fz_rudder_stb</th>\n",
       "      <th>fz_shaft_port_assembly</th>\n",
       "      <th>fz_shaft_port_shaft1</th>\n",
       "      <th>fz_shaft_port_shaft2</th>\n",
       "      <th>fz_shaft_stb_assembly</th>\n",
       "      <th>fz_shaft_stb_shaft1</th>\n",
       "      <th>fz_shaft_stb_shaft2</th>\n",
       "      <th>g</th>\n",
       "      <th>lpp</th>\n",
       "      <th>mx</th>\n",
       "      <th>mx_Xgrid</th>\n",
       "      <th>mx_inner_bracket_port</th>\n",
       "      <th>mx_inner_bracket_stb</th>\n",
       "      <th>mx_outer_bracket_port</th>\n",
       "      <th>mx_outer_bracket_stb</th>\n",
       "      <th>mx_rudder_port</th>\n",
       "      <th>mx_rudder_stb</th>\n",
       "      <th>mx_shaft_port_assembly</th>\n",
       "      <th>mx_shaft_port_shaft1</th>\n",
       "      <th>mx_shaft_port_shaft2</th>\n",
       "      <th>mx_shaft_stb_assembly</th>\n",
       "      <th>mx_shaft_stb_shaft1</th>\n",
       "      <th>mx_shaft_stb_shaft2</th>\n",
       "      <th>my</th>\n",
       "      <th>my_Xgrid</th>\n",
       "      <th>my_inner_bracket_port</th>\n",
       "      <th>my_inner_bracket_stb</th>\n",
       "      <th>my_outer_bracket_port</th>\n",
       "      <th>my_outer_bracket_stb</th>\n",
       "      <th>my_rudder_port</th>\n",
       "      <th>my_rudder_stb</th>\n",
       "      <th>my_shaft_port_assembly</th>\n",
       "      <th>my_shaft_port_shaft1</th>\n",
       "      <th>my_shaft_port_shaft2</th>\n",
       "      <th>my_shaft_stb_assembly</th>\n",
       "      <th>my_shaft_stb_shaft1</th>\n",
       "      <th>my_shaft_stb_shaft2</th>\n",
       "      <th>mz</th>\n",
       "      <th>mz_Xgrid</th>\n",
       "      <th>mz_inner_bracket_port</th>\n",
       "      <th>mz_inner_bracket_stb</th>\n",
       "      <th>mz_outer_bracket_port</th>\n",
       "      <th>mz_outer_bracket_stb</th>\n",
       "      <th>mz_rudder_port</th>\n",
       "      <th>mz_rudder_stb</th>\n",
       "      <th>mz_shaft_port_assembly</th>\n",
       "      <th>mz_shaft_port_shaft1</th>\n",
       "      <th>mz_shaft_port_shaft2</th>\n",
       "      <th>mz_shaft_stb_assembly</th>\n",
       "      <th>mz_shaft_stb_shaft1</th>\n",
       "      <th>mz_shaft_stb_shaft2</th>\n",
       "      <th>r</th>\n",
       "      <th>result_file_path</th>\n",
       "      <th>rho</th>\n",
       "      <th>u</th>\n",
       "      <th>v</th>\n",
       "      <th>name</th>\n",
       "      <th>path</th>\n",
       "      <th>thrust</th>\n",
       "      <th>rev</th>\n",
       "      <th>p</th>\n",
       "      <th>phi</th>\n",
       "      <th>model_name</th>\n",
       "      <th>S_BK_port1</th>\n",
       "      <th>S_BK_stb1</th>\n",
       "      <th>fx_BK_port1</th>\n",
       "      <th>fx_BK_stb1</th>\n",
       "      <th>fy_BK_port1</th>\n",
       "      <th>fy_BK_stb1</th>\n",
       "      <th>fz_BK_port1</th>\n",
       "      <th>fz_BK_stb1</th>\n",
       "      <th>mx_BK_port1</th>\n",
       "      <th>mx_BK_stb1</th>\n",
       "      <th>my_BK_port1</th>\n",
       "      <th>my_BK_stb1</th>\n",
       "      <th>mz_BK_port1</th>\n",
       "      <th>mz_BK_stb1</th>\n",
       "      <th>S_daggerboard_middle</th>\n",
       "      <th>fx_daggerboard_middle</th>\n",
       "      <th>fy_daggerboard_middle</th>\n",
       "      <th>fz_daggerboard_middle</th>\n",
       "      <th>mx_daggerboard_middle</th>\n",
       "      <th>my_daggerboard_middle</th>\n",
       "      <th>mz_daggerboard_middle</th>\n",
       "      <th>S_R4083_ref</th>\n",
       "      <th>fx_R4083_ref</th>\n",
       "      <th>fy_R4083_ref</th>\n",
       "      <th>fz_R4083_ref</th>\n",
       "      <th>mx_R4083_ref</th>\n",
       "      <th>my_R4083_ref</th>\n",
       "      <th>mz_R4083_ref</th>\n",
       "      <th>S_Rudder_Center</th>\n",
       "      <th>S_Rudder_Port</th>\n",
       "      <th>S_Rudder_Starboard</th>\n",
       "      <th>S_hull</th>\n",
       "      <th>S_rudder</th>\n",
       "      <th>fx_Rudder_Center</th>\n",
       "      <th>fx_Rudder_Port</th>\n",
       "      <th>fx_Rudder_Starboard</th>\n",
       "      <th>fx_hull</th>\n",
       "      <th>fx_rudder</th>\n",
       "      <th>fy_Rudder_Center</th>\n",
       "      <th>fy_Rudder_Port</th>\n",
       "      <th>fy_Rudder_Starboard</th>\n",
       "      <th>fy_hull</th>\n",
       "      <th>fy_rudder</th>\n",
       "      <th>fz_Rudder_Center</th>\n",
       "      <th>fz_Rudder_Port</th>\n",
       "      <th>fz_Rudder_Starboard</th>\n",
       "      <th>fz_hull</th>\n",
       "      <th>fz_rudder</th>\n",
       "      <th>mx_Rudder_Center</th>\n",
       "      <th>mx_Rudder_Port</th>\n",
       "      <th>mx_Rudder_Starboard</th>\n",
       "      <th>mx_hull</th>\n",
       "      <th>mx_rudder</th>\n",
       "      <th>my_Rudder_Center</th>\n",
       "      <th>my_Rudder_Port</th>\n",
       "      <th>my_Rudder_Starboard</th>\n",
       "      <th>my_hull</th>\n",
       "      <th>my_rudder</th>\n",
       "      <th>mz_Rudder_Center</th>\n",
       "      <th>mz_Rudder_Port</th>\n",
       "      <th>mz_Rudder_Starboard</th>\n",
       "      <th>mz_hull</th>\n",
       "      <th>mz_rudder</th>\n",
       "      <th>torque</th>\n",
       "      <th>test type</th>\n",
       "      <th>eta0</th>\n",
       "      <th>eta0_round</th>\n",
       "      <th>fx_rudders</th>\n",
       "      <th>fy_rudders</th>\n",
       "      <th>fz_rudders</th>\n",
       "      <th>mx_rudders</th>\n",
       "      <th>my_rudders</th>\n",
       "      <th>mz_rudders</th>\n",
       "      <th>clr</th>\n",
       "      <th>S_daggerboard_port</th>\n",
       "      <th>S_daggerboard_stb</th>\n",
       "      <th>fake_index</th>\n",
       "      <th>fx_daggerboard_port</th>\n",
       "      <th>fx_daggerboard_stb</th>\n",
       "      <th>fy_daggerboard_port</th>\n",
       "      <th>fy_daggerboard_stb</th>\n",
       "      <th>fz_daggerboard_port</th>\n",
       "      <th>fz_daggerboard_stb</th>\n",
       "      <th>mx_daggerboard_port</th>\n",
       "      <th>mx_daggerboard_stb</th>\n",
       "      <th>my_daggerboard_port</th>\n",
       "      <th>my_daggerboard_stb</th>\n",
       "      <th>mz_daggerboard_port</th>\n",
       "      <th>mz_daggerboard_stb</th>\n",
       "      <th>$\\frac{fx}{V^2}$</th>\n",
       "      <th>$\\frac{fy}{V^2}$</th>\n",
       "      <th>$\\frac{mz}{V^2}$</th>\n",
       "    </tr>\n",
       "  </thead>\n",
       "  <tbody>\n",
       "    <tr>\n",
       "      <th>0</th>\n",
       "      <td>165</td>\n",
       "      <td>7.3</td>\n",
       "      <td>7375.872</td>\n",
       "      <td>7277.256591</td>\n",
       "      <td>NaN</td>\n",
       "      <td>NaN</td>\n",
       "      <td>NaN</td>\n",
       "      <td>NaN</td>\n",
       "      <td>NaN</td>\n",
       "      <td>NaN</td>\n",
       "      <td>NaN</td>\n",
       "      <td>NaN</td>\n",
       "      <td>NaN</td>\n",
       "      <td>NaN</td>\n",
       "      <td>NaN</td>\n",
       "      <td>NaN</td>\n",
       "      <td>6.173333</td>\n",
       "      <td>0.0</td>\n",
       "      <td>-0.000000</td>\n",
       "      <td>-261193.992917</td>\n",
       "      <td>-252076.078409</td>\n",
       "      <td>NaN</td>\n",
       "      <td>NaN</td>\n",
       "      <td>NaN</td>\n",
       "      <td>NaN</td>\n",
       "      <td>NaN</td>\n",
       "      <td>NaN</td>\n",
       "      <td>NaN</td>\n",
       "      <td>NaN</td>\n",
       "      <td>NaN</td>\n",
       "      <td>NaN</td>\n",
       "      <td>NaN</td>\n",
       "      <td>NaN</td>\n",
       "      <td>-1308.975604</td>\n",
       "      <td>-295.088406</td>\n",
       "      <td>NaN</td>\n",
       "      <td>NaN</td>\n",
       "      <td>NaN</td>\n",
       "      <td>NaN</td>\n",
       "      <td>NaN</td>\n",
       "      <td>NaN</td>\n",
       "      <td>NaN</td>\n",
       "      <td>NaN</td>\n",
       "      <td>NaN</td>\n",
       "      <td>NaN</td>\n",
       "      <td>NaN</td>\n",
       "      <td>NaN</td>\n",
       "      <td>-5.879028e+06</td>\n",
       "      <td>-5.881622e+06</td>\n",
       "      <td>NaN</td>\n",
       "      <td>NaN</td>\n",
       "      <td>NaN</td>\n",
       "      <td>NaN</td>\n",
       "      <td>NaN</td>\n",
       "      <td>NaN</td>\n",
       "      <td>NaN</td>\n",
       "      <td>NaN</td>\n",
       "      <td>NaN</td>\n",
       "      <td>NaN</td>\n",
       "      <td>NaN</td>\n",
       "      <td>NaN</td>\n",
       "      <td>9.80665</td>\n",
       "      <td>196.0</td>\n",
       "      <td>5.778834e+02</td>\n",
       "      <td>-1085.233044</td>\n",
       "      <td>NaN</td>\n",
       "      <td>NaN</td>\n",
       "      <td>NaN</td>\n",
       "      <td>NaN</td>\n",
       "      <td>NaN</td>\n",
       "      <td>NaN</td>\n",
       "      <td>NaN</td>\n",
       "      <td>NaN</td>\n",
       "      <td>NaN</td>\n",
       "      <td>NaN</td>\n",
       "      <td>NaN</td>\n",
       "      <td>NaN</td>\n",
       "      <td>6.173220e+08</td>\n",
       "      <td>6.178902e+08</td>\n",
       "      <td>NaN</td>\n",
       "      <td>NaN</td>\n",
       "      <td>NaN</td>\n",
       "      <td>NaN</td>\n",
       "      <td>NaN</td>\n",
       "      <td>NaN</td>\n",
       "      <td>NaN</td>\n",
       "      <td>NaN</td>\n",
       "      <td>NaN</td>\n",
       "      <td>NaN</td>\n",
       "      <td>NaN</td>\n",
       "      <td>NaN</td>\n",
       "      <td>1.236840e+05</td>\n",
       "      <td>2.386122e+04</td>\n",
       "      <td>NaN</td>\n",
       "      <td>NaN</td>\n",
       "      <td>NaN</td>\n",
       "      <td>NaN</td>\n",
       "      <td>NaN</td>\n",
       "      <td>NaN</td>\n",
       "      <td>NaN</td>\n",
       "      <td>NaN</td>\n",
       "      <td>NaN</td>\n",
       "      <td>NaN</td>\n",
       "      <td>NaN</td>\n",
       "      <td>NaN</td>\n",
       "      <td>0.0</td>\n",
       "      <td>L:\\proj2019\\40199079-Segelfartyg-Wallenius\\VCT...</td>\n",
       "      <td>1025.0</td>\n",
       "      <td>6.173333</td>\n",
       "      <td>-0.0</td>\n",
       "      <td>12knotsResistance</td>\n",
       "      <td>L:\\proj2019\\40199079-Segelfartyg-Wallenius\\VCT...</td>\n",
       "      <td>0.0</td>\n",
       "      <td>0.0</td>\n",
       "      <td>0</td>\n",
       "      <td>0</td>\n",
       "      <td>HERO</td>\n",
       "      <td>NaN</td>\n",
       "      <td>NaN</td>\n",
       "      <td>NaN</td>\n",
       "      <td>NaN</td>\n",
       "      <td>NaN</td>\n",
       "      <td>NaN</td>\n",
       "      <td>NaN</td>\n",
       "      <td>NaN</td>\n",
       "      <td>NaN</td>\n",
       "      <td>NaN</td>\n",
       "      <td>NaN</td>\n",
       "      <td>NaN</td>\n",
       "      <td>NaN</td>\n",
       "      <td>NaN</td>\n",
       "      <td>NaN</td>\n",
       "      <td>NaN</td>\n",
       "      <td>NaN</td>\n",
       "      <td>NaN</td>\n",
       "      <td>NaN</td>\n",
       "      <td>NaN</td>\n",
       "      <td>NaN</td>\n",
       "      <td>98.619465</td>\n",
       "      <td>-9118.015350</td>\n",
       "      <td>-1013.887198</td>\n",
       "      <td>2591.716633</td>\n",
       "      <td>1.663116e+03</td>\n",
       "      <td>-5.667386e+05</td>\n",
       "      <td>9.982278e+04</td>\n",
       "      <td>NaN</td>\n",
       "      <td>NaN</td>\n",
       "      <td>NaN</td>\n",
       "      <td>NaN</td>\n",
       "      <td>NaN</td>\n",
       "      <td>NaN</td>\n",
       "      <td>NaN</td>\n",
       "      <td>NaN</td>\n",
       "      <td>NaN</td>\n",
       "      <td>NaN</td>\n",
       "      <td>NaN</td>\n",
       "      <td>NaN</td>\n",
       "      <td>NaN</td>\n",
       "      <td>NaN</td>\n",
       "      <td>NaN</td>\n",
       "      <td>NaN</td>\n",
       "      <td>NaN</td>\n",
       "      <td>NaN</td>\n",
       "      <td>NaN</td>\n",
       "      <td>NaN</td>\n",
       "      <td>NaN</td>\n",
       "      <td>NaN</td>\n",
       "      <td>NaN</td>\n",
       "      <td>NaN</td>\n",
       "      <td>NaN</td>\n",
       "      <td>NaN</td>\n",
       "      <td>NaN</td>\n",
       "      <td>NaN</td>\n",
       "      <td>NaN</td>\n",
       "      <td>NaN</td>\n",
       "      <td>NaN</td>\n",
       "      <td>NaN</td>\n",
       "      <td>NaN</td>\n",
       "      <td>NaN</td>\n",
       "      <td>NaN</td>\n",
       "      <td>NaN</td>\n",
       "      <td>resistance</td>\n",
       "      <td>1.0</td>\n",
       "      <td>1.0</td>\n",
       "      <td>-9118.015350</td>\n",
       "      <td>-1013.887198</td>\n",
       "      <td>2591.716633</td>\n",
       "      <td>1.663116e+03</td>\n",
       "      <td>-5.667386e+05</td>\n",
       "      <td>9.982278e+04</td>\n",
       "      <td>0.017912</td>\n",
       "      <td>NaN</td>\n",
       "      <td>NaN</td>\n",
       "      <td>NaN</td>\n",
       "      <td>NaN</td>\n",
       "      <td>NaN</td>\n",
       "      <td>NaN</td>\n",
       "      <td>NaN</td>\n",
       "      <td>NaN</td>\n",
       "      <td>NaN</td>\n",
       "      <td>NaN</td>\n",
       "      <td>NaN</td>\n",
       "      <td>NaN</td>\n",
       "      <td>NaN</td>\n",
       "      <td>NaN</td>\n",
       "      <td>NaN</td>\n",
       "      <td>-6853.678518</td>\n",
       "      <td>-34.347260</td>\n",
       "      <td>3.245443e+03</td>\n",
       "    </tr>\n",
       "    <tr>\n",
       "      <th>1</th>\n",
       "      <td>166</td>\n",
       "      <td>7.3</td>\n",
       "      <td>7375.872</td>\n",
       "      <td>7277.256591</td>\n",
       "      <td>NaN</td>\n",
       "      <td>NaN</td>\n",
       "      <td>NaN</td>\n",
       "      <td>NaN</td>\n",
       "      <td>NaN</td>\n",
       "      <td>NaN</td>\n",
       "      <td>NaN</td>\n",
       "      <td>NaN</td>\n",
       "      <td>NaN</td>\n",
       "      <td>NaN</td>\n",
       "      <td>NaN</td>\n",
       "      <td>NaN</td>\n",
       "      <td>7.202222</td>\n",
       "      <td>0.0</td>\n",
       "      <td>-0.000000</td>\n",
       "      <td>-349928.617379</td>\n",
       "      <td>-337384.590007</td>\n",
       "      <td>NaN</td>\n",
       "      <td>NaN</td>\n",
       "      <td>NaN</td>\n",
       "      <td>NaN</td>\n",
       "      <td>NaN</td>\n",
       "      <td>NaN</td>\n",
       "      <td>NaN</td>\n",
       "      <td>NaN</td>\n",
       "      <td>NaN</td>\n",
       "      <td>NaN</td>\n",
       "      <td>NaN</td>\n",
       "      <td>NaN</td>\n",
       "      <td>1675.936588</td>\n",
       "      <td>-308.032439</td>\n",
       "      <td>NaN</td>\n",
       "      <td>NaN</td>\n",
       "      <td>NaN</td>\n",
       "      <td>NaN</td>\n",
       "      <td>NaN</td>\n",
       "      <td>NaN</td>\n",
       "      <td>NaN</td>\n",
       "      <td>NaN</td>\n",
       "      <td>NaN</td>\n",
       "      <td>NaN</td>\n",
       "      <td>NaN</td>\n",
       "      <td>NaN</td>\n",
       "      <td>-8.003832e+06</td>\n",
       "      <td>-8.007232e+06</td>\n",
       "      <td>NaN</td>\n",
       "      <td>NaN</td>\n",
       "      <td>NaN</td>\n",
       "      <td>NaN</td>\n",
       "      <td>NaN</td>\n",
       "      <td>NaN</td>\n",
       "      <td>NaN</td>\n",
       "      <td>NaN</td>\n",
       "      <td>NaN</td>\n",
       "      <td>NaN</td>\n",
       "      <td>NaN</td>\n",
       "      <td>NaN</td>\n",
       "      <td>9.80665</td>\n",
       "      <td>196.0</td>\n",
       "      <td>-2.468286e+03</td>\n",
       "      <td>919.616522</td>\n",
       "      <td>NaN</td>\n",
       "      <td>NaN</td>\n",
       "      <td>NaN</td>\n",
       "      <td>NaN</td>\n",
       "      <td>NaN</td>\n",
       "      <td>NaN</td>\n",
       "      <td>NaN</td>\n",
       "      <td>NaN</td>\n",
       "      <td>NaN</td>\n",
       "      <td>NaN</td>\n",
       "      <td>NaN</td>\n",
       "      <td>NaN</td>\n",
       "      <td>8.403946e+08</td>\n",
       "      <td>8.411460e+08</td>\n",
       "      <td>NaN</td>\n",
       "      <td>NaN</td>\n",
       "      <td>NaN</td>\n",
       "      <td>NaN</td>\n",
       "      <td>NaN</td>\n",
       "      <td>NaN</td>\n",
       "      <td>NaN</td>\n",
       "      <td>NaN</td>\n",
       "      <td>NaN</td>\n",
       "      <td>NaN</td>\n",
       "      <td>NaN</td>\n",
       "      <td>NaN</td>\n",
       "      <td>-1.667590e+05</td>\n",
       "      <td>2.743992e+04</td>\n",
       "      <td>NaN</td>\n",
       "      <td>NaN</td>\n",
       "      <td>NaN</td>\n",
       "      <td>NaN</td>\n",
       "      <td>NaN</td>\n",
       "      <td>NaN</td>\n",
       "      <td>NaN</td>\n",
       "      <td>NaN</td>\n",
       "      <td>NaN</td>\n",
       "      <td>NaN</td>\n",
       "      <td>NaN</td>\n",
       "      <td>NaN</td>\n",
       "      <td>0.0</td>\n",
       "      <td>L:\\proj2019\\40199079-Segelfartyg-Wallenius\\VCT...</td>\n",
       "      <td>1025.0</td>\n",
       "      <td>7.202222</td>\n",
       "      <td>-0.0</td>\n",
       "      <td>14knotsResistance</td>\n",
       "      <td>L:\\proj2019\\40199079-Segelfartyg-Wallenius\\VCT...</td>\n",
       "      <td>0.0</td>\n",
       "      <td>0.0</td>\n",
       "      <td>0</td>\n",
       "      <td>0</td>\n",
       "      <td>HERO</td>\n",
       "      <td>NaN</td>\n",
       "      <td>NaN</td>\n",
       "      <td>NaN</td>\n",
       "      <td>NaN</td>\n",
       "      <td>NaN</td>\n",
       "      <td>NaN</td>\n",
       "      <td>NaN</td>\n",
       "      <td>NaN</td>\n",
       "      <td>NaN</td>\n",
       "      <td>NaN</td>\n",
       "      <td>NaN</td>\n",
       "      <td>NaN</td>\n",
       "      <td>NaN</td>\n",
       "      <td>NaN</td>\n",
       "      <td>NaN</td>\n",
       "      <td>NaN</td>\n",
       "      <td>NaN</td>\n",
       "      <td>NaN</td>\n",
       "      <td>NaN</td>\n",
       "      <td>NaN</td>\n",
       "      <td>NaN</td>\n",
       "      <td>98.614671</td>\n",
       "      <td>-12543.752855</td>\n",
       "      <td>1983.972942</td>\n",
       "      <td>3413.186063</td>\n",
       "      <td>-3.387899e+03</td>\n",
       "      <td>-7.496762e+05</td>\n",
       "      <td>-1.942004e+05</td>\n",
       "      <td>NaN</td>\n",
       "      <td>NaN</td>\n",
       "      <td>NaN</td>\n",
       "      <td>NaN</td>\n",
       "      <td>NaN</td>\n",
       "      <td>NaN</td>\n",
       "      <td>NaN</td>\n",
       "      <td>NaN</td>\n",
       "      <td>NaN</td>\n",
       "      <td>NaN</td>\n",
       "      <td>NaN</td>\n",
       "      <td>NaN</td>\n",
       "      <td>NaN</td>\n",
       "      <td>NaN</td>\n",
       "      <td>NaN</td>\n",
       "      <td>NaN</td>\n",
       "      <td>NaN</td>\n",
       "      <td>NaN</td>\n",
       "      <td>NaN</td>\n",
       "      <td>NaN</td>\n",
       "      <td>NaN</td>\n",
       "      <td>NaN</td>\n",
       "      <td>NaN</td>\n",
       "      <td>NaN</td>\n",
       "      <td>NaN</td>\n",
       "      <td>NaN</td>\n",
       "      <td>NaN</td>\n",
       "      <td>NaN</td>\n",
       "      <td>NaN</td>\n",
       "      <td>NaN</td>\n",
       "      <td>NaN</td>\n",
       "      <td>NaN</td>\n",
       "      <td>NaN</td>\n",
       "      <td>NaN</td>\n",
       "      <td>NaN</td>\n",
       "      <td>NaN</td>\n",
       "      <td>resistance</td>\n",
       "      <td>1.0</td>\n",
       "      <td>1.0</td>\n",
       "      <td>-12543.752855</td>\n",
       "      <td>1983.972942</td>\n",
       "      <td>3413.186063</td>\n",
       "      <td>-3.387899e+03</td>\n",
       "      <td>-7.496762e+05</td>\n",
       "      <td>-1.942004e+05</td>\n",
       "      <td>-0.007663</td>\n",
       "      <td>NaN</td>\n",
       "      <td>NaN</td>\n",
       "      <td>NaN</td>\n",
       "      <td>NaN</td>\n",
       "      <td>NaN</td>\n",
       "      <td>NaN</td>\n",
       "      <td>NaN</td>\n",
       "      <td>NaN</td>\n",
       "      <td>NaN</td>\n",
       "      <td>NaN</td>\n",
       "      <td>NaN</td>\n",
       "      <td>NaN</td>\n",
       "      <td>NaN</td>\n",
       "      <td>NaN</td>\n",
       "      <td>NaN</td>\n",
       "      <td>-6746.001389</td>\n",
       "      <td>32.309077</td>\n",
       "      <td>-3.214816e+03</td>\n",
       "    </tr>\n",
       "    <tr>\n",
       "      <th>2</th>\n",
       "      <td>167</td>\n",
       "      <td>7.3</td>\n",
       "      <td>7375.872</td>\n",
       "      <td>7277.256591</td>\n",
       "      <td>NaN</td>\n",
       "      <td>NaN</td>\n",
       "      <td>NaN</td>\n",
       "      <td>NaN</td>\n",
       "      <td>NaN</td>\n",
       "      <td>NaN</td>\n",
       "      <td>NaN</td>\n",
       "      <td>NaN</td>\n",
       "      <td>NaN</td>\n",
       "      <td>NaN</td>\n",
       "      <td>NaN</td>\n",
       "      <td>NaN</td>\n",
       "      <td>2.572222</td>\n",
       "      <td>0.0</td>\n",
       "      <td>-0.000000</td>\n",
       "      <td>-50129.332651</td>\n",
       "      <td>-48553.764522</td>\n",
       "      <td>NaN</td>\n",
       "      <td>NaN</td>\n",
       "      <td>NaN</td>\n",
       "      <td>NaN</td>\n",
       "      <td>NaN</td>\n",
       "      <td>NaN</td>\n",
       "      <td>NaN</td>\n",
       "      <td>NaN</td>\n",
       "      <td>NaN</td>\n",
       "      <td>NaN</td>\n",
       "      <td>NaN</td>\n",
       "      <td>NaN</td>\n",
       "      <td>-223.774833</td>\n",
       "      <td>19.680496</td>\n",
       "      <td>NaN</td>\n",
       "      <td>NaN</td>\n",
       "      <td>NaN</td>\n",
       "      <td>NaN</td>\n",
       "      <td>NaN</td>\n",
       "      <td>NaN</td>\n",
       "      <td>NaN</td>\n",
       "      <td>NaN</td>\n",
       "      <td>NaN</td>\n",
       "      <td>NaN</td>\n",
       "      <td>NaN</td>\n",
       "      <td>NaN</td>\n",
       "      <td>-1.020599e+06</td>\n",
       "      <td>-1.021046e+06</td>\n",
       "      <td>NaN</td>\n",
       "      <td>NaN</td>\n",
       "      <td>NaN</td>\n",
       "      <td>NaN</td>\n",
       "      <td>NaN</td>\n",
       "      <td>NaN</td>\n",
       "      <td>NaN</td>\n",
       "      <td>NaN</td>\n",
       "      <td>NaN</td>\n",
       "      <td>NaN</td>\n",
       "      <td>NaN</td>\n",
       "      <td>NaN</td>\n",
       "      <td>9.80665</td>\n",
       "      <td>196.0</td>\n",
       "      <td>3.731674e+02</td>\n",
       "      <td>-227.694793</td>\n",
       "      <td>NaN</td>\n",
       "      <td>NaN</td>\n",
       "      <td>NaN</td>\n",
       "      <td>NaN</td>\n",
       "      <td>NaN</td>\n",
       "      <td>NaN</td>\n",
       "      <td>NaN</td>\n",
       "      <td>NaN</td>\n",
       "      <td>NaN</td>\n",
       "      <td>NaN</td>\n",
       "      <td>NaN</td>\n",
       "      <td>NaN</td>\n",
       "      <td>1.072725e+08</td>\n",
       "      <td>1.073708e+08</td>\n",
       "      <td>NaN</td>\n",
       "      <td>NaN</td>\n",
       "      <td>NaN</td>\n",
       "      <td>NaN</td>\n",
       "      <td>NaN</td>\n",
       "      <td>NaN</td>\n",
       "      <td>NaN</td>\n",
       "      <td>NaN</td>\n",
       "      <td>NaN</td>\n",
       "      <td>NaN</td>\n",
       "      <td>NaN</td>\n",
       "      <td>NaN</td>\n",
       "      <td>2.212888e+04</td>\n",
       "      <td>-1.740039e+03</td>\n",
       "      <td>NaN</td>\n",
       "      <td>NaN</td>\n",
       "      <td>NaN</td>\n",
       "      <td>NaN</td>\n",
       "      <td>NaN</td>\n",
       "      <td>NaN</td>\n",
       "      <td>NaN</td>\n",
       "      <td>NaN</td>\n",
       "      <td>NaN</td>\n",
       "      <td>NaN</td>\n",
       "      <td>NaN</td>\n",
       "      <td>NaN</td>\n",
       "      <td>0.0</td>\n",
       "      <td>L:\\proj2019\\40199079-Segelfartyg-Wallenius\\VCT...</td>\n",
       "      <td>1025.0</td>\n",
       "      <td>2.572222</td>\n",
       "      <td>-0.0</td>\n",
       "      <td>5knotsResistance</td>\n",
       "      <td>L:\\proj2019\\40199079-Segelfartyg-Wallenius\\VCT...</td>\n",
       "      <td>0.0</td>\n",
       "      <td>0.0</td>\n",
       "      <td>0</td>\n",
       "      <td>0</td>\n",
       "      <td>HERO</td>\n",
       "      <td>NaN</td>\n",
       "      <td>NaN</td>\n",
       "      <td>NaN</td>\n",
       "      <td>NaN</td>\n",
       "      <td>NaN</td>\n",
       "      <td>NaN</td>\n",
       "      <td>NaN</td>\n",
       "      <td>NaN</td>\n",
       "      <td>NaN</td>\n",
       "      <td>NaN</td>\n",
       "      <td>NaN</td>\n",
       "      <td>NaN</td>\n",
       "      <td>NaN</td>\n",
       "      <td>NaN</td>\n",
       "      <td>NaN</td>\n",
       "      <td>NaN</td>\n",
       "      <td>NaN</td>\n",
       "      <td>NaN</td>\n",
       "      <td>NaN</td>\n",
       "      <td>NaN</td>\n",
       "      <td>NaN</td>\n",
       "      <td>98.615777</td>\n",
       "      <td>-1575.613148</td>\n",
       "      <td>-243.455304</td>\n",
       "      <td>446.759701</td>\n",
       "      <td>6.008627e+02</td>\n",
       "      <td>-9.800054e+04</td>\n",
       "      <td>2.386892e+04</td>\n",
       "      <td>NaN</td>\n",
       "      <td>NaN</td>\n",
       "      <td>NaN</td>\n",
       "      <td>NaN</td>\n",
       "      <td>NaN</td>\n",
       "      <td>NaN</td>\n",
       "      <td>NaN</td>\n",
       "      <td>NaN</td>\n",
       "      <td>NaN</td>\n",
       "      <td>NaN</td>\n",
       "      <td>NaN</td>\n",
       "      <td>NaN</td>\n",
       "      <td>NaN</td>\n",
       "      <td>NaN</td>\n",
       "      <td>NaN</td>\n",
       "      <td>NaN</td>\n",
       "      <td>NaN</td>\n",
       "      <td>NaN</td>\n",
       "      <td>NaN</td>\n",
       "      <td>NaN</td>\n",
       "      <td>NaN</td>\n",
       "      <td>NaN</td>\n",
       "      <td>NaN</td>\n",
       "      <td>NaN</td>\n",
       "      <td>NaN</td>\n",
       "      <td>NaN</td>\n",
       "      <td>NaN</td>\n",
       "      <td>NaN</td>\n",
       "      <td>NaN</td>\n",
       "      <td>NaN</td>\n",
       "      <td>NaN</td>\n",
       "      <td>NaN</td>\n",
       "      <td>NaN</td>\n",
       "      <td>NaN</td>\n",
       "      <td>NaN</td>\n",
       "      <td>NaN</td>\n",
       "      <td>resistance</td>\n",
       "      <td>1.0</td>\n",
       "      <td>1.0</td>\n",
       "      <td>-1575.613148</td>\n",
       "      <td>-243.455304</td>\n",
       "      <td>446.759701</td>\n",
       "      <td>6.008627e+02</td>\n",
       "      <td>-9.800054e+04</td>\n",
       "      <td>2.386892e+04</td>\n",
       "      <td>-0.004536</td>\n",
       "      <td>NaN</td>\n",
       "      <td>NaN</td>\n",
       "      <td>NaN</td>\n",
       "      <td>NaN</td>\n",
       "      <td>NaN</td>\n",
       "      <td>NaN</td>\n",
       "      <td>NaN</td>\n",
       "      <td>NaN</td>\n",
       "      <td>NaN</td>\n",
       "      <td>NaN</td>\n",
       "      <td>NaN</td>\n",
       "      <td>NaN</td>\n",
       "      <td>NaN</td>\n",
       "      <td>NaN</td>\n",
       "      <td>NaN</td>\n",
       "      <td>-7576.610321</td>\n",
       "      <td>-33.821609</td>\n",
       "      <td>3.344587e+03</td>\n",
       "    </tr>\n",
       "    <tr>\n",
       "      <th>3</th>\n",
       "      <td>168</td>\n",
       "      <td>7.3</td>\n",
       "      <td>7375.872</td>\n",
       "      <td>7277.256591</td>\n",
       "      <td>NaN</td>\n",
       "      <td>NaN</td>\n",
       "      <td>NaN</td>\n",
       "      <td>NaN</td>\n",
       "      <td>NaN</td>\n",
       "      <td>NaN</td>\n",
       "      <td>NaN</td>\n",
       "      <td>NaN</td>\n",
       "      <td>NaN</td>\n",
       "      <td>NaN</td>\n",
       "      <td>NaN</td>\n",
       "      <td>NaN</td>\n",
       "      <td>6.173333</td>\n",
       "      <td>0.0</td>\n",
       "      <td>-0.174533</td>\n",
       "      <td>-282698.568064</td>\n",
       "      <td>-248988.273006</td>\n",
       "      <td>NaN</td>\n",
       "      <td>NaN</td>\n",
       "      <td>NaN</td>\n",
       "      <td>NaN</td>\n",
       "      <td>NaN</td>\n",
       "      <td>NaN</td>\n",
       "      <td>NaN</td>\n",
       "      <td>NaN</td>\n",
       "      <td>NaN</td>\n",
       "      <td>NaN</td>\n",
       "      <td>NaN</td>\n",
       "      <td>NaN</td>\n",
       "      <td>-335412.392821</td>\n",
       "      <td>-35760.650860</td>\n",
       "      <td>NaN</td>\n",
       "      <td>NaN</td>\n",
       "      <td>NaN</td>\n",
       "      <td>NaN</td>\n",
       "      <td>NaN</td>\n",
       "      <td>NaN</td>\n",
       "      <td>NaN</td>\n",
       "      <td>NaN</td>\n",
       "      <td>NaN</td>\n",
       "      <td>NaN</td>\n",
       "      <td>NaN</td>\n",
       "      <td>NaN</td>\n",
       "      <td>-5.873117e+06</td>\n",
       "      <td>-5.866908e+06</td>\n",
       "      <td>NaN</td>\n",
       "      <td>NaN</td>\n",
       "      <td>NaN</td>\n",
       "      <td>NaN</td>\n",
       "      <td>NaN</td>\n",
       "      <td>NaN</td>\n",
       "      <td>NaN</td>\n",
       "      <td>NaN</td>\n",
       "      <td>NaN</td>\n",
       "      <td>NaN</td>\n",
       "      <td>NaN</td>\n",
       "      <td>NaN</td>\n",
       "      <td>9.80665</td>\n",
       "      <td>196.0</td>\n",
       "      <td>1.020810e+06</td>\n",
       "      <td>-334811.547379</td>\n",
       "      <td>NaN</td>\n",
       "      <td>NaN</td>\n",
       "      <td>NaN</td>\n",
       "      <td>NaN</td>\n",
       "      <td>NaN</td>\n",
       "      <td>NaN</td>\n",
       "      <td>NaN</td>\n",
       "      <td>NaN</td>\n",
       "      <td>NaN</td>\n",
       "      <td>NaN</td>\n",
       "      <td>NaN</td>\n",
       "      <td>NaN</td>\n",
       "      <td>6.164703e+08</td>\n",
       "      <td>6.154129e+08</td>\n",
       "      <td>NaN</td>\n",
       "      <td>NaN</td>\n",
       "      <td>NaN</td>\n",
       "      <td>NaN</td>\n",
       "      <td>NaN</td>\n",
       "      <td>NaN</td>\n",
       "      <td>NaN</td>\n",
       "      <td>NaN</td>\n",
       "      <td>NaN</td>\n",
       "      <td>NaN</td>\n",
       "      <td>NaN</td>\n",
       "      <td>NaN</td>\n",
       "      <td>3.190560e+07</td>\n",
       "      <td>2.449190e+06</td>\n",
       "      <td>NaN</td>\n",
       "      <td>NaN</td>\n",
       "      <td>NaN</td>\n",
       "      <td>NaN</td>\n",
       "      <td>NaN</td>\n",
       "      <td>NaN</td>\n",
       "      <td>NaN</td>\n",
       "      <td>NaN</td>\n",
       "      <td>NaN</td>\n",
       "      <td>NaN</td>\n",
       "      <td>NaN</td>\n",
       "      <td>NaN</td>\n",
       "      <td>0.0</td>\n",
       "      <td>L:\\proj2019\\40199079-Segelfartyg-Wallenius\\VCT...</td>\n",
       "      <td>1025.0</td>\n",
       "      <td>6.173333</td>\n",
       "      <td>-0.0</td>\n",
       "      <td>12knots-10degRudd</td>\n",
       "      <td>L:\\proj2019\\40199079-Segelfartyg-Wallenius\\VCT...</td>\n",
       "      <td>0.0</td>\n",
       "      <td>0.0</td>\n",
       "      <td>0</td>\n",
       "      <td>0</td>\n",
       "      <td>HERO</td>\n",
       "      <td>NaN</td>\n",
       "      <td>NaN</td>\n",
       "      <td>NaN</td>\n",
       "      <td>NaN</td>\n",
       "      <td>NaN</td>\n",
       "      <td>NaN</td>\n",
       "      <td>NaN</td>\n",
       "      <td>NaN</td>\n",
       "      <td>NaN</td>\n",
       "      <td>NaN</td>\n",
       "      <td>NaN</td>\n",
       "      <td>NaN</td>\n",
       "      <td>NaN</td>\n",
       "      <td>NaN</td>\n",
       "      <td>NaN</td>\n",
       "      <td>NaN</td>\n",
       "      <td>NaN</td>\n",
       "      <td>NaN</td>\n",
       "      <td>NaN</td>\n",
       "      <td>NaN</td>\n",
       "      <td>NaN</td>\n",
       "      <td>98.626472</td>\n",
       "      <td>-33710.568774</td>\n",
       "      <td>-299652.606328</td>\n",
       "      <td>-6208.145562</td>\n",
       "      <td>1.355621e+06</td>\n",
       "      <td>1.057582e+06</td>\n",
       "      <td>2.945632e+07</td>\n",
       "      <td>NaN</td>\n",
       "      <td>NaN</td>\n",
       "      <td>NaN</td>\n",
       "      <td>NaN</td>\n",
       "      <td>NaN</td>\n",
       "      <td>NaN</td>\n",
       "      <td>NaN</td>\n",
       "      <td>NaN</td>\n",
       "      <td>NaN</td>\n",
       "      <td>NaN</td>\n",
       "      <td>NaN</td>\n",
       "      <td>NaN</td>\n",
       "      <td>NaN</td>\n",
       "      <td>NaN</td>\n",
       "      <td>NaN</td>\n",
       "      <td>NaN</td>\n",
       "      <td>NaN</td>\n",
       "      <td>NaN</td>\n",
       "      <td>NaN</td>\n",
       "      <td>NaN</td>\n",
       "      <td>NaN</td>\n",
       "      <td>NaN</td>\n",
       "      <td>NaN</td>\n",
       "      <td>NaN</td>\n",
       "      <td>NaN</td>\n",
       "      <td>NaN</td>\n",
       "      <td>NaN</td>\n",
       "      <td>NaN</td>\n",
       "      <td>NaN</td>\n",
       "      <td>NaN</td>\n",
       "      <td>NaN</td>\n",
       "      <td>NaN</td>\n",
       "      <td>NaN</td>\n",
       "      <td>NaN</td>\n",
       "      <td>NaN</td>\n",
       "      <td>NaN</td>\n",
       "      <td>Rudder angle</td>\n",
       "      <td>1.0</td>\n",
       "      <td>1.0</td>\n",
       "      <td>-33710.568774</td>\n",
       "      <td>-299652.606328</td>\n",
       "      <td>-6208.145562</td>\n",
       "      <td>1.355621e+06</td>\n",
       "      <td>1.057582e+06</td>\n",
       "      <td>2.945632e+07</td>\n",
       "      <td>0.014676</td>\n",
       "      <td>NaN</td>\n",
       "      <td>NaN</td>\n",
       "      <td>NaN</td>\n",
       "      <td>NaN</td>\n",
       "      <td>NaN</td>\n",
       "      <td>NaN</td>\n",
       "      <td>NaN</td>\n",
       "      <td>NaN</td>\n",
       "      <td>NaN</td>\n",
       "      <td>NaN</td>\n",
       "      <td>NaN</td>\n",
       "      <td>NaN</td>\n",
       "      <td>NaN</td>\n",
       "      <td>NaN</td>\n",
       "      <td>NaN</td>\n",
       "      <td>-7417.954300</td>\n",
       "      <td>-8801.154596</td>\n",
       "      <td>8.371965e+05</td>\n",
       "    </tr>\n",
       "    <tr>\n",
       "      <th>4</th>\n",
       "      <td>169</td>\n",
       "      <td>7.3</td>\n",
       "      <td>7375.872</td>\n",
       "      <td>7277.182833</td>\n",
       "      <td>NaN</td>\n",
       "      <td>NaN</td>\n",
       "      <td>NaN</td>\n",
       "      <td>NaN</td>\n",
       "      <td>NaN</td>\n",
       "      <td>NaN</td>\n",
       "      <td>NaN</td>\n",
       "      <td>NaN</td>\n",
       "      <td>NaN</td>\n",
       "      <td>NaN</td>\n",
       "      <td>NaN</td>\n",
       "      <td>NaN</td>\n",
       "      <td>6.173333</td>\n",
       "      <td>0.0</td>\n",
       "      <td>-0.261799</td>\n",
       "      <td>-358346.198906</td>\n",
       "      <td>-295295.846017</td>\n",
       "      <td>NaN</td>\n",
       "      <td>NaN</td>\n",
       "      <td>NaN</td>\n",
       "      <td>NaN</td>\n",
       "      <td>NaN</td>\n",
       "      <td>NaN</td>\n",
       "      <td>NaN</td>\n",
       "      <td>NaN</td>\n",
       "      <td>NaN</td>\n",
       "      <td>NaN</td>\n",
       "      <td>NaN</td>\n",
       "      <td>NaN</td>\n",
       "      <td>-403579.303802</td>\n",
       "      <td>149850.836047</td>\n",
       "      <td>NaN</td>\n",
       "      <td>NaN</td>\n",
       "      <td>NaN</td>\n",
       "      <td>NaN</td>\n",
       "      <td>NaN</td>\n",
       "      <td>NaN</td>\n",
       "      <td>NaN</td>\n",
       "      <td>NaN</td>\n",
       "      <td>NaN</td>\n",
       "      <td>NaN</td>\n",
       "      <td>NaN</td>\n",
       "      <td>NaN</td>\n",
       "      <td>-5.898284e+06</td>\n",
       "      <td>-5.884006e+06</td>\n",
       "      <td>NaN</td>\n",
       "      <td>NaN</td>\n",
       "      <td>NaN</td>\n",
       "      <td>NaN</td>\n",
       "      <td>NaN</td>\n",
       "      <td>NaN</td>\n",
       "      <td>NaN</td>\n",
       "      <td>NaN</td>\n",
       "      <td>NaN</td>\n",
       "      <td>NaN</td>\n",
       "      <td>NaN</td>\n",
       "      <td>NaN</td>\n",
       "      <td>9.80665</td>\n",
       "      <td>196.0</td>\n",
       "      <td>3.012194e+06</td>\n",
       "      <td>629630.720547</td>\n",
       "      <td>NaN</td>\n",
       "      <td>NaN</td>\n",
       "      <td>NaN</td>\n",
       "      <td>NaN</td>\n",
       "      <td>NaN</td>\n",
       "      <td>NaN</td>\n",
       "      <td>NaN</td>\n",
       "      <td>NaN</td>\n",
       "      <td>NaN</td>\n",
       "      <td>NaN</td>\n",
       "      <td>NaN</td>\n",
       "      <td>NaN</td>\n",
       "      <td>6.277759e+08</td>\n",
       "      <td>6.252911e+08</td>\n",
       "      <td>NaN</td>\n",
       "      <td>NaN</td>\n",
       "      <td>NaN</td>\n",
       "      <td>NaN</td>\n",
       "      <td>NaN</td>\n",
       "      <td>NaN</td>\n",
       "      <td>NaN</td>\n",
       "      <td>NaN</td>\n",
       "      <td>NaN</td>\n",
       "      <td>NaN</td>\n",
       "      <td>NaN</td>\n",
       "      <td>NaN</td>\n",
       "      <td>4.379956e+07</td>\n",
       "      <td>-1.067665e+07</td>\n",
       "      <td>NaN</td>\n",
       "      <td>NaN</td>\n",
       "      <td>NaN</td>\n",
       "      <td>NaN</td>\n",
       "      <td>NaN</td>\n",
       "      <td>NaN</td>\n",
       "      <td>NaN</td>\n",
       "      <td>NaN</td>\n",
       "      <td>NaN</td>\n",
       "      <td>NaN</td>\n",
       "      <td>NaN</td>\n",
       "      <td>NaN</td>\n",
       "      <td>0.0</td>\n",
       "      <td>L:\\proj2019\\40199079-Segelfartyg-Wallenius\\VCT...</td>\n",
       "      <td>1025.0</td>\n",
       "      <td>6.173333</td>\n",
       "      <td>-0.0</td>\n",
       "      <td>12knots-15degRudd</td>\n",
       "      <td>L:\\proj2019\\40199079-Segelfartyg-Wallenius\\VCT...</td>\n",
       "      <td>0.0</td>\n",
       "      <td>0.0</td>\n",
       "      <td>0</td>\n",
       "      <td>0</td>\n",
       "      <td>HERO</td>\n",
       "      <td>NaN</td>\n",
       "      <td>NaN</td>\n",
       "      <td>NaN</td>\n",
       "      <td>NaN</td>\n",
       "      <td>NaN</td>\n",
       "      <td>NaN</td>\n",
       "      <td>NaN</td>\n",
       "      <td>NaN</td>\n",
       "      <td>NaN</td>\n",
       "      <td>NaN</td>\n",
       "      <td>NaN</td>\n",
       "      <td>NaN</td>\n",
       "      <td>NaN</td>\n",
       "      <td>NaN</td>\n",
       "      <td>NaN</td>\n",
       "      <td>NaN</td>\n",
       "      <td>NaN</td>\n",
       "      <td>NaN</td>\n",
       "      <td>NaN</td>\n",
       "      <td>NaN</td>\n",
       "      <td>NaN</td>\n",
       "      <td>98.672940</td>\n",
       "      <td>-63050.424920</td>\n",
       "      <td>-553430.138409</td>\n",
       "      <td>-14287.556806</td>\n",
       "      <td>2.382566e+06</td>\n",
       "      <td>2.485330e+06</td>\n",
       "      <td>5.447621e+07</td>\n",
       "      <td>NaN</td>\n",
       "      <td>NaN</td>\n",
       "      <td>NaN</td>\n",
       "      <td>NaN</td>\n",
       "      <td>NaN</td>\n",
       "      <td>NaN</td>\n",
       "      <td>NaN</td>\n",
       "      <td>NaN</td>\n",
       "      <td>NaN</td>\n",
       "      <td>NaN</td>\n",
       "      <td>NaN</td>\n",
       "      <td>NaN</td>\n",
       "      <td>NaN</td>\n",
       "      <td>NaN</td>\n",
       "      <td>NaN</td>\n",
       "      <td>NaN</td>\n",
       "      <td>NaN</td>\n",
       "      <td>NaN</td>\n",
       "      <td>NaN</td>\n",
       "      <td>NaN</td>\n",
       "      <td>NaN</td>\n",
       "      <td>NaN</td>\n",
       "      <td>NaN</td>\n",
       "      <td>NaN</td>\n",
       "      <td>NaN</td>\n",
       "      <td>NaN</td>\n",
       "      <td>NaN</td>\n",
       "      <td>NaN</td>\n",
       "      <td>NaN</td>\n",
       "      <td>NaN</td>\n",
       "      <td>NaN</td>\n",
       "      <td>NaN</td>\n",
       "      <td>NaN</td>\n",
       "      <td>NaN</td>\n",
       "      <td>NaN</td>\n",
       "      <td>NaN</td>\n",
       "      <td>Rudder angle</td>\n",
       "      <td>1.0</td>\n",
       "      <td>1.0</td>\n",
       "      <td>-63050.424920</td>\n",
       "      <td>-553430.138409</td>\n",
       "      <td>-14287.556806</td>\n",
       "      <td>2.382566e+06</td>\n",
       "      <td>2.485330e+06</td>\n",
       "      <td>5.447621e+07</td>\n",
       "      <td>-0.053713</td>\n",
       "      <td>NaN</td>\n",
       "      <td>NaN</td>\n",
       "      <td>NaN</td>\n",
       "      <td>NaN</td>\n",
       "      <td>NaN</td>\n",
       "      <td>NaN</td>\n",
       "      <td>NaN</td>\n",
       "      <td>NaN</td>\n",
       "      <td>NaN</td>\n",
       "      <td>NaN</td>\n",
       "      <td>NaN</td>\n",
       "      <td>NaN</td>\n",
       "      <td>NaN</td>\n",
       "      <td>NaN</td>\n",
       "      <td>NaN</td>\n",
       "      <td>-9402.933115</td>\n",
       "      <td>-10589.840807</td>\n",
       "      <td>1.149292e+06</td>\n",
       "    </tr>\n",
       "  </tbody>\n",
       "</table>\n",
       "</div>"
      ],
      "text/plain": [
       "   level_0   Dp         S      S_Xgrid  S_inner_bracket_port  \\\n",
       "0      165  7.3  7375.872  7277.256591                   NaN   \n",
       "1      166  7.3  7375.872  7277.256591                   NaN   \n",
       "2      167  7.3  7375.872  7277.256591                   NaN   \n",
       "3      168  7.3  7375.872  7277.256591                   NaN   \n",
       "4      169  7.3  7375.872  7277.182833                   NaN   \n",
       "\n",
       "   S_inner_bracket_stb  S_outer_bracket_port  S_outer_bracket_stb  \\\n",
       "0                  NaN                   NaN                  NaN   \n",
       "1                  NaN                   NaN                  NaN   \n",
       "2                  NaN                   NaN                  NaN   \n",
       "3                  NaN                   NaN                  NaN   \n",
       "4                  NaN                   NaN                  NaN   \n",
       "\n",
       "   S_rudder_port  S_rudder_stb  S_shaft_port_assembly  S_shaft_port_shaft1  \\\n",
       "0            NaN           NaN                    NaN                  NaN   \n",
       "1            NaN           NaN                    NaN                  NaN   \n",
       "2            NaN           NaN                    NaN                  NaN   \n",
       "3            NaN           NaN                    NaN                  NaN   \n",
       "4            NaN           NaN                    NaN                  NaN   \n",
       "\n",
       "   S_shaft_port_shaft2  S_shaft_stb_assembly  S_shaft_stb_shaft1  \\\n",
       "0                  NaN                   NaN                 NaN   \n",
       "1                  NaN                   NaN                 NaN   \n",
       "2                  NaN                   NaN                 NaN   \n",
       "3                  NaN                   NaN                 NaN   \n",
       "4                  NaN                   NaN                 NaN   \n",
       "\n",
       "   S_shaft_stb_shaft2         V  beta     delta             fx       fx_Xgrid  \\\n",
       "0                 NaN  6.173333   0.0 -0.000000 -261193.992917 -252076.078409   \n",
       "1                 NaN  7.202222   0.0 -0.000000 -349928.617379 -337384.590007   \n",
       "2                 NaN  2.572222   0.0 -0.000000  -50129.332651  -48553.764522   \n",
       "3                 NaN  6.173333   0.0 -0.174533 -282698.568064 -248988.273006   \n",
       "4                 NaN  6.173333   0.0 -0.261799 -358346.198906 -295295.846017   \n",
       "\n",
       "   fx_inner_bracket_port  fx_inner_bracket_stb  fx_outer_bracket_port  \\\n",
       "0                    NaN                   NaN                    NaN   \n",
       "1                    NaN                   NaN                    NaN   \n",
       "2                    NaN                   NaN                    NaN   \n",
       "3                    NaN                   NaN                    NaN   \n",
       "4                    NaN                   NaN                    NaN   \n",
       "\n",
       "   fx_outer_bracket_stb  fx_rudder_port  fx_rudder_stb  \\\n",
       "0                   NaN             NaN            NaN   \n",
       "1                   NaN             NaN            NaN   \n",
       "2                   NaN             NaN            NaN   \n",
       "3                   NaN             NaN            NaN   \n",
       "4                   NaN             NaN            NaN   \n",
       "\n",
       "   fx_shaft_port_assembly  fx_shaft_port_shaft1  fx_shaft_port_shaft2  \\\n",
       "0                     NaN                   NaN                   NaN   \n",
       "1                     NaN                   NaN                   NaN   \n",
       "2                     NaN                   NaN                   NaN   \n",
       "3                     NaN                   NaN                   NaN   \n",
       "4                     NaN                   NaN                   NaN   \n",
       "\n",
       "   fx_shaft_stb_assembly  fx_shaft_stb_shaft1  fx_shaft_stb_shaft2  \\\n",
       "0                    NaN                  NaN                  NaN   \n",
       "1                    NaN                  NaN                  NaN   \n",
       "2                    NaN                  NaN                  NaN   \n",
       "3                    NaN                  NaN                  NaN   \n",
       "4                    NaN                  NaN                  NaN   \n",
       "\n",
       "              fy       fy_Xgrid  fy_inner_bracket_port  fy_inner_bracket_stb  \\\n",
       "0   -1308.975604    -295.088406                    NaN                   NaN   \n",
       "1    1675.936588    -308.032439                    NaN                   NaN   \n",
       "2    -223.774833      19.680496                    NaN                   NaN   \n",
       "3 -335412.392821  -35760.650860                    NaN                   NaN   \n",
       "4 -403579.303802  149850.836047                    NaN                   NaN   \n",
       "\n",
       "   fy_outer_bracket_port  fy_outer_bracket_stb  fy_rudder_port  fy_rudder_stb  \\\n",
       "0                    NaN                   NaN             NaN            NaN   \n",
       "1                    NaN                   NaN             NaN            NaN   \n",
       "2                    NaN                   NaN             NaN            NaN   \n",
       "3                    NaN                   NaN             NaN            NaN   \n",
       "4                    NaN                   NaN             NaN            NaN   \n",
       "\n",
       "   fy_shaft_port_assembly  fy_shaft_port_shaft1  fy_shaft_port_shaft2  \\\n",
       "0                     NaN                   NaN                   NaN   \n",
       "1                     NaN                   NaN                   NaN   \n",
       "2                     NaN                   NaN                   NaN   \n",
       "3                     NaN                   NaN                   NaN   \n",
       "4                     NaN                   NaN                   NaN   \n",
       "\n",
       "   fy_shaft_stb_assembly  fy_shaft_stb_shaft1  fy_shaft_stb_shaft2  \\\n",
       "0                    NaN                  NaN                  NaN   \n",
       "1                    NaN                  NaN                  NaN   \n",
       "2                    NaN                  NaN                  NaN   \n",
       "3                    NaN                  NaN                  NaN   \n",
       "4                    NaN                  NaN                  NaN   \n",
       "\n",
       "             fz      fz_Xgrid  fz_inner_bracket_port  fz_inner_bracket_stb  \\\n",
       "0 -5.879028e+06 -5.881622e+06                    NaN                   NaN   \n",
       "1 -8.003832e+06 -8.007232e+06                    NaN                   NaN   \n",
       "2 -1.020599e+06 -1.021046e+06                    NaN                   NaN   \n",
       "3 -5.873117e+06 -5.866908e+06                    NaN                   NaN   \n",
       "4 -5.898284e+06 -5.884006e+06                    NaN                   NaN   \n",
       "\n",
       "   fz_outer_bracket_port  fz_outer_bracket_stb  fz_rudder_port  fz_rudder_stb  \\\n",
       "0                    NaN                   NaN             NaN            NaN   \n",
       "1                    NaN                   NaN             NaN            NaN   \n",
       "2                    NaN                   NaN             NaN            NaN   \n",
       "3                    NaN                   NaN             NaN            NaN   \n",
       "4                    NaN                   NaN             NaN            NaN   \n",
       "\n",
       "   fz_shaft_port_assembly  fz_shaft_port_shaft1  fz_shaft_port_shaft2  \\\n",
       "0                     NaN                   NaN                   NaN   \n",
       "1                     NaN                   NaN                   NaN   \n",
       "2                     NaN                   NaN                   NaN   \n",
       "3                     NaN                   NaN                   NaN   \n",
       "4                     NaN                   NaN                   NaN   \n",
       "\n",
       "   fz_shaft_stb_assembly  fz_shaft_stb_shaft1  fz_shaft_stb_shaft2        g  \\\n",
       "0                    NaN                  NaN                  NaN  9.80665   \n",
       "1                    NaN                  NaN                  NaN  9.80665   \n",
       "2                    NaN                  NaN                  NaN  9.80665   \n",
       "3                    NaN                  NaN                  NaN  9.80665   \n",
       "4                    NaN                  NaN                  NaN  9.80665   \n",
       "\n",
       "     lpp            mx       mx_Xgrid  mx_inner_bracket_port  \\\n",
       "0  196.0  5.778834e+02   -1085.233044                    NaN   \n",
       "1  196.0 -2.468286e+03     919.616522                    NaN   \n",
       "2  196.0  3.731674e+02    -227.694793                    NaN   \n",
       "3  196.0  1.020810e+06 -334811.547379                    NaN   \n",
       "4  196.0  3.012194e+06  629630.720547                    NaN   \n",
       "\n",
       "   mx_inner_bracket_stb  mx_outer_bracket_port  mx_outer_bracket_stb  \\\n",
       "0                   NaN                    NaN                   NaN   \n",
       "1                   NaN                    NaN                   NaN   \n",
       "2                   NaN                    NaN                   NaN   \n",
       "3                   NaN                    NaN                   NaN   \n",
       "4                   NaN                    NaN                   NaN   \n",
       "\n",
       "   mx_rudder_port  mx_rudder_stb  mx_shaft_port_assembly  \\\n",
       "0             NaN            NaN                     NaN   \n",
       "1             NaN            NaN                     NaN   \n",
       "2             NaN            NaN                     NaN   \n",
       "3             NaN            NaN                     NaN   \n",
       "4             NaN            NaN                     NaN   \n",
       "\n",
       "   mx_shaft_port_shaft1  mx_shaft_port_shaft2  mx_shaft_stb_assembly  \\\n",
       "0                   NaN                   NaN                    NaN   \n",
       "1                   NaN                   NaN                    NaN   \n",
       "2                   NaN                   NaN                    NaN   \n",
       "3                   NaN                   NaN                    NaN   \n",
       "4                   NaN                   NaN                    NaN   \n",
       "\n",
       "   mx_shaft_stb_shaft1  mx_shaft_stb_shaft2            my      my_Xgrid  \\\n",
       "0                  NaN                  NaN  6.173220e+08  6.178902e+08   \n",
       "1                  NaN                  NaN  8.403946e+08  8.411460e+08   \n",
       "2                  NaN                  NaN  1.072725e+08  1.073708e+08   \n",
       "3                  NaN                  NaN  6.164703e+08  6.154129e+08   \n",
       "4                  NaN                  NaN  6.277759e+08  6.252911e+08   \n",
       "\n",
       "   my_inner_bracket_port  my_inner_bracket_stb  my_outer_bracket_port  \\\n",
       "0                    NaN                   NaN                    NaN   \n",
       "1                    NaN                   NaN                    NaN   \n",
       "2                    NaN                   NaN                    NaN   \n",
       "3                    NaN                   NaN                    NaN   \n",
       "4                    NaN                   NaN                    NaN   \n",
       "\n",
       "   my_outer_bracket_stb  my_rudder_port  my_rudder_stb  \\\n",
       "0                   NaN             NaN            NaN   \n",
       "1                   NaN             NaN            NaN   \n",
       "2                   NaN             NaN            NaN   \n",
       "3                   NaN             NaN            NaN   \n",
       "4                   NaN             NaN            NaN   \n",
       "\n",
       "   my_shaft_port_assembly  my_shaft_port_shaft1  my_shaft_port_shaft2  \\\n",
       "0                     NaN                   NaN                   NaN   \n",
       "1                     NaN                   NaN                   NaN   \n",
       "2                     NaN                   NaN                   NaN   \n",
       "3                     NaN                   NaN                   NaN   \n",
       "4                     NaN                   NaN                   NaN   \n",
       "\n",
       "   my_shaft_stb_assembly  my_shaft_stb_shaft1  my_shaft_stb_shaft2  \\\n",
       "0                    NaN                  NaN                  NaN   \n",
       "1                    NaN                  NaN                  NaN   \n",
       "2                    NaN                  NaN                  NaN   \n",
       "3                    NaN                  NaN                  NaN   \n",
       "4                    NaN                  NaN                  NaN   \n",
       "\n",
       "             mz      mz_Xgrid  mz_inner_bracket_port  mz_inner_bracket_stb  \\\n",
       "0  1.236840e+05  2.386122e+04                    NaN                   NaN   \n",
       "1 -1.667590e+05  2.743992e+04                    NaN                   NaN   \n",
       "2  2.212888e+04 -1.740039e+03                    NaN                   NaN   \n",
       "3  3.190560e+07  2.449190e+06                    NaN                   NaN   \n",
       "4  4.379956e+07 -1.067665e+07                    NaN                   NaN   \n",
       "\n",
       "   mz_outer_bracket_port  mz_outer_bracket_stb  mz_rudder_port  mz_rudder_stb  \\\n",
       "0                    NaN                   NaN             NaN            NaN   \n",
       "1                    NaN                   NaN             NaN            NaN   \n",
       "2                    NaN                   NaN             NaN            NaN   \n",
       "3                    NaN                   NaN             NaN            NaN   \n",
       "4                    NaN                   NaN             NaN            NaN   \n",
       "\n",
       "   mz_shaft_port_assembly  mz_shaft_port_shaft1  mz_shaft_port_shaft2  \\\n",
       "0                     NaN                   NaN                   NaN   \n",
       "1                     NaN                   NaN                   NaN   \n",
       "2                     NaN                   NaN                   NaN   \n",
       "3                     NaN                   NaN                   NaN   \n",
       "4                     NaN                   NaN                   NaN   \n",
       "\n",
       "   mz_shaft_stb_assembly  mz_shaft_stb_shaft1  mz_shaft_stb_shaft2    r  \\\n",
       "0                    NaN                  NaN                  NaN  0.0   \n",
       "1                    NaN                  NaN                  NaN  0.0   \n",
       "2                    NaN                  NaN                  NaN  0.0   \n",
       "3                    NaN                  NaN                  NaN  0.0   \n",
       "4                    NaN                  NaN                  NaN  0.0   \n",
       "\n",
       "                                    result_file_path     rho         u    v  \\\n",
       "0  L:\\proj2019\\40199079-Segelfartyg-Wallenius\\VCT...  1025.0  6.173333 -0.0   \n",
       "1  L:\\proj2019\\40199079-Segelfartyg-Wallenius\\VCT...  1025.0  7.202222 -0.0   \n",
       "2  L:\\proj2019\\40199079-Segelfartyg-Wallenius\\VCT...  1025.0  2.572222 -0.0   \n",
       "3  L:\\proj2019\\40199079-Segelfartyg-Wallenius\\VCT...  1025.0  6.173333 -0.0   \n",
       "4  L:\\proj2019\\40199079-Segelfartyg-Wallenius\\VCT...  1025.0  6.173333 -0.0   \n",
       "\n",
       "                name                                               path  \\\n",
       "0  12knotsResistance  L:\\proj2019\\40199079-Segelfartyg-Wallenius\\VCT...   \n",
       "1  14knotsResistance  L:\\proj2019\\40199079-Segelfartyg-Wallenius\\VCT...   \n",
       "2   5knotsResistance  L:\\proj2019\\40199079-Segelfartyg-Wallenius\\VCT...   \n",
       "3  12knots-10degRudd  L:\\proj2019\\40199079-Segelfartyg-Wallenius\\VCT...   \n",
       "4  12knots-15degRudd  L:\\proj2019\\40199079-Segelfartyg-Wallenius\\VCT...   \n",
       "\n",
       "   thrust  rev  p  phi model_name  S_BK_port1  S_BK_stb1  fx_BK_port1  \\\n",
       "0     0.0  0.0  0    0       HERO         NaN        NaN          NaN   \n",
       "1     0.0  0.0  0    0       HERO         NaN        NaN          NaN   \n",
       "2     0.0  0.0  0    0       HERO         NaN        NaN          NaN   \n",
       "3     0.0  0.0  0    0       HERO         NaN        NaN          NaN   \n",
       "4     0.0  0.0  0    0       HERO         NaN        NaN          NaN   \n",
       "\n",
       "   fx_BK_stb1  fy_BK_port1  fy_BK_stb1  fz_BK_port1  fz_BK_stb1  mx_BK_port1  \\\n",
       "0         NaN          NaN         NaN          NaN         NaN          NaN   \n",
       "1         NaN          NaN         NaN          NaN         NaN          NaN   \n",
       "2         NaN          NaN         NaN          NaN         NaN          NaN   \n",
       "3         NaN          NaN         NaN          NaN         NaN          NaN   \n",
       "4         NaN          NaN         NaN          NaN         NaN          NaN   \n",
       "\n",
       "   mx_BK_stb1  my_BK_port1  my_BK_stb1  mz_BK_port1  mz_BK_stb1  \\\n",
       "0         NaN          NaN         NaN          NaN         NaN   \n",
       "1         NaN          NaN         NaN          NaN         NaN   \n",
       "2         NaN          NaN         NaN          NaN         NaN   \n",
       "3         NaN          NaN         NaN          NaN         NaN   \n",
       "4         NaN          NaN         NaN          NaN         NaN   \n",
       "\n",
       "   S_daggerboard_middle  fx_daggerboard_middle  fy_daggerboard_middle  \\\n",
       "0                   NaN                    NaN                    NaN   \n",
       "1                   NaN                    NaN                    NaN   \n",
       "2                   NaN                    NaN                    NaN   \n",
       "3                   NaN                    NaN                    NaN   \n",
       "4                   NaN                    NaN                    NaN   \n",
       "\n",
       "   fz_daggerboard_middle  mx_daggerboard_middle  my_daggerboard_middle  \\\n",
       "0                    NaN                    NaN                    NaN   \n",
       "1                    NaN                    NaN                    NaN   \n",
       "2                    NaN                    NaN                    NaN   \n",
       "3                    NaN                    NaN                    NaN   \n",
       "4                    NaN                    NaN                    NaN   \n",
       "\n",
       "   mz_daggerboard_middle  S_R4083_ref  fx_R4083_ref   fy_R4083_ref  \\\n",
       "0                    NaN    98.619465  -9118.015350   -1013.887198   \n",
       "1                    NaN    98.614671 -12543.752855    1983.972942   \n",
       "2                    NaN    98.615777  -1575.613148    -243.455304   \n",
       "3                    NaN    98.626472 -33710.568774 -299652.606328   \n",
       "4                    NaN    98.672940 -63050.424920 -553430.138409   \n",
       "\n",
       "   fz_R4083_ref  mx_R4083_ref  my_R4083_ref  mz_R4083_ref  S_Rudder_Center  \\\n",
       "0   2591.716633  1.663116e+03 -5.667386e+05  9.982278e+04              NaN   \n",
       "1   3413.186063 -3.387899e+03 -7.496762e+05 -1.942004e+05              NaN   \n",
       "2    446.759701  6.008627e+02 -9.800054e+04  2.386892e+04              NaN   \n",
       "3  -6208.145562  1.355621e+06  1.057582e+06  2.945632e+07              NaN   \n",
       "4 -14287.556806  2.382566e+06  2.485330e+06  5.447621e+07              NaN   \n",
       "\n",
       "   S_Rudder_Port  S_Rudder_Starboard  S_hull  S_rudder  fx_Rudder_Center  \\\n",
       "0            NaN                 NaN     NaN       NaN               NaN   \n",
       "1            NaN                 NaN     NaN       NaN               NaN   \n",
       "2            NaN                 NaN     NaN       NaN               NaN   \n",
       "3            NaN                 NaN     NaN       NaN               NaN   \n",
       "4            NaN                 NaN     NaN       NaN               NaN   \n",
       "\n",
       "   fx_Rudder_Port  fx_Rudder_Starboard  fx_hull  fx_rudder  fy_Rudder_Center  \\\n",
       "0             NaN                  NaN      NaN        NaN               NaN   \n",
       "1             NaN                  NaN      NaN        NaN               NaN   \n",
       "2             NaN                  NaN      NaN        NaN               NaN   \n",
       "3             NaN                  NaN      NaN        NaN               NaN   \n",
       "4             NaN                  NaN      NaN        NaN               NaN   \n",
       "\n",
       "   fy_Rudder_Port  fy_Rudder_Starboard  fy_hull  fy_rudder  fz_Rudder_Center  \\\n",
       "0             NaN                  NaN      NaN        NaN               NaN   \n",
       "1             NaN                  NaN      NaN        NaN               NaN   \n",
       "2             NaN                  NaN      NaN        NaN               NaN   \n",
       "3             NaN                  NaN      NaN        NaN               NaN   \n",
       "4             NaN                  NaN      NaN        NaN               NaN   \n",
       "\n",
       "   fz_Rudder_Port  fz_Rudder_Starboard  fz_hull  fz_rudder  mx_Rudder_Center  \\\n",
       "0             NaN                  NaN      NaN        NaN               NaN   \n",
       "1             NaN                  NaN      NaN        NaN               NaN   \n",
       "2             NaN                  NaN      NaN        NaN               NaN   \n",
       "3             NaN                  NaN      NaN        NaN               NaN   \n",
       "4             NaN                  NaN      NaN        NaN               NaN   \n",
       "\n",
       "   mx_Rudder_Port  mx_Rudder_Starboard  mx_hull  mx_rudder  my_Rudder_Center  \\\n",
       "0             NaN                  NaN      NaN        NaN               NaN   \n",
       "1             NaN                  NaN      NaN        NaN               NaN   \n",
       "2             NaN                  NaN      NaN        NaN               NaN   \n",
       "3             NaN                  NaN      NaN        NaN               NaN   \n",
       "4             NaN                  NaN      NaN        NaN               NaN   \n",
       "\n",
       "   my_Rudder_Port  my_Rudder_Starboard  my_hull  my_rudder  mz_Rudder_Center  \\\n",
       "0             NaN                  NaN      NaN        NaN               NaN   \n",
       "1             NaN                  NaN      NaN        NaN               NaN   \n",
       "2             NaN                  NaN      NaN        NaN               NaN   \n",
       "3             NaN                  NaN      NaN        NaN               NaN   \n",
       "4             NaN                  NaN      NaN        NaN               NaN   \n",
       "\n",
       "   mz_Rudder_Port  mz_Rudder_Starboard  mz_hull  mz_rudder  torque  \\\n",
       "0             NaN                  NaN      NaN        NaN     NaN   \n",
       "1             NaN                  NaN      NaN        NaN     NaN   \n",
       "2             NaN                  NaN      NaN        NaN     NaN   \n",
       "3             NaN                  NaN      NaN        NaN     NaN   \n",
       "4             NaN                  NaN      NaN        NaN     NaN   \n",
       "\n",
       "      test type  eta0  eta0_round    fx_rudders     fy_rudders    fz_rudders  \\\n",
       "0    resistance   1.0         1.0  -9118.015350   -1013.887198   2591.716633   \n",
       "1    resistance   1.0         1.0 -12543.752855    1983.972942   3413.186063   \n",
       "2    resistance   1.0         1.0  -1575.613148    -243.455304    446.759701   \n",
       "3  Rudder angle   1.0         1.0 -33710.568774 -299652.606328  -6208.145562   \n",
       "4  Rudder angle   1.0         1.0 -63050.424920 -553430.138409 -14287.556806   \n",
       "\n",
       "     mx_rudders    my_rudders    mz_rudders       clr  S_daggerboard_port  \\\n",
       "0  1.663116e+03 -5.667386e+05  9.982278e+04  0.017912                 NaN   \n",
       "1 -3.387899e+03 -7.496762e+05 -1.942004e+05 -0.007663                 NaN   \n",
       "2  6.008627e+02 -9.800054e+04  2.386892e+04 -0.004536                 NaN   \n",
       "3  1.355621e+06  1.057582e+06  2.945632e+07  0.014676                 NaN   \n",
       "4  2.382566e+06  2.485330e+06  5.447621e+07 -0.053713                 NaN   \n",
       "\n",
       "   S_daggerboard_stb fake_index  fx_daggerboard_port  fx_daggerboard_stb  \\\n",
       "0                NaN        NaN                  NaN                 NaN   \n",
       "1                NaN        NaN                  NaN                 NaN   \n",
       "2                NaN        NaN                  NaN                 NaN   \n",
       "3                NaN        NaN                  NaN                 NaN   \n",
       "4                NaN        NaN                  NaN                 NaN   \n",
       "\n",
       "   fy_daggerboard_port  fy_daggerboard_stb  fz_daggerboard_port  \\\n",
       "0                  NaN                 NaN                  NaN   \n",
       "1                  NaN                 NaN                  NaN   \n",
       "2                  NaN                 NaN                  NaN   \n",
       "3                  NaN                 NaN                  NaN   \n",
       "4                  NaN                 NaN                  NaN   \n",
       "\n",
       "   fz_daggerboard_stb  mx_daggerboard_port  mx_daggerboard_stb  \\\n",
       "0                 NaN                  NaN                 NaN   \n",
       "1                 NaN                  NaN                 NaN   \n",
       "2                 NaN                  NaN                 NaN   \n",
       "3                 NaN                  NaN                 NaN   \n",
       "4                 NaN                  NaN                 NaN   \n",
       "\n",
       "   my_daggerboard_port  my_daggerboard_stb  mz_daggerboard_port  \\\n",
       "0                  NaN                 NaN                  NaN   \n",
       "1                  NaN                 NaN                  NaN   \n",
       "2                  NaN                 NaN                  NaN   \n",
       "3                  NaN                 NaN                  NaN   \n",
       "4                  NaN                 NaN                  NaN   \n",
       "\n",
       "   mz_daggerboard_stb  $\\frac{fx}{V^2}$  $\\frac{fy}{V^2}$  $\\frac{mz}{V^2}$  \n",
       "0                 NaN      -6853.678518        -34.347260      3.245443e+03  \n",
       "1                 NaN      -6746.001389         32.309077     -3.214816e+03  \n",
       "2                 NaN      -7576.610321        -33.821609      3.344587e+03  \n",
       "3                 NaN      -7417.954300      -8801.154596      8.371965e+05  \n",
       "4                 NaN      -9402.933115     -10589.840807      1.149292e+06  "
      ]
     },
     "execution_count": 27,
     "metadata": {},
     "output_type": "execute_result"
    }
   ],
   "source": [
    "df_VCT_all = pd.read_csv('../data/external/vct.csv', index_col=0)\n",
    "df_VCT_all.head()"
   ]
  },
  {
   "cell_type": "code",
   "execution_count": 28,
   "metadata": {},
   "outputs": [],
   "source": [
    "df_VCT = df_VCT_all.groupby(by=['model_name']).get_group('V2_5_MDL_modelScale')"
   ]
  },
  {
   "cell_type": "markdown",
   "metadata": {},
   "source": [
    "# Subtract the resistance"
   ]
  },
  {
   "cell_type": "code",
   "execution_count": 29,
   "metadata": {},
   "outputs": [
    {
     "data": {
      "image/png": "[encoded data removed]",
      "text/plain": [
       "<Figure size 432x288 with 1 Axes>"
      ]
     },
     "metadata": {
      "needs_background": "light"
     },
     "output_type": "display_data"
    }
   ],
   "source": [
    "df_resistance = df_VCT.groupby(by='test type').get_group('resistance')\n",
    "\n",
    "X = df_resistance[['u','fx']].copy()\n",
    "X['u**2'] = X['u']**2\n",
    "y = X.pop('fx')\n",
    "\n",
    "model_resistance = sm.OLS(y,X)\n",
    "results_resistance = model_resistance.fit()\n",
    "\n",
    "X_pred = pd.DataFrame()\n",
    "X_pred['u'] = np.linspace(X['u'].min(), X['u'].max(), 20)\n",
    "X_pred['u**2'] = X_pred['u']**2\n",
    "X_pred['fx'] = results_resistance.predict(X_pred)\n",
    "\n",
    "fig,ax=plt.subplots()\n",
    "df_resistance.plot(x='u', y='fx', style='.', ax=ax)\n",
    "X_pred.plot(x='u', y='fx', style='--', ax=ax);\n"
   ]
  },
  {
   "cell_type": "code",
   "execution_count": 30,
   "metadata": {},
   "outputs": [],
   "source": [
    "df_VCT_0_resistance = df_VCT.copy()\n",
    "df_VCT_0_resistance['u**2'] = df_VCT_0_resistance['u']**2\n",
    "df_VCT_0_resistance['fx']-= results_resistance.predict(df_VCT_0_resistance[['u','u**2']])"
   ]
  },
  {
   "cell_type": "markdown",
   "metadata": {},
   "source": [
    "## VCT to prime system"
   ]
  },
  {
   "cell_type": "code",
   "execution_count": 31,
   "metadata": {},
   "outputs": [],
   "source": [
    "interesting = [\n",
    "    'u',\n",
    "    'v',\n",
    "    'r',\n",
    "    'delta',\n",
    "    'fx',\n",
    "    'fy',\n",
    "    'mz',\n",
    "    'thrust',\n",
    "]\n",
    "df_VCT_prime = ps_ship.prime(df_VCT_0_resistance[interesting], U=df_VCT_0_resistance['V'])"
   ]
  },
  {
   "cell_type": "code",
   "execution_count": 32,
   "metadata": {},
   "outputs": [],
   "source": [
    "from statsmodels.sandbox.regression.predstd import wls_prediction_std\n",
    "def show_pred_vct(X,y,results, label):\n",
    "    \n",
    "    display(results.summary())\n",
    "    \n",
    "    X_ = X.copy()\n",
    "    X_['y'] = y\n",
    "    X_.sort_values(by='y', inplace=True)\n",
    "        \n",
    "    y_ = X_.pop('y')\n",
    "    \n",
    "    y_pred = results.predict(X_)\n",
    "    \n",
    "    prstd, iv_l, iv_u = wls_prediction_std(results, exog=X_, alpha=0.05)\n",
    "    #iv_l*=-1 \n",
    "    #iv_u*=-1\n",
    "    \n",
    "    fig,ax=plt.subplots()\n",
    "    #ax.plot(X_.index,y_, label='Numerical gradient from model test')\n",
    "    #ax.plot(X_.index,y_pred, '--', label='OLS')\n",
    "    \n",
    "    ax.plot(y_,y_pred, '.')\n",
    "    ax.plot([y_.min(),y_.max()], [y_.min(),y_.max()], 'r-')\n",
    "    \n",
    "    ax.set_ylabel(f'{label} (prediction)')    \n",
    "    ax.set_xlabel(label)\n",
    "    \n",
    "    ax.fill_between(y_, y1=iv_l, y2=iv_u, zorder=-10, color='grey', alpha=0.5, label=r'5% confidence')\n",
    "    ax.legend();"
   ]
  },
  {
   "cell_type": "markdown",
   "metadata": {},
   "source": [
    "## N"
   ]
  },
  {
   "cell_type": "code",
   "execution_count": 87,
   "metadata": {},
   "outputs": [
    {
     "data": {
      "text/latex": [
       "$\\displaystyle \\operatorname{N_{qs}}{\\left(u{\\left(t \\right)},v{\\left(t \\right)},r{\\left(t \\right)},\\delta{\\left(t \\right)} \\right)} = N_{delta} \\delta{\\left(t \\right)} + N_{r} r{\\left(t \\right)} + N_{u} u{\\left(t \\right)} + N_{v} v{\\left(t \\right)}$"
      ],
      "text/plain": [
       "Eq(N_qs(u(t), v(t), r(t), delta(t)), N_{delta}*delta(t) + N_{r}*r(t) + N_{u}*u(t) + N_{v}*v(t))"
      ]
     },
     "execution_count": 87,
     "metadata": {},
     "output_type": "execute_result"
    }
   ],
   "source": [
    "eq.N_qs_eq"
   ]
  },
  {
   "cell_type": "code",
   "execution_count": 88,
   "metadata": {},
   "outputs": [],
   "source": [
    "label = sp.symbols('N_qs')\n",
    "N_eq = eq.N_qs_eq.subs(N_qs,label)\n",
    "diff_eq_N = regression.DiffEqToMatrix(ode=N_eq, label=label, base_features=[delta,u,v,r])"
   ]
  },
  {
   "cell_type": "code",
   "execution_count": 89,
   "metadata": {},
   "outputs": [
    {
     "data": {
      "text/latex": [
       "$\\displaystyle N_{qs} = N_{delta} \\delta + N_{r} r + N_{u} u + N_{v} v$"
      ],
      "text/plain": [
       "<IPython.core.display.Math object>"
      ]
     },
     "execution_count": 89,
     "metadata": {},
     "output_type": "execute_result"
    }
   ],
   "source": [
    "Math(vlatex(diff_eq_N.acceleration_equation))"
   ]
  },
  {
   "cell_type": "code",
   "execution_count": 90,
   "metadata": {},
   "outputs": [
    {
     "data": {
      "text/html": [
       "<table class=\"simpletable\">\n",
       "<caption>OLS Regression Results</caption>\n",
       "<tr>\n",
       "  <th>Dep. Variable:</th>           <td>mz</td>        <th>  R-squared (uncentered):</th>      <td>   0.992</td>\n",
       "</tr>\n",
       "<tr>\n",
       "  <th>Model:</th>                   <td>OLS</td>       <th>  Adj. R-squared (uncentered):</th> <td>   0.992</td>\n",
       "</tr>\n",
       "<tr>\n",
       "  <th>Method:</th>             <td>Least Squares</td>  <th>  F-statistic:       </th>          <td>   1051.</td>\n",
       "</tr>\n",
       "<tr>\n",
       "  <th>Date:</th>             <td>Thu, 08 Jul 2021</td> <th>  Prob (F-statistic):</th>          <td>1.89e-33</td>\n",
       "</tr>\n",
       "<tr>\n",
       "  <th>Time:</th>                 <td>18:09:37</td>     <th>  Log-Likelihood:    </th>          <td>  310.40</td>\n",
       "</tr>\n",
       "<tr>\n",
       "  <th>No. Observations:</th>      <td>    36</td>      <th>  AIC:               </th>          <td>  -612.8</td>\n",
       "</tr>\n",
       "<tr>\n",
       "  <th>Df Residuals:</th>          <td>    32</td>      <th>  BIC:               </th>          <td>  -606.5</td>\n",
       "</tr>\n",
       "<tr>\n",
       "  <th>Df Model:</th>              <td>     4</td>      <th>                     </th>              <td> </td>   \n",
       "</tr>\n",
       "<tr>\n",
       "  <th>Covariance Type:</th>      <td>nonrobust</td>    <th>                     </th>              <td> </td>   \n",
       "</tr>\n",
       "</table>\n",
       "<table class=\"simpletable\">\n",
       "<tr>\n",
       "     <td></td>       <th>coef</th>     <th>std err</th>      <th>t</th>      <th>P>|t|</th>  <th>[0.025</th>    <th>0.975]</th>  \n",
       "</tr>\n",
       "<tr>\n",
       "  <th>Ndelta</th> <td>   -0.0026</td> <td>    0.000</td> <td>  -26.455</td> <td> 0.000</td> <td>   -0.003</td> <td>   -0.002</td>\n",
       "</tr>\n",
       "<tr>\n",
       "  <th>Nr</th>     <td>   -0.0026</td> <td> 5.86e-05</td> <td>  -45.023</td> <td> 0.000</td> <td>   -0.003</td> <td>   -0.003</td>\n",
       "</tr>\n",
       "<tr>\n",
       "  <th>Nu</th>     <td>-4.849e-05</td> <td>  1.4e-05</td> <td>   -3.460</td> <td> 0.002</td> <td> -7.7e-05</td> <td>-1.99e-05</td>\n",
       "</tr>\n",
       "<tr>\n",
       "  <th>Nv</th>     <td>   -0.0020</td> <td>    0.000</td> <td>  -12.675</td> <td> 0.000</td> <td>   -0.002</td> <td>   -0.002</td>\n",
       "</tr>\n",
       "</table>\n",
       "<table class=\"simpletable\">\n",
       "<tr>\n",
       "  <th>Omnibus:</th>       <td> 4.736</td> <th>  Durbin-Watson:     </th> <td>   1.394</td>\n",
       "</tr>\n",
       "<tr>\n",
       "  <th>Prob(Omnibus):</th> <td> 0.094</td> <th>  Jarque-Bera (JB):  </th> <td>   3.474</td>\n",
       "</tr>\n",
       "<tr>\n",
       "  <th>Skew:</th>          <td> 0.499</td> <th>  Prob(JB):          </th> <td>   0.176</td>\n",
       "</tr>\n",
       "<tr>\n",
       "  <th>Kurtosis:</th>      <td> 4.149</td> <th>  Cond. No.          </th> <td>    21.9</td>\n",
       "</tr>\n",
       "</table><br/><br/>Notes:<br/>[1] R² is computed without centering (uncentered) since the model does not contain a constant.<br/>[2] Standard Errors assume that the covariance matrix of the errors is correctly specified."
      ],
      "text/plain": [
       "<class 'statsmodels.iolib.summary.Summary'>\n",
       "\"\"\"\n",
       "                                 OLS Regression Results                                \n",
       "=======================================================================================\n",
       "Dep. Variable:                     mz   R-squared (uncentered):                   0.992\n",
       "Model:                            OLS   Adj. R-squared (uncentered):              0.992\n",
       "Method:                 Least Squares   F-statistic:                              1051.\n",
       "Date:                Thu, 08 Jul 2021   Prob (F-statistic):                    1.89e-33\n",
       "Time:                        18:09:37   Log-Likelihood:                          310.40\n",
       "No. Observations:                  36   AIC:                                     -612.8\n",
       "Df Residuals:                      32   BIC:                                     -606.5\n",
       "Df Model:                           4                                                  \n",
       "Covariance Type:            nonrobust                                                  \n",
       "==============================================================================\n",
       "                 coef    std err          t      P>|t|      [0.025      0.975]\n",
       "------------------------------------------------------------------------------\n",
       "Ndelta        -0.0026      0.000    -26.455      0.000      -0.003      -0.002\n",
       "Nr            -0.0026   5.86e-05    -45.023      0.000      -0.003      -0.003\n",
       "Nu         -4.849e-05    1.4e-05     -3.460      0.002    -7.7e-05   -1.99e-05\n",
       "Nv            -0.0020      0.000    -12.675      0.000      -0.002      -0.002\n",
       "==============================================================================\n",
       "Omnibus:                        4.736   Durbin-Watson:                   1.394\n",
       "Prob(Omnibus):                  0.094   Jarque-Bera (JB):                3.474\n",
       "Skew:                           0.499   Prob(JB):                        0.176\n",
       "Kurtosis:                       4.149   Cond. No.                         21.9\n",
       "==============================================================================\n",
       "\n",
       "Notes:\n",
       "[1] R² is computed without centering (uncentered) since the model does not contain a constant.\n",
       "[2] Standard Errors assume that the covariance matrix of the errors is correctly specified.\n",
       "\"\"\""
      ]
     },
     "metadata": {},
     "output_type": "display_data"
    },
    {
     "data": {
      "image/png": "[encoded data removed]",
      "text/plain": [
       "<Figure size 432x288 with 1 Axes>"
      ]
     },
     "metadata": {
      "needs_background": "light"
     },
     "output_type": "display_data"
    }
   ],
   "source": [
    "X = diff_eq_N.calculate_features(data=df_VCT_prime)\n",
    "y = diff_eq_N.calculate_label(y=df_VCT_prime['mz'])\n",
    "\n",
    "model_N = sm.OLS(y,X)\n",
    "results_N = model_N.fit()\n",
    "\n",
    "show_pred_vct(X=X,y=y,results=results_N, label=r'$N$')"
   ]
  },
  {
   "cell_type": "markdown",
   "metadata": {},
   "source": [
    "## Y"
   ]
  },
  {
   "cell_type": "code",
   "execution_count": 91,
   "metadata": {},
   "outputs": [
    {
     "data": {
      "text/latex": [
       "$\\displaystyle \\operatorname{Y_{qs}}{\\left(u{\\left(t \\right)},v{\\left(t \\right)},r{\\left(t \\right)},\\delta{\\left(t \\right)} \\right)} = Y_{delta} \\delta{\\left(t \\right)} + Y_{r} r{\\left(t \\right)} + Y_{u} u{\\left(t \\right)} + Y_{v} v{\\left(t \\right)}$"
      ],
      "text/plain": [
       "Eq(Y_qs(u(t), v(t), r(t), delta(t)), Y_{delta}*delta(t) + Y_{r}*r(t) + Y_{u}*u(t) + Y_{v}*v(t))"
      ]
     },
     "execution_count": 91,
     "metadata": {},
     "output_type": "execute_result"
    }
   ],
   "source": [
    "eq.Y_qs_eq"
   ]
  },
  {
   "cell_type": "code",
   "execution_count": 92,
   "metadata": {},
   "outputs": [],
   "source": [
    "label = sp.symbols('Y_qs')\n",
    "Y_eq = eq.Y_qs_eq.subs(Y_qs,label)\n",
    "diff_eq_Y = regression.DiffEqToMatrix(ode=Y_eq, label=label, base_features=[delta,u,v,r])"
   ]
  },
  {
   "cell_type": "code",
   "execution_count": 93,
   "metadata": {},
   "outputs": [
    {
     "data": {
      "text/latex": [
       "$\\displaystyle Y_{qs} = Y_{delta} \\delta + Y_{r} r + Y_{u} u + Y_{v} v$"
      ],
      "text/plain": [
       "<IPython.core.display.Math object>"
      ]
     },
     "execution_count": 93,
     "metadata": {},
     "output_type": "execute_result"
    }
   ],
   "source": [
    "Math(vlatex(diff_eq_Y.acceleration_equation))"
   ]
  },
  {
   "cell_type": "code",
   "execution_count": 94,
   "metadata": {},
   "outputs": [
    {
     "data": {
      "text/html": [
       "<table class=\"simpletable\">\n",
       "<caption>OLS Regression Results</caption>\n",
       "<tr>\n",
       "  <th>Dep. Variable:</th>           <td>fy</td>        <th>  R-squared (uncentered):</th>      <td>   0.993</td>\n",
       "</tr>\n",
       "<tr>\n",
       "  <th>Model:</th>                   <td>OLS</td>       <th>  Adj. R-squared (uncentered):</th> <td>   0.992</td>\n",
       "</tr>\n",
       "<tr>\n",
       "  <th>Method:</th>             <td>Least Squares</td>  <th>  F-statistic:       </th>          <td>   1185.</td>\n",
       "</tr>\n",
       "<tr>\n",
       "  <th>Date:</th>             <td>Thu, 08 Jul 2021</td> <th>  Prob (F-statistic):</th>          <td>2.83e-34</td>\n",
       "</tr>\n",
       "<tr>\n",
       "  <th>Time:</th>                 <td>18:09:38</td>     <th>  Log-Likelihood:    </th>          <td>  282.55</td>\n",
       "</tr>\n",
       "<tr>\n",
       "  <th>No. Observations:</th>      <td>    36</td>      <th>  AIC:               </th>          <td>  -557.1</td>\n",
       "</tr>\n",
       "<tr>\n",
       "  <th>Df Residuals:</th>          <td>    32</td>      <th>  BIC:               </th>          <td>  -550.8</td>\n",
       "</tr>\n",
       "<tr>\n",
       "  <th>Df Model:</th>              <td>     4</td>      <th>                     </th>              <td> </td>   \n",
       "</tr>\n",
       "<tr>\n",
       "  <th>Covariance Type:</th>      <td>nonrobust</td>    <th>                     </th>              <td> </td>   \n",
       "</tr>\n",
       "</table>\n",
       "<table class=\"simpletable\">\n",
       "<tr>\n",
       "     <td></td>       <th>coef</th>     <th>std err</th>      <th>t</th>      <th>P>|t|</th>  <th>[0.025</th>    <th>0.975]</th>  \n",
       "</tr>\n",
       "<tr>\n",
       "  <th>Ydelta</th> <td>    0.0044</td> <td>    0.000</td> <td>   20.359</td> <td> 0.000</td> <td>    0.004</td> <td>    0.005</td>\n",
       "</tr>\n",
       "<tr>\n",
       "  <th>Yr</th>     <td>    0.0024</td> <td>    0.000</td> <td>   18.545</td> <td> 0.000</td> <td>    0.002</td> <td>    0.003</td>\n",
       "</tr>\n",
       "<tr>\n",
       "  <th>Yu</th>     <td>   -0.0001</td> <td> 3.04e-05</td> <td>   -3.563</td> <td> 0.001</td> <td>   -0.000</td> <td>-4.64e-05</td>\n",
       "</tr>\n",
       "<tr>\n",
       "  <th>Yv</th>     <td>   -0.0133</td> <td>    0.000</td> <td>  -39.314</td> <td> 0.000</td> <td>   -0.014</td> <td>   -0.013</td>\n",
       "</tr>\n",
       "</table>\n",
       "<table class=\"simpletable\">\n",
       "<tr>\n",
       "  <th>Omnibus:</th>       <td> 4.535</td> <th>  Durbin-Watson:     </th> <td>   1.969</td>\n",
       "</tr>\n",
       "<tr>\n",
       "  <th>Prob(Omnibus):</th> <td> 0.104</td> <th>  Jarque-Bera (JB):  </th> <td>   1.772</td>\n",
       "</tr>\n",
       "<tr>\n",
       "  <th>Skew:</th>          <td>-0.053</td> <th>  Prob(JB):          </th> <td>   0.412</td>\n",
       "</tr>\n",
       "<tr>\n",
       "  <th>Kurtosis:</th>      <td> 1.918</td> <th>  Cond. No.          </th> <td>    21.9</td>\n",
       "</tr>\n",
       "</table><br/><br/>Notes:<br/>[1] R² is computed without centering (uncentered) since the model does not contain a constant.<br/>[2] Standard Errors assume that the covariance matrix of the errors is correctly specified."
      ],
      "text/plain": [
       "<class 'statsmodels.iolib.summary.Summary'>\n",
       "\"\"\"\n",
       "                                 OLS Regression Results                                \n",
       "=======================================================================================\n",
       "Dep. Variable:                     fy   R-squared (uncentered):                   0.993\n",
       "Model:                            OLS   Adj. R-squared (uncentered):              0.992\n",
       "Method:                 Least Squares   F-statistic:                              1185.\n",
       "Date:                Thu, 08 Jul 2021   Prob (F-statistic):                    2.83e-34\n",
       "Time:                        18:09:38   Log-Likelihood:                          282.55\n",
       "No. Observations:                  36   AIC:                                     -557.1\n",
       "Df Residuals:                      32   BIC:                                     -550.8\n",
       "Df Model:                           4                                                  \n",
       "Covariance Type:            nonrobust                                                  \n",
       "==============================================================================\n",
       "                 coef    std err          t      P>|t|      [0.025      0.975]\n",
       "------------------------------------------------------------------------------\n",
       "Ydelta         0.0044      0.000     20.359      0.000       0.004       0.005\n",
       "Yr             0.0024      0.000     18.545      0.000       0.002       0.003\n",
       "Yu            -0.0001   3.04e-05     -3.563      0.001      -0.000   -4.64e-05\n",
       "Yv            -0.0133      0.000    -39.314      0.000      -0.014      -0.013\n",
       "==============================================================================\n",
       "Omnibus:                        4.535   Durbin-Watson:                   1.969\n",
       "Prob(Omnibus):                  0.104   Jarque-Bera (JB):                1.772\n",
       "Skew:                          -0.053   Prob(JB):                        0.412\n",
       "Kurtosis:                       1.918   Cond. No.                         21.9\n",
       "==============================================================================\n",
       "\n",
       "Notes:\n",
       "[1] R² is computed without centering (uncentered) since the model does not contain a constant.\n",
       "[2] Standard Errors assume that the covariance matrix of the errors is correctly specified.\n",
       "\"\"\""
      ]
     },
     "metadata": {},
     "output_type": "display_data"
    },
    {
     "data": {
      "image/png": "[encoded data removed]",
      "text/plain": [
       "<Figure size 432x288 with 1 Axes>"
      ]
     },
     "metadata": {
      "needs_background": "light"
     },
     "output_type": "display_data"
    }
   ],
   "source": [
    "X = diff_eq_Y.calculate_features(data=df_VCT_prime)\n",
    "y = diff_eq_Y.calculate_label(y=df_VCT_prime['fy'])\n",
    "\n",
    "model_Y = sm.OLS(y,X)\n",
    "results_Y = model_Y.fit()\n",
    "\n",
    "show_pred_vct(X=X,y=y,results=results_Y, label=r'$Y$')"
   ]
  },
  {
   "cell_type": "markdown",
   "metadata": {},
   "source": [
    "## X"
   ]
  },
  {
   "cell_type": "code",
   "execution_count": 95,
   "metadata": {},
   "outputs": [
    {
     "data": {
      "text/latex": [
       "$\\displaystyle \\operatorname{X_{qs}}{\\left(u{\\left(t \\right)},v{\\left(t \\right)},r{\\left(t \\right)},\\delta{\\left(t \\right)} \\right)} = X_{delta} \\delta{\\left(t \\right)} + X_{r} r{\\left(t \\right)} + X_{u} u{\\left(t \\right)} + X_{v} v{\\left(t \\right)}$"
      ],
      "text/plain": [
       "Eq(X_qs(u(t), v(t), r(t), delta(t)), X_{delta}*delta(t) + X_{r}*r(t) + X_{u}*u(t) + X_{v}*v(t))"
      ]
     },
     "execution_count": 95,
     "metadata": {},
     "output_type": "execute_result"
    }
   ],
   "source": [
    "eq.X_qs_eq"
   ]
  },
  {
   "cell_type": "code",
   "execution_count": 96,
   "metadata": {},
   "outputs": [],
   "source": [
    "label = sp.symbols('X_qs')\n",
    "X_eq = eq.X_qs_eq.subs(X_qs,label)\n",
    "diff_eq_X = regression.DiffEqToMatrix(ode=X_eq, label=label, base_features=[delta,u,v,r])"
   ]
  },
  {
   "cell_type": "code",
   "execution_count": 97,
   "metadata": {},
   "outputs": [
    {
     "data": {
      "text/latex": [
       "$\\displaystyle X_{qs} = X_{delta} \\delta + X_{r} r + X_{u} u + X_{v} v$"
      ],
      "text/plain": [
       "<IPython.core.display.Math object>"
      ]
     },
     "execution_count": 97,
     "metadata": {},
     "output_type": "execute_result"
    }
   ],
   "source": [
    "Math(vlatex(diff_eq_X.acceleration_equation))"
   ]
  },
  {
   "cell_type": "code",
   "execution_count": 98,
   "metadata": {},
   "outputs": [
    {
     "data": {
      "text/html": [
       "<table class=\"simpletable\">\n",
       "<caption>OLS Regression Results</caption>\n",
       "<tr>\n",
       "  <th>Dep. Variable:</th>           <td>fx</td>        <th>  R-squared (uncentered):</th>      <td>   0.302</td>\n",
       "</tr>\n",
       "<tr>\n",
       "  <th>Model:</th>                   <td>OLS</td>       <th>  Adj. R-squared (uncentered):</th> <td>   0.215</td>\n",
       "</tr>\n",
       "<tr>\n",
       "  <th>Method:</th>             <td>Least Squares</td>  <th>  F-statistic:       </th>          <td>   3.463</td>\n",
       "</tr>\n",
       "<tr>\n",
       "  <th>Date:</th>             <td>Thu, 08 Jul 2021</td> <th>  Prob (F-statistic):</th>           <td>0.0185</td> \n",
       "</tr>\n",
       "<tr>\n",
       "  <th>Time:</th>                 <td>18:09:38</td>     <th>  Log-Likelihood:    </th>          <td>  302.18</td>\n",
       "</tr>\n",
       "<tr>\n",
       "  <th>No. Observations:</th>      <td>    36</td>      <th>  AIC:               </th>          <td>  -596.4</td>\n",
       "</tr>\n",
       "<tr>\n",
       "  <th>Df Residuals:</th>          <td>    32</td>      <th>  BIC:               </th>          <td>  -590.0</td>\n",
       "</tr>\n",
       "<tr>\n",
       "  <th>Df Model:</th>              <td>     4</td>      <th>                     </th>              <td> </td>   \n",
       "</tr>\n",
       "<tr>\n",
       "  <th>Covariance Type:</th>      <td>nonrobust</td>    <th>                     </th>              <td> </td>   \n",
       "</tr>\n",
       "</table>\n",
       "<table class=\"simpletable\">\n",
       "<tr>\n",
       "     <td></td>       <th>coef</th>     <th>std err</th>      <th>t</th>      <th>P>|t|</th>  <th>[0.025</th>    <th>0.975]</th>  \n",
       "</tr>\n",
       "<tr>\n",
       "  <th>Xdelta</th> <td> 6.376e-05</td> <td>    0.000</td> <td>    0.507</td> <td> 0.616</td> <td>   -0.000</td> <td>    0.000</td>\n",
       "</tr>\n",
       "<tr>\n",
       "  <th>Xr</th>     <td>-3.527e-05</td> <td> 7.37e-05</td> <td>   -0.479</td> <td> 0.635</td> <td>   -0.000</td> <td>    0.000</td>\n",
       "</tr>\n",
       "<tr>\n",
       "  <th>Xu</th>     <td> -2.46e-05</td> <td> 1.76e-05</td> <td>   -1.397</td> <td> 0.172</td> <td>-6.05e-05</td> <td> 1.13e-05</td>\n",
       "</tr>\n",
       "<tr>\n",
       "  <th>Xv</th>     <td>    0.0002</td> <td>    0.000</td> <td>    1.101</td> <td> 0.279</td> <td>   -0.000</td> <td>    0.001</td>\n",
       "</tr>\n",
       "</table>\n",
       "<table class=\"simpletable\">\n",
       "<tr>\n",
       "  <th>Omnibus:</th>       <td>21.003</td> <th>  Durbin-Watson:     </th> <td>   1.535</td>\n",
       "</tr>\n",
       "<tr>\n",
       "  <th>Prob(Omnibus):</th> <td> 0.000</td> <th>  Jarque-Bera (JB):  </th> <td>  29.150</td>\n",
       "</tr>\n",
       "<tr>\n",
       "  <th>Skew:</th>          <td>-1.669</td> <th>  Prob(JB):          </th> <td>4.68e-07</td>\n",
       "</tr>\n",
       "<tr>\n",
       "  <th>Kurtosis:</th>      <td> 5.879</td> <th>  Cond. No.          </th> <td>    21.9</td>\n",
       "</tr>\n",
       "</table><br/><br/>Notes:<br/>[1] R² is computed without centering (uncentered) since the model does not contain a constant.<br/>[2] Standard Errors assume that the covariance matrix of the errors is correctly specified."
      ],
      "text/plain": [
       "<class 'statsmodels.iolib.summary.Summary'>\n",
       "\"\"\"\n",
       "                                 OLS Regression Results                                \n",
       "=======================================================================================\n",
       "Dep. Variable:                     fx   R-squared (uncentered):                   0.302\n",
       "Model:                            OLS   Adj. R-squared (uncentered):              0.215\n",
       "Method:                 Least Squares   F-statistic:                              3.463\n",
       "Date:                Thu, 08 Jul 2021   Prob (F-statistic):                      0.0185\n",
       "Time:                        18:09:38   Log-Likelihood:                          302.18\n",
       "No. Observations:                  36   AIC:                                     -596.4\n",
       "Df Residuals:                      32   BIC:                                     -590.0\n",
       "Df Model:                           4                                                  \n",
       "Covariance Type:            nonrobust                                                  \n",
       "==============================================================================\n",
       "                 coef    std err          t      P>|t|      [0.025      0.975]\n",
       "------------------------------------------------------------------------------\n",
       "Xdelta      6.376e-05      0.000      0.507      0.616      -0.000       0.000\n",
       "Xr         -3.527e-05   7.37e-05     -0.479      0.635      -0.000       0.000\n",
       "Xu          -2.46e-05   1.76e-05     -1.397      0.172   -6.05e-05    1.13e-05\n",
       "Xv             0.0002      0.000      1.101      0.279      -0.000       0.001\n",
       "==============================================================================\n",
       "Omnibus:                       21.003   Durbin-Watson:                   1.535\n",
       "Prob(Omnibus):                  0.000   Jarque-Bera (JB):               29.150\n",
       "Skew:                          -1.669   Prob(JB):                     4.68e-07\n",
       "Kurtosis:                       5.879   Cond. No.                         21.9\n",
       "==============================================================================\n",
       "\n",
       "Notes:\n",
       "[1] R² is computed without centering (uncentered) since the model does not contain a constant.\n",
       "[2] Standard Errors assume that the covariance matrix of the errors is correctly specified.\n",
       "\"\"\""
      ]
     },
     "metadata": {},
     "output_type": "display_data"
    },
    {
     "data": {
      "image/png": "[encoded data removed]",
      "text/plain": [
       "<Figure size 432x288 with 1 Axes>"
      ]
     },
     "metadata": {
      "needs_background": "light"
     },
     "output_type": "display_data"
    }
   ],
   "source": [
    "X = diff_eq_X.calculate_features(data=df_VCT_prime)\n",
    "y = diff_eq_X.calculate_label(y=df_VCT_prime['fx'])\n",
    "\n",
    "model_X = sm.OLS(y,X)\n",
    "results_X = model_X.fit()\n",
    "\n",
    "show_pred_vct(X=X,y=y,results=results_X, label=r'$X$')"
   ]
  },
  {
   "cell_type": "code",
   "execution_count": 99,
   "metadata": {},
   "outputs": [],
   "source": [
    "results_summary_X = regression.results_summary_to_dataframe(results_X)\n",
    "results_summary_Y = regression.results_summary_to_dataframe(results_Y)\n",
    "results_summary_N = regression.results_summary_to_dataframe(results_N)"
   ]
  },
  {
   "cell_type": "markdown",
   "metadata": {},
   "source": [
    "## Add the regressed parameters\n",
    "Hydrodynamic derivatives that depend on acceleration cannot be obtained from the VCT regression. They are however essential if a time simulation should be conducted. These values have then been taken from Brix semi empirical formulas for the simulations below."
   ]
  },
  {
   "cell_type": "code",
   "execution_count": 100,
   "metadata": {},
   "outputs": [],
   "source": [
    "df_parameters_all = df_parameters.copy()\n",
    "for other in [results_summary_X, results_summary_Y, results_summary_N]:\n",
    "    df_parameters_all = df_parameters_all.combine_first(other)\n",
    "\n",
    "df_parameters_all.rename(columns={'coeff':'regressed'}, inplace=True)\n",
    "df_parameters_all.drop(columns=['brix_lambda'], inplace=True)\n",
    "\n",
    "df_parameters_all['prime'] = df_parameters_all['regressed'].combine_first(df_parameters_all['brix_prime'])  # prefer regressed"
   ]
  },
  {
   "cell_type": "code",
   "execution_count": 101,
   "metadata": {},
   "outputs": [
    {
     "data": {
      "image/png": "[encoded data removed]",
      "text/plain": [
       "<Figure size 1080x360 with 1 Axes>"
      ]
     },
     "metadata": {
      "needs_background": "light"
     },
     "output_type": "display_data"
    }
   ],
   "source": [
    "fig,ax=plt.subplots()\n",
    "fig.set_size_inches(15,5)\n",
    "\n",
    "mask = ((df_parameters_all['brix_prime']!=0) |\n",
    "        (pd.notnull(df_parameters_all['regressed'])))\n",
    "                \n",
    "df_parameters_all_plot = df_parameters_all.loc[mask]\n",
    "df_parameters_all_plot.plot.bar(y=['brix_prime','regressed'], ax=ax);"
   ]
  },
  {
   "cell_type": "markdown",
   "metadata": {},
   "source": [
    "## Simulate"
   ]
  },
  {
   "cell_type": "code",
   "execution_count": 102,
   "metadata": {},
   "outputs": [],
   "source": [
    "df_ = df_prime.copy()\n",
    "t = df_.index\n",
    "t_span = [t.min(),t.max()]\n",
    "t_eval = np.linspace(t.min(),t.max(),len(t))\n",
    "\n",
    "control = df_[['delta','thrust']]\n",
    "\n",
    "df_0 = df_.iloc[0:100].median(axis=0)\n",
    "y0 = {\n",
    "    'u' : df_0['u'], \n",
    "    'v' : df_0['v'],\n",
    "    'r' : df_0['r'],\n",
    "    'x0' : df_0['x0'],\n",
    "    'y0' : df_0['y0'],\n",
    "    'psi' : df_0['psi']\n",
    "    }\n",
    "\n",
    "parameters = df_parameters_all['prime'].copy()  # Change!!\n",
    "\n",
    "solution = solve_ivp(fun=step, t_span=t_span, y0=list(y0.values()), t_eval=t_eval, \n",
    "            args=(parameters, ship_parameters_prime, control))\n",
    "\n",
    "columns = list(y0.keys())\n",
    "df_result_VCT = pd.DataFrame(data=solution.y.T, columns=columns)\n",
    "df_result_VCT.index=t[0:len(df_result_VCT)]"
   ]
  },
  {
   "cell_type": "code",
   "execution_count": 103,
   "metadata": {},
   "outputs": [
    {
     "data": {
      "image/png": "[encoded data removed]",
      "text/plain": [
       "<Figure size 432x288 with 1 Axes>"
      ]
     },
     "metadata": {
      "needs_background": "light"
     },
     "output_type": "display_data"
    },
    {
     "data": {
      "image/png": "[encoded data removed]",
      "text/plain": [
       "<Figure size 432x288 with 1 Axes>"
      ]
     },
     "metadata": {
      "needs_background": "light"
     },
     "output_type": "display_data"
    },
    {
     "data": {
      "image/png": "[encoded data removed]",
      "text/plain": [
       "<Figure size 432x288 with 1 Axes>"
      ]
     },
     "metadata": {
      "needs_background": "light"
     },
     "output_type": "display_data"
    },
    {
     "data": {
      "image/png": "[encoded data removed]",
      "text/plain": [
       "<Figure size 432x288 with 1 Axes>"
      ]
     },
     "metadata": {
      "needs_background": "light"
     },
     "output_type": "display_data"
    },
    {
     "data": {
      "image/png": "[encoded data removed]",
      "text/plain": [
       "<Figure size 432x288 with 1 Axes>"
      ]
     },
     "metadata": {
      "needs_background": "light"
     },
     "output_type": "display_data"
    },
    {
     "data": {
      "image/png": "[encoded data removed]",
      "text/plain": [
       "<Figure size 432x288 with 1 Axes>"
      ]
     },
     "metadata": {
      "needs_background": "light"
     },
     "output_type": "display_data"
    },
    {
     "data": {
      "image/png": "[encoded data removed]",
      "text/plain": [
       "<Figure size 432x288 with 1 Axes>"
      ]
     },
     "metadata": {
      "needs_background": "light"
     },
     "output_type": "display_data"
    }
   ],
   "source": [
    "fig,ax=plt.subplots()\n",
    "track_plot(df=df_prime, lpp=ship_parameters_prime['L'], beam=ship_parameters_prime['B'],ax=ax, label='model test')\n",
    "track_plot(df=df_result_VCT, lpp=ship_parameters_prime['L'], beam=ship_parameters_prime['B'],ax=ax, label='simulation', color='green')\n",
    "ax.legend()\n",
    "\n",
    "\n",
    "for key in df_result:\n",
    "    fig,ax = plt.subplots()\n",
    "    df_prime.plot(y=key, label='model test', ax=ax)\n",
    "    df_result_VCT.plot(y=key, label='simulation', ax=ax)\n",
    "    ax.set_ylabel(key)"
   ]
  },
  {
   "cell_type": "markdown",
   "metadata": {},
   "source": [
    "# Time series PIT"
   ]
  },
  {
   "cell_type": "code",
   "execution_count": 104,
   "metadata": {},
   "outputs": [],
   "source": [
    "from statsmodels.sandbox.regression.predstd import wls_prediction_std\n",
    "def show_pred(X,y,results, label):\n",
    "    \n",
    "    display(results.summary())\n",
    "    \n",
    "    X_ = X\n",
    "    y_ = y\n",
    "    y_pred = results.predict(X_)\n",
    "    \n",
    "    prstd, iv_l, iv_u = wls_prediction_std(results, exog=X_, alpha=0.05)\n",
    "    #iv_l*=-1 \n",
    "    #iv_u*=-1\n",
    "    \n",
    "    fig,ax=plt.subplots()\n",
    "    ax.plot(X_.index,y_, label='Numerical gradient from model test')\n",
    "    ax.plot(X_.index,y_pred, '--', label='OLS')\n",
    "    ax.set_ylabel(label)\n",
    "    \n",
    "    ax.fill_between(X_.index, y1=iv_l, y2=iv_u, zorder=-10, color='grey', alpha=0.5, label=r'5\\% confidence')\n",
    "    ax.legend();"
   ]
  },
  {
   "cell_type": "markdown",
   "metadata": {},
   "source": [
    "## N"
   ]
  },
  {
   "cell_type": "code",
   "execution_count": 105,
   "metadata": {},
   "outputs": [],
   "source": [
    "N_eq = eq.N_eq.copy()\n",
    "N_eq = N_eq.subs([\n",
    "    (x_G,0),  # Assuming or moving to CG=0\n",
    "    #(I_z,1),  # Removing inertia\n",
    "    #(eq.p.Nrdot,0),  # Removing added mass\n",
    "    #(eq.p.Nvdot,0),  # Removing added mass\n",
    "    #(eq.p.Nudot,0),  # Removing added mass\n",
    "    \n",
    "])  \n",
    "\n",
    "solution = sp.solve(N_eq,r.diff())[0]\n",
    "inertia_ = (I_z-eq.p.Nrdot)\n",
    "N_eq = sp.Eq(r.diff()*inertia_, solution*inertia_)\n"
   ]
  },
  {
   "cell_type": "code",
   "execution_count": 106,
   "metadata": {},
   "outputs": [
    {
     "data": {
      "text/latex": [
       "$\\displaystyle \\left(I_{z} - N_{\\dot{r}}\\right) \\dot{r} = N_{\\dot{u}} \\dot{u} + N_{\\dot{v}} \\dot{v} + N_{delta} \\delta + N_{r} r + N_{u} u + N_{v} v$"
      ],
      "text/plain": [
       "<IPython.core.display.Math object>"
      ]
     },
     "execution_count": 106,
     "metadata": {},
     "output_type": "execute_result"
    }
   ],
   "source": [
    "Math(vlatex(N_eq))"
   ]
  },
  {
   "cell_type": "code",
   "execution_count": 107,
   "metadata": {},
   "outputs": [],
   "source": [
    "label_N = N_eq.lhs\n",
    "diff_eq_N = regression.DiffEqToMatrix(ode=N_eq, label=label_N, base_features=[delta,u,v,r])"
   ]
  },
  {
   "cell_type": "code",
   "execution_count": 108,
   "metadata": {},
   "outputs": [
    {
     "data": {
      "text/latex": [
       "$\\displaystyle \\left(I_{z} - N_{\\dot{r}}\\right) \\dot{r} = N_{\\dot{u}} \\dot{u} + N_{\\dot{v}} \\dot{v} + N_{delta} \\delta + N_{r} r + N_{u} u + N_{v} v$"
      ],
      "text/plain": [
       "<IPython.core.display.Math object>"
      ]
     },
     "execution_count": 108,
     "metadata": {},
     "output_type": "execute_result"
    }
   ],
   "source": [
    "Math(vlatex(diff_eq_N.acceleration_equation))"
   ]
  },
  {
   "cell_type": "code",
   "execution_count": 109,
   "metadata": {},
   "outputs": [
    {
     "data": {
      "text/latex": [
       "$\\displaystyle y = N_{\\dot{u}} x_{1} + N_{\\dot{v}} x_{2} + N_{delta} x_{3} + N_{r} x_{4} + N_{u} x_{5} + N_{v} x_{6}$"
      ],
      "text/plain": [
       "<IPython.core.display.Math object>"
      ]
     },
     "execution_count": 109,
     "metadata": {},
     "output_type": "execute_result"
    }
   ],
   "source": [
    "Math(vlatex(diff_eq_N.acceleration_equation_x))"
   ]
  },
  {
   "cell_type": "code",
   "execution_count": 110,
   "metadata": {},
   "outputs": [
    {
     "data": {
      "text/latex": [
       "$\\displaystyle y = \\left(I_{z} - N_{\\dot{r}}\\right) \\dot{r}$"
      ],
      "text/plain": [
       "<IPython.core.display.Math object>"
      ]
     },
     "execution_count": 110,
     "metadata": {},
     "output_type": "execute_result"
    }
   ],
   "source": [
    "Math(vlatex(diff_eq_N.eq_y))"
   ]
  },
  {
   "cell_type": "code",
   "execution_count": 111,
   "metadata": {},
   "outputs": [
    {
     "data": {
      "text/latex": [
       "$\\displaystyle \\beta = \\left[\\begin{matrix}N_{\\dot{u}}\\\\N_{\\dot{v}}\\\\N_{delta}\\\\N_{r}\\\\N_{u}\\\\N_{v}\\end{matrix}\\right]$"
      ],
      "text/plain": [
       "Eq(beta, Matrix([\n",
       "[N_{\\dot{u}}],\n",
       "[N_{\\dot{v}}],\n",
       "[  N_{delta}],\n",
       "[      N_{r}],\n",
       "[      N_{u}],\n",
       "[      N_{v}]]))"
      ]
     },
     "execution_count": 111,
     "metadata": {},
     "output_type": "execute_result"
    }
   ],
   "source": [
    "diff_eq_N.eq_beta"
   ]
  },
  {
   "cell_type": "code",
   "execution_count": 112,
   "metadata": {},
   "outputs": [
    {
     "data": {
      "text/latex": [
       "$\\displaystyle X = \\left[\\begin{matrix}\\dot{u} & \\dot{v} & \\delta & r & u & v\\end{matrix}\\right]$"
      ],
      "text/plain": [
       "<IPython.core.display.Math object>"
      ]
     },
     "execution_count": 112,
     "metadata": {},
     "output_type": "execute_result"
    }
   ],
   "source": [
    "Math(vlatex(diff_eq_N.eq_X))"
   ]
  },
  {
   "cell_type": "code",
   "execution_count": 113,
   "metadata": {},
   "outputs": [
    {
     "data": {
      "text/plain": [
       "<function _lambdifygenerated(I_z, Nrdot, r1d)>"
      ]
     },
     "execution_count": 113,
     "metadata": {},
     "output_type": "execute_result"
    }
   ],
   "source": [
    "diff_eq_N.y_lambda"
   ]
  },
  {
   "cell_type": "code",
   "execution_count": 114,
   "metadata": {},
   "outputs": [
    {
     "data": {
      "text/html": [
       "<table class=\"simpletable\">\n",
       "<caption>OLS Regression Results</caption>\n",
       "<tr>\n",
       "  <th>Dep. Variable:</th>            <td>y</td>        <th>  R-squared (uncentered):</th>       <td>   0.930</td> \n",
       "</tr>\n",
       "<tr>\n",
       "  <th>Model:</th>                   <td>OLS</td>       <th>  Adj. R-squared (uncentered):</th>  <td>   0.930</td> \n",
       "</tr>\n",
       "<tr>\n",
       "  <th>Method:</th>             <td>Least Squares</td>  <th>  F-statistic:       </th>           <td>3.497e+04</td>\n",
       "</tr>\n",
       "<tr>\n",
       "  <th>Date:</th>             <td>Thu, 08 Jul 2021</td> <th>  Prob (F-statistic):</th>            <td>  0.00</td>  \n",
       "</tr>\n",
       "<tr>\n",
       "  <th>Time:</th>                 <td>18:09:44</td>     <th>  Log-Likelihood:    </th>          <td>1.3744e+05</td>\n",
       "</tr>\n",
       "<tr>\n",
       "  <th>No. Observations:</th>      <td> 15915</td>      <th>  AIC:               </th>          <td>-2.749e+05</td>\n",
       "</tr>\n",
       "<tr>\n",
       "  <th>Df Residuals:</th>          <td> 15909</td>      <th>  BIC:               </th>          <td>-2.748e+05</td>\n",
       "</tr>\n",
       "<tr>\n",
       "  <th>Df Model:</th>              <td>     6</td>      <th>                     </th>               <td> </td>    \n",
       "</tr>\n",
       "<tr>\n",
       "  <th>Covariance Type:</th>      <td>nonrobust</td>    <th>                     </th>               <td> </td>    \n",
       "</tr>\n",
       "</table>\n",
       "<table class=\"simpletable\">\n",
       "<tr>\n",
       "     <td></td>       <th>coef</th>     <th>std err</th>      <th>t</th>      <th>P>|t|</th>  <th>[0.025</th>    <th>0.975]</th>  \n",
       "</tr>\n",
       "<tr>\n",
       "  <th>Nudot</th>  <td>-1.591e-05</td> <td> 6.52e-06</td> <td>   -2.440</td> <td> 0.015</td> <td>-2.87e-05</td> <td>-3.13e-06</td>\n",
       "</tr>\n",
       "<tr>\n",
       "  <th>Nvdot</th>  <td>   -0.0027</td> <td>  1.8e-05</td> <td> -147.826</td> <td> 0.000</td> <td>   -0.003</td> <td>   -0.003</td>\n",
       "</tr>\n",
       "<tr>\n",
       "  <th>Ndelta</th> <td>   -0.0012</td> <td> 1.26e-05</td> <td>  -97.969</td> <td> 0.000</td> <td>   -0.001</td> <td>   -0.001</td>\n",
       "</tr>\n",
       "<tr>\n",
       "  <th>Nr</th>     <td>   -0.0009</td> <td>  1.5e-05</td> <td>  -57.491</td> <td> 0.000</td> <td>   -0.001</td> <td>   -0.001</td>\n",
       "</tr>\n",
       "<tr>\n",
       "  <th>Nu</th>     <td>-6.329e-06</td> <td>  9.9e-07</td> <td>   -6.390</td> <td> 0.000</td> <td>-8.27e-06</td> <td>-4.39e-06</td>\n",
       "</tr>\n",
       "<tr>\n",
       "  <th>Nv</th>     <td>   -0.0036</td> <td> 3.97e-05</td> <td>  -90.192</td> <td> 0.000</td> <td>   -0.004</td> <td>   -0.004</td>\n",
       "</tr>\n",
       "</table>\n",
       "<table class=\"simpletable\">\n",
       "<tr>\n",
       "  <th>Omnibus:</th>       <td>4979.308</td> <th>  Durbin-Watson:     </th> <td>   0.022</td> \n",
       "</tr>\n",
       "<tr>\n",
       "  <th>Prob(Omnibus):</th>  <td> 0.000</td>  <th>  Jarque-Bera (JB):  </th> <td>25781.193</td>\n",
       "</tr>\n",
       "<tr>\n",
       "  <th>Skew:</th>           <td>-1.419</td>  <th>  Prob(JB):          </th> <td>    0.00</td> \n",
       "</tr>\n",
       "<tr>\n",
       "  <th>Kurtosis:</th>       <td> 8.552</td>  <th>  Cond. No.          </th> <td>    176.</td> \n",
       "</tr>\n",
       "</table><br/><br/>Notes:<br/>[1] R² is computed without centering (uncentered) since the model does not contain a constant.<br/>[2] Standard Errors assume that the covariance matrix of the errors is correctly specified."
      ],
      "text/plain": [
       "<class 'statsmodels.iolib.summary.Summary'>\n",
       "\"\"\"\n",
       "                                 OLS Regression Results                                \n",
       "=======================================================================================\n",
       "Dep. Variable:                      y   R-squared (uncentered):                   0.930\n",
       "Model:                            OLS   Adj. R-squared (uncentered):              0.930\n",
       "Method:                 Least Squares   F-statistic:                          3.497e+04\n",
       "Date:                Thu, 08 Jul 2021   Prob (F-statistic):                        0.00\n",
       "Time:                        18:09:44   Log-Likelihood:                      1.3744e+05\n",
       "No. Observations:               15915   AIC:                                 -2.749e+05\n",
       "Df Residuals:                   15909   BIC:                                 -2.748e+05\n",
       "Df Model:                           6                                                  \n",
       "Covariance Type:            nonrobust                                                  \n",
       "==============================================================================\n",
       "                 coef    std err          t      P>|t|      [0.025      0.975]\n",
       "------------------------------------------------------------------------------\n",
       "Nudot      -1.591e-05   6.52e-06     -2.440      0.015   -2.87e-05   -3.13e-06\n",
       "Nvdot         -0.0027    1.8e-05   -147.826      0.000      -0.003      -0.003\n",
       "Ndelta        -0.0012   1.26e-05    -97.969      0.000      -0.001      -0.001\n",
       "Nr            -0.0009    1.5e-05    -57.491      0.000      -0.001      -0.001\n",
       "Nu         -6.329e-06    9.9e-07     -6.390      0.000   -8.27e-06   -4.39e-06\n",
       "Nv            -0.0036   3.97e-05    -90.192      0.000      -0.004      -0.004\n",
       "==============================================================================\n",
       "Omnibus:                     4979.308   Durbin-Watson:                   0.022\n",
       "Prob(Omnibus):                  0.000   Jarque-Bera (JB):            25781.193\n",
       "Skew:                          -1.419   Prob(JB):                         0.00\n",
       "Kurtosis:                       8.552   Cond. No.                         176.\n",
       "==============================================================================\n",
       "\n",
       "Notes:\n",
       "[1] R² is computed without centering (uncentered) since the model does not contain a constant.\n",
       "[2] Standard Errors assume that the covariance matrix of the errors is correctly specified.\n",
       "\"\"\""
      ]
     },
     "metadata": {},
     "output_type": "display_data"
    },
    {
     "data": {
      "image/png": "[encoded data removed]",
      "text/plain": [
       "<Figure size 432x288 with 1 Axes>"
      ]
     },
     "metadata": {
      "needs_background": "light"
     },
     "output_type": "display_data"
    }
   ],
   "source": [
    "X = diff_eq_N.calculate_features(data=df_prime)\n",
    "y = run(function=diff_eq_N.y_lambda, inputs=df_prime, **ship_parameters_prime, **df_parameters_all['brix_prime'])\n",
    "\n",
    "model_N = sm.OLS(y,X)\n",
    "results_N = model_N.fit()\n",
    "\n",
    "show_pred(X=X,y=y,results=results_N, label=r'$%s$' % vlatex(label_N))"
   ]
  },
  {
   "cell_type": "markdown",
   "metadata": {},
   "source": [
    "## Y"
   ]
  },
  {
   "cell_type": "code",
   "execution_count": 115,
   "metadata": {},
   "outputs": [
    {
     "data": {
      "text/latex": [
       "$\\displaystyle U m r - \\left(Y_{\\dot{v}} - m\\right) \\dot{v} = Y_{\\dot{r}} \\dot{r} + Y_{\\dot{u}} \\dot{u} + Y_{delta} \\delta + Y_{r} r + Y_{u} u + Y_{v} v$"
      ],
      "text/plain": [
       "<IPython.core.display.Math object>"
      ]
     },
     "execution_count": 115,
     "metadata": {},
     "output_type": "execute_result"
    }
   ],
   "source": [
    "Y_eq = eq.Y_eq.copy()\n",
    "Y_eq = Y_eq.subs([\n",
    "    (x_G,0),  # Assuming or moving to CG=0\n",
    "    #(I_z,1),  # Removing inertia\n",
    "    #(eq.p.Nrdot,0),  # Removing added mass\n",
    "    #(eq.p.Nvdot,0),  # Removing added mass\n",
    "    #(eq.p.Nudot,0),  # Removing added mass\n",
    "    \n",
    "])  \n",
    "\n",
    "solution = sp.solve(Y_eq,v.diff())[0]\n",
    "inertia_ = (eq.p.Yvdot-m)\n",
    "Y_eq = sp.simplify(sp.Eq(v.diff()*inertia_-U*m*r, solution*inertia_-U*m*r))\n",
    "\n",
    "Math(vlatex(Y_eq))"
   ]
  },
  {
   "cell_type": "code",
   "execution_count": 116,
   "metadata": {},
   "outputs": [],
   "source": [
    "label_Y = Y_eq.lhs\n",
    "diff_eq_Y = regression.DiffEqToMatrix(ode=Y_eq, label=label_Y, base_features=[delta,u,v,r])"
   ]
  },
  {
   "cell_type": "code",
   "execution_count": 117,
   "metadata": {},
   "outputs": [
    {
     "data": {
      "text/html": [
       "<table class=\"simpletable\">\n",
       "<caption>OLS Regression Results</caption>\n",
       "<tr>\n",
       "  <th>Dep. Variable:</th>            <td>y</td>        <th>  R-squared (uncentered):</th>       <td>   1.000</td> \n",
       "</tr>\n",
       "<tr>\n",
       "  <th>Model:</th>                   <td>OLS</td>       <th>  Adj. R-squared (uncentered):</th>  <td>   1.000</td> \n",
       "</tr>\n",
       "<tr>\n",
       "  <th>Method:</th>             <td>Least Squares</td>  <th>  F-statistic:       </th>           <td>1.292e+07</td>\n",
       "</tr>\n",
       "<tr>\n",
       "  <th>Date:</th>             <td>Thu, 08 Jul 2021</td> <th>  Prob (F-statistic):</th>            <td>  0.00</td>  \n",
       "</tr>\n",
       "<tr>\n",
       "  <th>Time:</th>                 <td>18:09:45</td>     <th>  Log-Likelihood:    </th>          <td>1.1645e+05</td>\n",
       "</tr>\n",
       "<tr>\n",
       "  <th>No. Observations:</th>      <td> 15915</td>      <th>  AIC:               </th>          <td>-2.329e+05</td>\n",
       "</tr>\n",
       "<tr>\n",
       "  <th>Df Residuals:</th>          <td> 15909</td>      <th>  BIC:               </th>          <td>-2.328e+05</td>\n",
       "</tr>\n",
       "<tr>\n",
       "  <th>Df Model:</th>              <td>     6</td>      <th>                     </th>               <td> </td>    \n",
       "</tr>\n",
       "<tr>\n",
       "  <th>Covariance Type:</th>      <td>nonrobust</td>    <th>                     </th>               <td> </td>    \n",
       "</tr>\n",
       "</table>\n",
       "<table class=\"simpletable\">\n",
       "<tr>\n",
       "     <td></td>       <th>coef</th>     <th>std err</th>      <th>t</th>      <th>P>|t|</th>  <th>[0.025</th>    <th>0.975]</th>  \n",
       "</tr>\n",
       "<tr>\n",
       "  <th>Yrdot</th>  <td>   -0.0021</td> <td> 1.42e-05</td> <td> -147.826</td> <td> 0.000</td> <td>   -0.002</td> <td>   -0.002</td>\n",
       "</tr>\n",
       "<tr>\n",
       "  <th>Yudot</th>  <td>   -0.0008</td> <td> 2.36e-05</td> <td>  -33.157</td> <td> 0.000</td> <td>   -0.001</td> <td>   -0.001</td>\n",
       "</tr>\n",
       "<tr>\n",
       "  <th>Ydelta</th> <td>   -0.0008</td> <td> 5.93e-05</td> <td>  -13.607</td> <td> 0.000</td> <td>   -0.001</td> <td>   -0.001</td>\n",
       "</tr>\n",
       "<tr>\n",
       "  <th>Yr</th>     <td>    0.0059</td> <td> 6.09e-05</td> <td>   97.436</td> <td> 0.000</td> <td>    0.006</td> <td>    0.006</td>\n",
       "</tr>\n",
       "<tr>\n",
       "  <th>Yu</th>     <td>   -0.0001</td> <td> 3.61e-06</td> <td>  -28.891</td> <td> 0.000</td> <td>   -0.000</td> <td>-9.73e-05</td>\n",
       "</tr>\n",
       "<tr>\n",
       "  <th>Yv</th>     <td>   -0.0212</td> <td> 7.12e-05</td> <td> -297.562</td> <td> 0.000</td> <td>   -0.021</td> <td>   -0.021</td>\n",
       "</tr>\n",
       "</table>\n",
       "<table class=\"simpletable\">\n",
       "<tr>\n",
       "  <th>Omnibus:</th>       <td>256.701</td> <th>  Durbin-Watson:     </th> <td>   0.044</td>\n",
       "</tr>\n",
       "<tr>\n",
       "  <th>Prob(Omnibus):</th> <td> 0.000</td>  <th>  Jarque-Bera (JB):  </th> <td> 263.018</td>\n",
       "</tr>\n",
       "<tr>\n",
       "  <th>Skew:</th>          <td> 0.303</td>  <th>  Prob(JB):          </th> <td>7.70e-58</td>\n",
       "</tr>\n",
       "<tr>\n",
       "  <th>Kurtosis:</th>      <td> 2.826</td>  <th>  Cond. No.          </th> <td>    83.2</td>\n",
       "</tr>\n",
       "</table><br/><br/>Notes:<br/>[1] R² is computed without centering (uncentered) since the model does not contain a constant.<br/>[2] Standard Errors assume that the covariance matrix of the errors is correctly specified."
      ],
      "text/plain": [
       "<class 'statsmodels.iolib.summary.Summary'>\n",
       "\"\"\"\n",
       "                                 OLS Regression Results                                \n",
       "=======================================================================================\n",
       "Dep. Variable:                      y   R-squared (uncentered):                   1.000\n",
       "Model:                            OLS   Adj. R-squared (uncentered):              1.000\n",
       "Method:                 Least Squares   F-statistic:                          1.292e+07\n",
       "Date:                Thu, 08 Jul 2021   Prob (F-statistic):                        0.00\n",
       "Time:                        18:09:45   Log-Likelihood:                      1.1645e+05\n",
       "No. Observations:               15915   AIC:                                 -2.329e+05\n",
       "Df Residuals:                   15909   BIC:                                 -2.328e+05\n",
       "Df Model:                           6                                                  \n",
       "Covariance Type:            nonrobust                                                  \n",
       "==============================================================================\n",
       "                 coef    std err          t      P>|t|      [0.025      0.975]\n",
       "------------------------------------------------------------------------------\n",
       "Yrdot         -0.0021   1.42e-05   -147.826      0.000      -0.002      -0.002\n",
       "Yudot         -0.0008   2.36e-05    -33.157      0.000      -0.001      -0.001\n",
       "Ydelta        -0.0008   5.93e-05    -13.607      0.000      -0.001      -0.001\n",
       "Yr             0.0059   6.09e-05     97.436      0.000       0.006       0.006\n",
       "Yu            -0.0001   3.61e-06    -28.891      0.000      -0.000   -9.73e-05\n",
       "Yv            -0.0212   7.12e-05   -297.562      0.000      -0.021      -0.021\n",
       "==============================================================================\n",
       "Omnibus:                      256.701   Durbin-Watson:                   0.044\n",
       "Prob(Omnibus):                  0.000   Jarque-Bera (JB):              263.018\n",
       "Skew:                           0.303   Prob(JB):                     7.70e-58\n",
       "Kurtosis:                       2.826   Cond. No.                         83.2\n",
       "==============================================================================\n",
       "\n",
       "Notes:\n",
       "[1] R² is computed without centering (uncentered) since the model does not contain a constant.\n",
       "[2] Standard Errors assume that the covariance matrix of the errors is correctly specified.\n",
       "\"\"\""
      ]
     },
     "metadata": {},
     "output_type": "display_data"
    },
    {
     "data": {
      "image/png": "[encoded data removed]",
      "text/plain": [
       "<Figure size 432x288 with 1 Axes>"
      ]
     },
     "metadata": {
      "needs_background": "light"
     },
     "output_type": "display_data"
    }
   ],
   "source": [
    "X = diff_eq_Y.calculate_features(data=df_prime)\n",
    "y = run(function=diff_eq_Y.y_lambda, inputs=df_prime, **ship_parameters_prime, **df_parameters_all['brix_prime'])\n",
    "\n",
    "model_Y = sm.OLS(y,X)\n",
    "results_Y = model_Y.fit()\n",
    "\n",
    "show_pred(X=X,y=y,results=results_Y, label=r'$%s$' % vlatex(label_Y))"
   ]
  },
  {
   "cell_type": "markdown",
   "metadata": {},
   "source": [
    "## X"
   ]
  },
  {
   "cell_type": "code",
   "execution_count": 118,
   "metadata": {},
   "outputs": [
    {
     "data": {
      "text/latex": [
       "$\\displaystyle \\left(- X_{\\dot{u}} + m\\right) \\dot{v} = X_{\\dot{r}} \\dot{r} + X_{\\dot{v}} \\dot{v} + X_{delta} \\delta + X_{r} r + X_{u} u + X_{v} v$"
      ],
      "text/plain": [
       "<IPython.core.display.Math object>"
      ]
     },
     "execution_count": 118,
     "metadata": {},
     "output_type": "execute_result"
    }
   ],
   "source": [
    "X_eq = eq.X_eq.copy()\n",
    "X_eq = X_eq.subs([\n",
    "    (x_G,0),  # Assuming or moving to CG=0\n",
    "    #(I_z,1),  # Removing inertia\n",
    "    #(eq.p.Nrdot,0),  # Removing added mass\n",
    "    #(eq.p.Nvdot,0),  # Removing added mass\n",
    "    #(eq.p.Nudot,0),  # Removing added mass\n",
    "    \n",
    "])  \n",
    "\n",
    "solution = sp.solve(X_eq,u.diff())[0]\n",
    "inertia_ = m-eq.p.Xudot\n",
    "X_eq = sp.simplify(sp.Eq(v.diff()*inertia_, solution*inertia_))\n",
    "\n",
    "Math(vlatex(X_eq))"
   ]
  },
  {
   "cell_type": "code",
   "execution_count": 119,
   "metadata": {},
   "outputs": [],
   "source": [
    "label_X = X_eq.lhs\n",
    "diff_eq_X = regression.DiffEqToMatrix(ode=X_eq, label=label_X, base_features=[delta,u,v,r])"
   ]
  },
  {
   "cell_type": "code",
   "execution_count": 120,
   "metadata": {},
   "outputs": [
    {
     "data": {
      "text/html": [
       "<table class=\"simpletable\">\n",
       "<caption>OLS Regression Results</caption>\n",
       "<tr>\n",
       "  <th>Dep. Variable:</th>            <td>y</td>        <th>  R-squared (uncentered):</th>       <td>   1.000</td> \n",
       "</tr>\n",
       "<tr>\n",
       "  <th>Model:</th>                   <td>OLS</td>       <th>  Adj. R-squared (uncentered):</th>  <td>   1.000</td> \n",
       "</tr>\n",
       "<tr>\n",
       "  <th>Method:</th>             <td>Least Squares</td>  <th>  F-statistic:       </th>           <td>4.562e+31</td>\n",
       "</tr>\n",
       "<tr>\n",
       "  <th>Date:</th>             <td>Thu, 08 Jul 2021</td> <th>  Prob (F-statistic):</th>            <td>  0.00</td>  \n",
       "</tr>\n",
       "<tr>\n",
       "  <th>Time:</th>                 <td>18:09:47</td>     <th>  Log-Likelihood:    </th>          <td>5.8378e+05</td>\n",
       "</tr>\n",
       "<tr>\n",
       "  <th>No. Observations:</th>      <td> 15915</td>      <th>  AIC:               </th>          <td>-1.168e+06</td>\n",
       "</tr>\n",
       "<tr>\n",
       "  <th>Df Residuals:</th>          <td> 15909</td>      <th>  BIC:               </th>          <td>-1.167e+06</td>\n",
       "</tr>\n",
       "<tr>\n",
       "  <th>Df Model:</th>              <td>     6</td>      <th>                     </th>               <td> </td>    \n",
       "</tr>\n",
       "<tr>\n",
       "  <th>Covariance Type:</th>      <td>nonrobust</td>    <th>                     </th>               <td> </td>    \n",
       "</tr>\n",
       "</table>\n",
       "<table class=\"simpletable\">\n",
       "<tr>\n",
       "     <td></td>       <th>coef</th>     <th>std err</th>      <th>t</th>      <th>P>|t|</th>  <th>[0.025</th>    <th>0.975]</th>  \n",
       "</tr>\n",
       "<tr>\n",
       "  <th>Xrdot</th>  <td>-3.343e-18</td> <td> 3.85e-18</td> <td>   -0.867</td> <td> 0.386</td> <td>-1.09e-17</td> <td> 4.21e-18</td>\n",
       "</tr>\n",
       "<tr>\n",
       "  <th>Xvdot</th>  <td>    0.0068</td> <td> 1.78e-17</td> <td> 3.84e+14</td> <td> 0.000</td> <td>    0.007</td> <td>    0.007</td>\n",
       "</tr>\n",
       "<tr>\n",
       "  <th>Xdelta</th> <td> 6.272e-18</td> <td> 1.04e-17</td> <td>    0.605</td> <td> 0.545</td> <td>-1.41e-17</td> <td> 2.66e-17</td>\n",
       "</tr>\n",
       "<tr>\n",
       "  <th>Xr</th>     <td> 6.395e-18</td> <td> 1.05e-17</td> <td>    0.608</td> <td> 0.543</td> <td>-1.42e-17</td> <td>  2.7e-17</td>\n",
       "</tr>\n",
       "<tr>\n",
       "  <th>Xu</th>     <td> 9.186e-19</td> <td> 6.54e-19</td> <td>    1.404</td> <td> 0.160</td> <td>-3.64e-19</td> <td>  2.2e-18</td>\n",
       "</tr>\n",
       "<tr>\n",
       "  <th>Xv</th>     <td>-1.013e-16</td> <td> 2.74e-17</td> <td>   -3.692</td> <td> 0.000</td> <td>-1.55e-16</td> <td>-4.75e-17</td>\n",
       "</tr>\n",
       "</table>\n",
       "<table class=\"simpletable\">\n",
       "<tr>\n",
       "  <th>Omnibus:</th>       <td>3596.987</td> <th>  Durbin-Watson:     </th> <td>   0.000</td>\n",
       "</tr>\n",
       "<tr>\n",
       "  <th>Prob(Omnibus):</th>  <td> 0.000</td>  <th>  Jarque-Bera (JB):  </th> <td>6591.966</td>\n",
       "</tr>\n",
       "<tr>\n",
       "  <th>Skew:</th>           <td> 1.546</td>  <th>  Prob(JB):          </th> <td>    0.00</td>\n",
       "</tr>\n",
       "<tr>\n",
       "  <th>Kurtosis:</th>       <td> 3.614</td>  <th>  Cond. No.          </th> <td>    196.</td>\n",
       "</tr>\n",
       "</table><br/><br/>Notes:<br/>[1] R² is computed without centering (uncentered) since the model does not contain a constant.<br/>[2] Standard Errors assume that the covariance matrix of the errors is correctly specified."
      ],
      "text/plain": [
       "<class 'statsmodels.iolib.summary.Summary'>\n",
       "\"\"\"\n",
       "                                 OLS Regression Results                                \n",
       "=======================================================================================\n",
       "Dep. Variable:                      y   R-squared (uncentered):                   1.000\n",
       "Model:                            OLS   Adj. R-squared (uncentered):              1.000\n",
       "Method:                 Least Squares   F-statistic:                          4.562e+31\n",
       "Date:                Thu, 08 Jul 2021   Prob (F-statistic):                        0.00\n",
       "Time:                        18:09:47   Log-Likelihood:                      5.8378e+05\n",
       "No. Observations:               15915   AIC:                                 -1.168e+06\n",
       "Df Residuals:                   15909   BIC:                                 -1.167e+06\n",
       "Df Model:                           6                                                  \n",
       "Covariance Type:            nonrobust                                                  \n",
       "==============================================================================\n",
       "                 coef    std err          t      P>|t|      [0.025      0.975]\n",
       "------------------------------------------------------------------------------\n",
       "Xrdot      -3.343e-18   3.85e-18     -0.867      0.386   -1.09e-17    4.21e-18\n",
       "Xvdot          0.0068   1.78e-17   3.84e+14      0.000       0.007       0.007\n",
       "Xdelta      6.272e-18   1.04e-17      0.605      0.545   -1.41e-17    2.66e-17\n",
       "Xr          6.395e-18   1.05e-17      0.608      0.543   -1.42e-17     2.7e-17\n",
       "Xu          9.186e-19   6.54e-19      1.404      0.160   -3.64e-19     2.2e-18\n",
       "Xv         -1.013e-16   2.74e-17     -3.692      0.000   -1.55e-16   -4.75e-17\n",
       "==============================================================================\n",
       "Omnibus:                     3596.987   Durbin-Watson:                   0.000\n",
       "Prob(Omnibus):                  0.000   Jarque-Bera (JB):             6591.966\n",
       "Skew:                           1.546   Prob(JB):                         0.00\n",
       "Kurtosis:                       3.614   Cond. No.                         196.\n",
       "==============================================================================\n",
       "\n",
       "Notes:\n",
       "[1] R² is computed without centering (uncentered) since the model does not contain a constant.\n",
       "[2] Standard Errors assume that the covariance matrix of the errors is correctly specified.\n",
       "\"\"\""
      ]
     },
     "metadata": {},
     "output_type": "display_data"
    },
    {
     "data": {
      "image/png": "[encoded data removed]",
      "text/plain": [
       "<Figure size 432x288 with 1 Axes>"
      ]
     },
     "metadata": {
      "needs_background": "light"
     },
     "output_type": "display_data"
    }
   ],
   "source": [
    "X = diff_eq_X.calculate_features(data=df_prime)\n",
    "y = run(function=diff_eq_X.y_lambda, inputs=df_prime, **ship_parameters_prime, **df_parameters_all['brix_prime'])\n",
    "\n",
    "model_X = sm.OLS(y,X)\n",
    "results_X = model_X.fit()\n",
    "\n",
    "show_pred(X=X,y=y,results=results_X, label=r'$%s$' % vlatex(label_X))"
   ]
  },
  {
   "cell_type": "code",
   "execution_count": 121,
   "metadata": {},
   "outputs": [],
   "source": [
    "results_summary_X = regression.results_summary_to_dataframe(results_X)\n",
    "results_summary_Y = regression.results_summary_to_dataframe(results_Y)\n",
    "results_summary_N = regression.results_summary_to_dataframe(results_N)"
   ]
  },
  {
   "cell_type": "markdown",
   "metadata": {},
   "source": [
    "## Add regressed parameters"
   ]
  },
  {
   "cell_type": "code",
   "execution_count": 130,
   "metadata": {},
   "outputs": [
    {
     "ename": "AttributeError",
     "evalue": "'DataFrame' object has no attribute 'dtype'",
     "output_type": "error",
     "traceback": [
      "\u001b[1;31m---------------------------------------------------------------------------\u001b[0m",
      "\u001b[1;31mAttributeError\u001b[0m                            Traceback (most recent call last)",
      "\u001b[1;32m<ipython-input-130-a25e91b5e51e>\u001b[0m in \u001b[0;36m<module>\u001b[1;34m\u001b[0m\n\u001b[0;32m      1\u001b[0m \u001b[1;32mfor\u001b[0m \u001b[0mother\u001b[0m \u001b[1;32min\u001b[0m \u001b[1;33m[\u001b[0m\u001b[0mresults_summary_X\u001b[0m\u001b[1;33m,\u001b[0m \u001b[0mresults_summary_Y\u001b[0m\u001b[1;33m,\u001b[0m \u001b[0mresults_summary_N\u001b[0m\u001b[1;33m]\u001b[0m\u001b[1;33m:\u001b[0m\u001b[1;33m\u001b[0m\u001b[1;33m\u001b[0m\u001b[0m\n\u001b[1;32m----> 2\u001b[1;33m     \u001b[0mdf_parameters_all\u001b[0m \u001b[1;33m=\u001b[0m \u001b[0mdf_parameters_all\u001b[0m\u001b[1;33m.\u001b[0m\u001b[0mcombine_first\u001b[0m\u001b[1;33m(\u001b[0m\u001b[0mother\u001b[0m\u001b[1;33m)\u001b[0m\u001b[1;33m\u001b[0m\u001b[1;33m\u001b[0m\u001b[0m\n\u001b[0m\u001b[0;32m      3\u001b[0m \u001b[1;33m\u001b[0m\u001b[0m\n\u001b[0;32m      4\u001b[0m \u001b[0mdf_parameters_all\u001b[0m\u001b[1;33m.\u001b[0m\u001b[0mrename\u001b[0m\u001b[1;33m(\u001b[0m\u001b[0mcolumns\u001b[0m\u001b[1;33m=\u001b[0m\u001b[1;33m{\u001b[0m\u001b[1;34m'coeff'\u001b[0m\u001b[1;33m:\u001b[0m\u001b[1;34m'PIT'\u001b[0m\u001b[1;33m}\u001b[0m\u001b[1;33m,\u001b[0m \u001b[0minplace\u001b[0m\u001b[1;33m=\u001b[0m\u001b[1;32mTrue\u001b[0m\u001b[1;33m)\u001b[0m\u001b[1;33m\u001b[0m\u001b[1;33m\u001b[0m\u001b[0m\n\u001b[0;32m      5\u001b[0m \u001b[1;33m\u001b[0m\u001b[0m\n",
      "\u001b[1;32me:\\dev\\wpcc\\venv\\lib\\site-packages\\pandas\\core\\frame.py\u001b[0m in \u001b[0;36mcombine_first\u001b[1;34m(self, other)\u001b[0m\n\u001b[0;32m   6446\u001b[0m             \u001b[1;32mreturn\u001b[0m \u001b[0mexpressions\u001b[0m\u001b[1;33m.\u001b[0m\u001b[0mwhere\u001b[0m\u001b[1;33m(\u001b[0m\u001b[0mmask\u001b[0m\u001b[1;33m,\u001b[0m \u001b[0my_values\u001b[0m\u001b[1;33m,\u001b[0m \u001b[0mx_values\u001b[0m\u001b[1;33m)\u001b[0m\u001b[1;33m\u001b[0m\u001b[1;33m\u001b[0m\u001b[0m\n\u001b[0;32m   6447\u001b[0m \u001b[1;33m\u001b[0m\u001b[0m\n\u001b[1;32m-> 6448\u001b[1;33m         \u001b[1;32mreturn\u001b[0m \u001b[0mself\u001b[0m\u001b[1;33m.\u001b[0m\u001b[0mcombine\u001b[0m\u001b[1;33m(\u001b[0m\u001b[0mother\u001b[0m\u001b[1;33m,\u001b[0m \u001b[0mcombiner\u001b[0m\u001b[1;33m,\u001b[0m \u001b[0moverwrite\u001b[0m\u001b[1;33m=\u001b[0m\u001b[1;32mFalse\u001b[0m\u001b[1;33m)\u001b[0m\u001b[1;33m\u001b[0m\u001b[1;33m\u001b[0m\u001b[0m\n\u001b[0m\u001b[0;32m   6449\u001b[0m \u001b[1;33m\u001b[0m\u001b[0m\n\u001b[0;32m   6450\u001b[0m     def update(\n",
      "\u001b[1;32me:\\dev\\wpcc\\venv\\lib\\site-packages\\pandas\\core\\frame.py\u001b[0m in \u001b[0;36mcombine\u001b[1;34m(self, other, func, fill_value, overwrite)\u001b[0m\n\u001b[0;32m   6346\u001b[0m             \u001b[0motherSeries\u001b[0m \u001b[1;33m=\u001b[0m \u001b[0mother\u001b[0m\u001b[1;33m[\u001b[0m\u001b[0mcol\u001b[0m\u001b[1;33m]\u001b[0m\u001b[1;33m\u001b[0m\u001b[1;33m\u001b[0m\u001b[0m\n\u001b[0;32m   6347\u001b[0m \u001b[1;33m\u001b[0m\u001b[0m\n\u001b[1;32m-> 6348\u001b[1;33m             \u001b[0mthis_dtype\u001b[0m \u001b[1;33m=\u001b[0m \u001b[0mseries\u001b[0m\u001b[1;33m.\u001b[0m\u001b[0mdtype\u001b[0m\u001b[1;33m\u001b[0m\u001b[1;33m\u001b[0m\u001b[0m\n\u001b[0m\u001b[0;32m   6349\u001b[0m             \u001b[0mother_dtype\u001b[0m \u001b[1;33m=\u001b[0m \u001b[0motherSeries\u001b[0m\u001b[1;33m.\u001b[0m\u001b[0mdtype\u001b[0m\u001b[1;33m\u001b[0m\u001b[1;33m\u001b[0m\u001b[0m\n\u001b[0;32m   6350\u001b[0m \u001b[1;33m\u001b[0m\u001b[0m\n",
      "\u001b[1;32me:\\dev\\wpcc\\venv\\lib\\site-packages\\pandas\\core\\generic.py\u001b[0m in \u001b[0;36m__getattr__\u001b[1;34m(self, name)\u001b[0m\n\u001b[0;32m   5463\u001b[0m             \u001b[1;32mif\u001b[0m \u001b[0mself\u001b[0m\u001b[1;33m.\u001b[0m\u001b[0m_info_axis\u001b[0m\u001b[1;33m.\u001b[0m\u001b[0m_can_hold_identifiers_and_holds_name\u001b[0m\u001b[1;33m(\u001b[0m\u001b[0mname\u001b[0m\u001b[1;33m)\u001b[0m\u001b[1;33m:\u001b[0m\u001b[1;33m\u001b[0m\u001b[1;33m\u001b[0m\u001b[0m\n\u001b[0;32m   5464\u001b[0m                 \u001b[1;32mreturn\u001b[0m \u001b[0mself\u001b[0m\u001b[1;33m[\u001b[0m\u001b[0mname\u001b[0m\u001b[1;33m]\u001b[0m\u001b[1;33m\u001b[0m\u001b[1;33m\u001b[0m\u001b[0m\n\u001b[1;32m-> 5465\u001b[1;33m             \u001b[1;32mreturn\u001b[0m \u001b[0mobject\u001b[0m\u001b[1;33m.\u001b[0m\u001b[0m__getattribute__\u001b[0m\u001b[1;33m(\u001b[0m\u001b[0mself\u001b[0m\u001b[1;33m,\u001b[0m \u001b[0mname\u001b[0m\u001b[1;33m)\u001b[0m\u001b[1;33m\u001b[0m\u001b[1;33m\u001b[0m\u001b[0m\n\u001b[0m\u001b[0;32m   5466\u001b[0m \u001b[1;33m\u001b[0m\u001b[0m\n\u001b[0;32m   5467\u001b[0m     \u001b[1;32mdef\u001b[0m \u001b[0m__setattr__\u001b[0m\u001b[1;33m(\u001b[0m\u001b[0mself\u001b[0m\u001b[1;33m,\u001b[0m \u001b[0mname\u001b[0m\u001b[1;33m:\u001b[0m \u001b[0mstr\u001b[0m\u001b[1;33m,\u001b[0m \u001b[0mvalue\u001b[0m\u001b[1;33m)\u001b[0m \u001b[1;33m->\u001b[0m \u001b[1;32mNone\u001b[0m\u001b[1;33m:\u001b[0m\u001b[1;33m\u001b[0m\u001b[1;33m\u001b[0m\u001b[0m\n",
      "\u001b[1;31mAttributeError\u001b[0m: 'DataFrame' object has no attribute 'dtype'"
     ]
    }
   ],
   "source": [
    "for other in [results_summary_X, results_summary_Y, results_summary_N]:\n",
    "    df_parameters_all = df_parameters_all.combine_first(other)\n",
    "\n",
    "df_parameters_all.rename(columns={'coeff':'PIT'}, inplace=True)\n",
    "\n",
    "#df_parameters_all['prime'] = df_parameters_all['PIT'].combine_first(df_parameters_all['brix_prime'])  # prefer regressed"
   ]
  },
  {
   "cell_type": "code",
   "execution_count": null,
   "metadata": {},
   "outputs": [],
   "source": [
    "fig,ax=plt.subplots()\n",
    "fig.set_size_inches(15,5)\n",
    "\n",
    "mask = ((df_parameters_all['brix_prime']!=0) |\n",
    "        (pd.notnull(df_parameters_all['regressed'])) |\n",
    "        (pd.notnull(df_parameters_all['PIT'])))\n",
    "                \n",
    "df_parameters_all_plot = df_parameters_all.loc[mask]\n",
    "df_parameters_all_plot.plot.bar(y=['brix_prime','regressed','PIT'], ax=ax);"
   ]
  },
  {
   "cell_type": "code",
   "execution_count": null,
   "metadata": {},
   "outputs": [],
   "source": []
  }
 ],
 "metadata": {
  "kernelspec": {
   "display_name": "Python 3",
   "language": "python",
   "name": "python3"
  },
  "language_info": {
   "codemirror_mode": {
    "name": "ipython",
    "version": 3
   },
   "file_extension": ".py",
   "mimetype": "text/x-python",
   "name": "python",
   "nbconvert_exporter": "python",
   "pygments_lexer": "ipython3",
   "version": "3.9.5"
  }
 },
 "nbformat": 4,
 "nbformat_minor": 4
}
