{
    "cells": [
        {
            "cell_type": "markdown",
            "metadata": {},
            "source": [
                "# PIT Summary"
            ]
        },
        {
            "cell_type": "markdown",
            "metadata": {},
            "source": [
                "# Purpose\n",
                "There has been a lot done in the parameter identification techniques (PIT) in this project, this notebook is a summary."
            ]
        },
        {
            "cell_type": "markdown",
            "metadata": {},
            "source": [
                "# Setup"
            ]
        },
        {
            "cell_type": "code",
            "execution_count": null,
            "metadata": {},
            "outputs": [],
            "source": [
                "# %load imports.py\n",
                "# %load imports.py\n",
                "%matplotlib inline\n",
                "%load_ext autoreload\n",
                "%autoreload 2\n",
                "%config Completer.use_jedi = False  ## (To fix autocomplete)\n",
                "\n",
                "## External packages:\n",
                "import pandas as pd\n",
                "pd.options.display.max_rows = 999\n",
                "pd.options.display.max_columns = 999\n",
                "pd.set_option(\"display.max_columns\", None)\n",
                "\n",
                "import numpy as np\n",
                "import os\n",
                "import matplotlib.pyplot as plt\n",
                "#if os.name == 'nt':\n",
                "#    plt.style.use('presentation.mplstyle')  # Windows\n",
                "\n",
                "import plotly.express as px \n",
                "import plotly.graph_objects as go\n",
                "\n",
                "import seaborn as sns\n",
                "import sympy as sp\n",
                "from sympy.physics.mechanics import (dynamicsymbols, ReferenceFrame,\n",
                "                                      Particle, Point)\n",
                "from sympy.physics.vector.printing import vpprint, vlatex\n",
                "from IPython.display import display, Math, Latex\n",
                "from vessel_manoeuvring_models.substitute_dynamic_symbols import run, lambdify\n",
                "\n",
                "#import pyro\n",
                "\n",
                "import sklearn\n",
                "import pykalman\n",
                "from statsmodels.sandbox.regression.predstd import wls_prediction_std\n",
                "import statsmodels.api as sm\n",
                "\n",
                "from scipy.integrate import solve_ivp\n",
                "\n",
                "## Local packages:\n",
                "from vessel_manoeuvring_models.data import mdl\n",
                "#import vessel_manoeuvring_models.models.nonlinear_martin_vmm as vmm\n",
                "#import vessel_manoeuvring_models.nonlinear_martin_vmm_equations as eq\n",
                "\n",
                "#import vessel_manoeuvring_models.models.linear_vmm as vmm\n",
                "import vessel_manoeuvring_models.linear_vmm_equations as eq\n",
                "\n",
                "#import vessel_manoeuvring_models.models.linear_vmm as model\n",
                "from vessel_manoeuvring_models.symbols import *\n",
                "from vessel_manoeuvring_models.parameters import *\n",
                "import vessel_manoeuvring_models.symbols as symbols\n",
                "from vessel_manoeuvring_models import prime_system\n",
                "from vessel_manoeuvring_models.models import regression\n",
                "from vessel_manoeuvring_models.visualization.plot import track_plot\n",
                "from vessel_manoeuvring_models.equation import Equation"
            ]
        },
        {
            "cell_type": "code",
            "execution_count": null,
            "metadata": {},
            "outputs": [],
            "source": [
                "Math(vlatex(eq.X_eq))"
            ]
        },
        {
            "cell_type": "code",
            "execution_count": null,
            "metadata": {},
            "outputs": [],
            "source": [
                "Math(vlatex(eq.Y_eq))"
            ]
        },
        {
            "cell_type": "code",
            "execution_count": null,
            "metadata": {},
            "outputs": [],
            "source": [
                "Math(vlatex(eq.N_eq))"
            ]
        },
        {
            "cell_type": "code",
            "execution_count": null,
            "metadata": {},
            "outputs": [],
            "source": [
                "Math(vlatex(eq.X_eq.rhs-eq.X_eq.lhs))"
            ]
        },
        {
            "cell_type": "code",
            "execution_count": null,
            "metadata": {},
            "outputs": [],
            "source": [
                "Math(vlatex(eq.Y_eq.rhs-eq.Y_eq.lhs))"
            ]
        },
        {
            "cell_type": "code",
            "execution_count": null,
            "metadata": {},
            "outputs": [],
            "source": [
                "Math(vlatex(eq.N_eq.rhs-eq.N_eq.lhs))"
            ]
        },
        {
            "cell_type": "markdown",
            "metadata": {},
            "source": [
                "## Load test"
            ]
        },
        {
            "cell_type": "code",
            "execution_count": null,
            "metadata": {},
            "outputs": [],
            "source": [
                "#id=22773\n",
                "#id=22616\n",
                "id=22774\n",
                "#id=22770\n",
                "\n",
                "\n",
                "df, units, meta_data = mdl.load(id=id, dir_path='../data/processed/kalman')\n",
                "df.index = df.index.total_seconds()\n",
                "df = df.iloc[0:-100].copy()\n",
                "df.index-=df.index[0]\n",
                "df['t'] = df.index\n",
                "df.sort_index(inplace=True)\n",
                "df['-delta'] = -df['delta']\n",
                "df['V'] = np.sqrt(df['u']**2 + df['v']**2)\n",
                "\n",
                "df['thrust'] = df['Prop/PS/Thrust'] + df['Prop/SB/Thrust']\n",
                "df['U'] = df['V']\n",
                "df['beta'] = -np.arctan2(df['v'],df['u'])"
            ]
        },
        {
            "cell_type": "code",
            "execution_count": null,
            "metadata": {},
            "outputs": [],
            "source": [
                "meta_data['rho']=1000\n",
                "meta_data['mass'] = meta_data['Volume']*meta_data['rho']"
            ]
        },
        {
            "cell_type": "code",
            "execution_count": null,
            "metadata": {},
            "outputs": [],
            "source": [
                "from vessel_manoeuvring_models.visualization.plot import track_plot\n",
                "fig,ax=plt.subplots()\n",
                "#fig.set_size_inches(10,10)\n",
                "track_plot(df=df, lpp=meta_data.lpp, x_dataset='x0', y_dataset='y0',  psi_dataset='psi', beam=meta_data.beam, ax=ax);\n",
                "df.plot(y='u')"
            ]
        },
        {
            "cell_type": "markdown",
            "metadata": {},
            "source": [
                "# Ship parameters"
            ]
        },
        {
            "cell_type": "code",
            "execution_count": null,
            "metadata": {},
            "outputs": [],
            "source": [
                "T_ = (meta_data.TA + meta_data.TF)/2\n",
                "L_ = meta_data.lpp\n",
                "m_ = meta_data.mass\n",
                "rho_ = meta_data.rho\n",
                "B_ = meta_data.beam\n",
                "CB_ = m_/(T_*B_*L_*rho_)\n",
                "I_z_ = m_*meta_data.KZZ**2\n",
                "#I_z_=839.725\n",
                "\n",
                "ship_parameters = {\n",
                "        'T' : T_,\n",
                "        'L' : L_,\n",
                "        'CB' :CB_,\n",
                "        'B' : B_,\n",
                "        'rho' : rho_,\n",
                "        #'x_G' : meta_data.lcg,  # motions are expressed at CG\n",
                "        'x_G' : 0,  # motions are expressed at CG\n",
                "        \n",
                "        'm' : m_,\n",
                "        'I_z': I_z_, \n",
                "        'volume':meta_data.Volume,\n",
                "    }\n",
                "\n",
                "ps = prime_system.PrimeSystem(**ship_parameters)  # model\n",
                "\n",
                "scale_factor = meta_data.scale_factor\n",
                "ps_ship = prime_system.PrimeSystem(L=ship_parameters['L']*scale_factor, rho=meta_data['rho'])  # ship\n",
                "ship_parameters_prime = ps.prime(ship_parameters)"
            ]
        },
        {
            "cell_type": "code",
            "execution_count": null,
            "metadata": {},
            "outputs": [],
            "source": [
                "I_z_+m_*meta_data.lcg**2  # Steiner rule..."
            ]
        },
        {
            "cell_type": "code",
            "execution_count": null,
            "metadata": {},
            "outputs": [],
            "source": [
                "I_z_"
            ]
        },
        {
            "cell_type": "code",
            "execution_count": null,
            "metadata": {},
            "outputs": [],
            "source": [
                "ship_parameters"
            ]
        },
        {
            "cell_type": "code",
            "execution_count": null,
            "metadata": {},
            "outputs": [],
            "source": [
                "ship_parameters_prime"
            ]
        },
        {
            "cell_type": "markdown",
            "metadata": {},
            "source": [
                "## Prime system"
            ]
        },
        {
            "cell_type": "code",
            "execution_count": null,
            "metadata": {},
            "outputs": [],
            "source": [
                "interesting = ['x0','y0','psi','u','v','r','u1d','v1d','r1d','U','t','delta','thrust','beta']\n",
                "df_prime = ps.prime(df[interesting], U=df['U'])\n",
                "df_prime.set_index('t', inplace=True)"
            ]
        },
        {
            "cell_type": "code",
            "execution_count": null,
            "metadata": {},
            "outputs": [],
            "source": [
                "fig,ax=plt.subplots()\n",
                "#fig.set_size_inches(10,10)\n",
                "track_plot(df=df_prime, lpp=ship_parameters_prime['L'], beam=ship_parameters_prime['B'],\n",
                "           x_dataset='x0', y_dataset='y0',  psi_dataset='psi', ax=ax);\n",
                "\n",
                "df_prime.plot(y='u')"
            ]
        },
        {
            "cell_type": "code",
            "execution_count": null,
            "metadata": {},
            "outputs": [],
            "source": [
                "df.index"
            ]
        },
        {
            "cell_type": "code",
            "execution_count": null,
            "metadata": {},
            "outputs": [],
            "source": [
                "df_prime.index"
            ]
        },
        {
            "cell_type": "code",
            "execution_count": null,
            "metadata": {},
            "outputs": [],
            "source": [
                "t_ = np.array([0,1,2])\n",
                "U_ = np.array([1,2,2])\n",
                "t_prime = ps._prime(t_, unit='time', U=U_)\n",
                "t_prime"
            ]
        },
        {
            "cell_type": "code",
            "execution_count": null,
            "metadata": {},
            "outputs": [],
            "source": [
                "ps._unprime(t_prime, unit='time', U=U_)"
            ]
        },
        {
            "cell_type": "markdown",
            "metadata": {},
            "source": [
                "# Brix parameters"
            ]
        },
        {
            "cell_type": "code",
            "execution_count": null,
            "metadata": {},
            "outputs": [],
            "source": [
                "def calculate_prime(row, ship_parameters):\n",
                "    return run(function=row['brix_lambda'], inputs=ship_parameters)\n",
                "\n",
                "\n",
                "mask = df_parameters['brix_lambda'].notnull()\n",
                "df_parameters.loc[mask,'brix_prime'] = df_parameters.loc[mask].apply(calculate_prime, ship_parameters=ship_parameters, axis=1)\n",
                "\n",
                "df_parameters.loc['Ydelta','brix_prime'] = 0.0004  # Just guessing\n",
                "df_parameters.loc['Ndelta','brix_prime'] = -df_parameters.loc['Ydelta','brix_prime']/4  # Just guessing\n",
                "\n",
                "df_parameters['brix_prime'].fillna(0, inplace=True)\n",
                "#df_parameters['brix_SI'].fillna(0, inplace=True)\n",
                "\n"
            ]
        },
        {
            "cell_type": "markdown",
            "metadata": {},
            "source": [
                "## Simulate with Brix"
            ]
        },
        {
            "cell_type": "code",
            "execution_count": null,
            "metadata": {},
            "outputs": [],
            "source": [
                "X_eq = eq.X_eq.copy()\n",
                "Y_eq = eq.Y_eq.copy()\n",
                "N_eq = eq.N_eq.copy()\n",
                "\n",
                "\n",
                "subs=[\n",
                "    #(x_G,0),\n",
                "    (eq.p.Xvdot,0),\n",
                "    (eq.p.Xrdot,0),\n",
                "    (eq.p.Yudot,0),\n",
                "    (eq.p.Yrdot,0),\n",
                "    (eq.p.Nudot,0),\n",
                "    (eq.p.Nvdot,0),   \n",
                "]\n",
                "\n",
                "X_eq = X_eq.subs(subs)\n",
                "Y_eq = Y_eq.subs(subs)\n",
                "N_eq = N_eq.subs(subs)\n",
                "\n",
                "\n",
                "eqs = [X_eq, Y_eq, N_eq]\n",
                "solution = sp.solve(eqs, u1d, v1d, r1d, dict=True)\n",
                "\n",
                "## Decouple the equations:\n",
                "u1d_eq = sp.Eq(u1d, solution[0][u1d]) \n",
                "v1d_eq = sp.Eq(v1d, solution[0][v1d]) \n",
                "r1d_eq = sp.Eq(r1d, solution[0][r1d])\n",
                "\n",
                "\n",
                "## Lambdify:\n",
                "subs = {value:key for key,value in eq.p.items()}\n",
                "u1d_lambda = lambdify(u1d_eq.subs(subs).rhs)\n",
                "v1d_lambda = lambdify(v1d_eq.subs(subs).rhs)\n",
                "r1d_lambda = lambdify(r1d_eq.subs(subs).rhs)\n",
                "\n",
                "\n",
                "\n"
            ]
        },
        {
            "cell_type": "code",
            "execution_count": null,
            "metadata": {},
            "outputs": [],
            "source": [
                "from scipy.spatial.transform import Rotation as R\n",
                "\n",
                "def step(t, states, parameters, ship_parameters, control):\n",
                "\n",
                "    u,v,r,x0,y0,psi = states\n",
                "    states_dict = {\n",
                "        'u':u,\n",
                "        'v':v,\n",
                "        'r':r,\n",
                "        'x0':x0,\n",
                "        'y0':y0,\n",
                "        'psi':psi,\n",
                "        \n",
                "        }\n",
                "    \n",
                "    inputs = dict(parameters)\n",
                "    inputs.update(ship_parameters)\n",
                "    inputs.update(states_dict)\n",
                "    \n",
                "    if isinstance(control, pd.DataFrame):\n",
                "        index = np.argmin(np.array(np.abs(control.index - t)))\n",
                "        control_ = dict(control.iloc[index])\n",
                "    else:\n",
                "        control_ = control\n",
                "    inputs.update(control_)\n",
                "    \n",
                "    inputs['U'] = np.sqrt(u**2 + v**2)  #Instantanious velocity\n",
                "    u1d = run(function=u1d_lambda, inputs=inputs)\n",
                "    v1d = run(function=v1d_lambda, inputs=inputs)\n",
                "    r1d = run(function=r1d_lambda, inputs=inputs)\n",
                "    rotation = R.from_euler('z', psi, degrees=False)\n",
                "    w = 0\n",
                "    velocities = rotation.apply([u,v,w])\n",
                "    x01d = velocities[0]\n",
                "    y01d = velocities[1]\n",
                "    psi1d = r    \n",
                "    dstates = [\n",
                "        u1d,\n",
                "        v1d,\n",
                "        r1d,\n",
                "        x01d,\n",
                "        y01d,\n",
                "        psi1d,\n",
                "    ]    \n",
                "    return dstates"
            ]
        },
        {
            "cell_type": "code",
            "execution_count": null,
            "metadata": {},
            "outputs": [],
            "source": [
                "fig,ax=plt.subplots()\n",
                "df_prime.plot(y='delta', ax=ax)\n",
                "df_cut_prime = df_prime.iloc[2000:12000]\n",
                "df_cut_prime.plot(y='delta', ax=ax, style='--', label='cut')"
            ]
        },
        {
            "cell_type": "code",
            "execution_count": null,
            "metadata": {},
            "outputs": [],
            "source": [
                "def simulate(df_, parameters, ship_parameters):\n",
                "    \n",
                "    t = df_.index\n",
                "    t_span = [t.min(),t.max()]\n",
                "    t_eval = np.linspace(t.min(),t.max(),len(t))\n",
                "    \n",
                "    #control = df_[['delta','thrust']]\n",
                "    control = {\n",
                "        'delta': df_[['delta']].mean()\n",
                "    }\n",
                "    \n",
                "    df_0 = df_.iloc[0:100].median(axis=0)\n",
                "    y0 = {\n",
                "        'u' : df_0['u'], \n",
                "        'v' : df_0['v'],\n",
                "        'r' : df_0['r'],\n",
                "        'x0' : df_0['x0'],\n",
                "        'y0' : df_0['y0'],\n",
                "        'psi' : df_0['psi']\n",
                "        }\n",
                "    \n",
                "    solution = solve_ivp(fun=step, t_span=t_span, y0=list(y0.values()), t_eval=t_eval, \n",
                "                args=(parameters, ship_parameters, control))\n",
                "    \n",
                "    columns = list(y0.keys())\n",
                "    df_result = pd.DataFrame(data=solution.y.T, columns=columns)\n",
                "    df_result.index=t[0:len(df_result)]\n",
                "    \n",
                "    df_result['beta'] = -np.arctan2(df_result['v'],df_result['u'])\n",
                "    \n",
                "    return solution, df_result"
            ]
        },
        {
            "cell_type": "code",
            "execution_count": null,
            "metadata": {},
            "outputs": [],
            "source": [
                "solution, df_result_brix = simulate(df_cut_prime, parameters = df_parameters['brix_prime'], ship_parameters=ship_parameters_prime)"
            ]
        },
        {
            "cell_type": "code",
            "execution_count": null,
            "metadata": {},
            "outputs": [],
            "source": [
                "fig,ax=plt.subplots()\n",
                "track_plot(df=df_cut_prime, lpp=ship_parameters_prime['L'], beam=ship_parameters_prime['B'],ax=ax, label='model test')\n",
                "track_plot(df=df_result_brix, lpp=ship_parameters_prime['L'], beam=ship_parameters_prime['B'],ax=ax, label='simulation', color='green')\n",
                "ax.legend()\n",
                "\n",
                "\n",
                "for key in df_result_brix:\n",
                "    fig,ax = plt.subplots()\n",
                "    df_cut_prime.plot(y=key, label='model test', ax=ax)\n",
                "    df_result_brix.plot(y=key, label='simulation', ax=ax)\n",
                "    ax.set_ylabel(key)"
            ]
        },
        {
            "cell_type": "markdown",
            "metadata": {},
            "source": [
                "## Back to SI"
            ]
        },
        {
            "cell_type": "code",
            "execution_count": null,
            "metadata": {},
            "outputs": [],
            "source": [
                "fig,ax=plt.subplots()\n",
                "ax.plot(df.index,df_prime.index)"
            ]
        },
        {
            "cell_type": "code",
            "execution_count": null,
            "metadata": {},
            "outputs": [],
            "source": [
                "U_ = ship_parameters['L']*df_prime.index/df.index\n",
                "df_unprime = ps.unprime(df_prime, U=U_)\n",
                "df_unprime.index = ps._unprime(df_prime.index,unit='time',U=U_)"
            ]
        },
        {
            "cell_type": "code",
            "execution_count": null,
            "metadata": {},
            "outputs": [],
            "source": [
                "fig,ax=plt.subplots()\n",
                "#fig.set_size_inches(10,10)\n",
                "track_plot(df=df, lpp=meta_data.lpp, x_dataset='x0', y_dataset='y0',  psi_dataset='psi', beam=meta_data.beam, ax=ax);\n",
                "track_plot(df=df_unprime, lpp=meta_data.lpp, x_dataset='x0', y_dataset='y0',  psi_dataset='psi', beam=meta_data.beam, ax=ax);\n",
                "\n",
                "fig,ax=plt.subplots()\n",
                "df.plot(y='u',ax=ax)\n",
                "df_unprime.plot(y='u', style='--', ax=ax)\n",
                "\n",
                "fig,ax=plt.subplots()\n",
                "df.plot(y='v',ax=ax)\n",
                "df_unprime.plot(y='v', style='--', ax=ax)"
            ]
        },
        {
            "cell_type": "markdown",
            "metadata": {},
            "source": [
                "# VCT regression"
            ]
        },
        {
            "cell_type": "markdown",
            "metadata": {},
            "source": [
                "## Load VCT data"
            ]
        },
        {
            "cell_type": "code",
            "execution_count": null,
            "metadata": {},
            "outputs": [],
            "source": [
                "df_VCT_all = pd.read_csv('../data/external/vct.csv', index_col=0)\n",
                "df_VCT_all.head()"
            ]
        },
        {
            "cell_type": "code",
            "execution_count": null,
            "metadata": {},
            "outputs": [],
            "source": [
                "df_VCT = df_VCT_all.groupby(by=['model_name']).get_group('V2_5_MDL_modelScale')"
            ]
        },
        {
            "cell_type": "code",
            "execution_count": null,
            "metadata": {},
            "outputs": [],
            "source": [
                "df_VCT['test type'].unique()"
            ]
        },
        {
            "cell_type": "markdown",
            "metadata": {},
            "source": [
                "# Subtract the resistance"
            ]
        },
        {
            "cell_type": "code",
            "execution_count": null,
            "metadata": {},
            "outputs": [],
            "source": [
                "df_resistance = df_VCT.groupby(by='test type').get_group('resistance')\n",
                "\n",
                "X = df_resistance[['u','fx']].copy()\n",
                "X['u**2'] = X['u']**2\n",
                "y = X.pop('fx')\n",
                "\n",
                "model_resistance = sm.OLS(y,X)\n",
                "results_resistance = model_resistance.fit()\n",
                "\n",
                "X_pred = pd.DataFrame()\n",
                "X_pred['u'] = np.linspace(X['u'].min(), X['u'].max(), 20)\n",
                "X_pred['u**2'] = X_pred['u']**2\n",
                "X_pred['fx'] = results_resistance.predict(X_pred)\n",
                "\n",
                "fig,ax=plt.subplots()\n",
                "df_resistance.plot(x='u', y='fx', style='.', ax=ax)\n",
                "X_pred.plot(x='u', y='fx', style='--', ax=ax);\n"
            ]
        },
        {
            "cell_type": "code",
            "execution_count": null,
            "metadata": {},
            "outputs": [],
            "source": [
                "df_VCT_0_resistance = df_VCT.copy()\n",
                "df_VCT_0_resistance['u**2'] = df_VCT_0_resistance['u']**2\n",
                "df_VCT_0_resistance['fx']-= results_resistance.predict(df_VCT_0_resistance[['u','u**2']])"
            ]
        },
        {
            "cell_type": "markdown",
            "metadata": {},
            "source": [
                "## VCT to prime system"
            ]
        },
        {
            "cell_type": "code",
            "execution_count": null,
            "metadata": {},
            "outputs": [],
            "source": [
                "interesting = [\n",
                "    'u',\n",
                "    'v',\n",
                "    'r',\n",
                "    'delta',\n",
                "    'fx',\n",
                "    'fy',\n",
                "    'mz',\n",
                "    'thrust',\n",
                "]\n",
                "df_VCT_prime = ps_ship.prime(df_VCT_0_resistance[interesting], U=df_VCT_0_resistance['V'])"
            ]
        },
        {
            "cell_type": "code",
            "execution_count": null,
            "metadata": {},
            "outputs": [],
            "source": [
                "from statsmodels.sandbox.regression.predstd import wls_prediction_std\n",
                "def show_pred_vct(X,y,results, label):\n",
                "    \n",
                "    display(results.summary())\n",
                "    \n",
                "    X_ = X.copy()\n",
                "    X_['y'] = y\n",
                "    X_.sort_values(by='y', inplace=True)\n",
                "        \n",
                "    y_ = X_.pop('y')\n",
                "    \n",
                "    y_pred = results.predict(X_)\n",
                "    \n",
                "    prstd, iv_l, iv_u = wls_prediction_std(results, exog=X_, alpha=0.05)\n",
                "    #iv_l*=-1 \n",
                "    #iv_u*=-1\n",
                "    \n",
                "    fig,ax=plt.subplots()\n",
                "    #ax.plot(X_.index,y_, label='Numerical gradient from model test')\n",
                "    #ax.plot(X_.index,y_pred, '--', label='OLS')\n",
                "    \n",
                "    ax.plot(y_,y_pred, '.')\n",
                "    ax.plot([y_.min(),y_.max()], [y_.min(),y_.max()], 'r-')\n",
                "    \n",
                "    ax.set_ylabel(f'{label} (prediction)')    \n",
                "    ax.set_xlabel(label)\n",
                "    \n",
                "    ax.fill_between(y_, y1=iv_l, y2=iv_u, zorder=-10, color='grey', alpha=0.5, label=r'5% confidence')\n",
                "    ax.legend();"
            ]
        },
        {
            "cell_type": "markdown",
            "metadata": {},
            "source": [
                "## N"
            ]
        },
        {
            "cell_type": "code",
            "execution_count": null,
            "metadata": {},
            "outputs": [],
            "source": [
                "eq.N_qs_eq"
            ]
        },
        {
            "cell_type": "code",
            "execution_count": null,
            "metadata": {},
            "outputs": [],
            "source": [
                "label = sp.symbols('N_qs')\n",
                "N_eq_ = eq.N_qs_eq.subs(N_qs,label)\n",
                "diff_eq_N = regression.DiffEqToMatrix(ode=N_eq_, label=label, base_features=[delta,u,v,r])"
            ]
        },
        {
            "cell_type": "code",
            "execution_count": null,
            "metadata": {},
            "outputs": [],
            "source": [
                "Math(vlatex(diff_eq_N.acceleration_equation))"
            ]
        },
        {
            "cell_type": "code",
            "execution_count": null,
            "metadata": {},
            "outputs": [],
            "source": [
                "X = diff_eq_N.calculate_features(data=df_VCT_prime)\n",
                "y = diff_eq_N.calculate_label(y=df_VCT_prime['mz'])\n",
                "\n",
                "model_N = sm.OLS(y,X)\n",
                "results_N = model_N.fit()\n",
                "\n",
                "show_pred_vct(X=X,y=y,results=results_N, label=r'$N$')"
            ]
        },
        {
            "cell_type": "markdown",
            "metadata": {},
            "source": [
                "## Y"
            ]
        },
        {
            "cell_type": "code",
            "execution_count": null,
            "metadata": {},
            "outputs": [],
            "source": [
                "eq.Y_qs_eq"
            ]
        },
        {
            "cell_type": "code",
            "execution_count": null,
            "metadata": {},
            "outputs": [],
            "source": [
                "label = sp.symbols('Y_qs')\n",
                "Y_eq_ = eq.Y_qs_eq.subs(Y_qs,label)\n",
                "diff_eq_Y = regression.DiffEqToMatrix(ode=Y_eq_, label=label, base_features=[delta,u,v,r])"
            ]
        },
        {
            "cell_type": "code",
            "execution_count": null,
            "metadata": {},
            "outputs": [],
            "source": [
                "Math(vlatex(diff_eq_Y.acceleration_equation))"
            ]
        },
        {
            "cell_type": "code",
            "execution_count": null,
            "metadata": {},
            "outputs": [],
            "source": [
                "X = diff_eq_Y.calculate_features(data=df_VCT_prime)\n",
                "y = diff_eq_Y.calculate_label(y=df_VCT_prime['fy'])\n",
                "\n",
                "model_Y = sm.OLS(y,X)\n",
                "results_Y = model_Y.fit()\n",
                "\n",
                "show_pred_vct(X=X,y=y,results=results_Y, label=r'$Y$')"
            ]
        },
        {
            "cell_type": "markdown",
            "metadata": {},
            "source": [
                "## X"
            ]
        },
        {
            "cell_type": "code",
            "execution_count": null,
            "metadata": {},
            "outputs": [],
            "source": [
                "eq.X_qs_eq"
            ]
        },
        {
            "cell_type": "code",
            "execution_count": null,
            "metadata": {},
            "outputs": [],
            "source": [
                "label = sp.symbols('X_qs')\n",
                "X_eq_ = eq.X_qs_eq.subs(X_qs,label)\n",
                "diff_eq_X = regression.DiffEqToMatrix(ode=X_eq_, label=label, base_features=[delta,u,v,r])"
            ]
        },
        {
            "cell_type": "code",
            "execution_count": null,
            "metadata": {},
            "outputs": [],
            "source": [
                "Math(vlatex(diff_eq_X.acceleration_equation))"
            ]
        },
        {
            "cell_type": "code",
            "execution_count": null,
            "metadata": {},
            "outputs": [],
            "source": [
                "X = diff_eq_X.calculate_features(data=df_VCT_prime)\n",
                "y = diff_eq_X.calculate_label(y=df_VCT_prime['fx'])\n",
                "\n",
                "model_X = sm.OLS(y,X)\n",
                "results_X = model_X.fit()\n",
                "\n",
                "show_pred_vct(X=X,y=y,results=results_X, label=r'$X$')"
            ]
        },
        {
            "cell_type": "code",
            "execution_count": null,
            "metadata": {},
            "outputs": [],
            "source": [
                "results_summary_X = regression.results_summary_to_dataframe(results_X)\n",
                "results_summary_Y = regression.results_summary_to_dataframe(results_Y)\n",
                "results_summary_N = regression.results_summary_to_dataframe(results_N)"
            ]
        },
        {
            "cell_type": "markdown",
            "metadata": {},
            "source": [
                "## Add the regressed parameters\n",
                "Hydrodynamic derivatives that depend on acceleration cannot be obtained from the VCT regression. They are however essential if a time simulation should be conducted. These values have then been taken from Brix semi empirical formulas for the simulations below."
            ]
        },
        {
            "cell_type": "code",
            "execution_count": null,
            "metadata": {},
            "outputs": [],
            "source": [
                "df_parameters_all = df_parameters.copy()\n",
                "for other in [results_summary_X, results_summary_Y, results_summary_N]:\n",
                "    df_parameters_all = df_parameters_all.combine_first(other)\n",
                "\n",
                "df_parameters_all.rename(columns={'coeff':'regressed'}, inplace=True)\n",
                "df_parameters_all.drop(columns=['brix_lambda'], inplace=True)\n",
                "\n",
                "df_parameters_all['prime'] = df_parameters_all['regressed'].combine_first(df_parameters_all['brix_prime'])  # prefer regressed"
            ]
        },
        {
            "cell_type": "code",
            "execution_count": null,
            "metadata": {},
            "outputs": [],
            "source": [
                "fig,ax=plt.subplots()\n",
                "fig.set_size_inches(15,5)\n",
                "\n",
                "mask = ((df_parameters_all['brix_prime']!=0) |\n",
                "        (pd.notnull(df_parameters_all['regressed'])))\n",
                "                \n",
                "df_parameters_all_plot = df_parameters_all.loc[mask]\n",
                "df_parameters_all_plot.plot.bar(y=['brix_prime','regressed'], ax=ax);"
            ]
        },
        {
            "cell_type": "markdown",
            "metadata": {},
            "source": [
                "## Simulate"
            ]
        },
        {
            "cell_type": "code",
            "execution_count": null,
            "metadata": {},
            "outputs": [],
            "source": [
                "solution, df_result_VCT = simulate(df_cut_prime, parameters = df_parameters_all['prime'], ship_parameters=ship_parameters_prime)"
            ]
        },
        {
            "cell_type": "code",
            "execution_count": null,
            "metadata": {},
            "outputs": [],
            "source": [
                "fig,ax=plt.subplots()\n",
                "track_plot(df=df_cut_prime, lpp=ship_parameters_prime['L'], beam=ship_parameters_prime['B'],ax=ax, label='model test')\n",
                "track_plot(df=df_result_VCT, lpp=ship_parameters_prime['L'], beam=ship_parameters_prime['B'],ax=ax, label='simulation', color='green')\n",
                "ax.legend()\n",
                "\n",
                "\n",
                "for key in df_result_VCT:\n",
                "    fig,ax = plt.subplots()\n",
                "    df_cut_prime.plot(y=key, label='model test', ax=ax)\n",
                "    df_result_VCT.plot(y=key, label='simulation', ax=ax)\n",
                "    ax.set_ylabel(key)"
            ]
        },
        {
            "cell_type": "markdown",
            "metadata": {},
            "source": [
                "# Time series PIT"
            ]
        },
        {
            "cell_type": "code",
            "execution_count": null,
            "metadata": {},
            "outputs": [],
            "source": [
                "from statsmodels.sandbox.regression.predstd import wls_prediction_std\n",
                "def show_pred(X,y,results, label):\n",
                "    \n",
                "    display(results.summary())\n",
                "    \n",
                "    X_ = X\n",
                "    y_ = y\n",
                "    y_pred = results.predict(X_)\n",
                "    \n",
                "    prstd, iv_l, iv_u = wls_prediction_std(results, exog=X_, alpha=0.05)\n",
                "    #iv_l*=-1 \n",
                "    #iv_u*=-1\n",
                "    \n",
                "    fig,ax=plt.subplots()\n",
                "    ax.plot(X_.index,y_, label='Numerical gradient from model test')\n",
                "    ax.plot(X_.index,y_pred, '--', label='OLS')\n",
                "    ax.set_ylabel(label)\n",
                "    \n",
                "    ax.fill_between(X_.index, y1=iv_l, y2=iv_u, zorder=-10, color='grey', alpha=0.5, label=r'5\\% confidence')\n",
                "    ax.legend();"
            ]
        },
        {
            "cell_type": "markdown",
            "metadata": {},
            "source": [
                "## N"
            ]
        },
        {
            "cell_type": "code",
            "execution_count": null,
            "metadata": {},
            "outputs": [],
            "source": [
                "N_eq_ = N_eq.copy()\n",
                "N_eq_ = N_eq_.subs([\n",
                "    (x_G,0),  # Assuming or moving to CG=0\n",
                "#    #(I_z,1),  # Removing inertia\n",
                "#    #(eq.p.Nrdot,0),  # Removing added mass\n",
                "#    #(eq.p.Nvdot,0),  # Removing added mass\n",
                "#    #(eq.p.Nudot,0),  # Removing added mass\n",
                "#    \n",
                "])  \n",
                "\n",
                "solution = sp.solve(N_eq_,r1d)[0]\n",
                "inertia_ = (I_z-eq.p.Nrdot)\n",
                "N_eq_ = sp.Eq(r1d*inertia_, solution*inertia_)\n"
            ]
        },
        {
            "cell_type": "code",
            "execution_count": null,
            "metadata": {},
            "outputs": [],
            "source": [
                "Math(vlatex(N_eq_))"
            ]
        },
        {
            "cell_type": "code",
            "execution_count": null,
            "metadata": {},
            "outputs": [],
            "source": [
                "label_N = N_eq_.lhs\n",
                "diff_eq_N = regression.DiffEqToMatrix(ode=N_eq_, label=label_N, base_features=[delta,u,v,r])"
            ]
        },
        {
            "cell_type": "code",
            "execution_count": null,
            "metadata": {},
            "outputs": [],
            "source": [
                "Math(vlatex(diff_eq_N.acceleration_equation))"
            ]
        },
        {
            "cell_type": "code",
            "execution_count": null,
            "metadata": {},
            "outputs": [],
            "source": [
                "Math(vlatex(diff_eq_N.acceleration_equation_x))"
            ]
        },
        {
            "cell_type": "code",
            "execution_count": null,
            "metadata": {},
            "outputs": [],
            "source": [
                "Math(vlatex(diff_eq_N.eq_y))"
            ]
        },
        {
            "cell_type": "code",
            "execution_count": null,
            "metadata": {},
            "outputs": [],
            "source": [
                "diff_eq_N.eq_beta"
            ]
        },
        {
            "cell_type": "code",
            "execution_count": null,
            "metadata": {},
            "outputs": [],
            "source": [
                "Math(vlatex(diff_eq_N.eq_X))"
            ]
        },
        {
            "cell_type": "code",
            "execution_count": null,
            "metadata": {},
            "outputs": [],
            "source": [
                "diff_eq_N.y_lambda"
            ]
        },
        {
            "cell_type": "code",
            "execution_count": null,
            "metadata": {},
            "outputs": [],
            "source": [
                "X = diff_eq_N.calculate_features(data=df_prime)\n",
                "y = run(function=diff_eq_N.y_lambda, inputs=df_prime, **ship_parameters_prime, **df_parameters_all['brix_prime'])\n",
                "\n",
                "model_N = sm.OLS(y,X)\n",
                "results_N = model_N.fit()\n",
                "\n",
                "show_pred(X=X,y=y,results=results_N, label=r'$%s$' % vlatex(label_N))"
            ]
        },
        {
            "cell_type": "markdown",
            "metadata": {},
            "source": [
                "## Y"
            ]
        },
        {
            "cell_type": "code",
            "execution_count": null,
            "metadata": {},
            "outputs": [],
            "source": [
                "Y_eq_ = Y_eq.copy()\n",
                "Y_eq_ = Y_eq.subs([\n",
                "    (x_G,0),  # Assuming or moving to CG=0\n",
                "#    #(I_z,1),  # Removing inertia\n",
                "#    #(eq.p.Nrdot,0),  # Removing added mass\n",
                "#    #(eq.p.Nvdot,0),  # Removing added mass\n",
                "#    #(eq.p.Nudot,0),  # Removing added mass\n",
                "#    \n",
                "])  \n",
                "\n",
                "solution = sp.solve(Y_eq_,v1d)[0]\n",
                "inertia_ = (eq.p.Yvdot-m)\n",
                "Y_eq_ = sp.simplify(sp.Eq(v1d*inertia_-U*m*r, solution*inertia_-U*m*r))\n",
                "\n",
                "Math(vlatex(Y_eq_))"
            ]
        },
        {
            "cell_type": "code",
            "execution_count": null,
            "metadata": {},
            "outputs": [],
            "source": [
                "label_Y = Y_eq_.rhs\n",
                "diff_eq_Y = regression.DiffEqToMatrix(ode=Y_eq_, label=label_Y, base_features=[delta,u,v,r])"
            ]
        },
        {
            "cell_type": "code",
            "execution_count": null,
            "metadata": {},
            "outputs": [],
            "source": [
                "X = diff_eq_Y.calculate_features(data=df_prime)\n",
                "y = run(function=diff_eq_Y.y_lambda, inputs=df_prime, **ship_parameters_prime, **df_parameters_all['brix_prime'])\n",
                "\n",
                "model_Y = sm.OLS(y,X)\n",
                "results_Y = model_Y.fit()\n",
                "\n",
                "show_pred(X=X,y=y,results=results_Y, label=r'$%s$' % vlatex(label_Y))"
            ]
        },
        {
            "cell_type": "markdown",
            "metadata": {},
            "source": [
                "## X"
            ]
        },
        {
            "cell_type": "code",
            "execution_count": null,
            "metadata": {},
            "outputs": [],
            "source": [
                "X_eq_ = X_eq.copy()\n",
                "X_eq_ = X_eq_.subs([\n",
                "    (x_G,0),  # Assuming or moving to CG=0\n",
                "#    #(I_z,1),  # Removing inertia\n",
                "#    #(eq.p.Nrdot,0),  # Removing added mass\n",
                "#    #(eq.p.Nvdot,0),  # Removing added mass\n",
                "#    #(eq.p.Nudot,0),  # Removing added mass\n",
                "#    \n",
                "])  \n",
                "\n",
                "solution = sp.solve(X_eq_,u1d)[0]\n",
                "inertia_ = m-eq.p.Xudot\n",
                "X_eq_ = sp.simplify(sp.Eq(u1d*inertia_, solution*inertia_))\n",
                "\n",
                "Math(vlatex(X_eq_))"
            ]
        },
        {
            "cell_type": "code",
            "execution_count": null,
            "metadata": {},
            "outputs": [],
            "source": [
                "label_X = X_eq_.lhs\n",
                "diff_eq_X = regression.DiffEqToMatrix(ode=X_eq_, label=label_X, base_features=[delta,u,v,r])"
            ]
        },
        {
            "cell_type": "code",
            "execution_count": null,
            "metadata": {},
            "outputs": [],
            "source": [
                "X = diff_eq_X.calculate_features(data=df_prime)\n",
                "y = run(function=diff_eq_X.y_lambda, inputs=df_prime, **ship_parameters_prime, **df_parameters_all['brix_prime'])\n",
                "\n",
                "model_X = sm.OLS(y,X)\n",
                "results_X = model_X.fit()\n",
                "\n",
                "show_pred(X=X,y=y,results=results_X, label=r'$%s$' % vlatex(label_X))"
            ]
        },
        {
            "cell_type": "code",
            "execution_count": null,
            "metadata": {},
            "outputs": [],
            "source": [
                "results_summary_X = regression.results_summary_to_dataframe(results_X)\n",
                "results_summary_Y = regression.results_summary_to_dataframe(results_Y)\n",
                "results_summary_N = regression.results_summary_to_dataframe(results_N)"
            ]
        },
        {
            "cell_type": "markdown",
            "metadata": {},
            "source": [
                "## Add regressed parameters"
            ]
        },
        {
            "cell_type": "code",
            "execution_count": null,
            "metadata": {},
            "outputs": [],
            "source": [
                "results = pd.concat([results_summary_X, results_summary_Y, results_summary_N],axis=0)\n",
                "df_parameters_all['PIT'] = results['coeff']\n",
                "df_parameters_all['PIT'] = df_parameters_all['PIT'].combine_first(df_parameters_all['brix_prime'])  # prefer regressed"
            ]
        },
        {
            "cell_type": "code",
            "execution_count": null,
            "metadata": {},
            "outputs": [],
            "source": [
                "fig,ax=plt.subplots()\n",
                "fig.set_size_inches(15,5)\n",
                "\n",
                "mask = ((df_parameters_all['brix_prime']!=0) |\n",
                "        (pd.notnull(df_parameters_all['regressed'])) | \n",
                "        (df_parameters_all['PIT']!=0)\n",
                "        \n",
                "       )\n",
                "                \n",
                "df_parameters_all_plot = df_parameters_all.loc[mask]\n",
                "df_parameters_all_plot.plot.bar(y=['brix_prime','regressed','PIT'], ax=ax);"
            ]
        },
        {
            "cell_type": "markdown",
            "metadata": {},
            "source": [
                "## Simulate"
            ]
        },
        {
            "cell_type": "code",
            "execution_count": null,
            "metadata": {},
            "outputs": [],
            "source": [
                "parameters = df_parameters_all['PIT'].copy()\n",
                "#parameters['Xv']=0\n",
                "#parameters['Xr']=0\n",
                "#parameters['Xu']=0\n",
                "#parameters['Xdelta']=0\n",
                "#parameters['Nv']*=-1\n",
                "\n",
                "\n",
                "\n",
                "solution, df_result_PIT = simulate(df_cut_prime, parameters = parameters, ship_parameters=ship_parameters_prime)"
            ]
        },
        {
            "cell_type": "code",
            "execution_count": null,
            "metadata": {},
            "outputs": [],
            "source": [
                "fig,ax=plt.subplots()\n",
                "track_plot(df=df_cut_prime, lpp=ship_parameters_prime['L'], beam=ship_parameters_prime['B'],ax=ax, label='model test')\n",
                "track_plot(df=df_result_PIT, lpp=ship_parameters_prime['L'], beam=ship_parameters_prime['B'],ax=ax, label='simulation', color='green')\n",
                "ax.legend()\n",
                "\n",
                "\n",
                "for key in df_result_PIT:\n",
                "    fig,ax = plt.subplots()\n",
                "    df_cut_prime.plot(y=key, label='model test', ax=ax)\n",
                "    df_result_PIT.plot(y=key, label='simulation', ax=ax)\n",
                "    ax.set_ylabel(key)"
            ]
        },
        {
            "cell_type": "code",
            "execution_count": null,
            "metadata": {},
            "outputs": [],
            "source": []
        }
    ],
    "metadata": {
        "kernelspec": {
            "display_name": "Python 3",
            "language": "python",
            "name": "python3"
        },
        "language_info": {
            "codemirror_mode": {
                "name": "ipython",
                "version": 3
            },
            "file_extension": ".py",
            "mimetype": "text/x-python",
            "name": "python",
            "nbconvert_exporter": "python",
            "pygments_lexer": "ipython3",
            "version": "3.9.5"
        }
    },
    "nbformat": 4,
    "nbformat_minor": 4
}