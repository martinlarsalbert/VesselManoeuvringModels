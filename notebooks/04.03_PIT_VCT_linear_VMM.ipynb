{
    "cells": [
        {
            "cell_type": "markdown",
            "metadata": {},
            "source": [
                "# Parameter Identification Technique (PIT) on static VCT with a linear VMM model"
            ]
        },
        {
            "cell_type": "markdown",
            "metadata": {},
            "source": [
                "# Purpose\n",
                "Is it possible to use a similar regression as used in [04.02_PIT_linear_VMM.ipynb](04.02_PIT_linear_VMM.ipynb) but with data from static Virtual Captive Tests (VCT)?"
            ]
        },
        {
            "cell_type": "markdown",
            "metadata": {},
            "source": [
                "# Methodology\n",
                "* Load static data from VCT\n",
                "* Find the best parameter values in the linear model using OLS linear regression."
            ]
        },
        {
            "cell_type": "markdown",
            "metadata": {},
            "source": [
                "# Setup"
            ]
        },
        {
            "cell_type": "code",
            "execution_count": null,
            "metadata": {},
            "outputs": [],
            "source": [
                "# %load imports.py\n",
                "%matplotlib inline\n",
                "%load_ext autoreload\n",
                "%autoreload 2\n",
                "%config Completer.use_jedi = False  ## (To fix autocomplete)\n",
                "\n",
                "## External packages:\n",
                "import pandas as pd\n",
                "pd.options.display.max_rows = 999\n",
                "pd.options.display.max_columns = 999\n",
                "pd.set_option(\"display.max_columns\", None)\n",
                "\n",
                "import numpy as np\n",
                "import os\n",
                "import matplotlib.pyplot as plt\n",
                "#if os.name == 'nt':\n",
                "#    plt.style.use('presentation.mplstyle')  # Windows\n",
                "\n",
                "import plotly.express as px \n",
                "import plotly.graph_objects as go\n",
                "\n",
                "import seaborn as sns\n",
                "import sympy as sp\n",
                "from sympy.physics.mechanics import (dynamicsymbols, ReferenceFrame,\n",
                "                                      Particle, Point)\n",
                "from sympy.physics.vector.printing import vpprint, vlatex\n",
                "from IPython.display import display, Math, Latex\n",
                "from vessel_manoeuvring_models.substitute_dynamic_symbols import run, lambdify\n",
                "\n",
                "import pyro\n",
                "\n",
                "import sklearn\n",
                "import pykalman\n",
                "from statsmodels.sandbox.regression.predstd import wls_prediction_std\n",
                "import statsmodels.api as sm\n",
                "\n",
                "from scipy.integrate import solve_ivp\n",
                "\n",
                "## Local packages:\n",
                "from vessel_manoeuvring_models.data import mdl\n",
                "from vessel_manoeuvring_models.models import linear_vmm\n",
                "import vessel_manoeuvring_models.linear_vmm_equations as eq\n",
                "import vessel_manoeuvring_models.models.linear_vmm as model\n",
                "from vessel_manoeuvring_models.symbols import *\n",
                "import vessel_manoeuvring_models.symbols as symbols\n",
                "from vessel_manoeuvring_models import prime_system\n",
                "from vessel_manoeuvring_models.models import regression\n",
                "from vessel_manoeuvring_models.visualization.plot import track_plot\n"
            ]
        },
        {
            "cell_type": "markdown",
            "metadata": {},
            "source": [
                "## Load VCT data"
            ]
        },
        {
            "cell_type": "code",
            "execution_count": null,
            "metadata": {},
            "outputs": [],
            "source": [
                "df_VCT_all = pd.read_csv('../data/external/vct.csv', index_col=0)\n",
                "df_VCT_all.head()"
            ]
        },
        {
            "cell_type": "code",
            "execution_count": null,
            "metadata": {},
            "outputs": [],
            "source": [
                "df_VCT = df_VCT_all.groupby(by=['model_name']).get_group('V2_5_MDL_modelScale')"
            ]
        },
        {
            "cell_type": "code",
            "execution_count": null,
            "metadata": {},
            "outputs": [],
            "source": [
                "df_VCT.describe()"
            ]
        },
        {
            "cell_type": "code",
            "execution_count": null,
            "metadata": {},
            "outputs": [],
            "source": [
                "df_VCT['test type'].unique()"
            ]
        },
        {
            "cell_type": "markdown",
            "metadata": {},
            "source": [
                "# Subtract the resistance"
            ]
        },
        {
            "cell_type": "code",
            "execution_count": null,
            "metadata": {},
            "outputs": [],
            "source": [
                "df_resistance = df_VCT.groupby(by='test type').get_group('resistance')\n",
                "\n",
                "X = df_resistance[['u','fx']].copy()\n",
                "X['u**2'] = X['u']**2\n",
                "y = X.pop('fx')\n",
                "\n",
                "model_resistance = sm.OLS(y,X)\n",
                "results_resistance = model_resistance.fit()\n",
                "\n",
                "X_pred = pd.DataFrame()\n",
                "X_pred['u'] = np.linspace(X['u'].min(), X['u'].max(), 20)\n",
                "X_pred['u**2'] = X_pred['u']**2\n",
                "X_pred['fx'] = results_resistance.predict(X_pred)\n",
                "\n",
                "fig,ax=plt.subplots()\n",
                "df_resistance.plot(x='u', y='fx', style='.', ax=ax)\n",
                "X_pred.plot(x='u', y='fx', style='--', ax=ax);\n"
            ]
        },
        {
            "cell_type": "code",
            "execution_count": null,
            "metadata": {},
            "outputs": [],
            "source": [
                "df_VCT_0_resistance = df_VCT.copy()\n",
                "df_VCT_0_resistance['u**2'] = df_VCT_0_resistance['u']**2\n",
                "df_VCT_0_resistance['fx']-= results_resistance.predict(df_VCT_0_resistance[['u','u**2']])"
            ]
        },
        {
            "cell_type": "markdown",
            "metadata": {},
            "source": [
                "## Load test"
            ]
        },
        {
            "cell_type": "code",
            "execution_count": null,
            "metadata": {},
            "outputs": [],
            "source": [
                "df_runs = mdl.runs()"
            ]
        },
        {
            "cell_type": "code",
            "execution_count": null,
            "metadata": {},
            "outputs": [],
            "source": [
                "#id=22773\n",
                "#id=22616\n",
                "#id=22774\n",
                "id=22770\n",
                "\n",
                "\n",
                "df, units, meta_data = mdl.load(id=id, dir_path='../data/processed/kalman')\n",
                "df.index = df.index.total_seconds()\n",
                "df = df.iloc[0:-100].copy()\n",
                "df.index-=df.index[0]\n",
                "df.sort_index(inplace=True)"
            ]
        },
        {
            "cell_type": "code",
            "execution_count": null,
            "metadata": {},
            "outputs": [],
            "source": [
                "meta_data['rho']=1000\n",
                "meta_data['mass'] = meta_data['Volume']*meta_data['rho']\n",
                "meta_data.dropna()"
            ]
        },
        {
            "cell_type": "code",
            "execution_count": null,
            "metadata": {},
            "outputs": [],
            "source": [
                "df.head()"
            ]
        },
        {
            "cell_type": "code",
            "execution_count": null,
            "metadata": {},
            "outputs": [],
            "source": [
                "from vessel_manoeuvring_models.visualization.plot import track_plot\n",
                "fig,ax=plt.subplots()\n",
                "#fig.set_size_inches(10,10)\n",
                "track_plot(df=df, lpp=meta_data.lpp, x_dataset='x0', y_dataset='y0',  psi_dataset='psi', beam=meta_data.beam, ax=ax);"
            ]
        },
        {
            "cell_type": "markdown",
            "metadata": {},
            "source": [
                "# Ship parameters"
            ]
        },
        {
            "cell_type": "code",
            "execution_count": null,
            "metadata": {},
            "outputs": [],
            "source": [
                "T_ = (meta_data.TA + meta_data.TF)/2\n",
                "L_ = meta_data.lpp\n",
                "m_ = meta_data.mass\n",
                "rho_ = meta_data.rho\n",
                "B_ = meta_data.beam\n",
                "CB_ = m_/(T_*B_*L_*rho_)\n",
                "I_z_ = m_*meta_data.KZZ**2\n",
                "\n",
                "ship_parameters = {\n",
                "        'T' : T_,\n",
                "        'L' : L_,\n",
                "        'CB' :CB_,\n",
                "        'B' : B_,\n",
                "        'rho' : rho_,\n",
                "        'x_G' : meta_data.lcg,  # motions are expressed at CG\n",
                "        'm' : m_,\n",
                "        'I_z': I_z_, \n",
                "    }\n",
                "\n",
                "ps = prime_system.PrimeSystem(**ship_parameters)  # model\n",
                "\n",
                "scale_factor = meta_data.scale_factor\n",
                "ps_ship = prime_system.PrimeSystem(L=ship_parameters['L']*scale_factor, rho=meta_data['rho'])  # ship"
            ]
        },
        {
            "cell_type": "markdown",
            "metadata": {},
            "source": [
                "# VCT to prime system"
            ]
        },
        {
            "cell_type": "code",
            "execution_count": null,
            "metadata": {},
            "outputs": [],
            "source": [
                "interesting = [\n",
                "    'u',\n",
                "    'v',\n",
                "    'r',\n",
                "    'delta',\n",
                "    'fx',\n",
                "    'fy',\n",
                "    'mz',\n",
                "    'thrust',\n",
                "]\n",
                "df_VCT_prime = ps_ship.prime(df_VCT_0_resistance[interesting], U=df_VCT_0_resistance['V'])"
            ]
        },
        {
            "cell_type": "code",
            "execution_count": null,
            "metadata": {},
            "outputs": [],
            "source": [
                "df_VCT_prime.describe()"
            ]
        },
        {
            "cell_type": "markdown",
            "metadata": {},
            "source": [
                "# Linear Vessel Manoeuvring Model (VMM)\n",
                "Implementing according to:\n",
                "Matusiak, Jerzy. Dynamics of a Rigid Ship. Aalto University, 2017. https://aaltodoc.aalto.fi:443/handle/123456789/24408."
            ]
        },
        {
            "cell_type": "markdown",
            "metadata": {},
            "source": [
                "## N\n",
                "The yaw is described by the following Ordinary Differential Equation (ODE):"
            ]
        },
        {
            "cell_type": "code",
            "execution_count": null,
            "metadata": {},
            "outputs": [],
            "source": [
                "Math(vlatex(eq.N_eq))"
            ]
        },
        {
            "cell_type": "markdown",
            "metadata": {},
            "source": [
                "The hydrodynamic moment part of this model is:"
            ]
        },
        {
            "cell_type": "code",
            "execution_count": null,
            "metadata": {},
            "outputs": [],
            "source": [
                "Math(vlatex(eq.mz_eq))"
            ]
        },
        {
            "cell_type": "code",
            "execution_count": null,
            "metadata": {},
            "outputs": [],
            "source": [
                "N_eq = eq.mz_eq.copy()\n",
                "N_eq = N_eq.subs([\n",
                "    #(x_G,0),  # Assuming or moving to CG=0\n",
                "    #(I_z,1),  # Removing inertia\n",
                "    #(eq.p.Nrdot,0),  # Removing added mass\n",
                "    \n",
                "    (u1d,0),\n",
                "    (v1d,0),\n",
                "    (r1d,0),\n",
                "\n",
                "    \n",
                "])  \n",
                "\n",
                "#solution = sp.solve(N_eq,r1d)[0]\n",
                "#N_eq = sp.Eq(r1d, solution*(I_z-eq.p.Nrdot))  # Putting r1d on the LHS"
            ]
        },
        {
            "cell_type": "code",
            "execution_count": null,
            "metadata": {},
            "outputs": [],
            "source": [
                "#Math(vlatex(N_eq))"
            ]
        },
        {
            "cell_type": "code",
            "execution_count": null,
            "metadata": {},
            "outputs": [],
            "source": [
                "diff_eq_N = regression.DiffEqToMatrix(ode=N_eq, label=N_lin, base_features=[delta,u,v,r])"
            ]
        },
        {
            "cell_type": "markdown",
            "metadata": {},
            "source": [
                "If accelerations (dotted states) are dropped from this equation, the quasi-static force model is obtained:"
            ]
        },
        {
            "cell_type": "code",
            "execution_count": null,
            "metadata": {},
            "outputs": [],
            "source": [
                "Math(vlatex(diff_eq_N.acceleration_equation))"
            ]
        },
        {
            "cell_type": "markdown",
            "metadata": {},
            "source": [
                "This is a model that now only depend on steady velocities and rudder angle and will be the same thing as the forces/moment coming from the VCT calculations (CFD):\n",
                "\n",
                "$ m_{z}^{VCT} = N_{lin} $\n",
                "\n",
                "The hydrodynamic derivatives (the parameters in the matematical model) can be regressed by solving the following linear regression problem:"
            ]
        },
        {
            "cell_type": "markdown",
            "metadata": {},
            "source": [
                "$ y = X \\cdot \\beta + \\epsilon $"
            ]
        },
        {
            "cell_type": "markdown",
            "metadata": {},
            "source": [
                "Where $y$ and $X$ and $\\beta$ are:"
            ]
        },
        {
            "cell_type": "code",
            "execution_count": null,
            "metadata": {},
            "outputs": [],
            "source": [
                "Math(vlatex(diff_eq_N.acceleration_equation_x))"
            ]
        },
        {
            "cell_type": "code",
            "execution_count": null,
            "metadata": {},
            "outputs": [],
            "source": [
                "Math(vlatex(diff_eq_N.eq_y))"
            ]
        },
        {
            "cell_type": "code",
            "execution_count": null,
            "metadata": {},
            "outputs": [],
            "source": [
                "diff_eq_N.eq_beta"
            ]
        },
        {
            "cell_type": "code",
            "execution_count": null,
            "metadata": {},
            "outputs": [],
            "source": [
                "Math(vlatex(diff_eq_N.eq_X))"
            ]
        },
        {
            "cell_type": "code",
            "execution_count": null,
            "metadata": {},
            "outputs": [],
            "source": [
                "diff_eq_N.X_lambda"
            ]
        },
        {
            "cell_type": "code",
            "execution_count": null,
            "metadata": {},
            "outputs": [],
            "source": [
                "from statsmodels.sandbox.regression.predstd import wls_prediction_std\n",
                "def show_pred(X,y,results, label):\n",
                "    \n",
                "    display(results.summary())\n",
                "    \n",
                "    X_ = X.copy()\n",
                "    X_['y'] = y\n",
                "    X_.sort_values(by='y', inplace=True)\n",
                "        \n",
                "    y_ = X_.pop('y')\n",
                "    \n",
                "    y_pred = results.predict(X_)\n",
                "    \n",
                "    prstd, iv_l, iv_u = wls_prediction_std(results, exog=X_, alpha=0.05)\n",
                "    #iv_l*=-1 \n",
                "    #iv_u*=-1\n",
                "    \n",
                "    fig,ax=plt.subplots()\n",
                "    #ax.plot(X_.index,y_, label='Numerical gradient from model test')\n",
                "    #ax.plot(X_.index,y_pred, '--', label='OLS')\n",
                "    \n",
                "    ax.plot(y_,y_pred, '.')\n",
                "    ax.plot([y_.min(),y_.max()], [y_.min(),y_.max()], 'r-')\n",
                "    \n",
                "    ax.set_ylabel(f'{label} (prediction)')    \n",
                "    ax.set_xlabel(label)\n",
                "    \n",
                "    ax.fill_between(y_, y1=iv_l, y2=iv_u, zorder=-10, color='grey', alpha=0.5, label=r'5% confidence')\n",
                "    ax.legend();"
            ]
        },
        {
            "cell_type": "code",
            "execution_count": null,
            "metadata": {},
            "outputs": [],
            "source": [
                "X = diff_eq_N.calculate_features(data=df_VCT_prime)\n",
                "y = diff_eq_N.calculate_label(y=df_VCT_prime['mz'])\n",
                "\n",
                "model_N = sm.OLS(y,X)\n",
                "results_N = model_N.fit()\n",
                "\n",
                "show_pred(X=X,y=y,results=results_N, label=r'$N$')"
            ]
        },
        {
            "cell_type": "markdown",
            "metadata": {},
            "source": [
                "## Y"
            ]
        },
        {
            "cell_type": "code",
            "execution_count": null,
            "metadata": {},
            "outputs": [],
            "source": [
                "Math(vlatex(sp.solve(eq.Y_eom,Y_lin)))"
            ]
        },
        {
            "cell_type": "code",
            "execution_count": null,
            "metadata": {},
            "outputs": [],
            "source": [
                "Math(vlatex(eq.Y_eom))"
            ]
        },
        {
            "cell_type": "code",
            "execution_count": null,
            "metadata": {},
            "outputs": [],
            "source": [
                "Math(vlatex(eq.fy_eq))"
            ]
        },
        {
            "cell_type": "code",
            "execution_count": null,
            "metadata": {
                "tags": []
            },
            "outputs": [],
            "source": [
                "Y_eq = eq.fy_eq.copy()\n",
                "Y_eq = Y_eq.subs([\n",
                "    #(eq.p.Yvdot,1),  # Removing added mass\n",
                "    #(x_G,0),  \n",
                "    (u1d,0),\n",
                "    (v1d,0),\n",
                "    (r1d,0),\n",
                "    \n",
                "])  \n",
                "#solution = sp.solve(Y_eq,v1d)[0]\n",
                "#solution = solution*(-eq.p.Yvdot+m)\n",
                "#solution = solution + U*m*r# (adding u*m*r to the measurement fy instead)  \n",
                "#Y_eq = sp.simplify(sp.Eq(v1d, solution))  # Putting r1d on the LHS"
            ]
        },
        {
            "cell_type": "code",
            "execution_count": null,
            "metadata": {},
            "outputs": [],
            "source": [
                "Math(vlatex(Y_eq))"
            ]
        },
        {
            "cell_type": "code",
            "execution_count": null,
            "metadata": {},
            "outputs": [],
            "source": [
                "diff_eq_Y = regression.DiffEqToMatrix(ode=Y_eq, label=Y_lin, base_features=[delta,u,v,r])"
            ]
        },
        {
            "cell_type": "code",
            "execution_count": null,
            "metadata": {},
            "outputs": [],
            "source": [
                "diff_eq_Y.eq_beta"
            ]
        },
        {
            "cell_type": "code",
            "execution_count": null,
            "metadata": {},
            "outputs": [],
            "source": [
                "diff_eq_Y.acceleration_equation_x"
            ]
        },
        {
            "cell_type": "code",
            "execution_count": null,
            "metadata": {},
            "outputs": [],
            "source": [
                "X = diff_eq_Y.calculate_features(data=df_VCT_prime, simplify_names=True)\n",
                "y = diff_eq_Y.calculate_label(y=df_VCT_prime['fy'])\n",
                "#y+=df['u']*df['r']  # adding centrifugal force\n",
                "\n",
                "model_Y = sm.OLS(y,X)\n",
                "results_Y = model_Y.fit()\n",
                "\n",
                "show_pred(X=X,y=y,results=results_Y, label=r'$Y$')"
            ]
        },
        {
            "cell_type": "code",
            "execution_count": null,
            "metadata": {},
            "outputs": [],
            "source": [
                "X.head()"
            ]
        },
        {
            "cell_type": "markdown",
            "metadata": {},
            "source": [
                "## X"
            ]
        },
        {
            "cell_type": "code",
            "execution_count": null,
            "metadata": {
                "tags": []
            },
            "outputs": [],
            "source": [
                "X_eq = eq.fx_eq.copy()\n",
                "X_eq = X_eq.subs([\n",
                "    #(eq.p.Xudot,1),  # Removing added mass\n",
                "    (u1d,0),\n",
                "    (v1d,0),\n",
                "    (r1d,0),\n",
                "    #(m,0),  # mass\n",
                "    \n",
                "])  \n",
                "\n",
                "#solution = sp.solve(X_eq,u1d)[0]\n",
                "#X_eq = sp.Eq(u1d, solution*(-eq.p.Xudot+m))  # Putting r1d on the LHS"
            ]
        },
        {
            "cell_type": "code",
            "execution_count": null,
            "metadata": {},
            "outputs": [],
            "source": [
                "Math(vlatex(X_eq))"
            ]
        },
        {
            "cell_type": "code",
            "execution_count": null,
            "metadata": {},
            "outputs": [],
            "source": [
                "diff_eq_X = regression.DiffEqToMatrix(ode=X_eq, label=X_lin, base_features=[delta,u,v,r])"
            ]
        },
        {
            "cell_type": "code",
            "execution_count": null,
            "metadata": {},
            "outputs": [],
            "source": [
                "X = diff_eq_X.calculate_features(data=df_VCT_prime)\n",
                "y = diff_eq_X.calculate_label(y=df_VCT_prime['fx'])\n",
                "\n",
                "model_X = sm.OLS(y,X)\n",
                "results_X = model_X.fit()\n",
                "\n",
                "show_pred(X=X,y=y,results=results_X, label=r'$X$')"
            ]
        },
        {
            "cell_type": "code",
            "execution_count": null,
            "metadata": {},
            "outputs": [],
            "source": [
                "results_summary_X = regression.results_summary_to_dataframe(results_X)\n",
                "results_summary_Y = regression.results_summary_to_dataframe(results_Y)\n",
                "results_summary_N = regression.results_summary_to_dataframe(results_N)"
            ]
        },
        {
            "cell_type": "markdown",
            "metadata": {},
            "source": [
                "# Brix parameters"
            ]
        },
        {
            "cell_type": "code",
            "execution_count": null,
            "metadata": {},
            "outputs": [],
            "source": [
                "def calculate_prime(row, ship_parameters):\n",
                "    return run(function=row['brix_lambda'], inputs=ship_parameters)\n",
                "\n",
                "mask = df_parameters['brix_lambda'].notnull()\n",
                "df_parameters.loc[mask,'brix_prime'] = df_parameters.loc[mask].apply(calculate_prime, ship_parameters=ship_parameters, axis=1)\n",
                "df_parameters.loc['Ydelta','brix_prime'] = 0.005  # Just guessing\n",
                "df_parameters.loc['Ndelta','brix_prime'] = -df_parameters.loc['Ydelta','brix_prime']/2  # Just guessing\n",
                "df_parameters['brix_prime'].fillna(0, inplace=True)"
            ]
        },
        {
            "cell_type": "markdown",
            "metadata": {},
            "source": [
                "## Add the regressed parameters\n",
                "Hydrodynamic derivatives that depend on acceleration cannot be obtained from the VCT regression. They are however essential if a time simulation should be conducted. These values have then been taken from Brix semi empirical formulas for the simulations below."
            ]
        },
        {
            "cell_type": "code",
            "execution_count": null,
            "metadata": {},
            "outputs": [],
            "source": [
                "df_parameters_all = df_parameters.copy()\n",
                "for other in [results_summary_X, results_summary_Y, results_summary_N]:\n",
                "    df_parameters_all = df_parameters_all.combine_first(other)\n",
                "\n",
                "df_parameters_all.rename(columns={'coeff':'regressed'}, inplace=True)\n",
                "df_parameters_all.drop(columns=['brix_lambda'], inplace=True)\n",
                "\n",
                "df_parameters_all['prime'] = df_parameters_all['regressed'].combine_first(df_parameters_all['brix_prime'])  # prefer regressed"
            ]
        },
        {
            "cell_type": "code",
            "execution_count": null,
            "metadata": {},
            "outputs": [],
            "source": [
                "df_parameters_all"
            ]
        },
        {
            "cell_type": "code",
            "execution_count": null,
            "metadata": {},
            "outputs": [],
            "source": [
                "fig,ax=plt.subplots()\n",
                "fig.set_size_inches(15,5)\n",
                "df_parameters_all.plot.bar(y=['brix_prime','regressed'], ax=ax);"
            ]
        },
        {
            "cell_type": "markdown",
            "metadata": {},
            "source": [
                "It seems that the regressed hydrodynamic derivatives are reasonable similar to the corresponding predicted values with semi-empirical formulas from Brix."
            ]
        },
        {
            "cell_type": "markdown",
            "metadata": {},
            "source": [
                "# Simulation"
            ]
        },
        {
            "cell_type": "code",
            "execution_count": null,
            "metadata": {},
            "outputs": [],
            "source": [
                "df_ = df.copy()\n",
                "t = df_.index\n",
                "control = df_[['delta']]\n",
                "#control = {'delta':0,}\n",
                "\n",
                "df_0 = df_.iloc[0:100].median(axis=0)\n",
                "y0 = {\n",
                "    'u' : df_0['u'], \n",
                "    'v' : df_0['v'],\n",
                "    'r' : df_0['r'],\n",
                "    'x0' : df_0['x0'],\n",
                "    'y0' : df_0['y0'],\n",
                "    'psi' : df_0['psi'],\n",
                "    }\n",
                "\n",
                "#solution = model.simulate(y0=y0, t=t, df_parameters=df_parameters, df_ship_parameters=df_ship_parameters, control=control, rtol=1e-3, atol=1e-3)\n",
                "solution = model.simulate(y0=y0, t=t, df_parameters=df_parameters_all, ship_parameters=ship_parameters, control=control)\n",
                "\n",
                "columns = list(y0.keys())\n",
                "df_result_prime = pd.DataFrame(data=solution.y.T, columns=columns)\n",
                "df_result_prime.index=t[0:len(df_result_prime)]\n",
                "\n",
                "#df_result_prime['U'] = np.sqrt(df_result_prime['u']**2 + df_result_prime['v']**2)\n",
                "\n",
                "df_result_prime.plot(y='u')\n",
                "df_result_prime.plot(y='v')\n",
                "df_result_prime.plot(y='r')\n"
            ]
        },
        {
            "cell_type": "code",
            "execution_count": null,
            "metadata": {},
            "outputs": [],
            "source": [
                "U_ = np.sqrt(df_0['u']**2 + df_0['v']**2)\n",
                "df_result = ps.unprime(values=df_result_prime, U=U_)\n",
                "df_result['beta'] = -np.arctan2(df_result['v'],df_result['u'])"
            ]
        },
        {
            "cell_type": "code",
            "execution_count": null,
            "metadata": {},
            "outputs": [],
            "source": [
                "fig,ax=plt.subplots()\n",
                "track_plot(df=df, lpp=ship_parameters['L'], beam=ship_parameters['B'],ax=ax, label='model test')\n",
                "track_plot(df=df_result, lpp=ship_parameters['L'], beam=ship_parameters['B'],ax=ax, label='simulation', color='green')\n",
                "ax.legend()\n",
                "\n",
                "\n",
                "for key in df_result:\n",
                "    fig,ax = plt.subplots()\n",
                "    df.plot(y=key, label='model test', ax=ax)\n",
                "    df_result.plot(y=key, label='simulation', ax=ax)\n",
                "    ax.set_ylabel(key)\n",
                "\n"
            ]
        },
        {
            "cell_type": "code",
            "execution_count": null,
            "metadata": {},
            "outputs": [],
            "source": []
        }
    ],
    "metadata": {
        "kernelspec": {
            "display_name": "Python 3",
            "language": "python",
            "name": "python3"
        },
        "language_info": {
            "codemirror_mode": {
                "name": "ipython",
                "version": 3
            },
            "file_extension": ".py",
            "mimetype": "text/x-python",
            "name": "python",
            "nbconvert_exporter": "python",
            "pygments_lexer": "ipython3",
            "version": "3.9.5"
        }
    },
    "nbformat": 4,
    "nbformat_minor": 4
}