{
 "cells": [
  {
   "cell_type": "markdown",
   "id": "a588614f-1cbf-4237-a2f0-ea6ef263323f",
   "metadata": {},
   "source": [
    "# Extended Kalman filter\n",
    "This is an implementation of the example Kalman filter: [ExEKF.m](https://github.com/cybergalactic/MSS/blob/master/mssExamples/ExEKF.m).\n",
    "\n",
    "ExEKF Discrete-time extended Kalman filter (EKF) implementation demonstrating\n",
    "how the \"predictor-corrector representation\" can be applied to the\n",
    "nonlinear model:\n",
    "\n",
    "$dx_1/dt = x_2$ <br>\n",
    "$dx_2/dt = a * x_2 * abs(x_2) + b * u + white noise $ <br>\n",
    "$y = x_1 + white noise$ <br>\n",
    "\n",
    "The GNSS position measurement frequency f_gnss [Hz] can be chosen smaller or\n",
    "equal to the  sampling frequency f_s [Hz]. The ratio between the \n",
    "frequencies must be an integer:\n",
    "\n",
    "Integer:  Z = f_s/f_gnss >= 1 \n",
    "\n",
    "Author:    Thor I. Fossen <br>\n",
    "Date:      17 Oct, 2018 <br>\n",
    "Revisions: 28 Feb. 2020, minor updates of notation <br>\n"
   ]
  },
  {
   "cell_type": "code",
   "execution_count": null,
   "id": "ea6a88e5-b519-4fce-a5ef-f707ef47d996",
   "metadata": {},
   "outputs": [],
   "source": [
    "%load_ext autoreload\n",
    "%autoreload 2\n",
    "\n",
    "import pandas as pd\n",
    "import numpy as np\n",
    "import matplotlib.pyplot as plt\n",
    "from numpy.linalg import inv\n",
    "import sympy as sp\n",
    "\n",
    "import vessel_manoeuvring_models.visualization.book_format as book_format\n",
    "book_format.set_style()\n",
    "from vessel_manoeuvring_models.substitute_dynamic_symbols import lambdify\n",
    "from sympy import Matrix"
   ]
  },
  {
   "cell_type": "code",
   "execution_count": null,
   "id": "0cfc9964-bc59-4634-9742-9ed1fb3452cf",
   "metadata": {},
   "outputs": [],
   "source": [
    "x_1,x_2, a, b, u, w, h = sp.symbols(\"x_1,x_2, a, b, u, w, h\")\n",
    "jac = sp.eye(2) + Matrix([x_2,\n",
    "       a * x_2 * x_2 + b * u + w]).jacobian([x_1,x_2])*h\n",
    "jac"
   ]
  },
  {
   "cell_type": "code",
   "execution_count": null,
   "id": "3fa73bdc-323d-40d1-8606-7a21f569ff6c",
   "metadata": {},
   "outputs": [],
   "source": [
    "lambda_jacobian = lambdify(jac)"
   ]
  },
  {
   "cell_type": "code",
   "execution_count": null,
   "id": "85652971-afba-40ca-a0d7-29478177a6ed",
   "metadata": {},
   "outputs": [],
   "source": [
    "lambda_jacobian(a=1,h=0.1,x_2=3)"
   ]
  },
  {
   "cell_type": "code",
   "execution_count": null,
   "id": "0d4b7609-f7d9-4cd2-9259-505754821447",
   "metadata": {},
   "outputs": [],
   "source": [
    "f = Matrix([x_2,\n",
    "       a * x_2 * sp.Abs(x_2) + b * u + w])\n",
    "lambda_f = lambdify(f)"
   ]
  },
  {
   "cell_type": "code",
   "execution_count": null,
   "id": "9704ba02-94ce-4913-93ad-54e2dd00c0a3",
   "metadata": {},
   "outputs": [],
   "source": [
    "lambda_f"
   ]
  },
  {
   "cell_type": "code",
   "execution_count": null,
   "id": "12b82ce3-05a7-4245-ab35-4809a775c0a5",
   "metadata": {},
   "outputs": [],
   "source": [
    "from vessel_manoeuvring_models.kalman_filter import (extended_kalman_filter_example, \n",
    "        extended_kalman_filter_parameter_estimation_example, simulate_model)"
   ]
  },
  {
   "cell_type": "code",
   "execution_count": null,
   "id": "912d21b0-5903-47bd-b926-3eba7bdca688",
   "metadata": {},
   "outputs": [],
   "source": [
    "# simulation parameters\n",
    "N = 100  # no. of iterations\n",
    "f_m = 1  # sampling frequency [Hz]\n",
    "h_m = 1 / f_m  # sampling time: h  = 1/f_s (s)\n",
    "t = np.arange(0, N * h_m, h_m)\n",
    "\n",
    "# initial values for x\n",
    "x0 = np.array([[0, 0]]).T\n",
    "us = 0.1 * np.sin(0.1 * t)  # inputs\n",
    "np.random.seed(42)\n",
    "a_ = -0.9\n",
    "ws = 0.1 * np.random.normal(scale=1, size=N)  # process noise\n",
    "\n",
    "df = simulate_model(x0=x0, us=us, ws=ws, t=t, a=a_)\n",
    "\n",
    "fig, axes = plt.subplots(nrows=3)\n",
    "df.plot(y=\"u\", label=\"u (input)\", ax=axes[0])\n",
    "df.plot(y=\"x_1\", ax=axes[1])\n",
    "df.plot(y=\"x_2\", ax=axes[2])\n",
    "plt.show()\n"
   ]
  },
  {
   "cell_type": "code",
   "execution_count": null,
   "id": "192c98c6-87e0-4a92-9665-1cbcec24abc1",
   "metadata": {},
   "outputs": [],
   "source": [
    "## Measured yaw angle:\n",
    "df[\"epsilon\"] = 0.1 * np.random.normal(scale=3, size=N)  # measurement noise\n",
    "df[\"y\"] = df[\"x_1\"] + df[\"epsilon\"]\n",
    "ys = np.zeros((N, 1))  # 1!\n",
    "ys[:, 0] = df[\"y\"].values"
   ]
  },
  {
   "cell_type": "code",
   "execution_count": null,
   "id": "23ff1b0b-6dd7-4709-b14b-0b56c6a2c922",
   "metadata": {},
   "outputs": [],
   "source": [
    "## Discretisized system matrixes:\n",
    "f_s = 10  # sampling frequency [Hz]\n",
    "h_s = 1 / f_s  # sampling time: h  = 1/f_s (s)\n",
    "    \n",
    "# initialization of Kalman filter\n",
    "x0 = np.array([[3.5, 0]]).T\n",
    "P_prd = np.diag([1, 1])\n",
    "Qd = 1\n",
    "Rd = 10\n",
    "df2 = extended_kalman_filter_example(\n",
    "    x0=x0, P_prd=P_prd, lambda_f=lambda_f, \n",
    "    lambda_jacobian=lambda_jacobian, h_m=h_m, h=h_s, us=us, ys=ys, Qd=Qd, Rd=Rd\n",
    "    )"
   ]
  },
  {
   "cell_type": "code",
   "execution_count": null,
   "id": "0b90c96c-aaec-4716-954a-1816c2084ac2",
   "metadata": {},
   "outputs": [],
   "source": [
    "df2.head()"
   ]
  },
  {
   "cell_type": "code",
   "execution_count": null,
   "id": "7e6cec90-c61a-49c0-8fa2-1c82ff835615",
   "metadata": {},
   "outputs": [],
   "source": [
    "fig,axes=plt.subplots(nrows=3)\n",
    "df.plot(y='u', label='u (input)', ax=axes[0])\n",
    "axes[1].set_ylabel('$x_1$')\n",
    "df.plot(y='y', style='.', alpha=0.7, ax=axes[1])\n",
    "df.plot(y='x_1', label='model', ax=axes[1])\n",
    "df2.plot(y='x_1 predictor', label='predictor', style='--', ax=axes[1])\n",
    "df2.plot(y='x_1', label='kalman', style=':', ax=axes[1])\n",
    "\n",
    "\n",
    "axes[2].set_ylabel('$x_2$')\n",
    "df.plot(y='x_2', label='model', ax=axes[2]);\n",
    "df2.plot(y='x_2 predictor', label='predictor', style='--', ax=axes[2]);\n",
    "df2.plot(y='x_2', label='kalman', style=':', ax=axes[2])"
   ]
  },
  {
   "cell_type": "markdown",
   "id": "85a86d11-aec1-491a-8654-e803a0211d7e",
   "metadata": {},
   "source": [
    "## Parameter etimation\n",
    "The extended Kalman Filter can also be used to estimate model parameters during the filtering."
   ]
  },
  {
   "cell_type": "markdown",
   "id": "4d19d6c9-ee97-4c64-810b-adc7c3e26532",
   "metadata": {},
   "source": [
    "### estimating $a$"
   ]
  },
  {
   "cell_type": "code",
   "execution_count": null,
   "id": "5200a173-b4d8-4b6a-8957-95a4691379c8",
   "metadata": {},
   "outputs": [],
   "source": [
    "x_1,x_2, a, b, u, w, h = sp.symbols(\"x_1,x_2, a, b, u, w, h\")\n",
    "jac_a = sp.eye(3) +  Matrix([x_2,\n",
    "       a * x_2 * x_2 + b * u + w, 0]).jacobian([x_1,x_2,a])*h\n",
    "jac_a"
   ]
  },
  {
   "cell_type": "code",
   "execution_count": null,
   "id": "88fcdb15-c8e3-40c7-99bb-e6d6ebaf4db2",
   "metadata": {},
   "outputs": [],
   "source": [
    "lambda_jacobian_a = lambdify(jac_a)"
   ]
  },
  {
   "cell_type": "code",
   "execution_count": null,
   "id": "4cb67630-7025-4183-8eb5-243f5bb02e10",
   "metadata": {},
   "outputs": [],
   "source": [
    "lambda_jacobian_a"
   ]
  },
  {
   "cell_type": "code",
   "execution_count": null,
   "id": "9b13c2a6-2a9b-4045-a98e-4ba02ae450ef",
   "metadata": {},
   "outputs": [],
   "source": [
    "def lambda_jacobian_a(a, h, x_2):\n",
    "    jac = np.array([\n",
    "        [1, h, 0],\n",
    "        [0, 2*a*h*np.abs(x_2) + 1, h*x_2*np.abs(x_2)],\n",
    "        [0,0,1]\n",
    "    ])\n",
    "    return jac"
   ]
  },
  {
   "cell_type": "code",
   "execution_count": null,
   "id": "1d4c3d7c-9829-42ac-ac9d-bdbf676df9c8",
   "metadata": {},
   "outputs": [],
   "source": [
    "f_a = Matrix([x_2,\n",
    "       a * x_2 * sp.Abs(x_2) + b * u + w,0])\n",
    "lambda_f_a = lambdify(f_a)"
   ]
  },
  {
   "cell_type": "code",
   "execution_count": null,
   "id": "12c88689-9802-4896-a3ff-5bec4cfde933",
   "metadata": {},
   "outputs": [],
   "source": [
    "f_a"
   ]
  },
  {
   "cell_type": "code",
   "execution_count": null,
   "id": "29936bfd-a38e-4059-a674-86319aceb1aa",
   "metadata": {},
   "outputs": [],
   "source": [
    "# simulation parameters\n",
    "N = 4000  # no. of iterations\n",
    "#f_m = 1  # sampling frequency [Hz]\n",
    "h_m = 0.05  # sampling time: h  = 1/f_s (s)\n",
    "t = np.arange(0, N * h_m, h_m)\n",
    "\n",
    "# initial values for x\n",
    "x0 = np.array([[0, 0]]).T\n",
    "us = 0.1 * np.sin(0.1 * t)  # inputs\n",
    "np.random.seed(42)\n",
    "process_noise = 0\n",
    "ws = process_noise * np.random.normal(scale=1, size=N)  # process noise\n",
    "a_ = -0.9\n",
    "df = simulate_model(x0=x0, us=us, ws=ws, t=t, a=a_)"
   ]
  },
  {
   "cell_type": "code",
   "execution_count": null,
   "id": "2c518e09-3539-43d0-9c10-defe6edb7c97",
   "metadata": {},
   "outputs": [],
   "source": [
    "## Measured yaw angle:\n",
    "noise = 0\n",
    "df[\"epsilon\"] = noise * np.random.normal(scale=3, size=N)  # measurement noise\n",
    "df[\"y\"] = df[\"x_1\"] + df[\"epsilon\"]\n",
    "ys = np.zeros((N, 1))  # 1!\n",
    "ys[:, 0] = df[\"y\"].values"
   ]
  },
  {
   "cell_type": "code",
   "execution_count": null,
   "id": "a730963c-fd79-4b3d-83e0-18377f4decd9",
   "metadata": {},
   "outputs": [],
   "source": [
    "## Discretisized system matrixes:\n",
    "h_s = h_m\n",
    "\n",
    "e=1\n",
    "E = np.array([[0,0],\n",
    "              [e,0],\n",
    "              [0,e]])\n",
    "\n",
    "\n",
    "\n",
    "Cd = np.array([[1, 0, 0]])\n",
    "\n",
    "# initialization of Kalman filter\n",
    "x0 = np.array([[0, 0, 0]]).T\n",
    "P_prd = np.diag([1, 1, 1])\n",
    "\n",
    "Qd = np.diag([1, 0.1]) # Q = diag( Q_x2  Q_a )\n",
    "Rd = 10 # R = diag( R_x1 )\n",
    "\n",
    "time_steps = extended_kalman_filter_parameter_estimation_example(\n",
    "    x0=x0, P_prd=P_prd, lambda_f=lambda_f_a, \n",
    "    lambda_jacobian=lambda_jacobian_a, h=h_s, us=us, ys=ys, Qd=Qd, Rd=Rd, E=E, Cd=Cd\n",
    "    )"
   ]
  },
  {
   "cell_type": "code",
   "execution_count": null,
   "id": "4e802d78-b6bb-44c5-bf0f-91bc64c8cd8e",
   "metadata": {},
   "outputs": [],
   "source": [
    "x_hats = np.array([time_step['x_hat'] for time_step in time_steps]).T\n",
    "x_hats.shape"
   ]
  },
  {
   "cell_type": "code",
   "execution_count": null,
   "id": "33555532-4325-4cb5-b796-228027893463",
   "metadata": {},
   "outputs": [],
   "source": [
    "kalman_gains = np.array([time_step['K'] for time_step in time_steps]).T\n",
    "kalman_gains.shape"
   ]
  },
  {
   "cell_type": "code",
   "execution_count": null,
   "id": "c4be108a-617f-4d43-b379-959095cd7783",
   "metadata": {},
   "outputs": [],
   "source": [
    "time = np.array([time_step['time'] for time_step in time_steps]).T\n",
    "time.shape"
   ]
  },
  {
   "cell_type": "code",
   "execution_count": null,
   "id": "150a8ceb-8075-40d8-9c1e-8d80f7dd75a6",
   "metadata": {
    "tags": []
   },
   "outputs": [],
   "source": [
    "fig,axes=plt.subplots(nrows=3)\n",
    "\n",
    "ax=axes[0]\n",
    "ax.set_ylabel('$x_1$')\n",
    "df.plot(y='y', style='-', alpha=0.7, ax=ax)\n",
    "df.plot(y='x_1', label='model', ax=ax)\n",
    "ax.plot(time,x_hats[0,:], '--', label='kalman')\n",
    "ax.legend()\n",
    "\n",
    "\n",
    "ax=axes[1]\n",
    "ax.set_ylabel('$x_2$')\n",
    "df.plot(y='x_2', label='model', ax=ax);\n",
    "ax.plot(time,x_hats[1,:], '--', label='kalman')\n",
    "ax.legend()\n",
    "\n",
    "ax=axes[2]\n",
    "ax.set_ylabel('$a$')\n",
    "ax.plot(time,x_hats[2,:], '--', label='kalman')\n",
    "ax.plot([time[0], time[-1]], [a_,a_], label='$a$')\n",
    "ax.legend()\n",
    "\n"
   ]
  },
  {
   "cell_type": "code",
   "execution_count": null,
   "id": "896383cc-51a9-4b32-9bea-205af19fe36c",
   "metadata": {},
   "outputs": [],
   "source": [
    "fig,ax=plt.subplots()\n",
    "for k in kalman_gains:\n",
    "    ax.plot(time, k)\n",
    "\n",
    "ax.legend(['$x_1$','$x_2$','$a$'])\n",
    "ax.set_title('Kalman gains')"
   ]
  }
 ],
 "metadata": {
  "citation-manager": {
   "items": {}
  },
  "kernelspec": {
   "display_name": "Python 3",
   "language": "python",
   "name": "python3"
  },
  "language_info": {
   "codemirror_mode": {
    "name": "ipython",
    "version": 3
   },
   "file_extension": ".py",
   "mimetype": "text/x-python",
   "name": "python",
   "nbconvert_exporter": "python",
   "pygments_lexer": "ipython3",
   "version": "3.9.5"
  }
 },
 "nbformat": 4,
 "nbformat_minor": 5
}
