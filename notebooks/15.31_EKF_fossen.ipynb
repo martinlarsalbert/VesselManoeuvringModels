{
 "cells": [
  {
   "cell_type": "markdown",
   "id": "a588614f-1cbf-4237-a2f0-ea6ef263323f",
   "metadata": {},
   "source": [
    "# Extended Kalman filter\n",
    "This is an implementation of the example Kalman filter: [ExEKF.m](https://github.com/cybergalactic/MSS/blob/master/mssExamples/ExEKF.m).\n",
    "\n",
    "ExEKF Discrete-time extended Kalman filter (EKF) implementation demonstrating\n",
    "how the \"predictor-corrector representation\" can be applied to the\n",
    "nonlinear model:\n",
    "\n",
    "$dx_1/dt = x_2$ <br>\n",
    "$dx_2/dt = a * x_2 * abs(x_2) + b * u + white noise $ <br>\n",
    "$y = x_1 + white noise$ <br>\n",
    "\n",
    "The GNSS position measurement frequency f_gnss [Hz] can be chosen smaller or\n",
    "equal to the  sampling frequency f_s [Hz]. The ratio between the \n",
    "frequencies must be an integer:\n",
    "\n",
    "Integer:  Z = f_s/f_gnss >= 1 \n",
    "\n",
    "Author:    Thor I. Fossen <br>\n",
    "Date:      17 Oct, 2018 <br>\n",
    "Revisions: 28 Feb. 2020, minor updates of notation <br>\n"
   ]
  },
  {
   "cell_type": "code",
   "execution_count": null,
   "id": "ea6a88e5-b519-4fce-a5ef-f707ef47d996",
   "metadata": {},
   "outputs": [],
   "source": [
    "%load_ext autoreload\n",
    "%autoreload 2\n",
    "\n",
    "import pandas as pd\n",
    "import numpy as np\n",
    "import matplotlib.pyplot as plt\n",
    "from numpy.linalg import inv\n",
    "import sympy as sp\n",
    "\n",
    "import src.visualization.book_format as book_format\n",
    "book_format.set_style()\n",
    "from src.substitute_dynamic_symbols import lambdify\n",
    "from sympy import Matrix"
   ]
  },
  {
   "cell_type": "code",
   "execution_count": null,
   "id": "0cfc9964-bc59-4634-9742-9ed1fb3452cf",
   "metadata": {},
   "outputs": [],
   "source": [
    "x_1,x_2, a, b, u, w, h = sp.symbols(\"x_1,x_2, a, b, u, w, h\")\n",
    "jac = sp.eye(2) + Matrix([x_2,\n",
    "       a * x_2 * x_2 + b * u + w]).jacobian([x_1,x_2])*h\n",
    "jac"
   ]
  },
  {
   "cell_type": "code",
   "execution_count": null,
   "id": "3fa73bdc-323d-40d1-8606-7a21f569ff6c",
   "metadata": {},
   "outputs": [],
   "source": [
    "lambda_jacobian = lambdify(jac)"
   ]
  },
  {
   "cell_type": "code",
   "execution_count": null,
   "id": "85652971-afba-40ca-a0d7-29478177a6ed",
   "metadata": {},
   "outputs": [],
   "source": [
    "lambda_jacobian(a=1,h=0.1,x_2=3)"
   ]
  },
  {
   "cell_type": "code",
   "execution_count": null,
   "id": "12b82ce3-05a7-4245-ab35-4809a775c0a5",
   "metadata": {},
   "outputs": [],
   "source": [
    "from src.kalman_filter import extended_kalman_filter_example, simulate_model"
   ]
  },
  {
   "cell_type": "code",
   "execution_count": null,
   "id": "912d21b0-5903-47bd-b926-3eba7bdca688",
   "metadata": {},
   "outputs": [],
   "source": [
    "# simulation parameters\n",
    "N = 100  # no. of iterations\n",
    "f_m = 1  # sampling frequency [Hz]\n",
    "h_m = 1 / f_m  # sampling time: h  = 1/f_s (s)\n",
    "t = np.arange(0, N * h_m, h_m)\n",
    "\n",
    "# initial values for x\n",
    "x0 = np.array([[0, 0]]).T\n",
    "us = 0.1 * np.sin(0.1 * t)  # inputs\n",
    "np.random.seed(42)\n",
    "ws = 0.1 * np.random.normal(scale=1, size=N)  # process noise\n",
    "\n",
    "df = simulate_model(x0=x0, us=us, ws=ws, t=t)\n",
    "\n",
    "fig, axes = plt.subplots(nrows=3)\n",
    "df.plot(y=\"u\", label=\"u (input)\", ax=axes[0])\n",
    "df.plot(y=\"x_1\", ax=axes[1])\n",
    "df.plot(y=\"x_2\", ax=axes[2])\n",
    "plt.show()\n"
   ]
  },
  {
   "cell_type": "code",
   "execution_count": null,
   "id": "192c98c6-87e0-4a92-9665-1cbcec24abc1",
   "metadata": {},
   "outputs": [],
   "source": [
    "## Measured yaw angle:\n",
    "df[\"epsilon\"] = 0.1 * np.random.normal(scale=3, size=N)  # measurement noise\n",
    "df[\"y\"] = df[\"x_1\"] + df[\"epsilon\"]\n",
    "ys = np.zeros((N, 1))  # 1!\n",
    "ys[:, 0] = df[\"y\"].values"
   ]
  },
  {
   "cell_type": "code",
   "execution_count": null,
   "id": "23ff1b0b-6dd7-4709-b14b-0b56c6a2c922",
   "metadata": {},
   "outputs": [],
   "source": [
    "## Discretisized system matrixes:\n",
    "f_s = 10  # sampling frequency [Hz]\n",
    "h = 1 / f_s  # sampling time: h  = 1/f_s (s)\n",
    "    \n",
    "# initialization of Kalman filter\n",
    "x0 = np.array([[3.5, 0]]).T\n",
    "P_prd = np.diag([1, 1])\n",
    "Qd = 1\n",
    "Rd = 10\n",
    "df2 = extended_kalman_filter_example(\n",
    "        x0=x0, P_prd=P_prd, h_m=h_m, h=h, us=us, ys=ys, Qd=Qd, Rd=Rd\n",
    "    )"
   ]
  },
  {
   "cell_type": "code",
   "execution_count": null,
   "id": "132e9776-4ab7-4fe6-922c-040edd80b4c9",
   "metadata": {},
   "outputs": [],
   "source": [
    "h"
   ]
  },
  {
   "cell_type": "code",
   "execution_count": null,
   "id": "0b90c96c-aaec-4716-954a-1816c2084ac2",
   "metadata": {},
   "outputs": [],
   "source": [
    "df2.head()"
   ]
  },
  {
   "cell_type": "code",
   "execution_count": null,
   "id": "7e6cec90-c61a-49c0-8fa2-1c82ff835615",
   "metadata": {},
   "outputs": [],
   "source": [
    "fig,axes=plt.subplots(nrows=3)\n",
    "df.plot(y='u', label='u (input)', ax=axes[0])\n",
    "axes[1].set_ylabel('$x_1$')\n",
    "df.plot(y='y', style='.', alpha=0.7, ax=axes[1])\n",
    "df.plot(y='x_1', label='model', ax=axes[1])\n",
    "df2.plot(y='x_1 predictor', label='predictor', style='--', ax=axes[1])\n",
    "df2.plot(y='x_1', label='kalman', style=':', ax=axes[1])\n",
    "\n",
    "\n",
    "axes[2].set_ylabel('$x_2$')\n",
    "df.plot(y='x_2', label='model', ax=axes[2]);\n",
    "df2.plot(y='x_2 predictor', label='predictor', style='--', ax=axes[2]);\n",
    "df2.plot(y='x_2', label='kalman', style=':', ax=axes[2])"
   ]
  },
  {
   "cell_type": "code",
   "execution_count": null,
   "id": "c3a974e8-f47a-495e-a350-7139cb1edd26",
   "metadata": {},
   "outputs": [],
   "source": []
  },
  {
   "cell_type": "code",
   "execution_count": null,
   "id": "ee4dd83f-b3d0-40e6-af32-52821fc48b4a",
   "metadata": {},
   "outputs": [],
   "source": []
  },
  {
   "cell_type": "code",
   "execution_count": null,
   "id": "7f30a520-4fc9-437b-9c44-a22b44a30526",
   "metadata": {},
   "outputs": [],
   "source": []
  }
 ],
 "metadata": {
  "citation-manager": {
   "items": {}
  },
  "kernelspec": {
   "display_name": "Python 3",
   "language": "python",
   "name": "python3"
  },
  "language_info": {
   "codemirror_mode": {
    "name": "ipython",
    "version": 3
   },
   "file_extension": ".py",
   "mimetype": "text/x-python",
   "name": "python",
   "nbconvert_exporter": "python",
   "pygments_lexer": "ipython3",
   "version": "3.9.5"
  }
 },
 "nbformat": 4,
 "nbformat_minor": 5
}
