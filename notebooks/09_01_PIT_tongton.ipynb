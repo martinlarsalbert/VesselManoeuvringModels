{
    "cells": [
        {
            "cell_type": "markdown",
            "metadata": {},
            "source": [
                "# PIT according to Tongtong"
            ]
        },
        {
            "cell_type": "markdown",
            "metadata": {},
            "source": [
                "# Purpose\n",
                "Implement PIT accoring to:\n",
                "\n",
                "[1]\n",
                "Wang, Tongtong, Guoyuan Li, Baiheng Wu, Vilmar Æsøy, and Houxiang Zhang. “Parameter Identification of Ship Manoeuvring Model Under Disturbance Using Support Vector Machine Method.” Ships and Offshore Structures, May 19, 2021.\n"
            ]
        },
        {
            "cell_type": "markdown",
            "metadata": {},
            "source": [
                "# Methodology\n",
                "* [1] has a an interesing way to do the regression ([1]eq.3.). This will be tested on the present data."
            ]
        },
        {
            "cell_type": "markdown",
            "metadata": {},
            "source": [
                "# Setup"
            ]
        },
        {
            "cell_type": "code",
            "execution_count": null,
            "metadata": {},
            "outputs": [],
            "source": [
                "# %load imports.py\n",
                "## Local packages:\n",
                "\n",
                "%matplotlib inline\n",
                "%load_ext autoreload\n",
                "%autoreload 2\n",
                "%config Completer.use_jedi = False  ## (To fix autocomplete)\n",
                "\n",
                "## External packages:\n",
                "import pandas as pd\n",
                "pd.options.display.max_rows = 999\n",
                "pd.options.display.max_columns = 999\n",
                "pd.set_option(\"display.max_columns\", None)\n",
                "\n",
                "import numpy as np\n",
                "import os\n",
                "import matplotlib.pyplot as plt\n",
                "#if os.name == 'nt':\n",
                "#    plt.style.use('presentation.mplstyle')  # Windows\n",
                "\n",
                "import plotly.express as px \n",
                "import plotly.graph_objects as go\n",
                "\n",
                "import seaborn as sns\n",
                "import sympy as sp\n",
                "from sympy.physics.mechanics import (dynamicsymbols, ReferenceFrame,\n",
                "                                      Particle, Point)\n",
                "from sympy.physics.vector.printing import vpprint, vlatex\n",
                "from IPython.display import display, Math, Latex\n",
                "from vessel_manoeuvring_models.substitute_dynamic_symbols import run, lambdify\n",
                "\n",
                "import pyro\n",
                "\n",
                "import sklearn\n",
                "import pykalman\n",
                "from statsmodels.sandbox.regression.predstd import wls_prediction_std\n",
                "import statsmodels.api as sm\n",
                "\n",
                "from scipy.integrate import solve_ivp\n",
                "\n",
                "## Local packages:\n",
                "from vessel_manoeuvring_models.data import mdl\n",
                "\n",
                "# Load models:\n",
                "# (Uncomment these for faster loading):\n",
                "import vessel_manoeuvring_models.models.vmm_abkowitz  as vmm_abkowitz  \n",
                "\n",
                "from vessel_manoeuvring_models.symbols import *\n",
                "from vessel_manoeuvring_models.parameters import *\n",
                "import vessel_manoeuvring_models.symbols as symbols\n",
                "from vessel_manoeuvring_models import prime_system\n",
                "from vessel_manoeuvring_models.models import regression\n",
                "from vessel_manoeuvring_models.visualization.plot import track_plot\n",
                "from vessel_manoeuvring_models.equation import Equation"
            ]
        },
        {
            "cell_type": "markdown",
            "metadata": {},
            "source": [
                "## Load test"
            ]
        },
        {
            "cell_type": "code",
            "execution_count": null,
            "metadata": {},
            "outputs": [],
            "source": [
                "#id=22773\n",
                "#id=22616\n",
                "id=22774\n",
                "#id=22770\n",
                "\n",
                "\n",
                "df, units, meta_data = mdl.load(id=id, dir_path='../data/processed/kalman_cut/')\n",
                "df.index = df.index.total_seconds()\n",
                "df.index-=df.index[0]\n",
                "\n",
                "df['t'] = df.index\n",
                "df.sort_index(inplace=True)\n",
                "df['-delta'] = -df['delta']\n",
                "df['V'] = np.sqrt(df['u']**2 + df['v']**2)\n",
                "\n",
                "df['thrust'] = df['Prop/PS/Thrust'] + df['Prop/SB/Thrust']\n",
                "df['U'] = df['V']\n",
                "df['beta'] = -np.arctan2(df['v'],df['u'])"
            ]
        },
        {
            "cell_type": "code",
            "execution_count": null,
            "metadata": {},
            "outputs": [],
            "source": [
                "meta_data['rho']=1000\n",
                "meta_data['mass'] = meta_data['Volume']*meta_data['rho']"
            ]
        },
        {
            "cell_type": "code",
            "execution_count": null,
            "metadata": {},
            "outputs": [],
            "source": [
                "from vessel_manoeuvring_models.visualization.plot import track_plot\n",
                "fig,ax=plt.subplots()\n",
                "#fig.set_size_inches(10,10)\n",
                "track_plot(df=df, lpp=meta_data.lpp, x_dataset='x0', y_dataset='y0',  psi_dataset='psi', beam=meta_data.beam, ax=ax);\n",
                "df.plot(y='u')"
            ]
        },
        {
            "cell_type": "markdown",
            "metadata": {},
            "source": [
                "# Ship parameters"
            ]
        },
        {
            "cell_type": "code",
            "execution_count": null,
            "metadata": {},
            "outputs": [],
            "source": [
                "T_ = (meta_data.TA + meta_data.TF)/2\n",
                "L_ = meta_data.lpp\n",
                "m_ = meta_data.mass\n",
                "rho_ = meta_data.rho\n",
                "B_ = meta_data.beam\n",
                "CB_ = m_/(T_*B_*L_*rho_)\n",
                "I_z_ = m_*meta_data.KZZ**2\n",
                "#I_z_=839.725\n",
                "\n",
                "ship_parameters = {\n",
                "        'T' : T_,\n",
                "        'L' : L_,\n",
                "        'CB' :CB_,\n",
                "        'B' : B_,\n",
                "        'rho' : rho_,\n",
                "        #'x_G' : meta_data.lcg,  # motions are expressed at CG\n",
                "        'x_G' : 0,  # motions are expressed at CG\n",
                "        \n",
                "        'm' : m_,\n",
                "        'I_z': I_z_, \n",
                "        'volume':meta_data.Volume,\n",
                "    }\n",
                "\n",
                "ps = prime_system.PrimeSystem(**ship_parameters)  # model\n",
                "\n",
                "scale_factor = meta_data.scale_factor\n",
                "ps_ship = prime_system.PrimeSystem(L=ship_parameters['L']*scale_factor, rho=meta_data['rho'])  # ship\n",
                "ship_parameters_prime = ps.prime(ship_parameters)"
            ]
        },
        {
            "cell_type": "markdown",
            "metadata": {},
            "source": [
                "## Prime system"
            ]
        },
        {
            "cell_type": "code",
            "execution_count": null,
            "metadata": {},
            "outputs": [],
            "source": [
                "interesting = ['x0','y0','psi','u','v','r','u1d','v1d','r1d','U','t','delta','thrust','beta']\n",
                "df_prime = ps.prime(df[interesting], U=df['U'])\n",
                "df_prime.set_index('t', inplace=True)"
            ]
        },
        {
            "cell_type": "code",
            "execution_count": null,
            "metadata": {},
            "outputs": [],
            "source": [
                "fig,ax=plt.subplots()\n",
                "ax.plot(df.index, df_prime.index)"
            ]
        },
        {
            "cell_type": "code",
            "execution_count": null,
            "metadata": {},
            "outputs": [],
            "source": [
                "fig,ax=plt.subplots()\n",
                "#fig.set_size_inches(10,10)\n",
                "track_plot(df=df_prime, lpp=ship_parameters_prime['L'], beam=ship_parameters_prime['B'],\n",
                "           x_dataset='x0', y_dataset='y0',  psi_dataset='psi', ax=ax);\n",
                "\n",
                "df_prime.plot(y='u')"
            ]
        },
        {
            "cell_type": "markdown",
            "metadata": {},
            "source": [
                "# Brix parameters"
            ]
        },
        {
            "cell_type": "code",
            "execution_count": null,
            "metadata": {},
            "outputs": [],
            "source": [
                "def calculate_prime(row, ship_parameters):\n",
                "    return run(function=row['brix_lambda'], inputs=ship_parameters)\n",
                "\n",
                "\n",
                "mask = df_parameters['brix_lambda'].notnull()\n",
                "df_parameters.loc[mask,'brix_prime'] = df_parameters.loc[mask].apply(calculate_prime, ship_parameters=ship_parameters, axis=1)\n",
                "\n",
                "df_parameters.loc['Ydelta','brix_prime'] = 0.0004  # Just guessing\n",
                "df_parameters.loc['Ndelta','brix_prime'] = -df_parameters.loc['Ydelta','brix_prime']/4  # Just guessing\n",
                "\n",
                "df_parameters['brix_prime'].fillna(0, inplace=True)\n",
                "#df_parameters['brix_SI'].fillna(0, inplace=True)\n",
                "\n",
                "df_parameters.groupby(by='state').get_group('dot')"
            ]
        },
        {
            "cell_type": "markdown",
            "metadata": {},
            "source": [
                "## Regression model\n",
                "$$\n",
                "\\begin{array}{lcl}\n",
                "u'(n+1) - u'(n) = A \\cdot X(n) \\\\\n",
                "v'(n+1) - v'(n) = B \\cdot Y(n) \\\\\n",
                "r'(n+1) - r'(n) = C \\cdot N(n) \\\\\n",
                "\\end{array}\n",
                "$$\n",
                "where A, B, C are parameter vectors formed by hydrodynamic\n",
                "derivatives to be identified."
            ]
        },
        {
            "cell_type": "code",
            "execution_count": null,
            "metadata": {},
            "outputs": [],
            "source": [
                "label = sp.symbols('X_qs')\n",
                "X_eq_ = vmm_abkowitz.X_qs_eq.subs(vmm_abkowitz.X_qs,label)\n",
                "diff_eq_X = regression.DiffEqToMatrix(ode=X_eq_, label=label, base_features=[delta,u,v,r,thrust])\n",
                "\n",
                "label = sp.symbols('Y_qs')\n",
                "Y_eq_ = vmm_abkowitz.Y_qs_eq.subs(vmm_abkowitz.Y_qs,label)\n",
                "diff_eq_Y = regression.DiffEqToMatrix(ode=Y_eq_, label=label, base_features=[delta,u,v,r])\n",
                "\n",
                "label = sp.symbols('N_qs')\n",
                "N_eq_ = vmm_abkowitz.N_qs_eq.subs(vmm_abkowitz.N_qs,label)\n",
                "diff_eq_N = regression.DiffEqToMatrix(ode=N_eq_, label=label, base_features=[delta,u,v,r])\n",
                "\n",
                "\n"
            ]
        },
        {
            "cell_type": "code",
            "execution_count": null,
            "metadata": {},
            "outputs": [],
            "source": [
                "Math(vlatex(diff_eq_X.acceleration_equation))"
            ]
        },
        {
            "cell_type": "code",
            "execution_count": null,
            "metadata": {},
            "outputs": [],
            "source": [
                "Math(vlatex(diff_eq_X.eq_X))"
            ]
        },
        {
            "cell_type": "code",
            "execution_count": null,
            "metadata": {},
            "outputs": [],
            "source": [
                "X_martin = diff_eq_X.eq_X.rhs\n",
                "X_tongtong = X_martin*U**2/L*delta_t/(m-p.Xudot)"
            ]
        },
        {
            "cell_type": "code",
            "execution_count": null,
            "metadata": {},
            "outputs": [],
            "source": [
                "S = (m-p.Yvdot)*(I_z-p.Nrdot) - (m*x_G-p.Yrdot)*(m*x_G-p.Nvdot)"
            ]
        },
        {
            "cell_type": "code",
            "execution_count": null,
            "metadata": {},
            "outputs": [],
            "source": [
                "Y_martin = diff_eq_Y.eq_X.rhs\n",
                "Y_tongtong = Y_martin*U**2/L*delta_t/(S)\n",
                "\n",
                "N_martin = diff_eq_N.eq_X.rhs\n",
                "N_tongtong = N_martin*U**2/L**2*delta_t/(S)"
            ]
        },
        {
            "cell_type": "code",
            "execution_count": null,
            "metadata": {},
            "outputs": [],
            "source": [
                "subs = {value:key for key,value in p.items()}\n",
                "X_lambda=lambdify(X_tongtong.subs(subs))\n",
                "Y_lambda=lambdify(Y_tongtong.subs(subs))\n",
                "N_lambda=lambdify(N_tongtong.subs(subs))"
            ]
        },
        {
            "cell_type": "code",
            "execution_count": null,
            "metadata": {},
            "outputs": [],
            "source": [
                "from statsmodels.sandbox.regression.predstd import wls_prediction_std\n",
                "def show_pred(X,y,results, label):\n",
                "    \n",
                "    display(results.summary())\n",
                "    \n",
                "    X_ = X\n",
                "    y_ = y\n",
                "    y_pred = results.predict(X_)\n",
                "    \n",
                "    prstd, iv_l, iv_u = wls_prediction_std(results, exog=X_, alpha=0.05)\n",
                "    #iv_l*=-1 \n",
                "    #iv_u*=-1\n",
                "    \n",
                "    fig,ax=plt.subplots()\n",
                "    ax.plot(X_.index,y_, label='Numerical gradient from model test')\n",
                "    ax.plot(X_.index,y_pred, '--', label='OLS')\n",
                "    ax.set_ylabel(label)\n",
                "    \n",
                "    ax.fill_between(X_.index, y1=iv_l, y2=iv_u, zorder=-10, color='grey', alpha=0.5, label=r'5\\% confidence')\n",
                "    ax.legend();"
            ]
        },
        {
            "cell_type": "code",
            "execution_count": null,
            "metadata": {},
            "outputs": [],
            "source": [
                "def regress(data, lamda, diff_eq, y_key, U_):\n",
                "    \n",
                "    X = run(lamda, inputs=data,U=U_,\n",
                "            L=ship_parameters['L'], m=ship_parameters_prime['m'],\n",
                "            x_G=ship_parameters_prime['x_G'], I_z=ship_parameters_prime['I_z'],\n",
                "            **df_parameters['brix_prime'], delta_t=dt_)[0].T\n",
                "\n",
                "    subs = diff_eq.feature_names_subs()        \n",
                "    columns = list(subs.values())\n",
                "    X = pd.DataFrame(data=X, index=data.index, columns=columns)\n",
                "    y = df_prime[y_key].diff().iloc[1:].copy()\n",
                "    \n",
                "    model = sm.OLS(y,X)\n",
                "    results = model.fit()\n",
                "    \n",
                "    label=f\"{y_key}'(n+1) - {y_key}'(n)\"\n",
                "    show_pred(X=X,y=y,results=results, label=label)\n",
                "    \n",
                "    return model,results"
            ]
        },
        {
            "cell_type": "code",
            "execution_count": null,
            "metadata": {},
            "outputs": [],
            "source": [
                "#dt_ = np.diff(df_prime.index)  # SI or prime?\n",
                "dt_ = np.mean(np.diff(df.index))  # SI or prime?\n",
                "data = df_prime.iloc[1:].copy()\n",
                "data.drop(columns='U',inplace=True)\n",
                "U_ = df.iloc[1:]['U'].copy().values"
            ]
        },
        {
            "cell_type": "markdown",
            "metadata": {},
            "source": [
                "## X"
            ]
        },
        {
            "cell_type": "code",
            "execution_count": null,
            "metadata": {},
            "outputs": [],
            "source": [
                "model_X, results_X = regress(data=data, lamda=X_lambda, diff_eq=diff_eq_X, y_key='u', U_=U_)"
            ]
        },
        {
            "cell_type": "markdown",
            "metadata": {},
            "source": [
                "## Y"
            ]
        },
        {
            "cell_type": "code",
            "execution_count": null,
            "metadata": {},
            "outputs": [],
            "source": [
                "model_Y, results_Y = regress(data=data, lamda=Y_lambda, diff_eq=diff_eq_Y, y_key='v',  U_=U_)"
            ]
        },
        {
            "cell_type": "markdown",
            "metadata": {},
            "source": [
                "## N"
            ]
        },
        {
            "cell_type": "code",
            "execution_count": null,
            "metadata": {},
            "outputs": [],
            "source": [
                "model_N, results_N = regress(data=data, lamda=N_lambda, diff_eq=diff_eq_N, y_key='r',  U_=U_)"
            ]
        },
        {
            "cell_type": "code",
            "execution_count": null,
            "metadata": {},
            "outputs": [],
            "source": [
                "results_summary_X = regression.results_summary_to_dataframe(results_X)\n",
                "results_summary_Y = regression.results_summary_to_dataframe(results_Y)\n",
                "results_summary_N = regression.results_summary_to_dataframe(results_N)"
            ]
        },
        {
            "cell_type": "code",
            "execution_count": null,
            "metadata": {},
            "outputs": [],
            "source": [
                "A_ = results_summary_X['coeff']\n",
                "B_ = results_summary_Y['coeff']\n",
                "C_ = results_summary_N['coeff']"
            ]
        },
        {
            "cell_type": "code",
            "execution_count": null,
            "metadata": {},
            "outputs": [],
            "source": [
                "eq_X_coeff = sp.Eq(X_coeff,L*(m-p.Xudot)/delta_t*A_coeff)\n",
                "eq_X_coeff"
            ]
        },
        {
            "cell_type": "code",
            "execution_count": null,
            "metadata": {},
            "outputs": [],
            "source": [
                "subs = {value:key for key,value in p.items()}\n",
                "solution_X_lambda = lambdify(eq_X_coeff.rhs.subs(subs))"
            ]
        },
        {
            "cell_type": "code",
            "execution_count": null,
            "metadata": {},
            "outputs": [],
            "source": [
                "M = sp.matrices.MutableDenseMatrix([\n",
                "                                [(I_z-p.Nrdot)*delta_t/(S*L), -(m*x_G-p.Yrdot)*delta_t/(S*L)],\n",
                "                                [-(m*x_G-p.Nvdot)*delta_t/(S*L**2), (m-p.Yvdot)*delta_t/(S*L**2)]\n",
                "                               ])"
            ]
        },
        {
            "cell_type": "code",
            "execution_count": null,
            "metadata": {},
            "outputs": [],
            "source": [
                "solution = M.inv()*sp.matrices.MutableDenseMatrix([B_coeff,C_coeff])\n",
                "subs = {value:key for key,value in p.items()}\n",
                "solution_YN_lambda = lambdify(solution.subs(subs))"
            ]
        },
        {
            "cell_type": "code",
            "execution_count": null,
            "metadata": {},
            "outputs": [],
            "source": [
                "parameters_A = run(solution_X_lambda, A_coeff=A_, delta_t=dt_, **df_parameters['brix_prime'],\n",
                "                  L=ship_parameters['L'], m=ship_parameters_prime['m'])"
            ]
        },
        {
            "cell_type": "code",
            "execution_count": null,
            "metadata": {},
            "outputs": [],
            "source": [
                "parameters_ = run(solution_YN_lambda, B_coeff=B_.values, C_coeff=C_.values, delta_t=dt_, \n",
                "                  L=ship_parameters['L'], m=ship_parameters_prime['m'], x_G=ship_parameters_prime['x_G'],\n",
                "                  I_z=ship_parameters_prime['I_z'],\n",
                "                  **df_parameters['brix_prime'])"
            ]
        },
        {
            "cell_type": "code",
            "execution_count": null,
            "metadata": {},
            "outputs": [],
            "source": [
                "parameters_[0][0]"
            ]
        },
        {
            "cell_type": "code",
            "execution_count": null,
            "metadata": {},
            "outputs": [],
            "source": [
                "parameters_B = pd.Series(parameters_[0][0], index=B_.index)\n",
                "parameters_C = pd.Series(parameters_[1][0], index=C_.index)\n",
                "\n",
                "df_parameters['regressed'] = parameters_A\n",
                "df_parameters['regressed'] = df_parameters['regressed'].combine_first(parameters_B)\n",
                "df_parameters['regressed'] = df_parameters['regressed'].combine_first(parameters_C)\n",
                "\n",
                "df_parameters['prime'] = df_parameters['regressed'].combine_first(df_parameters['brix_prime'])"
            ]
        },
        {
            "cell_type": "code",
            "execution_count": null,
            "metadata": {},
            "outputs": [],
            "source": [
                "fig,ax=plt.subplots()\n",
                "fig.set_size_inches(15,5)\n",
                "\n",
                "mask = ((df_parameters['brix_prime']!=0) |\n",
                "        (pd.notnull(df_parameters['regressed']))\n",
                "       )\n",
                "                \n",
                "df_parameters_all_plot = df_parameters.loc[mask]\n",
                "\n",
                "df_parameters_all_plot.drop(index=['Xthrust']).plot.bar(y=['brix_prime','regressed'], ax=ax);"
            ]
        },
        {
            "cell_type": "code",
            "execution_count": null,
            "metadata": {},
            "outputs": [],
            "source": [
                "df_prime_ = df_prime.copy()\n",
                "df_prime_.index = df.index\n",
                "result = vmm_abkowitz.simulator.simulate(df_=df_prime_, parameters=df_parameters['prime'], \n",
                "                                ship_parameters=ship_parameters_prime)"
            ]
        },
        {
            "cell_type": "code",
            "execution_count": null,
            "metadata": {},
            "outputs": [],
            "source": [
                "result.plot_compare()"
            ]
        },
        {
            "cell_type": "code",
            "execution_count": null,
            "metadata": {},
            "outputs": [],
            "source": []
        }
    ],
    "metadata": {
        "kernelspec": {
            "display_name": "Python 3",
            "language": "python",
            "name": "python3"
        },
        "language_info": {
            "codemirror_mode": {
                "name": "ipython",
                "version": 3
            },
            "file_extension": ".py",
            "mimetype": "text/x-python",
            "name": "python",
            "nbconvert_exporter": "python",
            "pygments_lexer": "ipython3",
            "version": "3.9.5"
        }
    },
    "nbformat": 4,
    "nbformat_minor": 4
}