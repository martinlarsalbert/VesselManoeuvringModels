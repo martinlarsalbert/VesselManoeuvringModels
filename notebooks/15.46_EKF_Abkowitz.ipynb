{
 "cells": [
  {
   "cell_type": "markdown",
   "id": "536b8725-25d1-49f8-a9b0-097dab66c099",
   "metadata": {},
   "source": [
    "# Extended Kalman filter for Abkowitz model\n",
    "An Extended Kalman filter with an Abkowitz model as the predictor will be developed."
   ]
  },
  {
   "cell_type": "code",
   "execution_count": null,
   "id": "2862d35f-47e7-463d-8ba0-c3133ef47afd",
   "metadata": {
    "tags": [
     "hide-cell"
    ]
   },
   "outputs": [],
   "source": [
    "%load_ext autoreload\n",
    "%autoreload 2\n",
    "\n",
    "import warnings\n",
    "warnings.filterwarnings('ignore')\n",
    "\n",
    "import pandas as pd\n",
    "import numpy as np\n",
    "import matplotlib.pyplot as plt\n",
    "from numpy.linalg import inv\n",
    "import sympy as sp\n",
    "\n",
    "import vessel_manoeuvring_models.visualization.book_format as book_format\n",
    "book_format.set_style()\n",
    "from vessel_manoeuvring_models.substitute_dynamic_symbols import lambdify\n",
    "from sympy import Matrix\n",
    "from sympy.physics.mechanics import (dynamicsymbols, ReferenceFrame,\n",
    "                                      Particle, Point)\n",
    "from IPython.display import display, Math, Latex\n",
    "from vessel_manoeuvring_models.substitute_dynamic_symbols import run, lambdify\n",
    "from sympy.physics.vector.printing import vpprint, vlatex\n",
    "from vessel_manoeuvring_models.data import mdl\n",
    "from vessel_manoeuvring_models.kalman_filter import extended_kalman_filter\n",
    "from vessel_manoeuvring_models.models.vmm import ModelSimulator\n",
    "from vessel_manoeuvring_models.symbols import *\n",
    "from vessel_manoeuvring_models.models import vmm_abkowitz as vmm\n",
    "import vessel_manoeuvring_models.prime_system as prime_system"
   ]
  },
  {
   "cell_type": "code",
   "execution_count": null,
   "id": "18f0f145-e3eb-482f-a6aa-eb610d45245d",
   "metadata": {},
   "outputs": [],
   "source": [
    "#format the book\n",
    "import vessel_manoeuvring_models.visualization.book_format as book_format\n",
    "book_format.set_style()"
   ]
  },
  {
   "cell_type": "markdown",
   "id": "807e0abd-bbce-468f-9e3f-094d8509f30b",
   "metadata": {},
   "source": [
    "## Load model"
   ]
  },
  {
   "cell_type": "code",
   "execution_count": null,
   "id": "62a3bc58-5add-4244-a9d7-9ccc0aa7653e",
   "metadata": {},
   "outputs": [],
   "source": [
    "model = ModelSimulator.load('../models/model_VCT_abkowitz.pkl')"
   ]
  },
  {
   "cell_type": "markdown",
   "id": "afdb662d-0a75-44b8-a08a-ae1c428190c0",
   "metadata": {},
   "source": [
    "### Run a zigzag simulation with the model"
   ]
  },
  {
   "cell_type": "code",
   "execution_count": null,
   "id": "bcfaa8e5-8a85-4606-a447-1646b8aec87a",
   "metadata": {},
   "outputs": [],
   "source": [
    "u0_=2\n",
    "angle_deg = 35\n",
    "result = model.zigzag(u0=u0_, angle=angle_deg)"
   ]
  },
  {
   "cell_type": "code",
   "execution_count": null,
   "id": "864e9eef-0011-47ef-8e8a-74f6067b3ac9",
   "metadata": {},
   "outputs": [],
   "source": [
    "result.track_plot();\n",
    "result.plot(compare=False);"
   ]
  },
  {
   "cell_type": "code",
   "execution_count": null,
   "id": "0086cde6-fb8a-4a99-8678-7f93c7f70234",
   "metadata": {},
   "outputs": [],
   "source": [
    "x_0,x_01d = sp.symbols('x_0 \\dot{x_0}')\n",
    "y_0,y_01d = sp.symbols('y_0 \\dot{y_0}')\n",
    "u,u1d = sp.symbols('u \\dot{u}')\n",
    "v,v1d = sp.symbols('v \\dot{v}')\n",
    "delta = sp.symbols('delta')\n",
    "psi,psi1d = sp.symbols('\\Psi \\dot{\\Psi}')\n",
    "r,r1d = sp.symbols('r \\dot{r}')\n",
    "\n"
   ]
  },
  {
   "cell_type": "code",
   "execution_count": null,
   "id": "29dd2c6f-11b7-4d49-a2bf-bf0931de66bb",
   "metadata": {},
   "outputs": [],
   "source": [
    "from vessel_manoeuvring_models.symbols import dynamicsymbols\n",
    "subs = [\n",
    "\n",
    "    (dynamicsymbols('u').diff(),u1d),\n",
    "    (dynamicsymbols('v').diff(),v1d),\n",
    "    (dynamicsymbols('r').diff(),r1d),\n",
    "    \n",
    "    (dynamicsymbols('u'),u),\n",
    "    (dynamicsymbols('v'),v),\n",
    "    (dynamicsymbols('r'),r),\n",
    "        \n",
    "    (dynamicsymbols('delta'),delta),\n",
    "\n",
    "]\n",
    "\n",
    "X_eq = vmm.X_eq.subs(subs)\n",
    "Y_eq = vmm.Y_eq.subs(subs)\n",
    "N_eq = vmm.N_eq.subs(subs)"
   ]
  },
  {
   "cell_type": "code",
   "execution_count": null,
   "id": "84b748f8-c05a-438f-9f43-c531dfde3727",
   "metadata": {},
   "outputs": [],
   "source": [
    "subs_prime = [\n",
    "    \n",
    "    (m,m/prime_system.df_prime.mass.denominator),\n",
    "    (I_z,I_z/prime_system.df_prime.inertia_moment.denominator),\n",
    "    (x_G,x_G/prime_system.df_prime.length.denominator),\n",
    "    \n",
    "    (u, u/sp.sqrt(u**2+v**2)),\n",
    "    (v, v/sp.sqrt(u**2+v**2)),\n",
    "    (r, r/(sp.sqrt(u**2+v**2))/L),\n",
    "    \n",
    "    (u1d, u1d/((u**2+v**2)/L)),\n",
    "    (v1d, v1d/((u**2+v**2)/L)),\n",
    "    (r1d, r1d/((u**2+v**2)/(L**2))),\n",
    "    \n",
    "]"
   ]
  },
  {
   "cell_type": "code",
   "execution_count": null,
   "id": "836eeba1-fddd-4195-b47f-aab7e2c12608",
   "metadata": {},
   "outputs": [],
   "source": [
    "X_eq_SI = X_eq.subs(subs_prime)\n",
    "Y_eq_SI = Y_eq.subs(subs_prime)\n",
    "N_eq_SI = N_eq.subs(subs_prime)"
   ]
  },
  {
   "cell_type": "code",
   "execution_count": null,
   "id": "c4335f58-94fd-433c-b019-a739563a278c",
   "metadata": {},
   "outputs": [],
   "source": [
    "A_SI, b_SI = sp.linear_eq_to_matrix([X_eq_SI, Y_eq_SI, N_eq_SI], [u1d, v1d, r1d])"
   ]
  },
  {
   "cell_type": "code",
   "execution_count": null,
   "id": "a69b1f68-54bd-425b-a4ea-9fa6dbb6a2eb",
   "metadata": {},
   "outputs": [],
   "source": [
    "A_SI"
   ]
  },
  {
   "cell_type": "code",
   "execution_count": null,
   "id": "5fccde61-2371-4ac1-b002-d01d9ccca24e",
   "metadata": {},
   "outputs": [],
   "source": [
    "A_inv = A_SI.inv()\n",
    "S = sp.symbols('S')\n",
    "eq_S=sp.Eq(S,-sp.fraction(A_inv[1,1])[1])"
   ]
  },
  {
   "cell_type": "code",
   "execution_count": null,
   "id": "fe7205cb-099d-4823-a923-338a44d40a01",
   "metadata": {},
   "outputs": [],
   "source": [
    "eq_S"
   ]
  },
  {
   "cell_type": "code",
   "execution_count": null,
   "id": "0477a448-a86e-4463-bd3c-7b594c12867e",
   "metadata": {},
   "outputs": [],
   "source": [
    "acceleration = sp.matrices.MutableDenseMatrix([u1d,v1d,r1d])\n",
    "acceleartion_eq = sp.Eq(acceleration,A_inv * b_SI)\n",
    "\n",
    "acceleartion_eq"
   ]
  },
  {
   "cell_type": "code",
   "execution_count": null,
   "id": "e320fc5e-8738-4da0-a86f-167ba83f6a37",
   "metadata": {},
   "outputs": [],
   "source": [
    "u1d_function = sp.Function(r'\\dot{u}')(u,v,r,delta)\n",
    "v1d_function = sp.Function(r'\\dot{v}')(u,v,r,delta)\n",
    "r_function = sp.Function(r'\\dot{r}')(u,v,r,delta)\n",
    "\n",
    "\n",
    "eq_u1d_function = sp.Eq(u1d_function, acceleartion_eq.rhs[0])\n",
    "eq_v1d_function = sp.Eq(v1d_function, acceleartion_eq.rhs[1])\n",
    "eq_r_function = sp.Eq(r_function, acceleartion_eq.rhs[2])\n",
    "\n",
    "display(eq_u1d_function)\n",
    "display(eq_v1d_function)\n",
    "display(eq_r_function)\n",
    "\n"
   ]
  },
  {
   "cell_type": "code",
   "execution_count": null,
   "id": "6a24d0a5-4123-426c-93f5-d6c86491dd33",
   "metadata": {},
   "outputs": [],
   "source": [
    "eq_acceleartion_function = sp.Eq(acceleration,sp.matrices.MutableDenseMatrix([u1d_function,v1d_function,r_function]))\n",
    "display(eq_acceleartion_function)"
   ]
  },
  {
   "cell_type": "markdown",
   "id": "54dda6b2-9d35-4651-827e-388addb7f161",
   "metadata": {},
   "source": [
    "### Simulation model"
   ]
  },
  {
   "cell_type": "code",
   "execution_count": null,
   "id": "d44620df-3865-41b1-a115-fb6760243743",
   "metadata": {},
   "outputs": [],
   "source": [
    "x, x1d = sp.symbols(r'\\vec{x} \\dot{\\vec{x}}')  # State vector\n",
    "h = sp.symbols('h')\n",
    "u_input = sp.symbols(r'u_{input}')  # input vector\n",
    "w_noise = sp.symbols(r'w_{noise}')  # input vector"
   ]
  },
  {
   "cell_type": "code",
   "execution_count": null,
   "id": "00bff542-c1be-4ebb-a22b-7be64e6e24a4",
   "metadata": {
    "tags": [
     "remove-input"
    ]
   },
   "outputs": [],
   "source": [
    "f = sp.Function('f')(x,u_input,w_noise)\n",
    "eq_system = sp.Eq(x1d, f)\n",
    "eq_system"
   ]
  },
  {
   "cell_type": "markdown",
   "id": "9db3fc04-8d1f-48c5-92f5-edf82381247e",
   "metadata": {},
   "source": [
    "Where the state vector $\\vec{x}$:"
   ]
  },
  {
   "cell_type": "code",
   "execution_count": null,
   "id": "197673cb-dcc9-455d-8039-8aa0a9d1cbdf",
   "metadata": {
    "tags": [
     "remove-input"
    ]
   },
   "outputs": [],
   "source": [
    "eq_x = sp.Eq(x, sp.UnevaluatedExpr(Matrix([x_0, y_0, psi, u, v, r])))\n",
    "eq_x"
   ]
  },
  {
   "cell_type": "code",
   "execution_count": null,
   "id": "e3e70b65-5f0c-4b06-a4ce-4374780af8ea",
   "metadata": {},
   "outputs": [],
   "source": [
    "eq_x0_1d = sp.Eq(x_01d,u)\n",
    "eq_y0_1d = sp.Eq(y_01d,v)\n",
    "eq_psi_1d = sp.Eq(psi1d,r)\n",
    "\n",
    "display(eq_x0_1d)\n",
    "display(eq_y0_1d)\n",
    "display(eq_psi_1d)\n"
   ]
  },
  {
   "cell_type": "code",
   "execution_count": null,
   "id": "d9d520dc-5c27-426e-b803-f7536d948885",
   "metadata": {},
   "outputs": [],
   "source": [
    "eq_f =sp.Eq(f,\n",
    "sp.UnevaluatedExpr(\n",
    "Matrix([\n",
    "    eq_x0_1d.rhs,\n",
    "    eq_y0_1d.rhs,\n",
    "    eq_psi_1d.rhs,\n",
    "    eq_u1d_function.lhs,\n",
    "    eq_v1d_function.lhs,\n",
    "    eq_r_function.lhs,\n",
    "    \n",
    "]\n",
    "))\n",
    ")\n",
    "display(eq_f)\n"
   ]
  },
  {
   "cell_type": "code",
   "execution_count": null,
   "id": "d20e78f8-dd3f-4c43-a824-eff05c29ceda",
   "metadata": {},
   "outputs": [],
   "source": [
    "f_explicit = Matrix([\n",
    "    eq_x0_1d.rhs,\n",
    "    eq_y0_1d.rhs,\n",
    "    eq_psi_1d.rhs,\n",
    "    eq_u1d_function.rhs,\n",
    "    eq_v1d_function.rhs,\n",
    "    eq_r_function.rhs,\n",
    "    \n",
    "]\n",
    ")\n"
   ]
  },
  {
   "cell_type": "code",
   "execution_count": null,
   "id": "ba7210b4-dcc8-48a6-96ae-5abca57dc495",
   "metadata": {},
   "outputs": [],
   "source": [
    "eq_f.rhs.doit().jacobian(eq_x.rhs.doit())"
   ]
  },
  {
   "cell_type": "code",
   "execution_count": null,
   "id": "8814586a-541c-412e-acae-fb6d5a8cad73",
   "metadata": {},
   "outputs": [],
   "source": [
    "Ad = sp.eye(6,6) + Matrix([\n",
    "    eq_x0_1d.rhs,\n",
    "    eq_y0_1d.rhs,\n",
    "    eq_psi_1d.rhs,\n",
    "    eq_u1d_function.rhs,\n",
    "    eq_v1d_function.rhs,\n",
    "    eq_r_function.rhs,\n",
    "    \n",
    "]\n",
    ").jacobian(eq_x.rhs.doit())*h"
   ]
  },
  {
   "cell_type": "code",
   "execution_count": null,
   "id": "8d4fa862-f708-4dbc-853c-1cce8e854141",
   "metadata": {},
   "outputs": [],
   "source": [
    "from vessel_manoeuvring_models.parameters import df_parameters\n",
    "p = df_parameters[\"symbol\"]\n",
    "subs = {value: key for key, value in p.items()}"
   ]
  },
  {
   "cell_type": "code",
   "execution_count": null,
   "id": "a85902ec-50d2-4863-a63b-befe5f1bb780",
   "metadata": {},
   "outputs": [],
   "source": [
    "lambda_f = lambdify(f_explicit.subs(subs))"
   ]
  },
  {
   "cell_type": "code",
   "execution_count": null,
   "id": "f8de2351-35de-403c-a419-e89b0ff38ca9",
   "metadata": {},
   "outputs": [],
   "source": [
    "lambda_f"
   ]
  },
  {
   "cell_type": "code",
   "execution_count": null,
   "id": "781a0c2b-d49f-4de7-8f72-2add0912889e",
   "metadata": {},
   "outputs": [],
   "source": [
    "output = run(lambda_f, inputs=result.result, **model.ship_parameters, **model.parameters, h=h_)"
   ]
  },
  {
   "cell_type": "code",
   "execution_count": null,
   "id": "f9ca9512-6807-4547-bb1f-543911d35e56",
   "metadata": {},
   "outputs": [],
   "source": [
    "output.shape"
   ]
  },
  {
   "cell_type": "code",
   "execution_count": null,
   "id": "9f838b69-7db1-4ba5-9b54-562fd31e0a9f",
   "metadata": {},
   "outputs": [],
   "source": [
    "def simulate(E, ws, t, us):\n",
    "    \n",
    "    simdata = []\n",
    "    x_=np.deg2rad(np.zeros((6,1)))\n",
    "    \n",
    "    for u_,w_ in zip(us,ws):\n",
    "               \n",
    "        u = x_[3]\n",
    "        v = x_[4]\n",
    "        r = x_[5]\n",
    "        delta = u_\n",
    "                        \n",
    "        x_=x_ + h_*run(lambda_f, u=u, v=v, r=r, delta=delta, **model.ship_parameters, **model.parameters,)\n",
    "    \n",
    "        simdata.append(x_.flatten())\n",
    "        \n",
    "    simdata = np.array(simdata)\n",
    "    df = pd.DataFrame(simdata, columns=[\"x0\",\"y0\",\"psi\",\"u\",\"v\",\"r\"], index=t)\n",
    "    df['delta'] = us\n",
    "    \n",
    "    return df"
   ]
  },
  {
   "cell_type": "code",
   "execution_count": null,
   "id": "1f1fe382-9c87-4419-81a4-5c3b97d38c90",
   "metadata": {},
   "outputs": [],
   "source": [
    "np.random.seed(42)\n",
    "df = result.result.iloc[0:100]\n",
    "N_ = len(df)\n",
    "E = np.array([[0, 1]]).T\n",
    "process_noise = 0\n",
    "ws = process_noise*np.random.normal(size=N_)\n",
    "\n",
    "\n",
    "us = df['delta'].values\n",
    "t_ = df.index\n",
    "h_ = t_[1]-t_[0]\n",
    "\n",
    "df2 = simulate(E=E, ws=ws, t=t_, us=us)"
   ]
  },
  {
   "cell_type": "code",
   "execution_count": null,
   "id": "60975ec3-542b-4865-803d-e10636360b47",
   "metadata": {},
   "outputs": [],
   "source": []
  }
 ],
 "metadata": {
  "citation-manager": {
   "items": {}
  },
  "kernelspec": {
   "display_name": "Python 3",
   "language": "python",
   "name": "python3"
  },
  "language_info": {
   "codemirror_mode": {
    "name": "ipython",
    "version": 3
   },
   "file_extension": ".py",
   "mimetype": "text/x-python",
   "name": "python",
   "nbconvert_exporter": "python",
   "pygments_lexer": "ipython3",
   "version": "3.9.5"
  }
 },
 "nbformat": 4,
 "nbformat_minor": 5
}
