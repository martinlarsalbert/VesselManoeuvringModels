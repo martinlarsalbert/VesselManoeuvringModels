{
 "cells": [
  {
   "cell_type": "markdown",
   "metadata": {},
   "source": [
    "# PIT on simplified linear Nomoto for many runs"
   ]
  },
  {
   "cell_type": "markdown",
   "metadata": {},
   "source": [
    "# Purpose\n",
    "Run PIT on a series of tests the find the best average parameters"
   ]
  },
  {
   "cell_type": "markdown",
   "metadata": {},
   "source": [
    "# Methodology\n",
    "* Load time series an concatenate into a large y and X.\n",
    "* Run OLS regression."
   ]
  },
  {
   "cell_type": "markdown",
   "metadata": {},
   "source": [
    "# Setup"
   ]
  },
  {
   "cell_type": "code",
   "execution_count": null,
   "metadata": {},
   "outputs": [],
   "source": [
    "# %load imports.py\n",
    "%matplotlib inline\n",
    "%load_ext autoreload\n",
    "%autoreload 2\n",
    "\n",
    "## External packages:\n",
    "import pandas as pd\n",
    "pd.options.display.max_rows = 999\n",
    "pd.options.display.max_columns = 999\n",
    "pd.set_option(\"display.max_columns\", None)\n",
    "\n",
    "import numpy as np\n",
    "import os\n",
    "import matplotlib.pyplot as plt\n",
    "\n",
    "import plotly.express as px \n",
    "import plotly.graph_objects as go\n",
    "\n",
    "import seaborn as sns\n",
    "import sympy as sp\n",
    "from sympy.physics.mechanics import (dynamicsymbols, ReferenceFrame,\n",
    "                                      Particle, Point)\n",
    "from sympy.physics.vector.printing import vpprint, vlatex\n",
    "from IPython.display import display, Math, Latex\n",
    "from vessel_manoeuvring_models.substitute_dynamic_symbols import run, lambdify\n",
    "\n",
    "import pyro\n",
    "\n",
    "import sklearn\n",
    "import pykalman\n",
    "from statsmodels.sandbox.regression.predstd import wls_prediction_std\n",
    "import statsmodels.api as sm\n",
    "\n",
    "from scipy.integrate import solve_ivp\n",
    "\n",
    "## Local packages:\n",
    "from vessel_manoeuvring_models.data import mdl\n",
    "\n",
    "\n"
   ]
  },
  {
   "cell_type": "markdown",
   "metadata": {},
   "source": [
    "## Load tests"
   ]
  },
  {
   "cell_type": "code",
   "execution_count": null,
   "metadata": {},
   "outputs": [],
   "source": [
    "df_runs = mdl.runs()"
   ]
  },
  {
   "cell_type": "code",
   "execution_count": null,
   "metadata": {},
   "outputs": [],
   "source": [
    "mask = ~df_runs['sailing']\n",
    "df_tests = df_runs.loc[mask]"
   ]
  },
  {
   "cell_type": "code",
   "execution_count": null,
   "metadata": {},
   "outputs": [],
   "source": [
    "df = pd.DataFrame()\n",
    "\n",
    "for id, row in df_tests.iterrows():\n",
    "\n",
    "    df_ = mdl.load_run(id=id, dir_path='../data/processed/kalman/')\n",
    "    df_['time'] = df_.index\n",
    "    df_['id'] = id\n",
    "    df = df.append(df_, ignore_index=True, )\n",
    "    "
   ]
  },
  {
   "cell_type": "code",
   "execution_count": null,
   "metadata": {},
   "outputs": [],
   "source": [
    "px.line(df, x='y0', y='x0', width=1000, height=1000, line_group='id', color='id')"
   ]
  },
  {
   "cell_type": "markdown",
   "metadata": {},
   "source": [
    "# First order Nomoto model for ship maneuvering dynamics\n",
    "The first order Nomoto model can be written as:"
   ]
  },
  {
   "cell_type": "code",
   "execution_count": null,
   "metadata": {},
   "outputs": [],
   "source": [
    "K, delta, T_1, T_2 = sp.symbols('K delta T_1 T_2')\n",
    "r = dynamicsymbols('r')\n",
    "\n",
    "eq_nomoto = sp.Eq(-K*delta,\n",
    "                 r + T_1*r1d + T_2*r1d.diff())\n",
    "Math(vlatex(eq_nomoto))"
   ]
  },
  {
   "cell_type": "markdown",
   "metadata": {},
   "source": [
    "where $r$ is yaw rate with its time derivatives and $\\delta$ is the rudder angle. $K$, $T_{1}$\n",
    " and $T_{1}$ are the coefficients describing the hydrodynamics of the ship.\n",
    " \n",
    "For slow manoeuvres this equation can be further simplified by removing the $\\ddot{r}$ term:"
   ]
  },
  {
   "cell_type": "code",
   "execution_count": null,
   "metadata": {},
   "outputs": [],
   "source": [
    "eq_nomoto_simple = eq_nomoto.subs(r1d.diff(),0)\n",
    "Math(vlatex(eq_nomoto_simple))"
   ]
  },
  {
   "cell_type": "code",
   "execution_count": null,
   "metadata": {},
   "outputs": [],
   "source": [
    "eq_r1 = sp.Eq(r1d,\n",
    "             sp.solve(eq_nomoto_simple, r1d)[0])\n",
    "r1d_lambda = lambdify(sp.solve(eq_nomoto_simple, r1d)[0])\n",
    "Math(vlatex(eq_r1))\n"
   ]
  },
  {
   "cell_type": "code",
   "execution_count": null,
   "metadata": {},
   "outputs": [],
   "source": [
    "def nomoto(t,states,df_control,params):\n",
    "    \"\"\"\n",
    "    Simulation model for heading and yaw rate using Nomoto with only K and T_1\n",
    "    \"\"\"\n",
    "    # states:\n",
    "    psi = states[0]\n",
    "    r = states[1]\n",
    "    \n",
    "    index = df_control.index.get_loc(t, method='nearest')\n",
    "    delta = float(df_control['delta'].iloc[index])\n",
    "    r1d_ = r1d_lambda(K=params['K'], T_1=params['T_1'], delta=delta, r=r)\n",
    "    d_states_dt = np.array([r,r1d_])\n",
    "    return d_states_dt"
   ]
  },
  {
   "cell_type": "markdown",
   "metadata": {},
   "source": [
    "## Regress nomoto parameters"
   ]
  },
  {
   "cell_type": "code",
   "execution_count": null,
   "metadata": {},
   "outputs": [],
   "source": [
    "eq_r1"
   ]
  },
  {
   "cell_type": "code",
   "execution_count": null,
   "metadata": {},
   "outputs": [],
   "source": [
    "eq_r1.rhs"
   ]
  },
  {
   "cell_type": "code",
   "execution_count": null,
   "metadata": {},
   "outputs": [],
   "source": [
    "y = df['r1d']\n",
    "X = df[['delta','r']] \n",
    "\n",
    "#y = df_control['r1d_numerical']\n",
    "#X = df_control[['delta','r_numerical']] \n",
    "#X.rename(columns={'r_numerical': 'r'}, inplace=True)\n",
    "\n",
    "model = sm.OLS(y,X)\n",
    "results = model.fit()\n",
    "results.summary()"
   ]
  },
  {
   "cell_type": "code",
   "execution_count": null,
   "metadata": {},
   "outputs": [],
   "source": [
    "df_pred = df.copy()\n",
    "df_pred['r1d_pred'] = results.predict(X)\n",
    "prstd, iv_l, iv_u = wls_prediction_std(results, exog=X, alpha=0.10)\n",
    "df_pred['iv_l'] = iv_l\n",
    "df_pred['iv_u'] = iv_u\n",
    "\n",
    "\n",
    "px.line(data_frame=df_pred.resample('1S').mean(), y=['r1d_pred','iv_l','iv_u'], width=1400, height=300,)\n"
   ]
  },
  {
   "cell_type": "code",
   "execution_count": null,
   "metadata": {},
   "outputs": [],
   "source": [
    "params={}\n",
    "params['T_1'] = -1/results.params['r']\n",
    "params['K'] = -results.params['delta']*params['T_1']"
   ]
  },
  {
   "cell_type": "code",
   "execution_count": null,
   "metadata": {},
   "outputs": [],
   "source": [
    "def simulate(df, params):\n",
    "    \n",
    "    states_0 = np.array([df.iloc[0]['psi'],df.iloc[0]['r']])\n",
    "\n",
    "    df_sim = df.copy()\n",
    "\n",
    "    t = df_sim.index\n",
    "\n",
    "    sol = solve_ivp(fun = nomoto,t_span=[t[0],t[-1]],t_eval=t, y0 = states_0, args=(df_sim,params))\n",
    "    df_sim['psi'] = sol.y[0,:]\n",
    "    df_sim['r'] = sol.y[1,:]\n",
    "    \n",
    "    return df_sim\n",
    "    "
   ]
  },
  {
   "cell_type": "code",
   "execution_count": null,
   "metadata": {},
   "outputs": [],
   "source": [
    "def plot_sim(df, df_sim):\n",
    "    \n",
    "    fig,ax=plt.subplots()\n",
    "    df['psi_deg'] = np.rad2deg(df['psi'])\n",
    "    df.plot(y='psi_deg', label='model test', ax=ax)\n",
    "    \n",
    "    df['-delta_deg'] = -np.rad2deg(df['delta'])\n",
    "    df.plot(y='-delta_deg', label=r'$-\\delta$', ax=ax)\n",
    "    \n",
    "    df_sim['psi_deg'] = np.rad2deg(df_sim['psi'])\n",
    "    df_sim.plot(y='psi_deg', label='simulation', ax=ax)\n",
    "    \n",
    "    ax.grid(True)\n",
    "    ax.set_title('Resimulation with Nomoto model')\n",
    "    ax.set_ylabel('$\\psi$ [deg]')\n",
    "    ax.set_xlabel('time [s]');\n",
    "    ax.legend();\n",
    "    return ax\n"
   ]
  },
  {
   "cell_type": "code",
   "execution_count": null,
   "metadata": {},
   "outputs": [],
   "source": [
    "y_lim_min = (-10,10)\n",
    "\n",
    "for id, test in df.groupby(by='id'):\n",
    "    \n",
    "    meta_data = df_tests.loc[id]\n",
    "    \n",
    "    test.index = pd.TimedeltaIndex(test['time']).total_seconds()\n",
    "    \n",
    "    df_sim = simulate(df=test, params=params)\n",
    "    ax = plot_sim(df=test, df_sim=df_sim)\n",
    "    ax.set_title(f'test : {id} {meta_data[\"test_type\"]} {meta_data[\"comment\"]}')\n",
    "    \n",
    "    y_lim = ax.get_ylim()\n",
    "    ax.set_ylim(np.min([y_lim_min[0], y_lim[0]]),\n",
    "                np.max([y_lim_min[1], y_lim[1]]))\n",
    "        "
   ]
  },
  {
   "cell_type": "code",
   "execution_count": null,
   "metadata": {},
   "outputs": [],
   "source": []
  }
 ],
 "metadata": {
  "kernelspec": {
   "display_name": "Python 3",
   "language": "python",
   "name": "python3"
  },
  "language_info": {
   "codemirror_mode": {
    "name": "ipython",
    "version": 3
   },
   "file_extension": ".py",
   "mimetype": "text/x-python",
   "name": "python",
   "nbconvert_exporter": "python",
   "pygments_lexer": "ipython3",
   "version": "3.9.5"
  }
 },
 "nbformat": 4,
 "nbformat_minor": 4
}
