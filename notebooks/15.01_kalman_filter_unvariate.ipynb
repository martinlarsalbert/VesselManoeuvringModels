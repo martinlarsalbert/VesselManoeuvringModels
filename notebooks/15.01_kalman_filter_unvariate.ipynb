{
 "cells": [
  {
   "cell_type": "markdown",
   "metadata": {},
   "source": [
    "# Unvariate Kalman filter"
   ]
  },
  {
   "cell_type": "markdown",
   "metadata": {},
   "source": [
    "# Purpose\n",
    "* implementation of 1D linear kalman filter inspired by: [Kalman-and-Bayesian-Filters-in-Python/blob/master/04-One-Dimensional-Kalman-Filters](https://github.com/rlabbe/Kalman-and-Bayesian-Filters-in-Python/blob/master/04-One-Dimensional-Kalman-Filters.ipynb)"
   ]
  },
  {
   "cell_type": "markdown",
   "metadata": {},
   "source": [
    "# Methodology\n",
    "* Implement a kalman filter to chase a ship at steady velocity"
   ]
  },
  {
   "cell_type": "markdown",
   "metadata": {},
   "source": [
    "# Setup"
   ]
  },
  {
   "cell_type": "code",
   "execution_count": null,
   "metadata": {},
   "outputs": [],
   "source": [
    "# %load imports.py\n",
    "\n",
    "%matplotlib inline\n",
    "%load_ext autoreload\n",
    "%autoreload 2\n",
    "\n",
    "import pandas as pd\n",
    "pd.options.display.max_rows = 999\n",
    "pd.options.display.max_columns = 999\n",
    "pd.set_option(\"display.max_columns\", None)\n",
    "import numpy as np\n",
    "import os\n",
    "import matplotlib.pyplot as plt\n",
    "import seaborn as sns\n",
    "from scipy.stats import norm\n",
    "import filterpy.stats as stats"
   ]
  },
  {
   "cell_type": "code",
   "execution_count": null,
   "metadata": {},
   "outputs": [],
   "source": [
    "from collections import namedtuple\n",
    "gaussian = namedtuple('Gaussian', ['mean', 'var'])\n",
    "gaussian.__repr__ = lambda s: '𝒩(μ={:.3f}, 𝜎²={:.3f})'.format(s[0], s[1])"
   ]
  },
  {
   "cell_type": "code",
   "execution_count": null,
   "metadata": {},
   "outputs": [],
   "source": [
    "gaussian(mean=0, var=1)"
   ]
  },
  {
   "cell_type": "markdown",
   "metadata": {},
   "source": [
    "What is the sum of two Gaussians? In the last chapter I proved that:\n",
    "\n",
    "$$\\begin{gathered}\n",
    "\\mu = \\mu_1 + \\mu_2 \\\\\n",
    "\\sigma^2 = \\sigma^2_1 + \\sigma^2_2\n",
    "\\end{gathered}$$"
   ]
  },
  {
   "cell_type": "code",
   "execution_count": null,
   "metadata": {},
   "outputs": [],
   "source": [
    "def predict(pos, movement):\n",
    "    return gaussian(pos.mean + movement.mean, pos.var + movement.var)"
   ]
  },
  {
   "cell_type": "code",
   "execution_count": null,
   "metadata": {},
   "outputs": [],
   "source": [
    "def gaussian_multiply(g1, g2):\n",
    "    mean = (g1.var * g2.mean + g2.var * g1.mean) / (g1.var + g2.var)\n",
    "    variance = (g1.var * g2.var) / (g1.var + g2.var)\n",
    "    return gaussian(mean, variance)\n",
    "\n",
    "def update(prior, likelihood):\n",
    "    posterior = gaussian_multiply(likelihood, prior)\n",
    "    return posterior"
   ]
  },
  {
   "cell_type": "code",
   "execution_count": null,
   "metadata": {},
   "outputs": [],
   "source": [
    "z = gaussian(10., 1.)  # Gaussian N(10, 1)\n",
    "\n",
    "product = gaussian_multiply(z, z)\n",
    "\n",
    "xs = np.arange(5, 15, 0.1)\n",
    "ys = [stats.gaussian(x, z.mean, z.var) for x in xs]\n",
    "plt.plot(xs, ys, label='$\\mathcal{N}(10,1)$')\n",
    "\n",
    "ys = [stats.gaussian(x, product.mean, product.var) for x in xs]\n",
    "plt.plot(xs, ys, label='$\\mathcal{N}(10,1) \\\\times \\mathcal{N}(10,1)$', ls='--')\n",
    "plt.legend()\n",
    "print(product)"
   ]
  },
  {
   "cell_type": "markdown",
   "metadata": {},
   "source": [
    "## Kalman filtering"
   ]
  },
  {
   "cell_type": "code",
   "execution_count": null,
   "metadata": {},
   "outputs": [],
   "source": [
    "t_=np.linspace(0,10,N)\n",
    "dt = t_[1]-t_[0]\n",
    "v_=2\n",
    "x_real = v_*t_ \n",
    "N = 20\n",
    "process_error = np.random.normal(scale=1, size=N)\n",
    "measurement_error = np.random.normal(scale=5, size=N) \n",
    "zs = x_real + process_error + measurement_error"
   ]
  },
  {
   "cell_type": "code",
   "execution_count": null,
   "metadata": {},
   "outputs": [],
   "source": [
    "ship_simulation = ShipSimulation(x0=0.0, velocity=5.5, measurement_var=1.0, process_var=2.0)\n",
    "\n",
    "process_var = 0.5**2.\n",
    "sensor_var = 5**2\n",
    "x = gaussian(0., sensor_var**2)\n",
    "process_model = gaussian(v_*dt, process_var)\n",
    "\n",
    "xs, priors = np.zeros((N, 2)), np.zeros((N, 2))\n",
    "for i, z in enumerate(zs):\n",
    "    prior = predict(x, process_model)    \n",
    "    x = update(prior, gaussian(z, sensor_var))\n",
    "    priors[i] = prior\n",
    "    \n",
    "    xs[i] = x"
   ]
  },
  {
   "cell_type": "code",
   "execution_count": null,
   "metadata": {},
   "outputs": [],
   "source": [
    "fig,ax=plt.subplots()\n",
    "\n",
    "ax.plot(t_, x_real, '-', label='real')\n",
    "ax.plot(t_, zs, 'o', label='measurement')\n",
    "\n",
    "ax.plot(t_, xs[:,0], '-', label='filter')\n",
    "\n",
    "ax.legend()\n",
    "\n",
    "fig,ax=plt.subplots()\n",
    "ax.plot(t_, xs[:,1])\n",
    "\n",
    "fig,ax=plt.subplots()\n",
    "ax.plot(t_, priors[:,1])\n",
    "\n"
   ]
  },
  {
   "cell_type": "code",
   "execution_count": null,
   "metadata": {},
   "outputs": [],
   "source": [
    "for x in xs[0::5]:\n",
    "\n",
    "    mu = x[0]\n",
    "    var = x[1]\n",
    "    sigma = sqrt(var)\n",
    "        \n",
    "    xs_ = np.linspace(mu-3*sigma, mu+3*sigma,100)\n",
    "    \n",
    "    ys_ = [stats.gaussian(x_, mu, var) for x_ in xs_]\n",
    "    plt.plot(xs_, ys_, ls='--')\n"
   ]
  },
  {
   "cell_type": "code",
   "execution_count": null,
   "metadata": {},
   "outputs": [],
   "source": [
    "for x in priors[0::5]:\n",
    "\n",
    "    mu = x[0]\n",
    "    var = x[1]\n",
    "    sigma = sqrt(var)\n",
    "        \n",
    "    xs_ = np.linspace(mu-3*sigma, mu+3*sigma,100)\n",
    "    \n",
    "    ys_ = [stats.gaussian(x_, mu, var) for x_ in xs_]\n",
    "    plt.plot(xs_, ys_, ls='--')\n"
   ]
  },
  {
   "cell_type": "code",
   "execution_count": null,
   "metadata": {},
   "outputs": [],
   "source": []
  }
 ],
 "metadata": {
  "citation-manager": {
   "items": {}
  },
  "kernelspec": {
   "display_name": "Python 3",
   "language": "python",
   "name": "python3"
  },
  "language_info": {
   "codemirror_mode": {
    "name": "ipython",
    "version": 3
   },
   "file_extension": ".py",
   "mimetype": "text/x-python",
   "name": "python",
   "nbconvert_exporter": "python",
   "pygments_lexer": "ipython3",
   "version": "3.9.5"
  }
 },
 "nbformat": 4,
 "nbformat_minor": 4
}
