{
 "cells": [
  {
   "cell_type": "markdown",
   "metadata": {},
   "source": [
    "# Unvariate Kalman filter"
   ]
  },
  {
   "cell_type": "markdown",
   "metadata": {},
   "source": [
    "# Purpose\n",
    "* implementation of 1D linear kalman filter inspired by: [Kalman-and-Bayesian-Filters-in-Python/blob/master/04-One-Dimensional-Kalman-Filters](https://github.com/rlabbe/Kalman-and-Bayesian-Filters-in-Python/blob/master/04-One-Dimensional-Kalman-Filters.ipynb)"
   ]
  },
  {
   "cell_type": "markdown",
   "metadata": {},
   "source": [
    "# Methodology\n",
    "* Implement a kalman filter to chase a ship at steady velocity"
   ]
  },
  {
   "cell_type": "markdown",
   "metadata": {},
   "source": [
    "# Setup"
   ]
  },
  {
   "cell_type": "code",
   "execution_count": null,
   "metadata": {},
   "outputs": [],
   "source": [
    "# %load imports.py\n",
    "\n",
    "%matplotlib inline\n",
    "%load_ext autoreload\n",
    "%autoreload 2\n",
    "\n",
    "import pandas as pd\n",
    "pd.options.display.max_rows = 999\n",
    "pd.options.display.max_columns = 999\n",
    "pd.set_option(\"display.max_columns\", None)\n",
    "import numpy as np\n",
    "import os\n",
    "import matplotlib.pyplot as plt\n",
    "import seaborn as sns\n",
    "from scipy.stats import norm\n",
    "import filterpy.stats as stats"
   ]
  },
  {
   "cell_type": "code",
   "execution_count": null,
   "metadata": {},
   "outputs": [],
   "source": [
    "from collections import namedtuple\n",
    "gaussian = namedtuple('Gaussian', ['mean', 'var'])\n",
    "gaussian.__repr__ = lambda s: '𝒩(μ={:.3f}, 𝜎²={:.3f})'.format(s[0], s[1])"
   ]
  },
  {
   "cell_type": "code",
   "execution_count": null,
   "metadata": {},
   "outputs": [],
   "source": [
    "gaussian(mean=0, var=1)"
   ]
  },
  {
   "cell_type": "markdown",
   "metadata": {},
   "source": [
    "What is the sum of two Gaussians? In the last chapter I proved that:\n",
    "\n",
    "$$\\begin{gathered}\n",
    "\\mu = \\mu_1 + \\mu_2 \\\\\n",
    "\\sigma^2 = \\sigma^2_1 + \\sigma^2_2\n",
    "\\end{gathered}$$"
   ]
  },
  {
   "cell_type": "code",
   "execution_count": null,
   "metadata": {},
   "outputs": [],
   "source": [
    "def predict(pos, movement):\n",
    "    return gaussian(pos.mean + movement.mean, pos.var + movement.var)"
   ]
  },
  {
   "cell_type": "code",
   "execution_count": null,
   "metadata": {},
   "outputs": [],
   "source": [
    "def gaussian_multiply(g1, g2):\n",
    "    mean = (g1.var * g2.mean + g2.var * g1.mean) / (g1.var + g2.var)\n",
    "    variance = (g1.var * g2.var) / (g1.var + g2.var)\n",
    "    return gaussian(mean, variance)\n",
    "\n",
    "def update(prior, likelihood):\n",
    "    posterior = gaussian_multiply(likelihood, prior)\n",
    "    return posterior"
   ]
  },
  {
   "cell_type": "code",
   "execution_count": null,
   "metadata": {},
   "outputs": [],
   "source": [
    "z = gaussian(10., 1.)  # Gaussian N(10, 1)\n",
    "\n",
    "product = gaussian_multiply(z, z)\n",
    "\n",
    "xs = np.arange(5, 15, 0.1)\n",
    "ys = [stats.gaussian(x, z.mean, z.var) for x in xs]\n",
    "plt.plot(xs, ys, label='$\\mathcal{N}(10,1)$')\n",
    "\n",
    "ys = [stats.gaussian(x, product.mean, product.var) for x in xs]\n",
    "plt.plot(xs, ys, label='$\\mathcal{N}(10,1) \\\\times \\mathcal{N}(10,1)$', ls='--')\n",
    "plt.legend()\n",
    "print(product)"
   ]
  },
  {
   "cell_type": "code",
   "execution_count": null,
   "metadata": {},
   "outputs": [],
   "source": [
    "z1 = gaussian(-3., 1)  # Gaussian N(10, 1)\n",
    "z2 = gaussian(3., 1)  # Gaussian N(10, 1)\n",
    "\n",
    "product = gaussian_multiply(z1, z2)\n",
    "\n",
    "xs = np.arange(-6, 6, 0.1)\n",
    "\n",
    "ys = [stats.gaussian(x, z1.mean, z1.var) for x in xs]\n",
    "plt.plot(xs, ys, label='$\\mathcal{N}(-3,1)$')\n",
    "\n",
    "ys = [stats.gaussian(x, z2.mean, z2.var) for x in xs]\n",
    "plt.plot(xs, ys, label='$\\mathcal{N}(3,1)$')\n",
    "\n",
    "\n",
    "ys = [stats.gaussian(x, product.mean, product.var) for x in xs]\n",
    "plt.plot(xs, ys, label='$\\mathcal{N}(10,1) \\\\times \\mathcal{N}(10,1)$', ls='--')\n",
    "plt.legend()\n",
    "print(product)"
   ]
  },
  {
   "cell_type": "code",
   "execution_count": null,
   "metadata": {},
   "outputs": [],
   "source": [
    "v = 5.5\n",
    "N=7\n",
    "t = np.linspace(0,10,N)\n",
    "dt = t[1]-t[0]\n",
    "x_real = v*t\n",
    "\n",
    "np.random.seed(42)\n",
    "\n",
    "sensor_var = 3**2\n",
    "epsilon = np.random.normal(scale=np.sqrt(sensor_var), size=N)\n",
    "\n",
    "process_var = 1**2\n",
    "w = np.random.normal(scale=np.sqrt(process_var), size=N)\n",
    "\n",
    "zs = x_real + epsilon*dt + w*dt"
   ]
  },
  {
   "cell_type": "markdown",
   "metadata": {},
   "source": [
    "## Kalman filtering"
   ]
  },
  {
   "cell_type": "code",
   "execution_count": null,
   "metadata": {
    "tags": []
   },
   "outputs": [],
   "source": [
    "def kalman(x0, process_model, zs, sensor_var = 5**2):\n",
    "    \n",
    "    prior = x0\n",
    "    \n",
    "    xs = np.zeros((N, 2))\n",
    "    priors = np.zeros((N, 2))\n",
    "    for i, z in enumerate(zs):\n",
    "         \n",
    "        z_ = gaussian(z, sensor_var)\n",
    "        x = update(prior=prior, likelihood=z_)\n",
    "        \n",
    "        # Save\n",
    "        priors[i] = prior\n",
    "        xs[i] = x\n",
    "        \n",
    "        prior = predict(pos=x, movement=process_model)   \n",
    "        \n",
    "    return priors, xs"
   ]
  },
  {
   "cell_type": "code",
   "execution_count": null,
   "metadata": {},
   "outputs": [],
   "source": [
    "process_model = gaussian(v*dt, process_var)\n",
    "process_model"
   ]
  },
  {
   "cell_type": "code",
   "execution_count": null,
   "metadata": {},
   "outputs": [],
   "source": [
    "x0 = gaussian(0., sensor_var**2)\n",
    "process_model = gaussian(3.0*v*dt, process_var)\n",
    "priors, xs = kalman(x0=x0, process_model=process_model, zs=zs, sensor_var=sensor_var)"
   ]
  },
  {
   "cell_type": "code",
   "execution_count": null,
   "metadata": {},
   "outputs": [],
   "source": [
    "fig,ax=plt.subplots()\n",
    "\n",
    "ax.plot(t, x_real, '-', label='real')\n",
    "ax.plot(t, zs, 'o', label='measurement')\n",
    "ax.plot(t, xs[:,0], '-', label='filter')\n",
    "ax.plot(t, priors[:,0], '--', label='prior')\n",
    "ax.legend()\n",
    "\n",
    "\n",
    "fig,ax=plt.subplots()\n",
    "ax.plot([t[0],t[-1]], [sensor_var, sensor_var], label='measurement')\n",
    "ax.plot(t, xs[:,1], label='filter')\n",
    "ax.plot(t, priors[:,1], label='prior')\n",
    "ax.set_title('Variances')\n",
    "ax.set_ylim(0,50)\n",
    "ax.legend();\n",
    "\n"
   ]
  },
  {
   "cell_type": "code",
   "execution_count": null,
   "metadata": {},
   "outputs": [],
   "source": [
    "def plot_filter(xs):\n",
    "\n",
    "\n",
    "    fig,ax=plt.subplots()\n",
    "    \n",
    "    likelihoods = []\n",
    "    for x in xs:\n",
    "    \n",
    "        mu = x[0]\n",
    "        var = x[1]\n",
    "        sigma = np.sqrt(var)\n",
    "            \n",
    "        rv = stats.multivariate_normal(mean=mu, cov=[var])\n",
    "        likelihoods.append(rv.pdf(mu))\n",
    "        \n",
    "        xs_ = np.linspace(mu-3*sigma, mu+3*sigma,100)\n",
    "        ys_ = rv.pdf(xs_)\n",
    "            \n",
    "        ax.plot(xs_, ys_, ls='-')\n",
    "        \n",
    "    ax.plot(xs[:,0], likelihoods)\n",
    "        \n",
    "    ax.set_xlabel(r'$\\hat{x}$')\n",
    "    ax.set_ylabel('density');\n",
    "\n"
   ]
  },
  {
   "cell_type": "code",
   "execution_count": null,
   "metadata": {},
   "outputs": [],
   "source": [
    "plot_filter(xs)"
   ]
  },
  {
   "cell_type": "code",
   "execution_count": null,
   "metadata": {},
   "outputs": [],
   "source": [
    "plot_filter(priors)"
   ]
  },
  {
   "cell_type": "code",
   "execution_count": null,
   "metadata": {},
   "outputs": [],
   "source": [
    "process_model = gaussian(v*dt, process_var)\n",
    "priors, xs = kalman(x0=x0, process_model=process_model, zs=zs, sensor_var=sensor_var)\n",
    "plot_filter(priors)"
   ]
  },
  {
   "cell_type": "code",
   "execution_count": null,
   "metadata": {},
   "outputs": [],
   "source": [
    "process_model = gaussian(2*v*dt, process_var)\n",
    "priors, xs = kalman(x0=x0, process_model=process_model, zs=zs, sensor_var=sensor_var)\n",
    "plot_filter(priors)"
   ]
  },
  {
   "cell_type": "code",
   "execution_count": null,
   "metadata": {},
   "outputs": [],
   "source": [
    "def loglikelihood(priors,xs):\n",
    "    \n",
    "    loglikelihood = 0\n",
    "    \n",
    "    #for x, prior in zip(xs,priors):\n",
    "    #    \n",
    "    #    mu = x[0]\n",
    "    #    var = x[1]\n",
    "    #    rv = stats.multivariate_normal(mean=mu, cov=[var])\n",
    "    #    \n",
    "    #    loglikelihood+=rv.logpdf(prior[0])\n",
    "    \n",
    "    \n",
    "    var = xs[-1,1]\n",
    "        \n",
    "    for x, prior in zip(xs,priors):\n",
    "        \n",
    "        mu = x[0]\n",
    "        rv = stats.multivariate_normal(mean=mu, cov=[var])\n",
    "        \n",
    "        loglikelihood+=rv.logpdf(prior[0])\n",
    "        \n",
    "    return loglikelihood\n",
    "    \n",
    "    "
   ]
  },
  {
   "cell_type": "code",
   "execution_count": null,
   "metadata": {},
   "outputs": [],
   "source": [
    "vs = np.linspace(0.5*v,1.5*v,20)\n",
    "df_variation = pd.DataFrame(index=vs)\n",
    "\n",
    "for v_ in vs:\n",
    "\n",
    "    process_model = gaussian(v_*dt, process_var)\n",
    "    priors, xs = kalman(x0=x0, process_model=process_model, zs=zs, sensor_var=sensor_var)\n",
    "    \n",
    "    df_variation.loc[v_,'loglikelihood'] = loglikelihood(priors, xs)\n",
    "    "
   ]
  },
  {
   "cell_type": "code",
   "execution_count": null,
   "metadata": {},
   "outputs": [],
   "source": [
    "fig,ax=plt.subplots()\n",
    "\n",
    "df_variation.plot(y='loglikelihood', ax=ax)\n",
    "ax.plot([v,v],[df_variation['loglikelihood'].min(),df_variation['loglikelihood'].max()],'r--', label='v (real)');\n",
    "ax.legend();"
   ]
  }
 ],
 "metadata": {
  "citation-manager": {
   "items": {}
  },
  "kernelspec": {
   "display_name": "Python 3",
   "language": "python",
   "name": "python3"
  },
  "language_info": {
   "codemirror_mode": {
    "name": "ipython",
    "version": 3
   },
   "file_extension": ".py",
   "mimetype": "text/x-python",
   "name": "python",
   "nbconvert_exporter": "python",
   "pygments_lexer": "ipython3",
   "version": "3.9.5"
  }
 },
 "nbformat": 4,
 "nbformat_minor": 4
}
