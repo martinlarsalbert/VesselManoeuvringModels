{
    "cells": [
        {
            "cell_type": "markdown",
            "metadata": {},
            "source": [
                "# Regression on simulated nonlinear data"
            ]
        },
        {
            "cell_type": "markdown",
            "metadata": {},
            "source": [
                "## Purpose\n",
                "* The regression of simulated data works extremly well with linear data as seen in: [12.01_regression_simulated_data.ipynb](12.01_regression_simulated_data.ipynb)\n",
                "* Will this also work when adding nonlinear terms to the EOM and system force model?"
            ]
        },
        {
            "cell_type": "markdown",
            "metadata": {},
            "source": [
                "## Methodology\n",
                "* Simulate wPCC using Brix coefficients.\n",
                "* Regress the simulated data\n",
                "* What is the accuray?\n",
                "* Are the coefficients the same?"
            ]
        },
        {
            "cell_type": "markdown",
            "metadata": {},
            "source": [
                "## Results\n",
                "Describe and comment the most important results."
            ]
        },
        {
            "cell_type": "markdown",
            "metadata": {},
            "source": [
                "## Setup"
            ]
        },
        {
            "cell_type": "code",
            "execution_count": null,
            "metadata": {},
            "outputs": [],
            "source": [
                "# %load imports.py\n",
                "## Local packages:\n",
                "\n",
                "%matplotlib inline\n",
                "%load_ext autoreload\n",
                "%autoreload 2\n",
                "%config Completer.use_jedi = False  ## (To fix autocomplete)\n",
                "\n",
                "## External packages:\n",
                "import pandas as pd\n",
                "pd.options.display.max_rows = 999\n",
                "pd.options.display.max_columns = 999\n",
                "pd.set_option(\"display.max_columns\", None)\n",
                "\n",
                "import numpy as np\n",
                "import os\n",
                "import matplotlib.pyplot as plt\n",
                "#if os.name == 'nt':\n",
                "#    plt.style.use('presentation.mplstyle')  # Windows\n",
                "\n",
                "import plotly.express as px \n",
                "import plotly.graph_objects as go\n",
                "\n",
                "import seaborn as sns\n",
                "import sympy as sp\n",
                "from sympy.physics.mechanics import (dynamicsymbols, ReferenceFrame,\n",
                "                                      Particle, Point)\n",
                "from sympy.physics.vector.printing import vpprint, vlatex\n",
                "from IPython.display import display, Math, Latex\n",
                "from vessel_manoeuvring_models.substitute_dynamic_symbols import run, lambdify\n",
                "\n",
                "import pyro\n",
                "\n",
                "import sklearn\n",
                "import pykalman\n",
                "from statsmodels.sandbox.regression.predstd import wls_prediction_std\n",
                "import statsmodels.api as sm\n",
                "\n",
                "from scipy.integrate import solve_ivp\n",
                "\n",
                "## Local packages:\n",
                "from vessel_manoeuvring_models.data import mdl\n",
                "\n",
                "from vessel_manoeuvring_models.symbols import *\n",
                "from vessel_manoeuvring_models.parameters import *\n",
                "import vessel_manoeuvring_models.symbols as symbols\n",
                "from vessel_manoeuvring_models import prime_system\n",
                "from vessel_manoeuvring_models.models import regression\n",
                "from vessel_manoeuvring_models.visualization.regression import show_pred\n",
                "from vessel_manoeuvring_models.visualization.plot import track_plot\n",
                "\n",
                "## Load models:\n",
                "# (Uncomment these for faster loading):\n",
                "#import vessel_manoeuvring_models.models.vmm_nonlinear_EOM  as vmm\n",
                "import vessel_manoeuvring_models.models.vmm_simple_nonlinear  as vmm"
            ]
        },
        {
            "cell_type": "code",
            "execution_count": null,
            "metadata": {},
            "outputs": [],
            "source": [
                "id=22774\n",
                "meta_data = mdl.load_meta_data(id=id)\n",
                "meta_data['rho']=1000\n",
                "meta_data['mass'] = meta_data['Volume']*meta_data['rho']"
            ]
        },
        {
            "cell_type": "markdown",
            "metadata": {},
            "source": [
                "## Ship parameters"
            ]
        },
        {
            "cell_type": "code",
            "execution_count": null,
            "metadata": {},
            "outputs": [],
            "source": [
                "T_ = (meta_data.TA + meta_data.TF)/2\n",
                "L_ = meta_data.lpp\n",
                "m_ = meta_data.mass\n",
                "rho_ = meta_data.rho\n",
                "B_ = meta_data.beam\n",
                "CB_ = m_/(T_*B_*L_*rho_)\n",
                "I_z_ = m_*meta_data.KZZ**2\n",
                "#I_z_ = 900\n",
                "\n",
                "\n",
                "ship_parameters = {\n",
                "        'T' : T_,\n",
                "        'L' : L_,\n",
                "        'CB' :CB_,\n",
                "        'B' : B_,\n",
                "        'rho' : rho_,\n",
                "        'x_G' : 0,  # motions are expressed at CG\n",
                "        'm' : m_,\n",
                "        'I_z': I_z_, \n",
                "        'volume':meta_data.Volume,\n",
                "    }\n",
                "\n",
                "ps = prime_system.PrimeSystem(**ship_parameters)  # model\n",
                "\n",
                "scale_factor = meta_data.scale_factor\n",
                "#ps_ship = prime_system.PrimeSystem(L=ship_parameters['L']*scale_factor, rho=meta_data['rho'])  # ship"
            ]
        },
        {
            "cell_type": "code",
            "execution_count": null,
            "metadata": {},
            "outputs": [],
            "source": [
                "ship_parameters"
            ]
        },
        {
            "cell_type": "code",
            "execution_count": null,
            "metadata": {},
            "outputs": [],
            "source": [
                "ship_parameters_prime = ps.prime(ship_parameters)"
            ]
        },
        {
            "cell_type": "markdown",
            "metadata": {},
            "source": [
                "## Brix parameters"
            ]
        },
        {
            "cell_type": "code",
            "execution_count": null,
            "metadata": {},
            "outputs": [],
            "source": [
                "def calculate_prime(row, ship_parameters):\n",
                "    return run(function=row['brix_lambda'], inputs=ship_parameters)\n",
                "\n",
                "\n",
                "mask = df_parameters['brix_lambda'].notnull()\n",
                "df_parameters.loc[mask,'brix_prime'] = df_parameters.loc[mask].apply(calculate_prime, ship_parameters=ship_parameters, axis=1)\n",
                "\n",
                "#df_parameters['brix_prime'].fillna(0, inplace=True)\n"
            ]
        },
        {
            "cell_type": "code",
            "execution_count": null,
            "metadata": {},
            "outputs": [],
            "source": [
                "df_parameters['prime'] = df_parameters['brix_prime']\n",
                "\n",
                "df_parameters.loc['Ydelta','prime'] = 0.001  # Just guessing\n",
                "df_parameters.loc['Ndelta','prime'] = -df_parameters.loc['Ydelta','prime']/2  # Just guessing\n",
                "df_parameters['prime'].fillna(0, inplace=True)"
            ]
        },
        {
            "cell_type": "markdown",
            "metadata": {},
            "source": [
                "## Simulate data"
            ]
        },
        {
            "cell_type": "code",
            "execution_count": null,
            "metadata": {},
            "outputs": [],
            "source": [
                "parameters=df_parameters['prime'].copy()\n",
                "parameters.Xthrust=1\n",
                "#parameters.Xuu=-0.001\n",
                "\n",
                "\n",
                "t_ = np.linspace(0,45,1000)\n",
                "df = pd.DataFrame(index=t_)\n",
                "\n",
                "df['u'] = 2\n",
                "df['v'] = 0\n",
                "df['r'] = 0\n",
                "df['x0'] = 0\n",
                "df['y0'] = 0\n",
                "df['psi'] = 0\n",
                "df['U'] = np.sqrt(df['u']**2 + df['v']**2)\n",
                "df['beta'] = -np.arctan2(df['v'],df['u'])\n",
                "df['thrust'] = 10\n",
                "\n",
                "df['delta'] = 0\n",
                "df.loc[10:,'delta'] = np.deg2rad(20)\n",
                "\n",
                "result = vmm.simulator.simulate(df_=df, parameters=parameters, ship_parameters=ship_parameters, \n",
                "                                  control_keys=['delta','thrust'], \n",
                "                                primed_parameters=True,prime_system=ps)"
            ]
        },
        {
            "cell_type": "code",
            "execution_count": null,
            "metadata": {},
            "outputs": [],
            "source": [
                "result.track_plot();"
            ]
        },
        {
            "cell_type": "code",
            "execution_count": null,
            "metadata": {},
            "outputs": [],
            "source": [
                "result.plot(compare=False);"
            ]
        },
        {
            "cell_type": "code",
            "execution_count": null,
            "metadata": {},
            "outputs": [],
            "source": [
                "result.Y_qs.plot()"
            ]
        },
        {
            "cell_type": "code",
            "execution_count": null,
            "metadata": {},
            "outputs": [],
            "source": [
                "df_result = result.result.copy()"
            ]
        },
        {
            "cell_type": "code",
            "execution_count": null,
            "metadata": {},
            "outputs": [],
            "source": [
                "df_result.plot(y='v1d')"
            ]
        },
        {
            "cell_type": "markdown",
            "metadata": {},
            "source": [
                "### Check accelerations"
            ]
        },
        {
            "cell_type": "code",
            "execution_count": null,
            "metadata": {},
            "outputs": [],
            "source": [
                "import scipy.integrate"
            ]
        },
        {
            "cell_type": "code",
            "execution_count": null,
            "metadata": {},
            "outputs": [],
            "source": [
                "u_integrated = df_result.iloc[0]['u'] + scipy.integrate.cumtrapz(y=df_result['u1d'], \n",
                "                                                                 x=df_result.index)\n",
                "fig,ax=plt.subplots()\n",
                "df_result.plot(y='u', ax=ax)\n",
                "ax.plot(df_result.index[1:], u_integrated, '--', label='u_integrated')\n",
                "ax.legend()"
            ]
        },
        {
            "cell_type": "code",
            "execution_count": null,
            "metadata": {},
            "outputs": [],
            "source": [
                "r_integrated = scipy.integrate.cumtrapz(y=df_result['r1d'], x=df_result.index)\n",
                "fig,ax=plt.subplots()\n",
                "df_result.plot(y='r', ax=ax)\n",
                "ax.plot(df_result.index[1:], r_integrated, '--', label='r_integrated')\n",
                "ax.legend()"
            ]
        },
        {
            "cell_type": "markdown",
            "metadata": {},
            "source": [
                "## Regression"
            ]
        },
        {
            "cell_type": "code",
            "execution_count": null,
            "metadata": {},
            "outputs": [],
            "source": [
                "df = ps.prime(df_result, U=df_result['U'])  # Note primed!"
            ]
        },
        {
            "cell_type": "markdown",
            "metadata": {},
            "source": [
                "## N"
            ]
        },
        {
            "cell_type": "code",
            "execution_count": null,
            "metadata": {},
            "outputs": [],
            "source": [
                "N_ = sp.symbols('N_')\n",
                "\n",
                "diff_eq_N = regression.DiffEqToMatrix(ode=vmm.N_qs_eq.subs(N_qs,N_), \n",
                "                                      label=N_, base_features=[delta,u,v,r])"
            ]
        },
        {
            "cell_type": "code",
            "execution_count": null,
            "metadata": {},
            "outputs": [],
            "source": [
                "Math(vlatex(diff_eq_N.acceleration_equation))"
            ]
        },
        {
            "cell_type": "code",
            "execution_count": null,
            "metadata": {},
            "outputs": [],
            "source": [
                "X = diff_eq_N.calculate_features(data=df)\n",
                "y = diff_eq_N.calculate_label(y=df['r1d'])\n",
                "\n",
                "model_N = sm.OLS(y,X)\n",
                "results_N = model_N.fit()\n",
                "\n",
                "show_pred(X=X,y=y,results=results_N, label=r'$\\dot{r}$')"
            ]
        },
        {
            "cell_type": "markdown",
            "metadata": {},
            "source": [
                "## Y"
            ]
        },
        {
            "cell_type": "code",
            "execution_count": null,
            "metadata": {},
            "outputs": [],
            "source": [
                "Y_ = sp.symbols('Y_')\n",
                "diff_eq_Y = regression.DiffEqToMatrix(ode=vmm.Y_qs_eq.subs(Y_qs,Y_), \n",
                "                                      label=Y_, base_features=[delta,u,v,r])"
            ]
        },
        {
            "cell_type": "code",
            "execution_count": null,
            "metadata": {},
            "outputs": [],
            "source": [
                "Math(vlatex(diff_eq_Y.acceleration_equation))"
            ]
        },
        {
            "cell_type": "code",
            "execution_count": null,
            "metadata": {},
            "outputs": [],
            "source": [
                "X = diff_eq_Y.calculate_features(data=df)\n",
                "y = diff_eq_Y.calculate_label(y=df['v1d'])\n",
                "\n",
                "\n",
                "model_Y = sm.OLS(y,X)\n",
                "results_Y = model_Y.fit()\n",
                "\n",
                "show_pred(X=X,y=y,results=results_Y, label=r'$\\dot{v}$')"
            ]
        },
        {
            "cell_type": "markdown",
            "metadata": {},
            "source": [
                "## X"
            ]
        },
        {
            "cell_type": "code",
            "execution_count": null,
            "metadata": {},
            "outputs": [],
            "source": [
                "X_ = sp.symbols('X_')\n",
                "diff_eq_X = regression.DiffEqToMatrix(ode=vmm.X_qs_eq.subs(X_qs,X_), \n",
                "                                      label=X_, base_features=[delta,u,v,r,thrust])"
            ]
        },
        {
            "cell_type": "code",
            "execution_count": null,
            "metadata": {},
            "outputs": [],
            "source": [
                "diff_eq_X.acceleration_equation"
            ]
        },
        {
            "cell_type": "code",
            "execution_count": null,
            "metadata": {},
            "outputs": [],
            "source": [
                "X = diff_eq_X.calculate_features(data=df)\n",
                "y = diff_eq_X.calculate_label(y=df['u1d'])\n",
                "\n",
                "model_X = sm.OLS(y,X)\n",
                "results_X = model_X.fit()\n",
                "\n",
                "show_pred(X=X,y=y,results=results_X, label=r'$\\dot{u}}$')"
            ]
        },
        {
            "cell_type": "code",
            "execution_count": null,
            "metadata": {},
            "outputs": [],
            "source": [
                "results_summary_X = regression.results_summary_to_dataframe(results_X)\n",
                "results_summary_Y = regression.results_summary_to_dataframe(results_Y)\n",
                "results_summary_N = regression.results_summary_to_dataframe(results_N)"
            ]
        },
        {
            "cell_type": "markdown",
            "metadata": {},
            "source": [
                "### Decoupling"
            ]
        },
        {
            "cell_type": "code",
            "execution_count": null,
            "metadata": {},
            "outputs": [],
            "source": [
                "u1d,v1d,r1d = sp.symbols('u1d, v1d, r1d')\n",
                "u_,v_,r_ = sp.symbols('u, v, r')\n",
                "\n",
                "X_qs_, Y_qs_, N_qs_ = sp.symbols('X_qs, Y_qs, N_qs')\n",
                "\n",
                "\n",
                "X_eq = vmm.X_eom.subs([\n",
                "    (X_force,sp.solve(vmm.fx_eq,X_force)[0]),\n",
                "])\n",
                "\n",
                "Y_eq = vmm.Y_eom.subs([\n",
                "    (Y_force,sp.solve(vmm.fy_eq,Y_force)[0]),\n",
                "])\n",
                "\n",
                "\n",
                "N_eq = vmm.N_eom.subs([\n",
                "    (N_force,sp.solve(vmm.mz_eq,N_force)[0]),\n",
                "])\n",
                "\n",
                "\n",
                "subs = [\n",
                "    #(X_qs,X_qs_), \n",
                "    #(Y_qs,Y_qs_), \n",
                "    #(N_qs,N_qs_),\n",
                "   \n",
                "\n",
                "    (u1d,u1d),\n",
                "    (v1d,v1d),\n",
                "    (r1d,r1d),\n",
                "\n",
                "    (u,u_),\n",
                "    (v,v_),\n",
                "    (r,r_),\n",
                "    \n",
                "]\n",
                "eq_X_ = X_eq.subs(subs)\n",
                "eq_Y_ = Y_eq.subs(subs)\n",
                "eq_N_ = N_eq.subs(subs)\n",
                "\n",
                "A,b = sp.linear_eq_to_matrix([eq_X_,eq_Y_,eq_N_],[u1d,v1d,r1d])"
            ]
        },
        {
            "cell_type": "code",
            "execution_count": null,
            "metadata": {},
            "outputs": [],
            "source": [
                "subs = {value:key for key,value in p.items()}\n",
                "A_ = A*sp.matrices.MutableDenseMatrix([A_coeff,B_coeff,C_coeff])\n",
                "A_lambda=lambdify(A_.subs(subs))"
            ]
        },
        {
            "cell_type": "code",
            "execution_count": null,
            "metadata": {},
            "outputs": [],
            "source": [
                "A_coeff_ = results_summary_X['coeff']\n",
                "B_coeff_ = results_summary_Y['coeff']\n",
                "C_coeff_ = results_summary_N['coeff']\n",
                "\n",
                "coeffs = run(A_lambda,A_coeff=A_coeff_.values, B_coeff=B_coeff_.values, C_coeff=C_coeff_.values, \n",
                "    **df_parameters['prime'], **ship_parameters_prime)"
            ]
        },
        {
            "cell_type": "markdown",
            "metadata": {},
            "source": [
                "The way that the regression is formulated, inertial forces, such as centrifugal force will be included into the derivatives (I think) which means that centrifugal force : $-m \\cdot r \\cdot u$ will be included into $Y_{ur}$ coefficient. This coefficient is therefore not pure hydrodynamic, and can potentially be counted twice..?\n",
                "The coefficients are recalculated below to avooid this:"
            ]
        },
        {
            "cell_type": "code",
            "execution_count": null,
            "metadata": {},
            "outputs": [],
            "source": [
                "results_summary_X['decoupled'] = coeffs[0][0]\n",
                "results_summary_Y['decoupled'] = coeffs[1][0]\n",
                "results_summary_N['decoupled'] = coeffs[2][0]\n",
                "\n",
                "x_G_ = ship_parameters_prime['x_G']\n",
                "m_ = ship_parameters_prime['m']\n",
                "\n",
                "results_summary_X.loc['Xrr','decoupled']+=(-m_*x_G_)\n",
                "results_summary_X.loc['Xvr','decoupled']+=(-m_)\n",
                "results_summary_Y.loc['Yur','decoupled']+=m_\n",
                "results_summary_N.loc['Nur','decoupled']+=m_*x_G_\n",
                "\n",
                "#results_summary_X.loc['Xr','decoupled']+=(-m_*x_G_)\n",
                "#results_summary_Y.loc['Yr','decoupled']+=m_\n",
                "#results_summary_N.loc['Nr','decoupled']+=m_*x_G_\n"
            ]
        },
        {
            "cell_type": "code",
            "execution_count": null,
            "metadata": {},
            "outputs": [],
            "source": [
                "results_summary_N"
            ]
        },
        {
            "cell_type": "markdown",
            "metadata": {},
            "source": [
                "## Add the regressed parameters\n",
                "Hydrodynamic derivatives that depend on acceleration cannot be obtained from the VCT regression. They are however essential if a time simulation should be conducted. These values have then been taken from Brix semi empirical formulas for the simulations below."
            ]
        },
        {
            "cell_type": "code",
            "execution_count": null,
            "metadata": {},
            "outputs": [],
            "source": [
                "df_parameters_all = df_parameters.copy()\n",
                "for other in [results_summary_X, results_summary_Y, results_summary_N]:\n",
                "    df_parameters_all = df_parameters_all.combine_first(other)\n",
                "\n",
                "df_parameters_all.rename(columns={'decoupled':'regressed'}, inplace=True)\n",
                "df_parameters_all.drop(columns=['brix_lambda'], inplace=True)\n",
                "\n",
                "df_parameters_all['regressed'] = df_parameters_all['regressed'].combine_first(df_parameters_all['prime'])  # prefer regressed\n",
                "#df_parameters_all['regressed'].fillna(0,inplace=True)"
            ]
        },
        {
            "cell_type": "markdown",
            "metadata": {},
            "source": [
                "# Simulation"
            ]
        },
        {
            "cell_type": "code",
            "execution_count": null,
            "metadata": {},
            "outputs": [],
            "source": [
                "parameters=df_parameters_all['regressed'].copy()\n",
                "result_regression = vmm.simulator.simulate(df_=df_result, parameters=parameters, ship_parameters=ship_parameters, \n",
                "                                  control_keys=['delta'], primed_parameters=True,prime_system=ps)"
            ]
        },
        {
            "cell_type": "code",
            "execution_count": null,
            "metadata": {},
            "outputs": [],
            "source": [
                "fig,ax=plt.subplots()\n",
                "key = 'psi'\n",
                "result.result.plot(y=key, ax=ax)\n",
                "result_regression.result.plot(y=key, style='--', ax=ax)"
            ]
        },
        {
            "cell_type": "code",
            "execution_count": null,
            "metadata": {},
            "outputs": [],
            "source": [
                "result_regression.plot_compare()"
            ]
        },
        {
            "cell_type": "code",
            "execution_count": null,
            "metadata": {},
            "outputs": [],
            "source": [
                "df_parameters_all.head()"
            ]
        },
        {
            "cell_type": "code",
            "execution_count": null,
            "metadata": {},
            "outputs": [],
            "source": [
                "df_plot_parameters = df_parameters_all[['regressed','prime']].copy()\n",
                "mask = df_plot_parameters['regressed'].abs() > 0\n",
                "\n",
                "df_plot_parameters.loc[mask].plot(kind='bar')"
            ]
        },
        {
            "cell_type": "code",
            "execution_count": null,
            "metadata": {},
            "outputs": [],
            "source": []
        }
    ],
    "metadata": {
        "citation-manager": {
            "items": {}
        },
        "kernelspec": {
            "display_name": "Python 3",
            "language": "python",
            "name": "python3"
        },
        "language_info": {
            "codemirror_mode": {
                "name": "ipython",
                "version": 3
            },
            "file_extension": ".py",
            "mimetype": "text/x-python",
            "name": "python",
            "nbconvert_exporter": "python",
            "pygments_lexer": "ipython3",
            "version": "3.9.5"
        }
    },
    "nbformat": 4,
    "nbformat_minor": 4
}