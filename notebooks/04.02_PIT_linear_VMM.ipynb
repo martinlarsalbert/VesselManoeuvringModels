{
 "cells": [
  {
   "cell_type": "markdown",
   "metadata": {},
   "source": [
    "# Parameter Identification Technique (PIT) on a linear VMM model"
   ]
  },
  {
   "cell_type": "markdown",
   "metadata": {},
   "source": [
    "# Purpose\n",
    "Show the general workflow by applying PIT regression on a very simple model"
   ]
  },
  {
   "cell_type": "markdown",
   "metadata": {},
   "source": [
    "# Methodology\n",
    "* Load time series from a ZigZag test\n",
    "* Determine yaw rate and acceleration (compare with accelerometers from test).\n",
    "* Find the best parameter values in the Nomoto model using OLS linear regression."
   ]
  },
  {
   "cell_type": "markdown",
   "metadata": {},
   "source": [
    "# Setup"
   ]
  },
  {
   "cell_type": "code",
   "execution_count": null,
   "metadata": {},
   "outputs": [],
   "source": [
    "# %load imports.py\n",
    "%matplotlib inline\n",
    "%load_ext autoreload\n",
    "%autoreload 2\n",
    "%config Completer.use_jedi = False  ## (To fix autocomplete)\n",
    "\n",
    "## External packages:\n",
    "import pandas as pd\n",
    "pd.options.display.max_rows = 999\n",
    "pd.options.display.max_columns = 999\n",
    "pd.set_option(\"display.max_columns\", None)\n",
    "\n",
    "import numpy as np\n",
    "import os\n",
    "import matplotlib.pyplot as plt\n",
    "#if os.name == 'nt':\n",
    "#    plt.style.use('presentation.mplstyle')  # Windows\n",
    "\n",
    "import plotly.express as px \n",
    "import plotly.graph_objects as go\n",
    "\n",
    "import seaborn as sns\n",
    "import sympy as sp\n",
    "from sympy.physics.mechanics import (dynamicsymbols, ReferenceFrame,\n",
    "                                      Particle, Point)\n",
    "from sympy.physics.vector.printing import vpprint, vlatex\n",
    "from IPython.display import display, Math, Latex\n",
    "from vessel_manoeuvring_models.substitute_dynamic_symbols import run, lambdify\n",
    "\n",
    "import pyro\n",
    "\n",
    "import sklearn\n",
    "import pykalman\n",
    "from statsmodels.sandbox.regression.predstd import wls_prediction_std\n",
    "import statsmodels.api as sm\n",
    "\n",
    "from scipy.integrate import solve_ivp\n",
    "\n",
    "## Local packages:\n",
    "from vessel_manoeuvring_models.data import mdl\n",
    "from vessel_manoeuvring_models.models import linear_vmm\n",
    "import vessel_manoeuvring_models.linear_vmm_equations as eq\n",
    "from vessel_manoeuvring_models.symbols import *\n",
    "import vessel_manoeuvring_models.symbols as symbols\n",
    "from vessel_manoeuvring_models.models import regression"
   ]
  },
  {
   "cell_type": "markdown",
   "metadata": {},
   "source": [
    "## Load test"
   ]
  },
  {
   "cell_type": "code",
   "execution_count": null,
   "metadata": {},
   "outputs": [],
   "source": [
    "df_runs = mdl.runs()"
   ]
  },
  {
   "cell_type": "code",
   "execution_count": null,
   "metadata": {},
   "outputs": [],
   "source": [
    "#id=22773\n",
    "id=22616\n",
    "#id=22774\n",
    "#id=22770\n",
    "\n",
    "\n",
    "df, units, meta_data = mdl.load(id=id, dir_path='../data/processed/kalman')\n",
    "df.index = df.index.total_seconds()\n",
    "df = df.iloc[0:-100].copy()\n",
    "df.index-=df.index[0]\n",
    "df.sort_index(inplace=True)"
   ]
  },
  {
   "cell_type": "code",
   "execution_count": null,
   "metadata": {},
   "outputs": [],
   "source": [
    "meta_data['rho']=1000\n",
    "meta_data['mass'] = meta_data['Volume']*meta_data['rho']\n",
    "meta_data.dropna()"
   ]
  },
  {
   "cell_type": "code",
   "execution_count": null,
   "metadata": {},
   "outputs": [],
   "source": [
    "df.head()"
   ]
  },
  {
   "cell_type": "code",
   "execution_count": null,
   "metadata": {},
   "outputs": [],
   "source": [
    "from vessel_manoeuvring_models.visualization.plot import track_plot\n",
    "fig,ax=plt.subplots()\n",
    "#fig.set_size_inches(10,10)\n",
    "track_plot(df=df, lpp=meta_data.lpp, x_dataset='x0', y_dataset='y0',  psi_dataset='psi', beam=meta_data.beam, ax=ax);"
   ]
  },
  {
   "cell_type": "markdown",
   "metadata": {},
   "source": [
    "## Yaw rate"
   ]
  },
  {
   "cell_type": "code",
   "execution_count": null,
   "metadata": {},
   "outputs": [],
   "source": [
    "px.line(data_frame=df, y=['r'], width=1400, height=300,)"
   ]
  },
  {
   "cell_type": "markdown",
   "metadata": {},
   "source": [
    "# Linear VMM"
   ]
  },
  {
   "cell_type": "markdown",
   "metadata": {},
   "source": [
    "## N"
   ]
  },
  {
   "cell_type": "code",
   "execution_count": null,
   "metadata": {},
   "outputs": [],
   "source": [
    "Math(vlatex(eq.N_eq))"
   ]
  },
  {
   "cell_type": "code",
   "execution_count": null,
   "metadata": {},
   "outputs": [],
   "source": [
    "N_eq = eq.N_eq.copy()\n",
    "N_eq = N_eq.subs([\n",
    "    (x_G,0),  # Assuming or moving to CG=0\n",
    "    #(I_z,1),  # Removing inertia\n",
    "    #(eq.p.Nrdot,0),  # Removing added mass\n",
    "    (eq.p.Nvdot,0),  # Removing added mass\n",
    "    (eq.p.Nudot,0),  # Removing added mass\n",
    "    \n",
    "])  \n",
    "\n",
    "solution = sp.solve(N_eq,r1d)[0]\n",
    "N_eq = sp.Eq(r1d, solution*(I_z-eq.p.Nrdot))  # Putting r1d on the LHS"
   ]
  },
  {
   "cell_type": "code",
   "execution_count": null,
   "metadata": {},
   "outputs": [],
   "source": [
    "#Math(vlatex(N_eq))"
   ]
  },
  {
   "cell_type": "code",
   "execution_count": null,
   "metadata": {},
   "outputs": [],
   "source": [
    "diff_eq_N = regression.DiffEqToMatrix(ode=N_eq, label=r1d, base_features=[delta,u,v,r])"
   ]
  },
  {
   "cell_type": "code",
   "execution_count": null,
   "metadata": {},
   "outputs": [],
   "source": [
    "Math(vlatex(diff_eq_N.acceleration_equation))"
   ]
  },
  {
   "cell_type": "markdown",
   "metadata": {},
   "source": [
    "$ y = X \\cdot \\beta + \\epsilon $"
   ]
  },
  {
   "cell_type": "code",
   "execution_count": null,
   "metadata": {},
   "outputs": [],
   "source": [
    "Math(vlatex(diff_eq_N.acceleration_equation_x))"
   ]
  },
  {
   "cell_type": "code",
   "execution_count": null,
   "metadata": {},
   "outputs": [],
   "source": [
    "Math(vlatex(diff_eq_N.eq_y))"
   ]
  },
  {
   "cell_type": "code",
   "execution_count": null,
   "metadata": {},
   "outputs": [],
   "source": [
    "diff_eq_N.eq_beta"
   ]
  },
  {
   "cell_type": "code",
   "execution_count": null,
   "metadata": {},
   "outputs": [],
   "source": [
    "Math(vlatex(diff_eq_N.eq_X))"
   ]
  },
  {
   "cell_type": "code",
   "execution_count": null,
   "metadata": {},
   "outputs": [],
   "source": [
    "diff_eq_N.X_lambda"
   ]
  },
  {
   "cell_type": "code",
   "execution_count": null,
   "metadata": {},
   "outputs": [],
   "source": [
    "from statsmodels.sandbox.regression.predstd import wls_prediction_std\n",
    "def show_pred(X,y,results, label):\n",
    "    \n",
    "    display(results.summary())\n",
    "    \n",
    "    X_ = X\n",
    "    y_ = y\n",
    "    y_pred = results.predict(X_)\n",
    "    \n",
    "    prstd, iv_l, iv_u = wls_prediction_std(results, exog=X_, alpha=0.05)\n",
    "    #iv_l*=-1 \n",
    "    #iv_u*=-1\n",
    "    \n",
    "    fig,ax=plt.subplots()\n",
    "    ax.plot(X_.index,y_, label='Numerical gradient from model test')\n",
    "    ax.plot(X_.index,y_pred, '--', label='OLS')\n",
    "    ax.set_ylabel(label)\n",
    "    \n",
    "    ax.fill_between(X_.index, y1=iv_l, y2=iv_u, zorder=-10, color='grey', alpha=0.5, label=r'5\\% confidence')\n",
    "    ax.legend();"
   ]
  },
  {
   "cell_type": "code",
   "execution_count": null,
   "metadata": {},
   "outputs": [],
   "source": [
    "X = diff_eq_N.calculate_features(data=df)\n",
    "y = diff_eq_N.calculate_label(y=df['r1d'])\n",
    "\n",
    "model_N = sm.OLS(y,X)\n",
    "results_N = model_N.fit()\n",
    "\n",
    "show_pred(X=X,y=y,results=results_N, label=r'$\\dot{r}$')"
   ]
  },
  {
   "cell_type": "markdown",
   "metadata": {},
   "source": [
    "## Y"
   ]
  },
  {
   "cell_type": "code",
   "execution_count": null,
   "metadata": {
    "tags": []
   },
   "outputs": [],
   "source": [
    "Y_eq = eq.Y_eq.copy()\n",
    "Y_eq = Y_eq.subs([\n",
    "    #(eq.p.Yvdot,1),  # Removing added mass\n",
    "    (eq.p.Yudot,0),  # Removing added mass\n",
    "    (eq.p.Yrdot,0),  # Removing added mass  \n",
    "    (x_G,0),  \n",
    "    \n",
    "])  \n",
    "solution = sp.solve(Y_eq,v1d)[0]\n",
    "solution = solution*(-eq.p.Yvdot+m)\n",
    "solution = solution + U*m*r# (adding u*m*r to the measurement fy instead)  \n",
    "Y_eq = sp.simplify(sp.Eq(v1d, solution))  # Putting r1d on the LHS"
   ]
  },
  {
   "cell_type": "code",
   "execution_count": null,
   "metadata": {},
   "outputs": [],
   "source": [
    "Math(vlatex(Y_eq))"
   ]
  },
  {
   "cell_type": "code",
   "execution_count": null,
   "metadata": {},
   "outputs": [],
   "source": [
    "diff_eq_Y = regression.DiffEqToMatrix(ode=Y_eq, label=v1d, base_features=[delta,u,v,r])"
   ]
  },
  {
   "cell_type": "code",
   "execution_count": null,
   "metadata": {},
   "outputs": [],
   "source": [
    "diff_eq_Y.eq_beta"
   ]
  },
  {
   "cell_type": "code",
   "execution_count": null,
   "metadata": {},
   "outputs": [],
   "source": [
    "diff_eq_Y.acceleration_equation_x"
   ]
  },
  {
   "cell_type": "code",
   "execution_count": null,
   "metadata": {},
   "outputs": [],
   "source": [
    "X = diff_eq_Y.calculate_features(data=df, simplify_names=True)\n",
    "y = diff_eq_Y.calculate_label(y=df['v1d'])\n",
    "#y+=df['u']*df['r']  # adding centrifugal force\n",
    "\n",
    "model_Y = sm.OLS(y,X)\n",
    "results_Y = model_Y.fit()\n",
    "\n",
    "show_pred(X=X,y=y,results=results_Y, label=r'$\\dot{v}$')"
   ]
  },
  {
   "cell_type": "code",
   "execution_count": null,
   "metadata": {},
   "outputs": [],
   "source": [
    "X.head()"
   ]
  },
  {
   "cell_type": "markdown",
   "metadata": {},
   "source": [
    "## X"
   ]
  },
  {
   "cell_type": "code",
   "execution_count": null,
   "metadata": {
    "tags": []
   },
   "outputs": [],
   "source": [
    "X_eq = eq.X_eq.copy()\n",
    "X_eq = X_eq.subs([\n",
    "    #(eq.p.Xudot,1),  # Removing added mass\n",
    "    (eq.p.Xvdot,0),  # Removing added mass\n",
    "    (eq.p.Xrdot,0),  # Removing added mass\n",
    "    \n",
    "    #(m,0),  # mass\n",
    "    \n",
    "])  \n",
    "\n",
    "solution = sp.solve(X_eq,u1d)[0]\n",
    "X_eq = sp.Eq(u1d, solution*(-eq.p.Xudot+m))  # Putting r1d on the LHS"
   ]
  },
  {
   "cell_type": "code",
   "execution_count": null,
   "metadata": {},
   "outputs": [],
   "source": [
    "Math(vlatex(X_eq))"
   ]
  },
  {
   "cell_type": "code",
   "execution_count": null,
   "metadata": {},
   "outputs": [],
   "source": [
    "diff_eq_X = regression.DiffEqToMatrix(ode=X_eq, label=u1d, base_features=[delta,u,v,r])"
   ]
  },
  {
   "cell_type": "code",
   "execution_count": null,
   "metadata": {},
   "outputs": [],
   "source": [
    "X = diff_eq_X.calculate_features(data=df)\n",
    "y = diff_eq_X.calculate_label(y=df['u1d'])\n",
    "\n",
    "model_X = sm.OLS(y,X)\n",
    "results_X = model_X.fit()\n",
    "\n",
    "show_pred(X=X,y=y,results=results_X, label=r'$\\dot{u}$')"
   ]
  },
  {
   "cell_type": "code",
   "execution_count": null,
   "metadata": {},
   "outputs": [],
   "source": [
    "results_summary_X = regression.results_summary_to_dataframe(results_X)\n",
    "results_summary_Y = regression.results_summary_to_dataframe(results_Y)\n",
    "results_summary_N = regression.results_summary_to_dataframe(results_N)"
   ]
  },
  {
   "cell_type": "markdown",
   "metadata": {},
   "source": [
    "## Simulation"
   ]
  },
  {
   "cell_type": "code",
   "execution_count": null,
   "metadata": {},
   "outputs": [],
   "source": [
    "eqs = [diff_eq_X.acceleration_equation, diff_eq_Y.acceleration_equation, diff_eq_N.acceleration_equation]\n",
    "solution = sp.solve(eqs, u1d, v1d, r1d, dict=True)\n",
    "\n",
    "## Decouple the equations:\n",
    "u1d_eq = sp.Eq(u1d, solution[0][u1d]) \n",
    "v1d_eq = sp.Eq(v1d, solution[0][v1d]) \n",
    "r1d_eq = sp.Eq(r1d, solution[0][r1d]) \n",
    "\n",
    "## Lambdify:\n",
    "subs = {value:key for key,value in eq.p.items()}\n",
    "u1d_lambda = lambdify(u1d_eq.subs(subs).rhs)\n",
    "v1d_lambda = lambdify(v1d_eq.subs(subs).rhs)\n",
    "r1d_lambda = lambdify(r1d_eq.subs(subs).rhs)"
   ]
  },
  {
   "cell_type": "code",
   "execution_count": null,
   "metadata": {},
   "outputs": [],
   "source": [
    "display(Math(vlatex(u1d_eq)))\n",
    "display(Math(vlatex(v1d_eq)))\n",
    "display(Math(vlatex(r1d_eq)))"
   ]
  },
  {
   "cell_type": "code",
   "execution_count": null,
   "metadata": {},
   "outputs": [],
   "source": [
    "from scipy.spatial.transform import Rotation as R\n",
    "\n",
    "def step(t, states, parameters, df_control, meta_data):\n",
    "    \n",
    "    u,v,r,x0,y0,psi = states\n",
    "\n",
    "    states_dict = {\n",
    "        \n",
    "        'u':u,\n",
    "        'v':v,\n",
    "        'r':r,\n",
    "        \n",
    "        'x0':x0,\n",
    "        'y0':y0,\n",
    "        'psi':psi,\n",
    "        \n",
    "        }\n",
    "        \n",
    "    inputs = dict(parameters)\n",
    "    inputs.update(states_dict)\n",
    "    \n",
    "    index = np.argmin(np.array(np.abs(df_control.index - t)))\n",
    "    control = dict(df_control.iloc[index])\n",
    "    #print(f't:{t}, i:{index}')\n",
    "    inputs.update(control)\n",
    "    \n",
    "    inputs['U'] = np.sqrt(u**2 + v**2)  #Instantanious velocity\n",
    "    \n",
    "    if not 'u1d' in control:\n",
    "        u1d = -run(function=u1d_lambda, inputs=inputs)\n",
    "    else:\n",
    "        u1d = control['u1d']\n",
    "    \n",
    "    mass = meta_data['mass']\n",
    "    v1d = run(function=v1d_lambda, inputs=inputs) - u*r\n",
    "    #v1d = run(function=v1d_lambda, inputs=inputs)\n",
    "    \n",
    "    r1d = run(function=r1d_lambda, inputs=inputs)\n",
    "    \n",
    "    \n",
    "    rotation = R.from_euler('z', psi, degrees=False)\n",
    "    w = 0\n",
    "    velocities = rotation.apply([u,v,w])\n",
    "    x01d = velocities[0]\n",
    "    y01d = velocities[1]\n",
    "    psi1d = r    \n",
    "\n",
    "    dstates = [\n",
    "        u1d,\n",
    "        v1d,\n",
    "        r1d,\n",
    "        x01d,\n",
    "        y01d,\n",
    "        psi1d,\n",
    "    ]    \n",
    "    \n",
    "    #print(t)\n",
    "    \n",
    "    return dstates\n",
    "\n"
   ]
  },
  {
   "cell_type": "code",
   "execution_count": null,
   "metadata": {},
   "outputs": [],
   "source": [
    "parameters = dict(results_summary_X['coeff'])  # Fix (-)\n",
    "parameters.update(dict(results_summary_Y['coeff']))   # Fix (-)\n",
    "parameters.update(dict(results_summary_N['coeff']))\n",
    "\n",
    "states = ['u','v','r','x0','y0','psi']\n",
    "states0 = [float(df[key].iloc[0]) for key in states]\n",
    "#df_control = df[['delta','u1d','u']]\n",
    "df_control = df[['delta']].copy()\n",
    "#df_control['delta']+=np.deg2rad(0.5)"
   ]
  },
  {
   "cell_type": "code",
   "execution_count": null,
   "metadata": {},
   "outputs": [],
   "source": [
    "t_ = 10\n",
    "index = np.argmin(np.array(np.abs(df_control.index - t_)))\n",
    "df_control.iloc[index]"
   ]
  },
  {
   "cell_type": "code",
   "execution_count": null,
   "metadata": {},
   "outputs": [],
   "source": [
    "(np.diff(df_control.index) > 0).all()"
   ]
  },
  {
   "cell_type": "code",
   "execution_count": null,
   "metadata": {
    "tags": []
   },
   "outputs": [],
   "source": [
    "## Simulate:\n",
    "df_ = df.copy()\n",
    "t = np.array(df_.index)\n",
    "t_span = [t[0],t[-1]]\n",
    "solution = solve_ivp(fun=step, t_span=t_span, y0=states0, t_eval=t, args=(parameters, df_control, meta_data), method='RK45')"
   ]
  },
  {
   "cell_type": "code",
   "execution_count": null,
   "metadata": {},
   "outputs": [],
   "source": [
    "df_result = pd.DataFrame(data=solution.y.T, columns=states)\n",
    "df_result.index=t"
   ]
  },
  {
   "cell_type": "code",
   "execution_count": null,
   "metadata": {},
   "outputs": [],
   "source": [
    "fig,ax=plt.subplots()\n",
    "#fig.set_size_inches(15,15)\n",
    "track_plot(df=df_, lpp=meta_data['lpp'], beam=meta_data['beam'], ax=ax, color='k', label='model test');\n",
    "track_plot(df=df_result, lpp=meta_data['lpp'], beam=meta_data['beam'], ax=ax, color='g', label='simulation');\n",
    "ax.legend()"
   ]
  },
  {
   "cell_type": "code",
   "execution_count": null,
   "metadata": {},
   "outputs": [],
   "source": [
    "fig,ax=plt.subplots()\n",
    "df_['-delta'] = -df_['delta']\n",
    "df_.plot(y='-delta', style='--', ax=ax)\n",
    "df_.plot(y='psi', ax=ax, label='model test')\n",
    "df_result.plot(y='psi', ax=ax, label='simulation')\n",
    "ax.legend()\n",
    "\n",
    "\n",
    "for key in ['u','v','r']:\n",
    "    \n",
    "    fig,ax=plt.subplots()\n",
    "    df_.plot(y=key, ax=ax, label='model test')\n",
    "    df_result.plot(y=key, ax=ax, label='simulation')\n",
    "    ax.set_ylabel(key)\n"
   ]
  },
  {
   "cell_type": "code",
   "execution_count": null,
   "metadata": {},
   "outputs": [],
   "source": []
  }
 ],
 "metadata": {
  "kernelspec": {
   "display_name": "Python 3",
   "language": "python",
   "name": "python3"
  },
  "language_info": {
   "codemirror_mode": {
    "name": "ipython",
    "version": 3
   },
   "file_extension": ".py",
   "mimetype": "text/x-python",
   "name": "python",
   "nbconvert_exporter": "python",
   "pygments_lexer": "ipython3",
   "version": "3.9.5"
  }
 },
 "nbformat": 4,
 "nbformat_minor": 4
}
