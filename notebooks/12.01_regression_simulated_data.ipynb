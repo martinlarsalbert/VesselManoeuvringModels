{
 "cells": [
  {
   "cell_type": "markdown",
   "metadata": {},
   "source": [
    "# Regression on simulated data"
   ]
  },
  {
   "cell_type": "markdown",
   "metadata": {},
   "source": [
    "# Purpose\n",
    "* It is hard to say if the quality of the regressed parameters depend on the regression or the estimated hidden states (velocities and accelerations).\n",
    "* Regression will therefore be conducted on simulated data, where all states are known.\n",
    "* The simulated data and the regression will be initially performed with the same model."
   ]
  },
  {
   "cell_type": "markdown",
   "metadata": {},
   "source": [
    "# Methodology\n",
    "* Simulate wPCC using Brix coefficients.\n",
    "* Regress the simulated data\n",
    "* What is the accuray?\n",
    "* Are the coefficients the same?"
   ]
  },
  {
   "cell_type": "markdown",
   "metadata": {},
   "source": [
    "## Results\n",
    "Describe and comment the most important results."
   ]
  },
  {
   "cell_type": "markdown",
   "metadata": {},
   "source": [
    "# Setup"
   ]
  },
  {
   "cell_type": "code",
   "execution_count": null,
   "metadata": {},
   "outputs": [],
   "source": [
    "# %load imports.py\n",
    "## Local packages:\n",
    "\n",
    "%matplotlib inline\n",
    "%load_ext autoreload\n",
    "%autoreload 2\n",
    "%config Completer.use_jedi = False  ## (To fix autocomplete)\n",
    "\n",
    "## External packages:\n",
    "import pandas as pd\n",
    "pd.options.display.max_rows = 999\n",
    "pd.options.display.max_columns = 999\n",
    "pd.set_option(\"display.max_columns\", None)\n",
    "\n",
    "import numpy as np\n",
    "import os\n",
    "import matplotlib.pyplot as plt\n",
    "#if os.name == 'nt':\n",
    "#    plt.style.use('presentation.mplstyle')  # Windows\n",
    "\n",
    "import plotly.express as px \n",
    "import plotly.graph_objects as go\n",
    "\n",
    "import seaborn as sns\n",
    "import sympy as sp\n",
    "from sympy.physics.mechanics import (dynamicsymbols, ReferenceFrame,\n",
    "                                      Particle, Point)\n",
    "from sympy.physics.vector.printing import vpprint, vlatex\n",
    "from IPython.display import display, Math, Latex\n",
    "from src.substitute_dynamic_symbols import run, lambdify\n",
    "\n",
    "import pyro\n",
    "\n",
    "import sklearn\n",
    "import pykalman\n",
    "from statsmodels.sandbox.regression.predstd import wls_prediction_std\n",
    "import statsmodels.api as sm\n",
    "\n",
    "from scipy.integrate import solve_ivp\n",
    "\n",
    "## Local packages:\n",
    "from src.data import mdl\n",
    "\n",
    "from src.symbols import *\n",
    "from src.parameters import *\n",
    "import src.symbols as symbols\n",
    "from src import prime_system\n",
    "from src.models import regression\n",
    "from src.visualization.plot import track_plot\n",
    "from src.equation import Equation\n",
    "\n",
    "## Load models:\n",
    "# (Uncomment these for faster loading):\n",
    "import src.models.vmm_linear  as vmm"
   ]
  },
  {
   "cell_type": "code",
   "execution_count": null,
   "metadata": {},
   "outputs": [],
   "source": [
    "id=22774\n",
    "meta_data = mdl.load_meta_data(id=id)\n",
    "meta_data['rho']=1000\n",
    "meta_data['mass'] = meta_data['Volume']*meta_data['rho']"
   ]
  },
  {
   "cell_type": "markdown",
   "metadata": {},
   "source": [
    "# Ship parameters"
   ]
  },
  {
   "cell_type": "code",
   "execution_count": null,
   "metadata": {},
   "outputs": [],
   "source": [
    "T_ = (meta_data.TA + meta_data.TF)/2\n",
    "L_ = meta_data.lpp\n",
    "m_ = meta_data.mass\n",
    "rho_ = meta_data.rho\n",
    "B_ = meta_data.beam\n",
    "CB_ = m_/(T_*B_*L_*rho_)\n",
    "I_z_ = m_*meta_data.KZZ**2\n",
    "#I_z_ = 900\n",
    "\n",
    "\n",
    "ship_parameters = {\n",
    "        'T' : T_,\n",
    "        'L' : L_,\n",
    "        'CB' :CB_,\n",
    "        'B' : B_,\n",
    "        'rho' : rho_,\n",
    "        'x_G' : 0,  # motions are expressed at CG\n",
    "        'm' : m_,\n",
    "        'I_z': I_z_, \n",
    "        'volume':meta_data.Volume,\n",
    "    }\n",
    "\n",
    "ps = prime_system.PrimeSystem(**ship_parameters)  # model\n",
    "\n",
    "scale_factor = meta_data.scale_factor\n",
    "ps_ship = prime_system.PrimeSystem(L=ship_parameters['L']*scale_factor, rho=meta_data['rho'])  # ship"
   ]
  },
  {
   "cell_type": "code",
   "execution_count": null,
   "metadata": {},
   "outputs": [],
   "source": [
    "ship_parameters"
   ]
  },
  {
   "cell_type": "markdown",
   "metadata": {},
   "source": [
    "# Brix parameters"
   ]
  },
  {
   "cell_type": "code",
   "execution_count": null,
   "metadata": {},
   "outputs": [],
   "source": [
    "def calculate_prime(row, ship_parameters):\n",
    "    return run(function=row['brix_lambda'], inputs=ship_parameters)\n",
    "\n",
    "\n",
    "mask = df_parameters['brix_lambda'].notnull()\n",
    "df_parameters.loc[mask,'brix_prime'] = df_parameters.loc[mask].apply(calculate_prime, ship_parameters=ship_parameters, axis=1)\n",
    "\n",
    "df_parameters['brix_prime'].fillna(0, inplace=True)\n",
    "\n",
    "df_parameters.loc['Ydelta','prime'] = 0.005  # Just guessing\n",
    "df_parameters.loc['Ndelta','prime'] = -df_parameters.loc['Ydelta','prime']/2  # Just guessing\n",
    "df_parameters['prime'].fillna(0, inplace=True)"
   ]
  },
  {
   "cell_type": "code",
   "execution_count": null,
   "metadata": {},
   "outputs": [],
   "source": [
    "df_parameters['prime'] = df_parameters['brix_prime']\n",
    "\n",
    "def to_SI(row):\n",
    "    \n",
    "    prime = row['prime']\n",
    "    denominator = row['denominator']\n",
    "    lamda = lambdify(denominator)\n",
    "    try:\n",
    "        denominator_value = run(lamda, inputs=ship_parameters)\n",
    "        SI = prime*denominator_value\n",
    "    except:\n",
    "        return None\n",
    "    else:\n",
    "        return SI\n",
    "    \n",
    "df_parameters['brix_SI'] = df_parameters.apply(to_SI, axis=1)\n",
    "    "
   ]
  },
  {
   "cell_type": "markdown",
   "metadata": {},
   "source": [
    "## Simulate data"
   ]
  },
  {
   "cell_type": "code",
   "execution_count": null,
   "metadata": {},
   "outputs": [],
   "source": [
    "parameters=df_parameters['brix_SI'].copy()\n",
    "\n",
    "t_ = np.linspace(0,10,10)\n",
    "df = pd.DataFrame(index=t_)\n",
    "\n",
    "df['u'] = 2\n",
    "df['v'] = 0\n",
    "df['r'] = 0\n",
    "df['x0'] = 0\n",
    "df['y0'] = 0\n",
    "df['psi'] = 0\n",
    "\n",
    "df['delta'] = np.deg2rad(20)\n",
    "\n",
    "result_vmm = vmm.simulator.simulate(df_=df, parameters=parameters, ship_parameters=ship_parameters, \n",
    "                                    control_keys=['delta'])"
   ]
  },
  {
   "cell_type": "code",
   "execution_count": null,
   "metadata": {},
   "outputs": [],
   "source": []
  }
 ],
 "metadata": {
  "kernelspec": {
   "display_name": "Python 3",
   "language": "python",
   "name": "python3"
  },
  "language_info": {
   "codemirror_mode": {
    "name": "ipython",
    "version": 3
   },
   "file_extension": ".py",
   "mimetype": "text/x-python",
   "name": "python",
   "nbconvert_exporter": "python",
   "pygments_lexer": "ipython3",
   "version": "3.9.5"
  }
 },
 "nbformat": 4,
 "nbformat_minor": 4
}
