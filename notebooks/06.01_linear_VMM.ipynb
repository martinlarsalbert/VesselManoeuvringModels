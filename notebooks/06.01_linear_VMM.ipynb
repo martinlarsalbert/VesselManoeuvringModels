{
 "cells": [
  {
   "cell_type": "markdown",
   "metadata": {},
   "source": [
    "# Linear VMM (Vessel Maneuvering Model)"
   ]
  },
  {
   "cell_type": "markdown",
   "metadata": {},
   "source": [
    "# Purpose\n",
    "Implementing according to:\n",
    "Matusiak, Jerzy. Dynamics of a Rigid Ship. Aalto University, 2017. https://aaltodoc.aalto.fi:443/handle/123456789/24408."
   ]
  },
  {
   "cell_type": "markdown",
   "metadata": {},
   "source": [
    "# Methodology\n",
    "Define the problem using SymPy"
   ]
  },
  {
   "cell_type": "markdown",
   "metadata": {},
   "source": [
    "# Setup"
   ]
  },
  {
   "cell_type": "code",
   "execution_count": 1,
   "metadata": {},
   "outputs": [],
   "source": [
    "%config Completer.use_jedi = False"
   ]
  },
  {
   "cell_type": "code",
   "execution_count": 2,
   "metadata": {},
   "outputs": [
    {
     "name": "stderr",
     "output_type": "stream",
     "text": [
      "Duplicate key in file WindowsPath('C:/Users/maa/.matplotlib/stylelib/paper.mplstyle'), line 462 ('figure.figsize   : 5, 3   ## figure size in inches')\n",
      "Duplicate key in file WindowsPath('C:/Users/maa/.matplotlib/stylelib/paper.mplstyle'), line 463 ('figure.dpi       : 100        ## figure dots per inch')\n"
     ]
    }
   ],
   "source": [
    "# %load imports.py\n",
    "%matplotlib inline\n",
    "%load_ext autoreload\n",
    "%autoreload 2\n",
    "\n",
    "## External packages:\n",
    "import pandas as pd\n",
    "pd.options.display.max_rows = 999\n",
    "pd.options.display.max_columns = 999\n",
    "pd.set_option(\"display.max_columns\", None)\n",
    "\n",
    "import numpy as np\n",
    "import os\n",
    "import matplotlib.pyplot as plt\n",
    "\n",
    "import plotly.express as px \n",
    "import plotly.graph_objects as go\n",
    "\n",
    "import seaborn as sns\n",
    "import sympy as sp\n",
    "from sympy.physics.mechanics import (dynamicsymbols, ReferenceFrame,\n",
    "                                      Particle, Point)\n",
    "from sympy.physics.vector.printing import vpprint, vlatex\n",
    "from IPython.display import display, Math, Latex\n",
    "from src.substitute_dynamic_symbols import run, lambdify\n",
    "\n",
    "import pyro\n",
    "\n",
    "import sklearn\n",
    "import pykalman\n",
    "from statsmodels.sandbox.regression.predstd import wls_prediction_std\n",
    "import statsmodels.api as sm\n",
    "\n",
    "from scipy.integrate import solve_ivp\n",
    "\n",
    "## Local packages:\n",
    "from src.data import mdl\n",
    "\n",
    "\n"
   ]
  },
  {
   "cell_type": "code",
   "execution_count": 3,
   "metadata": {},
   "outputs": [],
   "source": [
    "u, v, r, delta = dynamicsymbols('u v r delta')"
   ]
  },
  {
   "cell_type": "code",
   "execution_count": 4,
   "metadata": {},
   "outputs": [],
   "source": [
    "df_parameters = pd.DataFrame()\n",
    "dofs = ['X','Y','N']\n",
    "coords = ['u','v','r',r'\\delta']\n",
    "states = ['','dot']\n",
    "\n",
    "for dof in dofs:\n",
    "    \n",
    "    for coord in coords:\n",
    "        for state in states:\n",
    "            key = f'{dof}{coord}{state}'\n",
    "            key = key.replace('\\\\','')\n",
    "            \n",
    "            if len(state) > 0:\n",
    "                symbol_name = r'%s_{\\%s{%s}}' % (dof,state,coord)\n",
    "            else:\n",
    "                symbol_name = r'%s_{%s%s}' % (dof,state,coord)\n",
    "            \n",
    "            s = pd.Series(name=key, dtype='object')\n",
    "            s['symbol'] = sp.symbols(symbol_name)\n",
    "            s['dof'] = dof\n",
    "            s['coord'] = coord\n",
    "            s['state'] = state\n",
    "            df_parameters = df_parameters.append(s) \n",
    "#df_parameters = df_parameters.transpose()"
   ]
  },
  {
   "cell_type": "code",
   "execution_count": 5,
   "metadata": {},
   "outputs": [
    {
     "data": {
      "text/html": [
       "<div>\n",
       "<style scoped>\n",
       "    .dataframe tbody tr th:only-of-type {\n",
       "        vertical-align: middle;\n",
       "    }\n",
       "\n",
       "    .dataframe tbody tr th {\n",
       "        vertical-align: top;\n",
       "    }\n",
       "\n",
       "    .dataframe thead th {\n",
       "        text-align: right;\n",
       "    }\n",
       "</style>\n",
       "<table border=\"1\" class=\"dataframe\">\n",
       "  <thead>\n",
       "    <tr style=\"text-align: right;\">\n",
       "      <th></th>\n",
       "      <th>coord</th>\n",
       "      <th>dof</th>\n",
       "      <th>state</th>\n",
       "      <th>symbol</th>\n",
       "    </tr>\n",
       "  </thead>\n",
       "  <tbody>\n",
       "    <tr>\n",
       "      <th>Xu</th>\n",
       "      <td>u</td>\n",
       "      <td>X</td>\n",
       "      <td></td>\n",
       "      <td>X_{u}</td>\n",
       "    </tr>\n",
       "    <tr>\n",
       "      <th>Xudot</th>\n",
       "      <td>u</td>\n",
       "      <td>X</td>\n",
       "      <td>dot</td>\n",
       "      <td>X_{\\dot{u}}</td>\n",
       "    </tr>\n",
       "    <tr>\n",
       "      <th>Xv</th>\n",
       "      <td>v</td>\n",
       "      <td>X</td>\n",
       "      <td></td>\n",
       "      <td>X_{v}</td>\n",
       "    </tr>\n",
       "    <tr>\n",
       "      <th>Xvdot</th>\n",
       "      <td>v</td>\n",
       "      <td>X</td>\n",
       "      <td>dot</td>\n",
       "      <td>X_{\\dot{v}}</td>\n",
       "    </tr>\n",
       "    <tr>\n",
       "      <th>Xr</th>\n",
       "      <td>r</td>\n",
       "      <td>X</td>\n",
       "      <td></td>\n",
       "      <td>X_{r}</td>\n",
       "    </tr>\n",
       "    <tr>\n",
       "      <th>Xrdot</th>\n",
       "      <td>r</td>\n",
       "      <td>X</td>\n",
       "      <td>dot</td>\n",
       "      <td>X_{\\dot{r}}</td>\n",
       "    </tr>\n",
       "    <tr>\n",
       "      <th>Xdelta</th>\n",
       "      <td>\\delta</td>\n",
       "      <td>X</td>\n",
       "      <td></td>\n",
       "      <td>X_{\\delta}</td>\n",
       "    </tr>\n",
       "    <tr>\n",
       "      <th>Xdeltadot</th>\n",
       "      <td>\\delta</td>\n",
       "      <td>X</td>\n",
       "      <td>dot</td>\n",
       "      <td>X_{\\dot{\\delta}}</td>\n",
       "    </tr>\n",
       "    <tr>\n",
       "      <th>Yu</th>\n",
       "      <td>u</td>\n",
       "      <td>Y</td>\n",
       "      <td></td>\n",
       "      <td>Y_{u}</td>\n",
       "    </tr>\n",
       "    <tr>\n",
       "      <th>Yudot</th>\n",
       "      <td>u</td>\n",
       "      <td>Y</td>\n",
       "      <td>dot</td>\n",
       "      <td>Y_{\\dot{u}}</td>\n",
       "    </tr>\n",
       "    <tr>\n",
       "      <th>Yv</th>\n",
       "      <td>v</td>\n",
       "      <td>Y</td>\n",
       "      <td></td>\n",
       "      <td>Y_{v}</td>\n",
       "    </tr>\n",
       "    <tr>\n",
       "      <th>Yvdot</th>\n",
       "      <td>v</td>\n",
       "      <td>Y</td>\n",
       "      <td>dot</td>\n",
       "      <td>Y_{\\dot{v}}</td>\n",
       "    </tr>\n",
       "    <tr>\n",
       "      <th>Yr</th>\n",
       "      <td>r</td>\n",
       "      <td>Y</td>\n",
       "      <td></td>\n",
       "      <td>Y_{r}</td>\n",
       "    </tr>\n",
       "    <tr>\n",
       "      <th>Yrdot</th>\n",
       "      <td>r</td>\n",
       "      <td>Y</td>\n",
       "      <td>dot</td>\n",
       "      <td>Y_{\\dot{r}}</td>\n",
       "    </tr>\n",
       "    <tr>\n",
       "      <th>Ydelta</th>\n",
       "      <td>\\delta</td>\n",
       "      <td>Y</td>\n",
       "      <td></td>\n",
       "      <td>Y_{\\delta}</td>\n",
       "    </tr>\n",
       "    <tr>\n",
       "      <th>Ydeltadot</th>\n",
       "      <td>\\delta</td>\n",
       "      <td>Y</td>\n",
       "      <td>dot</td>\n",
       "      <td>Y_{\\dot{\\delta}}</td>\n",
       "    </tr>\n",
       "    <tr>\n",
       "      <th>Nu</th>\n",
       "      <td>u</td>\n",
       "      <td>N</td>\n",
       "      <td></td>\n",
       "      <td>N_{u}</td>\n",
       "    </tr>\n",
       "    <tr>\n",
       "      <th>Nudot</th>\n",
       "      <td>u</td>\n",
       "      <td>N</td>\n",
       "      <td>dot</td>\n",
       "      <td>N_{\\dot{u}}</td>\n",
       "    </tr>\n",
       "    <tr>\n",
       "      <th>Nv</th>\n",
       "      <td>v</td>\n",
       "      <td>N</td>\n",
       "      <td></td>\n",
       "      <td>N_{v}</td>\n",
       "    </tr>\n",
       "    <tr>\n",
       "      <th>Nvdot</th>\n",
       "      <td>v</td>\n",
       "      <td>N</td>\n",
       "      <td>dot</td>\n",
       "      <td>N_{\\dot{v}}</td>\n",
       "    </tr>\n",
       "    <tr>\n",
       "      <th>Nr</th>\n",
       "      <td>r</td>\n",
       "      <td>N</td>\n",
       "      <td></td>\n",
       "      <td>N_{r}</td>\n",
       "    </tr>\n",
       "    <tr>\n",
       "      <th>Nrdot</th>\n",
       "      <td>r</td>\n",
       "      <td>N</td>\n",
       "      <td>dot</td>\n",
       "      <td>N_{\\dot{r}}</td>\n",
       "    </tr>\n",
       "    <tr>\n",
       "      <th>Ndelta</th>\n",
       "      <td>\\delta</td>\n",
       "      <td>N</td>\n",
       "      <td></td>\n",
       "      <td>N_{\\delta}</td>\n",
       "    </tr>\n",
       "    <tr>\n",
       "      <th>Ndeltadot</th>\n",
       "      <td>\\delta</td>\n",
       "      <td>N</td>\n",
       "      <td>dot</td>\n",
       "      <td>N_{\\dot{\\delta}}</td>\n",
       "    </tr>\n",
       "  </tbody>\n",
       "</table>\n",
       "</div>"
      ],
      "text/plain": [
       "            coord dof state            symbol\n",
       "Xu              u   X                   X_{u}\n",
       "Xudot           u   X   dot       X_{\\dot{u}}\n",
       "Xv              v   X                   X_{v}\n",
       "Xvdot           v   X   dot       X_{\\dot{v}}\n",
       "Xr              r   X                   X_{r}\n",
       "Xrdot           r   X   dot       X_{\\dot{r}}\n",
       "Xdelta     \\delta   X              X_{\\delta}\n",
       "Xdeltadot  \\delta   X   dot  X_{\\dot{\\delta}}\n",
       "Yu              u   Y                   Y_{u}\n",
       "Yudot           u   Y   dot       Y_{\\dot{u}}\n",
       "Yv              v   Y                   Y_{v}\n",
       "Yvdot           v   Y   dot       Y_{\\dot{v}}\n",
       "Yr              r   Y                   Y_{r}\n",
       "Yrdot           r   Y   dot       Y_{\\dot{r}}\n",
       "Ydelta     \\delta   Y              Y_{\\delta}\n",
       "Ydeltadot  \\delta   Y   dot  Y_{\\dot{\\delta}}\n",
       "Nu              u   N                   N_{u}\n",
       "Nudot           u   N   dot       N_{\\dot{u}}\n",
       "Nv              v   N                   N_{v}\n",
       "Nvdot           v   N   dot       N_{\\dot{v}}\n",
       "Nr              r   N                   N_{r}\n",
       "Nrdot           r   N   dot       N_{\\dot{r}}\n",
       "Ndelta     \\delta   N              N_{\\delta}\n",
       "Ndeltadot  \\delta   N   dot  N_{\\dot{\\delta}}"
      ]
     },
     "execution_count": 5,
     "metadata": {},
     "output_type": "execute_result"
    }
   ],
   "source": [
    "df_parameters"
   ]
  },
  {
   "cell_type": "code",
   "execution_count": 6,
   "metadata": {},
   "outputs": [],
   "source": [
    "p = df_parameters['symbol']"
   ]
  },
  {
   "cell_type": "code",
   "execution_count": 7,
   "metadata": {},
   "outputs": [
    {
     "data": {
      "text/latex": [
       "$\\displaystyle X_{\\delta}$"
      ],
      "text/plain": [
       "X_{\\delta}"
      ]
     },
     "execution_count": 7,
     "metadata": {},
     "output_type": "execute_result"
    }
   ],
   "source": [
    "p.Xdelta"
   ]
  },
  {
   "cell_type": "code",
   "execution_count": 8,
   "metadata": {},
   "outputs": [
    {
     "data": {
      "text/latex": [
       "$\\displaystyle X_{\\delta} \\delta + X_{\\dot{r}} \\dot{r} + X_{\\dot{v}} \\dot{v} + X_{r} r + X_{u} u + X_{v} v + \\left(X_{\\dot{u}} - m\\right) \\dot{u} = 0$"
      ],
      "text/plain": [
       "<IPython.core.display.Math object>"
      ]
     },
     "execution_count": 8,
     "metadata": {},
     "output_type": "execute_result"
    }
   ],
   "source": [
    "m,x_G,U,I_z = sp.symbols('m x_G U I_z')\n",
    "X_eq = sp.Eq(\n",
    "    (p.Xudot-m)*u.diff() + p.Xu*u + p.Xvdot*v.diff() + p.Xv*v + p.Xrdot*r.diff() + p.Xr*r + p.Xdelta*delta,\n",
    "    0\n",
    ")\n",
    "\n",
    "Math(vlatex(X_eq))"
   ]
  },
  {
   "cell_type": "code",
   "execution_count": 9,
   "metadata": {},
   "outputs": [
    {
     "data": {
      "text/latex": [
       "$\\displaystyle Y_{\\delta} \\delta + Y_{\\dot{u}} \\dot{u} + Y_{u} u + Y_{v} v + \\left(Y_{\\dot{r}} - m x_{G}\\right) \\dot{r} + \\left(Y_{\\dot{v}} - m\\right) \\dot{v} + \\left(- U m + Y_{r}\\right) r = 0$"
      ],
      "text/plain": [
       "<IPython.core.display.Math object>"
      ]
     },
     "execution_count": 9,
     "metadata": {},
     "output_type": "execute_result"
    }
   ],
   "source": [
    "Y_eq = sp.Eq(\n",
    "    p.Yudot*u.diff() + p.Yu*u + (p.Yvdot-m)*v.diff() + p.Yv*v + (p.Yrdot-m*x_G)*r.diff() + (p.Yr-m*U)*r + p.Ydelta*delta,\n",
    "    0\n",
    ")\n",
    "Math(vlatex(Y_eq))"
   ]
  },
  {
   "cell_type": "code",
   "execution_count": 10,
   "metadata": {},
   "outputs": [
    {
     "data": {
      "text/latex": [
       "$\\displaystyle N_{\\delta} \\delta + N_{\\dot{u}} \\dot{u} + N_{u} u + N_{v} v + \\left(- I_{z} + N_{\\dot{r}}\\right) \\dot{r} + \\left(N_{\\dot{v}} - m x_{G}\\right) \\dot{v} + \\left(N_{r} - U m x_{G}\\right) r = 0$"
      ],
      "text/plain": [
       "<IPython.core.display.Math object>"
      ]
     },
     "execution_count": 10,
     "metadata": {},
     "output_type": "execute_result"
    }
   ],
   "source": [
    "N_eq = sp.Eq(\n",
    "    p.Nudot*u.diff() + p.Nu*u + (p.Nvdot-m*x_G)*v.diff() + p.Nv*v + (p.Nrdot-I_z)*r.diff() + (p.Nr-m*x_G*U)*r + p.Ndelta*delta,\n",
    "    0\n",
    ")\n",
    "Math(vlatex(N_eq))"
   ]
  },
  {
   "cell_type": "code",
   "execution_count": 11,
   "metadata": {},
   "outputs": [
    {
     "data": {
      "text/latex": [
       "$\\displaystyle \\dot{u} = \\frac{X_{\\delta} \\delta + X_{\\dot{r}} \\dot{r} + X_{\\dot{v}} \\dot{v} + X_{r} r + X_{u} u + X_{v} v}{- X_{\\dot{u}} + m}$"
      ],
      "text/plain": [
       "<IPython.core.display.Math object>"
      ]
     },
     "execution_count": 11,
     "metadata": {},
     "output_type": "execute_result"
    }
   ],
   "source": [
    "u1d_eq = sp.Eq(u.diff(), sp.solve(X_eq, u.diff())[0])\n",
    "Math(vlatex(u1d_eq))"
   ]
  },
  {
   "cell_type": "code",
   "execution_count": 12,
   "metadata": {},
   "outputs": [
    {
     "data": {
      "text/latex": [
       "$\\displaystyle \\dot{v} = \\frac{U m r - Y_{\\delta} \\delta - Y_{\\dot{r}} \\dot{r} - Y_{\\dot{u}} \\dot{u} - Y_{r} r - Y_{u} u - Y_{v} v + m x_{G} \\dot{r}}{Y_{\\dot{v}} - m}$"
      ],
      "text/plain": [
       "<IPython.core.display.Math object>"
      ]
     },
     "execution_count": 12,
     "metadata": {},
     "output_type": "execute_result"
    }
   ],
   "source": [
    "v1d_eq = sp.Eq(v.diff(), sp.solve(Y_eq, v.diff())[0])\n",
    "Math(vlatex(v1d_eq))"
   ]
  },
  {
   "cell_type": "code",
   "execution_count": 13,
   "metadata": {},
   "outputs": [
    {
     "data": {
      "text/latex": [
       "$\\displaystyle \\dot{r} = \\frac{N_{\\delta} \\delta + N_{\\dot{u}} \\dot{u} + N_{\\dot{v}} \\dot{v} + N_{r} r + N_{u} u + N_{v} v - U m x_{G} r - m x_{G} \\dot{v}}{I_{z} - N_{\\dot{r}}}$"
      ],
      "text/plain": [
       "<IPython.core.display.Math object>"
      ]
     },
     "execution_count": 13,
     "metadata": {},
     "output_type": "execute_result"
    }
   ],
   "source": [
    "r1d_eq = sp.Eq(r.diff(), sp.solve(N_eq, r.diff())[0])\n",
    "Math(vlatex(r1d_eq))"
   ]
  },
  {
   "cell_type": "code",
   "execution_count": 14,
   "metadata": {},
   "outputs": [],
   "source": [
    "subs = {value:key for key,value in p.items()}\n",
    "u1d_lambda = lambdify(u1d_eq.subs(subs).rhs)\n",
    "v1d_lambda = lambdify(v1d_eq.subs(subs).rhs)\n",
    "r1d_lambda = lambdify(r1d_eq.subs(subs).rhs)"
   ]
  },
  {
   "cell_type": "markdown",
   "metadata": {},
   "source": [
    "## Parameters according to (Brix, 1993)"
   ]
  },
  {
   "cell_type": "code",
   "execution_count": 15,
   "metadata": {},
   "outputs": [],
   "source": [
    "π = sp.pi\n",
    "T,L,CB,B = sp.symbols('T L CB B')\n",
    "\n",
    "df_parameters.loc['Yvdot','brix'] = -π*(T / L)**2 * (1 + 0.16*CB*B/T - 5.1*(B / L)**2)\n",
    "df_parameters.loc['Yrdot','brix'] = -π*(T / L)**2 * (0.67*B/L - 0.0033*(B/T)**2)\n",
    "df_parameters.loc['Nvdot','brix'] = -π*(T / L)**2 * (1.1*B/L - 0.04*(B/T))\n",
    "df_parameters.loc['Nrdot','brix'] = -π*(T / L)**2 * (1/12 + 0.017*CB*B/T - 0.33*(B/L))\n",
    "df_parameters.loc['Yv','brix'] = -π*(T / L)**2 * (1 + 0.4*CB*B/T)\n",
    "df_parameters.loc['Yr','brix'] = -π*(T / L)**2 * (-1/2 + 2.2*B/L - 0.08*(B/T))\n",
    "df_parameters.loc['Nv','brix'] = -π*(T / L)**2 * (1/2 + 2.4*T/L)\n",
    "df_parameters.loc['Nr','brix'] = -π*(T / L)**2 * (1/4 + 0.039*B/T -0.56*B/L)\n"
   ]
  },
  {
   "cell_type": "code",
   "execution_count": 16,
   "metadata": {},
   "outputs": [],
   "source": [
    "ship_parameters = {\n",
    "    'T' : 10,\n",
    "    'L' : 200,\n",
    "    'CB' : 0.7,\n",
    "    'B' : 30,\n",
    "    'rho' : 1025,\n",
    "    'x_G' : 0,\n",
    "}\n",
    "ship_parameters['m'] = ship_parameters['T']*ship_parameters['B']*ship_parameters['L']*ship_parameters['CB']*ship_parameters['rho']\n",
    "ship_parameters['I_z'] = 0.2*ship_parameters['m']*ship_parameters['L']**2\n"
   ]
  },
  {
   "cell_type": "code",
   "execution_count": 17,
   "metadata": {},
   "outputs": [
    {
     "data": {
      "text/html": [
       "<div>\n",
       "<style scoped>\n",
       "    .dataframe tbody tr th:only-of-type {\n",
       "        vertical-align: middle;\n",
       "    }\n",
       "\n",
       "    .dataframe tbody tr th {\n",
       "        vertical-align: top;\n",
       "    }\n",
       "\n",
       "    .dataframe thead th {\n",
       "        text-align: right;\n",
       "    }\n",
       "</style>\n",
       "<table border=\"1\" class=\"dataframe\">\n",
       "  <thead>\n",
       "    <tr style=\"text-align: right;\">\n",
       "      <th></th>\n",
       "      <th>coord</th>\n",
       "      <th>dof</th>\n",
       "      <th>state</th>\n",
       "      <th>symbol</th>\n",
       "      <th>brix</th>\n",
       "    </tr>\n",
       "  </thead>\n",
       "  <tbody>\n",
       "    <tr>\n",
       "      <th>Yv</th>\n",
       "      <td>v</td>\n",
       "      <td>Y</td>\n",
       "      <td></td>\n",
       "      <td>Y_{v}</td>\n",
       "      <td>-pi*T**2*(0.4*B*CB/T + 1)/L**2</td>\n",
       "    </tr>\n",
       "    <tr>\n",
       "      <th>Yvdot</th>\n",
       "      <td>v</td>\n",
       "      <td>Y</td>\n",
       "      <td>dot</td>\n",
       "      <td>Y_{\\dot{v}}</td>\n",
       "      <td>-pi*T**2*(-5.1*B**2/L**2 + 0.16*B*CB/T + 1)/L**2</td>\n",
       "    </tr>\n",
       "    <tr>\n",
       "      <th>Yr</th>\n",
       "      <td>r</td>\n",
       "      <td>Y</td>\n",
       "      <td></td>\n",
       "      <td>Y_{r}</td>\n",
       "      <td>-pi*T**2*(-0.08*B/T + 2.2*B/L - 0.5)/L**2</td>\n",
       "    </tr>\n",
       "    <tr>\n",
       "      <th>Yrdot</th>\n",
       "      <td>r</td>\n",
       "      <td>Y</td>\n",
       "      <td>dot</td>\n",
       "      <td>Y_{\\dot{r}}</td>\n",
       "      <td>-pi*T**2*(-0.0033*B**2/T**2 + 0.67*B/L)/L**2</td>\n",
       "    </tr>\n",
       "    <tr>\n",
       "      <th>Nv</th>\n",
       "      <td>v</td>\n",
       "      <td>N</td>\n",
       "      <td></td>\n",
       "      <td>N_{v}</td>\n",
       "      <td>-pi*T**2*(0.5 + 2.4*T/L)/L**2</td>\n",
       "    </tr>\n",
       "    <tr>\n",
       "      <th>Nvdot</th>\n",
       "      <td>v</td>\n",
       "      <td>N</td>\n",
       "      <td>dot</td>\n",
       "      <td>N_{\\dot{v}}</td>\n",
       "      <td>-pi*T**2*(-0.04*B/T + 1.1*B/L)/L**2</td>\n",
       "    </tr>\n",
       "    <tr>\n",
       "      <th>Nr</th>\n",
       "      <td>r</td>\n",
       "      <td>N</td>\n",
       "      <td></td>\n",
       "      <td>N_{r}</td>\n",
       "      <td>-pi*T**2*(0.039*B/T - 0.56*B/L + 0.25)/L**2</td>\n",
       "    </tr>\n",
       "    <tr>\n",
       "      <th>Nrdot</th>\n",
       "      <td>r</td>\n",
       "      <td>N</td>\n",
       "      <td>dot</td>\n",
       "      <td>N_{\\dot{r}}</td>\n",
       "      <td>-pi*T**2*(0.017*B*CB/T - 0.33*B/L + 0.08333333...</td>\n",
       "    </tr>\n",
       "  </tbody>\n",
       "</table>\n",
       "</div>"
      ],
      "text/plain": [
       "      coord dof state       symbol  \\\n",
       "Yv        v   Y              Y_{v}   \n",
       "Yvdot     v   Y   dot  Y_{\\dot{v}}   \n",
       "Yr        r   Y              Y_{r}   \n",
       "Yrdot     r   Y   dot  Y_{\\dot{r}}   \n",
       "Nv        v   N              N_{v}   \n",
       "Nvdot     v   N   dot  N_{\\dot{v}}   \n",
       "Nr        r   N              N_{r}   \n",
       "Nrdot     r   N   dot  N_{\\dot{r}}   \n",
       "\n",
       "                                                    brix  \n",
       "Yv                        -pi*T**2*(0.4*B*CB/T + 1)/L**2  \n",
       "Yvdot   -pi*T**2*(-5.1*B**2/L**2 + 0.16*B*CB/T + 1)/L**2  \n",
       "Yr             -pi*T**2*(-0.08*B/T + 2.2*B/L - 0.5)/L**2  \n",
       "Yrdot       -pi*T**2*(-0.0033*B**2/T**2 + 0.67*B/L)/L**2  \n",
       "Nv                         -pi*T**2*(0.5 + 2.4*T/L)/L**2  \n",
       "Nvdot                -pi*T**2*(-0.04*B/T + 1.1*B/L)/L**2  \n",
       "Nr           -pi*T**2*(0.039*B/T - 0.56*B/L + 0.25)/L**2  \n",
       "Nrdot  -pi*T**2*(0.017*B*CB/T - 0.33*B/L + 0.08333333...  "
      ]
     },
     "execution_count": 17,
     "metadata": {},
     "output_type": "execute_result"
    }
   ],
   "source": [
    "mask = df_parameters['brix'].notnull()\n",
    "df_parameters.loc[mask]"
   ]
  },
  {
   "cell_type": "code",
   "execution_count": 18,
   "metadata": {},
   "outputs": [],
   "source": [
    "df_parameters['brix_lambda'] = df_parameters.loc[mask,'brix'].apply(lambdify)"
   ]
  },
  {
   "cell_type": "code",
   "execution_count": 19,
   "metadata": {},
   "outputs": [],
   "source": [
    "def calculate_prime(row, ship_parameters):\n",
    "    return run(function=row['brix_lambda'], inputs=ship_parameters)\n",
    "\n",
    "df_parameters.loc[mask,'prime'] = df_parameters.loc[mask].apply(calculate_prime, ship_parameters=ship_parameters, axis=1)"
   ]
  },
  {
   "cell_type": "code",
   "execution_count": 38,
   "metadata": {},
   "outputs": [],
   "source": [
    "df_parameters.loc['Ydelta','prime'] = 0.1  # Just guessing\n",
    "df_parameters.loc['Ndelta','prime'] = 0.1  # Just guessing"
   ]
  },
  {
   "cell_type": "code",
   "execution_count": 39,
   "metadata": {},
   "outputs": [
    {
     "data": {
      "text/html": [
       "<div>\n",
       "<style scoped>\n",
       "    .dataframe tbody tr th:only-of-type {\n",
       "        vertical-align: middle;\n",
       "    }\n",
       "\n",
       "    .dataframe tbody tr th {\n",
       "        vertical-align: top;\n",
       "    }\n",
       "\n",
       "    .dataframe thead th {\n",
       "        text-align: right;\n",
       "    }\n",
       "</style>\n",
       "<table border=\"1\" class=\"dataframe\">\n",
       "  <thead>\n",
       "    <tr style=\"text-align: right;\">\n",
       "      <th></th>\n",
       "      <th>coord</th>\n",
       "      <th>dof</th>\n",
       "      <th>state</th>\n",
       "      <th>symbol</th>\n",
       "      <th>brix</th>\n",
       "      <th>brix_lambda</th>\n",
       "      <th>prime</th>\n",
       "    </tr>\n",
       "  </thead>\n",
       "  <tbody>\n",
       "    <tr>\n",
       "      <th>Xu</th>\n",
       "      <td>u</td>\n",
       "      <td>X</td>\n",
       "      <td></td>\n",
       "      <td>X_{u}</td>\n",
       "      <td>NaN</td>\n",
       "      <td>NaN</td>\n",
       "      <td>0.000000</td>\n",
       "    </tr>\n",
       "    <tr>\n",
       "      <th>Xudot</th>\n",
       "      <td>u</td>\n",
       "      <td>X</td>\n",
       "      <td>dot</td>\n",
       "      <td>X_{\\dot{u}}</td>\n",
       "      <td>NaN</td>\n",
       "      <td>NaN</td>\n",
       "      <td>0.000000</td>\n",
       "    </tr>\n",
       "    <tr>\n",
       "      <th>Xv</th>\n",
       "      <td>v</td>\n",
       "      <td>X</td>\n",
       "      <td></td>\n",
       "      <td>X_{v}</td>\n",
       "      <td>NaN</td>\n",
       "      <td>NaN</td>\n",
       "      <td>0.000000</td>\n",
       "    </tr>\n",
       "    <tr>\n",
       "      <th>Xvdot</th>\n",
       "      <td>v</td>\n",
       "      <td>X</td>\n",
       "      <td>dot</td>\n",
       "      <td>X_{\\dot{v}}</td>\n",
       "      <td>NaN</td>\n",
       "      <td>NaN</td>\n",
       "      <td>0.000000</td>\n",
       "    </tr>\n",
       "    <tr>\n",
       "      <th>Xr</th>\n",
       "      <td>r</td>\n",
       "      <td>X</td>\n",
       "      <td></td>\n",
       "      <td>X_{r}</td>\n",
       "      <td>NaN</td>\n",
       "      <td>NaN</td>\n",
       "      <td>0.000000</td>\n",
       "    </tr>\n",
       "    <tr>\n",
       "      <th>Xrdot</th>\n",
       "      <td>r</td>\n",
       "      <td>X</td>\n",
       "      <td>dot</td>\n",
       "      <td>X_{\\dot{r}}</td>\n",
       "      <td>NaN</td>\n",
       "      <td>NaN</td>\n",
       "      <td>0.000000</td>\n",
       "    </tr>\n",
       "    <tr>\n",
       "      <th>Xdelta</th>\n",
       "      <td>\\delta</td>\n",
       "      <td>X</td>\n",
       "      <td></td>\n",
       "      <td>X_{\\delta}</td>\n",
       "      <td>NaN</td>\n",
       "      <td>NaN</td>\n",
       "      <td>0.000000</td>\n",
       "    </tr>\n",
       "    <tr>\n",
       "      <th>Xdeltadot</th>\n",
       "      <td>\\delta</td>\n",
       "      <td>X</td>\n",
       "      <td>dot</td>\n",
       "      <td>X_{\\dot{\\delta}}</td>\n",
       "      <td>NaN</td>\n",
       "      <td>NaN</td>\n",
       "      <td>0.000000</td>\n",
       "    </tr>\n",
       "    <tr>\n",
       "      <th>Yu</th>\n",
       "      <td>u</td>\n",
       "      <td>Y</td>\n",
       "      <td></td>\n",
       "      <td>Y_{u}</td>\n",
       "      <td>NaN</td>\n",
       "      <td>NaN</td>\n",
       "      <td>0.000000</td>\n",
       "    </tr>\n",
       "    <tr>\n",
       "      <th>Yudot</th>\n",
       "      <td>u</td>\n",
       "      <td>Y</td>\n",
       "      <td>dot</td>\n",
       "      <td>Y_{\\dot{u}}</td>\n",
       "      <td>NaN</td>\n",
       "      <td>NaN</td>\n",
       "      <td>0.000000</td>\n",
       "    </tr>\n",
       "    <tr>\n",
       "      <th>Yv</th>\n",
       "      <td>v</td>\n",
       "      <td>Y</td>\n",
       "      <td></td>\n",
       "      <td>Y_{v}</td>\n",
       "      <td>-pi*T**2*(0.4*B*CB/T + 1)/L**2</td>\n",
       "      <td>&lt;function _lambdifygenerated at 0x000001D1EE94...</td>\n",
       "      <td>-0.014451</td>\n",
       "    </tr>\n",
       "    <tr>\n",
       "      <th>Yvdot</th>\n",
       "      <td>v</td>\n",
       "      <td>Y</td>\n",
       "      <td>dot</td>\n",
       "      <td>Y_{\\dot{v}}</td>\n",
       "      <td>-pi*T**2*(-5.1*B**2/L**2 + 0.16*B*CB/T + 1)/L**2</td>\n",
       "      <td>&lt;function _lambdifygenerated at 0x000001D1EE98...</td>\n",
       "      <td>-0.009592</td>\n",
       "    </tr>\n",
       "    <tr>\n",
       "      <th>Yr</th>\n",
       "      <td>r</td>\n",
       "      <td>Y</td>\n",
       "      <td></td>\n",
       "      <td>Y_{r}</td>\n",
       "      <td>-pi*T**2*(-0.08*B/T + 2.2*B/L - 0.5)/L**2</td>\n",
       "      <td>&lt;function _lambdifygenerated at 0x000001D1EE98...</td>\n",
       "      <td>0.003220</td>\n",
       "    </tr>\n",
       "    <tr>\n",
       "      <th>Yrdot</th>\n",
       "      <td>r</td>\n",
       "      <td>Y</td>\n",
       "      <td>dot</td>\n",
       "      <td>Y_{\\dot{r}}</td>\n",
       "      <td>-pi*T**2*(-0.0033*B**2/T**2 + 0.67*B/L)/L**2</td>\n",
       "      <td>&lt;function _lambdifygenerated at 0x000001D1EE98...</td>\n",
       "      <td>-0.000556</td>\n",
       "    </tr>\n",
       "    <tr>\n",
       "      <th>Ydelta</th>\n",
       "      <td>\\delta</td>\n",
       "      <td>Y</td>\n",
       "      <td></td>\n",
       "      <td>Y_{\\delta}</td>\n",
       "      <td>NaN</td>\n",
       "      <td>NaN</td>\n",
       "      <td>0.100000</td>\n",
       "    </tr>\n",
       "    <tr>\n",
       "      <th>Ydeltadot</th>\n",
       "      <td>\\delta</td>\n",
       "      <td>Y</td>\n",
       "      <td>dot</td>\n",
       "      <td>Y_{\\dot{\\delta}}</td>\n",
       "      <td>NaN</td>\n",
       "      <td>NaN</td>\n",
       "      <td>0.000000</td>\n",
       "    </tr>\n",
       "    <tr>\n",
       "      <th>Nu</th>\n",
       "      <td>u</td>\n",
       "      <td>N</td>\n",
       "      <td></td>\n",
       "      <td>N_{u}</td>\n",
       "      <td>NaN</td>\n",
       "      <td>NaN</td>\n",
       "      <td>0.000000</td>\n",
       "    </tr>\n",
       "    <tr>\n",
       "      <th>Nudot</th>\n",
       "      <td>u</td>\n",
       "      <td>N</td>\n",
       "      <td>dot</td>\n",
       "      <td>N_{\\dot{u}}</td>\n",
       "      <td>NaN</td>\n",
       "      <td>NaN</td>\n",
       "      <td>0.000000</td>\n",
       "    </tr>\n",
       "    <tr>\n",
       "      <th>Nv</th>\n",
       "      <td>v</td>\n",
       "      <td>N</td>\n",
       "      <td></td>\n",
       "      <td>N_{v}</td>\n",
       "      <td>-pi*T**2*(0.5 + 2.4*T/L)/L**2</td>\n",
       "      <td>&lt;function _lambdifygenerated at 0x000001D1EE98...</td>\n",
       "      <td>-0.004869</td>\n",
       "    </tr>\n",
       "    <tr>\n",
       "      <th>Nvdot</th>\n",
       "      <td>v</td>\n",
       "      <td>N</td>\n",
       "      <td>dot</td>\n",
       "      <td>N_{\\dot{v}}</td>\n",
       "      <td>-pi*T**2*(-0.04*B/T + 1.1*B/L)/L**2</td>\n",
       "      <td>&lt;function _lambdifygenerated at 0x000001D1EE98...</td>\n",
       "      <td>-0.000353</td>\n",
       "    </tr>\n",
       "    <tr>\n",
       "      <th>Nr</th>\n",
       "      <td>r</td>\n",
       "      <td>N</td>\n",
       "      <td></td>\n",
       "      <td>N_{r}</td>\n",
       "      <td>-pi*T**2*(0.039*B/T - 0.56*B/L + 0.25)/L**2</td>\n",
       "      <td>&lt;function _lambdifygenerated at 0x000001D1EE98...</td>\n",
       "      <td>-0.002223</td>\n",
       "    </tr>\n",
       "    <tr>\n",
       "      <th>Nrdot</th>\n",
       "      <td>r</td>\n",
       "      <td>N</td>\n",
       "      <td>dot</td>\n",
       "      <td>N_{\\dot{r}}</td>\n",
       "      <td>-pi*T**2*(0.017*B*CB/T - 0.33*B/L + 0.08333333...</td>\n",
       "      <td>&lt;function _lambdifygenerated at 0x000001D1EE98...</td>\n",
       "      <td>-0.000546</td>\n",
       "    </tr>\n",
       "    <tr>\n",
       "      <th>Ndelta</th>\n",
       "      <td>\\delta</td>\n",
       "      <td>N</td>\n",
       "      <td></td>\n",
       "      <td>N_{\\delta}</td>\n",
       "      <td>NaN</td>\n",
       "      <td>NaN</td>\n",
       "      <td>0.100000</td>\n",
       "    </tr>\n",
       "    <tr>\n",
       "      <th>Ndeltadot</th>\n",
       "      <td>\\delta</td>\n",
       "      <td>N</td>\n",
       "      <td>dot</td>\n",
       "      <td>N_{\\dot{\\delta}}</td>\n",
       "      <td>NaN</td>\n",
       "      <td>NaN</td>\n",
       "      <td>0.000000</td>\n",
       "    </tr>\n",
       "  </tbody>\n",
       "</table>\n",
       "</div>"
      ],
      "text/plain": [
       "            coord dof state            symbol  \\\n",
       "Xu              u   X                   X_{u}   \n",
       "Xudot           u   X   dot       X_{\\dot{u}}   \n",
       "Xv              v   X                   X_{v}   \n",
       "Xvdot           v   X   dot       X_{\\dot{v}}   \n",
       "Xr              r   X                   X_{r}   \n",
       "Xrdot           r   X   dot       X_{\\dot{r}}   \n",
       "Xdelta     \\delta   X              X_{\\delta}   \n",
       "Xdeltadot  \\delta   X   dot  X_{\\dot{\\delta}}   \n",
       "Yu              u   Y                   Y_{u}   \n",
       "Yudot           u   Y   dot       Y_{\\dot{u}}   \n",
       "Yv              v   Y                   Y_{v}   \n",
       "Yvdot           v   Y   dot       Y_{\\dot{v}}   \n",
       "Yr              r   Y                   Y_{r}   \n",
       "Yrdot           r   Y   dot       Y_{\\dot{r}}   \n",
       "Ydelta     \\delta   Y              Y_{\\delta}   \n",
       "Ydeltadot  \\delta   Y   dot  Y_{\\dot{\\delta}}   \n",
       "Nu              u   N                   N_{u}   \n",
       "Nudot           u   N   dot       N_{\\dot{u}}   \n",
       "Nv              v   N                   N_{v}   \n",
       "Nvdot           v   N   dot       N_{\\dot{v}}   \n",
       "Nr              r   N                   N_{r}   \n",
       "Nrdot           r   N   dot       N_{\\dot{r}}   \n",
       "Ndelta     \\delta   N              N_{\\delta}   \n",
       "Ndeltadot  \\delta   N   dot  N_{\\dot{\\delta}}   \n",
       "\n",
       "                                                        brix  \\\n",
       "Xu                                                       NaN   \n",
       "Xudot                                                    NaN   \n",
       "Xv                                                       NaN   \n",
       "Xvdot                                                    NaN   \n",
       "Xr                                                       NaN   \n",
       "Xrdot                                                    NaN   \n",
       "Xdelta                                                   NaN   \n",
       "Xdeltadot                                                NaN   \n",
       "Yu                                                       NaN   \n",
       "Yudot                                                    NaN   \n",
       "Yv                            -pi*T**2*(0.4*B*CB/T + 1)/L**2   \n",
       "Yvdot       -pi*T**2*(-5.1*B**2/L**2 + 0.16*B*CB/T + 1)/L**2   \n",
       "Yr                 -pi*T**2*(-0.08*B/T + 2.2*B/L - 0.5)/L**2   \n",
       "Yrdot           -pi*T**2*(-0.0033*B**2/T**2 + 0.67*B/L)/L**2   \n",
       "Ydelta                                                   NaN   \n",
       "Ydeltadot                                                NaN   \n",
       "Nu                                                       NaN   \n",
       "Nudot                                                    NaN   \n",
       "Nv                             -pi*T**2*(0.5 + 2.4*T/L)/L**2   \n",
       "Nvdot                    -pi*T**2*(-0.04*B/T + 1.1*B/L)/L**2   \n",
       "Nr               -pi*T**2*(0.039*B/T - 0.56*B/L + 0.25)/L**2   \n",
       "Nrdot      -pi*T**2*(0.017*B*CB/T - 0.33*B/L + 0.08333333...   \n",
       "Ndelta                                                   NaN   \n",
       "Ndeltadot                                                NaN   \n",
       "\n",
       "                                                 brix_lambda     prime  \n",
       "Xu                                                       NaN  0.000000  \n",
       "Xudot                                                    NaN  0.000000  \n",
       "Xv                                                       NaN  0.000000  \n",
       "Xvdot                                                    NaN  0.000000  \n",
       "Xr                                                       NaN  0.000000  \n",
       "Xrdot                                                    NaN  0.000000  \n",
       "Xdelta                                                   NaN  0.000000  \n",
       "Xdeltadot                                                NaN  0.000000  \n",
       "Yu                                                       NaN  0.000000  \n",
       "Yudot                                                    NaN  0.000000  \n",
       "Yv         <function _lambdifygenerated at 0x000001D1EE94... -0.014451  \n",
       "Yvdot      <function _lambdifygenerated at 0x000001D1EE98... -0.009592  \n",
       "Yr         <function _lambdifygenerated at 0x000001D1EE98...  0.003220  \n",
       "Yrdot      <function _lambdifygenerated at 0x000001D1EE98... -0.000556  \n",
       "Ydelta                                                   NaN  0.100000  \n",
       "Ydeltadot                                                NaN  0.000000  \n",
       "Nu                                                       NaN  0.000000  \n",
       "Nudot                                                    NaN  0.000000  \n",
       "Nv         <function _lambdifygenerated at 0x000001D1EE98... -0.004869  \n",
       "Nvdot      <function _lambdifygenerated at 0x000001D1EE98... -0.000353  \n",
       "Nr         <function _lambdifygenerated at 0x000001D1EE98... -0.002223  \n",
       "Nrdot      <function _lambdifygenerated at 0x000001D1EE98... -0.000546  \n",
       "Ndelta                                                   NaN  0.100000  \n",
       "Ndeltadot                                                NaN  0.000000  "
      ]
     },
     "execution_count": 39,
     "metadata": {},
     "output_type": "execute_result"
    }
   ],
   "source": [
    "df_parameters['prime'].fillna(0, inplace=True)\n",
    "df_parameters"
   ]
  },
  {
   "cell_type": "code",
   "execution_count": 40,
   "metadata": {},
   "outputs": [
    {
     "data": {
      "text/plain": [
       "<function _lambdifygenerated(Xdelta, Xr, Xrdot, Xu, Xudot, Xv, Xvdot, delta, m, r, r1d, u, v, v1d)>"
      ]
     },
     "execution_count": 40,
     "metadata": {},
     "output_type": "execute_result"
    }
   ],
   "source": [
    "u1d_lambda"
   ]
  },
  {
   "cell_type": "code",
   "execution_count": 41,
   "metadata": {},
   "outputs": [
    {
     "data": {
      "text/plain": [
       "<function _lambdifygenerated(U, Ydelta, Yr, Yrdot, Yu, Yudot, Yv, Yvdot, delta, m, r, r1d, u, u1d, v, x_G)>"
      ]
     },
     "execution_count": 41,
     "metadata": {},
     "output_type": "execute_result"
    }
   ],
   "source": [
    "v1d_lambda"
   ]
  },
  {
   "cell_type": "code",
   "execution_count": 42,
   "metadata": {},
   "outputs": [
    {
     "data": {
      "text/plain": [
       "0.0"
      ]
     },
     "execution_count": 42,
     "metadata": {},
     "output_type": "execute_result"
    }
   ],
   "source": [
    "states = {\n",
    "    'u' : 0,\n",
    "    'v' : 0,\n",
    "    'r' : 0,\n",
    "    'u1d' : 0,\n",
    "    'v1d' : 0,\n",
    "    'r1d' : 0,\n",
    "    \n",
    "}\n",
    "\n",
    "control = {\n",
    "    'delta' : 0,\n",
    "}\n",
    "\n",
    "inputs = dict(df_parameters['prime'])\n",
    "inputs.update(ship_parameters)\n",
    "inputs.update(states)\n",
    "inputs.update(control)\n",
    "\n",
    "run(function=u1d_lambda, inputs=inputs)"
   ]
  },
  {
   "cell_type": "code",
   "execution_count": 43,
   "metadata": {},
   "outputs": [],
   "source": [
    "def step(t, states, parameters, ship_parameters, control):\n",
    "    \n",
    "    states_dict = {\n",
    "        'u':states[0],\n",
    "        'v':states[1],\n",
    "        'r':states[2],\n",
    "        'u1d':states[3],\n",
    "        'v1d':states[4],\n",
    "        'r1d':states[5],\n",
    "                   }\n",
    "    \n",
    "    inputs = dict(parameters)\n",
    "    inputs.update(ship_parameters)\n",
    "    inputs.update(states_dict)\n",
    "    inputs.update(control)\n",
    "    \n",
    "    u1d = run(function=u1d_lambda, inputs=inputs)\n",
    "    v1d = run(function=v1d_lambda, inputs=inputs)\n",
    "    r1d = run(function=r1d_lambda, inputs=inputs)\n",
    "    \n",
    "    dstates = [\n",
    "        u1d,\n",
    "        v1d,\n",
    "        r1d,\n",
    "        1,\n",
    "        1,\n",
    "        1,\n",
    "    ]    \n",
    "    \n",
    "    return states\n",
    "    \n",
    "    \n",
    "    \n",
    "    "
   ]
  },
  {
   "cell_type": "code",
   "execution_count": 44,
   "metadata": {},
   "outputs": [],
   "source": [
    "t = np.linspace(0,10,1000)\n",
    "t_span = [t[0],t[-1]]\n",
    "\n",
    "control = {\n",
    "    'delta' : 0.1,\n",
    "    'U':0.1,\n",
    "}\n",
    "\n",
    "parameters = dict(df_parameters['prime'])\n",
    "\n",
    "y0 = [\n",
    "    0.1,  ## u\n",
    "    0,  ## v\n",
    "    0,  ## r\n",
    "    0,  ## ud1\n",
    "    0,  ## vd1\n",
    "    0,  ## rd1\n",
    "]\n",
    "\n",
    "solution = solve_ivp(fun=step, t_span=t_span, y0=y0, t_eval=t, args=(parameters, ship_parameters, control,) )\n",
    "assert solution.success\n",
    "df_result = pd.DataFrame(data=solution.y.T, columns = ['u','v','r','u1d','v1d','r1d'], index=t)"
   ]
  },
  {
   "cell_type": "code",
   "execution_count": 45,
   "metadata": {},
   "outputs": [
    {
     "data": {
      "text/html": [
       "<div>\n",
       "<style scoped>\n",
       "    .dataframe tbody tr th:only-of-type {\n",
       "        vertical-align: middle;\n",
       "    }\n",
       "\n",
       "    .dataframe tbody tr th {\n",
       "        vertical-align: top;\n",
       "    }\n",
       "\n",
       "    .dataframe thead th {\n",
       "        text-align: right;\n",
       "    }\n",
       "</style>\n",
       "<table border=\"1\" class=\"dataframe\">\n",
       "  <thead>\n",
       "    <tr style=\"text-align: right;\">\n",
       "      <th></th>\n",
       "      <th>u</th>\n",
       "      <th>v</th>\n",
       "      <th>r</th>\n",
       "      <th>u1d</th>\n",
       "      <th>v1d</th>\n",
       "      <th>r1d</th>\n",
       "    </tr>\n",
       "  </thead>\n",
       "  <tbody>\n",
       "    <tr>\n",
       "      <th>0.00000</th>\n",
       "      <td>0.100000</td>\n",
       "      <td>0.0</td>\n",
       "      <td>0.0</td>\n",
       "      <td>0.0</td>\n",
       "      <td>0.0</td>\n",
       "      <td>0.0</td>\n",
       "    </tr>\n",
       "    <tr>\n",
       "      <th>0.01001</th>\n",
       "      <td>0.101006</td>\n",
       "      <td>0.0</td>\n",
       "      <td>0.0</td>\n",
       "      <td>0.0</td>\n",
       "      <td>0.0</td>\n",
       "      <td>0.0</td>\n",
       "    </tr>\n",
       "    <tr>\n",
       "      <th>0.02002</th>\n",
       "      <td>0.102022</td>\n",
       "      <td>0.0</td>\n",
       "      <td>0.0</td>\n",
       "      <td>0.0</td>\n",
       "      <td>0.0</td>\n",
       "      <td>0.0</td>\n",
       "    </tr>\n",
       "    <tr>\n",
       "      <th>0.03003</th>\n",
       "      <td>0.103049</td>\n",
       "      <td>0.0</td>\n",
       "      <td>0.0</td>\n",
       "      <td>0.0</td>\n",
       "      <td>0.0</td>\n",
       "      <td>0.0</td>\n",
       "    </tr>\n",
       "    <tr>\n",
       "      <th>0.04004</th>\n",
       "      <td>0.104085</td>\n",
       "      <td>0.0</td>\n",
       "      <td>0.0</td>\n",
       "      <td>0.0</td>\n",
       "      <td>0.0</td>\n",
       "      <td>0.0</td>\n",
       "    </tr>\n",
       "  </tbody>\n",
       "</table>\n",
       "</div>"
      ],
      "text/plain": [
       "                u    v    r  u1d  v1d  r1d\n",
       "0.00000  0.100000  0.0  0.0  0.0  0.0  0.0\n",
       "0.01001  0.101006  0.0  0.0  0.0  0.0  0.0\n",
       "0.02002  0.102022  0.0  0.0  0.0  0.0  0.0\n",
       "0.03003  0.103049  0.0  0.0  0.0  0.0  0.0\n",
       "0.04004  0.104085  0.0  0.0  0.0  0.0  0.0"
      ]
     },
     "execution_count": 45,
     "metadata": {},
     "output_type": "execute_result"
    }
   ],
   "source": [
    "df_result.head()"
   ]
  },
  {
   "cell_type": "code",
   "execution_count": 50,
   "metadata": {},
   "outputs": [
    {
     "data": {
      "text/plain": [
       "<AxesSubplot:>"
      ]
     },
     "execution_count": 50,
     "metadata": {},
     "output_type": "execute_result"
    },
    {
     "data": {
      "image/png": "[encoded data removed]",
      "text/plain": [
       "<Figure size 432x288 with 1 Axes>"
      ]
     },
     "metadata": {
      "needs_background": "light"
     },
     "output_type": "display_data"
    },
    {
     "data": {
      "image/png": "[encoded data removed]",
      "text/plain": [
       "<Figure size 432x288 with 1 Axes>"
      ]
     },
     "metadata": {
      "needs_background": "light"
     },
     "output_type": "display_data"
    },
    {
     "data": {
      "image/png": "[encoded data removed]",
      "text/plain": [
       "<Figure size 432x288 with 1 Axes>"
      ]
     },
     "metadata": {
      "needs_background": "light"
     },
     "output_type": "display_data"
    }
   ],
   "source": [
    "df_result.plot(y='u')\n",
    "df_result.plot(y='v')\n",
    "df_result.plot(y='r')"
   ]
  },
  {
   "cell_type": "code",
   "execution_count": null,
   "metadata": {},
   "outputs": [],
   "source": []
  }
 ],
 "metadata": {
  "kernelspec": {
   "display_name": "Python 3",
   "language": "python",
   "name": "python3"
  },
  "language_info": {
   "codemirror_mode": {
    "name": "ipython",
    "version": 3
   },
   "file_extension": ".py",
   "mimetype": "text/x-python",
   "name": "python",
   "nbconvert_exporter": "python",
   "pygments_lexer": "ipython3",
   "version": "3.8.5"
  }
 },
 "nbformat": 4,
 "nbformat_minor": 4
}
