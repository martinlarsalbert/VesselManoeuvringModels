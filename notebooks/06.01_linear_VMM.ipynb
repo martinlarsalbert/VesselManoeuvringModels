{
 "cells": [
  {
   "cell_type": "markdown",
   "metadata": {},
   "source": [
    "# Linear VMM (Vessel Maneuvering Model)"
   ]
  },
  {
   "cell_type": "markdown",
   "metadata": {},
   "source": [
    "# Purpose\n",
    "Implementing according to:\n",
    "Matusiak, Jerzy. Dynamics of a Rigid Ship. Aalto University, 2017. https://aaltodoc.aalto.fi:443/handle/123456789/24408."
   ]
  },
  {
   "cell_type": "markdown",
   "metadata": {},
   "source": [
    "# Methodology\n",
    "Define the problem using SymPy"
   ]
  },
  {
   "cell_type": "markdown",
   "metadata": {},
   "source": [
    "# Setup"
   ]
  },
  {
   "cell_type": "code",
   "execution_count": 1,
   "metadata": {},
   "outputs": [
    {
     "name": "stderr",
     "output_type": "stream",
     "text": [
      "Duplicate key in file WindowsPath('C:/Users/maa/.matplotlib/stylelib/paper.mplstyle'), line 462 ('figure.figsize   : 5, 3   ## figure size in inches')\n",
      "Duplicate key in file WindowsPath('C:/Users/maa/.matplotlib/stylelib/paper.mplstyle'), line 463 ('figure.dpi       : 100        ## figure dots per inch')\n"
     ]
    }
   ],
   "source": [
    "# %load imports.py\n",
    "%matplotlib inline\n",
    "%load_ext autoreload\n",
    "%autoreload 2\n",
    "%config Completer.use_jedi = False  ## (To fix autocomplete)\n",
    "\n",
    "## External packages:\n",
    "import pandas as pd\n",
    "pd.options.display.max_rows = 999\n",
    "pd.options.display.max_columns = 999\n",
    "pd.set_option(\"display.max_columns\", None)\n",
    "\n",
    "import numpy as np\n",
    "import os\n",
    "import matplotlib.pyplot as plt\n",
    "\n",
    "import plotly.express as px \n",
    "import plotly.graph_objects as go\n",
    "\n",
    "import seaborn as sns\n",
    "import sympy as sp\n",
    "from sympy.physics.mechanics import (dynamicsymbols, ReferenceFrame,\n",
    "                                      Particle, Point)\n",
    "from sympy.physics.vector.printing import vpprint, vlatex\n",
    "from IPython.display import display, Math, Latex\n",
    "from src.substitute_dynamic_symbols import run, lambdify\n",
    "\n",
    "import pyro\n",
    "\n",
    "import sklearn\n",
    "import pykalman\n",
    "from statsmodels.sandbox.regression.predstd import wls_prediction_std\n",
    "import statsmodels.api as sm\n",
    "\n",
    "from scipy.integrate import solve_ivp\n",
    "\n",
    "## Local packages:\n",
    "#from src.data import mdl\n",
    "from src import symbols\n",
    "from src import prime_system\n",
    "from src.symbols import *\n",
    "from src.linear_vmm_equations import *\n",
    "\n",
    "import src.linear_vmm_equations as eq\n",
    "import src.models.linear_vmm as model\n",
    "from src.visualization.plot import track_plot\n",
    "\n"
   ]
  },
  {
   "cell_type": "code",
   "execution_count": 2,
   "metadata": {},
   "outputs": [
    {
     "data": {
      "text/html": [
       "<div>\n",
       "<style scoped>\n",
       "    .dataframe tbody tr th:only-of-type {\n",
       "        vertical-align: middle;\n",
       "    }\n",
       "\n",
       "    .dataframe tbody tr th {\n",
       "        vertical-align: top;\n",
       "    }\n",
       "\n",
       "    .dataframe thead th {\n",
       "        text-align: right;\n",
       "    }\n",
       "</style>\n",
       "<table border=\"1\" class=\"dataframe\">\n",
       "  <thead>\n",
       "    <tr style=\"text-align: right;\">\n",
       "      <th></th>\n",
       "      <th>coord</th>\n",
       "      <th>dof</th>\n",
       "      <th>state</th>\n",
       "      <th>symbol</th>\n",
       "      <th>brix</th>\n",
       "      <th>brix_lambda</th>\n",
       "    </tr>\n",
       "  </thead>\n",
       "  <tbody>\n",
       "    <tr>\n",
       "      <th>Xu</th>\n",
       "      <td>u</td>\n",
       "      <td>X</td>\n",
       "      <td></td>\n",
       "      <td>X_{u}</td>\n",
       "      <td>NaN</td>\n",
       "      <td>NaN</td>\n",
       "    </tr>\n",
       "    <tr>\n",
       "      <th>Xudot</th>\n",
       "      <td>u</td>\n",
       "      <td>X</td>\n",
       "      <td>dot</td>\n",
       "      <td>X_{\\dot{u}}</td>\n",
       "      <td>NaN</td>\n",
       "      <td>NaN</td>\n",
       "    </tr>\n",
       "    <tr>\n",
       "      <th>Xv</th>\n",
       "      <td>v</td>\n",
       "      <td>X</td>\n",
       "      <td></td>\n",
       "      <td>X_{v}</td>\n",
       "      <td>NaN</td>\n",
       "      <td>NaN</td>\n",
       "    </tr>\n",
       "    <tr>\n",
       "      <th>Xvdot</th>\n",
       "      <td>v</td>\n",
       "      <td>X</td>\n",
       "      <td>dot</td>\n",
       "      <td>X_{\\dot{v}}</td>\n",
       "      <td>NaN</td>\n",
       "      <td>NaN</td>\n",
       "    </tr>\n",
       "    <tr>\n",
       "      <th>Xr</th>\n",
       "      <td>r</td>\n",
       "      <td>X</td>\n",
       "      <td></td>\n",
       "      <td>X_{r}</td>\n",
       "      <td>NaN</td>\n",
       "      <td>NaN</td>\n",
       "    </tr>\n",
       "    <tr>\n",
       "      <th>Xrdot</th>\n",
       "      <td>r</td>\n",
       "      <td>X</td>\n",
       "      <td>dot</td>\n",
       "      <td>X_{\\dot{r}}</td>\n",
       "      <td>NaN</td>\n",
       "      <td>NaN</td>\n",
       "    </tr>\n",
       "    <tr>\n",
       "      <th>Xdelta</th>\n",
       "      <td>\\delta</td>\n",
       "      <td>X</td>\n",
       "      <td></td>\n",
       "      <td>X_{\\delta}</td>\n",
       "      <td>NaN</td>\n",
       "      <td>NaN</td>\n",
       "    </tr>\n",
       "    <tr>\n",
       "      <th>Xdeltadot</th>\n",
       "      <td>\\delta</td>\n",
       "      <td>X</td>\n",
       "      <td>dot</td>\n",
       "      <td>X_{\\dot{\\delta}}</td>\n",
       "      <td>NaN</td>\n",
       "      <td>NaN</td>\n",
       "    </tr>\n",
       "    <tr>\n",
       "      <th>Yu</th>\n",
       "      <td>u</td>\n",
       "      <td>Y</td>\n",
       "      <td></td>\n",
       "      <td>Y_{u}</td>\n",
       "      <td>NaN</td>\n",
       "      <td>NaN</td>\n",
       "    </tr>\n",
       "    <tr>\n",
       "      <th>Yudot</th>\n",
       "      <td>u</td>\n",
       "      <td>Y</td>\n",
       "      <td>dot</td>\n",
       "      <td>Y_{\\dot{u}}</td>\n",
       "      <td>NaN</td>\n",
       "      <td>NaN</td>\n",
       "    </tr>\n",
       "    <tr>\n",
       "      <th>Yv</th>\n",
       "      <td>v</td>\n",
       "      <td>Y</td>\n",
       "      <td></td>\n",
       "      <td>Y_{v}</td>\n",
       "      <td>-pi*T**2*(0.4*B*CB/T + 1)/L**2</td>\n",
       "      <td>&lt;function _lambdifygenerated at 0x000002259DBB...</td>\n",
       "    </tr>\n",
       "    <tr>\n",
       "      <th>Yvdot</th>\n",
       "      <td>v</td>\n",
       "      <td>Y</td>\n",
       "      <td>dot</td>\n",
       "      <td>Y_{\\dot{v}}</td>\n",
       "      <td>-pi*T**2*(-5.1*B**2/L**2 + 0.16*B*CB/T + 1)/L**2</td>\n",
       "      <td>&lt;function _lambdifygenerated at 0x000002259DBB...</td>\n",
       "    </tr>\n",
       "    <tr>\n",
       "      <th>Yr</th>\n",
       "      <td>r</td>\n",
       "      <td>Y</td>\n",
       "      <td></td>\n",
       "      <td>Y_{r}</td>\n",
       "      <td>-pi*T**2*(-0.08*B/T + 2.2*B/L - 0.5)/L**2</td>\n",
       "      <td>&lt;function _lambdifygenerated at 0x000002259DBB...</td>\n",
       "    </tr>\n",
       "    <tr>\n",
       "      <th>Yrdot</th>\n",
       "      <td>r</td>\n",
       "      <td>Y</td>\n",
       "      <td>dot</td>\n",
       "      <td>Y_{\\dot{r}}</td>\n",
       "      <td>-pi*T**2*(-0.0033*B**2/T**2 + 0.67*B/L)/L**2</td>\n",
       "      <td>&lt;function _lambdifygenerated at 0x000002259DBB...</td>\n",
       "    </tr>\n",
       "    <tr>\n",
       "      <th>Ydelta</th>\n",
       "      <td>\\delta</td>\n",
       "      <td>Y</td>\n",
       "      <td></td>\n",
       "      <td>Y_{\\delta}</td>\n",
       "      <td>NaN</td>\n",
       "      <td>NaN</td>\n",
       "    </tr>\n",
       "    <tr>\n",
       "      <th>Ydeltadot</th>\n",
       "      <td>\\delta</td>\n",
       "      <td>Y</td>\n",
       "      <td>dot</td>\n",
       "      <td>Y_{\\dot{\\delta}}</td>\n",
       "      <td>NaN</td>\n",
       "      <td>NaN</td>\n",
       "    </tr>\n",
       "    <tr>\n",
       "      <th>Nu</th>\n",
       "      <td>u</td>\n",
       "      <td>N</td>\n",
       "      <td></td>\n",
       "      <td>N_{u}</td>\n",
       "      <td>NaN</td>\n",
       "      <td>NaN</td>\n",
       "    </tr>\n",
       "    <tr>\n",
       "      <th>Nudot</th>\n",
       "      <td>u</td>\n",
       "      <td>N</td>\n",
       "      <td>dot</td>\n",
       "      <td>N_{\\dot{u}}</td>\n",
       "      <td>NaN</td>\n",
       "      <td>NaN</td>\n",
       "    </tr>\n",
       "    <tr>\n",
       "      <th>Nv</th>\n",
       "      <td>v</td>\n",
       "      <td>N</td>\n",
       "      <td></td>\n",
       "      <td>N_{v}</td>\n",
       "      <td>-pi*T**2*(0.5 + 2.4*T/L)/L**2</td>\n",
       "      <td>&lt;function _lambdifygenerated at 0x000002259DBB...</td>\n",
       "    </tr>\n",
       "    <tr>\n",
       "      <th>Nvdot</th>\n",
       "      <td>v</td>\n",
       "      <td>N</td>\n",
       "      <td>dot</td>\n",
       "      <td>N_{\\dot{v}}</td>\n",
       "      <td>-pi*T**2*(-0.04*B/T + 1.1*B/L)/L**2</td>\n",
       "      <td>&lt;function _lambdifygenerated at 0x000002259DBC...</td>\n",
       "    </tr>\n",
       "    <tr>\n",
       "      <th>Nr</th>\n",
       "      <td>r</td>\n",
       "      <td>N</td>\n",
       "      <td></td>\n",
       "      <td>N_{r}</td>\n",
       "      <td>-pi*T**2*(0.039*B/T - 0.56*B/L + 0.25)/L**2</td>\n",
       "      <td>&lt;function _lambdifygenerated at 0x000002259DBC...</td>\n",
       "    </tr>\n",
       "    <tr>\n",
       "      <th>Nrdot</th>\n",
       "      <td>r</td>\n",
       "      <td>N</td>\n",
       "      <td>dot</td>\n",
       "      <td>N_{\\dot{r}}</td>\n",
       "      <td>-pi*T**2*(0.017*B*CB/T - 0.33*B/L + 0.08333333...</td>\n",
       "      <td>&lt;function _lambdifygenerated at 0x000002259DBC...</td>\n",
       "    </tr>\n",
       "    <tr>\n",
       "      <th>Ndelta</th>\n",
       "      <td>\\delta</td>\n",
       "      <td>N</td>\n",
       "      <td></td>\n",
       "      <td>N_{\\delta}</td>\n",
       "      <td>NaN</td>\n",
       "      <td>NaN</td>\n",
       "    </tr>\n",
       "    <tr>\n",
       "      <th>Ndeltadot</th>\n",
       "      <td>\\delta</td>\n",
       "      <td>N</td>\n",
       "      <td>dot</td>\n",
       "      <td>N_{\\dot{\\delta}}</td>\n",
       "      <td>NaN</td>\n",
       "      <td>NaN</td>\n",
       "    </tr>\n",
       "  </tbody>\n",
       "</table>\n",
       "</div>"
      ],
      "text/plain": [
       "            coord dof state            symbol  \\\n",
       "Xu              u   X                   X_{u}   \n",
       "Xudot           u   X   dot       X_{\\dot{u}}   \n",
       "Xv              v   X                   X_{v}   \n",
       "Xvdot           v   X   dot       X_{\\dot{v}}   \n",
       "Xr              r   X                   X_{r}   \n",
       "Xrdot           r   X   dot       X_{\\dot{r}}   \n",
       "Xdelta     \\delta   X              X_{\\delta}   \n",
       "Xdeltadot  \\delta   X   dot  X_{\\dot{\\delta}}   \n",
       "Yu              u   Y                   Y_{u}   \n",
       "Yudot           u   Y   dot       Y_{\\dot{u}}   \n",
       "Yv              v   Y                   Y_{v}   \n",
       "Yvdot           v   Y   dot       Y_{\\dot{v}}   \n",
       "Yr              r   Y                   Y_{r}   \n",
       "Yrdot           r   Y   dot       Y_{\\dot{r}}   \n",
       "Ydelta     \\delta   Y              Y_{\\delta}   \n",
       "Ydeltadot  \\delta   Y   dot  Y_{\\dot{\\delta}}   \n",
       "Nu              u   N                   N_{u}   \n",
       "Nudot           u   N   dot       N_{\\dot{u}}   \n",
       "Nv              v   N                   N_{v}   \n",
       "Nvdot           v   N   dot       N_{\\dot{v}}   \n",
       "Nr              r   N                   N_{r}   \n",
       "Nrdot           r   N   dot       N_{\\dot{r}}   \n",
       "Ndelta     \\delta   N              N_{\\delta}   \n",
       "Ndeltadot  \\delta   N   dot  N_{\\dot{\\delta}}   \n",
       "\n",
       "                                                        brix  \\\n",
       "Xu                                                       NaN   \n",
       "Xudot                                                    NaN   \n",
       "Xv                                                       NaN   \n",
       "Xvdot                                                    NaN   \n",
       "Xr                                                       NaN   \n",
       "Xrdot                                                    NaN   \n",
       "Xdelta                                                   NaN   \n",
       "Xdeltadot                                                NaN   \n",
       "Yu                                                       NaN   \n",
       "Yudot                                                    NaN   \n",
       "Yv                            -pi*T**2*(0.4*B*CB/T + 1)/L**2   \n",
       "Yvdot       -pi*T**2*(-5.1*B**2/L**2 + 0.16*B*CB/T + 1)/L**2   \n",
       "Yr                 -pi*T**2*(-0.08*B/T + 2.2*B/L - 0.5)/L**2   \n",
       "Yrdot           -pi*T**2*(-0.0033*B**2/T**2 + 0.67*B/L)/L**2   \n",
       "Ydelta                                                   NaN   \n",
       "Ydeltadot                                                NaN   \n",
       "Nu                                                       NaN   \n",
       "Nudot                                                    NaN   \n",
       "Nv                             -pi*T**2*(0.5 + 2.4*T/L)/L**2   \n",
       "Nvdot                    -pi*T**2*(-0.04*B/T + 1.1*B/L)/L**2   \n",
       "Nr               -pi*T**2*(0.039*B/T - 0.56*B/L + 0.25)/L**2   \n",
       "Nrdot      -pi*T**2*(0.017*B*CB/T - 0.33*B/L + 0.08333333...   \n",
       "Ndelta                                                   NaN   \n",
       "Ndeltadot                                                NaN   \n",
       "\n",
       "                                                 brix_lambda  \n",
       "Xu                                                       NaN  \n",
       "Xudot                                                    NaN  \n",
       "Xv                                                       NaN  \n",
       "Xvdot                                                    NaN  \n",
       "Xr                                                       NaN  \n",
       "Xrdot                                                    NaN  \n",
       "Xdelta                                                   NaN  \n",
       "Xdeltadot                                                NaN  \n",
       "Yu                                                       NaN  \n",
       "Yudot                                                    NaN  \n",
       "Yv         <function _lambdifygenerated at 0x000002259DBB...  \n",
       "Yvdot      <function _lambdifygenerated at 0x000002259DBB...  \n",
       "Yr         <function _lambdifygenerated at 0x000002259DBB...  \n",
       "Yrdot      <function _lambdifygenerated at 0x000002259DBB...  \n",
       "Ydelta                                                   NaN  \n",
       "Ydeltadot                                                NaN  \n",
       "Nu                                                       NaN  \n",
       "Nudot                                                    NaN  \n",
       "Nv         <function _lambdifygenerated at 0x000002259DBB...  \n",
       "Nvdot      <function _lambdifygenerated at 0x000002259DBC...  \n",
       "Nr         <function _lambdifygenerated at 0x000002259DBC...  \n",
       "Nrdot      <function _lambdifygenerated at 0x000002259DBC...  \n",
       "Ndelta                                                   NaN  \n",
       "Ndeltadot                                                NaN  "
      ]
     },
     "execution_count": 2,
     "metadata": {},
     "output_type": "execute_result"
    }
   ],
   "source": [
    "symbols.df_parameters"
   ]
  },
  {
   "cell_type": "code",
   "execution_count": 3,
   "metadata": {},
   "outputs": [
    {
     "data": {
      "text/latex": [
       "$\\displaystyle m \\dot{u} = X_{lin}$"
      ],
      "text/plain": [
       "<IPython.core.display.Math object>"
      ]
     },
     "execution_count": 3,
     "metadata": {},
     "output_type": "execute_result"
    }
   ],
   "source": [
    "Math(vlatex(eq.X_eom))"
   ]
  },
  {
   "cell_type": "code",
   "execution_count": 4,
   "metadata": {},
   "outputs": [
    {
     "data": {
      "text/latex": [
       "$\\displaystyle m \\left(U r + x_{G} \\dot{r} + \\dot{v}\\right) = Y_{lin}$"
      ],
      "text/plain": [
       "<IPython.core.display.Math object>"
      ]
     },
     "execution_count": 4,
     "metadata": {},
     "output_type": "execute_result"
    }
   ],
   "source": [
    "Math(vlatex(eq.Y_eom))"
   ]
  },
  {
   "cell_type": "code",
   "execution_count": 5,
   "metadata": {},
   "outputs": [
    {
     "data": {
      "text/latex": [
       "$\\displaystyle I_{z} \\dot{r} + m x_{G} \\left(U r + \\dot{v}\\right) = N_{lin}$"
      ],
      "text/plain": [
       "<IPython.core.display.Math object>"
      ]
     },
     "execution_count": 5,
     "metadata": {},
     "output_type": "execute_result"
    }
   ],
   "source": [
    "Math(vlatex(eq.N_eom))"
   ]
  },
  {
   "cell_type": "code",
   "execution_count": 6,
   "metadata": {},
   "outputs": [
    {
     "data": {
      "text/latex": [
       "$\\displaystyle X_{lin} = X_{\\delta} \\delta + X_{\\dot{r}} \\dot{r} + X_{\\dot{u}} \\dot{u} + X_{\\dot{v}} \\dot{v} + X_{r} r + X_{u} u + X_{v} v$"
      ],
      "text/plain": [
       "<IPython.core.display.Math object>"
      ]
     },
     "execution_count": 6,
     "metadata": {},
     "output_type": "execute_result"
    }
   ],
   "source": [
    "Math(vlatex(eq.fx_eq))"
   ]
  },
  {
   "cell_type": "code",
   "execution_count": 7,
   "metadata": {},
   "outputs": [
    {
     "data": {
      "text/latex": [
       "$\\displaystyle Y_{lin} = Y_{\\delta} \\delta + Y_{\\dot{r}} \\dot{r} + Y_{\\dot{u}} \\dot{u} + Y_{\\dot{v}} \\dot{v} + Y_{r} r + Y_{u} u + Y_{v} v$"
      ],
      "text/plain": [
       "<IPython.core.display.Math object>"
      ]
     },
     "execution_count": 7,
     "metadata": {},
     "output_type": "execute_result"
    }
   ],
   "source": [
    "Math(vlatex(eq.fy_eq))"
   ]
  },
  {
   "cell_type": "code",
   "execution_count": 8,
   "metadata": {},
   "outputs": [
    {
     "data": {
      "text/latex": [
       "$\\displaystyle N_{lin} = N_{\\delta} \\delta + N_{\\dot{r}} \\dot{r} + N_{\\dot{u}} \\dot{u} + N_{\\dot{v}} \\dot{v} + N_{r} r + N_{u} u + N_{v} v$"
      ],
      "text/plain": [
       "<IPython.core.display.Math object>"
      ]
     },
     "execution_count": 8,
     "metadata": {},
     "output_type": "execute_result"
    }
   ],
   "source": [
    "Math(vlatex(eq.mz_eq))"
   ]
  },
  {
   "cell_type": "code",
   "execution_count": 9,
   "metadata": {},
   "outputs": [
    {
     "data": {
      "text/latex": [
       "$\\displaystyle m \\dot{u} = X_{\\delta} \\delta + X_{\\dot{r}} \\dot{r} + X_{\\dot{u}} \\dot{u} + X_{\\dot{v}} \\dot{v} + X_{r} r + X_{u} u + X_{v} v$"
      ],
      "text/plain": [
       "<IPython.core.display.Math object>"
      ]
     },
     "execution_count": 9,
     "metadata": {},
     "output_type": "execute_result"
    }
   ],
   "source": [
    "Math(vlatex(eq.X_eq))"
   ]
  },
  {
   "cell_type": "code",
   "execution_count": 10,
   "metadata": {},
   "outputs": [
    {
     "data": {
      "text/latex": [
       "$\\displaystyle m \\left(U r + x_{G} \\dot{r} + \\dot{v}\\right) = Y_{\\delta} \\delta + Y_{\\dot{r}} \\dot{r} + Y_{\\dot{u}} \\dot{u} + Y_{\\dot{v}} \\dot{v} + Y_{r} r + Y_{u} u + Y_{v} v$"
      ],
      "text/plain": [
       "<IPython.core.display.Math object>"
      ]
     },
     "execution_count": 10,
     "metadata": {},
     "output_type": "execute_result"
    }
   ],
   "source": [
    "Math(vlatex(eq.Y_eq))"
   ]
  },
  {
   "cell_type": "code",
   "execution_count": 11,
   "metadata": {},
   "outputs": [
    {
     "data": {
      "text/latex": [
       "$\\displaystyle I_{z} \\dot{r} + m x_{G} \\left(U r + \\dot{v}\\right) = N_{\\delta} \\delta + N_{\\dot{r}} \\dot{r} + N_{\\dot{u}} \\dot{u} + N_{\\dot{v}} \\dot{v} + N_{r} r + N_{u} u + N_{v} v$"
      ],
      "text/plain": [
       "<IPython.core.display.Math object>"
      ]
     },
     "execution_count": 11,
     "metadata": {},
     "output_type": "execute_result"
    }
   ],
   "source": [
    "Math(vlatex(eq.N_eq))"
   ]
  },
  {
   "cell_type": "code",
   "execution_count": 12,
   "metadata": {},
   "outputs": [],
   "source": [
    "r1d_eq = sp.Eq(r.diff(), sp.solve(N_eq, r.diff())[0])"
   ]
  },
  {
   "cell_type": "code",
   "execution_count": 13,
   "metadata": {},
   "outputs": [
    {
     "data": {
      "text/latex": [
       "$\\displaystyle 0 = X_{\\delta} \\delta{\\left(t \\right)} + X_{r} r{\\left(t \\right)} + X_{u} u{\\left(t \\right)} + X_{v} v{\\left(t \\right)}$"
      ],
      "text/plain": [
       "Eq(0, X_{\\delta}*delta(t) + X_{r}*r(t) + X_{u}*u(t) + X_{v}*v(t))"
      ]
     },
     "execution_count": 13,
     "metadata": {},
     "output_type": "execute_result"
    }
   ],
   "source": [
    "X_steady = X_eq.subs([\n",
    "    (u.diff(),0),\n",
    "    (v.diff(),0),\n",
    "    (r.diff(),0),\n",
    "          ])\n",
    "X_steady"
   ]
  },
  {
   "cell_type": "code",
   "execution_count": 14,
   "metadata": {},
   "outputs": [
    {
     "data": {
      "text/latex": [
       "$\\displaystyle U m r{\\left(t \\right)} = Y_{\\delta} \\delta{\\left(t \\right)} + Y_{r} r{\\left(t \\right)} + Y_{u} u{\\left(t \\right)} + Y_{v} v{\\left(t \\right)}$"
      ],
      "text/plain": [
       "Eq(U*m*r(t), Y_{\\delta}*delta(t) + Y_{r}*r(t) + Y_{u}*u(t) + Y_{v}*v(t))"
      ]
     },
     "execution_count": 14,
     "metadata": {},
     "output_type": "execute_result"
    }
   ],
   "source": [
    "Y_steady = Y_eq.subs([\n",
    "    (u.diff(),0),\n",
    "    (v.diff(),0),\n",
    "    (r.diff(),0),\n",
    "          ])\n",
    "Y_steady"
   ]
  },
  {
   "cell_type": "code",
   "execution_count": 15,
   "metadata": {},
   "outputs": [
    {
     "data": {
      "text/latex": [
       "$\\displaystyle U m x_{G} r{\\left(t \\right)} = N_{\\delta} \\delta{\\left(t \\right)} + N_{r} r{\\left(t \\right)} + N_{u} u{\\left(t \\right)} + N_{v} v{\\left(t \\right)}$"
      ],
      "text/plain": [
       "Eq(U*m*x_G*r(t), N_{\\delta}*delta(t) + N_{r}*r(t) + N_{u}*u(t) + N_{v}*v(t))"
      ]
     },
     "execution_count": 15,
     "metadata": {},
     "output_type": "execute_result"
    }
   ],
   "source": [
    "N_steady = N_eq.subs([\n",
    "    (u.diff(),0),\n",
    "    (v.diff(),0),\n",
    "    (r.diff(),0),\n",
    "          ])\n",
    "N_steady"
   ]
  },
  {
   "cell_type": "code",
   "execution_count": 16,
   "metadata": {},
   "outputs": [
    {
     "data": {
      "text/latex": [
       "$\\displaystyle - \\frac{N_{\\delta} U m \\delta{\\left(t \\right)}}{N_{r} Y_{v} + N_{v} U m - N_{v} Y_{r} - U Y_{v} m x_{G}} + \\frac{N_{\\delta} Y_{r} \\delta{\\left(t \\right)}}{N_{r} Y_{v} + N_{v} U m - N_{v} Y_{r} - U Y_{v} m x_{G}} - \\frac{N_{r} Y_{\\delta} \\delta{\\left(t \\right)}}{N_{r} Y_{v} + N_{v} U m - N_{v} Y_{r} - U Y_{v} m x_{G}} - \\frac{N_{r} Y_{u} u{\\left(t \\right)}}{N_{r} Y_{v} + N_{v} U m - N_{v} Y_{r} - U Y_{v} m x_{G}} - \\frac{N_{u} U m u{\\left(t \\right)}}{N_{r} Y_{v} + N_{v} U m - N_{v} Y_{r} - U Y_{v} m x_{G}} + \\frac{N_{u} Y_{r} u{\\left(t \\right)}}{N_{r} Y_{v} + N_{v} U m - N_{v} Y_{r} - U Y_{v} m x_{G}} + \\frac{U Y_{\\delta} m x_{G} \\delta{\\left(t \\right)}}{N_{r} Y_{v} + N_{v} U m - N_{v} Y_{r} - U Y_{v} m x_{G}} + \\frac{U Y_{u} m x_{G} u{\\left(t \\right)}}{N_{r} Y_{v} + N_{v} U m - N_{v} Y_{r} - U Y_{v} m x_{G}}$"
      ],
      "text/plain": [
       "-N_{\\delta}*U*m*delta(t)/(N_{r}*Y_{v} + N_{v}*U*m - N_{v}*Y_{r} - U*Y_{v}*m*x_G) + N_{\\delta}*Y_{r}*delta(t)/(N_{r}*Y_{v} + N_{v}*U*m - N_{v}*Y_{r} - U*Y_{v}*m*x_G) - N_{r}*Y_{\\delta}*delta(t)/(N_{r}*Y_{v} + N_{v}*U*m - N_{v}*Y_{r} - U*Y_{v}*m*x_G) - N_{r}*Y_{u}*u(t)/(N_{r}*Y_{v} + N_{v}*U*m - N_{v}*Y_{r} - U*Y_{v}*m*x_G) - N_{u}*U*m*u(t)/(N_{r}*Y_{v} + N_{v}*U*m - N_{v}*Y_{r} - U*Y_{v}*m*x_G) + N_{u}*Y_{r}*u(t)/(N_{r}*Y_{v} + N_{v}*U*m - N_{v}*Y_{r} - U*Y_{v}*m*x_G) + U*Y_{\\delta}*m*x_G*delta(t)/(N_{r}*Y_{v} + N_{v}*U*m - N_{v}*Y_{r} - U*Y_{v}*m*x_G) + U*Y_{u}*m*x_G*u(t)/(N_{r}*Y_{v} + N_{v}*U*m - N_{v}*Y_{r} - U*Y_{v}*m*x_G)"
      ]
     },
     "execution_count": 16,
     "metadata": {},
     "output_type": "execute_result"
    }
   ],
   "source": [
    "eqs = [Y_steady,N_steady]\n",
    "solution = sp.solve(eqs,v,r, dict=True)\n",
    "solution[0][v]"
   ]
  },
  {
   "cell_type": "code",
   "execution_count": 17,
   "metadata": {},
   "outputs": [
    {
     "data": {
      "text/latex": [
       "$\\displaystyle - \\frac{N_{\\delta} Y_{v} \\delta{\\left(t \\right)}}{N_{r} Y_{v} + N_{v} U m - N_{v} Y_{r} - U Y_{v} m x_{G}} - \\frac{N_{u} Y_{v} u{\\left(t \\right)}}{N_{r} Y_{v} + N_{v} U m - N_{v} Y_{r} - U Y_{v} m x_{G}} + \\frac{N_{v} Y_{\\delta} \\delta{\\left(t \\right)}}{N_{r} Y_{v} + N_{v} U m - N_{v} Y_{r} - U Y_{v} m x_{G}} + \\frac{N_{v} Y_{u} u{\\left(t \\right)}}{N_{r} Y_{v} + N_{v} U m - N_{v} Y_{r} - U Y_{v} m x_{G}}$"
      ],
      "text/plain": [
       "-N_{\\delta}*Y_{v}*delta(t)/(N_{r}*Y_{v} + N_{v}*U*m - N_{v}*Y_{r} - U*Y_{v}*m*x_G) - N_{u}*Y_{v}*u(t)/(N_{r}*Y_{v} + N_{v}*U*m - N_{v}*Y_{r} - U*Y_{v}*m*x_G) + N_{v}*Y_{\\delta}*delta(t)/(N_{r}*Y_{v} + N_{v}*U*m - N_{v}*Y_{r} - U*Y_{v}*m*x_G) + N_{v}*Y_{u}*u(t)/(N_{r}*Y_{v} + N_{v}*U*m - N_{v}*Y_{r} - U*Y_{v}*m*x_G)"
      ]
     },
     "execution_count": 17,
     "metadata": {},
     "output_type": "execute_result"
    }
   ],
   "source": [
    "solution[0][r]"
   ]
  },
  {
   "cell_type": "code",
   "execution_count": 18,
   "metadata": {},
   "outputs": [],
   "source": [
    "subs = {value:key for key,value in eq.p.items()}\n",
    "#u_lambda = lambdify(solution[0][u].subs(subs))\n",
    "v_lambda = lambdify(solution[0][v].subs(subs))\n",
    "r_lambda = lambdify(solution[0][r].subs(subs))"
   ]
  },
  {
   "cell_type": "markdown",
   "metadata": {},
   "source": [
    "## Prime system"
   ]
  },
  {
   "cell_type": "code",
   "execution_count": 19,
   "metadata": {},
   "outputs": [
    {
     "data": {
      "text/html": [
       "<div>\n",
       "<style scoped>\n",
       "    .dataframe tbody tr th:only-of-type {\n",
       "        vertical-align: middle;\n",
       "    }\n",
       "\n",
       "    .dataframe tbody tr th {\n",
       "        vertical-align: top;\n",
       "    }\n",
       "\n",
       "    .dataframe thead th {\n",
       "        text-align: right;\n",
       "    }\n",
       "</style>\n",
       "<table border=\"1\" class=\"dataframe\">\n",
       "  <thead>\n",
       "    <tr style=\"text-align: right;\">\n",
       "      <th></th>\n",
       "      <th>length</th>\n",
       "      <th>mass</th>\n",
       "      <th>density</th>\n",
       "      <th>inertia_moment</th>\n",
       "      <th>time</th>\n",
       "      <th>area</th>\n",
       "      <th>angle</th>\n",
       "      <th>-</th>\n",
       "      <th>linear_velocity</th>\n",
       "      <th>angular_velocity</th>\n",
       "      <th>linear_acceleration</th>\n",
       "      <th>angular_acceleration</th>\n",
       "      <th>force</th>\n",
       "      <th>moment</th>\n",
       "    </tr>\n",
       "  </thead>\n",
       "  <tbody>\n",
       "    <tr>\n",
       "      <th>denominator</th>\n",
       "      <td>L</td>\n",
       "      <td>0.5*L**3*rho</td>\n",
       "      <td>0.5*rho</td>\n",
       "      <td>0.5*L**5*rho</td>\n",
       "      <td>L/U</td>\n",
       "      <td>L**2</td>\n",
       "      <td>1</td>\n",
       "      <td>1</td>\n",
       "      <td>U</td>\n",
       "      <td>U/L</td>\n",
       "      <td>U**2/L</td>\n",
       "      <td>U**2/L**2</td>\n",
       "      <td>0.5*L**2*U**2*rho</td>\n",
       "      <td>0.5*L**3*U**2*rho</td>\n",
       "    </tr>\n",
       "  </tbody>\n",
       "</table>\n",
       "</div>"
      ],
      "text/plain": [
       "            length          mass  density inertia_moment time  area angle  -  \\\n",
       "denominator      L  0.5*L**3*rho  0.5*rho   0.5*L**5*rho  L/U  L**2     1  1   \n",
       "\n",
       "            linear_velocity angular_velocity linear_acceleration  \\\n",
       "denominator               U              U/L              U**2/L   \n",
       "\n",
       "            angular_acceleration              force             moment  \n",
       "denominator            U**2/L**2  0.5*L**2*U**2*rho  0.5*L**3*U**2*rho  "
      ]
     },
     "execution_count": 19,
     "metadata": {},
     "output_type": "execute_result"
    }
   ],
   "source": [
    "prime_system.df_prime.loc[['denominator']]"
   ]
  },
  {
   "cell_type": "markdown",
   "metadata": {},
   "source": [
    "## Ship parameters"
   ]
  },
  {
   "cell_type": "code",
   "execution_count": 20,
   "metadata": {},
   "outputs": [],
   "source": [
    "T_ =10\n",
    "L_ = 200\n",
    "CB_ = 0.7\n",
    "B_ = 30\n",
    "rho_ = 1025\n",
    "m_ = T_*B_*L_*CB_*rho_\n",
    "\n",
    "ship_parameters = {\n",
    "    'T' : (T_,'length'),\n",
    "    'L' : (L_,'length'),\n",
    "    'CB' :(CB_,'-'),\n",
    "    'B' : (B_,'length'),\n",
    "    'rho' : (rho_,'density'),\n",
    "    'x_G' : (0,'length'),\n",
    "    'm' : (m_,'mass'),\n",
    "    'I_z': (0.2*m_*L_**2, 'inertia_moment'),\n",
    "    \n",
    "}\n",
    "\n",
    "df_ship_parameters = pd.DataFrame(data = ship_parameters, index=['value','unit'])\n",
    "ps = prime_system.PrimeSystem(**ship_parameters)\n"
   ]
  },
  {
   "cell_type": "code",
   "execution_count": 21,
   "metadata": {},
   "outputs": [],
   "source": [
    "df_ship_parameters.loc['prime'] = ps.prime(ship_parameters)"
   ]
  },
  {
   "cell_type": "code",
   "execution_count": 22,
   "metadata": {},
   "outputs": [
    {
     "data": {
      "text/html": [
       "<div>\n",
       "<style scoped>\n",
       "    .dataframe tbody tr th:only-of-type {\n",
       "        vertical-align: middle;\n",
       "    }\n",
       "\n",
       "    .dataframe tbody tr th {\n",
       "        vertical-align: top;\n",
       "    }\n",
       "\n",
       "    .dataframe thead th {\n",
       "        text-align: right;\n",
       "    }\n",
       "</style>\n",
       "<table border=\"1\" class=\"dataframe\">\n",
       "  <thead>\n",
       "    <tr style=\"text-align: right;\">\n",
       "      <th></th>\n",
       "      <th>T</th>\n",
       "      <th>L</th>\n",
       "      <th>CB</th>\n",
       "      <th>B</th>\n",
       "      <th>rho</th>\n",
       "      <th>x_G</th>\n",
       "      <th>m</th>\n",
       "      <th>I_z</th>\n",
       "    </tr>\n",
       "  </thead>\n",
       "  <tbody>\n",
       "    <tr>\n",
       "      <th>value</th>\n",
       "      <td>10</td>\n",
       "      <td>200</td>\n",
       "      <td>0.7</td>\n",
       "      <td>30</td>\n",
       "      <td>1025</td>\n",
       "      <td>0</td>\n",
       "      <td>43050000.0</td>\n",
       "      <td>344400000000.0</td>\n",
       "    </tr>\n",
       "    <tr>\n",
       "      <th>unit</th>\n",
       "      <td>length</td>\n",
       "      <td>length</td>\n",
       "      <td>-</td>\n",
       "      <td>length</td>\n",
       "      <td>density</td>\n",
       "      <td>length</td>\n",
       "      <td>mass</td>\n",
       "      <td>inertia_moment</td>\n",
       "    </tr>\n",
       "    <tr>\n",
       "      <th>prime</th>\n",
       "      <td>0.05</td>\n",
       "      <td>1.0</td>\n",
       "      <td>0.7</td>\n",
       "      <td>0.15</td>\n",
       "      <td>2.0</td>\n",
       "      <td>0.0</td>\n",
       "      <td>0.0105</td>\n",
       "      <td>0.0021</td>\n",
       "    </tr>\n",
       "  </tbody>\n",
       "</table>\n",
       "</div>"
      ],
      "text/plain": [
       "            T       L   CB       B      rho     x_G           m  \\\n",
       "value      10     200  0.7      30     1025       0  43050000.0   \n",
       "unit   length  length    -  length  density  length        mass   \n",
       "prime    0.05     1.0  0.7    0.15      2.0     0.0      0.0105   \n",
       "\n",
       "                  I_z  \n",
       "value  344400000000.0  \n",
       "unit   inertia_moment  \n",
       "prime          0.0021  "
      ]
     },
     "execution_count": 22,
     "metadata": {},
     "output_type": "execute_result"
    }
   ],
   "source": [
    "df_ship_parameters"
   ]
  },
  {
   "cell_type": "code",
   "execution_count": 23,
   "metadata": {},
   "outputs": [],
   "source": [
    "def calculate_prime(row, df_ship_parameters):\n",
    "    return run(function=row['brix_lambda'], inputs=df_ship_parameters.loc['value'])\n",
    "\n",
    "mask = df_parameters['brix_lambda'].notnull()\n",
    "df_parameters.loc[mask,'prime'] = df_parameters.loc[mask].apply(calculate_prime, df_ship_parameters=df_ship_parameters, axis=1)\n",
    "df_parameters.loc['Ydelta','prime'] = 0.0005  # Just guessing\n",
    "df_parameters.loc['Ndelta','prime'] = -df_parameters.loc['Ydelta','prime']/4  # Just guessing"
   ]
  },
  {
   "cell_type": "code",
   "execution_count": 24,
   "metadata": {},
   "outputs": [
    {
     "data": {
      "text/html": [
       "<div>\n",
       "<style scoped>\n",
       "    .dataframe tbody tr th:only-of-type {\n",
       "        vertical-align: middle;\n",
       "    }\n",
       "\n",
       "    .dataframe tbody tr th {\n",
       "        vertical-align: top;\n",
       "    }\n",
       "\n",
       "    .dataframe thead th {\n",
       "        text-align: right;\n",
       "    }\n",
       "</style>\n",
       "<table border=\"1\" class=\"dataframe\">\n",
       "  <thead>\n",
       "    <tr style=\"text-align: right;\">\n",
       "      <th></th>\n",
       "      <th>coord</th>\n",
       "      <th>dof</th>\n",
       "      <th>state</th>\n",
       "      <th>symbol</th>\n",
       "      <th>brix</th>\n",
       "      <th>brix_lambda</th>\n",
       "      <th>prime</th>\n",
       "    </tr>\n",
       "  </thead>\n",
       "  <tbody>\n",
       "    <tr>\n",
       "      <th>Xu</th>\n",
       "      <td>u</td>\n",
       "      <td>X</td>\n",
       "      <td></td>\n",
       "      <td>X_{u}</td>\n",
       "      <td>NaN</td>\n",
       "      <td>NaN</td>\n",
       "      <td>0.000000</td>\n",
       "    </tr>\n",
       "    <tr>\n",
       "      <th>Xudot</th>\n",
       "      <td>u</td>\n",
       "      <td>X</td>\n",
       "      <td>dot</td>\n",
       "      <td>X_{\\dot{u}}</td>\n",
       "      <td>NaN</td>\n",
       "      <td>NaN</td>\n",
       "      <td>0.000000</td>\n",
       "    </tr>\n",
       "    <tr>\n",
       "      <th>Xv</th>\n",
       "      <td>v</td>\n",
       "      <td>X</td>\n",
       "      <td></td>\n",
       "      <td>X_{v}</td>\n",
       "      <td>NaN</td>\n",
       "      <td>NaN</td>\n",
       "      <td>0.000000</td>\n",
       "    </tr>\n",
       "    <tr>\n",
       "      <th>Xvdot</th>\n",
       "      <td>v</td>\n",
       "      <td>X</td>\n",
       "      <td>dot</td>\n",
       "      <td>X_{\\dot{v}}</td>\n",
       "      <td>NaN</td>\n",
       "      <td>NaN</td>\n",
       "      <td>0.000000</td>\n",
       "    </tr>\n",
       "    <tr>\n",
       "      <th>Xr</th>\n",
       "      <td>r</td>\n",
       "      <td>X</td>\n",
       "      <td></td>\n",
       "      <td>X_{r}</td>\n",
       "      <td>NaN</td>\n",
       "      <td>NaN</td>\n",
       "      <td>0.000000</td>\n",
       "    </tr>\n",
       "    <tr>\n",
       "      <th>Xrdot</th>\n",
       "      <td>r</td>\n",
       "      <td>X</td>\n",
       "      <td>dot</td>\n",
       "      <td>X_{\\dot{r}}</td>\n",
       "      <td>NaN</td>\n",
       "      <td>NaN</td>\n",
       "      <td>0.000000</td>\n",
       "    </tr>\n",
       "    <tr>\n",
       "      <th>Xdelta</th>\n",
       "      <td>\\delta</td>\n",
       "      <td>X</td>\n",
       "      <td></td>\n",
       "      <td>X_{\\delta}</td>\n",
       "      <td>NaN</td>\n",
       "      <td>NaN</td>\n",
       "      <td>0.000000</td>\n",
       "    </tr>\n",
       "    <tr>\n",
       "      <th>Xdeltadot</th>\n",
       "      <td>\\delta</td>\n",
       "      <td>X</td>\n",
       "      <td>dot</td>\n",
       "      <td>X_{\\dot{\\delta}}</td>\n",
       "      <td>NaN</td>\n",
       "      <td>NaN</td>\n",
       "      <td>0.000000</td>\n",
       "    </tr>\n",
       "    <tr>\n",
       "      <th>Yu</th>\n",
       "      <td>u</td>\n",
       "      <td>Y</td>\n",
       "      <td></td>\n",
       "      <td>Y_{u}</td>\n",
       "      <td>NaN</td>\n",
       "      <td>NaN</td>\n",
       "      <td>0.000000</td>\n",
       "    </tr>\n",
       "    <tr>\n",
       "      <th>Yudot</th>\n",
       "      <td>u</td>\n",
       "      <td>Y</td>\n",
       "      <td>dot</td>\n",
       "      <td>Y_{\\dot{u}}</td>\n",
       "      <td>NaN</td>\n",
       "      <td>NaN</td>\n",
       "      <td>0.000000</td>\n",
       "    </tr>\n",
       "    <tr>\n",
       "      <th>Yv</th>\n",
       "      <td>v</td>\n",
       "      <td>Y</td>\n",
       "      <td></td>\n",
       "      <td>Y_{v}</td>\n",
       "      <td>-pi*T**2*(0.4*B*CB/T + 1)/L**2</td>\n",
       "      <td>&lt;function _lambdifygenerated at 0x000002259DBB...</td>\n",
       "      <td>-0.014451</td>\n",
       "    </tr>\n",
       "    <tr>\n",
       "      <th>Yvdot</th>\n",
       "      <td>v</td>\n",
       "      <td>Y</td>\n",
       "      <td>dot</td>\n",
       "      <td>Y_{\\dot{v}}</td>\n",
       "      <td>-pi*T**2*(-5.1*B**2/L**2 + 0.16*B*CB/T + 1)/L**2</td>\n",
       "      <td>&lt;function _lambdifygenerated at 0x000002259DBB...</td>\n",
       "      <td>-0.009592</td>\n",
       "    </tr>\n",
       "    <tr>\n",
       "      <th>Yr</th>\n",
       "      <td>r</td>\n",
       "      <td>Y</td>\n",
       "      <td></td>\n",
       "      <td>Y_{r}</td>\n",
       "      <td>-pi*T**2*(-0.08*B/T + 2.2*B/L - 0.5)/L**2</td>\n",
       "      <td>&lt;function _lambdifygenerated at 0x000002259DBB...</td>\n",
       "      <td>0.003220</td>\n",
       "    </tr>\n",
       "    <tr>\n",
       "      <th>Yrdot</th>\n",
       "      <td>r</td>\n",
       "      <td>Y</td>\n",
       "      <td>dot</td>\n",
       "      <td>Y_{\\dot{r}}</td>\n",
       "      <td>-pi*T**2*(-0.0033*B**2/T**2 + 0.67*B/L)/L**2</td>\n",
       "      <td>&lt;function _lambdifygenerated at 0x000002259DBB...</td>\n",
       "      <td>-0.000556</td>\n",
       "    </tr>\n",
       "    <tr>\n",
       "      <th>Ydelta</th>\n",
       "      <td>\\delta</td>\n",
       "      <td>Y</td>\n",
       "      <td></td>\n",
       "      <td>Y_{\\delta}</td>\n",
       "      <td>NaN</td>\n",
       "      <td>NaN</td>\n",
       "      <td>0.000500</td>\n",
       "    </tr>\n",
       "    <tr>\n",
       "      <th>Ydeltadot</th>\n",
       "      <td>\\delta</td>\n",
       "      <td>Y</td>\n",
       "      <td>dot</td>\n",
       "      <td>Y_{\\dot{\\delta}}</td>\n",
       "      <td>NaN</td>\n",
       "      <td>NaN</td>\n",
       "      <td>0.000000</td>\n",
       "    </tr>\n",
       "    <tr>\n",
       "      <th>Nu</th>\n",
       "      <td>u</td>\n",
       "      <td>N</td>\n",
       "      <td></td>\n",
       "      <td>N_{u}</td>\n",
       "      <td>NaN</td>\n",
       "      <td>NaN</td>\n",
       "      <td>0.000000</td>\n",
       "    </tr>\n",
       "    <tr>\n",
       "      <th>Nudot</th>\n",
       "      <td>u</td>\n",
       "      <td>N</td>\n",
       "      <td>dot</td>\n",
       "      <td>N_{\\dot{u}}</td>\n",
       "      <td>NaN</td>\n",
       "      <td>NaN</td>\n",
       "      <td>0.000000</td>\n",
       "    </tr>\n",
       "    <tr>\n",
       "      <th>Nv</th>\n",
       "      <td>v</td>\n",
       "      <td>N</td>\n",
       "      <td></td>\n",
       "      <td>N_{v}</td>\n",
       "      <td>-pi*T**2*(0.5 + 2.4*T/L)/L**2</td>\n",
       "      <td>&lt;function _lambdifygenerated at 0x000002259DBB...</td>\n",
       "      <td>-0.004869</td>\n",
       "    </tr>\n",
       "    <tr>\n",
       "      <th>Nvdot</th>\n",
       "      <td>v</td>\n",
       "      <td>N</td>\n",
       "      <td>dot</td>\n",
       "      <td>N_{\\dot{v}}</td>\n",
       "      <td>-pi*T**2*(-0.04*B/T + 1.1*B/L)/L**2</td>\n",
       "      <td>&lt;function _lambdifygenerated at 0x000002259DBC...</td>\n",
       "      <td>-0.000353</td>\n",
       "    </tr>\n",
       "    <tr>\n",
       "      <th>Nr</th>\n",
       "      <td>r</td>\n",
       "      <td>N</td>\n",
       "      <td></td>\n",
       "      <td>N_{r}</td>\n",
       "      <td>-pi*T**2*(0.039*B/T - 0.56*B/L + 0.25)/L**2</td>\n",
       "      <td>&lt;function _lambdifygenerated at 0x000002259DBC...</td>\n",
       "      <td>-0.002223</td>\n",
       "    </tr>\n",
       "    <tr>\n",
       "      <th>Nrdot</th>\n",
       "      <td>r</td>\n",
       "      <td>N</td>\n",
       "      <td>dot</td>\n",
       "      <td>N_{\\dot{r}}</td>\n",
       "      <td>-pi*T**2*(0.017*B*CB/T - 0.33*B/L + 0.08333333...</td>\n",
       "      <td>&lt;function _lambdifygenerated at 0x000002259DBC...</td>\n",
       "      <td>-0.000546</td>\n",
       "    </tr>\n",
       "    <tr>\n",
       "      <th>Ndelta</th>\n",
       "      <td>\\delta</td>\n",
       "      <td>N</td>\n",
       "      <td></td>\n",
       "      <td>N_{\\delta}</td>\n",
       "      <td>NaN</td>\n",
       "      <td>NaN</td>\n",
       "      <td>-0.000125</td>\n",
       "    </tr>\n",
       "    <tr>\n",
       "      <th>Ndeltadot</th>\n",
       "      <td>\\delta</td>\n",
       "      <td>N</td>\n",
       "      <td>dot</td>\n",
       "      <td>N_{\\dot{\\delta}}</td>\n",
       "      <td>NaN</td>\n",
       "      <td>NaN</td>\n",
       "      <td>0.000000</td>\n",
       "    </tr>\n",
       "  </tbody>\n",
       "</table>\n",
       "</div>"
      ],
      "text/plain": [
       "            coord dof state            symbol  \\\n",
       "Xu              u   X                   X_{u}   \n",
       "Xudot           u   X   dot       X_{\\dot{u}}   \n",
       "Xv              v   X                   X_{v}   \n",
       "Xvdot           v   X   dot       X_{\\dot{v}}   \n",
       "Xr              r   X                   X_{r}   \n",
       "Xrdot           r   X   dot       X_{\\dot{r}}   \n",
       "Xdelta     \\delta   X              X_{\\delta}   \n",
       "Xdeltadot  \\delta   X   dot  X_{\\dot{\\delta}}   \n",
       "Yu              u   Y                   Y_{u}   \n",
       "Yudot           u   Y   dot       Y_{\\dot{u}}   \n",
       "Yv              v   Y                   Y_{v}   \n",
       "Yvdot           v   Y   dot       Y_{\\dot{v}}   \n",
       "Yr              r   Y                   Y_{r}   \n",
       "Yrdot           r   Y   dot       Y_{\\dot{r}}   \n",
       "Ydelta     \\delta   Y              Y_{\\delta}   \n",
       "Ydeltadot  \\delta   Y   dot  Y_{\\dot{\\delta}}   \n",
       "Nu              u   N                   N_{u}   \n",
       "Nudot           u   N   dot       N_{\\dot{u}}   \n",
       "Nv              v   N                   N_{v}   \n",
       "Nvdot           v   N   dot       N_{\\dot{v}}   \n",
       "Nr              r   N                   N_{r}   \n",
       "Nrdot           r   N   dot       N_{\\dot{r}}   \n",
       "Ndelta     \\delta   N              N_{\\delta}   \n",
       "Ndeltadot  \\delta   N   dot  N_{\\dot{\\delta}}   \n",
       "\n",
       "                                                        brix  \\\n",
       "Xu                                                       NaN   \n",
       "Xudot                                                    NaN   \n",
       "Xv                                                       NaN   \n",
       "Xvdot                                                    NaN   \n",
       "Xr                                                       NaN   \n",
       "Xrdot                                                    NaN   \n",
       "Xdelta                                                   NaN   \n",
       "Xdeltadot                                                NaN   \n",
       "Yu                                                       NaN   \n",
       "Yudot                                                    NaN   \n",
       "Yv                            -pi*T**2*(0.4*B*CB/T + 1)/L**2   \n",
       "Yvdot       -pi*T**2*(-5.1*B**2/L**2 + 0.16*B*CB/T + 1)/L**2   \n",
       "Yr                 -pi*T**2*(-0.08*B/T + 2.2*B/L - 0.5)/L**2   \n",
       "Yrdot           -pi*T**2*(-0.0033*B**2/T**2 + 0.67*B/L)/L**2   \n",
       "Ydelta                                                   NaN   \n",
       "Ydeltadot                                                NaN   \n",
       "Nu                                                       NaN   \n",
       "Nudot                                                    NaN   \n",
       "Nv                             -pi*T**2*(0.5 + 2.4*T/L)/L**2   \n",
       "Nvdot                    -pi*T**2*(-0.04*B/T + 1.1*B/L)/L**2   \n",
       "Nr               -pi*T**2*(0.039*B/T - 0.56*B/L + 0.25)/L**2   \n",
       "Nrdot      -pi*T**2*(0.017*B*CB/T - 0.33*B/L + 0.08333333...   \n",
       "Ndelta                                                   NaN   \n",
       "Ndeltadot                                                NaN   \n",
       "\n",
       "                                                 brix_lambda     prime  \n",
       "Xu                                                       NaN  0.000000  \n",
       "Xudot                                                    NaN  0.000000  \n",
       "Xv                                                       NaN  0.000000  \n",
       "Xvdot                                                    NaN  0.000000  \n",
       "Xr                                                       NaN  0.000000  \n",
       "Xrdot                                                    NaN  0.000000  \n",
       "Xdelta                                                   NaN  0.000000  \n",
       "Xdeltadot                                                NaN  0.000000  \n",
       "Yu                                                       NaN  0.000000  \n",
       "Yudot                                                    NaN  0.000000  \n",
       "Yv         <function _lambdifygenerated at 0x000002259DBB... -0.014451  \n",
       "Yvdot      <function _lambdifygenerated at 0x000002259DBB... -0.009592  \n",
       "Yr         <function _lambdifygenerated at 0x000002259DBB...  0.003220  \n",
       "Yrdot      <function _lambdifygenerated at 0x000002259DBB... -0.000556  \n",
       "Ydelta                                                   NaN  0.000500  \n",
       "Ydeltadot                                                NaN  0.000000  \n",
       "Nu                                                       NaN  0.000000  \n",
       "Nudot                                                    NaN  0.000000  \n",
       "Nv         <function _lambdifygenerated at 0x000002259DBB... -0.004869  \n",
       "Nvdot      <function _lambdifygenerated at 0x000002259DBC... -0.000353  \n",
       "Nr         <function _lambdifygenerated at 0x000002259DBC... -0.002223  \n",
       "Nrdot      <function _lambdifygenerated at 0x000002259DBC... -0.000546  \n",
       "Ndelta                                                   NaN -0.000125  \n",
       "Ndeltadot                                                NaN  0.000000  "
      ]
     },
     "execution_count": 24,
     "metadata": {},
     "output_type": "execute_result"
    }
   ],
   "source": [
    "df_parameters['prime'].fillna(0, inplace=True)\n",
    "df_parameters"
   ]
  },
  {
   "cell_type": "markdown",
   "metadata": {},
   "source": [
    "## Steady turning"
   ]
  },
  {
   "cell_type": "code",
   "execution_count": 25,
   "metadata": {},
   "outputs": [],
   "source": [
    "inputs = dict(df_parameters['prime'])\n",
    "inputs.update(dict(df_ship_parameters.loc['prime']))\n",
    "\n",
    "U = 10\n",
    "delta = np.deg2rad(35)\n",
    "inputs['delta'] = delta\n",
    "inputs['u'] = inputs['U'] =  ps.prime((U,'linear_velocity',), U=U)\n",
    "\n",
    "\n",
    "v_steady_prime = run(function=v_lambda, inputs=inputs)\n",
    "r_steady_prime = run(function=r_lambda, inputs=inputs)\n",
    "\n",
    "v_steady = ps.unprime((v_steady_prime,'linear_velocity',) ,U=U)\n",
    "r_steady = ps.unprime((r_steady_prime,'angular_velocity',) ,U=U)\n"
   ]
  },
  {
   "cell_type": "code",
   "execution_count": 26,
   "metadata": {},
   "outputs": [
    {
     "data": {
      "text/plain": [
       "-3.7096905140118333"
      ]
     },
     "execution_count": 26,
     "metadata": {},
     "output_type": "execute_result"
    }
   ],
   "source": [
    "v_steady"
   ]
  },
  {
   "cell_type": "code",
   "execution_count": 27,
   "metadata": {},
   "outputs": [
    {
     "data": {
      "text/plain": [
       "0.03891847873613277"
      ]
     },
     "execution_count": 27,
     "metadata": {},
     "output_type": "execute_result"
    }
   ],
   "source": [
    "r_steady"
   ]
  },
  {
   "cell_type": "code",
   "execution_count": 28,
   "metadata": {},
   "outputs": [
    {
     "data": {
      "text/plain": [
       "<function _lambdifygenerated(I_z, Ndelta, Nr, Nrdot, Nu, Nudot, Nv, Nvdot, U, Xdelta, Xr, Xrdot, Xu, Xudot, Xv, Xvdot, Ydelta, Yr, Yrdot, Yu, Yudot, Yv, Yvdot, delta, m, r, u, v, x_G)>"
      ]
     },
     "execution_count": 28,
     "metadata": {},
     "output_type": "execute_result"
    }
   ],
   "source": [
    "model.u1d_lambda"
   ]
  },
  {
   "cell_type": "code",
   "execution_count": 29,
   "metadata": {},
   "outputs": [
    {
     "data": {
      "text/plain": [
       "<function _lambdifygenerated(I_z, Ndelta, Nr, Nrdot, Nu, Nudot, Nv, Nvdot, U, Xdelta, Xr, Xrdot, Xu, Xudot, Xv, Xvdot, Ydelta, Yr, Yrdot, Yu, Yudot, Yv, Yvdot, delta, m, r, u, v, x_G)>"
      ]
     },
     "execution_count": 29,
     "metadata": {},
     "output_type": "execute_result"
    }
   ],
   "source": [
    "model.v1d_lambda"
   ]
  },
  {
   "cell_type": "code",
   "execution_count": 30,
   "metadata": {},
   "outputs": [
    {
     "data": {
      "text/plain": [
       "1.734723475976807e-17"
      ]
     },
     "execution_count": 30,
     "metadata": {},
     "output_type": "execute_result"
    }
   ],
   "source": [
    "states = {\n",
    "    'u' : ps.prime((U,'linear_velocity'),U=U),\n",
    "    'v' : ps.prime((v_steady,'linear_velocity'),U=U),\n",
    "    'r' : ps.prime((r_steady,'angular_velocity'),U=U),\n",
    "    #'u1d' : 0,\n",
    "    #'v1d' : 0,\n",
    "    #'r1d' : 0,\n",
    "    \n",
    "}\n",
    "\n",
    "control = {\n",
    "    'delta' : delta,\n",
    "    'U' : ps.prime((U,'linear_velocity'),U=U)\n",
    "}\n",
    "\n",
    "inputs = dict(df_parameters['prime'])\n",
    "inputs.update(dict(df_ship_parameters.loc['prime']))\n",
    "\n",
    "inputs.update(states)\n",
    "inputs.update(control)\n",
    "\n",
    "run(function=model.v1d_lambda, inputs=inputs)"
   ]
  },
  {
   "cell_type": "code",
   "execution_count": 31,
   "metadata": {},
   "outputs": [
    {
     "data": {
      "text/plain": [
       "0.0"
      ]
     },
     "execution_count": 31,
     "metadata": {},
     "output_type": "execute_result"
    }
   ],
   "source": [
    "run(function=model.u1d_lambda, inputs=inputs)"
   ]
  },
  {
   "cell_type": "code",
   "execution_count": 32,
   "metadata": {},
   "outputs": [
    {
     "data": {
      "text/plain": [
       "1.734723475976807e-17"
      ]
     },
     "execution_count": 32,
     "metadata": {},
     "output_type": "execute_result"
    }
   ],
   "source": [
    "run(function=model.v1d_lambda, inputs=inputs)"
   ]
  },
  {
   "cell_type": "code",
   "execution_count": 33,
   "metadata": {},
   "outputs": [
    {
     "data": {
      "text/plain": [
       "-1.5959455978986625e-16"
      ]
     },
     "execution_count": 33,
     "metadata": {},
     "output_type": "execute_result"
    }
   ],
   "source": [
    "run(function=model.r1d_lambda, inputs=inputs)"
   ]
  },
  {
   "cell_type": "code",
   "execution_count": 34,
   "metadata": {},
   "outputs": [
    {
     "data": {
      "text/plain": [
       "<AxesSubplot:>"
      ]
     },
     "execution_count": 34,
     "metadata": {},
     "output_type": "execute_result"
    },
    {
     "data": {
      "image/png": "[encoded data removed]",
      "text/plain": [
       "<Figure size 432x288 with 1 Axes>"
      ]
     },
     "metadata": {
      "needs_background": "light"
     },
     "output_type": "display_data"
    },
    {
     "data": {
      "image/png": "[encoded data removed]",
      "text/plain": [
       "<Figure size 432x288 with 1 Axes>"
      ]
     },
     "metadata": {
      "needs_background": "light"
     },
     "output_type": "display_data"
    },
    {
     "data": {
      "image/png": "[encoded data removed]",
      "text/plain": [
       "<Figure size 432x288 with 1 Axes>"
      ]
     },
     "metadata": {
      "needs_background": "light"
     },
     "output_type": "display_data"
    }
   ],
   "source": [
    "t_max = 2*np.pi/r_steady  # Turn one lap\n",
    "t = np.arange(0,t_max,0.01)\n",
    "\n",
    "\n",
    "control = {\n",
    "    'delta' : (delta, 'angle',),\n",
    "}\n",
    "\n",
    "parameters = dict(df_parameters['prime'])\n",
    "\n",
    "u_steady = np.sqrt(U**2 - v_steady**2)\n",
    "y0 = [\n",
    "    (u_steady, 'linear_velocity'),         ## u\n",
    "    (v_steady, 'linear_velocity'),  ## v\n",
    "    (r_steady,  'angular_velocity'),## r\n",
    "    (0, 'length'),                  ## x0\n",
    "    (0, 'length'),                  ## y0\n",
    "    (0, 'angle'),                   ## psi\n",
    "]\n",
    "\n",
    "#solution = model.simulate(y0=y0, t=t, df_parameters=df_parameters, df_ship_parameters=df_ship_parameters, control=control, rtol=1e-3, atol=1e-3)\n",
    "solution = model.simulate(y0=y0, t=t, df_parameters=df_parameters, ship_parameters=ship_parameters, control=control)\n",
    "\n",
    "columns = ['u','v','r','x0','y0','psi']\n",
    "df_result_prime = pd.DataFrame(data=solution.y.T, columns=columns)\n",
    "df_result_prime.index=t[0:len(df_result_prime)]\n",
    "\n",
    "#df_result_prime['U'] = np.sqrt(df_result_prime['u']**2 + df_result_prime['v']**2)\n",
    "\n",
    "df_result_prime.plot(y='u')\n",
    "df_result_prime.plot(y='v')\n",
    "df_result_prime.plot(y='r')\n",
    "\n"
   ]
  },
  {
   "cell_type": "code",
   "execution_count": 35,
   "metadata": {},
   "outputs": [
    {
     "data": {
      "text/plain": [
       "[(9.286452298388799, 'linear_velocity'),\n",
       " (-3.7096905140118333, 'linear_velocity'),\n",
       " (0.03891847873613277, 'angular_velocity'),\n",
       " (0, 'length'),\n",
       " (0, 'length'),\n",
       " (0, 'angle')]"
      ]
     },
     "execution_count": 35,
     "metadata": {},
     "output_type": "execute_result"
    }
   ],
   "source": [
    "y0"
   ]
  },
  {
   "cell_type": "code",
   "execution_count": 36,
   "metadata": {},
   "outputs": [
    {
     "data": {
      "text/plain": [
       "  message: 'Required step size is less than spacing between numbers.'\n",
       "     nfev: 1034\n",
       "     njev: 0\n",
       "      nlu: 0\n",
       "      sol: None\n",
       "   status: -1\n",
       "  success: False\n",
       "        t: array([0.0000e+00, 5.0000e-04, 1.0000e-03, ..., 8.0710e+00, 8.0715e+00,\n",
       "       8.0720e+00])\n",
       " t_events: None\n",
       "        y: array([[ 9.28645230e-01,  9.28645230e-01,  9.28645230e-01, ...,\n",
       "         9.28645230e-01,  9.28645230e-01,  9.28645230e-01],\n",
       "       [-3.70969051e-01, -3.70969051e-01, -3.70969051e-01, ...,\n",
       "        -3.70969051e-01, -3.70969051e-01, -3.70969051e-01],\n",
       "       [ 7.78369575e-01,  7.78369575e-01,  7.78369575e-01, ...,\n",
       "         7.78369575e-01,  7.78369575e-01,  7.78369575e-01],\n",
       "       [ 0.00000000e+00,  4.64358697e-04,  9.28789512e-04, ...,\n",
       "        -2.19908528e-03, -1.73282959e-03, -1.26650384e-03],\n",
       "       [ 0.00000000e+00, -1.85394167e-04, -3.70607599e-04, ...,\n",
       "         4.37853396e-03,  4.18333618e-03,  3.98833173e-03],\n",
       "       [ 0.00000000e+00,  3.89184787e-04,  7.78369575e-04, ...,\n",
       "         6.28222084e+00,  6.28261002e+00,  6.28299921e+00]])\n",
       " y_events: None"
      ]
     },
     "execution_count": 36,
     "metadata": {},
     "output_type": "execute_result"
    }
   ],
   "source": [
    "solution"
   ]
  },
  {
   "cell_type": "code",
   "execution_count": 37,
   "metadata": {},
   "outputs": [],
   "source": [
    "units = {key:value[1] for key,value in zip(columns,y0)}\n",
    "df_result = ps.df_unprime(df=df_result_prime, units=units, U=U)\n",
    "df_result['beta'] = -np.arctan2(df_result['v'],df_result['u'])"
   ]
  },
  {
   "cell_type": "code",
   "execution_count": 38,
   "metadata": {},
   "outputs": [
    {
     "data": {
      "text/html": [
       "<div>\n",
       "<style scoped>\n",
       "    .dataframe tbody tr th:only-of-type {\n",
       "        vertical-align: middle;\n",
       "    }\n",
       "\n",
       "    .dataframe tbody tr th {\n",
       "        vertical-align: top;\n",
       "    }\n",
       "\n",
       "    .dataframe thead th {\n",
       "        text-align: right;\n",
       "    }\n",
       "</style>\n",
       "<table border=\"1\" class=\"dataframe\">\n",
       "  <thead>\n",
       "    <tr style=\"text-align: right;\">\n",
       "      <th></th>\n",
       "      <th>u</th>\n",
       "      <th>v</th>\n",
       "      <th>r</th>\n",
       "      <th>x0</th>\n",
       "      <th>y0</th>\n",
       "      <th>psi</th>\n",
       "      <th>beta</th>\n",
       "    </tr>\n",
       "  </thead>\n",
       "  <tbody>\n",
       "    <tr>\n",
       "      <th>0.00</th>\n",
       "      <td>9.286452</td>\n",
       "      <td>-3.709691</td>\n",
       "      <td>0.038918</td>\n",
       "      <td>0.000000</td>\n",
       "      <td>0.000000</td>\n",
       "      <td>0.000000</td>\n",
       "      <td>0.380052</td>\n",
       "    </tr>\n",
       "    <tr>\n",
       "      <th>0.01</th>\n",
       "      <td>9.286452</td>\n",
       "      <td>-3.709691</td>\n",
       "      <td>0.038918</td>\n",
       "      <td>0.092872</td>\n",
       "      <td>-0.037079</td>\n",
       "      <td>0.000389</td>\n",
       "      <td>0.380052</td>\n",
       "    </tr>\n",
       "    <tr>\n",
       "      <th>0.02</th>\n",
       "      <td>9.286452</td>\n",
       "      <td>-3.709691</td>\n",
       "      <td>0.038918</td>\n",
       "      <td>0.185758</td>\n",
       "      <td>-0.074122</td>\n",
       "      <td>0.000778</td>\n",
       "      <td>0.380052</td>\n",
       "    </tr>\n",
       "    <tr>\n",
       "      <th>0.03</th>\n",
       "      <td>9.286452</td>\n",
       "      <td>-3.709691</td>\n",
       "      <td>0.038918</td>\n",
       "      <td>0.278658</td>\n",
       "      <td>-0.111128</td>\n",
       "      <td>0.001168</td>\n",
       "      <td>0.380052</td>\n",
       "    </tr>\n",
       "    <tr>\n",
       "      <th>0.04</th>\n",
       "      <td>9.286452</td>\n",
       "      <td>-3.709691</td>\n",
       "      <td>0.038918</td>\n",
       "      <td>0.371573</td>\n",
       "      <td>-0.148098</td>\n",
       "      <td>0.001557</td>\n",
       "      <td>0.380052</td>\n",
       "    </tr>\n",
       "  </tbody>\n",
       "</table>\n",
       "</div>"
      ],
      "text/plain": [
       "             u         v         r        x0        y0       psi      beta\n",
       "0.00  9.286452 -3.709691  0.038918  0.000000  0.000000  0.000000  0.380052\n",
       "0.01  9.286452 -3.709691  0.038918  0.092872 -0.037079  0.000389  0.380052\n",
       "0.02  9.286452 -3.709691  0.038918  0.185758 -0.074122  0.000778  0.380052\n",
       "0.03  9.286452 -3.709691  0.038918  0.278658 -0.111128  0.001168  0.380052\n",
       "0.04  9.286452 -3.709691  0.038918  0.371573 -0.148098  0.001557  0.380052"
      ]
     },
     "execution_count": 38,
     "metadata": {},
     "output_type": "execute_result"
    }
   ],
   "source": [
    "df_result.head()"
   ]
  },
  {
   "cell_type": "code",
   "execution_count": 39,
   "metadata": {},
   "outputs": [
    {
     "data": {
      "text/plain": [
       "<AxesSubplot:>"
      ]
     },
     "execution_count": 39,
     "metadata": {},
     "output_type": "execute_result"
    },
    {
     "data": {
      "image/png": "[encoded data removed]",
      "text/plain": [
       "<Figure size 432x288 with 1 Axes>"
      ]
     },
     "metadata": {
      "needs_background": "light"
     },
     "output_type": "display_data"
    },
    {
     "data": {
      "image/png": "[encoded data removed]",
      "text/plain": [
       "<Figure size 432x288 with 1 Axes>"
      ]
     },
     "metadata": {
      "needs_background": "light"
     },
     "output_type": "display_data"
    },
    {
     "data": {
      "image/png": "[encoded data removed]",
      "text/plain": [
       "<Figure size 432x288 with 1 Axes>"
      ]
     },
     "metadata": {
      "needs_background": "light"
     },
     "output_type": "display_data"
    },
    {
     "data": {
      "image/png": "[encoded data removed]",
      "text/plain": [
       "<Figure size 432x288 with 1 Axes>"
      ]
     },
     "metadata": {
      "needs_background": "light"
     },
     "output_type": "display_data"
    },
    {
     "data": {
      "image/png": "[encoded data removed]",
      "text/plain": [
       "<Figure size 432x288 with 1 Axes>"
      ]
     },
     "metadata": {
      "needs_background": "light"
     },
     "output_type": "display_data"
    },
    {
     "data": {
      "image/png": "[encoded data removed]",
      "text/plain": [
       "<Figure size 432x288 with 1 Axes>"
      ]
     },
     "metadata": {
      "needs_background": "light"
     },
     "output_type": "display_data"
    }
   ],
   "source": [
    "track_plot(df=df_result, lpp=df_ship_parameters.L['value'], beam=df_ship_parameters.B['value'])\n",
    "\n",
    "df_result.plot(y='u')\n",
    "df_result.plot(y='v')\n",
    "df_result.plot(y='r')\n",
    "df_result.plot(y='psi')\n",
    "df_result.plot(y='beta')\n",
    "\n"
   ]
  },
  {
   "cell_type": "markdown",
   "metadata": {},
   "source": [
    "## Steady turnings"
   ]
  },
  {
   "cell_type": "code",
   "execution_count": 40,
   "metadata": {},
   "outputs": [],
   "source": [
    "inputs = dict(df_parameters['prime'])\n",
    "inputs.update(dict(df_ship_parameters.loc['prime']))\n",
    "\n",
    "U = 10\n",
    "delta = np.deg2rad(35)\n",
    "inputs['delta'] = delta\n",
    "inputs['u'] = inputs['U'] =  ps.prime((U,'linear_velocity',), U=U)\n",
    "\n",
    "s = pd.Series(inputs)\n",
    "N=10\n",
    "data = np.tile(s.values,(N,1))\n",
    "df_variation = pd.DataFrame(data, columns=s.index)\n",
    "df_variation.head()\n",
    "df_variation['delta'] = np.linspace(0.01,0.3,N)\n",
    "\n",
    "df_variation['v'] = run(function=v_lambda, inputs=df_variation)\n",
    "df_variation['r'] = run(function=r_lambda, inputs=df_variation)\n"
   ]
  },
  {
   "cell_type": "code",
   "execution_count": 41,
   "metadata": {},
   "outputs": [
    {
     "data": {
      "text/plain": [
       "<AxesSubplot:xlabel='delta'>"
      ]
     },
     "execution_count": 41,
     "metadata": {},
     "output_type": "execute_result"
    },
    {
     "data": {
      "image/png": "[encoded data removed]",
      "text/plain": [
       "<Figure size 432x288 with 1 Axes>"
      ]
     },
     "metadata": {
      "needs_background": "light"
     },
     "output_type": "display_data"
    },
    {
     "data": {
      "image/png": "[encoded data removed]",
      "text/plain": [
       "<Figure size 432x288 with 1 Axes>"
      ]
     },
     "metadata": {
      "needs_background": "light"
     },
     "output_type": "display_data"
    }
   ],
   "source": [
    "df_variation.plot(x='delta', y='r')\n",
    "df_variation.plot(x='delta', y='v')\n",
    "\n"
   ]
  }
 ],
 "metadata": {
  "kernelspec": {
   "display_name": "Python 3",
   "language": "python",
   "name": "python3"
  },
  "language_info": {
   "codemirror_mode": {
    "name": "ipython",
    "version": 3
   },
   "file_extension": ".py",
   "mimetype": "text/x-python",
   "name": "python",
   "nbconvert_exporter": "python",
   "pygments_lexer": "ipython3",
   "version": "3.9.5"
  }
 },
 "nbformat": 4,
 "nbformat_minor": 4
}
