{
    "cells": [
        {
            "cell_type": "markdown",
            "metadata": {},
            "source": [
                "# Manoeuvring parameter identification"
            ]
        },
        {
            "cell_type": "markdown",
            "metadata": {},
            "source": [
                "Can the method that was introduced in the [Ball drop example](00.01_intro.ipynb#Example) be applied to a more complex system? This will be attempted in this chapter based on the results from the manoeuvring simulation from the [previous chapter](01.01_manoeuvring_simulation.ipynb#Simulate-data)."
            ]
        },
        {
            "cell_type": "code",
            "execution_count": null,
            "metadata": {
                "tags": [
                    "remove-cell"
                ]
            },
            "outputs": [],
            "source": [
                "# %load imports.py\n",
                "## Local packages:\n",
                "\n",
                "%matplotlib inline\n",
                "%load_ext autoreload\n",
                "%autoreload 2\n",
                "%config Completer.use_jedi = False  ## (To fix autocomplete)\n",
                "\n",
                "## External packages:\n",
                "import pandas as pd\n",
                "pd.options.display.max_rows = 999\n",
                "pd.options.display.max_columns = 999\n",
                "pd.set_option(\"display.max_columns\", None)\n",
                "\n",
                "import numpy as np\n",
                "import os\n",
                "import plotly.express as px \n",
                "import plotly.graph_objects as go\n",
                "\n",
                "import seaborn as sns\n",
                "\n",
                "import matplotlib.pyplot as plt\n",
                "if os.name == 'nt':\n",
                "    plt.style.use('../docs/book/book.mplstyle')  # Windows\n",
                "\n",
                "import sympy as sp\n",
                "from sympy.physics.mechanics import (dynamicsymbols, ReferenceFrame,\n",
                "                                      Particle, Point)\n",
                "from sympy.physics.vector.printing import vpprint, vlatex\n",
                "from IPython.display import display, Math, Latex, Markdown\n",
                "from vessel_manoeuvring_models.substitute_dynamic_symbols import run, lambdify\n",
                "\n",
                "import pyro\n",
                "\n",
                "import sklearn\n",
                "import pykalman\n",
                "from statsmodels.sandbox.regression.predstd import wls_prediction_std\n",
                "import statsmodels.api as sm\n",
                "\n",
                "from scipy.integrate import solve_ivp\n",
                "\n",
                "## Local packages:\n",
                "from vessel_manoeuvring_models.data import mdl\n",
                "\n",
                "from vessel_manoeuvring_models.symbols import *\n",
                "from vessel_manoeuvring_models.parameters import *\n",
                "import vessel_manoeuvring_models.symbols as symbols\n",
                "from vessel_manoeuvring_models import prime_system\n",
                "from vessel_manoeuvring_models.models import regression\n",
                "from vessel_manoeuvring_models.visualization.regression import show_pred\n",
                "from vessel_manoeuvring_models.visualization.plot import track_plot\n",
                "from vessel_manoeuvring_models.visualization.equation import Equation\n",
                "from myst_nb import glue\n",
                "\n",
                "## Load models:\n",
                "# (Uncomment these for faster loading):\n",
                "#import vessel_manoeuvring_models.models.vmm_nonlinear_EOM  as vmm \n",
                "import vessel_manoeuvring_models.models.vmm_martin  as vmm\n",
                "\n",
                "## Examples\n",
                "from docs.book.example_1 import ship_parameters, df_parameters, ps, ship_parameters_prime"
            ]
        },
        {
            "cell_type": "markdown",
            "metadata": {
                "tags": []
            },
            "source": [
                "## Decoupling\n",
                "The hydrodynamic derivatives in a mathematical model for ship manoeuvring should be identified by expressing the ODE as a OLS regression. There is a coupling between the sway and yaw equation in this model. These equations need to be decoupled {cite:p}`wang_parameter_2021`, in a similar way as how it was done in the previous chapter. The simulation model can be expressed as:"
            ]
        },
        {
            "cell_type": "code",
            "execution_count": null,
            "metadata": {
                "tags": [
                    "remove-input"
                ]
            },
            "outputs": [],
            "source": [
                "A = vmm.simulator.A\n",
                "b = vmm.simulator.b\n",
                "acceleration = sp.matrices.MutableDenseMatrix([u1d,v1d,r1d])\n",
                "eq_simulator = sp.Eq(sp.UnevaluatedExpr(A)*sp.UnevaluatedExpr(acceleration),sp.UnevaluatedExpr(b))\n",
                "Math(vlatex(eq_simulator))"
            ]
        },
        {
            "cell_type": "markdown",
            "metadata": {},
            "source": [
                "$X_{qs}$, $Y_{qs}$, $N_{qs}$ are the quasi static hydrodynamic force models, that contains the hydrodynamic derivatives ($Y_{uv}$ etc.) that should be identified."
            ]
        },
        {
            "cell_type": "markdown",
            "metadata": {},
            "source": [
                "The PIT should be expressed as three regressions based on $\\dot{u}$, $\\dot{v}$ and $\\dot{r}$:"
            ]
        },
        {
            "cell_type": "code",
            "execution_count": null,
            "metadata": {
                "tags": [
                    "remove-input"
                ]
            },
            "outputs": [],
            "source": [
                "coeff_matrix = sp.matrices.MutableDenseMatrix([A_coeff*X_X,B_coeff*X_Y,C_coeff*X_N])\n",
                "eq_regression = sp.Eq(acceleration, coeff_matrix)\n",
                "Math(vlatex(eq_regression))"
            ]
        },
        {
            "cell_type": "markdown",
            "metadata": {},
            "source": [
                "Where $A_{coeff}$, $B_{coeff}$ and $C_{coeff}$ are coefficient vectors from where the hydrodynamic derivatives can be obtained with decoupling as follows, where eq.{eq}`eq_coeff` has been inserted into eq.{eq}`eq_simulator`:"
            ]
        },
        {
            "cell_type": "code",
            "execution_count": null,
            "metadata": {
                "tags": [
                    "remove-input"
                ]
            },
            "outputs": [],
            "source": [
                "Math(vlatex(sp.Eq(sp.UnevaluatedExpr(A)*sp.UnevaluatedExpr(coeff_matrix),sp.UnevaluatedExpr(b))))"
            ]
        },
        {
            "cell_type": "markdown",
            "metadata": {},
            "source": [
                "```{glue:math} sym_eq\n",
                ":label: eq_simulator_coeff\n",
                "```"
            ]
        },
        {
            "cell_type": "markdown",
            "metadata": {},
            "source": [
                "And the right hand side of this equation can also be expressed with vectors:"
            ]
        },
        {
            "cell_type": "code",
            "execution_count": null,
            "metadata": {
                "tags": [
                    "remove-input"
                ]
            },
            "outputs": [],
            "source": [
                "X_qs_, Y_qs_, N_qs_ = sp.symbols('X_qs, Y_qs, N_qs')\n",
                "eq_X_qs = sp.Eq(X_qs_*X_X, b[0])\n",
                "Math(vlatex(eq_X_qs))"
            ]
        },
        {
            "cell_type": "code",
            "execution_count": null,
            "metadata": {
                "tags": [
                    "remove-input"
                ]
            },
            "outputs": [],
            "source": [
                "eq_Y_qs = sp.Eq(X_qs_*X_Y, b[1])\n",
                "Math(vlatex(eq_Y_qs))"
            ]
        },
        {
            "cell_type": "code",
            "execution_count": null,
            "metadata": {
                "tags": [
                    "remove-input"
                ]
            },
            "outputs": [],
            "source": [
                "eq_N_qs = sp.Eq(N_qs_*X_N, b[2])\n",
                "Math(vlatex(eq_N_qs))"
            ]
        },
        {
            "cell_type": "markdown",
            "metadata": {},
            "source": [
                "So that the parameter vectors $X_{qs}$, $Y_{qs}$, $N_{qs}$ can be calculated from $A_{coeff}$, $B_{coeff}$ and $C_{coeff}$ in the following way."
            ]
        },
        {
            "cell_type": "code",
            "execution_count": null,
            "metadata": {
                "tags": [
                    "remove-input"
                ]
            },
            "outputs": [],
            "source": [
                "Math(vlatex(sp.Eq(sp.UnevaluatedExpr(A)*sp.UnevaluatedExpr(sp.matrices.MutableDenseMatrix([A_coeff,B_coeff,C_coeff])),\n",
                "                  sp.UnevaluatedExpr(sp.matrices.MutableDenseMatrix([X_qs_,Y_qs_,N_qs_])))))"
            ]
        },
        {
            "cell_type": "markdown",
            "metadata": {},
            "source": [
                "## Regression\n",
                "The parameter vectors : $A_{coeff}$, $B_{coeff}$ and $C_{coeff}$ are determined with OLS regression:"
            ]
        },
        {
            "cell_type": "markdown",
            "metadata": {
                "tags": [
                    "remove-cell"
                ]
            },
            "source": [
                "### Load simulation results:"
            ]
        },
        {
            "cell_type": "code",
            "execution_count": null,
            "metadata": {
                "tags": [
                    "remove-cell"
                ]
            },
            "outputs": [],
            "source": [
                "df_result = pd.read_csv('test.csv', index_col=0)  # (gnereated by:01.01_manoeuvring_simulation.ipynb)\n",
                "df_result['U'] = np.sqrt(df_result['u']**2 + df_result['v']**2)\n",
                "\n",
                "#df_result = df_result.iloc[100:-100]\n",
                "\n",
                "df = ps.prime(df_result, U=df_result['U'])"
            ]
        },
        {
            "cell_type": "code",
            "execution_count": null,
            "metadata": {},
            "outputs": [],
            "source": [
                "df_result.head()"
            ]
        },
        {
            "cell_type": "markdown",
            "metadata": {},
            "source": [
                "### N"
            ]
        },
        {
            "cell_type": "code",
            "execution_count": null,
            "metadata": {
                "tags": [
                    "remove-input"
                ]
            },
            "outputs": [],
            "source": [
                "N_ = sp.symbols('N_')\n",
                "\n",
                "diff_eq_N = regression.DiffEqToMatrix(ode=vmm.N_qs_eq.subs(N_D,N_), \n",
                "                                      label=N_, base_features=[delta,u,v,r])"
            ]
        },
        {
            "cell_type": "code",
            "execution_count": null,
            "metadata": {
                "tags": [
                    "remove-input"
                ]
            },
            "outputs": [],
            "source": [
                "X = diff_eq_N.calculate_features(data=df)\n",
                "y = diff_eq_N.calculate_label(y=df['r1d'])\n",
                "\n",
                "model_N = sm.OLS(y,X)\n",
                "results_N = model_N.fit()\n",
                "\n",
                "show_pred(X=X,y=y,results=results_N, label=r'$\\dot{r}$')"
            ]
        },
        {
            "cell_type": "markdown",
            "metadata": {},
            "source": [
                "### Y"
            ]
        },
        {
            "cell_type": "code",
            "execution_count": null,
            "metadata": {
                "tags": [
                    "remove-cell"
                ]
            },
            "outputs": [],
            "source": [
                "Y_ = sp.symbols('Y_')\n",
                "diff_eq_Y = regression.DiffEqToMatrix(ode=vmm.Y_qs_eq.subs(Y_D,Y_), \n",
                "                                      label=Y_, base_features=[delta,u,v,r])"
            ]
        },
        {
            "cell_type": "code",
            "execution_count": null,
            "metadata": {
                "tags": [
                    "remove-input"
                ]
            },
            "outputs": [],
            "source": [
                "X = diff_eq_Y.calculate_features(data=df)\n",
                "y = diff_eq_Y.calculate_label(y=df['v1d'])\n",
                "\n",
                "\n",
                "model_Y = sm.OLS(y,X)\n",
                "results_Y = model_Y.fit()\n",
                "\n",
                "show_pred(X=X,y=y,results=results_Y, label=r'$\\dot{v}$')"
            ]
        },
        {
            "cell_type": "markdown",
            "metadata": {},
            "source": [
                "### X"
            ]
        },
        {
            "cell_type": "code",
            "execution_count": null,
            "metadata": {
                "tags": [
                    "remove-cell"
                ]
            },
            "outputs": [],
            "source": [
                "X_ = sp.symbols('X_')\n",
                "diff_eq_X = regression.DiffEqToMatrix(ode=vmm.X_qs_eq.subs(X_D,X_), \n",
                "                                      label=X_, base_features=[delta,u,v,r,thrust])"
            ]
        },
        {
            "cell_type": "code",
            "execution_count": null,
            "metadata": {
                "tags": [
                    "remove-input"
                ]
            },
            "outputs": [],
            "source": [
                "X = diff_eq_X.calculate_features(data=df)\n",
                "y = diff_eq_X.calculate_label(y=df['u1d'])\n",
                "\n",
                "model_X = sm.OLS(y,X)\n",
                "results_X = model_X.fit()\n",
                "\n",
                "show_pred(X=X,y=y,results=results_X, label=r'$\\dot{u}}$')"
            ]
        },
        {
            "cell_type": "markdown",
            "metadata": {},
            "source": [
                "### Decoupling"
            ]
        },
        {
            "cell_type": "code",
            "execution_count": null,
            "metadata": {
                "tags": [
                    "remove-cell"
                ]
            },
            "outputs": [],
            "source": [
                "subs = {value:key for key,value in p.items()}\n",
                "A_ = A*sp.matrices.MutableDenseMatrix([A_coeff,B_coeff,C_coeff])\n",
                "A_lambda=lambdify(A_.subs(subs))"
            ]
        },
        {
            "cell_type": "code",
            "execution_count": null,
            "metadata": {
                "tags": [
                    "remove-cell"
                ]
            },
            "outputs": [],
            "source": [
                "results_summary_X = regression.results_summary_to_dataframe(results_X)\n",
                "results_summary_Y = regression.results_summary_to_dataframe(results_Y)\n",
                "results_summary_N = regression.results_summary_to_dataframe(results_N)\n",
                "\n",
                "A_coeff_ = results_summary_X['coeff']\n",
                "B_coeff_ = results_summary_Y['coeff']\n",
                "C_coeff_ = results_summary_N['coeff']\n",
                "\n",
                "coeffs = run(A_lambda,A_coeff=A_coeff_.values, B_coeff=B_coeff_.values, C_coeff=C_coeff_.values, \n",
                "    **df_parameters['prime'], **ship_parameters_prime)"
            ]
        },
        {
            "cell_type": "markdown",
            "metadata": {},
            "source": [
                "The way that the regression is formulated, inertial forces, such as centrifugal force will be included into the derivatives (I think) which means that centrifugal force : $-m \\cdot r \\cdot u$ will be included into $Y_{ur}$ coefficient. This coefficient is therefore not pure hydrodynamic, and can potentially be counted twice..?\n",
                "The coefficients are recalculated below to avooid this:"
            ]
        },
        {
            "cell_type": "code",
            "execution_count": null,
            "metadata": {
                "tags": [
                    "remove-cell"
                ]
            },
            "outputs": [],
            "source": [
                "results_summary_X['decoupled'] = coeffs[0][0]\n",
                "results_summary_Y['decoupled'] = coeffs[1][0]\n",
                "results_summary_N['decoupled'] = coeffs[2][0]\n",
                "\n",
                "x_G_ = ship_parameters_prime['x_G']\n",
                "m_ = ship_parameters_prime['m']\n",
                "\n",
                "results_summary_X.loc['Xrr','decoupled']+=(-m_*x_G_)\n",
                "results_summary_X.loc['Xvr','decoupled']+=(-m_)\n",
                "results_summary_Y.loc['Yur','decoupled']+=m_\n",
                "results_summary_N.loc['Nur','decoupled']+=m_*x_G_"
            ]
        },
        {
            "cell_type": "markdown",
            "metadata": {},
            "source": [
                "### Add the regressed parameters\n",
                "Hydrodynamic derivatives that depend on acceleration cannot be obtained from the VCT regression. They are however essential if a time simulation should be conducted. These values have then been taken from Brix semi empirical formulas for the simulations below."
            ]
        },
        {
            "cell_type": "code",
            "execution_count": null,
            "metadata": {
                "tags": [
                    "remove-cell"
                ]
            },
            "outputs": [],
            "source": [
                "df_parameters_all = df_parameters.copy()\n",
                "for other in [results_summary_X, results_summary_Y, results_summary_N]:\n",
                "    df_parameters_all = df_parameters_all.combine_first(other)\n",
                "\n",
                "df_parameters_all.rename(columns={'decoupled':'regressed'}, inplace=True)\n",
                "df_parameters_all.drop(columns=['brix_lambda'], inplace=True)\n",
                "\n",
                "df_parameters_all['regressed'] = df_parameters_all['regressed'].combine_first(df_parameters_all['prime'])  # prefer regressed\n",
                "#df_parameters_all['regressed'].fillna(0,inplace=True)"
            ]
        },
        {
            "cell_type": "markdown",
            "metadata": {},
            "source": [
                "# Simulation"
            ]
        },
        {
            "cell_type": "markdown",
            "metadata": {},
            "source": [
                "A simulation with the regressed hydrodynamic coefficients can now be conducted. The figures below compare results from these simulation and the original data."
            ]
        },
        {
            "cell_type": "code",
            "execution_count": null,
            "metadata": {
                "tags": [
                    "remove-input"
                ]
            },
            "outputs": [],
            "source": [
                "parameters=df_parameters_all['regressed'].copy()\n",
                "\n",
                "df_ = df_result.copy()\n",
                "\n",
                "d_psi = np.deg2rad(-0.41)\n",
                "df_['x0'] = df_['x0']*np.cos(d_psi) - df_['y0']*np.sin(d_psi)\n",
                "df_['y0'] = df_['x0']*np.sin(d_psi) + df_['y0']*np.cos(d_psi)\n",
                "df_['u'] = df_['u']*np.cos(d_psi) - df_['v']*np.sin(d_psi)\n",
                "df_['v'] = df_['u']*np.sin(d_psi) + df_['v']*np.cos(d_psi)\n",
                "df_['psi']+=d_psi\n",
                "\n",
                "result_regression = vmm.simulator.simulate(df_=df_, \n",
                "                                           parameters=parameters, \n",
                "                                           ship_parameters=ship_parameters, \n",
                "                                           control_keys=['delta','thrust'], \n",
                "                                           primed_parameters=True,\n",
                "                                           prime_system=ps,\n",
                "                                           name='regressed')\n",
                "\n",
                "result_regression.df_model_test=df_result  # dirty"
            ]
        },
        {
            "cell_type": "code",
            "execution_count": null,
            "metadata": {
                "tags": [
                    "remove-input"
                ]
            },
            "outputs": [],
            "source": [
                "result_regression.track_plot(compare=True);"
            ]
        },
        {
            "cell_type": "code",
            "execution_count": null,
            "metadata": {
                "tags": [
                    "remove-input"
                ]
            },
            "outputs": [],
            "source": [
                "result_regression.plot(compare=True);"
            ]
        },
        {
            "cell_type": "code",
            "execution_count": null,
            "metadata": {},
            "outputs": [],
            "source": [
                "r2s = result_regression.score()\n",
                "r2s.plot(kind='bar');"
            ]
        },
        {
            "cell_type": "code",
            "execution_count": null,
            "metadata": {},
            "outputs": [],
            "source": [
                "fig,ax=plt.subplots()\n",
                "key='r1d'\n",
                "result_regression.df_model_test.plot(y=key, ax=ax)\n",
                "result_regression.result.plot(y=key, ax=ax)"
            ]
        },
        {
            "cell_type": "code",
            "execution_count": null,
            "metadata": {},
            "outputs": [],
            "source": [
                "from vessel_manoeuvring_models.models.regression import MotionRegression"
            ]
        },
        {
            "cell_type": "code",
            "execution_count": null,
            "metadata": {},
            "outputs": [],
            "source": [
                "df_parameters.head()"
            ]
        },
        {
            "cell_type": "code",
            "execution_count": null,
            "metadata": {},
            "outputs": [],
            "source": [
                "added_masses = df_parameters.groupby(by='state').get_group('dot')['prime'].dropna().to_dict()\n",
                "added_masses"
            ]
        },
        {
            "cell_type": "code",
            "execution_count": null,
            "metadata": {},
            "outputs": [],
            "source": [
                "\n",
                "regression = MotionRegression(vmm=vmm, data=df, added_masses=added_masses, ship_parameters=ship_parameters, prime_system=ps, \n",
                "                              base_features=[u,v,r,delta,thrust])"
            ]
        },
        {
            "cell_type": "code",
            "execution_count": null,
            "metadata": {},
            "outputs": [],
            "source": [
                "regression.show()"
            ]
        },
        {
            "cell_type": "code",
            "execution_count": null,
            "metadata": {},
            "outputs": [],
            "source": [
                "model = regression.create_model(control_keys=['delta','thrust'])"
            ]
        },
        {
            "cell_type": "code",
            "execution_count": null,
            "metadata": {},
            "outputs": [],
            "source": [
                "result_regression = model.simulate(df_=df_)"
            ]
        },
        {
            "cell_type": "code",
            "execution_count": null,
            "metadata": {},
            "outputs": [],
            "source": [
                "result_regression.track_plot(compare=True);"
            ]
        },
        {
            "cell_type": "code",
            "execution_count": null,
            "metadata": {},
            "outputs": [],
            "source": [
                "result_regression.plot(compare=True);"
            ]
        },
        {
            "cell_type": "code",
            "execution_count": null,
            "metadata": {},
            "outputs": [],
            "source": []
        }
    ],
    "metadata": {
        "citation-manager": {
            "items": {}
        },
        "kernelspec": {
            "display_name": "Python 3",
            "language": "python",
            "name": "python3"
        },
        "language_info": {
            "codemirror_mode": {
                "name": "ipython",
                "version": 3
            },
            "file_extension": ".py",
            "mimetype": "text/x-python",
            "name": "python",
            "nbconvert_exporter": "python",
            "pygments_lexer": "ipython3",
            "version": "3.9.5"
        }
    },
    "nbformat": 4,
    "nbformat_minor": 4
}