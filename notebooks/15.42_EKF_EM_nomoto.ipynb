{
 "cells": [
  {
   "cell_type": "markdown",
   "id": "926970b4-48ca-4900-ba28-51cb48485faf",
   "metadata": {},
   "source": [
    "# Expectation Maximum algorithm with Extended Kalman filter to identify ($T_1$ and $K$) in Nomoto model\n",
    "\n",
    "* Playing around a bit!\n"
   ]
  },
  {
   "cell_type": "code",
   "execution_count": null,
   "id": "370d2700-e2bd-44e5-b615-71f5fe5cdab0",
   "metadata": {
    "tags": [
     "hide-cell"
    ]
   },
   "outputs": [],
   "source": [
    "%load_ext autoreload\n",
    "%autoreload 2\n",
    "\n",
    "import pandas as pd\n",
    "import numpy as np\n",
    "import matplotlib.pyplot as plt\n",
    "from numpy.linalg import inv\n",
    "import sympy as sp\n",
    "\n",
    "import vessel_manoeuvring_models.visualization.book_format as book_format\n",
    "book_format.set_style()\n",
    "from vessel_manoeuvring_models.substitute_dynamic_symbols import lambdify\n",
    "from sympy import Matrix\n",
    "from sympy.physics.mechanics import (dynamicsymbols, ReferenceFrame,\n",
    "                                      Particle, Point)\n",
    "from IPython.display import display, Math, Latex\n",
    "from vessel_manoeuvring_models.substitute_dynamic_symbols import run, lambdify\n",
    "from sympy.physics.vector.printing import vpprint, vlatex\n",
    "from vessel_manoeuvring_models.data import mdl\n",
    "from vessel_manoeuvring_models.kalman_filter import extended_kalman_filter"
   ]
  },
  {
   "cell_type": "markdown",
   "id": "10e263f1-a119-4fbd-af32-5b3846aad124",
   "metadata": {},
   "source": [
    "## Nomoto model for ship manoeuvring dynamics\n",
    "The Nomoto model can be written as:"
   ]
  },
  {
   "cell_type": "code",
   "execution_count": null,
   "id": "96815005-8be1-48e6-a33a-8b51a54746c0",
   "metadata": {
    "tags": [
     "remove-input"
    ]
   },
   "outputs": [],
   "source": [
    "r,r1d,r2d = sp.symbols('r \\dot{r} \\ddot{r}')\n",
    "psi,psi1d = sp.symbols('psi \\dot{\\psi}')\n",
    "h,u = sp.symbols('h u')\n",
    "x, x1d = sp.symbols('x \\dot{x}')\n",
    "A,B,C,D,E, Phi = sp.symbols('A B C D E Phi')\n",
    "w = sp.symbols('w')\n",
    "\n",
    "K, delta, T_1, T_2 = sp.symbols('K delta T_1 T_2')\n",
    "\n",
    "eq_nomoto = sp.Eq(K*delta,\n",
    "                 r + T_1*r1d + T_2*r2d)\n",
    "Math(vlatex(eq_nomoto))"
   ]
  },
  {
   "cell_type": "markdown",
   "id": "b3015cb4-28d4-4ca6-8401-5bd1af8aff7a",
   "metadata": {},
   "source": [
    "where $r$ is yaw rate with its time derivatives and $\\delta$ is the rudder angle. $K$, $T_{1}$\n",
    " and $T_{1}$ are the coefficients describing the hydrodynamics of the ship.\n",
    " \n",
    "For slow manoeuvres this equation can be further simplified by removing the $\\ddot{r}$ term into a first order Nomoto model:"
   ]
  },
  {
   "cell_type": "code",
   "execution_count": null,
   "id": "d0bdad37-0ff6-4e38-8ad2-4846076a8e7f",
   "metadata": {
    "tags": [
     "remove-input"
    ]
   },
   "outputs": [],
   "source": [
    "eq_nomoto_simple = eq_nomoto.subs(r2d,0)\n",
    "Math(vlatex(eq_nomoto_simple))"
   ]
  },
  {
   "cell_type": "markdown",
   "id": "daf2fafb-a9c9-4623-ac03-f58f5c065f72",
   "metadata": {},
   "source": [
    "### Simulation model"
   ]
  },
  {
   "cell_type": "code",
   "execution_count": null,
   "id": "db238f61-3bd7-455d-9ae3-d33a64c7e6b4",
   "metadata": {
    "tags": [
     "remove-input"
    ]
   },
   "outputs": [],
   "source": [
    "f_hat = sp.Function('\\hat{f}')(x,u,w)\n",
    "eq_system = sp.Eq(x1d, f_hat)\n",
    "eq_system"
   ]
  },
  {
   "cell_type": "markdown",
   "id": "705602b0-ba0c-4a40-b411-52bc78cefb8e",
   "metadata": {},
   "source": [
    "Where the state vector $x$:"
   ]
  },
  {
   "cell_type": "code",
   "execution_count": null,
   "id": "f9e74df0-0ffd-4024-8736-de88058c4e2b",
   "metadata": {
    "tags": [
     "remove-input"
    ]
   },
   "outputs": [],
   "source": [
    "eq_x = sp.Eq(x, sp.UnevaluatedExpr(Matrix([psi,r])))\n",
    "eq_x"
   ]
  },
  {
   "cell_type": "markdown",
   "id": "d5b0ea22-e217-4aa3-9b93-6c8c34c07989",
   "metadata": {},
   "source": [
    "and input vector $u$:"
   ]
  },
  {
   "cell_type": "markdown",
   "id": "b3383e52-d900-4e67-80eb-ef7985c5e0aa",
   "metadata": {},
   "source": [
    "and $w$ is zero mean Gausian process noise"
   ]
  },
  {
   "cell_type": "markdown",
   "id": "8b650852-ef4b-4d4f-bf92-40742bcb0843",
   "metadata": {},
   "source": [
    "For the nomoto model the time derivatives for the states can be expressed as:"
   ]
  },
  {
   "cell_type": "code",
   "execution_count": null,
   "id": "59b33fcf-4a29-47f1-afaa-8b1dd1d9f849",
   "metadata": {
    "tags": [
     "remove-input"
    ]
   },
   "outputs": [],
   "source": [
    "eq_psi1d = sp.Eq(psi1d,r)\n",
    "eq_psi1d"
   ]
  },
  {
   "cell_type": "code",
   "execution_count": null,
   "id": "a45a1dc1-8293-4a85-acd2-50db51fca702",
   "metadata": {
    "tags": [
     "remove-input"
    ]
   },
   "outputs": [],
   "source": [
    "eq_r1d = sp.Eq(r1d,sp.solve(eq_nomoto_simple,r1d)[0])\n",
    "eq_r1d"
   ]
  },
  {
   "cell_type": "code",
   "execution_count": null,
   "id": "37eac94c-5b12-4fff-a147-5d8e8e3c14f4",
   "metadata": {},
   "outputs": [],
   "source": [
    "def lambda_f_constructor(K, T_1):\n",
    "    def lambda_f(x, u):\n",
    "        delta = u\n",
    "        f = np.array([[x[1], (K*delta-x[1])/T_1]]).T\n",
    "        return f\n",
    "\n",
    "    return lambda_f"
   ]
  },
  {
   "cell_type": "markdown",
   "id": "beecff80-a421-496c-bde0-5dd395b262e3",
   "metadata": {},
   "source": [
    "## Simulation\n",
    "Simulation with this model where rudder angle shifting between port and starboard"
   ]
  },
  {
   "cell_type": "code",
   "execution_count": null,
   "id": "dc676da4-e4de-4fa0-b8c2-c91e1ea45756",
   "metadata": {
    "tags": [
     "cell_hide",
     "hide-cell"
    ]
   },
   "outputs": [],
   "source": [
    "T_1_ = 1.8962353076056344\n",
    "K_ = 0.17950970687951323\n",
    "h_ = 0.01\n",
    "\n",
    "lambda_f = lambda_f_constructor(K=K_, T_1=T_1_)"
   ]
  },
  {
   "cell_type": "code",
   "execution_count": null,
   "id": "bf7d1b61-b4b5-47a8-8e2d-2ac060062d29",
   "metadata": {},
   "outputs": [],
   "source": [
    "def simulate(E, ws, t, us):\n",
    "    \n",
    "    simdata = []\n",
    "    x_=np.deg2rad(np.array([[0,0]]).T)\n",
    "    \n",
    "    for u_,w_ in zip(us,ws):\n",
    "               \n",
    "        x_=x_ + h_*lambda_f(x=x_.flatten(), u=u_)\n",
    "    \n",
    "        simdata.append(x_.flatten())\n",
    "        \n",
    "    simdata = np.array(simdata)\n",
    "    df = pd.DataFrame(simdata, columns=[\"psi\",\"r\"], index=t)\n",
    "    df['delta'] = us\n",
    "    \n",
    "    return df"
   ]
  },
  {
   "cell_type": "code",
   "execution_count": null,
   "id": "8548d94c-1105-4d86-89c4-21fae1f6f686",
   "metadata": {
    "tags": [
     "cell_hide",
     "hide-cell"
    ]
   },
   "outputs": [],
   "source": [
    "N_ = 8000\n",
    "\n",
    "t_ = np.arange(0,N_*h_,h_)\n",
    "    \n",
    "us = np.deg2rad(np.concatenate((-10*np.ones(int(N_/4)),\n",
    "                                10*np.ones(int(N_/4)),\n",
    "                                -10*np.ones(int(N_/4)),\n",
    "                                10*np.ones(int(N_/4)))))\n",
    "\n",
    "np.random.seed(42)\n",
    "E = np.array([[0, 1]]).T\n",
    "process_noise = np.deg2rad(0.01)\n",
    "ws = process_noise*np.random.normal(size=N_)\n",
    "df = simulate(E=E, ws=ws, t=t_, us=us)\n",
    "\n",
    "measurement_noise = np.deg2rad(0.5)\n",
    "df['epsilon'] = measurement_noise*np.random.normal(size=N_)\n",
    "df['psi_measure'] = df['psi'] + df['epsilon']\n",
    "df['psi_deg'] = np.rad2deg(df['psi'])\n",
    "df['psi_measure_deg'] = np.rad2deg(df['psi_measure'])\n",
    "df['delta_deg'] = np.rad2deg(df['delta'])\n"
   ]
  },
  {
   "cell_type": "code",
   "execution_count": null,
   "id": "7c21a150-770f-4947-909f-bcf46f9ee5fa",
   "metadata": {
    "tags": [
     "hide_input",
     "remove-input"
    ]
   },
   "outputs": [],
   "source": [
    "fig,ax=plt.subplots()\n",
    "df.plot(y='psi_deg', ax=ax)\n",
    "df.plot(y='psi_measure_deg', ax=ax, zorder=-1)\n",
    "df.plot(y='delta_deg', ax=ax, zorder=-1)\n",
    "df.plot(y='r')\n",
    "ax.set_title('Simulation with measurement and process noise')\n",
    "ax.set_xlabel('Time [s]');\n",
    "\n"
   ]
  },
  {
   "cell_type": "markdown",
   "id": "bfedff3b-840d-45fe-b5b6-91a819196324",
   "metadata": {},
   "source": [
    "## Kalman filter\n",
    "Implementation of the Kalman filter. The code is inspired of this Matlab implementation: [ExEKF.m](https://github.com/cybergalactic/MSS/blob/master/mssExamples/ExEKF.m)."
   ]
  },
  {
   "cell_type": "code",
   "execution_count": null,
   "id": "60767399-71f7-4e6b-a322-7f3acfac5c0c",
   "metadata": {},
   "outputs": [],
   "source": [
    "jac = sp.eye(2,2) + Matrix([r,eq_r1d.rhs,]).jacobian([psi,r])*h\n",
    "jac"
   ]
  },
  {
   "cell_type": "code",
   "execution_count": null,
   "id": "898230cd-8b6b-40e9-a3b6-53596aeb1b62",
   "metadata": {},
   "outputs": [],
   "source": [
    "def lambda_f_constructor2(T_1, K):\n",
    "    def lambda_f(x, u):\n",
    "        delta = u\n",
    "        r = x[1]\n",
    "        \n",
    "        f = np.array([[r, (K*delta-r)/T_1]]).T\n",
    "        return f\n",
    "\n",
    "    return lambda_f"
   ]
  },
  {
   "cell_type": "code",
   "execution_count": null,
   "id": "7e22e759-267f-442c-93e0-5b663410b24c",
   "metadata": {},
   "outputs": [],
   "source": [
    "def lambda_jacobian_constructor(h, T_1, K):\n",
    "    def lambda_jacobian(x, u):\n",
    "\n",
    "        delta = u\n",
    "        r = x[1]\n",
    "\n",
    "        jac = np.array(\n",
    "            [\n",
    "                [1, h, ],\n",
    "                [0, 1 - h / T_1],\n",
    "            ]\n",
    "        )\n",
    "        return jac\n",
    "\n",
    "    return lambda_jacobian"
   ]
  },
  {
   "cell_type": "code",
   "execution_count": null,
   "id": "78924dd8-a099-4e7a-b13c-3f6fae95e77e",
   "metadata": {},
   "outputs": [],
   "source": [
    "lambda_jacobian = lambda_jacobian_constructor(h=h_, T_1=T_1_, K=K_)\n",
    "lambda_f = lambda_f_constructor2(T_1=T_1_, K=K_)"
   ]
  },
  {
   "cell_type": "code",
   "execution_count": null,
   "id": "ad626894-c31e-4248-ac34-9725e0fcb48c",
   "metadata": {},
   "outputs": [],
   "source": [
    "lambda_jacobian(x=[0,0,0.1,0.1], u=0)"
   ]
  },
  {
   "cell_type": "code",
   "execution_count": null,
   "id": "fd31824a-5bf4-4c35-93a1-261878381d70",
   "metadata": {},
   "outputs": [],
   "source": [
    "lambda_f(x=[0,0,0.1, 0.1], u=0)"
   ]
  },
  {
   "cell_type": "code",
   "execution_count": null,
   "id": "9eba9cec-bf73-467f-aeb5-78d3775e991a",
   "metadata": {
    "tags": [
     "remove-input"
    ]
   },
   "outputs": [],
   "source": [
    "def plot(df,time_steps):\n",
    "\n",
    "    x_hats = np.array([time_step[\"x_hat\"] for time_step in time_steps]).T\n",
    "    time = np.array([time_step[\"time\"] for time_step in time_steps]).T\n",
    "    Ks = np.array([time_step[\"K\"] for time_step in time_steps]).T\n",
    "    stds = np.sqrt(np.array([[time_step[\"P_hat\"][0,0],\n",
    "                          time_step[\"P_hat\"][1,1],\n",
    "                         ] for time_step in time_steps]).T)\n",
    "\n",
    "    n=len(x_hats)\n",
    "    fig,axes=plt.subplots(nrows=n)\n",
    "    \n",
    "    df['T_1'] = T_1_\n",
    "    df['K'] = K_\n",
    "    keys = ['psi','r']\n",
    "    labels = {\n",
    "        'psi' : '\\Psi',\n",
    "    }\n",
    "    for i,key in enumerate(keys):\n",
    "        \n",
    "        ax=axes[i]\n",
    "        \n",
    "        if key=='psi':\n",
    "            df.plot(y='psi_measure', ax=ax, label=\"Measured\", zorder=-1)\n",
    "        else:\n",
    "            ax.plot([])\n",
    "        \n",
    "        df.plot(y=key, ax=ax, label=\"True\")\n",
    "        \n",
    "        \n",
    "        ax.plot(time, x_hats[i, :], \"-\", label=\"kalman\")\n",
    "        \n",
    "        ylims = np.array(ax.get_ylim())\n",
    "        \n",
    "        std_top = x_hats[i, :] + stds[i, :]\n",
    "        std_btm = x_hats[i, :] - stds[i, :]\n",
    "        ax.plot(time, std_top, linestyle=':', color='k', lw=1, alpha=0.4)\n",
    "        ax.plot(time, std_btm, linestyle=':', color='k', lw=1, alpha=0.4)\n",
    "        ax.fill_between(time, std_top, std_btm,\n",
    "                         facecolor='yellow', alpha=0.2, interpolate=True, label='+/- std')\n",
    "        \n",
    "        if np.all(ylims < 0):\n",
    "            ax.set_ylim(ylims[0],0)\n",
    "        elif np.all(ylims > 0):\n",
    "            ax.set_ylim(0,ylims[1])\n",
    "        else:\n",
    "            ax.set_ylim(ylims)\n",
    "        \n",
    "        \n",
    "        ylabel=labels.get(key,key)\n",
    "        ax.set_ylabel(f'${ylabel}$')\n",
    "        \n",
    "        if i<2:\n",
    "            ax.legend(loc='upper left')\n",
    "        else:\n",
    "            ax.legend().set_visible(False)\n",
    "        "
   ]
  },
  {
   "cell_type": "code",
   "execution_count": null,
   "id": "af6af409-3358-4c55-a1e4-bc0ba5089c72",
   "metadata": {
    "tags": [
     "hide-cell"
    ]
   },
   "outputs": [],
   "source": [
    "def filter(lambda_jacobian, lambda_f):\n",
    "            \n",
    "    x0=np.deg2rad(np.array([[0,0]]).T)\n",
    "    P_prd = np.diag([np.deg2rad(1), np.deg2rad(0.1)])\n",
    "    \n",
    "    Qd = np.diag([np.deg2rad(5),])\n",
    "    \n",
    "    Rd = np.deg2rad(0.5)\n",
    "    \n",
    "    ys = df['psi_measure'].values\n",
    "    \n",
    "    E_ = np.array(\n",
    "        [\n",
    "         [0], \n",
    "         [1],\n",
    "            \n",
    "        ],\n",
    "    )\n",
    "    \n",
    "    C_ = np.array([[1, 0]])\n",
    "    \n",
    "    Cd_ = C_\n",
    "    Ed_ = h_ * E_\n",
    "    \n",
    "    time_steps = extended_kalman_filter(x0=x0, P_prd=P_prd, lambda_f=lambda_f, \n",
    "                                        lambda_jacobian=lambda_jacobian,h=h_, us=us, ys=ys, E=E_, Qd=Qd, Rd=Rd, Cd=Cd_)\n",
    "    \n",
    "    return time_steps\n",
    "        "
   ]
  },
  {
   "cell_type": "code",
   "execution_count": null,
   "id": "ecad77b2-5331-4d06-80df-d5da55f96e03",
   "metadata": {},
   "outputs": [],
   "source": [
    "lambda_jacobian = lambda_jacobian_constructor(h=h_, T_1=T_1_, K=K_)\n",
    "lambda_f = lambda_f_constructor2(T_1=T_1_, K=K_)\n",
    "time_steps = filter(lambda_jacobian=lambda_jacobian, lambda_f=lambda_f)"
   ]
  },
  {
   "cell_type": "code",
   "execution_count": null,
   "id": "81fa8264-8282-4697-94a9-031151f1d22d",
   "metadata": {},
   "outputs": [],
   "source": [
    "plot(df=df, time_steps=time_steps)"
   ]
  },
  {
   "cell_type": "code",
   "execution_count": null,
   "id": "a52410f8-01d3-4845-9471-8f5cf8007f71",
   "metadata": {},
   "outputs": [],
   "source": [
    "def plot_convergence(time_steps, keys=['psi','r']):\n",
    "    \n",
    "    x_hats = np.array([time_step[\"x_hat\"] for time_step in time_steps]).T\n",
    "    time = np.array([time_step[\"time\"] for time_step in time_steps]).T\n",
    "    Ks = np.array([time_step[\"K\"] for time_step in time_steps]).T\n",
    "    P_hats = np.array([time_step[\"P_hat\"] for time_step in time_steps]).T\n",
    "    eps = np.array([time_step[\"eps\"] for time_step in time_steps]).T \n",
    "    eps = eps.flatten()\n",
    "    stds = np.sqrt(np.array([[time_step[\"P_hat\"][0,0],\n",
    "                          time_step[\"P_hat\"][1,1],\n",
    "                             ] for time_step in time_steps]).T)\n",
    "    \n",
    "    fig,ax=plt.subplots()\n",
    "    for i,key in enumerate(keys):\n",
    "        \n",
    "        ax.plot(time, stds[i,:], label=key)\n",
    "        #ax.plot(time, eps, label=key)\n",
    "    \n",
    "        \n",
    "    ax.set_title(r'$\\sigma$')\n",
    "    ax.set_xlabel('time [s]')\n",
    "    ax.legend()"
   ]
  },
  {
   "cell_type": "code",
   "execution_count": null,
   "id": "76aec9bb-ebe6-4136-96eb-b64ff14e5c31",
   "metadata": {},
   "outputs": [],
   "source": [
    "plot_convergence(time_steps=time_steps)"
   ]
  },
  {
   "cell_type": "code",
   "execution_count": null,
   "id": "dd99f96b-5a88-424b-84e7-0019833dd3f5",
   "metadata": {},
   "outputs": [],
   "source": [
    "K_tests = np.linspace(0.1*K_,20*K_,5)\n",
    "\n",
    "fig,axes=plt.subplots(nrows=2)\n",
    "keys=['psi','r']\n",
    "\n",
    "fig2,ax2 = plt.subplots()\n",
    "\n",
    "for K_test in K_tests:\n",
    "    \n",
    "    lambda_jacobian = lambda_jacobian_constructor(h=h_, T_1=T_1_, K=K_test)\n",
    "    lambda_f = lambda_f_constructor2(T_1=T_1_, K=K_test)\n",
    "    time_steps = filter(lambda_jacobian=lambda_jacobian, lambda_f=lambda_f)\n",
    "    \n",
    "    \n",
    "    x_hats = np.array([time_step[\"x_hat\"] for time_step in time_steps]).T\n",
    "    time = np.array([time_step[\"time\"] for time_step in time_steps]).T\n",
    "    Ks = np.array([time_step[\"K\"] for time_step in time_steps]).T\n",
    "    P_hats = np.array([time_step[\"P_hat\"] for time_step in time_steps]).T       \n",
    "    stds = np.sqrt(np.array([[time_step[\"P_hat\"][0,0],\n",
    "                          time_step[\"P_hat\"][1,1],\n",
    "                             ] for time_step in time_steps]).T)\n",
    "    \n",
    "    eps = np.array([time_step[\"eps\"] for time_step in time_steps]).T \n",
    "    eps = eps.flatten()\n",
    "            \n",
    "    for i,key in enumerate(keys):\n",
    "        \n",
    "        ax = axes[i]\n",
    "        ax.plot(time, Ks[i,:], label=f'K:{np.round(K_test,2)}')\n",
    "        \n",
    "    \n",
    "        ax.set_title(r'$\\sigma$')\n",
    "        ax.set_xlabel('time [s]')\n",
    "        ax.set_ylabel(key)\n",
    "        ax.legend()\n",
    "        \n",
    "    ax2.plot(time, eps, label=f'K:{np.round(K_test,2)}')\n",
    "    \n",
    "ax2.set_xlabel('time [s]')\n",
    "ax2.set_ylabel(r'$\\epsilon(\\Psi)$')\n",
    "    "
   ]
  },
  {
   "cell_type": "code",
   "execution_count": null,
   "id": "1a4afda3-4bf5-4fa8-a27f-d25ef9786aab",
   "metadata": {},
   "outputs": [],
   "source": [
    "from scipy.stats import multivariate_normal\n",
    "mean = np.array([0,0])\n",
    "cov = np.array([\n",
    "    [1,-0.3],\n",
    "    [-0.3,1],\n",
    "])\n",
    "rv = multivariate_normal(mean=mean, cov=cov)"
   ]
  },
  {
   "cell_type": "code",
   "execution_count": null,
   "id": "3964f1e6-ed2f-43a6-a741-2cf9304b4842",
   "metadata": {},
   "outputs": [],
   "source": [
    "x, y = np.mgrid[-1:1:.01, -1:1:.01]\n",
    "pos = np.dstack((x, y))"
   ]
  },
  {
   "cell_type": "code",
   "execution_count": null,
   "id": "df1d0412-e12c-45ac-906e-76890b8d7dcb",
   "metadata": {},
   "outputs": [],
   "source": [
    "pos.shape"
   ]
  },
  {
   "cell_type": "code",
   "execution_count": null,
   "id": "1f4d446a-9d71-47ba-af23-6da6c8e3c4d4",
   "metadata": {},
   "outputs": [],
   "source": [
    "fig,ax=plt.subplots()\n",
    "ax.contourf(x, y, rv.pdf(pos))"
   ]
  },
  {
   "cell_type": "code",
   "execution_count": null,
   "id": "a6f367ab-21c2-4287-b7d5-ab6fe8732617",
   "metadata": {},
   "outputs": [],
   "source": [
    "from numpy.linalg import det\n",
    "\n",
    "def normal(X, mu, cov):\n",
    "    k = len(X) + 1\n",
    "    f = np.exp(-1/2*(X-mu).T@inv(cov)@(X-mu))/np.sqrt((2*np.pi)**k*det(cov))\n",
    "    return f\n",
    "    "
   ]
  },
  {
   "cell_type": "code",
   "execution_count": null,
   "id": "874ddad2-c7e1-4d98-b458-7866a40f1149",
   "metadata": {},
   "outputs": [],
   "source": [
    "rows,cols = x.shape\n",
    "f = np.zeros((rows,cols))\n",
    "\n",
    "for i in range(rows):\n",
    "    for j in range(cols):\n",
    "        \n",
    "        X = np.array([x[i,j],y[i,j]])\n",
    "        f[i,j] = normal(X=X, mu=mean, cov=cov)\n",
    "        "
   ]
  },
  {
   "cell_type": "code",
   "execution_count": null,
   "id": "37f4ca5d-bf05-435c-9978-ecbed7eb6b1d",
   "metadata": {},
   "outputs": [],
   "source": [
    "fig,ax=plt.subplots()\n",
    "ax.contourf(x, y, f)"
   ]
  },
  {
   "cell_type": "code",
   "execution_count": null,
   "id": "e083026a-a252-40f4-b8bf-8aef93eedf75",
   "metadata": {},
   "outputs": [],
   "source": []
  }
 ],
 "metadata": {
  "citation-manager": {
   "items": {}
  },
  "kernelspec": {
   "display_name": "Python 3",
   "language": "python",
   "name": "python3"
  },
  "language_info": {
   "codemirror_mode": {
    "name": "ipython",
    "version": 3
   },
   "file_extension": ".py",
   "mimetype": "text/x-python",
   "name": "python",
   "nbconvert_exporter": "python",
   "pygments_lexer": "ipython3",
   "version": "3.9.5"
  }
 },
 "nbformat": 4,
 "nbformat_minor": 5
}
