{
 "cells": [
  {
   "cell_type": "markdown",
   "id": "deadly-communications",
   "metadata": {},
   "source": [
    "## Test overview"
   ]
  },
  {
   "cell_type": "code",
   "execution_count": null,
   "id": "medium-anime",
   "metadata": {},
   "outputs": [],
   "source": [
    "import pandas as pd\n",
    "pd.options.display.max_rows = 999\n",
    "pd.options.display.max_columns = 999\n",
    "pd.set_option(\"display.max_columns\", None)\n",
    "\n",
    "import numpy as np\n",
    "import os\n",
    "import matplotlib.pyplot as plt\n",
    "\n",
    "import plotly.express as px \n",
    "import plotly.graph_objects as go\n",
    "from vessel_manoeuvring_models.data import mdl\n",
    "import shutil\n"
   ]
  },
  {
   "cell_type": "code",
   "execution_count": null,
   "id": "diagnostic-airline",
   "metadata": {},
   "outputs": [],
   "source": [
    "df_runs = pd.read_csv('../data/raw/runs.csv', index_col=0)"
   ]
  },
  {
   "cell_type": "code",
   "execution_count": null,
   "id": "joint-square",
   "metadata": {},
   "outputs": [],
   "source": [
    "df_runs.head()"
   ]
  },
  {
   "cell_type": "code",
   "execution_count": null,
   "id": "outside-mechanics",
   "metadata": {},
   "outputs": [],
   "source": [
    "df_runs['series_number'].unique()"
   ]
  },
  {
   "cell_type": "code",
   "execution_count": null,
   "id": "f4f14c61-5dc8-4177-b692-56c3c9d2b381",
   "metadata": {},
   "outputs": [],
   "source": [
    "df_runs['sailing'] = False\n",
    "mask = df_runs['test_type']=='sailing'\n",
    "df_runs.loc[mask,'sailing']=True\n",
    "mask = df_runs['comment'].str.contains('GWA')\n",
    "df_runs.loc[mask,'sailing']=True\n"
   ]
  },
  {
   "cell_type": "code",
   "execution_count": null,
   "id": "8ca67408-c5c5-49f7-8bfb-a097e98a2a41",
   "metadata": {},
   "outputs": [],
   "source": [
    "df_runs.groupby(by=['test_type','comment']).first()['sailing']"
   ]
  },
  {
   "cell_type": "code",
   "execution_count": null,
   "id": "138f3236-91a0-4fdc-85b5-bc7b411e06fe",
   "metadata": {},
   "outputs": [],
   "source": [
    "df_runs.to_csv('../data/raw/runs.csv')"
   ]
  },
  {
   "cell_type": "code",
   "execution_count": null,
   "id": "returning-lesson",
   "metadata": {},
   "outputs": [],
   "source": [
    "df_runs['test_type'].unique()"
   ]
  },
  {
   "cell_type": "code",
   "execution_count": null,
   "id": "worse-council",
   "metadata": {},
   "outputs": [],
   "source": [
    "for test_type, group in df_runs.groupby(by=['test_type']):\n",
    "    \n",
    "    fig,ax=plt.subplots()\n",
    "    ax.set_title(test_type)\n",
    "    \n",
    "    for id, row in group.iterrows():\n",
    "        \n",
    "        df = mdl.load_run(id=id)\n",
    "        df = df.resample('3S').mean()        \n",
    "        \n",
    "        df.plot(x='y0', y='x0', ax=ax)\n",
    "        \n",
    "    ax.get_legend().set_visible(False)\n",
    "    ax.axis('equal')\n",
    "    ax.set_ylabel('x0')\n"
   ]
  },
  {
   "cell_type": "code",
   "execution_count": null,
   "id": "eda8fe46-3931-474f-813b-5cfc62e4f176",
   "metadata": {},
   "outputs": [],
   "source": [
    "for (test_type,sailing), group in df_runs.groupby(by=['test_type','sailing']):\n",
    "    \n",
    "    data = pd.DataFrame()\n",
    "    \n",
    "    for id, row in group.iterrows():\n",
    "        \n",
    "        df = mdl.load_run(id=id)\n",
    "        df = df.resample('2S').mean()        \n",
    "        df['id'] = id    \n",
    "        df['comment'] = row['comment']\n",
    "                \n",
    "        data = data.append(df)\n",
    "    \n",
    "    title = test_type\n",
    "    if sailing:\n",
    "        title+=' sailing'\n",
    "    \n",
    "    display(px.line(data, x='y0', y='x0', width=1000, height=1000, line_group='id', color='id', title=title, hover_data=['comment']))"
   ]
  },
  {
   "cell_type": "code",
   "execution_count": null,
   "id": "9b2b94c7-3780-49bc-b701-1fb1be620de8",
   "metadata": {},
   "outputs": [],
   "source": [
    "df = df_runs.groupby('sailing').get_group(False)"
   ]
  },
  {
   "cell_type": "code",
   "execution_count": null,
   "id": "183cea56-5c6b-426f-bc3a-2eda1d25c2fd",
   "metadata": {},
   "outputs": [],
   "source": [
    "for id, row in df.iterrows():\n",
    "    \n",
    "    shutil.copyfile(f'../data/raw/{id}.csv',os.path.join(r'E:\\dev\\wPCC_pipeline\\data\\01_raw',f'{id}.csv'))\n",
    "    "
   ]
  },
  {
   "cell_type": "code",
   "execution_count": null,
   "id": "6f6e12f1-69d5-4f23-915c-ad8a3ec61f5a",
   "metadata": {},
   "outputs": [],
   "source": [
    "import yaml\n",
    "global_dict = {}\n",
    "global_dict['runs'] = list(df.index.astype(str))\n",
    "with open(r'E:\\dev\\wPCC_pipeline\\conf\\base\\runs_globals.yml', mode='w') as file:\n",
    "    yaml.dump(global_dict, file)"
   ]
  },
  {
   "cell_type": "code",
   "execution_count": null,
   "id": "ccd6cf61-092a-4c13-9304-7619d211c42d",
   "metadata": {},
   "outputs": [],
   "source": [
    "df.index.astype(str)"
   ]
  },
  {
   "cell_type": "code",
   "execution_count": null,
   "id": "53f00ac5-f060-48f7-bf4e-159480cccabb",
   "metadata": {},
   "outputs": [],
   "source": []
  }
 ],
 "metadata": {
  "kernelspec": {
   "display_name": "Python 3",
   "language": "python",
   "name": "python3"
  },
  "language_info": {
   "codemirror_mode": {
    "name": "ipython",
    "version": 3
   },
   "file_extension": ".py",
   "mimetype": "text/x-python",
   "name": "python",
   "nbconvert_exporter": "python",
   "pygments_lexer": "ipython3",
   "version": "3.9.5"
  }
 },
 "nbformat": 4,
 "nbformat_minor": 5
}
