{
    "cells": [
        {
            "cell_type": "markdown",
            "id": "e3325195-7def-4b52-bb11-1fc95d2b123d",
            "metadata": {},
            "source": [
                "# Scaling of VCT/captive"
            ]
        },
        {
            "cell_type": "code",
            "execution_count": null,
            "id": "a00f37a2-2d53-496a-88c7-821f7aeca079",
            "metadata": {},
            "outputs": [],
            "source": [
                "# %load imports.py\n",
                "# %load imports.py\n",
                "## Local packages:\n",
                "\n",
                "%matplotlib inline\n",
                "%load_ext autoreload\n",
                "%autoreload 2\n",
                "%config Completer.use_jedi = False  ## (To fix autocomplete)\n",
                "\n",
                "## External packages:\n",
                "import pandas as pd\n",
                "pd.options.display.max_rows = 999\n",
                "pd.options.display.max_columns = 999\n",
                "pd.set_option(\"display.max_columns\", None)\n",
                "import numpy as np\n",
                "np.set_printoptions(linewidth=150)\n",
                "\n",
                "import numpy as np\n",
                "import os\n",
                "import matplotlib.pyplot as plt\n",
                "#if os.name == 'nt':\n",
                "#    plt.style.use('presentation.mplstyle')  # Windows\n",
                "\n",
                "import plotly.express as px \n",
                "import plotly.graph_objects as go\n",
                "\n",
                "import seaborn as sns\n",
                "import sympy as sp\n",
                "from sympy.physics.mechanics import (dynamicsymbols, ReferenceFrame,\n",
                "                                      Particle, Point)\n",
                "from sympy.physics.vector.printing import vpprint, vlatex\n",
                "from IPython.display import display, Math, Latex\n",
                "from vessel_manoeuvring_models.substitute_dynamic_symbols import run, lambdify\n",
                "\n",
                "import pyro\n",
                "\n",
                "import sklearn\n",
                "import pykalman\n",
                "from statsmodels.sandbox.regression.predstd import wls_prediction_std\n",
                "import statsmodels.api as sm\n",
                "\n",
                "from scipy.integrate import solve_ivp\n",
                "\n",
                "## Local packages:\n",
                "from vessel_manoeuvring_models.data import mdl\n",
                "\n",
                "from vessel_manoeuvring_models.symbols import *\n",
                "from vessel_manoeuvring_models.parameters import *\n",
                "import vessel_manoeuvring_models.symbols as symbols\n",
                "from vessel_manoeuvring_models import prime_system\n",
                "from vessel_manoeuvring_models.models import regression\n",
                "from vessel_manoeuvring_models.visualization.regression import show_pred\n",
                "from vessel_manoeuvring_models.visualization.plot import track_plot\n",
                "\n",
                "## Load models:\n",
                "# (Uncomment these for faster loading):\n",
                "import vessel_manoeuvring_models.models.vmm_martin  as vmm \n",
                "from vessel_manoeuvring_models.models.vmm import ModelSimulator\n",
                "from example_ship2 import ship_parameters, df_parameters\n",
                "\n",
                "from vessel_manoeuvring_models.vct_scaling import scale_force_to_model_scale, scale_moment_to_model_scale\n",
                "\n",
                "if os.name == 'nt':\n",
                "    plt.style.use('../docs/book/book.mplstyle')  # Windows\n",
                "    \n",
                "from vessel_manoeuvring_models.visualization.plot import track_plot, plot, captive_plot"
            ]
        },
        {
            "cell_type": "code",
            "execution_count": null,
            "id": "36f48cff-6f35-405a-96ae-eba2d2f8ef28",
            "metadata": {},
            "outputs": [],
            "source": [
                "df_VCT = pd.read_csv('../data/external/vct.csv', index_col=0)\n",
                "df_VCT.head()"
            ]
        },
        {
            "cell_type": "code",
            "execution_count": null,
            "id": "0dc92ab3-8e4f-497e-b3f2-0b82bebe8430",
            "metadata": {},
            "outputs": [],
            "source": [
                "df_captive = pd.read_csv('../data/external/captive.csv', sep=';', index_col=0)\n",
                "df_captive.head()"
            ]
        },
        {
            "cell_type": "code",
            "execution_count": null,
            "id": "e0786b6d-1811-4262-994e-e220e9f14708",
            "metadata": {},
            "outputs": [],
            "source": [
                "data_scaled = df_VCT.copy()\n",
                "ship_data = ship_parameters\n",
                "ship_data['scale_factor'] = scale_factor = 41.2\n",
                "keys_forces = [\"fx\", \"fy\", \"fz\"]\n",
                "scale_factor = ship_data[\"scale_factor\"]\n",
                "forces = data_scaled[keys_forces]\n",
                "data_scaled[keys_forces] = scale_force_to_model_scale(\n",
                "    forces=forces, scale_factor=scale_factor, **data_scaled\n",
                ")\n",
                "\n",
                "\n",
                "keys_moments = [\"mx\", \"my\", \"mz\"]\n",
                "data_scaled[keys_moments] = scale_moment_to_model_scale(\n",
                "    data_scaled[keys_moments], scale_factor=scale_factor, **data_scaled\n",
                ")\n",
                "\n",
                "data_scaled[['u','v','V']]/=np.sqrt(scale_factor)"
            ]
        },
        {
            "cell_type": "code",
            "execution_count": null,
            "id": "58c52210-0df2-4342-8394-e6a41055c478",
            "metadata": {},
            "outputs": [],
            "source": [
                "df_captive_scaled = df_captive.copy()\n",
                "\n",
                "keys_forces = [\"fx\", \"fy\"]\n",
                "\n",
                "alpha = float(df_captive_scaled.iloc[0]['ScaleFactor'])\n",
                "\n",
                "df_captive_scaled[keys_forces] = df_captive_scaled[keys_forces]*(alpha**3)/(scale_factor**3)\n",
                "\n",
                "keys_moments = [\"mx\", \"mz\"]\n",
                "df_captive_scaled[keys_moments] = df_captive_scaled[keys_moments]*(alpha**4)/(scale_factor**4)\n",
                "\n",
                "\n",
                "df_captive_scaled[['u','v','V']]*=np.sqrt(alpha)/np.sqrt(scale_factor)\n",
                "\n",
                "\n",
                "df_captive_scaled['item'] = 'captive'\n"
            ]
        },
        {
            "cell_type": "code",
            "execution_count": null,
            "id": "b58270af-0f90-4e27-8e51-074102a26cc1",
            "metadata": {},
            "outputs": [],
            "source": [
                "df_captive_scaled['V'].max()"
            ]
        },
        {
            "cell_type": "code",
            "execution_count": null,
            "id": "1e614b90-cfce-4b7d-bfcd-0abf83b404ee",
            "metadata": {},
            "outputs": [],
            "source": [
                "data_scaled['V'].max()"
            ]
        },
        {
            "cell_type": "code",
            "execution_count": null,
            "id": "61588f7f-247d-4fad-a61d-ffa3a43aef7d",
            "metadata": {},
            "outputs": [],
            "source": [
                "data_scaled['model_name'].unique()"
            ]
        },
        {
            "cell_type": "code",
            "execution_count": null,
            "id": "7c5fb4f8-f262-4797-8311-1f862fb97b20",
            "metadata": {},
            "outputs": [],
            "source": [
                "models = data_scaled.groupby('model_name')\n",
                "V2_5_MDL_modelScale = models.get_group('V2_5_MDL_modelScale')\n",
                "V2_5_R1 = models.get_group('V2_5_R2')\n",
                "\n"
            ]
        },
        {
            "cell_type": "code",
            "execution_count": null,
            "id": "fc213d4e-7d07-4916-8921-684d037419b6",
            "metadata": {},
            "outputs": [],
            "source": [
                "data = V2_5_MDL_modelScale.copy()\n",
                "data = data.append(V2_5_R1)\n",
                "data['item'] = data['model_name']\n",
                "data = data.append(df_captive_scaled)"
            ]
        },
        {
            "cell_type": "code",
            "execution_count": null,
            "id": "c2b8bff2-5461-4d16-b5a9-08312a2b6de1",
            "metadata": {},
            "outputs": [],
            "source": [
                "import plotly.express as px\n",
                "from vessel_manoeuvring_models.visualization.plot import test_type_xplot\n",
                "\n",
                "data['V_round'] = data['V'].round(1)\n",
                "V = data.groupby(by='V_round')['item'].count().sort_values().index[-1]\n",
                "data_V = data.groupby(by='V_round').get_group(V).copy()\n",
                "\n",
                "data_V[\"v*r\"] = data_V[\"v\"] * data_V[\"r\"]\n",
                "data_V[\"beta\"] = -np.arctan2(data_V[\"v\"], data_V[\"u\"])\n",
                "\n",
                "key = 'mz'\n",
                "for test_type, df in data_V.groupby(by='test type'):\n",
                "    \n",
                "    x = test_type_xplot.get(test_type, 'delta')\n",
                "    \n",
                "    fig = px.line(df.sort_values(by=x), x=x, y=key, color=\"item\", width=1200, height=300, title=test_type)\n",
                "    \n",
                "    fig.update_layout(yaxis_range=[data_V[key].min(),data_V[key].max()])\n",
                "    \n",
                "    fig.show()"
            ]
        },
        {
            "cell_type": "code",
            "execution_count": null,
            "id": "1efee7fb-7e9c-408a-b3de-f03e1ab8f3a6",
            "metadata": {},
            "outputs": [],
            "source": [
                "data['test type'].unique()"
            ]
        },
        {
            "cell_type": "code",
            "execution_count": null,
            "id": "904e6e7a-85db-44ee-855b-ce81f7e546a0",
            "metadata": {},
            "outputs": [],
            "source": [
                "df_resistance = data.groupby(by='test type').get_group('resistance')\n",
                "x = 'V'\n",
                "key = 'fx'\n",
                "fig = px.line(df_resistance.sort_values(by=x), x=x, y=key, color=\"item\", width=1200, height=300, title=test_type)\n",
                "   \n",
                "    \n",
                "fig.show()"
            ]
        },
        {
            "cell_type": "code",
            "execution_count": null,
            "id": "dfa7a772-c05c-491f-8ef4-a08a9b6e7d52",
            "metadata": {},
            "outputs": [],
            "source": []
        }
    ],
    "metadata": {
        "kernelspec": {
            "display_name": "Python 3",
            "language": "python",
            "name": "python3"
        },
        "language_info": {
            "codemirror_mode": {
                "name": "ipython",
                "version": 3
            },
            "file_extension": ".py",
            "mimetype": "text/x-python",
            "name": "python",
            "nbconvert_exporter": "python",
            "pygments_lexer": "ipython3",
            "version": "3.9.5"
        }
    },
    "nbformat": 4,
    "nbformat_minor": 5
}