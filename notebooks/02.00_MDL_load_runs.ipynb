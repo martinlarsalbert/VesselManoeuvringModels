{
    "cells": [
        {
            "cell_type": "markdown",
            "id": "solid-resolution",
            "metadata": {},
            "source": [
                "# Load MDL runs"
            ]
        },
        {
            "cell_type": "code",
            "execution_count": 1,
            "id": "social-plant",
            "metadata": {},
            "outputs": [
                {
                    "name": "stderr",
                    "output_type": "stream",
                    "text": [
                        "Duplicate key in file WindowsPath('C:/Users/maa/.matplotlib/stylelib/paper.mplstyle'), line 462 ('figure.figsize   : 5, 3   ## figure size in inches')\n",
                        "Duplicate key in file WindowsPath('C:/Users/maa/.matplotlib/stylelib/paper.mplstyle'), line 463 ('figure.dpi       : 100        ## figure dots per inch')\n"
                    ]
                }
            ],
            "source": [
                "%load_ext autoreload\n",
                "%autoreload 2\n",
                "\n",
                "\n",
                "import pandas as pd\n",
                "pd.options.display.max_rows = 999\n",
                "pd.options.display.max_columns = 999\n",
                "pd.set_option(\"display.max_columns\", None)\n",
                "\n",
                "import numpy as np\n",
                "import os\n",
                "import matplotlib.pyplot as plt\n",
                "\n",
                "#import data\n",
                "from mdldb.mdl_db import MDLDataBase\n",
                "from mdldb.tables import Base, Model, LoadingCondition, Project\n",
                "from mdldb.run import Run\n",
                "from mdldb.authenticate import authenticate"
            ]
        },
        {
            "cell_type": "code",
            "execution_count": 2,
            "id": "sophisticated-insulin",
            "metadata": {},
            "outputs": [],
            "source": [
                "import sys\n",
                "sys.path.append('../vessel_manoeuvring_models')"
            ]
        },
        {
            "cell_type": "code",
            "execution_count": 3,
            "id": "sublime-playback",
            "metadata": {},
            "outputs": [],
            "source": [
                "#from seaman.simulations.simulation_twin import TwinSimFakeProp,TwinSimFakePropRud\n",
                "#import twin_simulations\n",
                "#from seaman.helpers import ShipDict\n",
                "#from seaman.helpers import subsystem_tree as st\n",
                "#from seaman.helpers import subsystem_tree_visualization as st_viz\n",
                "from sklearn.metrics import r2_score\n",
                "from mlflow_utils import log_mlflow\n",
                "import vessel_manoeuvring_models.data.mdl as mdl \n",
                "#from twin_simulations import preprocess_run"
            ]
        },
        {
            "cell_type": "code",
            "execution_count": 4,
            "id": "robust-privilege",
            "metadata": {},
            "outputs": [],
            "source": [
                "try:\n",
                "    import plotly.express as px\n",
                "except:\n",
                "    !jupyter labextension install jupyterlab-plotly@4.14.3\n",
                "    \n",
                "    \n",
                "import plotly.graph_objects as go"
            ]
        },
        {
            "cell_type": "code",
            "execution_count": 5,
            "id": "eastern-huntington",
            "metadata": {},
            "outputs": [],
            "source": [
                "authenticate(dotenv_path='../.env')\n",
                "db = MDLDataBase()"
            ]
        },
        {
            "cell_type": "markdown",
            "id": "million-regression",
            "metadata": {},
            "source": [
                "## Parameters"
            ]
        },
        {
            "cell_type": "code",
            "execution_count": 6,
            "id": "prostate-literature",
            "metadata": {
                "tags": [
                    "parameters"
                ]
            },
            "outputs": [],
            "source": [
                "id = 22610\n",
                "ship_file_path = r'../inputs/V2_5_R11_MDL.ship'\n",
                "experiment = 'twin simulation'\n",
                "iteration = 1\n",
                "notebook = 'notebook'"
            ]
        },
        {
            "cell_type": "code",
            "execution_count": 7,
            "id": "referenced-warrant",
            "metadata": {},
            "outputs": [],
            "source": [
                "run_params = {'experiment': experiment,\n",
                "              'iteration': iteration,\n",
                "              'notebook':notebook,\n",
                "    }"
            ]
        },
        {
            "cell_type": "code",
            "execution_count": 8,
            "id": "occupational-mills",
            "metadata": {},
            "outputs": [
                {
                    "name": "stderr",
                    "output_type": "stream",
                    "text": [
                        "<ipython-input-8-bc6bb137b634>:1: SAWarning: relationship 'Ship.projects' will copy column ships.name to column association.ship_name, which conflicts with relationship(s): 'Project.ships' (copies ships.name to association.ship_name). If this is not the intention, consider if these relationships should be linked with back_populates, or if viewonly=True should be applied to one or more if they are read-only. For the less common case that foreign key constraints are partially overlapping, the orm.foreign() annotation can be used to isolate the columns that should be written towards.   The 'overlaps' parameter may be used to remove this warning.\n",
                        "  run = db.session.query(Run).get(id)\n",
                        "<ipython-input-8-bc6bb137b634>:1: SAWarning: relationship 'Ship.projects' will copy column projects.project_number to column association.project_number, which conflicts with relationship(s): 'Project.ships' (copies projects.project_number to association.project_number). If this is not the intention, consider if these relationships should be linked with back_populates, or if viewonly=True should be applied to one or more if they are read-only. For the less common case that foreign key constraints are partially overlapping, the orm.foreign() annotation can be used to isolate the columns that should be written towards.   The 'overlaps' parameter may be used to remove this warning.\n",
                        "  run = db.session.query(Run).get(id)\n"
                    ]
                },
                {
                    "data": {
                        "text/plain": [
                            "<AxesSubplot:title={'center':'Track plot'}, xlabel='y0 [m]', ylabel='x0 [m]'>"
                        ]
                    },
                    "execution_count": 8,
                    "metadata": {},
                    "output_type": "execute_result"
                },
                {
                    "data": {
                        "image/png": "[encoded data removed]",
                        "text/plain": [
                            "<Figure size 432x288 with 1 Axes>"
                        ]
                    },
                    "metadata": {
                        "needs_background": "light"
                    },
                    "output_type": "display_data"
                }
            ],
            "source": [
                "run = db.session.query(Run).get(id)\n",
                "## Missing in db:\n",
                "run.xm = 0\n",
                "run.ym = 0\n",
                "run.zm = -0.214\n",
                "\n",
                "run.load()\n",
                "run.track_plot()"
            ]
        },
        {
            "cell_type": "code",
            "execution_count": 9,
            "id": "vocal-venice",
            "metadata": {},
            "outputs": [],
            "source": [
                "meta_data = {\n",
                "    'scale_factor' : run.model.scale_factor,\n",
                "    'lcg' : run.loading_condition.lcg,\n",
                "    'kg' : run.loading_condition.kg,\n",
                "    'xm' : run.xm,\n",
                "    'ym' : run.ym,\n",
                "    'zm' : run.zm,\n",
                "}\n",
                "meta_data = pd.Series(meta_data)\n",
                "df,units = mdl.preprocess_run(df=run.df, units=run.units, meta_data=meta_data)"
            ]
        },
        {
            "cell_type": "code",
            "execution_count": 10,
            "id": "caroline-airfare",
            "metadata": {},
            "outputs": [
                {
                    "data": {
                        "text/plain": [
                            "['Arr/Ind/Arr',\n",
                            " 'Arr/Ind/Fri',\n",
                            " 'Fan/Aft/Angle',\n",
                            " 'Fan/Aft/AngleOrder',\n",
                            " 'Fan/Aft/Fx',\n",
                            " 'Fan/Aft/FxOrder',\n",
                            " 'Fan/Aft/Rpm',\n",
                            " 'Fan/Aft/RpmOrder',\n",
                            " 'Fan/ForceFactor',\n",
                            " 'Fan/Fore/Angle',\n",
                            " 'Fan/Fore/AngleOrder',\n",
                            " 'Fan/Fore/Fx',\n",
                            " 'Fan/Fore/FxOrder',\n",
                            " 'Fan/Fore/RpmOrder',\n",
                            " 'Hull/Acc/X1',\n",
                            " 'Hull/Acc/Y1',\n",
                            " 'Hull/Acc/Y2',\n",
                            " 'Hull/Acc/Z1',\n",
                            " 'Hull/Acc/Z2',\n",
                            " 'Hull/Acc/Z3',\n",
                            " 'Prop/PS/Rpm',\n",
                            " 'Prop/PS/Thrust',\n",
                            " 'Prop/PS/Torque',\n",
                            " 'Prop/SB/Rpm',\n",
                            " 'Prop/SB/Thrust',\n",
                            " 'Prop/SB/Torque',\n",
                            " 'delta',\n",
                            " 'Rudder/MaxAngle',\n",
                            " 'Rudder/Rate',\n",
                            " 'Wind/GWA',\n",
                            " 'lab/WaveHeight',\n",
                            " 'roll',\n",
                            " 'pitch',\n",
                            " 'psi',\n",
                            " 'x0',\n",
                            " 'y0',\n",
                            " 'z0']"
                        ]
                    },
                    "execution_count": 10,
                    "metadata": {},
                    "output_type": "execute_result"
                }
            ],
            "source": [
                "columns= list(df.columns)\n",
                "columns_selected = list(columns)\n",
                "excludes = ['AP/','Carriage/','Filter/','MOPS/','MA/','KB/','ModelPos/','x_origo','y_origo','z_origo']\n",
                "for exclude in excludes:\n",
                "    columns_selected = [key for key in columns_selected if not exclude in key ]\n",
                "columns_selected"
            ]
        },
        {
            "cell_type": "code",
            "execution_count": 11,
            "id": "inside-friendly",
            "metadata": {},
            "outputs": [],
            "source": [
                "mask = df['Arr/Ind/Fri'] == 1\n",
                "df_cut = df.loc[mask].copy()"
            ]
        },
        {
            "cell_type": "code",
            "execution_count": 12,
            "id": "steady-brake",
            "metadata": {},
            "outputs": [],
            "source": [
                "df_save = df_cut[columns_selected].copy()\n",
                "save_name = f'{id}.csv'\n",
                "save_path = os.path.join('../data/raw',save_name)\n",
                "df_save.to_csv(save_path)"
            ]
        },
        {
            "cell_type": "markdown",
            "id": "announced-liability",
            "metadata": {},
            "source": [
                "## Now do this for all runs"
            ]
        },
        {
            "cell_type": "code",
            "execution_count": 13,
            "id": "confused-looking",
            "metadata": {},
            "outputs": [],
            "source": [
                "def process_run(id):\n",
                "    run = db.session.query(Run).get(id)\n",
                "    ## Missing in db:\n",
                "    run.xm = 0\n",
                "    run.ym = 0\n",
                "    run.zm = -0.214\n",
                "    \n",
                "    run.load()\n",
                "    \n",
                "    meta_data = {\n",
                "    'scale_factor' : run.model.scale_factor,\n",
                "    'lcg' : run.loading_condition.lcg,\n",
                "    'kg' : run.loading_condition.kg,\n",
                "    'xm' : run.xm,\n",
                "    'ym' : run.ym,\n",
                "    'zm' : run.zm,\n",
                "    }\n",
                "    meta_data = pd.Series(meta_data)\n",
                "    df,units = mdl.preprocess_run(df=run.df, units=run.units, meta_data=meta_data)\n",
                "    \n",
                "    columns= list(df.columns)\n",
                "    columns_selected = list(columns)\n",
                "    excludes = ['AP/','Carriage/','Filter/','MOPS/','MA/','KB/','ModelPos/','x_origo','y_origo','z_origo']\n",
                "    for exclude in excludes:\n",
                "        columns_selected = [key for key in columns_selected if not exclude in key ]\n",
                "        \n",
                "    ## cut:\n",
                "    mask = df['Arr/Ind/Fri'] == 1\n",
                "    df_cut = df.loc[mask].copy()\n",
                "    \n",
                "    if len(df_cut)==0:\n",
                "        raise ValueError('Empty run')\n",
                "        \n",
                "    df_save = df_cut[columns_selected].copy()\n",
                "    save_name = f'{id}.csv'\n",
                "    save_path = os.path.join('../data/raw',save_name)\n",
                "    df_save.to_csv(save_path)\n",
                "    \n",
                "    return units\n",
                "    "
            ]
        },
        {
            "cell_type": "code",
            "execution_count": 14,
            "id": "documentary-jesus",
            "metadata": {},
            "outputs": [],
            "source": [
                "df_select = pd.read_csv('../data/interim/run_selection.csv', index_col=0)"
            ]
        },
        {
            "cell_type": "code",
            "execution_count": 15,
            "id": "incorporated-pierre",
            "metadata": {},
            "outputs": [
                {
                    "name": "stdout",
                    "output_type": "stream",
                    "text": [
                        "process:22605\n",
                        "process:22606\n",
                        "process:22607\n",
                        "process:22608\n",
                        "process:22609\n",
                        "process:22610\n",
                        "process:22611\n",
                        "process:22612\n",
                        "process:22613\n",
                        "process:22614\n",
                        "process:22615\n",
                        "process:22616\n",
                        "process:22631\n",
                        "process:22632\n",
                        "process:22633\n",
                        "process:22634\n",
                        "process:22635\n",
                        "process:22636\n",
                        "process:22637\n",
                        "process:22638\n",
                        "process:22639\n",
                        "process:22762\n",
                        "process:22763\n",
                        "process:22764\n",
                        "process:22765\n",
                        "process:22766\n",
                        "skipping empy run...\n",
                        "process:22767\n",
                        "skipping empy run...\n",
                        "process:22768\n",
                        "process:22769\n",
                        "process:22770\n",
                        "process:22771\n",
                        "process:22772\n",
                        "process:22773\n",
                        "process:22774\n",
                        "process:22775\n",
                        "process:22776\n",
                        "process:22777\n",
                        "process:22778\n",
                        "process:22779\n",
                        "process:22780\n",
                        "process:22781\n",
                        "process:22782\n",
                        "process:22813\n",
                        "process:22814\n",
                        "process:22815\n",
                        "process:22816\n",
                        "process:22817\n",
                        "process:22818\n",
                        "process:22819\n",
                        "skipping empy run...\n",
                        "process:22820\n",
                        "skipping empy run...\n",
                        "process:22821\n",
                        "skipping empy run...\n",
                        "process:22822\n",
                        "process:22823\n",
                        "process:22824\n",
                        "process:22825\n",
                        "process:22826\n",
                        "process:22827\n",
                        "process:22828\n",
                        "process:22829\n",
                        "process:22830\n",
                        "process:22831\n",
                        "process:22832\n",
                        "process:22833\n",
                        "process:22834\n",
                        "process:22835\n",
                        "process:22836\n",
                        "process:22837\n",
                        "process:22838\n",
                        "process:22839\n",
                        "process:22845\n",
                        "process:22846\n",
                        "process:22847\n",
                        "process:22848\n",
                        "process:22849\n",
                        "process:22850\n",
                        "process:22851\n",
                        "process:22852\n",
                        "process:22853\n",
                        "process:22854\n",
                        "process:22855\n",
                        "process:22856\n",
                        "process:22857\n",
                        "process:22858\n",
                        "process:22859\n",
                        "process:22860\n",
                        "process:22861\n"
                    ]
                }
            ],
            "source": [
                "units_all = {}\n",
                "df_runs = pd.DataFrame()\n",
                "\n",
                "for id, row in df_select.iterrows():\n",
                "    \n",
                "    print(f'process:{id}')\n",
                "    try:\n",
                "        units = process_run(id=id)\n",
                "    except ValueError:\n",
                "        print('skipping empy run...')\n",
                "        continue\n",
                "    \n",
                "    df_runs = df_runs.append(row)\n",
                "    units_all.update(units)\n",
                "    "
            ]
        },
        {
            "cell_type": "code",
            "execution_count": 16,
            "id": "opposite-strike",
            "metadata": {},
            "outputs": [],
            "source": [
                "df_runs.to_csv('../data/raw/runs.csv')"
            ]
        },
        {
            "cell_type": "code",
            "execution_count": 17,
            "id": "young-telephone",
            "metadata": {},
            "outputs": [],
            "source": [
                "units_path = '../data/raw/units.csv'\n",
                "units = pd.read_csv(units_path, index_col=0)['0']\n",
                "units_all = pd.Series(units_all)\n",
                "units_all = units_all.combine_first(units)\n",
                "units_all.to_csv(units_path)"
            ]
        }
    ],
    "metadata": {
        "kernelspec": {
            "display_name": "Python 3",
            "language": "python",
            "name": "python3"
        },
        "language_info": {
            "codemirror_mode": {
                "name": "ipython",
                "version": 3
            },
            "file_extension": ".py",
            "mimetype": "text/x-python",
            "name": "python",
            "nbconvert_exporter": "python",
            "pygments_lexer": "ipython3",
            "version": "3.9.5"
        }
    },
    "nbformat": 4,
    "nbformat_minor": 5
}