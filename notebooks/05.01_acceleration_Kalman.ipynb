{
 "cells": [
  {
   "cell_type": "markdown",
   "metadata": {},
   "source": [
    "# Determine acceleration with Kalman filter for all tests"
   ]
  },
  {
   "cell_type": "markdown",
   "metadata": {},
   "source": [
    "# Purpose\n",
    "Yaw rate, Yaw acceleration and Yaw jerk are missing from the model test. These signals can be estimated with Kalman filters. This will be done for all runs in this project."
   ]
  },
  {
   "cell_type": "markdown",
   "metadata": {},
   "source": [
    "# Methodology\n",
    "Loop through all tests and determine the \"hidden states\" with Kalman filters."
   ]
  },
  {
   "cell_type": "markdown",
   "metadata": {},
   "source": [
    "# Setup"
   ]
  },
  {
   "cell_type": "code",
   "execution_count": null,
   "metadata": {},
   "outputs": [],
   "source": [
    "# %load imports.py\n",
    "%matplotlib inline\n",
    "%load_ext autoreload\n",
    "%autoreload 2\n",
    "\n",
    "## External packages:\n",
    "import pandas as pd\n",
    "pd.options.display.max_rows = 999\n",
    "pd.options.display.max_columns = 999\n",
    "pd.set_option(\"display.max_columns\", None)\n",
    "\n",
    "import numpy as np\n",
    "import os\n",
    "import matplotlib.pyplot as plt\n",
    "\n",
    "import plotly.express as px \n",
    "import plotly.graph_objects as go\n",
    "\n",
    "import seaborn as sns\n",
    "import sympy as sp\n",
    "from sympy.physics.mechanics import (dynamicsymbols, ReferenceFrame,\n",
    "                                      Particle, Point)\n",
    "from sympy.physics.vector.printing import vpprint, vlatex\n",
    "from IPython.display import display, Math, Latex\n",
    "from vessel_manoeuvring_models.substitute_dynamic_symbols import run, lambdify\n",
    "\n",
    "import pyro\n",
    "\n",
    "import sklearn\n",
    "import pykalman\n",
    "from statsmodels.sandbox.regression.predstd import wls_prediction_std\n",
    "import statsmodels.api as sm\n",
    "\n",
    "from scipy.integrate import solve_ivp\n",
    "import seaborn as sns\n",
    "\n",
    "## Local packages:\n",
    "from vessel_manoeuvring_models.data import mdl\n",
    "\n",
    "\n"
   ]
  },
  {
   "cell_type": "code",
   "execution_count": null,
   "metadata": {},
   "outputs": [],
   "source": [
    "from vessel_manoeuvring_models.data import kalman_filter"
   ]
  },
  {
   "cell_type": "code",
   "execution_count": null,
   "metadata": {},
   "outputs": [],
   "source": [
    "id=22606\n",
    "df, units, meta_data = mdl.load(id=id)"
   ]
  },
  {
   "cell_type": "code",
   "execution_count": null,
   "metadata": {},
   "outputs": [],
   "source": [
    "df.head()"
   ]
  },
  {
   "cell_type": "code",
   "execution_count": null,
   "metadata": {},
   "outputs": [],
   "source": [
    "df1 = kalman_filter.yaw(df=df, observation_covariance=0.5)\n",
    "df2 = kalman_filter.yaw(df=df, observation_covariance=1000)\n",
    "df3 = kalman_filter.yaw(df=df, observation_covariance=1000000)\n"
   ]
  },
  {
   "cell_type": "code",
   "execution_count": null,
   "metadata": {},
   "outputs": [],
   "source": [
    "epsilon1 = df1['psi']-df1['psi_filtered']\n",
    "epsilon2 = df2['psi']-df2['psi_filtered']\n",
    "epsilon3 = df3['psi']-df3['psi_filtered']\n",
    "\n",
    "fig,ax=plt.subplots()\n",
    "ax.plot(df.index,  epsilon1  ,label=r'$\\epsilon$', alpha=0.5, zorder=3)\n",
    "ax.plot(df.index,  epsilon2 ,label=r'$\\epsilon2$', alpha=0.5, zorder=2)\n",
    "ax.plot(df.index,  epsilon3 ,label=r'$\\epsilon3$', alpha=0.5, zorder=1)\n",
    "ax.legend()\n",
    "\n",
    "sns.displot(epsilon1)\n",
    "sns.displot(epsilon2)\n",
    "sns.displot(epsilon3)"
   ]
  },
  {
   "cell_type": "code",
   "execution_count": null,
   "metadata": {},
   "outputs": [],
   "source": [
    "import scipy.stats as stats\n",
    "fig,ax=plt.subplots()\n",
    "stats.probplot(epsilon1, dist=\"norm\", plot=ax);\n",
    "\n",
    "fig,ax=plt.subplots()\n",
    "stats.probplot(epsilon2, dist=\"norm\", plot=ax);\n",
    "\n",
    "fig,ax=plt.subplots()\n",
    "stats.probplot(epsilon3, dist=\"norm\", plot=ax);\n",
    "\n"
   ]
  },
  {
   "cell_type": "code",
   "execution_count": null,
   "metadata": {},
   "outputs": [],
   "source": [
    "df = kalman_filter.filter_and_transform(df=df)"
   ]
  },
  {
   "cell_type": "code",
   "execution_count": null,
   "metadata": {},
   "outputs": [],
   "source": [
    "fig,ax=plt.subplots()\n",
    "df.plot(y='u', ax=ax)\n",
    "df.plot(y='u_gradient', alpha=0.5, ax=ax)\n",
    "\n",
    "fig,ax=plt.subplots()\n",
    "df.plot(y='u1d', ax=ax)\n",
    "df.plot(y='u1d_gradient', alpha=0.5, ax=ax)\n",
    "\n",
    "fig,ax=plt.subplots()\n",
    "df.plot(y='u1d', alpha=0.5, ax=ax)"
   ]
  },
  {
   "cell_type": "code",
   "execution_count": null,
   "metadata": {},
   "outputs": [],
   "source": [
    "df_runs = pd.read_csv('../data/raw/runs.csv', index_col=0)"
   ]
  },
  {
   "cell_type": "code",
   "execution_count": null,
   "metadata": {},
   "outputs": [],
   "source": [
    "save_dir = '../data/processed/kalman'\n",
    "if not os.path.exists(save_dir):\n",
    "    os.mkdir(save_dir)\n",
    "\n",
    "for id, row in df_runs.iterrows():\n",
    "    \n",
    "    print(f'working on:{id}')\n",
    "    df = mdl.load_run(id=id)\n",
    "    df = kalman_filter.filter_and_transform(df=df)\n",
    "    \n",
    "    df.index = df.index.total_seconds()\n",
    "    save_name = f'{id}.csv'\n",
    "    save_path = os.path.join(save_dir,save_name)\n",
    "    df.to_csv(save_path)\n",
    "    "
   ]
  },
  {
   "cell_type": "code",
   "execution_count": null,
   "metadata": {},
   "outputs": [],
   "source": [
    "mask = ((~df_runs['sailing']) &\n",
    "        (\n",
    "            (df_runs['test_type'] == 'reference speed') |\n",
    "            (df_runs['test_type'] == 'rodergrundvinkel') |\n",
    "            ((df_runs['series_number'] == 5) & (df_runs['test_number'] == 1)  & (df_runs['run_number'] == 3)) |\n",
    "            ((df_runs['series_number'] == 5) & (df_runs['test_number'] == 2)  & (df_runs['run_number'] == 6)) |\n",
    "            ((df_runs['series_number'] == 5) & (df_runs['test_number'] == 3)  & (df_runs['run_number'] == 2)) |\n",
    "            ((df_runs['series_number'] == 5) & (df_runs['test_number'] == 4)  & (df_runs['run_number'] == 1)) |\n",
    "            ((df_runs['series_number'] == 5) & (df_runs['test_number'] == 5)  & (df_runs['run_number'] == 1)) \n",
    "            \n",
    "       ))\n",
    "df_runs_selected = df_runs.loc[mask].copy()"
   ]
  },
  {
   "cell_type": "code",
   "execution_count": null,
   "metadata": {},
   "outputs": [],
   "source": []
  }
 ],
 "metadata": {
  "kernelspec": {
   "display_name": "Python 3",
   "language": "python",
   "name": "python3"
  },
  "language_info": {
   "codemirror_mode": {
    "name": "ipython",
    "version": 3
   },
   "file_extension": ".py",
   "mimetype": "text/x-python",
   "name": "python",
   "nbconvert_exporter": "python",
   "pygments_lexer": "ipython3",
   "version": "3.9.5"
  },
  "toc": {
   "base_numbering": 1,
   "nav_menu": {},
   "number_sections": true,
   "sideBar": true,
   "skip_h1_title": false,
   "title_cell": "Table of Contents",
   "title_sidebar": "Contents",
   "toc_cell": false,
   "toc_position": {},
   "toc_section_display": true,
   "toc_window_display": true
  }
 },
 "nbformat": 4,
 "nbformat_minor": 4
}
