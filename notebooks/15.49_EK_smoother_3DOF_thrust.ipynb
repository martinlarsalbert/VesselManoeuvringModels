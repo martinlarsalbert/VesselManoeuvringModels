{
    "cells": [
        {
            "cell_type": "code",
            "execution_count": null,
            "id": "62d9f6a7-aac5-4501-bbd2-98648d4e6da9",
            "metadata": {},
            "outputs": [],
            "source": [
                "# %load imports.py\n",
                "## Local packages:\n",
                "\n",
                "%matplotlib inline\n",
                "%load_ext autoreload\n",
                "%autoreload 2\n",
                "%config Completer.use_jedi = False  ## (To fix autocomplete)\n",
                "\n",
                "## External packages:\n",
                "import pandas as pd\n",
                "pd.options.display.max_rows = 999\n",
                "pd.options.display.max_columns = 999\n",
                "pd.set_option(\"display.max_columns\", None)\n",
                "import numpy as np\n",
                "np.set_printoptions(linewidth=150)\n",
                "\n",
                "import numpy as np\n",
                "import os\n",
                "import matplotlib.pyplot as plt\n",
                "#if os.name == 'nt':\n",
                "#    plt.style.use('presentation.mplstyle')  # Windows\n",
                "\n",
                "import plotly.express as px \n",
                "import plotly.graph_objects as go\n",
                "\n",
                "import seaborn as sns\n",
                "import sympy as sp\n",
                "from sympy.physics.mechanics import (dynamicsymbols, ReferenceFrame,\n",
                "                                      Particle, Point)\n",
                "from sympy.physics.vector.printing import vpprint, vlatex\n",
                "from IPython.display import display, Math, Latex\n",
                "from vessel_manoeuvring_models.substitute_dynamic_symbols import run, lambdify\n",
                "\n",
                "import pyro\n",
                "\n",
                "import sklearn\n",
                "import pykalman\n",
                "from statsmodels.sandbox.regression.predstd import wls_prediction_std\n",
                "import statsmodels.api as sm\n",
                "\n",
                "from scipy.integrate import solve_ivp\n",
                "\n",
                "## Local packages:\n",
                "from vessel_manoeuvring_models.data import mdl\n",
                "\n",
                "from vessel_manoeuvring_models.symbols import *\n",
                "from vessel_manoeuvring_models.parameters import *\n",
                "import vessel_manoeuvring_models.symbols as symbols\n",
                "from vessel_manoeuvring_models import prime_system\n",
                "from vessel_manoeuvring_models.models import regression\n",
                "from vessel_manoeuvring_models.visualization.regression import show_pred\n",
                "from vessel_manoeuvring_models.visualization.plot import track_plot\n",
                "\n",
                "## Load models:\n",
                "# (Uncomment these for faster loading):\n",
                "import vessel_manoeuvring_models.models.vmm_martin  as vmm \n",
                "from vessel_manoeuvring_models.models.vmm import ModelSimulator\n",
                "from example_ship2 import ship_parameters, df_parameters\n",
                "\n",
                "\n",
                "if os.name == 'nt':\n",
                "    plt.style.use('../docs/book/book.mplstyle')  # Windows\n",
                "    \n",
                "from vessel_manoeuvring_models.visualization.plot import track_plot, plot"
            ]
        },
        {
            "cell_type": "code",
            "execution_count": null,
            "id": "f975829c-94f4-41ee-9098-848f9d59fb2d",
            "metadata": {},
            "outputs": [],
            "source": [
                "from vessel_manoeuvring_models.extended_kalman_vmm import ExtendedKalman\n",
                "from vessel_manoeuvring_models.extended_kalman_filter import loglikelihood"
            ]
        },
        {
            "cell_type": "markdown",
            "id": "0b7dbe06-fdb1-4057-b154-125329468f55",
            "metadata": {},
            "source": [
                "## Load test"
            ]
        },
        {
            "cell_type": "code",
            "execution_count": null,
            "id": "0575d668-f691-466d-9e3f-2b350ee18acc",
            "metadata": {
                "tags": [
                    "remove-input"
                ]
            },
            "outputs": [],
            "source": [
                "id=22773\n",
                "df, units, meta_data = mdl.load(dir_path = '../data/raw', id=id)\n",
                "df.index = df.index.total_seconds()\n",
                "df.index-=df.index[0]\n",
                "df['x0']-=df.iloc[0]['x0']\n",
                "df['y0']-=df.iloc[0]['y0']\n",
                "df['psi']-=df.iloc[0]['psi']\n"
            ]
        },
        {
            "cell_type": "code",
            "execution_count": null,
            "id": "b5721044-24dd-43e6-a01d-3fdc13aaa22b",
            "metadata": {},
            "outputs": [],
            "source": [
                "fig,ax=plt.subplots()\n",
                "fig.set_size_inches(10,10)\n",
                "track_plot(df=df, lpp=meta_data.lpp, x_dataset='x0', y_dataset='y0',  psi_dataset='psi', beam=meta_data.beam, ax=ax);"
            ]
        },
        {
            "cell_type": "markdown",
            "id": "0aaee5f7-814d-450a-9895-5041b401ad68",
            "metadata": {},
            "source": [
                "## Filtering"
            ]
        },
        {
            "cell_type": "markdown",
            "id": "859c70c9-6653-419b-9685-1d5fd24c9588",
            "metadata": {},
            "source": [
                "### Lowpass filter"
            ]
        },
        {
            "cell_type": "code",
            "execution_count": null,
            "id": "82846333-2fd5-4e9b-8d65-8e244e6f7851",
            "metadata": {},
            "outputs": [],
            "source": [
                "from numpy import cos as cos\n",
                "from numpy import sin as sin\n",
                "from vessel_manoeuvring_models.data.lowpass_filter import lowpass_filter\n",
                "\n",
                "df_lowpass = df.copy()\n",
                "t = df_lowpass.index\n",
                "ts = np.mean(np.diff(t))\n",
                "fs = 1/ts\n",
                "\n",
                "position_keys = ['x0','y0','psi']\n",
                "for key in position_keys:\n",
                "    df_lowpass[key] = lowpass_filter(data=df_lowpass[key], fs=fs, cutoff=1, order=1)\n",
                "\n",
                "df_lowpass['x01d_gradient'] = x1d_ = np.gradient(df_lowpass['x0'], t)\n",
                "df_lowpass['y01d_gradient'] = y1d_ = np.gradient(df_lowpass['y0'], t)\n",
                "df_lowpass['r'] = r_ = np.gradient(df_lowpass['psi'], t)\n",
                "\n",
                "psi_ = df_lowpass['psi']\n",
                "\n",
                "df_lowpass['u'] = x1d_*cos(psi_) + y1d_*sin(psi_)\n",
                "df_lowpass['v'] = -x1d_*sin(psi_) + y1d_*cos(psi_)\n",
                "\n",
                "velocity_keys = ['u','v','r']\n",
                "for key in velocity_keys:\n",
                "    df_lowpass[key] = lowpass_filter(data=df_lowpass[key], fs=fs, cutoff=1, order=1)"
            ]
        },
        {
            "cell_type": "code",
            "execution_count": null,
            "id": "86d3a1e4-0891-4344-8b1e-62a5635505a8",
            "metadata": {},
            "outputs": [],
            "source": [
                "data = df.copy()\n",
                "data['thrust'] = data['Prop/PS/Thrust'] + data['Prop/SB/Thrust']\n",
                "\n",
                "data['u'] = df_lowpass['u']\n",
                "data['v'] = df_lowpass['v']\n",
                "data['r'] = df_lowpass['r']\n",
                "data=data.iloc[200:-100]\n",
                "data.index-=data.index[0]"
            ]
        },
        {
            "cell_type": "markdown",
            "id": "a68ad232-42d5-43c7-951e-a6d69eac86c1",
            "metadata": {},
            "source": [
                "### Extended Kalman filter"
            ]
        },
        {
            "cell_type": "code",
            "execution_count": null,
            "id": "dddfd5c5-17aa-4837-9f18-bf2f42e3bae5",
            "metadata": {},
            "outputs": [],
            "source": [
                "parameters = df_parameters[\"prime\"].copy()\n",
                "ek = ExtendedKalman(vmm=vmm, \n",
                "                    parameters=parameters, \n",
                "                    ship_parameters=ship_parameters)\n"
            ]
        },
        {
            "cell_type": "markdown",
            "id": "e5145d88-fb1f-4762-b8b5-13622e383b35",
            "metadata": {},
            "source": [
                "#### Simulate with system model"
            ]
        },
        {
            "cell_type": "code",
            "execution_count": null,
            "id": "8d7fc149-483c-4e7c-ba05-762ffd321491",
            "metadata": {},
            "outputs": [],
            "source": [
                "E = np.array([\n",
                "    [0,0,0],\n",
                "    [0,0,0],\n",
                "    [0,0,0],\n",
                "    [1,0,0],\n",
                "    [0,1,0],\n",
                "    [0,0,1],\n",
                "    ],\n",
                ")\n",
                "\n",
                "t = np.linspace(0,10,100)\n",
                "data_ = pd.DataFrame(index=t)\n",
                "data_['delta'] = 0.0\n",
                "data_['thrust'] = 20\n",
                "data_['x0'] = 0\n",
                "data_['y0'] = 0\n",
                "data_['psi'] = 0\n",
                "data_['u'] = 2\n",
                "data_['v'] = 0\n",
                "data_['r'] = 0\n",
                "\n",
                "ek.simulate(data=data, input_columns=['delta','thrust'], \n",
                "            E=E).tail()"
            ]
        },
        {
            "cell_type": "code",
            "execution_count": null,
            "id": "0fa71187-a78e-4b05-99b9-fa5f18739b41",
            "metadata": {},
            "outputs": [],
            "source": [
                "data_frames = {'data':data, 'sim':ek.df_simulation}\n",
                "\n",
                "fig,ax=plt.subplots()\n",
                "styles = {\n",
                "    'Mesurement' : {\n",
                "        'linestyle' : '',\n",
                "        'marker' : '.',\n",
                "        'ms' : 1,\n",
                "        'zorder':-10,\n",
                "    },\n",
                "    \n",
                "    'Kalman filter' : {\n",
                "        'lw' : 2,\n",
                "    },\n",
                "    \n",
                "    \n",
                "}\n",
                "\n",
                "for label,df_ in data_frames.items():\n",
                "    track_plot(\n",
                "            df=df_,\n",
                "            lpp=ship_parameters[\"L\"],\n",
                "            beam=ship_parameters[\"B\"],\n",
                "            ax=ax,\n",
                "            label=label,\n",
                "            plot_boats=True,\n",
                "            **styles.get(label,{})\n",
                "        );\n",
                "ax.legend()\n",
                "\n",
                "plot(data_frames, keys=ek.df_simulation.columns);"
            ]
        },
        {
            "cell_type": "markdown",
            "id": "733b92cf-6408-41a2-b49e-ee51ff8b1787",
            "metadata": {},
            "source": [
                "### Extended Kalman filter and RTS smoother"
            ]
        },
        {
            "cell_type": "code",
            "execution_count": null,
            "id": "db71ffb7-004d-4324-ab06-8f7daf5f5372",
            "metadata": {},
            "outputs": [],
            "source": [
                "Cd = np.array([\n",
                "    [1, 0, 0, 0, 0, 0],\n",
                "    [0, 1, 0, 0, 0, 0],\n",
                "    [0, 0, 1, 0, 0, 0],\n",
                "])\n",
                "\n",
                "E = np.array([\n",
                "    [0,0,0],\n",
                "    [0,0,0],\n",
                "    [0,0,0],\n",
                "    [1,0,0],\n",
                "    [0,1,0],\n",
                "    [0,0,1],\n",
                "    ],\n",
                ")\n",
                "\n",
                "P_prd = np.diag([0.1, 0.1, np.deg2rad(0.01), 0.01, 0.01, np.deg2rad(0.01)])\n",
                "Qd = np.diag([0.01, 0.01, np.deg2rad(0.01)])  #process variances: u,v,r\n",
                "\n",
                "error_max_pos = 0.1\n",
                "sigma_pos = error_max_pos/3\n",
                "variance_pos = sigma_pos**2\n",
                "\n",
                "error_max_psi = np.deg2rad(0.1)\n",
                "sigma_psi = error_max_psi/3\n",
                "variance_psi = sigma_psi**2\n",
                "\n",
                "Rd = np.diag([variance_pos, variance_pos, variance_psi])\n",
                "\n",
                "ek.filter(\n",
                "        data=data, P_prd=P_prd, Qd=Qd, Rd=Rd, E=E, Cd=Cd, \n",
                "        input_columns=['delta','thrust'],\n",
                "    )\n",
                "\n",
                "\n",
                "ek.smoother();"
            ]
        },
        {
            "cell_type": "code",
            "execution_count": null,
            "id": "251554e1-2f96-4243-8c99-8f60d0ef7f7d",
            "metadata": {},
            "outputs": [],
            "source": [
                "dataframes = {\n",
                "    'Mesurement' : data,\n",
                "    #'Kalman filter' : ek.df_kalman,\n",
                "    'RTS': ek.df_smooth,\n",
                "}\n",
                "\n",
                "styles = {\n",
                "    'Mesurement' : {\n",
                "        'linestyle' : '',\n",
                "        'marker' : '.',\n",
                "        'ms' : 1,\n",
                "        'zorder':-10,\n",
                "    },\n",
                "    \n",
                "    'Kalman filter' : {\n",
                "        'lw' : 2,\n",
                "    },\n",
                "    \n",
                "    \n",
                "}\n",
                "\n",
                "plot(dataframes = dataframes, \n",
                "     fig_size=(10,10), \n",
                "     styles = ['r-','g-','b-'],\n",
                "     keys=['x0','y0','psi','u','v','r','u1d','v1d','r1d']);"
            ]
        },
        {
            "cell_type": "code",
            "execution_count": null,
            "id": "49bbc050-8c52-4ca9-86d3-d1b978e43b07",
            "metadata": {},
            "outputs": [],
            "source": [
                "ek2 = ek.copy()"
            ]
        },
        {
            "cell_type": "code",
            "execution_count": null,
            "id": "cc080df0-8976-4bdb-8e3a-baf766e2e448",
            "metadata": {},
            "outputs": [],
            "source": [
                "loglikelihood(ek2.time_steps_smooth)"
            ]
        },
        {
            "cell_type": "code",
            "execution_count": null,
            "id": "32391919-b7b3-4d09-8852-09614379ebf6",
            "metadata": {},
            "outputs": [],
            "source": [
                "ek2.parameters"
            ]
        },
        {
            "cell_type": "code",
            "execution_count": null,
            "id": "ef48fc85-c434-4bb7-9729-c5eb0759f8aa",
            "metadata": {},
            "outputs": [],
            "source": [
                "def vary(parameters):\n",
                "    \n",
                "    ek2.parameters = parameters\n",
                "    \n",
                "    ek2.filter(\n",
                "        data=data, P_prd=P_prd, Qd=Qd, Rd=Rd, E=E, Cd=Cd, \n",
                "        input_columns=['delta','thrust'],\n",
                "    )\n",
                "\n",
                "\n",
                "    ek2.smoother();\n",
                "    \n",
                "    return ek2\n",
                "    "
            ]
        },
        {
            "cell_type": "code",
            "execution_count": null,
            "id": "ebb19e8e-6ceb-44b2-9031-0aa76042b35d",
            "metadata": {},
            "outputs": [],
            "source": [
                "from scipy.optimize import minimize\n",
                "\n",
                "\n",
                "def _vary(x, keys:list):\n",
                "    parameters = deepcopy(ek.parameters)\n",
                "    parameters[keys] = x\n",
                "    \n",
                "    ek_ = vary(parameters)\n",
                "    return ek_\n",
                "    \n",
                "def fun(x,keys:list):\n",
                "    ek_ = _vary(x, keys)\n",
                "    return -loglikelihood(ek_.time_steps_smooth)\n",
                "        "
            ]
        },
        {
            "cell_type": "code",
            "execution_count": null,
            "id": "cad8b415-4afc-4219-8df6-48aa21016d61",
            "metadata": {},
            "outputs": [],
            "source": [
                "from copy import deepcopy\n",
                "\n",
                "eks = []\n",
                "key = 'Ndelta'\n",
                "keys = [key]\n",
                "values = np.linspace(0.5*ek.parameters[key], 1.5*ek.parameters[key], 5)\n",
                "for value in values:\n",
                "        \n",
                "    ek_ = _vary(value, keys)\n",
                "    eks.append(ek_.copy())\n",
                "    "
            ]
        },
        {
            "cell_type": "code",
            "execution_count": null,
            "id": "3764189b-24c5-4eb2-9bdb-f59ff7655727",
            "metadata": {},
            "outputs": [],
            "source": [
                "loglikelihoods = []\n",
                "\n",
                "for ek_ in eks:\n",
                "    \n",
                "    loglikelihoods.append(loglikelihood(ek_.time_steps_smooth))\n",
                "    "
            ]
        },
        {
            "cell_type": "code",
            "execution_count": null,
            "id": "fcb94909-7db0-4766-ba2f-b8cfb04351fd",
            "metadata": {},
            "outputs": [],
            "source": [
                "fig,ax=plt.subplots()\n",
                "\n",
                "ax.plot(values, loglikelihoods)\n",
                "ax.set_xlabel(key)\n",
                "ax.set_ylabel('loglikelihood')"
            ]
        },
        {
            "cell_type": "code",
            "execution_count": null,
            "id": "ec04668f-3556-4ee4-8fc7-caa1552b7c20",
            "metadata": {},
            "outputs": [],
            "source": [
                "ek.parameters.values"
            ]
        },
        {
            "cell_type": "code",
            "execution_count": null,
            "id": "b052b59c-8378-4ce7-b774-71092dab2e2c",
            "metadata": {},
            "outputs": [],
            "source": [
                "%%time\n",
                "keys = ek.parameters.keys()\n",
                "#keys = ['Ndelta']\n",
                "\n",
                "keys = [\n",
                "'Xu',\n",
                "'Xrr',\n",
                "'Ndelta',                           \n",
                "'Nv',\n",
                "'Nr',\n",
                "]\n",
                "\n",
                "parameters = ek.parameters[keys]\n",
                "x0 = parameters.values\n",
                "bounds = [(-np.inf,0.0001) if value < 0 else (0.0001,np.inf) for value in parameters.values]\n",
                "\n",
                "#small=0.5\n",
                "#large=3\n",
                "#bounds = [(large*value,small*value) if value < 0 else (small*value,large*value) for value in parameters.values]\n",
                "\n",
                "#res = minimize(fun, x0=x0, bounds=bounds, tol=10**6, args=(keys,))\n",
                "\n",
                "res = minimize(fun, x0=x0, tol=10*4, args=(keys,), bounds=bounds, method='Nelder-Mead', options={'maxiter':200})"
            ]
        },
        {
            "cell_type": "code",
            "execution_count": null,
            "id": "91d09317-83ae-4b8d-88b1-27780d1e82f0",
            "metadata": {},
            "outputs": [],
            "source": [
                "res"
            ]
        },
        {
            "cell_type": "code",
            "execution_count": null,
            "id": "05f3ed00-55eb-4eea-b528-9eb9f0ef3fd2",
            "metadata": {},
            "outputs": [],
            "source": [
                "x0"
            ]
        },
        {
            "cell_type": "code",
            "execution_count": null,
            "id": "0c1a40c9-bfd0-4c7e-9e16-896a92b985fe",
            "metadata": {},
            "outputs": [],
            "source": [
                "ek_ = _vary(res.x, keys=keys)\n",
                "ek_.simulate(data=data, input_columns=['delta','thrust'], \n",
                "            E=E).tail()"
            ]
        },
        {
            "cell_type": "code",
            "execution_count": null,
            "id": "d44e9b08-3e33-4869-bc34-5a593e834fc8",
            "metadata": {},
            "outputs": [],
            "source": [
                "#keys = [\n",
                "#'Xu',        \n",
                "#'Xvr',          \n",
                "#'Ydelta',       \n",
                "#'Yv',           \n",
                "#'Yur',          \n",
                "#'Ndelta',                           \n",
                "#'Nv',\n",
                "#]\n",
                "#\n",
                "#x = [-0.003     , -0.006     ,  0.003     , -0.01231641,  0.00413222, -0.0015    , -0.00318395]\n",
                "#ek_ = _vary(x, keys=keys)\n",
                "#ek_.simulate(data=data, input_columns=['delta','thrust'], \n",
                "#            E=E, x0=data.iloc[0][[\"x0\", \"y0\", \"psi\", \"u\", \"v\", \"r\"]].values).tail()"
            ]
        },
        {
            "cell_type": "code",
            "execution_count": null,
            "id": "7eb3c238-1946-4b67-9a76-1f5942e1c660",
            "metadata": {},
            "outputs": [],
            "source": [
                "data_frames = {'data':data, 'sim':ek_.df_simulation}\n",
                "\n",
                "fig,ax=plt.subplots()\n",
                "styles = {\n",
                "    'Mesurement' : {\n",
                "        'linestyle' : '',\n",
                "        'marker' : '.',\n",
                "        'ms' : 1,\n",
                "        'zorder':-10,\n",
                "    },\n",
                "    \n",
                "    'Kalman filter' : {\n",
                "        'lw' : 2,\n",
                "    },\n",
                "    \n",
                "    \n",
                "}\n",
                "\n",
                "for label,df_ in data_frames.items():\n",
                "    track_plot(\n",
                "            df=df_,\n",
                "            lpp=ship_parameters[\"L\"],\n",
                "            beam=ship_parameters[\"B\"],\n",
                "            ax=ax,\n",
                "            label=label,\n",
                "            plot_boats=True,\n",
                "            **styles.get(label,{})\n",
                "        );\n",
                "ax.legend()\n",
                "\n",
                "plot(data_frames, keys=ek.df_simulation.columns);"
            ]
        },
        {
            "cell_type": "code",
            "execution_count": null,
            "id": "2a79c620-139a-4029-a574-7950ef1df2c4",
            "metadata": {},
            "outputs": [],
            "source": [
                "%%time\n",
                "input = {'delta':0,'thrust':1.0}\n",
                "psi = 0\n",
                "u = 2\n",
                "v = 0\n",
                "r = 0\n",
                "x_dot = run(\n",
                "            ek._lambda_f,\n",
                "            **ek.parameters,\n",
                "            **ek.ship_parameters,\n",
                "            **input,\n",
                "            psi=psi,\n",
                "            u=u,\n",
                "            v=v,\n",
                "            r=r,\n",
                "        )"
            ]
        },
        {
            "cell_type": "code",
            "execution_count": null,
            "id": "77b54b2c-e7e6-4231-94b8-9409a6b6253f",
            "metadata": {},
            "outputs": [],
            "source": [
                "ek._lambda_f"
            ]
        },
        {
            "cell_type": "code",
            "execution_count": null,
            "id": "e97fe411-1bca-4261-a3db-5699dddb357c",
            "metadata": {},
            "outputs": [],
            "source": [
                "parameters = deepcopy(ek.parameters)\n",
                "ship_parameters = deepcopy(ek.ship_parameters)\n",
                "\n",
                "from inspect import signature\n",
                "s = signature(ek._lambda_f)\n",
                "keys = list(set(ek.ship_parameters) & set(s.parameters.keys()))\n",
                "ship_parameters = {key:value for key,value in ek.ship_parameters.items() if key in keys}\n",
                "    \n"
            ]
        },
        {
            "cell_type": "code",
            "execution_count": null,
            "id": "3896d62e-160f-402e-a068-2d91f6659e97",
            "metadata": {},
            "outputs": [],
            "source": [
                "%%time\n",
                "\n",
                "input = {'delta':0,'thrust':1.0}\n",
                "psi = 0\n",
                "u = 2\n",
                "v = 0\n",
                "r = 0\n",
                "\n",
                "ek._lambda_f(**parameters,\n",
                "             **input,\n",
                "             **ship_parameters,\n",
                "            psi=psi,\n",
                "            u=u,\n",
                "            v=v,\n",
                "            r=r,)"
            ]
        },
        {
            "cell_type": "code",
            "execution_count": null,
            "id": "ad1b4e4f-7888-4bb2-99e8-93be784eaa72",
            "metadata": {},
            "outputs": [],
            "source": []
        },
        {
            "cell_type": "code",
            "execution_count": null,
            "id": "65935eb2-883b-4a68-8ff4-199005317613",
            "metadata": {},
            "outputs": [],
            "source": []
        },
        {
            "cell_type": "code",
            "execution_count": null,
            "id": "e443d223-06a4-4547-b809-88a3b2f66bd7",
            "metadata": {},
            "outputs": [],
            "source": []
        },
        {
            "cell_type": "code",
            "execution_count": null,
            "id": "384fa16c-84a0-43c4-b004-909b7d2fc46c",
            "metadata": {},
            "outputs": [],
            "source": [
                "Izz = 693.124396594905\n",
                "L = 5.014563106796117\n",
                "volume = 0.4410267843660858\n",
                "mass = volume*1000\n",
                "np.sqrt(Izz/mass)/L"
            ]
        },
        {
            "cell_type": "code",
            "execution_count": null,
            "id": "5b47ae6e-3de2-4d3e-8a13-6eef63297d4c",
            "metadata": {},
            "outputs": [],
            "source": [
                "206.6 = 5.014563106796117\n",
                "volume = 30843\n",
                "mass = volume*1000\n",
                "np.sqrt(Izz/mass)/L"
            ]
        },
        {
            "cell_type": "code",
            "execution_count": null,
            "id": "a19d89f5-fa7c-480b-b75e-2893fecac85d",
            "metadata": {},
            "outputs": [],
            "source": [
                "72.1/206.6"
            ]
        },
        {
            "cell_type": "code",
            "execution_count": null,
            "id": "4fc3e6a5-2fb8-425e-9580-77f4f4afd322",
            "metadata": {},
            "outputs": [],
            "source": [
                "11.11/39.0"
            ]
        },
        {
            "cell_type": "code",
            "execution_count": null,
            "id": "4dfde4b0-3bb9-485d-abda-be87cf518524",
            "metadata": {},
            "outputs": [],
            "source": []
        }
    ],
    "metadata": {
        "kernelspec": {
            "display_name": "Python 3",
            "language": "python",
            "name": "python3"
        },
        "language_info": {
            "codemirror_mode": {
                "name": "ipython",
                "version": 3
            },
            "file_extension": ".py",
            "mimetype": "text/x-python",
            "name": "python",
            "nbconvert_exporter": "python",
            "pygments_lexer": "ipython3",
            "version": "3.9.5"
        }
    },
    "nbformat": 4,
    "nbformat_minor": 5
}