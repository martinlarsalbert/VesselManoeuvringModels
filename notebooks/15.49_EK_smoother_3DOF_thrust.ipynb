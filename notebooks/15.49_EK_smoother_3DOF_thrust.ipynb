{
 "cells": [
  {
   "cell_type": "code",
   "execution_count": null,
   "id": "62d9f6a7-aac5-4501-bbd2-98648d4e6da9",
   "metadata": {},
   "outputs": [],
   "source": [
    "# %load imports.py\n",
    "## Local packages:\n",
    "\n",
    "%matplotlib inline\n",
    "%load_ext autoreload\n",
    "%autoreload 2\n",
    "%config Completer.use_jedi = False  ## (To fix autocomplete)\n",
    "\n",
    "## External packages:\n",
    "import pandas as pd\n",
    "pd.options.display.max_rows = 999\n",
    "pd.options.display.max_columns = 999\n",
    "pd.set_option(\"display.max_columns\", None)\n",
    "import numpy as np\n",
    "np.set_printoptions(linewidth=150)\n",
    "\n",
    "import numpy as np\n",
    "import os\n",
    "import matplotlib.pyplot as plt\n",
    "#if os.name == 'nt':\n",
    "#    plt.style.use('presentation.mplstyle')  # Windows\n",
    "\n",
    "import plotly.express as px \n",
    "import plotly.graph_objects as go\n",
    "\n",
    "import seaborn as sns\n",
    "import sympy as sp\n",
    "from sympy.physics.mechanics import (dynamicsymbols, ReferenceFrame,\n",
    "                                      Particle, Point)\n",
    "from sympy.physics.vector.printing import vpprint, vlatex\n",
    "from IPython.display import display, Math, Latex\n",
    "from src.substitute_dynamic_symbols import run, lambdify\n",
    "\n",
    "import pyro\n",
    "\n",
    "import sklearn\n",
    "import pykalman\n",
    "from statsmodels.sandbox.regression.predstd import wls_prediction_std\n",
    "import statsmodels.api as sm\n",
    "\n",
    "from scipy.integrate import solve_ivp\n",
    "\n",
    "## Local packages:\n",
    "from src.data import mdl\n",
    "\n",
    "from src.symbols import *\n",
    "from src.parameters import *\n",
    "import src.symbols as symbols\n",
    "from src import prime_system\n",
    "from src.models import regression\n",
    "from src.visualization.regression import show_pred\n",
    "from src.visualization.plot import track_plot\n",
    "\n",
    "## Load models:\n",
    "# (Uncomment these for faster loading):\n",
    "import src.models.vmm_martin  as vmm \n",
    "from src.models.vmm import ModelSimulator\n",
    "from example_ship2 import ship_parameters, df_parameters\n",
    "\n",
    "\n",
    "if os.name == 'nt':\n",
    "    plt.style.use('../docs/book/book.mplstyle')  # Windows\n",
    "    \n",
    "from src.visualization.plot import track_plot, plot"
   ]
  },
  {
   "cell_type": "code",
   "execution_count": null,
   "id": "f975829c-94f4-41ee-9098-848f9d59fb2d",
   "metadata": {},
   "outputs": [],
   "source": [
    "from src.extended_kalman_vmm import ExtendedKalman"
   ]
  },
  {
   "cell_type": "markdown",
   "id": "0b7dbe06-fdb1-4057-b154-125329468f55",
   "metadata": {},
   "source": [
    "## Load test"
   ]
  },
  {
   "cell_type": "code",
   "execution_count": null,
   "id": "0575d668-f691-466d-9e3f-2b350ee18acc",
   "metadata": {
    "tags": [
     "remove-input"
    ]
   },
   "outputs": [],
   "source": [
    "id=22773\n",
    "df, units, meta_data = mdl.load(dir_path = '../data/raw', id=id)\n",
    "df.index = df.index.total_seconds()\n",
    "df.index-=df.index[0]\n",
    "df['x0']-=df.iloc[0]['x0']\n",
    "df['y0']-=df.iloc[0]['y0']\n",
    "df['psi']-=df.iloc[0]['psi']\n"
   ]
  },
  {
   "cell_type": "code",
   "execution_count": null,
   "id": "b5721044-24dd-43e6-a01d-3fdc13aaa22b",
   "metadata": {},
   "outputs": [],
   "source": [
    "fig,ax=plt.subplots()\n",
    "fig.set_size_inches(10,10)\n",
    "track_plot(df=df, lpp=meta_data.lpp, x_dataset='x0', y_dataset='y0',  psi_dataset='psi', beam=meta_data.beam, ax=ax);"
   ]
  },
  {
   "cell_type": "markdown",
   "id": "0aaee5f7-814d-450a-9895-5041b401ad68",
   "metadata": {},
   "source": [
    "## Filtering"
   ]
  },
  {
   "cell_type": "markdown",
   "id": "859c70c9-6653-419b-9685-1d5fd24c9588",
   "metadata": {},
   "source": [
    "### Lowpass filter"
   ]
  },
  {
   "cell_type": "code",
   "execution_count": null,
   "id": "82846333-2fd5-4e9b-8d65-8e244e6f7851",
   "metadata": {},
   "outputs": [],
   "source": [
    "from numpy import cos as cos\n",
    "from numpy import sin as sin\n",
    "from src.data.lowpass_filter import lowpass_filter\n",
    "\n",
    "df_lowpass = df.copy()\n",
    "t = df_lowpass.index\n",
    "ts = np.mean(np.diff(t))\n",
    "fs = 1/ts\n",
    "\n",
    "position_keys = ['x0','y0','psi']\n",
    "for key in position_keys:\n",
    "    df_lowpass[key] = lowpass_filter(data=df_lowpass[key], fs=fs, cutoff=1, order=1)\n",
    "\n",
    "df_lowpass['x01d_gradient'] = x1d_ = np.gradient(df_lowpass['x0'], t)\n",
    "df_lowpass['y01d_gradient'] = y1d_ = np.gradient(df_lowpass['y0'], t)\n",
    "df_lowpass['r'] = r_ = np.gradient(df_lowpass['psi'], t)\n",
    "\n",
    "psi_ = df_lowpass['psi']\n",
    "\n",
    "df_lowpass['u'] = x1d_*cos(psi_) + y1d_*sin(psi_)\n",
    "df_lowpass['v'] = -x1d_*sin(psi_) + y1d_*cos(psi_)\n",
    "\n",
    "velocity_keys = ['u','v','r']\n",
    "for key in velocity_keys:\n",
    "    df_lowpass[key] = lowpass_filter(data=df_lowpass[key], fs=fs, cutoff=1, order=1)"
   ]
  },
  {
   "cell_type": "code",
   "execution_count": null,
   "id": "86d3a1e4-0891-4344-8b1e-62a5635505a8",
   "metadata": {},
   "outputs": [],
   "source": [
    "data = df.copy()\n",
    "data['thrust'] = data['Prop/PS/Thrust'] + data['Prop/SB/Thrust']\n",
    "\n",
    "data['u'] = df_lowpass['u']\n",
    "data['v'] = df_lowpass['v']\n",
    "data['r'] = df_lowpass['r']\n",
    "data=data.iloc[200:-100]\n",
    "data.index-=data.index[0]"
   ]
  },
  {
   "cell_type": "markdown",
   "id": "a68ad232-42d5-43c7-951e-a6d69eac86c1",
   "metadata": {},
   "source": [
    "### Extended Kalman filter"
   ]
  },
  {
   "cell_type": "code",
   "execution_count": null,
   "id": "dddfd5c5-17aa-4837-9f18-bf2f42e3bae5",
   "metadata": {},
   "outputs": [],
   "source": [
    "parameters = df_parameters[\"prime\"].copy()\n",
    "ek = ExtendedKalman(vmm=vmm, \n",
    "                    parameters=parameters, \n",
    "                    ship_parameters=ship_parameters)\n"
   ]
  },
  {
   "cell_type": "markdown",
   "id": "e5145d88-fb1f-4762-b8b5-13622e383b35",
   "metadata": {},
   "source": [
    "#### Simulate with system model"
   ]
  },
  {
   "cell_type": "code",
   "execution_count": null,
   "id": "8d7fc149-483c-4e7c-ba05-762ffd321491",
   "metadata": {},
   "outputs": [],
   "source": [
    "E = np.array([\n",
    "    [0,0,0],\n",
    "    [0,0,0],\n",
    "    [0,0,0],\n",
    "    [1,0,0],\n",
    "    [0,1,0],\n",
    "    [0,0,1],\n",
    "    ],\n",
    ")\n",
    "\n",
    "t = np.linspace(0,10,100)\n",
    "data_ = pd.DataFrame(index=t)\n",
    "data_['delta'] = 0.0\n",
    "data_['thrust'] = 20\n",
    "data_['x0'] = 0\n",
    "data_['y0'] = 0\n",
    "data_['psi'] = 0\n",
    "data_['u'] = 2\n",
    "data_['v'] = 0\n",
    "data_['r'] = 0\n",
    "\n",
    "ek.parameters = parameters = df_parameters[\"prime\"].copy()\n",
    "ek.simulate(data=data,input_columns=['delta','thrust'], \n",
    "            E=E).tail()"
   ]
  },
  {
   "cell_type": "code",
   "execution_count": null,
   "id": "0fa71187-a78e-4b05-99b9-fa5f18739b41",
   "metadata": {},
   "outputs": [],
   "source": [
    "data_frames = {'data':data, 'sim':ek.df_simulation}\n",
    "\n",
    "fig,ax=plt.subplots()\n",
    "styles = {\n",
    "    'Mesurement' : {\n",
    "        'linestyle' : '',\n",
    "        'marker' : '.',\n",
    "        'ms' : 1,\n",
    "        'zorder':-10,\n",
    "    },\n",
    "    \n",
    "    'Kalman filter' : {\n",
    "        'lw' : 2,\n",
    "    },\n",
    "    \n",
    "    \n",
    "}\n",
    "\n",
    "for label,df_ in data_frames.items():\n",
    "    track_plot(\n",
    "            df=df_,\n",
    "            lpp=ship_parameters[\"L\"],\n",
    "            beam=ship_parameters[\"B\"],\n",
    "            ax=ax,\n",
    "            label=label,\n",
    "            plot_boats=True,\n",
    "            **styles.get(label,{})\n",
    "        );\n",
    "ax.legend()\n",
    "\n",
    "plot(data_frames, keys=ek.df_simulation.columns);"
   ]
  },
  {
   "cell_type": "markdown",
   "id": "733b92cf-6408-41a2-b49e-ee51ff8b1787",
   "metadata": {},
   "source": [
    "### Extended Kalman filter and RTS smoother"
   ]
  },
  {
   "cell_type": "code",
   "execution_count": null,
   "id": "db71ffb7-004d-4324-ab06-8f7daf5f5372",
   "metadata": {},
   "outputs": [],
   "source": [
    "Cd = np.array([\n",
    "    [1, 0, 0, 0, 0, 0],\n",
    "    [0, 1, 0, 0, 0, 0],\n",
    "    [0, 0, 1, 0, 0, 0],\n",
    "])\n",
    "\n",
    "E = np.array([\n",
    "    [0,0,0],\n",
    "    [0,0,0],\n",
    "    [0,0,0],\n",
    "    [1,0,0],\n",
    "    [0,1,0],\n",
    "    [0,0,1],\n",
    "    ],\n",
    ")\n",
    "\n",
    "P_prd = np.diag([0.1, 0.1, np.deg2rad(0.01), 0.01, 0.01, np.deg2rad(0.01)])\n",
    "Qd = np.diag([0.001, 0.001, np.deg2rad(0.001)])  #process variances: u,v,r\n",
    "\n",
    "error_max_pos = 0.1\n",
    "sigma_pos = error_max_pos/3\n",
    "variance_pos = sigma_pos**2\n",
    "\n",
    "error_max_psi = np.deg2rad(2)\n",
    "sigma_psi = error_max_psi/3\n",
    "variance_psi = sigma_psi**2\n",
    "\n",
    "Rd = np.diag([variance_pos, variance_pos, variance_psi])\n",
    "\n",
    "ek.filter(\n",
    "        data=data, P_prd=P_prd, Qd=Qd, Rd=Rd, E=E, Cd=Cd, \n",
    "        input_columns=['delta','thrust'],\n",
    "    )\n",
    "ek.smoother();"
   ]
  },
  {
   "cell_type": "code",
   "execution_count": null,
   "id": "251554e1-2f96-4243-8c99-8f60d0ef7f7d",
   "metadata": {},
   "outputs": [],
   "source": [
    "dataframes = {\n",
    "    'Mesurement' : data,\n",
    "    #'Kalman filter' : ek.df_kalman,\n",
    "    'RTS': ek.df_smooth,\n",
    "}\n",
    "\n",
    "styles = {\n",
    "    'Mesurement' : {\n",
    "        'linestyle' : '',\n",
    "        'marker' : '.',\n",
    "        'ms' : 1,\n",
    "        'zorder':-10,\n",
    "    },\n",
    "    \n",
    "    'Kalman filter' : {\n",
    "        'lw' : 2,\n",
    "    },\n",
    "    \n",
    "    \n",
    "}\n",
    "\n",
    "plot(dataframes = dataframes, \n",
    "     fig_size=(10,15), \n",
    "     styles = ['r-','g-','b-'],\n",
    "     keys=['x0','y0','psi','u','v','r','u1d','v1d','r1d']);"
   ]
  },
  {
   "cell_type": "code",
   "execution_count": null,
   "id": "49bbc050-8c52-4ca9-86d3-d1b978e43b07",
   "metadata": {},
   "outputs": [],
   "source": []
  }
 ],
 "metadata": {
  "kernelspec": {
   "display_name": "Python 3",
   "language": "python",
   "name": "python3"
  },
  "language_info": {
   "codemirror_mode": {
    "name": "ipython",
    "version": 3
   },
   "file_extension": ".py",
   "mimetype": "text/x-python",
   "name": "python",
   "nbconvert_exporter": "python",
   "pygments_lexer": "ipython3",
   "version": "3.9.5"
  }
 },
 "nbformat": 4,
 "nbformat_minor": 5
}
