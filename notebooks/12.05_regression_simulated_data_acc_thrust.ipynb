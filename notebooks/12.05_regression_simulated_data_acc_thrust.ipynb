{
    "cells": [
        {
            "cell_type": "markdown",
            "metadata": {},
            "source": [
                "# Problem with acceleration when thrust"
            ]
        },
        {
            "cell_type": "markdown",
            "metadata": {},
            "source": [
                "## Purpose\n",
                "* Explore why the thrust is making the acceleration not work"
            ]
        },
        {
            "cell_type": "markdown",
            "metadata": {},
            "source": [
                "## Methodology\n",
                "* Simulate a straight course with thrust"
            ]
        },
        {
            "cell_type": "markdown",
            "metadata": {},
            "source": [
                "## Results\n",
                "Describe and comment the most important results."
            ]
        },
        {
            "cell_type": "markdown",
            "metadata": {},
            "source": [
                "## Setup"
            ]
        },
        {
            "cell_type": "code",
            "execution_count": null,
            "metadata": {},
            "outputs": [],
            "source": [
                "# %load imports.py\n",
                "## Local packages:\n",
                "\n",
                "%matplotlib inline\n",
                "%load_ext autoreload\n",
                "%autoreload 2\n",
                "%config Completer.use_jedi = False  ## (To fix autocomplete)\n",
                "\n",
                "## External packages:\n",
                "import pandas as pd\n",
                "pd.options.display.max_rows = 999\n",
                "pd.options.display.max_columns = 999\n",
                "pd.set_option(\"display.max_columns\", None)\n",
                "\n",
                "import numpy as np\n",
                "import os\n",
                "import matplotlib.pyplot as plt\n",
                "#if os.name == 'nt':\n",
                "#    plt.style.use('presentation.mplstyle')  # Windows\n",
                "\n",
                "import plotly.express as px \n",
                "import plotly.graph_objects as go\n",
                "\n",
                "import seaborn as sns\n",
                "import sympy as sp\n",
                "from sympy.physics.mechanics import (dynamicsymbols, ReferenceFrame,\n",
                "                                      Particle, Point)\n",
                "from sympy.physics.vector.printing import vpprint, vlatex\n",
                "from IPython.display import display, Math, Latex\n",
                "from vessel_manoeuvring_models.substitute_dynamic_symbols import run, lambdify\n",
                "\n",
                "import pyro\n",
                "\n",
                "import sklearn\n",
                "import pykalman\n",
                "from statsmodels.sandbox.regression.predstd import wls_prediction_std\n",
                "import statsmodels.api as sm\n",
                "\n",
                "from scipy.integrate import solve_ivp\n",
                "\n",
                "## Local packages:\n",
                "from vessel_manoeuvring_models.data import mdl\n",
                "\n",
                "from vessel_manoeuvring_models.symbols import *\n",
                "from vessel_manoeuvring_models.parameters import *\n",
                "import vessel_manoeuvring_models.symbols as symbols\n",
                "from vessel_manoeuvring_models import prime_system\n",
                "from vessel_manoeuvring_models.models import regression\n",
                "from vessel_manoeuvring_models.visualization.regression import show_pred\n",
                "from vessel_manoeuvring_models.visualization.plot import track_plot\n",
                "\n",
                "## Load models:\n",
                "# (Uncomment these for faster loading):\n",
                "import vessel_manoeuvring_models.models.vmm_simple_nonlinear  as vmm\n",
                "## Examples\n",
                "from vessel_manoeuvring_models.data.case_1 import ship_parameters, df_parameters, ps, ship_parameters_prime"
            ]
        },
        {
            "cell_type": "markdown",
            "metadata": {},
            "source": [
                "## Ship parameters"
            ]
        },
        {
            "cell_type": "code",
            "execution_count": null,
            "metadata": {},
            "outputs": [],
            "source": [
                "ship_parameters"
            ]
        },
        {
            "cell_type": "markdown",
            "metadata": {},
            "source": [
                "## Brix parameters"
            ]
        },
        {
            "cell_type": "code",
            "execution_count": null,
            "metadata": {},
            "outputs": [],
            "source": [
                "mask = df_parameters['prime'].notnull()\n",
                "index = df_parameters.loc[mask,'prime'].index\n",
                "coefficients=vmm.simulator.get_all_coefficients(sympy_symbols=False)\n",
                "missing_coefficients = set(coefficients) - set(index)\n",
                "missing_coefficients"
            ]
        },
        {
            "cell_type": "code",
            "execution_count": null,
            "metadata": {},
            "outputs": [],
            "source": [
                "mask = df_parameters['prime'].notnull()\n",
                "df_parameters.loc[mask,'prime']"
            ]
        },
        {
            "cell_type": "markdown",
            "metadata": {},
            "source": [
                "## Simulate data"
            ]
        },
        {
            "cell_type": "code",
            "execution_count": null,
            "metadata": {},
            "outputs": [],
            "source": [
                "parameters=df_parameters['prime'].copy()\n",
                "parameters.Xuu=0\n",
                "\n",
                "t_ = np.linspace(0,10,1000)\n",
                "df_ = pd.DataFrame(index=t_)\n",
                "\n",
                "df_['u'] = 2\n",
                "df_['v'] = 0\n",
                "df_['r'] = 0\n",
                "df_['x0'] = 0\n",
                "df_['y0'] = 0\n",
                "df_['psi'] = 0\n",
                "df_['U'] = np.sqrt(df_['u']**2 + df_['v']**2)\n",
                "df_['beta'] = -np.arctan2(df_['v'],df_['u'])\n",
                "df_['thrust'] = 30\n",
                "\n",
                "df_['delta'] = 0\n",
                "\n",
                "result = vmm.simulator.simulate(df_=df_, parameters=parameters, ship_parameters=ship_parameters, \n",
                "                                  control_keys=['delta','thrust'], primed_parameters=True,prime_system=ps)\n",
                "\n",
                "df_result = result.result.copy()"
            ]
        },
        {
            "cell_type": "code",
            "execution_count": null,
            "metadata": {},
            "outputs": [],
            "source": [
                "ps.prime(df_, U=df_['U']).head()"
            ]
        },
        {
            "cell_type": "code",
            "execution_count": null,
            "metadata": {},
            "outputs": [],
            "source": [
                "result.track_plot(compare=False);"
            ]
        },
        {
            "cell_type": "code",
            "execution_count": null,
            "metadata": {},
            "outputs": [],
            "source": [
                "result.plot(compare=False);"
            ]
        },
        {
            "cell_type": "markdown",
            "metadata": {},
            "source": [
                "### Check accelerations"
            ]
        },
        {
            "cell_type": "code",
            "execution_count": null,
            "metadata": {},
            "outputs": [],
            "source": [
                "import scipy.integrate"
            ]
        },
        {
            "cell_type": "code",
            "execution_count": null,
            "metadata": {},
            "outputs": [],
            "source": [
                "u_ = df_result['u'].values\n",
                "u1d_ = df_result['u1d'].values\n",
                "\n",
                "t_ = np.array(df_result.index)\n",
                "\n",
                "u_integrated = u_[0] + scipy.integrate.cumtrapz(y=u1d_, x=t_)\n",
                "u_integrated = np.concatenate([[u_[0]], u_integrated])\n",
                "\n",
                "fig,ax=plt.subplots()\n",
                "df_result.plot(y='u', ax=ax)\n",
                "ax.plot(t_, u_integrated, '--', label='u_integrated')\n",
                "ax.legend()"
            ]
        }
    ],
    "metadata": {
        "citation-manager": {
            "items": {}
        },
        "kernelspec": {
            "display_name": "Python 3",
            "language": "python",
            "name": "python3"
        },
        "language_info": {
            "codemirror_mode": {
                "name": "ipython",
                "version": 3
            },
            "file_extension": ".py",
            "mimetype": "text/x-python",
            "name": "python",
            "nbconvert_exporter": "python",
            "pygments_lexer": "ipython3",
            "version": "3.9.5"
        }
    },
    "nbformat": 4,
    "nbformat_minor": 4
}