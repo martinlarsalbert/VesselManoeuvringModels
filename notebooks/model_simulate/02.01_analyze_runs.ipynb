{
    "cells": [
        {
            "cell_type": "markdown",
            "id": "23f6084b-9a23-4715-a9de-fb0e4bac599b",
            "metadata": {},
            "source": [
                "# Analyze runs"
            ]
        },
        {
            "cell_type": "markdown",
            "id": "9a292762-4991-482f-8c48-0b294e67a5b9",
            "metadata": {},
            "source": [
                "# Purpose\n",
                "Analyze the batch simulations from MLFlow "
            ]
        },
        {
            "cell_type": "markdown",
            "id": "a6148eb2-4d8f-4006-88b3-9491eece40cd",
            "metadata": {},
            "source": [
                "# Methodology\n",
                "* Load data about runs from MLFlow API\n",
                "* Analyze this data"
            ]
        },
        {
            "cell_type": "code",
            "execution_count": null,
            "id": "8617a4fe-5f23-447d-a5aa-69a710f9e3cb",
            "metadata": {},
            "outputs": [],
            "source": [
                "# %load ../imports.py\n",
                "## Local packages:\n",
                "\n",
                "%matplotlib inline\n",
                "%load_ext autoreload\n",
                "%autoreload 2\n",
                "%config Completer.use_jedi = False  ## (To fix autocomplete)\n",
                "\n",
                "## External packages:\n",
                "import pandas as pd\n",
                "pd.options.display.max_rows = 999\n",
                "pd.options.display.max_columns = 999\n",
                "pd.set_option(\"display.max_columns\", None)\n",
                "import numpy as np\n",
                "np.set_printoptions(linewidth=150)\n",
                "\n",
                "import numpy as np\n",
                "import os\n",
                "import matplotlib.pyplot as plt\n",
                "#if os.name == 'nt':\n",
                "#    plt.style.use('presentation.mplstyle')  # Windows\n",
                "\n",
                "import plotly.express as px \n",
                "import plotly.graph_objects as go\n",
                "\n",
                "import seaborn as sns\n",
                "import sympy as sp\n",
                "from sympy.physics.mechanics import (dynamicsymbols, ReferenceFrame,\n",
                "                                      Particle, Point)\n",
                "from sympy.physics.vector.printing import vpprint, vlatex\n",
                "from IPython.display import display, Math, Latex\n",
                "from vessel_manoeuvring_models.substitute_dynamic_symbols import run, lambdify\n",
                "\n",
                "import pyro\n",
                "\n",
                "import sklearn\n",
                "import pykalman\n",
                "from statsmodels.sandbox.regression.predstd import wls_prediction_std\n",
                "import statsmodels.api as sm\n",
                "\n",
                "from scipy.integrate import solve_ivp\n",
                "\n",
                "## Local packages:\n",
                "from vessel_manoeuvring_models.data import mdl\n",
                "\n",
                "from vessel_manoeuvring_models.symbols import *\n",
                "from vessel_manoeuvring_models.parameters import *\n",
                "import vessel_manoeuvring_models.symbols as symbols\n",
                "from vessel_manoeuvring_models import prime_system\n",
                "from vessel_manoeuvring_models.models import regression\n",
                "from vessel_manoeuvring_models.visualization.regression import show_pred\n",
                "from vessel_manoeuvring_models.visualization.plot import track_plot\n",
                "\n",
                "## Load models:\n",
                "# (Uncomment these for faster loading):\n",
                "import vessel_manoeuvring_models.models.vmm_abkowitz  as vmm \n",
                "from vessel_manoeuvring_models.models.vmm import ModelSimulator\n"
            ]
        },
        {
            "cell_type": "code",
            "execution_count": null,
            "id": "45afa44e-1147-400d-8cfd-5b59ea4df295",
            "metadata": {},
            "outputs": [],
            "source": [
                "from vessel_manoeuvring_models.models.vmm import ModelSimulator\n",
                "from vessel_manoeuvring_models.data.mdl import load_test"
            ]
        },
        {
            "cell_type": "code",
            "execution_count": null,
            "id": "c9c0a163-f53d-4401-8131-fdd93bde72c0",
            "metadata": {},
            "outputs": [],
            "source": [
                "from mlflow.tracking.client import MlflowClient\n",
                "from mlflow.entities import ViewType\n",
                "from vessel_manoeuvring_models.to_mlflow import tracking_uri\n",
                "mlflow_client = MlflowClient(tracking_uri=tracking_uri)"
            ]
        },
        {
            "cell_type": "code",
            "execution_count": null,
            "id": "db67ac27-f4dc-46e8-bd86-3806f0aeae2b",
            "metadata": {},
            "outputs": [],
            "source": [
                "experiment = mlflow_client.get_experiment_by_name(name='VCT_linear')"
            ]
        },
        {
            "cell_type": "code",
            "execution_count": null,
            "id": "8eda21ad-b466-44ac-a820-6e26d898d2d6",
            "metadata": {},
            "outputs": [],
            "source": [
                "experiment.name"
            ]
        },
        {
            "cell_type": "code",
            "execution_count": null,
            "id": "82f2d8af-d75f-42cd-b3e2-64a2492332ed",
            "metadata": {},
            "outputs": [],
            "source": [
                "runs = MlflowClient().search_runs(\n",
                "  experiment_ids=experiment.experiment_id,\n",
                "  filter_string=\"\",\n",
                "  #run_view_type=ViewType.ACTIVE_ONLY,\n",
                "  max_results=1000,\n",
                "  order_by=[\"metrics.accuracy DESC\"]\n",
                ")\n",
                "len(runs)"
            ]
        },
        {
            "cell_type": "code",
            "execution_count": null,
            "id": "1beae475-e0c4-4276-a70e-3d68442fee08",
            "metadata": {},
            "outputs": [],
            "source": [
                "df = pd.DataFrame()\n",
                "\n",
                "for run in runs:\n",
                "    \n",
                "    if run.info.status!='FINISHED':\n",
                "        continue  # Unfinnished simulation\n",
                "        \n",
                "    row = pd.Series(run.data.params, dtype='object', name=run.info.run_id)\n",
                "    row = row.append(pd.Series(run.data.metrics))\n",
                "    row['status'] = run.info.status\n",
                "    row['artifact_uri'] = run.info.artifact_uri\n",
                "    row['experiment_id'] = run.info.experiment_id\n",
                "    row['experiment'] = experiment.name\n",
                "    \n",
                "    df = df.append(row, ignore_index=True)\n",
                "    \n",
                "df.index.name='run_id'"
            ]
        },
        {
            "cell_type": "code",
            "execution_count": null,
            "id": "c8b954bc-cb88-4f5e-b2cb-7cb6eaeb4514",
            "metadata": {},
            "outputs": [],
            "source": [
                "df.head()"
            ]
        },
        {
            "cell_type": "code",
            "execution_count": null,
            "id": "819d103c-53cf-4234-8618-55089ef64605",
            "metadata": {},
            "outputs": [],
            "source": [
                "df.sort_values(by='r2', ascending=False).head()"
            ]
        },
        {
            "cell_type": "code",
            "execution_count": null,
            "id": "592bf9de-9db5-485b-9fb4-1a4968a8797d",
            "metadata": {},
            "outputs": [],
            "source": [
                "row = df.sort_values(by='r2', ascending=False).iloc[0]"
            ]
        },
        {
            "cell_type": "code",
            "execution_count": null,
            "id": "498c6891-95ba-4b72-a2ac-94e95588869a",
            "metadata": {},
            "outputs": [],
            "source": [
                "from IPython.display import Image\n",
                "Image(os.path.join(row.artifact_uri.replace(r'file:///',''),'track_plot.png'))\n"
            ]
        },
        {
            "cell_type": "code",
            "execution_count": null,
            "id": "4facb99a-1dd4-4dd1-96f3-b6347a840d36",
            "metadata": {},
            "outputs": [],
            "source": [
                "row"
            ]
        },
        {
            "cell_type": "markdown",
            "id": "0baa45bb-f9b9-4793-99cd-14cc6208585e",
            "metadata": {},
            "source": [
                "## Load and resimulate"
            ]
        },
        {
            "cell_type": "code",
            "execution_count": null,
            "id": "f75d92df-4846-404f-a664-4f716e6a5cc0",
            "metadata": {},
            "outputs": [],
            "source": [
                "run_params = row\n",
                "df, meta_data = load_test(**run_params)\n",
                "\n",
                "model = ModelSimulator.load(run_params['model'])\n",
                "result = model.simulate(df)"
            ]
        },
        {
            "cell_type": "code",
            "execution_count": null,
            "id": "1673fb57-85fd-4aca-8ed7-964457951a3d",
            "metadata": {},
            "outputs": [],
            "source": []
        }
    ],
    "metadata": {
        "citation-manager": {
            "items": {}
        },
        "kernelspec": {
            "display_name": "Python 3",
            "language": "python",
            "name": "python3"
        },
        "language_info": {
            "codemirror_mode": {
                "name": "ipython",
                "version": 3
            },
            "file_extension": ".py",
            "mimetype": "text/x-python",
            "name": "python",
            "nbconvert_exporter": "python",
            "pygments_lexer": "ipython3",
            "version": "3.9.5"
        }
    },
    "nbformat": 4,
    "nbformat_minor": 5
}