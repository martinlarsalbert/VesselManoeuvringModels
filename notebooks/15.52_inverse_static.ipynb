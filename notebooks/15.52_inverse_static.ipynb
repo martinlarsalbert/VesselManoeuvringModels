{
    "cells": [
        {
            "cell_type": "markdown",
            "id": "73bffd8f-a146-4d68-b5ad-6d324048f5f2",
            "metadata": {},
            "source": [
                "# Inverse static (captive test)"
            ]
        },
        {
            "cell_type": "code",
            "execution_count": null,
            "id": "b2b765cb-5a01-41e3-8a47-279cf93cbd76",
            "metadata": {},
            "outputs": [],
            "source": [
                "# %load imports.py\n",
                "# %load imports.py\n",
                "## Local packages:\n",
                "\n",
                "%matplotlib inline\n",
                "%load_ext autoreload\n",
                "%autoreload 2\n",
                "%config Completer.use_jedi = False  ## (To fix autocomplete)\n",
                "\n",
                "## External packages:\n",
                "import pandas as pd\n",
                "pd.options.display.max_rows = 999\n",
                "pd.options.display.max_columns = 999\n",
                "pd.set_option(\"display.max_columns\", None)\n",
                "import numpy as np\n",
                "np.set_printoptions(linewidth=150)\n",
                "\n",
                "import numpy as np\n",
                "import os\n",
                "import matplotlib.pyplot as plt\n",
                "#if os.name == 'nt':\n",
                "#    plt.style.use('presentation.mplstyle')  # Windows\n",
                "\n",
                "import plotly.express as px \n",
                "import plotly.graph_objects as go\n",
                "\n",
                "import seaborn as sns\n",
                "import sympy as sp\n",
                "from sympy.physics.mechanics import (dynamicsymbols, ReferenceFrame,\n",
                "                                      Particle, Point)\n",
                "from sympy.physics.vector.printing import vpprint, vlatex\n",
                "from IPython.display import display, Math, Latex\n",
                "from vessel_manoeuvring_models.substitute_dynamic_symbols import run, lambdify\n",
                "\n",
                "import pyro\n",
                "\n",
                "import sklearn\n",
                "import pykalman\n",
                "from statsmodels.sandbox.regression.predstd import wls_prediction_std\n",
                "import statsmodels.api as sm\n",
                "\n",
                "from scipy.integrate import solve_ivp\n",
                "\n",
                "## Local packages:\n",
                "from vessel_manoeuvring_models.data import mdl\n",
                "\n",
                "from vessel_manoeuvring_models.symbols import *\n",
                "from vessel_manoeuvring_models.parameters import *\n",
                "import vessel_manoeuvring_models.symbols as symbols\n",
                "from vessel_manoeuvring_models import prime_system\n",
                "from vessel_manoeuvring_models.models import regression\n",
                "from vessel_manoeuvring_models.visualization.regression import show_pred\n",
                "from vessel_manoeuvring_models.visualization.plot import track_plot\n",
                "\n",
                "## Load models:\n",
                "# (Uncomment these for faster loading):\n",
                "import vessel_manoeuvring_models.models.vmm_martin  as vmm \n",
                "from vessel_manoeuvring_models.models.vmm import ModelSimulator\n",
                "from example_ship2 import ship_parameters, df_parameters\n",
                "\n",
                "from vessel_manoeuvring_models.vct_scaling import scale_force_to_model_scale, scale_moment_to_model_scale\n",
                "\n",
                "if os.name == 'nt':\n",
                "    plt.style.use('../docs/book/book.mplstyle')  # Windows\n",
                "    \n",
                "from vessel_manoeuvring_models.visualization.plot import track_plot, plot, captive_plot"
            ]
        },
        {
            "cell_type": "code",
            "execution_count": null,
            "id": "adb0300c-d809-4d15-b432-af9ef2e3097e",
            "metadata": {},
            "outputs": [],
            "source": [
                "from vessel_manoeuvring_models.models.regression import ForceRegression"
            ]
        },
        {
            "cell_type": "code",
            "execution_count": null,
            "id": "9964a695-501b-4f22-9193-be28e9148de7",
            "metadata": {},
            "outputs": [],
            "source": [
                "df_VCT = pd.read_csv('../data/external/vct.csv', index_col=0)\n",
                "df_VCT = df_VCT.groupby('model_name').get_group('V2_5_MDL_modelScale')\n",
                "df_VCT.head()"
            ]
        },
        {
            "cell_type": "code",
            "execution_count": null,
            "id": "bc1b1fc8-fae3-4a37-854e-e6a24073c53e",
            "metadata": {},
            "outputs": [],
            "source": [
                "data_scaled = df_VCT.copy()\n",
                "ship_data = ship_parameters\n",
                "ship_data['scale_factor'] = scale_factor = 41.2\n",
                "keys_forces = [\"fx\", \"fy\", \"fz\"]\n",
                "scale_factor = ship_data[\"scale_factor\"]\n",
                "forces = data_scaled[keys_forces]\n",
                "data_scaled[keys_forces] = scale_force_to_model_scale(\n",
                "    forces=forces, scale_factor=scale_factor, **data_scaled\n",
                ")\n",
                "\n",
                "\n",
                "keys_moments = [\"mx\", \"my\", \"mz\"]\n",
                "data_scaled[keys_moments] = scale_moment_to_model_scale(\n",
                "    data_scaled[keys_moments], scale_factor=scale_factor, **data_scaled\n",
                ")"
            ]
        },
        {
            "cell_type": "code",
            "execution_count": null,
            "id": "f76e5263-994e-42be-b7df-db8b8130e8fe",
            "metadata": {},
            "outputs": [],
            "source": [
                "df_VCT[['lpp','S','V','fy','mz']].abs().max()"
            ]
        },
        {
            "cell_type": "code",
            "execution_count": null,
            "id": "0326178d-20af-403e-876d-eb471a62ce70",
            "metadata": {},
            "outputs": [],
            "source": [
                "data_scaled[['lpp','S','V','fy']].abs().max()"
            ]
        },
        {
            "cell_type": "code",
            "execution_count": null,
            "id": "5a22e0c2-9889-4698-a7fd-829ac1e14416",
            "metadata": {},
            "outputs": [],
            "source": [
                "(df_VCT['fy']/scale_factor**3).mean()"
            ]
        },
        {
            "cell_type": "code",
            "execution_count": null,
            "id": "3ef99a06-a00b-439a-abcb-f9a421f35830",
            "metadata": {},
            "outputs": [],
            "source": [
                "(df_VCT['mz']/scale_factor**4).mean()"
            ]
        },
        {
            "cell_type": "code",
            "execution_count": null,
            "id": "173e9fe5-2f12-4ac4-912c-3f8d71d4230f",
            "metadata": {},
            "outputs": [],
            "source": [
                "interesting = ['u','v','r','delta','thrust','fx','fy','mz']\n",
                "data = df_VCT[interesting].copy()"
            ]
        },
        {
            "cell_type": "code",
            "execution_count": null,
            "id": "c5fe3083-9c15-44c1-b237-207aa581d904",
            "metadata": {},
            "outputs": [],
            "source": [
                "added_masses = df_parameters.groupby(by='state').get_group('dot')['prime'].dropna().to_dict()"
            ]
        },
        {
            "cell_type": "code",
            "execution_count": null,
            "id": "5260d7c1-4e02-4baf-a6ce-2a9f2b26bab8",
            "metadata": {},
            "outputs": [],
            "source": [
                "regression = ForceRegression(vmm=vmm, data=data, added_masses=added_masses, ship_parameters=ship_parameters, exclude_parameters={'Xthrust':1})"
            ]
        },
        {
            "cell_type": "code",
            "execution_count": null,
            "id": "bf090ea7-42c6-447f-96e4-44f6fc00b2a1",
            "metadata": {},
            "outputs": [],
            "source": [
                "regression.show()"
            ]
        },
        {
            "cell_type": "code",
            "execution_count": null,
            "id": "ef564213-150d-47f3-8c41-372184a7055a",
            "metadata": {},
            "outputs": [],
            "source": [
                "regression.parameters"
            ]
        },
        {
            "cell_type": "code",
            "execution_count": null,
            "id": "9c474311-eb17-4842-9cd4-6eb2bf3070b5",
            "metadata": {},
            "outputs": [],
            "source": [
                "data.head()"
            ]
        },
        {
            "cell_type": "code",
            "execution_count": null,
            "id": "4d272ab4-581a-4b08-bd4e-959231dcadbd",
            "metadata": {},
            "outputs": [],
            "source": [
                "keys = set(data.columns) - set(['fx','fy','mz'])\n",
                "    "
            ]
        },
        {
            "cell_type": "code",
            "execution_count": null,
            "id": "905e2b40-1eea-448c-aa6f-79f7586d717d",
            "metadata": {},
            "outputs": [],
            "source": [
                "y_vars=['fx','fy','mz']\n",
                "x_vars = list(set(data.columns) - set(y_vars))\n",
                "\n",
                "data_plot = data.copy()\n",
                "sns.pairplot(data_plot, x_vars=x_vars, y_vars=y_vars, height=2.5)"
            ]
        },
        {
            "cell_type": "code",
            "execution_count": null,
            "id": "3f596864-4c9e-4301-a48f-4235911e8c23",
            "metadata": {},
            "outputs": [],
            "source": [
                "df_VCT['item'] = 'VCT'\n",
                "captive_plot(df_captive=df_VCT)"
            ]
        },
        {
            "cell_type": "code",
            "execution_count": null,
            "id": "709fc497-b9aa-4dcf-8a93-266dcb1f7581",
            "metadata": {},
            "outputs": [],
            "source": []
        }
    ],
    "metadata": {
        "kernelspec": {
            "display_name": "Python 3",
            "language": "python",
            "name": "python3"
        },
        "language_info": {
            "codemirror_mode": {
                "name": "ipython",
                "version": 3
            },
            "file_extension": ".py",
            "mimetype": "text/x-python",
            "name": "python",
            "nbconvert_exporter": "python",
            "pygments_lexer": "ipython3",
            "version": "3.9.5"
        }
    },
    "nbformat": 4,
    "nbformat_minor": 5
}