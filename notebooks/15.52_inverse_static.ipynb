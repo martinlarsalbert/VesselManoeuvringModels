{
 "cells": [
  {
   "cell_type": "markdown",
   "id": "73bffd8f-a146-4d68-b5ad-6d324048f5f2",
   "metadata": {},
   "source": [
    "# Inverse static (captive test)"
   ]
  },
  {
   "cell_type": "code",
   "execution_count": null,
   "id": "b2b765cb-5a01-41e3-8a47-279cf93cbd76",
   "metadata": {},
   "outputs": [],
   "source": [
    "# %load imports.py\n",
    "# %load imports.py\n",
    "## Local packages:\n",
    "\n",
    "%matplotlib inline\n",
    "%load_ext autoreload\n",
    "%autoreload 2\n",
    "%config Completer.use_jedi = False  ## (To fix autocomplete)\n",
    "\n",
    "## External packages:\n",
    "import pandas as pd\n",
    "pd.options.display.max_rows = 999\n",
    "pd.options.display.max_columns = 999\n",
    "pd.set_option(\"display.max_columns\", None)\n",
    "import numpy as np\n",
    "np.set_printoptions(linewidth=150)\n",
    "\n",
    "import numpy as np\n",
    "import os\n",
    "import matplotlib.pyplot as plt\n",
    "#if os.name == 'nt':\n",
    "#    plt.style.use('presentation.mplstyle')  # Windows\n",
    "\n",
    "import plotly.express as px \n",
    "import plotly.graph_objects as go\n",
    "\n",
    "import seaborn as sns\n",
    "import sympy as sp\n",
    "from sympy.physics.mechanics import (dynamicsymbols, ReferenceFrame,\n",
    "                                      Particle, Point)\n",
    "from sympy.physics.vector.printing import vpprint, vlatex\n",
    "from IPython.display import display, Math, Latex\n",
    "from src.substitute_dynamic_symbols import run, lambdify\n",
    "\n",
    "import pyro\n",
    "\n",
    "import sklearn\n",
    "import pykalman\n",
    "from statsmodels.sandbox.regression.predstd import wls_prediction_std\n",
    "import statsmodels.api as sm\n",
    "\n",
    "from scipy.integrate import solve_ivp\n",
    "\n",
    "## Local packages:\n",
    "from src.data import mdl\n",
    "\n",
    "from src.symbols import *\n",
    "from src.parameters import *\n",
    "import src.symbols as symbols\n",
    "from src import prime_system\n",
    "from src.models import regression\n",
    "from src.visualization.regression import show_pred\n",
    "from src.visualization.plot import track_plot\n",
    "\n",
    "## Load models:\n",
    "# (Uncomment these for faster loading):\n",
    "import src.models.vmm_martin  as vmm \n",
    "from src.models.vmm import ModelSimulator\n",
    "from example_ship2 import ship_parameters, df_parameters\n",
    "\n",
    "\n",
    "if os.name == 'nt':\n",
    "    plt.style.use('../docs/book/book.mplstyle')  # Windows\n",
    "    \n",
    "from src.visualization.plot import track_plot, plot"
   ]
  },
  {
   "cell_type": "code",
   "execution_count": null,
   "id": "adb0300c-d809-4d15-b432-af9ef2e3097e",
   "metadata": {},
   "outputs": [],
   "source": [
    "from src.models.regression import ForceRegression"
   ]
  },
  {
   "cell_type": "code",
   "execution_count": null,
   "id": "9964a695-501b-4f22-9193-be28e9148de7",
   "metadata": {},
   "outputs": [],
   "source": [
    "df_VCT = pd.read_csv('../data/external/vct.csv', index_col=0)\n",
    "df_VCT.head()"
   ]
  },
  {
   "cell_type": "code",
   "execution_count": null,
   "id": "173e9fe5-2f12-4ac4-912c-3f8d71d4230f",
   "metadata": {},
   "outputs": [],
   "source": [
    "interesting = ['u','v','r','delta','thrust','fx','fy','mz']\n",
    "data = df_VCT[interesting].copy()"
   ]
  },
  {
   "cell_type": "code",
   "execution_count": null,
   "id": "c5fe3083-9c15-44c1-b237-207aa581d904",
   "metadata": {},
   "outputs": [],
   "source": [
    "added_masses = df_parameters.groupby(by='state').get_group('dot')['prime'].dropna().to_dict()"
   ]
  },
  {
   "cell_type": "code",
   "execution_count": null,
   "id": "5260d7c1-4e02-4baf-a6ce-2a9f2b26bab8",
   "metadata": {},
   "outputs": [],
   "source": [
    "regression = ForceRegression(vmm=vmm, data=data, added_masses=added_masses, ship_parameters=ship_parameters)"
   ]
  },
  {
   "cell_type": "code",
   "execution_count": null,
   "id": "bf090ea7-42c6-447f-96e4-44f6fc00b2a1",
   "metadata": {},
   "outputs": [],
   "source": [
    "regression.show()"
   ]
  },
  {
   "cell_type": "code",
   "execution_count": null,
   "id": "ef564213-150d-47f3-8c41-372184a7055a",
   "metadata": {},
   "outputs": [],
   "source": [
    "regression.parameters"
   ]
  },
  {
   "cell_type": "code",
   "execution_count": null,
   "id": "ba38cdc9-40e7-42e0-9385-bc19faf599d4",
   "metadata": {},
   "outputs": [],
   "source": [
    "model = regression.create_model(control_keys=['delta','thrust'])"
   ]
  },
  {
   "cell_type": "markdown",
   "id": "87185d8e-0487-4329-876a-ec2665ebb9e5",
   "metadata": {},
   "source": [
    "## Load test"
   ]
  },
  {
   "cell_type": "code",
   "execution_count": null,
   "id": "f29f8422-2f8a-4352-b3c8-49a38de8d164",
   "metadata": {
    "tags": [
     "remove-input"
    ]
   },
   "outputs": [],
   "source": [
    "id=22773\n",
    "df, units, meta_data = mdl.load(dir_path = '../data/raw', id=id)\n",
    "df.index = df.index.total_seconds()\n",
    "df.index-=df.index[0]\n",
    "df['x0']-=df.iloc[0]['x0']\n",
    "df['y0']-=df.iloc[0]['y0']\n",
    "df['thrust'] = df[['Prop/PS/Thrust','Prop/SB/Thrust']].sum(axis=1)\n"
   ]
  },
  {
   "cell_type": "code",
   "execution_count": null,
   "id": "9c474311-eb17-4842-9cd4-6eb2bf3070b5",
   "metadata": {},
   "outputs": [],
   "source": []
  }
 ],
 "metadata": {
  "kernelspec": {
   "display_name": "Python 3",
   "language": "python",
   "name": "python3"
  },
  "language_info": {
   "codemirror_mode": {
    "name": "ipython",
    "version": 3
   },
   "file_extension": ".py",
   "mimetype": "text/x-python",
   "name": "python",
   "nbconvert_exporter": "python",
   "pygments_lexer": "ipython3",
   "version": "3.9.5"
  }
 },
 "nbformat": 4,
 "nbformat_minor": 5
}
