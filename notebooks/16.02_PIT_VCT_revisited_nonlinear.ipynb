{
    "cells": [
        {
            "cell_type": "markdown",
            "metadata": {},
            "source": [
                "# PIT on VCT data revisited nonlinear model"
            ]
        },
        {
            "cell_type": "markdown",
            "metadata": {},
            "source": [
                "# Purpose\n",
                "PIT on VCT has previously been conducted in:\n",
                "* [04.03_PIT_VCT_linear_VMM.ipynb](04.03_PIT_VCT_linear_VMM.ipynb)\n",
                "* [04.03_PIT_VCT_nonlinear_VMM.ipynb](04.03_PIT_VCT_nonlinear_VMM.ipynbb)\n",
                "...but that was a while a ago, so this is a retake on this one..."
            ]
        },
        {
            "cell_type": "markdown",
            "metadata": {},
            "source": [
                "# Methodology\n",
                "* Load VCT data \n",
                "* Convert it to prime system\n",
                "* Regress fx, fy, mz\n",
                "* simulate with these coefficients"
            ]
        },
        {
            "cell_type": "markdown",
            "metadata": {},
            "source": [
                "# Setup"
            ]
        },
        {
            "cell_type": "code",
            "execution_count": null,
            "metadata": {},
            "outputs": [],
            "source": [
                "# %load imports.py\n",
                "## Local packages:\n",
                "\n",
                "%matplotlib inline\n",
                "%load_ext autoreload\n",
                "%autoreload 2\n",
                "%config Completer.use_jedi = False  ## (To fix autocomplete)\n",
                "\n",
                "## External packages:\n",
                "import pandas as pd\n",
                "pd.options.display.max_rows = 999\n",
                "pd.options.display.max_columns = 999\n",
                "pd.set_option(\"display.max_columns\", None)\n",
                "import numpy as np\n",
                "np.set_printoptions(linewidth=150)\n",
                "\n",
                "import os\n",
                "import matplotlib.pyplot as plt\n",
                "#if os.name == 'nt':\n",
                "#    plt.style.use('presentation.mplstyle')  # Windows\n",
                "\n",
                "import plotly.express as px \n",
                "import plotly.graph_objects as go\n",
                "\n",
                "import seaborn as sns\n",
                "import sympy as sp\n",
                "from sympy.physics.mechanics import (dynamicsymbols, ReferenceFrame,\n",
                "                                      Particle, Point)\n",
                "from sympy.physics.vector.printing import vpprint, vlatex\n",
                "from IPython.display import display, Math, Latex\n",
                "from vessel_manoeuvring_models.substitute_dynamic_symbols import run, lambdify\n",
                "\n",
                "import pyro\n",
                "\n",
                "import sklearn\n",
                "import pykalman\n",
                "from statsmodels.sandbox.regression.predstd import wls_prediction_std\n",
                "import statsmodels.api as sm\n",
                "\n",
                "from scipy.integrate import solve_ivp\n",
                "\n",
                "## Local packages:\n",
                "from vessel_manoeuvring_models.data import mdl\n",
                "\n",
                "from vessel_manoeuvring_models.symbols import *\n",
                "from vessel_manoeuvring_models.parameters import *\n",
                "import vessel_manoeuvring_models.symbols as symbols\n",
                "from vessel_manoeuvring_models import prime_system\n",
                "from vessel_manoeuvring_models.models import regression\n",
                "from vessel_manoeuvring_models.visualization.regression import show_pred, show_pred_captive\n",
                "from vessel_manoeuvring_models.visualization.plot import track_plot, captive_plot\n",
                "\n",
                "## Load models:\n",
                "# (Uncomment these for faster loading):\n",
                "import vessel_manoeuvring_models.models.vmm_abkowitz as vmm \n",
                "from vessel_manoeuvring_models.models.vmm import ModelSimulator"
            ]
        },
        {
            "cell_type": "code",
            "execution_count": null,
            "metadata": {},
            "outputs": [],
            "source": [
                "from vessel_manoeuvring_models.data.wpcc import ship_parameters, df_parameters, ps, ship_parameters_prime, ps_ship"
            ]
        },
        {
            "cell_type": "markdown",
            "metadata": {},
            "source": [
                "## Load VCT data"
            ]
        },
        {
            "cell_type": "code",
            "execution_count": null,
            "metadata": {},
            "outputs": [],
            "source": [
                "df_VCT_all = pd.read_csv('../data/external/vct.csv', index_col=0)\n",
                "df_VCT = df_VCT_all.groupby(by=['model_name']).get_group('V2_5_MDL_modelScale')"
            ]
        },
        {
            "cell_type": "code",
            "execution_count": null,
            "metadata": {},
            "outputs": [],
            "source": [
                "df_VCT.describe()"
            ]
        },
        {
            "cell_type": "markdown",
            "metadata": {},
            "source": [
                "# Subtract the resistance"
            ]
        },
        {
            "cell_type": "code",
            "execution_count": null,
            "metadata": {},
            "outputs": [],
            "source": [
                "df_resistance = df_VCT.groupby(by='test type').get_group('resistance')\n",
                "\n",
                "X = df_resistance[['u','fx']].copy()\n",
                "X['u**2'] = X['u']**2\n",
                "y = X.pop('fx')\n",
                "\n",
                "model_resistance = sm.OLS(y,X)\n",
                "results_resistance = model_resistance.fit()\n",
                "\n",
                "X_pred = pd.DataFrame()\n",
                "X_pred['u'] = np.linspace(X['u'].min(), X['u'].max(), 20)\n",
                "X_pred['u**2'] = X_pred['u']**2\n",
                "X_pred['fx'] = results_resistance.predict(X_pred)\n",
                "\n",
                "fig,ax=plt.subplots()\n",
                "df_resistance.plot(x='u', y='fx', style='.', ax=ax)\n",
                "X_pred.plot(x='u', y='fx', style='--', ax=ax);\n"
            ]
        },
        {
            "cell_type": "code",
            "execution_count": null,
            "metadata": {},
            "outputs": [],
            "source": [
                "df_VCT_0_resistance = df_VCT.copy()\n",
                "df_VCT_0_resistance['u**2'] = df_VCT_0_resistance['u']**2\n",
                "df_VCT_0_resistance['fx']-= results_resistance.predict(df_VCT_0_resistance[['u','u**2']])"
            ]
        },
        {
            "cell_type": "markdown",
            "metadata": {},
            "source": [
                "## VCT to prime system"
            ]
        },
        {
            "cell_type": "code",
            "execution_count": null,
            "metadata": {},
            "outputs": [],
            "source": [
                "interesting = [\n",
                "    'u',\n",
                "    'v',\n",
                "    'r',\n",
                "    'delta',\n",
                "    'fx',\n",
                "    'fy',\n",
                "    'mz',\n",
                "    'thrust',\n",
                "]\n",
                "#df_VCT_prime = ps_ship.prime(df_VCT[interesting], U=df_VCT['V'])\n",
                "df_VCT_prime = ps_ship.prime(df_VCT_0_resistance[interesting], U=df_VCT_0_resistance['V'])"
            ]
        },
        {
            "cell_type": "markdown",
            "metadata": {},
            "source": [
                "## Regression"
            ]
        },
        {
            "cell_type": "markdown",
            "metadata": {},
            "source": [
                "### N"
            ]
        },
        {
            "cell_type": "code",
            "execution_count": null,
            "metadata": {},
            "outputs": [],
            "source": [
                "Math(vlatex(vmm.N_qs_eq))"
            ]
        },
        {
            "cell_type": "code",
            "execution_count": null,
            "metadata": {},
            "outputs": [],
            "source": [
                "N_ = sp.symbols('N_')\n",
                "diff_eq_N = regression.DiffEqToMatrix(ode=vmm.N_qs_eq.subs(N_qs,N_), \n",
                "                                      label=N_, base_features=[delta,u,v,r])\n",
                "\n",
                "X = diff_eq_N.calculate_features(data=df_VCT_prime)\n",
                "y = diff_eq_N.calculate_label(y=df_VCT_prime['mz'])\n",
                "\n",
                "model_N = sm.OLS(y,X)\n",
                "results_N = model_N.fit()\n",
                "\n",
                "show_pred_captive(X=X,y=y,results=results_N, label=r'$N$')"
            ]
        },
        {
            "cell_type": "markdown",
            "metadata": {},
            "source": [
                "## Y"
            ]
        },
        {
            "cell_type": "code",
            "execution_count": null,
            "metadata": {},
            "outputs": [],
            "source": [
                "Math(vlatex(vmm.Y_qs_eq))"
            ]
        },
        {
            "cell_type": "code",
            "execution_count": null,
            "metadata": {},
            "outputs": [],
            "source": [
                "Y_ = sp.symbols('Y_')\n",
                "diff_eq_Y = regression.DiffEqToMatrix(ode=vmm.Y_qs_eq.subs(Y_qs,Y_), \n",
                "                                      label=Y_, base_features=[delta,u,v,r])\n",
                "\n",
                "X = diff_eq_Y.calculate_features(data=df_VCT_prime)\n",
                "y = diff_eq_Y.calculate_label(y=df_VCT_prime['fy'])\n",
                "\n",
                "model_Y = sm.OLS(y,X)\n",
                "results_Y = model_Y.fit()\n",
                "\n",
                "show_pred_captive(X=X,y=y,results=results_Y, label=r'$Y$')"
            ]
        },
        {
            "cell_type": "markdown",
            "metadata": {},
            "source": [
                "## X"
            ]
        },
        {
            "cell_type": "code",
            "execution_count": null,
            "metadata": {},
            "outputs": [],
            "source": [
                "Math(vlatex(vmm.X_qs_eq))"
            ]
        },
        {
            "cell_type": "code",
            "execution_count": null,
            "metadata": {},
            "outputs": [],
            "source": [
                "X_ = sp.symbols('X_')\n",
                "ode=vmm.X_qs_eq.subs([(X_qs,X_),\n",
                "                      (thrust,0),  # Removing thrust from the equation\n",
                "                     ])\n",
                "\n",
                "diff_eq_X = regression.DiffEqToMatrix(ode=ode, \n",
                "                                      label=X_, base_features=[delta,u,v,r])\n",
                "\n",
                "X = diff_eq_X.calculate_features(data=df_VCT_prime)\n",
                "y = diff_eq_X.calculate_label(y=df_VCT_prime['fx'])\n",
                "\n",
                "model_X = sm.OLS(y,X)\n",
                "results_X = model_X.fit()\n",
                "\n",
                "show_pred_captive(X=X,y=y,results=results_X, label=r'$X$')"
            ]
        },
        {
            "cell_type": "code",
            "execution_count": null,
            "metadata": {},
            "outputs": [],
            "source": [
                "results_summary_X = regression.results_summary_to_dataframe(results_X)\n",
                "results_summary_Y = regression.results_summary_to_dataframe(results_Y)\n",
                "results_summary_N = regression.results_summary_to_dataframe(results_N)"
            ]
        },
        {
            "cell_type": "code",
            "execution_count": null,
            "metadata": {
                "tags": [
                    "remove-cell"
                ]
            },
            "outputs": [],
            "source": [
                "df_parameters_all = df_parameters.copy()\n",
                "for other in [results_summary_X, results_summary_Y, results_summary_N]:\n",
                "    df_parameters_all = df_parameters_all.combine_first(other)\n",
                "\n",
                "df_parameters_all.rename(columns={'coeff':'regressed'}, inplace=True)\n",
                "df_parameters_all.drop(columns=['brix_lambda'], inplace=True)\n",
                "\n",
                "df_parameters_all['regressed'] = df_parameters_all['regressed'].combine_first(df_parameters_all['prime'])  # prefer regressed\n",
                "#df_parameters_all['regressed'].fillna(0,inplace=True)"
            ]
        },
        {
            "cell_type": "markdown",
            "metadata": {},
            "source": [
                "## Create a simulator with regressed parameters"
            ]
        },
        {
            "cell_type": "code",
            "execution_count": null,
            "metadata": {},
            "outputs": [],
            "source": [
                "model = ModelSimulator(simulator=vmm.simulator, \n",
                "                       parameters=df_parameters_all['regressed'], \n",
                "                       ship_parameters=ship_parameters, \n",
                "                       control_keys=['delta'], \n",
                "                       primed_parameters=True,\n",
                "                       prime_system=ps,)\n",
                "model.save('../models/model_VCT_abkowitz.pkl')"
            ]
        },
        {
            "cell_type": "code",
            "execution_count": null,
            "metadata": {},
            "outputs": [],
            "source": [
                "outputs = model.forces(inputs = df_VCT_prime)\n",
                "df_captive = pd.merge(left=outputs, right=df_VCT_prime, \n",
                "                      how='left', \n",
                "                      left_index=True, \n",
                "                      right_index=True,\n",
                "                      suffixes = ('','_vct'))\n",
                "\n",
                "df_captive['test type'] = df_VCT['test type']"
            ]
        },
        {
            "cell_type": "code",
            "execution_count": null,
            "metadata": {},
            "outputs": [],
            "source": [
                "captive_plot(df_captive=df_captive, suffixes=['_vct'])"
            ]
        },
        {
            "cell_type": "markdown",
            "metadata": {},
            "source": [
                "# Simulation"
            ]
        },
        {
            "cell_type": "markdown",
            "metadata": {},
            "source": [
                "A simulation with the regressed hydrodynamic coefficients can now be conducted. The figures below compare results from these simulation and the original data."
            ]
        },
        {
            "cell_type": "markdown",
            "metadata": {},
            "source": [
                "## Load test"
            ]
        },
        {
            "cell_type": "code",
            "execution_count": null,
            "metadata": {},
            "outputs": [],
            "source": [
                "def load_test(id):\n",
                "\n",
                "    df, units, meta_data = mdl.load(id=id, dir_path='../data/processed/kalman_cut/')\n",
                "    df.index = df.index.total_seconds()\n",
                "    df = df.iloc[0:-100].copy()\n",
                "    df.index-=df.index[0]\n",
                "    df.sort_index(inplace=True)\n",
                "    df['thrust'] = df['Prop/PS/Thrust'] + df['Prop/SB/Thrust']\n",
                "    \n",
                "    return df\n",
                "\n",
                "\n",
                "\n",
                "tests = {\n",
                "    22774 : load_test(id=22774).loc[80:],\n",
                "    22773 : load_test(id=22773),\n",
                "    22770 : load_test(id=22770).iloc[100:],\n",
                "}\n",
                "    \n"
            ]
        },
        {
            "cell_type": "code",
            "execution_count": null,
            "metadata": {
                "tags": [
                    "remove-input"
                ]
            },
            "outputs": [],
            "source": [
                "results = {}\n",
                "for id, df_ in tests.items():\n",
                "\n",
                "    result_regression = model.simulate(df_=df_, \n",
                "                                       name='regressed', method='RK45')\n",
                "    \n",
                "    results[id] = result_regression\n"
            ]
        },
        {
            "cell_type": "code",
            "execution_count": null,
            "metadata": {
                "tags": [
                    "remove-input"
                ]
            },
            "outputs": [],
            "source": [
                "for id, result_regression in results.items():\n",
                "\n",
                "    result_regression.track_plot(compare=True);\n",
                "    \n",
                "    fig = result_regression.plot(compare=True, ax=ax);\n",
                "    fig.set_size_inches(15,10)\n",
                "    plt.tight_layout()"
            ]
        },
        {
            "cell_type": "code",
            "execution_count": null,
            "metadata": {},
            "outputs": [],
            "source": [
                "tests[22774].plot(y='thrust', style='.', alpha=0.02)\n",
                "\n",
                "fig,ax=plt.subplots()\n",
                "tests[22774].plot(y=['Prop/PS/Thrust','Prop/SB/Thrust'], style='.', alpha=0.02, ax=ax)\n",
                "ax.legend()\n",
                "\n",
                "fig,ax=plt.subplots()\n",
                "tests[22774].plot(y=['Prop/PS/Rpm','Prop/SB/Rpm'], style='.', alpha=0.02, ax=ax)\n",
                "ax.legend()\n",
                "\n",
                "tests[22774].plot(y='delta')\n"
            ]
        },
        {
            "cell_type": "code",
            "execution_count": null,
            "metadata": {},
            "outputs": [],
            "source": [
                "tests[22774].columns"
            ]
        },
        {
            "cell_type": "code",
            "execution_count": null,
            "metadata": {},
            "outputs": [],
            "source": []
        },
        {
            "cell_type": "code",
            "execution_count": null,
            "metadata": {},
            "outputs": [],
            "source": []
        }
    ],
    "metadata": {
        "citation-manager": {
            "items": {}
        },
        "kernelspec": {
            "display_name": "Python 3",
            "language": "python",
            "name": "python3"
        },
        "language_info": {
            "codemirror_mode": {
                "name": "ipython",
                "version": 3
            },
            "file_extension": ".py",
            "mimetype": "text/x-python",
            "name": "python",
            "nbconvert_exporter": "python",
            "pygments_lexer": "ipython3",
            "version": "3.9.5"
        }
    },
    "nbformat": 4,
    "nbformat_minor": 4
}