{
    "cells": [
        {
            "cell_type": "markdown",
            "metadata": {},
            "source": [
                "# Lowpass filter instead of Kalman filter for the PIT"
            ]
        },
        {
            "cell_type": "code",
            "execution_count": null,
            "metadata": {},
            "outputs": [],
            "source": [
                "# %load imports.py\n",
                "## Local packages:\n",
                "\n",
                "%matplotlib inline\n",
                "%load_ext autoreload\n",
                "%autoreload 2\n",
                "%config Completer.use_jedi = False  ## (To fix autocomplete)\n",
                "\n",
                "## External packages:\n",
                "import pandas as pd\n",
                "pd.options.display.max_rows = 999\n",
                "pd.options.display.max_columns = 999\n",
                "pd.set_option(\"display.max_columns\", None)\n",
                "\n",
                "import numpy as np\n",
                "import os\n",
                "import matplotlib.pyplot as plt\n",
                "#if os.name == 'nt':\n",
                "#    plt.style.use('presentation.mplstyle')  # Windows\n",
                "\n",
                "import plotly.express as px \n",
                "import plotly.graph_objects as go\n",
                "\n",
                "import seaborn as sns\n",
                "import sympy as sp\n",
                "from sympy.physics.mechanics import (dynamicsymbols, ReferenceFrame,\n",
                "                                      Particle, Point)\n",
                "from sympy.physics.vector.printing import vpprint, vlatex\n",
                "from IPython.display import display, Math, Latex\n",
                "from vessel_manoeuvring_models.substitute_dynamic_symbols import run, lambdify\n",
                "\n",
                "import pyro\n",
                "\n",
                "import sklearn\n",
                "import pykalman\n",
                "from statsmodels.sandbox.regression.predstd import wls_prediction_std\n",
                "import statsmodels.api as sm\n",
                "\n",
                "from scipy.integrate import solve_ivp\n",
                "\n",
                "## Local packages:\n",
                "from vessel_manoeuvring_models.data import mdl\n",
                "\n",
                "from vessel_manoeuvring_models.symbols import *\n",
                "from vessel_manoeuvring_models.parameters import *\n",
                "import vessel_manoeuvring_models.symbols as symbols\n",
                "from vessel_manoeuvring_models import prime_system\n",
                "from vessel_manoeuvring_models.models import regression\n",
                "from vessel_manoeuvring_models.visualization.plot import track_plot\n",
                "from vessel_manoeuvring_models.equation import Equation\n",
                "\n",
                "## Load models:\n",
                "# (Uncomment these for faster loading):\n",
                "#import vessel_manoeuvring_models.models.vmm_abkowitz  as vmm \n",
                "import vessel_manoeuvring_models.models.vmm_martin  as vmm "
            ]
        },
        {
            "cell_type": "code",
            "execution_count": null,
            "metadata": {},
            "outputs": [],
            "source": [
                "from vessel_manoeuvring_models.data import kalman_filter\n",
                "from vessel_manoeuvring_models.data.lowpass_filter import lowpass_filter\n",
                "import scipy.stats as stats"
            ]
        },
        {
            "cell_type": "code",
            "execution_count": null,
            "metadata": {},
            "outputs": [],
            "source": [
                "id=22774\n",
                "df, units, meta_data = mdl.load(id=id)\n",
                "df_raw = df.copy()\n",
                "df.index = df.index.total_seconds()\n",
                "df.index-=df.index[0]"
            ]
        },
        {
            "cell_type": "code",
            "execution_count": null,
            "metadata": {},
            "outputs": [],
            "source": [
                "def df_filter(df_gradient, cutoff=1, order=5):\n",
                "    \n",
                "    ts = np.mean(np.diff(df_gradient.index))\n",
                "    fs = 1/ts\n",
                "    \n",
                "    df_lowpass = pd.DataFrame(columns=df_gradient.columns, index=df_gradient.index)\n",
                "    for key,value in df_gradient.items():\n",
                "        df_lowpass[key] = lowpass_filter(data=value, cutoff=cutoff, fs=fs, order=order)\n",
                "        \n",
                "    return df_lowpass\n",
                "\n",
                "def lowpass(df_,cutoff=1, order=5):\n",
                "    \n",
                "    df_gradient = df_.copy()\n",
                "    df_gradient.index=df.index\n",
                "    \n",
                "    df_gradient[['x0_filtered','y0_filtered','psi_filtered']] = df_filter(df_gradient[['x0','y0','psi']], cutoff=cutoff, order=order)\n",
                "    df_gradient['x01d'] = np.gradient(df_gradient['x0_filtered'], df_gradient.index)\n",
                "    df_gradient['y01d'] = np.gradient(df_gradient['y0_filtered'], df_gradient.index)\n",
                "    df_gradient['z01d_gradient'] = np.gradient(df_gradient['z0'], df_gradient.index)\n",
                "    \n",
                "    df_gradient['r'] = df_gradient['psi1d'] = np.gradient(df_gradient['psi_filtered'], df_gradient.index)\n",
                "    \n",
                "    df_gradient[['x01d','y01d','r']] = df_filter(df_gradient[['x01d','y01d','r']], cutoff=cutoff, order=order)\n",
                "    df_gradient['x02d'] = np.gradient(df_gradient['x01d'], df_gradient.index)\n",
                "    df_gradient['y02d'] = np.gradient(df_gradient['y01d'], df_gradient.index)\n",
                "    df_gradient['z02d_gradient'] = np.gradient(df_gradient['z01d_gradient'], df_gradient.index)\n",
                "    df_gradient['r1d'] = df_gradient['psi2d'] = np.gradient(df_gradient['r'], df_gradient.index)\n",
                "    \n",
                "    df_gradient[['x02d','y02d','r1d']] = df_filter(df_gradient[['x02d','y02d','r1d']], cutoff=cutoff, order=order)\n",
                "    \n",
                "    \n",
                "    return df_gradient"
            ]
        },
        {
            "cell_type": "code",
            "execution_count": null,
            "metadata": {},
            "outputs": [],
            "source": [
                "df_lowpass = lowpass(df_=df, cutoff=1, order=1)\n",
                "\n",
                "df_resample = df_raw.resample('0.5S').mean()\n",
                "t_ = df_resample.index.total_seconds()\n",
                "df_resample['x01d'] = np.gradient(df_resample['x0'], t_)\n",
                "df_resample['y01d'] = np.gradient(df_resample['y0'], t_)\n",
                "df_resample['r'] = np.gradient(df_resample['psi'], t_)\n",
                "df_resample['x02d'] = np.gradient(df_resample['x01d'], t_)\n",
                "df_resample['y02d'] = np.gradient(df_resample['y01d'], t_)\n",
                "df_resample['r1d'] = np.gradient(df_resample['r'], t_)\n",
                "df_resample.index=df_resample.index.total_seconds()\n",
                "df_resample.index-=df_resample.index[0]\n",
                "\n",
                "\n",
                "df_rolling = df.sort_index(ascending=False).rolling(100).mean().sort_index(ascending=True)\n",
                "t_=df_rolling.index\n",
                "df_rolling['x01d'] = np.gradient(df_rolling['x0'], t_)\n",
                "df_rolling['y01d'] = np.gradient(df_rolling['y0'], t_)\n",
                "df_rolling['r'] = np.gradient(df_rolling['psi'], t_)\n",
                "df_rolling['x02d'] = np.gradient(df_rolling['x01d'], t_)\n",
                "df_rolling['y02d'] = np.gradient(df_rolling['y01d'], t_)\n",
                "df_rolling['r1d'] = np.gradient(df_rolling['r'], t_)\n",
                "\n",
                "states = [\n",
                "     ['x0','x01d','x02d'],\n",
                "     ['y0','y01d','y02d'],\n",
                "     ['psi','r','r1d']\n",
                "]\n",
                "\n",
                "for dof in states:\n",
                "    fig,axes=plt.subplots(ncols=3)\n",
                "    fig.set_size_inches(15,4)\n",
                "    for state,ax in zip(dof,axes):\n",
                "        ax.set_title(state)\n",
                "        #df_lowpass_gradient.plot(y=state, ax=ax, label='lowpass gradient')\n",
                "        df_lowpass.plot(y=state, ax=ax, label='lowpass')\n",
                "        df_resample.plot(y=state, ax=ax, label='resample', alpha=0.5)\n",
                "        df_rolling.plot(y=state, ax=ax, label='rolling', alpha=0.5)"
            ]
        },
        {
            "cell_type": "code",
            "execution_count": null,
            "metadata": {},
            "outputs": [],
            "source": [
                "df = kalman_filter.transform_to_ship(df_lowpass, include_unfiltered=False)\n",
                "\n",
                "df['thrust'] = df['Prop/PS/Thrust'] + df['Prop/SB/Thrust']\n",
                "df['thrust'] = df_filter(df[['thrust']], cutoff=0.5, order=1)\n",
                "\n",
                "df['U'] = np.sqrt(df['u']**2 + df['v']**2)\n"
            ]
        },
        {
            "cell_type": "code",
            "execution_count": null,
            "metadata": {},
            "outputs": [],
            "source": [
                "df_cut = df.iloc[200:-200].copy()"
            ]
        },
        {
            "cell_type": "code",
            "execution_count": null,
            "metadata": {},
            "outputs": [],
            "source": [
                "track_plot(df=df_cut, lpp=meta_data.lpp, x_dataset='x0', y_dataset='y0',  psi_dataset='psi', \n",
                "           beam=meta_data.beam);\n",
                "        \n",
                "df_cut.plot(y='delta')\n",
                "df_cut.plot(y='x02d')\n",
                "df_cut.plot(y='thrust')\n"
            ]
        },
        {
            "cell_type": "code",
            "execution_count": null,
            "metadata": {},
            "outputs": [],
            "source": [
                "_, _, meta_data = mdl.load(id=id, dir_path='../data/processed/kalman_cut')\n",
                "meta_data['rho']=1000\n",
                "meta_data['mass'] = meta_data['Volume']*meta_data['rho']"
            ]
        },
        {
            "cell_type": "markdown",
            "metadata": {},
            "source": [
                "# Ship parameters"
            ]
        },
        {
            "cell_type": "code",
            "execution_count": null,
            "metadata": {},
            "outputs": [],
            "source": [
                "T_ = (meta_data.TA + meta_data.TF)/2\n",
                "L_ = meta_data.lpp\n",
                "m_ = meta_data.mass\n",
                "rho_ = meta_data.rho\n",
                "B_ = meta_data.beam\n",
                "CB_ = m_/(T_*B_*L_*rho_)\n",
                "I_z_ = m_*meta_data.KZZ**2\n",
                "#I_z_ = 900\n",
                "\n",
                "\n",
                "ship_parameters = {\n",
                "        'T' : T_,\n",
                "        'L' : L_,\n",
                "        'CB' :CB_,\n",
                "        'B' : B_,\n",
                "        'rho' : rho_,\n",
                "        'x_G' : 0,  # motions are expressed at CG\n",
                "        'm' : m_,\n",
                "        'I_z': I_z_, \n",
                "        'volume':meta_data.Volume,\n",
                "    }\n",
                "\n",
                "ps = prime_system.PrimeSystem(**ship_parameters)  # model\n",
                "\n",
                "scale_factor = meta_data.scale_factor\n",
                "ps_ship = prime_system.PrimeSystem(L=ship_parameters['L']*scale_factor, rho=meta_data['rho'])  # ship"
            ]
        },
        {
            "cell_type": "markdown",
            "metadata": {},
            "source": [
                "# Brix parameters"
            ]
        },
        {
            "cell_type": "code",
            "execution_count": null,
            "metadata": {},
            "outputs": [],
            "source": [
                "def calculate_prime(row, ship_parameters):\n",
                "    return run(function=row['brix_lambda'], inputs=ship_parameters)\n",
                "\n",
                "\n",
                "mask = df_parameters['brix_lambda'].notnull()\n",
                "df_parameters.loc[mask,'brix_prime'] = df_parameters.loc[mask].apply(calculate_prime, ship_parameters=ship_parameters, axis=1)\n",
                "\n",
                "df_parameters['brix_prime'].fillna(0, inplace=True)\n",
                "#df_parameters['brix_SI'].fillna(0, inplace=True)\n",
                "\n"
            ]
        },
        {
            "cell_type": "code",
            "execution_count": null,
            "metadata": {},
            "outputs": [],
            "source": [
                "df_parameters['prime'] = df_parameters['brix_prime']\n",
                "\n",
                "def to_SI(row):\n",
                "    \n",
                "    prime = row['prime']\n",
                "    denominator = row['denominator']\n",
                "    lamda = lambdify(denominator)\n",
                "    try:\n",
                "        denominator_value = run(lamda, inputs=ship_parameters)\n",
                "        SI = prime*denominator_value\n",
                "    except:\n",
                "        return None\n",
                "    else:\n",
                "        return SI\n",
                "    \n",
                "df_parameters['brix_SI'] = df_parameters.apply(to_SI, axis=1)\n",
                "    "
            ]
        },
        {
            "cell_type": "markdown",
            "metadata": {},
            "source": [
                "# Regression"
            ]
        },
        {
            "cell_type": "code",
            "execution_count": null,
            "metadata": {},
            "outputs": [],
            "source": [
                "from statsmodels.sandbox.regression.predstd import wls_prediction_std\n",
                "def show_pred(X,y,results, label):\n",
                "    \n",
                "    display(results.summary())\n",
                "    \n",
                "    X_ = X\n",
                "    y_ = y\n",
                "    y_pred = results.predict(X_)\n",
                "    \n",
                "    prstd, iv_l, iv_u = wls_prediction_std(results, exog=X_, alpha=0.05)\n",
                "    #iv_l*=-1 \n",
                "    #iv_u*=-1\n",
                "    \n",
                "    fig,ax=plt.subplots()\n",
                "    ax.plot(X_.index,y_, label='Numerical gradient from model test')\n",
                "    ax.plot(X_.index,y_pred, '--', label='OLS')\n",
                "    ax.set_ylabel(label)\n",
                "    \n",
                "    ax.fill_between(X_.index, y1=iv_l, y2=iv_u, zorder=-10, color='grey', alpha=0.5, label=r'5\\% confidence')\n",
                "    ax.legend();"
            ]
        },
        {
            "cell_type": "markdown",
            "metadata": {},
            "source": [
                "## N"
            ]
        },
        {
            "cell_type": "code",
            "execution_count": null,
            "metadata": {},
            "outputs": [],
            "source": [
                "N_ = sp.symbols('N_')\n",
                "\n",
                "diff_eq_N = regression.DiffEqToMatrix(ode=vmm.N_qs_eq.subs(N_qs,N_), \n",
                "                                      label=N_, base_features=[delta,u,v,r])"
            ]
        },
        {
            "cell_type": "code",
            "execution_count": null,
            "metadata": {},
            "outputs": [],
            "source": [
                "Math(vlatex(diff_eq_N.acceleration_equation))"
            ]
        },
        {
            "cell_type": "code",
            "execution_count": null,
            "metadata": {},
            "outputs": [],
            "source": [
                "X = diff_eq_N.calculate_features(data=df_cut)\n",
                "y = diff_eq_N.calculate_label(y=df_cut['r1d'])\n",
                "\n",
                "model_N = sm.OLS(y,X)\n",
                "results_N = model_N.fit()\n",
                "\n",
                "show_pred(X=X,y=y,results=results_N, label=r'$\\dot{r}$')"
            ]
        },
        {
            "cell_type": "markdown",
            "metadata": {},
            "source": [
                "## Y"
            ]
        },
        {
            "cell_type": "code",
            "execution_count": null,
            "metadata": {},
            "outputs": [],
            "source": [
                "Y_ = sp.symbols('Y_')\n",
                "diff_eq_Y = regression.DiffEqToMatrix(ode=vmm.Y_qs_eq.subs(Y_qs,Y_), \n",
                "                                      label=Y_, base_features=[delta,u,v,r])"
            ]
        },
        {
            "cell_type": "code",
            "execution_count": null,
            "metadata": {},
            "outputs": [],
            "source": [
                "Math(vlatex(diff_eq_Y.acceleration_equation))"
            ]
        },
        {
            "cell_type": "code",
            "execution_count": null,
            "metadata": {},
            "outputs": [],
            "source": [
                "X = diff_eq_Y.calculate_features(data=df_cut)\n",
                "y = diff_eq_Y.calculate_label(y=df_cut['v1d'])\n",
                "\n",
                "\n",
                "model_Y = sm.OLS(y,X)\n",
                "results_Y = model_Y.fit()\n",
                "\n",
                "show_pred(X=X,y=y,results=results_Y, label=r'$\\dot{v}$')"
            ]
        },
        {
            "cell_type": "markdown",
            "metadata": {},
            "source": [
                "## X"
            ]
        },
        {
            "cell_type": "code",
            "execution_count": null,
            "metadata": {},
            "outputs": [],
            "source": [
                "X_ = sp.symbols('X_')\n",
                "diff_eq_X = regression.DiffEqToMatrix(ode=vmm.X_qs_eq.subs(X_qs,X_), \n",
                "                                      label=X_, base_features=[delta,u,v,r,thrust])"
            ]
        },
        {
            "cell_type": "code",
            "execution_count": null,
            "metadata": {},
            "outputs": [],
            "source": [
                "diff_eq_X.acceleration_equation"
            ]
        },
        {
            "cell_type": "code",
            "execution_count": null,
            "metadata": {},
            "outputs": [],
            "source": [
                "X = diff_eq_X.calculate_features(data=df_cut)\n",
                "y = diff_eq_X.calculate_label(y=df_cut['u1d'])\n",
                "\n",
                "model_X = sm.OLS(y,X)\n",
                "results_X = model_X.fit()\n",
                "\n",
                "show_pred(X=X,y=y,results=results_X, label=r'$\\dot{u}}$')"
            ]
        },
        {
            "cell_type": "code",
            "execution_count": null,
            "metadata": {},
            "outputs": [],
            "source": [
                "results_summary_X = regression.results_summary_to_dataframe(results_X)\n",
                "results_summary_Y = regression.results_summary_to_dataframe(results_Y)\n",
                "results_summary_N = regression.results_summary_to_dataframe(results_N)"
            ]
        },
        {
            "cell_type": "code",
            "execution_count": null,
            "metadata": {},
            "outputs": [],
            "source": [
                "subs = {value:key for key,value in p.items()}\n",
                "A_ = vmm.simulator.A*sp.matrices.MutableDenseMatrix([A_coeff,B_coeff,C_coeff])\n",
                "A_lambda=lambdify(A_.subs(subs))"
            ]
        },
        {
            "cell_type": "code",
            "execution_count": null,
            "metadata": {},
            "outputs": [],
            "source": [
                "A_coeff_ = results_summary_X['coeff']\n",
                "B_coeff_ = results_summary_Y['coeff']\n",
                "C_coeff_ = results_summary_N['coeff']\n",
                "\n",
                "coeffs = run(A_lambda,A_coeff=A_coeff_.values, B_coeff=B_coeff_.values, C_coeff=C_coeff_.values, \n",
                "    **df_parameters['brix_SI'], **ship_parameters)"
            ]
        },
        {
            "cell_type": "code",
            "execution_count": null,
            "metadata": {},
            "outputs": [],
            "source": [
                "results_summary_X['decoupled'] = coeffs[0][0]\n",
                "results_summary_Y['decoupled'] = coeffs[1][0]\n",
                "results_summary_N['decoupled'] = coeffs[2][0]\n"
            ]
        },
        {
            "cell_type": "markdown",
            "metadata": {},
            "source": [
                "## Add the regressed parameters\n",
                "Hydrodynamic derivatives that depend on acceleration cannot be obtained from the VCT regression. They are however essential if a time simulation should be conducted. These values have then been taken from Brix semi empirical formulas for the simulations below."
            ]
        },
        {
            "cell_type": "code",
            "execution_count": null,
            "metadata": {},
            "outputs": [],
            "source": [
                "df_parameters_all = df_parameters.copy()\n",
                "for other in [results_summary_X, results_summary_Y, results_summary_N]:\n",
                "    df_parameters_all = df_parameters_all.combine_first(other)\n",
                "\n",
                "df_parameters_all.rename(columns={'decoupled':'regressed'}, inplace=True)\n",
                "df_parameters_all.drop(columns=['brix_lambda'], inplace=True)\n",
                "\n",
                "df_parameters_all['SI'] = df_parameters_all['regressed'].combine_first(df_parameters_all['brix_SI'])  # prefer regressed\n",
                "df_parameters_all['SI'].fillna(0,inplace=True)"
            ]
        },
        {
            "cell_type": "markdown",
            "metadata": {},
            "source": [
                "# Simulate forces"
            ]
        },
        {
            "cell_type": "code",
            "execution_count": null,
            "metadata": {},
            "outputs": [],
            "source": [
                "df_cut['X_qs_pred'] = run(function=vmm.simulator.X_qs_lambda, inputs=df_cut, **df_parameters_all['SI'])\n",
                "df_cut['Y_qs_pred'] = run(function=vmm.simulator.Y_qs_lambda, inputs=df_cut, **df_parameters_all['SI'])\n",
                "df_cut['N_qs_pred'] = run(function=vmm.simulator.N_qs_lambda, inputs=df_cut, **df_parameters_all['SI'])\n"
            ]
        },
        {
            "cell_type": "code",
            "execution_count": null,
            "metadata": {},
            "outputs": [],
            "source": [
                "X = diff_eq_X.calculate_features(data=df_cut)\n",
                "X_forces = X*results_summary_X['coeff']\n",
                "X_forces.index = df_cut.index\n",
                "\n",
                "X = diff_eq_Y.calculate_features(data=df_cut)\n",
                "Y_forces = X*results_summary_Y['coeff']\n",
                "Y_forces.index = df_cut.index\n",
                "\n",
                "X = diff_eq_N.calculate_features(data=df_cut)\n",
                "N_forces = X*results_summary_N['coeff']\n",
                "N_forces.index = df_cut.index\n"
            ]
        },
        {
            "cell_type": "code",
            "execution_count": null,
            "metadata": {},
            "outputs": [],
            "source": [
                "display(px.line(X_forces, y=X_forces.columns, width=1000, height=400))\n",
                "display(px.line(Y_forces, y=Y_forces.columns, width=1000, height=400))\n",
                "display(px.line(N_forces, y=N_forces.columns, width=1000, height=400))"
            ]
        },
        {
            "cell_type": "code",
            "execution_count": null,
            "metadata": {},
            "outputs": [],
            "source": [
                "df_captive = pd.DataFrame()\n",
                "\n",
                "V_ = 2.0\n",
                "\n",
                "betas = np.deg2rad(np.linspace(0,30,5))\n",
                "deltas = np.deg2rad(np.linspace(-35,35,5))\n",
                "\n",
                "Betas, Deltas = np.meshgrid(betas,deltas)\n",
                "\n",
                "df_captive['beta'] = Betas.flatten()\n",
                "df_captive['delta'] = Deltas.flatten()\n",
                "\n",
                "df_captive['u'] = V_*np.cos(df_captive['beta'])\n",
                "df_captive['v'] = -V_*np.sin(df_captive['beta'])\n",
                "df_captive['thrust'] = 0\n",
                "df_captive['r'] = 0\n",
                "\n",
                "\n",
                "df_captive['X_qs_pred'] = run(function=vmm.simulator.X_qs_lambda, inputs=df_captive, **df_parameters_all['SI'])\n",
                "df_captive['Y_qs_pred'] = run(function=vmm.simulator.Y_qs_lambda, inputs=df_captive, **df_parameters_all['SI'])\n",
                "df_captive['N_qs_pred'] = run(function=vmm.simulator.N_qs_lambda, inputs=df_captive, **df_parameters_all['SI'])\n",
                "\n",
                "keys = ['X_qs','Y_qs','N_qs']\n",
                "\n",
                "x_keys = ['beta','delta']\n",
                "for x_key in x_keys:\n",
                "    \n",
                "    fig,axes=plt.subplots(ncols=len(keys))\n",
                "    fig.set_size_inches(15,4)\n",
                "    \n",
                "    others = list(x_keys)\n",
                "    others.remove(x_key)\n",
                "    \n",
                "    for group_name, group in df_captive.groupby(others):\n",
                "        \n",
                "        if not isinstance(group_name,list):\n",
                "            group_name = [group_name]\n",
                "        label =''.join([f'{other}:{np.round(name,2)}, ' for other,name in zip(others,group_name)])\n",
                "        \n",
                "        for key,ax in zip(keys,axes):\n",
                "            \n",
                "            group.plot(x=x_key, y=f'{key}_pred',style='.-', ax=ax, label=label)\n",
                "            #ax.get_legend().set_visible(False)\n",
                "            ax.set_title(key)\n",
                "            ax.grid(True)"
            ]
        },
        {
            "cell_type": "markdown",
            "metadata": {},
            "source": [
                "# Simulation"
            ]
        },
        {
            "cell_type": "markdown",
            "metadata": {},
            "source": [
                "The way that the regression is formulated, inertial forces, such as centrifugal force will be included into the derivatives (I think) which means that centrifugal force : $-m \\cdot r \\cdot u$ will be included into $Y_{ur}$ coefficient. This coefficient is therefore not pure hydrodynamic, and can potentially be counted twice..?\n",
                "The coefficients are recalculated below to avooid this:"
            ]
        },
        {
            "cell_type": "code",
            "execution_count": null,
            "metadata": {},
            "outputs": [],
            "source": [
                "parameters=df_parameters_all['SI'].copy()\n",
                "x_G_ = ship_parameters['x_G']\n",
                "#parameters['Xrr']+=(-m_*x_G_)\n",
                "#parameters['Xvr']+=(-m_)\n",
                "#parameters['Yur']+=m_\n",
                "#parameters['Nur']+=m_*x_G_\n",
                "\n"
            ]
        },
        {
            "cell_type": "code",
            "execution_count": null,
            "metadata": {},
            "outputs": [],
            "source": [
                "result_vmm = vmm.simulator.simulate(df_=df_cut, parameters=parameters, ship_parameters=ship_parameters)"
            ]
        },
        {
            "cell_type": "code",
            "execution_count": null,
            "metadata": {},
            "outputs": [],
            "source": [
                "result_vmm.plot_compare()"
            ]
        },
        {
            "cell_type": "code",
            "execution_count": null,
            "metadata": {},
            "outputs": [],
            "source": [
                "vmm.simulator.A"
            ]
        },
        {
            "cell_type": "code",
            "execution_count": null,
            "metadata": {},
            "outputs": [],
            "source": [
                "S = sp.symbols('S')\n",
                "S_eq=sp.Eq(S,(m-p.Yvdot)*(I_z-p.Nrdot) - (m*x_G-p.Yrdot)*(m*x_G-p.Nudot-p.Nvdot))\n",
                "S_eq"
            ]
        },
        {
            "cell_type": "code",
            "execution_count": null,
            "metadata": {},
            "outputs": [],
            "source": [
                "vmm.simulator.b"
            ]
        },
        {
            "cell_type": "code",
            "execution_count": null,
            "metadata": {},
            "outputs": [],
            "source": [
                "A_inv = vmm.simulator.A.inv()"
            ]
        },
        {
            "cell_type": "code",
            "execution_count": null,
            "metadata": {},
            "outputs": [],
            "source": [
                "inertia = sp.MutableDenseMatrix([-m*(-x_G*r**2-r*v), -m*r*u, -m*x_G*r*u])\n",
                "accelerations = sp.MutableDenseMatrix([u1d, v1d, r1d])\n",
                "sp.simplify(vmm.simulator.b - inertia)"
            ]
        },
        {
            "cell_type": "code",
            "execution_count": null,
            "metadata": {},
            "outputs": [],
            "source": [
                "Math(vlatex(vmm.simulator.A*accelerations-inertia))"
            ]
        },
        {
            "cell_type": "code",
            "execution_count": null,
            "metadata": {},
            "outputs": [],
            "source": [
                "Math(vlatex(eq_X_qs))"
            ]
        },
        {
            "cell_type": "code",
            "execution_count": null,
            "metadata": {},
            "outputs": [],
            "source": [
                "Math(vlatex(vmm.simulator.A*accelerations-inertia))"
            ]
        },
        {
            "cell_type": "code",
            "execution_count": null,
            "metadata": {},
            "outputs": [],
            "source": [
                "A_inv*(vmm.simulator.b-inertia) + A_inv*inertia"
            ]
        },
        {
            "cell_type": "code",
            "execution_count": null,
            "metadata": {},
            "outputs": [],
            "source": [
                "A_inv*inertia"
            ]
        },
        {
            "cell_type": "code",
            "execution_count": null,
            "metadata": {},
            "outputs": [],
            "source": [
                "solution = sp.simplify(A_inv*vmm.simulator.b)\n",
                "solution"
            ]
        },
        {
            "cell_type": "code",
            "execution_count": null,
            "metadata": {},
            "outputs": [],
            "source": [
                "solution[0]"
            ]
        },
        {
            "cell_type": "code",
            "execution_count": null,
            "metadata": {},
            "outputs": [],
            "source": [
                "sp.fraction(solution[0])[0]"
            ]
        },
        {
            "cell_type": "code",
            "execution_count": null,
            "metadata": {},
            "outputs": [],
            "source": []
        }
    ],
    "metadata": {
        "kernelspec": {
            "display_name": "Python 3",
            "language": "python",
            "name": "python3"
        },
        "language_info": {
            "codemirror_mode": {
                "name": "ipython",
                "version": 3
            },
            "file_extension": ".py",
            "mimetype": "text/x-python",
            "name": "python",
            "nbconvert_exporter": "python",
            "pygments_lexer": "ipython3",
            "version": "3.9.5"
        }
    },
    "nbformat": 4,
    "nbformat_minor": 4
}