{
 "cells": [
  {
   "cell_type": "markdown",
   "id": "926970b4-48ca-4900-ba28-51cb48485faf",
   "metadata": {},
   "source": [
    "# Extended Kalman filter with Parameter Identification for Nomoto model\n",
    "An Extended Kalman filter with a Nomoto model as the predictor will be developed. \n",
    "The filter should also estimate the parameters in the Nomoto model. This is done by setting up a system where the parameters are defined as some of the states in the model \n",
    "The filter is run on simulated data as well as real model test data."
   ]
  },
  {
   "cell_type": "code",
   "execution_count": null,
   "id": "370d2700-e2bd-44e5-b615-71f5fe5cdab0",
   "metadata": {
    "tags": [
     "hide-cell"
    ]
   },
   "outputs": [],
   "source": [
    "%load_ext autoreload\n",
    "%autoreload 2\n",
    "\n",
    "import pandas as pd\n",
    "import numpy as np\n",
    "import matplotlib.pyplot as plt\n",
    "from numpy.linalg import inv\n",
    "import sympy as sp\n",
    "\n",
    "import vessel_manoeuvring_models.visualization.book_format as book_format\n",
    "book_format.set_style()\n",
    "from vessel_manoeuvring_models.substitute_dynamic_symbols import lambdify\n",
    "from sympy import Matrix\n",
    "from sympy.physics.mechanics import (dynamicsymbols, ReferenceFrame,\n",
    "                                      Particle, Point)\n",
    "from IPython.display import display, Math, Latex\n",
    "from vessel_manoeuvring_models.substitute_dynamic_symbols import run, lambdify\n",
    "from sympy.physics.vector.printing import vpprint, vlatex\n",
    "from vessel_manoeuvring_models.data import mdl\n",
    "from vessel_manoeuvring_models.kalman_filter import extended_kalman_filter"
   ]
  },
  {
   "cell_type": "markdown",
   "id": "10e263f1-a119-4fbd-af32-5b3846aad124",
   "metadata": {},
   "source": [
    "## Nomoto model for ship manoeuvring dynamics\n",
    "The Nomoto model can be written as:"
   ]
  },
  {
   "cell_type": "code",
   "execution_count": null,
   "id": "96815005-8be1-48e6-a33a-8b51a54746c0",
   "metadata": {
    "tags": [
     "remove-input"
    ]
   },
   "outputs": [],
   "source": [
    "r,r1d,r2d = sp.symbols('r \\dot{r} \\ddot{r}')\n",
    "psi,psi1d = sp.symbols('psi \\dot{\\psi}')\n",
    "h,u = sp.symbols('h u')\n",
    "x, x1d = sp.symbols('x \\dot{x}')\n",
    "A,B,C,D,E, Phi = sp.symbols('A B C D E Phi')\n",
    "w = sp.symbols('w')\n",
    "\n",
    "K, delta, T_1, T_2 = sp.symbols('K delta T_1 T_2')\n",
    "\n",
    "eq_nomoto = sp.Eq(K*delta,\n",
    "                 r + T_1*r1d + T_2*r2d)\n",
    "Math(vlatex(eq_nomoto))"
   ]
  },
  {
   "cell_type": "markdown",
   "id": "b3015cb4-28d4-4ca6-8401-5bd1af8aff7a",
   "metadata": {},
   "source": [
    "where $r$ is yaw rate with its time derivatives and $\\delta$ is the rudder angle. $K$, $T_{1}$\n",
    " and $T_{1}$ are the coefficients describing the hydrodynamics of the ship.\n",
    " \n",
    "For slow manoeuvres this equation can be further simplified by removing the $\\ddot{r}$ term into a first order Nomoto model:"
   ]
  },
  {
   "cell_type": "code",
   "execution_count": null,
   "id": "d0bdad37-0ff6-4e38-8ad2-4846076a8e7f",
   "metadata": {
    "tags": [
     "remove-input"
    ]
   },
   "outputs": [],
   "source": [
    "eq_nomoto_simple = eq_nomoto.subs(r2d,0)\n",
    "Math(vlatex(eq_nomoto_simple))"
   ]
  },
  {
   "cell_type": "markdown",
   "id": "daf2fafb-a9c9-4623-ac03-f58f5c065f72",
   "metadata": {},
   "source": [
    "### Simulation model"
   ]
  },
  {
   "cell_type": "code",
   "execution_count": null,
   "id": "db238f61-3bd7-455d-9ae3-d33a64c7e6b4",
   "metadata": {
    "tags": [
     "remove-input"
    ]
   },
   "outputs": [],
   "source": [
    "f_hat = sp.Function('\\hat{f}')(x,u,w)\n",
    "eq_system = sp.Eq(x1d, f_hat)\n",
    "eq_system"
   ]
  },
  {
   "cell_type": "markdown",
   "id": "705602b0-ba0c-4a40-b411-52bc78cefb8e",
   "metadata": {},
   "source": [
    "Where the state vector $x$:"
   ]
  },
  {
   "cell_type": "code",
   "execution_count": null,
   "id": "f9e74df0-0ffd-4024-8736-de88058c4e2b",
   "metadata": {
    "tags": [
     "remove-input"
    ]
   },
   "outputs": [],
   "source": [
    "eq_x = sp.Eq(x, sp.UnevaluatedExpr(Matrix([psi,r])))\n",
    "eq_x"
   ]
  },
  {
   "cell_type": "markdown",
   "id": "d5b0ea22-e217-4aa3-9b93-6c8c34c07989",
   "metadata": {},
   "source": [
    "and input vector $u$:"
   ]
  },
  {
   "cell_type": "markdown",
   "id": "b3383e52-d900-4e67-80eb-ef7985c5e0aa",
   "metadata": {},
   "source": [
    "and $w$ is zero mean Gausian process noise"
   ]
  },
  {
   "cell_type": "markdown",
   "id": "8b650852-ef4b-4d4f-bf92-40742bcb0843",
   "metadata": {},
   "source": [
    "For the nomoto model the time derivatives for the states can be expressed as:"
   ]
  },
  {
   "cell_type": "code",
   "execution_count": null,
   "id": "59b33fcf-4a29-47f1-afaa-8b1dd1d9f849",
   "metadata": {
    "tags": [
     "remove-input"
    ]
   },
   "outputs": [],
   "source": [
    "eq_psi1d = sp.Eq(psi1d,r)\n",
    "eq_psi1d"
   ]
  },
  {
   "cell_type": "code",
   "execution_count": null,
   "id": "a45a1dc1-8293-4a85-acd2-50db51fca702",
   "metadata": {
    "tags": [
     "remove-input"
    ]
   },
   "outputs": [],
   "source": [
    "eq_r1d = sp.Eq(r1d,sp.solve(eq_nomoto_simple,r1d)[0])\n",
    "eq_r1d"
   ]
  },
  {
   "cell_type": "code",
   "execution_count": null,
   "id": "37eac94c-5b12-4fff-a147-5d8e8e3c14f4",
   "metadata": {},
   "outputs": [],
   "source": [
    "def lambda_f_constructor(K, T_1):\n",
    "    def lambda_f(x, u):\n",
    "        delta = u\n",
    "        f = np.array([[x[1], (K*delta-x[1])/T_1]]).T\n",
    "        return f\n",
    "\n",
    "    return lambda_f"
   ]
  },
  {
   "cell_type": "markdown",
   "id": "beecff80-a421-496c-bde0-5dd395b262e3",
   "metadata": {},
   "source": [
    "## Simulation\n",
    "Simulation with this model where rudder angle shifting between port and starboard"
   ]
  },
  {
   "cell_type": "code",
   "execution_count": null,
   "id": "dc676da4-e4de-4fa0-b8c2-c91e1ea45756",
   "metadata": {
    "tags": [
     "cell_hide",
     "hide-cell"
    ]
   },
   "outputs": [],
   "source": [
    "T_1_ = 1.8962353076056344\n",
    "K_ = 0.17950970687951323\n",
    "h_ = 0.01\n",
    "\n",
    "lambda_f = lambda_f_constructor(K=K_, T_1=T_1_)"
   ]
  },
  {
   "cell_type": "code",
   "execution_count": null,
   "id": "bf7d1b61-b4b5-47a8-8e2d-2ac060062d29",
   "metadata": {},
   "outputs": [],
   "source": [
    "def simulate(E, ws, t, us):\n",
    "    \n",
    "    simdata = []\n",
    "    x_=np.deg2rad(np.array([[0,0]]).T)\n",
    "    \n",
    "    for u_,w_ in zip(us,ws):\n",
    "               \n",
    "        x_=x_ + h_*lambda_f(x=x_.flatten(), u=u_)\n",
    "    \n",
    "        simdata.append(x_.flatten())\n",
    "        \n",
    "    simdata = np.array(simdata)\n",
    "    df = pd.DataFrame(simdata, columns=[\"psi\",\"r\"], index=t)\n",
    "    df['delta'] = us\n",
    "    \n",
    "    return df"
   ]
  },
  {
   "cell_type": "code",
   "execution_count": null,
   "id": "8548d94c-1105-4d86-89c4-21fae1f6f686",
   "metadata": {
    "tags": [
     "cell_hide",
     "hide-cell"
    ]
   },
   "outputs": [],
   "source": [
    "N_ = 8000\n",
    "\n",
    "t_ = np.arange(0,N_*h_,h_)\n",
    "    \n",
    "us = np.deg2rad(np.concatenate((-10*np.ones(int(N_/4)),\n",
    "                                10*np.ones(int(N_/4)),\n",
    "                                -10*np.ones(int(N_/4)),\n",
    "                                10*np.ones(int(N_/4)))))\n",
    "\n",
    "np.random.seed(42)\n",
    "E = np.array([[0, 1]]).T\n",
    "process_noise = np.deg2rad(0.01)\n",
    "ws = process_noise*np.random.normal(size=N_)\n",
    "df = simulate(E=E, ws=ws, t=t_, us=us)\n",
    "\n",
    "measurement_noise = np.deg2rad(0.5)\n",
    "df['epsilon'] = measurement_noise*np.random.normal(size=N_)\n",
    "df['psi_measure'] = df['psi'] + df['epsilon']\n",
    "df['psi_deg'] = np.rad2deg(df['psi'])\n",
    "df['psi_measure_deg'] = np.rad2deg(df['psi_measure'])\n",
    "df['delta_deg'] = np.rad2deg(df['delta'])\n"
   ]
  },
  {
   "cell_type": "code",
   "execution_count": null,
   "id": "7c21a150-770f-4947-909f-bcf46f9ee5fa",
   "metadata": {
    "tags": [
     "hide_input",
     "remove-input"
    ]
   },
   "outputs": [],
   "source": [
    "fig,ax=plt.subplots()\n",
    "df.plot(y='psi_deg', ax=ax)\n",
    "df.plot(y='psi_measure_deg', ax=ax, zorder=-1)\n",
    "df.plot(y='delta_deg', ax=ax, zorder=-1)\n",
    "df.plot(y='r')\n",
    "ax.set_title('Simulation with measurement and process noise')\n",
    "ax.set_xlabel('Time [s]');\n",
    "\n"
   ]
  },
  {
   "cell_type": "markdown",
   "id": "bfedff3b-840d-45fe-b5b6-91a819196324",
   "metadata": {},
   "source": [
    "## Kalman filter\n",
    "Implementation of the Kalman filter. The code is inspired of this Matlab implementation: [ExEKF.m](https://github.com/cybergalactic/MSS/blob/master/mssExamples/ExEKF.m)."
   ]
  },
  {
   "cell_type": "code",
   "execution_count": null,
   "id": "60767399-71f7-4e6b-a322-7f3acfac5c0c",
   "metadata": {},
   "outputs": [],
   "source": [
    "jac = sp.eye(3,3) + Matrix([r,eq_r1d.rhs,0]).jacobian([psi,r,T_1])*h\n",
    "jac"
   ]
  },
  {
   "cell_type": "code",
   "execution_count": null,
   "id": "898230cd-8b6b-40e9-a3b6-53596aeb1b62",
   "metadata": {},
   "outputs": [],
   "source": [
    "def lambda_f_constructor2(K):\n",
    "    def lambda_f(x, u):\n",
    "        delta = u\n",
    "        T_1 = x[2]  # Note! T_1 is the third state now!\n",
    "        r = x[1]\n",
    "        \n",
    "        f = np.array([[r, (K*delta-r)/T_1, 0]]).T\n",
    "        return f\n",
    "\n",
    "    return lambda_f"
   ]
  },
  {
   "cell_type": "code",
   "execution_count": null,
   "id": "7e22e759-267f-442c-93e0-5b663410b24c",
   "metadata": {},
   "outputs": [],
   "source": [
    "def lambda_jacobian_constructor(h, K):\n",
    "    def lambda_jacobian(x, u):\n",
    "\n",
    "        T_1 = x[2]  # Note! T_1 is the third state now!\n",
    "        delta = u\n",
    "        r = x[1]\n",
    "\n",
    "        jac = np.array(\n",
    "            [\n",
    "                [1, h, 0],\n",
    "                [0, 1 - h / T_1, -h * (K * delta - r) / T_1 ** 2],\n",
    "                [0, 0, 1],\n",
    "            ]\n",
    "        )\n",
    "        return jac\n",
    "\n",
    "    return lambda_jacobian"
   ]
  },
  {
   "cell_type": "code",
   "execution_count": null,
   "id": "78924dd8-a099-4e7a-b13c-3f6fae95e77e",
   "metadata": {},
   "outputs": [],
   "source": [
    "lambda_jacobian = lambda_jacobian_constructor(h=h_, K=K_)\n",
    "lambda_f = lambda_f_constructor2(K=K_)"
   ]
  },
  {
   "cell_type": "code",
   "execution_count": null,
   "id": "ad626894-c31e-4248-ac34-9725e0fcb48c",
   "metadata": {},
   "outputs": [],
   "source": [
    "lambda_jacobian(x=[0,0,0.1], u=0)"
   ]
  },
  {
   "cell_type": "code",
   "execution_count": null,
   "id": "fd31824a-5bf4-4c35-93a1-261878381d70",
   "metadata": {},
   "outputs": [],
   "source": [
    "lambda_f(x=[0,0,0.1], u=0)"
   ]
  },
  {
   "cell_type": "code",
   "execution_count": null,
   "id": "af6af409-3358-4c55-a1e4-bc0ba5089c72",
   "metadata": {
    "tags": [
     "hide-cell"
    ]
   },
   "outputs": [],
   "source": [
    "x0=np.deg2rad(np.array([[0,0,3]]).T)\n",
    "P_prd = np.diag([np.deg2rad(1), np.deg2rad(0.1), 0.1])\n",
    "\n",
    "Qd = np.diag([np.deg2rad(0), 2])\n",
    "\n",
    "Rd = np.deg2rad(1)\n",
    "\n",
    "ys = df['psi_measure'].values\n",
    "\n",
    "E_ = np.array(\n",
    "    [\n",
    "     [0,0], \n",
    "     [1,0],\n",
    "     [0,1]\n",
    "    ],\n",
    ")\n",
    "\n",
    "C_ = np.array([[1, 0, 0]])\n",
    "\n",
    "Cd_ = C_\n",
    "Ed_ = h_ * E_\n",
    "\n",
    "time_steps = extended_kalman_filter(x0=x0, P_prd=P_prd, lambda_f=lambda_f, \n",
    "                                    lambda_jacobian=lambda_jacobian,h=h_, us=us, ys=ys, E=E_, Qd=Qd, Rd=Rd, Cd=Cd_)\n",
    "x_hats = np.array([time_step[\"x_hat\"] for time_step in time_steps]).T\n",
    "time = np.array([time_step[\"time\"] for time_step in time_steps]).T\n",
    "Ks = np.array([time_step[\"K\"] for time_step in time_steps]).T\n",
    "stds = np.sqrt(np.array([[time_step[\"P_hat\"][0,0],\n",
    "                          time_step[\"P_hat\"][1,1],\n",
    "                          time_step[\"P_hat\"][2,2]] for time_step in time_steps]).T)\n",
    "\n",
    "\n"
   ]
  },
  {
   "cell_type": "code",
   "execution_count": null,
   "id": "9eba9cec-bf73-467f-aeb5-78d3775e991a",
   "metadata": {
    "tags": [
     "remove-input"
    ]
   },
   "outputs": [],
   "source": [
    "n=len(P_prd)\n",
    "fig,axes=plt.subplots(nrows=n)\n",
    "\n",
    "df['T_1'] = T_1_\n",
    "keys = ['psi','r','T_1']\n",
    "for i,key in enumerate(keys):\n",
    "    \n",
    "    ax=axes[i]\n",
    "    df.plot(y=key, ax=ax, label=\"True\")\n",
    "    if key=='psi':\n",
    "        df.plot(y='psi_measure', ax=ax, label=\"Measured\", zorder=-1)\n",
    "    \n",
    "    ax.plot(time, x_hats[i, :], \"-\", label=\"kalman\")\n",
    "    \n",
    "    std_top = x_hats[i, :] + stds[i, :]\n",
    "    std_btm = x_hats[i, :] - stds[i, :]\n",
    "    ax.plot(time, std_top, linestyle=':', color='k', lw=1, alpha=0.4)\n",
    "    ax.plot(time, std_btm, linestyle=':', color='k', lw=1, alpha=0.4)\n",
    "    ax.fill_between(time, std_top, std_btm,\n",
    "                     facecolor='yellow', alpha=0.2, interpolate=True, label='+/- std')\n",
    "    \n",
    "    \n",
    "    ax.set_ylabel(key)\n",
    "    ax.legend()\n",
    "    "
   ]
  },
  {
   "cell_type": "code",
   "execution_count": null,
   "id": "8a035a62-354b-4d48-9e23-461e187e21e9",
   "metadata": {
    "tags": [
     "remove-input"
    ]
   },
   "outputs": [],
   "source": [
    "fig,ax=plt.subplots()\n",
    "for i,key in enumerate(keys):\n",
    "    ax.plot(time,Ks[i,:],label=key)\n",
    "ax.set_title('Kalman gains')\n",
    "ax.legend();\n",
    "ax.set_ylim(-1,1);\n"
   ]
  },
  {
   "cell_type": "code",
   "execution_count": null,
   "id": "12cf649f-f9c3-4d15-9854-92e39db8ff1f",
   "metadata": {},
   "outputs": [],
   "source": [
    "fig,axes=plt.subplots(nrows=2)\n",
    "\n",
    "ax=axes[0]\n",
    "for i,key in enumerate(keys):\n",
    "    ax.plot(time,stds[i,:]**2,label=key)\n",
    "ax.set_title('Variances')\n",
    "ax.legend();\n",
    "\n",
    "ax=axes[1]\n",
    "df.plot(y='delta',ax=ax)\n",
    "\n"
   ]
  },
  {
   "cell_type": "markdown",
   "id": "0494755d-838b-4e2e-bcb7-34a1e4db2e35",
   "metadata": {},
   "source": [
    "# Real data\n",
    "Using the developed Kalman filter on some real model test data"
   ]
  },
  {
   "cell_type": "markdown",
   "id": "fff36b63-25e9-4417-8abf-1f75e86cfebf",
   "metadata": {},
   "source": [
    "## Load test"
   ]
  },
  {
   "cell_type": "code",
   "execution_count": null,
   "id": "93b9cb7f-603a-4e55-8a1d-6ad1e106f1d1",
   "metadata": {
    "tags": [
     "remove-input"
    ]
   },
   "outputs": [],
   "source": [
    "id=22773\n",
    "df, units, meta_data = mdl.load(dir_path = '../data/raw', id=id)\n",
    "df.index = df.index.total_seconds()\n",
    "df.index-=df.index[0]"
   ]
  },
  {
   "cell_type": "code",
   "execution_count": null,
   "id": "9ea6bfa8-e39f-4f46-9480-fe419609ea7e",
   "metadata": {
    "tags": [
     "remove-input"
    ]
   },
   "outputs": [],
   "source": [
    "from vessel_manoeuvring_models.visualization.plot import track_plot\n",
    "fig,ax=plt.subplots()\n",
    "fig.set_size_inches(10,10)\n",
    "track_plot(df=df, lpp=meta_data.lpp, x_dataset='x0', y_dataset='y0',  psi_dataset='psi', beam=meta_data.beam, ax=ax);"
   ]
  },
  {
   "cell_type": "code",
   "execution_count": null,
   "id": "53a305f8-8adb-400e-a7af-36f1b3577b1c",
   "metadata": {
    "tags": [
     "hide-input"
    ]
   },
   "outputs": [],
   "source": [
    "ys = df['psi'].values\n",
    "h_m=h_ = df.index[1]-df.index[0]\n",
    "us = df['delta'].values\n",
    "\n",
    "x0=np.deg2rad(np.array([[0,0,T_1_]]).T)\n",
    "P_prd = np.diag([np.deg2rad(1), np.deg2rad(0.1), 100])\n",
    "\n",
    "Qd = np.diag([np.deg2rad(5), 10])\n",
    "\n",
    "Rd = np.deg2rad(0.1)\n",
    "\n",
    "E_ = np.array(\n",
    "    [\n",
    "     [0,0], \n",
    "     [1,0],\n",
    "     [0,1]\n",
    "    ],\n",
    ")\n",
    "\n",
    "C_ = np.array([[1, 0, 0]])\n",
    "\n",
    "Cd_ = C_\n",
    "Ed_ = h_ * E_\n",
    "\n",
    "time_steps = extended_kalman_filter(x0=x0, P_prd=P_prd, lambda_f=lambda_f, \n",
    "                                    lambda_jacobian=lambda_jacobian,h=h_, us=us, ys=ys, E=E_, Qd=Qd, Rd=Rd, Cd=Cd_)\n",
    "x_hats = np.array([time_step[\"x_hat\"] for time_step in time_steps]).T\n",
    "time = np.array([time_step[\"time\"] for time_step in time_steps]).T\n",
    "Ks = np.array([time_step[\"K\"] for time_step in time_steps]).T\n",
    "stds = np.sqrt(np.array([[time_step[\"P_hat\"][0,0],\n",
    "                          time_step[\"P_hat\"][1,1],\n",
    "                          time_step[\"P_hat\"][2,2]] for time_step in time_steps]).T)"
   ]
  },
  {
   "cell_type": "code",
   "execution_count": null,
   "id": "948b3422-e634-48bd-917c-5b078eee0180",
   "metadata": {
    "tags": [
     "remove-input"
    ]
   },
   "outputs": [],
   "source": [
    "n=len(P_prd)\n",
    "fig,axes=plt.subplots(nrows=n)\n",
    "\n",
    "ax = axes[0]\n",
    "df.plot(y='psi', label='Measured', ax=ax)\n",
    "\n",
    "df['T_1'] = T_1_\n",
    "keys = ['psi','r','T_1']\n",
    "for i,key in enumerate(keys):\n",
    "    \n",
    "    ax=axes[i]\n",
    "   \n",
    "    ax.plot(time, x_hats[i, :], \"-\", label=\"kalman\")\n",
    "    \n",
    "    std_top = x_hats[i, :] + stds[i, :]\n",
    "    std_btm = x_hats[i, :] - stds[i, :]\n",
    "    ax.plot(time, std_top, linestyle=':', color='k', lw=1, alpha=0.4)\n",
    "    ax.plot(time, std_btm, linestyle=':', color='k', lw=1, alpha=0.4)\n",
    "    ax.fill_between(time, std_top, std_btm,\n",
    "                     facecolor='yellow', alpha=0.2, interpolate=True, label='+/- std')\n",
    "    \n",
    "    \n",
    "    ax.set_ylabel(key)\n",
    "    ax.legend()"
   ]
  },
  {
   "cell_type": "code",
   "execution_count": null,
   "id": "68a38317-29d4-4fed-a558-b229b0fb9435",
   "metadata": {},
   "outputs": [],
   "source": [
    "fig,ax=plt.subplots()\n",
    "for i,key in enumerate(keys):\n",
    "    ax.plot(time,Ks[i,:],label=key)\n",
    "ax.set_title('Kalman gains')\n",
    "ax.legend();\n",
    "ax.set_ylim(-1,1);"
   ]
  },
  {
   "cell_type": "code",
   "execution_count": null,
   "id": "3ba22f37-db8c-415f-b476-49c8f5523423",
   "metadata": {},
   "outputs": [],
   "source": []
  }
 ],
 "metadata": {
  "citation-manager": {
   "items": {}
  },
  "kernelspec": {
   "display_name": "Python 3",
   "language": "python",
   "name": "python3"
  },
  "language_info": {
   "codemirror_mode": {
    "name": "ipython",
    "version": 3
   },
   "file_extension": ".py",
   "mimetype": "text/x-python",
   "name": "python",
   "nbconvert_exporter": "python",
   "pygments_lexer": "ipython3",
   "version": "3.9.5"
  }
 },
 "nbformat": 4,
 "nbformat_minor": 5
}
