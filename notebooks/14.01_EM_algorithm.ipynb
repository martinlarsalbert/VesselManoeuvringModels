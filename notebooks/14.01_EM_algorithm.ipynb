{
    "cells": [
        {
            "cell_type": "markdown",
            "metadata": {},
            "source": [
                "# Expectation-Maximization (EM Algorithm)"
            ]
        },
        {
            "cell_type": "markdown",
            "metadata": {},
            "source": [
                "# Purpose\n",
                "The EM-algorithm together with a Kalman Filter seems to be able to estimate parameters in a state space model. This will be investigated here."
            ]
        },
        {
            "cell_type": "markdown",
            "metadata": {},
            "source": [
                "# Methodology\n",
                "Implement some examples."
            ]
        },
        {
            "cell_type": "markdown",
            "metadata": {},
            "source": [
                "# Setup"
            ]
        },
        {
            "cell_type": "code",
            "execution_count": null,
            "metadata": {},
            "outputs": [],
            "source": [
                "# %load imports.py\n",
                "## Local packages:\n",
                "\n",
                "%matplotlib inline\n",
                "%load_ext autoreload\n",
                "%autoreload 2\n",
                "%config Completer.use_jedi = False  ## (To fix autocomplete)\n",
                "\n",
                "## External packages:\n",
                "import pandas as pd\n",
                "pd.options.display.max_rows = 999\n",
                "pd.options.display.max_columns = 999\n",
                "pd.set_option(\"display.max_columns\", None)\n",
                "\n",
                "import numpy as np\n",
                "import os\n",
                "import matplotlib.pyplot as plt\n",
                "#if os.name == 'nt':\n",
                "#    plt.style.use('presentation.mplstyle')  # Windows\n",
                "\n",
                "import plotly.express as px \n",
                "import plotly.graph_objects as go\n",
                "\n",
                "import seaborn as sns\n",
                "import sympy as sp\n",
                "from sympy.physics.mechanics import (dynamicsymbols, ReferenceFrame,\n",
                "                                      Particle, Point)\n",
                "from sympy.physics.vector.printing import vpprint, vlatex\n",
                "from IPython.display import display, Math, Latex\n",
                "from vessel_manoeuvring_models.substitute_dynamic_symbols import run, lambdify\n",
                "\n",
                "import pyro\n",
                "\n",
                "import sklearn\n",
                "import pykalman\n",
                "from statsmodels.sandbox.regression.predstd import wls_prediction_std\n",
                "import statsmodels.api as sm\n",
                "\n",
                "from scipy.integrate import solve_ivp\n",
                "\n",
                "## Local packages:\n",
                "from vessel_manoeuvring_models.data import mdl\n",
                "\n",
                "from vessel_manoeuvring_models.symbols import *\n",
                "from vessel_manoeuvring_models.parameters import *\n",
                "import vessel_manoeuvring_models.symbols as symbols\n",
                "from vessel_manoeuvring_models import prime_system\n",
                "from vessel_manoeuvring_models.models import regression\n",
                "from vessel_manoeuvring_models.visualization.regression import show_pred\n",
                "from vessel_manoeuvring_models.visualization.plot import track_plot\n",
                "\n",
                "## Load models:\n",
                "# (Uncomment these for faster loading):\n",
                "import vessel_manoeuvring_models.models.vmm_abkowitz  as vmm_abkowitz \n"
            ]
        },
        {
            "cell_type": "markdown",
            "metadata": {},
            "source": [
                "### Example\n",
                "Let's exemplify this with a simple problem, simulated a ball being dropped in air.\n",
                "The forces acting on this ball will be the drag from the air, which is modelled as: $C_d \\cdot \\dot{x}^2$ and the gravity, which is modelled as $g \\cdot m$:"
            ]
        },
        {
            "cell_type": "code",
            "execution_count": null,
            "metadata": {
                "tags": [
                    "remove-input"
                ]
            },
            "outputs": [],
            "source": [
                "x = dynamicsymbols('x')\n",
                "m,F,C_d,g = sp.symbols('m F C_d g')\n",
                "\n",
                "eq_kinetics = sp.Eq(F, -m*g + C_d*x.diff()**2)\n",
                "Math(vlatex(eq_kinetics))"
            ]
        },
        {
            "cell_type": "markdown",
            "metadata": {},
            "source": [
                "The kinematics connecting the forces to motion can be described with Newtons 2nd law:"
            ]
        },
        {
            "cell_type": "code",
            "execution_count": null,
            "metadata": {
                "tags": [
                    "remove-input"
                ]
            },
            "outputs": [],
            "source": [
                "eq_kinematics = sp.Eq(F, m*x.diff().diff())\n",
                "Math(vlatex(eq_kinematics))"
            ]
        },
        {
            "cell_type": "markdown",
            "metadata": {},
            "source": [
                "The acceleration can then be calculated using these two equations:"
            ]
        },
        {
            "cell_type": "code",
            "execution_count": null,
            "metadata": {
                "tags": [
                    "remove-input"
                ]
            },
            "outputs": [],
            "source": [
                "eqs=[eq_kinetics,eq_kinematics]\n",
                "solution = sp.solve(eqs, x.diff().diff(), m, F, dict=True)[0]\n",
                "eq_acc = sp.Eq(x.diff().diff(),solution[x.diff().diff()])\n",
                "Math(vlatex(eq_acc))"
            ]
        },
        {
            "cell_type": "markdown",
            "metadata": {},
            "source": [
                "This equation can be used to simulate the motion of the ball, by doing a time step integration of this initial value problem."
            ]
        },
        {
            "cell_type": "code",
            "execution_count": null,
            "metadata": {
                "tags": [
                    "hide-input"
                ]
            },
            "outputs": [],
            "source": [
                "from scipy.integrate import solve_ivp\n",
                "\n",
                "acceleration_lambda = lambdify(eq_acc.rhs)\n",
                "\n",
                "inputs={\n",
                "'C_d' : 0.00,\n",
                "'g' : 9.81,\n",
                "'m' : 2,\n",
                "}\n",
                "\n",
                "def step(t,states, inputs):\n",
                "\n",
                "    x1d = states[1]\n",
                "    x2d = acceleration_lambda(**inputs, x1d=x1d)\n",
                "\n",
                "    dstates = [x1d, x2d]\n",
                "    return dstates\n",
                "\n",
                "t_ = np.linspace(0,10,100)\n",
                "y0 = [\n",
                "    0,0\n",
                "]\n",
                "solution = solve_ivp(fun=step, y0=y0, t_span=[t_[0],t_[-1]], t_eval=t_, args=(inputs,))\n",
                "\n",
                "df_result = pd.DataFrame(solution.y.T, index=solution.t, columns=['x','x1d'])\n",
                "df_result['x2d'] = acceleration_lambda(**inputs, x1d=df_result['x1d'])\n",
                "\n",
                "fig,axes=plt.subplots(nrows=3)\n",
                "ax=axes[0]\n",
                "df_result.plot(y='x', label='$x$ [m]', ax=ax)\n",
                "\n",
                "ax.set_title('Ball position')\n",
                "\n",
                "ax=axes[1]\n",
                "df_result.plot(y='x1d', label='$\\dot{x}$ [m/s]', ax=axes[1])\n",
                "ax.set_title('Ball velocity [m/s]')\n",
                "ax.set_xlabel('time [s]')\n",
                "\n",
                "ax=axes[2]\n",
                "df_result.plot(y='x2d', label='$\\ddot{x}$ [m/s^2]', ax=axes[2])\n",
                "ax.set_title('Ball acceleration [m/s]')\n",
                "ax.set_xlabel('time [s]')\n",
                "\n",
                "for ax in axes:\n",
                "    ax.grid(True)\n",
                "plt.tight_layout()"
            ]
        },
        {
            "cell_type": "code",
            "execution_count": null,
            "metadata": {},
            "outputs": [],
            "source": [
                "df_result.iloc[0]"
            ]
        },
        {
            "cell_type": "code",
            "execution_count": null,
            "metadata": {},
            "outputs": [],
            "source": [
                "df_measure = df_result.copy()\n",
                "df_measure['x1d'] = np.NaN\n",
                "df_measure['x2d'] = np.NaN\n",
                "\n",
                "df_measure['x']+=np.random.normal(loc=0, scale=10, size=len(df_measure))"
            ]
        },
        {
            "cell_type": "code",
            "execution_count": null,
            "metadata": {},
            "outputs": [],
            "source": [
                "dt = t_[1]-t_[0]\n",
                "\n",
                "A = np.array([[1, dt, 0.5 * (dt**2)],\n",
                "              [0, 1,            dt],\n",
                "              [0, 0,            1]])"
            ]
        },
        {
            "cell_type": "code",
            "execution_count": null,
            "metadata": {},
            "outputs": [],
            "source": [
                "from pykalman import KalmanFilter\n",
                "\n",
                "kf = KalmanFilter(transition_matrices=A,\n",
                "                 initial_state_mean = [df_result.iloc[0]['x'], df_result.iloc[0]['x1d'], df_result.iloc[0]['x2d']],\n",
                "    \n",
                "    #data.observation_matrix,\n",
                "    #data.initial_transition_covariance,\n",
                "    #data.initial_observation_covariance,\n",
                "    #data.transition_offsets,\n",
                "    #data.observation_offset,\n",
                "    #data.initial_state_mean,\n",
                "    #data.initial_state_covariance,\n",
                "    em_vars=[\n",
                "      'transition_matrices', \n",
                "      'observation_matrices',\n",
                "      'transition_covariance', \n",
                "      'observation_covariance',\n",
                "      'observation_offsets', \n",
                "      'initial_state_mean',\n",
                "      'initial_state_covariance'\n",
                "    ]  # variables to perform EM over. Any variable not appearing here is left untouched\n",
                ")\n",
                "observations = df_measure['x']"
            ]
        },
        {
            "cell_type": "code",
            "execution_count": null,
            "metadata": {},
            "outputs": [],
            "source": [
                "kf.transition_matrices"
            ]
        },
        {
            "cell_type": "code",
            "execution_count": null,
            "metadata": {},
            "outputs": [],
            "source": [
                "# Learn good values for parameters named in `em_vars` using the EM algorithm\n",
                "loglikelihoods = np.zeros(10)\n",
                "for i in range(len(loglikelihoods)):\n",
                "    kf = kf.em(X=observations, n_iter=1)\n",
                "    loglikelihoods[i] = kf.loglikelihood(observations)"
            ]
        },
        {
            "cell_type": "code",
            "execution_count": null,
            "metadata": {},
            "outputs": [],
            "source": [
                "kf.transition_matrices"
            ]
        },
        {
            "cell_type": "code",
            "execution_count": null,
            "metadata": {},
            "outputs": [],
            "source": [
                "# Estimate the state without using any observations.  This will let us see how\n",
                "# good we could do if we ran blind.\n",
                "n_dim_state = A.shape[0]\n",
                "n_timesteps = observations.shape[0]\n",
                "blind_state_estimates = np.zeros((n_timesteps, n_dim_state))\n",
                "for t in range(n_timesteps - 1):\n",
                "    if t == 0:\n",
                "        blind_state_estimates[t] = kf.initial_state_mean\n",
                "    \n",
                "    blind_state_estimates[t + 1] = (\n",
                "      np.dot(kf.transition_matrices, blind_state_estimates[t])\n",
                "      #+ kf.transition_offsets[t]\n",
                "    )\n",
                "\n",
                "df_blind = pd.DataFrame(data=blind_state_estimates, index=df_result.index, columns=['x','x1d','x2d'])"
            ]
        },
        {
            "cell_type": "code",
            "execution_count": null,
            "metadata": {},
            "outputs": [],
            "source": [
                "states_pred = kf.em(observations).smooth(observations)[0]"
            ]
        },
        {
            "cell_type": "code",
            "execution_count": null,
            "metadata": {},
            "outputs": [],
            "source": [
                "df_pred = pd.DataFrame(data=states_pred, index=df_result.index, columns=['x','x1d','x2d'])"
            ]
        },
        {
            "cell_type": "code",
            "execution_count": null,
            "metadata": {},
            "outputs": [],
            "source": [
                "fig,axes=plt.subplots(nrows=3)\n",
                "fig.set_size_inches(10,10)\n",
                "\n",
                "ax=axes[0]\n",
                "df_result.plot(y='x', label='raw', ax=ax)\n",
                "df_measure.plot(y='x', label='measure', ax=ax)\n",
                "#df_pred.plot(y='x', label='filter', style='--', ax=ax)\n",
                "df_blind.plot(y='x', label='blind', style=':', ax=ax)\n",
                "\n",
                "\n",
                "ax.set_title('Ball position')\n",
                "\n",
                "ax=axes[1]\n",
                "df_result.plot(y='x1d', label='raw', ax=axes[1])\n",
                "#df_pred.plot(y='x1d', label='filter', style='--', ax=axes[1])\n",
                "df_blind.plot(y='x1d', label='blind', style=':', ax=axes[1])\n",
                "\n",
                "ax.set_title('Ball velocity [m/s]')\n",
                "ax.set_xlabel('time [s]')\n",
                "plt.tight_layout()\n",
                "\n",
                "ax=axes[2]\n",
                "df_result.plot(y='x2d', label='raw', ax=axes[2])\n",
                "#df_pred.plot(y='x2d', label='filter', style='--', ax=axes[2])\n",
                "df_blind.plot(y='x2d', label='blind', style=':', ax=axes[2])\n",
                "\n",
                "ax.set_title('Ball acceleration [m/s2]')\n",
                "ax.set_xlabel('time [s]')\n",
                "plt.tight_layout()"
            ]
        },
        {
            "cell_type": "code",
            "execution_count": null,
            "metadata": {},
            "outputs": [],
            "source": []
        }
    ],
    "metadata": {
        "citation-manager": {
            "items": {}
        },
        "kernelspec": {
            "display_name": "Python 3",
            "language": "python",
            "name": "python3"
        },
        "language_info": {
            "codemirror_mode": {
                "name": "ipython",
                "version": 3
            },
            "file_extension": ".py",
            "mimetype": "text/x-python",
            "name": "python",
            "nbconvert_exporter": "python",
            "pygments_lexer": "ipython3",
            "version": "3.9.5"
        }
    },
    "nbformat": 4,
    "nbformat_minor": 4
}