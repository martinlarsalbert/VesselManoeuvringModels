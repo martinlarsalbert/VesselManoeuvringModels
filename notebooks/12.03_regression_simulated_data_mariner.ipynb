{
    "cells": [
        {
            "cell_type": "markdown",
            "metadata": {
                "citation-manager": {
                    "citations": {
                        "24da9": [
                            {
                                "id": "7505983/V7HXIKCY",
                                "source": "zotero"
                            }
                        ],
                        "aqj1a": [
                            {
                                "id": "7505983/TBMJJ2DJ",
                                "source": "zotero"
                            }
                        ]
                    }
                },
                "tags": []
            },
            "source": [
                "# Regression on simulated data with mariner ship\n",
                "Model for mariner ship taken from: <cite id=\"aqj1a\">(Wang et al., 2021)</cite> with hydrodynamic derivatives originally from <cite id=\"24da9\">(Chislett &#38; Strom-Tejsen, 1965)</cite>."
            ]
        },
        {
            "cell_type": "markdown",
            "metadata": {},
            "source": [
                "## Purpose\n",
                "* The regression of simulated data works extremly well with linear data as seen in: [12.01_regression_simulated_data.ipynb](12.01_regression_simulated_data.ipynb)\n",
                "* Also works for linear equation of motion : [12.02_regression_simulated_data_nonlinear_EOM.ipynb](12.02_regression_simulated_data_nonlinear_EOM.ipynb)\n",
                "* Now it is time to look at the full nonlinear model using the mariner ship as one example."
            ]
        },
        {
            "cell_type": "markdown",
            "metadata": {
                "citation-manager": {
                    "citations": {
                        "24da9": []
                    }
                }
            },
            "source": [
                "## Methodology\n",
                "* Simulate mariner ship with coefficients from <cite id=\"24da9\">(Chislett &#38; Strom-Tejsen, 1965)</cite>.\n",
                "* Regress the simulated data\n",
                "* What is the accuray?\n",
                "* Are the coefficients the same?"
            ]
        },
        {
            "cell_type": "markdown",
            "metadata": {},
            "source": [
                "## Results\n",
                "Describe and comment the most important results."
            ]
        },
        {
            "cell_type": "markdown",
            "metadata": {},
            "source": [
                "## Setup"
            ]
        },
        {
            "cell_type": "code",
            "execution_count": null,
            "metadata": {},
            "outputs": [],
            "source": [
                "# %load imports.py\n",
                "## Local packages:\n",
                "\n",
                "%matplotlib inline\n",
                "%load_ext autoreload\n",
                "%autoreload 2\n",
                "%config Completer.use_jedi = False  ## (To fix autocomplete)\n",
                "\n",
                "## External packages:\n",
                "import pandas as pd\n",
                "#pd.options.plotting.backend = \"plotly\"\n",
                "pd.options.display.max_rows = 999\n",
                "pd.options.display.max_columns = 999\n",
                "pd.set_option(\"display.max_columns\", None)\n",
                "\n",
                "import numpy as np\n",
                "import os\n",
                "import matplotlib.pyplot as plt\n",
                "#if os.name == 'nt':\n",
                "#    plt.style.use('presentation.mplstyle')  # Windows\n",
                "\n",
                "import plotly.express as px \n",
                "import plotly.graph_objects as go\n",
                "\n",
                "import seaborn as sns\n",
                "import sympy as sp\n",
                "from sympy.physics.mechanics import (dynamicsymbols, ReferenceFrame,\n",
                "                                      Particle, Point)\n",
                "from sympy.physics.vector.printing import vpprint, vlatex\n",
                "from IPython.display import display, Math, Latex\n",
                "from vessel_manoeuvring_models.substitute_dynamic_symbols import run, lambdify\n",
                "\n",
                "import pyro\n",
                "\n",
                "import sklearn\n",
                "import pykalman\n",
                "from statsmodels.sandbox.regression.predstd import wls_prediction_std\n",
                "import statsmodels.api as sm\n",
                "\n",
                "from scipy.integrate import solve_ivp\n",
                "\n",
                "## Local packages:\n",
                "from vessel_manoeuvring_models.data import mdl\n",
                "\n",
                "from vessel_manoeuvring_models.symbols import *\n",
                "from vessel_manoeuvring_models.parameters import *\n",
                "import vessel_manoeuvring_models.symbols as symbols\n",
                "from vessel_manoeuvring_models import prime_system\n",
                "from vessel_manoeuvring_models.models import regression\n",
                "from vessel_manoeuvring_models.visualization.regression import show_pred\n",
                "from vessel_manoeuvring_models.visualization.plot import track_plot\n",
                "from vessel_manoeuvring_models.equation import Equation\n",
                "\n",
                "## Load models:\n",
                "# (Uncomment these for faster loading):\n",
                "import vessel_manoeuvring_models.models.vmm_mariner  as vmm"
            ]
        },
        {
            "cell_type": "code",
            "execution_count": null,
            "metadata": {},
            "outputs": [],
            "source": [
                "from vessel_manoeuvring_models.models.vessels import mariner as ship"
            ]
        },
        {
            "cell_type": "code",
            "execution_count": null,
            "metadata": {},
            "outputs": [],
            "source": [
                "ship.df_parameters.head()"
            ]
        },
        {
            "cell_type": "code",
            "execution_count": null,
            "metadata": {},
            "outputs": [],
            "source": [
                "meta_data = pd.Series({\n",
                "    'lpp' : 160.93,\n",
                "    'rho' : 1000,\n",
                "    'beam': 20,  # Guessing...\n",
                "})\n"
            ]
        },
        {
            "cell_type": "markdown",
            "metadata": {},
            "source": [
                "## Ship parameters"
            ]
        },
        {
            "cell_type": "code",
            "execution_count": null,
            "metadata": {},
            "outputs": [],
            "source": [
                "#T_ = (meta_data.TA + meta_data.TF)/2\n",
                "L_ = meta_data.lpp\n",
                "#m_ = meta_data.mass\n",
                "rho_ = meta_data.rho\n",
                "B_ = meta_data.beam\n",
                "#I_z_ = 900\n",
                "m_ = ship.m_prime_*1/2*rho_*L_**3\n",
                "xG_ = ship.xG_prime_*L_\n",
                "Iz_ = ship.Iz_prime_*1/2*rho_*L_**5\n",
                "\n",
                "ship_parameters = {\n",
                "        'L' : L_,\n",
                "        'B' : B_,\n",
                "        'rho' : rho_,\n",
                "        'x_G' : xG_,  \n",
                "        'm' : m_,\n",
                "        'I_z': Iz_, \n",
                "    }\n",
                "\n",
                "ps = prime_system.PrimeSystem(**ship_parameters)  # ship"
            ]
        },
        {
            "cell_type": "code",
            "execution_count": null,
            "metadata": {},
            "outputs": [],
            "source": [
                "ship_parameters"
            ]
        },
        {
            "cell_type": "code",
            "execution_count": null,
            "metadata": {},
            "outputs": [],
            "source": [
                "ship_parameters_prime = ps.prime(ship_parameters)"
            ]
        },
        {
            "cell_type": "code",
            "execution_count": null,
            "metadata": {},
            "outputs": [],
            "source": [
                "ship_parameters_prime"
            ]
        },
        {
            "cell_type": "markdown",
            "metadata": {},
            "source": [
                "## Simulate data"
            ]
        },
        {
            "cell_type": "code",
            "execution_count": null,
            "metadata": {},
            "outputs": [],
            "source": [
                "type(vmm.simulator)"
            ]
        },
        {
            "cell_type": "code",
            "execution_count": null,
            "metadata": {},
            "outputs": [],
            "source": [
                "parameters=ship.df_parameters['prime'].copy()\n",
                "\n",
                "# Removing the interia from the coefficients:\n",
                "parameters.Xrr+=(-ship.m_prime_*ship.xG_prime_)\n",
                "parameters.Xvr+=(-ship.m_prime_)\n",
                "parameters.Yur+=ship.m_prime_\n",
                "parameters.Nur+=ship.m_prime_*ship.xG_prime_\n",
                "\n",
                "t_ = np.linspace(0,700,1000)\n",
                "df = pd.DataFrame(index=t_)\n",
                "\n",
                "df['u'] = 7.7175\n",
                "df['v'] = 0\n",
                "df['r'] = 0\n",
                "df['x0'] = 0\n",
                "df['y0'] = 0\n",
                "df['psi'] = 0\n",
                "df['U'] = np.sqrt(df['u']**2 + df['v']**2)\n",
                "df['beta'] = -np.arctan2(df['v'],df['u'])\n",
                "\n",
                "df['delta'] = 0\n",
                "df.loc[100:,'delta'] = -np.deg2rad(35)\n",
                "\n",
                "result = vmm.simulator.simulate(df_=df, parameters=parameters, ship_parameters=ship_parameters, \n",
                "                                  control_keys=['delta'], primed_parameters=True,prime_system=ps)"
            ]
        },
        {
            "cell_type": "code",
            "execution_count": null,
            "metadata": {},
            "outputs": [],
            "source": [
                "result.track_plot();"
            ]
        },
        {
            "cell_type": "code",
            "execution_count": null,
            "metadata": {},
            "outputs": [],
            "source": [
                "result.plot()"
            ]
        },
        {
            "cell_type": "code",
            "execution_count": null,
            "metadata": {},
            "outputs": [],
            "source": [
                "result.X_qs.plot()"
            ]
        },
        {
            "cell_type": "code",
            "execution_count": null,
            "metadata": {},
            "outputs": [],
            "source": [
                "df_result = result.result.copy()\n",
                "df_result = pd.concat([df_result,result.accelerations], axis=1)"
            ]
        },
        {
            "cell_type": "code",
            "execution_count": null,
            "metadata": {},
            "outputs": [],
            "source": [
                "df_result.plot(y='v1d')"
            ]
        },
        {
            "cell_type": "markdown",
            "metadata": {},
            "source": [
                "## Regression"
            ]
        },
        {
            "cell_type": "code",
            "execution_count": null,
            "metadata": {},
            "outputs": [],
            "source": [
                "df = ps.prime(df_result, U=df_result['U'])  # OBS primed!\n",
                "df['u']-=df.iloc[0]['u']  # Only preturbed!!!"
            ]
        },
        {
            "cell_type": "code",
            "execution_count": null,
            "metadata": {},
            "outputs": [],
            "source": [
                "df.plot(y='u')"
            ]
        },
        {
            "cell_type": "markdown",
            "metadata": {},
            "source": [
                "## N"
            ]
        },
        {
            "cell_type": "code",
            "execution_count": null,
            "metadata": {},
            "outputs": [],
            "source": [
                "vmm.N_eq"
            ]
        },
        {
            "cell_type": "code",
            "execution_count": null,
            "metadata": {},
            "outputs": [],
            "source": [
                "N_ = sp.symbols('N_')\n",
                "\n",
                "diff_eq_N = regression.DiffEqToMatrix(ode=vmm.N_qs_eq.subs(N_qs,N_), \n",
                "                                      label=N_, base_features=[delta,u,v,r])"
            ]
        },
        {
            "cell_type": "code",
            "execution_count": null,
            "metadata": {},
            "outputs": [],
            "source": [
                "X = diff_eq_N.calculate_features(data=df)\n",
                "y = diff_eq_N.calculate_label(y=df['r1d'])\n",
                "\n",
                "model_N = sm.OLS(y,X)\n",
                "results_N = model_N.fit()\n",
                "\n",
                "show_pred(X=X,y=y,results=results_N, label=r'$\\dot{r}$')"
            ]
        },
        {
            "cell_type": "code",
            "execution_count": null,
            "metadata": {},
            "outputs": [],
            "source": [
                "X = run(function=diff_eq_N.X_lambda, inputs=df)\n",
                "X = X.reshape(X.shape[0],X.shape[-1]).T\n",
                "X.shape"
            ]
        },
        {
            "cell_type": "code",
            "execution_count": null,
            "metadata": {},
            "outputs": [],
            "source": [
                "diff_eq_N.eq_X.rhs"
            ]
        },
        {
            "cell_type": "code",
            "execution_count": null,
            "metadata": {},
            "outputs": [],
            "source": [
                "type(diff_eq_N.eq_X.rhs)"
            ]
        },
        {
            "cell_type": "code",
            "execution_count": null,
            "metadata": {},
            "outputs": [],
            "source": [
                "1 in diff_eq_N.eq_X.rhs"
            ]
        },
        {
            "cell_type": "code",
            "execution_count": null,
            "metadata": {},
            "outputs": [],
            "source": [
                "lamda = lambdify(sp.matrices.immutable.ImmutableDenseMatrix(diff_eq_N.eq_X.rhs[1:]))"
            ]
        },
        {
            "cell_type": "code",
            "execution_count": null,
            "metadata": {},
            "outputs": [],
            "source": [
                "diff_eq_N.eq_X.rhs[1:]"
            ]
        },
        {
            "cell_type": "code",
            "execution_count": null,
            "metadata": {},
            "outputs": [],
            "source": [
                "df.shape"
            ]
        },
        {
            "cell_type": "code",
            "execution_count": null,
            "metadata": {},
            "outputs": [],
            "source": [
                "diff_eq_N.X_lambda"
            ]
        },
        {
            "cell_type": "code",
            "execution_count": null,
            "metadata": {},
            "outputs": [],
            "source": [
                "X = run(function=lamda, inputs=df)\n",
                "X.shape"
            ]
        },
        {
            "cell_type": "code",
            "execution_count": null,
            "metadata": {},
            "outputs": [],
            "source": [
                "diff_eq_N.X_lambda(delta=df['delta'].values, r=df['r'].values, u=df['u'].values, v=df['v'].values).shape"
            ]
        },
        {
            "cell_type": "code",
            "execution_count": null,
            "metadata": {},
            "outputs": [],
            "source": []
        },
        {
            "cell_type": "code",
            "execution_count": null,
            "metadata": {},
            "outputs": [],
            "source": [
                "Math(vlatex(diff_eq_N.eq_X))"
            ]
        },
        {
            "cell_type": "code",
            "execution_count": null,
            "metadata": {},
            "outputs": [],
            "source": [
                "diff_eq_N.feature_names_subs()"
            ]
        },
        {
            "cell_type": "code",
            "execution_count": null,
            "metadata": {},
            "outputs": [],
            "source": [
                "diff_eq_N.eq_beta"
            ]
        },
        {
            "cell_type": "code",
            "execution_count": null,
            "metadata": {},
            "outputs": [],
            "source": [
                "diff_eq_N.acceleration_equation_x"
            ]
        },
        {
            "cell_type": "code",
            "execution_count": null,
            "metadata": {},
            "outputs": [],
            "source": [
                "A_,b_ = sp.linear_eq_to_matrix([diff_eq_N.acceleration_equation_x.rhs],diff_eq_N.xs)\n",
                "A_"
            ]
        },
        {
            "cell_type": "code",
            "execution_count": null,
            "metadata": {},
            "outputs": [],
            "source": [
                "\n",
                "\n",
                "A_  "
            ]
        },
        {
            "cell_type": "code",
            "execution_count": null,
            "metadata": {},
            "outputs": [],
            "source": [
                "sp.linear_eq_to_matrix([diff_eq_N.acceleration_equation_x.rhs],diff_eq_N.xs)[1]"
            ]
        },
        {
            "cell_type": "code",
            "execution_count": null,
            "metadata": {},
            "outputs": [],
            "source": [
                "diff_eq_N.eq_beta"
            ]
        },
        {
            "cell_type": "code",
            "execution_count": null,
            "metadata": {},
            "outputs": [],
            "source": [
                "diff_eq_N.xs"
            ]
        },
        {
            "cell_type": "code",
            "execution_count": null,
            "metadata": {},
            "outputs": [],
            "source": [
                "diff_eq_N.coefficients"
            ]
        },
        {
            "cell_type": "code",
            "execution_count": null,
            "metadata": {},
            "outputs": [],
            "source": [
                "diff_eq_N.parts"
            ]
        },
        {
            "cell_type": "code",
            "execution_count": null,
            "metadata": {},
            "outputs": [],
            "source": [
                "sp.linear_eq_to_matrix([diff_eq_N.acceleration_equation_x.rhs],diff_eq_N.xs)[1]"
            ]
        },
        {
            "cell_type": "markdown",
            "metadata": {},
            "source": [
                "## Y"
            ]
        },
        {
            "cell_type": "code",
            "execution_count": null,
            "metadata": {},
            "outputs": [],
            "source": [
                "Y_ = sp.symbols('Y_')\n",
                "diff_eq_Y = regression.DiffEqToMatrix(ode=vmm.Y_qs_eq.subs(Y_qs,Y_), \n",
                "                                      label=Y_, base_features=[delta,u,v,r])"
            ]
        },
        {
            "cell_type": "code",
            "execution_count": null,
            "metadata": {},
            "outputs": [],
            "source": [
                "Math(vlatex(diff_eq_Y.acceleration_equation))"
            ]
        },
        {
            "cell_type": "code",
            "execution_count": null,
            "metadata": {},
            "outputs": [],
            "source": [
                "X = diff_eq_Y.calculate_features(data=df)\n",
                "y = diff_eq_Y.calculate_label(y=df['v1d'])\n",
                "\n",
                "\n",
                "model_Y = sm.OLS(y,X)\n",
                "results_Y = model_Y.fit()\n",
                "\n",
                "show_pred(X=X,y=y,results=results_Y, label=r'$\\dot{v}$')"
            ]
        },
        {
            "cell_type": "markdown",
            "metadata": {},
            "source": [
                "## X"
            ]
        },
        {
            "cell_type": "code",
            "execution_count": null,
            "metadata": {},
            "outputs": [],
            "source": [
                "X_ = sp.symbols('X_')\n",
                "diff_eq_X = regression.DiffEqToMatrix(ode=vmm.X_qs_eq.subs(X_qs,X_), \n",
                "                                      label=X_, base_features=[delta,u,v,r,thrust])"
            ]
        },
        {
            "cell_type": "code",
            "execution_count": null,
            "metadata": {},
            "outputs": [],
            "source": [
                "diff_eq_X.acceleration_equation"
            ]
        },
        {
            "cell_type": "code",
            "execution_count": null,
            "metadata": {},
            "outputs": [],
            "source": [
                "X = diff_eq_X.calculate_features(data=df)\n",
                "y = diff_eq_X.calculate_label(y=df['u1d'])\n",
                "\n",
                "model_X = sm.OLS(y,X)\n",
                "results_X = model_X.fit()\n",
                "\n",
                "show_pred(X=X,y=y,results=results_X, label=r'$\\dot{u}}$')"
            ]
        },
        {
            "cell_type": "code",
            "execution_count": null,
            "metadata": {},
            "outputs": [],
            "source": [
                "results_summary_X = regression.results_summary_to_dataframe(results_X)\n",
                "results_summary_Y = regression.results_summary_to_dataframe(results_Y)\n",
                "results_summary_N = regression.results_summary_to_dataframe(results_N)"
            ]
        },
        {
            "cell_type": "markdown",
            "metadata": {},
            "source": [
                "### Decoupling"
            ]
        },
        {
            "cell_type": "code",
            "execution_count": null,
            "metadata": {},
            "outputs": [],
            "source": [
                "u1d,v1d,r1d = sp.symbols('u1d, v1d, r1d')\n",
                "u_,v_,r_ = sp.symbols('u, v, r')\n",
                "\n",
                "X_qs_, Y_qs_, N_qs_ = sp.symbols('X_qs, Y_qs, N_qs')\n",
                "\n",
                "\n",
                "X_eq = vmm.X_eom.subs([\n",
                "    (X_force,sp.solve(vmm.fx_eq,X_force)[0]),\n",
                "])\n",
                "\n",
                "Y_eq = vmm.Y_eom.subs([\n",
                "    (Y_force,sp.solve(vmm.fy_eq,Y_force)[0]),\n",
                "])\n",
                "\n",
                "\n",
                "N_eq = vmm.N_eom.subs([\n",
                "    (N_force,sp.solve(vmm.mz_eq,N_force)[0]),\n",
                "])\n",
                "\n",
                "\n",
                "subs = [\n",
                "    #(X_qs,X_qs_), \n",
                "    #(Y_qs,Y_qs_), \n",
                "    #(N_qs,N_qs_),\n",
                "   \n",
                "\n",
                "    (u1d,u1d),\n",
                "    (v1d,v1d),\n",
                "    (r1d,r1d),\n",
                "\n",
                "    (u,u_),\n",
                "    (v,v_),\n",
                "    (r,r_),\n",
                "    \n",
                "]\n",
                "eq_X_ = X_eq.subs(subs)\n",
                "eq_Y_ = Y_eq.subs(subs)\n",
                "eq_N_ = N_eq.subs(subs)\n",
                "\n",
                "A,b = sp.linear_eq_to_matrix([eq_X_,eq_Y_,eq_N_],[u1d,v1d,r1d])"
            ]
        },
        {
            "cell_type": "code",
            "execution_count": null,
            "metadata": {},
            "outputs": [],
            "source": [
                "subs = {value:key for key,value in p.items()}\n",
                "A_ = A*sp.matrices.MutableDenseMatrix([A_coeff,B_coeff,C_coeff])\n",
                "A_lambda=lambdify(A_.subs(subs))"
            ]
        },
        {
            "cell_type": "code",
            "execution_count": null,
            "metadata": {},
            "outputs": [],
            "source": [
                "A_coeff_ = results_summary_X['coeff']\n",
                "B_coeff_ = results_summary_Y['coeff']\n",
                "C_coeff_ = results_summary_N['coeff']\n",
                "\n",
                "coeffs = run(A_lambda,A_coeff=A_coeff_.values, B_coeff=B_coeff_.values, C_coeff=C_coeff_.values, \n",
                "    **ship.df_parameters['prime'], **ship_parameters_prime)"
            ]
        },
        {
            "cell_type": "markdown",
            "metadata": {},
            "source": [
                "The way that the regression is formulated, inertial forces, such as centrifugal force will be included into the derivatives (I think) which means that centrifugal force : $-m \\cdot r \\cdot u$ will be included into $Y_{ur}$ coefficient. This coefficient is therefore not pure hydrodynamic, and can potentially be counted twice..?\n",
                "The coefficients are recalculated below to avooid this:"
            ]
        },
        {
            "cell_type": "code",
            "execution_count": null,
            "metadata": {},
            "outputs": [],
            "source": [
                "results_summary_X['decoupled'] = coeffs[0][0]\n",
                "results_summary_Y['decoupled'] = coeffs[1][0]\n",
                "results_summary_N['decoupled'] = coeffs[2][0]\n",
                "\n",
                "x_G_ = ship_parameters_prime['x_G']\n",
                "m_ = ship_parameters_prime['m']\n",
                "\n",
                "results_summary_X.loc['Xrr','decoupled']+=(-m_*x_G_)\n",
                "results_summary_X.loc['Xvr','decoupled']+=(-m_)\n",
                "results_summary_Y.loc['Yur','decoupled']+=m_\n",
                "results_summary_N.loc['Nur','decoupled']+=m_*x_G_\n",
                "\n",
                "#results_summary_X.loc['Xr','decoupled']+=(-m_*x_G_)\n",
                "#results_summary_Y.loc['Yr','decoupled']+=m_\n",
                "#results_summary_N.loc['Nr','decoupled']+=m_*x_G_\n"
            ]
        },
        {
            "cell_type": "code",
            "execution_count": null,
            "metadata": {},
            "outputs": [],
            "source": [
                "results_summary_N"
            ]
        },
        {
            "cell_type": "markdown",
            "metadata": {},
            "source": [
                "## Add the regressed parameters\n",
                "Hydrodynamic derivatives that depend on acceleration cannot be obtained from the VCT regression. They are however essential if a time simulation should be conducted. These values have then been taken from Brix semi empirical formulas for the simulations below."
            ]
        },
        {
            "cell_type": "code",
            "execution_count": null,
            "metadata": {},
            "outputs": [],
            "source": [
                "df_parameters_all = ship.df_parameters.copy()\n",
                "for other in [results_summary_X, results_summary_Y, results_summary_N]:\n",
                "    df_parameters_all = df_parameters_all.combine_first(other)\n",
                "\n",
                "df_parameters_all.rename(columns={'decoupled':'regressed'}, inplace=True)\n",
                "df_parameters_all.drop(columns=['brix_lambda'], inplace=True)\n",
                "\n",
                "df_parameters_all['regressed'] = df_parameters_all['regressed'].combine_first(df_parameters_all['prime'])  # prefer regressed\n",
                "#df_parameters_all['regressed'].fillna(0,inplace=True)"
            ]
        },
        {
            "cell_type": "markdown",
            "metadata": {},
            "source": [
                "# Simulate forces"
            ]
        },
        {
            "cell_type": "code",
            "execution_count": null,
            "metadata": {},
            "outputs": [],
            "source": [
                "df_result['X_qs_pred'] = run(function=vmm.simulator.X_qs_lambda, inputs=df_result, **df_parameters_all['regressed'])\n",
                "df_result['Y_qs_pred'] = run(function=vmm.simulator.Y_qs_lambda, inputs=df_result, **df_parameters_all['regressed'])\n",
                "df_result['N_qs_pred'] = run(function=vmm.simulator.N_qs_lambda, inputs=df_result, **df_parameters_all['regressed'])\n"
            ]
        },
        {
            "cell_type": "code",
            "execution_count": null,
            "metadata": {},
            "outputs": [],
            "source": [
                "X = diff_eq_X.calculate_features(data=df)\n",
                "X_forces = X*results_summary_X['decoupled']\n",
                "X_forces.index = df.index\n",
                "\n",
                "X = diff_eq_Y.calculate_features(data=df)\n",
                "Y_forces = X*results_summary_Y['decoupled']\n",
                "Y_forces.index = df.index\n",
                "\n",
                "X = diff_eq_N.calculate_features(data=df)\n",
                "N_forces = X*results_summary_N['decoupled']\n",
                "N_forces.index = df.index\n"
            ]
        },
        {
            "cell_type": "code",
            "execution_count": null,
            "metadata": {},
            "outputs": [],
            "source": [
                "display(px.line(X_forces, y=X_forces.columns, width=1000, height=400))\n",
                "display(px.line(Y_forces, y=Y_forces.columns, width=1000, height=400))\n",
                "display(px.line(N_forces, y=N_forces.columns, width=1000, height=400))"
            ]
        },
        {
            "cell_type": "markdown",
            "metadata": {},
            "source": [
                "# Simulation"
            ]
        },
        {
            "cell_type": "code",
            "execution_count": null,
            "metadata": {},
            "outputs": [],
            "source": [
                "parameters=df_parameters_all['regressed'].copy()\n",
                "\n",
                "result_regression = vmm.simulator.simulate(df_=df_result, parameters=parameters, ship_parameters=ship_parameters, \n",
                "                                  control_keys=['delta'], primed_parameters=True,prime_system=ps)"
            ]
        },
        {
            "cell_type": "code",
            "execution_count": null,
            "metadata": {},
            "outputs": [],
            "source": [
                "fig,ax=plt.subplots()\n",
                "key = 'psi'\n",
                "result.result.plot(y=key, ax=ax)\n",
                "result_regression.result.plot(y=key, style='--', ax=ax)"
            ]
        },
        {
            "cell_type": "code",
            "execution_count": null,
            "metadata": {},
            "outputs": [],
            "source": [
                "result_regression.plot_compare()"
            ]
        },
        {
            "cell_type": "code",
            "execution_count": null,
            "metadata": {},
            "outputs": [],
            "source": [
                "df_parameters_all.head()"
            ]
        },
        {
            "cell_type": "code",
            "execution_count": null,
            "metadata": {},
            "outputs": [],
            "source": [
                "df_plot_parameters = df_parameters_all[['regressed','prime']].copy()\n",
                "mask = df_plot_parameters['regressed'].abs() > 0\n",
                "\n",
                "fig,ax=plt.subplots()\n",
                "fig.set_size_inches(17,7)\n",
                "df_plot_parameters.loc[mask].plot(kind='bar', ax=ax);"
            ]
        },
        {
            "cell_type": "code",
            "execution_count": null,
            "metadata": {},
            "outputs": [],
            "source": []
        }
    ],
    "metadata": {
        "citation-manager": {
            "items": {
                "zotero": {
                    "7505983/TBMJJ2DJ": {
                        "abstract": "Demanding marine operations increase the complexity of maneuvering. A highly accurate dynamic ship model promotes predicting ship motions and advancing control safety for the offshore ship systems. It is crucial to identify the uncertain hydrodynamic coefficients under environmental disturbance to establish accurate mathematical models. In this paper, the identification procedure for a 3 degree of freedom hydrodynamic model under disturbance is completed based on the support vector machine method with multiple maneuvers datasets. The algorithm is validated on the clean ship model and the results present good fitness with the reference. Experiments in different sea states are designed and conducted to investigate the effects of the turbulence on the identified model fidelity. Generalization results show that the models identified in the gentle and moderate environments have less than 10% deviations and are considered allowable. The higher perturbations, the lower fidelity of the identified model. Models identified under disturbance could provide different levels of reliable support for the operation decision system.",
                        "author": [
                            {
                                "family": "Wang",
                                "given": "Tongtong"
                            },
                            {
                                "family": "Li",
                                "given": "Guoyuan"
                            },
                            {
                                "family": "Wu",
                                "given": "Baiheng"
                            },
                            {
                                "family": "Æsøy",
                                "given": "Vilmar"
                            },
                            {
                                "family": "Zhang",
                                "given": "Houxiang"
                            }
                        ],
                        "container-title": "Ships and Offshore Structures",
                        "id": "7505983/TBMJJ2DJ",
                        "issued": {
                            "date-parts": [
                                [
                                    "2021",
                                    5,
                                    19
                                ]
                            ]
                        },
                        "journalAbbreviation": "Ships and Offshore Structures",
                        "title": "Parameter Identification of Ship Manoeuvring Model Under Disturbance Using Support Vector Machine Method",
                        "type": "article-journal"
                    },
                    "7505983/V7HXIKCY": {
                        "URL": "https://repository.tudelft.nl/islandora/object/uuid%3A6436e92f-2077-4be3-a647-3316d9f16ede",
                        "accessed": {
                            "date-parts": [
                                [
                                    2021,
                                    8,
                                    16
                                ]
                            ]
                        },
                        "author": [
                            {
                                "family": "Chislett",
                                "given": "M. S."
                            },
                            {
                                "family": "Strom-Tejsen",
                                "given": "J."
                            }
                        ],
                        "container-title": "Hydro- and Aerodynamics Laboratory, Hydrodynamics Section, Lyngby, Denmark, Report No. Hy-6",
                        "id": "7505983/V7HXIKCY",
                        "issued": {
                            "date-parts": [
                                [
                                    1965
                                ]
                            ]
                        },
                        "language": "en",
                        "title": "Planar Motion Mechanis (PMM) tests and full scale steering and manoeuvring predictions for a Mariner Class vessel",
                        "type": "article-journal"
                    }
                }
            }
        },
        "kernelspec": {
            "display_name": "Python 3",
            "language": "python",
            "name": "python3"
        },
        "language_info": {
            "codemirror_mode": {
                "name": "ipython",
                "version": 3
            },
            "file_extension": ".py",
            "mimetype": "text/x-python",
            "name": "python",
            "nbconvert_exporter": "python",
            "pygments_lexer": "ipython3",
            "version": "3.9.5"
        }
    },
    "nbformat": 4,
    "nbformat_minor": 4
}